{
  "nbformat": 4,
  "nbformat_minor": 0,
  "metadata": {
    "colab": {
      "name": "2_2_ReverseAD.ipynb",
      "version": "0.3.2",
      "provenance": [],
      "collapsed_sections": [],
      "include_colab_link": true
    },
    "kernelspec": {
      "display_name": "Python 3",
      "language": "python",
      "name": "python3"
    }
  },
  "cells": [
    {
      "cell_type": "markdown",
      "metadata": {
        "id": "view-in-github",
        "colab_type": "text"
      },
      "source": [
        "<a href=\"https://colab.research.google.com/github/ShaunakSen/Deep-Learning/blob/master/2_2_ReverseAD.ipynb\" target=\"_parent\"><img src=\"https://colab.research.google.com/assets/colab-badge.svg\" alt=\"Open In Colab\"/></a>"
      ]
    },
    {
      "metadata": {
        "deletable": false,
        "editable": false,
        "nbgrader": {
          "checksum": "ef88843b66adc91569384659597bfa0d",
          "grade": false,
          "grade_id": "cell-3f061ea27f528fcf",
          "locked": true,
          "schema_version": 1,
          "solution": false
        },
        "id": "ieAGufnVOHpm",
        "colab_type": "text"
      },
      "cell_type": "markdown",
      "source": [
        "# Part 3: Reverse Mode Automatic Differentiation\n",
        "\n",
        "Dynamic Reverse mode AD can be implemented by declaring a class to represent a value and the child expressions that the value depends on. We've provided the implementation that was shown in the lecture slides as a basis below, but it's missing some parts that will make it useful.\n",
        "\n",
        "__Tasks:__\n",
        "\n",
        "- Addition (`__add__`) is incomplete - can you finish it? \n",
        "- Can you also implement division (`__truediv__`), subtraction (`__sub__`) and power (`__pow__`)?"
      ]
    },
    {
      "metadata": {
        "deletable": false,
        "nbgrader": {
          "checksum": "2644b153f82b6e872e63cb5ead2d529f",
          "grade": false,
          "grade_id": "cell-b23d219550cd2934",
          "locked": false,
          "schema_version": 1,
          "solution": true
        },
        "id": "SLpEclxYOHpq",
        "colab_type": "code",
        "colab": {}
      },
      "cell_type": "code",
      "source": [
        "import math\n",
        "\n",
        "class Var:\n",
        "    def __init__(self, value):\n",
        "        self.value = value\n",
        "        self.children = []\n",
        "        self.grad_value = None\n",
        "\n",
        "    def grad(self):\n",
        "        if self.grad_value is None:\n",
        "            self.grad_value = sum(weight * var.grad()\n",
        "                                  for weight, var in self.children)\n",
        "        return self.grad_value\n",
        "    \n",
        "    def __str__(self):\n",
        "        return str(self.value)\n",
        "\n",
        "    def __mul__(self, other):\n",
        "        z = Var(self.value * other.value)\n",
        "        self.children.append((other.value, z))\n",
        "        other.children.append((self.value, z))\n",
        "        return z\n",
        "\n",
        "    def __add__(self, other):\n",
        "      z = Var(self.value + other.value)\n",
        "      self.children.append((1.0, z))\n",
        "      other.children.append((1.0, z))\n",
        "      return z\n",
        "    \n",
        "    def __sub__(self, other):\n",
        "      z = Var(self.value - other.value)\n",
        "      self.children.append((1.0, z))\n",
        "      other.children.append((-1.0, z))\n",
        "      return z\n",
        "  \n",
        "    def __truediv__(self,other):\n",
        "      z = Var(self.value/other.value)\n",
        "      self.children.append((1.0/other.value, z))\n",
        "      other.children.append((-1.0*self.value*other.value**-2, z))\n",
        "      return z\n",
        "    \n",
        "    def __pow__(self, other):\n",
        "    \n",
        "      # Using (d/dx) b^x = b^x ln(b)\n",
        "      # Using (d/dx) x^b = b*x^(b-1)\n",
        "\n",
        "      z = Var(self.value**other.value)\n",
        "      x = self.value\n",
        "      y = other.value\n",
        "      self.children.append((y*x**(y-1), z))\n",
        "      other.children.append((x**y*math.log(x), z))\n",
        "\n",
        "      return z\n",
        "\n",
        "    \n"
      ],
      "execution_count": 0,
      "outputs": []
    },
    {
      "metadata": {
        "id": "JkwqkCBUPxrO",
        "colab_type": "code",
        "outputId": "fbe25e36-5f75-4b21-a6b4-97dd894cba69",
        "colab": {
          "base_uri": "https://localhost:8080/",
          "height": 34
        }
      },
      "cell_type": "code",
      "source": [
        "x = 0.5\n",
        "y = 4.2\n",
        "\n",
        "x - (x**y)*math.log(x)"
      ],
      "execution_count": 2,
      "outputs": [
        {
          "output_type": "execute_result",
          "data": {
            "text/plain": [
              "0.5377137292802238"
            ]
          },
          "metadata": {
            "tags": []
          },
          "execution_count": 2
        }
      ]
    },
    {
      "metadata": {
        "deletable": false,
        "editable": false,
        "nbgrader": {
          "checksum": "afce3f80a9f8278e0ea2815a23a09c95",
          "grade": true,
          "grade_id": "cell-d2124fb6ca76110f",
          "locked": true,
          "points": 2,
          "schema_version": 1,
          "solution": false
        },
        "id": "i-tEDXOXOHp_",
        "colab_type": "code",
        "outputId": "30e206ee-6b72-4be4-d0b7-c41ba5fca5c3",
        "colab": {
          "base_uri": "https://localhost:8080/",
          "height": 34
        }
      },
      "cell_type": "code",
      "source": [
        "# Tests\n",
        "\n",
        "Var(1) + Var(1) / Var(1) - Var(1)**Var(1)\n"
      ],
      "execution_count": 3,
      "outputs": [
        {
          "output_type": "execute_result",
          "data": {
            "text/plain": [
              "<__main__.Var at 0x7fa97b6a6588>"
            ]
          },
          "metadata": {
            "tags": []
          },
          "execution_count": 3
        }
      ]
    },
    {
      "metadata": {
        "deletable": false,
        "editable": false,
        "nbgrader": {
          "checksum": "136e5e779ef4c951e75380a1554d1543",
          "grade": false,
          "grade_id": "cell-7a8d45cf51fc131f",
          "locked": true,
          "schema_version": 1,
          "solution": false
        },
        "id": "SmRhj-AvOHqS",
        "colab_type": "text"
      },
      "cell_type": "markdown",
      "source": [
        "## Implementing math functions\n",
        "\n",
        "Just like when we were looking at Forward Mode AD, we also need to implement some core math functions. Here's the sine function for a `Var`:"
      ]
    },
    {
      "metadata": {
        "deletable": false,
        "editable": false,
        "nbgrader": {
          "checksum": "53148f99532fa882690bcced1654894b",
          "grade": false,
          "grade_id": "cell-1a2d833d58b9a2ec",
          "locked": true,
          "schema_version": 1,
          "solution": false
        },
        "id": "GbkxzVOvOHqU",
        "colab_type": "code",
        "colab": {}
      },
      "cell_type": "code",
      "source": [
        "def sin(x):\n",
        "    z = Var(math.sin(x.value))\n",
        "    x.children.append((math.cos(x.value), z))\n",
        "    return z"
      ],
      "execution_count": 0,
      "outputs": []
    },
    {
      "metadata": {
        "deletable": false,
        "editable": false,
        "nbgrader": {
          "checksum": "f733095db7ef9f78d62daf4d675492d3",
          "grade": false,
          "grade_id": "cell-71185787c3ab6312",
          "locked": true,
          "schema_version": 1,
          "solution": false
        },
        "id": "a0bqugmZOHqb",
        "colab_type": "text"
      },
      "cell_type": "markdown",
      "source": [
        "__Task:__ can you implement the _cosine_ (`cos`), _tangent_ (`tan`), and _exponential_ (`exp`) functions in the code block below?"
      ]
    },
    {
      "metadata": {
        "deletable": false,
        "nbgrader": {
          "checksum": "6421b25426b2b125fa6de8358a1e1475",
          "grade": false,
          "grade_id": "cell-29e8985bf1eae001",
          "locked": false,
          "schema_version": 1,
          "solution": true
        },
        "id": "UXYeVU9qOHqc",
        "colab_type": "code",
        "colab": {}
      },
      "cell_type": "code",
      "source": [
        "# TODO: implement additional math functions on dual numbers\n",
        "\n",
        "def cos(x):\n",
        "    z = Var(math.cos(x.value))\n",
        "    x.children.append((-math.sin(x.value), z))\n",
        "    return z\n",
        "    \n",
        "\n",
        "def tan(x):\n",
        "    # YOUR CODE HERE\n",
        "    z = Var(math.tan(x.value))\n",
        "    sec_x = 1.0/math.cos(x.value)\n",
        "    x.children.append((sec_x**2, z))\n",
        "    return z\n",
        "\n",
        "def exp(x):\n",
        "    # YOUR CODE HERE\n",
        "    z = Var(math.exp(x.value))\n",
        "    x.children.append((math.exp(x.value), z))\n",
        "    return z"
      ],
      "execution_count": 0,
      "outputs": []
    },
    {
      "metadata": {
        "deletable": false,
        "editable": false,
        "nbgrader": {
          "checksum": "70274a378e4b56b0b6dc2147ee44cb3d",
          "grade": true,
          "grade_id": "cell-0ed03787817557e8",
          "locked": true,
          "points": 1,
          "schema_version": 1,
          "solution": false
        },
        "id": "furMiBWcOHqj",
        "colab_type": "code",
        "colab": {}
      },
      "cell_type": "code",
      "source": [
        "# Tests\n",
        "assert cos(Var(0)).value == 1\n",
        "assert tan(Var(0)).value == 0\n",
        "assert exp(Var(0)).value == 1\n"
      ],
      "execution_count": 0,
      "outputs": []
    },
    {
      "metadata": {
        "id": "P0sSlihiOHqp",
        "colab_type": "text"
      },
      "cell_type": "markdown",
      "source": [
        "## Time to try it out\n",
        "\n",
        "We're now in a position to try our implementation.\n",
        "\n",
        "__Tasks:__ \n",
        "\n",
        "- Try running the following code to compute the value of the function $z=x\\cdot y+sin(x)$ given $x=0.5$ and $y=4.2$, together with the derivative $\\partial z/\\partial x$ at that point. \n",
        "- Verify that the result is correct by hand-differentiating the function."
      ]
    },
    {
      "metadata": {
        "id": "FSv9iNjSOHqr",
        "colab_type": "code",
        "outputId": "0060bb4b-5811-40c1-8146-f9e695682052",
        "colab": {
          "base_uri": "https://localhost:8080/",
          "height": 52
        }
      },
      "cell_type": "code",
      "source": [
        "x = Var(0.5)\n",
        "y = Var(4.2)\n",
        "z = x * y + sin(x)\n",
        "print('z:', z)\n",
        "\n",
        "z.grad_value = 1.0 #Note that we have to 'seed' the gradient of z to 1 (e.g. ∂z/∂z=1) before computing grads\n",
        "print('∂z/∂x:',x.grad())"
      ],
      "execution_count": 8,
      "outputs": [
        {
          "output_type": "stream",
          "text": [
            "z: 2.579425538604203\n",
            "∂z/∂x: 5.077582561890373\n"
          ],
          "name": "stdout"
        }
      ]
    },
    {
      "metadata": {
        "id": "wikamJkNB6ox",
        "colab_type": "text"
      },
      "cell_type": "markdown",
      "source": [
        "\n",
        "\n",
        "**Verification of the value of z**\n",
        "\n",
        "The value of $z=x\\cdot y+sin(x)$ given $x=0.5$ and $y=4.2$:\n",
        "\n",
        "$z = 0.5\\cdot4.2 + sin(0.5) = 2.57942554$\n",
        "\n",
        "Thus this result is verified\n",
        "\n",
        "**Verification of the derivative if z wrt x**\n",
        "\n",
        "\n",
        "$z=x\\cdot y+sin(x)$\n",
        "\n",
        "$\\partial z/\\partial x = y + cos(x)$\n",
        "\n",
        "Substituting  x = 0.5 and y = 4.2:\n",
        "\n",
        "$\\partial z/\\partial x = 0.877582562 + 4.2 = 5.07758256$\n",
        "\n",
        "Thus, the result is verified"
      ]
    },
    {
      "metadata": {
        "id": "ZNPuxqDHOHqx",
        "colab_type": "text"
      },
      "cell_type": "markdown",
      "source": [
        "__Task:__ Now use the code block below to compute the derivative $\\partial z/\\partial y$ of the above expression (at the same point $x=0.5, y=4.2$ as above). Store the resultant gradient in the variable `dzdy`. Verify by hand that the result is correct."
      ]
    },
    {
      "metadata": {
        "deletable": false,
        "nbgrader": {
          "checksum": "4e1272f80f811e792100c3fd78b912f0",
          "grade": false,
          "grade_id": "cell-ab12803572df9248",
          "locked": false,
          "schema_version": 1,
          "solution": true
        },
        "id": "zEWBld05OHqz",
        "colab_type": "code",
        "outputId": "cf6d70b9-fb5e-400e-a755-dabbf842d2f6",
        "colab": {
          "base_uri": "https://localhost:8080/",
          "height": 34
        }
      },
      "cell_type": "code",
      "source": [
        "# YOUR CODE HERE\n",
        "\n",
        "dzdy = y.grad()\n",
        "\n",
        "print('∂z/∂y:', dzdy)"
      ],
      "execution_count": 9,
      "outputs": [
        {
          "output_type": "stream",
          "text": [
            "∂z/∂y: 0.5\n"
          ],
          "name": "stdout"
        }
      ]
    },
    {
      "metadata": {
        "deletable": false,
        "editable": false,
        "nbgrader": {
          "checksum": "f9dd2f1466c7bcbd950c8a25d9af7a00",
          "grade": true,
          "grade_id": "cell-6b295b43c928fc86",
          "locked": true,
          "points": 1,
          "schema_version": 1,
          "solution": false
        },
        "id": "y502lMLuOHq8",
        "colab_type": "code",
        "colab": {}
      },
      "cell_type": "code",
      "source": [
        "assert dzdy\n"
      ],
      "execution_count": 0,
      "outputs": []
    },
    {
      "metadata": {
        "id": "PzyJGgUoCreA",
        "colab_type": "text"
      },
      "cell_type": "markdown",
      "source": [
        "**Verification of the derivative of z wrt y**\n",
        "\n",
        "\n",
        "$z=x\\cdot y+sin(x)$\n",
        "\n",
        "$\\partial z/\\partial y = x$\n",
        "\n",
        "Substituting  x = 0.5 \n",
        "\n",
        "$\\partial z/\\partial y =0.5$\n",
        "\n",
        "Thus, the result is verified"
      ]
    },
    {
      "metadata": {
        "id": "09KWF0buOHrC",
        "colab_type": "text"
      },
      "cell_type": "markdown",
      "source": [
        "## Differentiating Algorithms\n",
        "\n",
        "Now, let's look at doing something wacky: differentiate an algorithm. For this example, we'll use an algorithm that is in a sense static (in this particular case the upper limit of the for loop is predetermined). However, it is not difficult to see that AD is much more general, and could even be applied to stochastic algorithms (say if we replaced the upper limit of the loop below with `Math.floor(Math.random() * 10)` for example).\n",
        "\n",
        "__Task:__ Consider the following algorithm and in the box below it manually compute the value of $z$ and the gradient $\\partial z/\\partial x$ at the end of execution."
      ]
    },
    {
      "metadata": {
        "id": "5N8tQWyeOHrE",
        "colab_type": "code",
        "outputId": "ac1e6dac-b3d5-4ce6-9606-eaea57659e3d",
        "colab": {
          "base_uri": "https://localhost:8080/",
          "height": 52
        }
      },
      "cell_type": "code",
      "source": [
        "x = Var(0.5)\n",
        "z = Var(1)\n",
        "for i in range(0,2):\n",
        "    z = (z + Var(i)) * x * x\n",
        "    \n",
        "print(z)\n"
      ],
      "execution_count": 11,
      "outputs": [
        {
          "output_type": "stream",
          "text": [
            "0.3125\n",
            "1.5\n"
          ],
          "name": "stdout"
        }
      ]
    },
    {
      "metadata": {
        "deletable": false,
        "nbgrader": {
          "checksum": "a5058b059e97e150c869316d58034822",
          "grade": true,
          "grade_id": "cell-b0d4a79348257124",
          "locked": false,
          "points": 4,
          "schema_version": 1,
          "solution": true
        },
        "id": "CRHIAJB6OHrJ",
        "colab_type": "text"
      },
      "cell_type": "markdown",
      "source": [
        "### Verifying the value of z\n",
        "\n",
        "After 1st iteration:\n",
        "\n",
        "$z := (z   + i)*x^{2}$\n",
        "\n",
        "The initial value of z is 1 and i = 0. So,\n",
        "\n",
        "The value of z after 1st iteration is: $1*0.5*0.5 = 0.25$\n",
        "\n",
        "After 2nd iterarion (i=1):\n",
        "\n",
        "$z := (z   + 1)*x^{2}$\n",
        "\n",
        "The value of z after 2nd iteration is: $(0.25+1)*0.5*0.5= 0.3125$\n",
        "\n",
        "Thus the value of z is verified\n",
        "\n",
        "### The value of derivative of z wrt x:\n",
        "\n",
        "After 1st iteration:\n",
        "\n",
        "$z := (z   + 0)*x^{2}$\n",
        "\n",
        "The initial value of z is 1. So,\n",
        "\n",
        "The expression of z after 1st iteration is: $z := (1   + 0)*x^{2} = x^{2}$\n",
        "\n",
        "After 2nd iteration:\n",
        "\n",
        "$z := (z   + i)*x^{2}$\n",
        "\n",
        "The value of z is $x^{2}$ and i = 1\n",
        "\n",
        "So\n",
        "\n",
        "$z := (x^{2} + 1)*x^{2}$\n",
        "\n",
        "$z = x^{4} + x^{2})$\n",
        "\n",
        "$\\partial z/\\partial x = 4x^{3} + 2x$\n",
        "\n",
        "Substituting x = 0.5:\n",
        "\n",
        "$\\partial z/\\partial x = 4\\times0.5^{3} + 2\\times0.5 = 1.5$\n"
      ]
    },
    {
      "metadata": {
        "id": "nPyiEh_I4YLp",
        "colab_type": "code",
        "outputId": "78966f3d-edfd-4908-ea3a-407cbba4f92e",
        "colab": {
          "base_uri": "https://localhost:8080/",
          "height": 34
        }
      },
      "cell_type": "code",
      "source": [
        "4*0.5**3 + 1"
      ],
      "execution_count": 12,
      "outputs": [
        {
          "output_type": "execute_result",
          "data": {
            "text/plain": [
              "1.5"
            ]
          },
          "metadata": {
            "tags": []
          },
          "execution_count": 12
        }
      ]
    },
    {
      "metadata": {
        "id": "OCaZRWFyOHrM",
        "colab_type": "text"
      },
      "cell_type": "markdown",
      "source": [
        "__Task__: Now use the code block below to print out the gradient computed by our reverse AD by storing the result in a variable called `grad`. Does it match?"
      ]
    },
    {
      "metadata": {
        "deletable": false,
        "nbgrader": {
          "checksum": "26e9bd08a28f421e4dc79eebe8e028e8",
          "grade": false,
          "grade_id": "cell-d177505b72fe0811",
          "locked": false,
          "schema_version": 1,
          "solution": true
        },
        "id": "DBbZ0LO2OHrO",
        "colab_type": "code",
        "outputId": "750a31f0-785b-416e-ec2b-4dab7bbc5d04",
        "colab": {
          "base_uri": "https://localhost:8080/",
          "height": 34
        }
      },
      "cell_type": "code",
      "source": [
        "# YOUR CODE HERE\n",
        "\n",
        "z.grad_value = 1.0\n",
        "\n",
        "\n",
        "grad = x.grad()\n",
        "\n",
        "print(grad)"
      ],
      "execution_count": 13,
      "outputs": [
        {
          "output_type": "stream",
          "text": [
            "1.5\n"
          ],
          "name": "stdout"
        }
      ]
    },
    {
      "metadata": {
        "id": "00lTQkqKHkRO",
        "colab_type": "text"
      },
      "cell_type": "markdown",
      "source": [
        "Thus the value is verififed"
      ]
    },
    {
      "metadata": {
        "deletable": false,
        "editable": false,
        "nbgrader": {
          "checksum": "c6ad226117e30b08f0fdf48b929029e7",
          "grade": true,
          "grade_id": "cell-e87a4e1621ed1d18",
          "locked": true,
          "points": 2,
          "schema_version": 1,
          "solution": false
        },
        "id": "yTwsaXzLOHrU",
        "colab_type": "code",
        "colab": {}
      },
      "cell_type": "code",
      "source": [
        "# Tests\n",
        "assert grad\n"
      ],
      "execution_count": 0,
      "outputs": []
    },
    {
      "metadata": {
        "id": "Rkka7ImzOHra",
        "colab_type": "text"
      },
      "cell_type": "markdown",
      "source": [
        "__Task:__ Finally, use the code block below to experiment and test the other math functions and methods you created."
      ]
    },
    {
      "metadata": {
        "id": "RveaRTZ4KJg5",
        "colab_type": "text"
      },
      "cell_type": "markdown",
      "source": [
        "Some other math functions to be tested are:\n",
        "\n",
        "- tan\n",
        "- power\n",
        "- exp\n",
        "\n",
        "Let us find $\\partial z/\\partial x$ for each of the following functions at **x=0.5 and y=4.2** \n",
        "\n",
        "1. $x = y^{x} + e^{x}$\n",
        "\n",
        "  $\\partial z/\\partial x = y^{x} ln(y) + e^{x}$\n",
        "  \n",
        "  The result should be **4.589769365826166**\n",
        "\n",
        "2. $x = tan(x) + cos(x)$\n",
        "\n",
        "  $\\partial z/\\partial x = {sec}^{2}(x) - sin(x)$\n",
        "  \n",
        "  The result should be **0.8190208718053216**\n"
      ]
    },
    {
      "metadata": {
        "deletable": false,
        "nbgrader": {
          "checksum": "59055cd24350e996850ec1b2aa532ea6",
          "grade": true,
          "grade_id": "cell-bf3e00ed03ace059",
          "locked": false,
          "points": 0,
          "schema_version": 1,
          "solution": true
        },
        "id": "eOZhts9qOHrc",
        "colab_type": "code",
        "colab": {
          "base_uri": "https://localhost:8080/",
          "height": 52
        },
        "outputId": "4e78aed2-1af7-439a-d72b-bc0db1998101"
      },
      "cell_type": "code",
      "source": [
        "# first function\n",
        "\n",
        "x = Var(0.5)\n",
        "y = Var(4.2)\n",
        "  \n",
        "z = y**x + exp(x)\n",
        "\n",
        "z.grad_value = 1.0\n",
        "\n",
        "print(\"z=\", z)\n",
        "\n",
        "print(\"∂z/∂x = {}\".format(x.grad()))"
      ],
      "execution_count": 31,
      "outputs": [
        {
          "output_type": "stream",
          "text": [
            "z= 3.698111423892048\n",
            "∂z/∂x = 4.589769365826166\n"
          ],
          "name": "stdout"
        }
      ]
    },
    {
      "metadata": {
        "id": "kfncP2FpKzDx",
        "colab_type": "code",
        "colab": {
          "base_uri": "https://localhost:8080/",
          "height": 34
        },
        "outputId": "4ecdd187-322d-4940-f13a-3d2f48c6afe2"
      },
      "cell_type": "code",
      "source": [
        "# first function --- verify\n",
        "\n",
        "4.2**0.5*math.log(4.2) + math.exp(0.5)"
      ],
      "execution_count": 23,
      "outputs": [
        {
          "output_type": "execute_result",
          "data": {
            "text/plain": [
              "4.589769365826166"
            ]
          },
          "metadata": {
            "tags": []
          },
          "execution_count": 23
        }
      ]
    },
    {
      "metadata": {
        "id": "HwkqOObGNdSx",
        "colab_type": "code",
        "colab": {
          "base_uri": "https://localhost:8080/",
          "height": 52
        },
        "outputId": "e74409fd-9c70-4774-8b51-41b4c4bfbb45"
      },
      "cell_type": "code",
      "source": [
        "# second function\n",
        "\n",
        "x = Var(0.5)\n",
        "y = Var(4.2)\n",
        "\n",
        "z = tan(x) + cos(x)\n",
        "\n",
        "print(\"z=\",z)\n",
        "\n",
        "z.grad_value = 1.0\n",
        "\n",
        "print(\"∂z/∂x = {}\".format(x.grad()))"
      ],
      "execution_count": 32,
      "outputs": [
        {
          "output_type": "stream",
          "text": [
            "z= 1.4238850517341632\n",
            "∂z/∂x = 0.8190208718053216\n"
          ],
          "name": "stdout"
        }
      ]
    },
    {
      "metadata": {
        "id": "NPHT8ZlBNuBI",
        "colab_type": "code",
        "colab": {
          "base_uri": "https://localhost:8080/",
          "height": 34
        },
        "outputId": "3a3af675-b662-4990-85fb-501a1cd567a1"
      },
      "cell_type": "code",
      "source": [
        "# second function --- verify\n",
        "\n",
        "(1/math.cos(0.5))**2 - math.sin(0.5)"
      ],
      "execution_count": 28,
      "outputs": [
        {
          "output_type": "execute_result",
          "data": {
            "text/plain": [
              "0.8190208718053216"
            ]
          },
          "metadata": {
            "tags": []
          },
          "execution_count": 28
        }
      ]
    },
    {
      "metadata": {
        "id": "YK2sYKw2On5T",
        "colab_type": "text"
      },
      "cell_type": "markdown",
      "source": [
        "**Thus, the functions are verified**"
      ]
    }
  ]
}