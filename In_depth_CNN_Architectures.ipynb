{
  "nbformat": 4,
  "nbformat_minor": 0,
  "metadata": {
    "colab": {
      "name": "In-depth CNN Architectures.ipynb",
      "provenance": [],
      "collapsed_sections": [],
      "authorship_tag": "ABX9TyMwXyvr14OJ2RSCqIfUQlBs",
      "include_colab_link": true
    },
    "kernelspec": {
      "name": "python3",
      "display_name": "Python 3"
    }
  },
  "cells": [
    {
      "cell_type": "markdown",
      "metadata": {
        "id": "view-in-github",
        "colab_type": "text"
      },
      "source": [
        "<a href=\"https://colab.research.google.com/github/ShaunakSen/Deep-Learning/blob/master/In_depth_CNN_Architectures.ipynb\" target=\"_parent\"><img src=\"https://colab.research.google.com/assets/colab-badge.svg\" alt=\"Open In Colab\"/></a>"
      ]
    },
    {
      "cell_type": "markdown",
      "metadata": {
        "id": "xC5EYFwcxgE0"
      },
      "source": [
        "## CNN Architectures - Advanced \r\n",
        "\r\n",
        "> Based on the lecture by Dr. Ahlad Kumar: https://www.youtube.com/watch?v=CNNnzl8HIIU\r\n",
        "\r\n",
        "### CNN achieves Translation Equi-Variance\r\n",
        "\r\n",
        "Say we have a filter below which is very good at detecting edges.\r\n",
        "Now, it does not matter where the '9' image is present, as long as we have the same filter, it will detect the edges as features\r\n",
        "\r\n",
        "Thus CNNs achieve __translation equi-varaince__\r\n",
        "\r\n",
        "This is the first advantage of convolutions\r\n",
        "\r\n",
        "![](https://i.imgur.com/wOL1syi.png)\r\n",
        "\r\n",
        "In the below image we see this in more details:\r\n",
        "\r\n",
        "![](https://i.imgur.com/7TFTGbL.png)\r\n",
        "\r\n",
        "As we can see that the pixel values for 9 are shifted and as the result the feature values also get shifted but the values remain same\r\n",
        "\r\n",
        "---"
      ]
    },
    {
      "cell_type": "code",
      "metadata": {
        "id": "qiu0IP76wbNw"
      },
      "source": [
        ""
      ],
      "execution_count": null,
      "outputs": []
    }
  ]
}