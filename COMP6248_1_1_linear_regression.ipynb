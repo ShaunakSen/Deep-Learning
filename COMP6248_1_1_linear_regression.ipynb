{
  "nbformat": 4,
  "nbformat_minor": 0,
  "metadata": {
    "colab": {
      "name": "COMP6248-1_1_linear_regression.ipynb",
      "version": "0.3.2",
      "provenance": [],
      "collapsed_sections": [],
      "include_colab_link": true
    },
    "kernelspec": {
      "display_name": "Python 3",
      "language": "python",
      "name": "python3"
    }
  },
  "cells": [
    {
      "cell_type": "markdown",
      "metadata": {
        "id": "view-in-github",
        "colab_type": "text"
      },
      "source": [
        "<a href=\"https://colab.research.google.com/github/ShaunakSen/Deep-Learning/blob/master/COMP6248_1_1_linear_regression.ipynb\" target=\"_parent\"><img src=\"https://colab.research.google.com/assets/colab-badge.svg\" alt=\"Open In Colab\"/></a>"
      ]
    },
    {
      "metadata": {
        "collapsed": true,
        "deletable": false,
        "editable": false,
        "nbgrader": {
          "checksum": "4e0f42c6439b082fc537fe0ec1f0d801",
          "grade": false,
          "grade_id": "cell-68b905920fbe16ce",
          "locked": true,
          "schema_version": 1,
          "solution": false
        },
        "id": "eC01w_JfTydm",
        "colab_type": "text"
      },
      "cell_type": "markdown",
      "source": [
        "# Part 1: Linear Regression"
      ]
    },
    {
      "metadata": {
        "deletable": false,
        "editable": false,
        "nbgrader": {
          "checksum": "b669f6696864bf529ca9f9af6217d0e4",
          "grade": false,
          "grade_id": "cell-1c5581fc981be7ed",
          "locked": true,
          "schema_version": 1,
          "solution": false
        },
        "id": "VSBMpWOjTydq",
        "colab_type": "code",
        "colab": {}
      },
      "cell_type": "code",
      "source": [
        "# Execute this code block to install dependencies when running on colab\n",
        "try:\n",
        "    import torch\n",
        "except:\n",
        "    from os.path import exists\n",
        "    from wheel.pep425tags import get_abbr_impl, get_impl_ver, get_abi_tag\n",
        "    platform = '{}{}-{}'.format(get_abbr_impl(), get_impl_ver(), get_abi_tag())\n",
        "    cuda_output = !ldconfig -p|grep cudart.so|sed -e 's/.*\\.\\([0-9]*\\)\\.\\([0-9]*\\)$/cu\\1\\2/'\n",
        "    accelerator = cuda_output[0] if exists('/dev/nvidia0') else 'cpu'\n",
        "\n",
        "    !pip install -q http://download.pytorch.org/whl/{accelerator}/torch-1.0.0-{platform}-linux_x86_64.whl torchvision"
      ],
      "execution_count": 0,
      "outputs": []
    },
    {
      "metadata": {
        "deletable": false,
        "editable": false,
        "nbgrader": {
          "checksum": "cb81ed04ab5982d538771590f45802ce",
          "grade": false,
          "grade_id": "cell-8128a87aa950cfd5",
          "locked": true,
          "schema_version": 1,
          "solution": false
        },
        "id": "VOiZdTAiTydt",
        "colab_type": "text"
      },
      "cell_type": "markdown",
      "source": [
        "## Getting started \n",
        "\n",
        "At its heart, PyTorch is just a library for manipulating tensors. We're going to start learning how to use \n",
        "PyTorch by looking at how we can implement simple linear regression. \n",
        "\n",
        "Code speaks better than words, so lets start by looking at a bit of pytorch code to generate some 2d data to regress:"
      ]
    },
    {
      "metadata": {
        "id": "Lq9wnrFKTydu",
        "colab_type": "code",
        "outputId": "80b92a1c-9646-447e-a785-c58deaf5c55b",
        "colab": {
          "base_uri": "https://localhost:8080/",
          "height": 105
        }
      },
      "cell_type": "code",
      "source": [
        "import torch\n",
        "\n",
        "# Generate some data points on a straight line perturbed with Gaussian noise\n",
        "N = 1000 # number of points\n",
        "theta_true = torch.Tensor([[1.5], [2.0]]) # true parameters of the line: slope = 1.5, intercept = 20\n",
        "\n",
        "# print (theta_true.shape)\n",
        "\n",
        "# theta_true shape: 2x1\n",
        "# X shape: Nx2\n",
        "# X @ theta_true shape: Nx1\n",
        "\n",
        "# rand(): Returns a tensor filled with random numbers from a uniform distribution\n",
        "\n",
        "X = torch.rand(N, 2)\n",
        "\n",
        "# make 1st col = 1 for all the rows\n",
        "X[:, 1] = 1.0\n",
        "\n",
        "# torch.randn() Returns a tensor filled with random numbers from a normal distribution with mean `0` and variance `1`\n",
        "\n",
        "y = X @ theta_true + 0.1 * torch.randn(N, 1) # Note that just like in numpy '@' represents matrix multiplication and A@B is equivalent to torch.mm(A, B) \n",
        "\n",
        "print(y[:5])\n",
        "\n"
      ],
      "execution_count": 99,
      "outputs": [
        {
          "output_type": "stream",
          "text": [
            "tensor([[3.1235],\n",
            "        [2.2310],\n",
            "        [2.3902],\n",
            "        [2.0669],\n",
            "        [3.2297]])\n"
          ],
          "name": "stdout"
        }
      ]
    },
    {
      "metadata": {
        "deletable": false,
        "editable": false,
        "nbgrader": {
          "checksum": "15906b16ca0952809a0d0f6821439957",
          "grade": false,
          "grade_id": "cell-67f4ae4fafb20c75",
          "locked": true,
          "schema_version": 1,
          "solution": false
        },
        "id": "F-Mvdxp5Tydw",
        "colab_type": "text"
      },
      "cell_type": "markdown",
      "source": [
        "The above code generates $(x,y)$ data according to $y = 1.5x + 2$, with the $x$'s chosen from a uniform distribution. The $y$'s are additionally purturbed by adding an amount $0.1z$, where $z\\sim \\mathcal{N}(0,1)$ is a sample from a standard normal distribution. \n",
        "\n",
        "Note that we represent our $x$'s as a two-dimensional (row) vector with a 1 in the second element so that the offset can be rolled into the matrix multiplication for efficiency:\n",
        "\n",
        "\\begin{align}\n",
        "    y &= \\mathbf{X}\\begin{bmatrix}\n",
        "           1.5 \\\\\n",
        "           2\n",
        "         \\end{bmatrix}\n",
        "  \\end{align}\n",
        "\n",
        "Let's use `matplotlib` to draw a scatter so we can be sure of what our data looks like:"
      ]
    },
    {
      "metadata": {
        "deletable": false,
        "editable": false,
        "nbgrader": {
          "checksum": "77838c69c9e63098d1e93e6ea06ca513",
          "grade": false,
          "grade_id": "cell-36f16b5ab42ab959",
          "locked": true,
          "schema_version": 1,
          "solution": false
        },
        "id": "6o5DwHGtTydx",
        "colab_type": "code",
        "outputId": "76790661-340f-48ae-cabb-9568acec4d0e",
        "colab": {
          "base_uri": "https://localhost:8080/",
          "height": 266
        }
      },
      "cell_type": "code",
      "source": [
        "%matplotlib inline\n",
        "import matplotlib.pyplot as plt\n",
        "\n",
        "\n",
        "plt.scatter(X[:,0].numpy(), y.numpy())\n",
        "plt.show()"
      ],
      "execution_count": 100,
      "outputs": [
        {
          "output_type": "display_data",
          "data": {
            "image/png": "[encoded data removed]",
            "text/plain": [
              "<Figure size 432x288 with 1 Axes>"
            ]
          },
          "metadata": {
            "tags": []
          }
        }
      ]
    },
    {
      "metadata": {
        "deletable": false,
        "editable": false,
        "nbgrader": {
          "checksum": "dfce8172c55747e4c8aa47d6bd3ca291",
          "grade": false,
          "grade_id": "cell-26114c36c1f243e4",
          "locked": true,
          "schema_version": 1,
          "solution": false
        },
        "id": "1P_hugWyTyd0",
        "colab_type": "text"
      },
      "cell_type": "markdown",
      "source": [
        "__Make sure you understand how the code above is generating data; feel free to change the parameters to see what effect they have.__\n",
        "\n",
        "Now, lets consider the situation where we have been given the tensors $X$ and $y$ and wish to compute the regression parameters. Our model looks like $\\mathbf{y} = \\mathbf{X\\theta}$, and we wish to recover the parameters $\\theta$. \n",
        "\n",
        "As the problem is both overcomplete (only two data pairs are required to find $\\theta$), and the data is noisy, we can use the Moore-Penrose Pseudoinverse to find the least-squares solution to $\\theta$: $\\theta = \\mathbf{X^+y}$. PyTorch has a built-in pseudoinverse method (`pinverse`) that can do all the work for us:"
      ]
    },
    {
      "metadata": {
        "deletable": false,
        "editable": false,
        "nbgrader": {
          "checksum": "3226facb17e2a669d112c2b1700a8daa",
          "grade": false,
          "grade_id": "cell-3ae7c2a27cf28ee6",
          "locked": true,
          "schema_version": 1,
          "solution": false
        },
        "id": "al8t_hytTyd1",
        "colab_type": "code",
        "outputId": "25ca978b-6185-4119-86f0-cc4ae4326b6a",
        "colab": {
          "base_uri": "https://localhost:8080/",
          "height": 70
        }
      },
      "cell_type": "code",
      "source": [
        "# direct solution using moore-penrose pseudo inverse\n",
        "X_inv = torch.pinverse(X)\n",
        "\n",
        "print(X_inv.shape)\n",
        "\n",
        "theta_pinv = torch.mm(X_inv, y)\n",
        "print(theta_pinv)"
      ],
      "execution_count": 101,
      "outputs": [
        {
          "output_type": "stream",
          "text": [
            "torch.Size([2, 1000])\n",
            "tensor([[1.4958],\n",
            "        [2.0058]])\n"
          ],
          "name": "stdout"
        }
      ]
    },
    {
      "metadata": {
        "deletable": false,
        "editable": false,
        "nbgrader": {
          "checksum": "0c6a1fb676027787f94fc1b27eb815ed",
          "grade": false,
          "grade_id": "cell-2f7080b24616a7d1",
          "locked": true,
          "schema_version": 1,
          "solution": false
        },
        "id": "kEt2u0IzTyd3",
        "colab_type": "text"
      },
      "cell_type": "markdown",
      "source": [
        "Running the above code should give you a solution vector for $\\theta$ that is very similar to the true parameter vector (`theta_true`). "
      ]
    },
    {
      "metadata": {
        "deletable": false,
        "editable": false,
        "nbgrader": {
          "checksum": "c2d7e31bd39f66e7c4122c6fffc42006",
          "grade": false,
          "grade_id": "cell-ca707e4c78ca3acc",
          "locked": true,
          "schema_version": 1,
          "solution": false
        },
        "id": "HmhMjV2aTyd4",
        "colab_type": "text"
      },
      "cell_type": "markdown",
      "source": [
        "## Exercise: computing the pseudoinverse from the Singular Value Decomposition.\n",
        "\n",
        "The standard way of computing the pseudoinverse is by using the Singular Value Decomposition (SVD). The SVD is defined as: $\\mathbf{X} = \\mathbf{U}\\Sigma\\mathbf{V}^\\top$. The pseudoinverse is thus $\\mathbf{X}^+ = \\mathbf{V}\\Sigma^{-1}\\mathbf{U}^\\top$ where $\\Sigma^{-1}$ is a diagonal matrix in which the reciprocal of the corresponding non-zero elements in $\\Sigma$ has been taken.\n",
        "\n",
        "__Use the code block below to compute the parameter vector using the SVD directly rather than the through the `pinverse` method.__ You need to store your manually computed pseudoinverse in `X_inv_svd`. Useful methods will be `torch.svd()` to compute the SVD, `[Tensor].t()` to transpose a matrix and `torch.diag()` to form a diagonal matrix from a vector."
      ]
    },
    {
      "metadata": {
        "deletable": false,
        "nbgrader": {
          "checksum": "96170c2a936223004245b58ae10a2b62",
          "grade": false,
          "grade_id": "cell-4d422a83842ebab7",
          "locked": false,
          "schema_version": 1,
          "solution": true
        },
        "id": "bCWWYB5yTyd5",
        "colab_type": "code",
        "outputId": "a99ac2e5-eda7-4525-ee15-6ff195c24bf9",
        "colab": {
          "base_uri": "https://localhost:8080/",
          "height": 52
        }
      },
      "cell_type": "code",
      "source": [
        "# YOUR CODE HERE\n",
        "# raise NotImplementedError()\n",
        "\n",
        "X_svd = torch.svd(X)\n",
        "\n",
        "# print(X_svd[0].shape, X_svd[1].shape, X_svd[2].shape)\n",
        "\n",
        "U = X_svd[0]\n",
        "sigma = X_svd[1]\n",
        "V = X_svd[2]\n",
        "\n",
        "sigma_diag = torch.diag(sigma) \n",
        "sigma_diag_inv = torch.inverse(sigma_diag)\n",
        "U_t = U.t()\n",
        "\n",
        "\n",
        "X_inv_svd = V.mm(sigma_diag_inv.mm(U_t))\n",
        "\n",
        "# print (X_inv_svd.shape)\n",
        "theta_pinv_svd = torch.mm(X_inv_svd, y)\n",
        "\n",
        "print(theta_pinv_svd)"
      ],
      "execution_count": 102,
      "outputs": [
        {
          "output_type": "stream",
          "text": [
            "tensor([[1.4958],\n",
            "        [2.0058]])\n"
          ],
          "name": "stdout"
        }
      ]
    },
    {
      "metadata": {
        "deletable": false,
        "editable": false,
        "nbgrader": {
          "checksum": "d9743a1c36a687bf2adb629500247a05",
          "grade": true,
          "grade_id": "cell-4e7e9488b81a58b8",
          "locked": true,
          "points": 2,
          "schema_version": 1,
          "solution": false
        },
        "id": "BLe44F5kTyd8",
        "colab_type": "code",
        "colab": {}
      },
      "cell_type": "code",
      "source": [
        "assert(torch.all(torch.lt(torch.abs(torch.add(theta_pinv, -theta_pinv_svd)), 1e-6)))"
      ],
      "execution_count": 0,
      "outputs": []
    },
    {
      "metadata": {
        "id": "-m6kbOccTyd-",
        "colab_type": "text"
      },
      "cell_type": "markdown",
      "source": [
        "## Gradient based Linear Regression\n",
        "\n",
        "Fundamentally, with linear regression we are trying to find a solution vector, $theta$ that minimises $f(\\theta) = 0.5\\|\\mathbf{X}\\theta - \\mathbf{y}\\|_2^2$. \n",
        "\n",
        "We've already seen how this can be minimised directly using the pseudoinverse, but it could also be minimised by using gradient descent: $\\theta \\gets \\theta - \\alpha f'(\\theta)$. (_Interesting aside_: SVD (and thus the pseudoinverse) can also be solved using gradient methods - in fact this becomes the only practical way for really large matrices.).\n",
        "\n",
        "__Use the following block to derive and write down the gradient, $f'(\\theta)$, of $f(\\theta)$__. Note that you can insert latex code by wrapping expressions in dollar symbols."
      ]
    },
    {
      "metadata": {
        "deletable": false,
        "nbgrader": {
          "checksum": "0197441552c3f53e1fb98b1ee6d232b8",
          "grade": true,
          "grade_id": "cell-210cc7d9ab3905e5",
          "locked": false,
          "points": 2,
          "schema_version": 1,
          "solution": true
        },
        "id": "LPlnQCFgTyd_",
        "colab_type": "text"
      },
      "cell_type": "markdown",
      "source": [
        "**Deriving the gradient: **\n",
        "\n",
        "$$f(\\theta ) = 0.5\\left \\| \\mathbf{X\\theta - y} \\right \\|_{2}^{2} = 0.5(\\mathbf{X}\\theta - y)(\\mathbf{X}\\theta - y)^{T}$$\n",
        "\n",
        "$$\\therefore {f}'(\\theta) = 0.5 \\times 2\\times \\mathbf{X}^{T}.(\\mathbf{X}\\theta - y) = \\mathbf{X}^{T}.(\\mathbf{X}\\theta - y)$$"
      ]
    },
    {
      "metadata": {
        "deletable": false,
        "editable": false,
        "nbgrader": {
          "checksum": "4d1c00f47e8080e27a49ba3999c0b342",
          "grade": false,
          "grade_id": "cell-d8813ea915bc08f7",
          "locked": true,
          "schema_version": 1,
          "solution": false
        },
        "id": "A1WMD-WxTyeB",
        "colab_type": "text"
      },
      "cell_type": "markdown",
      "source": [
        "__Now complete the following code block to implement your gradient as pytorch code:__"
      ]
    },
    {
      "metadata": {
        "deletable": false,
        "nbgrader": {
          "checksum": "65ea0d0a4244f58b618bd1eb0272fa3e",
          "grade": false,
          "grade_id": "cell-640dcd4113de31d6",
          "locked": false,
          "schema_version": 1,
          "solution": true
        },
        "id": "z7vwTUTdTyeB",
        "colab_type": "code",
        "colab": {}
      },
      "cell_type": "code",
      "source": [
        "def linear_regression_loss_grad(theta, X, y):\n",
        "    # theta, X and y have the same shape as used previously\n",
        "    # YOUR CODE HERE\n",
        "    \n",
        "    grad = X.t().mm(X.mm(theta)-y)\n",
        "\n",
        "    \n",
        "    # raise NotImplementedError()\n",
        "    return grad"
      ],
      "execution_count": 0,
      "outputs": []
    },
    {
      "metadata": {
        "deletable": false,
        "editable": false,
        "nbgrader": {
          "checksum": "1ff96ad5def7b717aea28ab5ccaedc04",
          "grade": true,
          "grade_id": "cell-9cdc211cfd5cab66",
          "locked": true,
          "points": 2,
          "schema_version": 1,
          "solution": false
        },
        "id": "HF11-7C8TyeF",
        "colab_type": "code",
        "colab": {}
      },
      "cell_type": "code",
      "source": [
        "assert(linear_regression_loss_grad(torch.zeros(2,1), X, y).shape == (2,1))\n"
      ],
      "execution_count": 0,
      "outputs": []
    },
    {
      "metadata": {
        "deletable": false,
        "editable": false,
        "nbgrader": {
          "checksum": "646a7eb8b434567047a8278198a74ffa",
          "grade": false,
          "grade_id": "cell-298e11818c4e9b65",
          "locked": true,
          "schema_version": 1,
          "solution": false
        },
        "id": "tmOZWQgeTyeH",
        "colab_type": "text"
      },
      "cell_type": "markdown",
      "source": [
        "Now we can plug that gradient function into a basic gradient descent solver and check that the solution is close to what we get with the pseudoinverse:"
      ]
    },
    {
      "metadata": {
        "deletable": false,
        "editable": false,
        "nbgrader": {
          "checksum": "0ee711fe83b16cd14129aec603c141e9",
          "grade": false,
          "grade_id": "cell-cef34abd27fe76a8",
          "locked": true,
          "schema_version": 1,
          "solution": false
        },
        "id": "N8BnZt4WTyeH",
        "colab_type": "code",
        "outputId": "2337c86d-ce49-4a03-d5a3-35951fa5e098",
        "colab": {
          "base_uri": "https://localhost:8080/",
          "height": 52
        }
      },
      "cell_type": "code",
      "source": [
        "alpha = 0.001\n",
        "theta = torch.Tensor([[0], [0]])\n",
        "for e in range(0, 200):\n",
        "    gr = linear_regression_loss_grad(theta, X, y)\n",
        "    theta -= alpha * gr\n",
        "\n",
        "print(theta)\n",
        "\n",
        "# theta is almost exactly equal to that computed using pseudoinverse"
      ],
      "execution_count": 106,
      "outputs": [
        {
          "output_type": "stream",
          "text": [
            "tensor([[1.4958],\n",
            "        [2.0058]])\n"
          ],
          "name": "stdout"
        }
      ]
    },
    {
      "metadata": {
        "deletable": false,
        "editable": false,
        "nbgrader": {
          "checksum": "8a785d76923ccbb7fa7b953a67377385",
          "grade": false,
          "grade_id": "cell-47be64696ed6859b",
          "locked": true,
          "schema_version": 1,
          "solution": false
        },
        "id": "V_Kd-X05TyeK",
        "colab_type": "text"
      },
      "cell_type": "markdown",
      "source": [
        "## Real data\n",
        "\n",
        "Doing linear regression on synthetic data is a great way to understand how PyTorch works, but it isn't quite as satisfying as working with a real dataset. Let's now apply or understanding of computing linear regression parameters to a dataset of house prices in Boston.\n",
        "\n",
        "We'll load the dataset using scikit-learn and perform some manipulations in the following code block:"
      ]
    },
    {
      "metadata": {
        "deletable": false,
        "editable": false,
        "nbgrader": {
          "checksum": "68160322d431987aaa1330088bd7efa5",
          "grade": false,
          "grade_id": "cell-3d4dfae2229c46df",
          "locked": true,
          "schema_version": 1,
          "solution": false
        },
        "id": "mdHprJ6RTyeL",
        "colab_type": "code",
        "outputId": "21cc2726-584a-4683-8cec-ae9c9c81c9b3",
        "colab": {
          "base_uri": "https://localhost:8080/",
          "height": 52
        }
      },
      "cell_type": "code",
      "source": [
        "from sklearn.datasets import load_boston\n",
        "\n",
        "X, y = tuple(torch.Tensor(z) for z in load_boston(True)) #convert to pytorch Tensors\n",
        "X = X[:, [2,5]] # We're just going to use features 2 and 5, rather than using all of of them\n",
        "X = torch.cat((X, torch.ones((X.shape[0], 1))), 1) # append a column of 1's to the X's\n",
        "y = y.reshape(-1, 1) # reshape y into a column vector\n",
        "print('X:', X.shape)\n",
        "print('y:', y.shape)\n",
        "\n",
        "# We're also going to break the data into a training set for computing the regression parameters\n",
        "# and a test set to evaluate the predictive ability of those parameters\n",
        "perm = torch.randperm(y.shape[0])\n",
        "X_train = X[perm[0:253], :]\n",
        "y_train = y[perm[0:253]]\n",
        "X_test = X[perm[253:], :]\n",
        "y_test = y[perm[253:]]"
      ],
      "execution_count": 141,
      "outputs": [
        {
          "output_type": "stream",
          "text": [
            "X: torch.Size([506, 3])\n",
            "y: torch.Size([506, 1])\n"
          ],
          "name": "stdout"
        }
      ]
    },
    {
      "metadata": {
        "id": "aYR1Z16OTyeO",
        "colab_type": "text"
      },
      "cell_type": "markdown",
      "source": [
        "__Use the following code block to compute the regression parameters using the training data in the variable `theta` by solving using the pseudoinverse directly:__"
      ]
    },
    {
      "metadata": {
        "deletable": false,
        "nbgrader": {
          "checksum": "4f967bc6cfdf19e504fbc602fde368a7",
          "grade": false,
          "grade_id": "cell-b7854194044222ed",
          "locked": false,
          "schema_version": 1,
          "solution": true
        },
        "id": "Dj6NBInKTyeO",
        "colab_type": "code",
        "outputId": "da676574-9dfa-4b7b-d67c-ed6fc064802f",
        "colab": {
          "base_uri": "https://localhost:8080/",
          "height": 70
        }
      },
      "cell_type": "code",
      "source": [
        "# compute the regression parameters in variable theta\n",
        "# YOUR CODE HERE\n",
        "\n",
        "\n",
        "X_train_inv = torch.pinverse(X_train)\n",
        "\n",
        "theta = torch.mm(X_train_inv, y_train)\n",
        "\n",
        "print(theta)"
      ],
      "execution_count": 142,
      "outputs": [
        {
          "output_type": "stream",
          "text": [
            "tensor([[ -0.4112],\n",
            "        [  7.4687],\n",
            "        [-20.4261]])\n"
          ],
          "name": "stdout"
        }
      ]
    },
    {
      "metadata": {
        "id": "MtAhNm19TyeQ",
        "colab_type": "text"
      },
      "cell_type": "markdown",
      "source": [
        "We can now print out the error achieved on the test set, as well as the parameter vector:"
      ]
    },
    {
      "metadata": {
        "deletable": false,
        "editable": false,
        "nbgrader": {
          "checksum": "724495cb56038fbab28377c134c95d92",
          "grade": true,
          "grade_id": "cell-a97d86a0f20894f5",
          "locked": true,
          "points": 1,
          "schema_version": 1,
          "solution": false
        },
        "id": "Qctnfd4eTyeR",
        "colab_type": "code",
        "outputId": "340552f0-be0d-4035-b4d8-0ac11d233a8a",
        "colab": {
          "base_uri": "https://localhost:8080/",
          "height": 52
        }
      },
      "cell_type": "code",
      "source": [
        "assert(theta.shape == (3,1))\n",
        "\n",
        "print(\"Theta: \", theta.t())\n",
        "\n",
        "# Measures the element-wise mean squared error\n",
        "\n",
        "print(\"MSE of test data: \", torch.nn.functional.mse_loss(X_test @ theta, y_test))"
      ],
      "execution_count": 143,
      "outputs": [
        {
          "output_type": "stream",
          "text": [
            "Theta:  tensor([[ -0.4112,   7.4687, -20.4261]])\n",
            "MSE of test data:  tensor(49.2230)\n"
          ],
          "name": "stdout"
        }
      ]
    },
    {
      "metadata": {
        "deletable": false,
        "editable": false,
        "nbgrader": {
          "checksum": "d794e7faf7455d8154d6fcab85e15e4d",
          "grade": false,
          "grade_id": "cell-f1a7b0a932a8ba2e",
          "locked": true,
          "schema_version": 1,
          "solution": false
        },
        "id": "PcIxJaZaTyeV",
        "colab_type": "text"
      },
      "cell_type": "markdown",
      "source": [
        "Now let's try using gradient descent:"
      ]
    },
    {
      "metadata": {
        "id": "9AzeXXWtTyeV",
        "colab_type": "code",
        "outputId": "20f68f76-2053-4f7d-96bf-3c7cb25c0d7e",
        "colab": {
          "base_uri": "https://localhost:8080/",
          "height": 90
        }
      },
      "cell_type": "code",
      "source": [
        "alpha_values = [0.000006, 0.00001, 0.00003, 0.00004]\n",
        "theta_gd = torch.rand((X_train.shape[1], 1))\n",
        "\n",
        "\n",
        "mse_for_each_iterations = []\n",
        "\n",
        "mse_for_alpha = []\n",
        "\n",
        "num_iters = 100\n",
        "\n",
        "for alpha in alpha_values:\n",
        "  \n",
        "  # re initialize theta to random values\n",
        "  \n",
        "  theta_gd = torch.rand((X_train.shape[1], 1))\n",
        "  \n",
        "  mse_for_each_iterations = []\n",
        "\n",
        "  for e in range(0, num_iters):\n",
        "    gr = linear_regression_loss_grad(theta_gd, X_train, y_train)\n",
        "    theta_gd -= alpha * gr\n",
        "    # compute MSE for the current theta_gd\n",
        "    mse = torch.nn.functional.mse_loss(X_train @ theta_gd, y_train)\n",
        "    mse_for_each_iterations.append(mse)\n",
        "  \n",
        "  mse_for_alpha.append(mse_for_each_iterations)\n",
        "    \n",
        "\n",
        "print(mse_for_alpha[3])\n",
        "print(\"Gradient Descent Theta: \", theta_gd.t())\n",
        "print(\"MSE of test data: \", torch.nn.functional.mse_loss(X_test @ theta_gd, y_test))"
      ],
      "execution_count": 149,
      "outputs": [
        {
          "output_type": "stream",
          "text": [
            "[tensor(264.0038), tensor(227.4178), tensor(198.5915), tensor(175.8843), tensor(158.0024), tensor(143.9255), tensor(132.8493), tensor(124.1392), tensor(117.2952), tensor(111.9225), tensor(107.7103), tensor(104.4132), tensor(101.8378), tensor(99.8316), tensor(98.2743), tensor(97.0708), tensor(96.1465), tensor(95.4424), tensor(94.9121), tensor(94.5188), tensor(94.2335), tensor(94.0335), tensor(93.9009), tensor(93.8213), tensor(93.7839), tensor(93.7794), tensor(93.8013), tensor(93.8436), tensor(93.9024), tensor(93.9742), tensor(94.0562), tensor(94.1464), tensor(94.2430), tensor(94.3448), tensor(94.4507), tensor(94.5600), tensor(94.6718), tensor(94.7859), tensor(94.9018), tensor(95.0190), tensor(95.1373), tensor(95.2567), tensor(95.3768), tensor(95.4978), tensor(95.6193), tensor(95.7414), tensor(95.8638), tensor(95.9867), tensor(96.1100), tensor(96.2337), tensor(96.3577), tensor(96.4820), tensor(96.6066), tensor(96.7315), tensor(96.8567), tensor(96.9822), tensor(97.1079), tensor(97.2339), tensor(97.3601), tensor(97.4867), tensor(97.6135), tensor(97.7406), tensor(97.8680), tensor(97.9956), tensor(98.1235), tensor(98.2516), tensor(98.3800), tensor(98.5086), tensor(98.6374), tensor(98.7665), tensor(98.8959), tensor(99.0256), tensor(99.1555), tensor(99.2857), tensor(99.4163), tensor(99.5470), tensor(99.6780), tensor(99.8092), tensor(99.9408), tensor(100.0726), tensor(100.2047), tensor(100.3370), tensor(100.4696), tensor(100.6025), tensor(100.7356), tensor(100.8689), tensor(101.0026), tensor(101.1366), tensor(101.2709), tensor(101.4054), tensor(101.5401), tensor(101.6752), tensor(101.8105), tensor(101.9461), tensor(102.0820), tensor(102.2181), tensor(102.3545), tensor(102.4911), tensor(102.6280), tensor(102.7652)]\n",
            "Gradient Descent Theta:  tensor([[-1.1032,  4.0637,  1.2544]])\n",
            "MSE of test data:  tensor(151.9809)\n"
          ],
          "name": "stdout"
        }
      ]
    },
    {
      "metadata": {
        "deletable": false,
        "editable": false,
        "nbgrader": {
          "checksum": "f2b9cd4ed786c8a74d31e22d7f7cd7cc",
          "grade": false,
          "grade_id": "cell-7afbfb1f2aaaa9a4",
          "locked": true,
          "schema_version": 1,
          "solution": false
        },
        "id": "lErwLnGUTyeZ",
        "colab_type": "text"
      },
      "cell_type": "markdown",
      "source": [
        "__Use the following block to note down any observations you can make about the choice of learning rate and number of iterations in the above code. What factors do you think influence the choice?__"
      ]
    },
    {
      "metadata": {
        "id": "eIEG9TQLs-1M",
        "colab_type": "text"
      },
      "cell_type": "markdown",
      "source": [
        "\n",
        "\n",
        "- As we increase the number of iterations from 10,000 to 100,000 the MSE decreases and tends to the MSE found using pseudoinverse\n",
        "\n",
        "- The `theta_gd` also tends to be closer to the `theta` found using pseudoinverse\n",
        "\n",
        "**Plot between MSE and num_iter for various LR to choose the best one**\n",
        "\n",
        "The size of the data is an important factor while chosing LR\n",
        "\n",
        "![](https://cdn-images-1.medium.com/max/800/0*uIa_Dz3czXO5iWyI.)\n",
        "\n",
        "Keeping the above plot in mind we can try and generate a similar plot for various values of learning rate"
      ]
    },
    {
      "metadata": {
        "deletable": false,
        "nbgrader": {
          "checksum": "487706e65407095404aaaf95ab1dc586",
          "grade": true,
          "grade_id": "cell-1e987d4019c368ba",
          "locked": false,
          "points": 3,
          "schema_version": 1,
          "solution": true
        },
        "id": "rB6X9l8eTyea",
        "colab_type": "code",
        "colab": {
          "base_uri": "https://localhost:8080/",
          "height": 278
        },
        "outputId": "b45b9bb4-9dc4-4855-e035-b5bda8bcb702"
      },
      "cell_type": "code",
      "source": [
        "# YOUR CODE HERE\n",
        "fig, ax = plt.subplots()\n",
        "\n",
        "\n",
        "colors = ['blue', 'red' , 'green', 'orange']\n",
        "\n",
        "for index in range(len(alpha_values)):\n",
        "  ax.plot(list(range(num_iters)), mse_for_alpha[index], label = float(alpha_values[index]), color = colors[index])\n",
        "  \n",
        "ax.legend()\n",
        "plt.xlabel(\"number of itertaions\")\n",
        "plt.ylabel(\"MSE\")\n",
        "plt.show()  "
      ],
      "execution_count": 151,
      "outputs": [
        {
          "output_type": "display_data",
          "data": {
            "image/png": "[encoded data removed]",
            "text/plain": [
              "<Figure size 432x288 with 1 Axes>"
            ]
          },
          "metadata": {
            "tags": []
          }
        }
      ]
    },
    {
      "metadata": {
        "id": "VpJ6jz4nFGbX",
        "colab_type": "text"
      },
      "cell_type": "markdown",
      "source": [
        "We use 4 values of alpha:\n",
        "\n",
        "- 0.000006\n",
        "- 0.00001\n",
        "- 0.00003\n",
        "- 0.00004\n",
        "\n",
        "We plot the MSE on train set over the number of iterations(100) \n",
        "\n",
        "We find that **0.00001** is a good learning rate (red curve)\n",
        "\n",
        "The green curve with alpha = 0.00003 has a high learning rate and converges too quickly\n",
        "\n",
        "The orange curve with alpha = 0.00004 has a very high learning rate and converges very quickly and then the loss increases\n",
        "\n",
        "The blue curve with alpha = 0.000006 has a very low learning rate and does not converge till 100 iterations\n",
        "\n",
        "Now that we have found the optimal alpha we re train the model by varying the number of iterations:"
      ]
    },
    {
      "metadata": {
        "id": "cLG8UuCuIPt2",
        "colab_type": "code",
        "colab": {
          "base_uri": "https://localhost:8080/",
          "height": 52
        },
        "outputId": "7908275f-9916-47b1-ed51-847258625ea9"
      },
      "cell_type": "code",
      "source": [
        "alpha = 0.00001\n",
        "theta_gd = torch.rand((X_train.shape[1], 1))\n",
        "\n",
        "\n",
        "\n",
        "num_iters = 100000\n",
        "\n",
        " \n",
        "  \n",
        "theta_gd = torch.rand((X_train.shape[1], 1))\n",
        "  \n",
        "\n",
        "for e in range(0, num_iters):\n",
        "  gr = linear_regression_loss_grad(theta_gd, X_train, y_train)\n",
        "  theta_gd -= alpha * gr\n",
        "  \n",
        "\n",
        "print(\"Gradient Descent Theta: \", theta_gd.t())\n",
        "print(\"MSE of test data: \", torch.nn.functional.mse_loss(X_test @ theta_gd, y_test))"
      ],
      "execution_count": 153,
      "outputs": [
        {
          "output_type": "stream",
          "text": [
            "Gradient Descent Theta:  tensor([[ -0.4331,   7.0077, -17.2707]])\n",
            "MSE of test data:  tensor(49.6022)\n"
          ],
          "name": "stdout"
        }
      ]
    },
    {
      "metadata": {
        "id": "vG_5Uzv8Iwqq",
        "colab_type": "text"
      },
      "cell_type": "markdown",
      "source": [
        ""
      ]
    },
    {
      "metadata": {
        "deletable": false,
        "editable": false,
        "nbgrader": {
          "checksum": "138abf4c0e59e16e5be8c847dff30f8d",
          "grade": false,
          "grade_id": "cell-809a19fe6970a99b",
          "locked": true,
          "schema_version": 1,
          "solution": false
        },
        "id": "4iuLQQv1Tyeg",
        "colab_type": "text"
      },
      "cell_type": "markdown",
      "source": [
        "Finally, just so we can visualise what our model has learned, we can plot the predicted house prices (from both the direct solution and from gradient descent) along with the true value for each of the houses in the test set (ordered by increasing true value):"
      ]
    },
    {
      "metadata": {
        "deletable": false,
        "editable": false,
        "nbgrader": {
          "checksum": "f486683e0b3e4d14da067504831f6cd3",
          "grade": false,
          "grade_id": "cell-64d6a9203da564f1",
          "locked": true,
          "schema_version": 1,
          "solution": false
        },
        "id": "9W_gj11CTyei",
        "colab_type": "code",
        "outputId": "610c7ea0-3a0a-4bb3-af6b-14fc982b294d",
        "colab": {
          "base_uri": "https://localhost:8080/",
          "height": 278
        }
      },
      "cell_type": "code",
      "source": [
        "perm = torch.argsort(y_test, dim=0)\n",
        "plt.plot(y_test[perm[:,0]].numpy(), '.', label='True Prices')\n",
        "plt.plot((X_test[perm[:,0]] @ theta).numpy(), '.', label='Predicted (pinv)')\n",
        "plt.plot((X_test[perm[:,0]] @ theta_gd).numpy(), '.', label='Predicted (G.D.)')\n",
        "plt.xlabel('House Number')\n",
        "plt.ylabel('House Price ($,000s)')\n",
        "plt.legend()\n",
        "plt.show()"
      ],
      "execution_count": 154,
      "outputs": [
        {
          "output_type": "display_data",
          "data": {
            "image/png": "[encoded data removed]",
            "text/plain": [
              "<Figure size 432x288 with 1 Axes>"
            ]
          },
          "metadata": {
            "tags": []
          }
        }
      ]
    }
  ]
}