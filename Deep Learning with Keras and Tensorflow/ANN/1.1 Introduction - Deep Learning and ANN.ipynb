{
 "cells": [
  {
   "cell_type": "markdown",
   "metadata": {},
   "source": [
    "## Introduction - Deep Learning and ANN\n",
    "\n",
    "[tutorial link](https://github.com/leriomaggio/deep-learning-keras-tensorflow)\n",
    "\n",
    "### Building Blocks: Artificial Neural Networks (ANN)\n",
    "\n",
    "In machine learning and cognitive science, an artificial neural network (ANN) is a network inspired by biological neural networks which are used to estimate or approximate functions that can depend on a large number of inputs that are generally unknown\n",
    "\n",
    "An ANN is built from nodes (neurons) stacked in layers between the feature vector and the target vector.\n",
    "\n",
    "A node in a neural network is built from Weights and Activation function\n",
    "\n",
    "An early version of ANN built from one node was called the Perceptron\n",
    "\n",
    "![](https://nbviewer.jupyter.org/github/leriomaggio/deep-learning-keras-tensorflow/blob/master/imgs/Perceptron.png)\n",
    "\n",
    "The Perceptron is an algorithm for supervised learning of binary classifiers. functions that can decide whether an input (represented by a vector of numbers) belongs to one class or another.\n",
    "\n",
    "Much like logistic regression, the weights in a neural net are being multiplied by the input vertor summed up and feeded into the activation function's input.\n",
    "\n",
    "A Perceptron Network can be designed to have multiple layers, leading to the Multi-Layer Perceptron (aka MLP)\n",
    "\n",
    "![](https://nbviewer.jupyter.org/github/leriomaggio/deep-learning-keras-tensorflow/blob/master/imgs/MLP.png)\n",
    "\n"
   ]
  },
  {
   "cell_type": "markdown",
   "metadata": {},
   "source": [
    "### Single Layer Neural Network\n",
    "\n",
    "![](https://nbviewer.jupyter.org/github/leriomaggio/deep-learning-keras-tensorflow/blob/master/imgs/single_layer.png)\n",
    "\n"
   ]
  },
  {
   "cell_type": "code",
   "execution_count": null,
   "metadata": {},
   "outputs": [],
   "source": []
  },
  {
   "cell_type": "code",
   "execution_count": null,
   "metadata": {},
   "outputs": [],
   "source": []
  }
 ],
 "metadata": {
  "kernelspec": {
   "display_name": "Python 3",
   "language": "python",
   "name": "python3"
  },
  "language_info": {
   "codemirror_mode": {
    "name": "ipython",
    "version": 3
   },
   "file_extension": ".py",
   "mimetype": "text/x-python",
   "name": "python",
   "nbconvert_exporter": "python",
   "pygments_lexer": "ipython3",
   "version": "3.7.4"
  },
  "toc": {
   "base_numbering": 1,
   "nav_menu": {},
   "number_sections": true,
   "sideBar": true,
   "skip_h1_title": false,
   "title_cell": "Table of Contents",
   "title_sidebar": "Contents",
   "toc_cell": false,
   "toc_position": {},
   "toc_section_display": true,
   "toc_window_display": false
  }
 },
 "nbformat": 4,
 "nbformat_minor": 2
}
