{
 "cells": [
  {
   "cell_type": "markdown",
   "metadata": {
    "colab_type": "text",
    "id": "view-in-github"
   },
   "source": [
    "<a href=\"https://colab.research.google.com/github/ShaunakSen/Deep-Learning/blob/master/FreecodeCamp_DeepLizard_Keras_with_Tensorflow_Course.ipynb\" target=\"_parent\"><img src=\"https://colab.research.google.com/assets/colab-badge.svg\" alt=\"Open In Colab\"/></a>"
   ]
  },
  {
   "cell_type": "markdown",
   "metadata": {
    "colab_type": "text",
    "id": "Bw0Hy8rvGNJl"
   },
   "source": [
    "## FreecodeCamp DeepLizard Keras with Tensorflow Course\n",
    "\n",
    "> Written notes on the tutorial by [DeepLizard](https://youtube.com/deeplizard) and [FreeCodeCamp](https://www.youtube.com/channel/UC8butISFwT-Wl7EV0hUK0BQ): https://www.youtube.com/watch?v=qFJeN9V1ZsI\n",
    "\n",
    "---\n",
    "\n",
    "### Data preparation and processing"
   ]
  },
  {
   "cell_type": "code",
   "execution_count": 1,
   "metadata": {
    "colab": {},
    "colab_type": "code",
    "id": "qUfiblDNGKJc"
   },
   "outputs": [],
   "source": [
    "import numpy as np\n",
    "from random import randint\n",
    "from sklearn.utils import shuffle\n",
    "from sklearn.preprocessing import MinMaxScaler"
   ]
  },
  {
   "cell_type": "code",
   "execution_count": 2,
   "metadata": {},
   "outputs": [],
   "source": [
    "from tensorflow.python.client import device_lib"
   ]
  },
  {
   "cell_type": "code",
   "execution_count": 3,
   "metadata": {},
   "outputs": [
    {
     "name": "stdout",
     "output_type": "stream",
     "text": [
      "[name: \"/device:CPU:0\"\n",
      "device_type: \"CPU\"\n",
      "memory_limit: 268435456\n",
      "locality {\n",
      "}\n",
      "incarnation: 13387046439419927936\n",
      ", name: \"/device:GPU:0\"\n",
      "device_type: \"GPU\"\n",
      "memory_limit: 3059115622\n",
      "locality {\n",
      "  bus_id: 1\n",
      "  links {\n",
      "  }\n",
      "}\n",
      "incarnation: 7250165879099588213\n",
      "physical_device_desc: \"device: 0, name: GeForce GTX 1650, pci bus id: 0000:01:00.0, compute capability: 7.5\"\n",
      "]\n"
     ]
    }
   ],
   "source": [
    "print (device_lib.list_local_devices())"
   ]
  },
  {
   "cell_type": "code",
   "execution_count": 7,
   "metadata": {
    "colab": {},
    "colab_type": "code",
    "id": "7lvzv7ilG-iL"
   },
   "outputs": [],
   "source": [
    "train_samples, train_labels = [], []"
   ]
  },
  {
   "cell_type": "markdown",
   "metadata": {
    "colab_type": "text",
    "id": "W6cz0J7wHKUb"
   },
   "source": [
    "For this simple task, we'll be creating our own example data set.\n",
    "\n",
    "#### Data Creation\n",
    "\n",
    "As motivation for this data, let’s suppose that an experimental drug was tested on individuals ranging from age 13 to 100 in a clinical trial. The trial had 2100 participants. Half of the participants were under 65 years old, and the other half was 65 years of age or older.\n",
    "\n",
    "The trial showed that around 95% of patients 65 or older experienced side effects from the drug, and around 95% of patients under 65 experienced no side effects, generally showing that elderly individuals were more likely to experience side effects.\n",
    "\n",
    "Ultimately, we want to build a model to tell us whether or not a patient will experience side effects solely based on the patient's age. The judgement of the model will be based on the training data.\n",
    "\n",
    "Note that with the simplicity of the data along with the conclusions drawn from it, a neural network may be overkill, but understand this is just to first get introduced to working with data for deep learning, and later, we'll be making use of more advanced data sets.\n",
    "\n"
   ]
  },
  {
   "cell_type": "code",
   "execution_count": 8,
   "metadata": {
    "colab": {
     "base_uri": "https://localhost:8080/",
     "height": 35
    },
    "colab_type": "code",
    "id": "NSwRgO9FHB31",
    "outputId": "6471dac1-0c1f-45b4-fc70-56e92a734782"
   },
   "outputs": [
    {
     "name": "stdout",
     "output_type": "stream",
     "text": [
      "104\n"
     ]
    }
   ],
   "source": [
    "young_population = old_population = int(2100/2)\n",
    "\n",
    "minority = int(0.05*old_population)*2\n",
    "\n",
    "print (minority)"
   ]
  },
  {
   "cell_type": "markdown",
   "metadata": {
    "colab_type": "text",
    "id": "-dZ51nYrIY46"
   },
   "source": [
    "So the minority population is around 100 people (50 old and 50 young)"
   ]
  },
  {
   "cell_type": "code",
   "execution_count": 9,
   "metadata": {
    "colab": {},
    "colab_type": "code",
    "id": "lqus8pzdH8Jj"
   },
   "outputs": [],
   "source": [
    "for i in range(50):\n",
    "    # The ~5% of younger individuals who did experience side effects\n",
    "    random_younger = randint(13,64)\n",
    "    train_samples.append(random_younger)\n",
    "    train_labels.append(1)\n",
    "\n",
    "    # The ~5% of older individuals who did not experience side effects\n",
    "    random_older = randint(65,100)\n",
    "    train_samples.append(random_older)\n",
    "    train_labels.append(0)\n",
    "\n",
    "    ### we have added 100 of the minority to the data\n",
    "\n",
    "for i in range(1000):\n",
    "    # The ~95% of younger individuals who did not experience side effects\n",
    "    random_younger = randint(13,64)\n",
    "    train_samples.append(random_younger)\n",
    "    train_labels.append(0)\n",
    "\n",
    "    # The ~95% of older individuals who did experience side effects\n",
    "    random_older = randint(65,100)\n",
    "    train_samples.append(random_older)\n",
    "    train_labels.append(1)"
   ]
  },
  {
   "cell_type": "code",
   "execution_count": 10,
   "metadata": {
    "colab": {
     "base_uri": "https://localhost:8080/",
     "height": 35
    },
    "colab_type": "code",
    "id": "mk1YTgtgJBhX",
    "outputId": "b471ba95-8142-4570-f21b-82689214750b"
   },
   "outputs": [
    {
     "name": "stdout",
     "output_type": "stream",
     "text": [
      "2100 2100\n"
     ]
    }
   ],
   "source": [
    "print (len(train_samples), len(train_labels))"
   ]
  },
  {
   "cell_type": "markdown",
   "metadata": {
    "colab_type": "text",
    "id": "shMgm647JNfS"
   },
   "source": [
    "This code creates 2100 samples and stores the age of the individuals in the train_samples list and stores whether or not the individuals experienced side effects in the train_labels list.\n",
    "\n",
    "Convert the data to numpy arrays:"
   ]
  },
  {
   "cell_type": "code",
   "execution_count": 11,
   "metadata": {
    "colab": {
     "base_uri": "https://localhost:8080/",
     "height": 54
    },
    "colab_type": "code",
    "id": "OqGpKnIRJI3C",
    "outputId": "50650583-962f-48b9-893d-bcda2fb99926"
   },
   "outputs": [
    {
     "name": "stdout",
     "output_type": "stream",
     "text": [
      "[1 0 1 0 1 0 1 0 1 0] [22 70 40 67 51 98 29 75 57 65]\n",
      "[0 0 1 1 0 1 1 1 1 0] [18 32 79 77 25 89 81 72 82 23]\n"
     ]
    }
   ],
   "source": [
    "train_labels = np.array(train_labels)\n",
    "train_samples = np.array(train_samples)\n",
    "### before shuffling\n",
    "print (train_labels[:10], train_samples[:10])\n",
    "\n",
    "train_labels, train_samples = shuffle(train_labels, train_samples) ### consistent order; so keeps track of the correspondence bw the 2 as we shuffle\n",
    "print (train_labels[:10], train_samples[:10])\n"
   ]
  },
  {
   "cell_type": "code",
   "execution_count": 12,
   "metadata": {
    "colab": {
     "base_uri": "https://localhost:8080/",
     "height": 35
    },
    "colab_type": "code",
    "id": "gMxGZS69LXMz",
    "outputId": "e707c6eb-e3e7-4752-e540-9f8a578d772c"
   },
   "outputs": [
    {
     "name": "stdout",
     "output_type": "stream",
     "text": [
      "[34 32 65 11 12 34 23] [1 1 1 0 0 0 1]\n"
     ]
    }
   ],
   "source": [
    "### test for shuffle\n",
    "t1 = np.array([23,34,12,11,34,65,32])\n",
    "t2 = np.array([1,1,0,0,0,1,1])\n",
    "\n",
    "t1_new,t2_new = shuffle(t1,t2)\n",
    "\n",
    "print(t1_new, t2_new)"
   ]
  },
  {
   "cell_type": "markdown",
   "metadata": {
    "colab_type": "text",
    "id": "i2YIiD3VL19a"
   },
   "source": [
    "> Ok, so shuffle does keep track of the correspondence"
   ]
  },
  {
   "cell_type": "markdown",
   "metadata": {
    "colab_type": "text",
    "id": "wEcgi0A6LAib"
   },
   "source": [
    "In this form, we now have the ability to pass the data to the model because it is now in the required format, however, before doing that, we'll first scale the data down to a range from 0 to 1.\n",
    "\n",
    "We'll use scikit-learn’s MinMaxScaler class to scale all of the data down from a scale ranging from 13 to 100 to be on a scale from 0 to 1.\n",
    "\n",
    "We reshape the data as a technical requirement just since the fit_transform() function doesn’t accept 1D data by default.\n",
    "\n"
   ]
  },
  {
   "cell_type": "code",
   "execution_count": 13,
   "metadata": {
    "colab": {
     "base_uri": "https://localhost:8080/",
     "height": 108
    },
    "colab_type": "code",
    "id": "Cxnq1op4KOXG",
    "outputId": "ed016e03-095c-4b7f-d3c6-eda5547c29ef"
   },
   "outputs": [
    {
     "name": "stdout",
     "output_type": "stream",
     "text": [
      "[[0.05747126]\n",
      " [0.2183908 ]\n",
      " [0.75862069]\n",
      " [0.73563218]\n",
      " [0.13793103]]\n"
     ]
    }
   ],
   "source": [
    "scaler = MinMaxScaler(feature_range=(0,1))\n",
    "scaled_train_samples = scaler.fit_transform(X=train_samples.reshape(-1, 1))\n",
    "\n",
    "print (scaled_train_samples[:5])"
   ]
  },
  {
   "cell_type": "markdown",
   "metadata": {
    "colab_type": "text",
    "id": "pe6XEZFHVSof"
   },
   "source": [
    "### Create An Artificial Neural Network With TensorFlow's Keras API\n",
    "\n",
    "---\n",
    "\n"
   ]
  },
  {
   "cell_type": "code",
   "execution_count": 14,
   "metadata": {
    "colab": {},
    "colab_type": "code",
    "id": "KM64gOw1MG7C"
   },
   "outputs": [],
   "source": [
    "import tensorflow as tf\n",
    "from tensorflow import keras\n",
    "from tensorflow.keras.models import Sequential\n",
    "from tensorflow.keras.layers import Dense, Activation\n",
    "from tensorflow.keras.optimizers import Adam\n",
    "from tensorflow.keras.metrics import categorical_crossentropy"
   ]
  },
  {
   "cell_type": "code",
   "execution_count": 15,
   "metadata": {
    "colab": {
     "base_uri": "https://localhost:8080/",
     "height": 35
    },
    "colab_type": "code",
    "id": "AbBYSQoDV0om",
    "outputId": "1c0cfd92-0887-4b54-e9bc-561595e5cbae"
   },
   "outputs": [
    {
     "name": "stdout",
     "output_type": "stream",
     "text": [
      "[PhysicalDevice(name='/physical_device:GPU:0', device_type='GPU')]\n"
     ]
    }
   ],
   "source": [
    "physical_devices = tf.config.experimental.list_physical_devices(\"GPU\")\n",
    "print (physical_devices)"
   ]
  },
  {
   "cell_type": "markdown",
   "metadata": {
    "colab_type": "text",
    "id": "Lqs98lqvWZ3-"
   },
   "source": [
    "set_memory_growth() attempts to allocate only as much GPU memory as needed at a given time, and continues to allocate more when needed. If this is not enabled, then we may end up running into the error below when we train the model later.\n",
    "\n",
    "`Blas GEMM launch failed`"
   ]
  },
  {
   "cell_type": "code",
   "execution_count": 16,
   "metadata": {
    "colab": {},
    "colab_type": "code",
    "id": "ugrqo_oWWLNt"
   },
   "outputs": [],
   "source": [
    "tf.config.experimental.set_memory_growth(device=physical_devices[0], enable=True)"
   ]
  },
  {
   "cell_type": "markdown",
   "metadata": {
    "colab_type": "text",
    "id": "JHNcVetsWutk"
   },
   "source": [
    "#### Build A Sequential Model\n"
   ]
  },
  {
   "cell_type": "code",
   "execution_count": 17,
   "metadata": {
    "colab": {},
    "colab_type": "code",
    "id": "OjPMWOytWnZO"
   },
   "outputs": [],
   "source": [
    "model = Sequential([\n",
    "    Dense(units=16, input_shape=(1,), activation='relu'),\n",
    "    Dense(units=32, activation='relu'),\n",
    "    Dense(units=2, activation='softmax')\n",
    "])"
   ]
  },
  {
   "cell_type": "markdown",
   "metadata": {
    "colab_type": "text",
    "id": "F9YumwZEXOVr"
   },
   "source": [
    "As discussed, we’ll be training our network on the data that we generated and processed in the previous episode, and recall, this data is one-dimensional. The input_shape parameter expects a tuple of integers that matches the shape of the input data, so we correspondingly specify (1,) as the input_shape of our one-dimensional data.\n",
    "\n",
    "You can think of the way we specify the input_shape here as acting as an **implicit input layer**. The input layer of a neural network is the underlying raw data itself, therefore we don't create an explicit input layer. **This first Dense layer that we're working with now is actually the first hidden layer**.\n",
    "\n",
    "Lastly, an optional parameter that we’ll set for the Dense layer is the activation function to use after this layer. We’ll use the popular choice of relu. Note, if you don’t explicitly set an activation function, then Keras will use the linear activation function.\n",
    "\n",
    "Our next layer will also be a Dense layer, and this one will have 32 nodes. The choice of how many neurons this node has is also arbitrary, as the idea is to create a simple model, and then test and experiment with it. If we notice that it is insufficient, then at that time, we can troubleshoot the issue and begin experimenting with changing parameters, like number of layers, nodes, etc.\n",
    "\n",
    "Lastly, we specify the output layer. This layer is also a Dense layer, and it will have 2 neurons. This is because we have two possible outputs: either a patient experienced side effects, or the patient did not experience side effects.\n",
    "\n",
    "This time, the activation function we’ll use is softmax, which will give us a probability distribution among the possible outputs."
   ]
  },
  {
   "cell_type": "code",
   "execution_count": 18,
   "metadata": {
    "colab": {
     "base_uri": "https://localhost:8080/",
     "height": 272
    },
    "colab_type": "code",
    "id": "UtPgvikqXFsI",
    "outputId": "14e22835-77b3-4497-d922-4d68e037db77"
   },
   "outputs": [
    {
     "name": "stdout",
     "output_type": "stream",
     "text": [
      "Model: \"sequential\"\n",
      "_________________________________________________________________\n",
      "Layer (type)                 Output Shape              Param #   \n",
      "=================================================================\n",
      "dense (Dense)                (None, 16)                32        \n",
      "_________________________________________________________________\n",
      "dense_1 (Dense)              (None, 32)                544       \n",
      "_________________________________________________________________\n",
      "dense_2 (Dense)              (None, 2)                 66        \n",
      "=================================================================\n",
      "Total params: 642\n",
      "Trainable params: 642\n",
      "Non-trainable params: 0\n",
      "_________________________________________________________________\n"
     ]
    }
   ],
   "source": [
    "model.summary()"
   ]
  },
  {
   "cell_type": "markdown",
   "metadata": {
    "colab_type": "text",
    "id": "z8AThedlb5wr"
   },
   "source": [
    "#### How do we arrive at 642 trainable params:\n",
    "\n",
    "1. 1 ip. Then 1 hidden layer with 16 nodes. So 16 connections (wts) and 16 (biases): `16x2`\n",
    "\n",
    "2. Next layer has 32 nodes. `16*32` wts + 32 biases: `(16*32)+32`\n",
    "\n",
    "3. Last layer has 2 nodes. So `32*2` wts + 2 biases: `32*2+2`\n",
    "\n",
    "`16*2 + (16*32)+32 + (32*2)+2 = 642`"
   ]
  },
  {
   "cell_type": "markdown",
   "metadata": {
    "colab_type": "text",
    "id": "CzWwu1LcdZRj"
   },
   "source": [
    "### Train An Artificial Neural Network With Keras\n",
    "\n",
    "---\n",
    "\n",
    "The first thing we need to do to get the model ready for training is call the compile() function on it.\n",
    "\n"
   ]
  },
  {
   "cell_type": "code",
   "execution_count": 19,
   "metadata": {
    "colab": {},
    "colab_type": "code",
    "id": "DRjy7nPPcbIY"
   },
   "outputs": [],
   "source": [
    "model.compile(optimizer=Adam(learning_rate=0.0001), loss='sparse_categorical_crossentropy', metrics=['accuracy'])"
   ]
  },
  {
   "cell_type": "code",
   "execution_count": 20,
   "metadata": {
    "colab": {
     "base_uri": "https://localhost:8080/",
     "height": 1000
    },
    "colab_type": "code",
    "id": "rhFxzmbcdhhk",
    "outputId": "4948b6af-1f09-41a9-b0e5-867ef9310368"
   },
   "outputs": [
    {
     "name": "stdout",
     "output_type": "stream",
     "text": [
      "Train on 2100 samples\n",
      "Epoch 1/30\n",
      "2100/2100 - 1s - loss: 0.7020 - accuracy: 0.5276\n",
      "Epoch 2/30\n",
      "2100/2100 - 0s - loss: 0.6751 - accuracy: 0.6824\n",
      "Epoch 3/30\n",
      "2100/2100 - 0s - loss: 0.6501 - accuracy: 0.7510\n",
      "Epoch 4/30\n",
      "2100/2100 - 0s - loss: 0.6278 - accuracy: 0.7786\n",
      "Epoch 5/30\n",
      "2100/2100 - 0s - loss: 0.6026 - accuracy: 0.8071\n",
      "Epoch 6/30\n",
      "2100/2100 - 0s - loss: 0.5699 - accuracy: 0.8471\n",
      "Epoch 7/30\n",
      "2100/2100 - 0s - loss: 0.5385 - accuracy: 0.8652\n",
      "Epoch 8/30\n",
      "2100/2100 - 0s - loss: 0.5078 - accuracy: 0.8786\n",
      "Epoch 9/30\n",
      "2100/2100 - 0s - loss: 0.4780 - accuracy: 0.8848\n",
      "Epoch 10/30\n",
      "2100/2100 - 0s - loss: 0.4493 - accuracy: 0.8962\n",
      "Epoch 11/30\n",
      "2100/2100 - 0s - loss: 0.4226 - accuracy: 0.8967\n",
      "Epoch 12/30\n",
      "2100/2100 - 0s - loss: 0.3985 - accuracy: 0.9095\n",
      "Epoch 13/30\n",
      "2100/2100 - 0s - loss: 0.3771 - accuracy: 0.9114\n",
      "Epoch 14/30\n",
      "2100/2100 - 0s - loss: 0.3583 - accuracy: 0.9171\n",
      "Epoch 15/30\n",
      "2100/2100 - 0s - loss: 0.3419 - accuracy: 0.9200\n",
      "Epoch 16/30\n",
      "2100/2100 - 0s - loss: 0.3281 - accuracy: 0.9205\n",
      "Epoch 17/30\n",
      "2100/2100 - 0s - loss: 0.3161 - accuracy: 0.9233\n",
      "Epoch 18/30\n",
      "2100/2100 - 0s - loss: 0.3061 - accuracy: 0.9238\n",
      "Epoch 19/30\n",
      "2100/2100 - 0s - loss: 0.2975 - accuracy: 0.9233\n",
      "Epoch 20/30\n",
      "2100/2100 - 0s - loss: 0.2902 - accuracy: 0.9248\n",
      "Epoch 21/30\n",
      "2100/2100 - 0s - loss: 0.2840 - accuracy: 0.9286\n",
      "Epoch 22/30\n",
      "2100/2100 - 0s - loss: 0.2786 - accuracy: 0.9271\n",
      "Epoch 23/30\n",
      "2100/2100 - 0s - loss: 0.2739 - accuracy: 0.9286\n",
      "Epoch 24/30\n",
      "2100/2100 - 0s - loss: 0.2700 - accuracy: 0.9319\n",
      "Epoch 25/30\n",
      "2100/2100 - 0s - loss: 0.2665 - accuracy: 0.9295\n",
      "Epoch 26/30\n",
      "2100/2100 - 0s - loss: 0.2634 - accuracy: 0.9281\n",
      "Epoch 27/30\n",
      "2100/2100 - 0s - loss: 0.2608 - accuracy: 0.9314\n",
      "Epoch 28/30\n",
      "2100/2100 - 0s - loss: 0.2586 - accuracy: 0.9357\n",
      "Epoch 29/30\n",
      "2100/2100 - 0s - loss: 0.2564 - accuracy: 0.9376\n",
      "Epoch 30/30\n",
      "2100/2100 - 0s - loss: 0.2545 - accuracy: 0.9338\n"
     ]
    },
    {
     "data": {
      "text/plain": [
       "<tensorflow.python.keras.callbacks.History at 0x2c1b6c7a0c8>"
      ]
     },
     "execution_count": 20,
     "metadata": {},
     "output_type": "execute_result"
    }
   ],
   "source": [
    "model.fit(x=scaled_train_samples, y=train_labels, batch_size=10, epochs=30, verbose=2, shuffle=True, )"
   ]
  },
  {
   "cell_type": "markdown",
   "metadata": {
    "colab_type": "text",
    "id": "tZH4b0Tkeonx"
   },
   "source": [
    "We set shuffle to True as we do not want the model to learn any implicit order by which it sees the training samples\n",
    "\n",
    "### Build A Validation Set With TensorFlow's Keras API\n",
    "\n",
    "---\n",
    "\n",
    "Recall that we previously built a training set on which we trained our model. With each epoch that our model is trained, the model will continue to learn the features and characteristics of the data in this training set.\n",
    "\n",
    "The hope is that later we can take this model, apply it to new data, and have the model accurately predict on data that it hasn’t seen before based solely on what it learned from the training set.\n",
    "\n",
    "Now, let’s discuss where the addition of a validation set comes into play.\n",
    "\n",
    "Before training begins, we can choose to remove a portion of the training set and place it in a validation set. Then, during training, the model will train only on the training set, and it will validate by evaluating the data in the validation set.\n",
    "\n",
    "Essentially, the model is learning the features of the data in the training set, taking what it's learned from this data, and then predicting on the validation set. During each epoch, we will see not only the loss and accuracy results for the training set, but also for the validation set.\n",
    "\n",
    "This allows us to see how well the model is generalizing on data it wasn’t trained on because, recall, the validation data should not be part of the training data.\n",
    "\n",
    "This also helps us see whether or not the model is overfitting. **Overfitting occurs when the model only learns the specifics of the training data and is unable to generalize well on data that it wasn’t trained on.**\n",
    "\n"
   ]
  },
  {
   "cell_type": "markdown",
   "metadata": {
    "colab_type": "text",
    "id": "cFLE8d8qikgt"
   },
   "source": [
    "#### Create a Validation set\n",
    "\n",
    "The first way is to create a data structure to hold a validation set, and place data directly in that structure in the same nature we did for the training set.\n",
    "\n",
    "This data structure should be a tuple `valid_set = (x_val, y_val)` of Numpy arrays or tensors, where `x_val` is a numpy array or tensor containing validation samples, and `y_val` is a numpy array or tensor containing validation labels.\n",
    "\n",
    "When we call model.fit(), we would pass in the validation set in addition to the training set. We pass the validation set by specifying the validation_data parameter.\n",
    "\n",
    "```\n",
    "model.fit(\n",
    "      x=scaled_train_samples\n",
    "    , y=train_labels\n",
    "    , validation_data=valid_set\n",
    "    , batch_size=10\n",
    "    , epochs=30\n",
    "    , verbose=2\n",
    ")\n",
    "```\n",
    "\n",
    "When the model trains, it would continue to train only on the training set, but additionally, it would also be evaluating the validation set.\n",
    "\n",
    "There is another way to create a validation set, and it saves a step!\n",
    "\n",
    "If we don’t already have a specified validation set created, then when we call `model.fit()`, we can set a value for the validation_split parameter. It expects a fractional number between 0 and 1. Suppose that we set this parameter to 0.1.\n",
    "\n",
    "```\n",
    "model.fit(\n",
    "      x=scaled_train_samples\n",
    "    , y=train_labels\n",
    "    , validation_split=0.1\n",
    "    , batch_size=10\n",
    "    , epochs=30\n",
    "    , verbose=2\n",
    ")\n",
    "```\n",
    "\n",
    "With this parameter specified, Keras will split apart a fraction (10% in this example) of the training data to be used as validation data. **The model will set apart this fraction of the training data, will not train on it, and will evaluate the loss and any model metrics on this data at the end of each epoch.**\n",
    "\n",
    "\n",
    "**Note that the fit() function shuffles the data before each epoch by default. When specifying the validation_split parameter, however, the validation data is selected from the last samples in the x and y data before shuffling.**\n",
    "\n",
    "So imagine if in our training data we had all sick patients first and non-sick patients after. Then if we split off the last 10% as validation, its going to take all the non-sick patients! So, here is not a prob as we have already shuffled our training data before iteself, but if that is not so, this would be a problem and setting `shuffle=True` also will not help\n",
    "\n",
    "Therefore, in the case we're using validation_split in this way to create our validation data, we need to be sure that our data has been shuffled ahead of time"
   ]
  },
  {
   "cell_type": "code",
   "execution_count": 21,
   "metadata": {
    "colab": {},
    "colab_type": "code",
    "id": "ls9UjDCdk2_l"
   },
   "outputs": [],
   "source": [
    "model = Sequential([\n",
    "    Dense(units=16, input_shape=(1,), activation='relu'),\n",
    "    Dense(units=32, activation='relu'),\n",
    "    Dense(units=2, activation='softmax')\n",
    "])\n",
    "model.compile(optimizer=Adam(learning_rate=0.0001), loss='sparse_categorical_crossentropy', metrics=['accuracy'])"
   ]
  },
  {
   "cell_type": "code",
   "execution_count": 22,
   "metadata": {
    "colab": {
     "base_uri": "https://localhost:8080/",
     "height": 1000
    },
    "colab_type": "code",
    "id": "b-zoBSfDfjOs",
    "outputId": "3ad7dbc4-573d-4c21-ceb0-efb621a9dcc2"
   },
   "outputs": [
    {
     "name": "stdout",
     "output_type": "stream",
     "text": [
      "Train on 1890 samples, validate on 210 samples\n",
      "Epoch 1/30\n",
      "1890/1890 - 1s - loss: 0.6831 - accuracy: 0.4714 - val_loss: 0.6667 - val_accuracy: 0.5190\n",
      "Epoch 2/30\n",
      "1890/1890 - 0s - loss: 0.6535 - accuracy: 0.5815 - val_loss: 0.6377 - val_accuracy: 0.5857\n",
      "Epoch 3/30\n",
      "1890/1890 - 0s - loss: 0.6245 - accuracy: 0.6296 - val_loss: 0.6059 - val_accuracy: 0.6667\n",
      "Epoch 4/30\n",
      "1890/1890 - 0s - loss: 0.5936 - accuracy: 0.6952 - val_loss: 0.5691 - val_accuracy: 0.7476\n",
      "Epoch 5/30\n",
      "1890/1890 - 0s - loss: 0.5614 - accuracy: 0.7455 - val_loss: 0.5361 - val_accuracy: 0.7810\n",
      "Epoch 6/30\n",
      "1890/1890 - 0s - loss: 0.5318 - accuracy: 0.7852 - val_loss: 0.5038 - val_accuracy: 0.8143\n",
      "Epoch 7/30\n",
      "1890/1890 - 0s - loss: 0.5030 - accuracy: 0.8122 - val_loss: 0.4721 - val_accuracy: 0.8476\n",
      "Epoch 8/30\n",
      "1890/1890 - 0s - loss: 0.4753 - accuracy: 0.8418 - val_loss: 0.4416 - val_accuracy: 0.8714\n",
      "Epoch 9/30\n",
      "1890/1890 - 0s - loss: 0.4486 - accuracy: 0.8619 - val_loss: 0.4121 - val_accuracy: 0.8714\n",
      "Epoch 10/30\n",
      "1890/1890 - 0s - loss: 0.4234 - accuracy: 0.8714 - val_loss: 0.3843 - val_accuracy: 0.8810\n",
      "Epoch 11/30\n",
      "1890/1890 - 0s - loss: 0.4007 - accuracy: 0.8852 - val_loss: 0.3591 - val_accuracy: 0.8905\n",
      "Epoch 12/30\n",
      "1890/1890 - 0s - loss: 0.3800 - accuracy: 0.8947 - val_loss: 0.3359 - val_accuracy: 0.9048\n",
      "Epoch 13/30\n",
      "1890/1890 - 0s - loss: 0.3617 - accuracy: 0.9042 - val_loss: 0.3155 - val_accuracy: 0.9238\n",
      "Epoch 14/30\n",
      "1890/1890 - 0s - loss: 0.3460 - accuracy: 0.9053 - val_loss: 0.2978 - val_accuracy: 0.9333\n",
      "Epoch 15/30\n",
      "1890/1890 - 0s - loss: 0.3327 - accuracy: 0.9111 - val_loss: 0.2820 - val_accuracy: 0.9333\n",
      "Epoch 16/30\n",
      "1890/1890 - 0s - loss: 0.3212 - accuracy: 0.9201 - val_loss: 0.2687 - val_accuracy: 0.9333\n",
      "Epoch 17/30\n",
      "1890/1890 - 0s - loss: 0.3116 - accuracy: 0.9196 - val_loss: 0.2572 - val_accuracy: 0.9333\n",
      "Epoch 18/30\n",
      "1890/1890 - 0s - loss: 0.3034 - accuracy: 0.9217 - val_loss: 0.2470 - val_accuracy: 0.9333\n",
      "Epoch 19/30\n",
      "1890/1890 - 0s - loss: 0.2965 - accuracy: 0.9233 - val_loss: 0.2382 - val_accuracy: 0.9333\n",
      "Epoch 20/30\n",
      "1890/1890 - 0s - loss: 0.2904 - accuracy: 0.9280 - val_loss: 0.2305 - val_accuracy: 0.9333\n",
      "Epoch 21/30\n",
      "1890/1890 - 0s - loss: 0.2855 - accuracy: 0.9254 - val_loss: 0.2234 - val_accuracy: 0.9333\n",
      "Epoch 22/30\n",
      "1890/1890 - 0s - loss: 0.2807 - accuracy: 0.9265 - val_loss: 0.2176 - val_accuracy: 0.9524\n",
      "Epoch 23/30\n",
      "1890/1890 - 0s - loss: 0.2770 - accuracy: 0.9312 - val_loss: 0.2121 - val_accuracy: 0.9333\n",
      "Epoch 24/30\n",
      "1890/1890 - 0s - loss: 0.2737 - accuracy: 0.9280 - val_loss: 0.2073 - val_accuracy: 0.9333\n",
      "Epoch 25/30\n",
      "1890/1890 - 0s - loss: 0.2706 - accuracy: 0.9328 - val_loss: 0.2034 - val_accuracy: 0.9333\n",
      "Epoch 26/30\n",
      "1890/1890 - 0s - loss: 0.2680 - accuracy: 0.9291 - val_loss: 0.1996 - val_accuracy: 0.9524\n",
      "Epoch 27/30\n",
      "1890/1890 - 0s - loss: 0.2658 - accuracy: 0.9339 - val_loss: 0.1962 - val_accuracy: 0.9524\n",
      "Epoch 28/30\n",
      "1890/1890 - 0s - loss: 0.2638 - accuracy: 0.9370 - val_loss: 0.1932 - val_accuracy: 0.9333\n",
      "Epoch 29/30\n",
      "1890/1890 - 0s - loss: 0.2620 - accuracy: 0.9339 - val_loss: 0.1903 - val_accuracy: 0.9524\n",
      "Epoch 30/30\n",
      "1890/1890 - 0s - loss: 0.2603 - accuracy: 0.9360 - val_loss: 0.1879 - val_accuracy: 0.9524\n"
     ]
    },
    {
     "data": {
      "text/plain": [
       "<tensorflow.python.keras.callbacks.History at 0x2c1e9eb8b48>"
      ]
     },
     "execution_count": 22,
     "metadata": {},
     "output_type": "execute_result"
    }
   ],
   "source": [
    "model.fit(x=scaled_train_samples, y=train_labels, batch_size=10, epochs=30, verbose=2, shuffle=True, validation_split=0.1)"
   ]
  },
  {
   "cell_type": "markdown",
   "metadata": {
    "colab_type": "text",
    "id": "vdyqz-sAk-9_"
   },
   "source": [
    "The accuracy and the val_accuracy is quite similar, so it does not seem that it is oevrfitting"
   ]
  },
  {
   "cell_type": "markdown",
   "metadata": {
    "colab_type": "text",
    "id": "vqxoWikuJTzW"
   },
   "source": [
    "### Make Predictions With An Artificial Neural Network Using Keras\n",
    "\n",
    "At this point, the model we've been working with over the past few episodes has now been trained and validated. Given the results we’ve seen from the validation data, it appears that this model should do well on predicting on a new test set.\n",
    "\n",
    "#### Creating The Test Set\n",
    "\n",
    "We’ll create a test set in the same fashion for which we created the training set. **In general, the test set should always be processed in the same way as the training set**.\n",
    "\n"
   ]
  },
  {
   "cell_type": "code",
   "execution_count": 23,
   "metadata": {
    "colab": {},
    "colab_type": "code",
    "id": "2F7NE5FKkouq"
   },
   "outputs": [],
   "source": [
    "test_labels =  []\n",
    "test_samples = []\n",
    "\n",
    "for i in range(10):\n",
    "    # The 5% of younger individuals who did experience side effects\n",
    "    random_younger = randint(13,64)\n",
    "    test_samples.append(random_younger)\n",
    "    test_labels.append(1)\n",
    "    \n",
    "    # The 5% of older individuals who did not experience side effects\n",
    "    random_older = randint(65,100)\n",
    "    test_samples.append(random_older)\n",
    "    test_labels.append(0)\n",
    "\n",
    "for i in range(200):\n",
    "    # The 95% of younger individuals who did not experience side effects\n",
    "    random_younger = randint(13,64)\n",
    "    test_samples.append(random_younger)\n",
    "    test_labels.append(0)\n",
    "    \n",
    "    # The 95% of older individuals who did experience side effects\n",
    "    random_older = randint(65,100)\n",
    "    test_samples.append(random_older)\n",
    "    test_labels.append(1)\n",
    "\n",
    "test_labels = np.array(test_labels)\n",
    "test_samples = np.array(test_samples)\n",
    "test_labels, test_samples = shuffle(test_labels, test_samples)"
   ]
  },
  {
   "cell_type": "code",
   "execution_count": 24,
   "metadata": {
    "colab": {
     "base_uri": "https://localhost:8080/",
     "height": 35
    },
    "colab_type": "code",
    "id": "XfimQ1BiLvUd",
    "outputId": "b3346058-6125-489b-fd34-00fb53c7d6cd"
   },
   "outputs": [
    {
     "name": "stdout",
     "output_type": "stream",
     "text": [
      "(420,) (420,)\n"
     ]
    }
   ],
   "source": [
    "print (test_labels.shape, test_samples.shape)"
   ]
  },
  {
   "cell_type": "code",
   "execution_count": 25,
   "metadata": {
    "colab": {},
    "colab_type": "code",
    "id": "Lt7FotYGM1Yu"
   },
   "outputs": [],
   "source": [
    "scaled_test_samples = scaler.fit_transform(test_samples.reshape(-1,1))"
   ]
  },
  {
   "cell_type": "code",
   "execution_count": 26,
   "metadata": {
    "colab": {
     "base_uri": "https://localhost:8080/",
     "height": 199
    },
    "colab_type": "code",
    "id": "E72OewzAM3DG",
    "outputId": "725dbd1f-4fe9-435a-fa84-12bd6f81720d"
   },
   "outputs": [
    {
     "data": {
      "text/plain": [
       "array([[0.43678161],\n",
       "       [0.8045977 ],\n",
       "       [0.44827586],\n",
       "       [0.35632184],\n",
       "       [0.42528736],\n",
       "       [0.49425287],\n",
       "       [0.83908046],\n",
       "       [0.09195402],\n",
       "       [0.82758621],\n",
       "       [0.28735632]])"
      ]
     },
     "execution_count": 26,
     "metadata": {},
     "output_type": "execute_result"
    }
   ],
   "source": [
    "scaled_test_samples[:10]"
   ]
  },
  {
   "cell_type": "markdown",
   "metadata": {
    "colab_type": "text",
    "id": "YLTTlFQ0M6vH"
   },
   "source": [
    "#### Evaluating The Test Set\n",
    "\n"
   ]
  },
  {
   "cell_type": "code",
   "execution_count": 27,
   "metadata": {
    "colab": {},
    "colab_type": "code",
    "id": "4Ldi2WiAM4si"
   },
   "outputs": [],
   "source": [
    "predictions = model.predict(x=scaled_test_samples, batch_size=10, verbose=0)"
   ]
  },
  {
   "cell_type": "markdown",
   "metadata": {
    "colab_type": "text",
    "id": "TIarlHksNoTR"
   },
   "source": [
    "To this function, we pass in the test samples x, specify a batch_size, and specify which level of verbosity we want from log messages during prediction generation. The output from the predictions won't be relevant for us, so we're setting verbose=0 for no output.\n",
    "\n",
    "Note that, unlike with training and validation sets, we do not pass the labels of the test set to the model during the inference stage.\n",
    "\n",
    "To see what the model's predictions look like, we can iterate over them and print them out"
   ]
  },
  {
   "cell_type": "code",
   "execution_count": 65,
   "metadata": {
    "colab": {
     "base_uri": "https://localhost:8080/",
     "height": 199
    },
    "colab_type": "code",
    "id": "FgY9EEBeNnmk",
    "outputId": "69a89530-5b73-4990-d4d9-e5d907bd2230"
   },
   "outputs": [
    {
     "data": {
      "text/plain": [
       "array([[0.83571756, 0.16428244],\n",
       "       [0.06414852, 0.9358515 ],\n",
       "       [0.814923  , 0.18507701],\n",
       "       [0.93067235, 0.06932762],\n",
       "       [0.85459256, 0.14540742],\n",
       "       [0.71193373, 0.2880662 ],\n",
       "       [0.05135631, 0.94864374],\n",
       "       [0.9559275 , 0.04407248],\n",
       "       [0.05532675, 0.9446733 ],\n",
       "       [0.95394695, 0.04605309]], dtype=float32)"
      ]
     },
     "execution_count": 65,
     "metadata": {},
     "output_type": "execute_result"
    }
   ],
   "source": [
    "predictions[:10]"
   ]
  },
  {
   "cell_type": "markdown",
   "metadata": {
    "colab_type": "text",
    "id": "L9pdQutHN0Vk"
   },
   "source": [
    "Each element in the predictions list is itself a list of length 2. The sum of the two values in each list is 1. The reason for this is because the two columns contain probabilities for each possible output: experienced side effects and did not experience side effects. Each element in the predictions list is a probability distribution over all possible outputs.\n",
    "\n",
    "The first column contains the probability for each patient not experiencing side effects, which is represented by a 0. The second column contains the probability for each patient experiencing side effects, which is represented by a 1.\n",
    "\n",
    "We can also look only at the most probable prediction."
   ]
  },
  {
   "cell_type": "code",
   "execution_count": 29,
   "metadata": {
    "colab": {
     "base_uri": "https://localhost:8080/",
     "height": 54
    },
    "colab_type": "code",
    "id": "xKxcggZTNrgO",
    "outputId": "667f48a2-dd91-4e4b-d1b3-6aa812e72108"
   },
   "outputs": [
    {
     "name": "stdout",
     "output_type": "stream",
     "text": [
      "[0 1 0 0 0 0 1 0 1 0]\n",
      "(420,)\n"
     ]
    }
   ],
   "source": [
    "rounded_predictions = np.argmax(predictions, axis=-1)\n",
    "\n",
    "print (rounded_predictions[:10])\n",
    "\n",
    "print (rounded_predictions.shape)"
   ]
  },
  {
   "cell_type": "markdown",
   "metadata": {
    "colab_type": "text",
    "id": "jMlF7hFVOEW2"
   },
   "source": [
    "From the printed prediction results, we can observe the underlying predictions from the model, however, we cannot judge how accurate these predictions are just by looking at the predicted output.\n",
    "\n",
    "If we have corresponding labels for the test set, (for which, in this case, we do), then we can compare these true labels to the predicted labels to judge the accuracy of the model's evaluations. We'll see how to visualize this using a tool called a confusion matrix "
   ]
  },
  {
   "cell_type": "markdown",
   "metadata": {
    "colab_type": "text",
    "id": "kkvGRvevjTIE"
   },
   "source": [
    "### Create A Confusion Matrix For Neural Network Predictions\n",
    "\n"
   ]
  },
  {
   "cell_type": "code",
   "execution_count": 31,
   "metadata": {
    "colab": {},
    "colab_type": "code",
    "id": "gMMpp5sqN4g8"
   },
   "outputs": [],
   "source": [
    "%matplotlib inline\n",
    "from sklearn.metrics import confusion_matrix\n",
    "import itertools\n",
    "import matplotlib.pyplot as plt"
   ]
  },
  {
   "cell_type": "code",
   "execution_count": 32,
   "metadata": {
    "colab": {},
    "colab_type": "code",
    "id": "SvBw26vWqtLz"
   },
   "outputs": [],
   "source": [
    "cm = confusion_matrix(y_true=test_labels, y_pred=rounded_predictions)"
   ]
  },
  {
   "cell_type": "code",
   "execution_count": 33,
   "metadata": {
    "colab": {},
    "colab_type": "code",
    "id": "COKiKVfaq_To"
   },
   "outputs": [],
   "source": [
    "def plot_confusion_matrix(cm, classes,\n",
    "                        normalize=False,\n",
    "                        title='Confusion matrix',\n",
    "                        cmap=plt.cm.Blues):\n",
    "    \"\"\"\n",
    "    This function prints and plots the confusion matrix.\n",
    "    Normalization can be applied by setting `normalize=True`.\n",
    "    \"\"\"\n",
    "    plt.imshow(cm, interpolation='nearest', cmap=cmap)\n",
    "    plt.title(title)\n",
    "    plt.colorbar()\n",
    "    tick_marks = np.arange(len(classes))\n",
    "    plt.xticks(tick_marks, classes, rotation=45)\n",
    "    plt.yticks(tick_marks, classes)\n",
    "\n",
    "    if normalize:\n",
    "        cm = cm.astype('float') / cm.sum(axis=1)[:, np.newaxis]\n",
    "        print(\"Normalized confusion matrix\")\n",
    "    else:\n",
    "        print('Confusion matrix, without normalization')\n",
    "\n",
    "    print(cm)\n",
    "\n",
    "    thresh = cm.max() / 2.\n",
    "    for i, j in itertools.product(range(cm.shape[0]), range(cm.shape[1])):\n",
    "        plt.text(j, i, cm[i, j],\n",
    "            horizontalalignment=\"center\",\n",
    "            color=\"white\" if cm[i, j] > thresh else \"black\")\n",
    "\n",
    "    plt.tight_layout()\n",
    "    plt.ylabel('True label')\n",
    "    plt.xlabel('Predicted label')"
   ]
  },
  {
   "cell_type": "markdown",
   "metadata": {
    "colab_type": "text",
    "id": "ayw_8l1-rEH7"
   },
   "source": [
    "Next, we define the labels for the confusion matrix. In our case, the labels are titled “no side effects” and “had side effects.”\n",
    "\n"
   ]
  },
  {
   "cell_type": "code",
   "execution_count": 34,
   "metadata": {
    "colab": {},
    "colab_type": "code",
    "id": "2eVH9sferCUg"
   },
   "outputs": [],
   "source": [
    "cm_plot_labels = ['no_side_effects','had_side_effects']"
   ]
  },
  {
   "cell_type": "markdown",
   "metadata": {
    "colab_type": "text",
    "id": "0NsKpWN6rHdn"
   },
   "source": [
    "Lastly, we plot the confusion matrix by using the plot_confusion_matrix() function we just discussed. To this function, we pass in the confusion matrix cm and the labels cm_plot_labels, as well as a title for the confusion matrix.\n",
    "\n"
   ]
  },
  {
   "cell_type": "code",
   "execution_count": 35,
   "metadata": {
    "colab": {
     "base_uri": "https://localhost:8080/",
     "height": 365
    },
    "colab_type": "code",
    "id": "eNE-UCLurF96",
    "outputId": "0f3fce63-cdf1-4df8-b8a5-fe9f15dbafa1"
   },
   "outputs": [
    {
     "name": "stdout",
     "output_type": "stream",
     "text": [
      "Confusion matrix, without normalization\n",
      "[[192  18]\n",
      " [ 10 200]]\n"
     ]
    },
    {
     "data": {
      "image/png": "[encoded data removed]",
      "text/plain": [
       "<Figure size 432x288 with 2 Axes>"
      ]
     },
     "metadata": {
      "needs_background": "light"
     },
     "output_type": "display_data"
    }
   ],
   "source": [
    "plot_confusion_matrix(cm=cm, classes=cm_plot_labels, title='Confusion Matrix')"
   ]
  },
  {
   "cell_type": "markdown",
   "metadata": {
    "colab_type": "text",
    "id": "3Rl2ND2frXSA"
   },
   "source": [
    "Looking at the plot of the confusion matrix, we have the predicted labels on the x-axis and the true labels on the y-axis. The blue cells running from the top left to bottom right contain the number of samples that the model accurately predicted. The white cells contain the number of samples that were incorrectly predicted.\n",
    "\n",
    "There are 420 total samples in the test set. Looking at the confusion matrix, we can see that the model accurately predicted 399 out of 420 total samples. The model incorrectly predicted 21 out of the 420.\n",
    "\n",
    "For the samples the model got correct, we can see that it accurately predicted that the patients would experience no side effects 199 times. It incorrectly predicted that the patient would have no side effects 10 times when the patient did actually experience side effects.\n",
    "\n",
    "On the other side, the model accurately predicted that the patient would experience side effects 200 times that the patient did indeed experience side effects. It incorrectly predicted that the patient would have side effects 11 times when the patient actually did not experience side effects.\n",
    "\n",
    "As you can see, this is a good way we can visually interpret how well the model is doing at its predictions and understand where it may need some work."
   ]
  },
  {
   "cell_type": "markdown",
   "metadata": {
    "colab_type": "text",
    "id": "-7oqZyZDsM2_"
   },
   "source": [
    "### Save And Load A Model With TensorFlow's Keras API\n",
    "\n",
    "There are a few different ways to save a Keras model. The multiple mechanisms each save the model differently, so we'll check them all out.\n",
    "\n",
    "#### Saving And Loading The Model In Its Entirety\n",
    "\n",
    "If we want to save a model at its current state after it was trained so that we could make use of it later, we can call the save() function on the model. To save(), we pass in the file path and name of the file we want to save the model to with an h5 extension.\n",
    "\n"
   ]
  },
  {
   "cell_type": "code",
   "execution_count": 36,
   "metadata": {
    "colab": {
     "base_uri": "https://localhost:8080/",
     "height": 272
    },
    "colab_type": "code",
    "id": "IzjJUhCVsVh0",
    "outputId": "7cf7f552-7de0-41a3-bb25-f65046ea5479"
   },
   "outputs": [
    {
     "name": "stdout",
     "output_type": "stream",
     "text": [
      "Model: \"sequential_1\"\n",
      "_________________________________________________________________\n",
      "Layer (type)                 Output Shape              Param #   \n",
      "=================================================================\n",
      "dense_3 (Dense)              (None, 16)                32        \n",
      "_________________________________________________________________\n",
      "dense_4 (Dense)              (None, 32)                544       \n",
      "_________________________________________________________________\n",
      "dense_5 (Dense)              (None, 2)                 66        \n",
      "=================================================================\n",
      "Total params: 642\n",
      "Trainable params: 642\n",
      "Non-trainable params: 0\n",
      "_________________________________________________________________\n"
     ]
    }
   ],
   "source": [
    "model.summary()"
   ]
  },
  {
   "cell_type": "code",
   "execution_count": 38,
   "metadata": {
    "colab": {},
    "colab_type": "code",
    "id": "h1Tx__hNrTsG"
   },
   "outputs": [],
   "source": [
    "model.save(filepath='./data/models/medical_trial_model.h5', overwrite=True, include_optimizer=True)"
   ]
  },
  {
   "cell_type": "markdown",
   "metadata": {
    "colab_type": "text",
    "id": "0AE-5UyyswvM"
   },
   "source": [
    "Note, this function also allows for saving the model as a Tensorflow SavedModel as well if you'd prefer.\n",
    "\n",
    "This method of saving will save everything about the model – the architecture, the weights, the optimizer, the state of the optimizer, the learning rate, the loss, etc.\n",
    "\n",
    "Now that we have this model saved, we can load the model at a later time.\n",
    "\n",
    "To do so, we first import the load_model() function. Then, we can call the function to load the model by pointing to the saved model on disk."
   ]
  },
  {
   "cell_type": "code",
   "execution_count": 39,
   "metadata": {
    "colab": {},
    "colab_type": "code",
    "id": "HCJWjHcFshsU"
   },
   "outputs": [],
   "source": [
    "from tensorflow.keras.models import load_model\n",
    "loaded_model = load_model(filepath='./data/models/medical_trial_model.h5')"
   ]
  },
  {
   "cell_type": "markdown",
   "metadata": {
    "colab_type": "text",
    "id": "OuEjEhFRs_Ac"
   },
   "source": [
    "We can verify that the loaded model has the same architecture and weights as the saved model by calling summary() and get_weights() on the model.\n",
    "\n"
   ]
  },
  {
   "cell_type": "code",
   "execution_count": 40,
   "metadata": {
    "colab": {
     "base_uri": "https://localhost:8080/",
     "height": 272
    },
    "colab_type": "code",
    "id": "AdlVTyxws12n",
    "outputId": "acc956f0-4ab3-4d80-c397-98f7bf263d62"
   },
   "outputs": [
    {
     "name": "stdout",
     "output_type": "stream",
     "text": [
      "Model: \"sequential_1\"\n",
      "_________________________________________________________________\n",
      "Layer (type)                 Output Shape              Param #   \n",
      "=================================================================\n",
      "dense_3 (Dense)              (None, 16)                32        \n",
      "_________________________________________________________________\n",
      "dense_4 (Dense)              (None, 32)                544       \n",
      "_________________________________________________________________\n",
      "dense_5 (Dense)              (None, 2)                 66        \n",
      "=================================================================\n",
      "Total params: 642\n",
      "Trainable params: 642\n",
      "Non-trainable params: 0\n",
      "_________________________________________________________________\n"
     ]
    }
   ],
   "source": [
    "loaded_model.summary()"
   ]
  },
  {
   "cell_type": "code",
   "execution_count": 41,
   "metadata": {
    "colab": {
     "base_uri": "https://localhost:8080/",
     "height": 126
    },
    "colab_type": "code",
    "id": "cKK1gY6EtBVT",
    "outputId": "65f9f0a3-a1cd-4eff-d457-cd7899dce906"
   },
   "outputs": [
    {
     "name": "stdout",
     "output_type": "stream",
     "text": [
      "(1, 16)\n",
      "(16,)\n",
      "(16, 32)\n",
      "(32,)\n",
      "(32, 2)\n",
      "(2,)\n"
     ]
    }
   ],
   "source": [
    "for wt_ in loaded_model.get_weights():\n",
    "    print (wt_.shape)"
   ]
  },
  {
   "cell_type": "markdown",
   "metadata": {
    "colab_type": "text",
    "id": "niH4XMN0tS_k"
   },
   "source": [
    "#### How did we arrive at 642 trainable params:\n",
    "\n",
    "1. 1 ip. Then 1 hidden layer with 16 nodes. So 16 connections (wts) and 16 (biases): `16x2`\n",
    "\n",
    "2. Next layer has 32 nodes. `16*32` wts + 32 biases: `(16*32)+32`\n",
    "\n",
    "3. Last layer has 2 nodes. So `32*2` wts + 2 biases: `32*2+2`\n",
    "\n",
    "`16*2 + (16*32)+32 + (32*2)+2 = 642`"
   ]
  },
  {
   "cell_type": "markdown",
   "metadata": {
    "colab_type": "text",
    "id": "5SroxgOBtnCj"
   },
   "source": [
    "We can also inspect attributes about the model, like the optimizer and loss by calling model.optimizer and model.loss on the loaded model and compare the results to the previously saved model.\n",
    "\n",
    "This is the most encompassing way to save and load a model.\n",
    "\n",
    "#### Saving And Loading Only The Architecture Of The Model\n",
    "\n",
    "There is another way we save only the architecture of the model. **This will not save the model weights, configurations, optimizer, loss or anything else. This only saves the architecture of the model.**\n",
    "\n",
    "We can do this by calling model.to_json(). This will save the architecture of the model as a JSON string. If we print out the string, we can see exactly what this looks like.\n",
    "\n"
   ]
  },
  {
   "cell_type": "code",
   "execution_count": 42,
   "metadata": {
    "colab": {
     "base_uri": "https://localhost:8080/",
     "height": 108
    },
    "colab_type": "code",
    "id": "uWeUcKDttEd5",
    "outputId": "334a1878-592d-460a-f79b-9708b820d497"
   },
   "outputs": [
    {
     "data": {
      "text/plain": [
       "'{\"class_name\": \"Sequential\", \"config\": {\"name\": \"sequential_1\", \"layers\": [{\"class_name\": \"Dense\", \"config\": {\"name\": \"dense_3\", \"trainable\": true, \"batch_input_shape\": [null, 1], \"dtype\": \"float32\", \"units\": 16, \"activation\": \"relu\", \"use_bias\": true, \"kernel_initializer\": {\"class_name\": \"GlorotUniform\", \"config\": {\"seed\": null}}, \"bias_initializer\": {\"class_name\": \"Zeros\", \"config\": {}}, \"kernel_regularizer\": null, \"bias_regularizer\": null, \"activity_regularizer\": null, \"kernel_constraint\": null, \"bias_constraint\": null}}, {\"class_name\": \"Dense\", \"config\": {\"name\": \"dense_4\", \"trainable\": true, \"dtype\": \"float32\", \"units\": 32, \"activation\": \"relu\", \"use_bias\": true, \"kernel_initializer\": {\"class_name\": \"GlorotUniform\", \"config\": {\"seed\": null}}, \"bias_initializer\": {\"class_name\": \"Zeros\", \"config\": {}}, \"kernel_regularizer\": null, \"bias_regularizer\": null, \"activity_regularizer\": null, \"kernel_constraint\": null, \"bias_constraint\": null}}, {\"class_name\": \"Dense\", \"config\": {\"name\": \"dense_5\", \"trainable\": true, \"dtype\": \"float32\", \"units\": 2, \"activation\": \"softmax\", \"use_bias\": true, \"kernel_initializer\": {\"class_name\": \"GlorotUniform\", \"config\": {\"seed\": null}}, \"bias_initializer\": {\"class_name\": \"Zeros\", \"config\": {}}, \"kernel_regularizer\": null, \"bias_regularizer\": null, \"activity_regularizer\": null, \"kernel_constraint\": null, \"bias_constraint\": null}}]}, \"keras_version\": \"2.2.4-tf\", \"backend\": \"tensorflow\"}'"
      ]
     },
     "execution_count": 42,
     "metadata": {},
     "output_type": "execute_result"
    }
   ],
   "source": [
    "json_string = model.to_json()\n",
    "json_string"
   ]
  },
  {
   "cell_type": "markdown",
   "metadata": {
    "colab_type": "text",
    "id": "Yg7gD4WGt3bE"
   },
   "source": [
    "Now that we have this saved, we can create a new model from it. First we’ll import the needed model_from_json function, and then we can load the model architecture.\n",
    "\n"
   ]
  },
  {
   "cell_type": "code",
   "execution_count": 43,
   "metadata": {
    "colab": {
     "base_uri": "https://localhost:8080/",
     "height": 272
    },
    "colab_type": "code",
    "id": "88rMgTqut1VC",
    "outputId": "e67f6b88-b25f-4666-d459-763e28b2ccc6"
   },
   "outputs": [
    {
     "name": "stdout",
     "output_type": "stream",
     "text": [
      "Model: \"sequential_1\"\n",
      "_________________________________________________________________\n",
      "Layer (type)                 Output Shape              Param #   \n",
      "=================================================================\n",
      "dense_3 (Dense)              (None, 16)                32        \n",
      "_________________________________________________________________\n",
      "dense_4 (Dense)              (None, 32)                544       \n",
      "_________________________________________________________________\n",
      "dense_5 (Dense)              (None, 2)                 66        \n",
      "=================================================================\n",
      "Total params: 642\n",
      "Trainable params: 642\n",
      "Non-trainable params: 0\n",
      "_________________________________________________________________\n"
     ]
    }
   ],
   "source": [
    "from tensorflow.keras.models import model_from_json\n",
    "model_architecture = model_from_json(json_string)\n",
    "model_architecture.summary()\n"
   ]
  },
  {
   "cell_type": "code",
   "execution_count": 44,
   "metadata": {
    "colab": {
     "base_uri": "https://localhost:8080/",
     "height": 90
    },
    "colab_type": "code",
    "id": "KWL4TH8HuHQ7",
    "outputId": "45e7a1dd-f69c-4783-e789-cc802c349828"
   },
   "outputs": [
    {
     "data": {
      "text/plain": [
       "array([[ 0.3678811 ,  0.31379175,  0.60994935, -0.0164752 ,  0.10138404,\n",
       "         0.63157636,  0.6832214 ,  0.39684886, -0.32360592, -0.01685619,\n",
       "         0.14190254,  0.15136394,  0.00200804,  0.37629166,  0.48280063,\n",
       "        -0.14148325]], dtype=float32)"
      ]
     },
     "execution_count": 44,
     "metadata": {},
     "output_type": "execute_result"
    }
   ],
   "source": [
    "model.get_weights()[0][:10]"
   ]
  },
  {
   "cell_type": "code",
   "execution_count": 45,
   "metadata": {
    "colab": {
     "base_uri": "https://localhost:8080/",
     "height": 90
    },
    "colab_type": "code",
    "id": "qLyczwEot65s",
    "outputId": "86cb42ec-e05e-4c10-addb-51e3ae94faa5"
   },
   "outputs": [
    {
     "data": {
      "text/plain": [
       "array([[-0.5501238 , -0.06719983,  0.07118702, -0.11006641, -0.1526109 ,\n",
       "        -0.38192594, -0.09217268,  0.2029981 ,  0.10282749, -0.23608181,\n",
       "        -0.30486915,  0.28960156,  0.01306462, -0.54361564, -0.50872093,\n",
       "         0.29798478]], dtype=float32)"
      ]
     },
     "execution_count": 45,
     "metadata": {},
     "output_type": "execute_result"
    }
   ],
   "source": [
    "model_architecture.get_weights()[0][:10]"
   ]
  },
  {
   "cell_type": "markdown",
   "metadata": {
    "colab_type": "text",
    "id": "tZRaZTjDuNeL"
   },
   "source": [
    "As we can see the wts are diff as the `model_architecture` weights are untrained and initialized to random"
   ]
  },
  {
   "cell_type": "code",
   "execution_count": 46,
   "metadata": {
    "colab": {
     "base_uri": "https://localhost:8080/",
     "height": 35
    },
    "colab_type": "code",
    "id": "gpviE4dzt97A",
    "outputId": "e50fe1f7-adca-46d8-fdc9-2ec9f649d886"
   },
   "outputs": [
    {
     "name": "stdout",
     "output_type": "stream",
     "text": [
      "No loss/optimizer found\n"
     ]
    }
   ],
   "source": [
    "try:\n",
    "    print (model_architecture.loss, model_architecture.optimizer)\n",
    "except AttributeError:\n",
    "    print (\"No loss/optimizer found\")"
   ]
  },
  {
   "cell_type": "code",
   "execution_count": 47,
   "metadata": {
    "colab": {
     "base_uri": "https://localhost:8080/",
     "height": 35
    },
    "colab_type": "code",
    "id": "rI7pV1tSuVxR",
    "outputId": "2b58c885-bfda-451f-9950-82600db79101"
   },
   "outputs": [
    {
     "data": {
      "text/plain": [
       "'sparse_categorical_crossentropy'"
      ]
     },
     "execution_count": 47,
     "metadata": {},
     "output_type": "execute_result"
    }
   ],
   "source": [
    "model.loss"
   ]
  },
  {
   "cell_type": "markdown",
   "metadata": {
    "colab_type": "text",
    "id": "zm8xafmMus3r"
   },
   "source": [
    "#### Saving And Loading The Weights Of The Model\n",
    "\n",
    "The last saving mechanism we’ll discuss only saves the weights of the model.\n",
    "\n",
    "We can do this by calling model.save_weights() and passing in the path and file name to save the weights to with an h5 extension.\n",
    "\n"
   ]
  },
  {
   "cell_type": "code",
   "execution_count": 49,
   "metadata": {
    "colab": {},
    "colab_type": "code",
    "id": "AkpL-1NVuZsR"
   },
   "outputs": [],
   "source": [
    "model.save_weights(filepath='./data/models/medical_trial_model_weights.h5')"
   ]
  },
  {
   "cell_type": "markdown",
   "metadata": {
    "colab_type": "text",
    "id": "JdszZZ0pu7hk"
   },
   "source": [
    "At a later point, we could then load the saved weights in to a new model, but the new model will need to have the same architecture as the old model before the weights can be saved.\n",
    "\n"
   ]
  },
  {
   "cell_type": "code",
   "execution_count": 51,
   "metadata": {
    "colab": {},
    "colab_type": "code",
    "id": "4Zd6aF8lu6Ul"
   },
   "outputs": [],
   "source": [
    "new_model_without_wts = Sequential([\n",
    "    Dense(units=16, input_shape=(1,), activation='relu'),\n",
    "    Dense(units=32, activation='relu'),\n",
    "    Dense(units=2, activation='softmax')\n",
    "])\n",
    "\n",
    "new_model_without_wts.load_weights('./data/models/medical_trial_model_weights.h5')"
   ]
  },
  {
   "cell_type": "code",
   "execution_count": 52,
   "metadata": {
    "colab": {
     "base_uri": "https://localhost:8080/",
     "height": 90
    },
    "colab_type": "code",
    "id": "Z2g8RouevIsL",
    "outputId": "7c62851f-bf1d-4751-e713-37d1edc74d49"
   },
   "outputs": [
    {
     "data": {
      "text/plain": [
       "array([[ 0.3678811 ,  0.31379175,  0.60994935, -0.0164752 ,  0.10138404,\n",
       "         0.63157636,  0.6832214 ,  0.39684886, -0.32360592, -0.01685619,\n",
       "         0.14190254,  0.15136394,  0.00200804,  0.37629166,  0.48280063,\n",
       "        -0.14148325]], dtype=float32)"
      ]
     },
     "execution_count": 52,
     "metadata": {},
     "output_type": "execute_result"
    }
   ],
   "source": [
    "new_model_without_wts.get_weights()[0][:10]"
   ]
  },
  {
   "cell_type": "code",
   "execution_count": 53,
   "metadata": {
    "colab": {
     "base_uri": "https://localhost:8080/",
     "height": 90
    },
    "colab_type": "code",
    "id": "8bDeyc6LvLhA",
    "outputId": "c2723318-e673-49e7-fedb-093613ff4402"
   },
   "outputs": [
    {
     "data": {
      "text/plain": [
       "array([[ 0.3678811 ,  0.31379175,  0.60994935, -0.0164752 ,  0.10138404,\n",
       "         0.63157636,  0.6832214 ,  0.39684886, -0.32360592, -0.01685619,\n",
       "         0.14190254,  0.15136394,  0.00200804,  0.37629166,  0.48280063,\n",
       "        -0.14148325]], dtype=float32)"
      ]
     },
     "execution_count": 53,
     "metadata": {},
     "output_type": "execute_result"
    }
   ],
   "source": [
    "model.get_weights()[0][:10]"
   ]
  },
  {
   "cell_type": "code",
   "execution_count": 54,
   "metadata": {
    "colab": {
     "base_uri": "https://localhost:8080/",
     "height": 90
    },
    "colab_type": "code",
    "id": "fDf3O5sRvNrd",
    "outputId": "1a0cf867-f96f-4d9b-8516-5a3b15756190"
   },
   "outputs": [
    {
     "data": {
      "text/plain": [
       "array([[ 0.3678811 ,  0.31379175,  0.60994935, -0.0164752 ,  0.10138404,\n",
       "         0.63157636,  0.6832214 ,  0.39684886, -0.32360592, -0.01685619,\n",
       "         0.14190254,  0.15136394,  0.00200804,  0.37629166,  0.48280063,\n",
       "        -0.14148325]], dtype=float32)"
      ]
     },
     "execution_count": 54,
     "metadata": {},
     "output_type": "execute_result"
    }
   ],
   "source": [
    "loaded_model.get_weights()[0][:10]"
   ]
  },
  {
   "cell_type": "markdown",
   "metadata": {
    "colab_type": "text",
    "id": "6yV9RNvVvSPk"
   },
   "source": [
    "All 3 are equal as expected\n",
    "\n",
    "> We’ve now seen how to save only the weights of a model and deploy those weights to a new model, how to save only the architecture and then deploy that architecture to a model, and how to save everything about a model and deploy it in its entirety at a later time. Each of these saving and loading mechanisms may come in useful in differing scenarios.\n",
    "\n"
   ]
  },
  {
   "cell_type": "markdown",
   "metadata": {},
   "source": [
    "### Image Preparation For A Convolutional Neural Network With TensorFlow's Keras API\n"
   ]
  },
  {
   "cell_type": "code",
   "execution_count": 2,
   "metadata": {
    "colab": {},
    "colab_type": "code",
    "id": "HZ894UAOvQxo"
   },
   "outputs": [],
   "source": [
    "import numpy as np\n",
    "import tensorflow as tf\n",
    "from tensorflow import keras\n",
    "from tensorflow.keras.models import Sequential\n",
    "from tensorflow.keras.layers import Activation, Dense, Flatten, BatchNormalization, Conv2D, MaxPool2D\n",
    "from tensorflow.keras.optimizers import Adam\n",
    "from tensorflow.keras.metrics import categorical_crossentropy\n",
    "from tensorflow.keras.preprocessing.image import ImageDataGenerator\n",
    "from sklearn.metrics import confusion_matrix\n",
    "import itertools\n",
    "import os\n",
    "import shutil\n",
    "import random\n",
    "import glob\n",
    "import matplotlib.pyplot as plt\n",
    "import warnings\n",
    "warnings.simplefilter(action='ignore', category=FutureWarning)\n",
    "%matplotlib inline"
   ]
  },
  {
   "cell_type": "markdown",
   "metadata": {},
   "source": [
    "Using the script below, we'll organize our data into train, validation, and test sets. We'll do this by moving subsets of the data into sub-directories for each separate data set.\n",
    "Our main data is in the `/data/train` subdirectory"
   ]
  },
  {
   "cell_type": "code",
   "execution_count": 3,
   "metadata": {},
   "outputs": [
    {
     "name": "stdout",
     "output_type": "stream",
     "text": [
      "C:\\Users\\shaun\\Documents\\my_projects\\Deep-Learning\\Deep Learning with Keras and Tensorflow\\Deeplizard Tensorflow Course\\data\n",
      "C:\\Users\\shaun\\Documents\\my_projects\\Deep-Learning\\Deep Learning with Keras and Tensorflow\\Deeplizard Tensorflow Course\n"
     ]
    }
   ],
   "source": [
    "os.chdir(path='C:/Users/shaun/Documents/my_projects/Deep-Learning/Deep Learning with Keras and Tensorflow/Deeplizard Tensorflow Course/data/')\n",
    "print (os.getcwd())\n",
    "### make a bunch of directories inside the train directory\n",
    "if os.path.isdir('train/dog') is False:\n",
    "    os.makedirs('train/dog')\n",
    "    os.makedirs('train/cat')\n",
    "    os.makedirs('valid/dog')\n",
    "    os.makedirs('valid/cat')\n",
    "    os.makedirs('test/dog')\n",
    "    os.makedirs('test/cat')\n",
    "    \n",
    "    for i in random.sample(glob.glob('train/cat*'), 500):\n",
    "        shutil.move(i, 'train/cat')      \n",
    "    for i in random.sample(glob.glob('train/dog*'), 500):\n",
    "        shutil.move(i, 'train/dog')\n",
    "    for i in random.sample(glob.glob('train/cat*'), 100):\n",
    "        shutil.move(i, 'valid/cat')        \n",
    "    for i in random.sample(glob.glob('train/dog*'), 100):\n",
    "        shutil.move(i, 'valid/dog')\n",
    "    for i in random.sample(glob.glob('train/cat*'), 50):\n",
    "        shutil.move(i, 'test/cat')      \n",
    "    for i in random.sample(glob.glob('train/dog*'), 50):\n",
    "        shutil.move(i, 'test/dog')\n",
    "        \n",
    "    print ('Moved the data to appropriate directories... Delete the rest')\n",
    "os.chdir('..')\n",
    "print (os.getcwd())"
   ]
  },
  {
   "cell_type": "markdown",
   "metadata": {},
   "source": [
    "We first check to see if the directory structure is already in place. If it's not, we proceed with the script. The script first makes train, valid, and test directories, which each contain sub-directories called dog and cat.\n",
    "\n",
    "The full data set contains 25,000 images, half of which are cats, and half are dogs. We don't need nearly this much data for the tasks we'll be carrying out, so we're going to work with a subset. The remainder of the script moves 1000 samples into the training set, 200 samples into the validation set, and 100 samples into the test set. Each set has have an equal amount of cats and dogs.\n",
    "\n",
    "The remainder of the unused data will remain in the base `data/train` directory. Feel free to remove this data if you'd like.\n",
    "\n",
    "#### Process The Data\n",
    "\n",
    "We've already imported all the TensorFlow and Keras modules above. If you're using a GPU (not required), then we can check to be sure that TensorFlow is able to identify the GPU using the code below. "
   ]
  },
  {
   "cell_type": "code",
   "execution_count": 25,
   "metadata": {},
   "outputs": [
    {
     "name": "stdout",
     "output_type": "stream",
     "text": [
      "Num GPUs Available:  1\n"
     ]
    }
   ],
   "source": [
    "physical_devices = tf.config.experimental.list_physical_devices('GPU')\n",
    "print(\"Num GPUs Available: \", len(physical_devices))\n",
    "tf.config.experimental.set_memory_growth(physical_devices[0], True)"
   ]
  },
  {
   "cell_type": "markdown",
   "metadata": {},
   "source": [
    "We then create variables for which the the paths to the train, valid, and test data directories are assigned."
   ]
  },
  {
   "cell_type": "code",
   "execution_count": 5,
   "metadata": {},
   "outputs": [],
   "source": [
    "train_path = 'data/train'\n",
    "valid_path = 'data/valid'\n",
    "test_path = 'data/test'"
   ]
  },
  {
   "cell_type": "markdown",
   "metadata": {},
   "source": [
    "We can either specify an absolute path or a relative path relative to where our Jupyter notebook resides. I'm specifying the relative path.\n",
    "\n",
    "Now, we use Keras' `ImageDataGenerator` class to create batches of data from the train, valid, and test directories.\n",
    "\n"
   ]
  },
  {
   "cell_type": "code",
   "execution_count": 6,
   "metadata": {},
   "outputs": [
    {
     "name": "stdout",
     "output_type": "stream",
     "text": [
      "Found 1000 images belonging to 2 classes.\n",
      "Found 200 images belonging to 2 classes.\n",
      "Found 100 images belonging to 2 classes.\n"
     ]
    }
   ],
   "source": [
    "train_batches = ImageDataGenerator(preprocessing_function=tf.keras.applications.vgg16.preprocess_input).flow_from_directory(directory=train_path, target_size=(224, 224), classes=['cat', 'dog'], batch_size=10)\n",
    "valid_batches = ImageDataGenerator(preprocessing_function=tf.keras.applications.vgg16.preprocess_input).flow_from_directory(directory=valid_path, target_size=(224, 224), classes=['cat', 'dog'], batch_size=10)\n",
    "test_batches = ImageDataGenerator(preprocessing_function=tf.keras.applications.vgg16.preprocess_input).flow_from_directory(directory=test_path, target_size=(224, 224), classes=['cat', 'dog'], batch_size=10, shuffle=False)"
   ]
  },
  {
   "cell_type": "markdown",
   "metadata": {},
   "source": [
    "ImageDataGenerator.flow_from_directory() creates a DirectoryIterator, which generates batches of normalized tensor image data from the respective data directories.\n",
    "\n",
    "Notice, to ImageDataGenerator for each of the data sets, we specify preprocessing_function=tf.keras.applications.vgg16.preprocess_input. For now, just understand this does an additional processing step on the images. We'll cover what exactly this processing is when we work with the pre-trained VGG16 CNN in a future episode.\n",
    "\n",
    "To flow_from_directory(), we first specify the path for the data. We then specify the target_size of the images, which will resize all images to the specified size. The size we specify here is determined by the input size that the neural network expects.\n",
    "\n",
    "The classes parameter expects a list that contains the underlying class names, and lastly, we specify the batch_size.\n",
    "\n",
    "We also specify shuffle=False only for test_batches. That's because, later when we plot the evaluation results from the model to a confusion matrix, we'll need to able to access the unshuffled labels for the test set. By default, the data sets are shuffled.\n",
    "\n",
    "Note, in the case where you do not know the labels for the test data, you will need to modify the test_batches variable. Specifically, the change will be to set the parameters classes = None and class_mode = None in flow_from_directory().\n",
    "\n"
   ]
  },
  {
   "cell_type": "markdown",
   "metadata": {},
   "source": [
    "### Visualize The Data\n",
    "\n",
    "We now call next(train_batches) to generate a batch of images and labels from the training set. Note that the size of this batch is determined by the batch_size we set when we created train_batches."
   ]
  },
  {
   "cell_type": "code",
   "execution_count": 7,
   "metadata": {},
   "outputs": [],
   "source": [
    "import sys\n",
    "from PIL import Image\n",
    "sys.modules['Image'] = Image "
   ]
  },
  {
   "cell_type": "code",
   "execution_count": 8,
   "metadata": {},
   "outputs": [
    {
     "name": "stdout",
     "output_type": "stream",
     "text": [
      "c:\\users\\shaun\\documents\\my_projects\\gpu_acclerated\\lib\\site-packages\\PIL\\Image.py\n"
     ]
    }
   ],
   "source": [
    "from PIL import Image\n",
    "print(Image.__file__)"
   ]
  },
  {
   "cell_type": "code",
   "execution_count": 9,
   "metadata": {},
   "outputs": [
    {
     "name": "stdout",
     "output_type": "stream",
     "text": [
      "c:\\users\\shaun\\documents\\my_projects\\gpu_acclerated\\lib\\site-packages\\PIL\\Image.py\n"
     ]
    }
   ],
   "source": [
    "import Image\n",
    "print(Image.__file__)"
   ]
  },
  {
   "cell_type": "code",
   "execution_count": 10,
   "metadata": {},
   "outputs": [
    {
     "name": "stdout",
     "output_type": "stream",
     "text": [
      "(10, 224, 224, 3)\n",
      "(10, 2)\n",
      "[[0. 1.]\n",
      " [0. 1.]\n",
      " [0. 1.]\n",
      " [0. 1.]\n",
      " [1. 0.]\n",
      " [0. 1.]\n",
      " [1. 0.]\n",
      " [1. 0.]\n",
      " [1. 0.]\n",
      " [1. 0.]]\n"
     ]
    }
   ],
   "source": [
    "imgs, labels = next(train_batches)\n",
    "print (imgs.shape) ## batch_size, ht, width, channels\n",
    "print (labels.shape)\n",
    "print (labels)"
   ]
  },
  {
   "cell_type": "code",
   "execution_count": 11,
   "metadata": {},
   "outputs": [],
   "source": [
    "def plotImages(images_arr):\n",
    "    fig, axes = plt.subplots(1, 10, figsize=(20,20))\n",
    "    axes = axes.flatten()\n",
    "    for img, ax in zip( images_arr, axes):\n",
    "        ax.imshow(img)\n",
    "        ax.axis('off')\n",
    "    plt.tight_layout()\n",
    "    plt.show()"
   ]
  },
  {
   "cell_type": "code",
   "execution_count": 12,
   "metadata": {},
   "outputs": [
    {
     "name": "stderr",
     "output_type": "stream",
     "text": [
      "Clipping input data to the valid range for imshow with RGB data ([0..1] for floats or [0..255] for integers).\n",
      "Clipping input data to the valid range for imshow with RGB data ([0..1] for floats or [0..255] for integers).\n",
      "Clipping input data to the valid range for imshow with RGB data ([0..1] for floats or [0..255] for integers).\n",
      "Clipping input data to the valid range for imshow with RGB data ([0..1] for floats or [0..255] for integers).\n",
      "Clipping input data to the valid range for imshow with RGB data ([0..1] for floats or [0..255] for integers).\n",
      "Clipping input data to the valid range for imshow with RGB data ([0..1] for floats or [0..255] for integers).\n",
      "Clipping input data to the valid range for imshow with RGB data ([0..1] for floats or [0..255] for integers).\n",
      "Clipping input data to the valid range for imshow with RGB data ([0..1] for floats or [0..255] for integers).\n",
      "Clipping input data to the valid range for imshow with RGB data ([0..1] for floats or [0..255] for integers).\n",
      "Clipping input data to the valid range for imshow with RGB data ([0..1] for floats or [0..255] for integers).\n"
     ]
    },
    {
     "data": {
      "image/png": "[encoded data removed]",
      "text/plain": [
       "<Figure size 1440x1440 with 10 Axes>"
      ]
     },
     "metadata": {
      "needs_background": "light"
     },
     "output_type": "display_data"
    },
    {
     "name": "stdout",
     "output_type": "stream",
     "text": [
      "[[0. 1.]\n",
      " [0. 1.]\n",
      " [0. 1.]\n",
      " [0. 1.]\n",
      " [1. 0.]\n",
      " [0. 1.]\n",
      " [1. 0.]\n",
      " [1. 0.]\n",
      " [1. 0.]\n",
      " [1. 0.]]\n"
     ]
    }
   ],
   "source": [
    "plotImages(imgs)\n",
    "print(labels)"
   ]
  },
  {
   "cell_type": "markdown",
   "metadata": {},
   "source": [
    "This is what the first processed random batch from the training set looks like. Notice that the color appears to be distorted. This has to do with the VGG16 processing we applied to the data sets, which we'll talk about in an upcoming episode. Don't worry about it for now, just know that the RGB pixel data has been processed in such a way that the image data now looks like this before being passed to the network.\n",
    "\n",
    "Note that dogs are represented with the one-hot encoding of `[0,1]`, and cats are represented by `[1,0]`."
   ]
  },
  {
   "cell_type": "markdown",
   "metadata": {},
   "source": [
    "### Build And Train A Convolutional Neural Network With TensorFlow's Keras API"
   ]
  },
  {
   "cell_type": "code",
   "execution_count": 13,
   "metadata": {},
   "outputs": [],
   "source": [
    "model = Sequential(layers=[\n",
    "    Conv2D(filters=32, kernel_size=(3,3), activation='relu', padding='same', input_shape=(224,224,3)),\n",
    "    MaxPool2D(pool_size=(2,2), strides=2),\n",
    "    Conv2D(filters=64, kernel_size=(3,3), activation='relu', padding='same'),\n",
    "    MaxPool2D(pool_size=(2,2), strides=2),\n",
    "    Flatten(),\n",
    "    Dense(units=2, activation='softmax')\n",
    "])"
   ]
  },
  {
   "cell_type": "code",
   "execution_count": 14,
   "metadata": {},
   "outputs": [
    {
     "name": "stdout",
     "output_type": "stream",
     "text": [
      "Model: \"sequential\"\n",
      "_________________________________________________________________\n",
      "Layer (type)                 Output Shape              Param #   \n",
      "=================================================================\n",
      "conv2d (Conv2D)              (None, 224, 224, 32)      896       \n",
      "_________________________________________________________________\n",
      "max_pooling2d (MaxPooling2D) (None, 112, 112, 32)      0         \n",
      "_________________________________________________________________\n",
      "conv2d_1 (Conv2D)            (None, 112, 112, 64)      18496     \n",
      "_________________________________________________________________\n",
      "max_pooling2d_1 (MaxPooling2 (None, 56, 56, 64)        0         \n",
      "_________________________________________________________________\n",
      "flatten (Flatten)            (None, 200704)            0         \n",
      "_________________________________________________________________\n",
      "dense (Dense)                (None, 2)                 401410    \n",
      "=================================================================\n",
      "Total params: 420,802\n",
      "Trainable params: 420,802\n",
      "Non-trainable params: 0\n",
      "_________________________________________________________________\n"
     ]
    }
   ],
   "source": [
    "model.summary()"
   ]
  },
  {
   "cell_type": "markdown",
   "metadata": {},
   "source": [
    "- Note how the image size in the conv layers are preserved because we have applied zero padding by `padding=same`\n",
    "\n",
    "- Also notice how in MaxPool the size is halved\n",
    "\n",
    "- Finally, see how the number of filters == no of output channels as each filter creates a new feature map by convolving the input image\n",
    "\n",
    "We Flatten the output from the convolutional layer and pass it to a Dense layer. This Dense layer is the output layer of the network, and so it has 2 nodes, one for cat and one for dog. We’ll use the softmax activation function on our output so that the output for each sample is a probability distribution over the outputs of cat and dog."
   ]
  },
  {
   "cell_type": "code",
   "execution_count": 15,
   "metadata": {},
   "outputs": [],
   "source": [
    "model.compile(optimizer=Adam(learning_rate=0.0001), loss='categorical_crossentropy', metrics=['accuracy'])"
   ]
  },
  {
   "cell_type": "markdown",
   "metadata": {},
   "source": [
    "Note that when we have only two classes, we could instead configure our output layer to have only one output, rather than two, and use binary_crossentropy as our loss, rather than categorical_crossentropy. Both options work equally well and achieve the exact same result.\n",
    "\n",
    "With binary_crossentropy, however, the last layer would need to use sigmoid, rather than softmax, as its activation function.\n",
    "\n",
    "Note that when we have only two classes, we could instead configure our output layer to have only one output, rather than two, and use binary_crossentropy as our loss, rather than categorical_crossentropy. Both options work equally well and achieve the exact same result.\n",
    "\n",
    "With binary_crossentropy, however, the last layer would need to use sigmoid, rather than softmax, as its activation function.\n",
    "\n",
    "#### Train A Simple CNN\n",
    "\n",
    "We've already introduced the model.fit() function to train a model in a previous episode. We'll be using it in the same fashion here, except for now, we'll be passing in our newly introduced DirectoryIterators train_batches and valid_batches to train and validate the model. Recall, these were created in the last episode."
   ]
  },
  {
   "cell_type": "code",
   "execution_count": 23,
   "metadata": {},
   "outputs": [
    {
     "name": "stdout",
     "output_type": "stream",
     "text": [
      "100 20 10 10\n",
      "Total train size = 1000\n",
      "Total valid size = 200\n"
     ]
    }
   ],
   "source": [
    "print (len(train_batches), len(valid_batches), len(next(train_batches)[0]), len(next(valid_batches)[0])) # batch size of training data, batch size of valid data\n",
    "\n",
    "print (f'Total train size = {len(train_batches)*len(next(train_batches)[0])}')\n",
    "print (f'Total valid size = {len(valid_batches)*len(next(valid_batches)[0])}')"
   ]
  },
  {
   "cell_type": "code",
   "execution_count": 24,
   "metadata": {},
   "outputs": [
    {
     "name": "stdout",
     "output_type": "stream",
     "text": [
      "WARNING:tensorflow:sample_weight modes were coerced from\n",
      "  ...\n",
      "    to  \n",
      "  ['...']\n",
      "WARNING:tensorflow:sample_weight modes were coerced from\n",
      "  ...\n",
      "    to  \n",
      "  ['...']\n",
      "Train for 100 steps, validate for 20 steps\n",
      "Epoch 1/10\n",
      "100/100 - 14s - loss: 15.1006 - accuracy: 0.5550 - val_loss: 10.5085 - val_accuracy: 0.4950\n",
      "Epoch 2/10\n",
      "100/100 - 6s - loss: 2.6061 - accuracy: 0.7370 - val_loss: 5.7212 - val_accuracy: 0.5500\n",
      "Epoch 3/10\n",
      "100/100 - 6s - loss: 1.0592 - accuracy: 0.8280 - val_loss: 2.2772 - val_accuracy: 0.6550\n",
      "Epoch 4/10\n",
      "100/100 - 6s - loss: 0.5049 - accuracy: 0.9010 - val_loss: 3.9015 - val_accuracy: 0.6000\n",
      "Epoch 5/10\n",
      "100/100 - 6s - loss: 0.3175 - accuracy: 0.9280 - val_loss: 1.9634 - val_accuracy: 0.6950\n",
      "Epoch 6/10\n",
      "100/100 - 6s - loss: 0.0234 - accuracy: 0.9920 - val_loss: 1.8845 - val_accuracy: 0.6900\n",
      "Epoch 7/10\n",
      "100/100 - 6s - loss: 0.0022 - accuracy: 0.9990 - val_loss: 1.8746 - val_accuracy: 0.7050\n",
      "Epoch 8/10\n",
      "100/100 - 6s - loss: 0.0011 - accuracy: 1.0000 - val_loss: 1.8734 - val_accuracy: 0.7050\n",
      "Epoch 9/10\n",
      "100/100 - 6s - loss: 8.0630e-04 - accuracy: 1.0000 - val_loss: 1.8890 - val_accuracy: 0.6900\n",
      "Epoch 10/10\n",
      "100/100 - 6s - loss: 6.7396e-04 - accuracy: 1.0000 - val_loss: 1.8914 - val_accuracy: 0.6900\n"
     ]
    },
    {
     "data": {
      "text/plain": [
       "<tensorflow.python.keras.callbacks.History at 0x1e52dd87e48>"
      ]
     },
     "execution_count": 24,
     "metadata": {},
     "output_type": "execute_result"
    }
   ],
   "source": [
    "model.fit(x=train_batches, steps_per_epoch=len(train_batches), validation_data=valid_batches, validation_steps=len(valid_batches), epochs=10, verbose=2)"
   ]
  },
  {
   "cell_type": "markdown",
   "metadata": {},
   "source": [
    "> To learn more on why certain arguments have been passed to the `model.fit` method read the documentation where everything is explained in great detail: https://keras.io/api/models/model_training_apis/\n",
    "\n",
    "validation_steps: Total number of steps (batches of samples) to draw before stopping when performing validation at the end of every epoch.\n",
    "\n",
    "We need to specify steps_per_epoch to indicate how many batches of samples from our training set should be passed to the model before declaring one epoch complete. Since we have 1000 samples in our training set, and our batch size is 10, then we set steps_per_epoch to be 100, since 100 batches of 10 samples each will encompass our entire training set.\n",
    "\n",
    "We're able to use len(train_batches) as a more general way to specify this value, as the length of train_batches is equal to 100 since it is made up of 100 batches of 10 samples. Similarly, we specify validation_steps in the same fashion but with using valid_batches.\n",
    "\n",
    "We’re specifying 10 as the number of epochs we’d like to run, and setting the verbose parameter to 2, which just specifies the verbosity of the log output printed to the console during training.\n",
    "\n",
    "When we run this line of code, we can see the output of the model over 10 epochs.\n",
    "\n",
    "--- \n",
    "\n",
    "From this output, we can see the performance of this simple model on the training set is great, with accuracy reaching 100% and loss nearing 0, however, by comparing these results to the validation metrics, we can see that our model is vastly overfitting to the training data.\n",
    "\n"
   ]
  },
  {
   "cell_type": "code",
   "execution_count": null,
   "metadata": {},
   "outputs": [],
   "source": []
  },
  {
   "cell_type": "code",
   "execution_count": null,
   "metadata": {},
   "outputs": [],
   "source": []
  },
  {
   "cell_type": "code",
   "execution_count": null,
   "metadata": {},
   "outputs": [],
   "source": []
  },
  {
   "cell_type": "code",
   "execution_count": null,
   "metadata": {},
   "outputs": [],
   "source": []
  },
  {
   "cell_type": "code",
   "execution_count": null,
   "metadata": {},
   "outputs": [],
   "source": []
  },
  {
   "cell_type": "code",
   "execution_count": null,
   "metadata": {},
   "outputs": [],
   "source": []
  },
  {
   "cell_type": "code",
   "execution_count": null,
   "metadata": {},
   "outputs": [],
   "source": []
  },
  {
   "cell_type": "code",
   "execution_count": null,
   "metadata": {},
   "outputs": [],
   "source": []
  },
  {
   "cell_type": "code",
   "execution_count": null,
   "metadata": {},
   "outputs": [],
   "source": []
  },
  {
   "cell_type": "code",
   "execution_count": null,
   "metadata": {},
   "outputs": [],
   "source": []
  },
  {
   "cell_type": "code",
   "execution_count": null,
   "metadata": {},
   "outputs": [],
   "source": []
  },
  {
   "cell_type": "code",
   "execution_count": null,
   "metadata": {},
   "outputs": [],
   "source": []
  }
 ],
 "metadata": {
  "accelerator": "GPU",
  "colab": {
   "authorship_tag": "ABX9TyMa4Q38iZqoh5XYUCHZX/Sy",
   "collapsed_sections": [],
   "include_colab_link": true,
   "name": "FreecodeCamp DeepLizard Keras with Tensorflow Course.ipynb",
   "provenance": []
  },
  "kernelspec": {
   "display_name": "Python 3",
   "language": "python",
   "name": "python3"
  },
  "language_info": {
   "codemirror_mode": {
    "name": "ipython",
    "version": 3
   },
   "file_extension": ".py",
   "mimetype": "text/x-python",
   "name": "python",
   "nbconvert_exporter": "python",
   "pygments_lexer": "ipython3",
   "version": "3.7.4"
  }
 },
 "nbformat": 4,
 "nbformat_minor": 4
}
