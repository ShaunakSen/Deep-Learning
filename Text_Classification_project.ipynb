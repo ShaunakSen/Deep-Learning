{
  "nbformat": 4,
  "nbformat_minor": 0,
  "metadata": {
    "colab": {
      "name": "Text Classification project.ipynb",
      "provenance": [],
      "collapsed_sections": [],
      "authorship_tag": "ABX9TyNhVBYaJN7EGzvfQ0jb0HhH",
      "include_colab_link": true
    },
    "kernelspec": {
      "name": "python3",
      "display_name": "Python 3"
    },
    "language_info": {
      "name": "python"
    }
  },
  "cells": [
    {
      "cell_type": "markdown",
      "metadata": {
        "id": "view-in-github",
        "colab_type": "text"
      },
      "source": [
        "<a href=\"https://colab.research.google.com/github/ShaunakSen/Deep-Learning/blob/master/Text_Classification_project.ipynb\" target=\"_parent\"><img src=\"https://colab.research.google.com/assets/colab-badge.svg\" alt=\"Open In Colab\"/></a>"
      ]
    },
    {
      "cell_type": "markdown",
      "source": [
        "## Python TensorFlow for Machine Learning – Neural Network Text Classification Tutorial\n",
        "\n",
        "\n",
        "> Based on the video tutorial by Kylie Ying: https://www.youtube.com/watch?v=VtRLrQ3Ev-U\n",
        "\n",
        "---"
      ],
      "metadata": {
        "id": "sIjW4u8H9oA3"
      }
    },
    {
      "cell_type": "code",
      "execution_count": 57,
      "metadata": {
        "id": "REahZFa49iFG"
      },
      "outputs": [],
      "source": [
        "import numpy as np\n",
        "import pandas as pd\n",
        "\n",
        "import matplotlib.pyplot as plt\n",
        "import tensorflow as tf\n",
        "\n",
        "from sklearn.model_selection import train_test_split\n",
        "from sklearn.preprocessing import StandardScaler\n",
        "from sklearn.metrics import confusion_matrix, plot_confusion_matrix, ConfusionMatrixDisplay\n",
        "from sklearn.metrics import classification_report"
      ]
    },
    {
      "cell_type": "code",
      "source": [
        "df = pd.read_csv('./diabetes.csv')"
      ],
      "metadata": {
        "id": "F5yfFw6y-GUn"
      },
      "execution_count": 2,
      "outputs": []
    },
    {
      "cell_type": "code",
      "source": [
        "df.head()"
      ],
      "metadata": {
        "colab": {
          "base_uri": "https://localhost:8080/",
          "height": 206
        },
        "id": "cKTJSLTrHpr9",
        "outputId": "ba2be7cf-78f4-4a4c-dfc0-af49d8f824e0"
      },
      "execution_count": 3,
      "outputs": [
        {
          "output_type": "execute_result",
          "data": {
            "text/plain": [
              "   Pregnancies  Glucose  BloodPressure  SkinThickness  Insulin   BMI  \\\n",
              "0            6      148             72             35        0  33.6   \n",
              "1            1       85             66             29        0  26.6   \n",
              "2            8      183             64              0        0  23.3   \n",
              "3            1       89             66             23       94  28.1   \n",
              "4            0      137             40             35      168  43.1   \n",
              "\n",
              "   DiabetesPedigreeFunction  Age  Outcome  \n",
              "0                     0.627   50        1  \n",
              "1                     0.351   31        0  \n",
              "2                     0.672   32        1  \n",
              "3                     0.167   21        0  \n",
              "4                     2.288   33        1  "
            ],
            "text/html": [
              "\n",
              "  <div id=\"df-b00c4066-1eb6-4b50-bb3a-ccab0b320c0d\">\n",
              "    <div class=\"colab-df-container\">\n",
              "      <div>\n",
              "<style scoped>\n",
              "    .dataframe tbody tr th:only-of-type {\n",
              "        vertical-align: middle;\n",
              "    }\n",
              "\n",
              "    .dataframe tbody tr th {\n",
              "        vertical-align: top;\n",
              "    }\n",
              "\n",
              "    .dataframe thead th {\n",
              "        text-align: right;\n",
              "    }\n",
              "</style>\n",
              "<table border=\"1\" class=\"dataframe\">\n",
              "  <thead>\n",
              "    <tr style=\"text-align: right;\">\n",
              "      <th></th>\n",
              "      <th>Pregnancies</th>\n",
              "      <th>Glucose</th>\n",
              "      <th>BloodPressure</th>\n",
              "      <th>SkinThickness</th>\n",
              "      <th>Insulin</th>\n",
              "      <th>BMI</th>\n",
              "      <th>DiabetesPedigreeFunction</th>\n",
              "      <th>Age</th>\n",
              "      <th>Outcome</th>\n",
              "    </tr>\n",
              "  </thead>\n",
              "  <tbody>\n",
              "    <tr>\n",
              "      <th>0</th>\n",
              "      <td>6</td>\n",
              "      <td>148</td>\n",
              "      <td>72</td>\n",
              "      <td>35</td>\n",
              "      <td>0</td>\n",
              "      <td>33.6</td>\n",
              "      <td>0.627</td>\n",
              "      <td>50</td>\n",
              "      <td>1</td>\n",
              "    </tr>\n",
              "    <tr>\n",
              "      <th>1</th>\n",
              "      <td>1</td>\n",
              "      <td>85</td>\n",
              "      <td>66</td>\n",
              "      <td>29</td>\n",
              "      <td>0</td>\n",
              "      <td>26.6</td>\n",
              "      <td>0.351</td>\n",
              "      <td>31</td>\n",
              "      <td>0</td>\n",
              "    </tr>\n",
              "    <tr>\n",
              "      <th>2</th>\n",
              "      <td>8</td>\n",
              "      <td>183</td>\n",
              "      <td>64</td>\n",
              "      <td>0</td>\n",
              "      <td>0</td>\n",
              "      <td>23.3</td>\n",
              "      <td>0.672</td>\n",
              "      <td>32</td>\n",
              "      <td>1</td>\n",
              "    </tr>\n",
              "    <tr>\n",
              "      <th>3</th>\n",
              "      <td>1</td>\n",
              "      <td>89</td>\n",
              "      <td>66</td>\n",
              "      <td>23</td>\n",
              "      <td>94</td>\n",
              "      <td>28.1</td>\n",
              "      <td>0.167</td>\n",
              "      <td>21</td>\n",
              "      <td>0</td>\n",
              "    </tr>\n",
              "    <tr>\n",
              "      <th>4</th>\n",
              "      <td>0</td>\n",
              "      <td>137</td>\n",
              "      <td>40</td>\n",
              "      <td>35</td>\n",
              "      <td>168</td>\n",
              "      <td>43.1</td>\n",
              "      <td>2.288</td>\n",
              "      <td>33</td>\n",
              "      <td>1</td>\n",
              "    </tr>\n",
              "  </tbody>\n",
              "</table>\n",
              "</div>\n",
              "      <button class=\"colab-df-convert\" onclick=\"convertToInteractive('df-b00c4066-1eb6-4b50-bb3a-ccab0b320c0d')\"\n",
              "              title=\"Convert this dataframe to an interactive table.\"\n",
              "              style=\"display:none;\">\n",
              "        \n",
              "  <svg xmlns=\"http://www.w3.org/2000/svg\" height=\"24px\"viewBox=\"0 0 24 24\"\n",
              "       width=\"24px\">\n",
              "    <path d=\"M0 0h24v24H0V0z\" fill=\"none\"/>\n",
              "    <path d=\"M18.56 5.44l.94 2.06.94-2.06 2.06-.94-2.06-.94-.94-2.06-.94 2.06-2.06.94zm-11 1L8.5 8.5l.94-2.06 2.06-.94-2.06-.94L8.5 2.5l-.94 2.06-2.06.94zm10 10l.94 2.06.94-2.06 2.06-.94-2.06-.94-.94-2.06-.94 2.06-2.06.94z\"/><path d=\"M17.41 7.96l-1.37-1.37c-.4-.4-.92-.59-1.43-.59-.52 0-1.04.2-1.43.59L10.3 9.45l-7.72 7.72c-.78.78-.78 2.05 0 2.83L4 21.41c.39.39.9.59 1.41.59.51 0 1.02-.2 1.41-.59l7.78-7.78 2.81-2.81c.8-.78.8-2.07 0-2.86zM5.41 20L4 18.59l7.72-7.72 1.47 1.35L5.41 20z\"/>\n",
              "  </svg>\n",
              "      </button>\n",
              "      \n",
              "  <style>\n",
              "    .colab-df-container {\n",
              "      display:flex;\n",
              "      flex-wrap:wrap;\n",
              "      gap: 12px;\n",
              "    }\n",
              "\n",
              "    .colab-df-convert {\n",
              "      background-color: #E8F0FE;\n",
              "      border: none;\n",
              "      border-radius: 50%;\n",
              "      cursor: pointer;\n",
              "      display: none;\n",
              "      fill: #1967D2;\n",
              "      height: 32px;\n",
              "      padding: 0 0 0 0;\n",
              "      width: 32px;\n",
              "    }\n",
              "\n",
              "    .colab-df-convert:hover {\n",
              "      background-color: #E2EBFA;\n",
              "      box-shadow: 0px 1px 2px rgba(60, 64, 67, 0.3), 0px 1px 3px 1px rgba(60, 64, 67, 0.15);\n",
              "      fill: #174EA6;\n",
              "    }\n",
              "\n",
              "    [theme=dark] .colab-df-convert {\n",
              "      background-color: #3B4455;\n",
              "      fill: #D2E3FC;\n",
              "    }\n",
              "\n",
              "    [theme=dark] .colab-df-convert:hover {\n",
              "      background-color: #434B5C;\n",
              "      box-shadow: 0px 1px 3px 1px rgba(0, 0, 0, 0.15);\n",
              "      filter: drop-shadow(0px 1px 2px rgba(0, 0, 0, 0.3));\n",
              "      fill: #FFFFFF;\n",
              "    }\n",
              "  </style>\n",
              "\n",
              "      <script>\n",
              "        const buttonEl =\n",
              "          document.querySelector('#df-b00c4066-1eb6-4b50-bb3a-ccab0b320c0d button.colab-df-convert');\n",
              "        buttonEl.style.display =\n",
              "          google.colab.kernel.accessAllowed ? 'block' : 'none';\n",
              "\n",
              "        async function convertToInteractive(key) {\n",
              "          const element = document.querySelector('#df-b00c4066-1eb6-4b50-bb3a-ccab0b320c0d');\n",
              "          const dataTable =\n",
              "            await google.colab.kernel.invokeFunction('convertToInteractive',\n",
              "                                                     [key], {});\n",
              "          if (!dataTable) return;\n",
              "\n",
              "          const docLinkHtml = 'Like what you see? Visit the ' +\n",
              "            '<a target=\"_blank\" href=https://colab.research.google.com/notebooks/data_table.ipynb>data table notebook</a>'\n",
              "            + ' to learn more about interactive tables.';\n",
              "          element.innerHTML = '';\n",
              "          dataTable['output_type'] = 'display_data';\n",
              "          await google.colab.output.renderOutput(dataTable, element);\n",
              "          const docLink = document.createElement('div');\n",
              "          docLink.innerHTML = docLinkHtml;\n",
              "          element.appendChild(docLink);\n",
              "        }\n",
              "      </script>\n",
              "    </div>\n",
              "  </div>\n",
              "  "
            ]
          },
          "metadata": {},
          "execution_count": 3
        }
      ]
    },
    {
      "cell_type": "markdown",
      "source": [
        "Lets try to see the distribution of each feature in the form of a histogram and analyze wrt the target variable"
      ],
      "metadata": {
        "id": "KSvcp4CWHyhN"
      }
    },
    {
      "cell_type": "code",
      "source": [
        "fig, axes = plt.subplots(4,2)\n",
        "fig.set_figheight(17)\n",
        "fig.set_figwidth(13)\n",
        "\n",
        "row_idx, col_idx = 0, -1\n",
        "for i, col_ in enumerate(df.columns[:-1]):\n",
        "\n",
        "    if i > 0 and i%2 == 0:\n",
        "        row_idx += 1\n",
        "        col_idx = 0\n",
        "    else:\n",
        "        col_idx +=1\n",
        "\n",
        "    axes[row_idx, col_idx].hist(df.loc[df['Outcome'] == 1][col_], color = 'red', label = 'Diabetes', alpha = 0.5, density=True, bins=15)\n",
        "    axes[row_idx, col_idx].hist(df.loc[df['Outcome'] == 0][col_], color = 'blue', label = 'No Diabetes', alpha = 0.5, density=True, bins=15)\n",
        "    axes[row_idx, col_idx].set_title(col_)\n",
        "    axes[row_idx, col_idx].set_ylabel('Density')\n",
        "plt.legend()\n",
        "plt.show();\n",
        "    \n",
        "    "
      ],
      "metadata": {
        "colab": {
          "base_uri": "https://localhost:8080/",
          "height": 988
        },
        "id": "uNb9Z9wiHqZa",
        "outputId": "bb1485c6-f391-4256-e7d0-bef212c9fd5f"
      },
      "execution_count": 4,
      "outputs": [
        {
          "output_type": "display_data",
          "data": {
            "text/plain": [
              "<Figure size 936x1224 with 8 Axes>"
            ],
            "image/png": "[encoded data removed]"
          },
          "metadata": {
            "needs_background": "light"
          }
        }
      ]
    },
    {
      "cell_type": "markdown",
      "source": [
        "- there are some features which seem to impact diabetes - like :\n",
        "    - pregnancies\n",
        "    - glucose\n",
        "    - skin thickness\n",
        "    - BMI\n",
        "    - Age\n",
        "\n",
        "- no single feature clearly separates the two"
      ],
      "metadata": {
        "id": "ax0xuN1iOUTh"
      }
    },
    {
      "cell_type": "code",
      "source": [
        "X = df[df.columns[:-1]].values\n",
        "y = df[df.columns[-1]].values\n",
        "print (X.shape, y.shape)"
      ],
      "metadata": {
        "colab": {
          "base_uri": "https://localhost:8080/"
        },
        "id": "SsaRCbHMH_1l",
        "outputId": "7f480ca7-8f0c-429c-98b2-881ac860156d"
      },
      "execution_count": 21,
      "outputs": [
        {
          "output_type": "stream",
          "name": "stdout",
          "text": [
            "(768, 8) (768,)\n"
          ]
        }
      ]
    },
    {
      "cell_type": "markdown",
      "source": [
        "Split into train-test\n",
        "\n",
        "- we want a 60-20-20 split for train-val-test"
      ],
      "metadata": {
        "id": "M-rQ02E0O-Ip"
      }
    },
    {
      "cell_type": "code",
      "source": [
        "X_train, X_temp, y_train, y_temp = train_test_split(X, y, test_size=0.4, shuffle=True, stratify=y, random_state=0)\n",
        "X_valid, X_test, y_valid, y_test = train_test_split(X_temp, y_temp, test_size=0.5, shuffle=True, stratify=y_temp, random_state=0)\n",
        "\n",
        "print (X_train.shape, X_temp.shape, X_valid.shape, X_test.shape)\n",
        "print (y_train.shape, y_temp.shape, y_valid.shape, y_test.shape)"
      ],
      "metadata": {
        "colab": {
          "base_uri": "https://localhost:8080/"
        },
        "id": "WMjrI4aAO1Bv",
        "outputId": "c8c4510a-9af1-44df-b374-c512be310345"
      },
      "execution_count": 22,
      "outputs": [
        {
          "output_type": "stream",
          "name": "stdout",
          "text": [
            "(460, 8) (308, 8) (154, 8) (154, 8)\n",
            "(460,) (308,) (154,) (154,)\n"
          ]
        }
      ]
    },
    {
      "cell_type": "markdown",
      "source": [
        "Scale the values"
      ],
      "metadata": {
        "id": "mFWsBoh-Jb7l"
      }
    },
    {
      "cell_type": "code",
      "source": [
        "scaler = StandardScaler()\n",
        "scaler = scaler.fit(X_train)\n",
        "X_train_norm = scaler.transform(X_train)\n",
        "X_valid_norm = scaler.transform(X_valid)\n",
        "X_test_norm = scaler.transform(X_test)\n",
        "\n",
        "print (X_train.shape, X_temp.shape, X_valid.shape, X_test.shape)\n",
        "print (y_train.shape, y_temp.shape, y_valid.shape, y_test.shape)"
      ],
      "metadata": {
        "colab": {
          "base_uri": "https://localhost:8080/"
        },
        "id": "KfpQDEPiJdh9",
        "outputId": "4daa9123-9d30-4712-bf7c-c14cb6136a94"
      },
      "execution_count": 25,
      "outputs": [
        {
          "output_type": "stream",
          "name": "stdout",
          "text": [
            "(460, 8) (308, 8) (154, 8) (154, 8)\n",
            "(460,) (308,) (154,) (154,)\n"
          ]
        }
      ]
    },
    {
      "cell_type": "code",
      "source": [
        "for idx, col_ in enumerate(df.columns[:-1]):\n",
        "    print (f'Transform {col_}: {np.max(X_train[:, idx])} -> {np.max(X_train_norm[:, idx])}')\n",
        "    print (f'Transform {col_}: {np.max(X_valid[:, idx])} -> {np.max(X_valid_norm[:, idx])}')\n",
        "    print (f'Transform {col_}: {np.max(X_test[:, idx])} -> {np.max(X_test_norm[:, idx])}')"
      ],
      "metadata": {
        "colab": {
          "base_uri": "https://localhost:8080/"
        },
        "id": "_drkUny9LKHm",
        "outputId": "4ca7adc3-0624-498f-9e0d-4ca5309a81b2"
      },
      "execution_count": 37,
      "outputs": [
        {
          "output_type": "stream",
          "name": "stdout",
          "text": [
            "Transform Pregnancies: 17.0 -> 3.7865185556706673\n",
            "Transform Pregnancies: 15.0 -> 3.199856873081073\n",
            "Transform Pregnancies: 12.0 -> 2.3198643491966804\n",
            "Transform Glucose: 199.0 -> 2.461491046969458\n",
            "Transform Glucose: 197.0 -> 2.3988247558215514\n",
            "Transform Glucose: 198.0 -> 2.430157901395505\n",
            "Transform BloodPressure: 122.0 -> 2.780891034307399\n",
            "Transform BloodPressure: 114.0 -> 2.3544344353053894\n",
            "Transform BloodPressure: 106.0 -> 1.9279778363033795\n",
            "Transform SkinThickness: 63.0 -> 2.64310637042365\n",
            "Transform SkinThickness: 99.0 -> 4.86109773021972\n",
            "Transform SkinThickness: 50.0 -> 1.842165046052847\n",
            "Transform Insulin: 846.0 -> 6.812643876505547\n",
            "Transform Insulin: 545.0 -> 4.1671090469814684\n",
            "Transform Insulin: 680.0 -> 5.353644601751403\n",
            "Transform BMI: 67.1 -> 4.6147202436880566\n",
            "Transform BMI: 57.3 -> 3.326184067424135\n",
            "Transform BMI: 55.0 -> 3.0237725158519906\n",
            "Transform DiabetesPedigreeFunction: 2.42 -> 5.601534304703201\n",
            "Transform DiabetesPedigreeFunction: 1.731 -> 3.616620827024173\n",
            "Transform DiabetesPedigreeFunction: 1.781 -> 3.7606638950705458\n",
            "Transform Age: 81.0 -> 3.8871887263206713\n",
            "Transform Age: 66.0 -> 2.647399403420947\n",
            "Transform Age: 72.0 -> 3.143315132580837\n"
          ]
        }
      ]
    },
    {
      "cell_type": "markdown",
      "source": [
        "Check distribution of class labels in each set"
      ],
      "metadata": {
        "id": "COR9goZBQ5yw"
      }
    },
    {
      "cell_type": "code",
      "source": [
        "print (np.sum(y)/len(y))\n",
        "\n",
        "print (np.sum(y_train)/len(y_train))\n",
        "print (np.sum(y_temp)/len(y_temp))\n",
        "print (np.sum(y_valid)/len(y_valid))\n",
        "print (np.sum(y_test)/len(y_test))"
      ],
      "metadata": {
        "colab": {
          "base_uri": "https://localhost:8080/"
        },
        "id": "ARfZsG0wQWsd",
        "outputId": "f515524c-8d4c-4873-9b20-ac1221883515"
      },
      "execution_count": 26,
      "outputs": [
        {
          "output_type": "stream",
          "name": "stdout",
          "text": [
            "0.3489583333333333\n",
            "0.35\n",
            "0.3474025974025974\n",
            "0.35064935064935066\n",
            "0.34415584415584416\n"
          ]
        }
      ]
    },
    {
      "cell_type": "markdown",
      "source": [
        "Build the model"
      ],
      "metadata": {
        "id": "zQxcdu0ARSAH"
      }
    },
    {
      "cell_type": "code",
      "source": [
        "model = tf.keras.Sequential([\n",
        "                             tf.keras.layers.Dense(units=16, activation='relu'),\n",
        "                             tf.keras.layers.Dense(units=16, activation='relu'),\n",
        "                             tf.keras.layers.Dense(units=1, activation='sigmoid')\n",
        "])"
      ],
      "metadata": {
        "id": "vaFdQw-cQjeV"
      },
      "execution_count": 62,
      "outputs": []
    },
    {
      "cell_type": "code",
      "source": [
        "lr = 0.0007\n",
        "model.compile(optimizer=tf.keras.optimizers.Adam(learning_rate=lr), loss=tf.keras.losses.BinaryCrossentropy(), metrics=[tf.keras.metrics.BinaryAccuracy(), tf.keras.metrics.BinaryCrossentropy()])"
      ],
      "metadata": {
        "id": "oBHGCxg_R7hW"
      },
      "execution_count": 63,
      "outputs": []
    },
    {
      "cell_type": "markdown",
      "source": [
        "Lets simply see what the results are like without training"
      ],
      "metadata": {
        "id": "b74djYcJUICE"
      }
    },
    {
      "cell_type": "code",
      "source": [
        "model.evaluate(x=X_train, y=y_train)"
      ],
      "metadata": {
        "colab": {
          "base_uri": "https://localhost:8080/"
        },
        "id": "-TXnJTh9T8qC",
        "outputId": "68fcca2c-1145-4ff7-b218-79aceb90aa21"
      },
      "execution_count": 15,
      "outputs": [
        {
          "output_type": "stream",
          "name": "stdout",
          "text": [
            "15/15 [==============================] - 0s 2ms/step - loss: 0.6507 - binary_accuracy: 0.6739 - binary_crossentropy: 0.6507\n"
          ]
        },
        {
          "output_type": "execute_result",
          "data": {
            "text/plain": [
              "[0.650739848613739, 0.6739130616188049, 0.650739848613739]"
            ]
          },
          "metadata": {},
          "execution_count": 15
        }
      ]
    },
    {
      "cell_type": "code",
      "source": [
        "model.evaluate(x=X_test, y=y_test)"
      ],
      "metadata": {
        "colab": {
          "base_uri": "https://localhost:8080/"
        },
        "id": "IRj4l949USWy",
        "outputId": "0fbea747-739d-4d58-b46b-cc2b89fd948b"
      },
      "execution_count": 16,
      "outputs": [
        {
          "output_type": "stream",
          "name": "stdout",
          "text": [
            "5/5 [==============================] - 0s 3ms/step - loss: 0.8590 - binary_accuracy: 0.5974 - binary_crossentropy: 0.8590\n"
          ]
        },
        {
          "output_type": "execute_result",
          "data": {
            "text/plain": [
              "[0.8589887022972107, 0.5974025726318359, 0.8589887022972107]"
            ]
          },
          "metadata": {},
          "execution_count": 16
        }
      ]
    },
    {
      "cell_type": "markdown",
      "source": [
        "Train the model"
      ],
      "metadata": {
        "id": "m1RCJBmNUen8"
      }
    },
    {
      "cell_type": "code",
      "source": [
        "model.fit(x=X_train, y=y_train, batch_size=32, epochs=30, validation_data=(X_valid, y_valid))"
      ],
      "metadata": {
        "colab": {
          "base_uri": "https://localhost:8080/"
        },
        "id": "dqSj8FhaUWHb",
        "outputId": "4307ffeb-fb69-491b-c5a7-51bef9d8238e"
      },
      "execution_count": 43,
      "outputs": [
        {
          "output_type": "stream",
          "name": "stdout",
          "text": [
            "Epoch 1/30\n",
            "15/15 [==============================] - 1s 17ms/step - loss: 16.6181 - binary_accuracy: 0.6500 - binary_crossentropy: 16.6181 - val_loss: 13.7068 - val_binary_accuracy: 0.6494 - val_binary_crossentropy: 13.7068\n",
            "Epoch 2/30\n",
            "15/15 [==============================] - 0s 5ms/step - loss: 10.1873 - binary_accuracy: 0.6500 - binary_crossentropy: 10.1873 - val_loss: 7.3395 - val_binary_accuracy: 0.5974 - val_binary_crossentropy: 7.3395\n",
            "Epoch 3/30\n",
            "15/15 [==============================] - 0s 4ms/step - loss: 5.0106 - binary_accuracy: 0.4630 - binary_crossentropy: 5.0106 - val_loss: 3.6282 - val_binary_accuracy: 0.4416 - val_binary_crossentropy: 3.6282\n",
            "Epoch 4/30\n",
            "15/15 [==============================] - 0s 4ms/step - loss: 2.4007 - binary_accuracy: 0.3891 - binary_crossentropy: 2.4007 - val_loss: 1.6674 - val_binary_accuracy: 0.4545 - val_binary_crossentropy: 1.6674\n",
            "Epoch 5/30\n",
            "15/15 [==============================] - 0s 5ms/step - loss: 1.3002 - binary_accuracy: 0.5109 - binary_crossentropy: 1.3002 - val_loss: 1.2571 - val_binary_accuracy: 0.4675 - val_binary_crossentropy: 1.2571\n",
            "Epoch 6/30\n",
            "15/15 [==============================] - 0s 4ms/step - loss: 1.0646 - binary_accuracy: 0.6043 - binary_crossentropy: 1.0646 - val_loss: 1.0921 - val_binary_accuracy: 0.5130 - val_binary_crossentropy: 1.0921\n",
            "Epoch 7/30\n",
            "15/15 [==============================] - 0s 4ms/step - loss: 0.9517 - binary_accuracy: 0.5109 - binary_crossentropy: 0.9517 - val_loss: 1.0461 - val_binary_accuracy: 0.5649 - val_binary_crossentropy: 1.0461\n",
            "Epoch 8/30\n",
            "15/15 [==============================] - 0s 4ms/step - loss: 0.8926 - binary_accuracy: 0.5804 - binary_crossentropy: 0.8926 - val_loss: 1.0091 - val_binary_accuracy: 0.5714 - val_binary_crossentropy: 1.0091\n",
            "Epoch 9/30\n",
            "15/15 [==============================] - 0s 5ms/step - loss: 0.8634 - binary_accuracy: 0.6065 - binary_crossentropy: 0.8634 - val_loss: 0.9978 - val_binary_accuracy: 0.6169 - val_binary_crossentropy: 0.9978\n",
            "Epoch 10/30\n",
            "15/15 [==============================] - 0s 4ms/step - loss: 0.8465 - binary_accuracy: 0.6109 - binary_crossentropy: 0.8465 - val_loss: 0.9823 - val_binary_accuracy: 0.5909 - val_binary_crossentropy: 0.9823\n",
            "Epoch 11/30\n",
            "15/15 [==============================] - 0s 5ms/step - loss: 0.8468 - binary_accuracy: 0.6022 - binary_crossentropy: 0.8468 - val_loss: 0.9720 - val_binary_accuracy: 0.6494 - val_binary_crossentropy: 0.9720\n",
            "Epoch 12/30\n",
            "15/15 [==============================] - 0s 5ms/step - loss: 0.8287 - binary_accuracy: 0.5826 - binary_crossentropy: 0.8287 - val_loss: 0.9465 - val_binary_accuracy: 0.6494 - val_binary_crossentropy: 0.9465\n",
            "Epoch 13/30\n",
            "15/15 [==============================] - 0s 5ms/step - loss: 0.8130 - binary_accuracy: 0.6152 - binary_crossentropy: 0.8130 - val_loss: 0.9062 - val_binary_accuracy: 0.6364 - val_binary_crossentropy: 0.9062\n",
            "Epoch 14/30\n",
            "15/15 [==============================] - 0s 5ms/step - loss: 0.7976 - binary_accuracy: 0.6174 - binary_crossentropy: 0.7976 - val_loss: 0.9174 - val_binary_accuracy: 0.6169 - val_binary_crossentropy: 0.9174\n",
            "Epoch 15/30\n",
            "15/15 [==============================] - 0s 4ms/step - loss: 0.7866 - binary_accuracy: 0.6196 - binary_crossentropy: 0.7866 - val_loss: 0.8868 - val_binary_accuracy: 0.6494 - val_binary_crossentropy: 0.8868\n",
            "Epoch 16/30\n",
            "15/15 [==============================] - 0s 5ms/step - loss: 0.7742 - binary_accuracy: 0.6370 - binary_crossentropy: 0.7742 - val_loss: 0.9160 - val_binary_accuracy: 0.6104 - val_binary_crossentropy: 0.9160\n",
            "Epoch 17/30\n",
            "15/15 [==============================] - 0s 5ms/step - loss: 0.7769 - binary_accuracy: 0.6174 - binary_crossentropy: 0.7769 - val_loss: 0.8755 - val_binary_accuracy: 0.6623 - val_binary_crossentropy: 0.8755\n",
            "Epoch 18/30\n",
            "15/15 [==============================] - 0s 5ms/step - loss: 0.8245 - binary_accuracy: 0.6196 - binary_crossentropy: 0.8245 - val_loss: 0.9598 - val_binary_accuracy: 0.7013 - val_binary_crossentropy: 0.9598\n",
            "Epoch 19/30\n",
            "15/15 [==============================] - 0s 4ms/step - loss: 0.7906 - binary_accuracy: 0.6413 - binary_crossentropy: 0.7906 - val_loss: 0.8682 - val_binary_accuracy: 0.6623 - val_binary_crossentropy: 0.8682\n",
            "Epoch 20/30\n",
            "15/15 [==============================] - 0s 4ms/step - loss: 0.7140 - binary_accuracy: 0.6565 - binary_crossentropy: 0.7140 - val_loss: 0.8481 - val_binary_accuracy: 0.6753 - val_binary_crossentropy: 0.8481\n",
            "Epoch 21/30\n",
            "15/15 [==============================] - 0s 6ms/step - loss: 0.7223 - binary_accuracy: 0.6543 - binary_crossentropy: 0.7223 - val_loss: 0.8659 - val_binary_accuracy: 0.6948 - val_binary_crossentropy: 0.8659\n",
            "Epoch 22/30\n",
            "15/15 [==============================] - 0s 5ms/step - loss: 0.6849 - binary_accuracy: 0.6870 - binary_crossentropy: 0.6849 - val_loss: 0.8941 - val_binary_accuracy: 0.6429 - val_binary_crossentropy: 0.8941\n",
            "Epoch 23/30\n",
            "15/15 [==============================] - 0s 6ms/step - loss: 0.7120 - binary_accuracy: 0.6304 - binary_crossentropy: 0.7120 - val_loss: 0.8301 - val_binary_accuracy: 0.7013 - val_binary_crossentropy: 0.8301\n",
            "Epoch 24/30\n",
            "15/15 [==============================] - 0s 4ms/step - loss: 0.6871 - binary_accuracy: 0.6717 - binary_crossentropy: 0.6871 - val_loss: 0.8002 - val_binary_accuracy: 0.6688 - val_binary_crossentropy: 0.8002\n",
            "Epoch 25/30\n",
            "15/15 [==============================] - 0s 5ms/step - loss: 0.7081 - binary_accuracy: 0.6565 - binary_crossentropy: 0.7081 - val_loss: 0.8115 - val_binary_accuracy: 0.6948 - val_binary_crossentropy: 0.8115\n",
            "Epoch 26/30\n",
            "15/15 [==============================] - 0s 5ms/step - loss: 0.6663 - binary_accuracy: 0.6739 - binary_crossentropy: 0.6663 - val_loss: 0.7772 - val_binary_accuracy: 0.7273 - val_binary_crossentropy: 0.7772\n",
            "Epoch 27/30\n",
            "15/15 [==============================] - 0s 4ms/step - loss: 0.6649 - binary_accuracy: 0.6630 - binary_crossentropy: 0.6649 - val_loss: 0.7739 - val_binary_accuracy: 0.7078 - val_binary_crossentropy: 0.7739\n",
            "Epoch 28/30\n",
            "15/15 [==============================] - 0s 4ms/step - loss: 0.6457 - binary_accuracy: 0.6761 - binary_crossentropy: 0.6457 - val_loss: 0.7726 - val_binary_accuracy: 0.7208 - val_binary_crossentropy: 0.7726\n",
            "Epoch 29/30\n",
            "15/15 [==============================] - 0s 5ms/step - loss: 0.6521 - binary_accuracy: 0.6783 - binary_crossentropy: 0.6521 - val_loss: 0.7696 - val_binary_accuracy: 0.7078 - val_binary_crossentropy: 0.7696\n",
            "Epoch 30/30\n",
            "15/15 [==============================] - 0s 4ms/step - loss: 0.6580 - binary_accuracy: 0.6587 - binary_crossentropy: 0.6580 - val_loss: 0.8090 - val_binary_accuracy: 0.7208 - val_binary_crossentropy: 0.8090\n"
          ]
        },
        {
          "output_type": "execute_result",
          "data": {
            "text/plain": [
              "<keras.callbacks.History at 0x7f986686d310>"
            ]
          },
          "metadata": {},
          "execution_count": 43
        }
      ]
    },
    {
      "cell_type": "code",
      "source": [
        "model.evaluate(x=X_test, y=y_test)"
      ],
      "metadata": {
        "colab": {
          "base_uri": "https://localhost:8080/"
        },
        "id": "vgDTXkMIO_rH",
        "outputId": "7210e05c-fe9e-4e60-b761-ffd190abbfc7"
      },
      "execution_count": 44,
      "outputs": [
        {
          "output_type": "stream",
          "name": "stdout",
          "text": [
            "5/5 [==============================] - 0s 3ms/step - loss: 0.9564 - binary_accuracy: 0.6234 - binary_crossentropy: 0.9564\n"
          ]
        },
        {
          "output_type": "execute_result",
          "data": {
            "text/plain": [
              "[0.956444263458252, 0.6233766078948975, 0.956444263458252]"
            ]
          },
          "metadata": {},
          "execution_count": 44
        }
      ]
    },
    {
      "cell_type": "markdown",
      "source": [
        "Here we get an accuracy of around 62% on the test data"
      ],
      "metadata": {
        "id": "9COFR78mPDI_"
      }
    },
    {
      "cell_type": "markdown",
      "source": [
        "Get predictions and evaluate the metrics:"
      ],
      "metadata": {
        "id": "cP5Dr8AtPyod"
      }
    },
    {
      "cell_type": "code",
      "source": [
        "y_pred = model.predict(X_test).flatten()"
      ],
      "metadata": {
        "id": "iS2QXjPlPrU9"
      },
      "execution_count": 52,
      "outputs": []
    },
    {
      "cell_type": "code",
      "source": [
        "y_pred_labels = np.where(y_pred > 0.5, 1, 0)"
      ],
      "metadata": {
        "id": "dG2-ydGFQIEz"
      },
      "execution_count": 55,
      "outputs": []
    },
    {
      "cell_type": "code",
      "source": [
        "def evaluate_performance(y_true, y_pred):\n",
        "    \"\"\"\n",
        "    Evaluate model performance\n",
        "    \"\"\"\n",
        "    cm = confusion_matrix(y_true=y_true, y_pred=y_pred)\n",
        "\n",
        "    tn, tp, fp, fn = cm[0][0], cm[1][1], cm[0][1], cm[1][0]\n",
        "\n",
        "    precision = tp/(fp + tp)\n",
        "    recall = tp/(tp + fn)\n",
        "\n",
        "    accuracy = (tp + tn)/(tn+tp+fp+fn)\n",
        "\n",
        "    f_score = 2 * (precision * recall)/(precision + recall)\n",
        "\n",
        "    disp = ConfusionMatrixDisplay(cm, display_labels=[0,1])\n",
        "    disp.plot()\n",
        "\n",
        "\n",
        "    return {\n",
        "        'precision': precision,\n",
        "        'recall': recall,\n",
        "        'accuracy': accuracy,\n",
        "        'F score': f_score\n",
        "    }\n"
      ],
      "metadata": {
        "id": "93bQkoPQhBQm"
      },
      "execution_count": 60,
      "outputs": []
    },
    {
      "cell_type": "code",
      "source": [
        "evaluate_performance(y_test, y_pred_labels)"
      ],
      "metadata": {
        "colab": {
          "base_uri": "https://localhost:8080/",
          "height": 348
        },
        "id": "N-SeYUtthnbX",
        "outputId": "99e60e65-6036-4516-9959-0240ee621428"
      },
      "execution_count": 61,
      "outputs": [
        {
          "output_type": "execute_result",
          "data": {
            "text/plain": [
              "{'F score': 0.21621621621621623,\n",
              " 'accuracy': 0.6233766233766234,\n",
              " 'precision': 0.38095238095238093,\n",
              " 'recall': 0.1509433962264151}"
            ]
          },
          "metadata": {},
          "execution_count": 61
        },
        {
          "output_type": "display_data",
          "data": {
            "text/plain": [
              "<Figure size 432x288 with 2 Axes>"
            ],
            "image/png": "[encoded data removed]"
          },
          "metadata": {
            "needs_background": "light"
          }
        }
      ]
    },
    {
      "cell_type": "markdown",
      "source": [
        "Let us check how normalization affects the model performances"
      ],
      "metadata": {
        "id": "ny3dNIgrh_gg"
      }
    },
    {
      "cell_type": "code",
      "source": [
        "model.fit(x=X_train_norm, y=y_train, batch_size=32, epochs=30, validation_data=(X_valid_norm, y_valid))"
      ],
      "metadata": {
        "id": "gSuVdIa4U_hR",
        "colab": {
          "base_uri": "https://localhost:8080/"
        },
        "outputId": "134159a0-87ae-40be-bc8b-2c6daf2f57fe"
      },
      "execution_count": 64,
      "outputs": [
        {
          "output_type": "stream",
          "name": "stdout",
          "text": [
            "Epoch 1/30\n",
            "15/15 [==============================] - 1s 15ms/step - loss: 0.6842 - binary_accuracy: 0.5391 - binary_crossentropy: 0.6842 - val_loss: 0.6701 - val_binary_accuracy: 0.6104 - val_binary_crossentropy: 0.6701\n",
            "Epoch 2/30\n",
            "15/15 [==============================] - 0s 5ms/step - loss: 0.6571 - binary_accuracy: 0.6109 - binary_crossentropy: 0.6571 - val_loss: 0.6428 - val_binary_accuracy: 0.6623 - val_binary_crossentropy: 0.6428\n",
            "Epoch 3/30\n",
            "15/15 [==============================] - 0s 4ms/step - loss: 0.6335 - binary_accuracy: 0.6500 - binary_crossentropy: 0.6335 - val_loss: 0.6190 - val_binary_accuracy: 0.6558 - val_binary_crossentropy: 0.6190\n",
            "Epoch 4/30\n",
            "15/15 [==============================] - 0s 5ms/step - loss: 0.6119 - binary_accuracy: 0.6978 - binary_crossentropy: 0.6119 - val_loss: 0.5970 - val_binary_accuracy: 0.7078 - val_binary_crossentropy: 0.5970\n",
            "Epoch 5/30\n",
            "15/15 [==============================] - 0s 5ms/step - loss: 0.5931 - binary_accuracy: 0.7196 - binary_crossentropy: 0.5931 - val_loss: 0.5753 - val_binary_accuracy: 0.7338 - val_binary_crossentropy: 0.5753\n",
            "Epoch 6/30\n",
            "15/15 [==============================] - 0s 4ms/step - loss: 0.5752 - binary_accuracy: 0.7239 - binary_crossentropy: 0.5752 - val_loss: 0.5578 - val_binary_accuracy: 0.7597 - val_binary_crossentropy: 0.5578\n",
            "Epoch 7/30\n",
            "15/15 [==============================] - 0s 5ms/step - loss: 0.5600 - binary_accuracy: 0.7283 - binary_crossentropy: 0.5600 - val_loss: 0.5410 - val_binary_accuracy: 0.7532 - val_binary_crossentropy: 0.5410\n",
            "Epoch 8/30\n",
            "15/15 [==============================] - 0s 5ms/step - loss: 0.5461 - binary_accuracy: 0.7478 - binary_crossentropy: 0.5461 - val_loss: 0.5262 - val_binary_accuracy: 0.7597 - val_binary_crossentropy: 0.5262\n",
            "Epoch 9/30\n",
            "15/15 [==============================] - 0s 5ms/step - loss: 0.5348 - binary_accuracy: 0.7500 - binary_crossentropy: 0.5348 - val_loss: 0.5138 - val_binary_accuracy: 0.7597 - val_binary_crossentropy: 0.5138\n",
            "Epoch 10/30\n",
            "15/15 [==============================] - 0s 5ms/step - loss: 0.5245 - binary_accuracy: 0.7630 - binary_crossentropy: 0.5245 - val_loss: 0.5026 - val_binary_accuracy: 0.7597 - val_binary_crossentropy: 0.5026\n",
            "Epoch 11/30\n",
            "15/15 [==============================] - 0s 5ms/step - loss: 0.5151 - binary_accuracy: 0.7696 - binary_crossentropy: 0.5151 - val_loss: 0.4945 - val_binary_accuracy: 0.7597 - val_binary_crossentropy: 0.4945\n",
            "Epoch 12/30\n",
            "15/15 [==============================] - 0s 5ms/step - loss: 0.5079 - binary_accuracy: 0.7761 - binary_crossentropy: 0.5079 - val_loss: 0.4860 - val_binary_accuracy: 0.7597 - val_binary_crossentropy: 0.4860\n",
            "Epoch 13/30\n",
            "15/15 [==============================] - 0s 4ms/step - loss: 0.5003 - binary_accuracy: 0.7739 - binary_crossentropy: 0.5003 - val_loss: 0.4797 - val_binary_accuracy: 0.7792 - val_binary_crossentropy: 0.4797\n",
            "Epoch 14/30\n",
            "15/15 [==============================] - 0s 4ms/step - loss: 0.4949 - binary_accuracy: 0.7761 - binary_crossentropy: 0.4949 - val_loss: 0.4732 - val_binary_accuracy: 0.7857 - val_binary_crossentropy: 0.4732\n",
            "Epoch 15/30\n",
            "15/15 [==============================] - 0s 5ms/step - loss: 0.4890 - binary_accuracy: 0.7783 - binary_crossentropy: 0.4890 - val_loss: 0.4676 - val_binary_accuracy: 0.7857 - val_binary_crossentropy: 0.4676\n",
            "Epoch 16/30\n",
            "15/15 [==============================] - 0s 5ms/step - loss: 0.4844 - binary_accuracy: 0.7783 - binary_crossentropy: 0.4844 - val_loss: 0.4648 - val_binary_accuracy: 0.7922 - val_binary_crossentropy: 0.4648\n",
            "Epoch 17/30\n",
            "15/15 [==============================] - 0s 5ms/step - loss: 0.4804 - binary_accuracy: 0.7761 - binary_crossentropy: 0.4804 - val_loss: 0.4603 - val_binary_accuracy: 0.7922 - val_binary_crossentropy: 0.4603\n",
            "Epoch 18/30\n",
            "15/15 [==============================] - 0s 5ms/step - loss: 0.4768 - binary_accuracy: 0.7804 - binary_crossentropy: 0.4768 - val_loss: 0.4563 - val_binary_accuracy: 0.7922 - val_binary_crossentropy: 0.4563\n",
            "Epoch 19/30\n",
            "15/15 [==============================] - 0s 5ms/step - loss: 0.4733 - binary_accuracy: 0.7783 - binary_crossentropy: 0.4733 - val_loss: 0.4526 - val_binary_accuracy: 0.7922 - val_binary_crossentropy: 0.4526\n",
            "Epoch 20/30\n",
            "15/15 [==============================] - 0s 5ms/step - loss: 0.4702 - binary_accuracy: 0.7783 - binary_crossentropy: 0.4702 - val_loss: 0.4501 - val_binary_accuracy: 0.7857 - val_binary_crossentropy: 0.4501\n",
            "Epoch 21/30\n",
            "15/15 [==============================] - 0s 4ms/step - loss: 0.4676 - binary_accuracy: 0.7870 - binary_crossentropy: 0.4676 - val_loss: 0.4481 - val_binary_accuracy: 0.7857 - val_binary_crossentropy: 0.4481\n",
            "Epoch 22/30\n",
            "15/15 [==============================] - 0s 4ms/step - loss: 0.4652 - binary_accuracy: 0.7804 - binary_crossentropy: 0.4652 - val_loss: 0.4472 - val_binary_accuracy: 0.7857 - val_binary_crossentropy: 0.4472\n",
            "Epoch 23/30\n",
            "15/15 [==============================] - 0s 4ms/step - loss: 0.4629 - binary_accuracy: 0.7848 - binary_crossentropy: 0.4629 - val_loss: 0.4455 - val_binary_accuracy: 0.7857 - val_binary_crossentropy: 0.4455\n",
            "Epoch 24/30\n",
            "15/15 [==============================] - 0s 5ms/step - loss: 0.4610 - binary_accuracy: 0.7913 - binary_crossentropy: 0.4610 - val_loss: 0.4443 - val_binary_accuracy: 0.7857 - val_binary_crossentropy: 0.4443\n",
            "Epoch 25/30\n",
            "15/15 [==============================] - 0s 5ms/step - loss: 0.4588 - binary_accuracy: 0.7870 - binary_crossentropy: 0.4588 - val_loss: 0.4441 - val_binary_accuracy: 0.7857 - val_binary_crossentropy: 0.4441\n",
            "Epoch 26/30\n",
            "15/15 [==============================] - 0s 4ms/step - loss: 0.4572 - binary_accuracy: 0.7891 - binary_crossentropy: 0.4572 - val_loss: 0.4445 - val_binary_accuracy: 0.7857 - val_binary_crossentropy: 0.4445\n",
            "Epoch 27/30\n",
            "15/15 [==============================] - 0s 5ms/step - loss: 0.4554 - binary_accuracy: 0.7870 - binary_crossentropy: 0.4554 - val_loss: 0.4428 - val_binary_accuracy: 0.7857 - val_binary_crossentropy: 0.4428\n",
            "Epoch 28/30\n",
            "15/15 [==============================] - 0s 4ms/step - loss: 0.4532 - binary_accuracy: 0.7848 - binary_crossentropy: 0.4532 - val_loss: 0.4420 - val_binary_accuracy: 0.7857 - val_binary_crossentropy: 0.4420\n",
            "Epoch 29/30\n",
            "15/15 [==============================] - 0s 6ms/step - loss: 0.4521 - binary_accuracy: 0.7848 - binary_crossentropy: 0.4521 - val_loss: 0.4424 - val_binary_accuracy: 0.7857 - val_binary_crossentropy: 0.4424\n",
            "Epoch 30/30\n",
            "15/15 [==============================] - 0s 5ms/step - loss: 0.4507 - binary_accuracy: 0.7848 - binary_crossentropy: 0.4507 - val_loss: 0.4408 - val_binary_accuracy: 0.7922 - val_binary_crossentropy: 0.4408\n"
          ]
        },
        {
          "output_type": "execute_result",
          "data": {
            "text/plain": [
              "<keras.callbacks.History at 0x7f986517c490>"
            ]
          },
          "metadata": {},
          "execution_count": 64
        }
      ]
    },
    {
      "cell_type": "code",
      "source": [
        "y_pred = model.predict(X_test_norm).flatten()\n",
        "y_pred_labels = np.where(y_pred > 0.5, 1, 0)"
      ],
      "metadata": {
        "id": "tPEPAnhTO5zh"
      },
      "execution_count": 65,
      "outputs": []
    },
    {
      "cell_type": "code",
      "source": [
        "evaluate_performance(y_test, y_pred_labels)"
      ],
      "metadata": {
        "colab": {
          "base_uri": "https://localhost:8080/",
          "height": 348
        },
        "id": "8aHF0o7ch6J-",
        "outputId": "c52e3370-29a4-4697-b5d4-113b1b44d965"
      },
      "execution_count": 66,
      "outputs": [
        {
          "output_type": "execute_result",
          "data": {
            "text/plain": [
              "{'F score': 0.6542056074766356,\n",
              " 'accuracy': 0.7597402597402597,\n",
              " 'precision': 0.6481481481481481,\n",
              " 'recall': 0.660377358490566}"
            ]
          },
          "metadata": {},
          "execution_count": 66
        },
        {
          "output_type": "display_data",
          "data": {
            "text/plain": [
              "<Figure size 432x288 with 2 Axes>"
            ],
            "image/png": "[encoded data removed]"
          },
          "metadata": {
            "needs_background": "light"
          }
        }
      ]
    },
    {
      "cell_type": "markdown",
      "source": [
        "> As we can see the scores improved significantly\n"
      ],
      "metadata": {
        "id": "BimmoTgoiGhn"
      }
    },
    {
      "cell_type": "code",
      "source": [
        ""
      ],
      "metadata": {
        "id": "N2rJYoazh8St"
      },
      "execution_count": null,
      "outputs": []
    }
  ]
}