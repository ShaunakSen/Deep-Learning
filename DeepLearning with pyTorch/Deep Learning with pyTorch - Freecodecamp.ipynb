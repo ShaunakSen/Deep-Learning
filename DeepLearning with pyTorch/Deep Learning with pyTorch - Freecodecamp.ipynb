{
 "cells": [
  {
   "cell_type": "markdown",
   "metadata": {},
   "source": [
    "## Deep Learning with PyTorch - by FreeCodeCamp\n",
    "\n",
    "> Video link: [https://www.youtube.com/watch?v=GIsg-ZUy0MY](https://www.youtube.com/watch?v=GIsg-ZUy0MY&t=186s)\n",
    "\n",
    "> Original channel link: [https://www.youtube.com/channel/UCEkIfTA9fTlly9bq5Hg-uzg](https://www.youtube.com/channel/UCEkIfTA9fTlly9bq5Hg-uzg)\n",
    "\n",
    "> Source code link: [https://jovian.ml/aakashns/01-pytorch-basics](https://jovian.ml/aakashns/01-pytorch-basics)\n",
    "\n",
    "> Copy of my notes on the topic\n",
    "\n",
    "---\n",
    "\n",
    "### Introduction\n",
    "\n",
    "#### Curse Contents:\n",
    "\n",
    "<img src=\"./img/diag1.png\"/>\n",
    "<img src=\"./img/diag2.png\"/>\n",
    "<img src=\"./img/diag3.png\"/>"
   ]
  },
  {
   "cell_type": "code",
   "execution_count": null,
   "metadata": {},
   "outputs": [],
   "source": []
  },
  {
   "cell_type": "code",
   "execution_count": null,
   "metadata": {},
   "outputs": [],
   "source": []
  }
 ],
 "metadata": {
  "kernelspec": {
   "display_name": "Python 3.7.4 64-bit",
   "language": "python",
   "name": "python37464bit534221b4ba144d7c9105a79e50b044ad"
  },
  "language_info": {
   "codemirror_mode": {
    "name": "ipython",
    "version": 3
   },
   "file_extension": ".py",
   "mimetype": "text/x-python",
   "name": "python",
   "nbconvert_exporter": "python",
   "pygments_lexer": "ipython3",
   "version": "3.7.4"
  }
 },
 "nbformat": 4,
 "nbformat_minor": 4
}
