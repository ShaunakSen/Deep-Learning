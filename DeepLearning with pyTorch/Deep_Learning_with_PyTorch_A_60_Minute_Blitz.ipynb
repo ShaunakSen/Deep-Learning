{
  "nbformat": 4,
  "nbformat_minor": 0,
  "metadata": {
    "colab": {
      "name": "Deep Learning with PyTorch: A 60 Minute Blitz.ipynb",
      "version": "0.3.2",
      "provenance": [],
      "include_colab_link": true
    },
    "kernelspec": {
      "name": "python3",
      "display_name": "Python 3"
    }
  },
  "cells": [
    {
      "cell_type": "markdown",
      "metadata": {
        "id": "view-in-github",
        "colab_type": "text"
      },
      "source": [
        "<a href=\"https://colab.research.google.com/github/ShaunakSen/Deep-Learning/blob/master/Deep_Learning_with_PyTorch_A_60_Minute_Blitz.ipynb\" target=\"_parent\"><img src=\"https://colab.research.google.com/assets/colab-badge.svg\" alt=\"Open In Colab\"/></a>"
      ]
    },
    {
      "metadata": {
        "id": "C02OKpsnZX7B",
        "colab_type": "text"
      },
      "cell_type": "markdown",
      "source": [
        "# Deep Learning with PyTorch: A 60 Minute Blitz\n",
        "\n",
        "[link to tutorial](https://pytorch.org/tutorials/beginner/blitz/tensor_tutorial.html#sphx-glr-beginner-blitz-tensor-tutorial-py)\n",
        "\n",
        "\n",
        "\n",
        "## What is PYTORCH?\n",
        "\n",
        "It’s a Python-based scientific computing package targeted at two sets of audiences:\n",
        "\n",
        "- A replacement for NumPy to use the power of GPUs\n",
        "\n",
        "- a deep learning research platform that provides maximum flexibility and speed\n",
        "\n",
        "## Getting Started\n",
        "\n",
        "### Tensors\n",
        "\n",
        "Tensors are similar to NumPy’s ndarrays, with the addition being that Tensors can also be used on a GPU to accelerate computing.\n",
        "\n",
        "\n",
        "\n"
      ]
    },
    {
      "metadata": {
        "id": "1MPVKK4bX5wA",
        "colab_type": "code",
        "colab": {}
      },
      "cell_type": "code",
      "source": [
        "from __future__ import print_function\n",
        "\n",
        "import torch"
      ],
      "execution_count": 0,
      "outputs": []
    },
    {
      "metadata": {
        "id": "BTZm7QbzYJb6",
        "colab_type": "text"
      },
      "cell_type": "markdown",
      "source": [
        "Simple operations with tensors in Pytorch:"
      ]
    },
    {
      "metadata": {
        "id": "OHsz-sQjaDKl",
        "colab_type": "code",
        "colab": {
          "base_uri": "https://localhost:8080/",
          "height": 289
        },
        "outputId": "d998144f-2c9d-4a13-a53b-a93223172730"
      },
      "cell_type": "code",
      "source": [
        "x = torch.empty(5, 3)\n",
        "print(x)\n",
        "\n",
        "# Construct a randomly initialized matrix:\n",
        "\n",
        "x = torch.rand(5, 3)\n",
        "\n",
        "print (x)\n",
        "\n",
        "# Construct a matrix filled zeros and of dtype long:\n",
        "\n",
        "x = torch.zeros(5, 3, dtype=torch.long)\n",
        "\n",
        "print(x)\n",
        "\n",
        "# Construct a tensor directly from data:\n",
        "\n",
        "x = torch.tensor([5.5, 3])\n",
        "\n",
        "print(x)"
      ],
      "execution_count": 32,
      "outputs": [
        {
          "output_type": "stream",
          "text": [
            "tensor([[1.0550e-36, 0.0000e+00, 4.4842e-44],\n",
            "        [0.0000e+00,        nan, 1.9500e+00],\n",
            "        [1.7154e-07, 2.1439e-07, 1.6705e+22],\n",
            "        [2.1954e-04, 2.0892e+20, 6.8627e-07],\n",
            "        [4.3122e-08, 1.6918e-04, 1.4513e+00]])\n",
            "tensor([[0.1279, 0.7575, 0.5538],\n",
            "        [0.2163, 0.0678, 0.5580],\n",
            "        [0.4737, 0.1055, 0.1549],\n",
            "        [0.4087, 0.2972, 0.9590],\n",
            "        [0.8846, 0.0217, 0.7626]])\n",
            "tensor([[0, 0, 0],\n",
            "        [0, 0, 0],\n",
            "        [0, 0, 0],\n",
            "        [0, 0, 0],\n",
            "        [0, 0, 0]])\n",
            "tensor([5.5000, 3.0000])\n"
          ],
          "name": "stdout"
        }
      ]
    },
    {
      "metadata": {
        "id": "G9y2dL8bgKGX",
        "colab_type": "text"
      },
      "cell_type": "markdown",
      "source": [
        "We can also create a tensor based on an existing tensor. These methods will reuse properties of the input tensor, e.g. dtype, unless new values are provided by user"
      ]
    },
    {
      "metadata": {
        "id": "-1li7LKqgMun",
        "colab_type": "code",
        "colab": {
          "base_uri": "https://localhost:8080/",
          "height": 102
        },
        "outputId": "bdc6c7cd-eb36-4dd8-d53a-aba19e4e5348"
      },
      "cell_type": "code",
      "source": [
        "x = x.new_ones(5, 3)\n",
        "\n",
        "print (x)"
      ],
      "execution_count": 33,
      "outputs": [
        {
          "output_type": "stream",
          "text": [
            "tensor([[1., 1., 1.],\n",
            "        [1., 1., 1.],\n",
            "        [1., 1., 1.],\n",
            "        [1., 1., 1.],\n",
            "        [1., 1., 1.]])\n"
          ],
          "name": "stdout"
        }
      ]
    },
    {
      "metadata": {
        "id": "3UmUPFcPgYhh",
        "colab_type": "code",
        "colab": {
          "base_uri": "https://localhost:8080/",
          "height": 119
        },
        "outputId": "528fb188-16ce-4158-a1f3-0c85009962b8"
      },
      "cell_type": "code",
      "source": [
        "x = torch.randn_like(x, dtype=torch.float)\n",
        "\n",
        "print(x)\n",
        "\n",
        "# Get size\n",
        "\n",
        "print(x.size())"
      ],
      "execution_count": 34,
      "outputs": [
        {
          "output_type": "stream",
          "text": [
            "tensor([[ 1.2969, -0.9358,  0.5002],\n",
            "        [ 1.0093, -0.6316,  1.1288],\n",
            "        [ 0.0284,  0.2883, -0.1493],\n",
            "        [-0.5257, -1.3940, -2.7181],\n",
            "        [-0.3374, -0.9894,  1.3870]])\n",
            "torch.Size([5, 3])\n"
          ],
          "name": "stdout"
        }
      ]
    },
    {
      "metadata": {
        "id": "PhoMknOTg1S2",
        "colab_type": "text"
      },
      "cell_type": "markdown",
      "source": [
        "### Operations\n",
        "\n",
        "There are multiple syntaxes for operations. In the following example, we will take a look at the addition operation.\n",
        "\n",
        "Addition: syntax 1\n",
        "\n"
      ]
    },
    {
      "metadata": {
        "id": "faFoZu3Vg8RM",
        "colab_type": "code",
        "colab": {
          "base_uri": "https://localhost:8080/",
          "height": 272
        },
        "outputId": "c2ad9c56-49b9-4597-955e-526a080d8042"
      },
      "cell_type": "code",
      "source": [
        "print (x)\n",
        "\n",
        "y = torch.rand(5, 3)\n",
        "\n",
        "print (y)\n",
        "\n",
        "print (x + y)\n",
        "\n",
        "# diff syntax:\n",
        "\n",
        "# print (torch.add(x, y))\n"
      ],
      "execution_count": 35,
      "outputs": [
        {
          "output_type": "stream",
          "text": [
            "tensor([[ 1.2969, -0.9358,  0.5002],\n",
            "        [ 1.0093, -0.6316,  1.1288],\n",
            "        [ 0.0284,  0.2883, -0.1493],\n",
            "        [-0.5257, -1.3940, -2.7181],\n",
            "        [-0.3374, -0.9894,  1.3870]])\n",
            "tensor([[0.0619, 0.5495, 0.2318],\n",
            "        [0.3852, 0.2811, 0.5244],\n",
            "        [0.2899, 0.7580, 0.1290],\n",
            "        [0.0338, 0.0706, 0.5662],\n",
            "        [0.3509, 0.6814, 0.8319]])\n",
            "tensor([[ 1.3588, -0.3864,  0.7320],\n",
            "        [ 1.3946, -0.3505,  1.6532],\n",
            "        [ 0.3183,  1.0463, -0.0203],\n",
            "        [-0.4918, -1.3233, -2.1519],\n",
            "        [ 0.0134, -0.3080,  2.2189]])\n"
          ],
          "name": "stdout"
        }
      ]
    },
    {
      "metadata": {
        "id": "IntmDRy1hVfK",
        "colab_type": "code",
        "colab": {
          "base_uri": "https://localhost:8080/",
          "height": 187
        },
        "outputId": "4262722e-f95a-482f-e815-8e754c5e182e"
      },
      "cell_type": "code",
      "source": [
        "# Addition: providing an output tensor as argument\n",
        "\n",
        "result = torch.empty(5, 3)\n",
        "\n",
        "torch.add(x, y, out=result)\n",
        "\n",
        "print(result)\n",
        "\n",
        "\n",
        "# Addition: in-place\n",
        "\n",
        "y.add_(x)\n",
        "print(y)"
      ],
      "execution_count": 36,
      "outputs": [
        {
          "output_type": "stream",
          "text": [
            "tensor([[ 1.3588, -0.3864,  0.7320],\n",
            "        [ 1.3946, -0.3505,  1.6532],\n",
            "        [ 0.3183,  1.0463, -0.0203],\n",
            "        [-0.4918, -1.3233, -2.1519],\n",
            "        [ 0.0134, -0.3080,  2.2189]])\n",
            "tensor([[ 1.3588, -0.3864,  0.7320],\n",
            "        [ 1.3946, -0.3505,  1.6532],\n",
            "        [ 0.3183,  1.0463, -0.0203],\n",
            "        [-0.4918, -1.3233, -2.1519],\n",
            "        [ 0.0134, -0.3080,  2.2189]])\n"
          ],
          "name": "stdout"
        }
      ]
    },
    {
      "metadata": {
        "id": "wzCkIx6HhvDG",
        "colab_type": "text"
      },
      "cell_type": "markdown",
      "source": [
        "\n",
        "\n",
        "```\n",
        "Any operation that mutates a tensor in-place is post-fixed with an _. For example: x.copy_(y), x.t_(), will change x.\n",
        "```\n",
        "\n",
        "\n",
        "You can use standard NumPy-like indexing with all bells and whistles!\n",
        "\n",
        "\n"
      ]
    },
    {
      "metadata": {
        "id": "t7n6SSRo0NfQ",
        "colab_type": "code",
        "colab": {
          "base_uri": "https://localhost:8080/",
          "height": 34
        },
        "outputId": "adf80d2c-e343-466f-f44c-e368d5cd1683"
      },
      "cell_type": "code",
      "source": [
        "print (x[:, 1])"
      ],
      "execution_count": 37,
      "outputs": [
        {
          "output_type": "stream",
          "text": [
            "tensor([-0.9358, -0.6316,  0.2883, -1.3940, -0.9894])\n"
          ],
          "name": "stdout"
        }
      ]
    },
    {
      "metadata": {
        "id": "1Hv_OEfd0h1B",
        "colab_type": "text"
      },
      "cell_type": "markdown",
      "source": [
        "Resizing: If you want to resize/reshape tensor, you can use torch.view:\n",
        "\n"
      ]
    },
    {
      "metadata": {
        "id": "rkvbOdd_0jFy",
        "colab_type": "code",
        "colab": {
          "base_uri": "https://localhost:8080/",
          "height": 187
        },
        "outputId": "c59627cf-d851-4682-8361-f64df42d4d54"
      },
      "cell_type": "code",
      "source": [
        "x = torch.randn(4, 4)\n",
        "\n",
        "print (x)\n",
        "\n",
        "y = x.view(16)\n",
        "\n",
        "print (y, y.shape)\n",
        "\n",
        "z = x.view(-1, 8) # the size -1 is inferred from other dimensions\n",
        "\n",
        "print (z, z.shape)\n",
        "\n",
        "# If you have a one element tensor, use .item() to get the value as a Python number\n",
        "\n",
        "x = torch.randn(1)\n",
        "\n",
        "print(x)\n",
        "\n",
        "print(x.item())\n"
      ],
      "execution_count": 38,
      "outputs": [
        {
          "output_type": "stream",
          "text": [
            "tensor([[ 0.5503, -0.2049,  0.5096,  0.7812],\n",
            "        [ 2.1719, -1.6890, -1.1916,  2.0088],\n",
            "        [-1.0261,  1.9875,  1.1878,  0.1175],\n",
            "        [ 0.1269,  0.1250, -0.5249, -0.2560]])\n",
            "tensor([ 0.5503, -0.2049,  0.5096,  0.7812,  2.1719, -1.6890, -1.1916,  2.0088,\n",
            "        -1.0261,  1.9875,  1.1878,  0.1175,  0.1269,  0.1250, -0.5249, -0.2560]) torch.Size([16])\n",
            "tensor([[ 0.5503, -0.2049,  0.5096,  0.7812,  2.1719, -1.6890, -1.1916,  2.0088],\n",
            "        [-1.0261,  1.9875,  1.1878,  0.1175,  0.1269,  0.1250, -0.5249, -0.2560]]) torch.Size([2, 8])\n",
            "tensor([-0.6606])\n",
            "-0.6605608463287354\n"
          ],
          "name": "stdout"
        }
      ]
    },
    {
      "metadata": {
        "id": "IdzSpik51XAp",
        "colab_type": "text"
      },
      "cell_type": "markdown",
      "source": [
        "## NumPy Bridge\n",
        "\n",
        "\n",
        "Converting a Torch Tensor to a NumPy array and vice versa is a breeze.\n",
        "\n",
        "**The Torch Tensor and NumPy array will share their underlying memory locations, and changing one will change the other.**\n",
        "\n",
        "### Converting a Torch Tensor to a NumPy Array\n"
      ]
    },
    {
      "metadata": {
        "id": "Do53dU8c1wTP",
        "colab_type": "code",
        "colab": {
          "base_uri": "https://localhost:8080/",
          "height": 85
        },
        "outputId": "97deb26d-1f94-42f7-dc99-5d63db236dbf"
      },
      "cell_type": "code",
      "source": [
        "a = torch.ones(5)\n",
        "\n",
        "print (a)\n",
        "\n",
        "b = a.numpy()\n",
        "\n",
        "print (b)\n",
        "\n",
        "# See how the numpy array changed in value.\n",
        "\n",
        "a.add_(1)\n",
        "\n",
        "print(a)\n",
        "\n",
        "print(b)"
      ],
      "execution_count": 39,
      "outputs": [
        {
          "output_type": "stream",
          "text": [
            "tensor([1., 1., 1., 1., 1.])\n",
            "[1. 1. 1. 1. 1.]\n",
            "tensor([2., 2., 2., 2., 2.])\n",
            "[2. 2. 2. 2. 2.]\n"
          ],
          "name": "stdout"
        }
      ]
    },
    {
      "metadata": {
        "id": "aI3cy7ZS2VwW",
        "colab_type": "text"
      },
      "cell_type": "markdown",
      "source": [
        "### Converting NumPy Array to Torch Tensor\n",
        "\n",
        "See how changing the np array changed the Torch Tensor automatically\n",
        "\n"
      ]
    },
    {
      "metadata": {
        "id": "mB35DeMA262Y",
        "colab_type": "code",
        "colab": {
          "base_uri": "https://localhost:8080/",
          "height": 34
        },
        "outputId": "822a7202-221a-408f-b735-cb25b4f1a03e"
      },
      "cell_type": "code",
      "source": [
        "import numpy as np\n",
        "\n",
        "a = np.ones(5)\n",
        "\n",
        "b = torch.from_numpy(a)\n",
        "\n",
        "np.add(a, 1, out=a)\n",
        "\n",
        "print(a, b)"
      ],
      "execution_count": 40,
      "outputs": [
        {
          "output_type": "stream",
          "text": [
            "[2. 2. 2. 2. 2.] tensor([2., 2., 2., 2., 2.], dtype=torch.float64)\n"
          ],
          "name": "stdout"
        }
      ]
    },
    {
      "metadata": {
        "id": "evwVfyHHh0zo",
        "colab_type": "text"
      },
      "cell_type": "markdown",
      "source": [
        "## CUDA Tensors\n",
        "\n",
        "Tensors can be moved onto any device using the .to method.\n",
        "\n"
      ]
    },
    {
      "metadata": {
        "id": "56FDVlkl3ZYL",
        "colab_type": "code",
        "colab": {}
      },
      "cell_type": "code",
      "source": [
        ""
      ],
      "execution_count": 0,
      "outputs": []
    },
    {
      "metadata": {
        "id": "YkiwgDw53c8T",
        "colab_type": "code",
        "colab": {}
      },
      "cell_type": "code",
      "source": [
        "# let us run this cell only if CUDA is available\n",
        "\n",
        "# We will use ``torch.device`` objects to move tensors in and out of GPU\n",
        "\n",
        "if torch.cuda.is_available():\n",
        "  device = torch.device(\"cuda\") # a CUDA device object\n",
        "  \n",
        "  print (device)\n",
        "  \n",
        "  y = torch.ones_like(x, device=device) # directly create a tensor on GPU\n",
        "  \n",
        "  x = x.to(device) # or just use strings ``.to(\"cuda\")``\n",
        "  z = x + y\n",
        "  print(z)\n",
        "  \n",
        "  print(z.to(device=\"cpu\",dtype=torch.double)) # ``.to`` can also change dtype together!\n",
        "  "
      ],
      "execution_count": 0,
      "outputs": []
    }
  ]
}