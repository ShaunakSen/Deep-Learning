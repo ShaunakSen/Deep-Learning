{
  "nbformat": 4,
  "nbformat_minor": 0,
  "metadata": {
    "colab": {
      "name": "Copy of 2_1_ForwardAD.ipynb",
      "version": "0.3.2",
      "provenance": [],
      "collapsed_sections": [],
      "include_colab_link": true
    },
    "kernelspec": {
      "display_name": "Python 3",
      "language": "python",
      "name": "python3"
    }
  },
  "cells": [
    {
      "cell_type": "markdown",
      "metadata": {
        "id": "view-in-github",
        "colab_type": "text"
      },
      "source": [
        "<a href=\"https://colab.research.google.com/github/ShaunakSen/Deep-Learning/blob/master/Copy_of_2_1_ForwardAD.ipynb\" target=\"_parent\"><img src=\"https://colab.research.google.com/assets/colab-badge.svg\" alt=\"Open In Colab\"/></a>"
      ]
    },
    {
      "metadata": {
        "deletable": false,
        "editable": false,
        "nbgrader": {
          "checksum": "f415941a3a1516f0b3e2b93249aff57d",
          "grade": false,
          "grade_id": "cell-1015fd7f8a1783c7",
          "locked": true,
          "schema_version": 1,
          "solution": false
        },
        "id": "r6fOC9k7WkR0",
        "colab_type": "text"
      },
      "cell_type": "markdown",
      "source": [
        "# Part 1: Forward Mode Automatic Differentiation\n",
        "\n",
        "Forward mode AD can simply be implemented by defining a class to represent [dual numbers](https://en.wikipedia.org/wiki/Dual_number) which hold the value and its derivative. The following skeleton defines a dual number and implements multiplication. \n",
        "\n",
        "__Tasks:__\n",
        "\n",
        "- Addition (`__add__`) is incomplete - can you finish it? \n",
        "- Can you also implement division (`__truediv__`), subtraction (`__sub__`) and power (`__pow__`)?"
      ]
    },
    {
      "metadata": {
        "deletable": false,
        "nbgrader": {
          "checksum": "33fa490908871a743dabb3060ebe112e",
          "grade": false,
          "grade_id": "cell-a645b47036f56c2e",
          "locked": false,
          "schema_version": 1,
          "solution": true
        },
        "id": "SOArX8T8WkR3",
        "colab_type": "code",
        "outputId": "fca373cc-48b5-4b84-cfa2-08148b3d584e",
        "colab": {
          "base_uri": "https://localhost:8080/",
          "height": 34
        }
      },
      "cell_type": "code",
      "source": [
        "import math\n",
        "\n",
        "class DualNumber:\n",
        "    def __init__(self, value, dvalue):\n",
        "        self.value = value\n",
        "        self.dvalue = dvalue\n",
        "\n",
        "    def __str__(self):\n",
        "        return str(self.value) + \" + \" + str(self.dvalue) + \"ε\"\n",
        "\n",
        "    def __mul__(self, other):\n",
        "        return DualNumber(self.value * other.value,\n",
        "            self.dvalue * other.value + other.dvalue * self.value)\n",
        "    \n",
        "    def __add__(self, other):\n",
        "        #TODO: finish me\n",
        "        # YOUR CODE HERE\n",
        "        \n",
        "        # (a + be) + (x + ye) = (a + x) + e(b + y) \n",
        "        return DualNumber(self.value + other.value, self.dvalue + other.dvalue)\n",
        "      \n",
        "    def __sub__(self, other):\n",
        "        #TODO: finish me\n",
        "        # YOUR CODE HERE\n",
        "        # (a + be) - (x + ye) = (a - x) + e(b - y) \n",
        "        return DualNumber(self.value - other.value, self.dvalue - other.dvalue)\n",
        "      \n",
        "    def __truediv__(self, other):\n",
        "      \n",
        "      # to compute (a+be)/(x+ye), we first compute conjugate of Dr ie (x - ye)\n",
        "      \n",
        "      Dr_conjugate = DualNumber(other.value, -other.dvalue)\n",
        "      \n",
        "      # next we multiply Nr and Dr with the conjugate\n",
        "      \n",
        "      denominator = other * Dr_conjugate\n",
        "      \n",
        "      # the denominator after multiplying is only left with the real part squared (x^2)\n",
        "      \n",
        "      denominator_value = denominator.value\n",
        "      \n",
        "      numerator = self*Dr_conjugate\n",
        "      \n",
        "      # print(numerator, denominator)\n",
        "      \n",
        "      result = DualNumber(numerator.value/denominator_value, numerator.dvalue/denominator_value)\n",
        "      \n",
        "      return result\n",
        "    \n",
        "    # TODO: add missing methods\n",
        "    # YOUR CODE HERE\n",
        "    # raise NotImplementedError()\n",
        "    \n",
        "    \n",
        "    \n",
        "    def __pow__(self, other):\n",
        "      \n",
        "      # (a+eb)^(c+ed) = a^c + e.a^c[d.lna + (b*c)/a]: reference link: https://math.stackexchange.com/questions/1914591/dual-number-ab-varepsilon-raised-to-a-dual-power-e-g-ab-varepsilon\n",
        "      \n",
        "      a = self.value\n",
        "      b = self.dvalue\n",
        "      c = other.value\n",
        "      d = other.dvalue\n",
        "      \n",
        "      real_part = a**c\n",
        "      \n",
        "      dual_part = a**c*(d*math.log(a) + (b*c)/a)\n",
        "      \n",
        "      return DualNumber(real_part, dual_part)\n",
        "      \n",
        "    \n",
        "print(DualNumber(4,4)/DualNumber(5,3))"
      ],
      "execution_count": 3,
      "outputs": [
        {
          "output_type": "stream",
          "text": [
            "0.8 + 0.32ε\n"
          ],
          "name": "stdout"
        }
      ]
    },
    {
      "metadata": {
        "deletable": false,
        "editable": false,
        "nbgrader": {
          "checksum": "e9afb52c0524256aa416c8e0ceec60de",
          "grade": true,
          "grade_id": "cell-7923d5c39d574cd7",
          "locked": true,
          "points": 3,
          "schema_version": 1,
          "solution": false
        },
        "id": "g9v77_rGWkR7",
        "colab_type": "code",
        "outputId": "6dec93cc-a38c-429c-f1d0-23e3b0e57abf",
        "colab": {
          "base_uri": "https://localhost:8080/",
          "height": 34
        }
      },
      "cell_type": "code",
      "source": [
        "# Tests\n",
        "\n",
        "print (DualNumber(1,0) + DualNumber(1,0) / DualNumber(1,0) - DualNumber(1,0)**DualNumber(1,0))\n"
      ],
      "execution_count": 5,
      "outputs": [
        {
          "output_type": "stream",
          "text": [
            "1.0 + 0.0ε\n"
          ],
          "name": "stdout"
        }
      ]
    },
    {
      "metadata": {
        "id": "Uvo6BAgKd77W",
        "colab_type": "code",
        "colab": {
          "base_uri": "https://localhost:8080/",
          "height": 34
        },
        "outputId": "ec222c16-7fc3-410a-d36b-80f974d3347d"
      },
      "cell_type": "code",
      "source": [
        "print (DualNumber(1,2)**DualNumber(3,2))"
      ],
      "execution_count": 9,
      "outputs": [
        {
          "output_type": "stream",
          "text": [
            "1 + 6.0ε\n"
          ],
          "name": "stdout"
        }
      ]
    },
    {
      "metadata": {
        "deletable": false,
        "editable": false,
        "nbgrader": {
          "checksum": "be03930a421d27414e745ac5839fddd3",
          "grade": false,
          "grade_id": "cell-2c8ce137dbdd2f9d",
          "locked": true,
          "schema_version": 1,
          "solution": false
        },
        "id": "WKKjB_HeWkR-",
        "colab_type": "text"
      },
      "cell_type": "markdown",
      "source": [
        "## Implementing math functions\n",
        "\n",
        "We also need to implement some core math functions. Here's the sine function for a dual number:"
      ]
    },
    {
      "metadata": {
        "deletable": false,
        "editable": false,
        "nbgrader": {
          "checksum": "1fc46030449c0860972520bddf2a498d",
          "grade": false,
          "grade_id": "cell-30886f6180e2ca7c",
          "locked": true,
          "schema_version": 1,
          "solution": false
        },
        "id": "GEF6w66uWkSB",
        "colab_type": "code",
        "outputId": "756580d9-e190-42b6-ba72-488f250ac26b",
        "colab": {
          "base_uri": "https://localhost:8080/",
          "height": 52
        }
      },
      "cell_type": "code",
      "source": [
        "def sin(x):\n",
        "    return DualNumber(math.sin(x.value), math.cos(x.value)*x.dvalue)\n",
        "print(DualNumber(4,3))\n",
        "print(sin(DualNumber(4,3)))"
      ],
      "execution_count": 15,
      "outputs": [
        {
          "output_type": "stream",
          "text": [
            "4 + 3ε\n",
            "-0.7568024953079282 + -1.960930862590836ε\n"
          ],
          "name": "stdout"
        }
      ]
    },
    {
      "metadata": {
        "deletable": false,
        "editable": false,
        "nbgrader": {
          "checksum": "54b68135467f7b83dfa9749df021c932",
          "grade": false,
          "grade_id": "cell-9b585bf1afe72cca",
          "locked": true,
          "schema_version": 1,
          "solution": false
        },
        "id": "wVBtG1RqWkSE",
        "colab_type": "text"
      },
      "cell_type": "markdown",
      "source": [
        "__Task:__ can you implement the _cosine_ (`cos`), _tangent_ (`tan`), and _exponential_ (`exp`) functions in the code block below?"
      ]
    },
    {
      "metadata": {
        "deletable": false,
        "nbgrader": {
          "checksum": "2bea3862089cbfe7a78ceaa915a87a3b",
          "grade": false,
          "grade_id": "cell-61b9462cb781a8e1",
          "locked": false,
          "schema_version": 1,
          "solution": true
        },
        "id": "jCNLQNzmWkSF",
        "colab_type": "code",
        "colab": {}
      },
      "cell_type": "code",
      "source": [
        "# TODO: implement additional math functions on dual numbers\n",
        "\n",
        "def cos(x):\n",
        "    # YOUR CODE HERE\n",
        "    return DualNumber(math.cos(x.value), -math.sin(x.value)*x.dvalue)\n",
        "\n",
        "def tan(x):\n",
        "    # YOUR CODE HERE\n",
        "    sec_sq = 1/(math.cos(x.value)**2)\n",
        "    return DualNumber(math.tan(x.value), sec_sq*x.dvalue)\n",
        "\n",
        "def exp(x):\n",
        "    # YOUR CODE HERE\n",
        "    return DualNumber(math.exp(x.value), math.exp(x.value)*x.dvalue)\n",
        "    "
      ],
      "execution_count": 0,
      "outputs": []
    },
    {
      "metadata": {
        "deletable": false,
        "editable": false,
        "nbgrader": {
          "checksum": "29c49048fd70b07ab3819fcb5e4972ec",
          "grade": true,
          "grade_id": "cell-9055ec23e6e9ffb8",
          "locked": true,
          "points": 3,
          "schema_version": 1,
          "solution": false
        },
        "id": "5rrEToSdWkSI",
        "colab_type": "code",
        "colab": {}
      },
      "cell_type": "code",
      "source": [
        "# Tests\n",
        "assert cos(DualNumber(0,0)).value == 1\n",
        "assert tan(DualNumber(0,0)).value == 0\n",
        "assert exp(DualNumber(0,0)).value == 1\n"
      ],
      "execution_count": 0,
      "outputs": []
    },
    {
      "metadata": {
        "deletable": false,
        "editable": false,
        "nbgrader": {
          "checksum": "5f834befbd408096b4d11ec9cd22159c",
          "grade": false,
          "grade_id": "cell-0429b8810d0cf3a3",
          "locked": true,
          "schema_version": 1,
          "solution": false
        },
        "id": "BEnXIWQPWkSL",
        "colab_type": "text"
      },
      "cell_type": "markdown",
      "source": [
        "## Time to try it out\n",
        "\n",
        "We're now in a position to try our implementation.\n",
        "\n",
        "__Task:__ \n",
        "\n",
        "- Try running the following code to compute the value of the function $z=x\\cdot y+sin(x)$ given $x=0.5$ and $y=4.2$, together with the derivative $\\partial z/\\partial x$ at that point. "
      ]
    },
    {
      "metadata": {
        "deletable": false,
        "nbgrader": {
          "checksum": "ff1399f6f7101774bd4d3e9c49ed6458",
          "grade": false,
          "grade_id": "cell-12f7c8fa42784946",
          "locked": false,
          "schema_version": 1,
          "solution": true
        },
        "id": "3GtL7OhHWkSM",
        "colab_type": "code",
        "outputId": "2e5d52c0-15ea-40b0-ba9a-f368cf7454f7",
        "colab": {
          "base_uri": "https://localhost:8080/",
          "height": 34
        }
      },
      "cell_type": "code",
      "source": [
        "# YOUR CODE HERE\n",
        "# raise NotImplementedError()\n",
        "\n",
        "# we have to represent x and y in form of dual nos\n",
        "\n",
        "# since we are calculating the derivative of z wrt x the real part of x will be 0.5 and dual part will be 1 \n",
        "\n",
        "x = DualNumber(0.5, 1)\n",
        "\n",
        "# since we are calculating the derivative of z wrt x the real part of y will be 4.2 and dual part will be 0\n",
        "\n",
        "\n",
        "y = DualNumber(4.2, 0)\n",
        "\n",
        "sin_x = sin(x)\n",
        "\n",
        "print(x*y + sin_x)"
      ],
      "execution_count": 31,
      "outputs": [
        {
          "output_type": "stream",
          "text": [
            "2.579425538604203 + 5.077582561890373ε\n"
          ],
          "name": "stdout"
        }
      ]
    },
    {
      "metadata": {
        "deletable": false,
        "editable": false,
        "nbgrader": {
          "checksum": "7719838a896c466bcc58ecb273f89175",
          "grade": false,
          "grade_id": "cell-204b8d399904b523",
          "locked": true,
          "schema_version": 1,
          "solution": false
        },
        "id": "48bAJotEWkSP",
        "colab_type": "text"
      },
      "cell_type": "markdown",
      "source": [
        "__Task__: Differentiate the above function with respect to $x$ and write the symbolic derivatives in the following box. Verify the result computed above is correct by plugging-in the values into your symbolic gradient expression."
      ]
    },
    {
      "metadata": {
        "deletable": false,
        "nbgrader": {
          "checksum": "07ca9c4df262fa25d98cea6f0e36d979",
          "grade": true,
          "grade_id": "cell-1ae4d0a0801a142a",
          "locked": false,
          "points": 2,
          "schema_version": 1,
          "solution": true
        },
        "id": "JFaPKdmSWkSU",
        "colab_type": "text"
      },
      "cell_type": "markdown",
      "source": [
        "The above code gives us the result as: `2.579425538604203 + 5.077582561890373ε`\n",
        "\n",
        "This means that the value of the function $z=x\\cdot y+sin(x)$ is 2.579425538604203 and the value of the derivative of z wrt x is 5.077582561890373 at x = 0.5 and y = 4.2 \n",
        "\n",
        "Let us verify if it is correct or not:\n",
        "\n",
        "**Verification of the real part:**\n",
        "\n",
        "The value of $z=x\\cdot y+sin(x)$ given $x=0.5$ and $y=4.2$:\n",
        "\n",
        "$z = 0.5\\cdot4.2 + sin(0.5) = 2.57942554$\n",
        "\n",
        "Thus this result is verified\n",
        "\n",
        "**Verification of the derivative part:**\n",
        "\n",
        "\n",
        "$z=x\\cdot y+sin(x)$\n",
        "\n",
        "$\\partial z/\\partial x = y + cos(x)$\n",
        "\n",
        "Substituting  x = 0.5 and y = 4.2:\n",
        "\n",
        "$\\partial z/\\partial x = 0.877582562 + 4.2 = 5.07758256$\n",
        "\n",
        "Thus, the result is verified\n"
      ]
    },
    {
      "metadata": {
        "id": "AmHnQ6O4WkSV",
        "colab_type": "text"
      },
      "cell_type": "markdown",
      "source": [
        "__Task:__ Now use the code block below to compute the derivative $\\partial z/\\partial y$ of the above expression (at the same point $x=0.5, y=4.2$ as above) and store the derivative in the variable `dzdy` (just the derivative, not the Dual Number). Verify by hand that the result is correct."
      ]
    },
    {
      "metadata": {
        "deletable": false,
        "nbgrader": {
          "checksum": "cd3fbc66891ec630d8d3029df8ad0766",
          "grade": false,
          "grade_id": "cell-eab763bf1b218dc8",
          "locked": false,
          "schema_version": 1,
          "solution": true
        },
        "id": "Ey-T1svAWkSW",
        "colab_type": "code",
        "outputId": "dbdd1782-8f1c-42b5-fb6e-cad61ee7ed46",
        "colab": {
          "base_uri": "https://localhost:8080/",
          "height": 34
        }
      },
      "cell_type": "code",
      "source": [
        "# YOUR CODE HERE\n",
        "x = DualNumber(0.5, 0)\n",
        "\n",
        "y = DualNumber(4.2, 1)\n",
        "\n",
        "\n",
        "dzdy = (x*y + sin(x)).dvalue\n",
        "\n",
        "print('dz/dy:', dzdy)"
      ],
      "execution_count": 32,
      "outputs": [
        {
          "output_type": "stream",
          "text": [
            "dz/dy: 0.5\n"
          ],
          "name": "stdout"
        }
      ]
    },
    {
      "metadata": {
        "id": "YysjaYjBmzK8",
        "colab_type": "text"
      },
      "cell_type": "markdown",
      "source": [
        "**Verification of the derivative part:**\n",
        "\n",
        "\n",
        "$z=x\\cdot y+sin(x)$\n",
        "\n",
        "$\\partial z/\\partial y = x$\n",
        "\n",
        "Substituting  x = 0.5 \n",
        "\n",
        "$\\partial z/\\partial y =0.5$\n",
        "\n",
        "Thus, the result is verified\n"
      ]
    },
    {
      "metadata": {
        "deletable": false,
        "editable": false,
        "nbgrader": {
          "checksum": "0e76a35421fc942d840771242e268dad",
          "grade": true,
          "grade_id": "cell-a2f9f0ca4b1ed763",
          "locked": true,
          "points": 2,
          "schema_version": 1,
          "solution": false
        },
        "id": "DrmzuVl8WkSY",
        "colab_type": "code",
        "colab": {}
      },
      "cell_type": "code",
      "source": [
        "#Tests\n",
        "assert dzdy\n",
        "assert type(dzdy) == float\n"
      ],
      "execution_count": 0,
      "outputs": []
    },
    {
      "metadata": {
        "deletable": false,
        "editable": false,
        "nbgrader": {
          "checksum": "827a8ca599d07c42685e571f2491cf48",
          "grade": false,
          "grade_id": "cell-8faa6c905dd61e82",
          "locked": true,
          "schema_version": 1,
          "solution": false
        },
        "id": "m92Qj1eXWkSb",
        "colab_type": "text"
      },
      "cell_type": "markdown",
      "source": [
        "__Task:__ Finally, use the code block below to experiment and test the other math functions and methods you created."
      ]
    },
    {
      "metadata": {
        "id": "AR9ahOH8og_9",
        "colab_type": "text"
      },
      "cell_type": "markdown",
      "source": [
        "Some other math functions to be tested are:\n",
        "\n",
        "- tan\n",
        "- power\n",
        "- exp\n",
        "\n",
        "Let us find $\\partial z/\\partial x$ for each of the following functions at **x=2 and y=3** \n",
        "1. $z = x^{y}$\n",
        "\n",
        "   $\\partial z/\\partial x = y.x^{y-1}$\n",
        "   \n",
        "   The result should be **8 + 12.0ε**\n",
        "\n",
        "2. $z = tan(x) + e^{x}$\n",
        "\n",
        "  $\\partial z/\\partial x = {sec}^{2}(x) + e^{x}$\n",
        "  \n",
        "  Computing the result with normal functions:\n",
        "  \n",
        "  "
      ]
    },
    {
      "metadata": {
        "id": "vD0cYOlwzwyk",
        "colab_type": "code",
        "colab": {
          "base_uri": "https://localhost:8080/",
          "height": 34
        },
        "outputId": "8ef4553d-0464-46f5-d8d6-8d7b6d356447"
      },
      "cell_type": "code",
      "source": [
        "1/(math.cos(2)**2) + math.exp(2)"
      ],
      "execution_count": 40,
      "outputs": [
        {
          "output_type": "execute_result",
          "data": {
            "text/plain": [
              "13.163455302972569"
            ]
          },
          "metadata": {
            "tags": []
          },
          "execution_count": 40
        }
      ]
    },
    {
      "metadata": {
        "id": "SxsVaAEs1lml",
        "colab_type": "code",
        "colab": {
          "base_uri": "https://localhost:8080/",
          "height": 34
        },
        "outputId": "fe7b6c33-bc18-47f8-e324-636a2fd92748"
      },
      "cell_type": "code",
      "source": [
        "math.tan(2) + math.exp(2)"
      ],
      "execution_count": 41,
      "outputs": [
        {
          "output_type": "execute_result",
          "data": {
            "text/plain": [
              "5.2040162356691315"
            ]
          },
          "metadata": {
            "tags": []
          },
          "execution_count": 41
        }
      ]
    },
    {
      "metadata": {
        "id": "w00An4y52NqN",
        "colab_type": "text"
      },
      "cell_type": "markdown",
      "source": [
        "The result of the 2nd function should be **5.2040162356691315 + 13.163455302972569ε**\n",
        "\n",
        "Using Dual Numbers:"
      ]
    },
    {
      "metadata": {
        "deletable": false,
        "nbgrader": {
          "checksum": "7c7f4bfbb93248c24b6fac692d6d3109",
          "grade": true,
          "grade_id": "cell-b71d4bb64928ee38",
          "locked": false,
          "points": 0,
          "schema_version": 1,
          "solution": true
        },
        "id": "uK12ogIKWkSb",
        "colab_type": "code",
        "colab": {
          "base_uri": "https://localhost:8080/",
          "height": 52
        },
        "outputId": "357b4866-6d79-40a0-a63f-7c8c1d5ef8e7"
      },
      "cell_type": "code",
      "source": [
        "# YOUR CODE HERE\n",
        "\n",
        "# test for 1st function\n",
        "\n",
        "x = DualNumber(2, 1)\n",
        "\n",
        "y = DualNumber(3, 0)\n",
        "\n",
        "print(x**y)\n",
        "\n",
        "# first function verified\n",
        "\n",
        "\n",
        "\n",
        "# test for 2nd function:\n",
        "\n",
        "print (tan(x) + exp(x))\n",
        "\n",
        "# second function verified"
      ],
      "execution_count": 33,
      "outputs": [
        {
          "output_type": "stream",
          "text": [
            "8 + 12.0ε\n",
            "5.2040162356691315 + 13.163455302972569ε\n"
          ],
          "name": "stdout"
        }
      ]
    }
  ]
}