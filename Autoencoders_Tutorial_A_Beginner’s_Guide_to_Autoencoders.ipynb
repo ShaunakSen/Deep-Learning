{
  "nbformat": 4,
  "nbformat_minor": 0,
  "metadata": {
    "colab": {
      "name": "Autoencoders Tutorial : A Beginner’s Guide to Autoencoders.ipynb",
      "version": "0.3.2",
      "provenance": [],
      "collapsed_sections": [],
      "include_colab_link": true
    },
    "kernelspec": {
      "name": "python3",
      "display_name": "Python 3"
    }
  },
  "cells": [
    {
      "cell_type": "markdown",
      "metadata": {
        "id": "view-in-github",
        "colab_type": "text"
      },
      "source": [
        "<a href=\"https://colab.research.google.com/github/ShaunakSen/Deep-Learning/blob/master/Autoencoders_Tutorial_A_Beginner%E2%80%99s_Guide_to_Autoencoders.ipynb\" target=\"_parent\"><img src=\"https://colab.research.google.com/assets/colab-badge.svg\" alt=\"Open In Colab\"/></a>"
      ]
    },
    {
      "cell_type": "markdown",
      "metadata": {
        "id": "oFeXey_-Itw8",
        "colab_type": "text"
      },
      "source": [
        "## Autoencoders Tutorial : A Beginner’s Guide to Autoencoders\n",
        "\n",
        "[tutorial link](https://www.edureka.co/blog/autoencoders-tutorial/)\n",
        "\n",
        "Artificial Intelligence encircles a wide range of technologies and techniques that enable computer systems to solve problems like Data Compression which is used in computer vision, computer networks, computer architecture, and many other fields. Autoencoders are unsupervised neural networks that use machine learning to do this compression for us.\n",
        "\n",
        "### What are Autoencoders?\n",
        "\n",
        "An autoencoder neural network is an Unsupervised Machine learning algorithm that applies backpropagation, setting the target values to be equal to the inputs. Autoencoders are used to reduce the size of our inputs into a smaller representation. If anyone needs the original data, they can reconstruct it from the compressed data.\n",
        "\n",
        "![](https://d1jnx9ba8s6j9r.cloudfront.net/blog/content/ver.1556540029/uploads/2018/10/1_8ixTe1VHLsmKB3AquWdxpQ-528x177.png)\n",
        "\n",
        "We have a similar machine learning algorithm ie. PCA which does the same task. So you might be thinking why do we need Autoencoders then? Let’s continue this Autoencoders Tutorial and find out the reason behind using Autoencoders.\n",
        "\n",
        "### Autoencoders Tutorial: Its Emergence\n",
        "\n",
        "- An autoencoder can learn non-linear transformations with a non-linear activation function and multiple layers.\n",
        "- It doesn’t have to learn dense layers. It can use convolutional layers to learn which is better for video, image and series data.\n",
        "- It is more efficient to learn several layers with an autoencoder rather than learn one huge transformation with PCA.\n",
        "- An autoencoder provides a representation of each layer as the output.\n",
        "- It can make use of pre-trained layers from another model to apply transfer learning to enhance the encoder/decoder.\n",
        "\n",
        "![](https://d1jnx9ba8s6j9r.cloudfront.net/blog/content/ver.1556540029/uploads/2018/10/pca-vs-346x300.png)\n",
        "\n",
        "Now let’s have a look at a few Industrial Applications of Autoencoders.\n",
        "\n"
      ]
    },
    {
      "cell_type": "markdown",
      "metadata": {
        "id": "ypleQyA8KJJ6",
        "colab_type": "text"
      },
      "source": [
        "### Applications of Autoencoders\n",
        "\n",
        "#### Image Coloring\n",
        "\n",
        "Autoencoders are used for converting any black and white picture into a colored image. Depending on what is in the picture, it is possible to tell what the color should be.\n",
        "\n",
        "![](https://d1jnx9ba8s6j9r.cloudfront.net/blog/content/ver.1556540029/uploads/2018/10/4-6-528x176.png)\n",
        "\n",
        "#### Feature variation\n",
        "\n",
        "It extracts only the required features of an image and generates the output by removing any noise or unnecessary interruption.\n",
        "\n",
        "![](https://d1jnx9ba8s6j9r.cloudfront.net/blog/content/ver.1556540029/uploads/2018/10/1_has2O8b3HAUqvcqqLrlBQA-528x193.png)\n",
        "\n",
        "#### Dimensionality Reduction\n",
        "\n",
        "The reconstructed image is the same as our input but with reduced dimensions. It helps in providing the similar image with a reduced pixel value.\n",
        "\n",
        "![](https://d1jnx9ba8s6j9r.cloudfront.net/blog/content/ver.1556540029/uploads/2018/10/raisr-info-width-2000-528x297.png)\n",
        "\n",
        "#### Denoising Image\n",
        "\n",
        "The input seen by the autoencoder is not the raw input but a stochastically corrupted version. A denoising autoencoder is thus trained to reconstruct the original input from the noisy version.\n",
        "\n",
        "![](https://d1jnx9ba8s6j9r.cloudfront.net/blog/content/ver.1556540029/uploads/2018/10/1_G0V4dz4RKTKGpebeoSWB0A-528x254.png)\n",
        "\n",
        "#### Watermark Removal\n",
        "\n",
        "It is also used for removing watermarks from images or to remove any object while filming a video or a movie.\n",
        "\n",
        "![](https://d1jnx9ba8s6j9r.cloudfront.net/blog/content/ver.1556540029/uploads/2018/10/f4as-1-528x120.jpg)"
      ]
    },
    {
      "cell_type": "markdown",
      "metadata": {
        "id": "LlKgCdkNK6Z9",
        "colab_type": "text"
      },
      "source": [
        "### Architecture of Autoencoders\n",
        "\n",
        "An Autoencoder consist of three layers:\n",
        "\n",
        "1. Encoder\n",
        "2. Code\n",
        "3. Decoder\n",
        "\n",
        "![](https://d1jnx9ba8s6j9r.cloudfront.net/blog/content/ver.1556540029/uploads/2018/10/1_44eDEuZBEsmG_TCAKRI3Kw@2x-1-528x300.png)\n",
        "\n",
        "- Encoder: This part of the network compresses the input into a latent space representation. The encoder layer encodes the input image as a compressed representation in a reduced dimension. The compressed image is the distorted version of the original image.\n",
        "- Code: This part of the network represents the compressed input which is fed to the decoder.\n",
        "- Decoder: This layer decodes the encoded image back to the original dimension. The decoded image is a lossy reconstruction of the original image and it is reconstructed from the latent space representation.\n",
        "\n",
        "What’s the latent space again?\n",
        "\n",
        "An autoencoder is made of two components, here’s a quick reminder. The encoder brings the data from a high dimensional input to a bottleneck layer, where the number of neurons is the smallest. Then, the decoder takes this encoded input and converts it back to the original input shape — in our case an image. The latent space is the space in which the data lies in the bottleneck layer.\n",
        "\n",
        "The latent space contains a compressed representation of the image, which is the only information the decoder is allowed to use to try to reconstruct the input as faithfully as possible. To perform well, the network has to learn to extract the most relevant features in the bottleneck.\n",
        "\n",
        "The layer between the encoder and decoder, ie. the code is also known as Bottleneck. This is a well-designed approach to decide which aspects of observed data are relevant information and what aspects can be discarded. It does this by balancing two criteria :\n",
        "\n",
        "- Compactness of representation, measured as the compressibility.\n",
        "- It retains some behaviourally relevant variables from the input. \n",
        "\n",
        "![](https://d1jnx9ba8s6j9r.cloudfront.net/blog/content/ver.1556540029/uploads/2018/10/Input-Output-layers-313x300.png)\n",
        "\n"
      ]
    },
    {
      "cell_type": "markdown",
      "metadata": {
        "id": "HlR2nNzhS6vQ",
        "colab_type": "text"
      },
      "source": [
        "### Properties and Hyperparameters\n",
        "\n",
        "#### Properties\n",
        "\n",
        "- Data-specific: Autoencoders are only able to compress data similar to what they have been trained on.\n",
        "- Lossy: The decompressed outputs will be degraded compared to the original inputs.\n",
        "- Learned automatically from examples: It is easy to train specialized instances of the algorithm that will perform well on a specific type of input.\n",
        "\n",
        "#### Hyperparameters\n",
        "\n",
        "There are 4 hyperparameters that we need to set before training an autoencoder:\n",
        "\n",
        "- Code size: It represents the number of nodes in the middle layer. Smaller size results in more compression.\n",
        "\n",
        "- Number of layers: The autoencoder can consist of as many layers as we want.\n",
        "\n",
        "- Number of nodes per layer: The number of nodes per layer decreases with each subsequent layer of the encoder, and increases back in the decoder. The decoder is symmetric to the encoder in terms of the layer structure.\n",
        "\n",
        "- Loss function: We either use mean squared error or binary cross-entropy. If the input values are in the range [0, 1] then we typically use cross-entropy, otherwise, we use the mean squared error.\n",
        "\n",
        "### Types of Autoencoders\n",
        "\n",
        "#### Convolution Autoencoders\n",
        "\n",
        "Autoencoders in their traditional formulation does not take into account the fact that a signal can be seen as a sum of other signals. Convolutional Autoencoders use the convolution operator to exploit this observation. They learn to encode the input in a set of simple signals and then try to reconstruct the input from them, modify the geometry or the reflectance of the image.\n",
        "\n",
        "![](https://d1jnx9ba8s6j9r.cloudfront.net/blog/content/ver.1556540029/uploads/2018/10/4-Figure1-1-528x192.png)\n",
        "\n",
        "Use cases of CAE:\n",
        "\n",
        "- Image Reconstruction\n",
        "- Image Colorization\n",
        "- latent space clustering\n",
        "- generating higher resolution images\n",
        "\n",
        "#### Sparse Autoencoders\n",
        "\n",
        "Sparse autoencoders offer us an alternative method for introducing an information bottleneck without requiring a reduction in the number of nodes at our hidden layers. Instead, we’ll construct our loss function such that we penalize activations within a layer.\n",
        "\n",
        "#### Deep Autoencoders\n",
        "\n",
        "The extension of the simple Autoencoder is the Deep Autoencoder. The first layer of the Deep Autoencoder is used for first-order features in the raw input. The second layer is used for second-order features corresponding to patterns in the appearance of first-order features. Deeper layers of the Deep Autoencoder tend to learn even higher-order features.\n",
        "\n",
        "A deep autoencoder is composed of two, symmetrical deep-belief networks-\n",
        "\n",
        "1. First four or five shallow layers representing the encoding half of the net.\n",
        "2. The second set of four or five layers that make up the decoding half.\n",
        "\n",
        "![](https://d1jnx9ba8s6j9r.cloudfront.net/blog/content/ver.1556540029/uploads/2018/10/deep_autoencoder-444x300.png)\n",
        "\n",
        "Use cases of Deep Autoencoders\n",
        "\n",
        "- Image Search\n",
        "- Data Compression\n",
        "- Topic Modeling & Information Retrieval (IR)\n",
        "\n",
        "#### Contractive Autoencoders\n",
        "\n",
        "\n",
        "A contractive autoencoder is an unsupervised deep learning technique that helps a neural network encode unlabeled training data. This is accomplished by constructing a loss term which penalizes large derivatives of our hidden layer activations with respect to the input training examples, essentially penalizing instances where a small change in the input leads to a large change in the encoding space.\n",
        "\n",
        "\n",
        " \n",
        "\n",
        "\n"
      ]
    },
    {
      "cell_type": "code",
      "metadata": {
        "id": "CVI8pEQ3Ir7F",
        "colab_type": "code",
        "colab": {}
      },
      "source": [
        ""
      ],
      "execution_count": 0,
      "outputs": []
    }
  ]
}