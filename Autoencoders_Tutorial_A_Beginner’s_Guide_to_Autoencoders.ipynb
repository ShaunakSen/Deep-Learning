{
  "nbformat": 4,
  "nbformat_minor": 0,
  "metadata": {
    "colab": {
      "name": "Autoencoders Tutorial : A Beginner’s Guide to Autoencoders.ipynb",
      "version": "0.3.2",
      "provenance": [],
      "collapsed_sections": [],
      "include_colab_link": true
    },
    "kernelspec": {
      "name": "python3",
      "display_name": "Python 3"
    }
  },
  "cells": [
    {
      "cell_type": "markdown",
      "metadata": {
        "id": "view-in-github",
        "colab_type": "text"
      },
      "source": [
        "<a href=\"https://colab.research.google.com/github/ShaunakSen/Deep-Learning/blob/master/Autoencoders_Tutorial_A_Beginner%E2%80%99s_Guide_to_Autoencoders.ipynb\" target=\"_parent\"><img src=\"https://colab.research.google.com/assets/colab-badge.svg\" alt=\"Open In Colab\"/></a>"
      ]
    },
    {
      "cell_type": "markdown",
      "metadata": {
        "id": "oFeXey_-Itw8",
        "colab_type": "text"
      },
      "source": [
        "## Autoencoders Tutorial : A Beginner’s Guide to Autoencoders\n",
        "\n",
        "[tutorial link](https://www.edureka.co/blog/autoencoders-tutorial/)\n",
        "\n",
        "Artificial Intelligence encircles a wide range of technologies and techniques that enable computer systems to solve problems like Data Compression which is used in computer vision, computer networks, computer architecture, and many other fields. Autoencoders are unsupervised neural networks that use machine learning to do this compression for us.\n",
        "\n",
        "### What are Autoencoders?\n",
        "\n",
        "An autoencoder neural network is an Unsupervised Machine learning algorithm that applies backpropagation, setting the target values to be equal to the inputs. Autoencoders are used to reduce the size of our inputs into a smaller representation. If anyone needs the original data, they can reconstruct it from the compressed data.\n",
        "\n",
        "![](https://d1jnx9ba8s6j9r.cloudfront.net/blog/content/ver.1556540029/uploads/2018/10/1_8ixTe1VHLsmKB3AquWdxpQ-528x177.png)\n",
        "\n",
        "We have a similar machine learning algorithm ie. PCA which does the same task. So you might be thinking why do we need Autoencoders then? Let’s continue this Autoencoders Tutorial and find out the reason behind using Autoencoders.\n",
        "\n",
        "### Autoencoders Tutorial: Its Emergence\n",
        "\n",
        "- An autoencoder can learn non-linear transformations with a non-linear activation function and multiple layers.\n",
        "- It doesn’t have to learn dense layers. It can use convolutional layers to learn which is better for video, image and series data.\n",
        "- It is more efficient to learn several layers with an autoencoder rather than learn one huge transformation with PCA.\n",
        "- An autoencoder provides a representation of each layer as the output.\n",
        "- It can make use of pre-trained layers from another model to apply transfer learning to enhance the encoder/decoder.\n",
        "\n",
        "![](https://d1jnx9ba8s6j9r.cloudfront.net/blog/content/ver.1556540029/uploads/2018/10/pca-vs-346x300.png)\n",
        "\n",
        "Now let’s have a look at a few Industrial Applications of Autoencoders.\n",
        "\n"
      ]
    },
    {
      "cell_type": "markdown",
      "metadata": {
        "id": "ypleQyA8KJJ6",
        "colab_type": "text"
      },
      "source": [
        "### Applications of Autoencoders\n",
        "\n",
        "#### Image Coloring\n",
        "\n",
        "Autoencoders are used for converting any black and white picture into a colored image. Depending on what is in the picture, it is possible to tell what the color should be.\n",
        "\n",
        "![](https://d1jnx9ba8s6j9r.cloudfront.net/blog/content/ver.1556540029/uploads/2018/10/4-6-528x176.png)\n",
        "\n",
        "#### Feature variation\n",
        "\n",
        "It extracts only the required features of an image and generates the output by removing any noise or unnecessary interruption.\n",
        "\n",
        "![](https://d1jnx9ba8s6j9r.cloudfront.net/blog/content/ver.1556540029/uploads/2018/10/1_has2O8b3HAUqvcqqLrlBQA-528x193.png)\n",
        "\n",
        "#### Dimensionality Reduction\n",
        "\n",
        "The reconstructed image is the same as our input but with reduced dimensions. It helps in providing the similar image with a reduced pixel value.\n",
        "\n",
        "![](https://d1jnx9ba8s6j9r.cloudfront.net/blog/content/ver.1556540029/uploads/2018/10/raisr-info-width-2000-528x297.png)\n",
        "\n",
        "#### Denoising Image\n",
        "\n",
        "The input seen by the autoencoder is not the raw input but a stochastically corrupted version. A denoising autoencoder is thus trained to reconstruct the original input from the noisy version.\n",
        "\n",
        "![](https://d1jnx9ba8s6j9r.cloudfront.net/blog/content/ver.1556540029/uploads/2018/10/1_G0V4dz4RKTKGpebeoSWB0A-528x254.png)\n",
        "\n",
        "#### Watermark Removal\n",
        "\n",
        "It is also used for removing watermarks from images or to remove any object while filming a video or a movie.\n",
        "\n",
        "![](https://d1jnx9ba8s6j9r.cloudfront.net/blog/content/ver.1556540029/uploads/2018/10/f4as-1-528x120.jpg)"
      ]
    },
    {
      "cell_type": "markdown",
      "metadata": {
        "id": "LlKgCdkNK6Z9",
        "colab_type": "text"
      },
      "source": [
        "### Architecture of Autoencoders\n",
        "\n",
        "An Autoencoder consist of three layers:\n",
        "\n",
        "1. Encoder\n",
        "2. Code\n",
        "3. Decoder\n",
        "\n",
        "![](https://d1jnx9ba8s6j9r.cloudfront.net/blog/content/ver.1556540029/uploads/2018/10/1_44eDEuZBEsmG_TCAKRI3Kw@2x-1-528x300.png)\n",
        "\n",
        "- Encoder: This part of the network compresses the input into a latent space representation. The encoder layer encodes the input image as a compressed representation in a reduced dimension. The compressed image is the distorted version of the original image.\n",
        "- Code: This part of the network represents the compressed input which is fed to the decoder.\n",
        "- Decoder: This layer decodes the encoded image back to the original dimension. The decoded image is a lossy reconstruction of the original image and it is reconstructed from the latent space representation.\n",
        "\n",
        "What’s the latent space again?\n",
        "\n",
        "An autoencoder is made of two components, here’s a quick reminder. The encoder brings the data from a high dimensional input to a bottleneck layer, where the number of neurons is the smallest. Then, the decoder takes this encoded input and converts it back to the original input shape — in our case an image. The latent space is the space in which the data lies in the bottleneck layer.\n",
        "\n",
        "The latent space contains a compressed representation of the image, which is the only information the decoder is allowed to use to try to reconstruct the input as faithfully as possible. To perform well, the network has to learn to extract the most relevant features in the bottleneck.\n",
        "\n",
        "The layer between the encoder and decoder, ie. the code is also known as Bottleneck. This is a well-designed approach to decide which aspects of observed data are relevant information and what aspects can be discarded. It does this by balancing two criteria :\n",
        "\n",
        "- Compactness of representation, measured as the compressibility.\n",
        "- It retains some behaviourally relevant variables from the input. \n",
        "\n",
        "![](https://d1jnx9ba8s6j9r.cloudfront.net/blog/content/ver.1556540029/uploads/2018/10/Input-Output-layers-313x300.png)\n",
        "\n"
      ]
    },
    {
      "cell_type": "markdown",
      "metadata": {
        "id": "HlR2nNzhS6vQ",
        "colab_type": "text"
      },
      "source": [
        "### Properties and Hyperparameters\n",
        "\n",
        "#### Properties\n",
        "\n",
        "- Data-specific: Autoencoders are only able to compress data similar to what they have been trained on.\n",
        "- Lossy: The decompressed outputs will be degraded compared to the original inputs.\n",
        "- Learned automatically from examples: It is easy to train specialized instances of the algorithm that will perform well on a specific type of input.\n",
        "\n",
        "#### Hyperparameters\n",
        "\n",
        "There are 4 hyperparameters that we need to set before training an autoencoder:\n",
        "\n",
        "- Code size: It represents the number of nodes in the middle layer. Smaller size results in more compression.\n",
        "\n",
        "- Number of layers: The autoencoder can consist of as many layers as we want.\n",
        "\n",
        "- Number of nodes per layer: The number of nodes per layer decreases with each subsequent layer of the encoder, and increases back in the decoder. The decoder is symmetric to the encoder in terms of the layer structure.\n",
        "\n",
        "- Loss function: We either use mean squared error or binary cross-entropy. If the input values are in the range [0, 1] then we typically use cross-entropy, otherwise, we use the mean squared error.\n",
        "\n",
        "### Types of Autoencoders\n",
        "\n",
        "#### Convolution Autoencoders\n",
        "\n",
        "Autoencoders in their traditional formulation does not take into account the fact that a signal can be seen as a sum of other signals. Convolutional Autoencoders use the convolution operator to exploit this observation. They learn to encode the input in a set of simple signals and then try to reconstruct the input from them, modify the geometry or the reflectance of the image.\n",
        "\n",
        "![](https://d1jnx9ba8s6j9r.cloudfront.net/blog/content/ver.1556540029/uploads/2018/10/4-Figure1-1-528x192.png)\n",
        "\n",
        "Use cases of CAE:\n",
        "\n",
        "- Image Reconstruction\n",
        "- Image Colorization\n",
        "- latent space clustering\n",
        "- generating higher resolution images\n",
        "\n",
        "#### Sparse Autoencoders\n",
        "\n",
        "Sparse autoencoders offer us an alternative method for introducing an information bottleneck without requiring a reduction in the number of nodes at our hidden layers. Instead, we’ll construct our loss function such that we penalize activations within a layer.\n",
        "\n",
        "#### Deep Autoencoders\n",
        "\n",
        "The extension of the simple Autoencoder is the Deep Autoencoder. The first layer of the Deep Autoencoder is used for first-order features in the raw input. The second layer is used for second-order features corresponding to patterns in the appearance of first-order features. Deeper layers of the Deep Autoencoder tend to learn even higher-order features.\n",
        "\n",
        "A deep autoencoder is composed of two, symmetrical deep-belief networks-\n",
        "\n",
        "1. First four or five shallow layers representing the encoding half of the net.\n",
        "2. The second set of four or five layers that make up the decoding half.\n",
        "\n",
        "![](https://d1jnx9ba8s6j9r.cloudfront.net/blog/content/ver.1556540029/uploads/2018/10/deep_autoencoder-444x300.png)\n",
        "\n",
        "Use cases of Deep Autoencoders\n",
        "\n",
        "- Image Search\n",
        "- Data Compression\n",
        "- Topic Modeling & Information Retrieval (IR)\n",
        "\n",
        "#### Contractive Autoencoders\n",
        "\n",
        "\n",
        "A contractive autoencoder is an unsupervised deep learning technique that helps a neural network encode unlabeled training data. This is accomplished by constructing a loss term which penalizes large derivatives of our hidden layer activations with respect to the input training examples, essentially penalizing instances where a small change in the input leads to a large change in the encoding space.\n",
        "\n",
        "\n",
        " \n",
        "\n",
        "\n"
      ]
    },
    {
      "cell_type": "code",
      "metadata": {
        "id": "CVI8pEQ3Ir7F",
        "colab_type": "code",
        "colab": {
          "base_uri": "https://localhost:8080/",
          "height": 34
        },
        "outputId": "f94ee17d-0091-43db-e9b8-7d240c7f4930"
      },
      "source": [
        "# import libraries\n",
        "\n",
        "import numpy as np\n",
        "from keras.layers import Input, Dense\n",
        "from keras.models import Model\n",
        "from keras.datasets import mnist\n",
        "import matplotlib.pyplot as plt"
      ],
      "execution_count": 1,
      "outputs": [
        {
          "output_type": "stream",
          "text": [
            "Using TensorFlow backend.\n"
          ],
          "name": "stderr"
        }
      ]
    },
    {
      "cell_type": "markdown",
      "metadata": {
        "id": "8FUO5tfua79q",
        "colab_type": "text"
      },
      "source": [
        "Declaration of Hidden Layers and Variables:"
      ]
    },
    {
      "cell_type": "code",
      "metadata": {
        "id": "b0zxoFaCWz2G",
        "colab_type": "code",
        "colab": {}
      },
      "source": [
        "# this is the size of our encoded representations\n",
        "\n",
        "encoding_dim = 32 # 32 floats -> compression of factor 24.5, assuming the input is 784 floats\n",
        "\n",
        "# this is our input placeholder\n",
        "\n",
        "input_img = Input(shape=(784,)) # Input() is used to instantiate a Keras tensor.\n",
        "\n",
        "# \"encoded\" is the encoded representation of the input\n",
        "\n",
        "encoded = Dense(units=encoding_dim, activation='relu')(input_img)\n",
        "\n",
        "# \"decoded\" is the lossy reconstruction of the input\n",
        "\n",
        "decoded = Dense(units=784, activation='sigmoid')(encoded)\n",
        "\n",
        "# this model maps an input to its reconstruction\n",
        "\n",
        "autoencoder = Model(input_img, decoded)\n",
        "\n",
        "# this model maps an input to its encoded representation\n",
        "\n",
        "encoder = Model(input_img, encoded)\n",
        "\n",
        "# create a placeholder for an encoded (32-dimensional) input\n",
        "\n",
        "encoded_input = Input(shape=(encoding_dim,))\n",
        "\n",
        "# retrieve the last layer of the autoencoder model\n",
        "\n",
        "decoder_layer = autoencoder.layers[-1]\n",
        "\n",
        "# create the decoder model\n",
        "\n",
        "decoder = Model(encoded_input, decoder_layer(encoded_input))\n",
        "\n",
        "# configure our model to use a per-pixel binary crossentropy loss, and the Adadelta optimizer:\n",
        "\n",
        "autoencoder.compile(optimizer='adadelta', loss='binary_crossentropy')\n",
        "\n"
      ],
      "execution_count": 0,
      "outputs": []
    },
    {
      "cell_type": "markdown",
      "metadata": {
        "id": "q7GQlD18dzUS",
        "colab_type": "text"
      },
      "source": [
        "Note: encode, decoder and autoencoder are all `Models`"
      ]
    },
    {
      "cell_type": "markdown",
      "metadata": {
        "id": "VFUt_E3tcRYh",
        "colab_type": "text"
      },
      "source": [
        "Preparing the input data (MNIST Dataset)\n",
        "\n"
      ]
    },
    {
      "cell_type": "code",
      "metadata": {
        "id": "NHmbICqxcSyR",
        "colab_type": "code",
        "colab": {
          "base_uri": "https://localhost:8080/",
          "height": 34
        },
        "outputId": "2407cdfc-e425-4ffd-9065-5a766b85c42f"
      },
      "source": [
        "(x_train, _), (x_test, _) = mnist.load_data()\n",
        "\n",
        "# no point of y values in encoders so we represent with '_'\n",
        "\n",
        "# normalize all values between 0 and 1 and we will flatten the 28x28 images into vectors of size 784.\n",
        "\n",
        "x_train = x_train.astype('float32') / 255.\n",
        "x_test = x_test.astype('float32') / 255.\n",
        "\n",
        "x_train = x_train.reshape((len(x_train), np.prod(x_train.shape[1:])))\n",
        "x_test = x_test.reshape((len(x_test), np.prod(x_test.shape[1:])))\n",
        "\n",
        "print (x_train.shape, x_test.shape)\n"
      ],
      "execution_count": 15,
      "outputs": [
        {
          "output_type": "stream",
          "text": [
            "(60000, 784) (10000, 784)\n"
          ],
          "name": "stdout"
        }
      ]
    },
    {
      "cell_type": "markdown",
      "metadata": {
        "id": "tM83YjJudXtp",
        "colab_type": "text"
      },
      "source": [
        "Training Autoencoders for 50 epochs\n",
        "\n"
      ]
    },
    {
      "cell_type": "code",
      "metadata": {
        "id": "jcJJUvufdYaI",
        "colab_type": "code",
        "colab": {
          "base_uri": "https://localhost:8080/",
          "height": 1885
        },
        "outputId": "ec02053f-f6aa-46cc-df6c-5f75d40bd26f"
      },
      "source": [
        "autoencoder.fit(x_train, x_train, epochs=50, batch_size=256, shuffle=True, validation_data=(x_test, x_test))\n",
        "\n",
        "# encode and decode some digits\n",
        "# note that we take them from the *test* set\n",
        "\n",
        "encoded_imgs = encoder.predict(x_test)\n",
        "decoded_imgs = decoder.predict(encoded_imgs)"
      ],
      "execution_count": 17,
      "outputs": [
        {
          "output_type": "stream",
          "text": [
            "WARNING:tensorflow:From /usr/local/lib/python3.6/dist-packages/tensorflow/python/ops/math_ops.py:3066: to_int32 (from tensorflow.python.ops.math_ops) is deprecated and will be removed in a future version.\n",
            "Instructions for updating:\n",
            "Use tf.cast instead.\n",
            "Train on 60000 samples, validate on 10000 samples\n",
            "Epoch 1/50\n",
            "60000/60000 [==============================] - 5s 89us/step - loss: 0.3513 - val_loss: 0.2714\n",
            "Epoch 2/50\n",
            "60000/60000 [==============================] - 4s 75us/step - loss: 0.2641 - val_loss: 0.2536\n",
            "Epoch 3/50\n",
            "60000/60000 [==============================] - 4s 73us/step - loss: 0.2433 - val_loss: 0.2309\n",
            "Epoch 4/50\n",
            "60000/60000 [==============================] - 4s 74us/step - loss: 0.2221 - val_loss: 0.2117\n",
            "Epoch 5/50\n",
            "60000/60000 [==============================] - 4s 74us/step - loss: 0.2062 - val_loss: 0.1986\n",
            "Epoch 6/50\n",
            "60000/60000 [==============================] - 4s 73us/step - loss: 0.1952 - val_loss: 0.1894\n",
            "Epoch 7/50\n",
            "60000/60000 [==============================] - 4s 74us/step - loss: 0.1870 - val_loss: 0.1821\n",
            "Epoch 8/50\n",
            "60000/60000 [==============================] - 4s 73us/step - loss: 0.1804 - val_loss: 0.1763\n",
            "Epoch 9/50\n",
            "60000/60000 [==============================] - 4s 73us/step - loss: 0.1750 - val_loss: 0.1712\n",
            "Epoch 10/50\n",
            "60000/60000 [==============================] - 4s 72us/step - loss: 0.1703 - val_loss: 0.1669\n",
            "Epoch 11/50\n",
            "60000/60000 [==============================] - 4s 72us/step - loss: 0.1660 - val_loss: 0.1626\n",
            "Epoch 12/50\n",
            "60000/60000 [==============================] - 4s 72us/step - loss: 0.1620 - val_loss: 0.1587\n",
            "Epoch 13/50\n",
            "60000/60000 [==============================] - 4s 73us/step - loss: 0.1582 - val_loss: 0.1550\n",
            "Epoch 14/50\n",
            "60000/60000 [==============================] - 4s 74us/step - loss: 0.1547 - val_loss: 0.1516\n",
            "Epoch 15/50\n",
            "60000/60000 [==============================] - 4s 72us/step - loss: 0.1514 - val_loss: 0.1484\n",
            "Epoch 16/50\n",
            "60000/60000 [==============================] - 4s 72us/step - loss: 0.1483 - val_loss: 0.1454\n",
            "Epoch 17/50\n",
            "60000/60000 [==============================] - 4s 71us/step - loss: 0.1455 - val_loss: 0.1427\n",
            "Epoch 18/50\n",
            "60000/60000 [==============================] - 4s 73us/step - loss: 0.1428 - val_loss: 0.1401\n",
            "Epoch 19/50\n",
            "60000/60000 [==============================] - 4s 74us/step - loss: 0.1403 - val_loss: 0.1377\n",
            "Epoch 20/50\n",
            "60000/60000 [==============================] - 4s 72us/step - loss: 0.1380 - val_loss: 0.1353\n",
            "Epoch 21/50\n",
            "60000/60000 [==============================] - 5s 75us/step - loss: 0.1358 - val_loss: 0.1332\n",
            "Epoch 22/50\n",
            "60000/60000 [==============================] - 4s 75us/step - loss: 0.1337 - val_loss: 0.1311\n",
            "Epoch 23/50\n",
            "60000/60000 [==============================] - 4s 73us/step - loss: 0.1317 - val_loss: 0.1292\n",
            "Epoch 24/50\n",
            "60000/60000 [==============================] - 4s 71us/step - loss: 0.1298 - val_loss: 0.1273\n",
            "Epoch 25/50\n",
            "60000/60000 [==============================] - 4s 72us/step - loss: 0.1280 - val_loss: 0.1255\n",
            "Epoch 26/50\n",
            "60000/60000 [==============================] - 4s 73us/step - loss: 0.1262 - val_loss: 0.1238\n",
            "Epoch 27/50\n",
            "60000/60000 [==============================] - 4s 71us/step - loss: 0.1246 - val_loss: 0.1222\n",
            "Epoch 28/50\n",
            "60000/60000 [==============================] - 4s 71us/step - loss: 0.1231 - val_loss: 0.1206\n",
            "Epoch 29/50\n",
            "60000/60000 [==============================] - 4s 72us/step - loss: 0.1216 - val_loss: 0.1193\n",
            "Epoch 30/50\n",
            "60000/60000 [==============================] - 4s 70us/step - loss: 0.1202 - val_loss: 0.1179\n",
            "Epoch 31/50\n",
            "60000/60000 [==============================] - 4s 73us/step - loss: 0.1190 - val_loss: 0.1167\n",
            "Epoch 32/50\n",
            "60000/60000 [==============================] - 4s 71us/step - loss: 0.1178 - val_loss: 0.1156\n",
            "Epoch 33/50\n",
            "60000/60000 [==============================] - 4s 72us/step - loss: 0.1167 - val_loss: 0.1145\n",
            "Epoch 34/50\n",
            "60000/60000 [==============================] - 4s 70us/step - loss: 0.1157 - val_loss: 0.1136\n",
            "Epoch 35/50\n",
            "60000/60000 [==============================] - 4s 71us/step - loss: 0.1148 - val_loss: 0.1127\n",
            "Epoch 36/50\n",
            "60000/60000 [==============================] - 4s 72us/step - loss: 0.1139 - val_loss: 0.1119\n",
            "Epoch 37/50\n",
            "60000/60000 [==============================] - 4s 70us/step - loss: 0.1132 - val_loss: 0.1111\n",
            "Epoch 38/50\n",
            "60000/60000 [==============================] - 4s 70us/step - loss: 0.1124 - val_loss: 0.1104\n",
            "Epoch 39/50\n",
            "60000/60000 [==============================] - 4s 69us/step - loss: 0.1117 - val_loss: 0.1097\n",
            "Epoch 40/50\n",
            "60000/60000 [==============================] - 4s 71us/step - loss: 0.1111 - val_loss: 0.1091\n",
            "Epoch 41/50\n",
            "60000/60000 [==============================] - 4s 72us/step - loss: 0.1105 - val_loss: 0.1086\n",
            "Epoch 42/50\n",
            "60000/60000 [==============================] - 4s 71us/step - loss: 0.1100 - val_loss: 0.1080\n",
            "Epoch 43/50\n",
            "60000/60000 [==============================] - 4s 71us/step - loss: 0.1094 - val_loss: 0.1075\n",
            "Epoch 44/50\n",
            "60000/60000 [==============================] - 4s 72us/step - loss: 0.1090 - val_loss: 0.1071\n",
            "Epoch 45/50\n",
            "60000/60000 [==============================] - 4s 70us/step - loss: 0.1085 - val_loss: 0.1067\n",
            "Epoch 46/50\n",
            "60000/60000 [==============================] - 4s 71us/step - loss: 0.1081 - val_loss: 0.1063\n",
            "Epoch 47/50\n",
            "60000/60000 [==============================] - 4s 71us/step - loss: 0.1077 - val_loss: 0.1059\n",
            "Epoch 48/50\n",
            "60000/60000 [==============================] - 4s 71us/step - loss: 0.1073 - val_loss: 0.1055\n",
            "Epoch 49/50\n",
            "60000/60000 [==============================] - 4s 73us/step - loss: 0.1070 - val_loss: 0.1052\n",
            "Epoch 50/50\n",
            "60000/60000 [==============================] - 4s 72us/step - loss: 0.1067 - val_loss: 0.1049\n"
          ],
          "name": "stdout"
        }
      ]
    },
    {
      "cell_type": "markdown",
      "metadata": {
        "id": "3rLbeUpFfivj",
        "colab_type": "text"
      },
      "source": [
        "Visualizing the reconstructed inputs and the encoded representations using Matplotlib\n",
        "\n"
      ]
    },
    {
      "cell_type": "code",
      "metadata": {
        "id": "4akWKJEBgWrR",
        "colab_type": "code",
        "colab": {
          "base_uri": "https://localhost:8080/",
          "height": 77
        },
        "outputId": "b698d988-798e-4c29-ad4f-8a60661ded44"
      },
      "source": [
        "n = 20 # how many digits we will display\n",
        "plt.figure(figsize=(20, 4))\n",
        "for i in range(n):\n",
        "  # display original\n",
        "  ax = plt.subplot(2, n, i + 1)\n",
        "  plt.imshow(x_test[i].reshape(28, 28))\n",
        "  plt.gray()\n",
        "  ax.get_xaxis().set_visible(False)\n",
        "  ax.get_yaxis().set_visible(False)\n",
        "\n",
        " \n",
        " \n"
      ],
      "execution_count": 28,
      "outputs": [
        {
          "output_type": "display_data",
          "data": {
            "image/png": "[encoded data removed]",
            "text/plain": [
              "<Figure size 1440x288 with 20 Axes>"
            ]
          },
          "metadata": {
            "tags": []
          }
        }
      ]
    },
    {
      "cell_type": "code",
      "metadata": {
        "id": "5r8Qvpxqg__s",
        "colab_type": "code",
        "colab": {
          "base_uri": "https://localhost:8080/",
          "height": 77
        },
        "outputId": "e9f26a8e-f9b0-4e46-992a-388159a4df23"
      },
      "source": [
        "n = 20 # how many digits we will display\n",
        "plt.figure(figsize=(20, 4))\n",
        "for i in range(n):\n",
        "  # display reconstruction\n",
        "  ax = plt.subplot(2, n, i + 1 + n)\n",
        "  plt.imshow(decoded_imgs[i].reshape(28, 28))\n",
        "  plt.gray()\n",
        "  plt.gray()\n",
        "  ax.get_xaxis().set_visible(False)\n",
        "  ax.get_yaxis().set_visible(False)\n",
        "\n"
      ],
      "execution_count": 29,
      "outputs": [
        {
          "output_type": "display_data",
          "data": {
            "image/png": "[encoded data removed]",
            "text/plain": [
              "<Figure size 1440x288 with 20 Axes>"
            ]
          },
          "metadata": {
            "tags": []
          }
        }
      ]
    }
  ]
}