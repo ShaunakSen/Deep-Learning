{
  "nbformat": 4,
  "nbformat_minor": 0,
  "metadata": {
    "colab": {
      "name": "Autoencoders Tutorial : A Beginner’s Guide to Autoencoders.ipynb",
      "version": "0.3.2",
      "provenance": [],
      "collapsed_sections": [],
      "include_colab_link": true
    },
    "kernelspec": {
      "name": "python3",
      "display_name": "Python 3"
    }
  },
  "cells": [
    {
      "cell_type": "markdown",
      "metadata": {
        "id": "view-in-github",
        "colab_type": "text"
      },
      "source": [
        "<a href=\"https://colab.research.google.com/github/ShaunakSen/Deep-Learning/blob/master/Autoencoders_Tutorial_A_Beginner%E2%80%99s_Guide_to_Autoencoders.ipynb\" target=\"_parent\"><img src=\"https://colab.research.google.com/assets/colab-badge.svg\" alt=\"Open In Colab\"/></a>"
      ]
    },
    {
      "cell_type": "markdown",
      "metadata": {
        "id": "oFeXey_-Itw8",
        "colab_type": "text"
      },
      "source": [
        "## Autoencoders Tutorial : A Beginner’s Guide to Autoencoders\n",
        "\n",
        "[tutorial link](https://www.edureka.co/blog/autoencoders-tutorial/)\n",
        "\n",
        "Artificial Intelligence encircles a wide range of technologies and techniques that enable computer systems to solve problems like Data Compression which is used in computer vision, computer networks, computer architecture, and many other fields. Autoencoders are unsupervised neural networks that use machine learning to do this compression for us.\n",
        "\n",
        "### What are Autoencoders?\n",
        "\n",
        "An autoencoder neural network is an Unsupervised Machine learning algorithm that applies backpropagation, setting the target values to be equal to the inputs. Autoencoders are used to reduce the size of our inputs into a smaller representation. If anyone needs the original data, they can reconstruct it from the compressed data.\n",
        "\n",
        "![](https://d1jnx9ba8s6j9r.cloudfront.net/blog/content/ver.1556540029/uploads/2018/10/1_8ixTe1VHLsmKB3AquWdxpQ-528x177.png)\n",
        "\n",
        "We have a similar machine learning algorithm ie. PCA which does the same task. So you might be thinking why do we need Autoencoders then? Let’s continue this Autoencoders Tutorial and find out the reason behind using Autoencoders.\n",
        "\n",
        "### Autoencoders Tutorial: Its Emergence\n",
        "\n",
        "- An autoencoder can learn non-linear transformations with a non-linear activation function and multiple layers.\n",
        "- It doesn’t have to learn dense layers. It can use convolutional layers to learn which is better for video, image and series data.\n",
        "- It is more efficient to learn several layers with an autoencoder rather than learn one huge transformation with PCA.\n",
        "- An autoencoder provides a representation of each layer as the output.\n",
        "- It can make use of pre-trained layers from another model to apply transfer learning to enhance the encoder/decoder.\n",
        "\n",
        "![](https://d1jnx9ba8s6j9r.cloudfront.net/blog/content/ver.1556540029/uploads/2018/10/pca-vs-346x300.png)\n",
        "\n",
        "Now let’s have a look at a few Industrial Applications of Autoencoders.\n",
        "\n"
      ]
    },
    {
      "cell_type": "markdown",
      "metadata": {
        "id": "ypleQyA8KJJ6",
        "colab_type": "text"
      },
      "source": [
        "### Applications of Autoencoders\n",
        "\n",
        "#### Image Coloring\n",
        "\n",
        "Autoencoders are used for converting any black and white picture into a colored image. Depending on what is in the picture, it is possible to tell what the color should be.\n",
        "\n",
        "![](https://d1jnx9ba8s6j9r.cloudfront.net/blog/content/ver.1556540029/uploads/2018/10/4-6-528x176.png)\n",
        "\n",
        "#### Feature variation\n",
        "\n",
        "It extracts only the required features of an image and generates the output by removing any noise or unnecessary interruption.\n",
        "\n",
        "![](https://d1jnx9ba8s6j9r.cloudfront.net/blog/content/ver.1556540029/uploads/2018/10/1_has2O8b3HAUqvcqqLrlBQA-528x193.png)\n",
        "\n",
        "#### Dimensionality Reduction\n",
        "\n",
        "The reconstructed image is the same as our input but with reduced dimensions. It helps in providing the similar image with a reduced pixel value.\n",
        "\n",
        "![](https://d1jnx9ba8s6j9r.cloudfront.net/blog/content/ver.1556540029/uploads/2018/10/raisr-info-width-2000-528x297.png)\n",
        "\n",
        "#### Denoising Image\n",
        "\n",
        "The input seen by the autoencoder is not the raw input but a stochastically corrupted version. A denoising autoencoder is thus trained to reconstruct the original input from the noisy version.\n",
        "\n",
        "![](https://d1jnx9ba8s6j9r.cloudfront.net/blog/content/ver.1556540029/uploads/2018/10/1_G0V4dz4RKTKGpebeoSWB0A-528x254.png)\n",
        "\n",
        "#### Watermark Removal\n",
        "\n",
        "It is also used for removing watermarks from images or to remove any object while filming a video or a movie.\n",
        "\n",
        "![](https://d1jnx9ba8s6j9r.cloudfront.net/blog/content/ver.1556540029/uploads/2018/10/f4as-1-528x120.jpg)"
      ]
    },
    {
      "cell_type": "markdown",
      "metadata": {
        "id": "LlKgCdkNK6Z9",
        "colab_type": "text"
      },
      "source": [
        ""
      ]
    },
    {
      "cell_type": "code",
      "metadata": {
        "id": "CVI8pEQ3Ir7F",
        "colab_type": "code",
        "colab": {}
      },
      "source": [
        ""
      ],
      "execution_count": 0,
      "outputs": []
    }
  ]
}