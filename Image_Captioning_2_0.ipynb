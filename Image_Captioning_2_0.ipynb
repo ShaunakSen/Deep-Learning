{
  "nbformat": 4,
  "nbformat_minor": 0,
  "metadata": {
    "colab": {
      "name": "Image Captioning 2.0.ipynb",
      "version": "0.3.2",
      "provenance": [],
      "collapsed_sections": [],
      "toc_visible": true,
      "machine_shape": "hm",
      "include_colab_link": true
    },
    "kernelspec": {
      "name": "python3",
      "display_name": "Python 3"
    },
    "accelerator": "GPU"
  },
  "cells": [
    {
      "cell_type": "markdown",
      "metadata": {
        "id": "view-in-github",
        "colab_type": "text"
      },
      "source": [
        "<a href=\"https://colab.research.google.com/github/ShaunakSen/Deep-Learning/blob/master/Image_Captioning_2_0.ipynb\" target=\"_parent\"><img src=\"https://colab.research.google.com/assets/colab-badge.svg\" alt=\"Open In Colab\"/></a>"
      ]
    },
    {
      "cell_type": "markdown",
      "metadata": {
        "id": "u0fO308zAjpQ",
        "colab_type": "text"
      },
      "source": [
        "## How to Develop a Deep Learning Photo Caption Generator from Scratch\n",
        "\n",
        "[link](https://machinelearningmastery.com/develop-a-deep-learning-caption-generation-model-in-python/)\n",
        "\n",
        "### Download and extract the dataset"
      ]
    },
    {
      "cell_type": "code",
      "metadata": {
        "id": "2DElNKfBmQ3n",
        "colab_type": "code",
        "colab": {
          "base_uri": "https://localhost:8080/",
          "height": 34
        },
        "outputId": "64050ea4-bac5-4729-fa04-4bca644844a1"
      },
      "source": [
        "# import all libraries here\n",
        "from urllib.request import urlopen\n",
        "from zipfile import ZipFile\n",
        "import os\n",
        "import numpy as np\n",
        "import h5py\n",
        "\n",
        "\n",
        "\n",
        "import pickle\n",
        "from keras.applications.vgg16 import VGG16\n",
        "from keras.preprocessing.image import load_img\n",
        "from keras.preprocessing.image import img_to_array\n",
        "from keras.applications.vgg16 import preprocess_input\n",
        "from keras.models import Model"
      ],
      "execution_count": 2,
      "outputs": [
        {
          "output_type": "stream",
          "text": [
            "Using TensorFlow backend.\n"
          ],
          "name": "stderr"
        }
      ]
    },
    {
      "cell_type": "code",
      "metadata": {
        "id": "9jXy2U6ZmZkp",
        "colab_type": "code",
        "outputId": "9f2964ed-b7e0-435d-fdc6-13815156bd81",
        "colab": {
          "base_uri": "https://localhost:8080/",
          "height": 123
        }
      },
      "source": [
        "os.listdir('/content/')"
      ],
      "execution_count": 4,
      "outputs": [
        {
          "output_type": "execute_result",
          "data": {
            "text/plain": [
              "['.config',\n",
              " 'Flickr8k_text',\n",
              " 'Flickr8k_Dataset',\n",
              " 'descriptions.txt',\n",
              " 'features.pkl',\n",
              " 'sample_data']"
            ]
          },
          "metadata": {
            "tags": []
          },
          "execution_count": 4
        }
      ]
    },
    {
      "cell_type": "code",
      "metadata": {
        "id": "NAf2TVTe0UCK",
        "colab_type": "code",
        "colab": {}
      },
      "source": [
        "# check if zip file is not present in the tmp directory, else download\n",
        "\n",
        "if 'Flickr8k_Dataset.zip' not in os.listdir('/tmp'):\n",
        "\n",
        "  zipurl = 'https://github.com/jbrownlee/Datasets/releases/download/Flickr8k/Flickr8k_Dataset.zip'\n",
        "      # Download the file from the URL\n",
        "  zipresp = urlopen(zipurl)\n",
        "      # Create a new file on the hard drive\n",
        "  tempzip = open(\"/tmp/Flickr8k_Dataset.zip\", \"wb\")\n",
        "      # Write the contents of the downloaded file into the new file\n",
        "  tempzip.write(zipresp.read())\n",
        "      # Close the newly-created file\n",
        "  tempzip.close()\n"
      ],
      "execution_count": 0,
      "outputs": []
    },
    {
      "cell_type": "code",
      "metadata": {
        "id": "1EBlcE9wSUxq",
        "colab_type": "code",
        "colab": {}
      },
      "source": [
        "if 'Flickr8k_text.zip' not in os.listdir('/tmp'):\n",
        "\n",
        "  zipurl = 'https://github.com/jbrownlee/Datasets/releases/download/Flickr8k/Flickr8k_text.zip'\n",
        "      # Download the file from the URL\n",
        "  zipresp = urlopen(zipurl)\n",
        "      # Create a new file on the hard drive\n",
        "  tempzip = open(\"/tmp/Flickr8k_text.zip\", \"wb\")\n",
        "      # Write the contents of the downloaded file into the new file\n",
        "  tempzip.write(zipresp.read())\n",
        "      # Close the newly-created file\n",
        "  tempzip.close()\n"
      ],
      "execution_count": 0,
      "outputs": []
    },
    {
      "cell_type": "code",
      "metadata": {
        "id": "q9M6L9MO1GZ1",
        "colab_type": "code",
        "colab": {}
      },
      "source": [
        "if 'Flickr8k_Dataset' not in os.listdir('/content/'):\n",
        "\n",
        "  # Re-open the newly-created file with ZipFile()\n",
        "  zf = ZipFile(\"/tmp/Flickr8k_Dataset.zip\")\n",
        "      # Extract its contents into <extraction_path>\n",
        "      # note that extractall will automatically create the path\n",
        "  zf.extractall(path = './Flickr8k_Dataset')\n",
        "      # close the ZipFile instance\n",
        "  zf.close()"
      ],
      "execution_count": 0,
      "outputs": []
    },
    {
      "cell_type": "code",
      "metadata": {
        "id": "kiZlE1qV2bQ-",
        "colab_type": "code",
        "colab": {}
      },
      "source": [
        "if 'Flickr8k_text' not in os.listdir('/content/'):\n",
        "\n",
        "  # Re-open the newly-created file with ZipFile()\n",
        "  zf = ZipFile(\"/tmp/Flickr8k_text.zip\")\n",
        "      # Extract its contents into <extraction_path>\n",
        "      # note that extractall will automatically create the path\n",
        "  zf.extractall(path = './Flickr8k_text')\n",
        "      # close the ZipFile instance\n",
        "  zf.close()"
      ],
      "execution_count": 0,
      "outputs": []
    },
    {
      "cell_type": "markdown",
      "metadata": {
        "id": "Y5uxrkRyBN0F",
        "colab_type": "text"
      },
      "source": [
        "The dataset is present in the following locations:\n",
        "\n",
        "1. Flickr8k_Dataset\n",
        "2. Flickr8k_text\n",
        "\n",
        "The dataset has a pre-defined training dataset (6,000 images), development dataset (1,000 images), and test dataset (1,000 images).\n",
        "\n",
        "One measure that can be used to evaluate the skill of the model are BLEU scores.\n",
        "\n",
        "- BLEU-1: 0.401 to 0.578.\n",
        "- BLEU-2: 0.176 to 0.390.\n",
        "- BLEU-3: 0.099 to 0.260.\n",
        "- BLEU-4: 0.059 to 0.170.\n",
        "\n",
        "We describe the BLEU metric more later when we work on evaluating our model.\n",
        "\n",
        "Next, let’s look at how to load the images.\n",
        "\n",
        "### Prepare Photo Data\n",
        "\n",
        "We will use a pre-trained model to interpret the content of the photos.\n",
        "\n",
        "There are many models to choose from. In this case, we will use the Oxford Visual Geometry Group, or VGG, model that won the ImageNet competition in 2014. Learn more about the model here:\n",
        "\n",
        "[](http://www.robots.ox.ac.uk/~vgg/research/very_deep/)\n",
        "\n",
        "Keras provides this pre-trained model directly. Note, the first time you use this model, Keras will download the model weights from the Internet, which are about 500 Megabytes. This may take a few minutes depending on your internet connection.\n",
        "\n",
        "\n",
        "We could use this model as part of a broader image caption model. The problem is, it is a large model and running each photo through the network every time we want to test a new language model configuration (downstream) is redundant.\n",
        "\n",
        "Instead, we can pre-compute the “photo features” using the pre-trained model and save them to file. We can then load these features later and feed them into our model as the interpretation of a given photo in the dataset. It is no different to running the photo through the full VGG model; it is just we will have done it once in advance.\n",
        "\n",
        "This is an optimization that will make training our models faster and consume less memory.\n",
        "\n",
        "We can load the VGG model in Keras using the VGG class. We will remove the last layer from the loaded model, as this is the model used to predict a classification for a photo. We are not interested in classifying images, but we are interested in the internal representation of the photo right before a classification is made. These are the “features” that the model has extracted from the photo.\n",
        "\n",
        "Keras also provides tools for reshaping the loaded photo into the preferred size for the model (e.g. 3 channel 224 x 224 pixel image).\n",
        "\n",
        "Below is a function named extract_features() that, given a directory name, will load each photo, prepare it for VGG, and collect the predicted features from the VGG model. The image features are a 1-dimensional 4,096 element vector.\n",
        "\n",
        "The function returns a dictionary of image identifier to image features."
      ]
    },
    {
      "cell_type": "markdown",
      "metadata": {
        "id": "9-08Ac3pODQK",
        "colab_type": "text"
      },
      "source": [
        "We can call this function to prepare the photo data for testing our models, then save the resulting dictionary to a file named ‘features.pkl‘."
      ]
    },
    {
      "cell_type": "code",
      "metadata": {
        "id": "PuAJ1orcOVrW",
        "colab_type": "code",
        "outputId": "77879d7f-869b-461a-fb44-f84f4e1521bf",
        "colab": {
          "base_uri": "https://localhost:8080/",
          "height": 1000
        }
      },
      "source": [
        "model=VGG16()\n",
        "\n",
        "model.summary()"
      ],
      "execution_count": 8,
      "outputs": [
        {
          "output_type": "stream",
          "text": [
            "WARNING: Logging before flag parsing goes to stderr.\n",
            "W0728 12:29:09.459843 139877310097280 deprecation_wrapper.py:119] From /usr/local/lib/python3.6/dist-packages/keras/backend/tensorflow_backend.py:74: The name tf.get_default_graph is deprecated. Please use tf.compat.v1.get_default_graph instead.\n",
            "\n",
            "W0728 12:29:09.501766 139877310097280 deprecation_wrapper.py:119] From /usr/local/lib/python3.6/dist-packages/keras/backend/tensorflow_backend.py:517: The name tf.placeholder is deprecated. Please use tf.compat.v1.placeholder instead.\n",
            "\n",
            "W0728 12:29:09.509191 139877310097280 deprecation_wrapper.py:119] From /usr/local/lib/python3.6/dist-packages/keras/backend/tensorflow_backend.py:4138: The name tf.random_uniform is deprecated. Please use tf.random.uniform instead.\n",
            "\n",
            "W0728 12:29:09.553142 139877310097280 deprecation_wrapper.py:119] From /usr/local/lib/python3.6/dist-packages/keras/backend/tensorflow_backend.py:3976: The name tf.nn.max_pool is deprecated. Please use tf.nn.max_pool2d instead.\n",
            "\n",
            "W0728 12:29:13.423437 139877310097280 deprecation_wrapper.py:119] From /usr/local/lib/python3.6/dist-packages/keras/backend/tensorflow_backend.py:174: The name tf.get_default_session is deprecated. Please use tf.compat.v1.get_default_session instead.\n",
            "\n",
            "W0728 12:29:13.425016 139877310097280 deprecation_wrapper.py:119] From /usr/local/lib/python3.6/dist-packages/keras/backend/tensorflow_backend.py:181: The name tf.ConfigProto is deprecated. Please use tf.compat.v1.ConfigProto instead.\n",
            "\n"
          ],
          "name": "stderr"
        },
        {
          "output_type": "stream",
          "text": [
            "_________________________________________________________________\n",
            "Layer (type)                 Output Shape              Param #   \n",
            "=================================================================\n",
            "input_1 (InputLayer)         (None, 224, 224, 3)       0         \n",
            "_________________________________________________________________\n",
            "block1_conv1 (Conv2D)        (None, 224, 224, 64)      1792      \n",
            "_________________________________________________________________\n",
            "block1_conv2 (Conv2D)        (None, 224, 224, 64)      36928     \n",
            "_________________________________________________________________\n",
            "block1_pool (MaxPooling2D)   (None, 112, 112, 64)      0         \n",
            "_________________________________________________________________\n",
            "block2_conv1 (Conv2D)        (None, 112, 112, 128)     73856     \n",
            "_________________________________________________________________\n",
            "block2_conv2 (Conv2D)        (None, 112, 112, 128)     147584    \n",
            "_________________________________________________________________\n",
            "block2_pool (MaxPooling2D)   (None, 56, 56, 128)       0         \n",
            "_________________________________________________________________\n",
            "block3_conv1 (Conv2D)        (None, 56, 56, 256)       295168    \n",
            "_________________________________________________________________\n",
            "block3_conv2 (Conv2D)        (None, 56, 56, 256)       590080    \n",
            "_________________________________________________________________\n",
            "block3_conv3 (Conv2D)        (None, 56, 56, 256)       590080    \n",
            "_________________________________________________________________\n",
            "block3_pool (MaxPooling2D)   (None, 28, 28, 256)       0         \n",
            "_________________________________________________________________\n",
            "block4_conv1 (Conv2D)        (None, 28, 28, 512)       1180160   \n",
            "_________________________________________________________________\n",
            "block4_conv2 (Conv2D)        (None, 28, 28, 512)       2359808   \n",
            "_________________________________________________________________\n",
            "block4_conv3 (Conv2D)        (None, 28, 28, 512)       2359808   \n",
            "_________________________________________________________________\n",
            "block4_pool (MaxPooling2D)   (None, 14, 14, 512)       0         \n",
            "_________________________________________________________________\n",
            "block5_conv1 (Conv2D)        (None, 14, 14, 512)       2359808   \n",
            "_________________________________________________________________\n",
            "block5_conv2 (Conv2D)        (None, 14, 14, 512)       2359808   \n",
            "_________________________________________________________________\n",
            "block5_conv3 (Conv2D)        (None, 14, 14, 512)       2359808   \n",
            "_________________________________________________________________\n",
            "block5_pool (MaxPooling2D)   (None, 7, 7, 512)         0         \n",
            "_________________________________________________________________\n",
            "flatten (Flatten)            (None, 25088)             0         \n",
            "_________________________________________________________________\n",
            "fc1 (Dense)                  (None, 4096)              102764544 \n",
            "_________________________________________________________________\n",
            "fc2 (Dense)                  (None, 4096)              16781312  \n",
            "_________________________________________________________________\n",
            "predictions (Dense)          (None, 1000)              4097000   \n",
            "=================================================================\n",
            "Total params: 138,357,544\n",
            "Trainable params: 138,357,544\n",
            "Non-trainable params: 0\n",
            "_________________________________________________________________\n"
          ],
          "name": "stdout"
        }
      ]
    },
    {
      "cell_type": "code",
      "metadata": {
        "id": "EUnTc8C5Km9Q",
        "colab_type": "code",
        "outputId": "7cc30545-02e0-4cf8-fa71-a034696c8fc1",
        "colab": {
          "base_uri": "https://localhost:8080/",
          "height": 34
        }
      },
      "source": [
        "print (\"No of images:\", len(os.listdir(path='./Flickr8k_Dataset/Flicker8k_Dataset/')))"
      ],
      "execution_count": 9,
      "outputs": [
        {
          "output_type": "stream",
          "text": [
            "No of images: 8091\n"
          ],
          "name": "stdout"
        }
      ]
    },
    {
      "cell_type": "code",
      "metadata": {
        "id": "vligLZzVOD8G",
        "colab_type": "code",
        "outputId": "32379f20-d4f1-4984-c6bc-a07777ff8f61",
        "colab": {
          "base_uri": "https://localhost:8080/",
          "height": 958
        }
      },
      "source": [
        "def extract_features(directory):\n",
        "  \"\"\"\n",
        "  extract features from each photo in the directory\n",
        "  \"\"\"\n",
        "  \n",
        "  # load the model\n",
        "  model = VGG16()\n",
        "  \n",
        "  # restructure the model\n",
        "  model.layers.pop()\n",
        "  model = Model(inputs=model.inputs, outputs=model.layers[-1].output)\n",
        "  \n",
        "  # summarize\n",
        "  print (model.summary())\n",
        "  \n",
        "  \n",
        "  # extract features from each photo\n",
        "  features = dict()\n",
        "  \n",
        "  # Return a list containing the names of the files in the directory.\n",
        "  for name in os.listdir(path=directory):\n",
        "    \n",
        "    # load an image from file\n",
        "    filename = directory + '/' + name\n",
        "    image = load_img(path=filename, target_size=(224,224))\n",
        "    \n",
        "    # convert the image pixels to a numpy array\n",
        "    image = img_to_array(img=image)\n",
        "    \n",
        "    # reshape data for the model\n",
        "    # The network expects one or more images as input; \n",
        "    # that means the input array will need to be 4-dimensional: \n",
        "    # [samples, rows, columns, and channels]\n",
        "    image = image.reshape((1, image.shape[0], image.shape[1], image.shape[2]))\n",
        "    \n",
        "    # prepare the image for the VGG model\n",
        "    image = preprocess_input(image)\n",
        "    \n",
        "    # get features\n",
        "    feature = model.predict(x=image, verbose=0)\n",
        "    \n",
        "    # get image id\n",
        "    image_id = name.split('.')[0]\n",
        "    \n",
        "    # store feature in the dict\n",
        "    features[image_id] = feature\n",
        "    \n",
        "    \n",
        "    \n",
        "  return features\n",
        "  \n",
        "directory = './Flickr8k_Dataset/Flicker8k_Dataset/'\n",
        "\n",
        "features = extract_features(directory)\n",
        "print('Extracted Features: %d' % len(features))"
      ],
      "execution_count": 10,
      "outputs": [
        {
          "output_type": "stream",
          "text": [
            "_________________________________________________________________\n",
            "Layer (type)                 Output Shape              Param #   \n",
            "=================================================================\n",
            "input_2 (InputLayer)         (None, 224, 224, 3)       0         \n",
            "_________________________________________________________________\n",
            "block1_conv1 (Conv2D)        (None, 224, 224, 64)      1792      \n",
            "_________________________________________________________________\n",
            "block1_conv2 (Conv2D)        (None, 224, 224, 64)      36928     \n",
            "_________________________________________________________________\n",
            "block1_pool (MaxPooling2D)   (None, 112, 112, 64)      0         \n",
            "_________________________________________________________________\n",
            "block2_conv1 (Conv2D)        (None, 112, 112, 128)     73856     \n",
            "_________________________________________________________________\n",
            "block2_conv2 (Conv2D)        (None, 112, 112, 128)     147584    \n",
            "_________________________________________________________________\n",
            "block2_pool (MaxPooling2D)   (None, 56, 56, 128)       0         \n",
            "_________________________________________________________________\n",
            "block3_conv1 (Conv2D)        (None, 56, 56, 256)       295168    \n",
            "_________________________________________________________________\n",
            "block3_conv2 (Conv2D)        (None, 56, 56, 256)       590080    \n",
            "_________________________________________________________________\n",
            "block3_conv3 (Conv2D)        (None, 56, 56, 256)       590080    \n",
            "_________________________________________________________________\n",
            "block3_pool (MaxPooling2D)   (None, 28, 28, 256)       0         \n",
            "_________________________________________________________________\n",
            "block4_conv1 (Conv2D)        (None, 28, 28, 512)       1180160   \n",
            "_________________________________________________________________\n",
            "block4_conv2 (Conv2D)        (None, 28, 28, 512)       2359808   \n",
            "_________________________________________________________________\n",
            "block4_conv3 (Conv2D)        (None, 28, 28, 512)       2359808   \n",
            "_________________________________________________________________\n",
            "block4_pool (MaxPooling2D)   (None, 14, 14, 512)       0         \n",
            "_________________________________________________________________\n",
            "block5_conv1 (Conv2D)        (None, 14, 14, 512)       2359808   \n",
            "_________________________________________________________________\n",
            "block5_conv2 (Conv2D)        (None, 14, 14, 512)       2359808   \n",
            "_________________________________________________________________\n",
            "block5_conv3 (Conv2D)        (None, 14, 14, 512)       2359808   \n",
            "_________________________________________________________________\n",
            "block5_pool (MaxPooling2D)   (None, 7, 7, 512)         0         \n",
            "_________________________________________________________________\n",
            "flatten (Flatten)            (None, 25088)             0         \n",
            "_________________________________________________________________\n",
            "fc1 (Dense)                  (None, 4096)              102764544 \n",
            "_________________________________________________________________\n",
            "fc2 (Dense)                  (None, 4096)              16781312  \n",
            "=================================================================\n",
            "Total params: 134,260,544\n",
            "Trainable params: 134,260,544\n",
            "Non-trainable params: 0\n",
            "_________________________________________________________________\n",
            "None\n",
            "Extracted Features: 8091\n"
          ],
          "name": "stdout"
        }
      ]
    },
    {
      "cell_type": "markdown",
      "metadata": {
        "id": "Ifmg4UZ3FgKX",
        "colab_type": "text"
      },
      "source": [
        "For each image now we have the features (4096) from the VGG16 model"
      ]
    },
    {
      "cell_type": "code",
      "metadata": {
        "id": "7Ahwi8zMFW32",
        "colab_type": "code",
        "outputId": "00d38e58-41cb-4f6c-f2d0-a1b278e0164f",
        "colab": {
          "base_uri": "https://localhost:8080/",
          "height": 34
        }
      },
      "source": [
        "features['221973402_ecb1cd51f1'].shape"
      ],
      "execution_count": 11,
      "outputs": [
        {
          "output_type": "execute_result",
          "data": {
            "text/plain": [
              "(1, 4096)"
            ]
          },
          "metadata": {
            "tags": []
          },
          "execution_count": 11
        }
      ]
    },
    {
      "cell_type": "code",
      "metadata": {
        "id": "iqBzjhqfNobD",
        "colab_type": "code",
        "colab": {}
      },
      "source": [
        "# save to file\n",
        "pickle.dump(features, open('features.pkl', 'wb'))"
      ],
      "execution_count": 0,
      "outputs": []
    },
    {
      "cell_type": "code",
      "metadata": {
        "id": "gL5ZVdtd5JiV",
        "colab_type": "code",
        "colab": {}
      },
      "source": [
        "# delete from memory to free up some RAM\n",
        "\n",
        "del features"
      ],
      "execution_count": 0,
      "outputs": []
    },
    {
      "cell_type": "markdown",
      "metadata": {
        "id": "mPe9vLNdP8bx",
        "colab_type": "text"
      },
      "source": [
        "### Prepare Text Data\n",
        "\n",
        "The dataset contains multiple descriptions for each photograph and the text of the descriptions requires some minimal cleaning.\n",
        "\n",
        "\n",
        "First, we will load the file containing all of the descriptions.\n",
        "\n"
      ]
    },
    {
      "cell_type": "code",
      "metadata": {
        "id": "V7WNvEKDPZRW",
        "colab_type": "code",
        "colab": {}
      },
      "source": [
        "# load the doc into memory\n",
        "def load_doc(filename):\n",
        "  # open the file as read only\n",
        "  file = open(file=filename, mode='r')\n",
        "  # read all text\n",
        "  text = file.read()\n",
        "  # close the file\n",
        "  file.close()\n",
        "  return text\n",
        "\n",
        "filename = './Flickr8k_text/Flickr8k.token.txt'\n",
        "\n",
        "doc = load_doc(filename)"
      ],
      "execution_count": 0,
      "outputs": []
    },
    {
      "cell_type": "code",
      "metadata": {
        "id": "IDgNvDEJRA5p",
        "colab_type": "code",
        "outputId": "94b77b0e-fb30-4db5-c1f9-c411d4e8a543",
        "colab": {
          "base_uri": "https://localhost:8080/",
          "height": 34
        }
      },
      "source": [
        "print (doc[:100])"
      ],
      "execution_count": 15,
      "outputs": [
        {
          "output_type": "stream",
          "text": [
            "1000268201_693b08cb0e.jpg#0\tA child in a pink dress is climbing up a set of stairs in an entry way .\n"
          ],
          "name": "stdout"
        }
      ]
    },
    {
      "cell_type": "markdown",
      "metadata": {
        "id": "tBlmk8dCUESI",
        "colab_type": "text"
      },
      "source": [
        "Each photo has a unique identifier. This identifier is used on the photo filename and in the text file of descriptions.\n",
        "\n",
        "Next, we will step through the list of photo descriptions. Below defines a function load_descriptions() that, given the loaded document text, will return a dictionary of photo identifiers to descriptions. Each photo identifier maps to a list of one or more textual descriptions."
      ]
    },
    {
      "cell_type": "code",
      "metadata": {
        "id": "cGCTG6w3Ud8p",
        "colab_type": "code",
        "outputId": "38888a5f-5998-45a9-d639-a68d30ba3a94",
        "colab": {
          "base_uri": "https://localhost:8080/",
          "height": 336
        }
      },
      "source": [
        "doc.split(\"\\n\")[:10][0].split()[1:]"
      ],
      "execution_count": 16,
      "outputs": [
        {
          "output_type": "execute_result",
          "data": {
            "text/plain": [
              "['A',\n",
              " 'child',\n",
              " 'in',\n",
              " 'a',\n",
              " 'pink',\n",
              " 'dress',\n",
              " 'is',\n",
              " 'climbing',\n",
              " 'up',\n",
              " 'a',\n",
              " 'set',\n",
              " 'of',\n",
              " 'stairs',\n",
              " 'in',\n",
              " 'an',\n",
              " 'entry',\n",
              " 'way',\n",
              " '.']"
            ]
          },
          "metadata": {
            "tags": []
          },
          "execution_count": 16
        }
      ]
    },
    {
      "cell_type": "code",
      "metadata": {
        "id": "sZHnyck-UFRQ",
        "colab_type": "code",
        "colab": {}
      },
      "source": [
        "# extract descriptions for images\n",
        "def load_descriptions(doc):\n",
        "  mapping=dict()\n",
        "\n",
        "  # process line by line\n",
        "  for line in doc.split(\"\\n\"):\n",
        "    # split line by white space\n",
        "    tokens = line.split()\n",
        "    # check min length\n",
        "    if len(line) < 2:\n",
        "      continue\n",
        "    # take the first token as the image id, the rest as the description\n",
        "    image_id, image_desc = tokens[0], tokens[1:]\n",
        "\n",
        "    # remove filename from image id\n",
        "    image_id = image_id.split('.')[0]\n",
        "\n",
        "    # convert description tokens back to string\n",
        "    image_desc = ' '.join(image_desc)\n",
        "\n",
        "    # create an emty list for a new image_id\n",
        "    if image_id not in mapping:\n",
        "      mapping[image_id] = list()\n",
        "\n",
        "    # append desc for the corr image_id\n",
        "\n",
        "    mapping[image_id].append(image_desc)\n",
        "\n",
        "  return mapping\n",
        "\n",
        "# parse descriptions\n",
        "descriptions = load_descriptions(doc)\n",
        "  "
      ],
      "execution_count": 0,
      "outputs": []
    },
    {
      "cell_type": "markdown",
      "metadata": {
        "id": "5xXUZcWoGFom",
        "colab_type": "text"
      },
      "source": [
        "`descriptions` is similar to `features`. Here we have the file names as keys and the captions as an array of values"
      ]
    },
    {
      "cell_type": "markdown",
      "metadata": {
        "id": "eYphEf7dpbWg",
        "colab_type": "text"
      },
      "source": [
        "Next, we need to clean the description text. The descriptions are already tokenized and easy to work with.\n",
        "\n",
        "We will clean the text in the following ways in order to reduce the size of the vocabulary of words we will need to work with:\n",
        "\n",
        "- Convert all words to lowercase.\n",
        "- Remove all punctuation.\n",
        "- Remove all words that are one character or less in length (e.g. ‘a’).\n",
        "- Remove all words with numbers in them.\n",
        "\n",
        "Below defines the clean_descriptions() function that, given the dictionary of image identifiers to descriptions, steps through each description and cleans the text.\n",
        "\n"
      ]
    },
    {
      "cell_type": "code",
      "metadata": {
        "id": "AVfPhvKkZXbX",
        "colab_type": "code",
        "colab": {}
      },
      "source": [
        "import string\n",
        "\n",
        "def clean_descriptions(descriptions):\n",
        "  # prepare translation table for removing punctuation\n",
        "  table = str.maketrans('', '', string.punctuation)\n",
        "  \n",
        "  for key, desc_list in descriptions.items():\n",
        "    # for each desc of an image:\n",
        "    for i in range(len(desc_list)):\n",
        "      desc = desc_list[i]\n",
        "\n",
        "      # tokenize\n",
        "      desc = desc.split()\n",
        "\n",
        "      # convert to lowercase\n",
        "      desc = [word.lower() for word in desc]\n",
        "\n",
        "      # remove punctuation from each token\n",
        "      desc = [w.translate(table) for w in desc]\n",
        "\n",
        "      # remove hanging 's' and 'a'\n",
        "      desc = [word for word in desc if len(word)>1]\n",
        "\n",
        "      # remove tokens with numbers in them\n",
        "      desc = [word for word in desc if word.isalpha()]\n",
        "\n",
        "      # replace it in that index position\n",
        "      desc_list[i] = ' '.join(desc)\n",
        "\n",
        "\n",
        "# clean descriptions\n",
        "clean_descriptions(descriptions)\n",
        "      "
      ],
      "execution_count": 0,
      "outputs": []
    },
    {
      "cell_type": "code",
      "metadata": {
        "id": "iQhqHfNjGVfP",
        "colab_type": "code",
        "outputId": "63eb252e-b27b-45eb-ffbe-4aa639ab22c0",
        "colab": {
          "base_uri": "https://localhost:8080/",
          "height": 105
        }
      },
      "source": [
        "descriptions['221973402_ecb1cd51f1']"
      ],
      "execution_count": 20,
      "outputs": [
        {
          "output_type": "execute_result",
          "data": {
            "text/plain": [
              "['black dog chases boy wearing red and blue',\n",
              " 'boy plays with dog and frisbee',\n",
              " 'dog with frisbee in its mouth chasing boy in field',\n",
              " 'red shirted boy and black dog with frisbee run in the green grass',\n",
              " 'the small boy is running in front of black dog with frisbee in its mouth']"
            ]
          },
          "metadata": {
            "tags": []
          },
          "execution_count": 20
        }
      ]
    },
    {
      "cell_type": "markdown",
      "metadata": {
        "id": "w0O6qqTC23LX",
        "colab_type": "text"
      },
      "source": [
        "Once cleaned, we can summarize the size of the vocabulary.\n",
        "\n",
        "Ideally, we want a vocabulary that is both expressive and as small as possible. A smaller vocabulary will result in a smaller model that will train faster.\n",
        "\n",
        "For reference, we can transform the clean descriptions into a set and print its size to get an idea of the size of our dataset vocabulary."
      ]
    },
    {
      "cell_type": "code",
      "metadata": {
        "id": "UqucXTSCpoK8",
        "colab_type": "code",
        "outputId": "22e44265-b076-47da-98e0-662832e90da4",
        "colab": {
          "base_uri": "https://localhost:8080/",
          "height": 72
        }
      },
      "source": [
        "# convert the loaded descriptions into a vocabulary of words\n",
        "def to_vocabulary(descriptions):\n",
        "\t# build a list of all description strings\n",
        "\tall_desc = set()\n",
        "\tfor key in descriptions.keys():\n",
        "\t\t[all_desc.update(d.split()) for d in descriptions[key]]\n",
        "\treturn all_desc\n",
        "\n",
        "# summarize vocabulary\n",
        "vocabulary = to_vocabulary(descriptions)\n",
        "\n",
        "print(vocabulary)\n",
        "\n",
        "print('Vocabulary Size: %d' % len(vocabulary))"
      ],
      "execution_count": 7,
      "outputs": [
        {
          "output_type": "stream",
          "text": [
            "{'information', 'supermarket', 'news', 'guidewire', 'video', 'skate', 'expressway', 'winnie', 'bedspread', 'perpendicular', 'wade', 'costume', 'snowflake', 'hollywood', 'sheltered', 'suitcase', 'march', 'spreads', 'pins', 'tying', 'banister', 'pressed', 'suits', 'vie', 'inground', 'magazine', 'burka', 'ballerinas', 'int', 'custom', 'revel', 'paraglider', 'score', 'complimentary', 'dirt', 'crawl', 'perhaps', 'photographers', 'inertia', 'fireman', 'muzzle', 'exchanges', 'solitary', 'petterned', 'round', 'receiving', 'mascot', 'bespectacled', 'jog', 'bullbranded', 'snowsuits', 'fantasy', 'convienance', 'batman', 'groups', 'moutain', 'contorts', 'royal', 'streaked', 'set', 'dives', 'tiny', 'meetinghall', 'opposing', 'reduniformed', 'docks', 'hanging', 'bagpipes', 'need', 'shortstop', 'caught', 'celtics', 'downtown', 'vests', 'placed', 'closeup', 'lassos', 'beverage', 'laden', 'floaters', 'inverted', 'squirted', 'ruined', 'trunk', 'protest', 'two', 'drums', 'corrugated', 'bearer', 'sombrero', 'pigs', 'tasting', 'fantastic', 'leaguer', 'pasts', 'rested', 'daylight', 'draw', 'mills', 'oncoming', 'aggitates', 'coasterlike', 'note', 'spaced', 'partition', 'sledlike', 'elderly', 'flooring', 'sorts', 'yellowsuited', 'surfer', 'shepherds', 'shore', 'bikinis', 'rod', 'happen', 'scratch', 'nylon', 'disgusted', 'objest', 'stroll', 'crowd', 'further', 'midstride', 'backpacking', 'apparel', 'pointed', 'excitedly', 'fencers', 'healthy', 'videotaping', 'propelling', 'happening', 'fencedin', 'soft', 'commercial', 'wrestlers', 'polka', 'peddled', 'arriving', 'males', 'fires', 'buttonup', 'paintball', 'yacht', 'barn', 'symbol', 'swooping', 'comfortable', 'lanyard', 'wrestler', 'tissue', 'burn', 'keeling', 'halway', 'halloween', 'hook', 'backed', 'landform', 'hill', 'backpacker', 'drooling', 'apron', 'clouds', 'coppery', 'goalkeeper', 'chilly', 'pouring', 'outcropping', 'cello', 'pretends', 'walked', 'grown', 'campground', 'supervising', 'jazz', 'mail', 'clean', 'occasion', 'loading', 'plants', 'picture', 'tide', 'reflects', 'slipper', 'passenger', 'grandmother', 'planter', 'dancer', 'bluetinted', 'yerba', 'stifflyposed', 'butt', 'string', 'damaged', 'entire', 'ok', 'content', 'transport', 'gonzaga', 'platform', 'texas', 'god', 'smear', 'belly', 'reddish', 'bloodied', 'crafted', 'prayer', 'settings', 'shorter', 'battons', 'swampy', 'climing', 'rafting', 'thing', 'crevice', 'oh', 'underneat', 'planting', 'knotted', 'invention', 'display', 'height', 'cowlike', 'story', 'skins', 'pipeline', 'indescript', 'boarding', 'shields', 'clowns', 'beack', 'ended', 'swetashirts', 'planked', 'tightly', 'calmer', 'protection', 'longhandled', 'racks', 'literature', 'oout', 'reptiles', 'unner', 'convienience', 'cami', 'bmw', 'handlebars', 'grove', 'resaurant', 'streaks', 'brownhaired', 'panes', 'rockclimbs', 'adult', 'antoher', 'ashtray', 'jumpropes', 'men', 'darked', 'casino', 'cascades', 'raincoat', 'paw', 'ridding', 'dead', 'banks', 'music', 'dance', 'skeptically', 'nudges', 'coffin', 'pastels', 'notepad', 'remax', 'grayish', 'wolflike', 'canoe', 'bridal', 'monkeys', 'busying', 'director', 'cliffside', 'suckles', 'act', 'sphere', 'sweat', 'cracker', 'vintage', 'touts', 'elf', 'windowed', 'laying', 'identical', 'marketplace', 'welcome', 'pinball', 'dolphin', 'zaftig', 'crashing', 'trained', 'seesaw', 'election', 'bounding', 'mcdonald', 'flirts', 'ghandi', 'curling', 'operates', 'boat', 'headset', 'sleeveless', 'auditorium', 'rose', 'wagon', 'spray', 'pylons', 'designs', 'kisscostumed', 'hugged', 'forehead', 'fingerhold', 'wraps', 'tights', 'steeple', 'trapped', 'midclimb', 'brindlecoated', 'underpass', 'aerodynamically', 'react', 'nude', 'smooth', 'hapily', 'drives', 'arm', 'producing', 'feeding', 'chiseling', 'fastened', 'doge', 'skewed', 'preparation', 'punk', 'assemble', 'leg', 'bigger', 'looming', 'bends', 'has', 'arid', 'foreround', 'sure', 'profession', 'paraskier', 'orange', 'daughter', 'goal', 'rellow', 'speedo', 'juggling', 'pups', 'attend', 'schoolchildren', 'bricks', 'turbans', 'rice', 'bicylist', 'squeezing', 'closeout', 'dappled', 'heavily', 'cyclers', 'cat', 'geyser', 'print', 'overall', 'good', 'chicken', 'trains', 'hillside', 'algae', 'peering', 'super', 'narby', 'retaining', 'steers', 'interior', 'reveals', 'toll', 'expressing', 'spaniels', 'signal', 'wildebeast', 'workshop', 'peanut', 'powerwashing', 'interviewing', 'twirling', 'floaties', 'accessories', 'slice', 'glassess', 'got', 'let', 'paragliding', 'fails', 'conical', 'mittens', 'girl', 'grasp', 'upfront', 'bracelets', 'blondehaired', 'brunette', 'few', 'cavorts', 'tow', 'refugees', 'yellow', 'labelled', 'ash', 'conversing', 'kind', 'yankees', 'middle', 'skinned', 'snake', 'soled', 'possessively', 'brushes', 'coasting', 'scowling', 'halter', 'conference', 'ups', 'perfume', 'crane', 'exhibit', 'post', 'aids', 'shoe', 'chef', 'speedos', 'housing', 'st', 'india', 'walking', 'joins', 'swordfight', 'seaworld', 'breasts', 'coloful', 'pulling', 'rope', 'retreiver', 'recital', 'brush', 'bowtie', 'readies', 'fair', 'helmeted', 'chew', 'personal', 'bungeetype', 'fences', 'keyboard', 'instruments', 'did', 'thrown', 'leave', 'sites', 'bowl', 'freestyle', 'boxy', 'find', 'tilting', 'raging', 'mottled', 'saharan', 'composed', 'stuck', 'backyard', 'tiled', 'pearls', 'provocative', 'izod', 'stubby', 'monitoring', 'overcoat', 'dryed', 'diveboard', 'differentcolored', 'casket', 'mature', 'unicycle', 'chalked', 'tge', 'fly', 'florescent', 'newspapers', 'mug', 'slouched', 'placid', 'barb', 'pecks', 'power', 'pail', 'halfnaked', 'shriner', 'gothically', 'gaurd', 'hawk', 'screen', 'soccor', 'menu', 'grating', 'floating', 'spandex', 'wheelie', 'stretcher', 'salmon', 'pirate', 'aquarium', 'lapse', 'jib', 'darkness', 'process', 'frayed', 'anatomy', 'fuchsia', 'flurry', 'mats', 'outline', 'procession', 'coupe', 'lakeside', 'allterrain', 'leafy', 'guests', 'zooming', 'ramp', 'judge', 'ally', 'skatepark', 'fedora', 'colorblock', 'blasts', 'bow', 'dobbermen', 'wisconsin', 'roping', 'caucasion', 'hangong', 'fourth', 'new', 'cuddle', 'caribbean', 'dancers', 'flat', 'gorge', 'rapidly', 'towrope', 'stalks', 'pillow', 'ponytailed', 'rappeling', 'bearers', 'candidate', 'scarred', 'brief', 'proudly', 'swimming', 'rafts', 'section', 'racket', 'larger', 'beaver', 'stepstool', 'musicians', 'sailboard', 'cleans', 'bear', 'poses', 'garner', 'groom', 'videotaped', 'mill', 'cans', 'trash', 'admired', 'parkinglot', 'shell', 'backbends', 'hoolahoops', 'panhandler', 'halfsmile', 'guiding', 'melting', 'baggage', 'jacked', 'witnesses', 'emerald', 'bushels', 'shaped', 'doberman', 'coasts', 'seating', 'palmtree', 'quietly', 'mule', 'wuth', 'gith', 'candy', 'drill', 'handles', 'taking', 'blackrimmed', 'outdoors', 'pigeons', 'cue', 'lampost', 'sisters', 'classes', 'perches', 'aboveground', 'teach', 'prevent', 'golfing', 'paintings', 'awards', 'different', 'glacial', 'wire', 'flooded', 'car', 'flings', 'gambling', 'gondola', 'notre', 'because', 'jumpy', 'wearfing', 'hurdles', 'zepra', 'reception', 'saxophones', 'axe', 'rays', 'charged', 'opposition', 'sort', 'erupts', 'handgun', 'snoring', 'himself', 'od', 'forwards', 'aqua', 'eluding', 'travel', 'manequins', 'pauses', 'celebration', 'skirt', 'overfilled', 'foal', 'acrobatics', 'pan', 'jogger', 'arch', 'club', 'railroad', 'snowfield', 'practice', 'stunning', 'cheering', 'drinking', 'macintosh', 'youn', 'homebase', 'punches', 'carrying', 'determination', 'stretched', 'computer', 'audience', 'speaks', 'repels', 'eyebrows', 'coverall', 'selfportrait', 'piles', 'yellows', 'domed', 'kneels', 'marlins', 'vault', 'brushland', 'plats', 'guitar', 'messanger', 'meadow', 'playhouse', 'mix', 'wristband', 'junglegym', 'divided', 'passage', 'patricks', 'angrily', 'drawn', 'handcrank', 'pavement', 'convention', 'kneeling', 'toothbrush', 'displayed', 'multipiercings', 'eggs', 'staffordshire', 'fairway', 'artist', 'gold', 'coming', 'discovery', 'disney', 'perform', 'lone', 'aimed', 'sequoia', 'retail', 'diverse', 'lioness', 'malnourished', 'disc', 'organized', 'sillhouttes', 'lake', 'woods', 'hide', 'undershirt', 'bent', 'beachfront', 'sword', 'terrior', 'check', 'treck', 'strand', 'magnificant', 'surf', 'obsured', 'flight', 'caps', 'ladies', 'ad', 'ax', 'stange', 'armchair', 'drap', 'squinting', 'raincoats', 'quickly', 'sightseers', 'puddles', 'lapel', 'cloth', 'hardhats', 'priest', 'straddles', 'queens', 'bride', 'trainer', 'dad', 'excess', 'filling', 'windboard', 'mural', 'officiallooking', 'fending', 'pring', 'straddling', 'comforter', 'belted', 'juggles', 'funny', 'trench', 'amoung', 'lingers', 'coaches', 'dimond', 'joint', 'location', 'uphill', 'navigate', 'gentle', 'novelty', 'billowing', 'fish', 'league', 'crocheted', 'congregation', 'woodstacked', 'spool', 'tanned', 'lionist', 'pyramidshaped', 'sheepdog', 'launched', 'groupe', 'chats', 'bolts', 'equestrian', 'saxaphones', 'sprayed', 'sidebyside', 'everyday', 'setting', 'blackandwhite', 'traveling', 'organic', 'thong', 'dirtbed', 'caravan', 'library', 'attire', 'raced', 'forelegs', 'decide', 'scale', 'jailbird', 'sveral', 'tramples', 'coached', 'wizards', 'mulch', 'grond', 'waeribng', 'panelling', 'rights', 'pattern', 'replaced', 'pouch', 'war', 'musicans', 'burnt', 'cotton', 'army', 'emblems', 'saucers', 'espana', 'superhero', 'surround', 'make', 'artists', 'veil', 'flashes', 'ballthrower', 'fluid', 'hobby', 'nuzzling', 'menacingly', 'shade', 'kelp', 'downwards', 'purchase', 'float', 'bamboo', 'canes', 'multistory', 'pickup', 'tough', 'waring', 'blays', 'onward', 'barricade', 'sprinkled', 'waterskies', 'spectators', 'attack', 'snowbound', 'onsie', 'clothes', 'cellos', 'spout', 'restrain', 'nadal', 'bandaged', 'goldencolored', 'rhododendron', 'balcony', 'waterskis', 'folds', 'reclining', 'aim', 'website', 'girlfriends', 'miniature', 'batting', 'packages', 'ornate', 'plates', 'cavorting', 'unfurled', 'brownspotted', 'vest', 'uniquelyshaped', 'roughhousing', 'fight', 'thck', 'turban', 'halfcompleted', 'curvy', 'buggy', 'seen', 'nets', 'ipods', 'redheaded', 'paying', 'extinguish', 'arabic', 'werewolf', 'outrun', 'schoolgirl', 'horns', 'potted', 'cubicle', 'throat', 'deserted', 'paperwork', 'global', 'cacti', 'facepaint', 'bald', 'worshippers', 'frolicks', 'tumble', 'min', 'west', 'beverages', 'toolbox', 'countryside', 'cocked', 'fries', 'pleasant', 'automobile', 'encounters', 'headlong', 'buzy', 'foliaged', 'hair', 'arab', 'cathedral', 'twirl', 'wands', 'ticket', 'hi', 'spiderpatterned', 'banana', 'spiking', 'lilly', 'netted', 'craw', 'incense', 'bullfight', 'wristbands', 'expressionless', 'bulldozer', 'something', 'jockeys', 'bloe', 'sparrow', 'tanktops', 'layer', 'public', 'leather', 'mercury', 'ripping', 'slopes', 'matching', 'nerf', 'headress', 'wicker', 'cafeteria', 'withdrawing', 'brook', 'fancy', 'rally', 'whisper', 'form', 'blouse', 'direction', 'unified', 'andy', 'sprinkers', 'hairclips', 'is', 'apples', 'walkways', 'south', 'bookshelves', 'hip', 'layup', 'darkheaded', 'entangles', 'steer', 'swirl', 'distribute', 'litle', 'tightrope', 'bench', 'sleve', 'patrick', 'sheet', 'paint', 'purchasing', 'horses', 'earphones', 'challenging', 'kayakers', 'sunflower', 'spaghetti', 'relaxing', 'mission', 'staircase', 'swine', 'bits', 'clown', 'rugby', 'stuffed', 'will', 'vans', 'instructs', 'kinds', 'dashes', 'coloring', 'hiviz', 'cigerette', 'scramble', 'easels', 'threatening', 'lodge', 'sky', 'decoration', 'special', 'uptop', 'snakeskin', 'gal', 'dine', 'visible', 'competes', 'black', 'western', 'log', 'skier', 'twp', 'playstation', 'glove', 'canned', 'gay', 'slide', 'walk', 'scottish', 'punting', 'wipes', 'beginning', 'broadly', 'frown', 'turning', 'wal', 'preserves', 'operate', 'harnessed', 'butterflycatcher', 'pitted', 'retreived', 'sarongs', 'boatload', 'radio', 'peak', 'musical', 'flinging', 'mcdonalds', 'villages', 'social', 'necklace', 'building', 'learns', 'weaving', 'target', 'amazed', 'submerged', 'revealed', 'lollipops', 'age', 'launching', 'someplace', 'greyishbrown', 'surfs', 'meandering', 'rodeo', 'paddle', 'poorly', 'obstacles', 'themselves', 'sniffed', 'lemonade', 'consulting', 'wearubg', 'cabana', 'wipeout', 'golf', 'icy', 'coiled', 'sign', 'winter', 'opened', 'bowlike', 'parking', 'bunnies', 'desks', 'locks', 'pushing', 'bed', 'breaded', 'thumbsup', 'advertising', 'shawls', 'mudfight', 'trots', 'action', 'kitty', 'pretend', 'creek', 'teams', 'beats', 'split', 'rundown', 'celebrities', 'long', 'ask', 'gliding', 'intertube', 'cowgirls', 'members', 'dame', 'trials', 'thirds', 'also', 'loader', 'aerial', 'companions', 'liked', 'ascends', 'powdery', 'identically', 'onearmed', 'expanding', 'nap', 'concert', 'greet', 'vertical', 'overflow', 'mixing', 'heritage', 'mechanisms', 'jumpsuites', 'bluetooth', 'pyramid', 'hardhat', 'broken', 'feet', 'cars', 'instructor', 'winning', 'lafayette', 'anthem', 'brought', 'woamn', 'poem', 'attentively', 'tatoo', 'ringed', 'costumed', 'grotto', 'gathers', 'modifications', 'marble', 'completing', 'pagent', 'mosaic', 'labs', 'airborne', 'stones', 'dim', 'highflying', 'observed', 'ferns', 'images', 'opens', 'skislope', 'democrat', 'sedan', 'equiment', 'vuitton', 'creating', 'frosty', 'computers', 'queue', 'autumn', 'idea', 'capes', 'helping', 'walkway', 'routine', 'held', 'teammate', 'semiformal', 'skills', 'peeing', 'about', 'navigating', 'worked', 'strains', 'font', 'main', 'stonesign', 'stirring', 'gymnastic', 'beard', 'robes', 'pilot', 'romp', 'footbridge', 'candles', 'stay', 'motorcycling', 'enters', 'arbor', 'spreading', 'siren', 'noisemaker', 'skateboarder', 'kneepads', 'retrive', 'magizine', 'turn', 'deeper', 'demonstrating', 'teamates', 'apportioned', 'drawing', 'physical', 'films', 'bagpipers', 'peeks', 'shirtness', 'conversation', 'rides', 'yawns', 'ump', 'suburbs', 'contestent', 'bongo', 'hoists', 'crate', 'written', 'heap', 'home', 'grocery', 'astride', 'headdresses', 'arched', 'mitt', 'mantle', 'paleontologist', 'cause', 'slaloms', 'sidewalk', 'toppless', 'tune', 'swims', 'threeway', 'rifles', 'shawled', 'backbend', 'dodgeball', 'whist', 'thumb', 'breathes', 'excavating', 'shark', 'so', 'offered', 'baby', 'steal', 'snowbanks', 'defaced', 'adopted', 'duck', 'sands', 'sunflowers', 'harpsichord', 'allmale', 'rattan', 'uses', 'dry', 'cannons', 'suspiciously', 'parrot', 'cuts', 'grilling', 'lilypads', 'solo', 'stroke', 'cabin', 'bird', 'where', 'cutout', 'peach', 'peeking', 'tumbles', 'pails', 'beak', 'ornamental', 'hoodoos', 'broom', 'haystacks', 'grazes', 'subdivsion', 'perfoms', 'dalmatian', 'sprinklers', 'paddlers', 'numbers', 'competiton', 'penzance', 'gliders', 'trim', 'parent', 'ipod', 'dimmly', 'crooswalk', 'popscicles', 'hacking', 'squats', 'great', 'banner', 'hall', 'defying', 'singing', 'tending', 'needs', 'numerous', 'hundreds', 'flipflops', 'weiner', 'spelunker', 'sunlight', 'impersonators', 'rushes', 'asking', 'blueeyed', 'bikina', 'twos', 'pipes', 'confrontation', 'flotation', 'locked', 'rear', 'meter', 'buttoned', 'speedway', 'shack', 'business', 'footpath', 'beanches', 'childing', 'everyone', 'aross', 'rummaging', 'roofed', 'learn', 'growls', 'all', 'citizens', 'graveyard', 'holding', 'razer', 'created', 'slideshow', 'pointer', 'earflaps', 'chin', 'zagging', 'hooding', 'race', 'handheld', 'boardedup', 'enclosed', 'hockey', 'perfom', 'jaywalk', 'ninja', 'lens', 'dunes', 'waterhole', 'spouse', 'nike', 'knitted', 'seeking', 'done', 'contemplates', 'abs', 'sizes', 'underside', 'cascading', 'smoke', 'bridesmaids', 'penguins', 'lobby', 'sheer', 'tone', 'talking', 'bouncing', 'splashed', 'cups', 'cramped', 'middleaged', 'gauges', 'faded', 'playfighting', 'harvest', 'handlers', 'multicoloured', 'pee', 'eccentric', 'waterbed', 'arranged', 'sunset', 'ashy', 'backpack', 'if', 'bank', 'much', 'occupied', 'bend', 'readied', 'calculate', 'being', 'ridge', 'sees', 'outward', 'seated', 'night', 'piano', 'portapotty', 'big', 'simultaneously', 'euro', 'pumpkins', 'teen', 'lights', 'distance', 'denim', 'kangaroo', 'excites', 'suspended', 'suite', 'greens', 'cheered', 'miasto', 'tussling', 'jumpsuit', 'mask', 'weather', 'tagged', 'longdistance', 'hatted', 'leafless', 'athletics', 'divers', 'sunsets', 'athlete', 'stripy', 'band', 'starbuck', 'retrieving', 'grenade', 'boarders', 'racedog', 'strung', 'usual', 'actor', 'stirs', 'classroom', 'turbulent', 'bottles', 'em', 'longeared', 'harvested', 'snarling', 'safety', 'jumpsuits', 'dotted', 'shadowy', 'synchronized', 'chair', 'blankets', 'cloudcovered', 'pick', 'racing', 'children', 'stance', 'seem', 'smock', 'rockets', 'cavort', 'riverside', 'swimsuites', 'bumble', 'trampled', 'heavymetal', 'loan', 'human', 'thatch', 'israel', 'observe', 'carefully', 'names', 'celebratory', 'saying', 'vegetable', 'daring', 'feild', 'branded', 'aided', 'lei', 'props', 'juming', 'contorted', 'established', 'basket', 'cats', 'racetrack', 'rangers', 'shadow', 'lassie', 'certificate', 'was', 'indicating', 'types', 'italian', 'extended', 'claus', 'impeach', 'pamphlet', 'bale', 'impersonator', 'minivan', 'emotionally', 'fatigue', 'fancily', 'boxers', 'forests', 'receiver', 'shaky', 'rapids', 'removing', 'nfl', 'on', 'eyes', 'grass', 'canvas', 'warily', 'bonnet', 'desserts', 'cheerleader', 'goggles', 'multilple', 'blueish', 'eagle', 'lamp', 'dirtbikers', 'bathes', 'dwelling', 'cyclist', 'embankment', 'paraglide', 'locker', 'gyro', 'sprints', 'swimmers', 'comfort', 'rainstorm', 'helmet', 'spotted', 'can', 'located', 'paisley', 'favorite', 'busk', 'cellphone', 'stunts', 'strawberries', 'terrier', 'looptheloop', 'rigging', 'potao', 'tee', 'hammer', 'swarm', 'bathing', 'dogshirt', 'bags', 'cheerleading', 'bordering', 'soar', 'biscut', 'violins', 'tabby', 'germanshepherd', 'eyese', 'attaches', 'spikes', 'piloting', 'executes', 'met', 'production', 'dj', 'shocks', 'smoking', 'boot', 'bungee', 'pajama', 'wmoan', 'santas', 'blurry', 'desolate', 'rocky', 'advance', 'incredible', 'overshadows', 'dangerous', 'tickets', 'bmxer', 'animals', 'bouncer', 'beagle', 'driving', 'link', 'minimal', 'studio', 'shallow', 'below', 'color', 'capri', 'marches', 'red', 'battling', 'charm', 'collaborating', 'nordic', 'busines', 'profusely', 'focuses', 'misspelled', 'viewpoint', 'ferrett', 'gymnast', 'signpost', 'mountaindew', 'soap', 'sand', 'bug', 'directs', 'hangglider', 'sings', 'counters', 'suntan', 'triangular', 'foreground', 'bathed', 'banners', 'solicits', 'excercises', 'bookcase', 'person', 'afternoon', 'pedal', 'mossy', 'seaguls', 'woody', 'rooftop', 'mid', 'archways', 'wait', 'monitors', 'rounding', 'trying', 'crocks', 'gra', 'chi', 'peirced', 'curls', 'plling', 'khaki', 'preoccupied', 'discs', 'size', 'infant', 'dollar', 'tube', 'mom', 'courthouse', 'shews', 'kites', 'cyclists', 'oxford', 'snout', 'surronded', 'minirace', 'sports', 'david', 'mohawk', 'sleep', 'slips', 'headscarf', 'loooking', 'man', 'midflight', 'maple', 'hits', 'brake', 'cliff', 'recieving', 'poms', 'seven', 'bone', 'nametags', 'peterson', 'hikes', 'licked', 'automobiles', 'fold', 'neckdeep', 'anchored', 'urge', 'multicultural', 'records', 'brawl', 'bandages', 'lightup', 'barefoot', 'surounded', 'pats', 'rollerblading', 'huskylike', 'prepares', 'skidded', 'razzling', 'washington', 'this', 'outcrop', 'desk', 'youngsters', 'sideways', 'porcelain', 'shorthair', 'chemical', 'meet', 'brownishorange', 'flops', 'hulk', 'chaperone', 'planeta', 'afro', 'only', 'wig', 'developing', 'res', 'poll', 'wasteland', 'mallard', 'cupcake', 'kayer', 'lack', 'teenage', 'feeds', 'googles', 'panda', 'aside', 'avoid', 'window', 'rushing', 'biting', 'diagram', 'law', 'pounces', 'eating', 'silhouettes', 'kid', 'beautiful', 'knocking', 'gleefully', 'shelton', 'landscape', 'son', 'shouting', 'tethered', 'waitress', 'montana', 'fortune', 'offering', 'stickball', 'rises', 'segway', 'crocs', 'motorcross', 'gorup', 'gentlemen', 'collected', 'flautist', 'knee', 'sheperd', 'trashcan', 'easily', 'kart', 'fell', 'really', 'to', 'bright', 'yard', 'brick', 'wrings', 'flowerbed', 'japanese', 'fishers', 'floatlys', 'sweatband', 'chihuahua', 'mole', 'surgical', 'markers', 'masks', 'rising', 'spots', 'streetlights', 'smelled', 'milling', 'skirts', 'runner', 'protecting', 'vandalized', 'trimmed', 'colored', 'twist', 'jersey', 'flapping', 'mothers', 'payfully', 'spelling', 'shakes', 'sportman', 'firefighter', 'buff', 'maracas', 'muxzzled', 'lifted', 'sticking', 'nongrassy', 'cook', 'overhead', 'eyebrow', 'sequined', 'setup', 'lighted', 'roddick', 'teeth', 'sit', 'pilar', 'who', 'bridges', 'plantains', 'stairway', 'reddishbrown', 'rafter', 'waterway', 'hoes', 'wear', 'colt', 'undone', 'album', 'butchers', 'triangle', 'repel', 'orangehooded', 'opportunity', 'playful', 'motorcyclists', 'crampons', 'versus', 'clothed', 'giants', 'team', 'grasping', 'baring', 'nonworking', 'patches', 'backback', 'fielder', 'cowboys', 'slushies', 'vibrant', 'curled', 'graffitifilled', 'nash', 'traveller', 'wields', 'spiked', 'goodbye', 'grabs', 'polkadot', 'butts', 'crocodile', 'notebook', 'chunk', 'nurses', 'started', 'brown', 'hackey', 'create', 'legos', 'masquerade', 'valleys', 'ponchos', 'dodging', 'compound', 'herd', 'coverings', 'tag', 'found', 'piggyback', 'salvar', 'conifers', 'local', 'cheerful', 'scampers', 'military', 'hsirt', 'fist', 'lift', 'fetch', 'sunbathers', 'pooping', 'apparently', 'cellphones', 'percussionists', 'furious', 'momma', 'saroog', 'watercraft', 'dig', 'chief', 'wrap', 'convenience', 'backs', 'hapy', 'chip', 'prepared', 'destination', 'beg', 'gauntlet', 'rows', 'perforced', 'cheap', 'eachothers', 'adhd', 'without', 'bunch', 'bumpers', 'catches', 'gi', 'attempting', 'africanamericans', 'pig', 'used', 'gift', 'catwalk', 'accompanies', 'while', 'elbow', 'involving', 'bluejeans', 'board', 'european', 'girls', 'sunbathing', 'playes', 'clear', 'starlet', 'drapped', 'cots', 'diapers', 'backstrokes', 'steep', 'partly', 'backset', 'touch', 'rungs', 'castles', 'freak', 'chewedup', 'greenish', 'attacked', 'drips', 'bull', 'ladles', 'motocycle', 'leggings', 'get', 'cloaks', 'whit', 'twome', 'grainy', 'harbor', 'ganilla', 'unoccupied', 'rectangular', 'chins', 'bandmates', 'grounded', 'dizzy', 'grownups', 'photograph', 'solitude', 'hidden', 'ill', 'whales', 'sooner', 'showing', 'groomed', 'quarry', 'silohuetted', 'shaft', 'fringe', 'raked', 'fruit', 'fellows', 'pinestraw', 'brother', 'offroading', 'overhear', 'last', 'rock', 'blossoming', 'attemping', 'onlookers', 'monster', 'secured', 'wellmuscled', 'towards', 'hypocrites', 'pouncing', 'machines', 'pit', 'athletic', 'spills', 'hummer', 'guitarists', 'driven', 'widelegged', 'inspecting', 'helemt', 'moped', 'dock', 'tantrum', 'interrupts', 'troll', 'firedancer', 'slippers', 'eyed', 'wheelbarrow', 'freesbies', 'rushed', 'tan', 'headlamp', 'squated', 'porch', 'plain', 'portland', 'pompoms', 'skimming', 'light', 'attractive', 'posing', 'item', 'satchel', 'newlywed', 'kneel', 'somthing', 'goods', 'twists', 'fishes', 'pebble', 'tablet', 'rimmed', 'lawnmower', 'lifeboat', 'pedaling', 'liberty', 'flippers', 'urban', 'downstream', 'amid', 'hand', 'seedoo', 'attampts', 'unshaven', 'merry', 'mets', 'grasses', 'spits', 'bell', 'shivers', 'peer', 'snowcovered', 'facepainted', 'windy', 'leader', 'crudely', 'slowly', 'waing', 'collision', 'fowl', 'hippies', 'amused', 'photo', 'lavish', 'unifrom', 'rural', 'formation', 'keeper', 'lacross', 'passifier', 'plaza', 'dresswear', 'halfdressed', 'frisbees', 'drops', 'trekkies', 'cheerfully', 'it', 'photographed', 'gettin', 'aluminum', 'puts', 'arabian', 'leopard', 'bike', 'pavillion', 'disheveled', 'footprints', 'caucasian', 'father', 'gives', 'bulletproof', 'whipping', 'families', 'inspects', 'heroes', 'cements', 'shoelaces', 'basement', 'workers', 'weathered', 'snarls', 'menus', 'pointing', 'shovel', 'chestnut', 'handwritten', 'suggestively', 'pinscher', 'third', 'gaze', 'branches', 'glances', 'curious', 'cheeseburger', 'daschunds', 'suit', 'submissive', 'referee', 'outfut', 'watersports', 'cameraman', 'everywhere', 'jewish', 'tanktop', 'newspaper', 'current', 'wintry', 'catc', 'compact', 'hatchback', 'polar', 'bullfighting', 'retreiving', 'captures', 'hauled', 'mannequins', 'plow', 'applauding', 'sponsors', 'carpeting', 'pep', 'streets', 'sweatshirt', 'towel', 'trace', 'sculptures', 'entertainer', 'hiding', 'fallen', 'tulip', 'spinart', 'jumpinjg', 'wrangles', 'pebbles', 'cloths', 'monument', 'snowstorm', 'shadows', 'columns', 'flea', 'total', 'palying', 'rangler', 'angerly', 'obedience', 'ads', 'lited', 'stabs', 'dirty', 'threw', 'sloppy', 'cut', 'bouncy', 'horse', 'lesson', 'recked', 'against', 'kickflip', 'panoramic', 'hamming', 'calico', 'belays', 'gap', 'wintergear', 'elder', 'supported', 'pugs', 'from', 'attrative', 'blownup', 'guides', 'swingtoy', 'tattoo', 'strange', 'protesters', 'brownandwhite', 'descent', 'brooms', 'furtrimmed', 'biscuit', 'sundress', 'policeperson', 'spiderman', 'kiddy', 'begs', 'itself', 'screeches', 'smokes', 'gloved', 'jersy', 'orangeclad', 'accent', 'sips', 'dries', 'licking', 'gesture', 'kickboxing', 'feels', 'higher', 'architectural', 'lead', 'turquoise', 'residential', 'closing', 'piled', 'escape', 'recieve', 'streamers', 'puma', 'similarly', 'darkly', 'tire', 'tried', 'laughs', 'longlegged', 'whil', 'turned', 'cowgirl', 'buries', 'garden', 'bullfighter', 'sunshaped', 'cemetery', 'perked', 'swirling', 'loose', 'beijing', 'offensive', 'tosses', 'evergreen', 'stepped', 'sitting', 'redvested', 'hurdlejumper', 'replaces', 'figurine', 'burlap', 'female', 'twilight', 'play', 'serving', 'campflauge', 'rollercoaster', 'garbage', 'donut', 'dismounts', 'firefighters', 'exotic', 'bluestriped', 'soles', 'grinding', 'dragster', 'jousting', 'paced', 'culprit', 'eastpak', 'amphitheater', 'roller', 'eldery', 'situated', 'wintery', 'stages', 'john', 'multicolor', 'hose', 'buy', 'stains', 'sliding', 'fingers', 'parasailer', 'returning', 'antiquated', 'pharmacy', 'gradual', 'sail', 'running', 'highrise', 'bucked', 'stuff', 'caterpillar', 'stall', 'slingshot', 'fame', 'catholic', 'burrowing', 'collapsed', 'brightly', 'nat', 'engaging', 'luggage', 'hunter', 'mechanical', 'pinkbottomed', 'teal', 'examining', 'corn', 'displays', 'deposited', 'uniforms', 'circular', 'rail', 'fitness', 'sleddog', 'aquacolored', 'build', 'philadelphia', 'dancefloor', 'cork', 'hoist', 'loop', 'argues', 'surveying', 'blocking', 'hell', 'vinyl', 'fields', 'fisheye', 'adjust', 'speak', 'becomes', 'torch', 'nervous', 'cords', 'creams', 'least', 'americans', 'microphones', 'squeezes', 'county', 'underbrush', 'counter', 'pump', 'wool', 'wetsuits', 'buoy', 'idyllic', 'rollerskater', 'pursuing', 'confronted', 'shocked', 'photographing', 'dresser', 'backdrop', 'gestures', 'ceremonial', 'cake', 'blondhaired', 'four', 'whild', 'electric', 'wadingpool', 'throw', 'preparing', 'bottoms', 'grappling', 'contemporary', 'flashing', 'bar', 'competing', 'mitten', 'poolside', 'hustle', 'speaker', 'blossoms', 'groucho', 'rods', 'angled', 'snuggling', 'overtop', 'roll', 'hump', 'jean', 'dandelion', 'everything', 'texts', 'marx', 'or', 'sleeding', 'mock', 'followed', 'net', 'herding', 'spotters', 'elementary', 'suburban', 'bullrider', 'leaving', 'belt', 'policemen', 'dining', 'backlegs', 'skims', 'broadway', 'nightlife', 'waterboard', 'my', 'colonial', 'contraption', 'sushi', 'giggling', 'dome', 'curved', 'surroundings', 'waiting', 'oak', 'customers', 'snuggles', 'bending', 'relection', 'again', 'piercing', 'adorn', 'pensive', 'attacking', 'nine', 'protect', 'dusted', 'weimaraners', 'gandhi', 'longsleeved', 'motorbike', 'taxis', 'steered', 'wheel', 'collared', 'wanting', 'biplane', 'keeps', 'hte', 'down', 'cookies', 'antics', 'barrior', 'investigating', 'dave', 'chainmail', 'skit', 'serena', 'grassland', 'terriers', 'riverbank', 'snowscapes', 'approaches', 'bicycler', 'measured', 'seas', 'carousel', 'bead', 'baseball', 'marks', 'arrows', 'onesie', 'traffic', 'treads', 'oregon', 'watery', 'birthday', 'firing', 'protects', 'garter', 'support', 'headbands', 'ferry', 'cradling', 'vampires', 'gothic', 'that', 'reentry', 'beat', 'suggestive', 'throught', 'doorag', 'catered', 'ravine', 'than', 'try', 'buzzes', 'festive', 'modeling', 'twirls', 'crying', 'performance', 'captured', 'batter', 'cycle', 'heavyset', 'freefalling', 'cathing', 'hung', 'glowing', 'funky', 'checker', 'combat', 'factory', 'pile', 'sprinkler', 'atrium', 'checks', 'challange', 'brightcolored', 'crosslegged', 'turtle', 'vacationing', 'cricketer', 'weas', 'standing', 'mounds', 'bun', 'topples', 'corners', 'pinches', 'wild', 'poof', 'pasta', 'pizzeria', 'towed', 'inscribed', 'lightly', 'live', 'await', 'rallies', 'sheperds', 'receive', 'newborn', 'murky', 'poor', 'hawaiian', 'peacefully', 'ragged', 'recoils', 'protected', 'obscures', 'garment', 'littering', 'sheets', 'fend', 'flowers', 'headlights', 'alter', 'collie', 'huge', 'arms', 'cardigan', 'plush', 'starshaped', 'clears', 'blacktop', 'crosswalk', 'spash', 'obscure', 'yougn', 'fireworks', 'bringing', 'dacshund', 'approaching', 'rack', 'barbed', 'reenactment', 'bleachers', 'creamy', 'earpiece', 'frightened', 'squints', 'spectate', 'collage', 'forceful', 'dojo', 'boarder', 'glide', 'pitches', 'amnesty', 'dip', 'covers', 'motioning', 'energy', 'thank', 'poppies', 'venice', 'bound', 'ride', 'fix', 'shotput', 'parachuting', 'modern', 'pinata', 'wooded', 'foothills', 'adventures', 'fribee', 'treetops', 'outstreched', 'exciting', 'cutouts', 'sailboarder', 'chest', 'toyota', 'taping', 'sunglasses', 'medatative', 'flanked', 'tourists', 'mama', 'goose', 'operators', 'performed', 'butterfly', 'filmed', 'stuntleap', 'pub', 'lav', 'converging', 'coated', 'teddy', 'wand', 'oars', 'canoes', 'gigantic', 'leaves', 'hovered', 'arcade', 'retrievers', 'presentation', 'widows', 'across', 'sprawling', 'white', 'guards', 'monitor', 'learning', 'gain', 'hunt', 'frosting', 'nipping', 'relaxes', 'flung', 'puckering', 'lilies', 'flipflop', 'ghost', 'starbucks', 'restaurant', 'depth', 'seems', 'interlocking', 'swung', 'dreary', 'priests', 'walkng', 'accepting', 'enforcement', 'splattered', 'cereal', 'jackets', 'orangestained', 'strides', 'sits', 'lying', 'swipes', 'gravity', 'tower', 'paintbrush', 'redseated', 'tim', 'yellowish', 'paraphernalia', 'stripes', 'engulfed', 'motorbiker', 'whispering', 'barrier', 'savanah', 'heads', 'scantily', 'climbs', 'zoo', 'kaki', 'puffy', 'collides', 'garments', 'parents', 'dinghy', 'hundred', 'waaves', 'circus', 'punctured', 'tails', 'firecracker', 'map', 'embrace', 'campfire', 'delivering', 'stained', 'dimlight', 'citizen', 'id', 'hdr', 'banjo', 'fliers', 'coordinator', 'drumming', 'runway', 'noodle', 'longish', 'strapless', 'these', 'bloody', 'bus', 'shed', 'collapsing', 'discouraged', 'toys', 'goalie', 'hairstyle', 'twigs', 'crawls', 'equipments', 'colorfully', 'river', 'whacking', 'portapotties', 'heron', 'oceanside', 'painted', 'boa', 'squares', 'tulips', 'encripted', 'consumer', 'toetouch', 'skaters', 'shaking', 'preservers', 'front', 'roman', 'tanandwhite', 'dunking', 'aquatic', 'colors', 'lets', 'coarse', 'remove', 'overpass', 'pond', 'meat', 'prances', 'lifting', 'virtual', 'trows', 'sill', 'nussle', 'spraying', 'dumped', 'smelling', 'leading', 'she', 'wax', 'braids', 'patterns', 'appears', 'visitor', 'african', 'large', 'tentatively', 'technical', 'surfing', 'dumping', 'uggs', 'foggyday', 'bundles', 'wheelers', 'follow', 'playgym', 'daredevil', 'shored', 'crouched', 'polaris', 'beaks', 'test', 'corndogs', 'fence', 'ramps', 'shown', 'gras', 'welldressed', 'lazily', 'uplifted', 'interracial', 'jackolantern', 'off', 'flashlight', 'wine', 'goat', 'pitcher', 'mucky', 'sideline', 'sleeping', 'brownish', 'countertop', 'gazing', 'wrists', 'hard', 'wife', 'stood', 'cop', 'dragsters', 'showroom', 'via', 'flowing', 'activities', 'well', 'harnesses', 'squirting', 'beckham', 'admire', 'nd', 'spindle', 'onrushing', 'streetpole', 'guns', 'slalom', 'soars', 'related', 'tandom', 'homemade', 'applying', 'chart', 'windsurfing', 'police', 'offers', 'nightclub', 'shipping', 'growling', 'golden', 'competitive', 'policewoman', 'rover', 'sombody', 'winters', 'headed', 'labeled', 'packs', 'bartype', 'oppsing', 'motor', 'ferris', 'aquestrian', 'space', 'coopers', 'ref', 'openmouthed', 'washing', 'parallel', 'consoling', 'escalator', 'mobile', 'break', 'mesa', 'tug', 'both', 'drak', 'parklike', 'depicts', 'gurnee', 'swoops', 'dachshund', 'diry', 'impact', 'cine', 'fingertips', 'underfoot', 'dirtracing', 'barista', 'mess', 'descends', 'corridor', 'officials', 'regalia', 'umbrellas', 'bout', 'trombone', 'blindfold', 'brandishes', 'sparks', 'their', 'prarie', 'repair', 'puck', 'podium', 'hanglider', 'powerboats', 'athelete', 'haloween', 'trade', 'mouthing', 'gotten', 'midafternoon', 'chairs', 'waits', 'escorted', 'fleece', 'noticable', 'mixed', 'wakeboarders', 'pool', 'loofa', 'nech', 'american', 'player', 'masonry', 'launcher', 'fan', 'rollskating', 'handrail', 'substance', 'yoga', 'pulley', 'apart', 'protector', 'helps', 'litlle', 'endzone', 'lockers', 'dandelions', 'dads', 'browses', 'boards', 'swimsuits', 'before', 'bodyboard', 'striking', 'stone', 'diving', 'vase', 'skewers', 'lays', 'reflecting', 'spurting', 'varied', 'moutains', 'crustacean', 'hot', 'necked', 'raise', 'robust', 'cloud', 'arts', 'look', 'supplies', 'outfitted', 'horsemen', 'glasses', 'rebound', 'kimono', 'alertly', 'rowing', 'behinds', 'shoulderdeep', 'badminton', 'insynch', 'mitsubishi', 'cinderblock', 'tricolored', 'near', 'rappels', 'cocker', 'extending', 'shading', 'sock', 'flyfishing', 'embracing', 'uncut', 'zombies', 'goals', 'spouts', 'bubble', 'lost', 'gnome', 'feel', 'autos', 'freeclimbing', 'swirls', 'lifevests', 'thie', 'punkish', 'visor', 'bikers', 'sport', 'canadian', 'defends', 'baptized', 'keffiyahs', 'meanders', 'snowboarders', 'pots', 'yankee', 'winston', 'retrives', 'weird', 'hardscape', 'sunning', 'angel', 'corgis', 'babies', 'knocks', 'tireswing', 'wires', 'squad', 'disguise', 'loops', 'abarrotes', 'bares', 'approachs', 'ac', 'crank', 'extravagent', 'saucer', 'wavy', 'watermelons', 'wedgie', 'exploring', 'buggies', 'muzzled', 'oppose', 'carry', 'champ', 'disguises', 'riders', 'pom', 'posed', 'justice', 'return', 'washes', 'wars', 'stretching', 'mad', 'crosswalks', 'pose', 'feature', 'bay', 'applebee', 'tripped', 'toe', 'midday', 'capris', 'seal', 'downriver', 'bumpy', 'phrase', 'falcon', 'snub', 'santa', 'tunnel', 'snare', 'ducky', 'tackle', 'examine', 'boots', 'somersaulting', 'sleeps', 'spitting', 'watermelon', 'experiences', 'farmer', 'sunbathe', 'pitched', 'thin', 'waitresses', 'creature', 'shoeless', 'dimly', 'heavy', 'possession', 'buying', 'manager', 'disabled', 'mogul', 'clemson', 'under', 'text', 'bookstore', 'struggling', 'kennel', 'whizzes', 'department', 'pitching', 'foot', 'designed', 'married', 'mannequin', 'hound', 'agile', 'behing', 'saris', 'ciff', 'sync', 'pudding', 'moutnain', 'cowboy', 'poised', 'fairground', 'then', 'defense', 'toy', 'handrails', 'poking', 'feathery', 'someone', 'resembling', 'involved', 'chasing', 'training', 'prize', 'money', 'vocabulary', 'horizontal', 'rolled', 'la', 'handout', 'overhang', 'corporate', 'headscarves', 'sidecar', 'takeout', 'how', 'tattoos', 'responding', 'flickr', 'bandage', 'mishap', 'sandpit', 'transparent', 'hp', 'memorabilia', 'propel', 'take', 'smu', 'icey', 'croquette', 'photograhi', 'multiprint', 'cringes', 'strolling', 'dyed', 'kneedeep', 'tuxes', 'bleak', 'oiled', 'shawl', 'folded', 'dragged', 'dinner', 'sparklers', 'garb', 'shredded', 'squirrel', 'sparkler', 'astonishment', 'paper', 'roadway', 'goth', 'strings', 'upright', 'stared', 'blog', 'manually', 'put', 'pokemon', 'heading', 'ledges', 'wooly', 'giving', 'mean', 'darkened', 'advertisements', 'navel', 'flopping', 'sniff', 'upstream', 'spays', 'mma', 'cobblestones', 'pressing', 'noise', 'stamds', 'thick', 'gated', 'sledders', 'hospital', 'plushie', 'retrieves', 'berets', 'bullseye', 'noce', 'basett', 'spot', 'hotrod', 'frustrated', 'outcroping', 'drainpipe', 'congregate', 'port', 'skii', 'tongue', 'whitemetal', 'florist', 'jets', 'dueling', 'redcarpeted', 'kickboxer', 'cartwheels', 'tape', 'jacks', 'quick', 'rainbow', 'kissed', 'bathrooms', 'numbered', 'foam', 'buffet', 'pale', 'slurps', 'tipped', 'crawling', 'grss', 'breastfeeding', 'bikins', 'alone', 'mosscovered', 'punts', 'skyward', 'highland', 'sink', 'treed', 'roiling', 'experimenter', 'avrovulcancom', 'buffalo', 'deeps', 'pressure', 'camera', 'talk', 'chidl', 'cresting', 'chained', 'para', 'international', 'ban', 'tries', 'tanskinned', 'sponsorship', 'shovels', 'backtoback', 'toward', 'reached', 'fat', 'aggressive', 'fiddle', 'involves', 'putting', 'housekeeping', 'renaissance', 'copper', 'jumper', 'midspeach', 'beating', 'paints', 'pushup', 'garmet', 'cbs', 'nips', 'trooper', 'vampire', 'camouflage', 'throws', 'bystanders', 'swingtype', 'exit', 'centipede', 'bobsled', 'grinds', 'messily', 'cheeked', 'engaged', 'canada', 'upsidedown', 'control', 'recently', 'warming', 'classical', 'supporting', 'egyptian', 'lanterns', 'common', 'pigtails', 'evade', 'phone', 'chases', 'dandylions', 'backward', 'europe', 'violently', 'character', 'hiker', 'built', 'beret', 'brindlecolored', 'mouthpiece', 'position', 'flown', 'casterol', 'lush', 'busstop', 'pleadingly', 'plan', 'furniture', 'tour', 'ditch', 'cape', 'peoople', 'ratty', 'stoll', 'scared', 'weirmeiner', 'numeral', 'roped', 'statute', 'cattails', 'surfboarding', 'emerge', 'vending', 'hurricanes', 'mouthed', 'box', 'atomic', 'popcycles', 'swear', 'biohazard', 'zebra', 'question', 'yellowgrassed', 'dog', 'cannonball', 'sleek', 'knoll', 'lecturing', 'sari', 'rabbits', 'boredom', 'scenery', 'up', 'musher', 'piling', 'rowed', 'sunshine', 'frowns', 'coconut', 'mound', 'barely', 'outdoor', 'outlines', 'teens', 'charges', 'single', 'wilbert', 'ollies', 'harness', 'pockets', 'portable', 'formula', 'markings', 'swarmed', 'identification', 'teenager', 'tipping', 'wodden', 'grimmaces', 'pulleys', 'odd', 'barnlike', 'walled', 'customer', 'gutarist', 'spectating', 'tricycle', 'town', 'flaming', 'floated', 'smilely', 'bread', 'mushroom', 'tatooed', 'chain', 'hauling', 'trips', 'trolley', 'breeze', 'confused', 'skids', 'narrow', 'blackshirt', 'latter', 'robot', 'collapsable', 'fun', 'party', 'blows', 'facedown', 'blackboard', 'peek', 'mushing', 'nearby', 'lump', 'direct', 'burbur', 'weaves', 'push', 'element', 'rears', 'forefront', 'sales', 'spokesmodels', 'michael', 'launches', 'silky', 'skill', 'listens', 'picnickers', 'tangled', 'landscaped', 'facial', 'waist', 'mickey', 'glovedhand', 'scrubbing', 'graffitistrewn', 'converse', 'pizza', 'calm', 'demonstration', 'joke', 'petals', 'route', 'bit', 'roofs', 'chunky', 'outstreached', 'layered', 'cartwheeling', 'splatter', 'cave', 'zipline', 'quaint', 'center', 'evil', 'tanning', 'remaining', 'enviorment', 'marquee', 'concealed', 'bitten', 'pitch', 'interacting', 'toes', 'halfway', 'rolling', 'tile', 'ot', 'fitls', 'christmas', 'skydiver', 'fins', 'swing', 'speech', 'contestants', 'corkscrew', 'arranging', 'camp', 'windshield', 'benches', 'fire', 'possible', 'terminal', 'piece', 'amusement', 'longnecked', 'staue', 'collapses', 'above', 'expressions', 'snacks', 'flamboyant', 'neat', 'spiky', 'backpacks', 'accented', 'shotongoal', 'cavern', 'scuba', 'zip', 'finish', 'faithful', 'barrel', 'husky', 'bats', 'practising', 'dge', 'samsung', 'rust', 'mudwrestle', 'pooh', 'touchline', 'blitz', 'toilets', 'dinosaur', 'wristwatch', 'pushed', 'foreign', 'shops', 'slouching', 'gators', 'oriental', 'rummages', 'assisting', 'diplomas', 'bracing', 'yet', 'grasslands', 'dons', 'living', 'screaming', 'einstein', 'downsteps', 'palestinian', 'neclace', 'railing', 'treeless', 'breeds', 'life', 'fabric', 'quite', 'widebrimmed', 'late', 'nothing', 'treats', 'moss', 'filming', 'fights', 'bystander', 'shamrocks', 'underneath', 'broad', 'humansize', 'chains', 'pierlike', 'burgundy', 'ranger', 'entering', 'baked', 'not', 'swarming', 'cows', 'expansive', 'driver', 'joking', 'homeless', 'dandilions', 'lounge', 'kidsized', 'travelling', 'zig', 'word', 'pilings', 'clue', 'wetsuit', 'motion', 'choppy', 'outlined', 'follows', 'tobaggan', 'braiding', 'speed', 'actions', 'ti', 'schoolyard', 'exercising', 'kong', 'berries', 'lizards', 'whitehaired', 'waterpark', 'easy', 'snowpacked', 'london', 'figure', 'mist', 'tourquoise', 'oversized', 'ladder', 'buses', 'stopping', 'granite', 'judges', 'speaking', 'brilliant', 'highschool', 'speeding', 'massive', 'charging', 'reclines', 'smell', 'vaults', 'swinsuit', 'projected', 'formal', 'owl', 'flag', 'most', 'maker', 'slanted', 'canvasses', 'foraging', 'battles', 'writing', 'blowing', 'spell', 'assist', 'gleaming', 'sprinking', 'making', 'goalies', 'leashes', 'bananas', 'deck', 'navy', 'strap', 'choir', 'embraces', 'sweater', 'as', 'pound', 'ovals', 'lacrosse', 'shivering', 'hotpink', 'sum', 'crab', 'illustrated', 'signing', 'pompadour', 'telephone', 'ambulance', 'miami', 'khakicolored', 'dolly', 'graffitied', 'coal', 'be', 'scratches', 'controls', 'course', 'gymnasium', 'rim', 'bonfire', 'sweating', 'guiutarist', 'seyeview', 'russel', 'dribbled', 'squirts', 'vinecovered', 'sea', 'trampoline', 'giant', 'vacant', 'acting', 'hang', 'carts', 'dirtyblonde', 'clearing', 'vfw', 'recoiling', 'springs', 'crowns', 'enjoys', 'purple', 'downhill', 'bangles', 'teacher', 'song', 'drills', 'corral', 'females', 'attempt', 'wave', 'share', 'cobblestone', 'floatation', 'do', 'tassel', 'handstand', 'vehicles', 'hurdle', 'greenhouse', 'ran', 'indian', 'sweatsuit', 'racers', 'limb', 'tripod', 'kawasaki', 'instrument', 'popsicle', 'bleached', 'spirit', 'reach', 'bites', 'dirtbikes', 'muddy', 'wakeboarding', 'cannon', 'slender', 'kayaker', 'row', 'obscured', 'indy', 'left', 'piercings', 'lower', 'canyon', 'honest', 'paperback', 'mountain', 'railway', 'gazebo', 'trio', 'advertizing', 'collarless', 'domes', 'cadet', 'boods', 'yorkshire', 'boats', 'rug', 'minor', 'tongues', 'vert', 'steve', 'photography', 'withered', 'biker', 'stumbling', 'marinelifethemed', 'jewlery', 'drivers', 'accident', 'windsailing', 'motorcrossing', 'bathroom', 'traveler', 'presenting', 'went', 'tilted', 'photographs', 'bowling', 'headphones', 'tea', 'brwon', 'fiercely', 'lamppost', 'ducking', 'prairie', 'blond', 'trucks', 'grins', 'smile', 'schoolgirls', 'thre', 'retrieved', 'tobaggons', 'badges', 'guitarist', 'gowns', 'enjoy', 'hippie', 'delivery', 'twenties', 'breezeway', 'winds', 'scoring', 'showerhead', 'filiming', 'overshadowed', 'bikini', 'fastens', 'fiels', 'slimy', 'climbers', 'medow', 'buckets', 'skisuit', 'sling', 'cruise', 'welllit', 'voice', 'scrambling', 'brow', 'whitesuited', 'utensils', 'tuft', 'by', 'art', 'rollerskating', 'blazing', 'waterproof', 'parasail', 'popped', 'joy', 'casting', 'mustache', 'mutltiple', 'shopping', 'ca', 'sportswear', 'beige', 'monocolor', 'windows', 'swept', 'sculpture', 'clips', 'camping', 'bib', 'videogame', 'doorstep', 'crew', 'horro', 'table', 'shute', 'sledding', 'brass', 'call', 'pitchers', 'relax', 'concentrating', 'exits', 'east', 'shower', 'pedestrian', 'coach', 'behind', 'containig', 'sidelines', 'chrismas', 'medals', 'wakeboard', 'pushes', 'wrestled', 'brochure', 'hoses', 'blockers', 'parasailors', 'tap', 'waded', 'sprinkles', 'vat', 'fisher', 'carrier', 'manicured', 'hut', 'teases', 'dragons', 'thousand', 'ties', 'taken', 'structure', 'keeping', 'jersay', 'vessel', 'trays', 'recyclable', 'bluegreen', 'birdcage', 'electronic', 'drags', 'screams', 'heard', 'gaurdian', 'medium', 'misty', 'adorned', 'dumps', 'steamy', 'won', 'darker', 'posts', 'frolicking', 'ethnicity', 'crooked', 'scalling', 'scuffle', 'ships', 'balances', 'awning', 'kimonos', 'cigar', 'extends', 'angle', 'houses', 'tackled', 'checkout', 'climber', 'glee', 'cartwheel', 'collection', 'dishtowel', 'shoppers', 'attention', 'bodysurfs', 'losing', 'jumping', 'elevation', 'document', 'subaru', 'concrete', 'best', 'carjack', 'threshold', 'water', 'youngle', 'meditational', 'he', 'crystalclear', 'spacious', 'granny', 'pastel', 'perfect', 'dusty', 'competitor', 'sets', 'enclosure', 'dooorway', 'slumped', 'mountainside', 'decortive', 'peoplw', 'messenger', 'atmosphere', 'laborador', 'skiers', 'sexy', 'finley', 'homerun', 'mittened', 'saddled', 'midfield', 'serve', 'tikes', 'tucked', 'allowing', 'climbing', 'checked', 'askance', 'signage', 'windowsill', 'soapy', 'hoops', 'kill', 'tractor', 'challenges', 'grouped', 'square', 'poems', 'uniformed', 'bring', 'bean', 'coral', 'tubular', 'tv', 'kite', 'carreis', 'her', 'speeds', 'country', 'jumpos', 'crouching', 'kilts', 'hangs', 'body', 'bush', 'sheilding', 'chris', 'chocolate', 'ceramic', 'competeition', 'measures', 'bohemians', 'ground', 'flood', 'ever', 'nations', 'annoyed', 'tightropes', 'kayaking', 'rehearsing', 'palace', 'cliffs', 'windsurfs', 'array', 'file', 'soaks', 'ski', 'plane', 'stereo', 'panel', 'science', 'hiking', 'german', 'hallways', 'peers', 'skateboarding', 'youths', 'greets', 'king', 'magicians', 'plant', 'community', 'snarly', 'blackgreen', 'acroos', 'born', 'complex', 'toss', 'dragon', 'avoids', 'upset', 'headline', 'cushion', 'contracption', 'furiously', 'sashes', 'rackets', 'compete', 'checkerboard', 'sunny', 'railling', 'claws', 'laughed', 'pop', 'snowman', 'mouthguards', 'peddal', 'eat', 'contest', 'avoiding', 'sheep', 'competitors', 'ponytail', 'rottweiller', 'rockstar', 'curl', 'dupar', 'crochet', 'frame', 'bulky', 'quilted', 'shines', 'circumvents', 'canal', 'payphone', 'dogsled', 'streamer', 'sing', 'rollerbladers', 'tongee', 'arc', 'chandelier', 'fanny', 'africanamerican', 'bows', 'reacts', 'pen', 'sending', 'rustic', 'blank', 'longboarder', 'doors', 'grayhaired', 'storefronts', 'lunges', 'gazes', 'cob', 'backstand', 'contact', 'entitled', 'needlepoint', 'next', 'parasurfs', 'shredding', 'mocks', 'brownishred', 'lit', 'waists', 'boardwalk', 'miscellaneous', 'participating', 'motorcyclist', 'forearm', 'windsurfer', 'blood', 'splash', 'booklets', 'moustaches', 'semicloudy', 'cosplay', 'photographer', 'snowploe', 'foreheads', 'takes', 'cast', 'muffler', 'liquid', 'chimes', 'womand', 'streaming', 'skates', 'turf', 'clustered', 'explosive', 'grab', 'outwards', 'mastif', 'policeman', 'bases', 'and', 'taught', 'rescue', 'imagery', 'crazy', 'viz', 'appear', 'onehanded', 'speakers', 'facefirst', 'tend', 'kissing', 'waterwings', 'write', 'trip', 'lunch', 'name', 'run', 'rocker', 'seeds', 'shells', 'sleeve', 'coast', 'cargo', 'tram', 'shaved', 'halmets', 'stunt', 'paved', 'embroidered', 'junction', 'magazines', 'laps', 'cautious', 'gymnastics', 'fall', 'condoms', 'lightsaber', 'shook', 'wets', 'ripstik', 'stares', 'races', 'parasurfer', 'bundle', 'cornstalks', 'shelf', 'campsite', 'year', 'tail', 'ballet', 'motorized', 'ensemble', 'icicle', 'native', 'collects', 'amplifier', 'lunches', 'helmets', 'getting', 'bikes', 'too', 'hilly', 'piglet', 'airport', 'pride', 'docked', 'individual', 'lounging', 'graffitiheavy', 'supporters', 'signature', 'shoulders', 'videocameras', 'rolls', 'confetti', 'cheek', 'shop', 'tshirts', 'blackblue', 'knight', 'sewn', 'paneling', 'cashier', 'underwear', 'milkweed', 'ledge', 'squeeze', 'street', 'fortess', 'torso', 'tank', 'cartoon', 'slides', 'gemmed', 'area', 'pasture', 'headfirst', 'dressedup', 'hugging', 'padded', 'youth', 'halves', 'flexable', 'casque', 'outfit', 'advertisment', 'scene', 'zombie', 'lighting', 'strong', 'rafters', 'sleeves', 'paneled', 'skating', 'yarn', 'pursued', 'husks', 'jar', 'farmers', 'smiff', 'fairly', 'tabloid', 'punt', 'reflected', 'bash', 'tuxedos', 'landmark', 'slices', 'maneuver', 'shirt', 'suds', 'yong', 'takeing', 'darkcolored', 'dhe', 'mustard', 'bedroll', 'toddler', 'stores', 'frozen', 'egg', 'marked', 'reds', 'crown', 'streambed', 'weights', 'purchased', 'rain', 'screening', 'scantilyclad', 'threewheeled', 'regularly', 'shit', 'popsicles', 'bigbox', 'campus', 'massage', 'tufts', 'sipping', 'rowboat', 'pass', 'cases', 'models', 'nugent', 'mine', 'rainy', 'romps', 'finishes', 'basketballs', 'smirks', 'judgement', 'shadowdappled', 'branch', 'puffs', 'feamle', 'am', 'praying', 'airfilled', 'crescent', 'waterfall', 'featuring', 'letters', 'associated', 'fireside', 'cement', 'bandanas', 'snowpatched', 'dont', 'wringing', 'shrowded', 'desert', 'streched', 'scouts', 'suns', 'those', 'complete', 'tends', 'eye', 'jug', 'shine', 'burrows', 'barge', 'district', 'gate', 'competitively', 'shire', 'devil', 'leash', 'gateway', 'snowcapped', 'dolls', 'reddressed', 'things', 'raining', 'hailing', 'sale', 'greyblue', 'crouches', 'nt', 'snowgear', 'wanders', 'bonnets', 'anciet', 'tips', 'bohemian', 'adjusts', 'mardis', 'abdomen', 'drag', 'furry', 'talks', 'unhappy', 'bales', 'swan', 'cameraphone', 'emerges', 'murals', 'aerobatics', 'cap', 'chested', 'gathering', 'refrigerator', 'riverwater', 'landing', 'sat', 'waterfilled', 'spoted', 'bottom', 'snowboards', 'blades', 'summersault', 'flip', 'give', 'overgrown', 'away', 'professional', 'headwraps', 'farris', 'extremely', 'attempted', 'reenactors', 'have', 'widely', 'sneakers', 'campaign', 'pocket', 'dupont', 'scrap', 'cot', 'tubes', 'headcover', 'nosedeep', 'hulahoop', 'completely', 'variety', 'horsedrawn', 'vents', 'fleeing', 'him', 'paddock', 'zippered', 'railings', 'staff', 'entertains', 'sloped', 'positions', 'kids', 'limegreen', 'entertaining', 'horseshoe', 'icing', 'leotard', 'thoroughly', 'tight', 'ultimate', 'burst', 'overwhelmed', 'chili', 'redish', 'peace', 'construction', 'telegraph', 'dimlylit', 'surrounds', 'neckless', 'severe', 'led', 'admiring', 'welcomes', 'leaned', 'wizard', 'pug', 'places', 'passerby', 'washed', 'blocked', 'chello', 'see', 'heart', 'personnel', 'neon', 'drooping', 'fooling', 'lock', 'balck', 'drumset', 'diner', 'flows', 'rodents', 'steam', 'contained', 'wounds', 'dew', 'resembles', 'teeter', 'dried', 'united', 'portojohn', 'pause', 'skeleton', 'trudge', 'powder', 'potty', 'silk', 'finger', 'surface', 'mistletoe', 'handicapped', 'lettuce', 'thermos', 'jukebox', 'fiveteen', 'sliiding', 'packaged', 'daughters', 'bluegray', 'telephot', 'older', 'exercisewheel', 'moves', 'stiped', 'skin', 'shiner', 'mountaineers', 'moonwalk', 'punching', 'clause', 'tub', 'freefall', 'calf', 'gallery', 'tents', 'ducks', 'adolescent', 'doggy', 'border', 'discovers', 'tired', 'glow', 'stoic', 'animal', 'dips', 'circuit', 'decorate', 'creepy', 'stroller', 'flatbed', 'antique', 'crossing', 'portopotties', 'armenian', 'waterful', 'hotair', 'tax', 'kiyaking', 'cables', 'smartly', 'microphone', 'drenched', 'fighting', 'summit', 'bicyclers', 'dipping', 'tin', 'strips', 'show', 'twenty', 'rappelling', 'shares', 'rips', 'streght', 'scare', 'lemons', 'fathers', 'violin', 'clump', 'bunk', 'graffiticovered', 'killer', 'pursing', 'flowery', 'bordered', 'aid', 'crumbling', 'busy', 'crows', 'hardly', 'ollie', 'bowls', 'clings', 'mushrooms', 'restroom', 'jeep', 'pants', 'dealing', 'torsodeep', 'sprawled', 'flowering', 'suspension', 'pinned', 'bulls', 'wiped', 'creates', 'commuters', 'alleyway', 'affixed', 'fresh', 'scratching', 'bushes', 'goofing', 'within', 'depicting', 'attached', 'blasted', 'donkeys', 'passenager', 'orbs', 'snows', 'parachute', 'swordfighting', 'stoops', 'swishing', 'patiently', 'match', 'divind', 'hedge', 'folks', 'plate', 'buildabear', 'whiel', 'widespread', 'confront', 'spanishstyle', 'monk', 'once', 'covering', 'rink', 'shortsleeved', 'stadning', 'driveway', 'path', 'bicycles', 'phones', 'kayaks', 'swimmer', 'hotel', 'hilltop', 'fronr', 'celebrate', 'lambs', 'union', 'parasailing', 'pits', 'gigolo', 'solid', 'litter', 'awe', 'made', 'overlooking', 'roosters', 'rollerblades', 'alcohol', 'flop', 'surprised', 'shoulder', 'ship', 'scowls', 'had', 'blonde', 'emits', 'trek', 'wind', 'quilt', 'pods', 'vibrating', 'makeshift', 'dashboard', 'backround', 'torn', 'attach', 'courtyard', 'abandon', 'more', 'recording', 'steaks', 'hear', 'pulls', 'sound', 'alon', 'dozes', 'dunk', 'beams', 'colorful', 'miles', 'sweatshirts', 'pot', 'congregated', 'straps', 'pincer', 'pearl', 'hoodies', 'ate', 'outfir', 'other', 'bustling', 'ethnic', 'doll', 'groomsmen', 'suited', 'rocking', 'coveralls', 'pawed', 'risen', 'dangling', 'lifesavers', 'sharing', 'swam', 'persue', 'donations', 'polo', 'orca', 'proamerica', 'baggy', 'deflated', 'awkwardly', 'breakdances', 'studies', 'shallows', 'resting', 'tugs', 'siluettes', 'having', 'rash', 'wakeboarder', 'grownup', 'tinkerbell', 'onslaught', 'romantically', 'antennae', 'htting', 'cardboard', 'just', 'neckties', 'chalkboard', 'almostpristine', 'samoyads', 'equpitment', 'pads', 'owners', 'darkskinned', 'quinta', 'clibing', 'midjump', 'refuse', 'cutoff', 'rubbing', 'terrorizes', 'investigate', 'figures', 'fast', 'rotweiler', 'largley', 'tie', 'watches', 'bullet', 'kingsworth', 'midst', 'frying', 'mussels', 'beef', 'exercise', 'air', 'eatery', 'baskets', 'stuntman', 'court', 'projector', 'chubby', 'faux', 'leotards', 'ballons', 'ignore', 'crossbones', 'me', 'bicyclecross', 'tugboat', 'asleep', 'brownstone', 'wed', 'ceiling', 'patrollers', 'face', 'holds', 'skipped', 'swiftly', 'bundledup', 'development', 'backing', 'tinsel', 'slat', 'place', 'yorkie', 'bobbed', 'challenge', 'hit', 'haircut', 'safari', 'fairy', 'buys', 'road', 'flyaway', 'milk', 'joust', 'breaststroke', 'clipped', 'diferent', 'belts', 'logs', 'the', 'noses', 'footage', 'goldcolored', 'taped', 'jockey', 'farward', 'headlight', 'its', 'squirt', 'shepherd', 'universal', 'saltandpepperhaired', 'blossom', 'sacks', 'naval', 'warm', 'electronics', 'hind', 'pull', 'shave', 'ring', 'anything', 'stack', 'fleecy', 'chewing', 'skimpy', 'verbal', 'crevasse', 'directed', 'given', 'fours', 'pony', 'jerseys', 'hats', 'chops', 'exercised', 'presentations', 'emty', 'christmastime', 'flees', 'dragging', 'showering', 'crowds', 'mustached', 'currently', 'baskers', 'nighttime', 'jars', 'event', 'checkered', 'otuside', 'trekking', 'wheelchair', 'pace', 'slippery', 'straggle', 'maintain', 'roots', 'shots', 'additional', 'thirty', 'bluff', 'sibling', 'underground', 'chasseing', 'matchin', 'stop', 'rollerskate', 'swans', 'merrygoround', 'stumps', 'tugging', 'blowup', 'pursed', 'foamy', 'racquet', 'sides', 'towels', 'conoes', 'archeologist', 'present', 'crossed', 'mambo', 'canoeing', 'cheeks', 'beads', 'coldweather', 'includes', 'ghostbusters', 'ability', 'barrels', 'crag', 'gontaga', 'electricity', 'shrubbery', 'flakes', 'recorder', 'clinging', 'storefront', 'everybody', 'handed', 'boulders', 'girder', 'holes', 'chests', 'activity', 'venture', 'mommy', 'hindu', 'pedalling', 'brides', 'ampitheater', 'illuminated', 'time', 'group', 'grin', 'overlook', 'tackling', 'rodent', 'save', 'stopaction', 'rotating', 'upon', 'green', 'chase', 'vigorous', 'backside', 'speedskater', 'starring', 'helicopter', 'agility', 'ant', 'may', 'slates', 'backflips', 'stoplight', 'pinkcoated', 'boating', 'mart', 'muscle', 'unfinished', 'workout', 'museum', 'linked', 'pour', 'skies', 'dress', 'canon', 'vendor', 'battle', 'ornament', 'pinkhooded', 'posters', 'thrust', 'poured', 'signer', 'rippling', 'hoodedcoat', 'nutcracker', 'snowdrift', 'rubs', 'source', 'weating', 'safe', 'carabiner', 'guided', 'candle', 'breath', 'collegiate', 'belaying', 'been', 'marking', 'chinese', 'corner', 'rockface', 'brings', 'emphatically', 'ladle', 'wings', 'dive', 'facility', 'our', 'interacts', 'keep', 'bicyclists', 'sofa', 'ping', 'geological', 'populated', 'shirts', 'balloon', 'saffron', 'neither', 'propelled', 'wheat', 'fairies', 'sends', 'facing', 'jetty', 'aligator', 'parka', 'rusty', 'strolls', 'barack', 'bellysurfing', 'teeing', 'participate', 'warehouse', 'prom', 'listening', 'clergy', 'pierced', 'consumed', 'linet', 'moter', 'barrette', 'drifting', 'golfers', 'wrecks', 'theater', 'loaded', 'competition', 'huts', 'boogie', 'fton', 'pottypotty', 'biden', 'accelerates', 'sundown', 'kayacker', 'cigars', 'open', 'mandolin', 'positioned', 'peacoat', 'horizon', 'bannister', 'fountains', 'tak', 'wedding', 'operated', 'footballer', 'hurrying', 'backwards', 'togerther', 'darkerskinned', 'onlooker', 'forcing', 'adobe', 'rabbit', 'splashing', 'overhanging', 'smaller', 'overweight', 'treat', 'powered', 'florida', 'jack', 'jackson', 'vegetation', 'ther', 'cattle', 'grassy', 'prance', 'iove', 'rafael', 'bareback', 'rockclimbing', 'sucking', 'resort', 'protesting', 'raingear', 'cards', 'paraglides', 'antlers', 'playtoy', 'iceskating', 'movie', 'directions', 'blazer', 'middleeastern', 'equipment', 'shady', 'fiery', 'applies', 'mown', 'afican', 'tw', 'mime', 'aisle', 'jewelry', 'trumped', 'sucker', 'tilts', 'government', 'broach', 'took', 'caged', 'reeling', 'dalmatians', 'devotion', 'puddle', 'wrestle', 'smilling', 'cheers', 'separated', 'dropping', 'pong', 'soldiers', 'discussion', 'sized', 'holiday', 'floppy', 'doughnut', 'moms', 'shetland', 'ignoring', 'tracksuit', 'offf', 'pall', 'containing', 'strainer', 'clasp', 'somersault', 'sprinting', 'backgound', 'adjusting', 'ponytails', 'flute', 'hr', 'standind', 'grimaces', 'assorted', 'gokart', 'progress', 'were', 'riverboat', 'still', 'range', 'whitefooted', 'tankini', 'gren', 'jetskis', 'traversing', 'fountain', 'glides', 'skimply', 'hooked', 'mexico', 'sportwoman', 'kicked', 'nibbling', 'clasped', 'canals', 'stops', 'grapple', 'concerned', 'defecating', 'lesh', 'family', 'shuttered', 'matt', 'skiiers', 'statues', 'catch', 'laid', 'ee', 'beanie', 'tented', 'fed', 'fangs', 'wrinkley', 'asphalt', 'clever', 'foldable', 'scattered', 'falls', 'interact', 'wheeled', 'balance', 'brothers', 'along', 'payer', 'words', 'arena', 'kiosk', 'collide', 'interestingly', 'torwards', 'cruiser', 'fiddles', 'unique', 'colliding', 'tireshaped', 'bowled', 'exercises', 'supporter', 'fellow', 'ralley', 'brindle', 'cin', 'handing', 'sidewalks', 'talent', 'henna', 'mirror', 'footbride', 'wetland', 'ways', 'daft', 'gym', 'protruding', 'brian', 'whoa', 'zara', 'cheery', 'heating', 'pelicans', 'grayhound', 'bison', 'picks', 'waters', 'playy', 'sang', 'dune', 'inflatbale', 'his', 'boulder', 'topless', 'booths', 'kept', 'cam', 'mosque', 'anouther', 'frisbie', 'clutches', 'moustache', 'announcer', 'except', 'developed', 'glittery', 'blue', 'huskies', 'samll', 'upturned', 'restaurants', 'woven', 'tbe', 'fadora', 'rifding', 'muzzles', 'flume', 'somebody', 'gover', 'thinner', 'aerobics', 'defenders', 'seat', 'fundraising', 'school', 'when', 'll', 'stocky', 'press', 'apex', 'mic', 'walmart', 'lecture', 'kiddie', 'striding', 'gelled', 'jogged', 'hovering', 'mountainous', 'greysuited', 'eyeglasses', 'sick', 'parachutes', 'lighter', 'explosion', 'bagpipe', 'obstacle', 'design', 'interesting', 'medieval', 'showered', 'cosplayers', 'dimpled', 'alotment', 'cones', 'tutu', 'twisting', 'shoulderhigh', 'climb', 'railgrind', 'enjoyable', 'carves', 'spanish', 'confronting', 'degrees', 'auto', 'soda', 'frisbee', 'directory', 'six', 'shoots', 'fists', 'driftwood', 'stadium', 'utilities', 'lines', 'periods', 'gnarly', 'goggled', 'armoire', 'motorists', 'bernard', 'midrun', 'smiled', 'redhead', 'graduation', 'pnc', 'fill', 'diamond', 'attentive', 'styrofoam', 'rotary', 'hello', 'discuss', 'gallopsing', 'maneuvering', 'material', 'batons', 'quad', 'bucket', 'rottwieler', 'scored', 'class', 'paddled', 'camo', 'netting', 'cushions', 'brickwall', 'thinks', 'island', 'dove', 'excited', 'frilly', 'halfpipe', 'dusk', 'breaker', 'indigo', 'kicks', 'camel', 'casuallydressed', 'hooping', 'buddy', 'diego', 'cleats', 'product', 'wearhing', 'pillowcase', 'bath', 'polkadotted', 'jungle', 'gardening', 'stair', 'hopper', 'belongs', 'pyrotechnics', 'osme', 'backgroud', 'crucifixion', 'better', 'intot', 'sillouhette', 'hurridly', 'ourdoors', 'goldenrod', 'parasails', 'faith', 'store', 'officers', 'strip', 'various', 'raising', 'guessing', 'paddling', 'majestically', 'scientist', 'looms', 'slighty', 'cropped', 'coliding', 'starts', 'stands', 'japanesesponsored', 'scope', 'basketball', 'shaded', 'geese', 'painting', 'condominium', 'snapping', 'tops', 'pigeon', 'nipple', 'naturally', 'regains', 'judea', 'enlarged', 'sucks', 'coats', 'unconventional', 'reported', 'ones', 'soggy', 'mold', 'seahorse', 'lame', 'highway', 'bland', 'venue', 'downpour', 'oppsite', 'jaket', 'turnaround', 'headgear', 'greenery', 'binoculars', 'branding', 'fourwheeler', 'focusing', 'sub', 'hands', 'rv', 'pieces', 'tether', 'lime', 'deer', 'tugowar', 'striped', 'wet', 'real', 'sumo', 'peolple', 'changing', 'graffiti', 'caution', 'recliner', 'shelter', 'docking', 'perfors', 'worshipping', 'borader', 'register', 'skipping', 'knife', 'stool', 'spike', 'begging', 'huddles', 'neatly', 'portrait', 'conversations', 'hero', 'focus', 'springer', 'lenses', 'primping', 'spiritual', 'archway', 'treelined', 'offwhite', 'carriage', 'dye', 'number', 'seperated', 'waders', 'cocacola', 'wielding', 'impress', 'intensely', 'curb', 'leaf', 'softdrinks', 'balloons', 'bog', 'stump', 'capture', 'persues', 'perched', 'unsual', 'pastry', 'debri', 'hills', 'readying', 'flocking', 'full', 'reading', 'foggy', 'adoring', 'pencils', 'miniskirts', 'wooden', 'sheepdogs', 'jugs', 'tattooed', 'greeting', 'marker', 'unseen', 'crest', 'drab', 'shaving', 'reeds', 'yells', 'stopped', 'promotional', 'verdant', 'fayre', 'australian', 'unmanned', 'peaceful', 'comforts', 'fishing', 'case', 'otherwise', 'add', 'skyscrapers', 'skateboard', 'lettering', 'paws', 'eyeshadow', 'caramel', 'enterance', 'extravagant', 'ancient', 'effects', 'slicker', 'bang', 'catching', 'backhand', 'joined', 'runs', 'retriever', 'informal', 'strapped', 'highfiving', 'ont', 'fluorecent', 'gatorade', 'att', 'dances', 'oclock', 'cleaning', 'driftrood', 'gettnig', 'teammates', 'gingerbread', 'smoky', 'sewing', 'sheppard', 'singer', 'barbeque', 'doghouse', 'wrestling', 'company', 'identifier', 'croc', 'makeup', 'tourist', 'intervening', 'pajamas', 'dalmation', 'shite', 'hosed', 'skips', 'mowed', 'billboards', 'gregoire', 'drove', 'eastern', 'upwards', 'tophats', 'yelling', 'logo', 'boxer', 'birds', 'pregnant', 'work', 'quintet', 'williams', 'potrait', 'seashore', 'upraised', 'blindfolds', 'fashion', 'hips', 'youngster', 'handkerchiefs', 'record', 'meditating', 'multiple', 'lowering', 'wharfs', 'wallride', 'fairgrounds', 'says', 'fluorescent', 'washer', 'shielding', 'galloping', 'dominance', 'emerged', 'entry', 'spilled', 'short', 'kicking', 'visitors', 'ilks', 'film', 'motorbikes', 'bellbottoms', 'arches', 'arizona', 'taller', 'pops', 'childrens', 'romantic', 'naked', 'shaggy', 'brownandblack', 'extreme', 'ghostbuster', 'second', 'dale', 'directing', 'wrestles', 'wintertime', 'passageway', 'roads', 'genetic', 'histerically', 'presents', 'driverside', 'embedded', 'reson', 'towarn', 'headphone', 'swimsuit', 'collar', 'swimcap', 'photos', 'cooling', 'demonstrates', 'rung', 'beam', 'saddle', 'sight', 'helped', 'snowboarding', 'banging', 'soldier', 'taxi', 'gull', 'texting', 'churning', 'finished', 'looling', 'nursery', 'canopy', 'either', 'metropolitain', 'airplane', 'bouquet', 'sinks', 'cower', 'midpitch', 'bathrobe', 'sandal', 'meal', 'day', 'ladys', 'stomachs', 'tonge', 'low', 'umbrella', 'perspective', 'boatful', 'trotted', 'three', 'gray', 'windmill', 'outise', 'reaching', 'buttondown', 'kerry', 'yawning', 'rental', 'poodles', 'boarded', 'wharf', 'strewn', 'spokes', 'unamused', 'subway', 'hopscotch', 'controlling', 'prepare', 'precariously', 'flowercovered', 'stripped', 'cameras', 'outstretched', 'historic', 'dreeds', 'student', 'include', 'bunchh', 'exposing', 'slinging', 'dense', 'tripods', 'crime', 'hula', 'tropical', 'safron', 'performer', 'smacks', 'gravel', 'deciding', 'rest', 'pay', 'aboriginal', 'budweisersponsored', 'magenta', 'ridable', 'natural', 'nodding', 'sporting', 'moving', 'fraternal', 'wagging', 'investigates', 'individuals', 'lolly', 'beside', 'typical', 'draped', 'freshly', 'jr', 'theme', 'fixing', 'sister', 'propels', 'straddle', 'trophy', 'world', 'tumbling', 'comforting', 'playmat', 'wishing', 'balancing', 'longspandex', 'tires', 'win', 'sparking', 'dear', 'clack', 'pianist', 'midsections', 'guard', 'employees', 'agains', 'order', 'arrow', 'fans', 'hold', 'bting', 'crosses', 'containers', 'articles', 'skater', 'lips', 'plank', 'dozen', 'baseman', 'minnie', 'sect', 'throwing', 'ready', 'legs', 'tyedyed', 'unpaved', 'inspect', 'image', 'squeak', 'gound', 'churns', 'skydiving', 'wrestilng', 'bumps', 'misses', 'knelt', 'romping', 'italy', 'foliage', 'adults', 'religious', 'spins', 'prints', 'upclose', 'backstage', 'enthusiasts', 'bartender', 'belongings', 'companion', 'sole', 'graphic', 'snowballs', 'inflating', 'fear', 'fixtures', 'cookie', 'boston', 'national', 'kneehigh', 'foyer', 'ependent', 'whitecolored', 'oddly', 'superman', 'mosquelike', 'caches', 'drift', 'brightlycolred', 'profile', 'jomps', 'rockclimb', 'exterior', 'roughly', 'easter', 'crystal', 'colourfully', 'rollerblader', 'cable', 'aerodynamic', 'blurred', 'armful', 'framed', 'armor', 'printed', 'sells', 'anticipation', 'splashes', 'pepco', 'exibit', 'playground', 'using', 'iguanas', 'angry', 'teenagers', 'any', 'roses', 'wiener', 'diver', 'snowfall', 'volkswagen', 'raceway', 'train', 'but', 'closed', 'cracked', 'environment', 'heather', 'artificial', 'dresses', 'dot', 'seller', 'kildare', 'horned', 'member', 'anticipates', 'shrubs', 'stare', 'trailer', 'weave', 'mainly', 'wisks', 'objects', 'cricket', 'partner', 'spoon', 'classicstyle', 'tutus', 'soaking', 'toddles', 'helplessly', 'controller', 'mountin', 'groceries', 'christ', 'jewels', 'ox', 'cane', 'nascar', 'ejected', 'topped', 'coffee', 'setter', 'following', 'pylon', 'shoulderbag', 'casual', 'landed', 'nicely', 'view', 'pumpkin', 'blondeheaded', 'stonefilled', 'dodges', 'ornaments', 'awkward', 'draft', 'dart', 'opponent', 'kicker', 'sponsored', 'vaulated', 'uno', 'victorian', 'shag', 'sparkling', 'mani', 'verizon', 'bicyler', 'dancing', 'cheerleaders', 'straining', 'iceskate', 'background', 'horseriders', 'scoop', 'seaweed', 'are', 'ls', 'peircings', 'lies', 'whom', 'soocerball', 'eyeing', 'spare', 'buried', 'proud', 'football', 'barks', 'tame', 'blown', 'lavendar', 'doorway', 'rider', 'melted', 'fireplug', 'bicycle', 'amazing', 'pf', 'distnat', 'buster', 'suv', 'bulldogs', 'origin', 'thread', 'woolen', 'fingerpaints', 'wicket', 'bump', 'balding', 'snack', 'biking', 'yellowgold', 'root', 'brighty', 'spill', 'toddlers', 'flailing', 'cylindrical', 'laptops', 'targeting', 'fox', 'admires', 'speedboat', 'gnaws', 'thriller', 'afghan', 'furocious', 'waterspouts', 'returns', 'bra', 'read', 'mate', 'beach', 'played', 'flies', 'stringless', 'spiral', 'apparantly', 'fog', 'stairs', 'horseshoes', 'flaring', 'tooth', 'asia', 'fourwheel', 'sack', 'batsman', 'breathing', 'tracks', 'fur', 'maroon', 'surrounding', 'guarding', 'letter', 'recreation', 'ypoung', 'obscene', 'turquiose', 'younger', 'san', 'soup', 'bounce', 'load', 'decked', 'thows', 'bmx', 'marina', 'tags', 'karate', 'scull', 'treecovered', 'weimeraners', 'levels', 'sprays', 'devices', 'bridesmaid', 'gains', 'reared', 'burned', 'statue', 'specialized', 'gathered', 'allowed', 'metro', 'cannot', 'duke', 'right', 'crewmen', 'collies', 'bodyboarder', 'antenna', 'snowing', 'fierce', 'mattress', 'introduces', 'portrate', 'curve', 'someones', 'steering', 'spring', 'observer', 'wearing', 'hate', 'aig', 'slurpees', 'innertubes', 'swatted', 'colourful', 'hamburgers', 'gifts', 'loses', 'stiars', 'attacks', 'system', 'packers', 'walkman', 'longsleeve', 'loaves', 'dummy', 'farm', 'slush', 'seaside', 'first', 'sentence', 'butter', 'tussle', 'facepaintings', 'raised', 'artistic', 'walker', 'whose', 'wakeboards', 'umpire', 'teeshirt', 'top', 'firends', 'brimmed', 'ropes', 'vista', 'accordion', 'hudge', 'games', 'hops', 'formallydressed', 'detector', 'cobbled', 'frames', 'exhaust', 'panting', 'change', 'parlor', 'since', 'cone', 'skiny', 'lagging', 'joyful', 'iced', 'wilderness', 'stride', 'constructions', 'dressed', 'indoors', 'roundabout', 'pavilion', 'acrouss', 'church', 'laptop', 'lecturer', 'seafood', 'outs', 'veteran', 'explores', 'cordoned', 'highschoolers', 'grows', 'sightseeing', 'nearly', 'highfives', 'acoustic', 'silly', 'demolished', 'couches', 'alley', 'columned', 'stringed', 'chairswing', 'midair', 'site', 'noodles', 'horizontallystriped', 'accompanied', 'messy', 'wolf', 'mother', 'shapes', 'steps', 'possessions', 'soaker', 'objective', 'longhorns', 'monkey', 'gokarts', 'plenty', 'darts', 'ears', 'squating', 'spinning', 'thorugh', 'rectangle', 'takedown', 'jogs', 'trumpet', 'castle', 'crucified', 'nears', 'du', 'caring', 'lot', 'xmen', 'ear', 'bullrun', 'movers', 'humping', 'rounded', 'hike', 'states', 'aveda', 'picking', 'kitten', 'steel', 'card', 'partying', 'changes', 'balls', 'bended', 'sweats', 'astro', 'folding', 'berry', 'colapsable', 'barriers', 'foil', 'deep', 'stoney', 'scanner', 'wards', 'disrupt', 'circled', 'professionally', 'harmonica', 'sticker', 'patchy', 'billboard', 'worried', 'picure', 'dominant', 'phillie', 'snowmobiling', 'similar', 'curiously', 'sunhat', 'batshaped', 'zipping', 'grid', 'views', 'puppet', 'overcast', 'newlyweds', 'conoe', 'jubilant', 'doorbell', 'chickens', 'after', 'fives', 'broen', 'debris', 'sticks', 'extinguishes', 'winces', 'defended', 'croquet', 'thw', 'codpiece', 'waterskiing', 'room', 'what', 'watched', 'plaid', 'fisherman', 'staring', 'column', 'index', 'trousers', 'faint', 'poling', 'jumped', 'outfits', 'hat', 'bandanna', 'rapels', 'ibeam', 'comes', 'bearded', 'jostles', 'holey', 'africans', 'leans', 'felled', 'characters', 'ribbon', 'bundled', 'gentleman', 'prays', 'accends', 'sled', 'surfers', 'books', 'junk', 'goaltender', 'lowcut', 'sheltie', 'allwhite', 'drink', 'earphone', 'aboard', 'holing', 'pulled', 'bands', 'tread', 'piggy', 'motorboat', 'guy', 'quarterback', 'gnawing', 'pine', 'stylish', 'sleigh', 'sportsfield', 'strength', 'bruised', 'go', 'aggresively', 'slinky', 'helments', 'smoked', 'enjoyment', 'scarily', 'interested', 'sandy', 'stoppie', 'trails', 'tote', 'touching', 'retrieve', 'tribal', 'probably', 'curving', 'pillared', 'aframe', 'backsides', 'trot', 'artsstyle', 'focused', 'biek', 'headwear', 'crouch', 'offstage', 'topdown', 'blurring', 'progressively', 'line', 'unusual', 'olympics', 'queen', 'coaching', 'swaetshirt', 'joker', 'prancing', 'vacation', 'roof', 'chinatown', 'male', 'clutching', 'derssed', 'neoncolored', 'plugging', 'gets', 'midswing', 'engage', 'atop', 'daytime', 'causing', 'shining', 'fetches', 'wigs', 'snowboarder', 'zipup', 'buddha', 'gesturing', 'assistance', 'bared', 'punch', 'multiracial', 'abseiling', 'rugs', 'traverse', 'flexing', 'restaraunt', 'interviews', 'giong', 'chewed', 'turns', 'carring', 'fuzzy', 'rings', 'parachutist', 'monkeybars', 'snowmobiler', 'gallop', 'strikes', 'choice', 'ballerina', 'puppy', 'extravagantlyhaired', 'tatoos', 'liking', 'oriential', 'award', 'eroded', 'springtime', 'ropeswinging', 'converge', 'some', 'ractrack', 'negotiates', 'buddhists', 'bills', 'whistle', 'garland', 'snowshovel', 'warmly', 'tball', 'pelican', 'comic', 'rakes', 'underhang', 'halo', 'acrobatic', 'firemen', 'meeting', 'begins', 'advantage', 'toilet', 'encourages', 'trike', 'riverrapids', 'inch', 'pistol', 'approach', 'scrolled', 'woolly', 'shoreline', 'sunshade', 'plays', 'vw', 'cloverfilled', 'ages', 'bat', 'vaste', 'packer', 'mullet', 'gocart', 'stomach', 'storm', 'steamboat', 'wades', 'hides', 'strokes', 'litttle', 'elephant', 'patterened', 'checking', 'princess', 'sniffs', 'tears', 'proped', 'structures', 'yachts', 'television', 'indians', 'girt', 'wildflowers', 'schoolboy', 'cylinder', 'placing', 'exposure', 'tomatos', 'frolic', 'noy', 'surrounded', 'chews', 'oklahoma', 'armstand', 'wading', 'begin', 'offcamera', 'krueger', 'clowds', 'tortoise', 'dressing', 'griding', 'snowpile', 'vehicle', 'rubble', 'valley', 'package', 'works', 'towheaded', 'bracelet', 'scores', 'decorated', 'demonstrate', 'yuong', 'backview', 'earnhardt', 'shreds', 'lick', 'raises', 'pours', 'poster', 'already', 'coyote', 'paddles', 'approached', 'underpants', 'cycles', 'javelin', 'tricks', 'smiling', 'mobility', 'seidwalk', 'somone', 'traditional', 'egytianlike', 'counry', 'peeping', 'attraction', 'rummage', 'floats', 'playroom', 'megaphone', 'asian', 'victory', 'desertlike', 'handicap', 'ninjalike', 'gear', 'with', 'sitts', 'nipples', 'camper', 'warning', 'overturn', 'sailboat', 'spewing', 'engine', 'weimaraner', 'slip', 'petting', 'trams', 'clover', 'waves', 'overlooked', 'pokes', 'blooming', 'half', 'cruisship', 'far', 'greyhounds', 'pyranha', 'peoples', 'hairnet', 'them', 'intense', 'finds', 'balanced', 'couple', 'trick', 'grasps', 'use', 'dial', 'descending', 'circles', 'occassion', 'occured', 'kilt', 'waterski', 'pro', 'riding', 'silverware', 'inflated', 'skis', 'filled', 'barber', 'brige', 'swinger', 'heights', 'political', 'pane', 'accepts', 'nip', 'almost', 'outfield', 'aims', 'plungles', 'howls', 'donning', 'popping', 'van', 'pursues', 'many', 'pathway', 'painters', 'jump', 'frisbeen', 'vast', 'properly', 'dumpsters', 'wrapping', 'hunched', 'reflective', 'simpsons', 'swords', 'grafitti', 'sprinkling', 'passing', 'curly', 'instructing', 'coping', 'glacier', 'presses', 'blurs', 'times', 'circle', 'motocross', 'between', 'in', 'cautiously', 'sponge', 'products', 'track', 'communal', 'opening', 'poncho', 'toast', 'lawnchair', 'hilltops', 'crack', 'lay', 'emerging', 'jeeps', 'donkey', 'harly', 'ropey', 'weight', 'bottled', 'turbaned', 'alert', 'lakes', 'wears', 'redwood', 'drilling', 'beetle', 'same', 'advertisement', 'performs', 'leaped', 'twelve', 'ion', 'thinking', 'house', 'cluster', 'tractorlike', 'headscarfs', 'rasing', 'bronze', 'awaiting', 'waking', 'stucco', 'redbull', 'kakhi', 'fronmt', 'grate', 'boxes', 'kitchen', 'rests', 'celebrating', 'scooter', 'crowded', 'smiles', 'maps', 'rollerblade', 'hay', 'towers', 'mouth', 'distored', 'domino', 'stock', 'tapped', 'motorscooter', 'atm', 'wildebeest', 'leashed', 'pinstripe', 'muscular', 'headresses', 'barking', 'trotting', 'nature', 'directly', 'struggle', 'landfill', 'palm', 'helment', 'protective', 'blackrobed', 'powerful', 'socks', 'swim', 'notice', 'drinks', 'parasurfing', 'maintained', 'university', 'viewing', 'mini', 'cockpit', 'secluded', 'minitrampoline', 'mountian', 'women', 'papers', 'scales', 'bass', 'fleeces', 'lion', 'offroad', 'gas', 'swings', 'pipe', 'creative', 'hillock', 'moutainside', 'tickled', 'strike', 'photographic', 'terrain', 'mingle', 'notices', 'evident', 'chutes', 'writes', 'pretty', 'opponents', 'waterskiis', 'palid', 'alcove', 'balconies', 'web', 'shirtless', 'close', 'upward', 'glider', 'suspenders', 'security', 'dirtcovered', 'encouraged', 'digital', 'tones', 'twho', 'glvoes', 'ques', 'cup', 'jaws', 'fastest', 'median', 'videos', 'bakery', 'college', 'propeller', 'tambourines', 'casts', 'rocks', 'organizing', 'totter', 'seawall', 'silhouetted', 'hanna', 'passes', 'spar', 'cheer', 'hods', 'pice', 'bicycling', 'diaper', 'pullovers', 'lawn', 'booth', 'tall', 'penske', 'lillypads', 'winding', 'yamaha', 'picutre', 'hankerchief', 'garage', 'odeon', 'shorts', 'sleds', 'stepping', 'carolina', 'makes', 'orchestra', 'collars', 'mark', 'duffel', 'hortons', 'pets', 'irish', 'kiss', 'bathtub', 'stays', 'patterned', 'rival', 'aprons', 'buggys', 'handinhand', 'blues', 'urinating', 'accents', 'salt', 'sabre', 'beckons', 'dropped', 'stove', 'scraping', 'bigwheels', 'kit', 'runners', 'cutting', 'greenbay', 'buena', 'floors', 'clapped', 'poodle', 'defend', 'boy', 'barechested', 'nursing', 'entangled', 'retangular', 'flattened', 'tarp', 'tidal', 'oppenents', 'startled', 'licks', 'eight', 'breaks', 'flares', 'rolledup', 'overlooks', 'laceup', 'shouts', 'adornment', 'wheels', 'contemplating', 'gesticulates', 'wellkept', 'fork', 'mansion', 'blower', 'digs', 'timeout', 'truck', 'intersection', 'concentration', 'telescope', 'evening', 'pontoon', 'squabble', 'floral', 'straw', 'stars', 'wall', 'jaw', 'shooting', 'entwined', 'aerobatic', 'sunrise', 'accross', 'rustric', 'skeletonprinted', 'alongside', 'congratulate', 'smokestacks', 'cord', 'scarves', 'flats', 'vaulting', 'plucking', 'bounces', 'grimacing', 'brave', 'forward', 'goatee', 'conch', 'currents', 'shabby', 'waterwear', 'laundry', 'which', 'critter', 'us', 'fawkes', 'notes', 'closer', 'here', 'silhouette', 'huddle', 'search', 'practices', 'seed', 'does', 'leap', 'formally', 'surfboards', 'proximity', 'tumbleweed', 'stacks', 'goers', 'worn', 'overturned', 'smashed', 'rode', 'stubbled', 'lasso', 'sunsetting', 'dump', 'violinist', 'hoodie', 'prisoner', 'enthusiastically', 'removes', 'edges', 'seagull', 'dust', 'own', 'unpainted', 'scruffy', 'comprised', 'move', 'presidential', 'incline', 'windboarder', 'care', 'dramatic', 'dribbles', 'during', 'necklaces', 'model', 'navigates', 'mexican', 'released', 'partake', 'acts', 'temple', 'glassses', 'civil', 'snaps', 'jacketed', 'salon', 'skying', 'goes', 'oval', 'endorsementcovered', 'among', 'untangles', 'lady', 'catcher', 'howling', 'mostly', 'scrimmage', 'seattle', 'cycling', 'goldenbrown', 'looked', 'ouside', 'shoveling', 'soccer', 'longhaired', 'braided', 'defensive', 'backgrounds', 'vaulter', 'wants', 'saver', 'pinwheel', 'schools', 'continue', 'windsurfers', 'internet', 'glancing', 'happily', 'medal', 'ink', 'necks', 'state', 'shorthaired', 'canooers', 'neptuno', 'through', 'graze', 'rounds', 'leafcovered', 'armour', 'planks', 'continues', 'ice', 'secondstory', 'cubby', 'cage', 'tournament', 'opinion', 'prefabricated', 'sell', 'holy', 'israeli', 'wetsuite', 'earmuffs', 'serveral', 'fighter', 'chicago', 'coyotes', 'daschund', 'tree', 'stretchy', 'quiet', 'joggers', 'referees', 'cuddling', 'lounges', 'skyscraper', 'tier', 'shimp', 'dingo', 'atvs', 'dumpster', 'nails', 'handstands', 'slalomlike', 'hydrant', 'marshy', 'fetching', 'gauzey', 'seventh', 'skyline', 'loser', 'say', 'hissing', 'footballs', 'uneven', 'know', 'launch', 'panasonic', 'key', 'highchair', 'heels', 'pain', 'dc', 'passengers', 'dirtbike', 'geishas', 'samples', 'hooking', 'fourwheeled', 'high', 'amish', 'looking', 'reaches', 'joyfully', 'youg', 'sponges', 'witches', 'station', 'master', 'fetched', 'lip', 'seabird', 'sleeved', 'faced', 'language', 'preteen', 'hop', 'overhangs', 'screened', 'goats', 'haystack', 'fort', 'english', 'come', 'russell', 'hooded', 'kisses', 'message', 'grip', 'dice', 'sprint', 'obese', 'matador', 'dodge', 'outside', 'bounced', 'examined', 'thought', 'sweaters', 'splits', 'cathcer', 'squeamish', 'grazing', 'watching', 'beds', 'quarters', 'willow', 'uniform', 'dilapidated', 'spoke', 'railed', 'spangles', 'tattoed', 'items', 'shot', 'explosions', 'canoers', 'flyer', 'enough', 'bare', 'cart', 'cafe', 'fencing', 'stirred', 'snap', 'handle', 'manner', 'masses', 'uncrowded', 'several', 'corgi', 'hikers', 'ballplayers', 'cream', 'raling', 'pink', 'bookshelf', 'sandbox', 'sad', 'djs', 'kickbox', 'sweashirt', 'turkeys', 'bloom', 'signed', 'purses', 'riwal', 'tells', 'colorings', 'style', 'oxen', 'clifftop', 'feathers', 'bowler', 'lookout', 'orangish', 'elephants', 'british', 'redclothed', 'sweatshir', 'redskins', 'convoy', 'arrives', 'igloo', 'whack', 'forehand', 'bras', 'persian', 'morning', 'points', 'enjoying', 'pointy', 'feed', 'hooker', 'lean', 'tossing', 'contents', 'lease', 'senior', 'rosy', 'nice', 'steadies', 'camels', 'passed', 'communications', 'obama', 'equpiment', 'festival', 'falling', 'rags', 'handbag', 'bursting', 'sinking', 'mud', 'disturbed', 'viewfinder', 'minding', 'curlyhaired', 'mounted', 'greyhound', 'brightlylit', 'chute', 'performing', 'knit', 'varying', 'observes', 'fumble', 'streetshot', 'terrace', 'drain', 'baton', 'limo', 'ladie', 'metallic', 'midget', 'tabs', 'pure', 'wrecked', 'series', 'bill', 'rollerskates', 'snorkel', 'pad', 'flowered', 'amazement', 'husk', 'dealth', 'cooking', 'mop', 'obligatoire', 'un', 'tool', 'cappedhills', 'wounded', 'choreographed', 'pedestrians', 'ace', 'leads', 'double', 'lobster', 'there', 'pensively', 'spotlight', 'missed', 'trunks', 'binky', 'doing', 'produces', 'twotone', 'floored', 'way', 'elevator', 'weilding', 'novel', 'brighly', 'sailing', 'device', 'posign', 'ruggers', 'flexible', 'memorial', 'people', 'tinted', 'flexibility', 'breaching', 'star', 'snowsuit', 'reads', 'waterside', 'perplexed', 'implements', 'statefarmcom', 'bones', 'marine', 'skijoring', 'signaling', 'another', 'bark', 'assists', 'mat', 'gorgeous', 'lollipop', 'wrist', 'ringing', 'swordsman', 'isolated', 'others', 'elegant', 'escalators', 'mountainclimbing', 'twisty', 'skateboarders', 'operating', 'looks', 'drive', 'rather', 'working', 'amuseument', 'gather', 'shades', 'scary', 'braces', 'mediumsized', 'sifting', 'fishscales', 'thrower', 'parked', 'aliens', 'tugofwar', 'glowers', 'travels', 'excitement', 'no', 'part', 'scarfs', 'sox', 'woooden', 'respectively', 'troupe', 'peddles', 'pictures', 'cleaned', 'point', 'jumps', 'coat', 'snowboard', 'closeby', 'boys', 'ascend', 'arguing', 'stretch', 'padding', 'hallway', 'become', 'badly', 'jumphouse', 'rottweiler', 'feather', 'pedals', 'flaggers', 'each', 'bin', 'partially', 'squatting', 'piste', 'shoes', 'jacuzzi', 'end', 'jogging', 'skydivers', 'shoulderlength', 'cash', 'tartan', 'mike', 'pillar', 'playpen', 'unknown', 'exited', 'establishment', 'chairlift', 'insect', 'elaborate', 'inlineskates', 'chow', 'refreshment', 'tiara', 'peaking', 'proof', 'burnished', 'dribbling', 'swallow', 'marathon', 'redbrown', 'average', 'snowbank', 'couples', 'tattered', 'steap', 'surfaces', 'closes', 'prison', 'telescopes', 'haired', 'maids', 'sandals', 'you', 'nibbles', 'shortly', 'longbeaked', 'vegas', 'shin', 'colecting', 'struck', 'flamboyantly', 'clap', 'archer', 'ripped', 'worker', 'torii', 'blur', 'recline', 'brazilian', 'jetskiing', 'dark', 'flannel', 'bomber', 'object', 'pausing', 'sharp', 'elevated', 'mountaintop', 'keepaway', 'barbwire', 'mirrored', 'sewer', 'underwater', 'walls', 'bodyless', 'passin', 'untouched', 'affectionately', 'foul', 'blocks', 'injured', 'glassy', 'flower', 'cherry', 'herbs', 'carpeted', 'intently', 'forearms', 'fronds', 'whips', 'propping', 'graying', 'tandem', 'cleavage', 'lavender', 'ten', 'woodland', 'skilift', 'official', 'snapshot', 'collecting', 'prestends', 'motorcycle', 'abandoned', 'atv', 'turkey', 'lightcolored', 'fro', 'hopping', 'supervise', 'signs', 'secret', 'dane', 'bums', 'cooks', 'apple', 'gazed', 'tray', 'carved', 'transit', 'around', 'hoop', 'traverses', 'headdress', 'farmland', 'piggybacking', 'manuever', 'pier', 'airtime', 'tent', 'filed', 'faces', 'suffering', 'pet', 'egret', 'toboggan', 'fenced', 'reflection', 'fashionably', 'rockclimber', 'constructed', 'snow', 'donuts', 'rapid', 'innertube', 'lands', 'furnace', 'islamic', 'distant', 'cube', 'wiping', 'blame', 'tundra', 'nestled', 'button', 'dripping', 'gown', 'pacifier', 'picnic', 'actors', 'overshirt', 'cute', 'beers', 'office', 'market', 'duel', 'largeboned', 'blindfolded', 'cross', 'locomotives', 'eyepatch', 'starting', 'vapour', 'blackstriped', 'desperate', 'composure', 'selling', 'snowy', 'graffti', 'greencolored', 'orangesunset', 'stretches', 'lab', 'diners', 'mountains', 'creeping', 'herself', 'door', 'crash', 'picket', 'beached', 'spain', 'forest', 'dunks', 'headband', 'referring', 'interviewed', 'slope', 'dunked', 'revealing', 'backstroke', 'unfurling', 'north', 'chainsaw', 'utility', 'emblazoned', 'cigarettes', 'confronts', 'llama', 'participant', 'stony', 'rowers', 'onto', 'cds', 'features', 'slightly', 'chased', 'moment', 'flipping', 'dramatically', 'inside', 'love', 'basset', 'winks', 'stockings', 'base', 'game', 'scrubby', 'tawny', 'active', 'parody', 'browse', 'muffs', 'ridden', 'pawing', 'adjustments', 'at', 'sun', 'chrome', 'tell', 'genocide', 'programs', 'stick', 'expression', 'fedex', 'surfboard', 'smacking', 'expose', 'pirates', 'shutters', 'pedigree', 'tucking', 'village', 'plywood', 'tennis', 'beauty', 'slacks', 'scent', 'beaded', 'looker', 'officer', 'sniffing', 'marvel', 'drum', 'fixes', 'raft', 'scarf', 'intricate', 'checkstand', 'fashioned', 'decorations', 'head', 'graham', 'empty', 'pamphlets', 'organization', 'sweeping', 'pans', 'marshlike', 'watch', 'tupperware', 'bears', 'lap', 'crotch', 'withering', 'alligator', 'eagerly', 'anime', 'amongst', 'faucet', 'stream', 'ends', 'huskey', 'disks', 'pumped', 'adventurer', 'pairs', 'wake', 'bubbles', 'mall', 'breaking', 'shelves', 'ohio', 'almostdried', 'buildings', 'entertainment', 'pinstriped', 'funeral', 'energetic', 'tackler', 'pebbly', 'albert', 'ruin', 'frisbree', 'parachuter', 'fireball', 'stacking', 'herds', 'grinning', 'bellysmacker', 'backless', 'yarnlike', 'cold', 'pretending', 'skull', 'handkerchief', 'trendy', 'merchant', 'moniter', 'players', 'industrial', 'poofy', 'purina', 'happy', 'indoor', 'windbreaker', 'areas', 'including', 'friend', 'tigger', 'choke', 'rickety', 'swatting', 'client', 'chips', 'level', 'ignores', 'bars', 'mingling', 'an', 'antelope', 'masked', 'frolics', 'bigs', 'fiesty', 'attending', 'hazmat', 'pillowfight', 'crosscountry', 'friends', 'cry', 'lighthouse', 'rippled', 'cover', 'signals', 'behinf', 'squeals', 'container', 'throughwindow', 'gloves', 'trailing', 'bicyclist', 'carnival', 'panties', 'hovers', 'ascending', 'pecking', 'spotting', 'rates', 'muti', 'teaches', 'grand', 'merchandise', 'chipmunk', 'daisies', 'handrailing', 'energizer', 'fig', 'nation', 'blackyellow', 'obscuring', 'graffitti', 'touchdown', 'overflowing', 'limousine', 'backlit', 'together', 'puff', 'budweiser', 'speckled', 'playing', 'perused', 'allow', 'awnings', 'receives', 'foreigners', 'aquos', 'beachgoers', 'bite', 'fully', 'bad', 'inflatable', 'pacman', 'frizzy', 'separate', 'supports', 'casually', 'flipped', 'manuals', 'flare', 'enthusiastic', 'bowing', 'muscles', 'reviewing', 'vendors', 'arrangement', 'rivers', 'stuntbicyclist', 'woodlands', 'anticipating', 'rearview', 'wrangle', 'ivars', 'circling', 'digging', 'furred', 'sour', 'towing', 'stripe', 'lucky', 'atheletes', 'waling', 'waterfalls', 'viewer', 'flock', 'clothing', 'derby', 'cheese', 'climbes', 'gondoliers', 'slab', 'waterfront', 'needle', 'enter', 'swimwear', 'mesh', 'lonely', 'sponsor', 'parade', 'laughing', 'badge', 'glares', 'early', 'frowning', 'saw', 'responders', 'sparse', 'portfolio', 'observing', 'sailboats', 'carpenters', 'egde', 'ball', 'wheeler', 'tho', 'bridge', 'skiing', 'lamb', 'olympic', 'like', 'earrings', 'free', 'rodderick', 'waterline', 'crates', 'crests', 'goofy', 'guys', 'pouting', 'stiffing', 'defender', 'tip', 'littered', 'decorative', 'lakefront', 'covered', 'shirted', 'styled', 'questioningly', 'hulahoops', 'leaping', 'acrobat', 'we', 'newly', 'searching', 'thrashed', 'emitting', 'blondhair', 'promting', 'fake', 'encouraging', 'motors', 'crust', 'missing', 'competiting', 'horseback', 'session', 'yound', 'dumbbell', 'israei', 'coutryside', 'illustration', 'sloping', 'overnight', 'tricycles', 'remember', 'effort', 'tentlike', 'greyish', 'crushed', 'pair', 'jacket', 'tunic', 'fighters', 'knocked', 'apparatus', 'volleyball', 'notsocrowded', 'strollers', 'very', 'powerlines', 'amounts', 'sippy', 'pitbulls', 'electrical', 'hood', 'spelunkers', 'earth', 'handling', 'potato', 'knuckle', 'somersaults', 'waving', 'side', 'shows', 'coastline', 'based', 'cycler', 'back', 'purse', 'bucking', 'courts', 'whitewater', 'teaching', 'excersise', 'encircling', 'blackhaired', 'rockstrewn', 'exchange', 'vision', 'leatherclad', 'block', 'owner', 'fishemen', 'temporary', 'artwork', 'childern', 'reindeer', 'sparsely', 'milkbone', 'adolescents', 'zooms', 'buddist', 'legged', 'lagoon', 'placemats', 'twisted', 'tools', 'guardsman', 'wrinkled', 'unexcited', 'serves', 'waterskier', 'prey', 'motivation', 'tiles', 'marching', 'worm', 'clad', 'forth', 'dachshunds', 'elbows', 'rocket', 'shoot', 'classmates', 'completes', 'intended', 'prizes', 'draws', 'wiffle', 'sidwalk', 'logos', 'spin', 'rainling', 'called', 'aged', 'peaks', 'roasted', 'beaten', 'clay', 'tear', 'bluerobed', 'oar', 'tied', 'barren', 'ocean', 'gallops', 'sandcastles', 'prow', 'pomeranian', 'tale', 'leapfrog', 'amount', 'disk', 'flew', 'sillhouetted', 'cigarette', 'ahead', 'grey', 'backseat', 'somehow', 'downward', 'stools', 'bodies', 'rubber', 'ceremony', 'highfive', 'entertainers', 'hole', 'rise', 'schoolaged', 'motley', 'burns', 'persons', 'browneyed', 'zips', 'guide', 'stingray', 'froup', 'produce', 'boe', 'amidst', 'saxophone', 'wiht', 'join', 'accompanying', 'fixer', 'bullhorn', 'beer', 'cloudy', 'tychy', 'mysterious', 'chopsticks', 'napping', 'sip', 'hug', 'packed', 'strawberry', 'jagged', 'fluffy', 'advances', 'excercise', 'patch', 'sails', 'spashes', 'browm', 'touches', 'clothesline', 'past', 'minerature', 'metal', 'suntanning', 'dong', 'sweatpants', 'squat', 'streches', 'chalk', 'sparring', 'bangs', 'whiffle', 'hopes', 'less', 'examines', 'dangles', 'snowmobile', 'edged', 'nubby', 'digger', 'non', 'certificates', 'propped', 'whilst', 'carried', 'drainage', 'small', 'wierd', 'wide', 'iceburg', 'vike', 'exhibt', 'frog', 'carries', 'mardi', 'angels', 'playfully', 'flips', 'wipe', 'vegetables', 'hairy', 'five', 'milkshake', 'tiger', 'mans', 'madly', 'breed', 'physiques', 'step', 'videotapes', 'lane', 'nursed', 'eats', 'connected', 'buckled', 'sprawls', 'visiting', 'masters', 'struggles', 'distressed', 'melts', 'ashen', 'flying', 'assault', 'beyond', 'closely', 'worships', 'trees', 'explorer', 'lotion', 'hoofs', 'boundary', 'hugs', 'treading', 'labradoodle', 'mortar', 'protectors', 'escorts', 'whitebearded', 'chatting', 'thumbs', 'cornfield', 'bunny', 'standard', 'corgie', 'footrace', 'rite', 'safely', 'bedroom', 'lie', 'gin', 'saber', 'bigg', 'longbearded', 'barefooted', 'ankledeep', 'roadside', 'tubing', 'riverrafting', 'defending', 'prop', 'tilling', 'softball', 'trail', 'perfomed', 'demonstarting', 'wispy', 'field', 'sledder', 'angles', 'midway', 'gust', 'treefilled', 'classic', 'bathe', 'headwrap', 'draping', 'carpet', 'syrup', 'wrapped', 'redclad', 'squeezed', 'limbs', 'representing', 'fatigues', 'cries', 'chat', 'flatscreen', 'footballers', 'widow', 'skinny', 'chaps', 'vine', 'tables', 'pees', 'scrubland', 'happiness', 'pastures', 'lookalike', 'showgirl', 'rifle', 'mountaineer', 'watering', 'forms', 'suprised', 'formed', 'backpackers', 'flighht', 'nowhere', 'las', 'perm', 'guardrail', 'contestant', 'judo', 'streetlamp', 'alike', 'america', 'twin', 'whites', 'maneuvers', 'sundappled', 'sooners', 'patio', 'snowball', 'icicles', 'tackles', 'patroling', 'fanning', 'bouncey', 'armbands', 'fireplace', 'iron', 'soaked', 'region', 'claps', 'ribbons', 'unison', 'jesus', 'swerves', 'leaning', 'snowed', 'possibly', 'apartments', 'length', 'snowpants', 'mountaintops', 'orthodox', 'edge', 'tests', 'scaling', 'chess', 'homes', 'leafs', 'barettes', 'orders', 'bungeejumping', 'robe', 'winner', 'spaniel', 'upper', 'else', 'final', 'visits', 'lunchbox', 'pack', 'browsing', 'bum', 'clowning', 'ankle', 'mules', 'hearts', 'over', 'young', 'studded', 'lifeguards', 'midleap', 'firework', 'hummingbird', 'stork', 'spigot', 'alien', 'skateboards', 'cougar', 'sledge', 'motorcycles', 'butting', 'fit', 'sailor', 'pedestal', 'seagulls', 'hawaiin', 'participates', 'juggler', 'lighterskinned', 'bushy', 'motorcyle', 'submerges', 'fruits', 'hardwood', 'agents', 'popper', 'moon', 'dots', 'little', 'unzipping', 'waterproofs', 'york', 'puppies', 'midsized', 'streetway', 'carying', 'neck', 'droplets', 'upside', 'dish', 'playgroud', 'appearing', 'latte', 'binocular', 'buss', 'smal', 'burning', 'racer', 'eleven', 'formations', 'freddy', 'flash', 'aloft', 'anklehigh', 'crow', 'guitars', 'shape', 'of', 'athletes', 'shoeshine', 'flaps', 'multicolored', 'dreadlocks', 'whie', 'period', 'engraved', 'gun', 'waterspout', 'weeds', 'cloak', 'soundproof', 'tuner', 'mouse', 'humorous', 'againest', 'streams', 'rails', 'land', 'ou', 'gushing', 'brightlycolored', 'portion', 'louis', 'damp', 'guarded', 'manmade', 'ballplayer', 'old', 'going', 'park', 'practicing', 'jet', 'jeans', 'city', 'kick', 'convert', 'closecropped', 'quarterpipe', 'wildly', 'davison', 're', 'leaps', 'curtsey', 'camcorder', 'hoddie', 'zone', 'antitax', 'jello', 'agency', 'surfboarder', 'bubbling', 'inline', 'weeping', 'bust', 'apartment', 'stoop', 'even', 'dolphins', 'seats', 'sunlit', 'crafts', 'stage', 'displaying', 'steady', 'graffited', 'snoopy', 'smells', 'twig', 'bottle', 'poles', 'juice', 'students', 'zigzag', 'remote', 'midriff', 'boas', 'tiretracks', 'sequins', 'concentrates', 'boogieboard', 'scans', 'spread', 'bulging', 'conditions', 'nose', 'greenpeace', 'plows', 'shephard', 'neighborhood', 'permed', 'kayak', 'treks', 'juggle', 'musician', 'rough', 'walks', 'they', 'swingset', 'entrance', 'lifevest', 'calming', 'greenglow', 'summer', 'hairdo', 'capped', 'onstage', 'doe', 'toothpaste', 'engulf', 'padel', 'addressing', 'reviews', 'rugged', 'ritz', 'curtain', 'help', 'bulldog', 'stockcar', 'kneeled', 'one', 'pitbull', 'holder', 'korean', 'beatup', 'forested', 'costumes', 'bluejean', 'transportation', 'posh', 'brunettes', 'served', 'couch', 'slam', 'khakis', 'child', 'hitting', 'tshirt', 'for', 'pleople', 'breakdancer', 'tbar', 'martial', 'livestock', 'french', 'flags', 'type', 'though', 'entertain', 'pillows', 'passers', 'fishermen', 'intercept', 'easel', 'socializing', 'wii', 'shake', 'crumb', 'grips', 'woman', 'stand', 'awaits', 'stocking', 'slipping', 'walkers', 'attempts', 'openair', 'subject', 'nitro', 'grabbing', 'sash', 'aiming', 'paralell', 'bounds', 'overalls', 'muslim', 'goldfish', 'twowheeled', 'lkievely', 'drug', 'smeared', 'civillians', 'would', 'dobermans', 'seater', 'measuring', 'billiards', 'pilots', 'firetruck', 'winking', 'silver', 'swimmies', 'cleared', 'zchtv', 'lining', 'handbags', 'stacked', 'seperate', 'snorkeling', 'bag', 'seeingeye', 'knees', 'trackandfield', 'carving', 'donates', 'burgers', 'lipstick', 'blow', 'bro', 'treated', 'humans', 'determined', 'pastor', 'ruins', 'earring', 'dug', 'crib', 'lopes', 'santana', 'blackclad', 'enforcment', 'taps', 'darkhaired', 'mouths', 'snowmobiles', 'huddled', 'carton', 'serious', 'retriving', 'twopiece', 'glass', 'foosball', 'relatively', 'false', 'poorlylit', 'trackside', 'puzzled', 'recreational', 'cruising', 'footwork', 'pumps', 'seek', 'nest', 'shrine', 'redhaired', 'hitter', 'militarystyle', 'scooters', 'hoof', 'incoming', 'machine', 'yell', 'clapping', 'surges', 'firehose', 'themed', 'mermaid', 'colander', 'thatched', 'cub', 'reflections', 'locking', 'out', 'lined', 'headless', 'graygreen', 'oldfashioned', 'shiny', 'scubba', 'force', 'craft', 'exposition', 'uw', 'tossed', 'descend', 'book', 'hers', 'protester', 'fastfood', 'mast', 'flames', 'performers', 'magic', 'busters', 'boxing', 'tuxedo', 'waiter', 'bowed', 'dogs', 'hungry', 'floor', 'cottage', 'artifacts', 'into', 'infants', 'blanket', 'expanse', 'twins', 'self', 'labrador', 'shadowed', 'patrons', 'coaster', 'excersizing', 'china', 'halfburied', 'pole', 'touched', 'rag', 'astroturf', 'autumnal', 'bee', 'beneath', 'distorted', 'windsurf', 'trundles', 'wood', 'plastic', 'lifts', 'prepairing', 'mr', 'machinery', 'quarter', 'patriotic', 'upperclass', 'siting', 'pinkish', 'pullup', 'scenic', 'opposite', 'crazily', 'bearing', 'marsh', 'lots', 'crashes', 'supervision', 'pencil', 'grouchy', 'horn', 'unspooled', 'soil', 'start', 'heeled', 'climbed', 'gates', 'shorline', 'saturated', 'exception', 'attaching', 'soaring', 'camps', 'bathingsuit', 'drummer', 'reacting', 'velvet', 'swinging', 'plains', 'food', 'pristine', 'laugh', 'straight', 'bodysuit', 'exiting', 'drawings', 'repelling', 'wellgroomed', 'showgirls', 'rush', 'decoyanimal', 'magician', 'goucho', 'celebrates', 'feathered', 'cow'}\n",
            "Vocabulary Size: 8763\n"
          ],
          "name": "stdout"
        }
      ]
    },
    {
      "cell_type": "markdown",
      "metadata": {
        "id": "PfK7GkWA4KD1",
        "colab_type": "text"
      },
      "source": [
        "Finally, we can save the dictionary of image identifiers and descriptions to a new file named descriptions.txt, with one image identifier and description per line.\n",
        "\n",
        "Below defines the save_descriptions() function that, given a dictionary containing the mapping of identifiers to descriptions and a filename, saves the mapping to file"
      ]
    },
    {
      "cell_type": "code",
      "metadata": {
        "id": "5DwELCjB3lBv",
        "colab_type": "code",
        "colab": {}
      },
      "source": [
        "# save descriptions to file, one per line\n",
        "def save_descriptions(descriptions, filename):\n",
        "  lines = list()\n",
        "  \n",
        "  for key, desc_list in descriptions.items():\n",
        "    for desc in desc_list:\n",
        "      lines.append(key + ' ' + desc)\n",
        "  \n",
        "  data = '\\n'.join(lines)\n",
        "  file = open(file=filename, mode='w')\n",
        "  file.write(data)\n",
        "  file.close()\n",
        "  \n",
        "  \n",
        "save_descriptions(descriptions, 'descriptions.txt')"
      ],
      "execution_count": 0,
      "outputs": []
    },
    {
      "cell_type": "markdown",
      "metadata": {
        "id": "cE9Wo2lH65md",
        "colab_type": "text"
      },
      "source": [
        "### Develop Deep Learning Model\n",
        "\n",
        "In this section, we will define the deep learning model and fit it on the training dataset.\n",
        "\n",
        "1. Loading Data.\n",
        "2. Defining the Model.\n",
        "3. Fitting the Model.\n",
        "\n",
        "#### Loading Data\n",
        "\n",
        "First, we must load the prepared photo and text data so that we can use it to fit the model.\n",
        "\n",
        "We are going to train the data on all of the photos and captions in the training dataset. While training, we are going to monitor the performance of the model on the development dataset and use that performance to decide when to save models to file.\n",
        "\n",
        "The train and development dataset have been predefined in the Flickr_8k.trainImages.txt and Flickr_8k.devImages.txt files respectively, that both contain lists of photo file names. From these file names, we can extract the photo identifiers and use these identifiers to filter photos and descriptions for each set.\n",
        "\n",
        "The function load_set() below will load a pre-defined set of identifiers given the train or development sets filename.\n",
        "\n"
      ]
    },
    {
      "cell_type": "code",
      "metadata": {
        "id": "zzR01uxrE8tC",
        "colab_type": "code",
        "colab": {}
      },
      "source": [
        "\n",
        "def load_set(filename):\n",
        "  \"\"\"\n",
        "  load a pre-defined list of photo identifiers\n",
        "  \"\"\"\n",
        "  #get text contents of the file\n",
        "  doc = load_doc(filename)\n",
        "  \n",
        "  # initialize an empty list\n",
        "  dataset = list()\n",
        "  \n",
        "  # read line by line\n",
        "  for line in doc.split('\\n'):\n",
        "    # skip empty lines\n",
        "    if len(line)<1:\n",
        "      continue\n",
        "    # get image identifier\n",
        "    identifier = line.split('.')[0]\n",
        "    dataset.append(identifier)\n",
        "    \n",
        "  return set(dataset)"
      ],
      "execution_count": 0,
      "outputs": []
    },
    {
      "cell_type": "code",
      "metadata": {
        "id": "CZPyBjQcFqqC",
        "colab_type": "code",
        "colab": {}
      },
      "source": [
        "def load_clean_descriptions(filename, dataset):\n",
        "  \"\"\"\n",
        "  load clean descriptions into memory\n",
        "  filename: file to load the descriptions from: use descriptions.txt file\n",
        "  dataset: only extract descriptions for image_ids in dataset\n",
        "  \"\"\"\n",
        "  # load doc\n",
        "  doc = load_doc(filename)\n",
        "  descriptions = dict()\n",
        "  for line in doc.split('\\n'):\n",
        "    # split line by white space\n",
        "    tokens = line.split()\n",
        "    # split id from description\n",
        "    image_id, image_desc = tokens[0], tokens[1:]\n",
        "    # only take image_ids which are present in dataset\n",
        "    if image_id in dataset:\n",
        "      # create list\n",
        "      if image_id not in descriptions:\n",
        "        descriptions[image_id] = list()\n",
        "      # wrap description in tokens\n",
        "      desc = 'startseq ' + ' '.join(image_desc) + ' endseq'\n",
        "      # store\n",
        "      descriptions[image_id].append(desc)\n",
        "      \n",
        "  return descriptions\n",
        "      "
      ],
      "execution_count": 0,
      "outputs": []
    },
    {
      "cell_type": "code",
      "metadata": {
        "id": "GoqSOW1rgHBz",
        "colab_type": "code",
        "outputId": "7393903d-aeb0-49d9-fa5f-a16d2949621e",
        "colab": {
          "base_uri": "https://localhost:8080/",
          "height": 34
        }
      },
      "source": [
        "features_data = pickle.load(open(file='./features.pkl', mode='rb'))\n",
        "\n",
        "print (features_data['221973402_ecb1cd51f1'].shape)"
      ],
      "execution_count": 11,
      "outputs": [
        {
          "output_type": "stream",
          "text": [
            "(1, 4096)\n"
          ],
          "name": "stdout"
        }
      ]
    },
    {
      "cell_type": "code",
      "metadata": {
        "id": "FwGes6_Odctu",
        "colab_type": "code",
        "outputId": "f33afacf-56e1-4944-eeed-62ed53dd7844",
        "colab": {
          "base_uri": "https://localhost:8080/",
          "height": 70
        }
      },
      "source": [
        "\n",
        "def load_photo_features(filename, dataset):\n",
        "  \"\"\"\n",
        "  load all features\n",
        "  filename: file to load the features from (expects a pickle file)\n",
        "  dataset: only extract features for image_ids in dataset\n",
        "  \"\"\"\n",
        "  all_features = pickle.load(open(file=filename, mode='rb'))\n",
        "  \n",
        "  # filter features\n",
        "  features = {k:all_features[k] for k in dataset}\n",
        "  return features\n",
        "\n",
        "# load list of training images\n",
        "filename = './Flickr8k_text/Flickr_8k.trainImages.txt'\n",
        "train = load_set(filename)\n",
        "\n",
        "print (\"Length of train set: %d\" %len(train))\n",
        "\n",
        "# load descriptions for the train set\n",
        "\n",
        "train_descriptions = load_clean_descriptions(filename='./descriptions.txt', dataset=train)\n",
        "\n",
        "print('Train Descriptions: len=%d' % len(train_descriptions))\n",
        "\n",
        "# load features for the train set\n",
        "\n",
        "train_features = load_photo_features(filename='./features.pkl', dataset=train)\n",
        "print('Train Features: len=%d' % len(train_features))\n",
        "   "
      ],
      "execution_count": 12,
      "outputs": [
        {
          "output_type": "stream",
          "text": [
            "Length of train set: 6000\n",
            "Train Descriptions: len=6000\n",
            "Train Features: len=6000\n"
          ],
          "name": "stdout"
        }
      ]
    },
    {
      "cell_type": "code",
      "metadata": {
        "id": "thfprDyhqNSa",
        "colab_type": "code",
        "outputId": "00d5ec7a-4822-4249-c8ab-edbda66f0ba1",
        "colab": {
          "base_uri": "https://localhost:8080/",
          "height": 72
        }
      },
      "source": [
        "print (train_descriptions['1000268201_693b08cb0e'])\n",
        "\n",
        "print (train_features['1000268201_693b08cb0e'].shape)"
      ],
      "execution_count": 27,
      "outputs": [
        {
          "output_type": "stream",
          "text": [
            "['startseq child in pink dress is climbing up set of stairs in an entry way endseq', 'startseq girl going into wooden building endseq', 'startseq little girl climbing into wooden playhouse endseq', 'startseq little girl climbing the stairs to her playhouse endseq', 'startseq little girl in pink dress going into wooden cabin endseq']\n",
            "(1, 4096)\n"
          ],
          "name": "stdout"
        }
      ]
    },
    {
      "cell_type": "markdown",
      "metadata": {
        "id": "IcIFXVuDspKd",
        "colab_type": "text"
      },
      "source": [
        "The description text will need to be encoded to numbers before it can be presented to the model as in input or compared to the model’s predictions.\n",
        "\n",
        "The first step in encoding the data is to create a consistent mapping from words to unique integer values. Keras provides the Tokenizer class that can learn this mapping from the loaded description data.\n",
        "\n",
        "Below defines the to_lines() to convert the dictionary of descriptions into a list of strings and the create_tokenizer() function that will fit a Tokenizer given the loaded photo description text.\n",
        "\n"
      ]
    },
    {
      "cell_type": "code",
      "metadata": {
        "id": "OliVk08ptFMV",
        "colab_type": "code",
        "outputId": "537a9310-6044-494f-85bb-3ee65a917596",
        "colab": {
          "base_uri": "https://localhost:8080/",
          "height": 34
        }
      },
      "source": [
        "from keras.preprocessing.text import Tokenizer\n",
        "\n",
        "def to_lines(descriptions):\n",
        "  \"\"\"\n",
        "  convert a dictionary of clean descriptions to a list of descriptions\n",
        "  \"\"\"\n",
        "  \n",
        "  all_desc = list()\n",
        "  # for each descrription\n",
        "  for key in descriptions.keys():\n",
        "    # append each word in the list\n",
        "    [all_desc.append(d) for d in descriptions[key]]\n",
        "  return all_desc\n",
        "\n",
        "def create_tokenizer(descriptions):\n",
        "  \"\"\"\n",
        "  fits a tokenizer to caption descriptions\n",
        "  \"\"\"\n",
        "  # get list of all descriptions\n",
        "  lines = to_lines(descriptions)\n",
        "  tokenizer = Tokenizer()\n",
        "  # Updates internal vocabulary based on a list of texts.\n",
        "  tokenizer.fit_on_texts(lines)\n",
        "  return tokenizer\n",
        "  \n",
        "  \n",
        "\n",
        "# create the tokenizer on the main descriptions file: basically the one which has all the text\n",
        "  \n",
        "tokenizer=create_tokenizer(descriptions)\n",
        "\n",
        "# zero indexed, so add 1 to get the length\n",
        "vocab_size = len(tokenizer.word_index) + 1\n",
        "print('Vocabulary Size: %d' % vocab_size)"
      ],
      "execution_count": 13,
      "outputs": [
        {
          "output_type": "stream",
          "text": [
            "Vocabulary Size: 8764\n"
          ],
          "name": "stdout"
        }
      ]
    },
    {
      "cell_type": "markdown",
      "metadata": {
        "id": "ync4HZQg-JPB",
        "colab_type": "text"
      },
      "source": [
        "We can now encode the text.\n",
        "\n",
        "Each description will be split into words. The model will be provided one word and the photo and generate the next word. Then the first two words of the description will be provided to the model as input with the image to generate the next word. This is how the model will be trained.\n",
        "\n",
        "For example, the input sequence “little girl running in field” would be split into 6 input-output pairs to train the model:\n",
        "\n",
        "```\n",
        "X1,\t\tX2 (text sequence), \t\t\t\t\t\ty (word)\n",
        "\n",
        "photo\tstartseq, \t\t\t\t\t\t\t\t\tlittle\n",
        "\n",
        "photo\tstartseq, little,\t\t\t\t\t\t\tgirl\n",
        "\n",
        "photo\tstartseq, little, girl, \t\t\t\t\trunning\n",
        "\n",
        "photo\tstartseq, little, girl, running, \t\t\tin\n",
        "\n",
        "photo\tstartseq, little, girl, running, in, \t\tfield\n",
        "\n",
        "photo\tstartseq, little, girl, running, in, field, endseq\n",
        "\n",
        "```\n",
        "\n",
        "Later, when the model is used to generate descriptions, the generated words will be concatenated and recursively provided as input to generate a caption for an image.\n",
        "\n",
        "The function below named create_sequences(), given the tokenizer, a maximum sequence length, and the dictionary of all descriptions and photos, will transform the data into input-output pairs of data for training the model. There are two input arrays to the model: one for photo features and one for the encoded text. There is one output for the model which is the encoded next word in the text sequence.\n",
        "\n",
        "The input text is encoded as integers, which will be fed to a word embedding layer. The photo features will be fed directly to another part of the model. The model will output a prediction, which will be a probability distribution over all words in the vocabulary.\n",
        "\n",
        "The output data will therefore be a one-hot encoded version of each word, representing an idealized probability distribution with 0 values at all word positions except the actual word position, which has a value of 1."
      ]
    },
    {
      "cell_type": "code",
      "metadata": {
        "id": "gvSWeS9IFuY2",
        "colab_type": "code",
        "outputId": "bb3c62c2-b061-4916-e502-5ed5dffd5a97",
        "colab": {
          "base_uri": "https://localhost:8080/",
          "height": 105
        }
      },
      "source": [
        "train_descriptions['1000268201_693b08cb0e']"
      ],
      "execution_count": 12,
      "outputs": [
        {
          "output_type": "execute_result",
          "data": {
            "text/plain": [
              "['startseq child in pink dress is climbing up set of stairs in an entry way endseq',\n",
              " 'startseq girl going into wooden building endseq',\n",
              " 'startseq little girl climbing into wooden playhouse endseq',\n",
              " 'startseq little girl climbing the stairs to her playhouse endseq',\n",
              " 'startseq little girl in pink dress going into wooden cabin endseq']"
            ]
          },
          "metadata": {
            "tags": []
          },
          "execution_count": 12
        }
      ]
    },
    {
      "cell_type": "code",
      "metadata": {
        "id": "SPfGClfRJiLG",
        "colab_type": "code",
        "outputId": "9ca3409e-4c12-4900-f6e0-92eb4ea7eb77",
        "colab": {
          "base_uri": "https://localhost:8080/",
          "height": 52
        }
      },
      "source": [
        "from keras.preprocessing.sequence import pad_sequences\n",
        "from keras.utils import to_categorical\n",
        "\n",
        "print (tokenizer.texts_to_sequences(['startseq child in pink dress is climbing up set of stairs in an entry way endseq']))\n",
        "\n",
        "print (to_categorical([5], num_classes=10))"
      ],
      "execution_count": 14,
      "outputs": [
        {
          "output_type": "stream",
          "text": [
            "[[39, 1, 87, 166, 4, 116, 50, 392, 9, 389, 1, 25, 5188, 689]]\n",
            "[[0. 0. 0. 0. 0. 1. 0. 0. 0. 0.]]\n"
          ],
          "name": "stdout"
        }
      ]
    },
    {
      "cell_type": "code",
      "metadata": {
        "id": "kwZu7ZPw-V6T",
        "colab_type": "code",
        "colab": {}
      },
      "source": [
        "def create_sequences(tokenizer, max_length, descriptions, photos, vocab_size):\n",
        "\n",
        "\t\"\"\"\n",
        "\tThis function creates the training and testing sequences:X1, X2 and y as described earlier\n",
        "\tNOTE: Very slow: try to do it in parts later\n",
        "\t\"\"\"\n",
        "\n",
        "\t# create empty lists to store the data\n",
        "\tX1, X2, y = list(), list(), list()\n",
        "\t# walk through each image identifier\n",
        "\tfor key, desc_list in descriptions.items():\n",
        "\t\t# walk through each caption for the image\n",
        "\t\tfor desc in desc_list:\n",
        "\t\t\t# encode the sequence i.e the caption\n",
        "\t\t\tseq = tokenizer.texts_to_sequences([desc])[0]\n",
        "\t\t\t# split one sequence into multiple X,y pairs\n",
        "\t\t\tfor i in range(1, len(seq)):\n",
        "\t\t\t\t# split into input and output pair\n",
        "\t\t\t\tin_seq, out_seq = seq[:i], seq[i]\n",
        "\t\t\t\t# pad input sequence\n",
        "\t\t\t\tin_seq = pad_sequences([in_seq], maxlen=max_length)[0]\n",
        "\t\t\t\t# one hot encoded output sequence\n",
        "\t\t\t\tout_seq = to_categorical([out_seq], num_classes=vocab_size)[0]\n",
        "\t\t\t\t# store\n",
        "\t\t\t\tX1.append(photos[key][0])\n",
        "\t\t\t\tX2.append(in_seq)\n",
        "\t\t\t\ty.append(out_seq)\n",
        "\treturn np.array(X1), np.array(X2), np.array(y)"
      ],
      "execution_count": 0,
      "outputs": []
    },
    {
      "cell_type": "markdown",
      "metadata": {
        "id": "skkw84nAy6eB",
        "colab_type": "text"
      },
      "source": [
        "We will need to calculate the maximum number of words in the longest description. A short helper function named max_length() is defined below.\n",
        "\n"
      ]
    },
    {
      "cell_type": "code",
      "metadata": {
        "id": "DTIKSpSvy66e",
        "colab_type": "code",
        "colab": {}
      },
      "source": [
        "def compute_max_length(description):\n",
        "  \"\"\"\n",
        "  calculate the length of the description with the most words\n",
        "  \"\"\"\n",
        "\n",
        "  # get a list of all descriptions\n",
        "  lines = to_lines(description)\n",
        "  # get max no of words in any desc\n",
        "  return max(len(d.split()) for d in lines)\n"
      ],
      "execution_count": 0,
      "outputs": []
    },
    {
      "cell_type": "code",
      "metadata": {
        "id": "_xU7p64o7ScL",
        "colab_type": "code",
        "outputId": "7b5a7f9a-efef-46b4-a688-7301f78482b8",
        "colab": {
          "base_uri": "https://localhost:8080/",
          "height": 34
        }
      },
      "source": [
        "compute_max_length(train_descriptions)"
      ],
      "execution_count": 33,
      "outputs": [
        {
          "output_type": "execute_result",
          "data": {
            "text/plain": [
              "34"
            ]
          },
          "metadata": {
            "tags": []
          },
          "execution_count": 33
        }
      ]
    },
    {
      "cell_type": "markdown",
      "metadata": {
        "id": "nJB7hn-r6fEe",
        "colab_type": "text"
      },
      "source": [
        "### Defining the Model\n",
        "\n",
        "We will define a deep learning based on the “merge-model” described by Marc Tanti, et al. in their 2017 papers:\n",
        "\n",
        "The authors provide a nice schematic of the model, reproduced below.\n",
        "\n",
        "![](https://3qeqpr26caki16dnhd19sv6by6v-wpengine.netdna-ssl.com/wp-content/uploads/2017/09/Schematic-of-the-Merge-Model-For-Image-Captioning.png)\n",
        "\n",
        "We will describe the model in three parts:\n",
        "\n",
        "1. **Photo Feature Extractor**: This is a 16-layer VGG model pre-trained on the ImageNet dataset. We have pre-processed the photos with the VGG model (without the output layer) and will use the extracted features predicted by this model as input.\n",
        "\n",
        "2. **Sequence Processor**: This is a word embedding layer for handling the text input, followed by a Long Short-Term Memory (LSTM) recurrent neural network layer.\n",
        "\n",
        "3. **Decoder (for lack of a better name)**: Both the feature extractor and sequence processor output a fixed-length vector. These are merged together and processed by a Dense layer to make a final prediction.\n",
        "\n",
        "The Photo Feature Extractor model expects input photo features to be a vector of 4,096 elements. These are processed by a Dense layer to produce a 256 element representation of the photo.\n",
        "\n",
        "The Sequence Processor model expects input sequences with a pre-defined length (34 words) which are fed into an Embedding layer that uses a mask to ignore padded values. This is followed by an LSTM layer with 256 memory units. The longest description for an image has 34 words\n",
        "\n",
        "Both the input models produce a 256 element vector. Further, both input models use regularization in the form of 50% dropout. This is to reduce overfitting the training dataset, as this model configuration learns very fast.\n",
        "\n",
        "The Decoder model merges the vectors from both input models using an addition operation. This is then fed to a Dense 256 neuron layer and then to a final output Dense layer that makes a softmax prediction over the entire output vocabulary for the next word in the sequence.\n",
        "\n",
        "The function below named define_model() defines and returns the model ready to be fit.\n",
        "\n"
      ]
    },
    {
      "cell_type": "code",
      "metadata": {
        "id": "Jq9AU8l76yta",
        "colab_type": "code",
        "colab": {}
      },
      "source": [
        "from keras.utils import plot_model\n",
        "from keras.models import Model\n",
        "from keras.layers import Input\n",
        "from keras.layers import Dense\n",
        "from keras.layers import LSTM\n",
        "from keras.layers import Embedding\n",
        "from keras.layers import Dropout\n",
        "from keras.layers.merge import add\n",
        "from keras.callbacks import ModelCheckpoint\n",
        "\n",
        "def define_model(vocab_size, max_length):\n",
        "  \"\"\"\n",
        "  define the architecture of the captioning model\n",
        "  \"\"\"\n",
        "  \n",
        "  # feature extractor model\n",
        "  # input = (4096, ) -> dropout(50%) -> Dense(256)\n",
        "  \n",
        "  inputs1 = Input(shape=(4096,))\n",
        "  fe1 = Dropout(rate=0.5)(inputs1)\n",
        "  fe2 = Dense(units=256, activation='relu')(fe1)\n",
        "  \n",
        "  # sequence model\n",
        "  # Sequence Processor model expects input sequences with a pre-defined length (34 words) \n",
        "  # Input(34, ) -> Embedding(vocab_size, 256) -> dropout(50%) -> LSTM(256)\n",
        "\n",
        "  inputs2 = Input(shape=(max_length,))\n",
        "  # mask_zero: Whether or not the input value 0 is a special \"padding\" value that should be masked out\n",
        "  se1 = Embedding(input_dim=vocab_size, output_dim=256, mask_zero=True)(inputs2)\n",
        "  se2 = Dropout(rate=0.5)(se1)\n",
        "  se3 = LSTM(units=256)(se2)\n",
        "  \n",
        "  # decoder model\n",
        "  # merge both the prev ops -> Dense(256) -> Dense(vocab_size with softmax)\n",
        "  decoder1 = add([fe2, se3])\n",
        "  decoder2 = Dense(units=256, activation='relu')(decoder1)\n",
        "  # softmax prediction over the entire output vocabulary for the next word in the sequence\n",
        "  outputs = Dense(units=vocab_size, activation='softmax')(decoder2)\n",
        "  \n",
        "  # tie it together [image, seq] [word]\n",
        "  model = Model(inputs=[inputs1, inputs2], outputs=outputs)\n",
        "  model.compile(loss='categorical_crossentropy', optimizer='adam')\n",
        "  \n",
        "  # summarize model\n",
        "  print(model.summary())\n",
        "\n",
        "  # save model plot\n",
        "  plot_model(model, to_file='./model.png', show_shapes=True)\n",
        "\n",
        "  return model\n",
        "  \n",
        "  \n",
        "  "
      ],
      "execution_count": 0,
      "outputs": []
    },
    {
      "cell_type": "markdown",
      "metadata": {
        "id": "Vhth7qeaaY1x",
        "colab_type": "text"
      },
      "source": [
        "Load training descriptions:\n",
        "\n",
        "#### NOTE: Might export to pickle"
      ]
    },
    {
      "cell_type": "code",
      "metadata": {
        "id": "CkihabgtZI-l",
        "colab_type": "code",
        "colab": {
          "base_uri": "https://localhost:8080/",
          "height": 52
        },
        "outputId": "0913ab18-6af5-4796-d00c-f5b6f57fb2c3"
      },
      "source": [
        "# load training dataset (6k).....\n",
        "filename = './Flickr8k_text/Flickr_8k.trainImages.txt'\n",
        "# load the list of filenames\n",
        "train = load_set(filename)\n",
        "print (\"Length of training set:\", len(train))\n",
        "# load the descriptions\n",
        "train_descriptions = load_clean_descriptions(filename='./descriptions.txt', dataset=train)\n",
        "print (\"Train desc length:\", len(train_descriptions))"
      ],
      "execution_count": 18,
      "outputs": [
        {
          "output_type": "stream",
          "text": [
            "Length of training set: 6000\n",
            "Train desc length: 6000\n"
          ],
          "name": "stdout"
        }
      ]
    },
    {
      "cell_type": "markdown",
      "metadata": {
        "id": "TLfIAmg_etGP",
        "colab_type": "text"
      },
      "source": [
        "Load training features\n",
        "\n",
        "#### NOTE: Might export to pickle"
      ]
    },
    {
      "cell_type": "code",
      "metadata": {
        "id": "YZAIYBpQaYAn",
        "colab_type": "code",
        "colab": {
          "base_uri": "https://localhost:8080/",
          "height": 34
        },
        "outputId": "ad34a21c-a6e7-4739-f834-4ac3f5ebd37e"
      },
      "source": [
        "# load photo features of training data\n",
        "train_features = load_photo_features(filename='./features.pkl', dataset=train)\n",
        "print (\"Train features length:\", len(train_features))\n"
      ],
      "execution_count": 19,
      "outputs": [
        {
          "output_type": "stream",
          "text": [
            "Train features length: 6000\n"
          ],
          "name": "stdout"
        }
      ]
    },
    {
      "cell_type": "markdown",
      "metadata": {
        "id": "OlqDWteSfE9n",
        "colab_type": "text"
      },
      "source": [
        "Prepare tokenizer\n",
        "\n",
        "#### DOUBT: why do we create tokenizer again on train_descriptions and not on descriptions\n",
        "\n",
        "#### NOTE: Might export to pickle"
      ]
    },
    {
      "cell_type": "code",
      "metadata": {
        "id": "h97gtsyffJeM",
        "colab_type": "code",
        "colab": {
          "base_uri": "https://localhost:8080/",
          "height": 52
        },
        "outputId": "66a5f31d-89be-40ad-e48b-f33f132ec7dd"
      },
      "source": [
        "# create tokenizer on train_descriptions\n",
        "tokenizer = create_tokenizer(train_descriptions)\n",
        "\n",
        "vocab_size = len(tokenizer.word_index) + 1\n",
        "print('Vocabulary Size: %d' % vocab_size)\n",
        "\n",
        "# determine the maximum sequence length\n",
        "max_length = compute_max_length(train_descriptions)\n",
        "print('Max Description Length: %d' % max_length)"
      ],
      "execution_count": 20,
      "outputs": [
        {
          "output_type": "stream",
          "text": [
            "Vocabulary Size: 7579\n",
            "Max Description Length: 34\n"
          ],
          "name": "stdout"
        }
      ]
    },
    {
      "cell_type": "markdown",
      "metadata": {
        "id": "UbdTrPi6h0Hk",
        "colab_type": "text"
      },
      "source": [
        "Prepare sequences\n",
        "\n",
        "#### NOTE: Takes a long time. Should use pickle but pickle is too large\n",
        "\n",
        "Soln : use h5 file\n"
      ]
    },
    {
      "cell_type": "code",
      "metadata": {
        "id": "8MAKU8yshy0T",
        "colab_type": "code",
        "colab": {}
      },
      "source": [
        "X1train, X2train, ytrain = create_sequences(tokenizer, max_length, train_descriptions, train_features, vocab_size)"
      ],
      "execution_count": 0,
      "outputs": []
    },
    {
      "cell_type": "code",
      "metadata": {
        "id": "kGSEezxVBgK0",
        "colab_type": "code",
        "colab": {}
      },
      "source": [
        "def write_to_h5(data, filename):\n",
        "  \"\"\"\n",
        "  write the data to h5 file\n",
        "  \"\"\"\n",
        "  if filename not in os.listdir():\n",
        "    name_with_ext = filename + '.h5'\n",
        "    data_file = h5py.File(name=name_with_ext, mode='w')\n",
        "    data_file.create_dataset(name=filename, data=data)\n",
        "    data_file.close()"
      ],
      "execution_count": 0,
      "outputs": []
    },
    {
      "cell_type": "code",
      "metadata": {
        "id": "pBogcDYVCMyw",
        "colab_type": "code",
        "colab": {}
      },
      "source": [
        "def read_from_h5(filename):\n",
        "  name_with_ext = filename + '.h5'\n",
        "  data_from_file = h5py.File(name=name_with_ext, mode='r')\n",
        "  return np.array(data_from_file.get(filename))"
      ],
      "execution_count": 0,
      "outputs": []
    },
    {
      "cell_type": "code",
      "metadata": {
        "id": "eWbN2QbzDY6W",
        "colab_type": "code",
        "colab": {}
      },
      "source": [
        "X1train = read_from_h5('X1train')\n",
        "X2train = read_from_h5('X2train')\n",
        "ytrain = read_from_h5('ytrain')"
      ],
      "execution_count": 0,
      "outputs": []
    },
    {
      "cell_type": "code",
      "metadata": {
        "id": "2oz-Q3DaVYSI",
        "colab_type": "code",
        "colab": {
          "base_uri": "https://localhost:8080/",
          "height": 34
        },
        "outputId": "dded783b-6925-45aa-caad-a549fb5607e4"
      },
      "source": [
        "print (X1train.shape, X2train.shape, ytrain.shape)"
      ],
      "execution_count": 25,
      "outputs": [
        {
          "output_type": "stream",
          "text": [
            "(306404, 4096) (306404, 34) (306404, 7579)\n"
          ],
          "name": "stdout"
        }
      ]
    },
    {
      "cell_type": "markdown",
      "metadata": {
        "id": "2CKMWcgxk6go",
        "colab_type": "text"
      },
      "source": [
        "We have loaded the training data in form we need for the model\n"
      ]
    },
    {
      "cell_type": "code",
      "metadata": {
        "id": "2otMlPpOq8to",
        "colab_type": "code",
        "outputId": "5d0c0dc8-0178-4207-9866-543381084dff",
        "colab": {
          "base_uri": "https://localhost:8080/",
          "height": 70
        }
      },
      "source": [
        "# dev dataset\n",
        "\n",
        "# load test set\n",
        "filename = 'Flickr8k_text/Flickr_8k.devImages.txt'\n",
        "\n",
        "test = load_set(filename)\n",
        "print('Dataset: %d' % len(test))\n",
        "# descriptions\n",
        "test_descriptions = load_clean_descriptions('descriptions.txt', test)\n",
        "print('Descriptions: test=%d' % len(test_descriptions))\n",
        "# photo features\n",
        "test_features = load_photo_features('features.pkl', test)\n",
        "print('Photos: test=%d' % len(test_features))\n",
        "# prepare sequences\n",
        "X1test, X2test, ytest = create_sequences(tokenizer, max_length, test_descriptions, test_features, vocab_size)\n"
      ],
      "execution_count": 30,
      "outputs": [
        {
          "output_type": "stream",
          "text": [
            "Dataset: 1000\n",
            "Descriptions: test=1000\n",
            "Photos: test=1000\n"
          ],
          "name": "stdout"
        }
      ]
    },
    {
      "cell_type": "code",
      "metadata": {
        "id": "9het9j2SYfGn",
        "colab_type": "code",
        "colab": {
          "base_uri": "https://localhost:8080/",
          "height": 34
        },
        "outputId": "f4df7edd-e09d-47aa-828c-3833e488c71e"
      },
      "source": [
        "print (X1test.shape, X2test.shape, ytest.shape)"
      ],
      "execution_count": 31,
      "outputs": [
        {
          "output_type": "stream",
          "text": [
            "(50903, 4096) (50903, 34) (50903, 7579)\n"
          ],
          "name": "stdout"
        }
      ]
    },
    {
      "cell_type": "code",
      "metadata": {
        "id": "79xz9-q3Yl1W",
        "colab_type": "code",
        "colab": {}
      },
      "source": [
        "write_to_h5(data=X1test, filename='X1test')\n",
        "write_to_h5(data=X2test, filename='X2test')\n",
        "write_to_h5(data=ytest, filename='ytest')\n"
      ],
      "execution_count": 0,
      "outputs": []
    },
    {
      "cell_type": "markdown",
      "metadata": {
        "id": "Vtj5W1LiZFky",
        "colab_type": "text"
      },
      "source": [
        "Fit the model now"
      ]
    },
    {
      "cell_type": "code",
      "metadata": {
        "id": "RtDtboT1qjK6",
        "colab_type": "code",
        "outputId": "ef1bceae-fc41-4cad-8a11-6d2b263f6a60",
        "colab": {
          "base_uri": "https://localhost:8080/",
          "height": 1000
        }
      },
      "source": [
        "# fit model\n",
        "# define the model\n",
        "model = define_model(vocab_size, max_length)\n",
        "# define checkpoint callback\n",
        "filepath = 'model-ep{epoch:03d}-loss{loss:.3f}-val_loss{val_loss:.3f}.h5'\n",
        "checkpoint = ModelCheckpoint(filepath, monitor='val_loss', verbose=1, save_best_only=True, mode='min')\n",
        "# fit model\n",
        "model.fit([X1train, X2train], ytrain, epochs=6, verbose=2, callbacks=[checkpoint], validation_data=([X1test, X2test], ytest))"
      ],
      "execution_count": 33,
      "outputs": [
        {
          "output_type": "stream",
          "text": [
            "WARNING: Logging before flag parsing goes to stderr.\n",
            "W0728 16:27:16.830635 139953767749504 deprecation_wrapper.py:119] From /usr/local/lib/python3.6/dist-packages/keras/backend/tensorflow_backend.py:74: The name tf.get_default_graph is deprecated. Please use tf.compat.v1.get_default_graph instead.\n",
            "\n",
            "W0728 16:27:16.914789 139953767749504 deprecation_wrapper.py:119] From /usr/local/lib/python3.6/dist-packages/keras/backend/tensorflow_backend.py:517: The name tf.placeholder is deprecated. Please use tf.compat.v1.placeholder instead.\n",
            "\n",
            "W0728 16:27:16.939759 139953767749504 deprecation_wrapper.py:119] From /usr/local/lib/python3.6/dist-packages/keras/backend/tensorflow_backend.py:133: The name tf.placeholder_with_default is deprecated. Please use tf.compat.v1.placeholder_with_default instead.\n",
            "\n",
            "W0728 16:27:16.956721 139953767749504 deprecation.py:506] From /usr/local/lib/python3.6/dist-packages/keras/backend/tensorflow_backend.py:3445: calling dropout (from tensorflow.python.ops.nn_ops) with keep_prob is deprecated and will be removed in a future version.\n",
            "Instructions for updating:\n",
            "Please use `rate` instead of `keep_prob`. Rate should be set to `rate = 1 - keep_prob`.\n",
            "W0728 16:27:16.977098 139953767749504 deprecation_wrapper.py:119] From /usr/local/lib/python3.6/dist-packages/keras/backend/tensorflow_backend.py:4138: The name tf.random_uniform is deprecated. Please use tf.random.uniform instead.\n",
            "\n",
            "W0728 16:27:17.443583 139953767749504 deprecation.py:323] From /usr/local/lib/python3.6/dist-packages/keras/backend/tensorflow_backend.py:2974: add_dispatch_support.<locals>.wrapper (from tensorflow.python.ops.array_ops) is deprecated and will be removed in a future version.\n",
            "Instructions for updating:\n",
            "Use tf.where in 2.0, which has the same broadcast rule as np.where\n",
            "W0728 16:27:17.515553 139953767749504 deprecation_wrapper.py:119] From /usr/local/lib/python3.6/dist-packages/keras/optimizers.py:790: The name tf.train.Optimizer is deprecated. Please use tf.compat.v1.train.Optimizer instead.\n",
            "\n",
            "W0728 16:27:17.544060 139953767749504 deprecation_wrapper.py:119] From /usr/local/lib/python3.6/dist-packages/keras/backend/tensorflow_backend.py:3295: The name tf.log is deprecated. Please use tf.math.log instead.\n",
            "\n"
          ],
          "name": "stderr"
        },
        {
          "output_type": "stream",
          "text": [
            "__________________________________________________________________________________________________\n",
            "Layer (type)                    Output Shape         Param #     Connected to                     \n",
            "==================================================================================================\n",
            "input_2 (InputLayer)            (None, 34)           0                                            \n",
            "__________________________________________________________________________________________________\n",
            "input_1 (InputLayer)            (None, 4096)         0                                            \n",
            "__________________________________________________________________________________________________\n",
            "embedding_1 (Embedding)         (None, 34, 256)      1940224     input_2[0][0]                    \n",
            "__________________________________________________________________________________________________\n",
            "dropout_1 (Dropout)             (None, 4096)         0           input_1[0][0]                    \n",
            "__________________________________________________________________________________________________\n",
            "dropout_2 (Dropout)             (None, 34, 256)      0           embedding_1[0][0]                \n",
            "__________________________________________________________________________________________________\n",
            "dense_1 (Dense)                 (None, 256)          1048832     dropout_1[0][0]                  \n",
            "__________________________________________________________________________________________________\n",
            "lstm_1 (LSTM)                   (None, 256)          525312      dropout_2[0][0]                  \n",
            "__________________________________________________________________________________________________\n",
            "add_1 (Add)                     (None, 256)          0           dense_1[0][0]                    \n",
            "                                                                 lstm_1[0][0]                     \n",
            "__________________________________________________________________________________________________\n",
            "dense_2 (Dense)                 (None, 256)          65792       add_1[0][0]                      \n",
            "__________________________________________________________________________________________________\n",
            "dense_3 (Dense)                 (None, 7579)         1947803     dense_2[0][0]                    \n",
            "==================================================================================================\n",
            "Total params: 5,527,963\n",
            "Trainable params: 5,527,963\n",
            "Non-trainable params: 0\n",
            "__________________________________________________________________________________________________\n",
            "None\n",
            "Train on 306404 samples, validate on 50903 samples\n",
            "Epoch 1/6\n",
            " - 986s - loss: 4.5127 - val_loss: 4.0592\n",
            "\n",
            "Epoch 00001: val_loss improved from inf to 4.05920, saving model to model-ep001-loss4.513-val_loss4.059.h5\n",
            "Epoch 2/6\n",
            " - 981s - loss: 3.8714 - val_loss: 3.9004\n",
            "\n",
            "Epoch 00002: val_loss improved from 4.05920 to 3.90039, saving model to model-ep002-loss3.871-val_loss3.900.h5\n",
            "Epoch 3/6\n",
            " - 979s - loss: 3.6836 - val_loss: 3.8411\n",
            "\n",
            "Epoch 00003: val_loss improved from 3.90039 to 3.84115, saving model to model-ep003-loss3.684-val_loss3.841.h5\n",
            "Epoch 4/6\n",
            " - 976s - loss: 3.5864 - val_loss: 3.8377\n",
            "\n",
            "Epoch 00004: val_loss improved from 3.84115 to 3.83770, saving model to model-ep004-loss3.586-val_loss3.838.h5\n",
            "Epoch 5/6\n",
            " - 973s - loss: 3.5296 - val_loss: 3.8303\n",
            "\n",
            "Epoch 00005: val_loss improved from 3.83770 to 3.83034, saving model to model-ep005-loss3.530-val_loss3.830.h5\n",
            "Epoch 6/6\n",
            " - 977s - loss: 3.4980 - val_loss: 3.8451\n",
            "\n",
            "Epoch 00006: val_loss did not improve from 3.83034\n"
          ],
          "name": "stdout"
        },
        {
          "output_type": "execute_result",
          "data": {
            "text/plain": [
              "<keras.callbacks.History at 0x7f4934223940>"
            ]
          },
          "metadata": {
            "tags": []
          },
          "execution_count": 33
        }
      ]
    },
    {
      "cell_type": "markdown",
      "metadata": {
        "id": "So4rrL8DxWZc",
        "colab_type": "text"
      },
      "source": [
        "### Evaluate Model\n",
        "\n",
        "Once the model is fit, we can evaluate the skill of its predictions on the holdout test dataset.\n",
        "\n",
        "We will evaluate a model by generating descriptions for all photos in the test dataset and evaluating those predictions with a standard cost function.\n",
        "\n",
        "First, we need to be able to generate a description for a photo using a trained model.\n",
        "\n",
        "This involves passing in the start description token ‘startseq‘, generating one word, then calling the model recursively with generated words as input until the end of sequence token is reached ‘endseq‘ or the maximum description length is reached.\n",
        "\n",
        "The function below named generate_desc() implements this behavior and generates a textual description given a trained model, and a given prepared photo as input. It calls the function word_for_id() in order to map an integer prediction back to a word.\n",
        "\n"
      ]
    },
    {
      "cell_type": "code",
      "metadata": {
        "id": "Q_n7Z4lO2dHA",
        "colab_type": "code",
        "outputId": "5b86e568-36e3-49d3-f4a0-e95a280b38c4",
        "colab": {
          "base_uri": "https://localhost:8080/",
          "height": 34
        }
      },
      "source": [
        "tokenizer.texts_to_sequences(['hi', 'dog'])"
      ],
      "execution_count": 34,
      "outputs": [
        {
          "output_type": "execute_result",
          "data": {
            "text/plain": [
              "[[2982], [8]]"
            ]
          },
          "metadata": {
            "tags": []
          },
          "execution_count": 34
        }
      ]
    },
    {
      "cell_type": "code",
      "metadata": {
        "id": "_FtyrC42yDrA",
        "colab_type": "code",
        "colab": {}
      },
      "source": [
        "def word_for_id(integer, tokenizer):\n",
        "  \"\"\"\n",
        "  map an integer to a word\n",
        "  \"\"\"\n",
        "  return tokenizer.index_word.get(integer)"
      ],
      "execution_count": 0,
      "outputs": []
    },
    {
      "cell_type": "code",
      "metadata": {
        "id": "I2wd_uzv3MbT",
        "colab_type": "code",
        "colab": {}
      },
      "source": [
        "def generate_desc(model, tokenizer, photo, max_length):\n",
        "  \"\"\"\n",
        "  generate a description for an image\n",
        "  \"\"\"\n",
        "  \n",
        "  # seed the generation process\n",
        "  in_text = 'startseq'\n",
        "\n",
        "  # iterate over the whole length of the sequence\n",
        "  for i in range(max_length):\n",
        "    # integer encode input sequence\n",
        "    sequence = tokenizer.texts_to_sequences([in_text])[0]\n",
        "    # pad input\n",
        "    sequence = pad_sequences([sequence], maxlen=max_length)\n",
        "\n",
        "    # predict next word\n",
        "    yhat = model.predict([photo,sequence], verbose=0)\n",
        "    # convert probability to integer\n",
        "    yhat = argmax(yhat)\n",
        "    # map integer to word\n",
        "    word = word_for_id(yhat, tokenizer)\n",
        "    # stop if we cannot map the word\n",
        "    if word is None:\n",
        "      break\n",
        "    # append as input for generating the next word\n",
        "    in_text += ' ' + word\n",
        "    # stop if we predict the end of the sequence\n",
        "    if word == 'endseq':\n",
        "      break\n",
        "  return in_text\n"
      ],
      "execution_count": 0,
      "outputs": []
    },
    {
      "cell_type": "markdown",
      "metadata": {
        "id": "yu7U_LDS45M6",
        "colab_type": "text"
      },
      "source": [
        "We will generate predictions for all photos in the test dataset and in the train dataset.\n",
        "\n",
        "The function below named evaluate_model() will evaluate a trained model against a given dataset of photo descriptions and photo features. The actual and predicted descriptions are collected and evaluated collectively using the corpus BLEU score that summarizes how close the generated text is to the expected text."
      ]
    },
    {
      "cell_type": "code",
      "metadata": {
        "id": "P2FT_aCq456-",
        "colab_type": "code",
        "colab": {}
      },
      "source": [
        "from nltk.translate.bleu_score import corpus_bleu\n",
        "\n",
        "def evaluate_model(model, descriptions, photos, tokenizer, max_length):\n",
        "\tactual, predicted = list(), list()\n",
        "\t# step over the whole set\n",
        "\tfor key, desc_list in descriptions.items():\n",
        "\t\t# generate description\n",
        "\t\tyhat = generate_desc(model, tokenizer, photos[key], max_length)\n",
        "\t\t# store actual and predicted\n",
        "\t\treferences = [d.split() for d in desc_list]\n",
        "\t\tactual.append(references)\n",
        "\t\tpredicted.append(yhat.split())\n",
        "\t# calculate BLEU score\n",
        "\tprint('BLEU-1: %f' % corpus_bleu(actual, predicted, weights=(1.0, 0, 0, 0)))\n",
        "\tprint('BLEU-2: %f' % corpus_bleu(actual, predicted, weights=(0.5, 0.5, 0, 0)))\n",
        "\tprint('BLEU-3: %f' % corpus_bleu(actual, predicted, weights=(0.3, 0.3, 0.3, 0)))\n",
        "\tprint('BLEU-4: %f' % corpus_bleu(actual, predicted, weights=(0.25, 0.25, 0.25, 0.25)))"
      ],
      "execution_count": 0,
      "outputs": []
    },
    {
      "cell_type": "markdown",
      "metadata": {
        "id": "CiiJguv75lGd",
        "colab_type": "text"
      },
      "source": [
        "BLEU scores are used in text translation for evaluating translated text against one or more reference translations.\n",
        "\n",
        "Here, we compare each generated description against all of the reference descriptions for the photograph. We then calculate BLEU scores for 1, 2, 3 and 4 cumulative n-grams.\n",
        "\n",
        "You can learn more about the BLEU score here:\n",
        "\n",
        "A Gentle Introduction to Calculating the BLEU Score for Text in Python\n",
        "The NLTK Python library implements the BLEU score calculation in the corpus_bleu() function. A higher score close to 1.0 is better, a score closer to zero is worse.\n",
        "\n",
        "We can put all of this together with the functions from the previous section for loading the data. We first need to load the training dataset in order to prepare a Tokenizer so that we can encode generated words as input sequences for the model. It is critical that we encode the generated words using exactly the same encoding scheme as was used when training the model.\n",
        "\n",
        "We then use these functions for loading the test dataset.\n",
        "\n",
        "The complete example is listed below."
      ]
    },
    {
      "cell_type": "code",
      "metadata": {
        "id": "y7uR4sHL5hyW",
        "colab_type": "code",
        "outputId": "dee90e8d-5daf-494f-d438-b4f9c0744eda",
        "colab": {
          "base_uri": "https://localhost:8080/",
          "height": 212
        }
      },
      "source": [
        "from numpy import argmax\n",
        "from pickle import load\n",
        "from keras.preprocessing.text import Tokenizer\n",
        "from keras.preprocessing.sequence import pad_sequences\n",
        "from keras.models import load_model\n",
        "from nltk.translate.bleu_score import corpus_bleu\n",
        "# prepare tokenizer on train set\n",
        "\n",
        "# load training dataset (6K)\n",
        "filename = 'Flickr8k_text/Flickr_8k.trainImages.txt'\n",
        "train = load_set(filename)\n",
        "print('Dataset: %d' % len(train))\n",
        "# descriptions\n",
        "train_descriptions = load_clean_descriptions('descriptions.txt', train)\n",
        "print('Descriptions: train=%d' % len(train_descriptions))\n",
        "# prepare tokenizer\n",
        "tokenizer = create_tokenizer(train_descriptions)\n",
        "vocab_size = len(tokenizer.word_index) + 1\n",
        "print('Vocabulary Size: %d' % vocab_size)\n",
        "# determine the maximum sequence length\n",
        "max_length = compute_max_length(train_descriptions)\n",
        "print('Description Length: %d' % max_length)\n",
        "\n",
        "# prepare test set\n",
        "\n",
        "# load test set\n",
        "filename = 'Flickr8k_text/Flickr_8k.testImages.txt'\n",
        "test = load_set(filename)\n",
        "print('Dataset: %d' % len(test))\n",
        "# descriptions\n",
        "test_descriptions = load_clean_descriptions('descriptions.txt', test)\n",
        "print('Descriptions: test=%d' % len(test_descriptions))\n",
        "# photo features\n",
        "test_features = load_photo_features('features.pkl', test)\n",
        "print('Photos: test=%d' % len(test_features))\n",
        "\n",
        "# load the model\n",
        "filename = 'model-ep003-loss3.680-val_loss3.838.h5'\n",
        "model = load_model(filename)\n",
        "# evaluate model\n",
        "evaluate_model(model, test_descriptions, test_features, tokenizer, max_length)"
      ],
      "execution_count": 0,
      "outputs": [
        {
          "output_type": "stream",
          "text": [
            "Dataset: 6000\n",
            "Descriptions: train=6000\n",
            "Vocabulary Size: 7579\n",
            "Description Length: 34\n",
            "Dataset: 1000\n",
            "Descriptions: test=1000\n",
            "Photos: test=1000\n",
            "BLEU-1: 0.516892\n",
            "BLEU-2: 0.268575\n",
            "BLEU-3: 0.181900\n",
            "BLEU-4: 0.082526\n"
          ],
          "name": "stdout"
        }
      ]
    }
  ]
}