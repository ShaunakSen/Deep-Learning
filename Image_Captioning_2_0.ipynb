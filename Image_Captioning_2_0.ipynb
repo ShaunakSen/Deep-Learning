{
  "nbformat": 4,
  "nbformat_minor": 0,
  "metadata": {
    "colab": {
      "name": "Image Captioning 2.0.ipynb",
      "version": "0.3.2",
      "provenance": [],
      "collapsed_sections": [],
      "toc_visible": true,
      "machine_shape": "hm",
      "include_colab_link": true
    },
    "kernelspec": {
      "name": "python3",
      "display_name": "Python 3"
    },
    "accelerator": "GPU"
  },
  "cells": [
    {
      "cell_type": "markdown",
      "metadata": {
        "id": "view-in-github",
        "colab_type": "text"
      },
      "source": [
        "<a href=\"https://colab.research.google.com/github/ShaunakSen/Deep-Learning/blob/master/Image_Captioning_2_0.ipynb\" target=\"_parent\"><img src=\"https://colab.research.google.com/assets/colab-badge.svg\" alt=\"Open In Colab\"/></a>"
      ]
    },
    {
      "cell_type": "markdown",
      "metadata": {
        "id": "u0fO308zAjpQ",
        "colab_type": "text"
      },
      "source": [
        "## How to Develop a Deep Learning Photo Caption Generator from Scratch\n",
        "\n",
        "[link](https://machinelearningmastery.com/develop-a-deep-learning-caption-generation-model-in-python/)\n",
        "\n",
        "### Download and extract the dataset"
      ]
    },
    {
      "cell_type": "code",
      "metadata": {
        "id": "2DElNKfBmQ3n",
        "colab_type": "code",
        "colab": {}
      },
      "source": [
        "# import all libraries here\n",
        "from urllib.request import urlopen\n",
        "from zipfile import ZipFile\n",
        "import os\n",
        "import numpy as np\n",
        "\n",
        "\n",
        "import pickle\n",
        "from keras.applications.vgg16 import VGG16\n",
        "from keras.preprocessing.image import load_img\n",
        "from keras.preprocessing.image import img_to_array\n",
        "from keras.applications.vgg16 import preprocess_input\n",
        "from keras.models import Model"
      ],
      "execution_count": 0,
      "outputs": []
    },
    {
      "cell_type": "code",
      "metadata": {
        "id": "9jXy2U6ZmZkp",
        "colab_type": "code",
        "outputId": "b89d87db-8df9-4515-bea6-c1e36829ab44",
        "colab": {
          "base_uri": "https://localhost:8080/",
          "height": 34
        }
      },
      "source": [
        "os.listdir('/content/')"
      ],
      "execution_count": 0,
      "outputs": [
        {
          "output_type": "execute_result",
          "data": {
            "text/plain": [
              "['.config', 'Flickr8k_text', 'Flickr8k_Dataset', 'sample_data']"
            ]
          },
          "metadata": {
            "tags": []
          },
          "execution_count": 17
        }
      ]
    },
    {
      "cell_type": "code",
      "metadata": {
        "id": "NAf2TVTe0UCK",
        "colab_type": "code",
        "colab": {}
      },
      "source": [
        "# check if zip file is not present in the tmp directory, else download\n",
        "\n",
        "if 'Flickr8k_Dataset.zip' not in os.listdir('/tmp'):\n",
        "\n",
        "  zipurl = 'https://github.com/jbrownlee/Datasets/releases/download/Flickr8k/Flickr8k_Dataset.zip'\n",
        "      # Download the file from the URL\n",
        "  zipresp = urlopen(zipurl)\n",
        "      # Create a new file on the hard drive\n",
        "  tempzip = open(\"/tmp/Flickr8k_Dataset.zip\", \"wb\")\n",
        "      # Write the contents of the downloaded file into the new file\n",
        "  tempzip.write(zipresp.read())\n",
        "      # Close the newly-created file\n",
        "  tempzip.close()\n"
      ],
      "execution_count": 0,
      "outputs": []
    },
    {
      "cell_type": "code",
      "metadata": {
        "id": "1EBlcE9wSUxq",
        "colab_type": "code",
        "colab": {}
      },
      "source": [
        "if 'Flickr8k_text.zip' not in os.listdir('/tmp'):\n",
        "\n",
        "  zipurl = 'https://github.com/jbrownlee/Datasets/releases/download/Flickr8k/Flickr8k_text.zip'\n",
        "      # Download the file from the URL\n",
        "  zipresp = urlopen(zipurl)\n",
        "      # Create a new file on the hard drive\n",
        "  tempzip = open(\"/tmp/Flickr8k_text.zip\", \"wb\")\n",
        "      # Write the contents of the downloaded file into the new file\n",
        "  tempzip.write(zipresp.read())\n",
        "      # Close the newly-created file\n",
        "  tempzip.close()\n"
      ],
      "execution_count": 0,
      "outputs": []
    },
    {
      "cell_type": "code",
      "metadata": {
        "id": "q9M6L9MO1GZ1",
        "colab_type": "code",
        "colab": {}
      },
      "source": [
        "if 'Flickr8k_Dataset' not in os.listdir('/content/'):\n",
        "\n",
        "  # Re-open the newly-created file with ZipFile()\n",
        "  zf = ZipFile(\"/tmp/Flickr8k_Dataset.zip\")\n",
        "      # Extract its contents into <extraction_path>\n",
        "      # note that extractall will automatically create the path\n",
        "  zf.extractall(path = './Flickr8k_Dataset')\n",
        "      # close the ZipFile instance\n",
        "  zf.close()"
      ],
      "execution_count": 0,
      "outputs": []
    },
    {
      "cell_type": "code",
      "metadata": {
        "id": "kiZlE1qV2bQ-",
        "colab_type": "code",
        "colab": {}
      },
      "source": [
        "if 'Flickr8k_text' not in os.listdir('/content/'):\n",
        "\n",
        "  # Re-open the newly-created file with ZipFile()\n",
        "  zf = ZipFile(\"/tmp/Flickr8k_text.zip\")\n",
        "      # Extract its contents into <extraction_path>\n",
        "      # note that extractall will automatically create the path\n",
        "  zf.extractall(path = './Flickr8k_text')\n",
        "      # close the ZipFile instance\n",
        "  zf.close()"
      ],
      "execution_count": 0,
      "outputs": []
    },
    {
      "cell_type": "markdown",
      "metadata": {
        "id": "Y5uxrkRyBN0F",
        "colab_type": "text"
      },
      "source": [
        "The dataset is present in the following locations:\n",
        "\n",
        "1. Flickr8k_Dataset\n",
        "2. Flickr8k_text\n",
        "\n",
        "The dataset has a pre-defined training dataset (6,000 images), development dataset (1,000 images), and test dataset (1,000 images).\n",
        "\n",
        "One measure that can be used to evaluate the skill of the model are BLEU scores.\n",
        "\n",
        "- BLEU-1: 0.401 to 0.578.\n",
        "- BLEU-2: 0.176 to 0.390.\n",
        "- BLEU-3: 0.099 to 0.260.\n",
        "- BLEU-4: 0.059 to 0.170.\n",
        "\n",
        "We describe the BLEU metric more later when we work on evaluating our model.\n",
        "\n",
        "Next, let’s look at how to load the images.\n",
        "\n",
        "### Prepare Photo Data\n",
        "\n",
        "We will use a pre-trained model to interpret the content of the photos.\n",
        "\n",
        "There are many models to choose from. In this case, we will use the Oxford Visual Geometry Group, or VGG, model that won the ImageNet competition in 2014. Learn more about the model here:\n",
        "\n",
        "[](http://www.robots.ox.ac.uk/~vgg/research/very_deep/)\n",
        "\n",
        "Keras provides this pre-trained model directly. Note, the first time you use this model, Keras will download the model weights from the Internet, which are about 500 Megabytes. This may take a few minutes depending on your internet connection.\n",
        "\n",
        "\n",
        "We could use this model as part of a broader image caption model. The problem is, it is a large model and running each photo through the network every time we want to test a new language model configuration (downstream) is redundant.\n",
        "\n",
        "Instead, we can pre-compute the “photo features” using the pre-trained model and save them to file. We can then load these features later and feed them into our model as the interpretation of a given photo in the dataset. It is no different to running the photo through the full VGG model; it is just we will have done it once in advance.\n",
        "\n",
        "This is an optimization that will make training our models faster and consume less memory.\n",
        "\n",
        "We can load the VGG model in Keras using the VGG class. We will remove the last layer from the loaded model, as this is the model used to predict a classification for a photo. We are not interested in classifying images, but we are interested in the internal representation of the photo right before a classification is made. These are the “features” that the model has extracted from the photo.\n",
        "\n",
        "Keras also provides tools for reshaping the loaded photo into the preferred size for the model (e.g. 3 channel 224 x 224 pixel image).\n",
        "\n",
        "Below is a function named extract_features() that, given a directory name, will load each photo, prepare it for VGG, and collect the predicted features from the VGG model. The image features are a 1-dimensional 4,096 element vector.\n",
        "\n",
        "The function returns a dictionary of image identifier to image features."
      ]
    },
    {
      "cell_type": "markdown",
      "metadata": {
        "id": "9-08Ac3pODQK",
        "colab_type": "text"
      },
      "source": [
        "We can call this function to prepare the photo data for testing our models, then save the resulting dictionary to a file named ‘features.pkl‘."
      ]
    },
    {
      "cell_type": "code",
      "metadata": {
        "id": "PuAJ1orcOVrW",
        "colab_type": "code",
        "outputId": "3c74a687-c393-4c6a-8456-6527f814b4b6",
        "colab": {
          "base_uri": "https://localhost:8080/",
          "height": 1000
        }
      },
      "source": [
        "model=VGG16()\n",
        "\n",
        "model.summary()"
      ],
      "execution_count": 0,
      "outputs": [
        {
          "output_type": "stream",
          "text": [
            "WARNING: Logging before flag parsing goes to stderr.\n",
            "W0727 14:30:48.842880 140029333878656 deprecation_wrapper.py:119] From /usr/local/lib/python3.6/dist-packages/keras/backend/tensorflow_backend.py:74: The name tf.get_default_graph is deprecated. Please use tf.compat.v1.get_default_graph instead.\n",
            "\n",
            "W0727 14:30:48.899167 140029333878656 deprecation_wrapper.py:119] From /usr/local/lib/python3.6/dist-packages/keras/backend/tensorflow_backend.py:517: The name tf.placeholder is deprecated. Please use tf.compat.v1.placeholder instead.\n",
            "\n",
            "W0727 14:30:48.906242 140029333878656 deprecation_wrapper.py:119] From /usr/local/lib/python3.6/dist-packages/keras/backend/tensorflow_backend.py:4138: The name tf.random_uniform is deprecated. Please use tf.random.uniform instead.\n",
            "\n",
            "W0727 14:30:48.954904 140029333878656 deprecation_wrapper.py:119] From /usr/local/lib/python3.6/dist-packages/keras/backend/tensorflow_backend.py:3976: The name tf.nn.max_pool is deprecated. Please use tf.nn.max_pool2d instead.\n",
            "\n"
          ],
          "name": "stderr"
        },
        {
          "output_type": "stream",
          "text": [
            "Downloading data from https://github.com/fchollet/deep-learning-models/releases/download/v0.1/vgg16_weights_tf_dim_ordering_tf_kernels.h5\n",
            "553467904/553467096 [==============================] - 10s 0us/step\n"
          ],
          "name": "stdout"
        },
        {
          "output_type": "stream",
          "text": [
            "W0727 14:30:59.426953 140029333878656 deprecation_wrapper.py:119] From /usr/local/lib/python3.6/dist-packages/keras/backend/tensorflow_backend.py:174: The name tf.get_default_session is deprecated. Please use tf.compat.v1.get_default_session instead.\n",
            "\n",
            "W0727 14:30:59.428739 140029333878656 deprecation_wrapper.py:119] From /usr/local/lib/python3.6/dist-packages/keras/backend/tensorflow_backend.py:181: The name tf.ConfigProto is deprecated. Please use tf.compat.v1.ConfigProto instead.\n",
            "\n"
          ],
          "name": "stderr"
        },
        {
          "output_type": "stream",
          "text": [
            "_________________________________________________________________\n",
            "Layer (type)                 Output Shape              Param #   \n",
            "=================================================================\n",
            "input_1 (InputLayer)         (None, 224, 224, 3)       0         \n",
            "_________________________________________________________________\n",
            "block1_conv1 (Conv2D)        (None, 224, 224, 64)      1792      \n",
            "_________________________________________________________________\n",
            "block1_conv2 (Conv2D)        (None, 224, 224, 64)      36928     \n",
            "_________________________________________________________________\n",
            "block1_pool (MaxPooling2D)   (None, 112, 112, 64)      0         \n",
            "_________________________________________________________________\n",
            "block2_conv1 (Conv2D)        (None, 112, 112, 128)     73856     \n",
            "_________________________________________________________________\n",
            "block2_conv2 (Conv2D)        (None, 112, 112, 128)     147584    \n",
            "_________________________________________________________________\n",
            "block2_pool (MaxPooling2D)   (None, 56, 56, 128)       0         \n",
            "_________________________________________________________________\n",
            "block3_conv1 (Conv2D)        (None, 56, 56, 256)       295168    \n",
            "_________________________________________________________________\n",
            "block3_conv2 (Conv2D)        (None, 56, 56, 256)       590080    \n",
            "_________________________________________________________________\n",
            "block3_conv3 (Conv2D)        (None, 56, 56, 256)       590080    \n",
            "_________________________________________________________________\n",
            "block3_pool (MaxPooling2D)   (None, 28, 28, 256)       0         \n",
            "_________________________________________________________________\n",
            "block4_conv1 (Conv2D)        (None, 28, 28, 512)       1180160   \n",
            "_________________________________________________________________\n",
            "block4_conv2 (Conv2D)        (None, 28, 28, 512)       2359808   \n",
            "_________________________________________________________________\n",
            "block4_conv3 (Conv2D)        (None, 28, 28, 512)       2359808   \n",
            "_________________________________________________________________\n",
            "block4_pool (MaxPooling2D)   (None, 14, 14, 512)       0         \n",
            "_________________________________________________________________\n",
            "block5_conv1 (Conv2D)        (None, 14, 14, 512)       2359808   \n",
            "_________________________________________________________________\n",
            "block5_conv2 (Conv2D)        (None, 14, 14, 512)       2359808   \n",
            "_________________________________________________________________\n",
            "block5_conv3 (Conv2D)        (None, 14, 14, 512)       2359808   \n",
            "_________________________________________________________________\n",
            "block5_pool (MaxPooling2D)   (None, 7, 7, 512)         0         \n",
            "_________________________________________________________________\n",
            "flatten (Flatten)            (None, 25088)             0         \n",
            "_________________________________________________________________\n",
            "fc1 (Dense)                  (None, 4096)              102764544 \n",
            "_________________________________________________________________\n",
            "fc2 (Dense)                  (None, 4096)              16781312  \n",
            "_________________________________________________________________\n",
            "predictions (Dense)          (None, 1000)              4097000   \n",
            "=================================================================\n",
            "Total params: 138,357,544\n",
            "Trainable params: 138,357,544\n",
            "Non-trainable params: 0\n",
            "_________________________________________________________________\n"
          ],
          "name": "stdout"
        }
      ]
    },
    {
      "cell_type": "code",
      "metadata": {
        "id": "EUnTc8C5Km9Q",
        "colab_type": "code",
        "outputId": "c87d7e7b-cfd9-4946-8cc0-89351c91b970",
        "colab": {
          "base_uri": "https://localhost:8080/",
          "height": 34
        }
      },
      "source": [
        "print (\"No of images:\", len(os.listdir(path='./Flickr8k_Dataset/Flicker8k_Dataset/')))"
      ],
      "execution_count": 0,
      "outputs": [
        {
          "output_type": "stream",
          "text": [
            "No of images: 8091\n"
          ],
          "name": "stdout"
        }
      ]
    },
    {
      "cell_type": "code",
      "metadata": {
        "id": "vligLZzVOD8G",
        "colab_type": "code",
        "outputId": "5026fbad-84f3-47d5-a3da-8c6246a37408",
        "colab": {
          "base_uri": "https://localhost:8080/",
          "height": 958
        }
      },
      "source": [
        "def extract_features(directory):\n",
        "  \"\"\"\n",
        "  extract features from each photo in the directory\n",
        "  \"\"\"\n",
        "  \n",
        "  # load the model\n",
        "  model = VGG16()\n",
        "  \n",
        "  # restructure the model\n",
        "  model.layers.pop()\n",
        "  model = Model(inputs=model.inputs, outputs=model.layers[-1].output)\n",
        "  \n",
        "  # summarize\n",
        "  print (model.summary())\n",
        "  \n",
        "  \n",
        "  # extract features from each photo\n",
        "  features = dict()\n",
        "  \n",
        "  # Return a list containing the names of the files in the directory.\n",
        "  for name in os.listdir(path=directory):\n",
        "    \n",
        "    # load an image from file\n",
        "    filename = directory + '/' + name\n",
        "    image = load_img(path=filename, target_size=(224,224))\n",
        "    \n",
        "    # convert the image pixels to a numpy array\n",
        "    image = img_to_array(img=image)\n",
        "    \n",
        "    # reshape data for the model\n",
        "    # The network expects one or more images as input; \n",
        "    # that means the input array will need to be 4-dimensional: \n",
        "    # [samples, rows, columns, and channels]\n",
        "    image = image.reshape((1, image.shape[0], image.shape[1], image.shape[2]))\n",
        "    \n",
        "    # prepare the image for the VGG model\n",
        "    image = preprocess_input(image)\n",
        "    \n",
        "    # get features\n",
        "    feature = model.predict(x=image, verbose=0)\n",
        "    \n",
        "    # get image id\n",
        "    image_id = name.split('.')[0]\n",
        "    \n",
        "    # store feature in the dict\n",
        "    features[image_id] = feature\n",
        "    \n",
        "    \n",
        "    \n",
        "  return features\n",
        "  \n",
        "directory = './Flickr8k_Dataset/Flicker8k_Dataset/'\n",
        "\n",
        "features = extract_features(directory)\n",
        "print('Extracted Features: %d' % len(features))"
      ],
      "execution_count": 0,
      "outputs": [
        {
          "output_type": "stream",
          "text": [
            "_________________________________________________________________\n",
            "Layer (type)                 Output Shape              Param #   \n",
            "=================================================================\n",
            "input_3 (InputLayer)         (None, 224, 224, 3)       0         \n",
            "_________________________________________________________________\n",
            "block1_conv1 (Conv2D)        (None, 224, 224, 64)      1792      \n",
            "_________________________________________________________________\n",
            "block1_conv2 (Conv2D)        (None, 224, 224, 64)      36928     \n",
            "_________________________________________________________________\n",
            "block1_pool (MaxPooling2D)   (None, 112, 112, 64)      0         \n",
            "_________________________________________________________________\n",
            "block2_conv1 (Conv2D)        (None, 112, 112, 128)     73856     \n",
            "_________________________________________________________________\n",
            "block2_conv2 (Conv2D)        (None, 112, 112, 128)     147584    \n",
            "_________________________________________________________________\n",
            "block2_pool (MaxPooling2D)   (None, 56, 56, 128)       0         \n",
            "_________________________________________________________________\n",
            "block3_conv1 (Conv2D)        (None, 56, 56, 256)       295168    \n",
            "_________________________________________________________________\n",
            "block3_conv2 (Conv2D)        (None, 56, 56, 256)       590080    \n",
            "_________________________________________________________________\n",
            "block3_conv3 (Conv2D)        (None, 56, 56, 256)       590080    \n",
            "_________________________________________________________________\n",
            "block3_pool (MaxPooling2D)   (None, 28, 28, 256)       0         \n",
            "_________________________________________________________________\n",
            "block4_conv1 (Conv2D)        (None, 28, 28, 512)       1180160   \n",
            "_________________________________________________________________\n",
            "block4_conv2 (Conv2D)        (None, 28, 28, 512)       2359808   \n",
            "_________________________________________________________________\n",
            "block4_conv3 (Conv2D)        (None, 28, 28, 512)       2359808   \n",
            "_________________________________________________________________\n",
            "block4_pool (MaxPooling2D)   (None, 14, 14, 512)       0         \n",
            "_________________________________________________________________\n",
            "block5_conv1 (Conv2D)        (None, 14, 14, 512)       2359808   \n",
            "_________________________________________________________________\n",
            "block5_conv2 (Conv2D)        (None, 14, 14, 512)       2359808   \n",
            "_________________________________________________________________\n",
            "block5_conv3 (Conv2D)        (None, 14, 14, 512)       2359808   \n",
            "_________________________________________________________________\n",
            "block5_pool (MaxPooling2D)   (None, 7, 7, 512)         0         \n",
            "_________________________________________________________________\n",
            "flatten (Flatten)            (None, 25088)             0         \n",
            "_________________________________________________________________\n",
            "fc1 (Dense)                  (None, 4096)              102764544 \n",
            "_________________________________________________________________\n",
            "fc2 (Dense)                  (None, 4096)              16781312  \n",
            "=================================================================\n",
            "Total params: 134,260,544\n",
            "Trainable params: 134,260,544\n",
            "Non-trainable params: 0\n",
            "_________________________________________________________________\n",
            "None\n",
            "Extracted Features: 8091\n"
          ],
          "name": "stdout"
        }
      ]
    },
    {
      "cell_type": "markdown",
      "metadata": {
        "id": "Ifmg4UZ3FgKX",
        "colab_type": "text"
      },
      "source": [
        "For each image now we have the features (4096) from the VGG16 model"
      ]
    },
    {
      "cell_type": "code",
      "metadata": {
        "id": "7Ahwi8zMFW32",
        "colab_type": "code",
        "outputId": "e11bf31b-ea9d-4e5e-d193-7b109b948ffa",
        "colab": {
          "base_uri": "https://localhost:8080/",
          "height": 34
        }
      },
      "source": [
        "features['221973402_ecb1cd51f1'].shape"
      ],
      "execution_count": 0,
      "outputs": [
        {
          "output_type": "execute_result",
          "data": {
            "text/plain": [
              "(1, 4096)"
            ]
          },
          "metadata": {
            "tags": []
          },
          "execution_count": 25
        }
      ]
    },
    {
      "cell_type": "code",
      "metadata": {
        "id": "iqBzjhqfNobD",
        "colab_type": "code",
        "colab": {}
      },
      "source": [
        "# save to file\n",
        "pickle.dump(features, open('features.pkl', 'wb'))"
      ],
      "execution_count": 0,
      "outputs": []
    },
    {
      "cell_type": "code",
      "metadata": {
        "id": "gL5ZVdtd5JiV",
        "colab_type": "code",
        "colab": {}
      },
      "source": [
        "# delete from memory to free up some RAM\n",
        "\n",
        "del features"
      ],
      "execution_count": 0,
      "outputs": []
    },
    {
      "cell_type": "markdown",
      "metadata": {
        "id": "mPe9vLNdP8bx",
        "colab_type": "text"
      },
      "source": [
        "### Prepare Text Data\n",
        "\n",
        "The dataset contains multiple descriptions for each photograph and the text of the descriptions requires some minimal cleaning.\n",
        "\n",
        "\n",
        "First, we will load the file containing all of the descriptions.\n",
        "\n"
      ]
    },
    {
      "cell_type": "code",
      "metadata": {
        "id": "V7WNvEKDPZRW",
        "colab_type": "code",
        "colab": {}
      },
      "source": [
        "# load the doc into memory\n",
        "def load_doc(filename):\n",
        "  # open the file as read only\n",
        "  file = open(file=filename, mode='r')\n",
        "  # read all text\n",
        "  text = file.read()\n",
        "  # close the file\n",
        "  file.close()\n",
        "  return text\n",
        "\n",
        "filename = './Flickr8k_text/Flickr8k.token.txt'\n",
        "\n",
        "doc = load_doc(filename)"
      ],
      "execution_count": 0,
      "outputs": []
    },
    {
      "cell_type": "code",
      "metadata": {
        "id": "IDgNvDEJRA5p",
        "colab_type": "code",
        "outputId": "ab349238-18ba-46d9-d586-6d4a0e5d9956",
        "colab": {
          "base_uri": "https://localhost:8080/",
          "height": 34
        }
      },
      "source": [
        "print (doc[:100])"
      ],
      "execution_count": 31,
      "outputs": [
        {
          "output_type": "stream",
          "text": [
            "1000268201_693b08cb0e.jpg#0\tA child in a pink dress is climbing up a set of stairs in an entry way .\n"
          ],
          "name": "stdout"
        }
      ]
    },
    {
      "cell_type": "markdown",
      "metadata": {
        "id": "tBlmk8dCUESI",
        "colab_type": "text"
      },
      "source": [
        "Each photo has a unique identifier. This identifier is used on the photo filename and in the text file of descriptions.\n",
        "\n",
        "Next, we will step through the list of photo descriptions. Below defines a function load_descriptions() that, given the loaded document text, will return a dictionary of photo identifiers to descriptions. Each photo identifier maps to a list of one or more textual descriptions."
      ]
    },
    {
      "cell_type": "code",
      "metadata": {
        "id": "cGCTG6w3Ud8p",
        "colab_type": "code",
        "colab": {
          "base_uri": "https://localhost:8080/",
          "height": 336
        },
        "outputId": "59e7e0f6-89e4-4763-f9ee-734980a987f6"
      },
      "source": [
        "doc.split(\"\\n\")[:10][0].split()[1:]"
      ],
      "execution_count": 33,
      "outputs": [
        {
          "output_type": "execute_result",
          "data": {
            "text/plain": [
              "['A',\n",
              " 'child',\n",
              " 'in',\n",
              " 'a',\n",
              " 'pink',\n",
              " 'dress',\n",
              " 'is',\n",
              " 'climbing',\n",
              " 'up',\n",
              " 'a',\n",
              " 'set',\n",
              " 'of',\n",
              " 'stairs',\n",
              " 'in',\n",
              " 'an',\n",
              " 'entry',\n",
              " 'way',\n",
              " '.']"
            ]
          },
          "metadata": {
            "tags": []
          },
          "execution_count": 33
        }
      ]
    },
    {
      "cell_type": "code",
      "metadata": {
        "id": "sZHnyck-UFRQ",
        "colab_type": "code",
        "colab": {}
      },
      "source": [
        "# extract descriptions for images\n",
        "def load_descriptions(doc):\n",
        "  mapping=dict()\n",
        "\n",
        "  # process line by line\n",
        "  for line in doc.split(\"\\n\"):\n",
        "    # split line by white space\n",
        "    tokens = line.split()\n",
        "    # check min length\n",
        "    if len(line) < 2:\n",
        "      continue\n",
        "    # take the first token as the image id, the rest as the description\n",
        "    image_id, image_desc = tokens[0], tokens[1:]\n",
        "\n",
        "    # remove filename from image id\n",
        "    image_id = image_id.split('.')[0]\n",
        "\n",
        "    # convert description tokens back to string\n",
        "    image_desc = ' '.join(image_desc)\n",
        "\n",
        "    # create an emty list for a new image_id\n",
        "    if image_id not in mapping:\n",
        "      mapping[image_id] = list()\n",
        "\n",
        "    # append desc for the corr image_id\n",
        "\n",
        "    mapping[image_id].append(image_desc)\n",
        "\n",
        "  return mapping\n",
        "\n",
        "# parse descriptions\n",
        "descriptions = load_descriptions(doc)\n",
        "  "
      ],
      "execution_count": 0,
      "outputs": []
    },
    {
      "cell_type": "code",
      "metadata": {
        "id": "dnt6rJA18LXu",
        "colab_type": "code",
        "colab": {}
      },
      "source": [
        "descriptions"
      ],
      "execution_count": 0,
      "outputs": []
    },
    {
      "cell_type": "markdown",
      "metadata": {
        "id": "5xXUZcWoGFom",
        "colab_type": "text"
      },
      "source": [
        "`descriptions` is similar to `features`. Here we have the file names as keys and the captions as an array of values"
      ]
    },
    {
      "cell_type": "markdown",
      "metadata": {
        "id": "eYphEf7dpbWg",
        "colab_type": "text"
      },
      "source": [
        "Next, we need to clean the description text. The descriptions are already tokenized and easy to work with.\n",
        "\n",
        "We will clean the text in the following ways in order to reduce the size of the vocabulary of words we will need to work with:\n",
        "\n",
        "- Convert all words to lowercase.\n",
        "- Remove all punctuation.\n",
        "- Remove all words that are one character or less in length (e.g. ‘a’).\n",
        "- Remove all words with numbers in them.\n",
        "\n",
        "Below defines the clean_descriptions() function that, given the dictionary of image identifiers to descriptions, steps through each description and cleans the text.\n",
        "\n"
      ]
    },
    {
      "cell_type": "code",
      "metadata": {
        "id": "AVfPhvKkZXbX",
        "colab_type": "code",
        "colab": {}
      },
      "source": [
        "import string\n",
        "\n",
        "def clean_descriptions(descriptions):\n",
        "  # prepare translation table for removing punctuation\n",
        "  table = str.maketrans('', '', string.punctuation)\n",
        "  \n",
        "  for key, desc_list in descriptions.items():\n",
        "    # for each desc of an image:\n",
        "    for i in range(len(desc_list)):\n",
        "      desc = desc_list[i]\n",
        "\n",
        "      # tokenize\n",
        "      desc = desc.split()\n",
        "\n",
        "      # convert to lowercase\n",
        "      desc = [word.lower() for word in desc]\n",
        "\n",
        "      # remove punctuation from each token\n",
        "      desc = [w.translate(table) for w in desc]\n",
        "\n",
        "      # remove hanging 's' and 'a'\n",
        "      desc = [word for word in desc if len(word)>1]\n",
        "\n",
        "      # remove tokens with numbers in them\n",
        "      desc = [word for word in desc if word.isalpha()]\n",
        "\n",
        "      # replace it in that index position\n",
        "      desc_list[i] = ' '.join(desc)\n",
        "\n",
        "\n",
        "# clean descriptions\n",
        "clean_descriptions(descriptions)\n",
        "      "
      ],
      "execution_count": 0,
      "outputs": []
    },
    {
      "cell_type": "code",
      "metadata": {
        "id": "iQhqHfNjGVfP",
        "colab_type": "code",
        "colab": {
          "base_uri": "https://localhost:8080/",
          "height": 105
        },
        "outputId": "bef044a2-91b1-4757-b9cd-e43b32fd4d81"
      },
      "source": [
        "descriptions['221973402_ecb1cd51f1']"
      ],
      "execution_count": 50,
      "outputs": [
        {
          "output_type": "execute_result",
          "data": {
            "text/plain": [
              "['black dog chases boy wearing red and blue',\n",
              " 'boy plays with dog and frisbee',\n",
              " 'dog with frisbee in its mouth chasing boy in field',\n",
              " 'red shirted boy and black dog with frisbee run in the green grass',\n",
              " 'the small boy is running in front of black dog with frisbee in its mouth']"
            ]
          },
          "metadata": {
            "tags": []
          },
          "execution_count": 50
        }
      ]
    },
    {
      "cell_type": "markdown",
      "metadata": {
        "id": "w0O6qqTC23LX",
        "colab_type": "text"
      },
      "source": [
        "Once cleaned, we can summarize the size of the vocabulary.\n",
        "\n",
        "Ideally, we want a vocabulary that is both expressive and as small as possible. A smaller vocabulary will result in a smaller model that will train faster.\n",
        "\n",
        "For reference, we can transform the clean descriptions into a set and print its size to get an idea of the size of our dataset vocabulary."
      ]
    },
    {
      "cell_type": "code",
      "metadata": {
        "id": "UqucXTSCpoK8",
        "colab_type": "code",
        "outputId": "87cfb0ac-d8a6-4859-e19a-d70c7d7a0f77",
        "colab": {
          "base_uri": "https://localhost:8080/",
          "height": 72
        }
      },
      "source": [
        "# convert the loaded descriptions into a vocabulary of words\n",
        "def to_vocabulary(descriptions):\n",
        "\t# build a list of all description strings\n",
        "\tall_desc = set()\n",
        "\tfor key in descriptions.keys():\n",
        "\t\t[all_desc.update(d.split()) for d in descriptions[key]]\n",
        "\treturn all_desc\n",
        "\n",
        "# summarize vocabulary\n",
        "vocabulary = to_vocabulary(descriptions)\n",
        "\n",
        "print(vocabulary)\n",
        "\n",
        "print('Vocabulary Size: %d' % len(vocabulary))"
      ],
      "execution_count": 51,
      "outputs": [
        {
          "output_type": "stream",
          "text": [
            "{'wintertime', 'vegetables', 'nibbling', 'pouring', 'expression', 'portapotties', 'flyer', 'peering', 'yuong', 'attemping', 'america', 'poem', 'rash', 'vendors', 'aside', 'scowls', 'coverall', 'plugging', 'motorists', 'beg', 'warm', 'comes', 'unshaven', 'lesson', 'agents', 'emphatically', 'also', 'soapy', 'archways', 'alongside', 'sleeping', 'table', 'gocart', 'outfut', 'redclothed', 'sliding', 'jewelry', 'swirls', 'ferris', 'countryside', 'fairway', 'shirt', 'gate', 'blackandwhite', 'cricketer', 'freefalling', 'breaking', 'prestends', 'chatting', 'hardhats', 'oclock', 'candles', 'worker', 'steep', 'dalmatians', 'saw', 'vampire', 'squints', 'new', 'mostly', 'dinosaur', 'zombies', 'shadowed', 'yankee', 'apple', 'stays', 'boxer', 'overpass', 'photography', 'entangles', 'certificate', 'have', 'earpiece', 'texts', 'locomotives', 'walking', 'mosaic', 'aimed', 'backless', 'darker', 'link', 'boats', 'steamboat', 'handstand', 'silohuetted', 'cricket', 'bandanas', 'seagulls', 'duke', 'sports', 'hike', 'whist', 'crotch', 'blueish', 'africanamericans', 'pecking', 'eatery', 'competing', 'mogul', 'passageway', 'god', 'beaded', 'justice', 'supporting', 'sheepdog', 'pattern', 'fleeing', 'swans', 'director', 'tutu', 'away', 'widelegged', 'john', 'pinches', 'labs', 'colonial', 'multipiercings', 'highschool', 'kinds', 'avoiding', 'patterned', 'prancing', 'medium', 'opens', 'whoa', 'drug', 'fours', 'after', 'windsurfers', 'paced', 'aveda', 'offers', 'larger', 'cart', 'beer', 'shabby', 'plane', 'characters', 'starbuck', 'onto', 'dunking', 'ballplayer', 'bikinis', 'hose', 'stops', 'screams', 'parkinglot', 'frolic', 'jumpy', 'go', 'dobbermen', 'rummaging', 'batman', 'shaggy', 'biking', 'alert', 'defense', 'kennel', 'rubber', 'girder', 'dive', 'snowcovered', 'snout', 'skatepark', 'outline', 'blackgreen', 'crosswalk', 'treeless', 'guessing', 'flexable', 'hangs', 'directly', 'forest', 'blasts', 'kaki', 'caravan', 'become', 'flyfishing', 'hurdle', 'teeshirt', 'boardwalk', 'right', 'bit', 'dons', 'grownups', 'rackets', 'buff', 'story', 'fayre', 'dappled', 'jog', 'land', 'overshadowed', 'pathway', 'haystacks', 'threatening', 'traditional', 'lemonade', 'hugging', 'circuit', 'miles', 'dodgeball', 'doorway', 'confronting', 'dunes', 'baggage', 'is', 'revealed', 'shawls', 'pokemon', 'overlooks', 'movers', 'lifevests', 'prarie', 'patrick', 'sidebyside', 'scalling', 'thermos', 'feamle', 'dinghy', 'outlines', 'giant', 'shirtness', 'vw', 'parachuting', 'brightlylit', 'all', 'sunbathing', 'tilted', 'french', 'smacking', 'sandals', 'loops', 'tower', 'sombody', 'diver', 'respectively', 'collapses', 'rollskating', 'seabird', 'greyblue', 'ridge', 'pullup', 'shadowdappled', 'fists', 'telescopes', 'branch', 'entertain', 'chidl', 'cathing', 'polkadot', 'rounded', 'taping', 'affixed', 'retreived', 'grand', 'nursery', 'thumbsup', 'dong', 'mixing', 'tented', 'acrobatic', 'goes', 'snowshovel', 'cruising', 'attaches', 'mountaineer', 'togerther', 'dives', 'ten', 'containers', 'wrist', 'lavendar', 'fairgrounds', 'footballer', 'glassess', 'grss', 'shorthair', 'pullovers', 'supported', 'motorized', 'beanches', 'beds', 'dingo', 'rose', 'longnecked', 'goldencolored', 'desert', 'oriential', 'breaks', 'askance', 'plushie', 'graphic', 'colourful', 'ink', 'halfdressed', 'playtoy', 'paddled', 'circumvents', 'samsung', 'chrome', 'let', 'walkers', 'isolated', 'dimpled', 'deer', 'clips', 'wiht', 'harnessed', 'observed', 'pigs', 'ballerina', 'turbaned', 'hi', 'watches', 'penzance', 'woodstacked', 'stubbled', 'enjoy', 'easter', 'soocerball', 'elephant', 'streches', 'computers', 'yawning', 'crust', 'stains', 'tubular', 'terrace', 'handinhand', 'blindfold', 'suntanning', 'crushed', 'lei', 'starts', 'extremely', 'backlegs', 'toll', 'organizing', 'ice', 'windsurfing', 'depicting', 'mallard', 'obstacle', 'icy', 'juice', 'frozen', 'windsurfer', 'sprinkers', 'looks', 'actor', 'cin', 'fetches', 'schools', 'flowing', 'vert', 'him', 'algae', 'biting', 'pain', 'curving', 'business', 'stunt', 'italian', 'notre', 'international', 'experimenter', 'nerf', 'rolledup', 'snowmobiling', 'preoccupied', 'winters', 'wildebeast', 'pushup', 'glee', 'exit', 'poms', 'formed', 'readies', 'terrain', 'tires', 'fries', 'award', 'collar', 'goldfish', 'strolling', 'flanked', 'cord', 'assists', 'snowpants', 'gi', 'schoolgirl', 'bongo', 'collapsable', 'skydivers', 'squeeze', 'vacation', 'thrashed', 'hollywood', 'throws', 'destination', 'revel', 'attacked', 'obscures', 'fellow', 'anything', 'busying', 'unifrom', 'blondhaired', 'kneehigh', 'popcycles', 'lollipops', 'tree', 'test', 'huddle', 'puppet', 'rummage', 'wolf', 'tireshaped', 'diplomas', 'ralley', 'monitors', 'incense', 'consoling', 'sideline', 'smoky', 'feathery', 'phone', 'donkey', 'angles', 'as', 'lame', 'silhouettes', 'cases', 'fetching', 'marquee', 'fierce', 'one', 'bangs', 'bolts', 'hockey', 'mucky', 'wuth', 'collapsing', 'misspelled', 'amid', 'closing', 'backward', 'snowy', 'best', 'speed', 'wires', 'waaves', 'karate', 'shields', 'monkeybars', 'tricycle', 'shows', 'iceskate', 'dolly', 'engage', 'footage', 'milkbone', 'soar', 'pylon', 'piste', 'countertop', 'andy', 'related', 'established', 'youngle', 'windows', 'crouching', 'walkman', 'swing', 'waring', 'toolbox', 'animals', 'nails', 'agile', 'snake', 'tone', 'vendor', 'sewer', 'adolescents', 'skis', 'curiously', 'soaked', 'injured', 'learning', 'buggys', 'roots', 'harvested', 'balanced', 'with', 'cheap', 'physical', 'somebody', 'routine', 'spill', 'tiny', 'shuttered', 'horn', 'hangglider', 'conoes', 'sailboard', 'landed', 'speakers', 'instructor', 'laughed', 'cone', 'huts', 'gives', 'swirl', 'pro', 'yellow', 'stopped', 'holiday', 'soldiers', 'operating', 'raft', 'highfive', 'caps', 'back', 'jomps', 'weirmeiner', 'auto', 'nations', 'prison', 'thrown', 'aqua', 'crawls', 'entire', 'chalk', 'waterhole', 'laceup', 'exotic', 'neat', 'hairclips', 'reddish', 'load', 'paraskier', 'exercisewheel', 'converse', 'interracial', 'squat', 'perspective', 'dueling', 'steaks', 'enough', 'sveral', 'flamboyant', 'says', 'sunlight', 'paved', 'aided', 'grinds', 'messanger', 'foreign', 'suite', 'arms', 'tilting', 'accepting', 'riders', 'wrecks', 'handlers', 'control', 'trees', 'nine', 'center', 'has', 'spot', 'giants', 'aframe', 'dice', 'tugowar', 'collapsed', 'hard', 'tychy', 'longbeaked', 'elementary', 'powerboats', 'flop', 'approach', 'peak', 'spikes', 'leads', 'families', 'keeps', 'tools', 'shown', 'offroad', 'preparing', 'golf', 'backpacking', 'clustered', 'bowler', 'holing', 'latte', 'campus', 'cloth', 'owner', 'parody', 'rollerblades', 'ducky', 'convienance', 'suggestive', 'downpour', 'family', 'thre', 'overhangs', 'explores', 'grating', 'approached', 'rockclimbing', 'formal', 'aiming', 'canal', 'skyscrapers', 'barack', 'where', 'smiff', 'gentle', 'ohio', 'ticket', 'tripped', 'cot', 'em', 'boarder', 'manager', 'creeping', 'real', 'defensive', 'displaying', 'love', 'dale', 'shelf', 'outise', 'loose', 'entitled', 'splattered', 'shaded', 'outfir', 'protruding', 'saroog', 'strainer', 'flies', 'ladle', 'boogieboard', 'magizine', 'arrangement', 'ladys', 'conference', 'bridesmaids', 'range', 'motors', 'ban', 'hotel', 'pajamas', 'chutes', 'wands', 'downhill', 'nussle', 'crucifixion', 'bending', 'handbag', 'hdr', 'champ', 'fraternal', 'fringe', 'masks', 'read', 'tightropes', 'momma', 'bedroom', 'dame', 'cats', 'impersonator', 'tests', 'game', 'change', 'cheerfully', 'poles', 'ropes', 'heard', 'bowing', 'glacial', 'tend', 'orangehooded', 'adorn', 'does', 'pitchers', 'vuitton', 'anticipating', 'contestant', 'passifier', 'manuals', 'note', 'sexy', 'lited', 'climb', 'thck', 'fastest', 'grin', 'noticable', 'instructs', 'jello', 'litlle', 'pleasant', 'pencils', 'lagging', 'bench', 'approaches', 'drooping', 'antitax', 'touts', 'ages', 'feeds', 'sloped', 'bunk', 'dried', 'jumpropes', 'buzy', 'foggy', 'coral', 'elbows', 'crustacean', 'baskets', 'sash', 'spashes', 'orthodox', 'element', 'opening', 'aprons', 'nice', 'paintbrush', 'electronic', 'cane', 'mulch', 'jazz', 'oncoming', 'sticks', 'chairlift', 'ledges', 'skisuit', 'books', 'overshadows', 'wintery', 'silhouetted', 'yound', 'springtime', 'saber', 'since', 'pillow', 'sundappled', 'lambs', 'gokart', 'natural', 'eastpak', 'ready', 'lined', 'guardsman', 'flipflops', 'nfl', 'acrouss', 'wristwatch', 'buss', 'chainmail', 'someones', 'dimmly', 'robust', 'blanket', 'mcdonalds', 'style', 'jacuzzi', 'jungle', 'nametags', 'cocker', 'undershirt', 'extinguish', 'sat', 'spouts', 'lanyard', 'bodysuit', 'sporting', 'parachute', 'flopping', 'busy', 'animal', 'nation', 'blurry', 'collide', 'adopted', 'hat', 'seesaw', 'vat', 'barriers', 'college', 'matching', 'rattan', 'finley', 'littering', 'bead', 'flows', 'picutre', 'nursed', 'shivering', 'any', 'sox', 'bunny', 'tak', 'plains', 'ducks', 'parasurfing', 'lifesavers', 'converge', 'backstand', 'licking', 'cropped', 'defying', 'bakery', 'nitro', 'stomachs', 'illustrated', 'sparking', 'kart', 'asia', 'clothing', 'brandishes', 'tiretracks', 'cleaning', 'box', 'biden', 'offroading', 'wheelie', 'damaged', 'shouting', 'demolished', 'umbrella', 'burning', 'pushed', 'docks', 'campaign', 'bikes', 'system', 'exercise', 'laugh', 'brindle', 'sprawls', 'bluejeans', 'skateboarder', 'banana', 'pounces', 'nadal', 'schoolaged', 'amnesty', 'blondhair', 'chipmunk', 'post', 'fruit', 'teens', 'make', 'bursting', 'news', 'tipping', 'dimlylit', 'parasailer', 'thong', 'amish', 'profusely', 'doorstep', 'matador', 'swordfighting', 'nears', 'jockeys', 'stream', 'tantrum', 'blower', 'fell', 'cooking', 'jumps', 'yellowgrassed', 'mix', 'lens', 'before', 'crescent', 'performing', 'spiked', 'writes', 'drainpipe', 'threewheeled', 'hobby', 'organic', 'cartwheel', 'mottled', 'strokes', 'brindlecolored', 'pickup', 'divers', 'firework', 'multicultural', 'pots', 'herds', 'effort', 'cracked', 'surrounded', 'sweating', 'headlamp', 'leaguer', 'kakhi', 'continue', 'chemical', 'guidewire', 'chewing', 'sipping', 'fronmt', 'cook', 'interacting', 'female', 'leaps', 'concentrating', 'peek', 'beyond', 'grasps', 'pavement', 'language', 'prom', 'totter', 'watermelons', 'kneepads', 'transparent', 'tatoos', 'snowscapes', 'tie', 'agains', 'victorian', 'height', 'rowboat', 'experiences', 'suspended', 'hundred', 'hugs', 'spaced', 'singer', 'bubbling', 'tawny', 'motorbiker', 'yarnlike', 'siluettes', 'penguins', 'worn', 'oregon', 'sidewalks', 'fiveteen', 'clack', 'lighthouse', 'addressing', 'synchronized', 'clear', 'brushes', 'edge', 'claps', 'plant', 'peddal', 'bullrun', 'bib', 'controller', 'kingsworth', 'pinkish', 'watery', 'reeling', 'directing', 'gathered', 'skinny', 'wards', 'followed', 'hangong', 'waterwings', 'eyeglasses', 'bounds', 'loooking', 'sparsely', 'dribbles', 'occasion', 'parking', 'broen', 'kayacker', 'seen', 'loaves', 'pitted', 'oppose', 'sponsorship', 'apartments', 'battles', 'bride', 'straddle', 'prop', 'firedancer', 'learns', 'trike', 'wait', 'swingtoy', 'bends', 'foyer', 'helmet', 'sparkling', 'labeled', 'sheets', 'bags', 'meet', 'weird', 'bluejean', 'playful', 'rotweiler', 'size', 'clowns', 'rainbow', 'videotaped', 'hindu', 'position', 'shot', 'referring', 'year', 'horizontallystriped', 'condominium', 'wrestles', 'numbered', 'misty', 'guides', 'yell', 'spindle', 'prisoner', 'cries', 'bullbranded', 'potato', 'toddlers', 'overcast', 'average', 'really', 'exploring', 'flatbed', 'youths', 'drak', 'started', 'orangeclad', 'imagery', 'braiding', 'unified', 'mitten', 'mime', 'wars', 'pumpkin', 'gontaga', 'iguanas', 'joker', 'mishap', 'quaint', 'bodyboarder', 'fluorecent', 'astride', 'civil', 'museum', 'fear', 'riverwater', 'spike', 'lowering', 'pipes', 'emerge', 'coping', 'suns', 'feathers', 'steeple', 'clifftop', 'playing', 'referee', 'solo', 'streetway', 'largeboned', 'sequins', 'barks', 'moonwalk', 'occupied', 'literature', 'sneakers', 'distored', 'pong', 'accompanies', 'sparklers', 'easily', 'announcer', 'neclace', 'mountaindew', 'soap', 'visits', 'irish', 'bean', 'scottish', 'coaches', 'zone', 'wii', 'competiting', 'both', 'pony', 'steal', 'sombrero', 'happening', 'clay', 'horned', 'bracing', 'arriving', 'warming', 'snowing', 'pizza', 'romp', 'names', 'piling', 'gonzaga', 'buggy', 'marshlike', 'kicking', 'wintry', 'weilding', 'patch', 'skeleton', 'sifting', 'courtyard', 'regains', 'rakes', 'drum', 'goers', 'knelt', 'outstreched', 'advertisements', 'fights', 'helment', 'vike', 'screening', 'olympics', 'fire', 'strapped', 'eyeing', 'eccentric', 'chair', 'plank', 'defaced', 'panel', 'types', 'partying', 'smokestacks', 'hoists', 'antlers', 'another', 'notsocrowded', 'from', 'billowing', 'horsedrawn', 'pop', 'course', 'trace', 'few', 'queens', 'four', 'cow', 'skeletonprinted', 'pitch', 'congratulate', 'camper', 'frisbeen', 'jugs', 'headscarfs', 'ac', 'dunk', 'lacross', 'headlights', 'chaps', 'liquid', 'collies', 'forth', 'baked', 'dumpster', 'oddly', 'friend', 'necked', 'elegant', 'glow', 'squad', 'hailing', 'arts', 'stalks', 'lobby', 'camo', 'oout', 'sitting', 'map', 'kids', 'allwhite', 'notes', 'batsman', 'fiesty', 'recreational', 'bear', 'wipes', 'grassland', 'pull', 'tags', 'florist', 'mounds', 'nest', 'coffee', 'wooden', 'seller', 'snarly', 'ant', 'handkerchief', 'lamppost', 'upclose', 'comic', 'stumps', 'flaps', 'scene', 'filiming', 'longhorns', 'south', 'rappeling', 'ranger', 'tireswing', 'coopers', 'dollar', 'freesbies', 'painted', 'onrushing', 'dalmation', 'swimcap', 'ok', 'buffalo', 'grocery', 'individual', 'stuffed', 'fives', 'skiny', 'magic', 'crocheted', 'donuts', 'macintosh', 'impact', 'rigging', 'beaver', 'ground', 'drills', 'cathedral', 'ratty', 'tells', 'step', 'thick', 'pad', 'belts', 'carring', 'marching', 'stringless', 'competitors', 'leader', 'bound', 'narrow', 'dumps', 'dew', 'starring', 'popscicles', 'varying', 'playfighting', 'jets', 'sings', 'fton', 'advertisement', 'bullrider', 'petting', 'bridal', 'packed', 'conversations', 'enlarged', 'afican', 'nodding', 'skier', 'inground', 'assault', 'spills', 'ramp', 'lioness', 'childern', 'mirror', 'flees', 'they', 'accents', 'springer', 'dense', 'retrieve', 'halloween', 'nurses', 'plain', 'colt', 'close', 'accent', 'swirling', 'golden', 'disc', 'heading', 'fiery', 'magazines', 'onlookers', 'racks', 'halfpipe', 'triangular', 'cat', 'boarding', 'image', 'spell', 'collision', 'rifding', 'wal', 'groomed', 'rustric', 'bushes', 'piglet', 'lockers', 'guided', 'swingtype', 'big', 'speaks', 'drive', 'golfing', 'gregoire', 'grasp', 'dirt', 'gnarly', 'herself', 'brass', 'curl', 'bed', 'skull', 'shepherd', 'placed', 'circle', 'clothesline', 'hopping', 'scarves', 'loser', 'haystack', 'clutching', 'whacking', 'iron', 'gutarist', 'gauges', 'glowers', 'tears', 'san', 'standard', 'moon', 'blooming', 'cartoon', 'confront', 'blays', 'swept', 'skyward', 'lettering', 'rehearsing', 'checkstand', 'promting', 'chubby', 'rafts', 'throughwindow', 'labradoodle', 'freddy', 'topdown', 'operates', 'favorite', 'massage', 'furniture', 'males', 'matt', 'hooding', 'numbers', 'tee', 'multicoloured', 'judge', 'selfportrait', 'actors', 'burgers', 'coats', 'retrive', 'bloodied', 'holding', 'orbs', 'bumpers', 'customer', 'haired', 'claus', 'roads', 'roundabout', 'branches', 'headset', 'current', 'toilet', 'florida', 'facedown', 'moms', 'following', 'adjust', 'priests', 'upon', 'signal', 'fingers', 'freeclimbing', 'lakefront', 'stepped', 'skate', 'panties', 'jaywalk', 'denim', 'attampts', 'blank', 'uncrowded', 'inflatable', 'floatation', 'filled', 'middleeastern', 'circles', 'milkshake', 'drove', 'safari', 'scored', 'jewish', 'phones', 'themselves', 'makes', 'circling', 'cups', 'pregnant', 'paw', 'bales', 'incoming', 'mosque', 'grins', 'blondehaired', 'buena', 'romantically', 'belaying', 'pugs', 'birds', 'adventurer', 'legs', 'antics', 'bread', 'bananas', 'towarn', 'stare', 'perpendicular', 'treading', 'forehead', 'funeral', 'medieval', 'used', 'accends', 'waing', 'turquoise', 'runners', 'motor', 'twisting', 'horse', 'concrete', 'wire', 'eluding', 'possessively', 'bats', 'rested', 'hold', 'oars', 'backpack', 'hamburgers', 'parasails', 'chili', 'atm', 'did', 'races', 'bleachers', 'snoopy', 'glancing', 'too', 'steers', 'pompadour', 'lonely', 'pavillion', 'kickboxer', 'cliffside', 'ornamental', 'toys', 'escorted', 'name', 'curly', 'festival', 'prepared', 'cartwheeling', 'casting', 'photo', 'blame', 'pastor', 'full', 'ot', 'greenery', 'kangaroo', 'somone', 'flattened', 'butts', 'dressed', 'highway', 'jesus', 'zigzag', 'odd', 'whiel', 'protector', 'pitches', 'measured', 'ripped', 'climbers', 'contemplating', 'stool', 'urban', 'necklaces', 'alertly', 'equpiment', 'spotting', 'railway', 'judea', 'samples', 'batshaped', 'rodderick', 'shreds', 'add', 'bridesmaid', 'would', 'victory', 'gothic', 'amazement', 'treat', 'swaetshirt', 'uw', 'drums', 'slaloms', 'mouthed', 'upfront', 'parade', 'representing', 'introduces', 'rings', 'luggage', 'minirace', 'political', 'baby', 'bangles', 'grasses', 'bookcase', 'nature', 'scarf', 'timeout', 'showroom', 'outcropping', 'cones', 'cheerleader', 'polo', 'fangs', 'droplets', 'vests', 'seidwalk', 'objective', 'great', 'terrier', 'chain', 'restroom', 'contact', 'stabs', 'gnaws', 'pyramidshaped', 'crow', 'pillowcase', 'signing', 'swear', 'bagpipes', 'snowpatched', 'sibling', 'recieving', 'swimmers', 'blocks', 'harbor', 'lifeguards', 'decked', 'soccor', 'sleeve', 'member', 'thumb', 'priest', 'recital', 'pick', 'cookies', 'rolled', 'contestent', 'goldcolored', 'windboard', 'checker', 'couple', 'setter', 'tracksuit', 'chandelier', 'racedog', 'merry', 'lights', 'cuddling', 'somthing', 'build', 'blonde', 'strewn', 'elf', 'paddle', 'ethnicity', 'heather', 'husky', 'life', 'spilled', 'placemats', 'gas', 'knocks', 'questioningly', 'blond', 'jaw', 'manner', 'amusement', 'convienience', 'slushies', 'sling', 'me', 'tool', 'musicians', 'obligatoire', 'move', 'satchel', 'phillie', 'studio', 'brighty', 'finger', 'gateway', 'waterski', 'chip', 'bagpipe', 'brownishred', 'wetsuite', 'blues', 'marx', 'everyday', 'zipping', 'leapfrog', 'takeing', 'lump', 'smirks', 'stoney', 'cooks', 'santas', 'tapped', 'may', 'marina', 'crystal', 'leg', 'budweiser', 'spacious', 'surgical', 'sportman', 'greysuited', 'company', 'colored', 'near', 'propelling', 'freak', 'cascades', 'blog', 'prairie', 'entering', 'free', 'chops', 'possessions', 'checked', 'product', 'rectangular', 'good', 'snowmobiler', 'hacking', 'wheelchair', 'several', 'engulfed', 'mountaintop', 'accepts', 'pearl', 'slippers', 'overgrown', 'waterside', 'paneled', 'nugent', 'made', 'vinyl', 'hair', 'crocodile', 'chased', 'graffitied', 'soles', 'knocked', 'film', 'readied', 'emerged', 'song', 'protecting', 'lead', 'keffiyahs', 'silverware', 'menacingly', 'performer', 'leafs', 'lilies', 'paddles', 'sips', 'interviews', 'vibrant', 'mittens', 'ornament', 'kiyaking', 'calculate', 'boods', 'cliffs', 'wrap', 'active', 'pet', 'antiquated', 'metallic', 'mans', 'ledge', 'tip', 'begging', 'surges', 'admire', 'silk', 'location', 'driver', 'cards', 'embrace', 'musicans', 'dye', 'alotment', 'offered', 'camps', 'soaks', 'hanglider', 'patterns', 'scouts', 'works', 'photographer', 'womand', 'doorbell', 'self', 'stone', 'moves', 'doughnut', 'common', 'sleeved', 'brwon', 'shovel', 'design', 'launched', 'partition', 'focuses', 'halves', 'sucking', 'seat', 'frisbee', 'brother', 'avoid', 'mexico', 'checking', 'surf', 'squirting', 'peaking', 'fencing', 'squeezing', 'engaged', 'weimaraners', 'nike', 'alike', 'suspension', 'contorts', 'patio', 'bulldozer', 'hunter', 'romping', 'shoppers', 'returning', 'paisley', 'kites', 'bush', 'redhaired', 'chairswing', 'int', 'pensively', 'everyone', 'relaxing', 'singing', 'deflated', 'ignore', 'crampons', 'purple', 'bobbed', 'taken', 'older', 'broad', 'campflauge', 'hump', 'mosscovered', 'third', 'shapes', 'tackling', 'rim', 'numerous', 'twome', 'trots', 'the', 'identical', 'ringed', 'environment', 'minnie', 'rectangle', 'wedgie', 'smal', 'barb', 'exibit', 'carjack', 'properly', 'texas', 'vault', 'form', 'cellphone', 'kickboxing', 'towrope', 'propped', 'cringes', 'gazed', 'memorabilia', 'know', 'jack', 'wmoan', 'crime', 'blown', 'holes', 'tubing', 'clothes', 'notebook', 'trim', 'looms', 'first', 'fairy', 'retrievers', 'ropeswinging', 'ghostbusters', 'circled', 'sandal', 'stones', 'wanting', 'chickens', 'backset', 'needle', 'question', 'clasp', 'broadly', 'angled', 'greets', 'inverted', 'fast', 'surfer', 'frog', 'orangesunset', 'balloons', 'frisbees', 'shin', 'eleven', 'purina', 'walkng', 'buy', 'dad', 'salon', 'devices', 'windmill', 'ruined', 'ball', 'blueeyed', 'budweisersponsored', 'retreiving', 'focused', 'rental', 'michael', 'dumbbell', 'marked', 'row', 'buying', 'attend', 'ladles', 'lifevest', 'enjoyable', 'browsing', 'markings', 'seating', 'roman', 'rafael', 'splatter', 'treks', 'ancient', 'min', 'dupont', 'coaching', 'constructed', 'rider', 'withdrawing', 'washes', 'tractor', 'equiment', 'firends', 'starshaped', 'pug', 'racquet', 'perfom', 'layup', 'secret', 'skii', 'tails', 'containing', 'smoking', 'juggler', 'percussionists', 'sacks', 'pee', 'flung', 'lollipop', 'across', 'nowhere', 'smiled', 'capture', 'grassy', 'pumped', 'contents', 'gazes', 'speeds', 'outcroping', 'here', 'pausing', 'exposition', 'kawasaki', 'thinner', 'egyptian', 'crawling', 'ladder', 'dolphins', 'modeling', 'touch', 'alleyway', 'fending', 'snowpacked', 'them', 'flooded', 'persons', 'paper', 'stony', 'roddick', 'uphill', 'fend', 'lifeboat', 'atmosphere', 'reading', 'each', 'plantains', 'stumbling', 'wades', 'gravel', 'nestled', 'clad', 'lighter', 'machinery', 'picnickers', 'lack', 'elderly', 'variety', 'hay', 'colorful', 'browneyed', 'try', 'outs', 'tall', 'icing', 'stars', 'dome', 'videotapes', 'built', 'robes', 'hundreds', 'junk', 'poodle', 'accelerates', 'medal', 'ferrett', 'dresser', 'soaking', 'grows', 'photographed', 'darkheaded', 'secondstory', 'photographic', 'bandage', 'half', 'launcher', 'unamused', 'stork', 'crumbling', 'poll', 'overturned', 'it', 'muddy', 'granite', 'stroller', 'hulahoop', 'little', 'admiring', 'shivers', 'weimaraner', 'begin', 'indigo', 'sticker', 'longeared', 'hillock', 'wanders', 'sloppy', 'windsurfs', 'basement', 'peoople', 'chopsticks', 'about', 'see', 'catches', 'composed', 'cattle', 'horseriders', 'diagram', 'leap', 'acting', 'sledlike', 'repelling', 'punts', 'children', 'car', 'retriever', 'cruise', 'helments', 'manuever', 'vents', 'react', 'shocks', 'surroundings', 'owners', 'ibeam', 'hardscape', 'sunrise', 'fresh', 'chris', 'parachutes', 'rainy', 'iceburg', 'depicts', 'scrubby', 'protesting', 'sleds', 'visiting', 'pomeranian', 'sprinking', 'ripstik', 'hood', 'secured', 'artistic', 'flatscreen', 'archer', 'hoofs', 'onsie', 'flipped', 'pecks', 'suburbs', 'payfully', 'monocolor', 'cycling', 'virtual', 'outward', 'dresses', 'cork', 'samoyads', 'boards', 'hoodedcoat', 'signaling', 'caramel', 'pointy', 'admired', 'inch', 'forested', 'brings', 'profile', 'shovels', 'sewing', 'jug', 'tonge', 'fliers', 'peddles', 'streams', 'pause', 'green', 'treetops', 'multistory', 'flare', 'cut', 'thorugh', 'competition', 'partner', 'heavymetal', 'berry', 'gazing', 'sailboat', 'poor', 'navy', 'coal', 'reflecting', 'sits', 'brochure', 'drummer', 'saturated', 'ou', 'excersizing', 'armful', 'aim', 'sweatsuit', 'pastry', 'completing', 'israel', 'non', 'poodles', 'crosscountry', 'peer', 'sheet', 'hits', 'downtown', 'shading', 'overflowing', 'swoops', 'squeezes', 'ampitheater', 'contemplates', 'running', 'sewn', 'shine', 'israeli', 'grinning', 'aerobatic', 'odeon', 'donkeys', 'atop', 'intricate', 'perked', 'usual', 'points', 'sprinkles', 'snowflake', 'creamy', 'casket', 'activity', 'wax', 'runner', 'atv', 'rafting', 'pub', 'community', 'booth', 'horses', 'executes', 'pride', 'openair', 'smells', 'less', 'doing', 'bitten', 'seahorse', 'fumble', 'pavilion', 'sandy', 'mitt', 'romps', 'sleeveless', 'part', 'view', 'village', 'ceramic', 'symbol', 'paragliding', 'rushes', 'mortar', 'sniffed', 'stylish', 'league', 'waterboard', 'insect', 'reeds', 'howls', 'sweatshirts', 'blue', 'elevated', 'shaky', 'smu', 'wooded', 'cluster', 'reclining', 'pedigree', 'meanders', 'hairy', 'opinion', 'not', 'pipe', 'crests', 'gaze', 'expressionless', 'redheaded', 'charged', 'snowpile', 'corral', 'streetlights', 'lodge', 'jackets', 'kisses', 'torwards', 'campground', 'surround', 'cellphones', 'trooper', 'outdoor', 'longhandled', 'speak', 'begins', 'worked', 'tour', 'amidst', 'speedskater', 'bannister', 'parasailing', 'mardis', 'hurdlejumper', 'hitter', 'custom', 'record', 'jet', 'ruins', 'meter', 'turquiose', 'hotrod', 'under', 'sparring', 'beef', 'whilst', 'spoted', 'neck', 'bathrooms', 'than', 'winces', 'boat', 'skirts', 'perfoms', 'beaten', 'ad', 'wrinkled', 'keep', 'paperback', 'bears', 'bro', 'noce', 'released', 'fanny', 'joke', 'pen', 'disheveled', 'dimlight', 'lakeside', 'sponsor', 'fencedin', 'blood', 'toppless', 'popsicles', 'amazing', 'diverse', 'tophats', 'stunning', 'developing', 'spelling', 'substance', 'trombone', 'anciet', 'fame', 'spiking', 'floor', 'sprinkler', 'bright', 'streght', 'reflects', 'drumset', 'longhaired', 'midday', 'officer', 'pink', 'tambourines', 'rollerskates', 'comforting', 'neoncolored', 'look', 'khakis', 'cheerful', 'extinguishes', 'tutus', 'broadway', 'touchdown', 'keyboard', 'disks', 'brook', 'twirl', 'science', 'hedge', 'horns', 'soled', 'barnlike', 'belays', 'australian', 'hallways', 'meeting', 'jacket', 'rests', 'blossoms', 'arizona', 'yelling', 'incredible', 'sheer', 'within', 'violinist', 'grey', 'pirate', 'celebrating', 'pistol', 'springs', 'trials', 'photograph', 'pulling', 'refuse', 'breaststroke', 'pinestraw', 'left', 'complex', 'pepco', 'zipline', 'writing', 'structures', 'mascot', 'dirtbikes', 'persian', 'houses', 'ornaments', 'faced', 'multilple', 'brownishorange', 'hydrant', 'gover', 'repel', 'touched', 'learn', 'tentlike', 'spandex', 'activities', 'skislope', 'shares', 'tram', 'appears', 'period', 'juggle', 'production', 'showing', 'scope', 'hardwood', 'programs', 'sloping', 'conversation', 'suckles', 'tuxedos', 'onesie', 'heating', 'lipstick', 'final', 'butterfly', 'social', 'stretching', 'firefighters', 'patrollers', 'nudges', 'cast', 'technical', 'watch', 'rhododendron', 'collegiate', 'wrestle', 'if', 'tape', 'scrolled', 'curling', 'barefooted', 'spokesmodels', 'flailing', 'headless', 'fedex', 'font', 'boe', 'brawl', 'quinta', 'perfume', 'ping', 'stockings', 'overhang', 'swords', 'blitz', 'hiding', 'packer', 'perfomed', 'awards', 'camouflage', 'long', 'regularly', 'bicylist', 'eldery', 'largley', 'waterskiis', 'cement', 'ipod', 'coached', 'pilot', 'wear', 'hiking', 'bmw', 'breaker', 'solicits', 'bubble', 'carying', 'darts', 'thousand', 'warmly', 'smaller', 'nat', 'moustaches', 'chocolate', 'harly', 'hissing', 'squats', 'slinky', 'scent', 'walk', 'ascending', 'coasts', 'sets', 'foliaged', 'bass', 'different', 'interested', 'woodland', 'travelling', 'laundry', 'discovery', 'huddles', 'pylons', 'pursed', 'gets', 'gymnastic', 'powered', 'unpaved', 'skipped', 'graying', 'many', 'patroling', 'panda', 'pamphlet', 'supervising', 'sillouhette', 'ring', 'gates', 'beijing', 'pinned', 'breastfeeding', 'yacht', 'hosed', 'notepad', 'crew', 'yellowish', 'kayaks', 'snowboarders', 'protester', 'dip', 'pnc', 'battle', 'russel', 'conoe', 'session', 'motorcycles', 'haircut', 'wheat', 'roughhousing', 'yachts', 'tupperware', 'portojohn', 'sales', 'ate', 'pound', 'ever', 'hula', 'exterior', 'square', 'winner', 'lunches', 'lean', 'daylight', 'swimming', 'fit', 'thatch', 'british', 'whizzes', 'ducking', 'teddy', 'rottwieler', 'plungles', 'rockets', 'courthouse', 'lies', 'gowns', 'picket', 'cigarettes', 'graffitifilled', 'music', 'sole', 'donut', 'shaving', 'frames', 'bottle', 'apex', 'playmat', 'mowed', 'furtrimmed', 'tuner', 'sun', 'arm', 'guitars', 'leash', 'merrygoround', 'hawaiin', 'teammates', 'geyser', 'sprawling', 'creative', 'waeribng', 'alon', 'emblems', 'snowmobiles', 'teammate', 'hilltops', 'chips', 'remote', 'rips', 'onstage', 'cape', 'posed', 'canvas', 'barrier', 'only', 'crossing', 'diners', 'spitting', 'things', 'purse', 'tough', 'dont', 'teal', 'fatigues', 'rapidly', 'collection', 'bat', 'inspecting', 'fan', 'slouching', 'twirling', 'facial', 'veteran', 'boundary', 'moped', 'bungeetype', 'furred', 'throwing', 'food', 'airborne', 'earmuffs', 'ski', 'leashes', 'hidden', 'skyscraper', 'single', 'wolflike', 'pressure', 'fribee', 'accessories', 'welcomes', 'fails', 'rubbing', 'jeep', 'floral', 'windshield', 'flume', 'hang', 'hustle', 'valley', 'congregate', 'airplane', 'diry', 'bicyclist', 'miniskirts', 'seed', 'intot', 'tones', 'faces', 'tho', 'surfers', 'mountain', 'oceanside', 'piggy', 'sees', 'superhero', 'pretends', 'cracker', 'cocacola', 'scubba', 'an', 'seem', 'eating', 'blurs', 'raises', 'blossom', 'hulahoops', 'fixtures', 'heavy', 'bout', 'apples', 'aggressive', 'costume', 'keeping', 'sack', 'reenactors', 'arrives', 'converging', 'grouped', 'locked', 'lifted', 'someone', 'mingling', 'mouthguards', 'safe', 'bearded', 'perhaps', 'glassy', 'downstream', 'smokes', 'crowd', 'assisting', 'pirates', 'checks', 'hung', 'evergreen', 'bra', 'highchair', 'courts', 'present', 'twelve', 'firecracker', 'beard', 'mustache', 'shorline', 'roasted', 'buildings', 'snoring', 'companions', 'polkadotted', 'blazer', 'costumes', 'marathon', 'storm', 'arched', 'mossy', 'mounted', 'youn', 'armenian', 'rocks', 'metro', 'cubicle', 'create', 'tarp', 'pedaling', 'shadow', 'tether', 'handing', 'porch', 'neon', 'quarterback', 'tugs', 'grounded', 'seawall', 'engulf', 'come', 'podium', 'wants', 'planter', 'assistance', 'khakicolored', 'ups', 'enter', 'desk', 'leading', 'wagging', 'electronics', 'indian', 'rocker', 'painters', 'solid', 'lit', 'cows', 'handles', 'bowling', 'ovals', 'periods', 'bouquet', 'ultimate', 'tandom', 'fuchsia', 'dreary', 'quarters', 'rain', 'stepstool', 'taxis', 'speedway', 'curlyhaired', 'redseated', 'domino', 'area', 'flashlight', 'garb', 'gesturing', 'bag', 'evening', 'speedo', 'overcoat', 'bridges', 'skin', 'tight', 'coaster', 'wildebeest', 'policeman', 'wearfing', 'slice', 'bill', 'diapers', 'closeout', 'barettes', 'soccer', 'accordion', 'gras', 'surfing', 'recked', 'twho', 'tights', 'hurrying', 'mark', 'maroon', 'staircase', 'chinese', 'frizzy', 'laps', 'zippered', 'pass', 'ponytails', 'tent', 'cautious', 'himself', 'grouchy', 'chats', 'bulging', 'streetlamp', 'easel', 'laptop', 'brian', 'homes', 'cue', 'woamn', 'fixing', 'shawled', 'tightrope', 'collie', 'headscarves', 'mirrored', 'anchored', 'renaissance', 'cameraman', 'bones', 'furnace', 'masonry', 'nearby', 'bonnets', 'gallopsing', 'placid', 'weating', 'potao', 'wadingpool', 'passes', 'eight', 'carrying', 'froup', 'score', 'volkswagen', 'props', 'rollerbladers', 'brilliant', 'herbs', 'segway', 'early', 'unmanned', 'wrecked', 'weights', 'stores', 'notice', 'scenic', 'lowcut', 'below', 'stadium', 'hilly', 'chief', 'pressing', 'whil', 'nosedeep', 'playgroud', 'sends', 'sunbathe', 'gift', 'drops', 'alien', 'union', 'spain', 'guitarists', 'hoddie', 'cars', 'distressed', 'bump', 'barbwire', 'tattoed', 'hunt', 'bohemian', 'ramps', 'cds', 'lounging', 'document', 'binocular', 'padel', 'man', 'feeding', 'completely', 'ashtray', 'sect', 'crooked', 'trumped', 'strawberries', 'expressions', 'picks', 'almostdried', 'trackside', 'hudge', 'boxy', 'vampires', 'everything', 'proped', 'fans', 'leaned', 'calmer', 'nonworking', 'horsemen', 'grayhaired', 'viewer', 'oklahoma', 'draw', 'football', 'competiton', 'stoops', 'perplexed', 'loaded', 'turf', 'strips', 'squeak', 'foul', 'swimsuites', 'sledder', 'warehouse', 'tinted', 'surfaces', 'supports', 'fireside', 'pitching', 'nongrassy', 'perused', 'nip', 'pursing', 'pencil', 'reson', 'nipping', 'fawkes', 'weather', 'interesting', 'marks', 'edges', 'sidelines', 'chested', 'surounded', 'screened', 'cookie', 'lawn', 'desolate', 'automobiles', 'minivan', 'curtsey', 'kayaking', 'enters', 'directed', 'winks', 'stick', 'handwritten', 'pianist', 'levels', 'canoes', 'wheeled', 'midspeach', 'incline', 'track', 'spiderman', 'groom', 'cooling', 'smoke', 'reddishbrown', 'ballthrower', 'extravagant', 'games', 'bowled', 'cowboy', 'doorag', 'meditating', 'feild', 'parasurfer', 'pumps', 'strand', 'wipe', 'armchair', 'frolics', 'bandmates', 'mexican', 'samll', 'bluegreen', 'hoolahoops', 'backyard', 'foliage', 'bonnet', 'catered', 'vehicles', 'snowboarding', 'lands', 'establishment', 'yard', 'tote', 'bikina', 'serving', 'un', 'blackhaired', 'skimply', 'clinging', 'subway', 'waterskier', 'prints', 'outfits', 'coyotes', 'yorkshire', 'closely', 'sailboarder', 'catching', 'receive', 'platform', 'marine', 'headfirst', 'withered', 'kong', 'watched', 'arbor', 'bartype', 'surrounds', 'gathering', 'sure', 'cubby', 'freefall', 'intertube', 'memorial', 'herd', 'motley', 'direct', 'shallows', 'tips', 'arches', 'riverbank', 'point', 'ax', 'deck', 'dial', 'patches', 'photographers', 'bikers', 'shines', 'enthusiasts', 'sprawled', 'pastures', 'belongings', 'nutcracker', 'jib', 'streaming', 'goth', 'statefarmcom', 'viewfinder', 'sleeding', 'presents', 'rifles', 'hell', 'delivery', 'lets', 'underfoot', 'wounded', 'examining', 'contemporary', 'firetruck', 'hankerchief', 'perm', 'east', 'scooters', 'maps', 'transit', 'seal', 'granny', 'safety', 'listens', 'playfully', 'littered', 'goggled', 'prey', 'metropolitain', 'walkways', 'steadies', 'frayed', 'utility', 'tagged', 'human', 'for', 'pursued', 'excercises', 'griding', 'prefabricated', 'roadway', 'professionally', 'tanktop', 'sand', 'tv', 'gymnast', 'videos', 'midget', 'sites', 'captures', 'cheers', 'elaborate', 'aboard', 'cuts', 'dachshunds', 'lays', 'pudding', 'daughters', 'slicker', 'entertains', 'ruin', 'chaperone', 'bicyler', 'annoyed', 'whitesuited', 'facepaint', 'toothbrush', 'upsidedown', 'greens', 'pig', 'fluorescent', 'chat', 'dunks', 'snowballs', 'rag', 'underwear', 'ignores', 'charm', 'hillside', 'ca', 'wrestler', 'prow', 'ill', 'strange', 'santa', 'mutltiple', 'shelter', 'responders', 'espana', 'lane', 'mothers', 'convoy', 'chart', 'iced', 'trotted', 'joking', 'hill', 'sort', 'teaching', 'actions', 'personal', 'remove', 'harvest', 'flowerbed', 'powerful', 'gradual', 'heels', 'sphere', 'bigwheels', 'versus', 'married', 'pins', 'explosions', 'beating', 'brunette', 'palace', 'athelete', 'choice', 'chin', 'shetland', 'show', 'same', 'binoculars', 'planks', 'splashes', 'cavort', 'officials', 'polaris', 'hooded', 'parrot', 'stairs', 'swimmies', 'block', 'midleap', 'athletics', 'mean', 'trampled', 'regalia', 'wipeout', 'money', 'reacting', 'gymnasium', 'beauty', 'gnome', 'shoulderbag', 'judgement', 'hatchback', 'beetle', 'choreographed', 'cobblestone', 'angrily', 'garage', 'patiently', 'crows', 'trunks', 'attack', 'greeting', 'plates', 'stretches', 'crank', 'argues', 'dads', 'rottweiller', 'duel', 'crown', 'treats', 'shamrocks', 'towing', 'faux', 'coated', 'sledding', 'cycle', 'meadow', 'shoelaces', 'foreigners', 'gleaming', 'recorder', 'flute', 'fourth', 'tge', 'against', 'laughs', 'eggs', 'skips', 'sprinkled', 'balance', 'doe', 'twists', 'limousine', 'puts', 'legged', 'neither', 'recoils', 'camcorder', 'breathes', 'docking', 'cannot', 'sprinklers', 'ways', 'lapel', 'dalmatian', 'blackclad', 'seats', 'treefilled', 'scantilyclad', 'slipping', 'lay', 'midway', 'nursing', 'lesh', 'jumping', 'ditch', 'blackboard', 'stacks', 'fog', 'enjoyment', 'hoodie', 'girlfriends', 'airport', 'females', 'rowing', 'rural', 'laying', 'bobsled', 'trophy', 'vase', 'concert', 'observing', 'shortstop', 'clutches', 'icicles', 'cornstalks', 'paneling', 'coat', 'gold', 'shews', 'kicked', 'izod', 'barista', 'palid', 'lenses', 'washed', 'male', 'poncho', 'surfboards', 'topples', 'ride', 'wrapped', 'rabbit', 'weeds', 'venture', 'cub', 'bundled', 'alone', 'porcelain', 'beams', 'tabs', 'roses', 'explorer', 'cartwheels', 'exhaust', 'streaked', 'ringing', 'endorsementcovered', 'steady', 'serves', 'castle', 'sweatshir', 'potted', 'flashes', 'rollerblader', 'saucers', 'mesh', 'swishing', 'beach', 'partake', 'historic', 'mic', 'stained', 'pile', 'were', 'rappelling', 'hug', 'swatting', 'acts', 'novel', 'shipping', 'pointing', 'log', 'heeled', 'excites', 'seems', 'helplessly', 'collides', 'clap', 'brightly', 'hurricanes', 'conifers', 'lampost', 'confronted', 'aid', 'padding', 'popsicle', 'backsides', 'greenbay', 'cute', 'disgusted', 'cords', 'alcove', 'encircling', 'seaguls', 'stance', 'backpackers', 'joyful', 'ads', 'brickwall', 'upturned', 'indoors', 'busines', 'shrubs', 'coasting', 'similarly', 'bmx', 'tulips', 'rungs', 'squeals', 'gatorade', 'reared', 'humansize', 'associated', 'magenta', 'cause', 'officers', 'orange', 'tackle', 'sail', 'differentcolored', 'sleep', 'basket', 'maple', 'three', 'barrette', 'headcover', 'propping', 'cine', 'juggling', 'dobermans', 'vapour', 'written', 'aligator', 'whiffle', 'howling', 'prepairing', 'oppsing', 'glittery', 'posts', 'pitbulls', 'flag', 'touching', 'tbar', 'oversized', 'handicap', 'scale', 'son', 'feature', 'tossed', 'pods', 'firemen', 'selling', 'canoeing', 'pursues', 'balloon', 'protected', 'wading', 'cements', 'aerial', 'enforcment', 'steamy', 'persues', 'commuters', 'cam', 'universal', 'pierlike', 'soft', 'dojo', 'navigate', 'pinstripe', 'swarmed', 'snakeskin', 'coast', 'entrance', 'attrative', 'rounding', 'sunning', 'welcome', 'bellbottoms', 'spits', 'creature', 'handling', 'muzzled', 'classicstyle', 'vest', 'lecturer', 'traverses', 'embedded', 'umbrellas', 'slender', 'sky', 'tail', 'protest', 'cbs', 'dashboard', 'coordinator', 'sunshaped', 'yougn', 'furious', 'tumbles', 'cloaks', 'discouraged', 'accented', 'showerhead', 'cleared', 'fireplace', 'eyed', 'muscle', 'milk', 'midrun', 'hikes', 'overhead', 'whitehaired', 'kimono', 'living', 'retriving', 'jumphouse', 'oiled', 'grab', 'stereo', 'williams', 'adult', 'bagpipers', 'lilly', 'projected', 'distnat', 'twigs', 'tiara', 'styled', 'creams', 'ques', 'very', 'deep', 'trekkies', 'race', 'bowtie', 'handicapped', 'fingerhold', 'object', 'swam', 'swimsuits', 'somersault', 'ollies', 'tossing', 'looming', 'paying', 'stripy', 'toddler', 'longlegged', 'rockclimber', 'puddle', 'bullseye', 'mosquelike', 'electrical', 'specialized', 'inlineskates', 'joins', 'whitewater', 'hotpink', 'sound', 'sour', 'sync', 'colourfully', 'flat', 'taller', 'machines', 'poof', 'ascends', 'belted', 'berries', 'portland', 'waterwear', 'losing', 'snowgear', 'ladie', 'float', 'bank', 'shit', 'roosters', 'ribbons', 'place', 'crudely', 'tongues', 'competeition', 'feathered', 'blackshirt', 'television', 'workout', 'midriff', 'pulls', 'shielding', 'throw', 'ropey', 'pace', 'challange', 'marsh', 'seeingeye', 'darkskinned', 'supervision', 'chunk', 'falcon', 'tinkerbell', 'piloting', 'bluegray', 'fowl', 'tangled', 'ion', 'relaxes', 'lightly', 'motorcyle', 'nordic', 'scared', 'dipping', 'motorbike', 'weeping', 'peaceful', 'training', 'brave', 'bun', 'axe', 'dogs', 'watermelon', 'zips', 'glasses', 'pees', 'kind', 'turkey', 'oxford', 'collects', 'pawed', 'companion', 'leans', 'gesticulates', 'rundown', 'bouncer', 'planting', 'escape', 'tunic', 'twisted', 'wears', 'shells', 'foreround', 'broom', 'skateboarders', 'ont', 'menus', 'capri', 'contest', 'sizes', 'grate', 'dune', 'tentatively', 'impeach', 'weimeraners', 'lease', 'stringed', 'halter', 'biek', 'formations', 'waists', 'greyhound', 'handgun', 'statute', 'share', 'catcher', 'humping', 'sari', 'fathers', 'dump', 'stages', 'acroos', 'colors', 'toothpaste', 'cafeteria', 'skating', 'lazily', 'guys', 'zipup', 'healthy', 'tire', 'videotaping', 'everybody', 'parachutist', 'oak', 'travels', 'halfway', 'pawing', 'braids', 'police', 'circus', 'stand', 'canals', 'turban', 'laid', 'moutainside', 'splash', 'refugees', 'curls', 'balding', 'sweeping', 'faded', 'bad', 'pose', 'skills', 'dusty', 'woooden', 'tag', 'stopping', 'completes', 'helping', 'keeling', 'grinding', 'dove', 'communications', 'shrowded', 'competitor', 'pack', 'surronded', 'room', 'underpass', 'advertising', 'brownstone', 'valleys', 'drap', 'innertubes', 'crevice', 'wheelers', 'device', 'skewers', 'either', 'gazebo', 'kerry', 'lettuce', 'plaza', 'material', 'squirt', 'overweight', 'travel', 'foreground', 'joust', 'noses', 'lounge', 'quarry', 'fence', 'welldressed', 'bust', 'messy', 'derssed', 'toddles', 'dreadlocks', 'extends', 'saxaphones', 'designed', 'drawing', 'peeping', 'inertia', 'challenge', 'dodges', 'buttoned', 'casually', 'combat', 'whie', 'archway', 'hilltop', 'judo', 'avrovulcancom', 'adorned', 'excess', 'head', 'dripping', 'obedience', 'house', 'persue', 'twotone', 'adjusting', 'germanshepherd', 'nascar', 'teenagers', 'own', 'investigates', 'looker', 'raincoat', 'misses', 'litter', 'madly', 'yorkie', 'noodle', 'recyclable', 'corn', 'tatoo', 'geological', 'brindlecoated', 'jacketed', 'bow', 'draping', 'pushing', 'flock', 'tractorlike', 'provocative', 'outside', 'tatooed', 'getting', 'bicycles', 'pretend', 'mountainous', 'port', 'elevator', 'garter', 'parasailors', 'when', 'forearms', 'daft', 'jumpinjg', 'cemetery', 'infants', 'groceries', 'ship', 'atvs', 'goats', 'rods', 'crouches', 'rebound', 'cutoff', 'taps', 'fair', 'exhibt', 'dupar', 'disguise', 'flood', 'roiling', 'thrower', 'ethnic', 'wizard', 'background', 'slighty', 'upside', 'overlooked', 'waling', 'garmet', 'client', 'angels', 'gust', 'while', 'raingear', 'arrow', 'dribbling', 'fairground', 'reported', 'egg', 'gesture', 'sundress', 'native', 'redwood', 'firehose', 'conical', 'finishes', 'clibing', 'uniquelyshaped', 'poster', 'skates', 'last', 'anticipates', 'ask', 'glvoes', 'signature', 'tanskinned', 'expansive', 'cage', 'graze', 'rug', 'vaults', 'grimmaces', 'smelled', 'bricks', 'nervous', 'digger', 'peeks', 'arena', 'public', 'fish', 'bowed', 'setup', 'reception', 'in', 'trail', 'wellmuscled', 'campfire', 'rainling', 'corndogs', 'lanterns', 'shell', 'operate', 'streched', 'fetched', 'waterbed', 'zepra', 'spokes', 'orders', 'architectural', 'pinball', 'ghost', 'but', 'reflection', 'raise', 'earring', 'raced', 'spinart', 'neptuno', 'pedestrian', 'trolley', 'rockstrewn', 'cockpit', 'fingertips', 'choir', 'bowls', 'graffitti', 'been', 'string', 'kit', 'roped', 'unique', 'swampy', 'mattress', 'halfcompleted', 'fronr', 'pot', 'blouse', 'leotard', 'aerobics', 'pale', 'purchasing', 'winnie', 'umpire', 'type', 'chrismas', 'penske', 'dryed', 'drives', 'parent', 'rapids', 'cylinder', 'scientist', 'hte', 'stroll', 'grayhound', 'brick', 'submissive', 'graffiti', 'crouch', 'sheltered', 'tuft', 'montana', 'pilots', 'working', 'fashioned', 'demonstration', 'forward', 'airfilled', 'drilling', 'pours', 'punkish', 'to', 'floored', 'portable', 'farris', 'dribbled', 'pads', 'top', 'snowmobile', 'purchased', 'rimmed', 'trailer', 'mouthpiece', 'slumped', 'midpitch', 'county', 'dolphin', 'softdrinks', 'crevasse', 'treated', 'knuckle', 'nipples', 'total', 'hugged', 'skater', 'lie', 'frame', 'aims', 'hoses', 'pyrotechnics', 'logos', 'verdant', 'push', 'crazy', 'flocking', 'these', 'ponytail', 'carrier', 'cable', 'trainer', 'lunges', 'breasts', 'drinking', 'cowboys', 'takedown', 'using', 'exercising', 'advertisment', 'worshipping', 'level', 'offering', 'pinkhooded', 'tray', 'hello', 'sandcastles', 'videocameras', 'syrup', 'bounce', 'beverage', 'bareback', 'shredding', 'outwards', 'proamerica', 'parasail', 'hummingbird', 'backstrokes', 'extravagent', 'displayed', 'gal', 'refrigerator', 'icicle', 'scarfs', 'peeking', 'veil', 'other', 'exits', 'rapid', 'corkscrew', 'gain', 'pane', 'handkerchiefs', 'tosses', 'comfort', 'decide', 'flags', 'motioning', 'entangled', 'wakeboarder', 'dodge', 'bracelet', 'pom', 'competitively', 'retrieving', 'll', 'beers', 'capes', 'diferent', 'grayish', 'exposing', 'origin', 'king', 'backgound', 'holy', 'daschund', 'shephard', 'railling', 'wringing', 'bows', 'looptheloop', 'talking', 'shooting', 'blurring', 'jetskis', 'frowning', 'bland', 'flea', 'next', 'poolside', 'pebble', 'this', 'sooner', 'forelegs', 'somersaulting', 'paraphernalia', 'mannequin', 'huddled', 'livestock', 'more', 'tickets', 'africans', 'entwined', 'rights', 'advance', 'blowing', 'lamp', 'shortsleeved', 'played', 'window', 'fires', 'gorgeous', 'mid', 'arab', 'barber', 'its', 'country', 'earth', 'jewlery', 'sign', 'parka', 'expanding', 'solitude', 'egytianlike', 'awaits', 'taxi', 'energetic', 'tickled', 'space', 'quilt', 'readying', 'turning', 'fixes', 'darkcolored', 'club', 'clasped', 'traveling', 'theater', 'by', 'tanned', 'clowning', 'forearm', 'sideways', 'stirred', 'scowling', 'reduniformed', 'caterpillar', 'seven', 'heap', 'born', 'perched', 'dave', 'mechanisms', 'struggle', 'naturally', 'can', 'raling', 'shirts', 'retrieves', 'bulls', 'lolly', 'fluid', 'manmade', 'propeller', 'tin', 'progressively', 'fly', 'archeologist', 'fourwheeled', 'skies', 'underwater', 'earflaps', 'scrap', 'pouch', 'burlap', 'landform', 'attempts', 'salvar', 'modern', 'cappedhills', 'waking', 'poofy', 'via', 'taking', 'cigars', 'snuggles', 'blownup', 'spinning', 'canooers', 'trek', 'cower', 'villages', 'waterproofs', 'beachfront', 'fiercely', 'desserts', 'tanning', 'underside', 'sleeves', 'buys', 'crochet', 'gear', 'childrens', 'sushi', 'groomsmen', 'showgirl', 'canadian', 'thought', 'stall', 'gorge', 'abandon', 'newborn', 'backdrop', 'wine', 'waterproof', 'ridable', 'portfolio', 'reaches', 'smear', 'raincoats', 'wielding', 'crystalclear', 'met', 'endzone', 'peddled', 'dangles', 'dancers', 'during', 'guy', 'castles', 'violently', 'controls', 'temporary', 'plenty', 'toy', 'images', 'newspapers', 'internet', 'greyish', 'bearers', 'suburban', 'sending', 'striped', 'einstein', 'collars', 'wishing', 'crane', 'javelin', 'ashy', 'youngster', 'sailor', 'coffin', 'monument', 'goods', 'upwards', 'lost', 'parallel', 'flannel', 'pillows', 'blackrimmed', 'wiping', 'construction', 'won', 'bearer', 'iove', 'coliding', 'assorted', 'trained', 'pelicans', 'themed', 'dresswear', 'osme', 'similar', 'onslaught', 'triangle', 'gettin', 'empty', 'helps', 'softball', 'shoulder', 'operators', 'dim', 'stoplight', 'gliders', 'circular', 'sweater', 'backtoback', 'creating', 'returns', 'customers', 'pups', 'waterskiing', 'opponent', 'euro', 'midfield', 'else', 'banners', 'then', 'cutouts', 'keepaway', 'citizens', 'jacked', 'crafts', 'raised', 'closeby', 'squeezed', 'eroded', 'trotting', 'eyepatch', 'united', 'morning', 'twopiece', 'mitsubishi', 'handout', 'sooners', 'soaring', 'decoyanimal', 'striding', 'skying', 'mini', 'cello', 'weave', 'radio', 'sarongs', 'alcohol', 'slam', 'digs', 'dressing', 'cleaned', 'faucet', 'aged', 'energizer', 'boating', 'someplace', 'geese', 'concentrates', 'on', 'distance', 'interacts', 'artist', 'blacktop', 'wharf', 'signpost', 'shoulderdeep', 'shops', 'htting', 'steering', 'lighted', 'subject', 'limbs', 'beckham', 'graffited', 'shirtless', 'moving', 'forefront', 'launch', 'bloody', 'aisle', 'overlooking', 'fireball', 'organization', 'checkout', 'microphones', 'mine', 'mani', 'structure', 'items', 'condoms', 'hand', 'boys', 'german', 'stucco', 'offstage', 'landfill', 'tear', 'walled', 'punt', 'bathingsuit', 'bting', 'panoramic', 'book', 'flats', 'acrobatics', 'unusual', 'scary', 'bluestriped', 'passenger', 'overhear', 'sponsors', 'wings', 'lotion', 'prizes', 'sentence', 'cruisship', 'robot', 'tikes', 'saucer', 'reptiles', 'awnings', 'retrives', 'peoples', 'skydiving', 'paddlers', 'belongs', 'arabic', 'banjo', 'snapshot', 'shining', 'objest', 'sitts', 'huge', 'sweatshirt', 'brownandblack', 'mannequins', 'letters', 'gondola', 'lawnmower', 'fleeces', 'obscure', 'pitbull', 'flickr', 'blows', 'body', 'chicken', 'reveals', 'chained', 'trio', 'text', 'gathers', 'heart', 'rafter', 'cheerleading', 'arid', 'numeral', 'sponge', 'brownspotted', 'casino', 'slurpees', 'hovers', 'quickly', 'buffet', 'tattoos', 'obama', 'midclimb', 'goat', 'onward', 'tbe', 'scarred', 'neckdeep', 'delivering', 'sock', 'lightup', 'bicyclecross', 'reflected', 'tumbleweed', 'lining', 'card', 'carpeting', 'joggers', 'slouched', 'impress', 'paperwork', 'rollerblading', 'viewing', 'plucking', 'peaks', 'videogame', 'mound', 'boy', 'tandem', 'collected', 'inspect', 'soil', 'pinkbottomed', 'gorup', 'walmart', 'pauses', 'counter', 'number', 'uncut', 'reached', 'protesters', 'marketplace', 'ox', 'damp', 'distorted', 'yellowsuited', 'wed', 'models', 'closes', 'oriental', 'funky', 'rubble', 'funny', 'sleigh', 'attacks', 'remaining', 'peirced', 'hide', 'zooms', 'headphone', 'stonefilled', 'diveboard', 'snowfield', 'tidal', 'japanesesponsored', 'eastern', 'jackson', 'throught', 'hods', 'snarling', 'bumble', 'lap', 'slalom', 'squeamish', 'apron', 'wearhing', 'suv', 'match', 'bumps', 'proud', 'chainsaw', 'rolling', 'coming', 'dominant', 'protects', 'highfiving', 'articles', 'milkweed', 'jr', 'lady', 'rockstar', 'supporters', 'lecture', 'muscles', 'redvested', 'wigs', 'trekking', 'zaftig', 'district', 'skateboard', 'columned', 'weathered', 'daughter', 'air', 'power', 'bird', 'atrium', 'dumpsters', 'upstream', 'tball', 'wetsuits', 'rival', 'lot', 'skijoring', 'weaving', 'demonstarting', 'housing', 'excavating', 'beachgoers', 'carving', 'tricks', 'uniformed', 'peterson', 'motorcrossing', 'brief', 'sweats', 'rates', 'rollerskating', 'kneedeep', 'breaded', 'teenage', 'basketballs', 'path', 'melts', 'roller', 'excitement', 'knocking', 'chasseing', 'ahead', 'bandages', 'shaft', 'act', 'sweashirt', 'cavern', 'overwhelmed', 'tending', 'backview', 'chases', 'unconventional', 'mansion', 'dachshund', 'berets', 'calming', 'clever', 'medow', 'acoustic', 'cheerleaders', 'bungeejumping', 'outfitted', 'edged', 'blasted', 'starting', 'views', 'shape', 'towards', 'wind', 'and', 'mother', 'celebration', 'lunchbox', 'acrobat', 'rocket', 'playy', 'elevation', 'higher', 'chins', 'mop', 'petals', 'pool', 'pushes', 'fishermen', 'chow', 'lopes', 'equipment', 'lion', 'nt', 'ladies', 'dot', 'partly', 'foil', 'id', 'militarystyle', 'upward', 'quintet', 'hanna', 'coupe', 'hooker', 'youngsters', 'model', 'indy', 'liberty', 'stove', 'skimming', 'presentations', 'campsite', 'craft', 'standind', 'bite', 'based', 'identifier', 'store', 'flipping', 'wellgroomed', 'wildflowers', 'crosswalks', 'mown', 'filed', 'formallydressed', 'vaulting', 'waitresses', 'palestinian', 'follows', 'determined', 'operated', 'horro', 'widebrimmed', 'seeking', 'gestures', 'reviewing', 'wig', 'pier', 'aquacolored', 'shorter', 'sidwalk', 'fist', 'arranged', 'checkerboard', 'beautiful', 'snows', 'boarders', 'filmed', 'hills', 'fiels', 'backpacks', 'motorcycle', 'baseman', 'sad', 'buoy', 'pharmacy', 'kiosk', 'landscaped', 'fencers', 'adhd', 'primping', 'pastel', 'players', 'troupe', 'caught', 'shredded', 'donning', 'spotters', 'bug', 'cloud', 'use', 'reads', 'complimentary', 'changes', 'deeps', 'faithful', 'frosty', 'palmtree', 'puma', 'identification', 'set', 'ears', 'recently', 'parasurfs', 'root', 'wasteland', 'tried', 'ones', 'widow', 'tipped', 'shoe', 'hawk', 'beaks', 'plastic', 'classical', 'vast', 'arc', 'longspandex', 'underground', 'case', 'grove', 'bigbox', 'up', 'trousers', 'midair', 'streamer', 'graffti', 'gurnee', 'evil', 'stripes', 'nearly', 'purchase', 'entertaining', 'saffron', 'auditorium', 'driverside', 'cyclist', 'gigolo', 'sprinting', 'once', 'witches', 'still', 'backgrounds', 'waitress', 'false', 'blackstriped', 'pacifier', 'telegraph', 'extending', 'bookshelf', 'worshippers', 'petterned', 'colorfully', 'keeper', 'further', 'headlong', 'government', 'fur', 'splits', 'towers', 'mastif', 'rushed', 'procession', 'tables', 'split', 'ash', 'fadora', 'again', 'everywhere', 'counters', 'tankini', 'siting', 'glides', 'burned', 'beside', 'section', 'wakeboards', 'treck', 'chess', 'mohawk', 'shimp', 'flips', 'wraps', 'citizen', 'bouncing', 'drainage', 'tortoise', 'punching', 'cardigan', 'astro', 'emits', 'machine', 'prance', 'tiger', 'person', 'vigorous', 'ocean', 'attaching', 'floats', 'even', 'riwal', 'assemble', 'siren', 'screaming', 'crag', 'fetch', 'greencolored', 'signed', 'starlet', 'talent', 'dangling', 'snowploe', 'buckled', 'fortess', 'fountain', 'venue', 'posh', 'preteen', 'tiled', 'headdresses', 'hole', 'doors', 'gray', 'cans', 'casterol', 'containig', 'oppsite', 'wakeboard', 'pamphlets', 'climber', 'five', 'intensely', 'bluetooth', 'residential', 'students', 'looking', 'labrador', 'cylindrical', 'shite', 'defending', 'stacked', 'propel', 'intervening', 'column', 'six', 'tyedyed', 'escalators', 'march', 'contraption', 'cowlike', 'barbed', 'explosive', 'workers', 'dress', 'calf', 'crewmen', 'tan', 'rubs', 'lilypads', 'skiers', 'flip', 'scrubland', 'intently', 'midsections', 'polka', 'alley', 'print', 'decorations', 'multiple', 'fastens', 'tropical', 'celtics', 'intersection', 'nash', 'region', 'daschunds', 'medals', 'gallery', 'marble', 'owl', 'darkness', 'dogshirt', 'obstacles', 'package', 'filming', 'fancy', 'pleadingly', 'pieces', 'newlyweds', 'jumpos', 'floppy', 'ally', 'stretchy', 'offwhite', 'barrel', 'traffic', 'gifts', 'sparse', 'tablet', 'trimmed', 'fighting', 'devotion', 'daredevil', 'farmland', 'suspiciously', 'sheperd', 'bicycling', 'screen', 'burn', 'copper', 'aliens', 'paint', 'wood', 'cobbled', 'barrels', 'hero', 'uneven', 'unseen', 'oar', 'leafless', 'genetic', 'branding', 'pitcher', 'speeding', 'gnawing', 'struggles', 'abseiling', 'badges', 'paraglider', 'motorscooter', 'skidded', 'protect', 'nose', 'stride', 'scaling', 'du', 'potrait', 'windsurf', 'rail', 'vine', 'anklehigh', 'astonishment', 'bounces', 'building', 'joyfully', 'dry', 'formation', 'dug', 'lionist', 'high', 'surfboarder', 'henna', 'divind', 'hind', 'mold', 'positioned', 'spangles', 'discuss', 'cyclists', 'culprit', 'hoodoos', 'balancing', 'goalies', 'handrail', 'tissue', 'dramatic', 'jacks', 'lacrosse', 'bottled', 'floaters', 'emerges', 'farm', 'squabble', 'ejected', 'finished', 'buses', 'picture', 'buggies', 'diego', 'tim', 'bundle', 'sheepdogs', 'shake', 'moniter', 'helmeted', 'handstands', 'driftrood', 'rearview', 'logo', 'wade', 'longdistance', 'egret', 'jersay', 'wiped', 'busters', 'riverboat', 'sightseeing', 'passed', 'fisheye', 'portapotty', 'depth', 'carolina', 'guiutarist', 'bunchh', 'rugs', 'holey', 'floated', 'flipflop', 'stubby', 'filling', 'above', 'information', 'tile', 'fun', 'junction', 'examine', 'spreads', 'onlooker', 'encounters', 'codpiece', 'hurridly', 'nips', 'smooth', 'bartender', 'grappling', 'dealing', 'shoot', 'powder', 'smell', 'peacefully', 'stump', 'snowdrift', 'boulder', 'sponsored', 'trick', 'crowns', 'base', 'duffel', 'rooftop', 'around', 'hazmat', 'pacman', 'tilts', 'serena', 'dandelion', 'tanandwhite', 'hauled', 'patrons', 'am', 'scratches', 'apartment', 'graygreen', 'wierd', 'rover', 'sniffs', 'facepainted', 'redish', 'spraying', 'woman', 'recliner', 'court', 'trash', 'gra', 'sinking', 'chestnut', 'bars', 'redbrown', 'inflatbale', 'domed', 'pillar', 'menu', 'nuzzling', 'wife', 'saltandpepperhaired', 'lillypads', 'dismounts', 'roof', 'alter', 'popping', 'jockey', 'middle', 'grapple', 'benches', 'arrows', 'brighly', 'world', 'spiderpatterned', 'pole', 'give', 'drain', 'swimsuit', 'treecovered', 'smeared', 'light', 'sunshade', 'varied', 'hip', 'corgie', 'dogsled', 'tundra', 'beret', 'blazing', 'town', 'commercial', 'sheltie', 'spins', 'packers', 'redhead', 'arranging', 'cover', 'civillians', 'charges', 'jogged', 'payphone', 'vertical', 'pleople', 'art', 'remember', 'marvel', 'wand', 'massive', 'facepaintings', 'ear', 'ragged', 'reenactment', 'midafternoon', 'join', 'forehand', 'twisty', 'tramples', 'enviorment', 'blindfolds', 'large', 'jousting', 'main', 'snowsuits', 'strolls', 'trench', 'whitebearded', 'glide', 'two', 'blades', 'res', 'emerging', 'ties', 'midjump', 'perches', 'batons', 'suitcase', 'thrust', 're', 'moutain', 'swinger', 'fleece', 'cowgirl', 'welllit', 'brightlycolred', 'bison', 'happily', 'kissing', 'trains', 'certificates', 'flexing', 'shotput', 'merchandise', 'snowsuit', 'disturbed', 'otuside', 'democrat', 'yells', 'aquos', 'hops', 'puck', 'albert', 'gyro', 'rung', 'register', 'least', 'maracas', 'stools', 'farmers', 'guitarist', 'galloping', 'speech', 'mushroom', 'shiny', 'headresses', 'fall', 'bathrobe', 'buckets', 'drapped', 'sculpture', 'york', 'cowgirls', 'office', 'defend', 'embraces', 'gigantic', 'mules', 'straddling', 'flexible', 'mall', 'people', 'instruments', 'sleve', 'muffs', 'toetouch', 'encouraged', 'carpeted', 'blowup', 'dancer', 'legos', 'guard', 'ribbon', 'cube', 'photographs', 'walkway', 'his', 'conditions', 'unicycle', 'aids', 'thw', 'or', 'well', 'dwelling', 'genocide', 'diamond', 'sister', 'multiracial', 'interrupts', 'already', 'double', 'twig', 'heads', 'backback', 'applauding', 'greenhouse', 'vaulter', 'do', 'semicloudy', 'skilift', 'consulting', 'geishas', 'ace', 'just', 'feels', 'wields', 'mountaintops', 'receiving', 'cap', 'confrontation', 'messenger', 'signer', 'opportunity', 'freestyle', 'bicycle', 'behinf', 'chi', 'signage', 'deserted', 'interviewing', 'pursuing', 'supplies', 'mart', 'attire', 'missing', 'gallops', 'silver', 'climbing', 'setting', 'sell', 'locker', 'posters', 'sidewalk', 'vehicle', 'wetland', 'shortly', 'skinned', 'pensive', 'embroidered', 'unison', 'slimy', 'brige', 'lake', 'bike', 'badminton', 'nighttime', 'charging', 'mama', 'submerges', 'strollers', 'loop', 'shook', 'wisks', 'plush', 'canon', 'peolple', 'outfit', 'pizzeria', 'descend', 'applebee', 'button', 'permed', 'mist', 'couches', 'eat', 'casque', 'utilities', 'spout', 'age', 'onehanded', 'snack', 'bushels', 'something', 'sportswear', 'having', 'twenty', 'currently', 'hippie', 'colander', 'wizards', 'stoll', 'rope', 'creepy', 'gauzey', 'wakeboarding', 'cabana', 'rivers', 'instrument', 'cresting', 'maintained', 'propelled', 'husks', 'quilted', 'fanning', 'summit', 'emitting', 'clemson', 'clapping', 'guards', 'limegreen', 'brush', 'mock', 'tripod', 'headphones', 'youth', 'swatted', 'content', 'adoring', 'sale', 'itself', 'cottage', 'infant', 'murky', 'clings', 'burst', 'lapse', 'bounding', 'displays', 'mountainclimbing', 'finish', 'ee', 'camel', 'blocking', 'pats', 'corner', 'meal', 'though', 'adults', 'buster', 'coutryside', 'hatted', 'bared', 'boas', 'teach', 'giving', 'tea', 'guardrail', 'dj', 'splashing', 'husk', 'mittened', 'fitness', 'basketball', 'rasing', 'bullhorn', 'waterfall', 'hapy', 'teamates', 'sisters', 'refreshment', 'noise', 'constructions', 'humans', 'teeing', 'comforter', 'ruggers', 'ended', 'allterrain', 'had', 'redbull', 'headdress', 'covers', 'aig', 'zara', 'ceremonial', 'evade', 'cyclers', 'dumped', 'wellkept', 'shade', 'fairies', 'trying', 'shopping', 'dancing', 'outstretched', 'sportwoman', 'footballs', 'bushy', 'border', 'costumed', 'revealing', 'santana', 'stuntman', 'rifle', 'jar', 'bedspread', 'teases', 'upraised', 'relax', 'tricycles', 'nightlife', 'rallies', 'party', 'whack', 'dangerous', 'hers', 'gotten', 'graffitiheavy', 'cruiser', 'vision', 'grandmother', 'clover', 'stood', 'swung', 'mobile', 'lucky', 'snowman', 'corgis', 'snowed', 'personnel', 'medatative', 'wheels', 'muffler', 'seattle', 'cautiously', 'leaf', 'salmon', 'passengers', 'motorcyclists', 'goggles', 'slipper', 'jostles', 'twins', 'senior', 'layer', 'flaggers', 'bubbles', 'stockcar', 'crouched', 'peircings', 'soggy', 'kneeling', 'tattooed', 'flautist', 'outdoors', 'library', 'slips', 'mushing', 'rock', 'crafted', 'sucker', 'melting', 'scoop', 'father', 'bottoms', 'groups', 'hopper', 'puckering', 'pond', 'drumming', 'laughing', 'lingers', 'jewels', 'hall', 'fancily', 'clowds', 'murals', 'marches', 'risen', 'headbands', 'flurry', 'stiffing', 'given', 'fireworks', 'makeshift', 'guests', 'nets', 'cereal', 'whips', 'hr', 'enforcement', 'capris', 'tackles', 'backing', 'balls', 'posign', 'poses', 'connected', 'worships', 'pretty', 'bare', 'sedan', 'china', 'rides', 'return', 'savanah', 'kilts', 'receives', 'pillowfight', 'compete', 'staff', 'coveralls', 'yong', 'socks', 'earrings', 'participant', 'runway', 'bellysmacker', 'foldable', 'off', 'slightly', 'gandhi', 'european', 'currents', 'flippers', 'gay', 'razzling', 'participates', 'puzzled', 'barricade', 'foamy', 'violins', 'moss', 'utensils', 'snowbank', 'crucified', 'nd', 'leaping', 'cafe', 'hospital', 'lookalike', 'admires', 'fishscales', 'uptop', 'easy', 'fashion', 'portrait', 'greyishbrown', 'kickbox', 'cramped', 'fitls', 'comfortable', 'states', 'dragged', 'flotation', 'freshly', 'tiles', 'pooh', 'shrubbery', 'stair', 'scare', 'knee', 'drags', 'beached', 'at', 'artificial', 'garment', 'grabs', 'erupts', 'wounds', 'willow', 'sweaters', 'day', 'brimmed', 'paws', 'bathing', 'girt', 'hulk', 'inline', 'shore', 'sails', 'late', 'semiformal', 'responding', 'tilling', 'poorly', 'cameras', 'decortive', 'halfnaked', 'defenders', 'violin', 'strains', 'camels', 'accident', 'lock', 'balconies', 'towed', 'cigerette', 'trails', 'nipple', 'concealed', 'biscut', 'strike', 'red', 'detector', 'joint', 'produce', 'halo', 'breaching', 'amazed', 'rangers', 'tries', 'clipped', 'antique', 'unexcited', 'mets', 'caches', 'facility', 'abs', 'defends', 'graffitistrewn', 'shoulderlength', 'rickety', 'dimond', 'rays', 'wrangles', 'competes', 'longbearded', 'my', 'landscape', 'forwards', 'motivation', 'bmxer', 'boxes', 'floors', 'expose', 'patricks', 'carreis', 'breezeway', 'creates', 'forms', 'bark', 'hp', 'sliiding', 'gap', 'croquet', 'canned', 'gothically', 'includes', 'handle', 'rollerskater', 'korean', 'recording', 'blurred', 'involved', 'basset', 'equipments', 'waders', 'snow', 'exercised', 'grass', 'pelican', 'grond', 'caucasian', 'crowded', 'earnhardt', 'fortune', 'waterspouts', 'bigg', 'spaniel', 'turtle', 'obese', 'grip', 'sharing', 'interestingly', 'glassses', 'handrailing', 'forceful', 'shirted', 'trapped', 'outstreached', 'naval', 'towheaded', 'longboarder', 'coldweather', 'digital', 'openmouthed', 'no', 'streambed', 'much', 'grazing', 'prays', 'restaurant', 'derby', 'soda', 'romantic', 'folks', 'rippling', 'antennae', 'challenges', 'outrun', 'waves', 'desperate', 'maintain', 'younger', 'tell', 'there', 'jeeps', 'among', 'turnaround', 'decorative', 'attacking', 'lecturing', 'shave', 'collecting', 'stretcher', 'seashore', 'fashionably', 'grasping', 'carpenters', 'aluminum', 'stairway', 'furocious', 'descent', 'windowsill', 'median', 'noisemaker', 'punk', 'rapels', 'scoring', 'dragsters', 'terrorizes', 'whild', 'plants', 'doge', 'fiddles', 'celebrates', 'zoo', 'peanut', 'wilderness', 'leotards', 'highschoolers', 'tattered', 'toward', 'gambling', 'directions', 'closed', 'cots', 'thin', 'hanging', 'orca', 'scores', 'headwrap', 'peers', 'projector', 'heron', 'london', 'bystanders', 'minerature', 'butting', 'bulletproof', 'clean', 'feather', 'shoulders', 'whisper', 'blockers', 'surfboard', 'surfboarding', 'spelunkers', 'widespread', 'silky', 'mural', 'visitor', 'jumped', 'avoids', 'tide', 'eyeshadow', 'wooly', 'presentation', 'chewed', 'spotlight', 'sorts', 'flirts', 'grasslands', 'staring', 'folding', 'mushrooms', 'abandoned', 'fronds', 'uniform', 'teen', 'bend', 'bullet', 'spanishstyle', 'snapping', 'cannon', 'leopard', 'bits', 'wakeboarders', 'noodles', 'exchanges', 'caged', 'supporter', 'cascading', 'kitty', 'clause', 'printed', 'slab', 'pinwheel', 'fabric', 'called', 'ensemble', 'start', 'rises', 'megaphone', 'helicopter', 'cattails', 'tennis', 'somersaults', 'crashes', 'rink', 'sweatband', 'bathtub', 'terminal', 'retail', 'officiallooking', 'bicyclers', 'mantle', 'obscured', 'was', 'accompanied', 'lighting', 'backwards', 'childing', 'maneuvering', 'sword', 'outfield', 'att', 'lone', 'hopes', 'statues', 'door', 'put', 'tubes', 'fedora', 'item', 'backgroud', 'raceway', 'kimonos', 'underneath', 'beagle', 'treed', 'fingerpaints', 'sleeps', 'nightclub', 'urinating', 'dandelions', 'frown', 'piano', 'transport', 'kept', 'walker', 'girls', 'milling', 'phrase', 'flinging', 'sells', 'swooping', 'gliding', 'thumbs', 'gentlemen', 'letter', 'zombie', 'bumpy', 'apart', 'lav', 'crosses', 'cloths', 'chase', 'paralell', 'obscuring', 'stoic', 'bespectacled', 'muti', 'blackrobed', 'torso', 'carabiner', 'winking', 'tussling', 'swarm', 'butter', 'partially', 'hiviz', 'gondoliers', 'waterway', 'canyon', 'christmas', 'fishers', 'sunflowers', 'cami', 'riverside', 'roofed', 'footrace', 'woodlands', 'deciding', 'tartan', 'joined', 'undone', 'signs', 'factory', 'cutout', 'raked', 'separated', 'kill', 'hips', 'seafood', 'lightsaber', 'carnival', 'lying', 'racers', 'muxzzled', 'abdomen', 'trams', 'carpet', 'goldenrod', 'leather', 'cigarette', 'wheel', 'pine', 'handrails', 'stands', 'rushing', 'colorings', 'biplane', 'anticipation', 'europe', 'loan', 'classmates', 'bikins', 'anime', 'autos', 'draft', 'hands', 'traversing', 'cushion', 'mats', 'trips', 'stopaction', 'focus', 'fields', 'aquatic', 'peeing', 'collage', 'side', 'checkered', 'feed', 'mechanical', 'cobblestones', 'piercing', 'weiner', 'icey', 'barge', 'drifting', 'rollerskate', 'fixer', 'muzzles', 'crash', 'black', 'concerned', 'zchtv', 'halfburied', 'amount', 'fighter', 'ninjalike', 'swings', 'opposition', 'tobaggons', 'distribute', 'goofing', 'play', 'bouncey', 'overturn', 'magicians', 'shutters', 'subaru', 'lush', 'branded', 'cigar', 'headwear', 'planked', 'standing', 'slacks', 'vie', 'greet', 'covered', 'shelves', 'breathing', 'eagle', 'bookshelves', 'beanie', 'sailing', 'flight', 'dragons', 'somehow', 'curious', 'tripods', 'novelty', 'night', 'cheeked', 'sip', 'orangestained', 'truck', 'digging', 'swimmer', 'rummages', 'muscular', 'drab', 'replaced', 'sunlit', 'proximity', 'shepherds', 'terriers', 'fireplug', 'cold', 'tigger', 'bleak', 'panhandler', 'presses', 'shower', 'climbed', 'celebratory', 'trip', 'newspaper', 'protection', 'pail', 'blow', 'sprinkling', 'wallride', 'onearmed', 'weaves', 'prayer', 'mainly', 'skins', 'approaching', 'happen', 'challenging', 'coiled', 'sub', 'canoers', 'city', 'slalomlike', 'allowing', 'contained', 'hit', 'overall', 'awning', 'positions', 'topped', 'kneeled', 'rabbits', 'slides', 'scrimmage', 'identically', 'web', 'roadside', 'involves', 'winston', 'low', 'trucks', 'lift', 'pep', 'pigeon', 'ferns', 'goatee', 'rod', 'woody', 'domes', 'quick', 'crossed', 'photos', 'quiet', 'attached', 'dominance', 'waterfilled', 'trays', 'dotted', 'alligator', 'buries', 'playstation', 'fold', 'stirs', 'tongee', 'aggresively', 'rust', 'waterskies', 'shed', 'pyramid', 'goofy', 'upright', 'waterfront', 'canoe', 'aross', 'couch', 'blankets', 'calico', 'banister', 'tassel', 'pasts', 'amounts', 'religious', 'pall', 'shorthaired', 'neckties', 'dropping', 'chilly', 'sea', 'looked', 'passage', 'teaches', 'nibbles', 'armoire', 'cabin', 'pasture', 'served', 'minimal', 'bottles', 'convert', 'stoop', 'hoof', 'glacier', 'shadows', 'pumpkins', 'prances', 'touches', 'flooring', 'butt', 'bares', 'feel', 'ascend', 'serveral', 'goldenbrown', 'leafy', 'attraction', 'breed', 'advertizing', 'grafitti', 'maneuver', 'middleaged', 'driveway', 'security', 'launches', 'verizon', 'indescript', 'tightly', 'repair', 'waterpark', 'spoon', 'chute', 'rockclimbs', 'bulky', 'yamaha', 'greyhounds', 'graveyard', 'minitrampoline', 'groupe', 'overnight', 'kiddie', 'grown', 'suits', 'pure', 'carriage', 'gemmed', 'rollercoaster', 'turbulent', 'wicket', 'st', 'sharp', 'licks', 'dear', 'remax', 'speedos', 'bellysurfing', 'mail', 'gentleman', 'loading', 'squinting', 'adjusts', 'aboriginal', 'rears', 'blossoming', 'reentry', 'candle', 'discs', 'foal', 'borader', 'xmen', 'covering', 'sunbathers', 'enclosed', 'spectators', 'matchin', 'plats', 'strikes', 'sightseers', 'bathes', 'neighborhood', 'maker', 'ashen', 'tale', 'pinata', 'supervise', 'startled', 'pottypotty', 'enclosure', 'because', 'horizon', 'gains', 'antelope', 'beack', 'time', 'junglegym', 'faint', 'shaved', 'stepping', 'restaraunt', 'heritage', 'canopy', 'thows', 'bunch', 'smartly', 'chicago', 'quietly', 'fix', 'corridor', 'riverrafting', 'motocross', 'celebrate', 'backhand', 'rags', 'wide', 'classes', 'cheery', 'cargo', 'opposite', 'suntan', 'twowheeled', 'mocks', 'shakes', 'carousel', 'word', 'downward', 'visitors', 'accross', 'exposure', 'facing', 'secluded', 'headwraps', 'strength', 'apparel', 'extreme', 'trackandfield', 'work', 'neckless', 'binky', 'jogs', 'disabled', 'footprints', 'stirring', 'tobaggan', 'underpants', 'packs', 'critter', 'shark', 'buzzes', 'demonstrating', 'loofa', 'performers', 'salt', 'churns', 'pastels', 'kidsized', 'wrinkley', 'resembling', 'kayakers', 'pyranha', 'nicely', 'multiprint', 'military', 'decorate', 'clapped', 'cycler', 'maneuvers', 'railed', 'seas', 'swimwear', 'electric', 'backround', 'ti', 'fins', 'attention', 'situated', 'target', 'swarming', 'brooms', 'tying', 'obscene', 'performs', 'honest', 'docked', 'sparkler', 'wrestilng', 'towels', 'policewoman', 'engraved', 'boardedup', 'behinds', 'attractive', 'sequoia', 'diner', 'marshy', 'deeper', 'serious', 'navigates', 'waterfalls', 'speaking', 'searching', 'ambulance', 'takes', 'local', 'motion', 'widows', 'baptized', 'biohazard', 'hats', 'kite', 'loses', 'scruffy', 'curved', 'appear', 'surrounding', 'intense', 'fiddle', 'descends', 'cradling', 'waits', 'carries', 'climbes', 'contracption', 'winding', 'la', 'chiseling', 'goalie', 'longish', 'dimly', 'restrain', 'superman', 'sniffing', 'tackled', 'jumpsuits', 'bounced', 'past', 'album', 'doggy', 'linet', 'pour', 'dozen', 'colliding', 'turns', 'cheeks', 'ankledeep', 'hamming', 'curve', 'hovering', 'kayer', 'their', 'raising', 'drawings', 'placing', 'barechested', 'browm', 'bucket', 'dishtowel', 'midflight', 'occured', 'footballers', 'arch', 'mad', 'sunny', 'schoolyard', 'pagent', 'darkly', 'fielder', 'along', 'character', 'engine', 'amoung', 'hut', 'shoreline', 'mike', 'hook', 'homerun', 'cheeseburger', 'bicyclists', 'tshirts', 'poorlylit', 'audience', 'dead', 'whit', 'quad', 'congregated', 'offcamera', 'vacant', 'underbrush', 'skateboards', 'demonstrate', 'mast', 'elbow', 'breeze', 'cinderblock', 'weight', 'wet', 'againest', 'eachothers', 'greenglow', 'pits', 'zebra', 'wrangle', 'mandolin', 'philadelphia', 'flamboyantly', 'knit', 'fro', 'individuals', 'angle', 'skiing', 'goal', 'swallow', 'gaurdian', 'films', 'wearubg', 'twirls', 'motorcross', 'belt', 'write', 'picure', 'trumpet', 'runs', 'babies', 'ridden', 'baskers', 'mobility', 'dooorway', 'napping', 'whitemetal', 'silly', 'chew', 'battling', 'olympic', 'washer', 'idyllic', 'young', 'farmer', 'baggy', 'pooping', 'industrial', 'tends', 'cashier', 'hackey', 'employees', 'teams', 'bullfight', 'ther', 'palying', 'fantasy', 'cheer', 'except', 'bum', 'studies', 'highflying', 'rotating', 'stared', 'lookout', 'watercraft', 'pan', 'sprays', 'sheperds', 'mud', 'motorcycling', 'train', 'surfs', 'knotted', 'locking', 'squated', 'sunset', 'straining', 'frolicks', 'thoroughly', 'better', 'dandylions', 'mardi', 'short', 'led', 'spectating', 'jersey', 'which', 'compact', 'muzzle', 'breeds', 'booklets', 'queen', 'steam', 'practices', 'brought', 'equpitment', 'carves', 'retaining', 'practising', 'process', 'shriner', 'spin', 'doll', 'seaworld', 'spool', 'athletes', 'bowlike', 'straw', 'stomach', 'pedal', 'whistle', 'yankees', 'pair', 'down', 'break', 'perforced', 'shots', 'caring', 'embankment', 'scarily', 'bodyboard', 'motorboat', 'magazine', 'russell', 'intended', 'uplifted', 'loader', 'elder', 'wetsuit', 'features', 'gaurd', 'overalls', 'who', 'vegetation', 'lemons', 'rolls', 'bohemians', 'trunk', 'shrine', 'eagerly', 'zooming', 'slippery', 'pigeons', 'cliff', 'tugofwar', 'eye', 'soars', 'sink', 'bodies', 'highland', 'arguing', 'vaulated', 'butterflycatcher', 'dirtbike', 'athletic', 'evident', 'gelled', 'spaghetti', 'saxophones', 'africanamerican', 'kid', 'compound', 'climbs', 'continues', 'stop', 'extravagantlyhaired', 'rising', 'thie', 'signals', 'feet', 'kitten', 'spar', 'twist', 'most', 'stock', 'puffy', 'featuring', 'bald', 'jumper', 'brown', 'cutting', 'thirds', 'choppy', 'ballerinas', 'hear', 'locks', 'snowboard', 'fountains', 'tw', 'chinatown', 'horseshoe', 'times', 'tax', 'protectors', 'styrofoam', 'headlight', 'breakdances', 'smilling', 'casts', 'retangular', 'goalkeeper', 'hammer', 'sprayed', 'bronze', 'pails', 'hikers', 'afro', 'swine', 'drivers', 'bottom', 'horizontal', 'relection', 'snowboarder', 'lounges', 'neatly', 'intercept', 'flapping', 'breath', 'beginning', 'wilbert', 'talks', 'tribal', 'saddled', 'rescue', 'redcarpeted', 'going', 'dancefloor', 'anthem', 'contestants', 'snowboards', 'smacks', 'advances', 'ridding', 'communal', 'jersy', 'master', 'proof', 'newlywed', 'navel', 'powerwashing', 'thriller', 'navigating', 'statue', 'kickflip', 'presidential', 'north', 'afternoon', 'rough', 'jogger', 'shaped', 'african', 'fake', 'voice', 'mess', 'policemen', 'hoop', 'threshold', 'behind', 'vegetable', 'thank', 'shoveling', 'consumed', 'garbage', 'buddy', 'idea', 'peace', 'hortons', 'rustic', 'board', 'daytime', 'promotional', 'motocycle', 'oxen', 'explosion', 'texting', 'snare', 'foam', 'thatched', 'snorkel', 'israei', 'sunshine', 'terrior', 'american', 'bases', 'shouts', 'mcdonald', 'wrestlers', 'automobile', 'cloudcovered', 'waterskis', 'boxers', 'occassion', 'bodysurfs', 'torii', 'soup', 'formula', 'barely', 'attending', 'mountainside', 'huskies', 'fellows', 'through', 'hauling', 'rode', 'suspenders', 'hiker', 'investigate', 'donates', 'upper', 'ypoung', 'portion', 'tulip', 'star', 'support', 'curled', 'guns', 'resort', 'giggling', 'planeta', 'rather', 'musical', 'war', 'choke', 'butchers', 'hungry', 'railroad', 'vegas', 'dummy', 'woolen', 'watersports', 'how', 'western', 'slip', 'rainstorm', 'snowball', 'chalkboard', 'be', 'punting', 'antenna', 'tub', 'moment', 'goals', 'seventh', 'rocking', 'woven', 'hippies', 'grabbing', 'dumping', 'dig', 'needlepoint', 'catwalk', 'overflow', 'trade', 'pans', 'of', 'crack', 'spanish', 'kicker', 'run', 'sportsfield', 'observes', 'punctured', 'saver', 'shawl', 'cream', 'killer', 'packages', 'underhang', 'crib', 'warning', 'possible', 'sillhouetted', 'cloverfilled', 'referees', 'spewing', 'suit', 'national', 'storefront', 'paintball', 'airtime', 'skeptically', 'trudge', 'fairly', 'flyaway', 'sum', 'fed', 'clergy', 'pointer', 'beckons', 'hummer', 'sippy', 'bash', 'enjoys', 'crates', 'kneels', 'ouside', 'band', 'browses', 'skipping', 'pictures', 'attempt', 'what', 'papers', 'yawns', 'rise', 'polar', 'toboggan', 'histerically', 'almostpristine', 'between', 'girl', 'removing', 'boa', 'like', 'scantily', 'cake', 'group', 'unzipping', 'wheeler', 'landmark', 'treelined', 'mysterious', 'newly', 'goose', 'busk', 'stripe', 'centipede', 'bedroll', 'desertlike', 'tier', 'fluffy', 'pulleys', 'studded', 'clump', 'cables', 'kiss', 'saris', 'straps', 'striking', 'leggings', 'miniature', 'quarter', 'narby', 'flings', 'blindfolded', 'posing', 'shallow', 'turkeys', 'watering', 'members', 'hound', 'headband', 'mouse', 'growls', 'bunnies', 'english', 'paintings', 'tuxedo', 'portrate', 'pontoon', 'vacationing', 'reclines', 'egde', 'adobe', 'passerby', 'preparation', 'baseball', 'artists', 'stroke', 'toss', 'artifacts', 'reddressed', 'birthday', 'grid', 'robe', 'recoiling', 'examined', 'face', 'hopscotch', 'squating', 'dacshund', 'advantage', 'lassie', 'cleats', 'canvasses', 'clown', 'scramble', 'dolls', 'chest', 'sparrow', 'stifflyposed', 'miasto', 'grilling', 'fully', 'applies', 'tourist', 'elephants', 'dirtbed', 'care', 'sheppard', 'shute', 'dandilions', 'horseshoes', 'colapsable', 'putting', 'kick', 'piggybacking', 'encourages', 'autumn', 'skyline', 'flames', 'professional', 'hypocrites', 'various', 'spigot', 'mambo', 'pets', 'yellows', 'wavy', 'cornfield', 'bungee', 'our', 'riding', 'beak', 'products', 'lasso', 'cannons', 'station', 'balcony', 'lavish', 'glowing', 'fork', 'traveller', 'downriver', 'trot', 'arcade', 'dries', 'created', 'shelton', 'way', 'spaniels', 'grainy', 'visor', 'interviewed', 'snowcapped', 'repels', 'lime', 'awkward', 'flowering', 'prepare', 'paints', 'appearing', 'redskins', 'workshop', 'cadet', 'passing', 'divided', 'raining', 'masquerade', 'waterful', 'pring', 'flown', 'mill', 'rally', 'homebase', 'downwards', 'brownandwhite', 'multicolored', 'crumb', 'excercise', 'enjoying', 'guarding', 'attentive', 'vinecovered', 'entertainer', 'boots', 'foothills', 'screeches', 'rodent', 'liking', 'slowly', 'smiling', 'microphone', 'windsailing', 'pouting', 'boatload', 'pincer', 'showgirls', 'naked', 'strip', 'marlins', 'fruits', 'windowed', 'sabre', 'swordsman', 'beneath', 'seek', 'wall', 'recieve', 'decoration', 'collaborating', 'inspects', 'backstage', 'taped', 'smoked', 'team', 'masses', 'towel', 'pipeline', 'camera', 'tugging', 'takeout', 'merchant', 'balck', 'padded', 'tricolored', 'meetinghall', 'excitedly', 'round', 'index', 'teeter', 'garner', 'amongst', 'purses', 'hardhat', 'meandering', 'playpen', 'pinkcoated', 'netted', 'jean', 'fighters', 'flowercovered', 'pay', 'zip', 'rotary', 'spectate', 'shack', 'thinks', 'footbridge', 'casual', 'sidecar', 'fourwheel', 'skateboarding', 'submerged', 'special', 'bodyless', 'royal', 'beat', 'typical', 'exited', 'cameraphone', 'flops', 'trendy', 'steer', 'indicating', 'cathcer', 'interact', 'handbags', 'transportation', 'mom', 'deposited', 'midswing', 'blondeheaded', 'lab', 'tourquoise', 'flaming', 'website', 'comprised', 'perform', 'smelling', 'some', 'cuddle', 'garland', 'wrestling', 'pinscher', 'biker', 'entertainers', 'possession', 'pinstriped', 'donations', 'disk', 'friends', 'viz', 'uno', 'school', 'glares', 'headress', 'mesa', 'steve', 'bucked', 'squirted', 'vaste', 'telephone', 'jubilant', 'slinging', 'italy', 'coyote', 'iceskating', 'chalked', 'rush', 'candidate', 'atheletes', 'landing', 'bay', 'skirt', 'youg', 'hate', 'suprised', 'igloo', 'church', 'lip', 'graham', 'giong', 'making', 'sinks', 'site', 'teacher', 'dropped', 'grimacing', 'saxophone', 'so', 'army', 'leatherclad', 'sunglasses', 'rafters', 'clears', 'heavily', 'stocking', 'chihuahua', 'withering', 'brides', 'playgym', 'drill', 'footwork', 'tame', 'trampoline', 'fallen', 'notices', 'beads', 'streamers', 'licked', 'canada', 'boatful', 'goodbye', 'whipping', 'shotongoal', 'save', 'pilar', 'emotionally', 'tussle', 'confronts', 'distant', 'hairnet', 'aquarium', 'hsirt', 'length', 'we', 'halmets', 'serve', 'fill', 'frying', 'lizards', 'sized', 'spelunker', 'soldier', 'diving', 'burka', 'teenager', 'fenced', 'latter', 'reindeer', 'boxing', 'monkeys', 'billboards', 'bordering', 'bathed', 'passenager', 'counry', 'practicing', 'suggestively', 'spotted', 'street', 'artsstyle', 'fooling', 'insynch', 'bookstore', 'buttonup', 'tumble', 'decorated', 'discussion', 'tooth', 'gym', 'mug', 'ipods', 'areas', 'stocky', 'front', 'llama', 'crawl', 'slopes', 'crowds', 'bruised', 'proudly', 'socializing', 'stuntbicyclist', 'objects', 'road', 'closecropped', 'fastened', 'firefighter', 'hardly', 'minding', 'oh', 'smock', 'glider', 'strawberry', 'witnesses', 'camping', 'cleans', 'impersonators', 'tumbling', 'practice', 'ballons', 'sit', 'frilly', 'hoops', 'state', 'almost', 'windy', 'determination', 'piled', 'eyebrow', 'crocks', 'washington', 'bulldog', 'gull', 'boredom', 'woods', 'reflections', 'fourwheeler', 'lightcolored', 'worried', 'grimaces', 'poking', 'degrees', 'summersault', 'boston', 'seated', 'temple', 'seaside', 'tabloid', 'patterened', 'markers', 'sheep', 'scuba', 'chasing', 'wets', 'woolly', 'offf', 'mills', 'brownhaired', 'congregation', 'maids', 'davison', 'swiftly', 'fishing', 'sledge', 'shoots', 'innertube', 'changing', 'coarse', 'gun', 'seagull', 'bus', 'dinner', 'swingset', 'draws', 'obsured', 'dirtracing', 'dreeds', 'get', 'paraglides', 'herding', 'chairs', 'exception', 'batter', 'sumo', 'over', 'athlete', 'oldfashioned', 'laptops', 'backflips', 'adolescent', 'dine', 'unner', 'resting', 'candy', 'peacoat', 'foreheads', 'wrists', 'djs', 'garden', 'ends', 'cocked', 'popped', 'underneat', 'noy', 'unspooled', 'stuck', 'nap', 'bale', 'dhe', 'reach', 'angerly', 'seperate', 'stretched', 'sunhat', 'university', 'growling', 'aerodynamically', 'gith', 'fuzzy', 'abarrotes', 'driving', 'kitchen', 'cougar', 'magnificant', 'lawnchair', 'plan', 'dane', 'dge', 'patchy', 'knife', 'mountaineers', 'populated', 'frisbie', 'mistletoe', 'mouthing', 'swerves', 'punch', 'bikini', 'ump', 'got', 'sandpit', 'seperated', 'cannonball', 'rockface', 'corporate', 'sculptures', 'headscarf', 'turbans', 'source', 'overlook', 'rosy', 'netting', 'reacts', 'lines', 'global', 'falls', 'gleefully', 'collared', 'slices', 'graffiticovered', 'marker', 'press', 'sequined', 'rows', 'went', 'gren', 'small', 'stacking', 'braces', 'gown', 'peoplw', 'live', 'took', 'targeting', 'ilks', 'official', 'pops', 'treads', 'wedding', 'baton', 'facefirst', 'sailboats', 'staffordshire', 'progress', 'mediumsized', 'flakes', 'overtop', 'disrupt', 'additional', 'smashed', 'baring', 'shaking', 'backbends', 'telescope', 'inflating', 'blur', 'unsual', 'barbeque', 'fundraising', 'dining', 'scraping', 'wrestled', 'mountin', 'ships', 'ciff', 'buddha', 'bamboo', 'action', 'safron', 'array', 'krueger', 'relatively', 'streetshot', 'footpath', 'encripted', 'climing', 'flash', 'headed', 'coconut', 'quarterpipe', 'crying', 'class', 'bleached', 'para', 'spash', 'chews', 'include', 'sofa', 'dusted', 'taught', 'ghostbuster', 'snowstorm', 'meditational', 'gallop', 'japanese', 'shorts', 'unhappy', 'plling', 'perfect', 'nude', 'peach', 'end', 'jailbird', 'hapily', 'casuallydressed', 'picking', 'swims', 'blocked', 'banging', 'coverings', 'backseat', 'bar', 'spare', 'captured', 'cherry', 'accompanying', 'florescent', 'backstroke', 'tackler', 'pump', 'yet', 'twos', 'investigating', 'warily', 'shoeless', 'cellos', 'kelp', 'manequins', 'metal', 'panasonic', 'she', 'illuminated', 'policeperson', 'mule', 'glances', 'adventures', 'panting', 'chunky', 'pedalling', 'foraging', 'thread', 'hotair', 'turn', 'harness', 'caution', 'tanktops', 'tournament', 'frisbree', 'bills', 'hoes', 'whitecolored', 'dyed', 'lafayette', 'measuring', 'unfurled', 'splashed', 'whales', 'overfilled', 'fishemen', 'sweatpants', 'lassos', 'turned', 'scanner', 'sunflower', 'snub', 'arabian', 'showered', 'boarded', 'skims', 'afghan', 'trailing', 'boogie', 'resembles', 'guarded', 'talk', 'seedoo', 'dozes', 'thirty', 'tugboat', 'dips', 'desks', 'volleyball', 'development', 'tops', 'monitoring', 'concentration', 'fat', 'teeth', 'will', 'chains', 'amused', 'kisscostumed', 'plywood', 'speaker', 'reaching', 'ganilla', 'kayak', 'winter', 'approachs', 'hooked', 'directory', 'burrowing', 'stage', 'chimes', 'colecting', 'emblazoned', 'midstride', 'descending', 'home', 'bracelets', 'makeup', 'railings', 'are', 'racing', 'longsleeved', 'ponchos', 'producing', 'windbreaker', 'ninja', 'us', 'dramatically', 'basett', 'sleddog', 'lagoon', 'excited', 'tabby', 'vintage', 'skids', 'carton', 'spouse', 'video', 'knees', 'hearts', 'christmastime', 'tuxes', 'aquestrian', 'bicycler', 'force', 'pitched', 'measures', 'skewed', 'series', 'couples', 'gloved', 'groucho', 'plate', 'unfurling', 'comforts', 'squirts', 'blackblue', 'figurine', 'equestrian', 'liked', 'asphalt', 'david', 'trows', 'leave', 'riverrapids', 'washing', 'tied', 'carry', 'agency', 'kayaker', 'found', 'invention', 'poppies', 'sill', 'rite', 'easels', 'longsleeve', 'fisherman', 'effects', 'ponytailed', 'uggs', 'messily', 'toe', 'judges', 'rusty', 'rottweiler', 'opposing', 'racket', 'sillhouttes', 'churning', 'greenpeace', 'enterance', 'burbur', 'carts', 'clue', 'upset', 'her', 'leaves', 'blackyellow', 'croquette', 'probably', 'parents', 'barn', 'men', 'leaning', 'display', 'tank', 'fox', 'crosslegged', 'attach', 'forests', 'holder', 'pedestal', 'done', 'americans', 'grips', 'winds', 'barking', 'pebbles', 'monk', 'draped', 'tongue', 'call', 'solitary', 'lighterskinned', 'snuggling', 'kildare', 'rellow', 'dragon', 'paddock', 'hides', 'twilight', 'preservers', 'rest', 'ractrack', 'swan', 'yarn', 'tug', 'tomatos', 'grazes', 'brownish', 'labelled', 'chests', 'launching', 'causing', 'toast', 'pice', 'hawaiian', 'illustration', 'braided', 'playground', 'embracing', 'guiding', 'tourists', 'croc', 'ran', 'piece', 'rappels', 'mole', 'antoher', 'buildabear', 'jumpsuit', 'ornate', 'escalator', 'haloween', 'backs', 'streetpole', 'frosting', 'mixed', 'you', 'mr', 'cloudy', 'frustrated', 'cotton', 'laden', 'student', 'folds', 'recreation', 'rollerblade', 'lavender', 'brothers', 'boot', 'plaid', 'burrows', 'squares', 'developed', 'barefoot', 'reds', 'puffs', 'dock', 'handed', 'looling', 'velvet', 'ravine', 'shoeshine', 'waiter', 'tucking', 'surveying', 'consumer', 'angry', 'surface', 'those', 'spring', 'fig', 'dust', 'muslim', 'strides', 'mustached', 'beverages', 'pouncing', 'scrubbing', 'princess', 'headgear', 'islamic', 'cardboard', 'spoke', 'waist', 'broken', 'fences', 'exercises', 'tshirt', 'sing', 'bouncy', 'darkened', 'limo', 'engaging', 'seaweed', 'removes', 'panes', 'mickey', 'devil', 'columns', 'earphones', 'jetty', 'venice', 'steel', 'hairstyle', 'musician', 'coach', 'playhouse', 'staue', 'india', 'portopotties', 'dog', 'wool', 'ivars', 'stonesign', 'waterline', 'monster', 'attentively', 'confetti', 'tufts', 'slat', 'necks', 'whispering', 'cupcake', 'bras', 'ls', 'mat', 'brazilian', 'bringing', 'sprint', 'roping', 'untangles', 'lifts', 'inside', 'traveler', 'squirrel', 'rangler', 'calm', 'bigger', 'skit', 'stickball', 'spiky', 'presenting', 'pompoms', 'zagging', 'contorted', 'visible', 'cycles', 'scull', 'canes', 'banks', 'mission', 'leafcovered', 'prevent', 'helped', 'wharfs', 'flowered', 'faith', 'cheered', 'claws', 'tinsel', 'rv', 'prepares', 'van', 'mouth', 'orangish', 'dance', 'snacks', 'emerald', 'apportioned', 'severe', 'bullfighting', 'mustard', 'mussels', 'color', 'halway', 'knoll', 'threw', 'mullet', 'key', 'rugged', 'glove', 'foosball', 'foot', 'frowns', 'golfers', 'tune', 'gin', 'rounds', 'stadning', 'bridge', 'mature', 'handheld', 'pigtails', 'shag', 'performance', 'needs', 'majestically', 'demonstrates', 'walls', 'huskey', 'beats', 'quite', 'encouraging', 'strapless', 'others', 'fastfood', 'need', 'darkerskinned', 'snowbanks', 'sledders', 'folded', 'aerodynamic', 'jukebox', 'restaurants', 'photographing', 'trashcan', 'sparks', 'magician', 'aloft', 'drag', 'anouther', 'discovers', 'women', 'pointed', 'raging', 'vibrating', 'vocabulary', 'unpainted', 'lunch', 'unoccupied', 'lifting', 'suited', 'competitive', 'rails', 'wildly', 'lkievely', 'torch', 'scampers', 'railing', 'recline', 'organized', 'felled', 'wisconsin', 'skydiver', 'pebbly', 'being', 'crate', 'aboveground', 'rocky', 'gushing', 'darkhaired', 'ability', 'goaltender', 'sprints', 'energy', 'park', 'disguises', 'crest', 'emty', 'pearls', 'hop', 'cheering', 'knight', 'schoolgirls', 'torsodeep', 'pairs', 'uses', 'behing', 'yoga', 'spiritual', 'he', 'steap', 'gravity', 'earphone', 'apparatus', 'mommy', 'linked', 'dragging', 'badly', 'plows', 'powerlines', 'jogging', 'plays', 'cloak', 'bluerobed', 'shoulderhigh', 'photograhi', 'touchline', 'escorts', 'sunsetting', 'squatting', 'dizzy', 'highrise', 'examines', 'dances', 'happy', 'spray', 'sick', 'river', 'protective', 'receiver', 'banner', 'motorbikes', 'cheese', 'billiards', 'open', 'rear', 'corners', 'election', 'whites', 'bog', 'movie', 'market', 'speedboat', 'jars', 'catholic', 'cavorting', 'clothed', 'tasting', 'sport', 'downsteps', 'stripped', 'booths', 'bended', 'west', 'beam', 'brake', 'wrings', 'bulldogs', 'hooping', 'daring', 'entertainment', 'formally', 'punches', 'torn', 'crooswalk', 'nubby', 'department', 'buttondown', 'juming', 'curvy', 'piercings', 'jump', 'wagon', 'monkey', 'floating', 'allmale', 'fishes', 'breakdancer', 'christ', 'ankle', 'aerobatics', 'foggyday', 'ripping', 'nylon', 'simultaneously', 'buddist', 'verbal', 'railgrind', 'kneel', 'farward', 'miami', 'event', 'sticking', 'backed', 'steps', 'scattered', 'ependent', 'uniforms', 'thing', 'parklike', 'scans', 'message', 'win', 'dirtbikers', 'sight', 'dashes', 'moustache', 'expressing', 'pants', 'overhanging', 'cushions', 'catc', 'strong', 'closeup', 'swim', 'cop', 'convenience', 'mate', 'puppy', 'physiques', 'trundles', 'googles', 'burgundy', 'doberman', 'wrapping', 'slingshot', 'yerba', 'headline', 'exchange', 'happiness', 'pulley', 'ferry', 'coastline', 'bathe', 'into', 'popper', 'coloful', 'pristine', 'beige', 'water', 'leaped', 'atomic', 'streaks', 'spirit', 'pierced', 'razer', 'drips', 'wodden', 'passin', 'multicolor', 'urge', 'vans', 'slanted', 'sponges', 'awe', 'jaket', 'stay', 'wake', 'motorcyclist', 'backlit', 'skaters', 'manicured', 'powdery', 'adornment', 'struggling', 'agility', 'pockets', 'craw', 'modifications', 'firing', 'waters', 'bluetinted', 'stange', 'furry', 'brow', 'offensive', 'mermaid', 'hurdles', 'complete', 'settings', 'bone', 'drooling', 'struck', 'bomber', 'praying', 'broach', 'unknown', 'designs', 'lower', 'saying', 'fatigue', 'bearing', 'heroes', 'ballplayers', 'theme', 'whitefooted', 'martial', 'dragster', 'pillared', 'greenish', 'expressway', 'browse', 'busstop', 'handcrank', 'straddles', 'dunked', 'plow', 'stunts', 'dusk', 'ballet', 'gettnig', 'attempting', 'watching', 'bloom', 'driven', 'od', 'smile', 'direction', 'brushland', 'dilapidated', 'paraglide', 'manually', 'roughly', 'strap', 'stares', 'dc', 'piggyback', 'brightcolored', 'coasterlike', 'focusing', 'strung', 'soaker', 'jerseys', 'slates', 'exciting', 'amphitheater', 'meat', 'seeds', 'showering', 'gauntlet', 'swipes', 'mingle', 'unfinished', 'nothing', 'finds', 'ghandi', 'harmonica', 'roll', 'kicks', 'seater', 'glovedhand', 'piles', 'rippled', 'await', 'gingerbread', 'speckled', 'heavyset', 'missed', 'snorkeling', 'necklace', 'saddle', 'performed', 'vandalized', 'sands', 'debris', 'law', 'otherwise', 'scales', 'bin', 'sang', 'possibly', 'overshirt', 'roofs', 'furiously', 'tucked', 'hoist', 'smiles', 'shiner', 'scratching', 'bundledup', 'precariously', 'forcing', 'glass', 'horseback', 'eyebrows', 'poised', 'spreading', 'find', 'litle', 'burnt', 'hooking', 'curb', 'wiener', 'rice', 'housekeeping', 'snap', 'waded', 'jaws', 'rodents', 'shop', 'scooter', 'flowery', 'gokarts', 'armor', 'supermarket', 'line', 'camp', 'bandaged', 'dirtyblonde', 'hovered', 'exhibit', 'bystander', 'duck', 'cosplayers', 'wristband', 'mountian', 'bang', 'lakes', 'apparantly', 'propels', 'electricity', 'festive', 'that', 'extended', 'widely', 'shades', 'brunettes', 'cleavage', 'kilt', 'sled', 'streets', 'allowed', 'burnished', 'bring', 'retreiver', 'dirtcovered', 'tattoo', 'retrieved', 'white', 'vfw', 'mercury', 'eyes', 'belly', 'anatomy', 'harpsichord', 'outlined', 'midst', 'colorblock', 'bent', 'strings', 'crossbones', 'swinging', 'dodging', 'pit', 'help', 'suffering', 'cash', 'stuntleap', 'words', 'tread', 'participate', 'gated', 'disney', 'super', 'orchestra', 'check', 'juggles', 'doghouse', 'stiars', 'darked', 'shocked', 'coloring', 'malnourished', 'throat', 'cup', 'cheek', 'ignoring', 'puddles', 'reflective', 'straight', 'container', 'ceremony', 'crazily', 'indoor', 'slurps', 'awkwardly', 'including', 'conch', 'falling', 'creek', 'puppies', 'inscribed', 'bigs', 'poling', 'held', 'parachuter', 'crashing', 'bullfighter', 'badge', 'twenties', 'second', 'backside', 'chewedup', 'armbands', 'homeless', 'attempted', 'holds', 'reviews', 'seyeview', 'paddling', 'bordered', 'asleep', 'autumnal', 'moter', 'stamds', 'located', 'topless', 'gound', 'clouds', 'toilets', 'debri', 'shored', 'preserves', 'upperclass', 'marinelifethemed', 'moutains', 'swordfight', 'jagged', 'telephot', 'driftwood', 'playroom', 'kiddy', 'route', 'joy', 'drift', 'wheelbarrow', 'sweat', 'heights', 'tap', 'bluff', 'traverse', 'storefronts', 'whom', 'bums', 'wispy', 'replaces', 'interlocking', 'werewolf', 'tracks', 'helemt', 'homemade', 'dirty', 'confused', 'prize', 'puff', 'fisher', 'grotto', 'tunnel', 'helmets', 'pedestrians', 'pedals', 'bands', 'shire', 'opened', 'outcrop', 'backpacker', 'player', 'biscuit', 'sucks', 'balances', 'pulled', 'louis', 'implements', 'observer', 'tube', 'knitted', 'steered', 'redclad', 'bull', 'amplifier', 'cacti', 'gators', 'eats', 'simpsons', 'rugby', 'saharan', 'caucasion', 'melted', 'participating', 'dressedup', 'observe', 'listening', 'scenery', 'resaurant', 'pf', 'sniff', 'starbucks', 'bandanna', 'slush', 'subdivsion', 'perfors', 'tired', 'gather', 'smilely', 'waterspout', 'floatlys', 'spots', 'drenched', 'panelling', 'eyese', 'tethered', 'bonfire', 'nech', 'kissed', 'sandbox', 'armstand', 'payer', 'rowers', 'bundles', 'diaper', 'cave', 'leaving', 'defecating', 'sleek', 'snarls', 'flashing', 'cordoned', 'brightlycolored', 'birdcage', 'catch', 'frightened', 'garments', 'bucking', 'oppenents', 'surprised', 'aggitates', 'buried', 'skiiers', 'scratch', 'defended', 'stuff', 'wave', 'burns', 'batting', 'suds', 'picnic', 'far', 'composure', 'cosplay', 'fantastic', 'safely', 'racer', 'profession', 'involving', 'sunsets', 'bernard', 'amuseument', 'pocket', 'celebrities', 'pressed', 'rockclimb', 'mouths', 'without', 'ollie', 'bathroom', 'fight', 'moutnain', 'island', 'vending', 'barren', 'oval', 'together', 'floaties', 'schoolchildren', 'lips', 'backbend', 'humorous', 'summer', 'produces', 'expanse', 'graduation', 'hot', 'schoolboy', 'clearing', 'minor', 'hairdo', 'figure', 'untouched', 'stack', 'snaps', 'inflated', 'drawn', 'footbride', 'informal', 'painting', 'fireman', 'negotiates', 'flighht', 'angel', 'asian', 'flowers', 'swinsuit', 'search', 'walked', 'scrambling', 'applying', 'conversing', 'apparently', 'litttle', 'spread', 'twin', 'khaki', 'twp', 'flaring', 'dark', 'bee', 'jumpsuites', 'racetrack', 'frolicking', 'skimpy', 'rack', 'huskylike', 'poems', 'classic', 'playes', 'dish', 'opponents', 'flares', 'snowfall', 'queue', 'gloves', 'swetashirts', 'wicker', 'cob', 'stoppie', 'masters', 'corgi', 'lobster', 'carved', 'coppery', 'drinks', 'guitar', 'whose', 'parked', 'rodeo', 'goucho', 'buddhists', 'framed', 'flower', 'separate', 'interior', 'awaiting', 'allow', 'figures', 'scuffle', 'becomes', 'cavorts', 'carried', 'winning', 'windboarder', 'weas', 'say', 'hunched', 'order', 'slope', 'ourdoors', 'mask', 'dart', 'file', 'toes', 'take', 'indians', 'poured', 'crocs', 'monitor', 'sashes', 'worm', 'directs', 'controlling', 'limb', 'wiffle', 'drink', 'flying', 'field', 'vista', 'slide', 'flew', 'chello', 'lots', 'wild', 'potty', 'adjustments', 'skill', 'gymnastics', 'excersise', 'lick', 'curtain', 'bath', 'tow', 'slideshow', 'ceiling', 'viewpoint', 'beatup', 'wristbands', 'miscellaneous', 'follow', 'logs', 'laborador', 'closer', 'classroom', 'waiting', 'halfsmile', 'bustling', 'barrior', 'child', 'lamb', 'begs', 'collarless', 'sides', 'yellowgold', 'sheilding', 'passers', 'pajama', 'jeans', 'highfives', 'flexibility', 'shadowy', 'ref', 'out', 'guide', 'rowed', 'convention', 'armour', 'bites', 'dealth', 'mudfight', 'tents', 'artwork', 'hoodies', 'straggle', 'boulders', 'masked', 'instructing', 'shoes', 'mma', 'grownup', 'spays', 'astroturf', 'enthusiastic', 'handlebars', 'enthusiastically', 'net', 'midsized', 'vessel', 'stingray', 'sundown', 'billboard', 'pilings', 'jackolantern', 'caribbean', 'leashed', 'soundproof', 'shady', 'mountains', 'fort', 'grenade', 'wintergear', 'patriotic', 'daisies', 'paleontologist', 'bowl', 'cross', 'old', 'capped', 'dots', 'gardening', 'waving', 'records', 'walks', 'bell', 'wearing', 'harnesses', 'jetskiing', 'assist', 'snowbound', 'zig', 'spiral', 'crab', 'places', 'pasta', 'fleecy', 'computer', 'defender', 'spurting', 'palm', 'silhouette', 'asking', 'layered', 'troll', 'entry', 'packaged', 'affectionately', 'musher', 'thinking', 'mudwrestle', 'ritz', 'marking', 'cry', 'stretch', 'chef', 'pokes', 'bloe', 'carefully', 'las', 'threeway', 'hallway', 'exiting', 'corrugated', 'hitting', 'pretending', 'battons', 'toyota', 'parlor', 'stiped'}\n",
            "Vocabulary Size: 8763\n"
          ],
          "name": "stdout"
        }
      ]
    },
    {
      "cell_type": "markdown",
      "metadata": {
        "id": "PfK7GkWA4KD1",
        "colab_type": "text"
      },
      "source": [
        "Finally, we can save the dictionary of image identifiers and descriptions to a new file named descriptions.txt, with one image identifier and description per line.\n",
        "\n",
        "Below defines the save_descriptions() function that, given a dictionary containing the mapping of identifiers to descriptions and a filename, saves the mapping to file"
      ]
    },
    {
      "cell_type": "code",
      "metadata": {
        "id": "5DwELCjB3lBv",
        "colab_type": "code",
        "colab": {}
      },
      "source": [
        "# save descriptions to file, one per line\n",
        "def save_descriptions(descriptions, filename):\n",
        "  lines = list()\n",
        "  \n",
        "  for key, desc_list in descriptions.items():\n",
        "    for desc in desc_list:\n",
        "      lines.append(key + ' ' + desc)\n",
        "  \n",
        "  data = '\\n'.join(lines)\n",
        "  file = open(file=filename, mode='w')\n",
        "  file.write(data)\n",
        "  file.close()\n",
        "  \n",
        "  \n",
        "save_descriptions(descriptions, 'descriptions.txt')"
      ],
      "execution_count": 0,
      "outputs": []
    },
    {
      "cell_type": "markdown",
      "metadata": {
        "id": "cE9Wo2lH65md",
        "colab_type": "text"
      },
      "source": [
        "### Develop Deep Learning Model\n",
        "\n",
        "In this section, we will define the deep learning model and fit it on the training dataset.\n",
        "\n",
        "1. Loading Data.\n",
        "2. Defining the Model.\n",
        "3. Fitting the Model.\n",
        "\n",
        "#### Loading Data\n",
        "\n",
        "First, we must load the prepared photo and text data so that we can use it to fit the model.\n",
        "\n",
        "We are going to train the data on all of the photos and captions in the training dataset. While training, we are going to monitor the performance of the model on the development dataset and use that performance to decide when to save models to file.\n",
        "\n",
        "The train and development dataset have been predefined in the Flickr_8k.trainImages.txt and Flickr_8k.devImages.txt files respectively, that both contain lists of photo file names. From these file names, we can extract the photo identifiers and use these identifiers to filter photos and descriptions for each set.\n",
        "\n",
        "The function load_set() below will load a pre-defined set of identifiers given the train or development sets filename.\n",
        "\n"
      ]
    },
    {
      "cell_type": "code",
      "metadata": {
        "id": "zzR01uxrE8tC",
        "colab_type": "code",
        "colab": {}
      },
      "source": [
        "\n",
        "def load_set(filename):\n",
        "  \"\"\"\n",
        "  load a pre-defined list of photo identifiers\n",
        "  \"\"\"\n",
        "  #get text contents of the file\n",
        "  doc = load_doc(filename)\n",
        "  \n",
        "  # initialize an empty list\n",
        "  dataset = list()\n",
        "  \n",
        "  # read line by line\n",
        "  for line in doc.split('\\n'):\n",
        "    # skip empty lines\n",
        "    if len(line)<1:\n",
        "      continue\n",
        "    # get image identifier\n",
        "    identifier = line.split('.')[0]\n",
        "    dataset.append(identifier)\n",
        "    \n",
        "  return set(dataset)"
      ],
      "execution_count": 0,
      "outputs": []
    },
    {
      "cell_type": "code",
      "metadata": {
        "id": "CZPyBjQcFqqC",
        "colab_type": "code",
        "colab": {}
      },
      "source": [
        "def load_clean_descriptions(filename, dataset):\n",
        "  \"\"\"\n",
        "  load clean descriptions into memory\n",
        "  filename: file to load the descriptions from: use descriptions.txt file\n",
        "  dataset: only extract descriptions for image_ids in dataset\n",
        "  \"\"\"\n",
        "  # load doc\n",
        "  doc = load_doc(filename)\n",
        "  descriptions = dict()\n",
        "  for line in doc.split('\\n'):\n",
        "    # split line by white space\n",
        "    tokens = line.split()\n",
        "    # split id from description\n",
        "    image_id, image_desc = tokens[0], tokens[1:]\n",
        "    # only take image_ids which are present in dataset\n",
        "    if image_id in dataset:\n",
        "      # create list\n",
        "      if image_id not in descriptions:\n",
        "        descriptions[image_id] = list()\n",
        "      # wrap description in tokens\n",
        "      desc = 'startseq ' + ' '.join(image_desc) + ' endseq'\n",
        "      # store\n",
        "      descriptions[image_id].append(desc)\n",
        "      \n",
        "  return descriptions\n",
        "      "
      ],
      "execution_count": 0,
      "outputs": []
    },
    {
      "cell_type": "code",
      "metadata": {
        "id": "GoqSOW1rgHBz",
        "colab_type": "code",
        "outputId": "797fea42-d289-419e-c00f-38bbf2d421f7",
        "colab": {
          "base_uri": "https://localhost:8080/",
          "height": 34
        }
      },
      "source": [
        "features_data = pickle.load(open(file='./features.pkl', mode='rb'))\n",
        "\n",
        "print (features_data['221973402_ecb1cd51f1'].shape)"
      ],
      "execution_count": 0,
      "outputs": [
        {
          "output_type": "stream",
          "text": [
            "(1, 4096)\n"
          ],
          "name": "stdout"
        }
      ]
    },
    {
      "cell_type": "code",
      "metadata": {
        "id": "FwGes6_Odctu",
        "colab_type": "code",
        "outputId": "b681e2a9-9cd8-4713-8a4c-d09e3989729d",
        "colab": {
          "base_uri": "https://localhost:8080/",
          "height": 70
        }
      },
      "source": [
        "\n",
        "def load_photo_features(filename, dataset):\n",
        "  \"\"\"\n",
        "  load all features\n",
        "  filename: file to load the features from (expects a pickle file)\n",
        "  dataset: only extract features for image_ids in dataset\n",
        "  \"\"\"\n",
        "  all_features = pickle.load(open(file=filename, mode='rb'))\n",
        "  \n",
        "  # filter features\n",
        "  features = {k:all_features[k] for k in dataset}\n",
        "  return features\n",
        "\n",
        "# load list of training images\n",
        "filename = './Flickr8k_text/Flickr_8k.trainImages.txt'\n",
        "train = load_set(filename)\n",
        "\n",
        "print (\"Length of train set: %d\" %len(train))\n",
        "\n",
        "# load descriptions for the train set\n",
        "\n",
        "train_descriptions = load_clean_descriptions(filename='./descriptions.txt', dataset=train)\n",
        "\n",
        "print('Train Descriptions: len=%d' % len(train_descriptions))\n",
        "\n",
        "# load features for the train set\n",
        "\n",
        "train_features = load_photo_features(filename='./features.pkl', dataset=train)\n",
        "print('Train Features: len=%d' % len(train_features))\n",
        "   "
      ],
      "execution_count": 56,
      "outputs": [
        {
          "output_type": "stream",
          "text": [
            "Length of train set: 6000\n",
            "Train Descriptions: len=6000\n",
            "Train Features: len=6000\n"
          ],
          "name": "stdout"
        }
      ]
    },
    {
      "cell_type": "code",
      "metadata": {
        "id": "thfprDyhqNSa",
        "colab_type": "code",
        "colab": {
          "base_uri": "https://localhost:8080/",
          "height": 72
        },
        "outputId": "759cfff8-1278-4297-83b5-566661dc1120"
      },
      "source": [
        "print (train_descriptions['1000268201_693b08cb0e'])\n",
        "\n",
        "print (train_features['1000268201_693b08cb0e'].shape)"
      ],
      "execution_count": 57,
      "outputs": [
        {
          "output_type": "stream",
          "text": [
            "['startseq child in pink dress is climbing up set of stairs in an entry way endseq', 'startseq girl going into wooden building endseq', 'startseq little girl climbing into wooden playhouse endseq', 'startseq little girl climbing the stairs to her playhouse endseq', 'startseq little girl in pink dress going into wooden cabin endseq']\n",
            "(1, 4096)\n"
          ],
          "name": "stdout"
        }
      ]
    },
    {
      "cell_type": "markdown",
      "metadata": {
        "id": "IcIFXVuDspKd",
        "colab_type": "text"
      },
      "source": [
        "The description text will need to be encoded to numbers before it can be presented to the model as in input or compared to the model’s predictions.\n",
        "\n",
        "The first step in encoding the data is to create a consistent mapping from words to unique integer values. Keras provides the Tokenizer class that can learn this mapping from the loaded description data.\n",
        "\n",
        "Below defines the to_lines() to convert the dictionary of descriptions into a list of strings and the create_tokenizer() function that will fit a Tokenizer given the loaded photo description text.\n",
        "\n"
      ]
    },
    {
      "cell_type": "code",
      "metadata": {
        "id": "OliVk08ptFMV",
        "colab_type": "code",
        "outputId": "235b62a8-cc8c-4b50-afa1-5a64a3f2bc26",
        "colab": {
          "base_uri": "https://localhost:8080/",
          "height": 34
        }
      },
      "source": [
        "from keras.preprocessing.text import Tokenizer\n",
        "\n",
        "def to_lines(descriptions):\n",
        "  \"\"\"\n",
        "  convert a dictionary of clean descriptions to a list of descriptions\n",
        "  \"\"\"\n",
        "  \n",
        "  all_desc = list()\n",
        "  # for each descrription\n",
        "  for key in descriptions.keys():\n",
        "    # append each word in the list\n",
        "    [all_desc.append(d) for d in descriptions[key]]\n",
        "  return all_desc\n",
        "\n",
        "def create_tokenizer(descriptions):\n",
        "  \"\"\"\n",
        "  fits a tokenizer to caption descriptions\n",
        "  \"\"\"\n",
        "  # get list of all descriptions\n",
        "  lines = to_lines(descriptions)\n",
        "  tokenizer = Tokenizer()\n",
        "  # Updates internal vocabulary based on a list of texts.\n",
        "  tokenizer.fit_on_texts(lines)\n",
        "  return tokenizer\n",
        "  \n",
        "  \n",
        "\n",
        "# create the tokenizer on the main descriptions file: basically the one which has all the text\n",
        "  \n",
        "tokenizer=create_tokenizer(descriptions)\n",
        "\n",
        "# zero indexed, so add 1 to get the length\n",
        "vocab_size = len(tokenizer.word_index) + 1\n",
        "print('Vocabulary Size: %d' % vocab_size)"
      ],
      "execution_count": 58,
      "outputs": [
        {
          "output_type": "stream",
          "text": [
            "Vocabulary Size: 8764\n"
          ],
          "name": "stdout"
        }
      ]
    },
    {
      "cell_type": "markdown",
      "metadata": {
        "id": "ync4HZQg-JPB",
        "colab_type": "text"
      },
      "source": [
        "We can now encode the text.\n",
        "\n",
        "Each description will be split into words. The model will be provided one word and the photo and generate the next word. Then the first two words of the description will be provided to the model as input with the image to generate the next word. This is how the model will be trained.\n",
        "\n",
        "For example, the input sequence “little girl running in field” would be split into 6 input-output pairs to train the model:\n",
        "\n",
        "```\n",
        "X1,\t\tX2 (text sequence), \t\t\t\t\t\ty (word)\n",
        "\n",
        "photo\tstartseq, \t\t\t\t\t\t\t\t\tlittle\n",
        "\n",
        "photo\tstartseq, little,\t\t\t\t\t\t\tgirl\n",
        "\n",
        "photo\tstartseq, little, girl, \t\t\t\t\trunning\n",
        "\n",
        "photo\tstartseq, little, girl, running, \t\t\tin\n",
        "\n",
        "photo\tstartseq, little, girl, running, in, \t\tfield\n",
        "\n",
        "photo\tstartseq, little, girl, running, in, field, endseq\n",
        "\n",
        "```\n",
        "\n",
        "Later, when the model is used to generate descriptions, the generated words will be concatenated and recursively provided as input to generate a caption for an image.\n",
        "\n",
        "The function below named create_sequences(), given the tokenizer, a maximum sequence length, and the dictionary of all descriptions and photos, will transform the data into input-output pairs of data for training the model. There are two input arrays to the model: one for photo features and one for the encoded text. There is one output for the model which is the encoded next word in the text sequence.\n",
        "\n",
        "The input text is encoded as integers, which will be fed to a word embedding layer. The photo features will be fed directly to another part of the model. The model will output a prediction, which will be a probability distribution over all words in the vocabulary.\n",
        "\n",
        "The output data will therefore be a one-hot encoded version of each word, representing an idealized probability distribution with 0 values at all word positions except the actual word position, which has a value of 1."
      ]
    },
    {
      "cell_type": "code",
      "metadata": {
        "id": "gvSWeS9IFuY2",
        "colab_type": "code",
        "colab": {
          "base_uri": "https://localhost:8080/",
          "height": 105
        },
        "outputId": "ae30aed2-d03d-46f6-be13-212d77cea1a0"
      },
      "source": [
        "train_descriptions['1000268201_693b08cb0e']"
      ],
      "execution_count": 59,
      "outputs": [
        {
          "output_type": "execute_result",
          "data": {
            "text/plain": [
              "['startseq child in pink dress is climbing up set of stairs in an entry way endseq',\n",
              " 'startseq girl going into wooden building endseq',\n",
              " 'startseq little girl climbing into wooden playhouse endseq',\n",
              " 'startseq little girl climbing the stairs to her playhouse endseq',\n",
              " 'startseq little girl in pink dress going into wooden cabin endseq']"
            ]
          },
          "metadata": {
            "tags": []
          },
          "execution_count": 59
        }
      ]
    },
    {
      "cell_type": "code",
      "metadata": {
        "id": "SPfGClfRJiLG",
        "colab_type": "code",
        "colab": {
          "base_uri": "https://localhost:8080/",
          "height": 52
        },
        "outputId": "9ea84fa5-fcb3-4d97-e187-c7e2e33e37a7"
      },
      "source": [
        "print (tokenizer.texts_to_sequences(['startseq child in pink dress is climbing up set of stairs in an entry way endseq']))\n",
        "\n",
        "print (to_categorical([5], num_classes=10))"
      ],
      "execution_count": 71,
      "outputs": [
        {
          "output_type": "stream",
          "text": [
            "[[39, 1, 87, 166, 4, 116, 50, 392, 9, 389, 1, 25, 5188, 689]]\n",
            "[[0. 0. 0. 0. 0. 1. 0. 0. 0. 0.]]\n"
          ],
          "name": "stdout"
        }
      ]
    },
    {
      "cell_type": "code",
      "metadata": {
        "id": "kwZu7ZPw-V6T",
        "colab_type": "code",
        "colab": {}
      },
      "source": [
        "from keras.preprocessing.sequence import pad_sequences\n",
        "from keras.utils import to_categorical\n",
        "\n",
        "def create_sequences(tokenizer, max_length, descriptions, photos, vocab_size):\n",
        "\n",
        "\t# create empty lists to store the data\n",
        "\tX1, X2, y = list(), list(), list()\n",
        "\t# walk through each image identifier\n",
        "\tfor key, desc_list in descriptions.items():\n",
        "\t\t# walk through each description for the image\n",
        "\t\tfor desc in desc_list:\n",
        "\t\t\t# encode the sequence\n",
        "\t\t\tseq = tokenizer.texts_to_sequences([desc])[0]\n",
        "\t\t\t# split one sequence into multiple X,y pairs\n",
        "\t\t\tfor i in range(1, len(seq)):\n",
        "\t\t\t\t# split into input and output pair\n",
        "\t\t\t\tin_seq, out_seq = seq[:i], seq[i]\n",
        "\t\t\t\t# pad input sequence\n",
        "\t\t\t\tin_seq = pad_sequences([in_seq], maxlen=max_length)[0]\n",
        "\t\t\t\t# one hot encoded output sequence\n",
        "\t\t\t\tout_seq = to_categorical([out_seq], num_classes=vocab_size)[0]\n",
        "\t\t\t\t# store\n",
        "\t\t\t\tX1.append(photos[key][0])\n",
        "\t\t\t\tX2.append(in_seq)\n",
        "\t\t\t\ty.append(out_seq)\n",
        "\treturn np.array(X1), np.array(X2), np.array(y)"
      ],
      "execution_count": 0,
      "outputs": []
    },
    {
      "cell_type": "markdown",
      "metadata": {
        "id": "skkw84nAy6eB",
        "colab_type": "text"
      },
      "source": [
        "We will need to calculate the maximum number of words in the longest description. A short helper function named max_length() is defined below.\n",
        "\n"
      ]
    },
    {
      "cell_type": "code",
      "metadata": {
        "id": "DTIKSpSvy66e",
        "colab_type": "code",
        "colab": {}
      },
      "source": [
        "def compute_max_length(description):\n",
        "  \"\"\"\n",
        "  calculate the length of the description with the most words\n",
        "  \"\"\"\n",
        "\n",
        "  # get a list of all descriptions\n",
        "  lines = to_lines(description)\n",
        "  # get max no of words in any desc\n",
        "  return max(len(d.split()) for d in lines)\n"
      ],
      "execution_count": 0,
      "outputs": []
    },
    {
      "cell_type": "code",
      "metadata": {
        "id": "_xU7p64o7ScL",
        "colab_type": "code",
        "outputId": "4e7c2917-b0a2-4a98-e66b-dba2b1bac3b9",
        "colab": {
          "base_uri": "https://localhost:8080/",
          "height": 34
        }
      },
      "source": [
        "compute_max_length(train_descriptions)"
      ],
      "execution_count": 74,
      "outputs": [
        {
          "output_type": "execute_result",
          "data": {
            "text/plain": [
              "34"
            ]
          },
          "metadata": {
            "tags": []
          },
          "execution_count": 74
        }
      ]
    },
    {
      "cell_type": "markdown",
      "metadata": {
        "id": "nJB7hn-r6fEe",
        "colab_type": "text"
      },
      "source": [
        "### Defining the Model\n",
        "\n",
        "We will define a deep learning based on the “merge-model” described by Marc Tanti, et al. in their 2017 papers:\n",
        "\n",
        "The authors provide a nice schematic of the model, reproduced below.\n",
        "\n",
        "![](https://3qeqpr26caki16dnhd19sv6by6v-wpengine.netdna-ssl.com/wp-content/uploads/2017/09/Schematic-of-the-Merge-Model-For-Image-Captioning.png)\n",
        "\n",
        "We will describe the model in three parts:\n",
        "\n",
        "1. **Photo Feature Extractor**: This is a 16-layer VGG model pre-trained on the ImageNet dataset. We have pre-processed the photos with the VGG model (without the output layer) and will use the extracted features predicted by this model as input.\n",
        "\n",
        "2. **Sequence Processor**: This is a word embedding layer for handling the text input, followed by a Long Short-Term Memory (LSTM) recurrent neural network layer.\n",
        "\n",
        "3. **Decoder (for lack of a better name)**: Both the feature extractor and sequence processor output a fixed-length vector. These are merged together and processed by a Dense layer to make a final prediction.\n",
        "\n",
        "The Photo Feature Extractor model expects input photo features to be a vector of 4,096 elements. These are processed by a Dense layer to produce a 256 element representation of the photo.\n",
        "\n",
        "The Sequence Processor model expects input sequences with a pre-defined length (34 words) which are fed into an Embedding layer that uses a mask to ignore padded values. This is followed by an LSTM layer with 256 memory units. The longest description for an image has 34 words\n",
        "\n",
        "Both the input models produce a 256 element vector. Further, both input models use regularization in the form of 50% dropout. This is to reduce overfitting the training dataset, as this model configuration learns very fast.\n",
        "\n",
        "The Decoder model merges the vectors from both input models using an addition operation. This is then fed to a Dense 256 neuron layer and then to a final output Dense layer that makes a softmax prediction over the entire output vocabulary for the next word in the sequence.\n",
        "\n",
        "The function below named define_model() defines and returns the model ready to be fit.\n",
        "\n"
      ]
    },
    {
      "cell_type": "code",
      "metadata": {
        "id": "Jq9AU8l76yta",
        "colab_type": "code",
        "colab": {}
      },
      "source": [
        "from keras.utils import plot_model\n",
        "from keras.models import Model\n",
        "from keras.layers import Input\n",
        "from keras.layers import Dense\n",
        "from keras.layers import LSTM\n",
        "from keras.layers import Embedding\n",
        "from keras.layers import Dropout\n",
        "from keras.layers.merge import add\n",
        "from keras.callbacks import ModelCheckpoint\n",
        "\n",
        "def define_model(vocab_size, max_length):\n",
        "  \"\"\"\n",
        "  define the architecture of the captioning model\n",
        "  \"\"\"\n",
        "  \n",
        "  # feature extractor model\n",
        "  \n",
        "  inputs1 = Input(shape=(4096,))\n",
        "  fe1 = Dropout(rate=0.5)(inputs1)\n",
        "  fe2 = Dense(units=256, activation='relu')(fe1)\n",
        "  \n",
        "  # sequence model\n",
        "  # Sequence Processor model expects input sequences with a pre-defined length (34 words) \n",
        "  inputs2 = Input(shape=(max_length,))\n",
        "  se1 = Embedding(input_dim=vocab_size, output_dim=256, mask_zero=True)(inputs2)\n",
        "  se2 = Dropout(rate=0.5)(se1)\n",
        "  se3 = LSTM(units=256)(se2)\n",
        "  \n",
        "  # decoder model\n",
        "  decoder1 = add([fe2, se3])\n",
        "  decoder2 = Dense(units=256, activation='relu')(decoder1)\n",
        "  # softmax prediction over the entire output vocabulary for the next word in the sequence\n",
        "  outputs = Dense(units=vocab_size, activation='softmax')(decoder2)\n",
        "  \n",
        "  # tie it together [image, seq] [word]\n",
        "  model = Model(inputs=[inputs1, inputs2], outputs=outputs)\n",
        "  model.compile(loss='categorical_crossentropy', optimizer='adam')\n",
        "  \n",
        "  # summarize model\n",
        "  print(model.summary())\n",
        "\n",
        "  # save model plot\n",
        "  plot_model(model, to_file='./model.png', show_shapes=True)\n",
        "\n",
        "  return model\n",
        "  \n",
        "  \n",
        "  "
      ],
      "execution_count": 0,
      "outputs": []
    },
    {
      "cell_type": "code",
      "metadata": {
        "id": "J-qhro7YUIQa",
        "colab_type": "code",
        "outputId": "af89d698-84c6-4f69-bc93-8135cc5dd679",
        "colab": {
          "base_uri": "https://localhost:8080/",
          "height": 105
        }
      },
      "source": [
        "# train dataset\n",
        "\n",
        "# load training dataset (6K)\n",
        "\n",
        "filename = './Flickr8k_text/Flickr_8k.trainImages.txt'\n",
        "\n",
        "train = load_set(filename)\n",
        "\n",
        "print (\"Length of train set:\", len(train))\n",
        "\n",
        "# load desc\n",
        "\n",
        "train_descriptions = load_clean_descriptions('./descriptions.txt', train)\n",
        "\n",
        "print (\"Train desc length:\", len(train_descriptions))\n",
        "\n",
        "\n",
        "# photo features\n",
        "\n",
        "train_features = load_photo_features('./features.pkl', train)\n",
        "\n",
        "print (\"Train features length:\", len(train_features))\n",
        "\n",
        "# prepare tokenizer\n",
        "\n",
        "tokenizer = create_tokenizer(train_descriptions)\n",
        "\n",
        "# 1 as tokenizer is 0 indexed\n",
        "\n",
        "vocab_size = len(tokenizer.word_index)+1\n",
        "\n",
        "print (\"Vocab size:\", vocab_size)\n",
        "\n",
        "# determine the maximum sequence length\n",
        "\n",
        "max_length = compute_max_length(train_descriptions)\n",
        "\n",
        "print (\"Max length of caption:\", max_length)\n",
        "\n",
        "# prepare seq for training\n",
        "\n",
        "X1train, X2train, ytrain = create_sequences(tokenizer, max_length, train_descriptions, train_features, vocab_size)\n",
        "\n"
      ],
      "execution_count": 0,
      "outputs": [
        {
          "output_type": "stream",
          "text": [
            "Length of train set: 6000\n",
            "Train desc length: 6000\n",
            "Train features length: 6000\n",
            "Vocab size: 7579\n",
            "Max length of caption: 34\n"
          ],
          "name": "stdout"
        }
      ]
    },
    {
      "cell_type": "code",
      "metadata": {
        "id": "LxfGVEAOlBCG",
        "colab_type": "code",
        "outputId": "0bc03b98-51ce-4fa0-e4bd-bafdd83c4dea",
        "colab": {
          "base_uri": "https://localhost:8080/",
          "height": 123
        }
      },
      "source": [
        "from numpy import array\n",
        "from pickle import load\n",
        "from keras.preprocessing.text import Tokenizer\n",
        "from keras.preprocessing.sequence import pad_sequences\n",
        "from keras.utils import to_categorical\n",
        "from keras.utils import plot_model\n",
        "from keras.models import Model\n",
        "from keras.layers import Input\n",
        "from keras.layers import Dense\n",
        "from keras.layers import LSTM\n",
        "from keras.layers import Embedding\n",
        "from keras.layers import Dropout\n",
        "from keras.layers.merge import add\n",
        "from keras.callbacks import ModelCheckpoint\n",
        "\n",
        "# load doc into memory\n",
        "def load_doc(filename):\n",
        "\t# open the file as read only\n",
        "\tfile = open(filename, 'r')\n",
        "\t# read all text\n",
        "\ttext = file.read()\n",
        "\t# close the file\n",
        "\tfile.close()\n",
        "\treturn text\n",
        "\n",
        "# load a pre-defined list of photo identifiers\n",
        "def load_set(filename):\n",
        "\tdoc = load_doc(filename)\n",
        "\tdataset = list()\n",
        "\t# process line by line\n",
        "\tfor line in doc.split('\\n'):\n",
        "\t\t# skip empty lines\n",
        "\t\tif len(line) < 1:\n",
        "\t\t\tcontinue\n",
        "\t\t# get the image identifier\n",
        "\t\tidentifier = line.split('.')[0]\n",
        "\t\tdataset.append(identifier)\n",
        "\treturn set(dataset)\n",
        "\n",
        "# load clean descriptions into memory\n",
        "def load_clean_descriptions(filename, dataset):\n",
        "\t# load document\n",
        "\tdoc = load_doc(filename)\n",
        "\tdescriptions = dict()\n",
        "\tfor line in doc.split('\\n'):\n",
        "\t\t# split line by white space\n",
        "\t\ttokens = line.split()\n",
        "\t\t# split id from description\n",
        "\t\timage_id, image_desc = tokens[0], tokens[1:]\n",
        "\t\t# skip images not in the set\n",
        "\t\tif image_id in dataset:\n",
        "\t\t\t# create list\n",
        "\t\t\tif image_id not in descriptions:\n",
        "\t\t\t\tdescriptions[image_id] = list()\n",
        "\t\t\t# wrap description in tokens\n",
        "\t\t\tdesc = 'startseq ' + ' '.join(image_desc) + ' endseq'\n",
        "\t\t\t# store\n",
        "\t\t\tdescriptions[image_id].append(desc)\n",
        "\treturn descriptions\n",
        "\n",
        "# load photo features\n",
        "def load_photo_features(filename, dataset):\n",
        "\t# load all features\n",
        "\tall_features = load(open(filename, 'rb'))\n",
        "\t# filter features\n",
        "\tfeatures = {k: all_features[k] for k in dataset}\n",
        "\treturn features\n",
        "\n",
        "# covert a dictionary of clean descriptions to a list of descriptions\n",
        "def to_lines(descriptions):\n",
        "\tall_desc = list()\n",
        "\tfor key in descriptions.keys():\n",
        "\t\t[all_desc.append(d) for d in descriptions[key]]\n",
        "\treturn all_desc\n",
        "\n",
        "# fit a tokenizer given caption descriptions\n",
        "def create_tokenizer(descriptions):\n",
        "\tlines = to_lines(descriptions)\n",
        "\ttokenizer = Tokenizer()\n",
        "\ttokenizer.fit_on_texts(lines)\n",
        "\treturn tokenizer\n",
        "\n",
        "# calculate the length of the description with the most words\n",
        "def max_length(descriptions):\n",
        "\tlines = to_lines(descriptions)\n",
        "\treturn max(len(d.split()) for d in lines)\n",
        "\n",
        "# create sequences of images, input sequences and output words for an image\n",
        "def create_sequences(tokenizer, max_length, descriptions, photos, vocab_size):\n",
        "\tX1, X2, y = list(), list(), list()\n",
        "\t# walk through each image identifier\n",
        "\tfor key, desc_list in descriptions.items():\n",
        "\t\t# walk through each description for the image\n",
        "\t\tfor desc in desc_list:\n",
        "\t\t\t# encode the sequence\n",
        "\t\t\tseq = tokenizer.texts_to_sequences([desc])[0]\n",
        "\t\t\t# split one sequence into multiple X,y pairs\n",
        "\t\t\tfor i in range(1, len(seq)):\n",
        "\t\t\t\t# split into input and output pair\n",
        "\t\t\t\tin_seq, out_seq = seq[:i], seq[i]\n",
        "\t\t\t\t# pad input sequence\n",
        "\t\t\t\tin_seq = pad_sequences([in_seq], maxlen=max_length)[0]\n",
        "\t\t\t\t# encode output sequence\n",
        "\t\t\t\tout_seq = to_categorical([out_seq], num_classes=vocab_size)[0]\n",
        "\t\t\t\t# store\n",
        "\t\t\t\tX1.append(photos[key][0])\n",
        "\t\t\t\tX2.append(in_seq)\n",
        "\t\t\t\ty.append(out_seq)\n",
        "\treturn array(X1), array(X2), array(y)\n",
        "\n",
        "# define the captioning model\n",
        "def define_model(vocab_size, max_length):\n",
        "\t# feature extractor model\n",
        "\tinputs1 = Input(shape=(4096,))\n",
        "\tfe1 = Dropout(0.5)(inputs1)\n",
        "\tfe2 = Dense(256, activation='relu')(fe1)\n",
        "\t# sequence model\n",
        "\tinputs2 = Input(shape=(max_length,))\n",
        "\tse1 = Embedding(vocab_size, 256, mask_zero=True)(inputs2)\n",
        "\tse2 = Dropout(0.5)(se1)\n",
        "\tse3 = LSTM(256)(se2)\n",
        "\t# decoder model\n",
        "\tdecoder1 = add([fe2, se3])\n",
        "\tdecoder2 = Dense(256, activation='relu')(decoder1)\n",
        "\toutputs = Dense(vocab_size, activation='softmax')(decoder2)\n",
        "\t# tie it together [image, seq] [word]\n",
        "\tmodel = Model(inputs=[inputs1, inputs2], outputs=outputs)\n",
        "\tmodel.compile(loss='categorical_crossentropy', optimizer='adam')\n",
        "\t# summarize model\n",
        "\tprint(model.summary())\n",
        "\tplot_model(model, to_file='model.png', show_shapes=True)\n",
        "\treturn model\n",
        "\n",
        "# train dataset\n",
        "\n",
        "# load training dataset (6K)\n",
        "filename = 'Flickr8k_text/Flickr_8k.trainImages.txt'\n",
        "train = load_set(filename)\n",
        "print('Dataset: %d' % len(train))\n",
        "# descriptions\n",
        "train_descriptions = load_clean_descriptions('descriptions.txt', train)\n",
        "print('Descriptions: train=%d' % len(train_descriptions))\n",
        "# photo features\n",
        "train_features = load_photo_features('features.pkl', train)\n",
        "print('Photos: train=%d' % len(train_features))\n",
        "# prepare tokenizer\n",
        "tokenizer = create_tokenizer(train_descriptions)\n",
        "vocab_size = len(tokenizer.word_index) + 1\n",
        "print('Vocabulary Size: %d' % vocab_size)\n",
        "# determine the maximum sequence length\n",
        "max_length = max_length(train_descriptions)\n",
        "print('Description Length: %d' % max_length)\n",
        "# prepare sequences\n",
        "X1train, X2train, ytrain = create_sequences(tokenizer, max_length, train_descriptions, train_features, vocab_size)\n",
        "\n"
      ],
      "execution_count": 0,
      "outputs": [
        {
          "output_type": "stream",
          "text": [
            "Using TensorFlow backend.\n"
          ],
          "name": "stderr"
        },
        {
          "output_type": "stream",
          "text": [
            "Dataset: 6000\n",
            "Descriptions: train=6000\n",
            "Photos: train=6000\n",
            "Vocabulary Size: 7579\n",
            "Description Length: 34\n"
          ],
          "name": "stdout"
        }
      ]
    },
    {
      "cell_type": "code",
      "metadata": {
        "id": "zaRzN1VZtoo6",
        "colab_type": "code",
        "outputId": "4f45ee05-8868-4bf9-8a48-c60dfdd9d609",
        "colab": {
          "base_uri": "https://localhost:8080/",
          "height": 34
        }
      },
      "source": [
        "X1train.shape"
      ],
      "execution_count": 0,
      "outputs": [
        {
          "output_type": "execute_result",
          "data": {
            "text/plain": [
              "(306404, 4096)"
            ]
          },
          "metadata": {
            "tags": []
          },
          "execution_count": 2
        }
      ]
    },
    {
      "cell_type": "code",
      "metadata": {
        "id": "1N3VFsNvtJtm",
        "colab_type": "code",
        "colab": {}
      },
      "source": [
        "from pickle import dump\n",
        "\n",
        "dump(X1train, open('X1train.pkl', 'wb'), protocol=4)\n",
        "dump(X2train, open('X2train.pkl', 'wb'), protocol=4)\n",
        "dump(ytrain, open('ytrain.pkl', 'wb'), protocol=4)\n",
        "\n",
        "print (\"Done...\")\n"
      ],
      "execution_count": 0,
      "outputs": []
    },
    {
      "cell_type": "code",
      "metadata": {
        "id": "2otMlPpOq8to",
        "colab_type": "code",
        "outputId": "f47079bd-0695-4f99-8224-6825b99f7096",
        "colab": {
          "base_uri": "https://localhost:8080/",
          "height": 70
        }
      },
      "source": [
        "# dev dataset\n",
        "\n",
        "# load test set\n",
        "filename = 'Flickr8k_text/Flickr_8k.devImages.txt'\n",
        "test = load_set(filename)\n",
        "print('Dataset: %d' % len(test))\n",
        "# descriptions\n",
        "test_descriptions = load_clean_descriptions('descriptions.txt', test)\n",
        "print('Descriptions: test=%d' % len(test_descriptions))\n",
        "# photo features\n",
        "test_features = load_photo_features('features.pkl', test)\n",
        "print('Photos: test=%d' % len(test_features))\n",
        "# prepare sequences\n",
        "X1test, X2test, ytest = create_sequences(tokenizer, max_length, test_descriptions, test_features, vocab_size)\n",
        "\n",
        "\n"
      ],
      "execution_count": 0,
      "outputs": [
        {
          "output_type": "stream",
          "text": [
            "Dataset: 1000\n",
            "Descriptions: test=1000\n",
            "Photos: test=1000\n"
          ],
          "name": "stdout"
        }
      ]
    },
    {
      "cell_type": "code",
      "metadata": {
        "id": "RtDtboT1qjK6",
        "colab_type": "code",
        "outputId": "8febcd3e-c160-4bce-cefd-0fa49dbe3dca",
        "colab": {
          "base_uri": "https://localhost:8080/",
          "height": 1000
        }
      },
      "source": [
        "# fit model\n",
        "# define the model\n",
        "model = define_model(vocab_size, max_length)\n",
        "# define checkpoint callback\n",
        "filepath = 'model-ep{epoch:03d}-loss{loss:.3f}-val_loss{val_loss:.3f}.h5'\n",
        "checkpoint = ModelCheckpoint(filepath, monitor='val_loss', verbose=1, save_best_only=True, mode='min')\n",
        "# fit model\n",
        "model.fit([X1train, X2train], ytrain, epochs=6, verbose=2, callbacks=[checkpoint], validation_data=([X1test, X2test], ytest))"
      ],
      "execution_count": 0,
      "outputs": [
        {
          "output_type": "stream",
          "text": [
            "WARNING: Logging before flag parsing goes to stderr.\n",
            "W0725 14:29:34.201067 140515973060480 deprecation_wrapper.py:119] From /usr/local/lib/python3.6/dist-packages/keras/backend/tensorflow_backend.py:74: The name tf.get_default_graph is deprecated. Please use tf.compat.v1.get_default_graph instead.\n",
            "\n",
            "W0725 14:29:34.242206 140515973060480 deprecation_wrapper.py:119] From /usr/local/lib/python3.6/dist-packages/keras/backend/tensorflow_backend.py:517: The name tf.placeholder is deprecated. Please use tf.compat.v1.placeholder instead.\n",
            "\n",
            "W0725 14:29:34.249349 140515973060480 deprecation_wrapper.py:119] From /usr/local/lib/python3.6/dist-packages/keras/backend/tensorflow_backend.py:133: The name tf.placeholder_with_default is deprecated. Please use tf.compat.v1.placeholder_with_default instead.\n",
            "\n",
            "W0725 14:29:34.258840 140515973060480 deprecation.py:506] From /usr/local/lib/python3.6/dist-packages/keras/backend/tensorflow_backend.py:3445: calling dropout (from tensorflow.python.ops.nn_ops) with keep_prob is deprecated and will be removed in a future version.\n",
            "Instructions for updating:\n",
            "Please use `rate` instead of `keep_prob`. Rate should be set to `rate = 1 - keep_prob`.\n",
            "W0725 14:29:34.275749 140515973060480 deprecation_wrapper.py:119] From /usr/local/lib/python3.6/dist-packages/keras/backend/tensorflow_backend.py:4138: The name tf.random_uniform is deprecated. Please use tf.random.uniform instead.\n",
            "\n",
            "W0725 14:29:34.744791 140515973060480 deprecation.py:323] From /usr/local/lib/python3.6/dist-packages/keras/backend/tensorflow_backend.py:2974: add_dispatch_support.<locals>.wrapper (from tensorflow.python.ops.array_ops) is deprecated and will be removed in a future version.\n",
            "Instructions for updating:\n",
            "Use tf.where in 2.0, which has the same broadcast rule as np.where\n",
            "W0725 14:29:34.800782 140515973060480 deprecation_wrapper.py:119] From /usr/local/lib/python3.6/dist-packages/keras/optimizers.py:790: The name tf.train.Optimizer is deprecated. Please use tf.compat.v1.train.Optimizer instead.\n",
            "\n",
            "W0725 14:29:34.822907 140515973060480 deprecation_wrapper.py:119] From /usr/local/lib/python3.6/dist-packages/keras/backend/tensorflow_backend.py:3295: The name tf.log is deprecated. Please use tf.math.log instead.\n",
            "\n"
          ],
          "name": "stderr"
        },
        {
          "output_type": "stream",
          "text": [
            "__________________________________________________________________________________________________\n",
            "Layer (type)                    Output Shape         Param #     Connected to                     \n",
            "==================================================================================================\n",
            "input_2 (InputLayer)            (None, 34)           0                                            \n",
            "__________________________________________________________________________________________________\n",
            "input_1 (InputLayer)            (None, 4096)         0                                            \n",
            "__________________________________________________________________________________________________\n",
            "embedding_1 (Embedding)         (None, 34, 256)      1940224     input_2[0][0]                    \n",
            "__________________________________________________________________________________________________\n",
            "dropout_1 (Dropout)             (None, 4096)         0           input_1[0][0]                    \n",
            "__________________________________________________________________________________________________\n",
            "dropout_2 (Dropout)             (None, 34, 256)      0           embedding_1[0][0]                \n",
            "__________________________________________________________________________________________________\n",
            "dense_1 (Dense)                 (None, 256)          1048832     dropout_1[0][0]                  \n",
            "__________________________________________________________________________________________________\n",
            "lstm_1 (LSTM)                   (None, 256)          525312      dropout_2[0][0]                  \n",
            "__________________________________________________________________________________________________\n",
            "add_1 (Add)                     (None, 256)          0           dense_1[0][0]                    \n",
            "                                                                 lstm_1[0][0]                     \n",
            "__________________________________________________________________________________________________\n",
            "dense_2 (Dense)                 (None, 256)          65792       add_1[0][0]                      \n",
            "__________________________________________________________________________________________________\n",
            "dense_3 (Dense)                 (None, 7579)         1947803     dense_2[0][0]                    \n",
            "==================================================================================================\n",
            "Total params: 5,527,963\n",
            "Trainable params: 5,527,963\n",
            "Non-trainable params: 0\n",
            "__________________________________________________________________________________________________\n",
            "None\n",
            "Train on 306404 samples, validate on 50903 samples\n",
            "Epoch 1/6\n",
            " - 623s - loss: 4.5126 - val_loss: 4.0616\n",
            "\n",
            "Epoch 00001: val_loss improved from inf to 4.06164, saving model to model-ep001-loss4.513-val_loss4.062.h5\n",
            "Epoch 2/6\n",
            " - 622s - loss: 3.8758 - val_loss: 3.8917\n",
            "\n",
            "Epoch 00002: val_loss improved from 4.06164 to 3.89169, saving model to model-ep002-loss3.876-val_loss3.892.h5\n",
            "Epoch 3/6\n",
            " - 622s - loss: 3.6801 - val_loss: 3.8375\n",
            "\n",
            "Epoch 00003: val_loss improved from 3.89169 to 3.83751, saving model to model-ep003-loss3.680-val_loss3.838.h5\n",
            "Epoch 4/6\n",
            " - 621s - loss: 3.5840 - val_loss: 3.8424\n",
            "\n",
            "Epoch 00004: val_loss did not improve from 3.83751\n",
            "Epoch 5/6\n",
            " - 616s - loss: 3.5333 - val_loss: 3.8436\n",
            "\n",
            "Epoch 00005: val_loss did not improve from 3.83751\n",
            "Epoch 6/6\n",
            " - 613s - loss: 3.4963 - val_loss: 3.8575\n",
            "\n",
            "Epoch 00006: val_loss did not improve from 3.83751\n"
          ],
          "name": "stdout"
        },
        {
          "output_type": "execute_result",
          "data": {
            "text/plain": [
              "<keras.callbacks.History at 0x7fcc1dbf7438>"
            ]
          },
          "metadata": {
            "tags": []
          },
          "execution_count": 4
        }
      ]
    },
    {
      "cell_type": "markdown",
      "metadata": {
        "id": "So4rrL8DxWZc",
        "colab_type": "text"
      },
      "source": [
        "### Evaluate Model\n",
        "\n",
        "Once the model is fit, we can evaluate the skill of its predictions on the holdout test dataset.\n",
        "\n",
        "We will evaluate a model by generating descriptions for all photos in the test dataset and evaluating those predictions with a standard cost function.\n",
        "\n",
        "First, we need to be able to generate a description for a photo using a trained model.\n",
        "\n",
        "This involves passing in the start description token ‘startseq‘, generating one word, then calling the model recursively with generated words as input until the end of sequence token is reached ‘endseq‘ or the maximum description length is reached.\n",
        "\n",
        "The function below named generate_desc() implements this behavior and generates a textual description given a trained model, and a given prepared photo as input. It calls the function word_for_id() in order to map an integer prediction back to a word.\n",
        "\n"
      ]
    },
    {
      "cell_type": "code",
      "metadata": {
        "id": "Q_n7Z4lO2dHA",
        "colab_type": "code",
        "outputId": "88cc0fff-5ba3-4b16-ae3b-91a972521107",
        "colab": {
          "base_uri": "https://localhost:8080/",
          "height": 34
        }
      },
      "source": [
        "tokenizer.texts_to_sequences(['hi', 'dog'])"
      ],
      "execution_count": 0,
      "outputs": [
        {
          "output_type": "execute_result",
          "data": {
            "text/plain": [
              "[[2982], [8]]"
            ]
          },
          "metadata": {
            "tags": []
          },
          "execution_count": 10
        }
      ]
    },
    {
      "cell_type": "code",
      "metadata": {
        "id": "_FtyrC42yDrA",
        "colab_type": "code",
        "colab": {}
      },
      "source": [
        "def word_for_id(integer, tokenizer):\n",
        "  \"\"\"\n",
        "  map an integer to a word\n",
        "  \"\"\"\n",
        "  return tokenizer.index_word.get(integer)"
      ],
      "execution_count": 0,
      "outputs": []
    },
    {
      "cell_type": "code",
      "metadata": {
        "id": "I2wd_uzv3MbT",
        "colab_type": "code",
        "colab": {}
      },
      "source": [
        "def generate_desc(model, tokenizer, photo, max_length):\n",
        "  \"\"\"\n",
        "  generate a description for an image\n",
        "  \"\"\"\n",
        "  \n",
        "  # seed the generation process\n",
        "  in_text = 'startseq'\n",
        "\n",
        "  # iterate over the whole length of the sequence\n",
        "  for i in range(max_length):\n",
        "    # integer encode input sequence\n",
        "    sequence = tokenizer.texts_to_sequences([in_text])[0]\n",
        "    # pad input\n",
        "    sequence = pad_sequences([sequence], maxlen=max_length)\n",
        "\n",
        "    # predict next word\n",
        "    yhat = model.predict([photo,sequence], verbose=0)\n",
        "    # convert probability to integer\n",
        "    yhat = argmax(yhat)\n",
        "    # map integer to word\n",
        "    word = word_for_id(yhat, tokenizer)\n",
        "    # stop if we cannot map the word\n",
        "    if word is None:\n",
        "      break\n",
        "    # append as input for generating the next word\n",
        "    in_text += ' ' + word\n",
        "    # stop if we predict the end of the sequence\n",
        "    if word == 'endseq':\n",
        "      break\n",
        "  return in_text\n"
      ],
      "execution_count": 0,
      "outputs": []
    },
    {
      "cell_type": "markdown",
      "metadata": {
        "id": "yu7U_LDS45M6",
        "colab_type": "text"
      },
      "source": [
        "We will generate predictions for all photos in the test dataset and in the train dataset.\n",
        "\n",
        "The function below named evaluate_model() will evaluate a trained model against a given dataset of photo descriptions and photo features. The actual and predicted descriptions are collected and evaluated collectively using the corpus BLEU score that summarizes how close the generated text is to the expected text."
      ]
    },
    {
      "cell_type": "code",
      "metadata": {
        "id": "P2FT_aCq456-",
        "colab_type": "code",
        "colab": {}
      },
      "source": [
        "from nltk.translate.bleu_score import corpus_bleu\n",
        "\n",
        "def evaluate_model(model, descriptions, photos, tokenizer, max_length):\n",
        "\tactual, predicted = list(), list()\n",
        "\t# step over the whole set\n",
        "\tfor key, desc_list in descriptions.items():\n",
        "\t\t# generate description\n",
        "\t\tyhat = generate_desc(model, tokenizer, photos[key], max_length)\n",
        "\t\t# store actual and predicted\n",
        "\t\treferences = [d.split() for d in desc_list]\n",
        "\t\tactual.append(references)\n",
        "\t\tpredicted.append(yhat.split())\n",
        "\t# calculate BLEU score\n",
        "\tprint('BLEU-1: %f' % corpus_bleu(actual, predicted, weights=(1.0, 0, 0, 0)))\n",
        "\tprint('BLEU-2: %f' % corpus_bleu(actual, predicted, weights=(0.5, 0.5, 0, 0)))\n",
        "\tprint('BLEU-3: %f' % corpus_bleu(actual, predicted, weights=(0.3, 0.3, 0.3, 0)))\n",
        "\tprint('BLEU-4: %f' % corpus_bleu(actual, predicted, weights=(0.25, 0.25, 0.25, 0.25)))"
      ],
      "execution_count": 0,
      "outputs": []
    },
    {
      "cell_type": "markdown",
      "metadata": {
        "id": "CiiJguv75lGd",
        "colab_type": "text"
      },
      "source": [
        "BLEU scores are used in text translation for evaluating translated text against one or more reference translations.\n",
        "\n",
        "Here, we compare each generated description against all of the reference descriptions for the photograph. We then calculate BLEU scores for 1, 2, 3 and 4 cumulative n-grams.\n",
        "\n",
        "You can learn more about the BLEU score here:\n",
        "\n",
        "A Gentle Introduction to Calculating the BLEU Score for Text in Python\n",
        "The NLTK Python library implements the BLEU score calculation in the corpus_bleu() function. A higher score close to 1.0 is better, a score closer to zero is worse.\n",
        "\n",
        "We can put all of this together with the functions from the previous section for loading the data. We first need to load the training dataset in order to prepare a Tokenizer so that we can encode generated words as input sequences for the model. It is critical that we encode the generated words using exactly the same encoding scheme as was used when training the model.\n",
        "\n",
        "We then use these functions for loading the test dataset.\n",
        "\n",
        "The complete example is listed below."
      ]
    },
    {
      "cell_type": "code",
      "metadata": {
        "id": "y7uR4sHL5hyW",
        "colab_type": "code",
        "outputId": "dee90e8d-5daf-494f-d438-b4f9c0744eda",
        "colab": {
          "base_uri": "https://localhost:8080/",
          "height": 212
        }
      },
      "source": [
        "from numpy import argmax\n",
        "from pickle import load\n",
        "from keras.preprocessing.text import Tokenizer\n",
        "from keras.preprocessing.sequence import pad_sequences\n",
        "from keras.models import load_model\n",
        "from nltk.translate.bleu_score import corpus_bleu\n",
        "# prepare tokenizer on train set\n",
        "\n",
        "# load training dataset (6K)\n",
        "filename = 'Flickr8k_text/Flickr_8k.trainImages.txt'\n",
        "train = load_set(filename)\n",
        "print('Dataset: %d' % len(train))\n",
        "# descriptions\n",
        "train_descriptions = load_clean_descriptions('descriptions.txt', train)\n",
        "print('Descriptions: train=%d' % len(train_descriptions))\n",
        "# prepare tokenizer\n",
        "tokenizer = create_tokenizer(train_descriptions)\n",
        "vocab_size = len(tokenizer.word_index) + 1\n",
        "print('Vocabulary Size: %d' % vocab_size)\n",
        "# determine the maximum sequence length\n",
        "max_length = compute_max_length(train_descriptions)\n",
        "print('Description Length: %d' % max_length)\n",
        "\n",
        "# prepare test set\n",
        "\n",
        "# load test set\n",
        "filename = 'Flickr8k_text/Flickr_8k.testImages.txt'\n",
        "test = load_set(filename)\n",
        "print('Dataset: %d' % len(test))\n",
        "# descriptions\n",
        "test_descriptions = load_clean_descriptions('descriptions.txt', test)\n",
        "print('Descriptions: test=%d' % len(test_descriptions))\n",
        "# photo features\n",
        "test_features = load_photo_features('features.pkl', test)\n",
        "print('Photos: test=%d' % len(test_features))\n",
        "\n",
        "# load the model\n",
        "filename = 'model-ep003-loss3.680-val_loss3.838.h5'\n",
        "model = load_model(filename)\n",
        "# evaluate model\n",
        "evaluate_model(model, test_descriptions, test_features, tokenizer, max_length)"
      ],
      "execution_count": 0,
      "outputs": [
        {
          "output_type": "stream",
          "text": [
            "Dataset: 6000\n",
            "Descriptions: train=6000\n",
            "Vocabulary Size: 7579\n",
            "Description Length: 34\n",
            "Dataset: 1000\n",
            "Descriptions: test=1000\n",
            "Photos: test=1000\n",
            "BLEU-1: 0.516892\n",
            "BLEU-2: 0.268575\n",
            "BLEU-3: 0.181900\n",
            "BLEU-4: 0.082526\n"
          ],
          "name": "stdout"
        }
      ]
    }
  ]
}