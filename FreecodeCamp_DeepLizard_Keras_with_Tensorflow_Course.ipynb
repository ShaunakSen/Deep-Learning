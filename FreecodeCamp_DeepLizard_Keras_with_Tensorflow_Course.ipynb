{
  "nbformat": 4,
  "nbformat_minor": 0,
  "metadata": {
    "colab": {
      "name": "FreecodeCamp DeepLizard Keras with Tensorflow Course.ipynb",
      "provenance": [],
      "collapsed_sections": [],
      "authorship_tag": "ABX9TyOExsDoD5Y+5xnqEyZfBGcV",
      "include_colab_link": true
    },
    "kernelspec": {
      "name": "python3",
      "display_name": "Python 3"
    }
  },
  "cells": [
    {
      "cell_type": "markdown",
      "metadata": {
        "id": "view-in-github",
        "colab_type": "text"
      },
      "source": [
        "<a href=\"https://colab.research.google.com/github/ShaunakSen/Deep-Learning/blob/master/FreecodeCamp_DeepLizard_Keras_with_Tensorflow_Course.ipynb\" target=\"_parent\"><img src=\"https://colab.research.google.com/assets/colab-badge.svg\" alt=\"Open In Colab\"/></a>"
      ]
    },
    {
      "cell_type": "markdown",
      "metadata": {
        "id": "Bw0Hy8rvGNJl",
        "colab_type": "text"
      },
      "source": [
        "## FreecodeCamp DeepLizard Keras with Tensorflow Course\n",
        "\n",
        "> Written notes on the tutorial by [DeepLizard](https://youtube.com/deeplizard) and [FreeCodeCamp](https://www.youtube.com/channel/UC8butISFwT-Wl7EV0hUK0BQ): https://www.youtube.com/watch?v=qFJeN9V1ZsI\n",
        "\n",
        "---\n",
        "\n",
        "### Data preparation and processing"
      ]
    },
    {
      "cell_type": "code",
      "metadata": {
        "id": "qUfiblDNGKJc",
        "colab_type": "code",
        "colab": {}
      },
      "source": [
        "import numpy as np\n",
        "from random import randint\n",
        "from sklearn.utils import shuffle\n",
        "from sklearn.preprocessing import MinMaxScaler"
      ],
      "execution_count": 1,
      "outputs": []
    },
    {
      "cell_type": "code",
      "metadata": {
        "id": "7lvzv7ilG-iL",
        "colab_type": "code",
        "colab": {}
      },
      "source": [
        "train_samples, train_labels = [], []"
      ],
      "execution_count": 2,
      "outputs": []
    },
    {
      "cell_type": "markdown",
      "metadata": {
        "id": "W6cz0J7wHKUb",
        "colab_type": "text"
      },
      "source": [
        "For this simple task, we'll be creating our own example data set.\n",
        "\n",
        "#### Data Creation\n",
        "\n",
        "As motivation for this data, let’s suppose that an experimental drug was tested on individuals ranging from age 13 to 100 in a clinical trial. The trial had 2100 participants. Half of the participants were under 65 years old, and the other half was 65 years of age or older.\n",
        "\n",
        "The trial showed that around 95% of patients 65 or older experienced side effects from the drug, and around 95% of patients under 65 experienced no side effects, generally showing that elderly individuals were more likely to experience side effects.\n",
        "\n",
        "Ultimately, we want to build a model to tell us whether or not a patient will experience side effects solely based on the patient's age. The judgement of the model will be based on the training data.\n",
        "\n",
        "Note that with the simplicity of the data along with the conclusions drawn from it, a neural network may be overkill, but understand this is just to first get introduced to working with data for deep learning, and later, we'll be making use of more advanced data sets.\n",
        "\n"
      ]
    },
    {
      "cell_type": "code",
      "metadata": {
        "id": "NSwRgO9FHB31",
        "colab_type": "code",
        "colab": {
          "base_uri": "https://localhost:8080/",
          "height": 35
        },
        "outputId": "4798f953-1576-49a2-b214-9f979d1a162f"
      },
      "source": [
        "young_population = old_population = int(2100/2)\n",
        "\n",
        "minority = int(0.05*old_population)*2\n",
        "\n",
        "print (minority)"
      ],
      "execution_count": 10,
      "outputs": [
        {
          "output_type": "stream",
          "text": [
            "104\n"
          ],
          "name": "stdout"
        }
      ]
    },
    {
      "cell_type": "markdown",
      "metadata": {
        "id": "-dZ51nYrIY46",
        "colab_type": "text"
      },
      "source": [
        "So the minority population is around 100 people (50 old and 50 young)"
      ]
    },
    {
      "cell_type": "code",
      "metadata": {
        "id": "lqus8pzdH8Jj",
        "colab_type": "code",
        "colab": {}
      },
      "source": [
        "for i in range(50):\n",
        "    # The ~5% of younger individuals who did experience side effects#\n",
        "    random_younger = randint(13,64)\n",
        "    train_samples.append(random_younger)\n",
        "    train_labels.append(1)\n",
        "\n",
        "    # The ~5% of older individuals who did not experience side effects\n",
        "    random_older = randint(65,100)\n",
        "    train_samples.append(random_older)\n",
        "    train_labels.append(0)\n",
        "\n",
        "    ### we have added 100 of the minority to the data\n",
        "\n",
        "for i in range(1000):\n",
        "    # The ~95% of younger individuals who did not experience side effects\n",
        "    random_younger = randint(13,64)\n",
        "    train_samples.append(random_younger)\n",
        "    train_labels.append(0)\n",
        "\n",
        "    # The ~95% of older individuals who did experience side effects\n",
        "    random_older = randint(65,100)\n",
        "    train_samples.append(random_older)\n",
        "    train_labels.append(1)"
      ],
      "execution_count": 11,
      "outputs": []
    },
    {
      "cell_type": "code",
      "metadata": {
        "id": "mk1YTgtgJBhX",
        "colab_type": "code",
        "colab": {
          "base_uri": "https://localhost:8080/",
          "height": 35
        },
        "outputId": "c3ac50aa-b03f-43e7-f181-15bd9b1d263d"
      },
      "source": [
        "print (len(train_samples), len(train_labels))"
      ],
      "execution_count": 12,
      "outputs": [
        {
          "output_type": "stream",
          "text": [
            "2100 2100\n"
          ],
          "name": "stdout"
        }
      ]
    },
    {
      "cell_type": "markdown",
      "metadata": {
        "id": "shMgm647JNfS",
        "colab_type": "text"
      },
      "source": [
        "This code creates 2100 samples and stores the age of the individuals in the train_samples list and stores whether or not the individuals experienced side effects in the train_labels list.\n",
        "\n",
        "Convert the data to numpy arrays:"
      ]
    },
    {
      "cell_type": "code",
      "metadata": {
        "id": "OqGpKnIRJI3C",
        "colab_type": "code",
        "colab": {
          "base_uri": "https://localhost:8080/",
          "height": 54
        },
        "outputId": "8a6cc621-d0a8-43b6-a7a4-5789e5e1b9bf"
      },
      "source": [
        "train_labels = np.array(train_labels)\n",
        "train_samples = np.array(train_samples)\n",
        "### before shuffling\n",
        "print (train_labels[:10], train_samples[:10])\n",
        "\n",
        "train_labels, train_samples = shuffle(train_labels, train_samples) ### consistent order; so keeps track of the correspondence bw the 2 as we shuffle\n",
        "print (train_labels[:10], train_samples[:10])\n"
      ],
      "execution_count": 13,
      "outputs": [
        {
          "output_type": "stream",
          "text": [
            "[1 0 1 0 1 0 1 0 1 0] [ 33  88  23 100  45  70  43  93  42  77]\n",
            "[1 0 1 0 1 0 1 1 1 1] [74 53 65 38 78 49 65 68 76 24]\n"
          ],
          "name": "stdout"
        }
      ]
    },
    {
      "cell_type": "code",
      "metadata": {
        "id": "gMxGZS69LXMz",
        "colab_type": "code",
        "colab": {
          "base_uri": "https://localhost:8080/",
          "height": 35
        },
        "outputId": "fcc84d82-6cf9-4636-af69-6be94c4224e8"
      },
      "source": [
        "### test for shuffle\n",
        "t1 = np.array([23,34,12,11,34,65,32])\n",
        "t2 = np.array([1,1,0,0,0,1,1])\n",
        "\n",
        "t1_new,t2_new = shuffle(t1,t2)\n",
        "\n",
        "print(t1_new, t2_new)"
      ],
      "execution_count": 14,
      "outputs": [
        {
          "output_type": "stream",
          "text": [
            "[65 34 23 12 11 34 32] [1 0 1 0 0 1 1]\n"
          ],
          "name": "stdout"
        }
      ]
    },
    {
      "cell_type": "markdown",
      "metadata": {
        "id": "i2YIiD3VL19a",
        "colab_type": "text"
      },
      "source": [
        "> Ok, so shuffle does keep track of the correspondence"
      ]
    },
    {
      "cell_type": "markdown",
      "metadata": {
        "id": "wEcgi0A6LAib",
        "colab_type": "text"
      },
      "source": [
        "In this form, we now have the ability to pass the data to the model because it is now in the required format, however, before doing that, we'll first scale the data down to a range from 0 to 1.\n",
        "\n",
        "We'll use scikit-learn’s MinMaxScaler class to scale all of the data down from a scale ranging from 13 to 100 to be on a scale from 0 to 1.\n",
        "\n",
        "We reshape the data as a technical requirement just since the fit_transform() function doesn’t accept 1D data by default.\n",
        "\n"
      ]
    },
    {
      "cell_type": "code",
      "metadata": {
        "id": "Cxnq1op4KOXG",
        "colab_type": "code",
        "colab": {
          "base_uri": "https://localhost:8080/",
          "height": 108
        },
        "outputId": "e665d8a7-d60d-40a1-8300-9e1cb20a86ba"
      },
      "source": [
        "scaler = MinMaxScaler(feature_range=(0,1))\n",
        "scaled_train_samples = scaler.fit_transform(X=train_samples.reshape(-1, 1))\n",
        "\n",
        "print (scaled_train_samples[:5])"
      ],
      "execution_count": 18,
      "outputs": [
        {
          "output_type": "stream",
          "text": [
            "[[0.70114943]\n",
            " [0.45977011]\n",
            " [0.59770115]\n",
            " [0.28735632]\n",
            " [0.74712644]]\n"
          ],
          "name": "stdout"
        }
      ]
    },
    {
      "cell_type": "code",
      "metadata": {
        "id": "KM64gOw1MG7C",
        "colab_type": "code",
        "colab": {}
      },
      "source": [
        ""
      ],
      "execution_count": null,
      "outputs": []
    }
  ]
}