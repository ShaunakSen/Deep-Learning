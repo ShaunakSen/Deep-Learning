{
  "nbformat": 4,
  "nbformat_minor": 0,
  "metadata": {
    "colab": {
      "name": "FreecodeCamp DeepLizard Keras with Tensorflow Course.ipynb",
      "provenance": [],
      "collapsed_sections": [],
      "authorship_tag": "ABX9TyOYiEw4pyoFNq9TLFBmvgTV",
      "include_colab_link": true
    },
    "kernelspec": {
      "name": "python3",
      "display_name": "Python 3"
    },
    "accelerator": "GPU"
  },
  "cells": [
    {
      "cell_type": "markdown",
      "metadata": {
        "id": "view-in-github",
        "colab_type": "text"
      },
      "source": [
        "<a href=\"https://colab.research.google.com/github/ShaunakSen/Deep-Learning/blob/master/FreecodeCamp_DeepLizard_Keras_with_Tensorflow_Course.ipynb\" target=\"_parent\"><img src=\"https://colab.research.google.com/assets/colab-badge.svg\" alt=\"Open In Colab\"/></a>"
      ]
    },
    {
      "cell_type": "markdown",
      "metadata": {
        "id": "Bw0Hy8rvGNJl",
        "colab_type": "text"
      },
      "source": [
        "## FreecodeCamp DeepLizard Keras with Tensorflow Course\n",
        "\n",
        "> Written notes on the tutorial by [DeepLizard](https://youtube.com/deeplizard) and [FreeCodeCamp](https://www.youtube.com/channel/UC8butISFwT-Wl7EV0hUK0BQ): https://www.youtube.com/watch?v=qFJeN9V1ZsI\n",
        "\n",
        "---\n",
        "\n",
        "### Data preparation and processing"
      ]
    },
    {
      "cell_type": "code",
      "metadata": {
        "id": "qUfiblDNGKJc",
        "colab_type": "code",
        "colab": {}
      },
      "source": [
        "import numpy as np\n",
        "from random import randint\n",
        "from sklearn.utils import shuffle\n",
        "from sklearn.preprocessing import MinMaxScaler"
      ],
      "execution_count": 1,
      "outputs": []
    },
    {
      "cell_type": "code",
      "metadata": {
        "id": "7lvzv7ilG-iL",
        "colab_type": "code",
        "colab": {}
      },
      "source": [
        "train_samples, train_labels = [], []"
      ],
      "execution_count": 2,
      "outputs": []
    },
    {
      "cell_type": "markdown",
      "metadata": {
        "id": "W6cz0J7wHKUb",
        "colab_type": "text"
      },
      "source": [
        "For this simple task, we'll be creating our own example data set.\n",
        "\n",
        "#### Data Creation\n",
        "\n",
        "As motivation for this data, let’s suppose that an experimental drug was tested on individuals ranging from age 13 to 100 in a clinical trial. The trial had 2100 participants. Half of the participants were under 65 years old, and the other half was 65 years of age or older.\n",
        "\n",
        "The trial showed that around 95% of patients 65 or older experienced side effects from the drug, and around 95% of patients under 65 experienced no side effects, generally showing that elderly individuals were more likely to experience side effects.\n",
        "\n",
        "Ultimately, we want to build a model to tell us whether or not a patient will experience side effects solely based on the patient's age. The judgement of the model will be based on the training data.\n",
        "\n",
        "Note that with the simplicity of the data along with the conclusions drawn from it, a neural network may be overkill, but understand this is just to first get introduced to working with data for deep learning, and later, we'll be making use of more advanced data sets.\n",
        "\n"
      ]
    },
    {
      "cell_type": "code",
      "metadata": {
        "id": "NSwRgO9FHB31",
        "colab_type": "code",
        "colab": {
          "base_uri": "https://localhost:8080/",
          "height": 35
        },
        "outputId": "670adcac-21cd-47e2-9086-38e1dadba1d0"
      },
      "source": [
        "young_population = old_population = int(2100/2)\n",
        "\n",
        "minority = int(0.05*old_population)*2\n",
        "\n",
        "print (minority)"
      ],
      "execution_count": 3,
      "outputs": [
        {
          "output_type": "stream",
          "text": [
            "104\n"
          ],
          "name": "stdout"
        }
      ]
    },
    {
      "cell_type": "markdown",
      "metadata": {
        "id": "-dZ51nYrIY46",
        "colab_type": "text"
      },
      "source": [
        "So the minority population is around 100 people (50 old and 50 young)"
      ]
    },
    {
      "cell_type": "code",
      "metadata": {
        "id": "lqus8pzdH8Jj",
        "colab_type": "code",
        "colab": {}
      },
      "source": [
        "for i in range(50):\n",
        "    # The ~5% of younger individuals who did experience side effects\n",
        "    random_younger = randint(13,64)\n",
        "    train_samples.append(random_younger)\n",
        "    train_labels.append(1)\n",
        "\n",
        "    # The ~5% of older individuals who did not experience side effects\n",
        "    random_older = randint(65,100)\n",
        "    train_samples.append(random_older)\n",
        "    train_labels.append(0)\n",
        "\n",
        "    ### we have added 100 of the minority to the data\n",
        "\n",
        "for i in range(1000):\n",
        "    # The ~95% of younger individuals who did not experience side effects\n",
        "    random_younger = randint(13,64)\n",
        "    train_samples.append(random_younger)\n",
        "    train_labels.append(0)\n",
        "\n",
        "    # The ~95% of older individuals who did experience side effects\n",
        "    random_older = randint(65,100)\n",
        "    train_samples.append(random_older)\n",
        "    train_labels.append(1)"
      ],
      "execution_count": 4,
      "outputs": []
    },
    {
      "cell_type": "code",
      "metadata": {
        "id": "mk1YTgtgJBhX",
        "colab_type": "code",
        "colab": {
          "base_uri": "https://localhost:8080/",
          "height": 35
        },
        "outputId": "1b70a4a3-c8e8-4793-d269-3acdd9dfb399"
      },
      "source": [
        "print (len(train_samples), len(train_labels))"
      ],
      "execution_count": 5,
      "outputs": [
        {
          "output_type": "stream",
          "text": [
            "2100 2100\n"
          ],
          "name": "stdout"
        }
      ]
    },
    {
      "cell_type": "markdown",
      "metadata": {
        "id": "shMgm647JNfS",
        "colab_type": "text"
      },
      "source": [
        "This code creates 2100 samples and stores the age of the individuals in the train_samples list and stores whether or not the individuals experienced side effects in the train_labels list.\n",
        "\n",
        "Convert the data to numpy arrays:"
      ]
    },
    {
      "cell_type": "code",
      "metadata": {
        "id": "OqGpKnIRJI3C",
        "colab_type": "code",
        "colab": {
          "base_uri": "https://localhost:8080/",
          "height": 54
        },
        "outputId": "df840afe-e402-4292-ee88-69baf32653f8"
      },
      "source": [
        "train_labels = np.array(train_labels)\n",
        "train_samples = np.array(train_samples)\n",
        "### before shuffling\n",
        "print (train_labels[:10], train_samples[:10])\n",
        "\n",
        "train_labels, train_samples = shuffle(train_labels, train_samples) ### consistent order; so keeps track of the correspondence bw the 2 as we shuffle\n",
        "print (train_labels[:10], train_samples[:10])\n"
      ],
      "execution_count": 6,
      "outputs": [
        {
          "output_type": "stream",
          "text": [
            "[1 0 1 0 1 0 1 0 1 0] [21 83 23 66 60 87 24 81 40 85]\n",
            "[0 1 1 1 1 1 1 1 1 1] [ 18  67  86  21  89  80  85  80  90 100]\n"
          ],
          "name": "stdout"
        }
      ]
    },
    {
      "cell_type": "code",
      "metadata": {
        "id": "gMxGZS69LXMz",
        "colab_type": "code",
        "colab": {
          "base_uri": "https://localhost:8080/",
          "height": 35
        },
        "outputId": "a15281d5-1de0-48af-cec1-dc7cce54e49c"
      },
      "source": [
        "### test for shuffle\n",
        "t1 = np.array([23,34,12,11,34,65,32])\n",
        "t2 = np.array([1,1,0,0,0,1,1])\n",
        "\n",
        "t1_new,t2_new = shuffle(t1,t2)\n",
        "\n",
        "print(t1_new, t2_new)"
      ],
      "execution_count": 7,
      "outputs": [
        {
          "output_type": "stream",
          "text": [
            "[34 65 32 23 11 12 34] [1 1 1 1 0 0 0]\n"
          ],
          "name": "stdout"
        }
      ]
    },
    {
      "cell_type": "markdown",
      "metadata": {
        "id": "i2YIiD3VL19a",
        "colab_type": "text"
      },
      "source": [
        "> Ok, so shuffle does keep track of the correspondence"
      ]
    },
    {
      "cell_type": "markdown",
      "metadata": {
        "id": "wEcgi0A6LAib",
        "colab_type": "text"
      },
      "source": [
        "In this form, we now have the ability to pass the data to the model because it is now in the required format, however, before doing that, we'll first scale the data down to a range from 0 to 1.\n",
        "\n",
        "We'll use scikit-learn’s MinMaxScaler class to scale all of the data down from a scale ranging from 13 to 100 to be on a scale from 0 to 1.\n",
        "\n",
        "We reshape the data as a technical requirement just since the fit_transform() function doesn’t accept 1D data by default.\n",
        "\n"
      ]
    },
    {
      "cell_type": "code",
      "metadata": {
        "id": "Cxnq1op4KOXG",
        "colab_type": "code",
        "colab": {
          "base_uri": "https://localhost:8080/",
          "height": 108
        },
        "outputId": "72ac44ec-9ffa-4347-b1af-0c05b480d635"
      },
      "source": [
        "scaler = MinMaxScaler(feature_range=(0,1))\n",
        "scaled_train_samples = scaler.fit_transform(X=train_samples.reshape(-1, 1))\n",
        "\n",
        "print (scaled_train_samples[:5])"
      ],
      "execution_count": 8,
      "outputs": [
        {
          "output_type": "stream",
          "text": [
            "[[0.05747126]\n",
            " [0.62068966]\n",
            " [0.83908046]\n",
            " [0.09195402]\n",
            " [0.87356322]]\n"
          ],
          "name": "stdout"
        }
      ]
    },
    {
      "cell_type": "markdown",
      "metadata": {
        "id": "pe6XEZFHVSof",
        "colab_type": "text"
      },
      "source": [
        "### Create An Artificial Neural Network With TensorFlow's Keras API\n",
        "\n",
        "---\n",
        "\n"
      ]
    },
    {
      "cell_type": "code",
      "metadata": {
        "id": "KM64gOw1MG7C",
        "colab_type": "code",
        "colab": {}
      },
      "source": [
        "import tensorflow as tf\n",
        "from tensorflow import keras\n",
        "from tensorflow.keras.models import Sequential\n",
        "from tensorflow.keras.layers import Dense, Activation\n",
        "from tensorflow.keras.optimizers import Adam\n",
        "from tensorflow.keras.metrics import categorical_crossentropy"
      ],
      "execution_count": 9,
      "outputs": []
    },
    {
      "cell_type": "code",
      "metadata": {
        "id": "AbBYSQoDV0om",
        "colab_type": "code",
        "colab": {
          "base_uri": "https://localhost:8080/",
          "height": 35
        },
        "outputId": "ba903754-a377-4b94-fefa-ab7b72b6d5be"
      },
      "source": [
        "physical_devices = tf.config.experimental.list_physical_devices(\"GPU\")\n",
        "print (physical_devices)"
      ],
      "execution_count": 10,
      "outputs": [
        {
          "output_type": "stream",
          "text": [
            "[PhysicalDevice(name='/physical_device:GPU:0', device_type='GPU')]\n"
          ],
          "name": "stdout"
        }
      ]
    },
    {
      "cell_type": "markdown",
      "metadata": {
        "id": "Lqs98lqvWZ3-",
        "colab_type": "text"
      },
      "source": [
        "set_memory_growth() attempts to allocate only as much GPU memory as needed at a given time, and continues to allocate more when needed. If this is not enabled, then we may end up running into the error below when we train the model later.\n",
        "\n",
        "`Blas GEMM launch failed`"
      ]
    },
    {
      "cell_type": "code",
      "metadata": {
        "id": "ugrqo_oWWLNt",
        "colab_type": "code",
        "colab": {}
      },
      "source": [
        "tf.config.experimental.set_memory_growth(device=physical_devices[0], enable=True)"
      ],
      "execution_count": 11,
      "outputs": []
    },
    {
      "cell_type": "markdown",
      "metadata": {
        "id": "JHNcVetsWutk",
        "colab_type": "text"
      },
      "source": [
        "#### Build A Sequential Model\n"
      ]
    },
    {
      "cell_type": "code",
      "metadata": {
        "id": "OjPMWOytWnZO",
        "colab_type": "code",
        "colab": {}
      },
      "source": [
        "model = Sequential([\n",
        "    Dense(units=16, input_shape=(1,), activation='relu'),\n",
        "    Dense(units=32, activation='relu'),\n",
        "    Dense(units=2, activation='softmax')\n",
        "])"
      ],
      "execution_count": 12,
      "outputs": []
    },
    {
      "cell_type": "markdown",
      "metadata": {
        "id": "F9YumwZEXOVr",
        "colab_type": "text"
      },
      "source": [
        "As discussed, we’ll be training our network on the data that we generated and processed in the previous episode, and recall, this data is one-dimensional. The input_shape parameter expects a tuple of integers that matches the shape of the input data, so we correspondingly specify (1,) as the input_shape of our one-dimensional data.\n",
        "\n",
        "You can think of the way we specify the input_shape here as acting as an **implicit input layer**. The input layer of a neural network is the underlying raw data itself, therefore we don't create an explicit input layer. **This first Dense layer that we're working with now is actually the first hidden layer**.\n",
        "\n",
        "Lastly, an optional parameter that we’ll set for the Dense layer is the activation function to use after this layer. We’ll use the popular choice of relu. Note, if you don’t explicitly set an activation function, then Keras will use the linear activation function.\n",
        "\n",
        "Our next layer will also be a Dense layer, and this one will have 32 nodes. The choice of how many neurons this node has is also arbitrary, as the idea is to create a simple model, and then test and experiment with it. If we notice that it is insufficient, then at that time, we can troubleshoot the issue and begin experimenting with changing parameters, like number of layers, nodes, etc.\n",
        "\n",
        "Lastly, we specify the output layer. This layer is also a Dense layer, and it will have 2 neurons. This is because we have two possible outputs: either a patient experienced side effects, or the patient did not experience side effects.\n",
        "\n",
        "This time, the activation function we’ll use is softmax, which will give us a probability distribution among the possible outputs."
      ]
    },
    {
      "cell_type": "code",
      "metadata": {
        "id": "UtPgvikqXFsI",
        "colab_type": "code",
        "colab": {
          "base_uri": "https://localhost:8080/",
          "height": 272
        },
        "outputId": "61f7a63d-d164-483c-fed0-f96ce80b2679"
      },
      "source": [
        "model.summary()"
      ],
      "execution_count": 13,
      "outputs": [
        {
          "output_type": "stream",
          "text": [
            "Model: \"sequential\"\n",
            "_________________________________________________________________\n",
            "Layer (type)                 Output Shape              Param #   \n",
            "=================================================================\n",
            "dense (Dense)                (None, 16)                32        \n",
            "_________________________________________________________________\n",
            "dense_1 (Dense)              (None, 32)                544       \n",
            "_________________________________________________________________\n",
            "dense_2 (Dense)              (None, 2)                 66        \n",
            "=================================================================\n",
            "Total params: 642\n",
            "Trainable params: 642\n",
            "Non-trainable params: 0\n",
            "_________________________________________________________________\n"
          ],
          "name": "stdout"
        }
      ]
    },
    {
      "cell_type": "markdown",
      "metadata": {
        "id": "z8AThedlb5wr",
        "colab_type": "text"
      },
      "source": [
        "#### How do we arrive at 642 trainable params:\n",
        "\n",
        "1. 1 ip. Then 1 hidden layer with 16 nodes. So 16 connections (wts) and 16 (biases): `16x2`\n",
        "\n",
        "2. Next layer has 32 nodes. `16*32` wts + 32 biases: `(16*32)+32`\n",
        "\n",
        "3. Last layer has 2 nodes. So `32*2` wts + 2 biases: `32*2+2`\n",
        "\n",
        "`16*2 + (16*32)+32 + (32*2)+2 = 642`"
      ]
    },
    {
      "cell_type": "markdown",
      "metadata": {
        "id": "CzWwu1LcdZRj",
        "colab_type": "text"
      },
      "source": [
        "### Train An Artificial Neural Network With Keras\n",
        "\n",
        "---\n",
        "\n",
        "The first thing we need to do to get the model ready for training is call the compile() function on it.\n",
        "\n"
      ]
    },
    {
      "cell_type": "code",
      "metadata": {
        "id": "DRjy7nPPcbIY",
        "colab_type": "code",
        "colab": {}
      },
      "source": [
        "model.compile(optimizer=Adam(learning_rate=0.0001), loss='sparse_categorical_crossentropy', metrics=['accuracy'])"
      ],
      "execution_count": 14,
      "outputs": []
    },
    {
      "cell_type": "code",
      "metadata": {
        "id": "rhFxzmbcdhhk",
        "colab_type": "code",
        "colab": {
          "base_uri": "https://localhost:8080/",
          "height": 1000
        },
        "outputId": "3dde3357-dc57-4dff-f250-935349ff8827"
      },
      "source": [
        "model.fit(x=scaled_train_samples, y=train_labels, batch_size=10, epochs=30, verbose=2, shuffle=True)"
      ],
      "execution_count": 15,
      "outputs": [
        {
          "output_type": "stream",
          "text": [
            "Epoch 1/30\n",
            "210/210 - 0s - loss: 0.6650 - accuracy: 0.5390\n",
            "Epoch 2/30\n",
            "210/210 - 0s - loss: 0.6443 - accuracy: 0.5948\n",
            "Epoch 3/30\n",
            "210/210 - 0s - loss: 0.6172 - accuracy: 0.6676\n",
            "Epoch 4/30\n",
            "210/210 - 0s - loss: 0.5824 - accuracy: 0.7452\n",
            "Epoch 5/30\n",
            "210/210 - 0s - loss: 0.5497 - accuracy: 0.7762\n",
            "Epoch 6/30\n",
            "210/210 - 0s - loss: 0.5173 - accuracy: 0.8186\n",
            "Epoch 7/30\n",
            "210/210 - 0s - loss: 0.4855 - accuracy: 0.8429\n",
            "Epoch 8/30\n",
            "210/210 - 0s - loss: 0.4556 - accuracy: 0.8586\n",
            "Epoch 9/30\n",
            "210/210 - 0s - loss: 0.4281 - accuracy: 0.8719\n",
            "Epoch 10/30\n",
            "210/210 - 0s - loss: 0.4037 - accuracy: 0.8943\n",
            "Epoch 11/30\n",
            "210/210 - 0s - loss: 0.3828 - accuracy: 0.8962\n",
            "Epoch 12/30\n",
            "210/210 - 0s - loss: 0.3649 - accuracy: 0.9043\n",
            "Epoch 13/30\n",
            "210/210 - 0s - loss: 0.3499 - accuracy: 0.9114\n",
            "Epoch 14/30\n",
            "210/210 - 0s - loss: 0.3372 - accuracy: 0.9119\n",
            "Epoch 15/30\n",
            "210/210 - 0s - loss: 0.3267 - accuracy: 0.9181\n",
            "Epoch 16/30\n",
            "210/210 - 0s - loss: 0.3178 - accuracy: 0.9224\n",
            "Epoch 17/30\n",
            "210/210 - 0s - loss: 0.3105 - accuracy: 0.9248\n",
            "Epoch 18/30\n",
            "210/210 - 0s - loss: 0.3043 - accuracy: 0.9281\n",
            "Epoch 19/30\n",
            "210/210 - 0s - loss: 0.2991 - accuracy: 0.9243\n",
            "Epoch 20/30\n",
            "210/210 - 0s - loss: 0.2944 - accuracy: 0.9300\n",
            "Epoch 21/30\n",
            "210/210 - 0s - loss: 0.2906 - accuracy: 0.9310\n",
            "Epoch 22/30\n",
            "210/210 - 0s - loss: 0.2872 - accuracy: 0.9295\n",
            "Epoch 23/30\n",
            "210/210 - 0s - loss: 0.2844 - accuracy: 0.9310\n",
            "Epoch 24/30\n",
            "210/210 - 0s - loss: 0.2817 - accuracy: 0.9333\n",
            "Epoch 25/30\n",
            "210/210 - 0s - loss: 0.2795 - accuracy: 0.9300\n",
            "Epoch 26/30\n",
            "210/210 - 0s - loss: 0.2774 - accuracy: 0.9329\n",
            "Epoch 27/30\n",
            "210/210 - 0s - loss: 0.2754 - accuracy: 0.9376\n",
            "Epoch 28/30\n",
            "210/210 - 0s - loss: 0.2740 - accuracy: 0.9333\n",
            "Epoch 29/30\n",
            "210/210 - 0s - loss: 0.2724 - accuracy: 0.9329\n",
            "Epoch 30/30\n",
            "210/210 - 0s - loss: 0.2708 - accuracy: 0.9300\n"
          ],
          "name": "stdout"
        },
        {
          "output_type": "execute_result",
          "data": {
            "text/plain": [
              "<tensorflow.python.keras.callbacks.History at 0x7fab803064e0>"
            ]
          },
          "metadata": {
            "tags": []
          },
          "execution_count": 15
        }
      ]
    },
    {
      "cell_type": "markdown",
      "metadata": {
        "id": "tZH4b0Tkeonx",
        "colab_type": "text"
      },
      "source": [
        "We set shuffle to True as we do not want the model to learn any implicit order by which it sees the training samples\n",
        "\n",
        "### Build A Validation Set With TensorFlow's Keras API\n",
        "\n",
        "---\n",
        "\n",
        "Recall that we previously built a training set on which we trained our model. With each epoch that our model is trained, the model will continue to learn the features and characteristics of the data in this training set.\n",
        "\n",
        "The hope is that later we can take this model, apply it to new data, and have the model accurately predict on data that it hasn’t seen before based solely on what it learned from the training set.\n",
        "\n",
        "Now, let’s discuss where the addition of a validation set comes into play.\n",
        "\n",
        "Before training begins, we can choose to remove a portion of the training set and place it in a validation set. Then, during training, the model will train only on the training set, and it will validate by evaluating the data in the validation set.\n",
        "\n",
        "Essentially, the model is learning the features of the data in the training set, taking what it's learned from this data, and then predicting on the validation set. During each epoch, we will see not only the loss and accuracy results for the training set, but also for the validation set.\n",
        "\n",
        "This allows us to see how well the model is generalizing on data it wasn’t trained on because, recall, the validation data should not be part of the training data.\n",
        "\n",
        "This also helps us see whether or not the model is overfitting. **Overfitting occurs when the model only learns the specifics of the training data and is unable to generalize well on data that it wasn’t trained on.**\n",
        "\n"
      ]
    },
    {
      "cell_type": "markdown",
      "metadata": {
        "id": "cFLE8d8qikgt",
        "colab_type": "text"
      },
      "source": [
        "#### Create a Validation set\n",
        "\n",
        "The first way is to create a data structure to hold a validation set, and place data directly in that structure in the same nature we did for the training set.\n",
        "\n",
        "This data structure should be a tuple `valid_set = (x_val, y_val)` of Numpy arrays or tensors, where `x_val` is a numpy array or tensor containing validation samples, and `y_val` is a numpy array or tensor containing validation labels.\n",
        "\n",
        "When we call model.fit(), we would pass in the validation set in addition to the training set. We pass the validation set by specifying the validation_data parameter.\n",
        "\n",
        "```\n",
        "model.fit(\n",
        "      x=scaled_train_samples\n",
        "    , y=train_labels\n",
        "    , validation_data=valid_set\n",
        "    , batch_size=10\n",
        "    , epochs=30\n",
        "    , verbose=2\n",
        ")\n",
        "```\n",
        "\n",
        "When the model trains, it would continue to train only on the training set, but additionally, it would also be evaluating the validation set.\n",
        "\n",
        "There is another way to create a validation set, and it saves a step!\n",
        "\n",
        "If we don’t already have a specified validation set created, then when we call `model.fit()`, we can set a value for the validation_split parameter. It expects a fractional number between 0 and 1. Suppose that we set this parameter to 0.1.\n",
        "\n",
        "```\n",
        "model.fit(\n",
        "      x=scaled_train_samples\n",
        "    , y=train_labels\n",
        "    , validation_split=0.1\n",
        "    , batch_size=10\n",
        "    , epochs=30\n",
        "    , verbose=2\n",
        ")\n",
        "```\n",
        "\n",
        "With this parameter specified, Keras will split apart a fraction (10% in this example) of the training data to be used as validation data. **The model will set apart this fraction of the training data, will not train on it, and will evaluate the loss and any model metrics on this data at the end of each epoch.**\n",
        "\n",
        "\n",
        "**Note that the fit() function shuffles the data before each epoch by default. When specifying the validation_split parameter, however, the validation data is selected from the last samples in the x and y data before shuffling.**\n",
        "\n",
        "So imagine if in our training data we had all sick patients first and non-sick patients after. Then if we split off the last 10% as validation, its going to take all the non-sick patients! So, here is not a prob as we have already shuffled our training data before iteself, but if that is not so, this would be a problem and setting `shuffle=True` also will not help\n",
        "\n",
        "Therefore, in the case we're using validation_split in this way to create our validation data, we need to be sure that our data has been shuffled ahead of time"
      ]
    },
    {
      "cell_type": "code",
      "metadata": {
        "id": "ls9UjDCdk2_l",
        "colab_type": "code",
        "colab": {}
      },
      "source": [
        "model = Sequential([\n",
        "    Dense(units=16, input_shape=(1,), activation='relu'),\n",
        "    Dense(units=32, activation='relu'),\n",
        "    Dense(units=2, activation='softmax')\n",
        "])\n",
        "model.compile(optimizer=Adam(learning_rate=0.0001), loss='sparse_categorical_crossentropy', metrics=['accuracy'])"
      ],
      "execution_count": 16,
      "outputs": []
    },
    {
      "cell_type": "code",
      "metadata": {
        "id": "b-zoBSfDfjOs",
        "colab_type": "code",
        "colab": {
          "base_uri": "https://localhost:8080/",
          "height": 1000
        },
        "outputId": "12a203c3-6d9b-4d41-df73-fd5f1ddecd45"
      },
      "source": [
        "model.fit(x=scaled_train_samples, y=train_labels, batch_size=10, epochs=30, verbose=2, shuffle=True, validation_split=0.1)"
      ],
      "execution_count": 17,
      "outputs": [
        {
          "output_type": "stream",
          "text": [
            "Epoch 1/30\n",
            "189/189 - 1s - loss: 0.6653 - accuracy: 0.5661 - val_loss: 0.6419 - val_accuracy: 0.5905\n",
            "Epoch 2/30\n",
            "189/189 - 0s - loss: 0.6351 - accuracy: 0.6291 - val_loss: 0.6098 - val_accuracy: 0.6857\n",
            "Epoch 3/30\n",
            "189/189 - 0s - loss: 0.6042 - accuracy: 0.7021 - val_loss: 0.5753 - val_accuracy: 0.7476\n",
            "Epoch 4/30\n",
            "189/189 - 0s - loss: 0.5740 - accuracy: 0.7450 - val_loss: 0.5435 - val_accuracy: 0.7810\n",
            "Epoch 5/30\n",
            "189/189 - 0s - loss: 0.5444 - accuracy: 0.7804 - val_loss: 0.5119 - val_accuracy: 0.8190\n",
            "Epoch 6/30\n",
            "189/189 - 0s - loss: 0.5148 - accuracy: 0.8101 - val_loss: 0.4800 - val_accuracy: 0.8619\n",
            "Epoch 7/30\n",
            "189/189 - 0s - loss: 0.4853 - accuracy: 0.8344 - val_loss: 0.4490 - val_accuracy: 0.8714\n",
            "Epoch 8/30\n",
            "189/189 - 0s - loss: 0.4571 - accuracy: 0.8540 - val_loss: 0.4199 - val_accuracy: 0.8905\n",
            "Epoch 9/30\n",
            "189/189 - 0s - loss: 0.4310 - accuracy: 0.8709 - val_loss: 0.3933 - val_accuracy: 0.9000\n",
            "Epoch 10/30\n",
            "189/189 - 0s - loss: 0.4073 - accuracy: 0.8899 - val_loss: 0.3691 - val_accuracy: 0.9000\n",
            "Epoch 11/30\n",
            "189/189 - 0s - loss: 0.3857 - accuracy: 0.8942 - val_loss: 0.3473 - val_accuracy: 0.9190\n",
            "Epoch 12/30\n",
            "189/189 - 0s - loss: 0.3669 - accuracy: 0.9032 - val_loss: 0.3287 - val_accuracy: 0.9333\n",
            "Epoch 13/30\n",
            "189/189 - 0s - loss: 0.3512 - accuracy: 0.9095 - val_loss: 0.3131 - val_accuracy: 0.9333\n",
            "Epoch 14/30\n",
            "189/189 - 0s - loss: 0.3382 - accuracy: 0.9132 - val_loss: 0.2997 - val_accuracy: 0.9429\n",
            "Epoch 15/30\n",
            "189/189 - 0s - loss: 0.3273 - accuracy: 0.9175 - val_loss: 0.2885 - val_accuracy: 0.9429\n",
            "Epoch 16/30\n",
            "189/189 - 0s - loss: 0.3182 - accuracy: 0.9222 - val_loss: 0.2791 - val_accuracy: 0.9429\n",
            "Epoch 17/30\n",
            "189/189 - 0s - loss: 0.3109 - accuracy: 0.9243 - val_loss: 0.2709 - val_accuracy: 0.9429\n",
            "Epoch 18/30\n",
            "189/189 - 0s - loss: 0.3046 - accuracy: 0.9265 - val_loss: 0.2649 - val_accuracy: 0.9429\n",
            "Epoch 19/30\n",
            "189/189 - 0s - loss: 0.2995 - accuracy: 0.9206 - val_loss: 0.2586 - val_accuracy: 0.9429\n",
            "Epoch 20/30\n",
            "189/189 - 0s - loss: 0.2949 - accuracy: 0.9286 - val_loss: 0.2538 - val_accuracy: 0.9429\n",
            "Epoch 21/30\n",
            "189/189 - 0s - loss: 0.2911 - accuracy: 0.9249 - val_loss: 0.2493 - val_accuracy: 0.9429\n",
            "Epoch 22/30\n",
            "189/189 - 0s - loss: 0.2877 - accuracy: 0.9296 - val_loss: 0.2456 - val_accuracy: 0.9429\n",
            "Epoch 23/30\n",
            "189/189 - 0s - loss: 0.2847 - accuracy: 0.9280 - val_loss: 0.2423 - val_accuracy: 0.9429\n",
            "Epoch 24/30\n",
            "189/189 - 0s - loss: 0.2821 - accuracy: 0.9296 - val_loss: 0.2391 - val_accuracy: 0.9429\n",
            "Epoch 25/30\n",
            "189/189 - 0s - loss: 0.2797 - accuracy: 0.9302 - val_loss: 0.2366 - val_accuracy: 0.9429\n",
            "Epoch 26/30\n",
            "189/189 - 0s - loss: 0.2778 - accuracy: 0.9302 - val_loss: 0.2343 - val_accuracy: 0.9429\n",
            "Epoch 27/30\n",
            "189/189 - 0s - loss: 0.2757 - accuracy: 0.9376 - val_loss: 0.2323 - val_accuracy: 0.9429\n",
            "Epoch 28/30\n",
            "189/189 - 0s - loss: 0.2744 - accuracy: 0.9286 - val_loss: 0.2303 - val_accuracy: 0.9429\n",
            "Epoch 29/30\n",
            "189/189 - 0s - loss: 0.2727 - accuracy: 0.9328 - val_loss: 0.2286 - val_accuracy: 0.9524\n",
            "Epoch 30/30\n",
            "189/189 - 0s - loss: 0.2713 - accuracy: 0.9333 - val_loss: 0.2269 - val_accuracy: 0.9524\n"
          ],
          "name": "stdout"
        },
        {
          "output_type": "execute_result",
          "data": {
            "text/plain": [
              "<tensorflow.python.keras.callbacks.History at 0x7fab80190518>"
            ]
          },
          "metadata": {
            "tags": []
          },
          "execution_count": 17
        }
      ]
    },
    {
      "cell_type": "markdown",
      "metadata": {
        "id": "vdyqz-sAk-9_",
        "colab_type": "text"
      },
      "source": [
        "The accuracy and the val_accuracy is quite similar, so it does not seem that it is oevrfitting"
      ]
    },
    {
      "cell_type": "markdown",
      "metadata": {
        "id": "vqxoWikuJTzW",
        "colab_type": "text"
      },
      "source": [
        "### Make Predictions With An Artificial Neural Network Using Keras\n",
        "\n",
        "At this point, the model we've been working with over the past few episodes has now been trained and validated. Given the results we’ve seen from the validation data, it appears that this model should do well on predicting on a new test set.\n",
        "\n",
        "#### Creating The Test Set\n",
        "\n",
        "We’ll create a test set in the same fashion for which we created the training set. **In general, the test set should always be processed in the same way as the training set**.\n",
        "\n"
      ]
    },
    {
      "cell_type": "code",
      "metadata": {
        "id": "2F7NE5FKkouq",
        "colab_type": "code",
        "colab": {}
      },
      "source": [
        "test_labels =  []\n",
        "test_samples = []\n",
        "\n",
        "for i in range(10):\n",
        "    # The 5% of younger individuals who did experience side effects\n",
        "    random_younger = randint(13,64)\n",
        "    test_samples.append(random_younger)\n",
        "    test_labels.append(1)\n",
        "    \n",
        "    # The 5% of older individuals who did not experience side effects\n",
        "    random_older = randint(65,100)\n",
        "    test_samples.append(random_older)\n",
        "    test_labels.append(0)\n",
        "\n",
        "for i in range(200):\n",
        "    # The 95% of younger individuals who did not experience side effects\n",
        "    random_younger = randint(13,64)\n",
        "    test_samples.append(random_younger)\n",
        "    test_labels.append(0)\n",
        "    \n",
        "    # The 95% of older individuals who did experience side effects\n",
        "    random_older = randint(65,100)\n",
        "    test_samples.append(random_older)\n",
        "    test_labels.append(1)\n",
        "\n",
        "test_labels = np.array(test_labels)\n",
        "test_samples = np.array(test_samples)\n",
        "test_labels, test_samples = shuffle(test_labels, test_samples)"
      ],
      "execution_count": 18,
      "outputs": []
    },
    {
      "cell_type": "code",
      "metadata": {
        "id": "XfimQ1BiLvUd",
        "colab_type": "code",
        "colab": {
          "base_uri": "https://localhost:8080/",
          "height": 35
        },
        "outputId": "8317868f-c54e-4798-ff7a-bbd455df36ed"
      },
      "source": [
        "print (test_labels.shape, test_samples.shape)"
      ],
      "execution_count": 19,
      "outputs": [
        {
          "output_type": "stream",
          "text": [
            "(420,) (420,)\n"
          ],
          "name": "stdout"
        }
      ]
    },
    {
      "cell_type": "code",
      "metadata": {
        "id": "Lt7FotYGM1Yu",
        "colab_type": "code",
        "colab": {}
      },
      "source": [
        "scaled_test_samples = scaler.fit_transform(test_samples.reshape(-1,1))"
      ],
      "execution_count": 20,
      "outputs": []
    },
    {
      "cell_type": "code",
      "metadata": {
        "id": "E72OewzAM3DG",
        "colab_type": "code",
        "colab": {
          "base_uri": "https://localhost:8080/",
          "height": 199
        },
        "outputId": "58f7d634-df49-40c4-f228-4fd929520ae2"
      },
      "source": [
        "scaled_test_samples[:10]"
      ],
      "execution_count": 21,
      "outputs": [
        {
          "output_type": "execute_result",
          "data": {
            "text/plain": [
              "array([[0.36781609],\n",
              "       [0.77011494],\n",
              "       [0.49425287],\n",
              "       [0.71264368],\n",
              "       [0.14942529],\n",
              "       [0.13793103],\n",
              "       [0.56321839],\n",
              "       [0.72413793],\n",
              "       [0.33333333],\n",
              "       [0.70114943]])"
            ]
          },
          "metadata": {
            "tags": []
          },
          "execution_count": 21
        }
      ]
    },
    {
      "cell_type": "markdown",
      "metadata": {
        "id": "YLTTlFQ0M6vH",
        "colab_type": "text"
      },
      "source": [
        "#### Evaluating The Test Set\n",
        "\n"
      ]
    },
    {
      "cell_type": "code",
      "metadata": {
        "id": "4Ldi2WiAM4si",
        "colab_type": "code",
        "colab": {}
      },
      "source": [
        "predictions = model.predict(x=scaled_test_samples, batch_size=10, verbose=0)"
      ],
      "execution_count": 22,
      "outputs": []
    },
    {
      "cell_type": "markdown",
      "metadata": {
        "id": "TIarlHksNoTR",
        "colab_type": "text"
      },
      "source": [
        "To this function, we pass in the test samples x, specify a batch_size, and specify which level of verbosity we want from log messages during prediction generation. The output from the predictions won't be relevant for us, so we're setting verbose=0 for no output.\n",
        "\n",
        "Note that, unlike with training and validation sets, we do not pass the labels of the test set to the model during the inference stage.\n",
        "\n",
        "To see what the model's predictions look like, we can iterate over them and print them out"
      ]
    },
    {
      "cell_type": "code",
      "metadata": {
        "id": "FgY9EEBeNnmk",
        "colab_type": "code",
        "colab": {
          "base_uri": "https://localhost:8080/",
          "height": 199
        },
        "outputId": "2e81528a-1cce-4514-d304-2a450bd20241"
      },
      "source": [
        "predictions[:10]"
      ],
      "execution_count": 23,
      "outputs": [
        {
          "output_type": "execute_result",
          "data": {
            "text/plain": [
              "array([[0.9334636 , 0.06653646],\n",
              "       [0.09539703, 0.904603  ],\n",
              "       [0.74362093, 0.25637907],\n",
              "       [0.15310577, 0.84689426],\n",
              "       [0.9675232 , 0.0324768 ],\n",
              "       [0.9673561 , 0.03264396],\n",
              "       [0.54697526, 0.45302474],\n",
              "       [0.1351097 , 0.8648903 ],\n",
              "       [0.9501645 , 0.04983545],\n",
              "       [0.17301951, 0.8269805 ]], dtype=float32)"
            ]
          },
          "metadata": {
            "tags": []
          },
          "execution_count": 23
        }
      ]
    },
    {
      "cell_type": "markdown",
      "metadata": {
        "id": "L9pdQutHN0Vk",
        "colab_type": "text"
      },
      "source": [
        "Each element in the predictions list is itself a list of length 2. The sum of the two values in each list is 1. The reason for this is because the two columns contain probabilities for each possible output: experienced side effects and did not experience side effects. Each element in the predictions list is a probability distribution over all possible outputs.\n",
        "\n",
        "The first column contains the probability for each patient not experiencing side effects, which is represented by a 0. The second column contains the probability for each patient experiencing side effects, which is represented by a 1.\n",
        "\n",
        "We can also look only at the most probable prediction."
      ]
    },
    {
      "cell_type": "code",
      "metadata": {
        "id": "xKxcggZTNrgO",
        "colab_type": "code",
        "colab": {
          "base_uri": "https://localhost:8080/",
          "height": 54
        },
        "outputId": "ab4018bc-637e-4c6c-a003-5deb62a0d774"
      },
      "source": [
        "rounded_predictions = np.argmax(predictions, axis=-1)\n",
        "\n",
        "print (rounded_predictions[:10])\n",
        "\n",
        "print (rounded_predictions.shape)"
      ],
      "execution_count": 24,
      "outputs": [
        {
          "output_type": "stream",
          "text": [
            "[0 1 0 1 0 0 0 1 0 1]\n",
            "(420,)\n"
          ],
          "name": "stdout"
        }
      ]
    },
    {
      "cell_type": "markdown",
      "metadata": {
        "id": "jMlF7hFVOEW2",
        "colab_type": "text"
      },
      "source": [
        "From the printed prediction results, we can observe the underlying predictions from the model, however, we cannot judge how accurate these predictions are just by looking at the predicted output.\n",
        "\n",
        "If we have corresponding labels for the test set, (for which, in this case, we do), then we can compare these true labels to the predicted labels to judge the accuracy of the model's evaluations. We'll see how to visualize this using a tool called a confusion matrix "
      ]
    },
    {
      "cell_type": "markdown",
      "metadata": {
        "id": "kkvGRvevjTIE",
        "colab_type": "text"
      },
      "source": [
        "### Create A Confusion Matrix For Neural Network Predictions\n",
        "\n"
      ]
    },
    {
      "cell_type": "code",
      "metadata": {
        "id": "gMMpp5sqN4g8",
        "colab_type": "code",
        "colab": {}
      },
      "source": [
        "%matplotlib inline\n",
        "from sklearn.metrics import confusion_matrix\n",
        "import itertools\n",
        "import matplotlib.pyplot as plt"
      ],
      "execution_count": 25,
      "outputs": []
    },
    {
      "cell_type": "code",
      "metadata": {
        "id": "SvBw26vWqtLz",
        "colab_type": "code",
        "colab": {}
      },
      "source": [
        "cm = confusion_matrix(y_true=test_labels, y_pred=rounded_predictions)"
      ],
      "execution_count": 26,
      "outputs": []
    },
    {
      "cell_type": "code",
      "metadata": {
        "id": "COKiKVfaq_To",
        "colab_type": "code",
        "colab": {}
      },
      "source": [
        "def plot_confusion_matrix(cm, classes,\n",
        "                        normalize=False,\n",
        "                        title='Confusion matrix',\n",
        "                        cmap=plt.cm.Blues):\n",
        "    \"\"\"\n",
        "    This function prints and plots the confusion matrix.\n",
        "    Normalization can be applied by setting `normalize=True`.\n",
        "    \"\"\"\n",
        "    plt.imshow(cm, interpolation='nearest', cmap=cmap)\n",
        "    plt.title(title)\n",
        "    plt.colorbar()\n",
        "    tick_marks = np.arange(len(classes))\n",
        "    plt.xticks(tick_marks, classes, rotation=45)\n",
        "    plt.yticks(tick_marks, classes)\n",
        "\n",
        "    if normalize:\n",
        "        cm = cm.astype('float') / cm.sum(axis=1)[:, np.newaxis]\n",
        "        print(\"Normalized confusion matrix\")\n",
        "    else:\n",
        "        print('Confusion matrix, without normalization')\n",
        "\n",
        "    print(cm)\n",
        "\n",
        "    thresh = cm.max() / 2.\n",
        "    for i, j in itertools.product(range(cm.shape[0]), range(cm.shape[1])):\n",
        "        plt.text(j, i, cm[i, j],\n",
        "            horizontalalignment=\"center\",\n",
        "            color=\"white\" if cm[i, j] > thresh else \"black\")\n",
        "\n",
        "    plt.tight_layout()\n",
        "    plt.ylabel('True label')\n",
        "    plt.xlabel('Predicted label')"
      ],
      "execution_count": 27,
      "outputs": []
    },
    {
      "cell_type": "markdown",
      "metadata": {
        "id": "ayw_8l1-rEH7",
        "colab_type": "text"
      },
      "source": [
        "Next, we define the labels for the confusion matrix. In our case, the labels are titled “no side effects” and “had side effects.”\n",
        "\n"
      ]
    },
    {
      "cell_type": "code",
      "metadata": {
        "id": "2eVH9sferCUg",
        "colab_type": "code",
        "colab": {}
      },
      "source": [
        "cm_plot_labels = ['no_side_effects','had_side_effects']"
      ],
      "execution_count": 28,
      "outputs": []
    },
    {
      "cell_type": "markdown",
      "metadata": {
        "id": "0NsKpWN6rHdn",
        "colab_type": "text"
      },
      "source": [
        "Lastly, we plot the confusion matrix by using the plot_confusion_matrix() function we just discussed. To this function, we pass in the confusion matrix cm and the labels cm_plot_labels, as well as a title for the confusion matrix.\n",
        "\n"
      ]
    },
    {
      "cell_type": "code",
      "metadata": {
        "id": "eNE-UCLurF96",
        "colab_type": "code",
        "colab": {
          "base_uri": "https://localhost:8080/",
          "height": 365
        },
        "outputId": "20564686-c47a-4926-9f10-90fad958fe8d"
      },
      "source": [
        "plot_confusion_matrix(cm=cm, classes=cm_plot_labels, title='Confusion Matrix')"
      ],
      "execution_count": 29,
      "outputs": [
        {
          "output_type": "stream",
          "text": [
            "Confusion matrix, without normalization\n",
            "[[199  11]\n",
            " [ 10 200]]\n"
          ],
          "name": "stdout"
        },
        {
          "output_type": "display_data",
          "data": {
            "image/png": "[encoded data removed]",
            "text/plain": [
              "<Figure size 432x288 with 2 Axes>"
            ]
          },
          "metadata": {
            "tags": [],
            "needs_background": "light"
          }
        }
      ]
    },
    {
      "cell_type": "markdown",
      "metadata": {
        "id": "3Rl2ND2frXSA",
        "colab_type": "text"
      },
      "source": [
        "Looking at the plot of the confusion matrix, we have the predicted labels on the x-axis and the true labels on the y-axis. The blue cells running from the top left to bottom right contain the number of samples that the model accurately predicted. The white cells contain the number of samples that were incorrectly predicted.\n",
        "\n",
        "There are 420 total samples in the test set. Looking at the confusion matrix, we can see that the model accurately predicted 399 out of 420 total samples. The model incorrectly predicted 21 out of the 420.\n",
        "\n",
        "For the samples the model got correct, we can see that it accurately predicted that the patients would experience no side effects 199 times. It incorrectly predicted that the patient would have no side effects 10 times when the patient did actually experience side effects.\n",
        "\n",
        "On the other side, the model accurately predicted that the patient would experience side effects 200 times that the patient did indeed experience side effects. It incorrectly predicted that the patient would have side effects 11 times when the patient actually did not experience side effects.\n",
        "\n",
        "As you can see, this is a good way we can visually interpret how well the model is doing at its predictions and understand where it may need some work."
      ]
    },
    {
      "cell_type": "code",
      "metadata": {
        "id": "h1Tx__hNrTsG",
        "colab_type": "code",
        "colab": {}
      },
      "source": [
        ""
      ],
      "execution_count": null,
      "outputs": []
    }
  ]
}