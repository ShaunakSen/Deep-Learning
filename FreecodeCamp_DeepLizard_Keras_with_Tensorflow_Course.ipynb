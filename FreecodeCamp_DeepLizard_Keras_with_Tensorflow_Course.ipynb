{
  "nbformat": 4,
  "nbformat_minor": 0,
  "metadata": {
    "colab": {
      "name": "FreecodeCamp DeepLizard Keras with Tensorflow Course.ipynb",
      "provenance": [],
      "collapsed_sections": [],
      "authorship_tag": "ABX9TyMa4Q38iZqoh5XYUCHZX/Sy",
      "include_colab_link": true
    },
    "kernelspec": {
      "name": "python3",
      "display_name": "Python 3"
    },
    "accelerator": "GPU"
  },
  "cells": [
    {
      "cell_type": "markdown",
      "metadata": {
        "id": "view-in-github",
        "colab_type": "text"
      },
      "source": [
        "<a href=\"https://colab.research.google.com/github/ShaunakSen/Deep-Learning/blob/master/FreecodeCamp_DeepLizard_Keras_with_Tensorflow_Course.ipynb\" target=\"_parent\"><img src=\"https://colab.research.google.com/assets/colab-badge.svg\" alt=\"Open In Colab\"/></a>"
      ]
    },
    {
      "cell_type": "markdown",
      "metadata": {
        "id": "Bw0Hy8rvGNJl",
        "colab_type": "text"
      },
      "source": [
        "## FreecodeCamp DeepLizard Keras with Tensorflow Course\n",
        "\n",
        "> Written notes on the tutorial by [DeepLizard](https://youtube.com/deeplizard) and [FreeCodeCamp](https://www.youtube.com/channel/UC8butISFwT-Wl7EV0hUK0BQ): https://www.youtube.com/watch?v=qFJeN9V1ZsI\n",
        "\n",
        "---\n",
        "\n",
        "### Data preparation and processing"
      ]
    },
    {
      "cell_type": "code",
      "metadata": {
        "id": "qUfiblDNGKJc",
        "colab_type": "code",
        "colab": {}
      },
      "source": [
        "import numpy as np\n",
        "from random import randint\n",
        "from sklearn.utils import shuffle\n",
        "from sklearn.preprocessing import MinMaxScaler"
      ],
      "execution_count": null,
      "outputs": []
    },
    {
      "cell_type": "code",
      "metadata": {
        "id": "7lvzv7ilG-iL",
        "colab_type": "code",
        "colab": {}
      },
      "source": [
        "train_samples, train_labels = [], []"
      ],
      "execution_count": null,
      "outputs": []
    },
    {
      "cell_type": "markdown",
      "metadata": {
        "id": "W6cz0J7wHKUb",
        "colab_type": "text"
      },
      "source": [
        "For this simple task, we'll be creating our own example data set.\n",
        "\n",
        "#### Data Creation\n",
        "\n",
        "As motivation for this data, let’s suppose that an experimental drug was tested on individuals ranging from age 13 to 100 in a clinical trial. The trial had 2100 participants. Half of the participants were under 65 years old, and the other half was 65 years of age or older.\n",
        "\n",
        "The trial showed that around 95% of patients 65 or older experienced side effects from the drug, and around 95% of patients under 65 experienced no side effects, generally showing that elderly individuals were more likely to experience side effects.\n",
        "\n",
        "Ultimately, we want to build a model to tell us whether or not a patient will experience side effects solely based on the patient's age. The judgement of the model will be based on the training data.\n",
        "\n",
        "Note that with the simplicity of the data along with the conclusions drawn from it, a neural network may be overkill, but understand this is just to first get introduced to working with data for deep learning, and later, we'll be making use of more advanced data sets.\n",
        "\n"
      ]
    },
    {
      "cell_type": "code",
      "metadata": {
        "id": "NSwRgO9FHB31",
        "colab_type": "code",
        "colab": {
          "base_uri": "https://localhost:8080/",
          "height": 35
        },
        "outputId": "6471dac1-0c1f-45b4-fc70-56e92a734782"
      },
      "source": [
        "young_population = old_population = int(2100/2)\n",
        "\n",
        "minority = int(0.05*old_population)*2\n",
        "\n",
        "print (minority)"
      ],
      "execution_count": null,
      "outputs": [
        {
          "output_type": "stream",
          "text": [
            "104\n"
          ],
          "name": "stdout"
        }
      ]
    },
    {
      "cell_type": "markdown",
      "metadata": {
        "id": "-dZ51nYrIY46",
        "colab_type": "text"
      },
      "source": [
        "So the minority population is around 100 people (50 old and 50 young)"
      ]
    },
    {
      "cell_type": "code",
      "metadata": {
        "id": "lqus8pzdH8Jj",
        "colab_type": "code",
        "colab": {}
      },
      "source": [
        "for i in range(50):\n",
        "    # The ~5% of younger individuals who did experience side effects\n",
        "    random_younger = randint(13,64)\n",
        "    train_samples.append(random_younger)\n",
        "    train_labels.append(1)\n",
        "\n",
        "    # The ~5% of older individuals who did not experience side effects\n",
        "    random_older = randint(65,100)\n",
        "    train_samples.append(random_older)\n",
        "    train_labels.append(0)\n",
        "\n",
        "    ### we have added 100 of the minority to the data\n",
        "\n",
        "for i in range(1000):\n",
        "    # The ~95% of younger individuals who did not experience side effects\n",
        "    random_younger = randint(13,64)\n",
        "    train_samples.append(random_younger)\n",
        "    train_labels.append(0)\n",
        "\n",
        "    # The ~95% of older individuals who did experience side effects\n",
        "    random_older = randint(65,100)\n",
        "    train_samples.append(random_older)\n",
        "    train_labels.append(1)"
      ],
      "execution_count": null,
      "outputs": []
    },
    {
      "cell_type": "code",
      "metadata": {
        "id": "mk1YTgtgJBhX",
        "colab_type": "code",
        "colab": {
          "base_uri": "https://localhost:8080/",
          "height": 35
        },
        "outputId": "b471ba95-8142-4570-f21b-82689214750b"
      },
      "source": [
        "print (len(train_samples), len(train_labels))"
      ],
      "execution_count": null,
      "outputs": [
        {
          "output_type": "stream",
          "text": [
            "2100 2100\n"
          ],
          "name": "stdout"
        }
      ]
    },
    {
      "cell_type": "markdown",
      "metadata": {
        "id": "shMgm647JNfS",
        "colab_type": "text"
      },
      "source": [
        "This code creates 2100 samples and stores the age of the individuals in the train_samples list and stores whether or not the individuals experienced side effects in the train_labels list.\n",
        "\n",
        "Convert the data to numpy arrays:"
      ]
    },
    {
      "cell_type": "code",
      "metadata": {
        "id": "OqGpKnIRJI3C",
        "colab_type": "code",
        "colab": {
          "base_uri": "https://localhost:8080/",
          "height": 54
        },
        "outputId": "50650583-962f-48b9-893d-bcda2fb99926"
      },
      "source": [
        "train_labels = np.array(train_labels)\n",
        "train_samples = np.array(train_samples)\n",
        "### before shuffling\n",
        "print (train_labels[:10], train_samples[:10])\n",
        "\n",
        "train_labels, train_samples = shuffle(train_labels, train_samples) ### consistent order; so keeps track of the correspondence bw the 2 as we shuffle\n",
        "print (train_labels[:10], train_samples[:10])\n"
      ],
      "execution_count": null,
      "outputs": [
        {
          "output_type": "stream",
          "text": [
            "[1 0 1 0 1 0 1 0 1 0] [51 99 17 97 59 67 23 69 49 77]\n",
            "[0 0 1 1 1 0 0 0 0 0] [16 29 97 69 98 57 36 38 15 23]\n"
          ],
          "name": "stdout"
        }
      ]
    },
    {
      "cell_type": "code",
      "metadata": {
        "id": "gMxGZS69LXMz",
        "colab_type": "code",
        "colab": {
          "base_uri": "https://localhost:8080/",
          "height": 35
        },
        "outputId": "e707c6eb-e3e7-4752-e540-9f8a578d772c"
      },
      "source": [
        "### test for shuffle\n",
        "t1 = np.array([23,34,12,11,34,65,32])\n",
        "t2 = np.array([1,1,0,0,0,1,1])\n",
        "\n",
        "t1_new,t2_new = shuffle(t1,t2)\n",
        "\n",
        "print(t1_new, t2_new)"
      ],
      "execution_count": null,
      "outputs": [
        {
          "output_type": "stream",
          "text": [
            "[65 34 23 34 11 12 32] [1 0 1 1 0 0 1]\n"
          ],
          "name": "stdout"
        }
      ]
    },
    {
      "cell_type": "markdown",
      "metadata": {
        "id": "i2YIiD3VL19a",
        "colab_type": "text"
      },
      "source": [
        "> Ok, so shuffle does keep track of the correspondence"
      ]
    },
    {
      "cell_type": "markdown",
      "metadata": {
        "id": "wEcgi0A6LAib",
        "colab_type": "text"
      },
      "source": [
        "In this form, we now have the ability to pass the data to the model because it is now in the required format, however, before doing that, we'll first scale the data down to a range from 0 to 1.\n",
        "\n",
        "We'll use scikit-learn’s MinMaxScaler class to scale all of the data down from a scale ranging from 13 to 100 to be on a scale from 0 to 1.\n",
        "\n",
        "We reshape the data as a technical requirement just since the fit_transform() function doesn’t accept 1D data by default.\n",
        "\n"
      ]
    },
    {
      "cell_type": "code",
      "metadata": {
        "id": "Cxnq1op4KOXG",
        "colab_type": "code",
        "colab": {
          "base_uri": "https://localhost:8080/",
          "height": 108
        },
        "outputId": "ed016e03-095c-4b7f-d3c6-eda5547c29ef"
      },
      "source": [
        "scaler = MinMaxScaler(feature_range=(0,1))\n",
        "scaled_train_samples = scaler.fit_transform(X=train_samples.reshape(-1, 1))\n",
        "\n",
        "print (scaled_train_samples[:5])"
      ],
      "execution_count": null,
      "outputs": [
        {
          "output_type": "stream",
          "text": [
            "[[0.03448276]\n",
            " [0.18390805]\n",
            " [0.96551724]\n",
            " [0.64367816]\n",
            " [0.97701149]]\n"
          ],
          "name": "stdout"
        }
      ]
    },
    {
      "cell_type": "markdown",
      "metadata": {
        "id": "pe6XEZFHVSof",
        "colab_type": "text"
      },
      "source": [
        "### Create An Artificial Neural Network With TensorFlow's Keras API\n",
        "\n",
        "---\n",
        "\n"
      ]
    },
    {
      "cell_type": "code",
      "metadata": {
        "id": "KM64gOw1MG7C",
        "colab_type": "code",
        "colab": {}
      },
      "source": [
        "import tensorflow as tf\n",
        "from tensorflow import keras\n",
        "from tensorflow.keras.models import Sequential\n",
        "from tensorflow.keras.layers import Dense, Activation\n",
        "from tensorflow.keras.optimizers import Adam\n",
        "from tensorflow.keras.metrics import categorical_crossentropy"
      ],
      "execution_count": null,
      "outputs": []
    },
    {
      "cell_type": "code",
      "metadata": {
        "id": "AbBYSQoDV0om",
        "colab_type": "code",
        "colab": {
          "base_uri": "https://localhost:8080/",
          "height": 35
        },
        "outputId": "1c0cfd92-0887-4b54-e9bc-561595e5cbae"
      },
      "source": [
        "physical_devices = tf.config.experimental.list_physical_devices(\"GPU\")\n",
        "print (physical_devices)"
      ],
      "execution_count": null,
      "outputs": [
        {
          "output_type": "stream",
          "text": [
            "[PhysicalDevice(name='/physical_device:GPU:0', device_type='GPU')]\n"
          ],
          "name": "stdout"
        }
      ]
    },
    {
      "cell_type": "markdown",
      "metadata": {
        "id": "Lqs98lqvWZ3-",
        "colab_type": "text"
      },
      "source": [
        "set_memory_growth() attempts to allocate only as much GPU memory as needed at a given time, and continues to allocate more when needed. If this is not enabled, then we may end up running into the error below when we train the model later.\n",
        "\n",
        "`Blas GEMM launch failed`"
      ]
    },
    {
      "cell_type": "code",
      "metadata": {
        "id": "ugrqo_oWWLNt",
        "colab_type": "code",
        "colab": {}
      },
      "source": [
        "tf.config.experimental.set_memory_growth(device=physical_devices[0], enable=True)"
      ],
      "execution_count": null,
      "outputs": []
    },
    {
      "cell_type": "markdown",
      "metadata": {
        "id": "JHNcVetsWutk",
        "colab_type": "text"
      },
      "source": [
        "#### Build A Sequential Model\n"
      ]
    },
    {
      "cell_type": "code",
      "metadata": {
        "id": "OjPMWOytWnZO",
        "colab_type": "code",
        "colab": {}
      },
      "source": [
        "model = Sequential([\n",
        "    Dense(units=16, input_shape=(1,), activation='relu'),\n",
        "    Dense(units=32, activation='relu'),\n",
        "    Dense(units=2, activation='softmax')\n",
        "])"
      ],
      "execution_count": null,
      "outputs": []
    },
    {
      "cell_type": "markdown",
      "metadata": {
        "id": "F9YumwZEXOVr",
        "colab_type": "text"
      },
      "source": [
        "As discussed, we’ll be training our network on the data that we generated and processed in the previous episode, and recall, this data is one-dimensional. The input_shape parameter expects a tuple of integers that matches the shape of the input data, so we correspondingly specify (1,) as the input_shape of our one-dimensional data.\n",
        "\n",
        "You can think of the way we specify the input_shape here as acting as an **implicit input layer**. The input layer of a neural network is the underlying raw data itself, therefore we don't create an explicit input layer. **This first Dense layer that we're working with now is actually the first hidden layer**.\n",
        "\n",
        "Lastly, an optional parameter that we’ll set for the Dense layer is the activation function to use after this layer. We’ll use the popular choice of relu. Note, if you don’t explicitly set an activation function, then Keras will use the linear activation function.\n",
        "\n",
        "Our next layer will also be a Dense layer, and this one will have 32 nodes. The choice of how many neurons this node has is also arbitrary, as the idea is to create a simple model, and then test and experiment with it. If we notice that it is insufficient, then at that time, we can troubleshoot the issue and begin experimenting with changing parameters, like number of layers, nodes, etc.\n",
        "\n",
        "Lastly, we specify the output layer. This layer is also a Dense layer, and it will have 2 neurons. This is because we have two possible outputs: either a patient experienced side effects, or the patient did not experience side effects.\n",
        "\n",
        "This time, the activation function we’ll use is softmax, which will give us a probability distribution among the possible outputs."
      ]
    },
    {
      "cell_type": "code",
      "metadata": {
        "id": "UtPgvikqXFsI",
        "colab_type": "code",
        "colab": {
          "base_uri": "https://localhost:8080/",
          "height": 272
        },
        "outputId": "14e22835-77b3-4497-d922-4d68e037db77"
      },
      "source": [
        "model.summary()"
      ],
      "execution_count": null,
      "outputs": [
        {
          "output_type": "stream",
          "text": [
            "Model: \"sequential\"\n",
            "_________________________________________________________________\n",
            "Layer (type)                 Output Shape              Param #   \n",
            "=================================================================\n",
            "dense (Dense)                (None, 16)                32        \n",
            "_________________________________________________________________\n",
            "dense_1 (Dense)              (None, 32)                544       \n",
            "_________________________________________________________________\n",
            "dense_2 (Dense)              (None, 2)                 66        \n",
            "=================================================================\n",
            "Total params: 642\n",
            "Trainable params: 642\n",
            "Non-trainable params: 0\n",
            "_________________________________________________________________\n"
          ],
          "name": "stdout"
        }
      ]
    },
    {
      "cell_type": "markdown",
      "metadata": {
        "id": "z8AThedlb5wr",
        "colab_type": "text"
      },
      "source": [
        "#### How do we arrive at 642 trainable params:\n",
        "\n",
        "1. 1 ip. Then 1 hidden layer with 16 nodes. So 16 connections (wts) and 16 (biases): `16x2`\n",
        "\n",
        "2. Next layer has 32 nodes. `16*32` wts + 32 biases: `(16*32)+32`\n",
        "\n",
        "3. Last layer has 2 nodes. So `32*2` wts + 2 biases: `32*2+2`\n",
        "\n",
        "`16*2 + (16*32)+32 + (32*2)+2 = 642`"
      ]
    },
    {
      "cell_type": "markdown",
      "metadata": {
        "id": "CzWwu1LcdZRj",
        "colab_type": "text"
      },
      "source": [
        "### Train An Artificial Neural Network With Keras\n",
        "\n",
        "---\n",
        "\n",
        "The first thing we need to do to get the model ready for training is call the compile() function on it.\n",
        "\n"
      ]
    },
    {
      "cell_type": "code",
      "metadata": {
        "id": "DRjy7nPPcbIY",
        "colab_type": "code",
        "colab": {}
      },
      "source": [
        "model.compile(optimizer=Adam(learning_rate=0.0001), loss='sparse_categorical_crossentropy', metrics=['accuracy'])"
      ],
      "execution_count": null,
      "outputs": []
    },
    {
      "cell_type": "code",
      "metadata": {
        "id": "rhFxzmbcdhhk",
        "colab_type": "code",
        "colab": {
          "base_uri": "https://localhost:8080/",
          "height": 1000
        },
        "outputId": "4948b6af-1f09-41a9-b0e5-867ef9310368"
      },
      "source": [
        "model.fit(x=scaled_train_samples, y=train_labels, batch_size=10, epochs=30, verbose=2, shuffle=True)"
      ],
      "execution_count": null,
      "outputs": [
        {
          "output_type": "stream",
          "text": [
            "Epoch 1/30\n",
            "210/210 - 0s - loss: 0.6480 - accuracy: 0.5695\n",
            "Epoch 2/30\n",
            "210/210 - 0s - loss: 0.6242 - accuracy: 0.6367\n",
            "Epoch 3/30\n",
            "210/210 - 0s - loss: 0.5986 - accuracy: 0.6981\n",
            "Epoch 4/30\n",
            "210/210 - 0s - loss: 0.5717 - accuracy: 0.7429\n",
            "Epoch 5/30\n",
            "210/210 - 0s - loss: 0.5410 - accuracy: 0.7781\n",
            "Epoch 6/30\n",
            "210/210 - 0s - loss: 0.5055 - accuracy: 0.8224\n",
            "Epoch 7/30\n",
            "210/210 - 0s - loss: 0.4731 - accuracy: 0.8419\n",
            "Epoch 8/30\n",
            "210/210 - 0s - loss: 0.4430 - accuracy: 0.8562\n",
            "Epoch 9/30\n",
            "210/210 - 0s - loss: 0.4153 - accuracy: 0.8724\n",
            "Epoch 10/30\n",
            "210/210 - 0s - loss: 0.3906 - accuracy: 0.8857\n",
            "Epoch 11/30\n",
            "210/210 - 0s - loss: 0.3689 - accuracy: 0.8924\n",
            "Epoch 12/30\n",
            "210/210 - 0s - loss: 0.3504 - accuracy: 0.9019\n",
            "Epoch 13/30\n",
            "210/210 - 0s - loss: 0.3345 - accuracy: 0.9067\n",
            "Epoch 14/30\n",
            "210/210 - 0s - loss: 0.3213 - accuracy: 0.9171\n",
            "Epoch 15/30\n",
            "210/210 - 0s - loss: 0.3103 - accuracy: 0.9181\n",
            "Epoch 16/30\n",
            "210/210 - 0s - loss: 0.3012 - accuracy: 0.9176\n",
            "Epoch 17/30\n",
            "210/210 - 0s - loss: 0.2932 - accuracy: 0.9190\n",
            "Epoch 18/30\n",
            "210/210 - 0s - loss: 0.2870 - accuracy: 0.9348\n",
            "Epoch 19/30\n",
            "210/210 - 0s - loss: 0.2815 - accuracy: 0.9300\n",
            "Epoch 20/30\n",
            "210/210 - 0s - loss: 0.2769 - accuracy: 0.9333\n",
            "Epoch 21/30\n",
            "210/210 - 0s - loss: 0.2730 - accuracy: 0.9348\n",
            "Epoch 22/30\n",
            "210/210 - 0s - loss: 0.2696 - accuracy: 0.9362\n",
            "Epoch 23/30\n",
            "210/210 - 0s - loss: 0.2668 - accuracy: 0.9371\n",
            "Epoch 24/30\n",
            "210/210 - 0s - loss: 0.2643 - accuracy: 0.9381\n",
            "Epoch 25/30\n",
            "210/210 - 0s - loss: 0.2621 - accuracy: 0.9400\n",
            "Epoch 26/30\n",
            "210/210 - 0s - loss: 0.2602 - accuracy: 0.9381\n",
            "Epoch 27/30\n",
            "210/210 - 0s - loss: 0.2584 - accuracy: 0.9400\n",
            "Epoch 28/30\n",
            "210/210 - 0s - loss: 0.2569 - accuracy: 0.9381\n",
            "Epoch 29/30\n",
            "210/210 - 0s - loss: 0.2555 - accuracy: 0.9452\n",
            "Epoch 30/30\n",
            "210/210 - 0s - loss: 0.2545 - accuracy: 0.9390\n"
          ],
          "name": "stdout"
        },
        {
          "output_type": "execute_result",
          "data": {
            "text/plain": [
              "<tensorflow.python.keras.callbacks.History at 0x7f43800807b8>"
            ]
          },
          "metadata": {
            "tags": []
          },
          "execution_count": 16
        }
      ]
    },
    {
      "cell_type": "markdown",
      "metadata": {
        "id": "tZH4b0Tkeonx",
        "colab_type": "text"
      },
      "source": [
        "We set shuffle to True as we do not want the model to learn any implicit order by which it sees the training samples\n",
        "\n",
        "### Build A Validation Set With TensorFlow's Keras API\n",
        "\n",
        "---\n",
        "\n",
        "Recall that we previously built a training set on which we trained our model. With each epoch that our model is trained, the model will continue to learn the features and characteristics of the data in this training set.\n",
        "\n",
        "The hope is that later we can take this model, apply it to new data, and have the model accurately predict on data that it hasn’t seen before based solely on what it learned from the training set.\n",
        "\n",
        "Now, let’s discuss where the addition of a validation set comes into play.\n",
        "\n",
        "Before training begins, we can choose to remove a portion of the training set and place it in a validation set. Then, during training, the model will train only on the training set, and it will validate by evaluating the data in the validation set.\n",
        "\n",
        "Essentially, the model is learning the features of the data in the training set, taking what it's learned from this data, and then predicting on the validation set. During each epoch, we will see not only the loss and accuracy results for the training set, but also for the validation set.\n",
        "\n",
        "This allows us to see how well the model is generalizing on data it wasn’t trained on because, recall, the validation data should not be part of the training data.\n",
        "\n",
        "This also helps us see whether or not the model is overfitting. **Overfitting occurs when the model only learns the specifics of the training data and is unable to generalize well on data that it wasn’t trained on.**\n",
        "\n"
      ]
    },
    {
      "cell_type": "markdown",
      "metadata": {
        "id": "cFLE8d8qikgt",
        "colab_type": "text"
      },
      "source": [
        "#### Create a Validation set\n",
        "\n",
        "The first way is to create a data structure to hold a validation set, and place data directly in that structure in the same nature we did for the training set.\n",
        "\n",
        "This data structure should be a tuple `valid_set = (x_val, y_val)` of Numpy arrays or tensors, where `x_val` is a numpy array or tensor containing validation samples, and `y_val` is a numpy array or tensor containing validation labels.\n",
        "\n",
        "When we call model.fit(), we would pass in the validation set in addition to the training set. We pass the validation set by specifying the validation_data parameter.\n",
        "\n",
        "```\n",
        "model.fit(\n",
        "      x=scaled_train_samples\n",
        "    , y=train_labels\n",
        "    , validation_data=valid_set\n",
        "    , batch_size=10\n",
        "    , epochs=30\n",
        "    , verbose=2\n",
        ")\n",
        "```\n",
        "\n",
        "When the model trains, it would continue to train only on the training set, but additionally, it would also be evaluating the validation set.\n",
        "\n",
        "There is another way to create a validation set, and it saves a step!\n",
        "\n",
        "If we don’t already have a specified validation set created, then when we call `model.fit()`, we can set a value for the validation_split parameter. It expects a fractional number between 0 and 1. Suppose that we set this parameter to 0.1.\n",
        "\n",
        "```\n",
        "model.fit(\n",
        "      x=scaled_train_samples\n",
        "    , y=train_labels\n",
        "    , validation_split=0.1\n",
        "    , batch_size=10\n",
        "    , epochs=30\n",
        "    , verbose=2\n",
        ")\n",
        "```\n",
        "\n",
        "With this parameter specified, Keras will split apart a fraction (10% in this example) of the training data to be used as validation data. **The model will set apart this fraction of the training data, will not train on it, and will evaluate the loss and any model metrics on this data at the end of each epoch.**\n",
        "\n",
        "\n",
        "**Note that the fit() function shuffles the data before each epoch by default. When specifying the validation_split parameter, however, the validation data is selected from the last samples in the x and y data before shuffling.**\n",
        "\n",
        "So imagine if in our training data we had all sick patients first and non-sick patients after. Then if we split off the last 10% as validation, its going to take all the non-sick patients! So, here is not a prob as we have already shuffled our training data before iteself, but if that is not so, this would be a problem and setting `shuffle=True` also will not help\n",
        "\n",
        "Therefore, in the case we're using validation_split in this way to create our validation data, we need to be sure that our data has been shuffled ahead of time"
      ]
    },
    {
      "cell_type": "code",
      "metadata": {
        "id": "ls9UjDCdk2_l",
        "colab_type": "code",
        "colab": {}
      },
      "source": [
        "model = Sequential([\n",
        "    Dense(units=16, input_shape=(1,), activation='relu'),\n",
        "    Dense(units=32, activation='relu'),\n",
        "    Dense(units=2, activation='softmax')\n",
        "])\n",
        "model.compile(optimizer=Adam(learning_rate=0.0001), loss='sparse_categorical_crossentropy', metrics=['accuracy'])"
      ],
      "execution_count": null,
      "outputs": []
    },
    {
      "cell_type": "code",
      "metadata": {
        "id": "b-zoBSfDfjOs",
        "colab_type": "code",
        "colab": {
          "base_uri": "https://localhost:8080/",
          "height": 1000
        },
        "outputId": "3ad7dbc4-573d-4c21-ceb0-efb621a9dcc2"
      },
      "source": [
        "model.fit(x=scaled_train_samples, y=train_labels, batch_size=10, epochs=30, verbose=2, shuffle=True, validation_split=0.1)"
      ],
      "execution_count": null,
      "outputs": [
        {
          "output_type": "stream",
          "text": [
            "Epoch 1/30\n",
            "189/189 - 1s - loss: 0.6723 - accuracy: 0.5492 - val_loss: 0.6610 - val_accuracy: 0.5905\n",
            "Epoch 2/30\n",
            "189/189 - 0s - loss: 0.6498 - accuracy: 0.6280 - val_loss: 0.6361 - val_accuracy: 0.6714\n",
            "Epoch 3/30\n",
            "189/189 - 0s - loss: 0.6221 - accuracy: 0.7101 - val_loss: 0.6068 - val_accuracy: 0.7429\n",
            "Epoch 4/30\n",
            "189/189 - 0s - loss: 0.5937 - accuracy: 0.7513 - val_loss: 0.5799 - val_accuracy: 0.7714\n",
            "Epoch 5/30\n",
            "189/189 - 0s - loss: 0.5661 - accuracy: 0.7825 - val_loss: 0.5527 - val_accuracy: 0.7857\n",
            "Epoch 6/30\n",
            "189/189 - 0s - loss: 0.5385 - accuracy: 0.8048 - val_loss: 0.5257 - val_accuracy: 0.8143\n",
            "Epoch 7/30\n",
            "189/189 - 0s - loss: 0.5101 - accuracy: 0.8339 - val_loss: 0.4972 - val_accuracy: 0.8190\n",
            "Epoch 8/30\n",
            "189/189 - 0s - loss: 0.4810 - accuracy: 0.8434 - val_loss: 0.4701 - val_accuracy: 0.8476\n",
            "Epoch 9/30\n",
            "189/189 - 0s - loss: 0.4541 - accuracy: 0.8529 - val_loss: 0.4457 - val_accuracy: 0.8810\n",
            "Epoch 10/30\n",
            "189/189 - 0s - loss: 0.4291 - accuracy: 0.8730 - val_loss: 0.4223 - val_accuracy: 0.8810\n",
            "Epoch 11/30\n",
            "189/189 - 0s - loss: 0.4065 - accuracy: 0.8868 - val_loss: 0.4016 - val_accuracy: 0.8810\n",
            "Epoch 12/30\n",
            "189/189 - 0s - loss: 0.3858 - accuracy: 0.8905 - val_loss: 0.3831 - val_accuracy: 0.8810\n",
            "Epoch 13/30\n",
            "189/189 - 0s - loss: 0.3674 - accuracy: 0.9011 - val_loss: 0.3670 - val_accuracy: 0.8952\n",
            "Epoch 14/30\n",
            "189/189 - 0s - loss: 0.3513 - accuracy: 0.9032 - val_loss: 0.3530 - val_accuracy: 0.9048\n",
            "Epoch 15/30\n",
            "189/189 - 0s - loss: 0.3372 - accuracy: 0.9095 - val_loss: 0.3409 - val_accuracy: 0.9048\n",
            "Epoch 16/30\n",
            "189/189 - 0s - loss: 0.3252 - accuracy: 0.9148 - val_loss: 0.3306 - val_accuracy: 0.9095\n",
            "Epoch 17/30\n",
            "189/189 - 0s - loss: 0.3148 - accuracy: 0.9190 - val_loss: 0.3216 - val_accuracy: 0.9095\n",
            "Epoch 18/30\n",
            "189/189 - 0s - loss: 0.3062 - accuracy: 0.9169 - val_loss: 0.3145 - val_accuracy: 0.9095\n",
            "Epoch 19/30\n",
            "189/189 - 0s - loss: 0.2986 - accuracy: 0.9233 - val_loss: 0.3084 - val_accuracy: 0.9333\n",
            "Epoch 20/30\n",
            "189/189 - 0s - loss: 0.2921 - accuracy: 0.9238 - val_loss: 0.3033 - val_accuracy: 0.9333\n",
            "Epoch 21/30\n",
            "189/189 - 0s - loss: 0.2866 - accuracy: 0.9286 - val_loss: 0.2987 - val_accuracy: 0.9333\n",
            "Epoch 22/30\n",
            "189/189 - 0s - loss: 0.2817 - accuracy: 0.9254 - val_loss: 0.2947 - val_accuracy: 0.9333\n",
            "Epoch 23/30\n",
            "189/189 - 0s - loss: 0.2776 - accuracy: 0.9317 - val_loss: 0.2918 - val_accuracy: 0.9381\n",
            "Epoch 24/30\n",
            "189/189 - 0s - loss: 0.2741 - accuracy: 0.9317 - val_loss: 0.2889 - val_accuracy: 0.9381\n",
            "Epoch 25/30\n",
            "189/189 - 0s - loss: 0.2710 - accuracy: 0.9381 - val_loss: 0.2864 - val_accuracy: 0.9381\n",
            "Epoch 26/30\n",
            "189/189 - 0s - loss: 0.2683 - accuracy: 0.9381 - val_loss: 0.2845 - val_accuracy: 0.9381\n",
            "Epoch 27/30\n",
            "189/189 - 0s - loss: 0.2659 - accuracy: 0.9381 - val_loss: 0.2821 - val_accuracy: 0.9381\n",
            "Epoch 28/30\n",
            "189/189 - 0s - loss: 0.2637 - accuracy: 0.9381 - val_loss: 0.2809 - val_accuracy: 0.9381\n",
            "Epoch 29/30\n",
            "189/189 - 0s - loss: 0.2619 - accuracy: 0.9381 - val_loss: 0.2792 - val_accuracy: 0.9381\n",
            "Epoch 30/30\n",
            "189/189 - 0s - loss: 0.2603 - accuracy: 0.9413 - val_loss: 0.2778 - val_accuracy: 0.9381\n"
          ],
          "name": "stdout"
        },
        {
          "output_type": "execute_result",
          "data": {
            "text/plain": [
              "<tensorflow.python.keras.callbacks.History at 0x7f432c0ee7f0>"
            ]
          },
          "metadata": {
            "tags": []
          },
          "execution_count": 18
        }
      ]
    },
    {
      "cell_type": "markdown",
      "metadata": {
        "id": "vdyqz-sAk-9_",
        "colab_type": "text"
      },
      "source": [
        "The accuracy and the val_accuracy is quite similar, so it does not seem that it is oevrfitting"
      ]
    },
    {
      "cell_type": "markdown",
      "metadata": {
        "id": "vqxoWikuJTzW",
        "colab_type": "text"
      },
      "source": [
        "### Make Predictions With An Artificial Neural Network Using Keras\n",
        "\n",
        "At this point, the model we've been working with over the past few episodes has now been trained and validated. Given the results we’ve seen from the validation data, it appears that this model should do well on predicting on a new test set.\n",
        "\n",
        "#### Creating The Test Set\n",
        "\n",
        "We’ll create a test set in the same fashion for which we created the training set. **In general, the test set should always be processed in the same way as the training set**.\n",
        "\n"
      ]
    },
    {
      "cell_type": "code",
      "metadata": {
        "id": "2F7NE5FKkouq",
        "colab_type": "code",
        "colab": {}
      },
      "source": [
        "test_labels =  []\n",
        "test_samples = []\n",
        "\n",
        "for i in range(10):\n",
        "    # The 5% of younger individuals who did experience side effects\n",
        "    random_younger = randint(13,64)\n",
        "    test_samples.append(random_younger)\n",
        "    test_labels.append(1)\n",
        "    \n",
        "    # The 5% of older individuals who did not experience side effects\n",
        "    random_older = randint(65,100)\n",
        "    test_samples.append(random_older)\n",
        "    test_labels.append(0)\n",
        "\n",
        "for i in range(200):\n",
        "    # The 95% of younger individuals who did not experience side effects\n",
        "    random_younger = randint(13,64)\n",
        "    test_samples.append(random_younger)\n",
        "    test_labels.append(0)\n",
        "    \n",
        "    # The 95% of older individuals who did experience side effects\n",
        "    random_older = randint(65,100)\n",
        "    test_samples.append(random_older)\n",
        "    test_labels.append(1)\n",
        "\n",
        "test_labels = np.array(test_labels)\n",
        "test_samples = np.array(test_samples)\n",
        "test_labels, test_samples = shuffle(test_labels, test_samples)"
      ],
      "execution_count": null,
      "outputs": []
    },
    {
      "cell_type": "code",
      "metadata": {
        "id": "XfimQ1BiLvUd",
        "colab_type": "code",
        "colab": {
          "base_uri": "https://localhost:8080/",
          "height": 35
        },
        "outputId": "b3346058-6125-489b-fd34-00fb53c7d6cd"
      },
      "source": [
        "print (test_labels.shape, test_samples.shape)"
      ],
      "execution_count": null,
      "outputs": [
        {
          "output_type": "stream",
          "text": [
            "(420,) (420,)\n"
          ],
          "name": "stdout"
        }
      ]
    },
    {
      "cell_type": "code",
      "metadata": {
        "id": "Lt7FotYGM1Yu",
        "colab_type": "code",
        "colab": {}
      },
      "source": [
        "scaled_test_samples = scaler.fit_transform(test_samples.reshape(-1,1))"
      ],
      "execution_count": null,
      "outputs": []
    },
    {
      "cell_type": "code",
      "metadata": {
        "id": "E72OewzAM3DG",
        "colab_type": "code",
        "colab": {
          "base_uri": "https://localhost:8080/",
          "height": 199
        },
        "outputId": "725dbd1f-4fe9-435a-fa84-12bd6f81720d"
      },
      "source": [
        "scaled_test_samples[:10]"
      ],
      "execution_count": null,
      "outputs": [
        {
          "output_type": "execute_result",
          "data": {
            "text/plain": [
              "array([[0.77011494],\n",
              "       [0.87356322],\n",
              "       [0.59770115],\n",
              "       [0.20689655],\n",
              "       [0.3908046 ],\n",
              "       [0.28735632],\n",
              "       [0.91954023],\n",
              "       [0.59770115],\n",
              "       [0.12643678],\n",
              "       [0.71264368]])"
            ]
          },
          "metadata": {
            "tags": []
          },
          "execution_count": 22
        }
      ]
    },
    {
      "cell_type": "markdown",
      "metadata": {
        "id": "YLTTlFQ0M6vH",
        "colab_type": "text"
      },
      "source": [
        "#### Evaluating The Test Set\n",
        "\n"
      ]
    },
    {
      "cell_type": "code",
      "metadata": {
        "id": "4Ldi2WiAM4si",
        "colab_type": "code",
        "colab": {}
      },
      "source": [
        "predictions = model.predict(x=scaled_test_samples, batch_size=10, verbose=0)"
      ],
      "execution_count": null,
      "outputs": []
    },
    {
      "cell_type": "markdown",
      "metadata": {
        "id": "TIarlHksNoTR",
        "colab_type": "text"
      },
      "source": [
        "To this function, we pass in the test samples x, specify a batch_size, and specify which level of verbosity we want from log messages during prediction generation. The output from the predictions won't be relevant for us, so we're setting verbose=0 for no output.\n",
        "\n",
        "Note that, unlike with training and validation sets, we do not pass the labels of the test set to the model during the inference stage.\n",
        "\n",
        "To see what the model's predictions look like, we can iterate over them and print them out"
      ]
    },
    {
      "cell_type": "code",
      "metadata": {
        "id": "FgY9EEBeNnmk",
        "colab_type": "code",
        "colab": {
          "base_uri": "https://localhost:8080/",
          "height": 199
        },
        "outputId": "69a89530-5b73-4990-d4d9-e5d907bd2230"
      },
      "source": [
        "predictions[:10]"
      ],
      "execution_count": null,
      "outputs": [
        {
          "output_type": "execute_result",
          "data": {
            "text/plain": [
              "array([[0.09946632, 0.9005337 ],\n",
              "       [0.04490974, 0.9550902 ],\n",
              "       [0.42142275, 0.5785772 ],\n",
              "       [0.96192795, 0.03807205],\n",
              "       [0.87506926, 0.12493078],\n",
              "       [0.9494574 , 0.05054266],\n",
              "       [0.03454174, 0.9654583 ],\n",
              "       [0.42142275, 0.5785772 ],\n",
              "       [0.9621529 , 0.03784714],\n",
              "       [0.17158663, 0.82841337]], dtype=float32)"
            ]
          },
          "metadata": {
            "tags": []
          },
          "execution_count": 24
        }
      ]
    },
    {
      "cell_type": "markdown",
      "metadata": {
        "id": "L9pdQutHN0Vk",
        "colab_type": "text"
      },
      "source": [
        "Each element in the predictions list is itself a list of length 2. The sum of the two values in each list is 1. The reason for this is because the two columns contain probabilities for each possible output: experienced side effects and did not experience side effects. Each element in the predictions list is a probability distribution over all possible outputs.\n",
        "\n",
        "The first column contains the probability for each patient not experiencing side effects, which is represented by a 0. The second column contains the probability for each patient experiencing side effects, which is represented by a 1.\n",
        "\n",
        "We can also look only at the most probable prediction."
      ]
    },
    {
      "cell_type": "code",
      "metadata": {
        "id": "xKxcggZTNrgO",
        "colab_type": "code",
        "colab": {
          "base_uri": "https://localhost:8080/",
          "height": 54
        },
        "outputId": "667f48a2-dd91-4e4b-d1b3-6aa812e72108"
      },
      "source": [
        "rounded_predictions = np.argmax(predictions, axis=-1)\n",
        "\n",
        "print (rounded_predictions[:10])\n",
        "\n",
        "print (rounded_predictions.shape)"
      ],
      "execution_count": null,
      "outputs": [
        {
          "output_type": "stream",
          "text": [
            "[1 1 1 0 0 0 1 1 0 1]\n",
            "(420,)\n"
          ],
          "name": "stdout"
        }
      ]
    },
    {
      "cell_type": "markdown",
      "metadata": {
        "id": "jMlF7hFVOEW2",
        "colab_type": "text"
      },
      "source": [
        "From the printed prediction results, we can observe the underlying predictions from the model, however, we cannot judge how accurate these predictions are just by looking at the predicted output.\n",
        "\n",
        "If we have corresponding labels for the test set, (for which, in this case, we do), then we can compare these true labels to the predicted labels to judge the accuracy of the model's evaluations. We'll see how to visualize this using a tool called a confusion matrix "
      ]
    },
    {
      "cell_type": "markdown",
      "metadata": {
        "id": "kkvGRvevjTIE",
        "colab_type": "text"
      },
      "source": [
        "### Create A Confusion Matrix For Neural Network Predictions\n",
        "\n"
      ]
    },
    {
      "cell_type": "code",
      "metadata": {
        "id": "gMMpp5sqN4g8",
        "colab_type": "code",
        "colab": {}
      },
      "source": [
        "%matplotlib inline\n",
        "from sklearn.metrics import confusion_matrix\n",
        "import itertools\n",
        "import matplotlib.pyplot as plt"
      ],
      "execution_count": null,
      "outputs": []
    },
    {
      "cell_type": "code",
      "metadata": {
        "id": "SvBw26vWqtLz",
        "colab_type": "code",
        "colab": {}
      },
      "source": [
        "cm = confusion_matrix(y_true=test_labels, y_pred=rounded_predictions)"
      ],
      "execution_count": null,
      "outputs": []
    },
    {
      "cell_type": "code",
      "metadata": {
        "id": "COKiKVfaq_To",
        "colab_type": "code",
        "colab": {}
      },
      "source": [
        "def plot_confusion_matrix(cm, classes,\n",
        "                        normalize=False,\n",
        "                        title='Confusion matrix',\n",
        "                        cmap=plt.cm.Blues):\n",
        "    \"\"\"\n",
        "    This function prints and plots the confusion matrix.\n",
        "    Normalization can be applied by setting `normalize=True`.\n",
        "    \"\"\"\n",
        "    plt.imshow(cm, interpolation='nearest', cmap=cmap)\n",
        "    plt.title(title)\n",
        "    plt.colorbar()\n",
        "    tick_marks = np.arange(len(classes))\n",
        "    plt.xticks(tick_marks, classes, rotation=45)\n",
        "    plt.yticks(tick_marks, classes)\n",
        "\n",
        "    if normalize:\n",
        "        cm = cm.astype('float') / cm.sum(axis=1)[:, np.newaxis]\n",
        "        print(\"Normalized confusion matrix\")\n",
        "    else:\n",
        "        print('Confusion matrix, without normalization')\n",
        "\n",
        "    print(cm)\n",
        "\n",
        "    thresh = cm.max() / 2.\n",
        "    for i, j in itertools.product(range(cm.shape[0]), range(cm.shape[1])):\n",
        "        plt.text(j, i, cm[i, j],\n",
        "            horizontalalignment=\"center\",\n",
        "            color=\"white\" if cm[i, j] > thresh else \"black\")\n",
        "\n",
        "    plt.tight_layout()\n",
        "    plt.ylabel('True label')\n",
        "    plt.xlabel('Predicted label')"
      ],
      "execution_count": null,
      "outputs": []
    },
    {
      "cell_type": "markdown",
      "metadata": {
        "id": "ayw_8l1-rEH7",
        "colab_type": "text"
      },
      "source": [
        "Next, we define the labels for the confusion matrix. In our case, the labels are titled “no side effects” and “had side effects.”\n",
        "\n"
      ]
    },
    {
      "cell_type": "code",
      "metadata": {
        "id": "2eVH9sferCUg",
        "colab_type": "code",
        "colab": {}
      },
      "source": [
        "cm_plot_labels = ['no_side_effects','had_side_effects']"
      ],
      "execution_count": null,
      "outputs": []
    },
    {
      "cell_type": "markdown",
      "metadata": {
        "id": "0NsKpWN6rHdn",
        "colab_type": "text"
      },
      "source": [
        "Lastly, we plot the confusion matrix by using the plot_confusion_matrix() function we just discussed. To this function, we pass in the confusion matrix cm and the labels cm_plot_labels, as well as a title for the confusion matrix.\n",
        "\n"
      ]
    },
    {
      "cell_type": "code",
      "metadata": {
        "id": "eNE-UCLurF96",
        "colab_type": "code",
        "colab": {
          "base_uri": "https://localhost:8080/",
          "height": 365
        },
        "outputId": "0f3fce63-cdf1-4df8-b8a5-fe9f15dbafa1"
      },
      "source": [
        "plot_confusion_matrix(cm=cm, classes=cm_plot_labels, title='Confusion Matrix')"
      ],
      "execution_count": null,
      "outputs": [
        {
          "output_type": "stream",
          "text": [
            "Confusion matrix, without normalization\n",
            "[[197  13]\n",
            " [ 10 200]]\n"
          ],
          "name": "stdout"
        },
        {
          "output_type": "display_data",
          "data": {
            "image/png": "[encoded data removed]",
            "text/plain": [
              "<Figure size 432x288 with 2 Axes>"
            ]
          },
          "metadata": {
            "tags": [],
            "needs_background": "light"
          }
        }
      ]
    },
    {
      "cell_type": "markdown",
      "metadata": {
        "id": "3Rl2ND2frXSA",
        "colab_type": "text"
      },
      "source": [
        "Looking at the plot of the confusion matrix, we have the predicted labels on the x-axis and the true labels on the y-axis. The blue cells running from the top left to bottom right contain the number of samples that the model accurately predicted. The white cells contain the number of samples that were incorrectly predicted.\n",
        "\n",
        "There are 420 total samples in the test set. Looking at the confusion matrix, we can see that the model accurately predicted 399 out of 420 total samples. The model incorrectly predicted 21 out of the 420.\n",
        "\n",
        "For the samples the model got correct, we can see that it accurately predicted that the patients would experience no side effects 199 times. It incorrectly predicted that the patient would have no side effects 10 times when the patient did actually experience side effects.\n",
        "\n",
        "On the other side, the model accurately predicted that the patient would experience side effects 200 times that the patient did indeed experience side effects. It incorrectly predicted that the patient would have side effects 11 times when the patient actually did not experience side effects.\n",
        "\n",
        "As you can see, this is a good way we can visually interpret how well the model is doing at its predictions and understand where it may need some work."
      ]
    },
    {
      "cell_type": "markdown",
      "metadata": {
        "id": "-7oqZyZDsM2_",
        "colab_type": "text"
      },
      "source": [
        "### Save And Load A Model With TensorFlow's Keras API\n",
        "\n",
        "There are a few different ways to save a Keras model. The multiple mechanisms each save the model differently, so we'll check them all out.\n",
        "\n",
        "#### Saving And Loading The Model In Its Entirety\n",
        "\n",
        "If we want to save a model at its current state after it was trained so that we could make use of it later, we can call the save() function on the model. To save(), we pass in the file path and name of the file we want to save the model to with an h5 extension.\n",
        "\n"
      ]
    },
    {
      "cell_type": "code",
      "metadata": {
        "id": "IzjJUhCVsVh0",
        "colab_type": "code",
        "colab": {
          "base_uri": "https://localhost:8080/",
          "height": 272
        },
        "outputId": "7cf7f552-7de0-41a3-bb25-f65046ea5479"
      },
      "source": [
        "model.summary()"
      ],
      "execution_count": null,
      "outputs": [
        {
          "output_type": "stream",
          "text": [
            "Model: \"sequential_1\"\n",
            "_________________________________________________________________\n",
            "Layer (type)                 Output Shape              Param #   \n",
            "=================================================================\n",
            "dense_3 (Dense)              (None, 16)                32        \n",
            "_________________________________________________________________\n",
            "dense_4 (Dense)              (None, 32)                544       \n",
            "_________________________________________________________________\n",
            "dense_5 (Dense)              (None, 2)                 66        \n",
            "=================================================================\n",
            "Total params: 642\n",
            "Trainable params: 642\n",
            "Non-trainable params: 0\n",
            "_________________________________________________________________\n"
          ],
          "name": "stdout"
        }
      ]
    },
    {
      "cell_type": "code",
      "metadata": {
        "id": "h1Tx__hNrTsG",
        "colab_type": "code",
        "colab": {}
      },
      "source": [
        "model.save(filepath='./sample_data/models/medical_trial_model.h5', overwrite=True, include_optimizer=True)"
      ],
      "execution_count": null,
      "outputs": []
    },
    {
      "cell_type": "markdown",
      "metadata": {
        "id": "0AE-5UyyswvM",
        "colab_type": "text"
      },
      "source": [
        "Note, this function also allows for saving the model as a Tensorflow SavedModel as well if you'd prefer.\n",
        "\n",
        "This method of saving will save everything about the model – the architecture, the weights, the optimizer, the state of the optimizer, the learning rate, the loss, etc.\n",
        "\n",
        "Now that we have this model saved, we can load the model at a later time.\n",
        "\n",
        "To do so, we first import the load_model() function. Then, we can call the function to load the model by pointing to the saved model on disk."
      ]
    },
    {
      "cell_type": "code",
      "metadata": {
        "id": "HCJWjHcFshsU",
        "colab_type": "code",
        "colab": {}
      },
      "source": [
        "from tensorflow.keras.models import load_model\n",
        "loaded_model = load_model(filepath='./sample_data/models/medical_trial_model.h5')"
      ],
      "execution_count": null,
      "outputs": []
    },
    {
      "cell_type": "markdown",
      "metadata": {
        "id": "OuEjEhFRs_Ac",
        "colab_type": "text"
      },
      "source": [
        "We can verify that the loaded model has the same architecture and weights as the saved model by calling summary() and get_weights() on the model.\n",
        "\n"
      ]
    },
    {
      "cell_type": "code",
      "metadata": {
        "id": "AdlVTyxws12n",
        "colab_type": "code",
        "colab": {
          "base_uri": "https://localhost:8080/",
          "height": 272
        },
        "outputId": "acc956f0-4ab3-4d80-c397-98f7bf263d62"
      },
      "source": [
        "loaded_model.summary()"
      ],
      "execution_count": null,
      "outputs": [
        {
          "output_type": "stream",
          "text": [
            "Model: \"sequential_1\"\n",
            "_________________________________________________________________\n",
            "Layer (type)                 Output Shape              Param #   \n",
            "=================================================================\n",
            "dense_3 (Dense)              (None, 16)                32        \n",
            "_________________________________________________________________\n",
            "dense_4 (Dense)              (None, 32)                544       \n",
            "_________________________________________________________________\n",
            "dense_5 (Dense)              (None, 2)                 66        \n",
            "=================================================================\n",
            "Total params: 642\n",
            "Trainable params: 642\n",
            "Non-trainable params: 0\n",
            "_________________________________________________________________\n"
          ],
          "name": "stdout"
        }
      ]
    },
    {
      "cell_type": "code",
      "metadata": {
        "id": "cKK1gY6EtBVT",
        "colab_type": "code",
        "colab": {
          "base_uri": "https://localhost:8080/",
          "height": 126
        },
        "outputId": "65f9f0a3-a1cd-4eff-d457-cd7899dce906"
      },
      "source": [
        "for wt_ in loaded_model.get_weights():\n",
        "    print (wt_.shape)"
      ],
      "execution_count": null,
      "outputs": [
        {
          "output_type": "stream",
          "text": [
            "(1, 16)\n",
            "(16,)\n",
            "(16, 32)\n",
            "(32,)\n",
            "(32, 2)\n",
            "(2,)\n"
          ],
          "name": "stdout"
        }
      ]
    },
    {
      "cell_type": "markdown",
      "metadata": {
        "id": "niH4XMN0tS_k",
        "colab_type": "text"
      },
      "source": [
        "#### How did we arrive at 642 trainable params:\n",
        "\n",
        "1. 1 ip. Then 1 hidden layer with 16 nodes. So 16 connections (wts) and 16 (biases): `16x2`\n",
        "\n",
        "2. Next layer has 32 nodes. `16*32` wts + 32 biases: `(16*32)+32`\n",
        "\n",
        "3. Last layer has 2 nodes. So `32*2` wts + 2 biases: `32*2+2`\n",
        "\n",
        "`16*2 + (16*32)+32 + (32*2)+2 = 642`"
      ]
    },
    {
      "cell_type": "markdown",
      "metadata": {
        "id": "5SroxgOBtnCj",
        "colab_type": "text"
      },
      "source": [
        "We can also inspect attributes about the model, like the optimizer and loss by calling model.optimizer and model.loss on the loaded model and compare the results to the previously saved model.\n",
        "\n",
        "This is the most encompassing way to save and load a model.\n",
        "\n",
        "#### Saving And Loading Only The Architecture Of The Model\n",
        "\n",
        "There is another way we save only the architecture of the model. **This will not save the model weights, configurations, optimizer, loss or anything else. This only saves the architecture of the model.**\n",
        "\n",
        "We can do this by calling model.to_json(). This will save the architecture of the model as a JSON string. If we print out the string, we can see exactly what this looks like.\n",
        "\n"
      ]
    },
    {
      "cell_type": "code",
      "metadata": {
        "id": "uWeUcKDttEd5",
        "colab_type": "code",
        "colab": {
          "base_uri": "https://localhost:8080/",
          "height": 108
        },
        "outputId": "334a1878-592d-460a-f79b-9708b820d497"
      },
      "source": [
        "json_string = model.to_json()\n",
        "json_string"
      ],
      "execution_count": null,
      "outputs": [
        {
          "output_type": "execute_result",
          "data": {
            "application/vnd.google.colaboratory.intrinsic": {
              "type": "string"
            },
            "text/plain": [
              "'{\"class_name\": \"Sequential\", \"config\": {\"name\": \"sequential_1\", \"layers\": [{\"class_name\": \"Dense\", \"config\": {\"name\": \"dense_3\", \"trainable\": true, \"batch_input_shape\": [null, 1], \"dtype\": \"float32\", \"units\": 16, \"activation\": \"relu\", \"use_bias\": true, \"kernel_initializer\": {\"class_name\": \"GlorotUniform\", \"config\": {\"seed\": null}}, \"bias_initializer\": {\"class_name\": \"Zeros\", \"config\": {}}, \"kernel_regularizer\": null, \"bias_regularizer\": null, \"activity_regularizer\": null, \"kernel_constraint\": null, \"bias_constraint\": null}}, {\"class_name\": \"Dense\", \"config\": {\"name\": \"dense_4\", \"trainable\": true, \"dtype\": \"float32\", \"units\": 32, \"activation\": \"relu\", \"use_bias\": true, \"kernel_initializer\": {\"class_name\": \"GlorotUniform\", \"config\": {\"seed\": null}}, \"bias_initializer\": {\"class_name\": \"Zeros\", \"config\": {}}, \"kernel_regularizer\": null, \"bias_regularizer\": null, \"activity_regularizer\": null, \"kernel_constraint\": null, \"bias_constraint\": null}}, {\"class_name\": \"Dense\", \"config\": {\"name\": \"dense_5\", \"trainable\": true, \"dtype\": \"float32\", \"units\": 2, \"activation\": \"softmax\", \"use_bias\": true, \"kernel_initializer\": {\"class_name\": \"GlorotUniform\", \"config\": {\"seed\": null}}, \"bias_initializer\": {\"class_name\": \"Zeros\", \"config\": {}}, \"kernel_regularizer\": null, \"bias_regularizer\": null, \"activity_regularizer\": null, \"kernel_constraint\": null, \"bias_constraint\": null}}], \"build_input_shape\": [null, 1]}, \"keras_version\": \"2.3.0-tf\", \"backend\": \"tensorflow\"}'"
            ]
          },
          "metadata": {
            "tags": []
          },
          "execution_count": 41
        }
      ]
    },
    {
      "cell_type": "markdown",
      "metadata": {
        "id": "Yg7gD4WGt3bE",
        "colab_type": "text"
      },
      "source": [
        "Now that we have this saved, we can create a new model from it. First we’ll import the needed model_from_json function, and then we can load the model architecture.\n",
        "\n"
      ]
    },
    {
      "cell_type": "code",
      "metadata": {
        "id": "88rMgTqut1VC",
        "colab_type": "code",
        "colab": {
          "base_uri": "https://localhost:8080/",
          "height": 272
        },
        "outputId": "e67f6b88-b25f-4666-d459-763e28b2ccc6"
      },
      "source": [
        "from tensorflow.keras.models import model_from_json\n",
        "model_architecture = model_from_json(json_string)\n",
        "model_architecture.summary()\n"
      ],
      "execution_count": null,
      "outputs": [
        {
          "output_type": "stream",
          "text": [
            "Model: \"sequential_1\"\n",
            "_________________________________________________________________\n",
            "Layer (type)                 Output Shape              Param #   \n",
            "=================================================================\n",
            "dense_3 (Dense)              (None, 16)                32        \n",
            "_________________________________________________________________\n",
            "dense_4 (Dense)              (None, 32)                544       \n",
            "_________________________________________________________________\n",
            "dense_5 (Dense)              (None, 2)                 66        \n",
            "=================================================================\n",
            "Total params: 642\n",
            "Trainable params: 642\n",
            "Non-trainable params: 0\n",
            "_________________________________________________________________\n"
          ],
          "name": "stdout"
        }
      ]
    },
    {
      "cell_type": "code",
      "metadata": {
        "id": "KWL4TH8HuHQ7",
        "colab_type": "code",
        "colab": {
          "base_uri": "https://localhost:8080/",
          "height": 90
        },
        "outputId": "45e7a1dd-f69c-4783-e789-cc802c349828"
      },
      "source": [
        "model.get_weights()[0][:10]"
      ],
      "execution_count": null,
      "outputs": [
        {
          "output_type": "execute_result",
          "data": {
            "text/plain": [
              "array([[-0.1749801 ,  0.46704558, -0.16897932, -0.22692353, -0.303186  ,\n",
              "         0.61048204, -0.1776686 , -0.2780507 , -0.08611888, -0.03412133,\n",
              "        -0.5807983 , -0.28748602,  0.28578275,  0.63758403,  0.5423842 ,\n",
              "         0.3377873 ]], dtype=float32)"
            ]
          },
          "metadata": {
            "tags": []
          },
          "execution_count": 45
        }
      ]
    },
    {
      "cell_type": "code",
      "metadata": {
        "id": "qLyczwEot65s",
        "colab_type": "code",
        "colab": {
          "base_uri": "https://localhost:8080/",
          "height": 90
        },
        "outputId": "86cb42ec-e05e-4c10-addb-51e3ae94faa5"
      },
      "source": [
        "model_architecture.get_weights()[0][:10]"
      ],
      "execution_count": null,
      "outputs": [
        {
          "output_type": "execute_result",
          "data": {
            "text/plain": [
              "array([[ 0.01539773, -0.2412608 ,  0.4743309 ,  0.28541917,  0.07415468,\n",
              "        -0.31079796, -0.22194752,  0.31857425, -0.21409929, -0.1874021 ,\n",
              "        -0.46452034,  0.00472999,  0.380767  ,  0.0808661 ,  0.09428596,\n",
              "         0.30649614]], dtype=float32)"
            ]
          },
          "metadata": {
            "tags": []
          },
          "execution_count": 44
        }
      ]
    },
    {
      "cell_type": "markdown",
      "metadata": {
        "id": "tZRaZTjDuNeL",
        "colab_type": "text"
      },
      "source": [
        "As we can see the wts are diff as the `model_architecture` weights are untrained and initialized to random"
      ]
    },
    {
      "cell_type": "code",
      "metadata": {
        "id": "gpviE4dzt97A",
        "colab_type": "code",
        "colab": {
          "base_uri": "https://localhost:8080/",
          "height": 35
        },
        "outputId": "e50fe1f7-adca-46d8-fdc9-2ec9f649d886"
      },
      "source": [
        "try:\n",
        "    print (model_architecture.loss, model_architecture.optimizer)\n",
        "except AttributeError:\n",
        "    print (\"No loss/optimizer found\")"
      ],
      "execution_count": null,
      "outputs": [
        {
          "output_type": "stream",
          "text": [
            "No loss/optimizer found\n"
          ],
          "name": "stdout"
        }
      ]
    },
    {
      "cell_type": "code",
      "metadata": {
        "id": "rI7pV1tSuVxR",
        "colab_type": "code",
        "colab": {
          "base_uri": "https://localhost:8080/",
          "height": 35
        },
        "outputId": "2b58c885-bfda-451f-9950-82600db79101"
      },
      "source": [
        "model.loss"
      ],
      "execution_count": null,
      "outputs": [
        {
          "output_type": "execute_result",
          "data": {
            "application/vnd.google.colaboratory.intrinsic": {
              "type": "string"
            },
            "text/plain": [
              "'sparse_categorical_crossentropy'"
            ]
          },
          "metadata": {
            "tags": []
          },
          "execution_count": 47
        }
      ]
    },
    {
      "cell_type": "markdown",
      "metadata": {
        "id": "zm8xafmMus3r",
        "colab_type": "text"
      },
      "source": [
        "#### Saving And Loading The Weights Of The Model\n",
        "\n",
        "The last saving mechanism we’ll discuss only saves the weights of the model.\n",
        "\n",
        "We can do this by calling model.save_weights() and passing in the path and file name to save the weights to with an h5 extension.\n",
        "\n"
      ]
    },
    {
      "cell_type": "code",
      "metadata": {
        "id": "AkpL-1NVuZsR",
        "colab_type": "code",
        "colab": {}
      },
      "source": [
        "model.save_weights(filepath='./sample_data/models/medical_trial_model_weights.h5')"
      ],
      "execution_count": null,
      "outputs": []
    },
    {
      "cell_type": "markdown",
      "metadata": {
        "id": "JdszZZ0pu7hk",
        "colab_type": "text"
      },
      "source": [
        "At a later point, we could then load the saved weights in to a new model, but the new model will need to have the same architecture as the old model before the weights can be saved.\n",
        "\n"
      ]
    },
    {
      "cell_type": "code",
      "metadata": {
        "id": "4Zd6aF8lu6Ul",
        "colab_type": "code",
        "colab": {}
      },
      "source": [
        "new_model_without_wts = Sequential([\n",
        "    Dense(units=16, input_shape=(1,), activation='relu'),\n",
        "    Dense(units=32, activation='relu'),\n",
        "    Dense(units=2, activation='softmax')\n",
        "])\n",
        "\n",
        "new_model_without_wts.load_weights('./sample_data/models/medical_trial_model_weights.h5')"
      ],
      "execution_count": null,
      "outputs": []
    },
    {
      "cell_type": "code",
      "metadata": {
        "id": "Z2g8RouevIsL",
        "colab_type": "code",
        "colab": {
          "base_uri": "https://localhost:8080/",
          "height": 90
        },
        "outputId": "7c62851f-bf1d-4751-e713-37d1edc74d49"
      },
      "source": [
        "new_model_without_wts.get_weights()[0][:10]"
      ],
      "execution_count": null,
      "outputs": [
        {
          "output_type": "execute_result",
          "data": {
            "text/plain": [
              "array([[-0.1749801 ,  0.46704558, -0.16897932, -0.22692353, -0.303186  ,\n",
              "         0.61048204, -0.1776686 , -0.2780507 , -0.08611888, -0.03412133,\n",
              "        -0.5807983 , -0.28748602,  0.28578275,  0.63758403,  0.5423842 ,\n",
              "         0.3377873 ]], dtype=float32)"
            ]
          },
          "metadata": {
            "tags": []
          },
          "execution_count": 51
        }
      ]
    },
    {
      "cell_type": "code",
      "metadata": {
        "id": "8bDeyc6LvLhA",
        "colab_type": "code",
        "colab": {
          "base_uri": "https://localhost:8080/",
          "height": 90
        },
        "outputId": "c2723318-e673-49e7-fedb-093613ff4402"
      },
      "source": [
        "model.get_weights()[0][:10]"
      ],
      "execution_count": null,
      "outputs": [
        {
          "output_type": "execute_result",
          "data": {
            "text/plain": [
              "array([[-0.1749801 ,  0.46704558, -0.16897932, -0.22692353, -0.303186  ,\n",
              "         0.61048204, -0.1776686 , -0.2780507 , -0.08611888, -0.03412133,\n",
              "        -0.5807983 , -0.28748602,  0.28578275,  0.63758403,  0.5423842 ,\n",
              "         0.3377873 ]], dtype=float32)"
            ]
          },
          "metadata": {
            "tags": []
          },
          "execution_count": 52
        }
      ]
    },
    {
      "cell_type": "code",
      "metadata": {
        "id": "fDf3O5sRvNrd",
        "colab_type": "code",
        "colab": {
          "base_uri": "https://localhost:8080/",
          "height": 90
        },
        "outputId": "1a0cf867-f96f-4d9b-8516-5a3b15756190"
      },
      "source": [
        "loaded_model.get_weights()[0][:10]"
      ],
      "execution_count": null,
      "outputs": [
        {
          "output_type": "execute_result",
          "data": {
            "text/plain": [
              "array([[-0.1749801 ,  0.46704558, -0.16897932, -0.22692353, -0.303186  ,\n",
              "         0.61048204, -0.1776686 , -0.2780507 , -0.08611888, -0.03412133,\n",
              "        -0.5807983 , -0.28748602,  0.28578275,  0.63758403,  0.5423842 ,\n",
              "         0.3377873 ]], dtype=float32)"
            ]
          },
          "metadata": {
            "tags": []
          },
          "execution_count": 53
        }
      ]
    },
    {
      "cell_type": "markdown",
      "metadata": {
        "id": "6yV9RNvVvSPk",
        "colab_type": "text"
      },
      "source": [
        "All 3 are equal as expected\n",
        "\n",
        "> We’ve now seen how to save only the weights of a model and deploy those weights to a new model, how to save only the architecture and then deploy that architecture to a model, and how to save everything about a model and deploy it in its entirety at a later time. Each of these saving and loading mechanisms may come in useful in differing scenarios.\n",
        "\n"
      ]
    },
    {
      "cell_type": "code",
      "metadata": {
        "id": "HZ894UAOvQxo",
        "colab_type": "code",
        "colab": {}
      },
      "source": [
        ""
      ],
      "execution_count": null,
      "outputs": []
    }
  ]
}