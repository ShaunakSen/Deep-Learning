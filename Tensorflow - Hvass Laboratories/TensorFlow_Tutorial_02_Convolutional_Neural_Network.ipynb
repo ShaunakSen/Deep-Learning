{
  "nbformat": 4,
  "nbformat_minor": 0,
  "metadata": {
    "colab": {
      "name": "TensorFlow Tutorial #02 Convolutional Neural Network.ipynb",
      "version": "0.3.2",
      "provenance": [],
      "collapsed_sections": [],
      "include_colab_link": true
    },
    "kernelspec": {
      "name": "python3",
      "display_name": "Python 3"
    },
    "accelerator": "GPU"
  },
  "cells": [
    {
      "cell_type": "markdown",
      "metadata": {
        "id": "view-in-github",
        "colab_type": "text"
      },
      "source": [
        "<a href=\"https://colab.research.google.com/github/ShaunakSen/Deep-Learning/blob/master/TensorFlow_Tutorial_02_Convolutional_Neural_Network.ipynb\" target=\"_parent\"><img src=\"https://colab.research.google.com/assets/colab-badge.svg\" alt=\"Open In Colab\"/></a>"
      ]
    },
    {
      "cell_type": "markdown",
      "metadata": {
        "id": "xcHz9IJa_aYo",
        "colab_type": "text"
      },
      "source": [
        "## TensorFlow Tutorial #02 Convolutional Neural Network\n",
        "\n",
        "[link](https://www.youtube.com/watch?v=HMcx-zY8JSg&list=PL9Hr9sNUjfsmEu1ZniY0XpHSzl5uihcXZ&index=5&t=389s)\n",
        "\n",
        "### Introduction\n",
        "\n",
        "The previous tutorial showed that a simple linear model had about 91% classification accuracy for recognizing hand-written digits in the MNIST data-set.\n",
        "\n",
        "In this tutorial we will implement a simple Convolutional Neural Network in TensorFlow which has a classification accuracy of about 99%, or more if you make some of the suggested exercises.\n",
        "\n",
        "Convolutional Networks work by moving small filters across the input image. This means the filters are re-used for recognizing patterns throughout the entire input image. This makes the Convolutional Networks much more powerful than Fully-Connected networks with the same number of variables. This in turn makes the Convolutional Networks faster to train.\n",
        "\n",
        "The following chart shows roughly how the data flows in the Convolutional Neural Network that is implemented below.\n",
        "\n",
        "\n",
        "![](https://github.com/Hvass-Labs/TensorFlow-Tutorials/raw/0495ab11a7eef74c2637a9a3fc2ca4bd1eac9022/images/02_network_flowchart.png)\n",
        "\n",
        "The input image is processed in the first convolutional layer using the filter-weights. This results in 16 new images, one for each filter in the convolutional layer. The images are also down-sampled so the image resolution is decreased from 28x28 to 14x14.\n",
        "\n",
        "These 16 smaller images are then processed in the second convolutional layer. We need filter-weights for each of these 16 channels, and we need filter-weights for each output channel of this layer. There are 36 output channels so there are a total of 16 x 36 = 576 filters in the second convolutional layer. The resulting images are down-sampled again to 7x7 pixels.\n",
        "\n",
        "The output of the second convolutional layer is 36 images of 7x7 pixels each. These are then flattened to a single vector of length 7 x 7 x 36 = 1764, which is used as the input to a fully-connected layer with 128 neurons (or elements). This feeds into another fully-connected layer with 10 neurons, one for each of the classes, which is used to determine the class of the image, that is, which number is depicted in the image.\n",
        "\n",
        "The convolutional filters are initially chosen at random, so the classification is done randomly. The error between the predicted and true class of the input image is measured as the so-called cross-entropy. The optimizer then automatically propagates this error back through the Convolutional Network using the chain-rule of differentiation and updates the filter-weights so as to improve the classification error. This is done iteratively thousands of times until the classification error is sufficiently low.\n",
        "\n",
        "These particular filter-weights and intermediate images are the results of one optimization run and may look different if you re-run this Notebook.\n",
        "\n",
        "Note that the computation in TensorFlow is actually done on a batch of images instead of a single image, which makes the computation more efficient. This means the flowchart actually has one more data-dimension when implemented in TensorFlow.\n",
        "\n",
        "### Convolutional Layer\n",
        "\n",
        "The following chart shows the basic idea of processing an image in the first convolutional layer. The input image depicts the number 7 and four copies of the image are shown here, so we can see more clearly how the filter is being moved to different positions of the image. For each position of the filter, the dot-product is being calculated between the filter and the image pixels under the filter, which results in a single pixel in the output image. So moving the filter across the entire input image results in a new image being generated.\n",
        "\n",
        "The red filter-weights means that the filter has a positive reaction to black pixels in the input image, while blue pixels means the filter has a negative reaction to black pixels.\n",
        "\n",
        "In this case it appears that the filter recognizes the horizontal line of the 7-digit, as can be seen from its stronger reaction to that line in the output image.\n",
        "\n",
        "![](https://github.com/Hvass-Labs/TensorFlow-Tutorials/raw/0495ab11a7eef74c2637a9a3fc2ca4bd1eac9022/images/02_convolution.png)\n",
        "\n",
        "The step-size for moving the filter across the input is called the stride. There is a stride for moving the filter horizontally (x-axis) and another stride for moving vertically (y-axis).\n",
        "\n",
        "In the source-code below, the stride is set to 1 in both directions, which means the filter starts in the upper left corner of the input image and is being moved 1 pixel to the right in each step. When the filter reaches the end of the image to the right, then the filter is moved back to the left side and 1 pixel down the image. This continues until the filter has reached the lower right corner of the input image and the entire output image has been generated.\n",
        "\n",
        "When the filter reaches the end of the right-side as well as the bottom of the input image, then it can be padded with zeroes (white pixels). This causes the output image to be of the exact same dimension as the input image.\n",
        "\n",
        "Furthermore, the output of the convolution may be passed through a so-called Rectified Linear Unit (ReLU), which merely ensures that the output is positive because negative values are set to zero. The output may also be down-sampled by so-called max-pooling, which considers small windows of 2x2 pixels and only keeps the largest of those pixels. This halves the resolution of the input image e.g. from 28x28 to 14x14 pixels.\n",
        "\n",
        "Note that the second convolutional layer is more complicated because it takes 16 input channels. We want a separate filter for each input channel, so we need 16 filters instead of just one. Furthermore, we want 36 output channels from the second convolutional layer, so in total we need 16 x 36 = 576 filters for the second convolutional layer. It can be a bit challenging to understand how this works.\n",
        "\n",
        "### Imports"
      ]
    },
    {
      "cell_type": "code",
      "metadata": {
        "id": "Yw-oeTWfIT4n",
        "colab_type": "code",
        "outputId": "0ed01dbb-1b14-49f7-f861-0310a98f870b",
        "colab": {
          "base_uri": "https://localhost:8080/",
          "height": 141
        }
      },
      "source": [
        "import os\n",
        "work_dir = \"/content/TensorFlow-Tutorials/\"\n",
        "if os.getcwd() != work_dir:\n",
        "  !git clone https://github.com/Hvass-Labs/TensorFlow-Tutorials\n",
        "os.chdir(work_dir)"
      ],
      "execution_count": 44,
      "outputs": [
        {
          "output_type": "stream",
          "text": [
            "Cloning into 'TensorFlow-Tutorials'...\n",
            "remote: Enumerating objects: 6, done.\u001b[K\n",
            "remote: Counting objects: 100% (6/6), done.\u001b[K\n",
            "remote: Compressing objects: 100% (5/5), done.\u001b[K\n",
            "remote: Total 477 (delta 1), reused 3 (delta 1), pack-reused 471\u001b[K\n",
            "Receiving objects: 100% (477/477), 62.51 MiB | 22.98 MiB/s, done.\n",
            "Resolving deltas: 100% (222/222), done.\n"
          ],
          "name": "stdout"
        }
      ]
    },
    {
      "cell_type": "code",
      "metadata": {
        "id": "oHXDm9uN_G-2",
        "colab_type": "code",
        "outputId": "8caeb2d1-22cd-44d8-a87c-7d8abab8d8a1",
        "colab": {
          "base_uri": "https://localhost:8080/",
          "height": 34
        }
      },
      "source": [
        "%matplotlib inline\n",
        "import matplotlib.pyplot as plt\n",
        "import tensorflow as tf\n",
        "import numpy as np\n",
        "from sklearn.metrics import confusion_matrix\n",
        "import time\n",
        "from datetime import timedelta\n",
        "import math\n",
        "\n",
        "print (tf.__version__)"
      ],
      "execution_count": 45,
      "outputs": [
        {
          "output_type": "stream",
          "text": [
            "1.14.0\n"
          ],
          "name": "stdout"
        }
      ]
    },
    {
      "cell_type": "markdown",
      "metadata": {
        "id": "q8352T4UIDWN",
        "colab_type": "text"
      },
      "source": [
        "### Configuration of Neural Network\n",
        "\n",
        "The configuration of the Convolutional Neural Network is defined here for convenience, so you can easily find and change these numbers and re-run the Notebook.\n",
        "\n"
      ]
    },
    {
      "cell_type": "code",
      "metadata": {
        "id": "McKXgESEH87V",
        "colab_type": "code",
        "colab": {}
      },
      "source": [
        "# Convolutional Layer 1.\n",
        "filter_size1 = 5          # Convolution filters are 5 x 5 pixels.\n",
        "num_filters1 = 16         # There are 16 of these filters.\n",
        "\n",
        "# Convolutional Layer 2.\n",
        "filter_size2 = 5          # Convolution filters are 5 x 5 pixels.\n",
        "num_filters2 = 36         # There are 36 of these filters.\n",
        "\n",
        "# Fully-connected layer.\n",
        "fc_size = 128             # Number of neurons in fully-connected layer."
      ],
      "execution_count": 0,
      "outputs": []
    },
    {
      "cell_type": "markdown",
      "metadata": {
        "id": "Oc9I52g4IMkg",
        "colab_type": "text"
      },
      "source": [
        "### Load data"
      ]
    },
    {
      "cell_type": "code",
      "metadata": {
        "id": "AiPw4L7YIKZE",
        "colab_type": "code",
        "colab": {}
      },
      "source": [
        "from mnist import MNIST\n",
        "data = MNIST(data_dir=\"data/MNIST/\")"
      ],
      "execution_count": 0,
      "outputs": []
    },
    {
      "cell_type": "code",
      "metadata": {
        "id": "m59uUfbNIZW1",
        "colab_type": "code",
        "outputId": "9c222cb2-8253-467b-f1f1-471d7fcecf7c",
        "colab": {
          "base_uri": "https://localhost:8080/",
          "height": 87
        }
      },
      "source": [
        "\n",
        "print(\"Size of:\")\n",
        "print(\"- Training-set:\\t\\t{}\".format(data.num_train))\n",
        "print(\"- Validation-set:\\t{}\".format(data.num_val))\n",
        "print(\"- Test-set:\\t\\t{}\".format(data.num_test))"
      ],
      "execution_count": 48,
      "outputs": [
        {
          "output_type": "stream",
          "text": [
            "Size of:\n",
            "- Training-set:\t\t55000\n",
            "- Validation-set:\t5000\n",
            "- Test-set:\t\t10000\n"
          ],
          "name": "stdout"
        }
      ]
    },
    {
      "cell_type": "code",
      "metadata": {
        "id": "aRE73gH1IbHl",
        "colab_type": "code",
        "outputId": "233a3ee7-dd10-4439-d3f9-09cee6f36cd1",
        "colab": {
          "base_uri": "https://localhost:8080/",
          "height": 34
        }
      },
      "source": [
        "# The number of pixels in each dimension of an image.\n",
        "img_size = data.img_size\n",
        "\n",
        "# The images are stored in one-dimensional arrays of this length.\n",
        "img_size_flat = data.img_size_flat\n",
        "\n",
        "# Tuple with height and width of images used to reshape arrays.\n",
        "img_shape = data.img_shape\n",
        "\n",
        "# Number of classes, one class for each of 10 digits.\n",
        "num_classes = data.num_classes\n",
        "\n",
        "# Number of colour channels for the images: 1 channel for gray-scale.\n",
        "num_channels = data.num_channels\n",
        "\n",
        "print (img_size, img_size_flat, img_shape, num_classes, num_channels)"
      ],
      "execution_count": 49,
      "outputs": [
        {
          "output_type": "stream",
          "text": [
            "28 784 (28, 28) 10 1\n"
          ],
          "name": "stdout"
        }
      ]
    },
    {
      "cell_type": "code",
      "metadata": {
        "id": "sEMj--rqIlZM",
        "colab_type": "code",
        "colab": {}
      },
      "source": [
        "# Function used to plot 9 images in a 3x3 grid, and writing the true and predicted classes below each image.\n",
        "\n",
        "def plot_images(images, cls_true, cls_pred=None):\n",
        "    assert len(images) == len(cls_true) == 9\n",
        "    \n",
        "    # Create figure with 3x3 sub-plots.\n",
        "    fig, axes = plt.subplots(3, 3)\n",
        "    fig.subplots_adjust(hspace=0.3, wspace=0.3)\n",
        "\n",
        "    for i, ax in enumerate(axes.flat):\n",
        "        # Plot image.\n",
        "        ax.imshow(images[i].reshape(img_shape), cmap='binary')\n",
        "\n",
        "        # Show true and predicted classes.\n",
        "        if cls_pred is None:\n",
        "            xlabel = \"True: {0}\".format(cls_true[i])\n",
        "        else:\n",
        "            xlabel = \"True: {0}, Pred: {1}\".format(cls_true[i], cls_pred[i])\n",
        "\n",
        "        # Show the classes as the label on the x-axis.\n",
        "        ax.set_xlabel(xlabel)\n",
        "        \n",
        "        # Remove ticks from the plot.\n",
        "        ax.set_xticks([])\n",
        "        ax.set_yticks([])\n",
        "    \n",
        "    # Ensure the plot is shown correctly with multiple plots\n",
        "    # in a single Notebook cell.\n",
        "    plt.show()"
      ],
      "execution_count": 0,
      "outputs": []
    },
    {
      "cell_type": "code",
      "metadata": {
        "id": "V4sl8-hgIsCn",
        "colab_type": "code",
        "outputId": "7b7f4374-ed4c-4925-ec48-7c325b698a96",
        "colab": {
          "base_uri": "https://localhost:8080/",
          "height": 265
        }
      },
      "source": [
        "# Plot a few images to see if data is correct\n",
        "\n",
        "\n",
        "# Get the first images from the test-set.\n",
        "images = data.x_test[0:9]\n",
        "\n",
        "# Get the true classes for those images.\n",
        "cls_true = data.y_test_cls[0:9]\n",
        "\n",
        "# Plot the images and labels using our helper-function above.\n",
        "plot_images(images=images, cls_true=cls_true)"
      ],
      "execution_count": 51,
      "outputs": [
        {
          "output_type": "display_data",
          "data": {
            "image/png": "[encoded data removed]",
            "text/plain": [
              "<Figure size 432x288 with 9 Axes>"
            ]
          },
          "metadata": {
            "tags": []
          }
        }
      ]
    },
    {
      "cell_type": "markdown",
      "metadata": {
        "id": "8yJyW_oXQRXM",
        "colab_type": "text"
      },
      "source": [
        "### Helper-functions for creating new variables\n",
        "\n",
        "Functions for creating new TensorFlow variables in the given shape and initializing them with random values. Note that the initialization is not actually done at this point, it is merely being defined in the TensorFlow graph.\n",
        "\n"
      ]
    },
    {
      "cell_type": "code",
      "metadata": {
        "id": "mtQ0WYDCIwXv",
        "colab_type": "code",
        "colab": {}
      },
      "source": [
        "def new_weights(shape):\n",
        "  # truncated_normal: Outputs random values from a truncated normal distribution.\n",
        "  return tf.Variable(tf.truncated_normal(shape=shape, stddev=0.05))\n"
      ],
      "execution_count": 0,
      "outputs": []
    },
    {
      "cell_type": "code",
      "metadata": {
        "id": "M6lRZ5zzRI8m",
        "colab_type": "code",
        "colab": {}
      },
      "source": [
        "def new_biases(length):\n",
        "  return tf.Variable(tf.constant(value=0.05, shape=[length]))"
      ],
      "execution_count": 0,
      "outputs": []
    },
    {
      "cell_type": "markdown",
      "metadata": {
        "id": "pN7-0njVRgkP",
        "colab_type": "text"
      },
      "source": [
        "### Helper-function for creating a new Convolutional Layer\n",
        "\n",
        "This function creates a new convolutional layer in the computational graph for TensorFlow. Nothing is actually calculated here, we are just adding the mathematical formulas to the TensorFlow graph.\n",
        "\n",
        "It is assumed that the input is a 4-dim tensor with the following dimensions:\n",
        "\n",
        "1. Image number\n",
        "2. Y axis of each img\n",
        "3. X axis of each img\n",
        "4. Channels of each img\n",
        "\n",
        "Note that the input channels may either be colour-channels, or it may be filter-channels if the input is produced from a previous convolutional layer.\n",
        "\n",
        "The output is another 4-dim tensor with the following dimensions:\n",
        "\n",
        "1. Image number, same as input\n",
        "2. Y-axis of each image. If 2x2 pooling is used, then the height and width of the input images is divided by 2.\n",
        "3. X-axis of each image. Ditto.\n",
        "4. Channels produced by the convolutional filters."
      ]
    },
    {
      "cell_type": "code",
      "metadata": {
        "id": "C-LUGCCJR812",
        "colab_type": "code",
        "colab": {}
      },
      "source": [
        "def new_conv_layer(input,              # The previous layer.\n",
        "                   num_input_channels, # Num. channels in prev. layer.\n",
        "                   filter_size,        # Width and height of each filter.\n",
        "                   num_filters,        # Number of filters.\n",
        "                   use_pooling=True):  # Use 2x2 max-pooling.\n",
        "  \n",
        "  # Shape of the filter-weights for the convolution.\n",
        "  # This format is determined by the TensorFlow API.\n",
        "  \n",
        "  print (\"Input shape is:\", input.shape)\n",
        "  \n",
        "  shape = [filter_size, filter_size, num_input_channels, num_filters]\n",
        "  \n",
        "  # Create new weights aka. filters with the given shape.\n",
        "  weights = new_weights(shape=shape)\n",
        "  \n",
        "  # Create new biases, one for each filter.\n",
        "  biases = new_biases(length=num_filters)\n",
        "  \n",
        "  print (\"Weights shape:\", weights.shape)\n",
        "  \n",
        "  # Create the TensorFlow operation for convolution.\n",
        "  # Note the strides are set to 1 in all dimensions.\n",
        "  # The first and last stride must always be 1,\n",
        "  # because the first is for the image-number and\n",
        "  # the last is for the input-channel.\n",
        "  # But e.g. strides=[1, 2, 2, 1] would mean that the filter\n",
        "  # is moved 2 pixels across the x- and y-axis of the image.\n",
        "  # The padding is set to 'SAME' which means the input image\n",
        "  # is padded with zeroes so the size of the output is the same.\n",
        "  \n",
        "  layer = tf.nn.conv2d(input=input, filter=weights, strides=[1,1,1,1], padding='SAME')\n",
        "  \n",
        "  print (\"layer shape:\", layer.shape)\n",
        "  \n",
        "  print (\"bias shape:\", biases.shape)\n",
        "  \n",
        "  # Add the biases to the results of the convolution.\n",
        "  # A bias-value is added to each filter-channel.\n",
        "  layer += biases\n",
        "  \n",
        "  # Use pooling to down-sample the image resolution?\n",
        "  \n",
        "  if use_pooling:\n",
        "    # This is 2x2 max-pooling, which means that we\n",
        "    # consider 2x2 windows and select the largest value\n",
        "    # in each window. Then we move 2 pixels to the next window.\n",
        "    \n",
        "    layer = tf.nn.max_pool(value=layer, ksize=[1,2,2,1], strides=[1,2,2,1], padding='SAME')\n",
        "    \n",
        "  # Rectified Linear Unit (ReLU).\n",
        "  # It calculates max(x, 0) for each input pixel x.\n",
        "  # This adds some non-linearity to the formula and allows us\n",
        "  # to learn more complicated functions.\n",
        "  \n",
        "  layer = tf.nn.relu(layer)\n",
        "  \n",
        "  # Note that ReLU is normally executed before the pooling,\n",
        "  # but since relu(max_pool(x)) == max_pool(relu(x)) we can\n",
        "  # save 75% of the relu-operations by max-pooling first.\n",
        "\n",
        "  # We return both the resulting layer and the filter-weights\n",
        "  # because we will plot the weights later.\n",
        "  \n",
        "  return layer, weights"
      ],
      "execution_count": 0,
      "outputs": []
    },
    {
      "cell_type": "markdown",
      "metadata": {
        "id": "kWkvFFaCWgX-",
        "colab_type": "text"
      },
      "source": [
        "### Helper-function for flattening a layer\n",
        "\n",
        "A convolutional layer produces an output tensor with 4 dimensions. We will add fully-connected layers after the convolution layers, so we need to reduce the 4-dim tensor to 2-dim which can be used as input to the fully-connected layer.\n",
        "\n"
      ]
    },
    {
      "cell_type": "code",
      "metadata": {
        "id": "x5f123NBWem5",
        "colab_type": "code",
        "colab": {}
      },
      "source": [
        "def flatten_layer(layer):\n",
        "  # Get the shape of the input layer.\n",
        "  layer_shape = layer.get_shape()\n",
        "  \n",
        "  # The shape of the input layer is assumed to be:\n",
        "  # layer_shape == [num_images, img_height, img_width, num_channels]\n",
        "  \n",
        "  # The number of features is: img_height * img_width * num_channels\n",
        "  # We can use a function from TensorFlow to calculate this.\n",
        "  \n",
        "  num_features = layer_shape[1:4].num_elements()\n",
        "  \n",
        "  # Reshape the layer to [num_images, num_features].\n",
        "  # Note that we just set the size of the second dimension\n",
        "  # to num_features and the size of the first dimension to -1\n",
        "  # which means the size in that dimension is calculated\n",
        "  # so the total size of the tensor is unchanged from the reshaping.\n",
        "  \n",
        "  layer_flat = tf.reshape(layer, shape=[-1, num_features])\n",
        "  \n",
        "  # The shape of the flattened layer is now:\n",
        "  # [num_images, img_height * img_width * num_channels]\n",
        "\n",
        "  # Return both the flattened layer and the number of features.\n",
        "  \n",
        "  return layer_flat, num_features"
      ],
      "execution_count": 0,
      "outputs": []
    },
    {
      "cell_type": "markdown",
      "metadata": {
        "id": "Zy5zzyCbYyN4",
        "colab_type": "text"
      },
      "source": [
        "### Helper-function for creating a new Fully-Connected Layer\n",
        "\n",
        "This function creates a new fully-connected layer in the computational graph for TensorFlow. Nothing is actually calculated here, we are just adding the mathematical formulas to the TensorFlow graph.\n",
        "\n",
        "It is assumed that the input is a 2-dim tensor of shape `[num_images, num_inputs]`. The output is a 2-dim tensor of shape `[num_images, num_outputs]`."
      ]
    },
    {
      "cell_type": "code",
      "metadata": {
        "id": "MchPWapfYJwc",
        "colab_type": "code",
        "colab": {}
      },
      "source": [
        "def new_fc_layer(input,          # The previous layer.\n",
        "                 num_inputs,     # Num. inputs from prev. layer.\n",
        "                 num_outputs,    # Num. outputs.\n",
        "                 use_relu=True): # Use Rectified Linear Unit (ReLU)?\n",
        "  \n",
        "  # Create new weights and biases.\n",
        "  weights = new_weights(shape = [num_inputs, num_outputs])\n",
        "  biases = new_biases(length=num_outputs)\n",
        "  \n",
        "  print (\"Input:\", input)\n",
        "  \n",
        "  print (\"Weights and bias shape:\", weights.shape, biases.shape)\n",
        "  \n",
        "  # Calculate the layer as the matrix multiplication of\n",
        "  # the input and weights, and then add the bias-values.\n",
        "  layer = tf.matmul(input, weights) + biases\n",
        "  \n",
        "  # Use ReLU?\n",
        "  if use_relu:\n",
        "    layer = tf.nn.relu(layer)\n",
        "  \n",
        "  \n",
        "  return layer\n",
        "  \n",
        "  "
      ],
      "execution_count": 0,
      "outputs": []
    },
    {
      "cell_type": "markdown",
      "metadata": {
        "id": "W596_VX9iSaK",
        "colab_type": "text"
      },
      "source": [
        "### Placeholder variables\n",
        "\n",
        "Placeholder variables serve as the input to the TensorFlow computational graph that we may change each time we execute the graph. We call this feeding the placeholder variables and it is demonstrated further below.\n",
        "\n",
        "First we define the placeholder variable for the input images. This allows us to change the images that are input to the TensorFlow graph. This is a so-called tensor, which just means that it is a multi-dimensional vector or matrix. The data-type is set to float32 and the shape is set to `[None, img_size_flat]`, where None means that the tensor may hold an arbitrary number of images with each image being a vector of length img_size_flat."
      ]
    },
    {
      "cell_type": "code",
      "metadata": {
        "id": "DCdGU1AhiP6E",
        "colab_type": "code",
        "outputId": "0a457ff2-22f4-4889-8a8d-7bbbcb64c8a4",
        "colab": {
          "base_uri": "https://localhost:8080/",
          "height": 34
        }
      },
      "source": [
        "x = tf.placeholder(dtype=tf.float32, shape=[None, img_size_flat], name='x')\n",
        "\n",
        "print (x.shape)"
      ],
      "execution_count": 57,
      "outputs": [
        {
          "output_type": "stream",
          "text": [
            "(?, 784)\n"
          ],
          "name": "stdout"
        }
      ]
    },
    {
      "cell_type": "markdown",
      "metadata": {
        "id": "gFK26NW9jmhj",
        "colab_type": "text"
      },
      "source": [
        "The convolutional layers expect x to be encoded as a 4-dim tensor so we have to reshape it so its shape is instead `[num_images, img_height, img_width, num_channels]`. Note that `img_height == img_width == img_size` and num_images can be inferred automatically by using -1 for the size of the first dimension. So the reshape operation is:"
      ]
    },
    {
      "cell_type": "code",
      "metadata": {
        "id": "vhIVBR1cjTgC",
        "colab_type": "code",
        "outputId": "8542a5c7-1f97-49d8-e4ec-fe1f1427e9b8",
        "colab": {
          "base_uri": "https://localhost:8080/",
          "height": 52
        }
      },
      "source": [
        "print (img_size, num_channels)\n",
        "\n",
        "x_image = tf.reshape(tensor=x, shape=[-1, img_size, img_size, num_channels])\n",
        "\n",
        "print (x_image.shape)"
      ],
      "execution_count": 58,
      "outputs": [
        {
          "output_type": "stream",
          "text": [
            "28 1\n",
            "(?, 28, 28, 1)\n"
          ],
          "name": "stdout"
        }
      ]
    },
    {
      "cell_type": "markdown",
      "metadata": {
        "id": "49pavNkHkw_Q",
        "colab_type": "text"
      },
      "source": [
        "Next we have the placeholder variable for the true labels associated with the images that were input in the placeholder variable x. The shape of this placeholder variable is `[None, num_classes]` which means it may hold an arbitrary number of labels and each label is a vector of length num_classes which is 10 in this case.\n",
        "\n"
      ]
    },
    {
      "cell_type": "code",
      "metadata": {
        "id": "QELzY1uJkyu7",
        "colab_type": "code",
        "outputId": "fd18256a-c47b-4639-ff9a-03924074b285",
        "colab": {
          "base_uri": "https://localhost:8080/",
          "height": 34
        }
      },
      "source": [
        "y_true = tf.placeholder(dtype=tf.float32, shape=[None, num_classes], name='y_true')\n",
        "\n",
        "print (y_true.shape)"
      ],
      "execution_count": 59,
      "outputs": [
        {
          "output_type": "stream",
          "text": [
            "(?, 10)\n"
          ],
          "name": "stdout"
        }
      ]
    },
    {
      "cell_type": "markdown",
      "metadata": {
        "id": "T4dcxBuelM55",
        "colab_type": "text"
      },
      "source": [
        "We could also have a placeholder variable for the class-number, but we will instead calculate it using argmax. Note that this is a TensorFlow operator so nothing is calculated at this point.\n",
        "\n"
      ]
    },
    {
      "cell_type": "code",
      "metadata": {
        "id": "k8o69wFFlNh_",
        "colab_type": "code",
        "outputId": "20c4ef4d-da64-4441-ddeb-cf65a7a9883e",
        "colab": {
          "base_uri": "https://localhost:8080/",
          "height": 34
        }
      },
      "source": [
        "y_true_cls = tf.argmax(input=y_true, axis=1)\n",
        "\n",
        "print (y_true_cls.shape)"
      ],
      "execution_count": 60,
      "outputs": [
        {
          "output_type": "stream",
          "text": [
            "(?,)\n"
          ],
          "name": "stdout"
        }
      ]
    },
    {
      "cell_type": "markdown",
      "metadata": {
        "id": "0dY6AJz6mDXB",
        "colab_type": "text"
      },
      "source": [
        "### Convolutional Layer 1\n",
        "\n",
        "Create the first convolutional layer. It takes x_image as input and creates num_filters1 different filters, each having width and height equal to filter_size1. Finally we wish to down-sample the image so it is half the size by using 2x2 max-pooling.\n",
        "\n"
      ]
    },
    {
      "cell_type": "code",
      "metadata": {
        "id": "wxEj1_RZnQCa",
        "colab_type": "code",
        "outputId": "4d140bc3-7f25-4a5c-a89f-fac5b1f20c94",
        "colab": {
          "base_uri": "https://localhost:8080/",
          "height": 34
        }
      },
      "source": [
        "x_image.shape"
      ],
      "execution_count": 61,
      "outputs": [
        {
          "output_type": "execute_result",
          "data": {
            "text/plain": [
              "TensorShape([Dimension(None), Dimension(28), Dimension(28), Dimension(1)])"
            ]
          },
          "metadata": {
            "tags": []
          },
          "execution_count": 61
        }
      ]
    },
    {
      "cell_type": "code",
      "metadata": {
        "id": "juL5DaRkmOi7",
        "colab_type": "code",
        "outputId": "ec351255-a8f7-4532-88ce-8205faa531e8",
        "colab": {
          "base_uri": "https://localhost:8080/",
          "height": 141
        }
      },
      "source": [
        "print (x_image.shape)\n",
        "\n",
        "# Remember input has to be in shape: [batch, in_height, in_width, in_channels]\n",
        "\n",
        "layer_conv1, weights_conv1 = new_conv_layer(input=x_image, num_input_channels=num_channels, filter_size=filter_size1, num_filters=num_filters1, use_pooling=True)\n",
        "\n",
        "print (layer_conv1)\n",
        "\n",
        "# layer op shape: (?, 14, 14, 16) : [batch_size, img_ht, img_wt, num_channels]\n",
        "\n",
        "# weights shape: (5,5,1,16): [filter_size, filter_size, num_input_channels, num_filters] as specified earlier\n",
        "\n",
        "print (weights_conv1.shape)"
      ],
      "execution_count": 62,
      "outputs": [
        {
          "output_type": "stream",
          "text": [
            "(?, 28, 28, 1)\n",
            "Input shape is: (?, 28, 28, 1)\n",
            "Weights shape: (5, 5, 1, 16)\n",
            "layer shape: (?, 28, 28, 16)\n",
            "bias shape: (16,)\n",
            "Tensor(\"Relu_3:0\", shape=(?, 14, 14, 16), dtype=float32)\n",
            "(5, 5, 1, 16)\n"
          ],
          "name": "stdout"
        }
      ]
    },
    {
      "cell_type": "markdown",
      "metadata": {
        "id": "js3fzGCCJ9KI",
        "colab_type": "text"
      },
      "source": [
        "Check the shape of the tensor that will be output by the convolutional layer. It is (?, 14, 14, 16) which means that there is an arbitrary number of images (this is the ?), each image is 14 pixels wide and 14 pixels high, and there are 16 different channels, one channel for each of the filters.\n",
        "\n"
      ]
    },
    {
      "cell_type": "code",
      "metadata": {
        "id": "rVu9IbZfJ-cW",
        "colab_type": "code",
        "outputId": "79253fde-5a21-4415-fc33-1156aeb3bbbb",
        "colab": {
          "base_uri": "https://localhost:8080/",
          "height": 34
        }
      },
      "source": [
        "layer_conv1"
      ],
      "execution_count": 63,
      "outputs": [
        {
          "output_type": "execute_result",
          "data": {
            "text/plain": [
              "<tf.Tensor 'Relu_3:0' shape=(?, 14, 14, 16) dtype=float32>"
            ]
          },
          "metadata": {
            "tags": []
          },
          "execution_count": 63
        }
      ]
    },
    {
      "cell_type": "markdown",
      "metadata": {
        "id": "wEn2AkmR_PZn",
        "colab_type": "text"
      },
      "source": [
        "### Convolutional Layer 2\n",
        "\n",
        "Create the second convolutional layer, which takes as input the output from the first convolutional layer. **The number of input channels corresponds to the number of filters in the first convolutional layer.**\n",
        "\n"
      ]
    },
    {
      "cell_type": "code",
      "metadata": {
        "id": "nDH0fb7FKAvG",
        "colab_type": "code",
        "outputId": "45d2d453-d105-4fe9-bc67-81d3ee242d49",
        "colab": {
          "base_uri": "https://localhost:8080/",
          "height": 105
        }
      },
      "source": [
        "layer_conv2, weights_conv2 = new_conv_layer(input=layer_conv1, num_input_channels=num_filters1, filter_size=filter_size2, num_filters=num_filters2, use_pooling=True)\n",
        "\n",
        "print (layer_conv2, weights_conv2.shape)"
      ],
      "execution_count": 64,
      "outputs": [
        {
          "output_type": "stream",
          "text": [
            "Input shape is: (?, 14, 14, 16)\n",
            "Weights shape: (5, 5, 16, 36)\n",
            "layer shape: (?, 14, 14, 36)\n",
            "bias shape: (36,)\n",
            "Tensor(\"Relu_4:0\", shape=(?, 7, 7, 36), dtype=float32) (5, 5, 16, 36)\n"
          ],
          "name": "stdout"
        }
      ]
    },
    {
      "cell_type": "markdown",
      "metadata": {
        "id": "whs5Qh69ACHK",
        "colab_type": "text"
      },
      "source": [
        "Check the shape of the tensor that will be output from this convolutional layer. The shape is (?, 7, 7, 36) where the ? again means that there is an arbitrary number of images, with each image having width and height of 7 pixels, and there are 36 channels, one for each filter.\n",
        "\n",
        "### Flatten Layer\n",
        "\n",
        "The convolutional layers output 4-dim tensors. We now wish to use these as input in a fully-connected network, which requires for the tensors to be reshaped or flattened to 2-dim tensors.\n",
        "\n"
      ]
    },
    {
      "cell_type": "code",
      "metadata": {
        "id": "gzr2edlRBaQo",
        "colab_type": "code",
        "outputId": "23dfc4d5-828b-4a93-ad11-7e099000adf4",
        "colab": {
          "base_uri": "https://localhost:8080/",
          "height": 34
        }
      },
      "source": [
        "7*7*36"
      ],
      "execution_count": 65,
      "outputs": [
        {
          "output_type": "execute_result",
          "data": {
            "text/plain": [
              "1764"
            ]
          },
          "metadata": {
            "tags": []
          },
          "execution_count": 65
        }
      ]
    },
    {
      "cell_type": "code",
      "metadata": {
        "id": "6bXxDthEBM3Q",
        "colab_type": "code",
        "outputId": "993b2a24-31c7-415a-86e5-111ff945d17a",
        "colab": {
          "base_uri": "https://localhost:8080/",
          "height": 34
        }
      },
      "source": [
        "layer_flat, num_features = flatten_layer(layer_conv2)\n",
        "\n",
        "print (layer_flat, num_features)"
      ],
      "execution_count": 66,
      "outputs": [
        {
          "output_type": "stream",
          "text": [
            "Tensor(\"Reshape_3:0\", shape=(?, 1764), dtype=float32) 1764\n"
          ],
          "name": "stdout"
        }
      ]
    },
    {
      "cell_type": "markdown",
      "metadata": {
        "id": "pTtljTfZBfmo",
        "colab_type": "text"
      },
      "source": [
        "Check that the tensors now have shape (?, 1764) which means there's an arbitrary number of images which have been flattened to vectors of length 1764 each. Note that 1764 = 7 x 7 x 36.\n",
        "\n",
        "### Fully-Connected Layer 1\n",
        "\n",
        "Add a fully-connected layer to the network. The input is the flattened layer from the previous convolution. The number of neurons or nodes in the fully-connected layer is fc_size. ReLU is used so we can learn non-linear relations.\n",
        "\n"
      ]
    },
    {
      "cell_type": "code",
      "metadata": {
        "id": "7zKj_KnFBWS3",
        "colab_type": "code",
        "outputId": "f441e6b7-c69e-4868-ccda-95aac5e32454",
        "colab": {
          "base_uri": "https://localhost:8080/",
          "height": 70
        }
      },
      "source": [
        "\n",
        "# ip shape : (?,1764) wt shape: (1764, 128) bias: (128,)\n",
        "\n",
        "# ip*wt + bias = (?, 128)\n",
        "\n",
        "\n",
        "layer_fc1 = new_fc_layer(input=layer_flat, num_inputs=num_features, num_outputs=fc_size, use_relu=True)\n",
        "\n",
        "print (layer_fc1)"
      ],
      "execution_count": 67,
      "outputs": [
        {
          "output_type": "stream",
          "text": [
            "Input: Tensor(\"Reshape_3:0\", shape=(?, 1764), dtype=float32)\n",
            "Weights and bias shape: (1764, 128) (128,)\n",
            "Tensor(\"Relu_5:0\", shape=(?, 128), dtype=float32)\n"
          ],
          "name": "stdout"
        }
      ]
    },
    {
      "cell_type": "markdown",
      "metadata": {
        "id": "t7GIWIvcDoqq",
        "colab_type": "text"
      },
      "source": [
        "### Fully-Connected Layer 2\n",
        "\n",
        "Add another fully-connected layer that outputs vectors of length 10 for determining which of the 10 classes the input image belongs to. Note that ReLU is not used in this layer.\n",
        "\n"
      ]
    },
    {
      "cell_type": "code",
      "metadata": {
        "id": "85SGWbEcDEzR",
        "colab_type": "code",
        "outputId": "7feb2040-3b54-4c50-f406-14452f75fec0",
        "colab": {
          "base_uri": "https://localhost:8080/",
          "height": 70
        }
      },
      "source": [
        "layer_fc2 = new_fc_layer(input=layer_fc1, num_inputs=fc_size, num_outputs=num_classes, use_relu=False)\n",
        "\n",
        "print (layer_fc2)"
      ],
      "execution_count": 68,
      "outputs": [
        {
          "output_type": "stream",
          "text": [
            "Input: Tensor(\"Relu_5:0\", shape=(?, 128), dtype=float32)\n",
            "Weights and bias shape: (128, 10) (10,)\n",
            "Tensor(\"add_7:0\", shape=(?, 10), dtype=float32)\n"
          ],
          "name": "stdout"
        }
      ]
    },
    {
      "cell_type": "markdown",
      "metadata": {
        "id": "68i8YdsrE-g6",
        "colab_type": "text"
      },
      "source": [
        "### Predicted Class\n",
        "\n",
        "The second fully-connected layer estimates how likely it is that the input image belongs to each of the 10 classes. However, these estimates are a bit rough and difficult to interpret because the numbers may be very small or large, so we want to normalize them so that each element is limited between zero and one and the 10 elements sum to one. This is calculated using the so-called softmax function and the result is stored in y_pred.\n",
        "\n"
      ]
    },
    {
      "cell_type": "code",
      "metadata": {
        "id": "XwDWvRKLEa_R",
        "colab_type": "code",
        "outputId": "a9af39ef-7448-4cf7-af6f-ceb2998d2d52",
        "colab": {
          "base_uri": "https://localhost:8080/",
          "height": 34
        }
      },
      "source": [
        "y_pred = tf.nn.softmax(logits=layer_fc2)\n",
        "\n",
        "print (y_pred.shape)"
      ],
      "execution_count": 69,
      "outputs": [
        {
          "output_type": "stream",
          "text": [
            "(?, 10)\n"
          ],
          "name": "stdout"
        }
      ]
    },
    {
      "cell_type": "markdown",
      "metadata": {
        "id": "7p4t-CGfF45t",
        "colab_type": "text"
      },
      "source": [
        "The class-number is the index of the largest element."
      ]
    },
    {
      "cell_type": "code",
      "metadata": {
        "id": "TyiyH5FvF5ig",
        "colab_type": "code",
        "outputId": "c660ae5b-6fe4-45b4-d2af-2780502cbef4",
        "colab": {
          "base_uri": "https://localhost:8080/",
          "height": 34
        }
      },
      "source": [
        "y_pred_cls = tf.argmax(input=y_pred, axis=1)\n",
        "\n",
        "print (y_pred_cls.shape)"
      ],
      "execution_count": 70,
      "outputs": [
        {
          "output_type": "stream",
          "text": [
            "(?,)\n"
          ],
          "name": "stdout"
        }
      ]
    },
    {
      "cell_type": "markdown",
      "metadata": {
        "id": "8jrLObhuGR0H",
        "colab_type": "text"
      },
      "source": [
        "### Cost-function to be optimized\n",
        "\n",
        "To make the model better at classifying the input images, we must somehow change the variables for all the network layers. To do this we first need to know how well the model currently performs by comparing the predicted output of the model y_pred to the desired output y_true.\n",
        "\n",
        "The cross-entropy is a performance measure used in classification. The cross-entropy is a continuous function that is always positive and if the predicted output of the model exactly matches the desired output then the cross-entropy equals zero. The goal of optimization is therefore to minimize the cross-entropy so it gets as close to zero as possible by changing the variables of the network layers.\n",
        "\n",
        "TensorFlow has a built-in function for calculating the cross-entropy. **Note that the function calculates the softmax internally so we must use the output of layer_fc2 directly rather than y_pred which has already had the softmax applied.**"
      ]
    },
    {
      "cell_type": "code",
      "metadata": {
        "id": "6NhIu_WQGKWQ",
        "colab_type": "code",
        "outputId": "45264035-0ee4-4d87-fc06-bfccd4151967",
        "colab": {
          "base_uri": "https://localhost:8080/",
          "height": 34
        }
      },
      "source": [
        "cross_entropy = tf.nn.softmax_cross_entropy_with_logits_v2(logits=layer_fc2, labels=y_true)\n",
        "\n",
        "print (cross_entropy.shape)"
      ],
      "execution_count": 71,
      "outputs": [
        {
          "output_type": "stream",
          "text": [
            "(?,)\n"
          ],
          "name": "stdout"
        }
      ]
    },
    {
      "cell_type": "markdown",
      "metadata": {
        "id": "REfZq6hvHnwk",
        "colab_type": "text"
      },
      "source": [
        "We have now calculated the cross-entropy for each of the image classifications so we have a measure of how well the model performs on each image individually. But in order to use the cross-entropy to guide the optimization of the model's variables we need a single scalar value, so we simply take the average of the cross-entropy for all the image classifications.\n",
        "\n"
      ]
    },
    {
      "cell_type": "code",
      "metadata": {
        "id": "hasJqWEtHK1p",
        "colab_type": "code",
        "outputId": "061f972a-fe31-4592-dd2a-3dd663a88bc3",
        "colab": {
          "base_uri": "https://localhost:8080/",
          "height": 34
        }
      },
      "source": [
        "cost = tf.reduce_mean(input_tensor=cross_entropy)\n",
        "\n",
        "print (cost.shape)"
      ],
      "execution_count": 72,
      "outputs": [
        {
          "output_type": "stream",
          "text": [
            "()\n"
          ],
          "name": "stdout"
        }
      ]
    },
    {
      "cell_type": "markdown",
      "metadata": {
        "id": "CPBXComqI0Ke",
        "colab_type": "text"
      },
      "source": [
        "### Optimization Method\n",
        "\n",
        "Now that we have a cost measure that must be minimized, we can then create an optimizer. In this case it is the AdamOptimizer which is an advanced form of Gradient Descent.\n",
        "\n",
        "Note that optimization is not performed at this point. In fact, nothing is calculated at all, we just add the optimizer-object to the TensorFlow graph for later execution."
      ]
    },
    {
      "cell_type": "code",
      "metadata": {
        "id": "nddiz8ZoJE8M",
        "colab_type": "code",
        "colab": {}
      },
      "source": [
        "optimizer = tf.train.AdamOptimizer(learning_rate=1e-4).minimize(cost)"
      ],
      "execution_count": 0,
      "outputs": []
    },
    {
      "cell_type": "markdown",
      "metadata": {
        "id": "fZAQPX9TJ_x6",
        "colab_type": "text"
      },
      "source": [
        "### Performance Measures\n",
        "\n",
        "We need a few more performance measures to display the progress to the user.\n",
        "\n",
        "This is a vector of booleans whether the predicted class equals the true class of each image.\n",
        "\n"
      ]
    },
    {
      "cell_type": "code",
      "metadata": {
        "id": "se4TXcowJ2Sl",
        "colab_type": "code",
        "outputId": "1fb4950f-7eca-426d-cef9-c6d2247a22b1",
        "colab": {
          "base_uri": "https://localhost:8080/",
          "height": 34
        }
      },
      "source": [
        "correct_prediction = tf.equal(x=y_pred_cls, y=y_true_cls)\n",
        "\n",
        "print (correct_prediction.shape)"
      ],
      "execution_count": 74,
      "outputs": [
        {
          "output_type": "stream",
          "text": [
            "(?,)\n"
          ],
          "name": "stdout"
        }
      ]
    },
    {
      "cell_type": "markdown",
      "metadata": {
        "id": "G8al8JcnKq-B",
        "colab_type": "text"
      },
      "source": [
        "This calculates the classification accuracy by first type-casting the vector of booleans to floats, so that False becomes 0 and True becomes 1, and then calculating the average of these numbers.\n",
        "\n"
      ]
    },
    {
      "cell_type": "code",
      "metadata": {
        "id": "orI1Y_nYKee3",
        "colab_type": "code",
        "outputId": "60d31313-f9fb-4fad-e562-bf2e729649be",
        "colab": {
          "base_uri": "https://localhost:8080/",
          "height": 34
        }
      },
      "source": [
        "accuracy = tf.reduce_mean(tf.cast(x=correct_prediction, dtype=tf.float32))\n",
        "\n",
        "print (accuracy.shape)"
      ],
      "execution_count": 75,
      "outputs": [
        {
          "output_type": "stream",
          "text": [
            "()\n"
          ],
          "name": "stdout"
        }
      ]
    },
    {
      "cell_type": "markdown",
      "metadata": {
        "id": "znIkmu0mK_uU",
        "colab_type": "text"
      },
      "source": [
        "### Tensorflow Run\n",
        "\n",
        "### Create TensorFlow session\n",
        "\n",
        "Once the TensorFlow graph has been created, we have to create a TensorFlow session which is used to execute the graph.\n",
        "\n"
      ]
    },
    {
      "cell_type": "code",
      "metadata": {
        "id": "pqzTblzaK4yU",
        "colab_type": "code",
        "colab": {}
      },
      "source": [
        "# A class for running TensorFlow operations.\n",
        "\n",
        "session = tf.Session()"
      ],
      "execution_count": 0,
      "outputs": []
    },
    {
      "cell_type": "markdown",
      "metadata": {
        "id": "_UVHmrykLlV0",
        "colab_type": "text"
      },
      "source": [
        "### Initialize variables\n",
        "\n",
        "The variables for weights and biases must be initialized before we start optimizing them.\n",
        "\n"
      ]
    },
    {
      "cell_type": "code",
      "metadata": {
        "id": "_xe2iCA1Lp-0",
        "colab_type": "code",
        "colab": {}
      },
      "source": [
        "session.run(tf.global_variables_initializer())"
      ],
      "execution_count": 0,
      "outputs": []
    },
    {
      "cell_type": "markdown",
      "metadata": {
        "id": "o64TF6SSMCkH",
        "colab_type": "text"
      },
      "source": [
        "### Helper-function to perform optimization iterations\n",
        "\n",
        "There are 55,000 images in the training-set. It takes a long time to calculate the gradient of the model using all these images. We therefore only use a small batch of images in each iteration of the optimizer.\n",
        "\n",
        "If your computer crashes or becomes very slow because you run out of RAM, then you may try and lower this number, but you may then need to perform more optimization iterations."
      ]
    },
    {
      "cell_type": "code",
      "metadata": {
        "id": "tldhNHwaLx5Z",
        "colab_type": "code",
        "colab": {}
      },
      "source": [
        "train_batch_size = 64\n"
      ],
      "execution_count": 0,
      "outputs": []
    },
    {
      "cell_type": "markdown",
      "metadata": {
        "id": "_dW--AGPMM62",
        "colab_type": "text"
      },
      "source": [
        "Function for performing a number of optimization iterations so as to gradually improve the variables of the network layers. In each iteration, a new batch of data is selected from the training-set and then TensorFlow executes the optimizer using those training samples. The progress is printed every 100 iterations.\n",
        "\n"
      ]
    },
    {
      "cell_type": "code",
      "metadata": {
        "id": "GjXXv1dtf5Ce",
        "colab_type": "code",
        "colab": {
          "base_uri": "https://localhost:8080/",
          "height": 34
        },
        "outputId": "3e7d6ca6-ec5d-4d8c-b8f3-5ab12295d3ef"
      },
      "source": [
        "# returns x, y, and y_cls in batches\n",
        "\n",
        "data.random_batch()[0].shape, data.random_batch()[1].shape, data.random_batch()[2].shape"
      ],
      "execution_count": 79,
      "outputs": [
        {
          "output_type": "execute_result",
          "data": {
            "text/plain": [
              "((32, 784), (32, 10), (32,))"
            ]
          },
          "metadata": {
            "tags": []
          },
          "execution_count": 79
        }
      ]
    },
    {
      "cell_type": "code",
      "metadata": {
        "id": "hdCOBdr7MMCQ",
        "colab_type": "code",
        "colab": {}
      },
      "source": [
        "# Counter for total number of iterations performed so far.\n",
        "total_iterations=0\n",
        "\n",
        "def optimize(num_iterations):\n",
        "  # Ensure we update the global variable rather than a local copy.\n",
        "  global total_iterations\n",
        "  \n",
        "  # Start-time used for printing time-usage below.\n",
        "  start_time = time.time()\n",
        "  \n",
        "  for i in range(total_iterations, total_iterations+num_iterations):\n",
        "    \n",
        "    # Get a batch of training examples.\n",
        "    # x_batch now holds a batch of images and\n",
        "    # y_true_batch are the true labels for those images.\n",
        "    # _ holds the true class labels\n",
        "    \n",
        "    x_batch, y_true_batch, _ = data.random_batch(batch_size=train_batch_size)\n",
        "    \n",
        "    # Put the batch into a dict with the proper names\n",
        "    # for placeholder variables in the TensorFlow graph.\n",
        "    \n",
        "    feed_dict_train = {\n",
        "        x: x_batch,\n",
        "        y_true: y_true_batch\n",
        "    }\n",
        "    \n",
        "    # Run the optimizer using this batch of training data.\n",
        "    # TensorFlow assigns the variables in feed_dict_train\n",
        "    # to the placeholder variables and then runs the optimizer.\n",
        "    \n",
        "    session.run(optimizer, feed_dict=feed_dict_train)\n",
        "    \n",
        "    # Print status every 100 iterations.\n",
        "    \n",
        "    if i%100 == 0:\n",
        "      # Calculate the accuracy on the training-set.\n",
        "      acc = session.run(accuracy, feed_dict=feed_dict_train)\n",
        "      \n",
        "      # Message for printing.\n",
        "      msg = \"Optimization Iteration: {0:>6}, Training Accuracy: {1:>6.1%}\"\n",
        "      print (msg.format(i+1, acc))\n",
        "      \n",
        "  # Update the total number of iterations performed.\n",
        "  total_iterations+=num_iterations\n",
        "  \n",
        "  #Ending time\n",
        "  end_time = time.time()\n",
        "  \n",
        "  time_diff = end_time-start_time\n",
        "  \n",
        "   # Print the time-usage.\n",
        "  print(\"Time usage: \" + str(timedelta(seconds=int(round(time_diff)))))\n",
        "  \n",
        "  \n",
        "  "
      ],
      "execution_count": 0,
      "outputs": []
    },
    {
      "cell_type": "markdown",
      "metadata": {
        "id": "5ocQr4nbi73Q",
        "colab_type": "text"
      },
      "source": [
        "### Helper-function to plot example errors\n",
        "\n",
        "Function for plotting examples of images from the test-set that have been mis-classified.\n",
        "\n"
      ]
    },
    {
      "cell_type": "code",
      "metadata": {
        "id": "4uwqEWzlNTZh",
        "colab_type": "code",
        "colab": {}
      },
      "source": [
        "def plot_example_errors(cls_pred, correct):\n",
        "  # This function is called from print_test_accuracy() below.\n",
        "  \n",
        "  # cls_pred is an array of the predicted class-number for\n",
        "  # all images in the test-set.\n",
        "  \n",
        "  # correct is a boolean array whether the predicted class\n",
        "  # is equal to the true class for each image in the test-set.\n",
        "  \n",
        "  # Negate the boolean array.\n",
        "  \n",
        "  incorrect = (correct==False)\n",
        "  \n",
        "  # Get the images from the test-set that have been\n",
        "  # incorrectly classified.\n",
        "  \n",
        "  images = data.x_test[incorrect]\n",
        "  \n",
        "  # Get the predicted classes for those images.\n",
        "  cls_pred = cls_pred[incorrect]\n",
        "  \n",
        "  # Get the true classes for those images.\n",
        "  cls_true = data.y_test_cls[incorrect]\n",
        "  \n",
        "  # Plot the first 9 images.\n",
        "  plot_images(images=images[0:9],\n",
        "              cls_true=cls_true[0:9],\n",
        "              cls_pred=cls_pred[0:9])"
      ],
      "execution_count": 0,
      "outputs": []
    },
    {
      "cell_type": "markdown",
      "metadata": {
        "id": "pxqGmfQelM1S",
        "colab_type": "text"
      },
      "source": [
        "### Helper-function to plot confusion matrix"
      ]
    },
    {
      "cell_type": "code",
      "metadata": {
        "id": "vhSqv7qylNsf",
        "colab_type": "code",
        "colab": {}
      },
      "source": [
        "def plot_confusion_matrix(cls_pred):\n",
        "  # This is called from print_test_accuracy() below.\n",
        "  \n",
        "  # cls_pred is an array of the predicted class-number for\n",
        "  # all images in the test-set.\n",
        "  \n",
        "  # Get the true classifications for the test-set.\n",
        "  cls_true = data.y_test_cls\n",
        "  \n",
        "  # Get the confusion matrix using sklearn.\n",
        "  cm = confusion_matrix(y_true=cls_true, y_pred=cls_pred)\n",
        "  \n",
        "  # Print the confusion matrix as text.\n",
        "  print(cm)\n",
        "  \n",
        "  # Plot the confusion matrix as an image.\n",
        "  plt.matshow(cm)\n",
        "  \n",
        "  # Make various adjustments to the plot.\n",
        "  plt.colorbar()\n",
        "  tick_marks = np.arange(num_classes)\n",
        "  plt.xticks(tick_marks, range(num_classes))\n",
        "  plt.yticks(tick_marks, range(num_classes))\n",
        "  plt.xlabel('Predicted')\n",
        "  plt.ylabel('True')\n",
        "\n",
        "  # Ensure the plot is shown correctly with multiple plots\n",
        "  # in a single Notebook cell.\n",
        "  plt.show()\n",
        "\n",
        "  "
      ],
      "execution_count": 0,
      "outputs": []
    },
    {
      "cell_type": "markdown",
      "metadata": {
        "id": "9PysBC-eoPoQ",
        "colab_type": "text"
      },
      "source": [
        "### Helper-function for showing the performance\n",
        "\n",
        "Function for printing the classification accuracy on the test-set.\n",
        "\n",
        "It takes a while to compute the classification for all the images in the test-set, that's why the results are re-used by calling the above functions directly from this function, so the classifications don't have to be recalculated by each function.\n",
        "\n",
        "Note that this function can use a lot of computer memory, which is why the test-set is split into smaller batches. If you have little RAM in your computer and it crashes, then you can try and lower the batch-size."
      ]
    },
    {
      "cell_type": "code",
      "metadata": {
        "id": "4ps-fkhlH09i",
        "colab_type": "code",
        "colab": {
          "base_uri": "https://localhost:8080/",
          "height": 34
        },
        "outputId": "538268cd-cba9-4e10-8bd7-ca47e91ffdfa"
      },
      "source": [
        "data.x_test.shape"
      ],
      "execution_count": 83,
      "outputs": [
        {
          "output_type": "execute_result",
          "data": {
            "text/plain": [
              "(10000, 784)"
            ]
          },
          "metadata": {
            "tags": []
          },
          "execution_count": 83
        }
      ]
    },
    {
      "cell_type": "code",
      "metadata": {
        "id": "hgW2UUthKPxg",
        "colab_type": "code",
        "colab": {
          "base_uri": "https://localhost:8080/",
          "height": 34
        },
        "outputId": "2862db50-5fe0-4c9c-df74-2dfa77c90cb0"
      },
      "source": [
        "data.y_test_cls.shape"
      ],
      "execution_count": 84,
      "outputs": [
        {
          "output_type": "execute_result",
          "data": {
            "text/plain": [
              "(10000,)"
            ]
          },
          "metadata": {
            "tags": []
          },
          "execution_count": 84
        }
      ]
    },
    {
      "cell_type": "code",
      "metadata": {
        "id": "gzGL7QY0lujz",
        "colab_type": "code",
        "colab": {}
      },
      "source": [
        "# Split the test-set into smaller batches of this size.\n",
        "test_batch_size = 256\n",
        "\n",
        "def print_test_accuracy(show_example_errors=False, show_confusion_matrix=False):\n",
        "  # Number of images in the test-set.\n",
        "  num_test = data.num_test\n",
        "  \n",
        "  # Allocate an array for the predicted classes which\n",
        "  # will be calculated in batches and filled into this array.\n",
        "  \n",
        "  cls_pred = np.zeros(shape=num_test, dtype=np.int)\n",
        "  \n",
        "  # Now calculate the predicted classes for the batches.\n",
        "  # We will just iterate through all the batches.\n",
        "  # There might be a more clever and Pythonic way of doing this.\n",
        "\n",
        "  # The starting index for the next batch is denoted i.\n",
        "  \n",
        "  i = 0\n",
        "  \n",
        "  while i < num_test:\n",
        "    # The ending index for the next batch is denoted j.\n",
        "    j = min(i+test_batch_size, num_test)\n",
        "    \n",
        "    # Get the images from the test-set between index i and j.\n",
        "    images = data.x_test[i:j, :]\n",
        "    \n",
        "    # Get the associated labels.\n",
        "    labels = data.y_test[i:j, :]\n",
        "    \n",
        "    # Create a feed-dict with these images and labels.\n",
        "    feed_dict = {\n",
        "        x: images,\n",
        "        y_true: labels\n",
        "    }\n",
        "    \n",
        "    # Calculate the predicted class using TensorFlow.\n",
        "    \n",
        "    cls_pred[i:j] = session.run(y_pred_cls, feed_dict=feed_dict)\n",
        "    \n",
        "    # Set the start-index for the next batch to the\n",
        "    # end-index of the current batch.\n",
        "    i = j\n",
        "    \n",
        "  # at this satge cls_pred is filled with all the test predictions\n",
        "\n",
        "  # Convenience variable for the true class-numbers of the test-set.\n",
        "  cls_true = data.y_test_cls\n",
        "  \n",
        "  # Create a boolean array storing whether each image is correctly classified\n",
        "  correct = (cls_true==cls_pred)\n",
        "  \n",
        "  # Calculate the number of correctly classified images.\n",
        "  # When summing a boolean array, False means 0 and True means 1.\n",
        "  correct_sum = correct.sum()\n",
        "  \n",
        "  # Classification accuracy is the number of correctly classified\n",
        "  # images divided by the total number of images in the test-set.\n",
        "  \n",
        "  acc = float(correct_sum) / num_test\n",
        "  \n",
        "  # Print the accuracy.\n",
        "  msg = \"Accuracy on Test-Set: {0:.1%} ({1} / {2})\"\n",
        "  print(msg.format(acc, correct_sum, num_test))\n",
        "  \n",
        "  # Plot some examples of mis-classifications, if desired.\n",
        "  if show_example_errors:\n",
        "      print(\"Example errors:\")\n",
        "      plot_example_errors(cls_pred=cls_pred, correct=correct)\n",
        "\n",
        "  # Plot the confusion matrix, if desired.\n",
        "  if show_confusion_matrix:\n",
        "      print(\"Confusion Matrix:\")\n",
        "      plot_confusion_matrix(cls_pred=cls_pred)\n",
        "\n",
        "  \n",
        "  "
      ],
      "execution_count": 0,
      "outputs": []
    },
    {
      "cell_type": "markdown",
      "metadata": {
        "id": "diTojABOLn_6",
        "colab_type": "text"
      },
      "source": [
        "### Performance before any optimization\n",
        "\n",
        "The accuracy on the test-set is very low because the model variables have only been initialized and not optimized at all, so it just classifies the images randomly.\n",
        "\n"
      ]
    },
    {
      "cell_type": "code",
      "metadata": {
        "id": "beSoNnoQLsza",
        "colab_type": "code",
        "colab": {
          "base_uri": "https://localhost:8080/",
          "height": 34
        },
        "outputId": "212580f9-62f6-4618-8dba-024d60cc8aa3"
      },
      "source": [
        "print_test_accuracy()\n"
      ],
      "execution_count": 86,
      "outputs": [
        {
          "output_type": "stream",
          "text": [
            "Accuracy on Test-Set: 9.8% (982 / 10000)\n"
          ],
          "name": "stdout"
        }
      ]
    },
    {
      "cell_type": "markdown",
      "metadata": {
        "id": "b-q6NNnpLwC-",
        "colab_type": "text"
      },
      "source": [
        "### Performance after 1 optimization iteration\n",
        "\n",
        "The classification accuracy does not improve much from just 1 optimization iteration, because the learning-rate for the optimizer is set very low.\n",
        "\n"
      ]
    },
    {
      "cell_type": "code",
      "metadata": {
        "id": "lMoY5SvLLtWO",
        "colab_type": "code",
        "colab": {
          "base_uri": "https://localhost:8080/",
          "height": 52
        },
        "outputId": "3443a8be-9e1f-4ffd-c2c8-0d853c9dfeec"
      },
      "source": [
        "optimize(num_iterations=1)\n"
      ],
      "execution_count": 89,
      "outputs": [
        {
          "output_type": "stream",
          "text": [
            "Optimization Iteration:      1, Training Accuracy:   7.8%\n",
            "Time usage: 0:00:00\n"
          ],
          "name": "stdout"
        }
      ]
    },
    {
      "cell_type": "code",
      "metadata": {
        "id": "13BgpCByL0qN",
        "colab_type": "code",
        "colab": {
          "base_uri": "https://localhost:8080/",
          "height": 34
        },
        "outputId": "fbf9ff36-61b3-4abb-a517-ef527be3002e"
      },
      "source": [
        "print_test_accuracy()\n"
      ],
      "execution_count": 90,
      "outputs": [
        {
          "output_type": "stream",
          "text": [
            "Accuracy on Test-Set: 10.2% (1017 / 10000)\n"
          ],
          "name": "stdout"
        }
      ]
    },
    {
      "cell_type": "markdown",
      "metadata": {
        "id": "5HsTujX8MEc5",
        "colab_type": "text"
      },
      "source": [
        "### Performance after 100 optimization iterations\n",
        "\n",
        "After 100 optimization iterations, the model has significantly improved its classification accuracy.\n",
        "\n"
      ]
    },
    {
      "cell_type": "code",
      "metadata": {
        "id": "DcNmR4NUMGGz",
        "colab_type": "code",
        "colab": {
          "base_uri": "https://localhost:8080/",
          "height": 34
        },
        "outputId": "62caf45c-d951-43b8-a80f-b52a116115d0"
      },
      "source": [
        "optimize(num_iterations=99) # We already performed 1 iteration above."
      ],
      "execution_count": 91,
      "outputs": [
        {
          "output_type": "stream",
          "text": [
            "Time usage: 0:00:01\n"
          ],
          "name": "stdout"
        }
      ]
    },
    {
      "cell_type": "code",
      "metadata": {
        "id": "nN846_6sMHVY",
        "colab_type": "code",
        "colab": {
          "base_uri": "https://localhost:8080/",
          "height": 301
        },
        "outputId": "0425a3e1-ccd9-4aab-f02f-7a1e811f0a34"
      },
      "source": [
        "print_test_accuracy(show_example_errors=True)\n"
      ],
      "execution_count": 92,
      "outputs": [
        {
          "output_type": "stream",
          "text": [
            "Accuracy on Test-Set: 67.9% (6788 / 10000)\n",
            "Example errors:\n"
          ],
          "name": "stdout"
        },
        {
          "output_type": "display_data",
          "data": {
            "image/png": "[encoded data removed]",
            "text/plain": [
              "<Figure size 432x288 with 9 Axes>"
            ]
          },
          "metadata": {
            "tags": []
          }
        }
      ]
    },
    {
      "cell_type": "markdown",
      "metadata": {
        "id": "ptB7zKveMM9w",
        "colab_type": "text"
      },
      "source": [
        "### Performance after 1000 optimization iterations\n",
        "\n",
        "After 1000 optimization iterations, the model has greatly increased its accuracy on the test-set to more than 90%.\n",
        "\n"
      ]
    },
    {
      "cell_type": "code",
      "metadata": {
        "id": "QpcroRezMJHX",
        "colab_type": "code",
        "colab": {
          "base_uri": "https://localhost:8080/",
          "height": 194
        },
        "outputId": "546fe907-3a23-413e-b701-0009729d1fd3"
      },
      "source": [
        "optimize(num_iterations=900) # We performed 100 iterations above."
      ],
      "execution_count": 93,
      "outputs": [
        {
          "output_type": "stream",
          "text": [
            "Optimization Iteration:    101, Training Accuracy:  60.9%\n",
            "Optimization Iteration:    201, Training Accuracy:  85.9%\n",
            "Optimization Iteration:    301, Training Accuracy:  87.5%\n",
            "Optimization Iteration:    401, Training Accuracy:  89.1%\n",
            "Optimization Iteration:    501, Training Accuracy:  85.9%\n",
            "Optimization Iteration:    601, Training Accuracy:  95.3%\n",
            "Optimization Iteration:    701, Training Accuracy:  93.8%\n",
            "Optimization Iteration:    801, Training Accuracy:  93.8%\n",
            "Optimization Iteration:    901, Training Accuracy:  92.2%\n",
            "Time usage: 0:00:05\n"
          ],
          "name": "stdout"
        }
      ]
    },
    {
      "cell_type": "code",
      "metadata": {
        "id": "Zpf1g1P4MQd3",
        "colab_type": "code",
        "colab": {
          "base_uri": "https://localhost:8080/",
          "height": 301
        },
        "outputId": "7f750ef0-06f8-4ba5-feb6-8cb06ffc75f9"
      },
      "source": [
        "print_test_accuracy(show_example_errors=True)\n"
      ],
      "execution_count": 94,
      "outputs": [
        {
          "output_type": "stream",
          "text": [
            "Accuracy on Test-Set: 93.1% (9313 / 10000)\n",
            "Example errors:\n"
          ],
          "name": "stdout"
        },
        {
          "output_type": "display_data",
          "data": {
            "image/png": "[encoded data removed]",
            "text/plain": [
              "<Figure size 432x288 with 9 Axes>"
            ]
          },
          "metadata": {
            "tags": []
          }
        }
      ]
    },
    {
      "cell_type": "markdown",
      "metadata": {
        "id": "bxp0wCz0MWVZ",
        "colab_type": "text"
      },
      "source": [
        "### Performance after 10,000 optimization iterations\n",
        "\n",
        "After 10,000 optimization iterations, the model has a classification accuracy on the test-set of about 99%.\n",
        "\n"
      ]
    },
    {
      "cell_type": "code",
      "metadata": {
        "id": "Pg2b-UlTMTMS",
        "colab_type": "code",
        "colab": {
          "base_uri": "https://localhost:8080/",
          "height": 1000
        },
        "outputId": "43c0275e-7140-4409-f892-abd4b3af3851"
      },
      "source": [
        "optimize(num_iterations=9000) # We performed 1000 iterations above.\n"
      ],
      "execution_count": 95,
      "outputs": [
        {
          "output_type": "stream",
          "text": [
            "Optimization Iteration:   1001, Training Accuracy:  90.6%\n",
            "Optimization Iteration:   1101, Training Accuracy:  89.1%\n",
            "Optimization Iteration:   1201, Training Accuracy:  96.9%\n",
            "Optimization Iteration:   1301, Training Accuracy:  90.6%\n",
            "Optimization Iteration:   1401, Training Accuracy:  95.3%\n",
            "Optimization Iteration:   1501, Training Accuracy:  92.2%\n",
            "Optimization Iteration:   1601, Training Accuracy:  93.8%\n",
            "Optimization Iteration:   1701, Training Accuracy:  92.2%\n",
            "Optimization Iteration:   1801, Training Accuracy:  87.5%\n",
            "Optimization Iteration:   1901, Training Accuracy:  95.3%\n",
            "Optimization Iteration:   2001, Training Accuracy:  98.4%\n",
            "Optimization Iteration:   2101, Training Accuracy:  96.9%\n",
            "Optimization Iteration:   2201, Training Accuracy:  95.3%\n",
            "Optimization Iteration:   2301, Training Accuracy:  96.9%\n",
            "Optimization Iteration:   2401, Training Accuracy:  93.8%\n",
            "Optimization Iteration:   2501, Training Accuracy: 100.0%\n",
            "Optimization Iteration:   2601, Training Accuracy:  95.3%\n",
            "Optimization Iteration:   2701, Training Accuracy:  98.4%\n",
            "Optimization Iteration:   2801, Training Accuracy:  95.3%\n",
            "Optimization Iteration:   2901, Training Accuracy: 100.0%\n",
            "Optimization Iteration:   3001, Training Accuracy:  95.3%\n",
            "Optimization Iteration:   3101, Training Accuracy:  92.2%\n",
            "Optimization Iteration:   3201, Training Accuracy:  98.4%\n",
            "Optimization Iteration:   3301, Training Accuracy:  96.9%\n",
            "Optimization Iteration:   3401, Training Accuracy:  96.9%\n",
            "Optimization Iteration:   3501, Training Accuracy:  96.9%\n",
            "Optimization Iteration:   3601, Training Accuracy:  98.4%\n",
            "Optimization Iteration:   3701, Training Accuracy:  96.9%\n",
            "Optimization Iteration:   3801, Training Accuracy: 100.0%\n",
            "Optimization Iteration:   3901, Training Accuracy:  96.9%\n",
            "Optimization Iteration:   4001, Training Accuracy:  98.4%\n",
            "Optimization Iteration:   4101, Training Accuracy: 100.0%\n",
            "Optimization Iteration:   4201, Training Accuracy: 100.0%\n",
            "Optimization Iteration:   4301, Training Accuracy: 100.0%\n",
            "Optimization Iteration:   4401, Training Accuracy:  98.4%\n",
            "Optimization Iteration:   4501, Training Accuracy: 100.0%\n",
            "Optimization Iteration:   4601, Training Accuracy:  98.4%\n",
            "Optimization Iteration:   4701, Training Accuracy: 100.0%\n",
            "Optimization Iteration:   4801, Training Accuracy:  95.3%\n",
            "Optimization Iteration:   4901, Training Accuracy:  95.3%\n",
            "Optimization Iteration:   5001, Training Accuracy:  95.3%\n",
            "Optimization Iteration:   5101, Training Accuracy:  98.4%\n",
            "Optimization Iteration:   5201, Training Accuracy: 100.0%\n",
            "Optimization Iteration:   5301, Training Accuracy: 100.0%\n",
            "Optimization Iteration:   5401, Training Accuracy: 100.0%\n",
            "Optimization Iteration:   5501, Training Accuracy: 100.0%\n",
            "Optimization Iteration:   5601, Training Accuracy:  96.9%\n",
            "Optimization Iteration:   5701, Training Accuracy: 100.0%\n",
            "Optimization Iteration:   5801, Training Accuracy:  95.3%\n",
            "Optimization Iteration:   5901, Training Accuracy: 100.0%\n",
            "Optimization Iteration:   6001, Training Accuracy: 100.0%\n",
            "Optimization Iteration:   6101, Training Accuracy: 100.0%\n",
            "Optimization Iteration:   6201, Training Accuracy:  98.4%\n",
            "Optimization Iteration:   6301, Training Accuracy: 100.0%\n",
            "Optimization Iteration:   6401, Training Accuracy: 100.0%\n",
            "Optimization Iteration:   6501, Training Accuracy: 100.0%\n",
            "Optimization Iteration:   6601, Training Accuracy: 100.0%\n",
            "Optimization Iteration:   6701, Training Accuracy:  98.4%\n",
            "Optimization Iteration:   6801, Training Accuracy: 100.0%\n",
            "Optimization Iteration:   6901, Training Accuracy: 100.0%\n",
            "Optimization Iteration:   7001, Training Accuracy:  98.4%\n",
            "Optimization Iteration:   7101, Training Accuracy:  96.9%\n",
            "Optimization Iteration:   7201, Training Accuracy:  98.4%\n",
            "Optimization Iteration:   7301, Training Accuracy:  98.4%\n",
            "Optimization Iteration:   7401, Training Accuracy: 100.0%\n",
            "Optimization Iteration:   7501, Training Accuracy: 100.0%\n",
            "Optimization Iteration:   7601, Training Accuracy:  98.4%\n",
            "Optimization Iteration:   7701, Training Accuracy:  98.4%\n",
            "Optimization Iteration:   7801, Training Accuracy: 100.0%\n",
            "Optimization Iteration:   7901, Training Accuracy:  96.9%\n",
            "Optimization Iteration:   8001, Training Accuracy: 100.0%\n",
            "Optimization Iteration:   8101, Training Accuracy: 100.0%\n",
            "Optimization Iteration:   8201, Training Accuracy:  98.4%\n",
            "Optimization Iteration:   8301, Training Accuracy: 100.0%\n",
            "Optimization Iteration:   8401, Training Accuracy:  98.4%\n",
            "Optimization Iteration:   8501, Training Accuracy: 100.0%\n",
            "Optimization Iteration:   8601, Training Accuracy:  98.4%\n",
            "Optimization Iteration:   8701, Training Accuracy:  96.9%\n",
            "Optimization Iteration:   8801, Training Accuracy: 100.0%\n",
            "Optimization Iteration:   8901, Training Accuracy: 100.0%\n",
            "Optimization Iteration:   9001, Training Accuracy:  96.9%\n",
            "Optimization Iteration:   9101, Training Accuracy: 100.0%\n",
            "Optimization Iteration:   9201, Training Accuracy: 100.0%\n",
            "Optimization Iteration:   9301, Training Accuracy: 100.0%\n",
            "Optimization Iteration:   9401, Training Accuracy:  98.4%\n",
            "Optimization Iteration:   9501, Training Accuracy: 100.0%\n",
            "Optimization Iteration:   9601, Training Accuracy: 100.0%\n",
            "Optimization Iteration:   9701, Training Accuracy: 100.0%\n",
            "Optimization Iteration:   9801, Training Accuracy:  95.3%\n",
            "Optimization Iteration:   9901, Training Accuracy:  98.4%\n",
            "Time usage: 0:00:43\n"
          ],
          "name": "stdout"
        }
      ]
    },
    {
      "cell_type": "code",
      "metadata": {
        "id": "8UFYOydfMZH2",
        "colab_type": "code",
        "colab": {
          "base_uri": "https://localhost:8080/",
          "height": 743
        },
        "outputId": "66664129-ad2b-4eaf-adb8-db01291815b5"
      },
      "source": [
        "print_test_accuracy(show_example_errors=True,\n",
        "                    show_confusion_matrix=True)\n"
      ],
      "execution_count": 96,
      "outputs": [
        {
          "output_type": "stream",
          "text": [
            "Accuracy on Test-Set: 98.4% (9840 / 10000)\n",
            "Example errors:\n"
          ],
          "name": "stdout"
        },
        {
          "output_type": "display_data",
          "data": {
            "image/png": "[encoded data removed]",
            "text/plain": [
              "<Figure size 432x288 with 9 Axes>"
            ]
          },
          "metadata": {
            "tags": []
          }
        },
        {
          "output_type": "stream",
          "text": [
            "Confusion Matrix:\n",
            "[[ 974    0    0    0    0    1    1    1    3    0]\n",
            " [   0 1128    2    0    1    0    2    0    2    0]\n",
            " [   2    2 1018    0    1    0    0    2    7    0]\n",
            " [   1    0    4  990    0    5    0    1    9    0]\n",
            " [   0    0    0    0  981    0    0    0    1    0]\n",
            " [   2    0    0    4    0  875    3    0    6    2]\n",
            " [   6    3    0    0   10    4  932    0    3    0]\n",
            " [   1    1   11    3    0    0    0 1001    4    7]\n",
            " [   4    0    1    0    1    0    0    2  965    1]\n",
            " [   1    5    0    0   14    4    0    4    5  976]]\n"
          ],
          "name": "stdout"
        },
        {
          "output_type": "display_data",
          "data": {
            "image/png": "[encoded data removed]",
            "text/plain": [
              "<Figure size 288x288 with 2 Axes>"
            ]
          },
          "metadata": {
            "tags": []
          }
        }
      ]
    },
    {
      "cell_type": "code",
      "metadata": {
        "id": "5kbsmU0SMk8d",
        "colab_type": "code",
        "colab": {}
      },
      "source": [
        ""
      ],
      "execution_count": 0,
      "outputs": []
    }
  ]
}