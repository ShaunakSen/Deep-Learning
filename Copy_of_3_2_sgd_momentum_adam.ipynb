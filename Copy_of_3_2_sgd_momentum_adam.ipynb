{
  "nbformat": 4,
  "nbformat_minor": 0,
  "metadata": {
    "colab": {
      "name": "Copy of 3_2_sgd_momentum_adam.ipynb",
      "version": "0.3.2",
      "provenance": [],
      "collapsed_sections": [],
      "include_colab_link": true
    },
    "kernelspec": {
      "display_name": "Python 3",
      "language": "python",
      "name": "python3"
    }
  },
  "cells": [
    {
      "cell_type": "markdown",
      "metadata": {
        "id": "view-in-github",
        "colab_type": "text"
      },
      "source": [
        "<a href=\"https://colab.research.google.com/github/ShaunakSen/Deep-Learning/blob/master/Copy_of_3_2_sgd_momentum_adam.ipynb\" target=\"_parent\"><img src=\"https://colab.research.google.com/assets/colab-badge.svg\" alt=\"Open In Colab\"/></a>"
      ]
    },
    {
      "metadata": {
        "deletable": false,
        "editable": false,
        "nbgrader": {
          "checksum": "76f331e42b18f90c2798827fd09f7916",
          "grade": false,
          "grade_id": "cell-64f625d2f2a95421",
          "locked": true,
          "schema_version": 1,
          "solution": false
        },
        "id": "Lds6P7gkDOJ0",
        "colab_type": "text"
      },
      "cell_type": "markdown",
      "source": [
        "# Part 2: Stochastic Gradient Descent, Momentum, and Adam"
      ]
    },
    {
      "metadata": {
        "deletable": false,
        "editable": false,
        "nbgrader": {
          "checksum": "7f0ff2c2c93f9726d6df73febe04ee97",
          "grade": false,
          "grade_id": "cell-4298e9d3fced7f34",
          "locked": true,
          "schema_version": 1,
          "solution": false
        },
        "id": "5lIB5xINDOJ3",
        "colab_type": "text"
      },
      "cell_type": "markdown",
      "source": [
        "### For this part of the lab, using the same data and setup as in Part 1, compare how stochastic gradient descent (SGD), SGD with momentum, and ADAM will perform. You are free to write all of the code on your own, or if you prefer, you can fill in the missing sections in the code below."
      ]
    },
    {
      "metadata": {
        "deletable": false,
        "editable": false,
        "nbgrader": {
          "checksum": "d1c4e30f2dcd1eaf1c6aa91f689bf6d7",
          "grade": false,
          "grade_id": "cell-d5a58ae230138c8a",
          "locked": true,
          "schema_version": 1,
          "solution": false
        },
        "id": "1WrKKVdfDOJ7",
        "colab_type": "text"
      },
      "cell_type": "markdown",
      "source": [
        "### Start by reusing some of the functions you have coded for Part 1 to compute the hypothesis, the gradient of the cost function, and the cost function. This code will then be used by the next section of the workbook."
      ]
    },
    {
      "metadata": {
        "deletable": false,
        "nbgrader": {
          "checksum": "14db73c902e1aba6fd752b6e28234498",
          "grade": true,
          "grade_id": "cell-f09153a723d1bb21",
          "locked": false,
          "points": 0,
          "schema_version": 1,
          "solution": true
        },
        "id": "hsivd4EsDOJ9",
        "colab_type": "code",
        "colab": {
          "base_uri": "https://localhost:8080/",
          "height": 361
        },
        "outputId": "f8e48e29-59e8-4ae0-dd53-04b4c8316a0c"
      },
      "cell_type": "code",
      "source": [
        "import torch\n",
        "import numpy as np\n",
        "import matplotlib.pyplot as plt\n",
        "\n",
        "## generate M data points roughly forming a line (noise added)\n",
        "M = 50\n",
        "theta_true = torch.Tensor([[0.5], [2]])\n",
        "\n",
        "X = 10 * torch.rand(M, 2) - 5\n",
        "X[:, 1] = 1.0\n",
        "\n",
        "y = torch.mm(X, theta_true) + 0.3 * torch.randn(M, 1)\n",
        "\n",
        "plt.scatter(X[:,0].numpy(), y.numpy().reshape(1,M)[0]);\n",
        "plt.xlabel(\"X\");\n",
        "plt.ylabel(\"y\");\n",
        "\n",
        "## hypothesis computes $h_theta$\n",
        "def hypothesis(theta, X):\n",
        "    # YOUR CODE HERE\n",
        "    \n",
        "    return X.mm(theta)\n",
        "  \n",
        "    \n",
        "    # raise NotImplementedError()\n",
        "\n",
        "## grad_cost_func computes the gradient of J for linear regression given J is the MSE \n",
        "def grad_cost_func(theta, X, y): \n",
        "    # YOUR CODE HERE\n",
        "    \n",
        "    M = X.shape[0]\n",
        "    \n",
        "    grad = (1/M) * X.t().mm(hypothesis(theta, X) - y)\n",
        "    \n",
        "    # raise NotImplementedError()\n",
        "    \n",
        "    return grad\n",
        "\n",
        "## cost_func computes the cost function J\n",
        "def cost_func(theta, X, y): \n",
        "    \"\"\"\n",
        "    This func should accept a matrix where each row is a value of theta_0 and theta_1\n",
        "    \n",
        "    It should return a list of losses for such rows\n",
        "    \n",
        "    cost_func(this_theta,X,y)[0] <- only one loss value comes as we are computing loss for only one theta\n",
        "    \n",
        "    J_grid = cost_func(theta_grid.t(), X, y) : 100 loss values for each pair of theta value from theta_grid()\n",
        "    \n",
        "    This will help us plot the fig in RHS (for 100 vals of theta_1 what was the loss)\n",
        "    \n",
        "    \"\"\"\n",
        "\n",
        "    M = X.shape[0]\n",
        "    \n",
        "    # print (theta)\n",
        "    \n",
        "    # print(theta.shape)\n",
        "    \n",
        "    loss_values = []\n",
        "    number_of_thetas = theta.shape[1]\n",
        "    \n",
        "    # for each theta pair compute the loss\n",
        "    \n",
        "    for i in range(number_of_thetas):\n",
        "      theta_value = theta[:,i].reshape(2,1)      \n",
        "     \n",
        "      h_theta = hypothesis(theta_value, X)\n",
        "      \n",
        "      loss = (1/(2*M)) * ((h_theta-y).t().mm(h_theta-y))\n",
        "      loss = loss.item()\n",
        "      loss_values.append(loss)\n",
        "    \n",
        "    \n",
        "    \n",
        "    \n",
        "    return loss_values"
      ],
      "execution_count": 5,
      "outputs": [
        {
          "output_type": "display_data",
          "data": {
            "image/png": "[encoded data removed]",
            "text/plain": [
              "<Figure size 576x396 with 1 Axes>"
            ]
          },
          "metadata": {
            "tags": []
          }
        }
      ]
    },
    {
      "metadata": {
        "deletable": false,
        "editable": false,
        "nbgrader": {
          "checksum": "34e932803ed631e6d14a1f09103b98c2",
          "grade": false,
          "grade_id": "cell-4f05371072d188fa",
          "locked": true,
          "schema_version": 1,
          "solution": false
        },
        "id": "sFMw-ZPnDOKD",
        "colab_type": "text"
      },
      "cell_type": "markdown",
      "source": [
        "## Now we'd like to compare how stochastic gradient descent (SGD), SGD with momentum, and ADAM will run over weight updates. Complete the defined functions below and make sure to add the parameters which may need to be passed into the functions as well. Plot the weight updates over the contour plot using varying colours. Note, for clarity, you may only want to plot some of the updates."
      ]
    },
    {
      "metadata": {
        "id": "DK5IxhB_ebXn",
        "colab_type": "code",
        "colab": {
          "base_uri": "https://localhost:8080/",
          "height": 34
        },
        "outputId": "ac3b0380-b879-471d-b6bc-3e9569608b95"
      },
      "cell_type": "code",
      "source": [
        "y.shape"
      ],
      "execution_count": 23,
      "outputs": [
        {
          "output_type": "execute_result",
          "data": {
            "text/plain": [
              "torch.Size([50, 1])"
            ]
          },
          "metadata": {
            "tags": []
          },
          "execution_count": 23
        }
      ]
    },
    {
      "metadata": {
        "deletable": false,
        "nbgrader": {
          "checksum": "dc258f32732e143ee8c8ad9b25b34096",
          "grade": true,
          "grade_id": "cell-5189819c97d93617",
          "locked": false,
          "points": 10,
          "schema_version": 1,
          "solution": true
        },
        "id": "Z3_XuhZLDOKE",
        "colab_type": "code",
        "colab": {
          "base_uri": "https://localhost:8080/",
          "height": 90
        },
        "outputId": "b1c2b744-b20d-46fa-cdb9-8befb4c2c30c"
      },
      "cell_type": "code",
      "source": [
        "## The weight update computed using the ADAM optimisation algorithm\n",
        "def weightupdate_adam(count, X, y):\n",
        "    # YOUR CODE HERE\n",
        "    raise NotImplementedError()\n",
        "\n",
        "## The weight update computed using SGD + momentum\n",
        "def weightupdate_sgd_momentum(count, X, y):\n",
        "    # YOUR CODE HERE\n",
        "    raise NotImplementedError()\n",
        "\n",
        "## The weight updated computed using SGD\n",
        "def weigthupdate_sgd(count, X, y):\n",
        "    # YOUR CODE HERE\n",
        "    raise NotImplementedError()\n",
        "\n",
        "N = 200\n",
        "beta_1 = 0.9\n",
        "beta_2 = 0.999\n",
        "alpha = 0.01\n",
        "\n",
        "theta_0 = torch.Tensor([[2],[4]]) #initialise\n",
        "\n",
        "# Write the code that will call of the optimisation update functions and compute weight updates for each individual data point over N iterations.\n",
        "\n",
        "# YOUR CODE HERE\n",
        "\n",
        "\n",
        "theta_0_vals = np.linspace(-2,4,100)\n",
        "theta_1_vals = np.linspace(0,4,100)\n",
        "# theta = torch.Tensor(len(theta_0_vals),2)\n",
        "\n",
        "theta_0 = torch.Tensor([[0.0], [2.0]]) #initialise \n",
        "\n",
        "theta = torch.Tensor(2,N,M)\n",
        "\n",
        "last_theta = theta_0\n",
        "\n",
        "for j in range(N):\n",
        "  # for each iteration\n",
        "  for index in range(X.shape[0]):\n",
        "    # for each data pt\n",
        "    x_data = X[index].reshape(1,2)\n",
        "    y_data = y[index].reshape(1,1)\n",
        "    # print(x_data.shape)\n",
        "    grad = grad_cost_func(last_theta, x_data, y_data)\n",
        "    this_theta = last_theta - alpha*grad\n",
        "    last_theta = this_theta\n",
        "    \n",
        "print(last_theta)\n",
        "    \n",
        "  \n",
        "  \n",
        "\n",
        "\n",
        "\"\"\"\n",
        "\n",
        "# Compute the value of the cost function, J, over all the thetas in order to plot the contour below.\n",
        "# YOUR CODE HERE\n",
        "raise NotImplementedError()\n",
        "\n",
        "xc,yc = np.meshgrid(theta_0_vals, theta_1_vals)\n",
        "contours = plt.contour(xc, yc, J, 20)\n",
        "\n",
        "# Now plot the output of SGD, momentum and Adam all on the same plot for comparison\n",
        "# YOUR CODE HERE\n",
        "raise NotImplementedError()\n",
        "\n",
        "\"\"\""
      ],
      "execution_count": 30,
      "outputs": [
        {
          "output_type": "stream",
          "text": [
            "tensor([[0.5562],\n",
            "        [1.9831]])\n"
          ],
          "name": "stdout"
        },
        {
          "output_type": "execute_result",
          "data": {
            "text/plain": [
              "'\\n\\n# Compute the value of the cost function, J, over all the thetas in order to plot the contour below.\\n# YOUR CODE HERE\\nraise NotImplementedError()\\n\\nxc,yc = np.meshgrid(theta_0_vals, theta_1_vals)\\ncontours = plt.contour(xc, yc, J, 20)\\n\\n# Now plot the output of SGD, momentum and Adam all on the same plot for comparison\\n# YOUR CODE HERE\\nraise NotImplementedError()\\n\\n'"
            ]
          },
          "metadata": {
            "tags": []
          },
          "execution_count": 30
        }
      ]
    },
    {
      "metadata": {
        "id": "uDuQi-T1DOKK",
        "colab_type": "code",
        "colab": {}
      },
      "cell_type": "code",
      "source": [
        ""
      ],
      "execution_count": 0,
      "outputs": []
    }
  ]
}