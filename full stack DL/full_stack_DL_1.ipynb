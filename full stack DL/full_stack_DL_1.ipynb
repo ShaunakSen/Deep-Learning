{
 "cells": [
  {
   "cell_type": "markdown",
   "metadata": {},
   "source": [
    "## Full Stack DL\n",
    "\n",
    "> Notes on course by Neuralearn.ai - https://www.youtube.com/playlist?list=PL2L83ZcMO-5O7zNycUkS5WLgr33J3QxMK\n",
    "\n",
    "---"
   ]
  },
  {
   "cell_type": "markdown",
   "metadata": {},
   "source": [
    "### Basics"
   ]
  },
  {
   "cell_type": "code",
   "execution_count": null,
   "metadata": {},
   "outputs": [],
   "source": [
    "import numpy as np\n",
    "import tensorflow as tf"
   ]
  },
  {
   "cell_type": "code",
   "execution_count": 5,
   "metadata": {},
   "outputs": [],
   "source": [
    "tf.random.set_seed(13)"
   ]
  },
  {
   "cell_type": "code",
   "execution_count": null,
   "metadata": {
    "collapsed": false,
    "inputHidden": false,
    "outputHidden": false
   },
   "outputs": [],
   "source": [
    "tf.AggregationMethod("
   ]
  },
  {
   "cell_type": "code",
   "execution_count": 3,
   "metadata": {},
   "outputs": [
    {
     "name": "stdout",
     "output_type": "stream",
     "text": [
      "tf.Tensor([7.508 7.832 6.434], shape=(3,), dtype=float16)\n"
     ]
    }
   ],
   "source": [
    "print (tf.random.uniform(shape=(3, ), minval=0, maxval=9, dtype=tf.float16))"
   ]
  },
  {
   "cell_type": "code",
   "execution_count": 4,
   "metadata": {},
   "outputs": [
    {
     "name": "stdout",
     "output_type": "stream",
     "text": [
      "tf.Tensor(4, shape=(), dtype=int32)\n",
      "tf.Tensor([ True  True False], shape=(3,), dtype=bool)\n",
      "tf.Tensor([b'hello world' b'hi '], shape=(2,), dtype=string)\n"
     ]
    }
   ],
   "source": [
    "tensor_zero_d = tf.constant(4)\n",
    "print(tensor_zero_d)\n",
    "tensor_bool = tf.constant([True,True,False])\n",
    "print(tensor_bool)\n",
    "tensor_string = tf.constant([\"hello world\",\"hi \"])\n",
    "print(tensor_string)"
   ]
  },
  {
   "cell_type": "code",
   "execution_count": 5,
   "metadata": {},
   "outputs": [
    {
     "name": "stdout",
     "output_type": "stream",
     "text": [
      "tf.Tensor([ 2.  0. -3.  8. 90.], shape=(5,), dtype=float32)\n",
      "tf.Tensor([ True False  True  True  True], shape=(5,), dtype=bool)\n"
     ]
    }
   ],
   "source": [
    "tensor_one_d = tf.constant([2,0.,-3,8,90],dtype=tf.float32)\n",
    "casted_tensor_one_d = tf.cast(tensor_one_d,dtype=tf.bool) # negative values also get casted to True\n",
    "print(tensor_one_d)\n",
    "print(casted_tensor_one_d)"
   ]
  },
  {
   "cell_type": "code",
   "execution_count": 6,
   "metadata": {},
   "outputs": [
    {
     "name": "stdout",
     "output_type": "stream",
     "text": [
      "tf.Tensor(\n",
      "[[ 1  2  0]\n",
      " [ 3  5 -1]\n",
      " [ 1  5  6]\n",
      " [ 2  3  8]], shape=(4, 3), dtype=int32)\n"
     ]
    }
   ],
   "source": [
    "tensor_two_d = tf.constant([\n",
    "    [1,2,0],\n",
    "    [3,5,-1],\n",
    "    [1,5,6],\n",
    "    [2,3,8]\n",
    "])\n",
    "\n",
    "print (tensor_two_d)"
   ]
  },
  {
   "cell_type": "markdown",
   "metadata": {},
   "source": [
    "A 2D tesnor is made up of stacking several 1D tensors\n",
    "\n",
    "So the way to understand the shape:\n",
    "- how many 1d tesnors? - 4\n",
    "- within each 1D tensor, how many 0D tensors? - 3\n",
    "\n",
    "So shape is `4,3`"
   ]
  },
  {
   "cell_type": "code",
   "execution_count": 7,
   "metadata": {},
   "outputs": [
    {
     "name": "stdout",
     "output_type": "stream",
     "text": [
      "tf.Tensor(\n",
      "[[[ 1  2  0]\n",
      "  [ 3  5 -1]\n",
      "  [ 1  5  6]\n",
      "  [ 2  3  8]]\n",
      "\n",
      " [[ 1  2  0]\n",
      "  [ 3  5 -1]\n",
      "  [ 1  5  6]\n",
      "  [ 2  3  8]]], shape=(2, 4, 3), dtype=int32)\n"
     ]
    }
   ],
   "source": [
    "tensor_three_d = tf.constant([\n",
    "    [\n",
    "        [1,2,0],\n",
    "        [3,5,-1],\n",
    "        [1,5,6],\n",
    "        [2,3,8]\n",
    "    ],\n",
    "\n",
    "    [\n",
    "        [1,2,0],\n",
    "        [3,5,-1],\n",
    "        [1,5,6],\n",
    "        [2,3,8]\n",
    "    ]\n",
    "])\n",
    "\n",
    "print (tensor_three_d)"
   ]
  },
  {
   "cell_type": "markdown",
   "metadata": {},
   "source": [
    "- 2 2D tensors\n",
    "- each contains 4 1D tensor\n",
    "- each contains 3 0D tensors\n",
    "\n",
    "so shape `(2,4,3)`"
   ]
  },
  {
   "cell_type": "code",
   "execution_count": 8,
   "metadata": {},
   "outputs": [
    {
     "name": "stdout",
     "output_type": "stream",
     "text": [
      "(2, 3)\n",
      "tf.Tensor(2, shape=(), dtype=int32)\n"
     ]
    }
   ],
   "source": [
    "matrix = tf.constant([[1, 2, 3], [1, 2, 3]])  # Rank-2 tensor\n",
    "print (matrix.shape)\n",
    "print(tf.rank(matrix))  # Output: 2"
   ]
  },
  {
   "cell_type": "markdown",
   "metadata": {},
   "source": [
    "Random number generators:"
   ]
  },
  {
   "cell_type": "code",
   "execution_count": 9,
   "metadata": {},
   "outputs": [],
   "source": [
    "g = tf.random.Generator.from_seed(seed=13)"
   ]
  },
  {
   "cell_type": "code",
   "execution_count": 10,
   "metadata": {},
   "outputs": [
    {
     "data": {
      "text/plain": [
       "<tf.Tensor: shape=(2, 3), dtype=float32, numpy=\n",
       "array([[0.7452506 , 0.41762006, 0.8173511 ],\n",
       "       [0.20117116, 0.6457157 , 0.16484237]], dtype=float32)>"
      ]
     },
     "execution_count": 10,
     "metadata": {},
     "output_type": "execute_result"
    }
   ],
   "source": [
    "g.uniform(shape=(2,3))"
   ]
  },
  {
   "cell_type": "code",
   "execution_count": 11,
   "metadata": {},
   "outputs": [
    {
     "data": {
      "text/plain": [
       "<tf.Tensor: shape=(2, 3), dtype=float32, numpy=\n",
       "array([[0.9882078 , 0.76806545, 0.25653362],\n",
       "       [0.7027086 , 0.1989007 , 0.72429776]], dtype=float32)>"
      ]
     },
     "execution_count": 11,
     "metadata": {},
     "output_type": "execute_result"
    }
   ],
   "source": [
    "g.uniform(shape=(2,3))"
   ]
  },
  {
   "cell_type": "code",
   "execution_count": 12,
   "metadata": {},
   "outputs": [
    {
     "data": {
      "text/plain": [
       "<tf.Tensor: shape=(2, 2), dtype=uint8, numpy=\n",
       "array([[1, 2],\n",
       "       [3, 4]], dtype=uint8)>"
      ]
     },
     "execution_count": 12,
     "metadata": {},
     "output_type": "execute_result"
    }
   ],
   "source": [
    "tf.constant([[1,2], [3,4]], dtype=tf.uint8)"
   ]
  },
  {
   "cell_type": "code",
   "execution_count": 13,
   "metadata": {},
   "outputs": [
    {
     "name": "stdout",
     "output_type": "stream",
     "text": [
      "(1, 6)\n",
      "(3, 1)\n"
     ]
    }
   ],
   "source": [
    "x_1 = tf.constant([[5,3,6,6,4,6]], dtype = tf.float32)\n",
    "x_2 = tf.constant([[7], [5], [3]], dtype = tf.float32)\n",
    "\n",
    "print(x_1.shape)\n",
    "print(x_2.shape)\n",
    "# print(tf.math.multiply(x_1, x_2))"
   ]
  },
  {
   "cell_type": "markdown",
   "metadata": {},
   "source": [
    "This basically works by broadcasting:\n",
    "\n",
    "![](https://imgur.com/SiAj5R1.png)"
   ]
  },
  {
   "cell_type": "code",
   "execution_count": 14,
   "metadata": {},
   "outputs": [
    {
     "name": "stdout",
     "output_type": "stream",
     "text": [
      "tf.Tensor(\n",
      "[[35. 21. 42. 42. 28. 42.]\n",
      " [25. 15. 30. 30. 20. 30.]\n",
      " [15.  9. 18. 18. 12. 18.]], shape=(3, 6), dtype=float32)\n"
     ]
    }
   ],
   "source": [
    "print(tf.math.multiply(x_1, x_2))"
   ]
  },
  {
   "cell_type": "code",
   "execution_count": 15,
   "metadata": {},
   "outputs": [
    {
     "name": "stdout",
     "output_type": "stream",
     "text": [
      "tf.Tensor([2 2 1], shape=(3,), dtype=int64)\n"
     ]
    }
   ],
   "source": [
    "x_argmax = tf.constant([[2, 20, 30, 3, 6],\n",
    "                        [3, 11, 16, 1, 8],\n",
    "                        [14, 45, 23, 5, 27]])\n",
    "\n",
    "print (tf.argmax(x_argmax, axis=1))"
   ]
  },
  {
   "cell_type": "code",
   "execution_count": 16,
   "metadata": {},
   "outputs": [
    {
     "name": "stdout",
     "output_type": "stream",
     "text": [
      "tf.Tensor(0, shape=(), dtype=int64)\n"
     ]
    }
   ],
   "source": [
    "x_argmax = tf.constant([200, 120, 130, 3, 6])\n",
    "print(tf.math.argmax(x_argmax))"
   ]
  },
  {
   "cell_type": "code",
   "execution_count": 17,
   "metadata": {},
   "outputs": [
    {
     "data": {
      "text/plain": [
       "<tf.Tensor: shape=(2, 2), dtype=int32, numpy=\n",
       "array([[ 8,  1],\n",
       "       [ 3, 81]], dtype=int32)>"
      ]
     },
     "execution_count": 17,
     "metadata": {},
     "output_type": "execute_result"
    }
   ],
   "source": [
    "x = tf.constant([[2, 2], [3, 3]])\n",
    "y = tf.constant([[3, 0], [1, 4]])\n",
    "tf.pow(x, y) # again works by broadcasting "
   ]
  },
  {
   "cell_type": "markdown",
   "metadata": {},
   "source": [
    "`reduce_{stat}` computes {stat} across a certain dimension"
   ]
  },
  {
   "cell_type": "code",
   "execution_count": 18,
   "metadata": {},
   "outputs": [
    {
     "name": "stdout",
     "output_type": "stream",
     "text": [
      "(4, 3)\n"
     ]
    }
   ],
   "source": [
    "tensor_two_d = tf.constant([[1,-2,0],\n",
    "                            [3,5,100],\n",
    "                            [1,5,6],\n",
    "                            [2,3,8]], dtype = tf.float16)\n",
    "print(tensor_two_d.shape)"
   ]
  },
  {
   "cell_type": "code",
   "execution_count": 19,
   "metadata": {},
   "outputs": [
    {
     "data": {
      "text/plain": [
       "<tf.Tensor: shape=(1, 3), dtype=float16, numpy=array([[  7.,  11., 114.]], dtype=float16)>"
      ]
     },
     "execution_count": 19,
     "metadata": {},
     "output_type": "execute_result"
    }
   ],
   "source": [
    "tf.math.reduce_sum(tensor_two_d, axis=0, keepdims=True) # keepdims preserves the initial no of dimensions"
   ]
  },
  {
   "cell_type": "code",
   "execution_count": 20,
   "metadata": {},
   "outputs": [
    {
     "data": {
      "text/plain": [
       "<tf.Tensor: shape=(2,), dtype=int32, numpy=array([7, 6], dtype=int32)>"
      ]
     },
     "execution_count": 20,
     "metadata": {},
     "output_type": "execute_result"
    }
   ],
   "source": [
    "x = tf.constant([1,4,1,2,6,7,3])\n",
    "tf.math.top_k(x, k=2).values"
   ]
  },
  {
   "cell_type": "code",
   "execution_count": 21,
   "metadata": {},
   "outputs": [
    {
     "data": {
      "text/plain": [
       "<tf.Tensor: shape=(2,), dtype=int32, numpy=array([5, 4], dtype=int32)>"
      ]
     },
     "execution_count": 21,
     "metadata": {},
     "output_type": "execute_result"
    }
   ],
   "source": [
    "tf.math.top_k(x, k=2).indices"
   ]
  },
  {
   "cell_type": "code",
   "execution_count": 22,
   "metadata": {},
   "outputs": [
    {
     "data": {
      "text/plain": [
       "<tf.Tensor: shape=(4, 2), dtype=float16, numpy=\n",
       "array([[  1.,   0.],\n",
       "       [100.,   5.],\n",
       "       [  6.,   5.],\n",
       "       [  8.,   3.]], dtype=float16)>"
      ]
     },
     "execution_count": 22,
     "metadata": {},
     "output_type": "execute_result"
    }
   ],
   "source": [
    "tf.math.top_k(tensor_two_d, k=2).values"
   ]
  },
  {
   "cell_type": "code",
   "execution_count": 23,
   "metadata": {},
   "outputs": [
    {
     "data": {
      "text/plain": [
       "<tf.Tensor: shape=(4, 2), dtype=int32, numpy=\n",
       "array([[0, 2],\n",
       "       [2, 1],\n",
       "       [2, 1],\n",
       "       [2, 1]], dtype=int32)>"
      ]
     },
     "execution_count": 23,
     "metadata": {},
     "output_type": "execute_result"
    }
   ],
   "source": [
    "tf.math.top_k(tensor_two_d, k=2).indices"
   ]
  },
  {
   "cell_type": "markdown",
   "metadata": {},
   "source": [
    "### Linalg"
   ]
  },
  {
   "cell_type": "code",
   "execution_count": 24,
   "metadata": {},
   "outputs": [
    {
     "name": "stdout",
     "output_type": "stream",
     "text": [
      "(1, 6)\n",
      "(3, 1)\n",
      "tf.Tensor(\n",
      "[[35. 21. 42. 42. 28. 42.]\n",
      " [25. 15. 30. 30. 20. 30.]\n",
      " [15.  9. 18. 18. 12. 18.]], shape=(3, 6), dtype=float32)\n"
     ]
    }
   ],
   "source": [
    "x_1 = tf.constant([[5,3,6,6,4,6]], dtype = tf.float32)\n",
    "x_2 = tf.constant([[7], [5], [3]], dtype = tf.float32)\n",
    "\n",
    "print(x_1.shape)\n",
    "print(x_2.shape)\n",
    "print(tf.math.multiply(x_1, x_2))"
   ]
  },
  {
   "cell_type": "code",
   "execution_count": null,
   "metadata": {},
   "outputs": [],
   "source": [
    "tf.linalg.matmul(x_1, x_2) # (will not work - incompatible shapes)"
   ]
  },
  {
   "cell_type": "code",
   "execution_count": 26,
   "metadata": {},
   "outputs": [
    {
     "data": {
      "text/plain": [
       "<tf.Tensor: shape=(3, 6), dtype=float32, numpy=\n",
       "array([[35., 21., 42., 42., 28., 42.],\n",
       "       [25., 15., 30., 30., 20., 30.],\n",
       "       [15.,  9., 18., 18., 12., 18.]], dtype=float32)>"
      ]
     },
     "execution_count": 26,
     "metadata": {},
     "output_type": "execute_result"
    }
   ],
   "source": [
    "x_1 * x_2 # normal mul (element wise)"
   ]
  },
  {
   "cell_type": "code",
   "execution_count": null,
   "metadata": {},
   "outputs": [],
   "source": [
    "x_1 @ x_2 # mat mul (will not work - incompatible shapes)"
   ]
  },
  {
   "cell_type": "markdown",
   "metadata": {},
   "source": [
    "#### 3D matrix multiplication\n",
    "\n",
    "- think of it like a batch mat mul\n",
    "\n"
   ]
  },
  {
   "cell_type": "code",
   "execution_count": 36,
   "metadata": {},
   "outputs": [
    {
     "name": "stdout",
     "output_type": "stream",
     "text": [
      "tf.Tensor(\n",
      "[[[ 1  2  3]\n",
      "  [ 4  5  6]]\n",
      "\n",
      " [[ 7  8  9]\n",
      "  [10 11 12]]], shape=(2, 2, 3), dtype=int32)\n"
     ]
    }
   ],
   "source": [
    "a = tf.constant(np.arange(1, 13, dtype=np.int32), shape=[2, 2, 3])\n",
    "\n",
    "print (a)"
   ]
  },
  {
   "cell_type": "code",
   "execution_count": 37,
   "metadata": {},
   "outputs": [
    {
     "name": "stdout",
     "output_type": "stream",
     "text": [
      "tf.Tensor(\n",
      "[[[13 14]\n",
      "  [15 16]\n",
      "  [17 18]]\n",
      "\n",
      " [[19 20]\n",
      "  [21 22]\n",
      "  [23 24]]], shape=(2, 3, 2), dtype=int32)\n"
     ]
    }
   ],
   "source": [
    "b = tf.constant(np.arange(13, 25, dtype=np.int32), shape=[2, 3, 2])\n",
    "print (b)"
   ]
  },
  {
   "cell_type": "markdown",
   "metadata": {},
   "source": [
    "2, (2, 3) x 2, (3, 2) = 2, (2, 3) x (3, 2) = 2, (2, 2)\n",
    "\n",
    "Two 2x3 matrices \n",
    "\n",
    "Two 3x2 matrices\n",
    "\n",
    "Each 2x3 matrix is multiplied with a 3x2 matrix to give a 2x2 matrix"
   ]
  },
  {
   "cell_type": "code",
   "execution_count": 38,
   "metadata": {},
   "outputs": [
    {
     "name": "stdout",
     "output_type": "stream",
     "text": [
      "tf.Tensor(\n",
      "[[[ 94 100]\n",
      "  [229 244]]\n",
      "\n",
      " [[508 532]\n",
      "  [697 730]]], shape=(2, 2, 2), dtype=int32)\n"
     ]
    }
   ],
   "source": [
    "c = tf.matmul(a, b)\n",
    "print (c)"
   ]
  },
  {
   "cell_type": "code",
   "execution_count": 39,
   "metadata": {},
   "outputs": [
    {
     "name": "stdout",
     "output_type": "stream",
     "text": [
      "(1, 3) (3, 2) (2, 4)\n"
     ]
    }
   ],
   "source": [
    "x_1 = tf.constant([[1,2,0]])\n",
    "\n",
    "x_2 = tf.constant([[1,2],\n",
    "                  [3,5],\n",
    "                  [4,5]])\n",
    "\n",
    "x_3 = tf.constant([[1,2,0,2],\n",
    "                  [3,5,-1,2]])\n",
    "\n",
    "\n",
    "print (x_1.shape, x_2.shape, x_3.shape)"
   ]
  },
  {
   "cell_type": "code",
   "execution_count": 42,
   "metadata": {},
   "outputs": [
    {
     "data": {
      "text/plain": [
       "<tf.Tensor: shape=(2, 1), dtype=int32, numpy=\n",
       "array([[ 7],\n",
       "       [12]], dtype=int32)>"
      ]
     },
     "execution_count": 42,
     "metadata": {},
     "output_type": "execute_result"
    }
   ],
   "source": [
    "tf.linalg.matmul(x_2, x_1, transpose_a=True, transpose_b=True) # x_2^T . x_1^T"
   ]
  },
  {
   "cell_type": "code",
   "execution_count": null,
   "metadata": {},
   "outputs": [],
   "source": [
    "tf.linalg.matmul(\n",
    "    x_3, x_2, transpose_a=True, transpose_b=True, adjoint_a=False, adjoint_b=True,\n",
    "    a_is_sparse=False, b_is_sparse=False, output_type=None, name=None\n",
    ")"
   ]
  },
  {
   "cell_type": "markdown",
   "metadata": {},
   "source": [
    "#### band_part The tf.linalg.band_part method in TensorFlow is used to extract or modify the lower and upper triangular parts of a tensor while keeping the rest of the elements intact. It is commonly used in linear algebra operations and can be helpful in various tasks such as masking or manipulating triangular matrices.\n",
    "\n",
    "The band_part method takes three parameters: input, num_lower, and num_upper. Here's what each parameter represents:\n",
    "\n",
    "- input: This is the input tensor you want to apply the band operation to. It can be of any shape and data type.\n",
    "- num_lower: It specifies the number of lower diagonals to keep (including the main diagonal). Diagonals below this number will be set to zero.\n",
    "- num_upper: It specifies the number of upper diagonals to keep (including the main diagonal). Diagonals above this number will be set to zero.\n",
    "\n"
   ]
  },
  {
   "cell_type": "code",
   "execution_count": 47,
   "metadata": {},
   "outputs": [
    {
     "name": "stdout",
     "output_type": "stream",
     "text": [
      "tf.Tensor(\n",
      "[[ 0  1  2  3]\n",
      " [-1  3  1  2]\n",
      " [ 3 -1  2  1]\n",
      " [ 4  5 -1  5]], shape=(4, 4), dtype=int32)\n"
     ]
    }
   ],
   "source": [
    "input_tensor = tf.constant([[ 0,  1,  2, 3],\n",
    "                            [-1,  3,  1, 2],\n",
    "                            [ 3, -1,  2, 1],\n",
    "                            [ 4,  5, -1, 5]])\n",
    "print (input_tensor)"
   ]
  },
  {
   "cell_type": "code",
   "execution_count": 49,
   "metadata": {},
   "outputs": [
    {
     "data": {
      "text/plain": [
       "<tf.Tensor: shape=(4, 4), dtype=int32, numpy=\n",
       "array([[0, 0, 0, 0],\n",
       "       [0, 3, 0, 0],\n",
       "       [0, 0, 2, 0],\n",
       "       [0, 0, 0, 5]], dtype=int32)>"
      ]
     },
     "execution_count": 49,
     "metadata": {},
     "output_type": "execute_result"
    }
   ],
   "source": [
    "tf.linalg.band_part(input_tensor, num_lower=1, num_upper=0) # we keep the main diagonal and the diagonal below it, while zeroing out the upper diagonal. "
   ]
  },
  {
   "cell_type": "code",
   "execution_count": 52,
   "metadata": {},
   "outputs": [
    {
     "data": {
      "text/plain": [
       "<tf.Tensor: shape=(4, 4), dtype=int32, numpy=\n",
       "array([[ 0,  0,  0,  0],\n",
       "       [-1,  3,  0,  0],\n",
       "       [ 3, -1,  2,  0],\n",
       "       [ 0,  5, -1,  5]], dtype=int32)>"
      ]
     },
     "execution_count": 52,
     "metadata": {},
     "output_type": "execute_result"
    }
   ],
   "source": [
    "tf.linalg.band_part(input_tensor, num_lower=2, num_upper=0) # we keep the main diagonal and the 2 diagonals below it, while zeroing out the upper diagonal. "
   ]
  },
  {
   "cell_type": "code",
   "execution_count": 54,
   "metadata": {},
   "outputs": [
    {
     "data": {
      "text/plain": [
       "<tf.Tensor: shape=(4, 4), dtype=int32, numpy=\n",
       "array([[ 0,  1,  0,  0],\n",
       "       [-1,  3,  1,  0],\n",
       "       [ 3, -1,  2,  1],\n",
       "       [ 0,  5, -1,  5]], dtype=int32)>"
      ]
     },
     "execution_count": 54,
     "metadata": {},
     "output_type": "execute_result"
    }
   ],
   "source": [
    "tf.linalg.band_part(input_tensor, num_lower=2, num_upper=1) # we keep the main diagonal and the 2 diagonals below it and 1 diagonal above it"
   ]
  },
  {
   "cell_type": "code",
   "execution_count": 56,
   "metadata": {},
   "outputs": [
    {
     "data": {
      "text/plain": [
       "<tf.Tensor: shape=(4, 4), dtype=int32, numpy=\n",
       "array([[ 0,  0,  0,  0],\n",
       "       [-1,  3,  0,  0],\n",
       "       [ 3, -1,  2,  0],\n",
       "       [ 4,  5, -1,  5]], dtype=int32)>"
      ]
     },
     "execution_count": 56,
     "metadata": {},
     "output_type": "execute_result"
    }
   ],
   "source": [
    "tf.linalg.band_part(input_tensor, num_lower=-1, num_upper=0) # we keep the lower traingular part only"
   ]
  },
  {
   "cell_type": "markdown",
   "metadata": {},
   "source": [
    "#### `expand_dims` and `squeeze`"
   ]
  },
  {
   "cell_type": "code",
   "execution_count": 58,
   "metadata": {},
   "outputs": [
    {
     "data": {
      "text/plain": [
       "TensorShape([4, 4])"
      ]
     },
     "execution_count": 58,
     "metadata": {},
     "output_type": "execute_result"
    }
   ],
   "source": [
    "input_tensor.shape"
   ]
  },
  {
   "cell_type": "code",
   "execution_count": 60,
   "metadata": {},
   "outputs": [
    {
     "data": {
      "text/plain": [
       "TensorShape([1, 4, 4])"
      ]
     },
     "execution_count": 60,
     "metadata": {},
     "output_type": "execute_result"
    }
   ],
   "source": [
    "tf.expand_dims(input_tensor, axis=0).shape"
   ]
  },
  {
   "cell_type": "markdown",
   "metadata": {},
   "source": [
    "`squeeze`: Removes dimensions of size 1 from the shape of a tensor.\n"
   ]
  },
  {
   "cell_type": "code",
   "execution_count": 61,
   "metadata": {},
   "outputs": [
    {
     "data": {
      "text/plain": [
       "TensorShape([1, 4, 4])"
      ]
     },
     "execution_count": 61,
     "metadata": {},
     "output_type": "execute_result"
    }
   ],
   "source": [
    "expanded = tf.expand_dims(input_tensor, axis=0)\n",
    "expanded.shape"
   ]
  },
  {
   "cell_type": "code",
   "execution_count": 62,
   "metadata": {},
   "outputs": [
    {
     "data": {
      "text/plain": [
       "<tf.Tensor: shape=(4, 4), dtype=int32, numpy=\n",
       "array([[ 0,  1,  2,  3],\n",
       "       [-1,  3,  1,  2],\n",
       "       [ 3, -1,  2,  1],\n",
       "       [ 4,  5, -1,  5]], dtype=int32)>"
      ]
     },
     "execution_count": 62,
     "metadata": {},
     "output_type": "execute_result"
    }
   ],
   "source": [
    "tf.squeeze(expanded, axis=0)"
   ]
  },
  {
   "cell_type": "code",
   "execution_count": 74,
   "metadata": {},
   "outputs": [
    {
     "name": "stdout",
     "output_type": "stream",
     "text": [
      "(5,)\n",
      "(1, 5)\n",
      "(1, 1, 5)\n",
      "(1, 1, 1, 5)\n",
      "(1, 1, 1, 1, 5)\n"
     ]
    }
   ],
   "source": [
    "x = tf.constant([1,2,3,4,5])\n",
    "print (x.shape) # 5\n",
    "\n",
    "x = tf.expand_dims(x, axis=0)\n",
    "print (x.shape)\n",
    "\n",
    "x = tf.expand_dims(x, axis=0)\n",
    "print (x.shape)\n",
    "\n",
    "x = tf.expand_dims(x, axis=0)\n",
    "print (x.shape)\n",
    "\n",
    "x = tf.expand_dims(x, axis=0)\n",
    "print (x.shape)"
   ]
  },
  {
   "cell_type": "code",
   "execution_count": 75,
   "metadata": {},
   "outputs": [
    {
     "name": "stdout",
     "output_type": "stream",
     "text": [
      "(1, 1, 1, 1, 5)\n"
     ]
    }
   ],
   "source": [
    "print (x.shape)"
   ]
  },
  {
   "cell_type": "code",
   "execution_count": 76,
   "metadata": {},
   "outputs": [
    {
     "name": "stdout",
     "output_type": "stream",
     "text": [
      "(1, 1, 1, 5)\n",
      "(1, 1, 5)\n",
      "(1, 5)\n",
      "(5,)\n"
     ]
    }
   ],
   "source": [
    "### lets squeeze x back to original\n",
    "\n",
    "for i in range(4):\n",
    "    x = tf.squeeze(x, axis=0)\n",
    "    print (x.shape)"
   ]
  },
  {
   "cell_type": "code",
   "execution_count": 77,
   "metadata": {},
   "outputs": [
    {
     "name": "stdout",
     "output_type": "stream",
     "text": [
      "tf.Tensor([1 2 3 4 5], shape=(5,), dtype=int32)\n"
     ]
    }
   ],
   "source": [
    "print (x)"
   ]
  },
  {
   "cell_type": "markdown",
   "metadata": {},
   "source": [
    "#### `pad` and `gather`"
   ]
  },
  {
   "cell_type": "code",
   "execution_count": 80,
   "metadata": {},
   "outputs": [],
   "source": [
    "t = tf.constant([[1, 2, 3], [4, 5, 6]])\n",
    "paddings = tf.constant([[1, 0,], [2, 1]])\n",
    "# this basically means that the padding is to be applied 1 row up and 0 row below\n",
    "# 2 rows left and 1 row right"
   ]
  },
  {
   "cell_type": "code",
   "execution_count": 81,
   "metadata": {},
   "outputs": [
    {
     "data": {
      "text/plain": [
       "<tf.Tensor: shape=(3, 6), dtype=int32, numpy=\n",
       "array([[0, 0, 0, 0, 0, 0],\n",
       "       [0, 0, 1, 2, 3, 0],\n",
       "       [0, 0, 4, 5, 6, 0]], dtype=int32)>"
      ]
     },
     "execution_count": 81,
     "metadata": {},
     "output_type": "execute_result"
    }
   ],
   "source": [
    "tf.pad(tensor=t, paddings=paddings, mode=\"CONSTANT\")"
   ]
  },
  {
   "cell_type": "code",
   "execution_count": 87,
   "metadata": {},
   "outputs": [
    {
     "data": {
      "text/plain": [
       "TensorShape([1, 6])"
      ]
     },
     "execution_count": 87,
     "metadata": {},
     "output_type": "execute_result"
    }
   ],
   "source": [
    "t = tf.constant([[1, 2, 3, 4, 5, 6]])\n",
    "t.shape"
   ]
  },
  {
   "cell_type": "code",
   "execution_count": 90,
   "metadata": {},
   "outputs": [],
   "source": [
    "paddings = tf.constant([[1, 0], [0, 0]])\n"
   ]
  },
  {
   "cell_type": "code",
   "execution_count": 91,
   "metadata": {},
   "outputs": [
    {
     "data": {
      "text/plain": [
       "<tf.Tensor: shape=(2, 6), dtype=int32, numpy=\n",
       "array([[0, 0, 0, 0, 0, 0],\n",
       "       [1, 2, 3, 4, 5, 6]], dtype=int32)>"
      ]
     },
     "execution_count": 91,
     "metadata": {},
     "output_type": "execute_result"
    }
   ],
   "source": [
    "tf.pad(tensor=t, paddings=paddings, mode=\"CONSTANT\")"
   ]
  },
  {
   "cell_type": "code",
   "execution_count": 93,
   "metadata": {},
   "outputs": [
    {
     "name": "stdout",
     "output_type": "stream",
     "text": [
      "(6,)\n"
     ]
    },
    {
     "data": {
      "text/plain": [
       "<tf.Tensor: shape=(3,), dtype=string, numpy=array([b'p1', b'p2', b'p3'], dtype=object)>"
      ]
     },
     "execution_count": 93,
     "metadata": {},
     "output_type": "execute_result"
    }
   ],
   "source": [
    "t = tf.constant(['p0', 'p1', 'p2', 'p3', 'p4', 'p5'])\n",
    "print(t.shape)\n",
    "t[1:3+1]"
   ]
  },
  {
   "cell_type": "code",
   "execution_count": 94,
   "metadata": {},
   "outputs": [
    {
     "data": {
      "text/plain": [
       "<tf.Tensor: shape=(3,), dtype=string, numpy=array([b'p0', b'p5', b'p3'], dtype=object)>"
      ]
     },
     "execution_count": 94,
     "metadata": {},
     "output_type": "execute_result"
    }
   ],
   "source": [
    "# we can do the same with gather\n",
    "\n",
    "tf.gather(t, [0, 5, 3], axis=0) # axis 0 means 0,5,3 will be selected from 0th axis"
   ]
  },
  {
   "cell_type": "code",
   "execution_count": 96,
   "metadata": {},
   "outputs": [
    {
     "name": "stdout",
     "output_type": "stream",
     "text": [
      "(4, 3)\n"
     ]
    },
    {
     "data": {
      "text/plain": [
       "<tf.Tensor: shape=(2, 3), dtype=float32, numpy=\n",
       "array([[ 0.,  5., 55.],\n",
       "       [ 3.,  1., 21.]], dtype=float32)>"
      ]
     },
     "execution_count": 96,
     "metadata": {},
     "output_type": "execute_result"
    }
   ],
   "source": [
    "params = tf.constant([[3, 1.0,21],\n",
    "                       [1, 3, 88],\n",
    "                       [0, 5, 55],\n",
    "                       [0, 2, 30]])\n",
    "\n",
    "print(params.shape)\n",
    "tf.gather(params, [2, 0], axis = 0) # select 2nd row and 0th row"
   ]
  },
  {
   "cell_type": "code",
   "execution_count": 98,
   "metadata": {},
   "outputs": [
    {
     "name": "stdout",
     "output_type": "stream",
     "text": [
      "(4, 3)\n"
     ]
    },
    {
     "data": {
      "text/plain": [
       "<tf.Tensor: shape=(4, 2), dtype=float32, numpy=\n",
       "array([[21.,  3.],\n",
       "       [88.,  1.],\n",
       "       [55.,  0.],\n",
       "       [30.,  0.]], dtype=float32)>"
      ]
     },
     "execution_count": 98,
     "metadata": {},
     "output_type": "execute_result"
    }
   ],
   "source": [
    "params = tf.constant([[3, 1.0,21],\n",
    "                       [1, 3, 88],\n",
    "                       [0, 5, 55],\n",
    "                       [0, 2, 30]])\n",
    "\n",
    "print(params.shape)\n",
    "tf.gather(params, [2, 0], axis = 1) # select 2nd col and 0th col"
   ]
  },
  {
   "cell_type": "code",
   "execution_count": 99,
   "metadata": {},
   "outputs": [
    {
     "name": "stdout",
     "output_type": "stream",
     "text": [
      "(1, 4, 3)\n"
     ]
    },
    {
     "data": {
      "text/plain": [
       "<tf.Tensor: shape=(2, 4, 3), dtype=float32, numpy=\n",
       "array([[[ 0.,  0.,  0.],\n",
       "        [ 0.,  0.,  0.],\n",
       "        [ 0.,  0.,  0.],\n",
       "        [ 0.,  0.,  0.]],\n",
       "\n",
       "       [[ 3.,  1., 21.],\n",
       "        [ 1.,  3., 88.],\n",
       "        [ 0.,  5., 55.],\n",
       "        [ 0.,  2., 30.]]], dtype=float32)>"
      ]
     },
     "execution_count": 99,
     "metadata": {},
     "output_type": "execute_result"
    }
   ],
   "source": [
    "params = tf.constant([\n",
    "                        [[3, 1.0,21],\n",
    "                       [1, 3, 88],\n",
    "                       [0, 5, 55],\n",
    "                       [0, 2, 30]]\n",
    "                       ])\n",
    "\n",
    "print(params.shape)\n",
    "tf.gather(params, [2, 0], axis = 0) # select 2nd and 0th tensors from 1st axis"
   ]
  },
  {
   "cell_type": "markdown",
   "metadata": {},
   "source": [
    "the shape is 1x4x3, so there are no 2nd tensors in 1st axis - so we have 0s\n",
    "\n",
    "we have a 0th tensor, so that gets filled"
   ]
  },
  {
   "cell_type": "code",
   "execution_count": 100,
   "metadata": {},
   "outputs": [
    {
     "name": "stdout",
     "output_type": "stream",
     "text": [
      "(1, 4, 3)\n"
     ]
    },
    {
     "data": {
      "text/plain": [
       "<tf.Tensor: shape=(1, 2, 3), dtype=float32, numpy=\n",
       "array([[[ 0.,  5., 55.],\n",
       "        [ 3.,  1., 21.]]], dtype=float32)>"
      ]
     },
     "execution_count": 100,
     "metadata": {},
     "output_type": "execute_result"
    }
   ],
   "source": [
    "params = tf.constant([\n",
    "                        [[3, 1.0,21],\n",
    "                       [1, 3, 88],\n",
    "                       [0, 5, 55],\n",
    "                       [0, 2, 30]]\n",
    "                       ])\n",
    "\n",
    "print(params.shape)\n",
    "tf.gather(params, [2, 0], axis = 1) # select 2nd and 0th tensors from 2nd axis"
   ]
  },
  {
   "cell_type": "code",
   "execution_count": 103,
   "metadata": {},
   "outputs": [
    {
     "name": "stdout",
     "output_type": "stream",
     "text": [
      "(2, 4, 3)\n"
     ]
    },
    {
     "data": {
      "text/plain": [
       "<tf.Tensor: shape=(2, 4, 3), dtype=float32, numpy=\n",
       "array([[[ 3.,  1., 21.],\n",
       "        [ 1.,  3., 88.],\n",
       "        [ 0.,  5., 55.],\n",
       "        [ 0.,  2., 30.]],\n",
       "\n",
       "       [[ 0.,  1.,  2.],\n",
       "        [10., 11., 12.],\n",
       "        [20., 21., 22.],\n",
       "        [30., 31., 32.]]], dtype=float32)>"
      ]
     },
     "execution_count": 103,
     "metadata": {},
     "output_type": "execute_result"
    }
   ],
   "source": [
    "params = tf.constant([\n",
    "                      \n",
    "                      [[0, 1.0, 2.0],\n",
    "                       [10.0, 11.0, 12.0],\n",
    "                       [20.0, 21.0, 22.0],\n",
    "                       [30.0, 31.0, 32.0]], \n",
    "                      \n",
    "                      [[3, 1.0,21],\n",
    "                       [1, 3, 88],\n",
    "                       [0, 5, 55],\n",
    "                       [0, 2, 30]]\n",
    "                      \n",
    "                      ])\n",
    "print(params.shape)\n",
    "tf.gather(params, [1, 0], axis = 0)"
   ]
  },
  {
   "cell_type": "code",
   "execution_count": 104,
   "metadata": {},
   "outputs": [
    {
     "name": "stdout",
     "output_type": "stream",
     "text": [
      "(2, 4, 3)\n"
     ]
    },
    {
     "data": {
      "text/plain": [
       "<tf.Tensor: shape=(2, 2, 3), dtype=float32, numpy=\n",
       "array([[[20., 21., 22.],\n",
       "        [ 0.,  1.,  2.]],\n",
       "\n",
       "       [[ 0.,  5., 55.],\n",
       "        [ 3.,  1., 21.]]], dtype=float32)>"
      ]
     },
     "execution_count": 104,
     "metadata": {},
     "output_type": "execute_result"
    }
   ],
   "source": [
    "params = tf.constant([\n",
    "                      \n",
    "                      [[0, 1.0, 2.0],\n",
    "                       [10.0, 11.0, 12.0],\n",
    "                       [20.0, 21.0, 22.0],\n",
    "                       [30.0, 31.0, 32.0]], \n",
    "                      \n",
    "                      [[3, 1.0,21],\n",
    "                       [1, 3, 88],\n",
    "                       [0, 5, 55],\n",
    "                       [0, 2, 30]]\n",
    "                      \n",
    "                      ])\n",
    "print(params.shape)\n",
    "tf.gather(params, [2, 0], axis = 1)"
   ]
  },
  {
   "cell_type": "markdown",
   "metadata": {},
   "source": [
    "Here we are working with 2nd axis\n",
    "\n",
    "There are 2 tensors in the batch, so this will be done for both\n",
    "\n",
    "\n",
    "```\n",
    "for 2nd axis: [2,0]\n",
    "- for the first tensor, [2,0]- [20., 21., 22.],\n",
    "        [ 0.,  1.,  2.]\n",
    "- for 2nd tensor, [2,0] - [[ 0.,  5., 55.],\n",
    "        [ 3.,  1., 21.]]\n",
    "\n",
    "```"
   ]
  },
  {
   "cell_type": "code",
   "execution_count": 105,
   "metadata": {},
   "outputs": [
    {
     "name": "stdout",
     "output_type": "stream",
     "text": [
      "(2, 4, 3)\n"
     ]
    },
    {
     "data": {
      "text/plain": [
       "<tf.Tensor: shape=(2, 4, 2), dtype=float32, numpy=\n",
       "array([[[ 2.,  0.],\n",
       "        [12., 10.],\n",
       "        [22., 20.],\n",
       "        [32., 30.]],\n",
       "\n",
       "       [[21.,  3.],\n",
       "        [88.,  1.],\n",
       "        [55.,  0.],\n",
       "        [30.,  0.]]], dtype=float32)>"
      ]
     },
     "execution_count": 105,
     "metadata": {},
     "output_type": "execute_result"
    }
   ],
   "source": [
    "params = tf.constant([\n",
    "                      \n",
    "                      [[0, 1.0, 2.0],\n",
    "                       [10.0, 11.0, 12.0],\n",
    "                       [20.0, 21.0, 22.0],\n",
    "                       [30.0, 31.0, 32.0]], \n",
    "                      \n",
    "                      [[3, 1.0,21],\n",
    "                       [1, 3, 88],\n",
    "                       [0, 5, 55],\n",
    "                       [0, 2, 30]]\n",
    "                      \n",
    "                      ])\n",
    "print(params.shape)\n",
    "tf.gather(params, [2, 0], axis = 2)"
   ]
  },
  {
   "cell_type": "code",
   "execution_count": null,
   "metadata": {},
   "outputs": [],
   "source": []
  }
 ],
 "metadata": {
  "kernelspec": {
   "display_name": "shaunak_tf",
   "language": "python",
   "name": "python3"
  },
  "language_info": {
   "codemirror_mode": {
    "name": "ipython",
    "version": 3
   },
   "file_extension": ".py",
   "mimetype": "text/x-python",
   "name": "python",
   "nbconvert_exporter": "python",
   "pygments_lexer": "ipython3",
   "version": "3.10.11"
  },
  "nteract": {
   "version": "nteract-on-jupyter@2.1.3"
  }
 },
 "nbformat": 4,
 "nbformat_minor": 2
}
