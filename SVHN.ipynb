{
  "nbformat": 4,
  "nbformat_minor": 0,
  "metadata": {
    "colab": {
      "name": "SVHN.ipynb",
      "version": "0.3.2",
      "provenance": [],
      "collapsed_sections": [],
      "toc_visible": true,
      "include_colab_link": true
    },
    "kernelspec": {
      "name": "python3",
      "display_name": "Python 3"
    },
    "accelerator": "GPU"
  },
  "cells": [
    {
      "cell_type": "markdown",
      "metadata": {
        "id": "view-in-github",
        "colab_type": "text"
      },
      "source": [
        "<a href=\"https://colab.research.google.com/github/ShaunakSen/Deep-Learning/blob/master/SVHN.ipynb\" target=\"_parent\"><img src=\"https://colab.research.google.com/assets/colab-badge.svg\" alt=\"Open In Colab\"/></a>"
      ]
    },
    {
      "cell_type": "code",
      "metadata": {
        "id": "4QVFj1jjuS4i",
        "colab_type": "code",
        "colab": {}
      },
      "source": [
        "# Execute this code block to install dependencies when running on colab\n",
        "try:\n",
        "    import torch\n",
        "except:\n",
        "    from os.path import exists\n",
        "    from wheel.pep425tags import get_abbr_impl, get_impl_ver, get_abi_tag\n",
        "    platform = '{}{}-{}'.format(get_abbr_impl(), get_impl_ver(), get_abi_tag())\n",
        "    cuda_output = !ldconfig -p|grep cudart.so|sed -e 's/.*\\.\\([0-9]*\\)\\.\\([0-9]*\\)$/cu\\1\\2/'\n",
        "    accelerator = cuda_output[0] if exists('/dev/nvidia0') else 'cpu'\n",
        "\n",
        "    !pip install -q http://download.pytorch.org/whl/{accelerator}/torch-1.0.0-{platform}-linux_x86_64.whl torchvision\n",
        "\n",
        "try: \n",
        "    import torchbearer\n",
        "except:\n",
        "    !pip install torchbearer"
      ],
      "execution_count": 0,
      "outputs": []
    },
    {
      "cell_type": "code",
      "metadata": {
        "id": "ZzO4fi6FufIb",
        "colab_type": "code",
        "outputId": "fa9bccea-bce2-4b06-e423-3fff15f7f68b",
        "colab": {
          "base_uri": "https://localhost:8080/",
          "height": 52
        }
      },
      "source": [
        "# automatically reload external modules if they change\n",
        "%load_ext autoreload\n",
        "%autoreload 2\n",
        "\n",
        "import torch\n",
        "import torch.nn.functional as F\n",
        "import torchvision.transforms as transforms\n",
        "import torchbearer\n",
        "from torch import nn\n",
        "from torch import optim\n",
        "from torch.utils.data import DataLoader\n",
        "from torchvision.datasets import MNIST\n",
        "from torchvision.datasets import SVHN\n",
        "from torchbearer import Trial\n",
        "import matplotlib.pyplot as plt\n",
        "\n",
        "%matplotlib inline"
      ],
      "execution_count": 24,
      "outputs": [
        {
          "output_type": "stream",
          "text": [
            "The autoreload extension is already loaded. To reload it, use:\n",
            "  %reload_ext autoreload\n"
          ],
          "name": "stdout"
        }
      ]
    },
    {
      "cell_type": "code",
      "metadata": {
        "id": "5U3Z5bKzuhai",
        "colab_type": "code",
        "colab": {}
      },
      "source": [
        "# fix random seed for reproducibility\n",
        "seed = 7\n",
        "torch.manual_seed(seed)\n",
        "torch.backends.cudnn.deterministic = True"
      ],
      "execution_count": 0,
      "outputs": []
    },
    {
      "cell_type": "code",
      "metadata": {
        "id": "ZjlzMBGYujLv",
        "colab_type": "code",
        "outputId": "1fb9ee15-04f9-4655-ee8a-d030079d97ba",
        "colab": {
          "base_uri": "https://localhost:8080/",
          "height": 4123
        }
      },
      "source": [
        "# convert each image to tensor format\n",
        "transform = transforms.Compose([\n",
        "    transforms.ToTensor()  # convert to tensor\n",
        "])\n",
        "\n",
        "# load data\n",
        "trainset = SVHN(root='.', split='train', transform=transform, download=True)\n",
        "\n",
        "testset = SVHN(root=\".\", split='test', transform=transform, download=True)\n",
        "\n",
        "# create data loaders\n",
        "trainloader = DataLoader(trainset, batch_size=128, shuffle=True)\n",
        "testloader = DataLoader(testset, batch_size=128, shuffle=True)"
      ],
      "execution_count": 0,
      "outputs": [
        {
          "output_type": "stream",
          "text": [
            "  0%|          | 0/182040794 [00:00<?, ?it/s]"
          ],
          "name": "stderr"
        },
        {
          "output_type": "stream",
          "text": [
            "Downloading http://ufldl.stanford.edu/housenumbers/train_32x32.mat to ./train_32x32.mat\n"
          ],
          "name": "stdout"
        },
        {
          "output_type": "stream",
          "text": [
            "100%|█████████▉| 181993472/182040794 [00:22<00:00, 5033459.03it/s]\n",
            "0it [00:00, ?it/s]\u001b[A\n",
            "  0%|          | 16384/64275384 [00:00<08:36, 124335.71it/s]\u001b[A"
          ],
          "name": "stderr"
        },
        {
          "output_type": "stream",
          "text": [
            "Downloading http://ufldl.stanford.edu/housenumbers/test_32x32.mat to ./test_32x32.mat\n"
          ],
          "name": "stdout"
        },
        {
          "output_type": "stream",
          "text": [
            "\n",
            "  0%|          | 98304/64275384 [00:00<06:29, 164584.41it/s]\u001b[A\n",
            "  0%|          | 294912/64275384 [00:00<04:44, 225278.89it/s]\u001b[A\n",
            "  1%|          | 614400/64275384 [00:00<03:25, 310364.07it/s]\u001b[A\n",
            "  1%|▏         | 901120/64275384 [00:00<02:31, 419615.12it/s]\u001b[A\n",
            "  2%|▏         | 1196032/64275384 [00:00<01:53, 557882.17it/s]\u001b[A\n",
            "  2%|▏         | 1499136/64275384 [00:00<01:26, 727039.61it/s]\u001b[A\n",
            "  3%|▎         | 1810432/64275384 [00:00<01:07, 925640.63it/s]\u001b[A\n",
            "  3%|▎         | 2129920/64275384 [00:01<00:54, 1148183.92it/s]\u001b[A\n",
            "  4%|▍         | 2457600/64275384 [00:01<00:44, 1386283.49it/s]\u001b[A\n",
            "  4%|▍         | 2793472/64275384 [00:01<00:37, 1629481.94it/s]\u001b[A\n",
            "  5%|▍         | 3137536/64275384 [00:01<00:32, 1865832.12it/s]\u001b[A\n",
            "  5%|▌         | 3489792/64275384 [00:01<00:29, 2068007.54it/s]\u001b[A\n",
            "  6%|▌         | 3842048/64275384 [00:01<00:26, 2278106.62it/s]\u001b[A\n",
            "  7%|▋         | 4202496/64275384 [00:01<00:24, 2425850.93it/s]\u001b[A\n",
            "  7%|▋         | 4562944/64275384 [00:01<00:23, 2577023.20it/s]\u001b[A\n",
            "  8%|▊         | 4923392/64275384 [00:02<00:22, 2678754.27it/s]\u001b[A\n",
            "  8%|▊         | 5218304/64275384 [00:02<00:23, 2558517.72it/s]\u001b[A\n",
            "  9%|▊         | 5554176/64275384 [00:02<00:22, 2646149.52it/s]\u001b[A\n",
            "  9%|▉         | 5832704/64275384 [00:02<00:23, 2516627.66it/s]\u001b[A\n",
            "  9%|▉         | 6103040/64275384 [00:02<00:24, 2418093.36it/s]\u001b[A\n",
            " 10%|▉         | 6389760/64275384 [00:02<00:24, 2396335.67it/s]\u001b[A\n",
            " 10%|█         | 6676480/64275384 [00:02<00:24, 2384071.61it/s]\u001b[A\n",
            " 11%|█         | 6971392/64275384 [00:02<00:23, 2394991.61it/s]\u001b[A\n",
            " 11%|█▏        | 7266304/64275384 [00:03<00:23, 2400954.84it/s]\u001b[A\n",
            " 12%|█▏        | 7569408/64275384 [00:03<00:23, 2426312.07it/s]\u001b[A\n",
            " 12%|█▏        | 7872512/64275384 [00:03<00:23, 2440538.64it/s]\u001b[A\n",
            " 13%|█▎        | 8175616/64275384 [00:03<00:22, 2452231.97it/s]\u001b[A\n",
            " 13%|█▎        | 8478720/64275384 [00:03<00:22, 2462010.88it/s]\u001b[A\n",
            " 14%|█▎        | 8790016/64275384 [00:03<00:22, 2487304.81it/s]\u001b[A\n",
            " 14%|█▍        | 9101312/64275384 [00:03<00:22, 2503499.03it/s]\u001b[A\n",
            " 15%|█▍        | 9420800/64275384 [00:03<00:21, 2508403.84it/s]\u001b[A\n",
            " 15%|█▌        | 9732096/64275384 [00:04<00:21, 2514647.89it/s]\u001b[A\n",
            " 16%|█▌        | 10043392/64275384 [00:04<00:21, 2557012.01it/s]\u001b[A\n",
            " 16%|█▌        | 10362880/64275384 [00:04<00:21, 2523205.20it/s]\u001b[A\n",
            " 17%|█▋        | 10674176/64275384 [00:04<00:21, 2532615.23it/s]\u001b[A\n",
            " 17%|█▋        | 10993664/64275384 [00:04<00:20, 2545654.73it/s]\u001b[A\n",
            " 18%|█▊        | 11304960/64275384 [00:04<00:20, 2542129.97it/s]\u001b[A\n",
            " 18%|█▊        | 11624448/64275384 [00:04<00:20, 2552631.58it/s]\u001b[A\n",
            " 19%|█▊        | 11935744/64275384 [00:04<00:20, 2554545.78it/s]\u001b[A\n",
            " 19%|█▉        | 12255232/64275384 [00:05<00:20, 2549312.83it/s]\u001b[A\n",
            " 20%|█▉        | 12566528/64275384 [00:05<00:20, 2547367.85it/s]\u001b[A\n",
            " 20%|██        | 12886016/64275384 [00:05<00:20, 2536097.94it/s]\u001b[A\n",
            " 21%|██        | 13197312/64275384 [00:05<00:20, 2540861.35it/s]\u001b[A\n",
            " 21%|██        | 13508608/64275384 [00:05<00:18, 2688588.93it/s]\u001b[A\n",
            " 21%|██▏       | 13787136/64275384 [00:05<00:18, 2663913.01it/s]\u001b[A\n",
            " 22%|██▏       | 14057472/64275384 [00:05<00:19, 2516690.75it/s]\u001b[A\n",
            " 22%|██▏       | 14352384/64275384 [00:05<00:19, 2612817.42it/s]\u001b[A\n",
            " 23%|██▎       | 14622720/64275384 [00:05<00:19, 2613010.74it/s]\u001b[A\n",
            " 23%|██▎       | 14893056/64275384 [00:06<00:19, 2502516.63it/s]\u001b[A\n",
            " 24%|██▎       | 15212544/64275384 [00:06<00:19, 2534629.07it/s]\u001b[A\n",
            " 24%|██▍       | 15523840/64275384 [00:06<00:18, 2680545.81it/s]\u001b[A\n",
            " 25%|██▍       | 15802368/64275384 [00:06<00:18, 2653498.74it/s]\u001b[A\n",
            " 25%|██▌       | 16072704/64275384 [00:06<00:19, 2536715.38it/s]\u001b[A\n",
            " 25%|██▌       | 16359424/64275384 [00:06<00:18, 2627077.75it/s]\u001b[A\n",
            " 26%|██▌       | 16629760/64275384 [00:06<00:18, 2625512.64it/s]\u001b[A\n",
            " 26%|██▋       | 16924672/64275384 [00:06<00:17, 2699217.93it/s]\u001b[A\n",
            " 27%|██▋       | 17203200/64275384 [00:06<00:17, 2675258.65it/s]\u001b[A\n",
            " 27%|██▋       | 17481728/64275384 [00:07<00:17, 2704482.32it/s]\u001b[A\n",
            " 28%|██▊       | 17760256/64275384 [00:07<00:17, 2699229.75it/s]\u001b[A\n",
            " 28%|██▊       | 18046976/64275384 [00:07<00:17, 2696002.24it/s]\u001b[A\n",
            " 29%|██▊       | 18325504/64275384 [00:07<00:16, 2719848.54it/s]\u001b[A\n",
            " 29%|██▉       | 18612224/64275384 [00:07<00:16, 2736650.08it/s]\u001b[A\n",
            " 29%|██▉       | 18898944/64275384 [00:07<00:16, 2743784.96it/s]\u001b[A\n",
            " 30%|██▉       | 19185664/64275384 [00:07<00:16, 2769476.89it/s]\u001b[A\n",
            " 30%|███       | 19464192/64275384 [00:07<00:16, 2759490.96it/s]\u001b[A\n",
            " 31%|███       | 19750912/64275384 [00:07<00:16, 2781948.24it/s]\u001b[A\n",
            " 31%|███       | 20045824/64275384 [00:07<00:16, 2757555.73it/s]\u001b[A\n",
            " 32%|███▏      | 20365312/64275384 [00:08<00:15, 2814722.20it/s]\u001b[A\n",
            " 32%|███▏      | 20652032/64275384 [00:08<00:15, 2817363.72it/s]\u001b[A\n",
            " 33%|███▎      | 20946944/64275384 [00:08<00:15, 2841602.35it/s]\u001b[A\n",
            " 33%|███▎      | 21233664/64275384 [00:08<00:15, 2835766.17it/s]\u001b[A\n",
            " 34%|███▎      | 21553152/64275384 [00:08<00:14, 2901437.16it/s]\u001b[A\n",
            " 34%|███▍      | 21848064/64275384 [00:08<00:14, 2909402.07it/s]\u001b[A\n",
            " 34%|███▍      | 22167552/64275384 [00:08<00:14, 2965016.12it/s]\u001b[A\n",
            " 35%|███▍      | 22487040/64275384 [00:08<00:13, 2985651.01it/s]\u001b[A\n",
            " 36%|███▌      | 22822912/64275384 [00:08<00:13, 3083297.75it/s]\u001b[A\n",
            " 36%|███▌      | 23134208/64275384 [00:08<00:13, 3073413.64it/s]\u001b[A\n",
            " 37%|███▋      | 23486464/64275384 [00:09<00:12, 3190854.26it/s]\u001b[A\n",
            " 37%|███▋      | 23814144/64275384 [00:09<00:12, 3189951.70it/s]\u001b[A\n",
            " 38%|███▊      | 24174592/64275384 [00:09<00:12, 3279465.66it/s]\u001b[A\n",
            " 38%|███▊      | 24510464/64275384 [00:09<00:12, 3292932.10it/s]\u001b[A\n",
            " 39%|███▊      | 24895488/64275384 [00:09<00:11, 3422085.73it/s]\u001b[A\n",
            " 39%|███▉      | 25247744/64275384 [00:09<00:11, 3418978.56it/s]\u001b[A\n",
            " 40%|███▉      | 25640960/64275384 [00:09<00:10, 3553983.03it/s]\u001b[A\n",
            " 40%|████      | 26009600/64275384 [00:09<00:10, 3562920.72it/s]\u001b[A\n",
            " 41%|████      | 26370048/64275384 [00:09<00:11, 3335162.06it/s]\u001b[A\n",
            " 42%|████▏     | 26787840/64275384 [00:10<00:10, 3496820.42it/s]\u001b[A\n",
            " 42%|████▏     | 27148288/64275384 [00:10<00:11, 3314841.75it/s]\u001b[A\n",
            " 43%|████▎     | 27492352/64275384 [00:10<00:11, 3264741.64it/s]\u001b[A\n",
            " 43%|████▎     | 27828224/64275384 [00:10<00:11, 3205358.88it/s]\u001b[A\n",
            " 44%|████▍     | 28155904/64275384 [00:10<00:11, 3162579.35it/s]\u001b[A\n",
            " 44%|████▍     | 28508160/64275384 [00:10<00:11, 3176726.70it/s]\u001b[A\n",
            " 45%|████▍     | 28844032/64275384 [00:10<00:11, 3151914.32it/s]\u001b[A\n",
            " 45%|████▌     | 29196288/64275384 [00:10<00:10, 3245893.70it/s]\u001b[A\n",
            " 46%|████▌     | 29523968/64275384 [00:10<00:10, 3231916.67it/s]\u001b[A\n",
            " 47%|████▋     | 29892608/64275384 [00:10<00:10, 3334837.04it/s]\u001b[A\n",
            " 47%|████▋     | 30228480/64275384 [00:11<00:10, 3307587.40it/s]\u001b[A\n",
            " 48%|████▊     | 30613504/64275384 [00:11<00:09, 3378007.40it/s]\u001b[A\n",
            " 48%|████▊     | 31006720/64275384 [00:11<00:09, 3481399.25it/s]\u001b[A\n",
            " 49%|████▉     | 31358976/64275384 [00:11<00:09, 3490220.45it/s]\u001b[A\n",
            " 49%|████▉     | 31711232/64275384 [00:11<00:09, 3259845.02it/s]\u001b[A\n",
            " 50%|████▉     | 32088064/64275384 [00:11<00:09, 3378557.46it/s]\u001b[A\n",
            " 50%|█████     | 32432128/64275384 [00:11<00:10, 3113805.19it/s]\u001b[A\n",
            " 51%|█████     | 32751616/64275384 [00:11<00:10, 2946936.91it/s]\u001b[A\n",
            " 51%|█████▏    | 33054720/64275384 [00:11<00:10, 2956308.66it/s]\u001b[A\n",
            " 52%|█████▏    | 33357824/64275384 [00:12<00:10, 2878258.32it/s]\u001b[A\n",
            " 52%|█████▏    | 33652736/64275384 [00:12<00:10, 2894385.05it/s]\u001b[A\n",
            " 53%|█████▎    | 33947648/64275384 [00:12<00:10, 2841645.33it/s]\u001b[A\n",
            " 53%|█████▎    | 34242560/64275384 [00:12<00:10, 2816397.92it/s]\u001b[A\n",
            " 54%|█████▎    | 34545664/64275384 [00:12<00:10, 2871086.80it/s]\u001b[A\n",
            " 54%|█████▍    | 34840576/64275384 [00:12<00:10, 2842519.28it/s]\u001b[A\n",
            " 55%|█████▍    | 35151872/64275384 [00:12<00:10, 2909223.93it/s]\u001b[A\n",
            " 55%|█████▌    | 35446784/64275384 [00:12<00:09, 2906484.77it/s]\u001b[A\n",
            " 56%|█████▌    | 35741696/64275384 [00:12<00:09, 2899967.81it/s]\u001b[A\n",
            " 56%|█████▌    | 36036608/64275384 [00:13<00:10, 2714275.85it/s]\u001b[A\n",
            " 56%|█████▋    | 36315136/64275384 [00:13<00:10, 2570751.51it/s]\u001b[A\n",
            " 57%|█████▋    | 36577280/64275384 [00:13<00:11, 2430979.39it/s]\u001b[A\n",
            " 57%|█████▋    | 36831232/64275384 [00:13<00:11, 2410776.61it/s]\u001b[A\n",
            " 58%|█████▊    | 37076992/64275384 [00:13<00:11, 2313032.90it/s]\u001b[A\n",
            " 58%|█████▊    | 37314560/64275384 [00:13<00:11, 2330565.15it/s]\u001b[A\n",
            " 58%|█████▊    | 37560320/64275384 [00:13<00:11, 2294541.53it/s]\u001b[A\n",
            " 59%|█████▉    | 37838848/64275384 [00:13<00:11, 2371962.38it/s]\u001b[A\n",
            " 59%|█████▉    | 38100992/64275384 [00:13<00:10, 2403196.44it/s]\u001b[A\n",
            " 60%|█████▉    | 38346752/64275384 [00:14<00:10, 2387682.93it/s]\u001b[A\n",
            " 60%|██████    | 38600704/64275384 [00:14<00:10, 2387555.66it/s]\u001b[A\n",
            " 60%|██████    | 38854656/64275384 [00:14<00:10, 2401023.71it/s]\u001b[A\n",
            " 61%|██████    | 39124992/64275384 [00:14<00:10, 2476867.76it/s]\u001b[A\n",
            " 61%|██████▏   | 39378944/64275384 [00:14<00:10, 2466821.05it/s]\u001b[A\n",
            " 62%|██████▏   | 39641088/64275384 [00:14<00:09, 2495285.27it/s]\u001b[A\n",
            " 62%|██████▏   | 39895040/64275384 [00:14<00:09, 2483774.47it/s]\u001b[A\n",
            "182042624it [00:40, 5033459.03it/s]                               \n",
            " 63%|██████▎   | 40419328/64275384 [00:14<00:09, 2500749.39it/s]\u001b[A\n",
            " 63%|██████▎   | 40689664/64275384 [00:14<00:09, 2554746.86it/s]\u001b[A\n",
            " 64%|██████▎   | 40951808/64275384 [00:15<00:09, 2554413.67it/s]\u001b[A\n",
            " 64%|██████▍   | 41213952/64275384 [00:15<00:09, 2542001.21it/s]\u001b[A\n",
            " 65%|██████▍   | 41476096/64275384 [00:15<00:08, 2555129.24it/s]\u001b[A\n",
            " 65%|██████▍   | 41738240/64275384 [00:15<00:08, 2545515.07it/s]\u001b[A\n",
            " 65%|██████▌   | 42008576/64275384 [00:15<00:08, 2540339.38it/s]\u001b[A\n",
            " 66%|██████▌   | 42270720/64275384 [00:15<00:08, 2534126.32it/s]\u001b[A\n",
            " 66%|██████▌   | 42532864/64275384 [00:15<00:08, 2547560.90it/s]\u001b[A\n",
            " 67%|██████▋   | 42795008/64275384 [00:15<00:08, 2523937.87it/s]\u001b[A\n",
            " 67%|██████▋   | 43048960/64275384 [00:15<00:08, 2523693.62it/s]\u001b[A\n",
            " 67%|██████▋   | 43302912/64275384 [00:16<00:09, 2218153.81it/s]\u001b[A\n",
            " 68%|██████▊   | 43532288/64275384 [00:16<00:10, 2041776.87it/s]\u001b[A\n",
            " 68%|██████▊   | 43745280/64275384 [00:16<00:10, 2010400.92it/s]\u001b[A\n",
            " 68%|██████▊   | 43958272/64275384 [00:16<00:10, 1933839.12it/s]\u001b[A\n",
            " 69%|██████▊   | 44163072/64275384 [00:16<00:10, 1852127.52it/s]\u001b[A\n",
            " 69%|██████▉   | 44384256/64275384 [00:16<00:10, 1906568.44it/s]\u001b[A\n",
            " 69%|██████▉   | 44580864/64275384 [00:16<00:10, 1911745.78it/s]\u001b[A\n",
            " 70%|██████▉   | 44777472/64275384 [00:16<00:10, 1860801.08it/s]\u001b[A\n",
            " 70%|███████   | 44998656/64275384 [00:16<00:09, 1950486.45it/s]\u001b[A\n",
            " 70%|███████   | 45203456/64275384 [00:17<00:09, 1917473.49it/s]\u001b[A\n",
            " 71%|███████   | 45408256/64275384 [00:17<00:09, 1909659.67it/s]\u001b[A\n",
            " 71%|███████   | 45637632/64275384 [00:17<00:09, 1982449.93it/s]\u001b[A\n",
            " 71%|███████▏  | 45842432/64275384 [00:17<00:09, 1936694.49it/s]\u001b[A\n",
            " 72%|███████▏  | 46063616/64275384 [00:17<00:09, 1927516.09it/s]\u001b[A\n",
            " 72%|███████▏  | 46301184/64275384 [00:17<00:09, 1951770.38it/s]\u001b[A\n",
            " 72%|███████▏  | 46530560/64275384 [00:17<00:08, 2028301.65it/s]\u001b[A\n",
            " 73%|███████▎  | 46735360/64275384 [00:17<00:09, 1942751.36it/s]\u001b[A\n",
            " 73%|███████▎  | 46956544/64275384 [00:17<00:08, 1934716.29it/s]\u001b[A\n",
            " 73%|███████▎  | 47202304/64275384 [00:18<00:08, 1939215.29it/s]\u001b[A\n",
            " 74%|███████▍  | 47448064/64275384 [00:18<00:08, 1969627.45it/s]\u001b[A\n",
            " 74%|███████▍  | 47693824/64275384 [00:18<00:08, 2039454.58it/s]\u001b[A\n",
            " 75%|███████▍  | 47906816/64275384 [00:18<00:07, 2052485.90it/s]\u001b[A\n",
            " 75%|███████▍  | 48119808/64275384 [00:18<00:08, 2004760.73it/s]\u001b[A\n",
            " 75%|███████▌  | 48365568/64275384 [00:18<00:07, 2120797.34it/s]\u001b[A\n",
            " 76%|███████▌  | 48586752/64275384 [00:18<00:07, 2068125.35it/s]\u001b[A\n",
            " 76%|███████▌  | 48807936/64275384 [00:18<00:07, 1988841.66it/s]\u001b[A\n",
            " 76%|███████▋  | 49070080/64275384 [00:19<00:07, 2035577.98it/s]\u001b[A\n",
            " 77%|███████▋  | 49332224/64275384 [00:19<00:07, 2046696.63it/s]\u001b[A\n",
            " 77%|███████▋  | 49594368/64275384 [00:19<00:06, 2103286.45it/s]\u001b[A\n",
            " 78%|███████▊  | 49864704/64275384 [00:19<00:06, 2136271.25it/s]\u001b[A\n",
            " 78%|███████▊  | 50135040/64275384 [00:19<00:06, 2131976.84it/s]\u001b[A\n",
            " 78%|███████▊  | 50405376/64275384 [00:19<00:06, 2157888.25it/s]\u001b[A\n",
            " 79%|███████▉  | 50675712/64275384 [00:19<00:06, 2176192.43it/s]\u001b[A\n",
            " 79%|███████▉  | 50954240/64275384 [00:19<00:06, 2181398.35it/s]\u001b[A\n",
            " 80%|███████▉  | 51232768/64275384 [00:19<00:05, 2212084.17it/s]\u001b[A\n",
            " 80%|████████  | 51511296/64275384 [00:20<00:05, 2205054.96it/s]\u001b[A\n",
            " 81%|████████  | 51789824/64275384 [00:20<00:05, 2230863.93it/s]\u001b[A\n",
            " 81%|████████  | 52076544/64275384 [00:20<00:05, 2234717.47it/s]\u001b[A\n",
            " 81%|████████▏ | 52355072/64275384 [00:20<00:05, 2252101.22it/s]\u001b[A\n",
            " 82%|████████▏ | 52641792/64275384 [00:20<00:05, 2281456.04it/s]\u001b[A\n",
            " 82%|████████▏ | 52928512/64275384 [00:20<00:04, 2303660.08it/s]\u001b[A\n",
            " 83%|████████▎ | 53215232/64275384 [00:20<00:04, 2319896.74it/s]\u001b[A\n",
            " 83%|████████▎ | 53510144/64275384 [00:20<00:04, 2305456.83it/s]\u001b[A\n",
            " 84%|████████▎ | 53805056/64275384 [00:21<00:04, 2339864.10it/s]\u001b[A\n",
            " 84%|████████▍ | 54099968/64275384 [00:21<00:04, 2364420.26it/s]\u001b[A\n",
            " 85%|████████▍ | 54394880/64275384 [00:21<00:04, 2350636.96it/s]\u001b[A\n",
            " 85%|████████▌ | 54689792/64275384 [00:21<00:04, 2371303.74it/s]\u001b[A\n",
            " 86%|████████▌ | 54984704/64275384 [00:21<00:03, 2415637.03it/s]\u001b[A\n",
            " 86%|████████▌ | 55255040/64275384 [00:21<00:03, 2323366.46it/s]\u001b[A\n",
            " 86%|████████▋ | 55492608/64275384 [00:21<00:04, 2180087.30it/s]\u001b[A\n",
            " 87%|████████▋ | 55713792/64275384 [00:21<00:04, 2057678.62it/s]\u001b[A\n",
            " 87%|████████▋ | 55934976/64275384 [00:22<00:04, 2023501.99it/s]\u001b[A\n",
            " 87%|████████▋ | 56180736/64275384 [00:22<00:03, 2127371.56it/s]\u001b[A\n",
            " 88%|████████▊ | 56401920/64275384 [00:22<00:03, 2063922.60it/s]\u001b[A\n",
            " 88%|████████▊ | 56614912/64275384 [00:22<00:03, 2032246.59it/s]\u001b[A\n",
            " 88%|████████▊ | 56868864/64275384 [00:22<00:03, 2047125.70it/s]\u001b[A\n",
            " 89%|████████▉ | 57131008/64275384 [00:22<00:03, 2185495.73it/s]\u001b[A\n",
            " 89%|████████▉ | 57360384/64275384 [00:22<00:03, 2124017.10it/s]\u001b[A\n",
            " 90%|████████▉ | 57589760/64275384 [00:22<00:03, 2116522.36it/s]\u001b[A\n",
            " 90%|█████████ | 57868288/64275384 [00:22<00:02, 2166485.85it/s]\u001b[A\n",
            " 90%|█████████ | 58146816/64275384 [00:23<00:02, 2203721.44it/s]\u001b[A\n",
            " 91%|█████████ | 58433536/64275384 [00:23<00:02, 2248051.56it/s]\u001b[A\n",
            " 91%|█████████▏| 58720256/64275384 [00:23<00:02, 2279409.57it/s]\u001b[A\n",
            " 92%|█████████▏| 59006976/64275384 [00:23<00:02, 2417160.05it/s]\u001b[A\n",
            " 92%|█████████▏| 59252736/64275384 [00:23<00:02, 2334693.29it/s]\u001b[A\n",
            " 93%|█████████▎| 59506688/64275384 [00:23<00:02, 2296199.45it/s]\u001b[A\n",
            " 93%|█████████▎| 59801600/64275384 [00:23<00:01, 2324186.71it/s]\u001b[A\n",
            " 93%|█████████▎| 60096512/64275384 [00:23<00:01, 2391846.27it/s]\u001b[A\n",
            " 94%|█████████▍| 60383232/64275384 [00:24<00:01, 2506583.11it/s]\u001b[A\n",
            " 94%|█████████▍| 60637184/64275384 [00:24<00:01, 2388912.40it/s]\u001b[A\n",
            " 95%|█████████▍| 60899328/64275384 [00:24<00:01, 2417094.99it/s]\u001b[A\n",
            " 95%|█████████▌| 61145088/64275384 [00:24<00:01, 2428991.24it/s]\u001b[A\n",
            " 96%|█████████▌| 61407232/64275384 [00:24<00:01, 2463583.64it/s]\u001b[A\n",
            " 96%|█████████▌| 61661184/64275384 [00:24<00:01, 2432663.35it/s]\u001b[A\n",
            " 96%|█████████▋| 61923328/64275384 [00:24<00:00, 2448094.45it/s]\u001b[A\n",
            " 97%|█████████▋| 62177280/64275384 [00:24<00:00, 2468533.36it/s]\u001b[A\n",
            " 97%|█████████▋| 62431232/64275384 [00:24<00:00, 2442051.39it/s]\u001b[A\n",
            " 98%|█████████▊| 62717952/64275384 [00:24<00:00, 2555661.84it/s]\u001b[A\n",
            " 98%|█████████▊| 62980096/64275384 [00:25<00:00, 2470443.18it/s]\u001b[A\n",
            " 98%|█████████▊| 63234048/64275384 [00:25<00:00, 2450357.43it/s]\u001b[A\n",
            " 99%|█████████▉| 63496192/64275384 [00:25<00:00, 2471221.07it/s]\u001b[A\n",
            " 99%|█████████▉| 63750144/64275384 [00:25<00:00, 2465043.63it/s]\u001b[A\n",
            "100%|█████████▉| 64004096/64275384 [00:25<00:00, 2442502.74it/s]\u001b[A\n",
            "100%|█████████▉| 64266240/64275384 [00:25<00:00, 2484236.17it/s]\u001b[A"
          ],
          "name": "stderr"
        }
      ]
    },
    {
      "cell_type": "code",
      "metadata": {
        "id": "LDlmlE_9wfU1",
        "colab_type": "code",
        "outputId": "5f97246c-abee-479a-93dd-5332e0471a1f",
        "colab": {
          "base_uri": "https://localhost:8080/",
          "height": 123
        }
      },
      "source": [
        "for i, data in enumerate(trainloader):\n",
        "  print (i, data[0].shape, data[1])\n",
        "  break"
      ],
      "execution_count": 0,
      "outputs": [
        {
          "output_type": "stream",
          "text": [
            "0 torch.Size([128, 3, 32, 32]) tensor([4, 4, 6, 9, 6, 4, 1, 4, 6, 3, 6, 8, 1, 1, 1, 1, 5, 4, 3, 1, 8, 1, 4, 3,\n",
            "        9, 0, 5, 1, 3, 1, 1, 3, 1, 8, 8, 1, 9, 0, 8, 3, 2, 1, 1, 3, 1, 3, 4, 1,\n",
            "        1, 0, 2, 6, 7, 6, 1, 4, 2, 8, 1, 1, 1, 2, 3, 7, 0, 1, 2, 5, 1, 6, 2, 6,\n",
            "        0, 5, 1, 9, 1, 7, 3, 7, 9, 5, 2, 7, 7, 2, 4, 1, 9, 1, 5, 2, 5, 7, 8, 3,\n",
            "        7, 9, 6, 1, 6, 6, 3, 4, 3, 9, 2, 2, 7, 6, 9, 2, 9, 5, 9, 5, 2, 1, 7, 8,\n",
            "        0, 3, 1, 6, 8, 6, 9, 5])\n"
          ],
          "name": "stdout"
        }
      ]
    },
    {
      "cell_type": "code",
      "metadata": {
        "id": "MK6o0tAav90F",
        "colab_type": "code",
        "colab": {}
      },
      "source": [
        "# These are all the modules we'll be using later.\n",
        "from __future__ import print_function\n",
        "import numpy as np\n",
        "\n",
        "from six.moves import cPickle as pickle\n",
        "from six.moves import range\n",
        "\n",
        "import os\n",
        "import sys\n",
        "import tarfile\n",
        "from IPython.display import display, Image\n",
        "\n",
        "import h5py\n",
        "\n",
        "import matplotlib.pyplot as plt\n",
        "\n",
        "from PIL import Image\n",
        "import random"
      ],
      "execution_count": 0,
      "outputs": []
    },
    {
      "cell_type": "code",
      "metadata": {
        "id": "kbrn89t5zRrI",
        "colab_type": "code",
        "colab": {}
      },
      "source": [
        "from collections import Counter\n",
        "%matplotlib inline\n",
        "from urllib.request import urlretrieve"
      ],
      "execution_count": 0,
      "outputs": []
    },
    {
      "cell_type": "code",
      "metadata": {
        "id": "Q6iL5m4E0GoG",
        "colab_type": "code",
        "outputId": "40ec868f-d6b1-4e4b-8a58-f1212acc58b9",
        "colab": {
          "base_uri": "https://localhost:8080/",
          "height": 52
        }
      },
      "source": [
        "url = 'http://ufldl.stanford.edu/housenumbers/'\n",
        "last_percent_reported = None\n",
        "\n",
        "def download_progress_hook(count, blockSize, totalSize):\n",
        "    \"\"\"A hook to report the progress of a download. This is mostly intended for users with\n",
        "    slow internet connections. Reports every 1% change in download progress.\n",
        "    \"\"\"\n",
        "    global last_percent_reported\n",
        "    percent = int(count * blockSize * 100 / totalSize)\n",
        "\n",
        "    if last_percent_reported != percent:\n",
        "        if percent % 5 == 0:\n",
        "            sys.stdout.write(\"%s%%\" % percent)\n",
        "            sys.stdout.flush()\n",
        "        else:\n",
        "            sys.stdout.write(\".\")\n",
        "            sys.stdout.flush()\n",
        "\n",
        "        last_percent_reported = percent\n",
        "\n",
        "def maybe_download(filename, expected_bytes, force=False):\n",
        "    \"\"\"Download a file if not present, and make sure it's the right size.\"\"\"\n",
        "    if force or not os.path.exists(filename):\n",
        "        print('Attempting to download:', filename) \n",
        "        filename, _ = urlretrieve(url + filename, filename, reporthook=download_progress_hook)\n",
        "        print('\\nDownload Complete!')\n",
        "    statinfo = os.stat(filename)\n",
        "    if statinfo.st_size == expected_bytes:\n",
        "        print('Found and verified', filename)\n",
        "    else:\n",
        "        raise Exception(\n",
        "          'Failed to verify ' + filename + '. Can you get to it with a browser?')\n",
        "    return filename\n",
        "\n",
        "train_filename = maybe_download('train.tar.gz', 404141560 )\n",
        "test_filename = maybe_download('test.tar.gz', 276555967 )"
      ],
      "execution_count": 28,
      "outputs": [
        {
          "output_type": "stream",
          "text": [
            "Found and verified train.tar.gz\n",
            "Found and verified test.tar.gz\n"
          ],
          "name": "stdout"
        }
      ]
    },
    {
      "cell_type": "markdown",
      "metadata": {
        "id": "nDT23xNABnlr",
        "colab_type": "text"
      },
      "source": [
        "### Extract the data"
      ]
    },
    {
      "cell_type": "code",
      "metadata": {
        "id": "gLxycbVy1p_V",
        "colab_type": "code",
        "outputId": "0d87adf6-21a8-4234-8d81-841b1c4f9f61",
        "colab": {
          "base_uri": "https://localhost:8080/",
          "height": 52
        }
      },
      "source": [
        "num_classes = 10\n",
        "np.random.seed(133)\n",
        "\n",
        "train_filename = 'train.tar.gz'\n",
        "test_filename = 'test.tar.gz'\n",
        "# extra_filename = 'extra.tar.gz'\n",
        "\n",
        "def maybe_extract(filename, force=False):\n",
        "    root = os.path.splitext(os.path.splitext(filename)[0])[0]  # remove .tar.gz\n",
        "    if os.path.isdir(root) and not force:\n",
        "        # You may override by setting force=True.\n",
        "        print('%s already present - Skipping extraction of %s.' % (root, filename))\n",
        "    else:\n",
        "        print('Extracting data for %s. This may take a while. Please wait.' % root)\n",
        "        tar = tarfile.open(filename)\n",
        "        sys.stdout.flush()\n",
        "        tar.extractall()\n",
        "        tar.close()\n",
        "    if not os.path.exists(root+'/digitStruct.mat'):\n",
        "        print(\"digitStruct.mat is missing\")\n",
        "    return root + '/digitStruct.mat'\n",
        "  \n",
        "  \n",
        "train_folders = maybe_extract(train_filename)\n",
        "test_folders = maybe_extract(test_filename)"
      ],
      "execution_count": 29,
      "outputs": [
        {
          "output_type": "stream",
          "text": [
            "train already present - Skipping extraction of train.tar.gz.\n",
            "test already present - Skipping extraction of test.tar.gz.\n"
          ],
          "name": "stdout"
        }
      ]
    },
    {
      "cell_type": "markdown",
      "metadata": {
        "id": "AoshH2lZBraL",
        "colab_type": "text"
      },
      "source": [
        "### Read the dataset"
      ]
    },
    {
      "cell_type": "code",
      "metadata": {
        "id": "i2OHcG5114ua",
        "colab_type": "code",
        "outputId": "5ebb7003-6c5e-4874-d4e0-32dfb23cceac",
        "colab": {
          "base_uri": "https://localhost:8080/",
          "height": 34
        }
      },
      "source": [
        "print(train_folders)\n"
      ],
      "execution_count": 30,
      "outputs": [
        {
          "output_type": "stream",
          "text": [
            "train/digitStruct.mat\n"
          ],
          "name": "stdout"
        }
      ]
    },
    {
      "cell_type": "code",
      "metadata": {
        "id": "e30yb3MpFPaZ",
        "colab_type": "code",
        "colab": {
          "base_uri": "https://localhost:8080/",
          "height": 34
        },
        "outputId": "690d4a4f-032d-4e68-c464-d7591b4d0c06"
      },
      "source": [
        "train_dataset = h5py.File(train_folders, \"r\")\n",
        "\n",
        "print (list(train_dataset.keys()))"
      ],
      "execution_count": 39,
      "outputs": [
        {
          "output_type": "stream",
          "text": [
            "['#refs#', 'digitStruct']\n"
          ],
          "name": "stdout"
        }
      ]
    },
    {
      "cell_type": "code",
      "metadata": {
        "id": "6GTBrTvVGF_n",
        "colab_type": "code",
        "colab": {
          "base_uri": "https://localhost:8080/",
          "height": 52
        },
        "outputId": "5b4856d6-c302-459f-ca10-20d16fd9a13a"
      },
      "source": [
        "list(train_dataset['digitStruct'].items())"
      ],
      "execution_count": 42,
      "outputs": [
        {
          "output_type": "execute_result",
          "data": {
            "text/plain": [
              "[('bbox', <HDF5 dataset \"bbox\": shape (33402, 1), type \"|O\">),\n",
              " ('name', <HDF5 dataset \"name\": shape (33402, 1), type \"|O\">)]"
            ]
          },
          "metadata": {
            "tags": []
          },
          "execution_count": 42
        }
      ]
    },
    {
      "cell_type": "markdown",
      "metadata": {
        "id": "d8XtP2ZZHX76",
        "colab_type": "text"
      },
      "source": [
        "Basically this means that there are 33402 file names and each of these files has a corr bbox struct which contains info about the images\n",
        "\n"
      ]
    },
    {
      "cell_type": "code",
      "metadata": {
        "id": "Z8vx04dPG8yI",
        "colab_type": "code",
        "colab": {
          "base_uri": "https://localhost:8080/",
          "height": 34
        },
        "outputId": "2fdb4611-df4d-4fdd-c112-94725273bb2c"
      },
      "source": [
        "list(train_dataset['digitStruct'].items())[0][1][0][0]"
      ],
      "execution_count": 57,
      "outputs": [
        {
          "output_type": "execute_result",
          "data": {
            "text/plain": [
              "<HDF5 object reference>"
            ]
          },
          "metadata": {
            "tags": []
          },
          "execution_count": 57
        }
      ]
    },
    {
      "cell_type": "code",
      "metadata": {
        "id": "ls3qaworIdP0",
        "colab_type": "code",
        "colab": {}
      },
      "source": [
        "# The DigitStructFile is just a wrapper around the h5py data.  It basically references \n",
        "#    inf:              The input h5 matlab file\n",
        "#    digitStructName   The h5 ref to all the file names\n",
        "#    digitStructBbox   The h5 ref to all struc data\n",
        "class DigitStructFile:\n",
        "    def __init__(self, inf):\n",
        "        self.inf = h5py.File(inf, 'r')\n",
        "        self.digitStructName = self.inf['digitStruct']['name']\n",
        "        self.digitStructBbox = self.inf['digitStruct']['bbox']\n",
        "\n",
        "# getName returns the 'name' string for for the n(th) digitStruct. \n",
        "    def getName(self,n):\n",
        "        return ''.join([chr(c[0]) for c in self.inf[self.digitStructName[n][0]].value])\n",
        "\n",
        "# bboxHelper handles the coding difference when there is exactly one bbox or an array of bbox. \n",
        "    def bboxHelper(self,attr):\n",
        "        if (len(attr) > 1):\n",
        "            attr = [self.inf[attr.value[j].item()].value[0][0] for j in range(len(attr))]\n",
        "        else:\n",
        "            attr = [attr.value[0][0]]\n",
        "        return attr\n",
        "\n",
        "# getBbox returns a dict of data for the n(th) bbox. \n",
        "    def getBbox(self,n):\n",
        "        bbox = {}\n",
        "        bb = self.digitStructBbox[n].item()\n",
        "        bbox['height'] = self.bboxHelper(self.inf[bb][\"height\"])\n",
        "        bbox['label'] = self.bboxHelper(self.inf[bb][\"label\"])\n",
        "        bbox['left'] = self.bboxHelper(self.inf[bb][\"left\"])\n",
        "        bbox['top'] = self.bboxHelper(self.inf[bb][\"top\"])\n",
        "        bbox['width'] = self.bboxHelper(self.inf[bb][\"width\"])\n",
        "        return bbox\n",
        "\n",
        "    def getDigitStructure(self,n):\n",
        "        s = self.getBbox(n)\n",
        "        s['name']=self.getName(n)\n",
        "        return s\n",
        "\n",
        "# getAllDigitStructure returns all the digitStruct from the input file.     \n",
        "    def getAllDigitStructure(self):\n",
        "        return [self.getDigitStructure(i) for i in range(len(self.digitStructName))]\n",
        "\n",
        "# Return a restructured version of the dataset (one structure by boxed digit).\n",
        "#\n",
        "#   Return a list of such dicts :\n",
        "#      'filename' : filename of the samples\n",
        "#      'boxes' : list of such dicts (one by digit) :\n",
        "#          'label' : 1 to 9 corresponding digits. 10 for digit '0' in image.\n",
        "#          'left', 'top' : position of bounding box\n",
        "#          'width', 'height' : dimension of bounding box\n",
        "#\n",
        "# Note: We may turn this to a generator, if memory issues arise.\n",
        "    def getAllDigitStructure_ByDigit(self):\n",
        "        pictDat = self.getAllDigitStructure()\n",
        "        result = []\n",
        "        structCnt = 1\n",
        "        for i in range(len(pictDat)):\n",
        "            item = { 'filename' : pictDat[i][\"name\"] }\n",
        "            figures = []\n",
        "            for j in range(len(pictDat[i]['height'])):\n",
        "                figure = {}\n",
        "                figure['height'] = pictDat[i]['height'][j]\n",
        "                figure['label']  = pictDat[i]['label'][j]\n",
        "                figure['left']   = pictDat[i]['left'][j]\n",
        "                figure['top']    = pictDat[i]['top'][j]\n",
        "                figure['width']  = pictDat[i]['width'][j]\n",
        "                figures.append(figure)\n",
        "            structCnt = structCnt + 1\n",
        "            item['boxes'] = figures\n",
        "            result.append(item)\n",
        "        return result"
      ],
      "execution_count": 0,
      "outputs": []
    },
    {
      "cell_type": "code",
      "metadata": {
        "id": "hNTfHx-UIfi9",
        "colab_type": "code",
        "colab": {}
      },
      "source": [
        "train = DigitStructFile(train_folders)\n",
        "train_data = train.getAllDigitStructure_ByDigit()\n",
        "\n",
        "\n",
        "test = DigitStructFile(test_folders)\n",
        "test_data = test.getAllDigitStructure_ByDigit()"
      ],
      "execution_count": 0,
      "outputs": []
    },
    {
      "cell_type": "code",
      "metadata": {
        "id": "uOMZkG7oI0_j",
        "colab_type": "code",
        "colab": {
          "base_uri": "https://localhost:8080/",
          "height": 125
        },
        "outputId": "ea51797b-eea4-41ca-ee75-92e3a9002e54"
      },
      "source": [
        "print (\"Len of train data:\", len(train_data))\n",
        "print (\"Len of test data:\", len(test_data))\n",
        "\n",
        "\n",
        "print (train_data[0])\n",
        "\n",
        "print (train_data[1])\n",
        "\n",
        "print (test_data[13])"
      ],
      "execution_count": 65,
      "outputs": [
        {
          "output_type": "stream",
          "text": [
            "Len of train data: 33402\n",
            "Len of test data: 13068\n",
            "{'filename': '1.png', 'boxes': [{'height': 219.0, 'label': 1.0, 'left': 246.0, 'top': 77.0, 'width': 81.0}, {'height': 219.0, 'label': 9.0, 'left': 323.0, 'top': 81.0, 'width': 96.0}]}\n",
            "{'filename': '2.png', 'boxes': [{'height': 32.0, 'label': 2.0, 'left': 77.0, 'top': 29.0, 'width': 23.0}, {'height': 32.0, 'label': 3.0, 'left': 98.0, 'top': 25.0, 'width': 26.0}]}\n",
            "{'filename': '14.png', 'boxes': [{'height': 24.0, 'label': 2.0, 'left': 64.0, 'top': 27.0, 'width': 13.0}, {'height': 24.0, 'label': 5.0, 'left': 80.0, 'top': 23.0, 'width': 13.0}]}\n"
          ],
          "name": "stdout"
        }
      ]
    },
    {
      "cell_type": "markdown",
      "metadata": {
        "id": "yOhnvWLdLN42",
        "colab_type": "text"
      },
      "source": [
        "Basically `train` contains info about file_name the bounding boxes and the labels of the images. But where are the indv pixel values"
      ]
    },
    {
      "cell_type": "code",
      "metadata": {
        "id": "COX6kWQ0LacO",
        "colab_type": "code",
        "colab": {}
      },
      "source": [
        ""
      ],
      "execution_count": 0,
      "outputs": []
    }
  ]
}