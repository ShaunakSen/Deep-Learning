{
  "nbformat": 4,
  "nbformat_minor": 0,
  "metadata": {
    "colab": {
      "name": "Handwritten Digit Recognition using Convolutional Neural Networks in Python with Keras.ipynb",
      "version": "0.3.2",
      "provenance": [],
      "collapsed_sections": [],
      "include_colab_link": true
    },
    "kernelspec": {
      "name": "python3",
      "display_name": "Python 3"
    }
  },
  "cells": [
    {
      "cell_type": "markdown",
      "metadata": {
        "id": "view-in-github",
        "colab_type": "text"
      },
      "source": [
        "<a href=\"https://colab.research.google.com/github/ShaunakSen/Deep-Learning/blob/master/Handwritten_Digit_Recognition_using_Convolutional_Neural_Networks_in_Python_with_Keras.ipynb\" target=\"_parent\"><img src=\"https://colab.research.google.com/assets/colab-badge.svg\" alt=\"Open In Colab\"/></a>"
      ]
    },
    {
      "metadata": {
        "id": "HFdDT7A2ZePG",
        "colab_type": "text"
      },
      "cell_type": "markdown",
      "source": [
        "## Handwritten Digit Recognition using Convolutional Neural Networks in Python with Keras\n",
        "\n",
        "[link](https://machinelearningmastery.com/handwritten-digit-recognition-using-convolutional-neural-networks-python-keras/)\n",
        "\n",
        "A popular demonstration of the capability of deep learning techniques is object recognition in image data.\n",
        "\n",
        "The “hello world” of object recognition for machine learning and deep learning is the MNIST dataset for handwritten digit recognition.\n",
        "\n",
        "### Description of the MNIST Handwritten Digit Recognition Problem\n",
        "\n",
        "\n",
        "The MNIST problem is a dataset developed by Yann LeCun, Corinna Cortes and Christopher Burges for evaluating machine learning models on the handwritten digit classification problem.\n",
        "\n",
        "The dataset was constructed from a number of scanned document dataset available from the National Institute of Standards and Technology (NIST). This is where the name for the dataset comes from, as the Modified NIST or MNIST dataset.\n",
        "\n",
        "Images of digits were taken from a variety of scanned documents, normalized in size and centered. This makes it an excellent dataset for evaluating models, allowing the developer to focus on the machine learning with very little data cleaning or preparation required.\n",
        "\n",
        "Each image is a 28 by 28 pixel square (784 pixels total). A standard spit of the dataset is used to evaluate and compare models, where 60,000 images are used to train a model and a separate set of 10,000 images are used to test it.\n",
        "\n",
        "It is a digit recognition task. As such there are 10 digits (0 to 9) or 10 classes to predict. Results are reported using prediction error, which is nothing more than the inverted classification accuracy.\n",
        "\n",
        "Excellent results achieve a prediction error of less than 1%. State-of-the-art prediction error of approximately 0.2% can be achieved with large Convolutional Neural Networks. There is a listing of the state-of-the-art results and links to the relevant papers on the MNIST and other datasets on Rodrigo Benenson’s webpage.\n",
        "\n"
      ]
    },
    {
      "metadata": {
        "id": "p8qp_Z36ZzZE",
        "colab_type": "text"
      },
      "cell_type": "markdown",
      "source": [
        "### Loading the MNIST dataset in Keras\n",
        "\n",
        "The Keras deep learning library provides a convenience method for loading the MNIST dataset.\n",
        "\n",
        "The dataset is downloaded automatically the first time this function is called and is stored in your home directory in ~/.keras/datasets/mnist.pkl.gz as a 15MB file.\n",
        "\n",
        "This is very handy for developing and testing deep learning models.\n",
        "\n",
        "To demonstrate how easy it is to load the MNIST dataset, we will first write a little script to download and visualize the first 4 images in the training dataset."
      ]
    },
    {
      "metadata": {
        "id": "vITZCOJwZy11",
        "colab_type": "code",
        "colab": {}
      },
      "cell_type": "code",
      "source": [
        "from keras.datasets import mnist\n",
        "import matplotlib.pyplot as plt\n",
        "\n",
        "# load (downloaded if needed) the MNIST dataset\n",
        "\n",
        "(X_train, y_train), (X_test, y_test) = mnist.load_data()\n"
      ],
      "execution_count": 0,
      "outputs": []
    },
    {
      "metadata": {
        "id": "mjRUvyirZaO2",
        "colab_type": "code",
        "colab": {
          "base_uri": "https://localhost:8080/",
          "height": 347
        },
        "outputId": "3cc79966-f5b4-4088-8acf-9d6db8dacd65"
      },
      "cell_type": "code",
      "source": [
        "# print(X_train.shape, y_train.shape)\n",
        "# plot 4 images as gray scale\n",
        "plt.subplot(221)\n",
        "plt.imshow(X_train[0], cmap=plt.get_cmap('gray'))\n",
        "plt.subplot(222)\n",
        "plt.imshow(X_train[1], cmap=plt.get_cmap('gray'))\n",
        "plt.subplot(223)\n",
        "plt.imshow(X_train[2], cmap=plt.get_cmap('gray'))\n",
        "plt.subplot(224)\n",
        "plt.imshow(X_train[3], cmap=plt.get_cmap('gray'))\n",
        "# show the plot\n",
        "plt.show()\n"
      ],
      "execution_count": 11,
      "outputs": [
        {
          "output_type": "display_data",
          "data": {
            "image/png": "[encoded data removed]",
            "text/plain": [
              "<Figure size 576x396 with 4 Axes>"
            ]
          },
          "metadata": {
            "tags": []
          }
        }
      ]
    },
    {
      "metadata": {
        "id": "PIGeAh24a1_1",
        "colab_type": "text"
      },
      "cell_type": "markdown",
      "source": [
        "### Baseline Model with Multi-Layer Perceptrons\n",
        "\n",
        "Do we really need a complex model like a convolutional neural network to get the best results with MNIST?\n",
        "\n",
        "You can get very good results using a very simple neural network model with a single hidden layer. In this section we will create a simple multi-layer perceptron model that achieves an error rate of 1.74%. We will use this as a baseline for comparing more complex convolutional neural network models.\n",
        "\n",
        "Let’s start off by importing the classes and functions we will need."
      ]
    },
    {
      "metadata": {
        "id": "4L_ktHeibPtv",
        "colab_type": "code",
        "colab": {}
      },
      "cell_type": "code",
      "source": [
        "import numpy\n",
        "from keras.datasets import mnist\n",
        "from keras.models import Sequential\n",
        "from keras.layers import Dense\n",
        "from keras.layers import Dropout\n",
        "from keras.utils import np_utils\n",
        "\n",
        "# It is always a good idea to initialize the random number generator to a constant to ensure that \n",
        "# the results of your script are reproducible.\n",
        "\n",
        "seed = 7\n",
        "numpy.random.seed(seed)\n",
        "\n",
        "# Now we can load the MNIST dataset using the Keras helper function.\n",
        "\n",
        "(X_train, y_train), (X_test, y_test) = mnist.load_data()"
      ],
      "execution_count": 0,
      "outputs": []
    },
    {
      "metadata": {
        "id": "EdE6EAaBbxIP",
        "colab_type": "text"
      },
      "cell_type": "markdown",
      "source": [
        "The training dataset is structured as a 3-dimensional array of instance, image width and image height. For a multi-layer perceptron model we must reduce the images down into a vector of pixels. In this case the 28×28 sized images will be 784 pixel input values.\n",
        "\n",
        "We can do this transform easily using the reshape() function on the NumPy array. We can also reduce our memory requirements by forcing the precision of the pixel values to be 32 bit, the default precision used by Keras anyway."
      ]
    },
    {
      "metadata": {
        "id": "OsDMm6njcFjY",
        "colab_type": "code",
        "colab": {
          "base_uri": "https://localhost:8080/",
          "height": 34
        },
        "outputId": "4ee364c0-076a-41aa-e05c-af171c1b4706"
      },
      "cell_type": "code",
      "source": [
        "\n",
        "# flatten 28*28 images to a 784 vector for each image\n",
        "num_pixels = X_train.shape[1] * X_train.shape[2]\n",
        "X_train = X_train.reshape(X_train.shape[0], num_pixels).astype('float32')\n",
        "X_test = X_test.reshape(X_test.shape[0], num_pixels).astype('float32')\n",
        "\n",
        "print (X_train.shape, X_test.shape)"
      ],
      "execution_count": 13,
      "outputs": [
        {
          "output_type": "stream",
          "text": [
            "(60000, 784) (10000, 784)\n"
          ],
          "name": "stdout"
        }
      ]
    },
    {
      "metadata": {
        "id": "QWEv8AmCc77r",
        "colab_type": "text"
      },
      "cell_type": "markdown",
      "source": [
        "The pixel values are gray scale between 0 and 255. It is almost always a good idea to perform some scaling of input values when using neural network models. Because the scale is well known and well behaved, we can very quickly normalize the pixel values to the range 0 and 1 by dividing each value by the maximum of 255.\n",
        "\n"
      ]
    },
    {
      "metadata": {
        "id": "NQdWVNjudI_h",
        "colab_type": "code",
        "colab": {}
      },
      "cell_type": "code",
      "source": [
        "# normalize inputs from 0-255 to 0-1\n",
        "X_train = X_train / 255\n",
        "X_test = X_test / 255"
      ],
      "execution_count": 0,
      "outputs": []
    },
    {
      "metadata": {
        "id": "u5XvQRbgdTmy",
        "colab_type": "text"
      },
      "cell_type": "markdown",
      "source": [
        "Finally, the output variable is an integer from 0 to 9. This is a multi-class classification problem. As such, it is good practice to use a one hot encoding of the class values, transforming the vector of class integers into a binary matrix.\n",
        "\n",
        "We can easily do this using the built-in np_utils.to_categorical() helper function in Keras."
      ]
    },
    {
      "metadata": {
        "id": "_UD-_zFLdUYy",
        "colab_type": "code",
        "colab": {
          "base_uri": "https://localhost:8080/",
          "height": 34
        },
        "outputId": "f673c9a9-7987-4b19-92f4-ba4e04eceec2"
      },
      "cell_type": "code",
      "source": [
        "# one hot encode outputs\n",
        "y_train = np_utils.to_categorical(y_train)\n",
        "y_test = np_utils.to_categorical(y_test)\n",
        "num_classes = y_test.shape[1]\n",
        "print(y_train[0])"
      ],
      "execution_count": 15,
      "outputs": [
        {
          "output_type": "stream",
          "text": [
            "[0. 0. 0. 0. 0. 1. 0. 0. 0. 0.]\n"
          ],
          "name": "stdout"
        }
      ]
    },
    {
      "metadata": {
        "id": "NoaU3BGwdsDy",
        "colab_type": "text"
      },
      "cell_type": "markdown",
      "source": [
        "We are now ready to create our simple neural network model. We will define our model in a function. This is handy if you want to extend the example later and try and get a better score.\n",
        "\n"
      ]
    },
    {
      "metadata": {
        "id": "Bx0T-XxYdsyK",
        "colab_type": "code",
        "colab": {}
      },
      "cell_type": "code",
      "source": [
        "# define baseline model\n",
        "\n",
        "def baseline_model():\n",
        "  # create the model\n",
        "  model = Sequential()\n",
        "  model.add(Dense(num_pixels, input_dim = num_pixels, kernel_initializer = 'normal', activation = 'relu'))\n",
        "  model.add(Dense(num_classes, kernel_initializer = 'normal', activation = 'softmax'))\n",
        "  \n",
        "  # compile model\n",
        "  \n",
        "  model.compile(loss = 'categorical_crossentropy', optimizer = 'adam', metrics = ['accuracy'])\n",
        "  \n",
        "  return model"
      ],
      "execution_count": 0,
      "outputs": []
    },
    {
      "metadata": {
        "id": "xTJx_8LUhNyH",
        "colab_type": "text"
      },
      "cell_type": "markdown",
      "source": [
        "The model is a simple neural network with one hidden layer with the same number of neurons as there are inputs (784). A rectifier activation function is used for the neurons in the hidden layer.\n",
        "\n",
        "A softmax activation function is used on the output layer to turn the outputs into probability-like values and allow one class of the 10 to be selected as the model’s output prediction. Logarithmic loss is used as the loss function (called categorical_crossentropy in Keras) and the efficient ADAM gradient descent algorithm is used to learn the weights.\n",
        "\n",
        "We can now fit and evaluate the model. The model is fit over 10 epochs with updates every 200 images. The test data is used as the validation dataset, allowing you to see the skill of the model as it trains. A verbose value of 2 is used to reduce the output to one line for each training epoch.\n",
        "\n",
        "Finally, the test dataset is used to evaluate the model and a classification error rate is printed."
      ]
    },
    {
      "metadata": {
        "id": "9zF3jHh1hOsv",
        "colab_type": "code",
        "colab": {
          "base_uri": "https://localhost:8080/",
          "height": 481
        },
        "outputId": "4458e320-9267-469e-cdcb-d1154443d87e"
      },
      "cell_type": "code",
      "source": [
        "# build the model\n",
        "\n",
        "model = baseline_model()\n",
        "\n",
        "# fit the model\n",
        "\n",
        "model.fit(X_train, y_train, validation_data = (X_test, y_test), epochs = 10, batch_size = 200, verbose = 2)\n",
        "\n",
        "# Final evaluation of the model\n",
        "\n",
        "scores = model.evaluate(X_test, y_test, verbose=0)\n",
        "\n",
        "print(scores) "
      ],
      "execution_count": 19,
      "outputs": [
        {
          "output_type": "stream",
          "text": [
            "WARNING:tensorflow:From /usr/local/lib/python3.6/dist-packages/tensorflow/python/ops/math_ops.py:3066: to_int32 (from tensorflow.python.ops.math_ops) is deprecated and will be removed in a future version.\n",
            "Instructions for updating:\n",
            "Use tf.cast instead.\n",
            "Train on 60000 samples, validate on 10000 samples\n",
            "Epoch 1/10\n",
            " - 7s - loss: 0.2757 - acc: 0.9218 - val_loss: 0.1394 - val_acc: 0.9602\n",
            "Epoch 2/10\n",
            " - 6s - loss: 0.1106 - acc: 0.9681 - val_loss: 0.0956 - val_acc: 0.9702\n",
            "Epoch 3/10\n",
            " - 6s - loss: 0.0702 - acc: 0.9798 - val_loss: 0.0732 - val_acc: 0.9773\n",
            "Epoch 4/10\n",
            " - 6s - loss: 0.0494 - acc: 0.9857 - val_loss: 0.0686 - val_acc: 0.9791\n",
            "Epoch 5/10\n",
            " - 6s - loss: 0.0358 - acc: 0.9898 - val_loss: 0.0659 - val_acc: 0.9801\n",
            "Epoch 6/10\n",
            " - 6s - loss: 0.0262 - acc: 0.9932 - val_loss: 0.0665 - val_acc: 0.9781\n",
            "Epoch 7/10\n",
            " - 6s - loss: 0.0197 - acc: 0.9952 - val_loss: 0.0587 - val_acc: 0.9809\n",
            "Epoch 8/10\n",
            " - 6s - loss: 0.0150 - acc: 0.9964 - val_loss: 0.0587 - val_acc: 0.9805\n",
            "Epoch 9/10\n",
            " - 6s - loss: 0.0102 - acc: 0.9981 - val_loss: 0.0615 - val_acc: 0.9809\n",
            "Epoch 10/10\n",
            " - 6s - loss: 0.0071 - acc: 0.9989 - val_loss: 0.0590 - val_acc: 0.9818\n",
            "[0.05900243194733048, 0.9818]\n"
          ],
          "name": "stdout"
        }
      ]
    },
    {
      "metadata": {
        "id": "8Gg0k3wClw6L",
        "colab_type": "code",
        "colab": {
          "base_uri": "https://localhost:8080/",
          "height": 34
        },
        "outputId": "2b5157f3-7763-4b3e-f63c-e172e1c13509"
      },
      "cell_type": "code",
      "source": [
        "print(\"Baseline Error: %.2f%%\" % (100-scores[1]*100))"
      ],
      "execution_count": 20,
      "outputs": [
        {
          "output_type": "stream",
          "text": [
            "Baseline Error: 1.82%\n"
          ],
          "name": "stdout"
        }
      ]
    },
    {
      "metadata": {
        "id": "P3R8mWbPmVsb",
        "colab_type": "text"
      },
      "cell_type": "markdown",
      "source": [
        "### Simple Convolutional Neural Network for MNIST\n",
        "\n",
        "\n",
        "Now that we have seen how to load the MNIST dataset and train a simple multi-layer perceptron model on it, it is time to develop a more sophisticated convolutional neural network or CNN model.\n",
        "\n",
        "Keras does provide a lot of capability for creating convolutional neural networks.\n",
        "\n",
        "In this section we will create a simple CNN for MNIST that demonstrates how to use all of the aspects of a modern CNN implementation, including Convolutional layers, Pooling layers and Dropout layers.\n",
        "\n",
        "The first step is to import the classes and functions needed."
      ]
    },
    {
      "metadata": {
        "id": "-tBCl7tNmafk",
        "colab_type": "code",
        "colab": {}
      },
      "cell_type": "code",
      "source": [
        "import numpy\n",
        "from keras.datasets import mnist\n",
        "from keras.models import Sequential\n",
        "from keras.layers import Dense\n",
        "from keras.layers import Dropout\n",
        "from keras.layers import Flatten\n",
        "from keras.layers.convolutional import Conv2D\n",
        "from keras.layers.convolutional import MaxPooling2D\n",
        "from keras.utils import np_utils\n",
        "from keras import backend as K\n",
        "K.set_image_dim_ordering('th')\n",
        "\n",
        "\n",
        "# fix random seed for reproducibility\n",
        "seed = 7\n",
        "numpy.random.seed(seed)"
      ],
      "execution_count": 0,
      "outputs": []
    },
    {
      "metadata": {
        "id": "VkeKmWZdmtFj",
        "colab_type": "text"
      },
      "cell_type": "markdown",
      "source": [
        "Next we need to load the MNIST dataset and reshape it so that it is suitable for use training a CNN. In Keras, the layers used for two-dimensional convolutions expect pixel values with the dimensions \n",
        "```\n",
        "[pixels][width][height].\n",
        "```\n",
        "\n",
        "\n",
        "In the case of RGB, the first dimension pixels would be 3 for the red, green and blue components and it would be like having 3 image inputs for every color image. In the case of MNIST where the pixel values are gray scale, the pixel dimension is set to 1."
      ]
    },
    {
      "metadata": {
        "id": "HLMbIK2GnJ2M",
        "colab_type": "code",
        "colab": {}
      },
      "cell_type": "code",
      "source": [
        "# load the data\n",
        "\n",
        "(X_train, y_train), (X_test, y_test) = mnist.load_data()\n",
        "\n",
        "# reshape to be [samples][pixels][width][height]\n",
        "\n",
        "X_train = X_train.reshape(X_train.shape[0], 1, 28, 28).astype('float32')\n",
        "X_test = X_test.reshape(X_test.shape[0], 1, 28, 28).astype('float32')"
      ],
      "execution_count": 0,
      "outputs": []
    },
    {
      "metadata": {
        "id": "_yGfS9bdvZH8",
        "colab_type": "text"
      },
      "cell_type": "markdown",
      "source": [
        "As before, it is a good idea to normalize the pixel values to the range 0 and 1 and one hot encode the output variables."
      ]
    },
    {
      "metadata": {
        "id": "py2-Tp_NvZ-O",
        "colab_type": "code",
        "colab": {}
      },
      "cell_type": "code",
      "source": [
        "# normalie ip value from 0-255 to 0-1\n",
        "\n",
        "X_train = X_train/255\n",
        "X_test = X_test/255\n",
        "\n",
        "# one hot encode outputs\n",
        "\n",
        "y_train = np_utils.to_categorical(y_train)\n",
        "y_test = np_utils.to_categorical(y_test)\n",
        "\n",
        "num_classes = y_test.shape[1]"
      ],
      "execution_count": 0,
      "outputs": []
    },
    {
      "metadata": {
        "id": "2lM5fjfTwjTu",
        "colab_type": "text"
      },
      "cell_type": "markdown",
      "source": [
        "Next we define our neural network model.\n",
        "\n",
        "Convolutional neural networks are more complex than standard multi-layer perceptrons, so we will start by using a simple structure to begin with that uses all of the elements for state of the art results. Below summarizes the network architecture.\n",
        "\n",
        "1. The first hidden layer is a convolutional layer called a Convolution2D. The layer has 32 feature maps, which with the size of 5×5 and a rectifier activation function. This is the input layer, expecting images with the structure outline above [pixels][width][height].\n",
        "\n",
        "2. Next we define a pooling layer that takes the max called MaxPooling2D. It is configured with a pool size of 2×2.\n",
        "\n",
        "3. The next layer is a regularization layer using dropout called Dropout. It is configured to randomly exclude 20% of neurons in the layer in order to reduce overfitting.\n",
        "\n",
        "4. Next is a layer that converts the 2D matrix data to a vector called Flatten. It allows the output to be processed by standard fully connected layers.\n",
        "\n",
        "5. Next a fully connected layer with 128 neurons and rectifier activation function.\n",
        "\n",
        "6. Finally, the output layer has 10 neurons for the 10 classes and a softmax activation function to output probability-like predictions for each class.\n",
        "\n",
        "As before, the model is trained using logarithmic loss and the ADAM gradient descent algorithm.\n",
        "\n"
      ]
    },
    {
      "metadata": {
        "id": "RTDYQ9Uuyny3",
        "colab_type": "code",
        "colab": {}
      },
      "cell_type": "code",
      "source": [
        "def baseline_model():\n",
        "\t# create model\n",
        "\tmodel = Sequential()\n",
        "\tmodel.add(Conv2D(32, (5, 5), input_shape=(1, 28, 28), activation='relu'))\n",
        "\tmodel.add(MaxPooling2D(pool_size=(2, 2)))\n",
        "\tmodel.add(Dropout(0.2))\n",
        "\tmodel.add(Flatten())\n",
        "\tmodel.add(Dense(128, activation='relu'))\n",
        "\tmodel.add(Dense(num_classes, activation='softmax'))\n",
        "\t# Compile model\n",
        "\tmodel.compile(loss='categorical_crossentropy', optimizer='adam', metrics=['accuracy'])\n",
        "\treturn model"
      ],
      "execution_count": 0,
      "outputs": []
    },
    {
      "metadata": {
        "id": "_a2RJmAYzmpg",
        "colab_type": "text"
      },
      "cell_type": "markdown",
      "source": [
        "We evaluate the model the same way as before with the multi-layer perceptron. The CNN is fit over 10 epochs with a batch size of 200.\n",
        "\n"
      ]
    },
    {
      "metadata": {
        "id": "NicLvqenznIH",
        "colab_type": "code",
        "colab": {
          "base_uri": "https://localhost:8080/",
          "height": 407
        },
        "outputId": "1f336e82-853a-420f-f060-c8f55b3f448e"
      },
      "cell_type": "code",
      "source": [
        "# build the model\n",
        "model = baseline_model()\n",
        "# Fit the model\n",
        "model.fit(X_train, y_train, validation_data=(X_test, y_test), epochs=10, batch_size=200, verbose=2)\n",
        "# Final evaluation of the model\n",
        "scores = model.evaluate(X_test, y_test, verbose=0)\n",
        "print(\"CNN Error: %.2f%%\" % (100-scores[1]*100))\n"
      ],
      "execution_count": 33,
      "outputs": [
        {
          "output_type": "stream",
          "text": [
            "Train on 60000 samples, validate on 10000 samples\n",
            "Epoch 1/10\n",
            " - 60s - loss: 0.2256 - acc: 0.9354 - val_loss: 0.0774 - val_acc: 0.9760\n",
            "Epoch 2/10\n",
            " - 61s - loss: 0.0711 - acc: 0.9786 - val_loss: 0.0448 - val_acc: 0.9849\n",
            "Epoch 3/10\n",
            " - 61s - loss: 0.0509 - acc: 0.9844 - val_loss: 0.0437 - val_acc: 0.9854\n",
            "Epoch 4/10\n",
            " - 61s - loss: 0.0388 - acc: 0.9881 - val_loss: 0.0402 - val_acc: 0.9874\n",
            "Epoch 5/10\n",
            " - 61s - loss: 0.0323 - acc: 0.9897 - val_loss: 0.0334 - val_acc: 0.9885\n",
            "Epoch 6/10\n",
            " - 60s - loss: 0.0267 - acc: 0.9917 - val_loss: 0.0319 - val_acc: 0.9899\n",
            "Epoch 7/10\n",
            " - 60s - loss: 0.0219 - acc: 0.9931 - val_loss: 0.0346 - val_acc: 0.9886\n",
            "Epoch 8/10\n",
            " - 60s - loss: 0.0188 - acc: 0.9941 - val_loss: 0.0319 - val_acc: 0.9893\n",
            "Epoch 9/10\n",
            " - 60s - loss: 0.0153 - acc: 0.9950 - val_loss: 0.0325 - val_acc: 0.9889\n",
            "Epoch 10/10\n",
            " - 61s - loss: 0.0136 - acc: 0.9959 - val_loss: 0.0319 - val_acc: 0.9898\n",
            "CNN Error: 1.02%\n"
          ],
          "name": "stdout"
        }
      ]
    },
    {
      "metadata": {
        "id": "77F_RECD0OYQ",
        "colab_type": "text"
      },
      "cell_type": "markdown",
      "source": [
        "Running the example, the accuracy on the training and validation test is printed each epoch and at the end of the classification error rate is printed.\n",
        "\n",
        "Epochs may take about 45 seconds to run on the GPU (e.g. on AWS). You can see that the network achieves an error rate of 1.03, which is better than our simple multi-layer perceptron model above."
      ]
    }
  ]
}