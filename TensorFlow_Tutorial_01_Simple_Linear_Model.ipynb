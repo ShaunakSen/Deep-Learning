{
  "nbformat": 4,
  "nbformat_minor": 0,
  "metadata": {
    "colab": {
      "name": "TensorFlow Tutorial #01 Simple Linear Model.ipynb",
      "version": "0.3.2",
      "provenance": [],
      "collapsed_sections": [],
      "include_colab_link": true
    },
    "kernelspec": {
      "name": "python3",
      "display_name": "Python 3"
    },
    "accelerator": "GPU"
  },
  "cells": [
    {
      "cell_type": "markdown",
      "metadata": {
        "id": "view-in-github",
        "colab_type": "text"
      },
      "source": [
        "<a href=\"https://colab.research.google.com/github/ShaunakSen/Deep-Learning/blob/master/TensorFlow_Tutorial_01_Simple_Linear_Model.ipynb\" target=\"_parent\"><img src=\"https://colab.research.google.com/assets/colab-badge.svg\" alt=\"Open In Colab\"/></a>"
      ]
    },
    {
      "cell_type": "markdown",
      "metadata": {
        "id": "mSAW9J3LTnIZ",
        "colab_type": "text"
      },
      "source": [
        "## TensorFlow Tutorial #01 - Simple Linear Model\n",
        "\n",
        "[link](https://www.youtube.com/watch?v=wuo4JdG3SvU&list=PL9Hr9sNUjfsmEu1ZniY0XpHSzl5uihcXZ&index=3)"
      ]
    },
    {
      "cell_type": "code",
      "metadata": {
        "id": "2rkmq5mPMTBv",
        "colab_type": "code",
        "outputId": "a2bb6d88-2925-41db-cb7c-523de4e90da6",
        "colab": {
          "base_uri": "https://localhost:8080/",
          "height": 34
        }
      },
      "source": [
        "import os\n",
        "work_dir = \"/content/TensorFlow-Tutorials/\"\n",
        "if os.getcwd() != work_dir:\n",
        "  !git clone https://github.com/Hvass-Labs/TensorFlow-Tutorials\n",
        "os.chdir(work_dir)"
      ],
      "execution_count": 99,
      "outputs": [
        {
          "output_type": "stream",
          "text": [
            "fatal: destination path 'TensorFlow-Tutorials' already exists and is not an empty directory.\n"
          ],
          "name": "stdout"
        }
      ]
    },
    {
      "cell_type": "code",
      "metadata": {
        "id": "ZjrRLByWTQv1",
        "colab_type": "code",
        "colab": {}
      },
      "source": [
        "%matplotlib inline\n",
        "import matplotlib.pyplot as plt\n",
        "import tensorflow as tf\n",
        "import numpy as np\n",
        "from sklearn.metrics import confusion_matrix"
      ],
      "execution_count": 0,
      "outputs": []
    },
    {
      "cell_type": "code",
      "metadata": {
        "id": "qt6lwb_rTcC9",
        "colab_type": "code",
        "outputId": "a8de622c-fbdf-4fb5-caa5-02aff5abbcde",
        "colab": {
          "base_uri": "https://localhost:8080/",
          "height": 34
        }
      },
      "source": [
        "tf.__version__"
      ],
      "execution_count": 101,
      "outputs": [
        {
          "output_type": "execute_result",
          "data": {
            "text/plain": [
              "'1.14.0'"
            ]
          },
          "metadata": {
            "tags": []
          },
          "execution_count": 101
        }
      ]
    },
    {
      "cell_type": "markdown",
      "metadata": {
        "id": "wTEN9SXZNSet",
        "colab_type": "text"
      },
      "source": [
        "### Load the data"
      ]
    },
    {
      "cell_type": "code",
      "metadata": {
        "id": "9Aoky2GvMr1f",
        "colab_type": "code",
        "colab": {}
      },
      "source": [
        "\n",
        "from mnist import MNIST\n",
        "data = MNIST(data_dir=\"data/MNIST/\")"
      ],
      "execution_count": 0,
      "outputs": []
    },
    {
      "cell_type": "markdown",
      "metadata": {
        "id": "YBp4B9HINY6f",
        "colab_type": "text"
      },
      "source": [
        "The MNIST data-set has now been loaded and consists of 70.000 images and class-numbers for the images. The data-set is split into 3 mutually exclusive sub-sets. We will only use the training and test-sets in this tutorial.\n",
        "\n"
      ]
    },
    {
      "cell_type": "code",
      "metadata": {
        "id": "pfe-lXe5NZk3",
        "colab_type": "code",
        "outputId": "620e7b41-f10f-4513-f50b-4fd0e0960302",
        "colab": {
          "base_uri": "https://localhost:8080/",
          "height": 70
        }
      },
      "source": [
        "print (\"train:\", data.x_train.shape, data.y_train.shape)\n",
        "print (\"valid:\", data.x_val.shape, data.y_val.shape)\n",
        "print (\"test\", data.x_test.shape, data.y_test.shape)"
      ],
      "execution_count": 103,
      "outputs": [
        {
          "output_type": "stream",
          "text": [
            "train: (55000, 784) (55000, 10)\n",
            "valid: (5000, 784) (5000, 10)\n",
            "test (10000, 784) (10000, 10)\n"
          ],
          "name": "stdout"
        }
      ]
    },
    {
      "cell_type": "markdown",
      "metadata": {
        "id": "EVPkD1QrOMva",
        "colab_type": "text"
      },
      "source": [
        "The labels for each image is an array of size 10, where one value will be 1, the index denoting the class"
      ]
    },
    {
      "cell_type": "code",
      "metadata": {
        "id": "rmhXj6IlN2LC",
        "colab_type": "code",
        "outputId": "cbc20db2-1dfd-4efb-ad07-f704522e306c",
        "colab": {
          "base_uri": "https://localhost:8080/",
          "height": 34
        }
      },
      "source": [
        "data.y_train[0]"
      ],
      "execution_count": 104,
      "outputs": [
        {
          "output_type": "execute_result",
          "data": {
            "text/plain": [
              "array([0., 0., 0., 0., 0., 1., 0., 0., 0., 0.])"
            ]
          },
          "metadata": {
            "tags": []
          },
          "execution_count": 104
        }
      ]
    },
    {
      "cell_type": "markdown",
      "metadata": {
        "id": "_9LkBgzHOiTn",
        "colab_type": "text"
      },
      "source": [
        "Copy some of the data-dimensions for convenience."
      ]
    },
    {
      "cell_type": "code",
      "metadata": {
        "id": "JG-R_b4FOcxC",
        "colab_type": "code",
        "outputId": "1ed94b2b-3e0c-45dc-fe26-a9b2afba5ba6",
        "colab": {
          "base_uri": "https://localhost:8080/",
          "height": 34
        }
      },
      "source": [
        "# The images are stored in one-dimensional arrays of this length.\n",
        "img_size_flat = data.img_size_flat\n",
        "\n",
        "# Tuple with height and width of images used to reshape arrays.\n",
        "img_shape = data.img_shape\n",
        "\n",
        "# Number of classes, one class for each of 10 digits.\n",
        "num_classes = data.num_classes\n",
        "\n",
        "print (img_size_flat, img_shape, num_classes)"
      ],
      "execution_count": 105,
      "outputs": [
        {
          "output_type": "stream",
          "text": [
            "784 (28, 28) 10\n"
          ],
          "name": "stdout"
        }
      ]
    },
    {
      "cell_type": "markdown",
      "metadata": {
        "id": "kdO-mYKqOu1Z",
        "colab_type": "text"
      },
      "source": [
        "The output-data is loaded as both integer class-numbers and so-called One-Hot encoded arrays. This means the class-numbers have been converted from a single integer to a vector whose length equals the number of possible classes. All elements of the vector are zero except for the $i$'th element which is 1 and means the class is $i$. For example, the One-Hot encoded labels for the first 5 images in the test-set are:\n",
        "\n"
      ]
    },
    {
      "cell_type": "code",
      "metadata": {
        "id": "ROGgtL2JOvhh",
        "colab_type": "code",
        "outputId": "da8d9b90-5f64-4489-ad69-f635238ead09",
        "colab": {
          "base_uri": "https://localhost:8080/",
          "height": 105
        }
      },
      "source": [
        "data.y_test[0:5,:]"
      ],
      "execution_count": 106,
      "outputs": [
        {
          "output_type": "execute_result",
          "data": {
            "text/plain": [
              "array([[0., 0., 0., 0., 0., 0., 0., 1., 0., 0.],\n",
              "       [0., 0., 1., 0., 0., 0., 0., 0., 0., 0.],\n",
              "       [0., 1., 0., 0., 0., 0., 0., 0., 0., 0.],\n",
              "       [1., 0., 0., 0., 0., 0., 0., 0., 0., 0.],\n",
              "       [0., 0., 0., 0., 1., 0., 0., 0., 0., 0.]])"
            ]
          },
          "metadata": {
            "tags": []
          },
          "execution_count": 106
        }
      ]
    },
    {
      "cell_type": "markdown",
      "metadata": {
        "id": "RaLeWilvPFy7",
        "colab_type": "text"
      },
      "source": [
        "We also need the classes as integers for various comparisons and performance measures. These can be found from the One-Hot encoded arrays by taking the index of the highest element using the np.argmax() function. But this has already been done for us when the data-set was loaded, so we can see the class-number for the first five images in the test-set. Compare these to the One-Hot encoded arrays above.\n",
        "\n"
      ]
    },
    {
      "cell_type": "code",
      "metadata": {
        "id": "7extQxbDPGgx",
        "colab_type": "code",
        "outputId": "02d3b555-9cc3-4623-e519-610604e3e82b",
        "colab": {
          "base_uri": "https://localhost:8080/",
          "height": 34
        }
      },
      "source": [
        "data.y_test_cls[0:5]\n"
      ],
      "execution_count": 107,
      "outputs": [
        {
          "output_type": "execute_result",
          "data": {
            "text/plain": [
              "array([7, 2, 1, 0, 4])"
            ]
          },
          "metadata": {
            "tags": []
          },
          "execution_count": 107
        }
      ]
    },
    {
      "cell_type": "markdown",
      "metadata": {
        "id": "Xmg6RXaOPrTT",
        "colab_type": "text"
      },
      "source": [
        "### Helper-function for plotting images\n",
        "\n",
        "Function used to plot 9 images in a 3x3 grid, and writing the true and predicted classes below each image.\n",
        "\n"
      ]
    },
    {
      "cell_type": "code",
      "metadata": {
        "id": "RxN5mLpRPqEZ",
        "colab_type": "code",
        "colab": {}
      },
      "source": [
        "def plot_images(images, cls_true, cls_pred=None):\n",
        "  assert len(images) == len(cls_true) == 9\n",
        "  \n",
        "  # Create figure with 3x3 sub-plots.\n",
        "  fig, axes = plt.subplots(3, 3)\n",
        "  fig.subplots_adjust(hspace=0.3, wspace=0.3)\n",
        "  \n",
        "  for i, ax in enumerate(axes.flat):\n",
        "    # Plot image: reshape it first\n",
        "    \n",
        "    ax.imshow(images[i].reshape(img_shape), cmap='binary')\n",
        "    \n",
        "    # Show true and predicted classes.\n",
        "    \n",
        "    if cls_pred is None:\n",
        "      xlabel = \"True: {0}\".format(cls_true[i])\n",
        "    else:\n",
        "      xlabel = \"True: {0}, Pred: {1}\".format(cls_true[i], cls_pred[i])\n",
        "      \n",
        "    \n",
        "    # set the label\n",
        "    ax.set_xlabel(xlabel)\n",
        "        \n",
        "    # Remove ticks from the plot.\n",
        "    ax.set_xticks([])\n",
        "    ax.set_yticks([])\n",
        "  plt.show()"
      ],
      "execution_count": 0,
      "outputs": []
    },
    {
      "cell_type": "markdown",
      "metadata": {
        "id": "NhSLNELTRNvV",
        "colab_type": "text"
      },
      "source": [
        "Plot a few images to see if data is correct"
      ]
    },
    {
      "cell_type": "code",
      "metadata": {
        "id": "7uJQHshrRO-C",
        "colab_type": "code",
        "outputId": "9eaf1434-a8a0-43be-8288-7693f0f0c8a9",
        "colab": {
          "base_uri": "https://localhost:8080/",
          "height": 265
        }
      },
      "source": [
        "# Get the first images from the test-set.\n",
        "images = data.x_test[0:9]\n",
        "\n",
        "# Get the true classes for those images.\n",
        "cls_true = data.y_test_cls[0:9]\n",
        "\n",
        "# Plot the images and labels using our helper-function above.\n",
        "plot_images(images=images, cls_true=cls_true)"
      ],
      "execution_count": 109,
      "outputs": [
        {
          "output_type": "display_data",
          "data": {
            "image/png": "[encoded data removed]",
            "text/plain": [
              "<Figure size 432x288 with 9 Axes>"
            ]
          },
          "metadata": {
            "tags": []
          }
        }
      ]
    },
    {
      "cell_type": "markdown",
      "metadata": {
        "id": "qaFhNtoIV5IP",
        "colab_type": "text"
      },
      "source": [
        "### TensorFlow Graph\n",
        "\n",
        "The entire purpose of TensorFlow is to have a so-called computational graph that can be executed much more efficiently than if the same calculations were to be performed directly in Python. TensorFlow can be more efficient than NumPy because TensorFlow knows the entire computation graph that must be executed, while NumPy only knows the computation of a single mathematical operation at a time.\n",
        "\n",
        "TensorFlow can also automatically calculate the gradients that are needed to optimize the variables of the graph so as to make the model perform better. This is because the graph is a combination of simple mathematical expressions so the gradient of the entire graph can be calculated using the chain-rule for derivatives.\n",
        "\n",
        "TensorFlow can also take advantage of multi-core CPUs as well as GPUs - and Google has even built special chips just for TensorFlow which are called TPUs (Tensor Processing Units) that are even faster than GPUs.\n",
        "\n",
        "A TensorFlow graph consists of the following parts which will be detailed below:\n",
        "\n",
        "- Placeholder variables used to feed input into the graph.\n",
        "- Model variables that are going to be optimized so as to make the model perform better.\n",
        "- The model which is essentially just a mathematical function that calculates some output given the input in the placeholder variables and the model variables.\n",
        "- A cost measure that can be used to guide the optimization of the variables.\n",
        "- An optimization method which updates the variables of the model.\n",
        "\n",
        "In addition, the TensorFlow graph may also contain various debugging statements e.g. for logging data to be displayed using TensorBoard, which is not covered in this tutorial."
      ]
    },
    {
      "cell_type": "markdown",
      "metadata": {
        "id": "Ujoy4dQ9WF1S",
        "colab_type": "text"
      },
      "source": [
        "### Placeholder variables\n",
        "\n",
        "Placeholder variables serve as the input to the graph that we may change each time we execute the graph. We call this feeding the placeholder variables and it is demonstrated further below.\n",
        "\n",
        "Placeholder variables serve as the input to the graph that we may change each time we execute the graph. We call this feeding the placeholder variables and it is demonstrated further below.\n",
        "\n",
        "First we define the placeholder variable for the input images. This allows us to change the images that are input to the TensorFlow graph. This is a so-called tensor, which just means that it is a multi-dimensional vector or matrix. The data-type is set to float32 and the shape is set to `[None, img_size_flat]`, where None means that the tensor may hold an arbitrary number of images with each image being a vector of length img_size_flat."
      ]
    },
    {
      "cell_type": "code",
      "metadata": {
        "id": "DHp-sWDzWulK",
        "colab_type": "code",
        "outputId": "774eb343-3aaa-4a80-c4ce-579a3f1a42a0",
        "colab": {
          "base_uri": "https://localhost:8080/",
          "height": 34
        }
      },
      "source": [
        "x = tf.placeholder(dtype=tf.float32, shape=[None, img_size_flat])\n",
        "\n",
        "print (x.shape)"
      ],
      "execution_count": 110,
      "outputs": [
        {
          "output_type": "stream",
          "text": [
            "(?, 784)\n"
          ],
          "name": "stdout"
        }
      ]
    },
    {
      "cell_type": "markdown",
      "metadata": {
        "id": "IltuITKwW_Wb",
        "colab_type": "text"
      },
      "source": [
        "Next we have the placeholder variable for the true labels associated with the images that were input in the placeholder variable x. The shape of this placeholder variable is `[None, num_classes]` which means it may hold an arbitrary number of labels and each label is a vector of length num_classes which is 10 in this case.\n",
        "\n"
      ]
    },
    {
      "cell_type": "code",
      "metadata": {
        "id": "J_338JocW7QD",
        "colab_type": "code",
        "outputId": "57dba7ae-485d-46df-e508-cda7bd4e063c",
        "colab": {
          "base_uri": "https://localhost:8080/",
          "height": 34
        }
      },
      "source": [
        "y_true = tf.placeholder(dtype=tf.float32, shape=[None, num_classes])\n",
        "\n",
        "print (y_true.shape)"
      ],
      "execution_count": 111,
      "outputs": [
        {
          "output_type": "stream",
          "text": [
            "(?, 10)\n"
          ],
          "name": "stdout"
        }
      ]
    },
    {
      "cell_type": "markdown",
      "metadata": {
        "id": "OwrDIbRXXQC0",
        "colab_type": "text"
      },
      "source": [
        "Finally we have the placeholder variable for the true class of each image in the placeholder variable x. These are integers and the dimensionality of this placeholder variable is set to `[None]` which means the placeholder variable is a one-dimensional vector of arbitrary length.\n",
        "\n"
      ]
    },
    {
      "cell_type": "code",
      "metadata": {
        "id": "Mr6S62geXKdb",
        "colab_type": "code",
        "outputId": "29a96670-1e29-4a69-a5f1-cab7e79a4020",
        "colab": {
          "base_uri": "https://localhost:8080/",
          "height": 34
        }
      },
      "source": [
        "y_true_cls = tf.placeholder(dtype=tf.int64, shape=[None])\n",
        "\n",
        "print (y_true_cls.shape)"
      ],
      "execution_count": 112,
      "outputs": [
        {
          "output_type": "stream",
          "text": [
            "(?,)\n"
          ],
          "name": "stdout"
        }
      ]
    },
    {
      "cell_type": "markdown",
      "metadata": {
        "id": "gMx9LrK2Y5Jv",
        "colab_type": "text"
      },
      "source": [
        "### Variables to be optimized\n",
        "\n",
        "Apart from the placeholder variables that were defined above and which serve as feeding input data into the model, there are also some model variables that must be changed by TensorFlow so as to make the model perform better on the training data.\n",
        "\n",
        "\n",
        "The first variable that must be optimized is called weights and is defined here as a TensorFlow variable that must be initialized with zeros and whose shape is `[img_size_flat, num_classes]`, so it is a 2-dimensional tensor (or matrix) with img_size_flat rows and num_classes columns.\n",
        "\n"
      ]
    },
    {
      "cell_type": "code",
      "metadata": {
        "id": "P2DkcG_qXaUi",
        "colab_type": "code",
        "outputId": "59a5f855-1749-4fa3-c1cc-8622aa4ef58f",
        "colab": {
          "base_uri": "https://localhost:8080/",
          "height": 34
        }
      },
      "source": [
        "# shape: 784 x 10\n",
        "weights = tf.Variable(tf.zeros([img_size_flat, num_classes]))\n",
        "\n",
        "print(weights.shape)"
      ],
      "execution_count": 113,
      "outputs": [
        {
          "output_type": "stream",
          "text": [
            "(784, 10)\n"
          ],
          "name": "stdout"
        }
      ]
    },
    {
      "cell_type": "markdown",
      "metadata": {
        "id": "LcpY9-xIZhEb",
        "colab_type": "text"
      },
      "source": [
        "The second variable that must be optimized is called biases and is defined as a 1-dimensional tensor (or vector) of length num_classes.\n",
        "\n"
      ]
    },
    {
      "cell_type": "code",
      "metadata": {
        "id": "Ko14BwqKZhzC",
        "colab_type": "code",
        "outputId": "eb387b93-dff0-4956-eae6-396d0fcc6851",
        "colab": {
          "base_uri": "https://localhost:8080/",
          "height": 34
        }
      },
      "source": [
        "biases = tf.Variable(tf.zeros([num_classes]))\n",
        "\n",
        "print (biases.shape)"
      ],
      "execution_count": 114,
      "outputs": [
        {
          "output_type": "stream",
          "text": [
            "(10,)\n"
          ],
          "name": "stdout"
        }
      ]
    },
    {
      "cell_type": "markdown",
      "metadata": {
        "id": "NJREhXvwZl1S",
        "colab_type": "text"
      },
      "source": [
        "### Model\n",
        "\n",
        "This simple mathematical model multiplies the images in the placeholder variable x with the weights and then adds the biases - This is like a simple linear model\n",
        "\n",
        "The result is a matrix of shape `[num_images, num_classes]` because x has shape `[num_images, img_size_flat]` and weights has shape` [img_size_flat, num_classes]`, so the multiplication of those two matrices is a matrix with shape `[num_images, num_classes]` and then the biases vector is added to each row of that matrix.\n",
        "\n",
        "\n",
        "```\n",
        "X * weights + bias\n",
        "\n",
        "[num_images, 784] * [784, 10] + [10]\n",
        "\n",
        "\n",
        "output = [num_images, 10]\n",
        "\n",
        "```\n",
        "Note that the name logits is typical TensorFlow terminology, but other people may call the variable something else.\n",
        "\n"
      ]
    },
    {
      "cell_type": "code",
      "metadata": {
        "id": "kz0p6mTUanA8",
        "colab_type": "code",
        "outputId": "254e4880-a6df-442c-e379-0e5ec8ffe5f8",
        "colab": {
          "base_uri": "https://localhost:8080/",
          "height": 34
        }
      },
      "source": [
        "logits = tf.matmul(x, weights) + biases\n",
        "\n",
        "print (logits.shape)"
      ],
      "execution_count": 115,
      "outputs": [
        {
          "output_type": "stream",
          "text": [
            "(?, 10)\n"
          ],
          "name": "stdout"
        }
      ]
    },
    {
      "cell_type": "markdown",
      "metadata": {
        "id": "BRBAk3_-a7RP",
        "colab_type": "text"
      },
      "source": [
        "Now logits is a matrix with num_images rows and num_classes columns, where the element of the $i$'th row and $j$'th column is an estimate of how likely the $i$'th input image is to be of the $j$'th class.\n",
        "\n",
        "However, these estimates are a bit rough and difficult to interpret because the numbers may be very small or large, so we want to normalize them so that each row of the logits matrix sums to one, and each element is limited between zero and one. This is calculated using the so-called softmax function and the result is stored in y_pred."
      ]
    },
    {
      "cell_type": "code",
      "metadata": {
        "id": "ql335Wr6a6nR",
        "colab_type": "code",
        "outputId": "f0a5a524-6d11-4944-80dd-47d4cbc8ecde",
        "colab": {
          "base_uri": "https://localhost:8080/",
          "height": 34
        }
      },
      "source": [
        "# normalize the logits\n",
        "\n",
        "y_pred = tf.nn.softmax(logits=logits)\n",
        "\n",
        "print (y_pred.shape)"
      ],
      "execution_count": 116,
      "outputs": [
        {
          "output_type": "stream",
          "text": [
            "(?, 10)\n"
          ],
          "name": "stdout"
        }
      ]
    },
    {
      "cell_type": "markdown",
      "metadata": {
        "id": "4vuy2W9PbUh4",
        "colab_type": "text"
      },
      "source": [
        "The predicted class can be calculated from the y_pred matrix by taking the index of the largest element in each row.\n",
        "\n"
      ]
    },
    {
      "cell_type": "code",
      "metadata": {
        "id": "12qH6G7sbMV7",
        "colab_type": "code",
        "outputId": "4946aac3-82dd-4c30-ad39-d5e4363d5456",
        "colab": {
          "base_uri": "https://localhost:8080/",
          "height": 34
        }
      },
      "source": [
        "y_pred_cls = tf.argmax(y_pred, axis=1)\n",
        "\n",
        "print (y_pred_cls.shape)\n",
        "\n"
      ],
      "execution_count": 117,
      "outputs": [
        {
          "output_type": "stream",
          "text": [
            "(?,)\n"
          ],
          "name": "stdout"
        }
      ]
    },
    {
      "cell_type": "markdown",
      "metadata": {
        "id": "uFagA1E-dBBP",
        "colab_type": "text"
      },
      "source": [
        "### Cost-function to be optimized\n",
        "\n",
        "To make the model better at classifying the input images, we must somehow change the variables for weights and biases. To do this we first need to know how well the model currently performs by comparing the predicted output of the model y_pred to the desired output y_true.\n",
        "\n",
        "The cross-entropy is a performance measure used in classification. The cross-entropy is a continuous function that is always positive and if the predicted output of the model exactly matches the desired output then the cross-entropy equals zero. The goal of optimization is therefore to minimize the cross-entropy so it gets as close to zero as possible by changing the weights and biases of the model.\n",
        "\n",
        "TensorFlow has a built-in function for calculating the cross-entropy. Note that it uses the values of the logits because it also calculates the softmax internally."
      ]
    },
    {
      "cell_type": "code",
      "metadata": {
        "id": "WayMUR9SdKXy",
        "colab_type": "code",
        "outputId": "b478572c-e555-4994-d882-76b6c97bda0f",
        "colab": {
          "base_uri": "https://localhost:8080/",
          "height": 52
        }
      },
      "source": [
        "# Computes softmax cross entropy between `logits` and `labels`\n",
        "\n",
        "print(y_true.shape, logits.shape)\n",
        "\n",
        "cross_entropy = tf.nn.softmax_cross_entropy_with_logits_v2(labels=y_true, logits=logits)\n",
        "\n",
        "print (cross_entropy.shape)"
      ],
      "execution_count": 118,
      "outputs": [
        {
          "output_type": "stream",
          "text": [
            "(?, 10) (?, 10)\n",
            "(?,)\n"
          ],
          "name": "stdout"
        }
      ]
    },
    {
      "cell_type": "markdown",
      "metadata": {
        "id": "vFEF2wEgdscZ",
        "colab_type": "text"
      },
      "source": [
        "We have now calculated the cross-entropy for each of the image classifications so we have a measure of how well the model performs on each image individually. But in order to use the cross-entropy to guide the optimization of the model's variables we need a single scalar value, so we simply take the average of the cross-entropy for all the image classifications.\n",
        "\n"
      ]
    },
    {
      "cell_type": "code",
      "metadata": {
        "id": "Fa4XP-u_ds7h",
        "colab_type": "code",
        "colab": {}
      },
      "source": [
        "cost = tf.reduce_mean(cross_entropy) # scalar"
      ],
      "execution_count": 0,
      "outputs": []
    },
    {
      "cell_type": "markdown",
      "metadata": {
        "id": "XUj7gFCieGRr",
        "colab_type": "text"
      },
      "source": [
        "### Optimization method\n",
        "\n",
        "Now that we have a cost measure that must be minimized, we can then create an optimizer. In this case it is the basic form of Gradient Descent where the step-size is set to 0.5.\n",
        "\n",
        "Note that optimization is not performed at this point. In fact, nothing is calculated at all, we just add the optimizer-object to the TensorFlow graph for later execution."
      ]
    },
    {
      "cell_type": "code",
      "metadata": {
        "id": "Z4cMxyZ8d2iZ",
        "colab_type": "code",
        "colab": {}
      },
      "source": [
        "optimizer = tf.train.GradientDescentOptimizer(learning_rate=0.5).minimize(cost)\n"
      ],
      "execution_count": 0,
      "outputs": []
    },
    {
      "cell_type": "markdown",
      "metadata": {
        "id": "JanNoBDTeklM",
        "colab_type": "text"
      },
      "source": [
        "### Performance measures\n",
        "\n",
        "We need a few more performance measures to display the progress to the user.\n",
        "\n",
        "This is a vector of booleans whether the predicted class equals the true class of each image."
      ]
    },
    {
      "cell_type": "code",
      "metadata": {
        "id": "MVAbrEWKej3Q",
        "colab_type": "code",
        "outputId": "84eff5ef-ff03-4137-a0cb-e2254c62cdc6",
        "colab": {
          "base_uri": "https://localhost:8080/",
          "height": 34
        }
      },
      "source": [
        "correct_prediction = tf.equal(y_pred_cls, y_true_cls)\n",
        "\n",
        "print (correct_prediction.shape)"
      ],
      "execution_count": 121,
      "outputs": [
        {
          "output_type": "stream",
          "text": [
            "(?,)\n"
          ],
          "name": "stdout"
        }
      ]
    },
    {
      "cell_type": "markdown",
      "metadata": {
        "id": "qXb92XOXfvjs",
        "colab_type": "text"
      },
      "source": [
        "This calculates the classification accuracy by first type-casting the vector of booleans to floats, so that False becomes 0 and True becomes 1, and then calculating the average of these numbers.\n",
        "\n"
      ]
    },
    {
      "cell_type": "code",
      "metadata": {
        "id": "9IG5AnxifwFj",
        "colab_type": "code",
        "colab": {}
      },
      "source": [
        "accuracy = tf.reduce_mean(tf.cast(correct_prediction, tf.float32))"
      ],
      "execution_count": 0,
      "outputs": []
    },
    {
      "cell_type": "markdown",
      "metadata": {
        "id": "xHmK0QYFM_QX",
        "colab_type": "text"
      },
      "source": [
        "### Create TensorFlow session\n",
        "\n",
        "Once the TensorFlow graph has been created, we have to create a TensorFlow session which is used to execute the graph.\n",
        "\n"
      ]
    },
    {
      "cell_type": "code",
      "metadata": {
        "id": "ls0xmhHBf5od",
        "colab_type": "code",
        "colab": {}
      },
      "source": [
        "session = tf.Session()"
      ],
      "execution_count": 0,
      "outputs": []
    },
    {
      "cell_type": "markdown",
      "metadata": {
        "id": "cZdjavfSNOh2",
        "colab_type": "text"
      },
      "source": [
        "### Initialize variables\n",
        "\n",
        "The variables for weights and biases must be initialized before we start optimizing them.\n",
        "\n"
      ]
    },
    {
      "cell_type": "code",
      "metadata": {
        "id": "pU81oWTeNN28",
        "colab_type": "code",
        "colab": {}
      },
      "source": [
        "\"\"\"\n",
        "This method runs one \"step\" of TensorFlow computation, by\n",
        "running the necessary graph fragment to execute every `Operation`\n",
        "and evaluate every `Tensor` in `fetches`, substituting the values in\n",
        "`feed_dict` for the corresponding input values.\n",
        "\"\"\"\n",
        "\n",
        "session.run(tf.global_variables_initializer())\n"
      ],
      "execution_count": 0,
      "outputs": []
    },
    {
      "cell_type": "markdown",
      "metadata": {
        "id": "umX3dlMeOIai",
        "colab_type": "text"
      },
      "source": [
        "### Helper-function to perform optimization iterations\n",
        "\n",
        "There are 55.000 images in the training-set. It takes a long time to calculate the gradient of the model using all these images. We therefore use Stochastic Gradient Descent which only uses a small batch of images in each iteration of the optimizer.\n",
        "\n"
      ]
    },
    {
      "cell_type": "code",
      "metadata": {
        "id": "7Wh1vwESOFZw",
        "colab_type": "code",
        "colab": {}
      },
      "source": [
        "batch_size = 100\n",
        "\n"
      ],
      "execution_count": 0,
      "outputs": []
    },
    {
      "cell_type": "markdown",
      "metadata": {
        "id": "EE2OVnq1OS1q",
        "colab_type": "text"
      },
      "source": [
        "Function for performing a number of optimization iterations so as to gradually improve the weights and biases of the model. In each iteration, a new batch of data is selected from the training-set and then TensorFlow executes the optimizer using those training samples.\n",
        "\n"
      ]
    },
    {
      "cell_type": "code",
      "metadata": {
        "id": "irOiRUvtOoUR",
        "colab_type": "code",
        "outputId": "0445a746-fe03-4015-ecc4-2ce4e70a94f7",
        "colab": {
          "base_uri": "https://localhost:8080/",
          "height": 34
        }
      },
      "source": [
        "data.random_batch(20)[0].shape"
      ],
      "execution_count": 126,
      "outputs": [
        {
          "output_type": "execute_result",
          "data": {
            "text/plain": [
              "(20, 784)"
            ]
          },
          "metadata": {
            "tags": []
          },
          "execution_count": 126
        }
      ]
    },
    {
      "cell_type": "markdown",
      "metadata": {
        "id": "pSISKAslR1E6",
        "colab_type": "text"
      },
      "source": [
        " Run the optimizer using this batch of training data.\n",
        " \n",
        " TensorFlow assigns the variables in feed_dict_train to the placeholder variables and then runs the optimizer.\n",
        " \n",
        " NOTE:   **keys in the feed_dict have to match the placeholder variables**"
      ]
    },
    {
      "cell_type": "code",
      "metadata": {
        "id": "TpOq_oFBOSZ-",
        "colab_type": "code",
        "colab": {}
      },
      "source": [
        "def optimize(num_iterations):\n",
        "  \n",
        "  for i in range(num_iterations):\n",
        "    \n",
        "    # Get a batch of training examples.\n",
        "    # x_batch now holds a batch of images and\n",
        "    # y_true_batch are the true labels for those images.\n",
        "    \n",
        "    x_batch, y_true_batch, _ = data.random_batch(batch_size=batch_size)\n",
        "    \n",
        "    # x_batch shape: (batch_size, 784)\n",
        "    # y_true_batch : (batch_size, 10)\n",
        "    # _: y_cls\n",
        "    \n",
        "    # Put the batch into a dict with the proper names\n",
        "    # for placeholder variables in the TensorFlow graph.\n",
        "    # Note that the placeholder for y_true_cls is not set\n",
        "    # because it is not used during training.\n",
        "    \n",
        "    feed_dict_train = {\n",
        "        x: x_batch,\n",
        "        y_true: y_true_batch\n",
        "    }\n",
        "    \n",
        "    # Run the optimizer using this batch of training data.\n",
        "    # TensorFlow assigns the variables in feed_dict_train\n",
        "    # to the placeholder variables and then runs the optimizer.\n",
        "    \n",
        "    session.run(optimizer, feed_dict=feed_dict_train)\n",
        "    "
      ],
      "execution_count": 0,
      "outputs": []
    },
    {
      "cell_type": "markdown",
      "metadata": {
        "id": "b9qUIN8tRUBk",
        "colab_type": "text"
      },
      "source": [
        "### Helper-functions to show performance\n",
        "\n",
        "Dict with the test-set data to be used as input to the TensorFlow graph. Note that we must use the correct names for the placeholder variables in the TensorFlow graph.\n",
        "\n"
      ]
    },
    {
      "cell_type": "code",
      "metadata": {
        "id": "I1-f3ZroRTCw",
        "colab_type": "code",
        "colab": {}
      },
      "source": [
        "feed_dict_test = {\n",
        "    x: data.x_test,\n",
        "    y_true: data.y_test,\n",
        "    y_true_cls: data.y_test_cls\n",
        "}"
      ],
      "execution_count": 0,
      "outputs": []
    },
    {
      "cell_type": "markdown",
      "metadata": {
        "id": "Fmn-6F6nRndF",
        "colab_type": "text"
      },
      "source": [
        "Function for printing the classification accuracy on the test-set.\n",
        "\n",
        "`acc = session.run(accuracy, feed_dict=feed_dict_test)`: we run the tf session with the part of the computational graph that calculates the classification accuracy"
      ]
    },
    {
      "cell_type": "code",
      "metadata": {
        "id": "qFkTxUpGRmwA",
        "colab_type": "code",
        "colab": {}
      },
      "source": [
        "def print_accuracy():\n",
        "  # Use TensorFlow to compute the accuracy.\n",
        "  \n",
        "  acc = session.run(accuracy, feed_dict=feed_dict_test)\n",
        "  \n",
        "  # Print the accuracy.\n",
        "  \n",
        "  print(\"Accuracy on test-set: {0:.1%}\".format(acc))"
      ],
      "execution_count": 0,
      "outputs": []
    },
    {
      "cell_type": "markdown",
      "metadata": {
        "id": "eV-O7wA-VGUe",
        "colab_type": "text"
      },
      "source": [
        "Function for printing and plotting the confusion matrix using scikit-learn.\n",
        "\n"
      ]
    },
    {
      "cell_type": "code",
      "metadata": {
        "id": "3w4nj-3EVHAN",
        "colab_type": "code",
        "colab": {}
      },
      "source": [
        "def print_confusion_matrix():\n",
        "  # Get the true classifications for the test-set.\n",
        "  \n",
        "  cls_true = data.y_test_cls\n",
        "  \n",
        "  # Get the predicted classifications for the test-set.\n",
        "  \n",
        "  cls_pred = session.run(y_pred_cls, feed_dict=feed_dict_test)\n",
        "  \n",
        "  \n",
        "  # Get the confusion matrix using sklearn.\n",
        "  \n",
        "  cm = confusion_matrix(y_true=cls_true,\n",
        "                          y_pred=cls_pred)\n",
        "  \n",
        "  \n",
        "  # Print the confusion matrix as text.\n",
        "  print(cm)\n",
        "  \n",
        "  # Plot the confusion matrix as an image.\n",
        "  plt.imshow(cm, interpolation='nearest', cmap=plt.cm.Blues)\n",
        "  \n",
        "  # Make various adjustments to the plot.\n",
        "  plt.tight_layout()\n",
        "  plt.colorbar()\n",
        "  tick_marks = np.arange(num_classes)\n",
        "  plt.xticks(tick_marks, range(num_classes))\n",
        "  plt.yticks(tick_marks, range(num_classes))\n",
        "  plt.xlabel('Predicted')\n",
        "  plt.ylabel('True')\n",
        "\n",
        "  # Ensure the plot is shown correctly with multiple plots\n",
        "  # in a single Notebook cell.\n",
        "  plt.show()"
      ],
      "execution_count": 0,
      "outputs": []
    },
    {
      "cell_type": "markdown",
      "metadata": {
        "id": "cC_P15d6V4ML",
        "colab_type": "text"
      },
      "source": [
        "Function for plotting examples of images from the test-set that have been mis-classified.\n",
        "\n"
      ]
    },
    {
      "cell_type": "code",
      "metadata": {
        "id": "2-Z4wKPMV44L",
        "colab_type": "code",
        "colab": {}
      },
      "source": [
        "def plot_example_errors():\n",
        "  # Use TensorFlow to get a list of boolean values\n",
        "  # whether each test-image has been correctly classified,\n",
        "  # and a list for the predicted class of each image.\n",
        "  \n",
        "  correct, cls_pred = session.run([correct_prediction, y_pred_cls], feed_dict=feed_dict_test)\n",
        "  \n",
        "  \n",
        "  # Negate the boolean array.\n",
        "  incorrect = (correct == False)\n",
        "  \n",
        "  # Get the images from the test-set that have been incorrectly classified.\n",
        "  # Note: we had fed in the test data throught the feed_dict\n",
        "  images = data.x_test[incorrect]\n",
        "  \n",
        "  # Get the predicted classes for those images.\n",
        "  \n",
        "  cls_pred = cls_pred[incorrect]\n",
        "  \n",
        "  # Get the true classes for those images.\n",
        "  \n",
        "  cls_true = data.y_test_cls[incorrect]\n",
        "  \n",
        "  # Plot the first 9 images.\n",
        "  \n",
        "  plot_images(images=images[0:9],\n",
        "                cls_true=cls_true[0:9],\n",
        "                cls_pred=cls_pred[0:9])\n",
        "  \n",
        "  "
      ],
      "execution_count": 0,
      "outputs": []
    },
    {
      "cell_type": "markdown",
      "metadata": {
        "id": "OXEVxc75mzrX",
        "colab_type": "text"
      },
      "source": [
        "### Helper-function to plot the model weights\n",
        "\n",
        "Function for plotting the weights of the model. 10 images are plotted, one for each digit that the model is trained to recognize.\n",
        "\n"
      ]
    },
    {
      "cell_type": "code",
      "metadata": {
        "id": "BIw22UXfm4ie",
        "colab_type": "code",
        "colab": {}
      },
      "source": [
        "def plot_weights():\n",
        "  # Get the values for the weights from the TensorFlow variable.\n",
        "  w = session.run(weights)\n",
        "  \n",
        "  # Get the lowest and highest values for the weights.\n",
        "  # This is used to correct the colour intensity across\n",
        "  # the images so they can be compared with each other.\n",
        "  \n",
        "  w_min = np.min(w)\n",
        "  w_max = np.max(w)\n",
        "  \n",
        "  # Create figure with 3x4 sub-plots,\n",
        "  # where the last 2 sub-plots are unused.\n",
        "  \n",
        "  fig, axes = plt.subplots(3, 4)\n",
        "  fig.subplots_adjust(hspace=0.3, wspace=0.3)\n",
        "  \n",
        "  for i, ax in enumerate(axes.flat):\n",
        "    # Only use the weights for the first 10 sub-plots.\n",
        "    \n",
        "    if i < 10:\n",
        "      # Get the weights for the i'th digit and reshape it.\n",
        "      # w.shape = (784, 10)\n",
        "      \n",
        "      image = w[:, i].reshape(img_shape)\n",
        "      \n",
        "      # Set the label for the sub-plot.\n",
        "      ax.set_xlabel(\"Weights: {0}\".format(i))\n",
        "      \n",
        "      # Plot the image.\n",
        "      ax.imshow(image, vmin=w_min, vmax=w_max, cmap='seismic')\n",
        "      \n",
        "    # Remove ticks from each sub-plot.\n",
        "    ax.set_xticks([])\n",
        "    ax.set_yticks([])\n",
        "\n",
        "      \n",
        "  \n",
        "  # Ensure the plot is shown correctly with multiple plots\n",
        "  # in a single Notebook cell.\n",
        "  plt.show()\n",
        "  \n",
        "  "
      ],
      "execution_count": 0,
      "outputs": []
    },
    {
      "cell_type": "markdown",
      "metadata": {
        "id": "1Zo63UoWowbL",
        "colab_type": "text"
      },
      "source": [
        "### Performance before any optimization\n",
        "\n",
        "The accuracy on the test-set is 9.8%. This is because the model has only been initialized and not optimized at all, so it always predicts that the image shows a zero digit, as demonstrated in the plot below, and it turns out that 9.8% of the images in the test-set happens to be zero digits.\n",
        "\n"
      ]
    },
    {
      "cell_type": "code",
      "metadata": {
        "id": "VKOxMOykSLSY",
        "colab_type": "code",
        "outputId": "c1558501-6b73-456d-ad7f-b02c1f7434dc",
        "colab": {
          "base_uri": "https://localhost:8080/",
          "height": 34
        }
      },
      "source": [
        "print_accuracy()\n"
      ],
      "execution_count": 133,
      "outputs": [
        {
          "output_type": "stream",
          "text": [
            "Accuracy on test-set: 9.8%\n"
          ],
          "name": "stdout"
        }
      ]
    },
    {
      "cell_type": "code",
      "metadata": {
        "id": "CqJrN_lQo4wq",
        "colab_type": "code",
        "colab": {
          "base_uri": "https://localhost:8080/",
          "height": 265
        },
        "outputId": "53727913-6ab4-449a-c310-20b75baa6f84"
      },
      "source": [
        "plot_example_errors()"
      ],
      "execution_count": 134,
      "outputs": [
        {
          "output_type": "display_data",
          "data": {
            "image/png": "[encoded data removed]",
            "text/plain": [
              "<Figure size 432x288 with 9 Axes>"
            ]
          },
          "metadata": {
            "tags": []
          }
        }
      ]
    },
    {
      "cell_type": "markdown",
      "metadata": {
        "id": "NqUrY1JUo8-E",
        "colab_type": "text"
      },
      "source": [
        "### Performance after 1 optimization iteration\n",
        "\n",
        "Already after a single optimization iteration, the model has increased its accuracy on the test-set significantly.\n",
        "\n"
      ]
    },
    {
      "cell_type": "code",
      "metadata": {
        "id": "BB7znfb4TN41",
        "colab_type": "code",
        "colab": {}
      },
      "source": [
        "optimize(num_iterations=1)\n"
      ],
      "execution_count": 0,
      "outputs": []
    },
    {
      "cell_type": "code",
      "metadata": {
        "id": "Fr-N4_jNTOUO",
        "colab_type": "code",
        "outputId": "504186f1-3466-4e83-adab-d01100c4b2cc",
        "colab": {
          "base_uri": "https://localhost:8080/",
          "height": 34
        }
      },
      "source": [
        "print_accuracy()\n"
      ],
      "execution_count": 136,
      "outputs": [
        {
          "output_type": "stream",
          "text": [
            "Accuracy on test-set: 13.7%\n"
          ],
          "name": "stdout"
        }
      ]
    },
    {
      "cell_type": "code",
      "metadata": {
        "id": "OSnvq_vCpB2M",
        "colab_type": "code",
        "colab": {
          "base_uri": "https://localhost:8080/",
          "height": 265
        },
        "outputId": "2d111de7-5b01-4e58-e653-52bd70455743"
      },
      "source": [
        "plot_example_errors()"
      ],
      "execution_count": 137,
      "outputs": [
        {
          "output_type": "display_data",
          "data": {
            "image/png": "[encoded data removed]",
            "text/plain": [
              "<Figure size 432x288 with 9 Axes>"
            ]
          },
          "metadata": {
            "tags": []
          }
        }
      ]
    },
    {
      "cell_type": "markdown",
      "metadata": {
        "id": "o8Q57eyupGPR",
        "colab_type": "text"
      },
      "source": [
        "The weights can also be plotted as shown below. Positive weights are red and negative weights are blue. These weights can be intuitively understood as image-filters.\n",
        "\n",
        "For example, the weights used to determine if an image shows a zero-digit have a positive reaction (red) to an image of a circle, and have a negative reaction (blue) to images with content in the centre of the circle.\n",
        "\n",
        "Similarly, the weights used to determine if an image shows a one-digit react positively (red) to a vertical line in the centre of the image, and react negatively (blue) to images with content surrounding that line.\n",
        "\n",
        "Note that the weights mostly look like the digits they're supposed to recognize. This is because only one optimization iteration has been performed so the weights are only trained on 100 images. After training on several thousand images, the weights become more difficult to interpret because they have to recognize many variations of how digits can be written."
      ]
    },
    {
      "cell_type": "code",
      "metadata": {
        "id": "StxnwA11pSLY",
        "colab_type": "code",
        "colab": {
          "base_uri": "https://localhost:8080/",
          "height": 265
        },
        "outputId": "864c85f7-37b5-4e4d-da5b-a3258c5944cc"
      },
      "source": [
        "plot_weights()"
      ],
      "execution_count": 138,
      "outputs": [
        {
          "output_type": "display_data",
          "data": {
            "image/png": "[encoded data removed]",
            "text/plain": [
              "<Figure size 432x288 with 12 Axes>"
            ]
          },
          "metadata": {
            "tags": []
          }
        }
      ]
    },
    {
      "cell_type": "markdown",
      "metadata": {
        "id": "9ygpOTWdpWsK",
        "colab_type": "text"
      },
      "source": [
        "### Performance after 10 optimization iterations"
      ]
    },
    {
      "cell_type": "code",
      "metadata": {
        "id": "fl190QvXpTfS",
        "colab_type": "code",
        "colab": {}
      },
      "source": [
        "# We have already performed 1 iteration.\n",
        "optimize(num_iterations=9)"
      ],
      "execution_count": 0,
      "outputs": []
    },
    {
      "cell_type": "code",
      "metadata": {
        "id": "1VgH4YcZpY76",
        "colab_type": "code",
        "colab": {
          "base_uri": "https://localhost:8080/",
          "height": 34
        },
        "outputId": "eaf1dbbd-de58-43fd-d726-fb13f9e80005"
      },
      "source": [
        "print_accuracy()\n"
      ],
      "execution_count": 140,
      "outputs": [
        {
          "output_type": "stream",
          "text": [
            "Accuracy on test-set: 74.1%\n"
          ],
          "name": "stdout"
        }
      ]
    },
    {
      "cell_type": "code",
      "metadata": {
        "id": "2FwMvdxZpaVC",
        "colab_type": "code",
        "colab": {
          "base_uri": "https://localhost:8080/",
          "height": 265
        },
        "outputId": "71f37c6e-afc3-47e9-b787-2670c8fcdb9b"
      },
      "source": [
        "plot_example_errors()\n"
      ],
      "execution_count": 141,
      "outputs": [
        {
          "output_type": "display_data",
          "data": {
            "image/png": "[encoded data removed]",
            "text/plain": [
              "<Figure size 432x288 with 9 Axes>"
            ]
          },
          "metadata": {
            "tags": []
          }
        }
      ]
    },
    {
      "cell_type": "code",
      "metadata": {
        "id": "5auCjIoopb9d",
        "colab_type": "code",
        "colab": {
          "base_uri": "https://localhost:8080/",
          "height": 265
        },
        "outputId": "2a31672c-0668-4997-8e90-af5e76c1fa99"
      },
      "source": [
        "plot_weights()\n"
      ],
      "execution_count": 142,
      "outputs": [
        {
          "output_type": "display_data",
          "data": {
            "image/png": "[encoded data removed]",
            "text/plain": [
              "<Figure size 432x288 with 12 Axes>"
            ]
          },
          "metadata": {
            "tags": []
          }
        }
      ]
    },
    {
      "cell_type": "markdown",
      "metadata": {
        "id": "Yv_znF7DpkkV",
        "colab_type": "text"
      },
      "source": [
        "### Performance after 1000 optimization iterations\n",
        "\n",
        "After 1000 optimization iterations, the model only mis-classifies about one in ten images. As demonstrated below, some of the mis-classifications are justified because the images are very hard to determine with certainty even for humans, while others are quite obvious and should have been classified correctly by a good model. But this simple model cannot reach much better performance and more complex models are therefore needed.\n",
        "\n"
      ]
    },
    {
      "cell_type": "code",
      "metadata": {
        "id": "Zjmupnt5pf9A",
        "colab_type": "code",
        "colab": {}
      },
      "source": [
        "# We have already performed 10 iterations.\n",
        "optimize(num_iterations=990)"
      ],
      "execution_count": 0,
      "outputs": []
    },
    {
      "cell_type": "code",
      "metadata": {
        "id": "-_g5AxY_prha",
        "colab_type": "code",
        "colab": {
          "base_uri": "https://localhost:8080/",
          "height": 34
        },
        "outputId": "ad754969-c301-4e01-bf40-42f77e381f9b"
      },
      "source": [
        "print_accuracy()"
      ],
      "execution_count": 144,
      "outputs": [
        {
          "output_type": "stream",
          "text": [
            "Accuracy on test-set: 91.8%\n"
          ],
          "name": "stdout"
        }
      ]
    },
    {
      "cell_type": "code",
      "metadata": {
        "id": "EqSwGv8QpwuS",
        "colab_type": "code",
        "colab": {
          "base_uri": "https://localhost:8080/",
          "height": 265
        },
        "outputId": "b096349c-31de-4996-8597-8bfb0a011826"
      },
      "source": [
        "plot_example_errors()"
      ],
      "execution_count": 145,
      "outputs": [
        {
          "output_type": "display_data",
          "data": {
            "image/png": "[encoded data removed]",
            "text/plain": [
              "<Figure size 432x288 with 9 Axes>"
            ]
          },
          "metadata": {
            "tags": []
          }
        }
      ]
    },
    {
      "cell_type": "markdown",
      "metadata": {
        "id": "ZQss6AV1p40C",
        "colab_type": "text"
      },
      "source": [
        "The model has now been trained for 1000 optimization iterations, with each iteration using 100 images from the training-set. Because of the great variety of the images, the weights have now become difficult to interpret and we may doubt whether the model truly understands how digits are composed from lines, or whether the model has just memorized many different variations of pixels.\n",
        "\n"
      ]
    },
    {
      "cell_type": "code",
      "metadata": {
        "id": "8l43uqmJptEW",
        "colab_type": "code",
        "colab": {
          "base_uri": "https://localhost:8080/",
          "height": 265
        },
        "outputId": "0a840224-6c80-4530-c073-72d8e404ad02"
      },
      "source": [
        "plot_weights()"
      ],
      "execution_count": 146,
      "outputs": [
        {
          "output_type": "display_data",
          "data": {
            "image/png": "[encoded data removed]",
            "text/plain": [
              "<Figure size 432x288 with 12 Axes>"
            ]
          },
          "metadata": {
            "tags": []
          }
        }
      ]
    },
    {
      "cell_type": "markdown",
      "metadata": {
        "id": "u17vd6XbqWWu",
        "colab_type": "text"
      },
      "source": [
        "We can also print and plot the so-called confusion matrix which lets us see more details about the mis-classifications. For example, it shows that images actually depicting a 5 have sometimes been mis-classified as all other possible digits, but mostly as 6 or 8.\n",
        "\n"
      ]
    },
    {
      "cell_type": "code",
      "metadata": {
        "id": "WArTwDdopuou",
        "colab_type": "code",
        "colab": {
          "base_uri": "https://localhost:8080/",
          "height": 488
        },
        "outputId": "5136c3ae-c385-4d1b-ef72-7b614c41c134"
      },
      "source": [
        "print_confusion_matrix()\n"
      ],
      "execution_count": 147,
      "outputs": [
        {
          "output_type": "stream",
          "text": [
            "[[ 954    0    1    1    0    7   14    1    2    0]\n",
            " [   0 1110    2    2    0    2    4    2   13    0]\n",
            " [  11   11  890   15   12    8   19   13   47    6]\n",
            " [   3    1   19  891    0   40    4   15   31    6]\n",
            " [   1    4    2    1  918    0   16    2   10   28]\n",
            " [   8    4    2   19    9  786   21    5   31    7]\n",
            " [   7    3    4    0   11    7  921    3    2    0]\n",
            " [   3   12   18    7   11    1    0  945    3   28]\n",
            " [   7   10    5   14    8   30   10    9  877    4]\n",
            " [  11   10    1    9   38   10    1   25   13  891]]\n"
          ],
          "name": "stdout"
        },
        {
          "output_type": "display_data",
          "data": {
            "image/png": "[encoded data removed]",
            "text/plain": [
              "<Figure size 432x288 with 2 Axes>"
            ]
          },
          "metadata": {
            "tags": []
          }
        }
      ]
    },
    {
      "cell_type": "code",
      "metadata": {
        "id": "hunt_qwvqYBR",
        "colab_type": "code",
        "colab": {}
      },
      "source": [
        "session.close()"
      ],
      "execution_count": 0,
      "outputs": []
    }
  ]
}