{
  "nbformat": 4,
  "nbformat_minor": 0,
  "metadata": {
    "colab": {
      "provenance": [],
      "authorship_tag": "ABX9TyOJb49pMMKdCuk++DihGwRQ",
      "include_colab_link": true
    },
    "kernelspec": {
      "name": "python3",
      "display_name": "Python 3"
    },
    "language_info": {
      "name": "python"
    }
  },
  "cells": [
    {
      "cell_type": "markdown",
      "metadata": {
        "id": "view-in-github",
        "colab_type": "text"
      },
      "source": [
        "<a href=\"https://colab.research.google.com/github/ShaunakSen/Deep-Learning/blob/master/ML_algos_from_scratch.ipynb\" target=\"_parent\"><img src=\"https://colab.research.google.com/assets/colab-badge.svg\" alt=\"Open In Colab\"/></a>"
      ]
    },
    {
      "cell_type": "markdown",
      "metadata": {
        "id": "VF9WDuWyNFIc"
      },
      "source": [
        "# ML algos basics from scratch\n",
        "\n",
        "> Credits: Python engineer channel: https://www.youtube.com/playlist?list=PLqnslRFeH2Upcrywf-u2etjdxxkL8nl7E\n",
        "\n",
        "---\n",
        "\n",
        "## KNN\n",
        "\n",
        "It is basically based on majority voting. Say we have k = 3 and we are trying to detect a binary class label\n",
        "\n",
        "For a new point we look at the 3 closest training pts and pick the majority\n",
        "\n",
        "### Distance metrics\n",
        "\n",
        "Read here: https://machinelearningmastery.com/distance-measures-for-machine-learning/\n",
        "\n"
      ]
    },
    {
      "cell_type": "code",
      "metadata": {
        "id": "zhwKG-bRP9MW"
      },
      "source": [
        "import numpy as np\n",
        "import pandas as pd\n",
        "from collections import Counter\n",
        "from sklearn import datasets\n",
        "from sklearn.model_selection import train_test_split\n",
        "from sklearn import datasets\n",
        "import matplotlib.pyplot as plt\n",
        "from matplotlib.colors import ListedColormap\n",
        "cmap = ListedColormap([\"#FF0000\", \"#00FF00\", \"#0000FF\"])"
      ],
      "execution_count": null,
      "outputs": []
    },
    {
      "cell_type": "code",
      "metadata": {
        "id": "LSJqpkKtVepG"
      },
      "source": [
        "def euclidean_distance(v1, v2):\n",
        "    return np.sqrt(np.sum((v1 - v2)**2))"
      ],
      "execution_count": null,
      "outputs": []
    },
    {
      "cell_type": "code",
      "metadata": {
        "id": "zf5H1vMi2jxz"
      },
      "source": [
        "class KNN:\n",
        "    def __init__(self, k=3):\n",
        "        self.k = k\n",
        "\n",
        "    def fit(self, X, y):\n",
        "        \"\"\"\n",
        "        X are the training samples\n",
        "        y are the training labels\n",
        "        \"\"\"\n",
        "        self.X_train = X\n",
        "        self.y_train = y\n",
        "\n",
        "    def predict(self, X):\n",
        "        \"\"\"\n",
        "        Given\n",
        "        \"\"\"\n",
        "\n",
        "        pred_labels = [self._predict(x) for x in X]\n",
        "        return np.array(pred_labels)\n",
        "\n",
        "    def _predict(self, x):\n",
        "        ## 1. compute distances\n",
        "        distances = [euclidean_distance(x, x_train) for x_train in self.X_train]\n",
        "        distances = np.array(distances)\n",
        "        ## 2. get k neares sample labels\n",
        "        k_indices = np.argsort(distances)[:self.k]\n",
        "        k_nearest_labels = [self.y_train[i] for i in k_indices]\n",
        "        ## 3. majority voting\n",
        "        most_common = Counter(k_nearest_labels).most_common(1) ### returns [(most_common_item, count), (2nd most common, count), ...]\n",
        "        return most_common[0][0]\n",
        "\n"
      ],
      "execution_count": null,
      "outputs": []
    },
    {
      "cell_type": "code",
      "metadata": {
        "id": "c_7vSDtYP6Yu"
      },
      "source": [
        "iris = datasets.load_iris()\n",
        "X, y = iris.data, iris.target"
      ],
      "execution_count": null,
      "outputs": []
    },
    {
      "cell_type": "code",
      "metadata": {
        "colab": {
          "base_uri": "https://localhost:8080/"
        },
        "id": "wf2hiFpDQiC7",
        "outputId": "83c854f8-9e46-4bbe-ed58-0e786dbaa37c"
      },
      "source": [
        "X.shape, y.shape"
      ],
      "execution_count": null,
      "outputs": [
        {
          "output_type": "execute_result",
          "data": {
            "text/plain": [
              "((150, 4), (150,))"
            ]
          },
          "metadata": {},
          "execution_count": 5
        }
      ]
    },
    {
      "cell_type": "code",
      "metadata": {
        "colab": {
          "base_uri": "https://localhost:8080/"
        },
        "id": "yTgrZKbDQkC0",
        "outputId": "25a65b60-eb84-4bce-8f8c-a3b1fc255951"
      },
      "source": [
        "X_train, X_test, y_train, y_test = train_test_split(X, y, test_size=0.2, random_state=16)\n",
        "\n",
        "print (X_train.shape, X_test.shape, y_train.shape, y_test.shape)"
      ],
      "execution_count": null,
      "outputs": [
        {
          "output_type": "stream",
          "name": "stdout",
          "text": [
            "(120, 4) (30, 4) (120,) (30,)\n"
          ]
        }
      ]
    },
    {
      "cell_type": "code",
      "metadata": {
        "colab": {
          "base_uri": "https://localhost:8080/",
          "height": 265
        },
        "id": "maxx-8uzUN4L",
        "outputId": "9c47488f-d585-4aa9-8c97-677a36809588"
      },
      "source": [
        "plt.scatter(x=X[:, 0], y=X[:, 3], c=y, cmap=cmap)\n",
        "plt.show();"
      ],
      "execution_count": null,
      "outputs": [
        {
          "output_type": "display_data",
          "data": {
            "image/png": "[encoded data removed]",
            "text/plain": [
              "<Figure size 432x288 with 1 Axes>"
            ]
          },
          "metadata": {
            "needs_background": "light"
          }
        }
      ]
    },
    {
      "cell_type": "code",
      "metadata": {
        "id": "CYKyeNLYUcsD"
      },
      "source": [
        "clf = KNN(k=3)\n",
        "clf.fit(X_train, y_train)"
      ],
      "execution_count": null,
      "outputs": []
    },
    {
      "cell_type": "code",
      "metadata": {
        "id": "Uji80EhlXeOc"
      },
      "source": [
        "pred = clf.predict(X_test)"
      ],
      "execution_count": null,
      "outputs": []
    },
    {
      "cell_type": "code",
      "metadata": {
        "colab": {
          "base_uri": "https://localhost:8080/"
        },
        "id": "XWF66_KXXhcO",
        "outputId": "30ab5067-c1ca-44df-eae2-4bbe098fd2a0"
      },
      "source": [
        "pred"
      ],
      "execution_count": null,
      "outputs": [
        {
          "output_type": "execute_result",
          "data": {
            "text/plain": [
              "array([1, 0, 1, 1, 1, 0, 1, 0, 0, 1, 1, 2, 2, 0, 2, 1, 0, 0, 1, 1, 0, 0,\n",
              "       1, 2, 1, 1, 1, 2, 2, 0])"
            ]
          },
          "metadata": {},
          "execution_count": 10
        }
      ]
    },
    {
      "cell_type": "code",
      "metadata": {
        "id": "GbIaRxPBXizE"
      },
      "source": [
        "acc = np.sum(pred == y_test)/y_test.shape[0]"
      ],
      "execution_count": null,
      "outputs": []
    },
    {
      "cell_type": "code",
      "metadata": {
        "colab": {
          "base_uri": "https://localhost:8080/"
        },
        "id": "JIYRt8QuXpfU",
        "outputId": "e07804ad-c114-4132-fc4f-59eac846acf9"
      },
      "source": [
        "acc"
      ],
      "execution_count": null,
      "outputs": [
        {
          "output_type": "execute_result",
          "data": {
            "text/plain": [
              "0.9333333333333333"
            ]
          },
          "metadata": {},
          "execution_count": 12
        }
      ]
    },
    {
      "cell_type": "markdown",
      "metadata": {
        "id": "VbykTMQWNb8f"
      },
      "source": [
        "## Linear Regression\n",
        "\n",
        "1. Assumptions of LR\n",
        "2. Lasso and ridge - read here: https://colab.research.google.com/drive/1mDSuiBb2LvtpMorp1nQuUg6GNmPGzZaC\n",
        "\n"
      ]
    },
    {
      "cell_type": "markdown",
      "metadata": {
        "id": "sN1mOadt1SlU"
      },
      "source": [
        "![](https://i.imgur.com/TDkVmuG.jpeg)"
      ]
    },
    {
      "cell_type": "code",
      "metadata": {
        "id": "IcYDJXdqXqoF"
      },
      "source": [
        "class LinearRegression:\n",
        "\n",
        "    def __init__(self, lr=0.001, n_iters=1000):\n",
        "        self.lr = lr\n",
        "        self.n_iters = n_iters\n",
        "        self.theta = None\n",
        "\n",
        "    def loss(self, y, y_pred):\n",
        "        \"\"\"\n",
        "        Loss : (y - X. theta)^T . (y - X.theta) where y_pred = X.theta\n",
        "        \"\"\"\n",
        "        return np.dot((y-y_pred).T, (y-y_pred))[0][0]\n",
        "\n",
        "    def fit(self, X, y):\n",
        "\n",
        "        \"\"\"\n",
        "        X: training data : N x d\n",
        "        y: true labels: N x 1\n",
        "        \"\"\"\n",
        "\n",
        "        # 1 : append a column of 1 to X to turn this into a design matrix\n",
        "        n_samples = X.shape[0]\n",
        "        n_features = X.shape[1]\n",
        "        all_ones = np.ones((n_samples, 1))\n",
        "\n",
        "        X = np.concatenate((all_ones, X), axis=1)\n",
        "\n",
        "        # 2: initialize theta as a vector of shape (d+1) x 1\n",
        "\n",
        "        theta = np.zeros((n_features+1, 1))\n",
        "        y_pred = np.dot(X, theta)\n",
        "        loss_value = self.loss(y, y_pred)\n",
        "        n_ = 0 ### counter tracking the number of iterations\n",
        "\n",
        "        while loss_value > 1 and n_ < self.n_iters:\n",
        "\n",
        "            y_pred = np.dot(X, theta)\n",
        "\n",
        "            gradient = -X.T.dot(y - y_pred)\n",
        "\n",
        "            theta = theta - self.lr * gradient\n",
        "\n",
        "            loss_value = self.loss(y, y_pred)\n",
        "            if n_%10 == 0:\n",
        "                print (n_, loss_value)\n",
        "            n_ += 1\n",
        "\n",
        "        ### assign the trained wts\n",
        "        self.theta = theta\n",
        "\n",
        "    def predict(self, X):\n",
        "        \"\"\"\n",
        "        Given a set of samples predict the values using trained wts\n",
        "        \"\"\"\n",
        "        # 1 : append a column of 1 to X to turn this into a design matrix\n",
        "        n_samples = X.shape[0]\n",
        "        n_features = X.shape[1]\n",
        "        all_ones = np.ones((n_samples, 1))\n",
        "\n",
        "        X = np.concatenate((all_ones, X), axis=1)\n",
        "        print (X.shape, self.theta.shape)\n",
        "        if self.theta is None:\n",
        "            return 'Please run .fit(X,y) before running prediction'\n",
        "\n",
        "        return np.dot(X, self.theta).flatten()\n"
      ],
      "execution_count": null,
      "outputs": []
    },
    {
      "cell_type": "code",
      "metadata": {
        "id": "mFkqde3zeox1"
      },
      "source": [
        "X = np.random.randint(low=0, high=9, size=(10, 4))\n",
        "y = np.random.randint(low=0, high=9, size=(10, 1))\n",
        "\n"
      ],
      "execution_count": null,
      "outputs": []
    },
    {
      "cell_type": "code",
      "metadata": {
        "id": "dbj9V4WDezMy"
      },
      "source": [
        "linReg = LinearRegression(0.0001)\n",
        "linReg.fit(X, y)"
      ],
      "execution_count": null,
      "outputs": []
    },
    {
      "cell_type": "code",
      "metadata": {
        "id": "cx0tiYhFe1sC",
        "colab": {
          "base_uri": "https://localhost:8080/"
        },
        "outputId": "9a8f43ac-19fb-4720-8e64-f73fd1c71b43"
      },
      "source": [
        "y_pred = linReg.predict(X)\n",
        "\n",
        "print (X.shape, y_pred.shape)"
      ],
      "execution_count": null,
      "outputs": [
        {
          "output_type": "stream",
          "name": "stdout",
          "text": [
            "(10, 5) (5, 1)\n",
            "(10, 4) (10,)\n"
          ]
        }
      ]
    },
    {
      "cell_type": "code",
      "metadata": {
        "id": "nWvdqMAf36xn"
      },
      "source": [
        "# Load the diabetes dataset\n",
        "diabetes_data = datasets.load_diabetes()\n",
        "\n",
        "feature_names = diabetes_data['feature_names']\n",
        "X, y = diabetes_data['data'], diabetes_data['target']\n",
        "\n",
        "X = pd.DataFrame(data=X, columns=feature_names)\n",
        "y = pd.DataFrame(data=y, columns=['Target'])"
      ],
      "execution_count": null,
      "outputs": []
    },
    {
      "cell_type": "code",
      "metadata": {
        "colab": {
          "base_uri": "https://localhost:8080/",
          "height": 419
        },
        "id": "6-3bObNt4i3T",
        "outputId": "fea185eb-8153-4382-f615-644346cfe546"
      },
      "source": [
        "X.head()"
      ],
      "execution_count": null,
      "outputs": [
        {
          "output_type": "execute_result",
          "data": {
            "text/html": [
              "<div>\n",
              "<style scoped>\n",
              "    .dataframe tbody tr th:only-of-type {\n",
              "        vertical-align: middle;\n",
              "    }\n",
              "\n",
              "    .dataframe tbody tr th {\n",
              "        vertical-align: top;\n",
              "    }\n",
              "\n",
              "    .dataframe thead th {\n",
              "        text-align: right;\n",
              "    }\n",
              "</style>\n",
              "<table border=\"1\" class=\"dataframe\">\n",
              "  <thead>\n",
              "    <tr style=\"text-align: right;\">\n",
              "      <th></th>\n",
              "      <th>age</th>\n",
              "      <th>sex</th>\n",
              "      <th>bmi</th>\n",
              "      <th>bp</th>\n",
              "      <th>s1</th>\n",
              "      <th>s2</th>\n",
              "      <th>s3</th>\n",
              "      <th>s4</th>\n",
              "      <th>s5</th>\n",
              "      <th>s6</th>\n",
              "    </tr>\n",
              "  </thead>\n",
              "  <tbody>\n",
              "    <tr>\n",
              "      <th>0</th>\n",
              "      <td>0.038076</td>\n",
              "      <td>0.050680</td>\n",
              "      <td>0.061696</td>\n",
              "      <td>0.021872</td>\n",
              "      <td>-0.044223</td>\n",
              "      <td>-0.034821</td>\n",
              "      <td>-0.043401</td>\n",
              "      <td>-0.002592</td>\n",
              "      <td>0.019908</td>\n",
              "      <td>-0.017646</td>\n",
              "    </tr>\n",
              "    <tr>\n",
              "      <th>1</th>\n",
              "      <td>-0.001882</td>\n",
              "      <td>-0.044642</td>\n",
              "      <td>-0.051474</td>\n",
              "      <td>-0.026328</td>\n",
              "      <td>-0.008449</td>\n",
              "      <td>-0.019163</td>\n",
              "      <td>0.074412</td>\n",
              "      <td>-0.039493</td>\n",
              "      <td>-0.068330</td>\n",
              "      <td>-0.092204</td>\n",
              "    </tr>\n",
              "    <tr>\n",
              "      <th>2</th>\n",
              "      <td>0.085299</td>\n",
              "      <td>0.050680</td>\n",
              "      <td>0.044451</td>\n",
              "      <td>-0.005671</td>\n",
              "      <td>-0.045599</td>\n",
              "      <td>-0.034194</td>\n",
              "      <td>-0.032356</td>\n",
              "      <td>-0.002592</td>\n",
              "      <td>0.002864</td>\n",
              "      <td>-0.025930</td>\n",
              "    </tr>\n",
              "    <tr>\n",
              "      <th>3</th>\n",
              "      <td>-0.089063</td>\n",
              "      <td>-0.044642</td>\n",
              "      <td>-0.011595</td>\n",
              "      <td>-0.036656</td>\n",
              "      <td>0.012191</td>\n",
              "      <td>0.024991</td>\n",
              "      <td>-0.036038</td>\n",
              "      <td>0.034309</td>\n",
              "      <td>0.022692</td>\n",
              "      <td>-0.009362</td>\n",
              "    </tr>\n",
              "    <tr>\n",
              "      <th>4</th>\n",
              "      <td>0.005383</td>\n",
              "      <td>-0.044642</td>\n",
              "      <td>-0.036385</td>\n",
              "      <td>0.021872</td>\n",
              "      <td>0.003935</td>\n",
              "      <td>0.015596</td>\n",
              "      <td>0.008142</td>\n",
              "      <td>-0.002592</td>\n",
              "      <td>-0.031991</td>\n",
              "      <td>-0.046641</td>\n",
              "    </tr>\n",
              "    <tr>\n",
              "      <th>...</th>\n",
              "      <td>...</td>\n",
              "      <td>...</td>\n",
              "      <td>...</td>\n",
              "      <td>...</td>\n",
              "      <td>...</td>\n",
              "      <td>...</td>\n",
              "      <td>...</td>\n",
              "      <td>...</td>\n",
              "      <td>...</td>\n",
              "      <td>...</td>\n",
              "    </tr>\n",
              "    <tr>\n",
              "      <th>437</th>\n",
              "      <td>0.041708</td>\n",
              "      <td>0.050680</td>\n",
              "      <td>0.019662</td>\n",
              "      <td>0.059744</td>\n",
              "      <td>-0.005697</td>\n",
              "      <td>-0.002566</td>\n",
              "      <td>-0.028674</td>\n",
              "      <td>-0.002592</td>\n",
              "      <td>0.031193</td>\n",
              "      <td>0.007207</td>\n",
              "    </tr>\n",
              "    <tr>\n",
              "      <th>438</th>\n",
              "      <td>-0.005515</td>\n",
              "      <td>0.050680</td>\n",
              "      <td>-0.015906</td>\n",
              "      <td>-0.067642</td>\n",
              "      <td>0.049341</td>\n",
              "      <td>0.079165</td>\n",
              "      <td>-0.028674</td>\n",
              "      <td>0.034309</td>\n",
              "      <td>-0.018118</td>\n",
              "      <td>0.044485</td>\n",
              "    </tr>\n",
              "    <tr>\n",
              "      <th>439</th>\n",
              "      <td>0.041708</td>\n",
              "      <td>0.050680</td>\n",
              "      <td>-0.015906</td>\n",
              "      <td>0.017282</td>\n",
              "      <td>-0.037344</td>\n",
              "      <td>-0.013840</td>\n",
              "      <td>-0.024993</td>\n",
              "      <td>-0.011080</td>\n",
              "      <td>-0.046879</td>\n",
              "      <td>0.015491</td>\n",
              "    </tr>\n",
              "    <tr>\n",
              "      <th>440</th>\n",
              "      <td>-0.045472</td>\n",
              "      <td>-0.044642</td>\n",
              "      <td>0.039062</td>\n",
              "      <td>0.001215</td>\n",
              "      <td>0.016318</td>\n",
              "      <td>0.015283</td>\n",
              "      <td>-0.028674</td>\n",
              "      <td>0.026560</td>\n",
              "      <td>0.044528</td>\n",
              "      <td>-0.025930</td>\n",
              "    </tr>\n",
              "    <tr>\n",
              "      <th>441</th>\n",
              "      <td>-0.045472</td>\n",
              "      <td>-0.044642</td>\n",
              "      <td>-0.073030</td>\n",
              "      <td>-0.081414</td>\n",
              "      <td>0.083740</td>\n",
              "      <td>0.027809</td>\n",
              "      <td>0.173816</td>\n",
              "      <td>-0.039493</td>\n",
              "      <td>-0.004220</td>\n",
              "      <td>0.003064</td>\n",
              "    </tr>\n",
              "  </tbody>\n",
              "</table>\n",
              "<p>442 rows × 10 columns</p>\n",
              "</div>"
            ],
            "text/plain": [
              "          age       sex       bmi  ...        s4        s5        s6\n",
              "0    0.038076  0.050680  0.061696  ... -0.002592  0.019908 -0.017646\n",
              "1   -0.001882 -0.044642 -0.051474  ... -0.039493 -0.068330 -0.092204\n",
              "2    0.085299  0.050680  0.044451  ... -0.002592  0.002864 -0.025930\n",
              "3   -0.089063 -0.044642 -0.011595  ...  0.034309  0.022692 -0.009362\n",
              "4    0.005383 -0.044642 -0.036385  ... -0.002592 -0.031991 -0.046641\n",
              "..        ...       ...       ...  ...       ...       ...       ...\n",
              "437  0.041708  0.050680  0.019662  ... -0.002592  0.031193  0.007207\n",
              "438 -0.005515  0.050680 -0.015906  ...  0.034309 -0.018118  0.044485\n",
              "439  0.041708  0.050680 -0.015906  ... -0.011080 -0.046879  0.015491\n",
              "440 -0.045472 -0.044642  0.039062  ...  0.026560  0.044528 -0.025930\n",
              "441 -0.045472 -0.044642 -0.073030  ... -0.039493 -0.004220  0.003064\n",
              "\n",
              "[442 rows x 10 columns]"
            ]
          },
          "metadata": {},
          "execution_count": 95
        }
      ]
    },
    {
      "cell_type": "code",
      "metadata": {
        "id": "9Us0vJg94joS"
      },
      "source": [
        "linReg = LinearRegression(0.002, 10000)\n",
        "linReg.fit(X.values, y.values)"
      ],
      "execution_count": null,
      "outputs": []
    },
    {
      "cell_type": "markdown",
      "metadata": {
        "id": "UMa4eBz_LnXm"
      },
      "source": [
        "## Logistic Regression\n",
        "\n",
        "> Notes on the explanation by Andrew Ng: https://www.youtube.com/watch?v=-la3q9d7AKQ\n",
        "\n",
        "Say we have a dataset of tumor size and whether the tumor is malignant (1) or not (0)\n",
        "\n",
        "We can simply fit a st line through it using LinReg\n",
        "\n",
        "and then we set a threshold on the y axis value\n",
        "\n",
        "![](https://i.imgur.com/km28jFh.png)\n",
        "\n",
        "But is this a good approach\n",
        "\n",
        "Say we have an example way out to the right, now intuitively this should not change the decision boundary, but when we fit LinReg, the line will look different and the decision boundary if we chose the same threshold of 0.5 will change\n",
        "\n",
        "![](https://i.imgur.com/tfU8Z2O.png)\n",
        "\n",
        "So by adding a new example the decision boundary shifted and caused us to get a worse hypothesis\n",
        "\n",
        "More on the problems of using regression for classification tasks: https://stats.stackexchange.com/questions/22381/why-not-approach-classification-through-regression\n",
        "\n",
        "Also in LinReg the hypothesis can o/p values lesser than 0 or more than 1, which is counter-intuitive for classification\n",
        "\n",
        "---\n",
        "\n",
        "Logisic Regression model\n",
        "\n",
        "We simply apply the sigmoid function to the hypothesis to transform it to a range bw 0->1\n",
        "\n",
        "![](https://i.imgur.com/H7nBYXX.png)\n",
        "\n",
        "#### Interpretation of hypothesis op\n",
        "\n",
        "![](https://i.imgur.com/kGj8FQN.png)\n",
        "\n",
        "![](https://i.imgur.com/4B5thwA.png)\n",
        "\n",
        "![](https://i.imgur.com/RIeVlWu.jpeg)\n"
      ]
    },
    {
      "cell_type": "markdown",
      "metadata": {
        "id": "I2wBiG1Ob5nn"
      },
      "source": [
        "#### Decision boundary\n",
        "\n",
        "We want to analyze further when the hypothesis predicts a -ve or a +ve class\n",
        "\n",
        "Say we set a threshold of 0.5, s.t whenever $h_{\\theta}(x) \\geq 0.5$ we predict `y = 1` and whenever $h_{\\theta}(x) <  0.5$ we predict `y=0`\n",
        "\n",
        "From the sigmoid curve we see that g(z) >= 0.5 whenever z > 0\n",
        "\n",
        "Similarly as we have assumed for LogReg model that $z = \\theta^Tx $, we can say that $h_{\\theta}(x) = g(\\theta^Tx) \\geq 0.5$ when $\\theta^Tx \\geq 0$, so we predict y=1 whenever $\\theta^Tx > 0$\n",
        "\n",
        "![](https://i.imgur.com/mvToRcK.png)\n",
        "\n",
        "Similarly we predict y=0 whenever z < 0, i.e when $\\theta^Tx < 0$\n",
        "\n",
        "We can use this iinfo to better understand the decision boundary of LogReg\n",
        "\n",
        "Say we have:\n",
        "\n",
        "![](https://i.imgur.com/f4KffDj.jpeg)\n",
        "\n",
        "Now we have not discussed how to find these theta values but assume for now that they take the values (-3,1,1)\n",
        "\n",
        "![](https://i.imgur.com/DbNdzaD.png)\n",
        "\n",
        "Expanding on this, we can draw the db:\n",
        "\n",
        "![](https://i.imgur.com/o1mSM0F.png)\n",
        "\n",
        "Similarly for the region `x1+x2<3` we would predict y=0\n",
        "\n",
        "The line separating the 2 classes is called the __decision boundary__\n",
        "\n",
        "Also note that the db is a function of the theta values - we do not need the training set for plotting the db. of course the training set defines the values of theta, but the db itself can be determined once we have the theta values\n",
        "\n",
        "#### Non linear desision boundaries\n",
        "\n",
        "We can add higher order poly terms to LogReg to build complex dbs\n",
        "\n",
        "![](https://i.imgur.com/B9QqZuZ.png)\n",
        "\n",
        "\n",
        "\n"
      ]
    },
    {
      "cell_type": "markdown",
      "metadata": {
        "id": "NCU2le3jGrXJ"
      },
      "source": [
        "#### Cost Function - Problems with the MSE cost function in LogReg\n",
        "\n",
        "Let us understand how the theta values are actually computed\n",
        "\n",
        "Before that let us define the problem:\n",
        "\n",
        "![](https://i.imgur.com/96B9YOK.png)\n",
        "\n",
        "Note here there are m training data points and n features for each example\n",
        "\n",
        "For a single instance:\n",
        "\n",
        "$\\hat{y} = h_{\\theta}(x) =\\mathbf{sigmoid}(\\theta^T_{(1\\times n+1)}\\cdot \\mathbf{x}_{(1\\times n+1)}) \\rightarrow \\mathit{scalar}$\n",
        "\n",
        "#### Design matrix for LogReg\n",
        "\n",
        "In LogReg we can build the design matrix by considering the each instance along the column, and appending a row of 1s at the start\n",
        "\n",
        "`X -> (n+1) x m`\n",
        "\n",
        "![](https://i.imgur.com/uNpljpb.jpeg)\n",
        "\n",
        "Here we get the entire vector $h_{\\theta}(X)$ as avector of shape 1 x m -> the hypothesis for each of the m training instances\n",
        "\n",
        "Eah of these elemenets is a scalar\n",
        "\n",
        "\n",
        "\n",
        "LinReg cost function:\n",
        "\n",
        "![](https://i.imgur.com/o2g4xqU.png)\n",
        "\n",
        "As we have m examples, we sum over m values and divide by m\n",
        "This is the MSE loss in LinReg\n",
        "\n",
        "But in LogReg $h_{\\theta}(x)$ has a non-linearity, so it will be non-convex (having multiple local minima), so hard to optimize via Gradient Descent\n",
        "\n",
        "\n",
        "![](https://i.imgur.com/CssA936.jpeg)\n",
        "\n",
        "![](https://i.imgur.com/ZTEAUG4.png)\n",
        "\n",
        "\n",
        "\n"
      ]
    },
    {
      "cell_type": "markdown",
      "metadata": {
        "id": "iFYxjROPwIQA"
      },
      "source": [
        "### Cost function used in LogReg\n",
        "\n",
        "![](https://i.imgur.com/Oc4sBpL.png)\n",
        "\n",
        "![](https://i.imgur.com/rtX9xwx.png)\n",
        "\n",
        "Again here as y = 0 and we make the hypothesis of near 1 i.e P(y=1| x;theta)-> 1 then the cost is very high\n",
        "\n",
        "If we make the hypothesis of near 0 i.e P(y=1| x;theta)-> 0 then the cost is very low (almost zero)"
      ]
    },
    {
      "cell_type": "markdown",
      "metadata": {
        "id": "YMcjPb2bypAq"
      },
      "source": [
        "### Simplified Cost Function and Gradient Descent\n",
        "\n",
        "What we have done till now:\n",
        "\n",
        "![](https://i.imgur.com/PXGCTbG.png)\n",
        "\n",
        "![](https://i.imgur.com/NppBbhq.png)\n",
        "\n",
        "To conclude the cost function for LogReg:\n",
        "\n",
        "![](https://i.imgur.com/HzXeAzM.png)\n",
        "\n",
        "Why this particular cost function?\n",
        "\n",
        "- This can be derived from a statistical approach using MLE as well\n",
        "- It is convex, so convenient to optimize using GD\n",
        "\n",
        "![](https://i.imgur.com/1e87ZCq.png)\n",
        "\n",
        "The only task left is how to minimize this cost function\n",
        "\n",
        "\n"
      ]
    },
    {
      "cell_type": "markdown",
      "metadata": {
        "id": "qxLMXzh52H_T"
      },
      "source": [
        "### Minimizing the Cost Function\n",
        "\n",
        "![](https://i.imgur.com/CAs44n5.png)\n",
        "\n"
      ]
    },
    {
      "cell_type": "markdown",
      "metadata": {
        "id": "vL8dEbHviMaA"
      },
      "source": []
    },
    {
      "cell_type": "markdown",
      "metadata": {
        "id": "yTprwS2JiMWB"
      },
      "source": []
    },
    {
      "cell_type": "markdown",
      "metadata": {
        "id": "CJaGlI4liMNZ"
      },
      "source": [
        "## K-means clustering\n",
        "\n",
        "> https://www.youtube.com/watch?v=0MQEt10e4NM\n",
        "---\n",
        "\n",
        "### Intuition\n",
        "\n",
        "There are certain pts which are the centers of the clusters adn each pt in the cluster is near to one of the centers\n",
        "\n",
        "Also in k-means we assume `K` clusters with centers u1,u2...uk\n",
        "\n",
        "![](https://i.imgur.com/7DMhA1t.png)\n",
        "\n",
        "\n",
        "### Mathematical formulation of Loss\n",
        "\n",
        "For all points i in the data assigned to uj (cluster j) we can find the sum of distances to uj\n",
        "\n",
        "We do this for all the clusters\n",
        "\n",
        "Basically for each cluster j = 1 -> K, we take the points inside that cluser j and compute the distance from the center. This can be written as:\n",
        "\n",
        "![](https://i.imgur.com/flZo9Rh.png)\n",
        "\n",
        "We want to minimize this L\n",
        "\n",
        "### Algorithm\n",
        "\n",
        "K means iteratively tries to mimize L\n",
        "\n",
        "1. Init the centers randomly (u1, u2, ... uk)\n",
        "2. Now we have the centers, chose optimal `a` for fixed `u`\n",
        "    - We just assign each pt to the nearest center\n",
        "    ![](https://i.imgur.com/BZIG6Qg.png)\n",
        "3. Chose optimal `u` for fixed `a`\n",
        "    -\n",
        "4. Repeat 2 and 3 until convergence"
      ]
    },
    {
      "cell_type": "markdown",
      "source": [
        "## Simple NN from scratch\n",
        "\n",
        "> https://www.youtube.com/watch?v=tsqwvgHgwzs\n",
        "\n",
        "---"
      ],
      "metadata": {
        "id": "mAtgpwfIkOgp"
      }
    },
    {
      "cell_type": "markdown",
      "source": [
        "### Setup\n",
        "\n",
        "We want to build a simple NN with\n",
        "- one i/p layer (2 nodes)\n",
        "- one o/p layer (3 nodes) - 3 classes\n",
        "\n",
        "![](https://imgur.com/ZeAYPz0.png)\n",
        "\n",
        "![](https://imgur.com/w8BTe4N.png)\n",
        "\n",
        "Note here we take one sample at a time for __X__\n",
        "\n",
        "### Loss function\n",
        "\n",
        "![](https://imgur.com/o2DxUzv.png)"
      ],
      "metadata": {
        "id": "h2rh3dVzoOkP"
      }
    },
    {
      "cell_type": "code",
      "metadata": {
        "id": "DlDKC-fF4rj5"
      },
      "source": [
        "f"
      ],
      "execution_count": null,
      "outputs": []
    }
  ]
}