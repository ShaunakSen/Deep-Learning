{
  "nbformat": 4,
  "nbformat_minor": 0,
  "metadata": {
    "colab": {
      "name": "Deep Learning with PyTorch: A 60 Minute Blitz.ipynb",
      "version": "0.3.2",
      "provenance": [],
      "include_colab_link": true
    },
    "kernelspec": {
      "name": "python3",
      "display_name": "Python 3"
    }
  },
  "cells": [
    {
      "cell_type": "markdown",
      "metadata": {
        "id": "view-in-github",
        "colab_type": "text"
      },
      "source": [
        "<a href=\"https://colab.research.google.com/github/ShaunakSen/Deep-Learning/blob/master/Deep_Learning_with_PyTorch_A_60_Minute_Blitz.ipynb\" target=\"_parent\"><img src=\"https://colab.research.google.com/assets/colab-badge.svg\" alt=\"Open In Colab\"/></a>"
      ]
    },
    {
      "metadata": {
        "id": "C02OKpsnZX7B",
        "colab_type": "text"
      },
      "cell_type": "markdown",
      "source": [
        "# Deep Learning with PyTorch: A 60 Minute Blitz\n",
        "\n",
        "[link to tutorial](https://pytorch.org/tutorials/beginner/blitz/tensor_tutorial.html#sphx-glr-beginner-blitz-tensor-tutorial-py)\n",
        "\n",
        "\n",
        "\n",
        "## What is PYTORCH?\n",
        "\n",
        "It’s a Python-based scientific computing package targeted at two sets of audiences:\n",
        "\n",
        "- A replacement for NumPy to use the power of GPUs\n",
        "\n",
        "- a deep learning research platform that provides maximum flexibility and speed\n",
        "\n",
        "## Getting Started\n",
        "\n",
        "### Tensors\n",
        "\n",
        "Tensors are similar to NumPy’s ndarrays, with the addition being that Tensors can also be used on a GPU to accelerate computing.\n",
        "\n",
        "\n",
        "\n"
      ]
    },
    {
      "metadata": {
        "id": "1MPVKK4bX5wA",
        "colab_type": "code",
        "colab": {}
      },
      "cell_type": "code",
      "source": [
        "from __future__ import print_function\n",
        "\n",
        "import torch"
      ],
      "execution_count": 0,
      "outputs": []
    },
    {
      "metadata": {
        "id": "BTZm7QbzYJb6",
        "colab_type": "text"
      },
      "cell_type": "markdown",
      "source": [
        "Simple operations with tensors in Pytorch:"
      ]
    },
    {
      "metadata": {
        "id": "OHsz-sQjaDKl",
        "colab_type": "code",
        "colab": {
          "base_uri": "https://localhost:8080/",
          "height": 289
        },
        "outputId": "be31b5a0-ac12-4e94-d87e-2f3587bbdd5f"
      },
      "cell_type": "code",
      "source": [
        "x = torch.empty(5, 3)\n",
        "print(x)\n",
        "\n",
        "# Construct a randomly initialized matrix:\n",
        "\n",
        "x = torch.rand(5, 3)\n",
        "\n",
        "print (x)\n",
        "\n",
        "# Construct a matrix filled zeros and of dtype long:\n",
        "\n",
        "x = torch.zeros(5, 3, dtype=torch.long)\n",
        "\n",
        "print(x)\n",
        "\n",
        "# Construct a tensor directly from data:\n",
        "\n",
        "x = torch.tensor([5.5, 3])\n",
        "\n",
        "print(x)"
      ],
      "execution_count": 7,
      "outputs": [
        {
          "output_type": "stream",
          "text": [
            "tensor([[2.9652e-36, 0.0000e+00, 4.4842e-44],\n",
            "        [0.0000e+00,        nan, 1.5554e-43],\n",
            "        [2.1511e+23, 5.4171e-05, 1.3520e+22],\n",
            "        [1.0812e-05, 1.6986e-07, 1.6926e+22],\n",
            "        [5.4171e-05, 3.3560e-06, 2.5944e-01]])\n",
            "tensor([[0.4885, 0.9567, 0.4418],\n",
            "        [0.8493, 0.5637, 0.4951],\n",
            "        [0.5968, 0.1448, 0.3345],\n",
            "        [0.7567, 0.7668, 0.7266],\n",
            "        [0.8468, 0.6290, 0.0301]])\n",
            "tensor([[0, 0, 0],\n",
            "        [0, 0, 0],\n",
            "        [0, 0, 0],\n",
            "        [0, 0, 0],\n",
            "        [0, 0, 0]])\n",
            "tensor([5.5000, 3.0000])\n"
          ],
          "name": "stdout"
        }
      ]
    },
    {
      "metadata": {
        "id": "G9y2dL8bgKGX",
        "colab_type": "text"
      },
      "cell_type": "markdown",
      "source": [
        "We can also create a tensor based on an existing tensor. These methods will reuse properties of the input tensor, e.g. dtype, unless new values are provided by user"
      ]
    },
    {
      "metadata": {
        "id": "-1li7LKqgMun",
        "colab_type": "code",
        "colab": {
          "base_uri": "https://localhost:8080/",
          "height": 102
        },
        "outputId": "9458706b-ed4e-41cf-9d26-b839e212eef5"
      },
      "cell_type": "code",
      "source": [
        "x = x.new_ones(5, 3)\n",
        "\n",
        "print (x)"
      ],
      "execution_count": 8,
      "outputs": [
        {
          "output_type": "stream",
          "text": [
            "tensor([[1., 1., 1.],\n",
            "        [1., 1., 1.],\n",
            "        [1., 1., 1.],\n",
            "        [1., 1., 1.],\n",
            "        [1., 1., 1.]])\n"
          ],
          "name": "stdout"
        }
      ]
    },
    {
      "metadata": {
        "id": "3UmUPFcPgYhh",
        "colab_type": "code",
        "colab": {
          "base_uri": "https://localhost:8080/",
          "height": 119
        },
        "outputId": "57d8c54a-ab6d-4dca-c09f-dfddc6bd5707"
      },
      "cell_type": "code",
      "source": [
        "x = torch.randn_like(x, dtype=torch.float)\n",
        "\n",
        "print(x)\n",
        "\n",
        "# Get size\n",
        "\n",
        "print(x.size())"
      ],
      "execution_count": 11,
      "outputs": [
        {
          "output_type": "stream",
          "text": [
            "tensor([[ 1.4667,  0.9827,  1.0788],\n",
            "        [ 1.2486,  0.2936,  1.7310],\n",
            "        [-0.5155,  1.0372,  0.6963],\n",
            "        [-0.4524, -0.5691,  0.0402],\n",
            "        [-0.1388, -0.4519,  0.6485]])\n",
            "torch.Size([5, 3])\n"
          ],
          "name": "stdout"
        }
      ]
    },
    {
      "metadata": {
        "id": "PhoMknOTg1S2",
        "colab_type": "text"
      },
      "cell_type": "markdown",
      "source": [
        "### Operations\n",
        "\n",
        "There are multiple syntaxes for operations. In the following example, we will take a look at the addition operation.\n",
        "\n",
        "Addition: syntax 1\n",
        "\n"
      ]
    },
    {
      "metadata": {
        "id": "faFoZu3Vg8RM",
        "colab_type": "code",
        "colab": {
          "base_uri": "https://localhost:8080/",
          "height": 272
        },
        "outputId": "7b76be3c-9860-4df8-ec5f-db3d29ff8fa1"
      },
      "cell_type": "code",
      "source": [
        "print (x)\n",
        "\n",
        "y = torch.rand(5, 3)\n",
        "\n",
        "print (y)\n",
        "\n",
        "print (x + y)\n",
        "\n",
        "# diff syntax:\n",
        "\n",
        "# print (torch.add(x, y))\n"
      ],
      "execution_count": 13,
      "outputs": [
        {
          "output_type": "stream",
          "text": [
            "tensor([[ 1.4667,  0.9827,  1.0788],\n",
            "        [ 1.2486,  0.2936,  1.7310],\n",
            "        [-0.5155,  1.0372,  0.6963],\n",
            "        [-0.4524, -0.5691,  0.0402],\n",
            "        [-0.1388, -0.4519,  0.6485]])\n",
            "tensor([[0.8182, 0.3427, 0.1410],\n",
            "        [0.4064, 0.1530, 0.2190],\n",
            "        [0.1948, 0.3130, 0.6729],\n",
            "        [0.5562, 0.9651, 0.9468],\n",
            "        [0.9648, 0.2941, 0.8028]])\n",
            "tensor([[ 2.2849,  1.3254,  1.2198],\n",
            "        [ 1.6550,  0.4466,  1.9500],\n",
            "        [-0.3208,  1.3502,  1.3692],\n",
            "        [ 0.1039,  0.3960,  0.9870],\n",
            "        [ 0.8260, -0.1577,  1.4513]])\n"
          ],
          "name": "stdout"
        }
      ]
    },
    {
      "metadata": {
        "id": "IntmDRy1hVfK",
        "colab_type": "code",
        "colab": {
          "base_uri": "https://localhost:8080/",
          "height": 187
        },
        "outputId": "924608d8-cd78-4e31-cedd-8a8494d2f6e7"
      },
      "cell_type": "code",
      "source": [
        "# Addition: providing an output tensor as argument\n",
        "\n",
        "result = torch.empty(5, 3)\n",
        "\n",
        "torch.add(x, y, out=result)\n",
        "\n",
        "print(result)\n",
        "\n",
        "\n",
        "# Addition: in-place\n",
        "\n",
        "y.add_(x)\n",
        "print(y)"
      ],
      "execution_count": 15,
      "outputs": [
        {
          "output_type": "stream",
          "text": [
            "tensor([[ 2.2849,  1.3254,  1.2198],\n",
            "        [ 1.6550,  0.4466,  1.9500],\n",
            "        [-0.3208,  1.3502,  1.3692],\n",
            "        [ 0.1039,  0.3960,  0.9870],\n",
            "        [ 0.8260, -0.1577,  1.4513]])\n",
            "tensor([[ 2.2849,  1.3254,  1.2198],\n",
            "        [ 1.6550,  0.4466,  1.9500],\n",
            "        [-0.3208,  1.3502,  1.3692],\n",
            "        [ 0.1039,  0.3960,  0.9870],\n",
            "        [ 0.8260, -0.1577,  1.4513]])\n"
          ],
          "name": "stdout"
        }
      ]
    },
    {
      "metadata": {
        "id": "wzCkIx6HhvDG",
        "colab_type": "text"
      },
      "cell_type": "markdown",
      "source": [
        "\n",
        "\n",
        "```\n",
        "Any operation that mutates a tensor in-place is post-fixed with an _. For example: x.copy_(y), x.t_(), will change x.\n",
        "```\n",
        "\n",
        "\n",
        "You can use standard NumPy-like indexing with all bells and whistles!\n",
        "\n",
        "\n"
      ]
    },
    {
      "metadata": {
        "id": "evwVfyHHh0zo",
        "colab_type": "text"
      },
      "cell_type": "markdown",
      "source": [
        ""
      ]
    }
  ]
}