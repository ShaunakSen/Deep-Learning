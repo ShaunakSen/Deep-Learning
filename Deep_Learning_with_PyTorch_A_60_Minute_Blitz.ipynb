{
  "nbformat": 4,
  "nbformat_minor": 0,
  "metadata": {
    "colab": {
      "name": "Deep Learning with PyTorch: A 60 Minute Blitz.ipynb",
      "version": "0.3.2",
      "provenance": [],
      "collapsed_sections": [],
      "include_colab_link": true
    },
    "kernelspec": {
      "name": "python3",
      "display_name": "Python 3"
    }
  },
  "cells": [
    {
      "cell_type": "markdown",
      "metadata": {
        "id": "view-in-github",
        "colab_type": "text"
      },
      "source": [
        "<a href=\"https://colab.research.google.com/github/ShaunakSen/Deep-Learning/blob/master/Deep_Learning_with_PyTorch_A_60_Minute_Blitz.ipynb\" target=\"_parent\"><img src=\"https://colab.research.google.com/assets/colab-badge.svg\" alt=\"Open In Colab\"/></a>"
      ]
    },
    {
      "metadata": {
        "id": "C02OKpsnZX7B",
        "colab_type": "text"
      },
      "cell_type": "markdown",
      "source": [
        "# Deep Learning with PyTorch: A 60 Minute Blitz\n",
        "\n",
        "[link to tutorial](https://pytorch.org/tutorials/beginner/blitz/tensor_tutorial.html#sphx-glr-beginner-blitz-tensor-tutorial-py)\n",
        "\n",
        "\n",
        "\n",
        "## What is PYTORCH?\n",
        "\n",
        "It’s a Python-based scientific computing package targeted at two sets of audiences:\n",
        "\n",
        "- A replacement for NumPy to use the power of GPUs\n",
        "\n",
        "- a deep learning research platform that provides maximum flexibility and speed\n",
        "\n",
        "## Getting Started\n",
        "\n",
        "### Tensors\n",
        "\n",
        "Tensors are similar to NumPy’s ndarrays, with the addition being that Tensors can also be used on a GPU to accelerate computing.\n",
        "\n",
        "\n",
        "\n"
      ]
    },
    {
      "metadata": {
        "id": "1MPVKK4bX5wA",
        "colab_type": "code",
        "colab": {}
      },
      "cell_type": "code",
      "source": [
        "from __future__ import print_function\n",
        "\n",
        "import torch"
      ],
      "execution_count": 0,
      "outputs": []
    },
    {
      "metadata": {
        "id": "BTZm7QbzYJb6",
        "colab_type": "text"
      },
      "cell_type": "markdown",
      "source": [
        "Simple operations with tensors in Pytorch:"
      ]
    },
    {
      "metadata": {
        "id": "OHsz-sQjaDKl",
        "colab_type": "code",
        "outputId": "c69a42d2-6a92-4593-a6a8-37e1018628f1",
        "colab": {
          "base_uri": "https://localhost:8080/",
          "height": 567
        }
      },
      "cell_type": "code",
      "source": [
        "x = torch.empty(5, 3)\n",
        "print(x)\n",
        "\n",
        "# Construct a randomly initialized matrix:\n",
        "\n",
        "x = torch.rand(5, 3, 2)\n",
        "\n",
        "print (x)\n",
        "\n",
        "print (x[0][2])\n",
        "\n",
        "# Construct a matrix filled zeros and of dtype long:\n",
        "\n",
        "x = torch.zeros(5, 3, dtype=torch.long)\n",
        "\n",
        "print(x)\n",
        "\n",
        "# Construct a tensor directly from data:\n",
        "\n",
        "x = torch.tensor([5.5, 3])\n",
        "\n",
        "print(x)"
      ],
      "execution_count": 6,
      "outputs": [
        {
          "output_type": "stream",
          "text": [
            "tensor([[6.5976e-37, 0.0000e+00, 4.4842e-44],\n",
            "        [0.0000e+00,        nan, 1.9792e-01],\n",
            "        [8.4265e-07, 2.5964e+20, 2.1352e+20],\n",
            "        [5.4070e+22, 2.6216e+20, 1.3732e-05],\n",
            "        [2.0317e+20, 2.6851e-06, 7.2279e-01]])\n",
            "tensor([[[0.5939, 0.6729],\n",
            "         [0.3609, 0.5540],\n",
            "         [0.2579, 0.9895]],\n",
            "\n",
            "        [[0.7434, 0.2126],\n",
            "         [0.5648, 0.7895],\n",
            "         [0.8500, 0.8280]],\n",
            "\n",
            "        [[0.5653, 0.9563],\n",
            "         [0.9316, 0.5325],\n",
            "         [0.5092, 0.9978]],\n",
            "\n",
            "        [[0.2056, 0.0341],\n",
            "         [0.4145, 0.8109],\n",
            "         [0.2204, 0.2199]],\n",
            "\n",
            "        [[0.3376, 0.4541],\n",
            "         [0.4973, 0.7542],\n",
            "         [0.7418, 0.9274]]])\n",
            "tensor([0.2579, 0.9895])\n",
            "tensor([[0, 0, 0],\n",
            "        [0, 0, 0],\n",
            "        [0, 0, 0],\n",
            "        [0, 0, 0],\n",
            "        [0, 0, 0]])\n",
            "tensor([5.5000, 3.0000])\n"
          ],
          "name": "stdout"
        }
      ]
    },
    {
      "metadata": {
        "id": "G9y2dL8bgKGX",
        "colab_type": "text"
      },
      "cell_type": "markdown",
      "source": [
        "We can also create a tensor based on an existing tensor. These methods will reuse properties of the input tensor, e.g. dtype, unless new values are provided by user"
      ]
    },
    {
      "metadata": {
        "id": "-1li7LKqgMun",
        "colab_type": "code",
        "outputId": "d3f6df08-688d-4962-8a15-271108b37348",
        "colab": {
          "base_uri": "https://localhost:8080/",
          "height": 194
        }
      },
      "cell_type": "code",
      "source": [
        "x = torch.zeros(5, 3, dtype=torch.long)\n",
        "\n",
        "print (x)\n",
        "\n",
        "# new_ones will inherit the dtype of ip tensor (here int)\n",
        "\n",
        "x = x.new_ones(5, 3)\n",
        "\n",
        "print (x)"
      ],
      "execution_count": 8,
      "outputs": [
        {
          "output_type": "stream",
          "text": [
            "tensor([[0, 0, 0],\n",
            "        [0, 0, 0],\n",
            "        [0, 0, 0],\n",
            "        [0, 0, 0],\n",
            "        [0, 0, 0]])\n",
            "tensor([[1, 1, 1],\n",
            "        [1, 1, 1],\n",
            "        [1, 1, 1],\n",
            "        [1, 1, 1],\n",
            "        [1, 1, 1]])\n"
          ],
          "name": "stdout"
        }
      ]
    },
    {
      "metadata": {
        "id": "3UmUPFcPgYhh",
        "colab_type": "code",
        "outputId": "fdf3ff2c-8259-4477-a825-5fb11a97c531",
        "colab": {
          "base_uri": "https://localhost:8080/",
          "height": 123
        }
      },
      "cell_type": "code",
      "source": [
        "x = torch.randn_like(x, dtype=torch.float)\n",
        "\n",
        "print(x)\n",
        "\n",
        "# Get size\n",
        "\n",
        "print(x.size())"
      ],
      "execution_count": 10,
      "outputs": [
        {
          "output_type": "stream",
          "text": [
            "tensor([[-0.5963,  0.8731,  0.7121],\n",
            "        [-0.1791,  0.7933,  0.5135],\n",
            "        [ 1.7168,  0.2044, -0.0895],\n",
            "        [-0.2917,  1.5574,  0.0586],\n",
            "        [ 0.8726,  0.3108, -0.8205]])\n",
            "torch.Size([5, 3])\n"
          ],
          "name": "stdout"
        }
      ]
    },
    {
      "metadata": {
        "id": "PhoMknOTg1S2",
        "colab_type": "text"
      },
      "cell_type": "markdown",
      "source": [
        "### Operations\n",
        "\n",
        "There are multiple syntaxes for operations. In the following example, we will take a look at the addition operation.\n",
        "\n",
        "Addition: syntax 1\n",
        "\n"
      ]
    },
    {
      "metadata": {
        "id": "faFoZu3Vg8RM",
        "colab_type": "code",
        "outputId": "90ba527d-61e0-497f-ad57-5cea12af20da",
        "colab": {
          "base_uri": "https://localhost:8080/",
          "height": 283
        }
      },
      "cell_type": "code",
      "source": [
        "print (x)\n",
        "\n",
        "y = torch.rand(5, 3)\n",
        "\n",
        "print (y)\n",
        "\n",
        "print (x + y)\n",
        "\n",
        "# diff syntax:\n",
        "\n",
        "# print (torch.add(x, y))\n"
      ],
      "execution_count": 11,
      "outputs": [
        {
          "output_type": "stream",
          "text": [
            "tensor([[-0.5963,  0.8731,  0.7121],\n",
            "        [-0.1791,  0.7933,  0.5135],\n",
            "        [ 1.7168,  0.2044, -0.0895],\n",
            "        [-0.2917,  1.5574,  0.0586],\n",
            "        [ 0.8726,  0.3108, -0.8205]])\n",
            "tensor([[0.9069, 0.7296, 0.0556],\n",
            "        [0.8576, 0.8320, 0.8246],\n",
            "        [0.6868, 0.2866, 0.6829],\n",
            "        [0.8622, 0.8356, 0.9357],\n",
            "        [0.2815, 0.1011, 0.7992]])\n",
            "tensor([[ 0.3106,  1.6028,  0.7677],\n",
            "        [ 0.6785,  1.6253,  1.3381],\n",
            "        [ 2.4035,  0.4910,  0.5934],\n",
            "        [ 0.5705,  2.3931,  0.9943],\n",
            "        [ 1.1541,  0.4120, -0.0214]])\n"
          ],
          "name": "stdout"
        }
      ]
    },
    {
      "metadata": {
        "id": "IntmDRy1hVfK",
        "colab_type": "code",
        "outputId": "c032c87b-f305-47e6-d338-5288eccdf4cd",
        "colab": {
          "base_uri": "https://localhost:8080/",
          "height": 283
        }
      },
      "cell_type": "code",
      "source": [
        "# Addition: providing an output tensor as argument\n",
        "\n",
        "result = torch.empty(5, 3)\n",
        "\n",
        "print(result)\n",
        "\n",
        "torch.add(x, y, out=result)\n",
        "\n",
        "print(result)\n",
        "\n",
        "\n",
        "# Addition: in-place\n",
        "\n",
        "y.add_(x)\n",
        "print(y)"
      ],
      "execution_count": 12,
      "outputs": [
        {
          "output_type": "stream",
          "text": [
            "tensor([[ 6.5977e-37,  0.0000e+00,  4.4842e-44],\n",
            "        [ 0.0000e+00,         nan,  1.3381e+00],\n",
            "        [ 8.4265e-07,  2.5964e+20,  2.1352e+20],\n",
            "        [ 5.4070e+22,  2.6216e+20,  1.3732e-05],\n",
            "        [ 2.0317e+20,  2.6851e-06, -2.1368e-02]])\n",
            "tensor([[ 0.3106,  1.6028,  0.7677],\n",
            "        [ 0.6785,  1.6253,  1.3381],\n",
            "        [ 2.4035,  0.4910,  0.5934],\n",
            "        [ 0.5705,  2.3931,  0.9943],\n",
            "        [ 1.1541,  0.4120, -0.0214]])\n",
            "tensor([[ 0.3106,  1.6028,  0.7677],\n",
            "        [ 0.6785,  1.6253,  1.3381],\n",
            "        [ 2.4035,  0.4910,  0.5934],\n",
            "        [ 0.5705,  2.3931,  0.9943],\n",
            "        [ 1.1541,  0.4120, -0.0214]])\n"
          ],
          "name": "stdout"
        }
      ]
    },
    {
      "metadata": {
        "id": "wzCkIx6HhvDG",
        "colab_type": "text"
      },
      "cell_type": "markdown",
      "source": [
        "\n",
        "\n",
        "```\n",
        "Any operation that mutates a tensor in-place is post-fixed with an _. For example: x.copy_(y), x.t_(), will change x.\n",
        "```\n",
        "\n",
        "\n",
        "You can use standard NumPy-like indexing with all bells and whistles!\n",
        "\n",
        "\n"
      ]
    },
    {
      "metadata": {
        "id": "t7n6SSRo0NfQ",
        "colab_type": "code",
        "outputId": "b48804be-c61c-47ad-b6eb-e8c0b6b4bacd",
        "colab": {
          "base_uri": "https://localhost:8080/",
          "height": 34
        }
      },
      "cell_type": "code",
      "source": [
        "print (x[:, 1])"
      ],
      "execution_count": 13,
      "outputs": [
        {
          "output_type": "stream",
          "text": [
            "tensor([0.8731, 0.7933, 0.2044, 1.5574, 0.3108])\n"
          ],
          "name": "stdout"
        }
      ]
    },
    {
      "metadata": {
        "id": "1Hv_OEfd0h1B",
        "colab_type": "text"
      },
      "cell_type": "markdown",
      "source": [
        "Resizing: If you want to resize/reshape tensor, you can use torch.view:\n",
        "\n"
      ]
    },
    {
      "metadata": {
        "id": "rkvbOdd_0jFy",
        "colab_type": "code",
        "outputId": "114dfed9-5024-496a-fc11-d51f7ab6d4df",
        "colab": {
          "base_uri": "https://localhost:8080/",
          "height": 265
        }
      },
      "cell_type": "code",
      "source": [
        "x = torch.randn(4, 4)\n",
        "\n",
        "print (x)\n",
        "\n",
        "y = x.view(16)\n",
        "\n",
        "print (y, y.shape)\n",
        "\n",
        "z = x.view(-1, 8) # the size -1 is inferred from other dimensions\n",
        "\n",
        "print (z, z.shape)\n",
        "\n",
        "# If you have a one element tensor, use .item() to get the value as a Python number\n",
        "\n",
        "x = torch.randn(1)\n",
        "\n",
        "print(x)\n",
        "\n",
        "print(x.item())\n"
      ],
      "execution_count": 14,
      "outputs": [
        {
          "output_type": "stream",
          "text": [
            "tensor([[-4.0689e-01, -1.4886e+00, -1.2620e-01,  3.4432e-01],\n",
            "        [-1.0363e+00, -1.4965e+00, -4.1733e-04, -2.1189e-01],\n",
            "        [ 4.3286e-01,  3.8288e-01,  8.1407e-01,  1.2745e+00],\n",
            "        [-3.7944e-01,  9.2872e-01,  7.8418e-01,  5.2352e-01]])\n",
            "tensor([-4.0689e-01, -1.4886e+00, -1.2620e-01,  3.4432e-01, -1.0363e+00,\n",
            "        -1.4965e+00, -4.1733e-04, -2.1189e-01,  4.3286e-01,  3.8288e-01,\n",
            "         8.1407e-01,  1.2745e+00, -3.7944e-01,  9.2872e-01,  7.8418e-01,\n",
            "         5.2352e-01]) torch.Size([16])\n",
            "tensor([[-4.0689e-01, -1.4886e+00, -1.2620e-01,  3.4432e-01, -1.0363e+00,\n",
            "         -1.4965e+00, -4.1733e-04, -2.1189e-01],\n",
            "        [ 4.3286e-01,  3.8288e-01,  8.1407e-01,  1.2745e+00, -3.7944e-01,\n",
            "          9.2872e-01,  7.8418e-01,  5.2352e-01]]) torch.Size([2, 8])\n",
            "tensor([1.8307])\n",
            "1.8307011127471924\n"
          ],
          "name": "stdout"
        }
      ]
    },
    {
      "metadata": {
        "id": "IdzSpik51XAp",
        "colab_type": "text"
      },
      "cell_type": "markdown",
      "source": [
        "## NumPy Bridge\n",
        "\n",
        "\n",
        "Converting a Torch Tensor to a NumPy array and vice versa is a breeze.\n",
        "\n",
        "**The Torch Tensor and NumPy array will share their underlying memory locations, and changing one will change the other.**\n",
        "\n",
        "### Converting a Torch Tensor to a NumPy Array\n"
      ]
    },
    {
      "metadata": {
        "id": "Do53dU8c1wTP",
        "colab_type": "code",
        "outputId": "f0d9e7bb-4111-42da-afc3-2c0b1a152ea9",
        "colab": {
          "base_uri": "https://localhost:8080/",
          "height": 87
        }
      },
      "cell_type": "code",
      "source": [
        "a = torch.ones(5)\n",
        "\n",
        "print (a)\n",
        "\n",
        "b = a.numpy()\n",
        "\n",
        "print (b)\n",
        "\n",
        "# See how the numpy array changed in value.\n",
        "\n",
        "a.add_(1)\n",
        "\n",
        "print(a)\n",
        "\n",
        "print(b)"
      ],
      "execution_count": 15,
      "outputs": [
        {
          "output_type": "stream",
          "text": [
            "tensor([1., 1., 1., 1., 1.])\n",
            "[1. 1. 1. 1. 1.]\n",
            "tensor([2., 2., 2., 2., 2.])\n",
            "[2. 2. 2. 2. 2.]\n"
          ],
          "name": "stdout"
        }
      ]
    },
    {
      "metadata": {
        "id": "aI3cy7ZS2VwW",
        "colab_type": "text"
      },
      "cell_type": "markdown",
      "source": [
        "### Converting NumPy Array to Torch Tensor\n",
        "\n",
        "See how changing the np array changed the Torch Tensor automatically\n",
        "\n"
      ]
    },
    {
      "metadata": {
        "id": "mB35DeMA262Y",
        "colab_type": "code",
        "outputId": "822a7202-221a-408f-b735-cb25b4f1a03e",
        "colab": {
          "base_uri": "https://localhost:8080/",
          "height": 34
        }
      },
      "cell_type": "code",
      "source": [
        "import numpy as np\n",
        "\n",
        "a = np.ones(5)\n",
        "\n",
        "b = torch.from_numpy(a)\n",
        "\n",
        "np.add(a, 1, out=a)\n",
        "\n",
        "print(a, b)"
      ],
      "execution_count": 0,
      "outputs": [
        {
          "output_type": "stream",
          "text": [
            "[2. 2. 2. 2. 2.] tensor([2., 2., 2., 2., 2.], dtype=torch.float64)\n"
          ],
          "name": "stdout"
        }
      ]
    },
    {
      "metadata": {
        "id": "evwVfyHHh0zo",
        "colab_type": "text"
      },
      "cell_type": "markdown",
      "source": [
        "## CUDA Tensors\n",
        "\n",
        "Tensors can be moved onto any device using the .to method.\n",
        "\n"
      ]
    },
    {
      "metadata": {
        "id": "56FDVlkl3ZYL",
        "colab_type": "code",
        "colab": {}
      },
      "cell_type": "code",
      "source": [
        ""
      ],
      "execution_count": 0,
      "outputs": []
    },
    {
      "metadata": {
        "id": "YkiwgDw53c8T",
        "colab_type": "code",
        "colab": {}
      },
      "cell_type": "code",
      "source": [
        "# let us run this cell only if CUDA is available\n",
        "\n",
        "# We will use ``torch.device`` objects to move tensors in and out of GPU\n",
        "\n",
        "if torch.cuda.is_available():\n",
        "  device = torch.device(\"cuda\") # a CUDA device object\n",
        "  \n",
        "  print (device)\n",
        "  \n",
        "  y = torch.ones_like(x, device=device) # directly create a tensor on GPU\n",
        "  \n",
        "  x = x.to(device) # or just use strings ``.to(\"cuda\")``\n",
        "  z = x + y\n",
        "  print(z)\n",
        "  \n",
        "  print(z.to(device=\"cpu\",dtype=torch.double)) # ``.to`` can also change dtype together!\n",
        "  "
      ],
      "execution_count": 0,
      "outputs": []
    },
    {
      "metadata": {
        "id": "ZRuVTUoMRfbF",
        "colab_type": "text"
      },
      "cell_type": "markdown",
      "source": [
        "## AUTOGRAD: AUTOMATIC DIFFERENTIATION\n",
        "\n",
        "\n",
        "Central to all neural networks in PyTorch is the autograd package. Let’s first briefly visit this, and we will then go to training our first neural network.\n",
        "\n",
        "The autograd package provides automatic differentiation for all operations on Tensors. It is a define-by-run framework, which means that your backprop is defined by how your code is run, and that every single iteration can be different.\n",
        "\n",
        "Let us see this in more simple terms with some examples.\n",
        "\n",
        "### Tensor\n",
        "\n",
        "`torch.Tensor` is the central class of the package. If you set its attribute `.requires_grad` as True, it starts to track all operations on it. When you finish your computation you can call `.backward()` and have all the gradients computed automatically. The gradient for this tensor will be accumulated into `.grad` attribute.\n",
        "\n",
        "To stop a tensor from tracking history, you can call .detach() to detach it from the computation history, and to prevent future computation from being tracked.\n",
        "\n",
        "To prevent tracking history (and using memory), you can also wrap the code block in with torch.no_grad():. This can be particularly helpful when evaluating a model because the model may have trainable parameters with requires_grad=True, but for which we don’t need the gradients.\n",
        "\n",
        "There’s one more class which is very important for autograd implementation - a Function.\n",
        "\n",
        "Tensor and Function are interconnected and build up an acyclic graph, that encodes a complete history of computation. Each tensor has a .grad_fn attribute that references a Function that has created the Tensor (except for Tensors created by the user - their grad_fn is None).\n",
        "\n",
        "If you want to compute the derivatives, you can call .backward() on a Tensor. If Tensor is a scalar (i.e. it holds a one element data), you don’t need to specify any arguments to backward(), however if it has more elements, you need to specify a gradient argument that is a tensor of matching shape."
      ]
    },
    {
      "metadata": {
        "id": "KGUjQNC8cBFE",
        "colab_type": "code",
        "colab": {
          "base_uri": "https://localhost:8080/",
          "height": 52
        },
        "outputId": "2e10baa6-7c26-4d8e-c06b-e756bf2d0050"
      },
      "cell_type": "code",
      "source": [
        "# Create a tensor and set requires_grad=True to track computation with it\n",
        "\n",
        "x = torch.ones(2,2, requires_grad=True)\n",
        "print(x)"
      ],
      "execution_count": 17,
      "outputs": [
        {
          "output_type": "stream",
          "text": [
            "tensor([[1., 1.],\n",
            "        [1., 1.]], requires_grad=True)\n"
          ],
          "name": "stdout"
        }
      ]
    },
    {
      "metadata": {
        "id": "VMoCh0JPcJXR",
        "colab_type": "code",
        "colab": {
          "base_uri": "https://localhost:8080/",
          "height": 52
        },
        "outputId": "a12f53fe-7b67-47bd-979f-ce6b313382d0"
      },
      "cell_type": "code",
      "source": [
        "y = x+2\n",
        "\n",
        "print(y)"
      ],
      "execution_count": 18,
      "outputs": [
        {
          "output_type": "stream",
          "text": [
            "tensor([[3., 3.],\n",
            "        [3., 3.]], grad_fn=<AddBackward0>)\n"
          ],
          "name": "stdout"
        }
      ]
    },
    {
      "metadata": {
        "id": "MGBoJGEbcUq-",
        "colab_type": "text"
      },
      "cell_type": "markdown",
      "source": [
        "y was created as a result of an operation, so it has a grad_fn.\n"
      ]
    },
    {
      "metadata": {
        "id": "W491bY12cVX8",
        "colab_type": "code",
        "colab": {
          "base_uri": "https://localhost:8080/",
          "height": 34
        },
        "outputId": "374c1595-2402-4f46-b354-66bde0d91a15"
      },
      "cell_type": "code",
      "source": [
        "print(y.grad_fn)"
      ],
      "execution_count": 19,
      "outputs": [
        {
          "output_type": "stream",
          "text": [
            "<AddBackward0 object at 0x7faf56bb82b0>\n"
          ],
          "name": "stdout"
        }
      ]
    },
    {
      "metadata": {
        "id": "0dv2aOzUcaxE",
        "colab_type": "code",
        "colab": {
          "base_uri": "https://localhost:8080/",
          "height": 70
        },
        "outputId": "627f2a82-21a6-4785-a448-2b00aed21962"
      },
      "cell_type": "code",
      "source": [
        "# Do more operations on y\n",
        "\n",
        "z = y*y*3\n",
        "\n",
        "print (z)\n",
        "\n",
        "out = z.mean()\n",
        "\n",
        "print(out)"
      ],
      "execution_count": 21,
      "outputs": [
        {
          "output_type": "stream",
          "text": [
            "tensor([[27., 27.],\n",
            "        [27., 27.]], grad_fn=<MulBackward0>)\n",
            "tensor(27., grad_fn=<MeanBackward1>)\n"
          ],
          "name": "stdout"
        }
      ]
    },
    {
      "metadata": {
        "id": "sobDyNuWeoIS",
        "colab_type": "text"
      },
      "cell_type": "markdown",
      "source": [
        ".requires_grad_( ... ) changes an existing Tensor’s requires_grad flag in-place. The input flag defaults to False if not given."
      ]
    },
    {
      "metadata": {
        "id": "oYEiG1Baeos_",
        "colab_type": "code",
        "colab": {
          "base_uri": "https://localhost:8080/",
          "height": 123
        },
        "outputId": "b18e97b1-2b7d-48db-8efa-1cac373ed066"
      },
      "cell_type": "code",
      "source": [
        "a = torch.randn(2,2)\n",
        "a = ((a*3)/(a-1))\n",
        "\n",
        "print(a)\n",
        "\n",
        "print(a.requires_grad)\n",
        "\n",
        "a.requires_grad_(True)\n",
        "\n",
        "print(a.requires_grad)\n",
        "\n",
        "b = (a*a).sum()\n",
        "\n",
        "print(b)\n",
        "\n",
        "print(b.grad_fn)"
      ],
      "execution_count": 31,
      "outputs": [
        {
          "output_type": "stream",
          "text": [
            "tensor([[  0.0887,   1.1763],\n",
            "        [  0.2135, -29.3024]])\n",
            "False\n",
            "True\n",
            "tensor(860.0660, grad_fn=<SumBackward0>)\n",
            "<SumBackward0 object at 0x7faf56bb8908>\n"
          ],
          "name": "stdout"
        }
      ]
    }
  ]
}