{
 "cells": [
  {
   "cell_type": "markdown",
   "metadata": {},
   "source": [
    "## A friendly introduction to Recurrent Neural Networks\n",
    "\n",
    "> Notes on the tutorial by [Luis Serrano](https://www.youtube.com/watch?v=UNmqTiOnRfg)\n",
    "\n",
    "---\n",
    "\n",
    "Your roommate cooks apple pie, burger or chicken\n",
    "\n",
    "If weather is sunny -> apple pie\n",
    "if rainy -> burger\n",
    "\n",
    "We can imagine a very simple NN to model this \n",
    "\n",
    "The NN has ip and op\n",
    "If ip is sunny day, op is apple pie\n",
    "\n",
    "Lets model this in terms of vectors\n",
    "\n",
    "<img src='./img/diag1.png'>\n",
    "\n",
    "So in our NN\n",
    "\n",
    "When ip is `[1,0]` output should be `[1,0,0]` and when ip is `[0, 1]` op should be `[0,1,0]`\n",
    "\n",
    "ip is 2x1 and op is 3x1\n",
    "\n",
    "so matrix should be `3x2 as 3x2 . 2x1 = 3x1`\n",
    "\n",
    "This matrix is\n",
    "```\n",
    "[\n",
    "    [1,0],\n",
    "    [0,1],\n",
    "    [0,0]\n",
    "]\n",
    "```\n",
    "<img src='./img/diag2.png'>\n",
    "\n",
    "<img src='./img/diag3.png'>\n",
    "\n",
    "So this NN is just like a linear map\n",
    "\n",
    "\n",
    "\n",
    "\n"
   ]
  },
  {
   "cell_type": "markdown",
   "metadata": {},
   "source": [
    "For the sunny part the ip vector is `[1, 0]`. The matrix product is:\n",
    "\n",
    "```\n",
    "[\n",
    "    [1.1 + 0.0]\n",
    "    [0.1 + 1.0]\n",
    "    [0.1 + 0.0]\n",
    "]\n",
    "```\n",
    "For the rainy part the ip vector is `[0, 1]`. The matrix product is:\n",
    "\n",
    "```\n",
    "[\n",
    "    [1.0 + 0.1]\n",
    "    [0.0 + 1.1]\n",
    "    [0.0 + 0.1]\n",
    "]\n",
    "```\n",
    "\n",
    "Now consider the diag below:\n",
    "\n",
    "<img src='./img/diag4.png'>\n"
   ]
  },
  {
   "cell_type": "markdown",
   "metadata": {},
   "source": [
    "The ip nodes have 1 and 0 in them. Let us label the nodes in the 2nd layer as A, B and C from top to bottom\n",
    "\n",
    "```\n",
    "A = 1.1 + 0.0\n",
    "\n",
    "B = 1.0 + 0.1\n",
    "\n",
    "C = 1.0 + 0.0\n",
    "```\n",
    "\n",
    "Which comes to the same as the above matrix product \n",
    "\n",
    "So we can kind of generalize this. Here 2 ips and 3 ops so the matrix is 2x3 and we have 3 (3x1) op\n",
    "\n",
    "**Also from the NN diag can we determine the matrix operation?**\n",
    "\n",
    "Not the ip is `[1, 0]` as in the ip nodes so that is fixed\n",
    "\n",
    "Now in the matrix prod we can see A is `1(x1).1(w1) + 0(x2).0(w2)` where x1 and x2 are the ips and w1 and w2 are the wts connecetd to node A\n",
    "\n",
    "So the first row of the wt matrix (the one responsible for generating the op A is `[w1, w2]` i.e `[1, 0]` or simply the arrows coming into node A\n",
    "\n",
    "Similarly 2nd row = `[0, 1]` (arrows coming into node B)\n",
    "\n",
    "And the 3rd row = `[0, 0]` (arrows coming into node C)"
   ]
  },
  {
   "cell_type": "code",
   "execution_count": null,
   "metadata": {},
   "outputs": [],
   "source": []
  },
  {
   "cell_type": "code",
   "execution_count": null,
   "metadata": {},
   "outputs": [],
   "source": []
  },
  {
   "cell_type": "code",
   "execution_count": null,
   "metadata": {},
   "outputs": [],
   "source": []
  },
  {
   "cell_type": "code",
   "execution_count": null,
   "metadata": {},
   "outputs": [],
   "source": []
  }
 ],
 "metadata": {
  "kernelspec": {
   "display_name": "Python 3.7.4 64-bit",
   "language": "python",
   "name": "python37464bit534221b4ba144d7c9105a79e50b044ad"
  },
  "language_info": {
   "codemirror_mode": {
    "name": "ipython",
    "version": 3
   },
   "file_extension": ".py",
   "mimetype": "text/x-python",
   "name": "python",
   "nbconvert_exporter": "python",
   "pygments_lexer": "ipython3",
   "version": "3.7.4"
  }
 },
 "nbformat": 4,
 "nbformat_minor": 4
}
