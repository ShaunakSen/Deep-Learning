{
 "cells": [
  {
   "cell_type": "markdown",
   "metadata": {},
   "source": [
    "## Feature Importance with Neural Network\n",
    "\n",
    "[article link](https://towardsdatascience.com/feature-importance-with-neural-network-346eb6205743)\n",
    "\n",
    "One of the best challenge in Machine Learning tends to let model speak them self. Not also is important to develop a strong solution with great predicting power, but also in lot of business applications is interesting to know how the model provides these results: which variables are engage the most, the presence of correlations, the possible causation relationships and so on.\n",
    "These needs made Tree based model a good weapon in this field. They are scalable and permits to compute variable explanation very easy. Every software provide this option and each of us has at least once tried to compute the variable importance report with Random Forest or similar. With Neural Net this kind of benefit is considered as taboo. Neural Network are often seen as black box, from which is very difficult to extract usefull information for other purpose like feature explatations.\n",
    "\n",
    "\n",
    "Given a real dataset we try to investigate which factors influence the final predition performances. To achive this aim we took data from UCI Machine Learning Repository. The privileged dataset was the Combined Cycle Power Plant Dataset, where were collected 6 years of data when the power plant was set to work with full load. Features consist of hourly average variables: Ambient Temperature (AT), Ambient Pressure (AP), Relative Humidity (RH) and Exhaust Vacuum (V) to predict the net hourly electrical energy output (PE) of the plant.\n",
    "The variables engaged are related by pearson correlation linkages as shown in the matrix below.\n",
    "\n",
    "![](https://miro.medium.com/max/427/1*onJboeH-8vyI9WEZ7VQmaw.png)"
   ]
  },
  {
   "cell_type": "code",
   "execution_count": 2,
   "metadata": {},
   "outputs": [],
   "source": [
    "import matplotlib.pyplot as plt\n",
    "import seaborn as sns\n",
    "import numpy as np\n",
    "import pandas as pd\n",
    "import tqdm\n",
    "\n",
    "from sklearn.preprocessing import StandardScaler, MinMaxScaler\n",
    "from sklearn.metrics import mean_absolute_error, mean_squared_error\n",
    "from sklearn.model_selection import train_test_split\n",
    "from sklearn.ensemble import GradientBoostingRegressor\n",
    "\n",
    "from keras.models import *\n",
    "from keras.layers import *"
   ]
  },
  {
   "cell_type": "code",
   "execution_count": 5,
   "metadata": {},
   "outputs": [
    {
     "name": "stdout",
     "output_type": "stream",
     "text": [
      "(9568, 5)\n"
     ]
    },
    {
     "data": {
      "text/html": [
       "<div>\n",
       "<style scoped>\n",
       "    .dataframe tbody tr th:only-of-type {\n",
       "        vertical-align: middle;\n",
       "    }\n",
       "\n",
       "    .dataframe tbody tr th {\n",
       "        vertical-align: top;\n",
       "    }\n",
       "\n",
       "    .dataframe thead th {\n",
       "        text-align: right;\n",
       "    }\n",
       "</style>\n",
       "<table border=\"1\" class=\"dataframe\">\n",
       "  <thead>\n",
       "    <tr style=\"text-align: right;\">\n",
       "      <th></th>\n",
       "      <th>AT</th>\n",
       "      <th>V</th>\n",
       "      <th>AP</th>\n",
       "      <th>RH</th>\n",
       "      <th>PE</th>\n",
       "    </tr>\n",
       "  </thead>\n",
       "  <tbody>\n",
       "    <tr>\n",
       "      <th>0</th>\n",
       "      <td>14.96</td>\n",
       "      <td>41.76</td>\n",
       "      <td>1024.07</td>\n",
       "      <td>73.17</td>\n",
       "      <td>463.26</td>\n",
       "    </tr>\n",
       "    <tr>\n",
       "      <th>1</th>\n",
       "      <td>25.18</td>\n",
       "      <td>62.96</td>\n",
       "      <td>1020.04</td>\n",
       "      <td>59.08</td>\n",
       "      <td>444.37</td>\n",
       "    </tr>\n",
       "    <tr>\n",
       "      <th>2</th>\n",
       "      <td>5.11</td>\n",
       "      <td>39.40</td>\n",
       "      <td>1012.16</td>\n",
       "      <td>92.14</td>\n",
       "      <td>488.56</td>\n",
       "    </tr>\n",
       "    <tr>\n",
       "      <th>3</th>\n",
       "      <td>20.86</td>\n",
       "      <td>57.32</td>\n",
       "      <td>1010.24</td>\n",
       "      <td>76.64</td>\n",
       "      <td>446.48</td>\n",
       "    </tr>\n",
       "    <tr>\n",
       "      <th>4</th>\n",
       "      <td>10.82</td>\n",
       "      <td>37.50</td>\n",
       "      <td>1009.23</td>\n",
       "      <td>96.62</td>\n",
       "      <td>473.90</td>\n",
       "    </tr>\n",
       "  </tbody>\n",
       "</table>\n",
       "</div>"
      ],
      "text/plain": [
       "      AT      V       AP     RH      PE\n",
       "0  14.96  41.76  1024.07  73.17  463.26\n",
       "1  25.18  62.96  1020.04  59.08  444.37\n",
       "2   5.11  39.40  1012.16  92.14  488.56\n",
       "3  20.86  57.32  1010.24  76.64  446.48\n",
       "4  10.82  37.50  1009.23  96.62  473.90"
      ]
     },
     "execution_count": 5,
     "metadata": {},
     "output_type": "execute_result"
    }
   ],
   "source": [
    "### READ DATA ###\n",
    "df = pd.read_excel('./Folds5x2_pp.xlsx')\n",
    "\n",
    "print (df.shape)\n",
    "\n",
    "df.head()"
   ]
  },
  {
   "cell_type": "code",
   "execution_count": 14,
   "metadata": {},
   "outputs": [
    {
     "name": "stdout",
     "output_type": "stream",
     "text": [
      "(7654, 4) (1914, 4) (7654, 1) (1914, 1)\n"
     ]
    }
   ],
   "source": [
    "### TRAIN TEST SPLIT ###\n",
    "X, y = ['AT','V','AP','RH'], ['PE']\n",
    "X_train, X_test, y_train, y_test = train_test_split(df[X], df[y], test_size = 0.2, random_state = 42)\n",
    "\n",
    "print (X_train.shape, X_test.shape, y_train.shape, y_test.shape)"
   ]
  },
  {
   "cell_type": "markdown",
   "metadata": {},
   "source": [
    "### GradientBoosting Feature Importances"
   ]
  },
  {
   "cell_type": "code",
   "execution_count": 20,
   "metadata": {},
   "outputs": [
    {
     "data": {
      "text/plain": [
       "GradientBoostingRegressor(alpha=0.9, criterion='friedman_mse', init=None,\n",
       "             learning_rate=0.1, loss='ls', max_depth=3, max_features=None,\n",
       "             max_leaf_nodes=None, min_impurity_decrease=0.0,\n",
       "             min_impurity_split=None, min_samples_leaf=1,\n",
       "             min_samples_split=2, min_weight_fraction_leaf=0.0,\n",
       "             n_estimators=100, n_iter_no_change=None, presort='auto',\n",
       "             random_state=None, subsample=1.0, tol=0.0001,\n",
       "             validation_fraction=0.1, verbose=0, warm_start=False)"
      ]
     },
     "execution_count": 20,
     "metadata": {},
     "output_type": "execute_result"
    }
   ],
   "source": [
    "### FIT GRADIENTBOOSTING ###\n",
    "rf = GradientBoostingRegressor(n_estimators=100)\n",
    "rf.fit(X_train, y_train.values.ravel())"
   ]
  },
  {
   "cell_type": "code",
   "execution_count": 21,
   "metadata": {},
   "outputs": [
    {
     "name": "stdout",
     "output_type": "stream",
     "text": [
      "2.9492028774889936\n"
     ]
    }
   ],
   "source": [
    "### PREDICTION ERROR ON TEST DATA ###\n",
    "print (mean_absolute_error(y_test, rf.predict(X_test)))"
   ]
  },
  {
   "cell_type": "code",
   "execution_count": 22,
   "metadata": {
    "scrolled": true
   },
   "outputs": [
    {
     "name": "stdout",
     "output_type": "stream",
     "text": [
      "[0.82890837 0.15763337 0.0072511  0.00620716]\n"
     ]
    }
   ],
   "source": [
    "print (rf.feature_importances_)"
   ]
  },
  {
   "cell_type": "code",
   "execution_count": 24,
   "metadata": {},
   "outputs": [
    {
     "data": {
      "image/png": "[encoded data removed]",
      "text/plain": [
       "<Figure size 432x288 with 1 Axes>"
      ]
     },
     "metadata": {
      "needs_background": "light"
     },
     "output_type": "display_data"
    }
   ],
   "source": [
    "### FEATURE IMPORTANCES REPORT ###\n",
    "plt.bar(range(X_train.shape[1]), rf.feature_importances_);\n",
    "plt.xticks(range(X_train.shape[1]), ['AT','V','AP','RH']);"
   ]
  },
  {
   "cell_type": "markdown",
   "metadata": {},
   "source": [
    "### Permutation Importance"
   ]
  },
  {
   "cell_type": "code",
   "execution_count": 25,
   "metadata": {},
   "outputs": [],
   "source": [
    "### SCALE DATA FOR NN ###\n",
    "scaler = StandardScaler()\n",
    "scaled_train = scaler.fit_transform(X_train)\n",
    "scaled_test = scaler.transform(X_test)"
   ]
  },
  {
   "cell_type": "code",
   "execution_count": 26,
   "metadata": {},
   "outputs": [
    {
     "name": "stdout",
     "output_type": "stream",
     "text": [
      "WARNING:tensorflow:From c:\\users\\shaun\\appdata\\local\\programs\\python\\python37\\lib\\site-packages\\tensorflow\\python\\ops\\resource_variable_ops.py:435: colocate_with (from tensorflow.python.framework.ops) is deprecated and will be removed in a future version.\n",
      "Instructions for updating:\n",
      "Colocations handled automatically by placer.\n"
     ]
    }
   ],
   "source": [
    "### DEFINE NN STRUCTURE ###\n",
    "\n",
    "inp = Input(shape=(scaled_train.shape[1],))\n",
    "x = Dense(128, activation='relu')(inp)\n",
    "x = Dense(32, activation='relu')(x)\n",
    "out = Dense(1)(x)\n",
    "\n",
    "model = Model(inp, out)\n",
    "model.compile(optimizer='adam', loss='mse')"
   ]
  },
  {
   "cell_type": "code",
   "execution_count": 41,
   "metadata": {},
   "outputs": [
    {
     "name": "stdout",
     "output_type": "stream",
     "text": [
      "Epoch 1/100\n",
      " - 0s - loss: 0.4446\n",
      "Epoch 2/100\n",
      " - 0s - loss: 0.4344\n",
      "Epoch 3/100\n",
      " - 0s - loss: 0.4246\n",
      "Epoch 4/100\n",
      " - 0s - loss: 0.4152\n",
      "Epoch 5/100\n",
      " - 0s - loss: 0.4062\n",
      "Epoch 6/100\n",
      " - 0s - loss: 0.3974\n",
      "Epoch 7/100\n",
      " - 0s - loss: 0.3890\n",
      "Epoch 8/100\n",
      " - 0s - loss: 0.3808\n",
      "Epoch 9/100\n",
      " - 0s - loss: 0.3728\n",
      "Epoch 10/100\n",
      " - 0s - loss: 0.3651\n",
      "Epoch 11/100\n",
      " - 0s - loss: 0.3575\n",
      "Epoch 12/100\n",
      " - 0s - loss: 0.3502\n",
      "Epoch 13/100\n",
      " - 0s - loss: 0.3430\n",
      "Epoch 14/100\n",
      " - 0s - loss: 0.3360\n",
      "Epoch 15/100\n",
      " - 0s - loss: 0.3291\n",
      "Epoch 16/100\n",
      " - 0s - loss: 0.3224\n",
      "Epoch 17/100\n",
      " - 0s - loss: 0.3159\n",
      "Epoch 18/100\n",
      " - 0s - loss: 0.3094\n",
      "Epoch 19/100\n",
      " - 0s - loss: 0.3032\n",
      "Epoch 20/100\n",
      " - 0s - loss: 0.2970\n",
      "Epoch 21/100\n",
      " - 0s - loss: 0.2910\n",
      "Epoch 22/100\n",
      " - 0s - loss: 0.2851\n",
      "Epoch 23/100\n",
      " - 0s - loss: 0.2793\n",
      "Epoch 24/100\n",
      " - 0s - loss: 0.2736\n",
      "Epoch 25/100\n",
      " - 0s - loss: 0.2681\n",
      "Epoch 26/100\n",
      " - 0s - loss: 0.2626\n",
      "Epoch 27/100\n",
      " - 0s - loss: 0.2573\n",
      "Epoch 28/100\n",
      " - 0s - loss: 0.2521\n",
      "Epoch 29/100\n",
      " - 0s - loss: 0.2470\n",
      "Epoch 30/100\n",
      " - 0s - loss: 0.2419\n",
      "Epoch 31/100\n",
      " - 0s - loss: 0.2370\n",
      "Epoch 32/100\n",
      " - 0s - loss: 0.2322\n",
      "Epoch 33/100\n",
      " - 0s - loss: 0.2275\n",
      "Epoch 34/100\n",
      " - 0s - loss: 0.2229\n",
      "Epoch 35/100\n",
      " - 0s - loss: 0.2185\n",
      "Epoch 36/100\n",
      " - 0s - loss: 0.2141\n",
      "Epoch 37/100\n",
      " - 0s - loss: 0.2098\n",
      "Epoch 38/100\n",
      " - 0s - loss: 0.2056\n",
      "Epoch 39/100\n",
      " - 0s - loss: 0.2015\n",
      "Epoch 40/100\n",
      " - 0s - loss: 0.1975\n",
      "Epoch 41/100\n",
      " - 0s - loss: 0.1937\n",
      "Epoch 42/100\n",
      " - 0s - loss: 0.1899\n",
      "Epoch 43/100\n",
      " - 0s - loss: 0.1863\n",
      "Epoch 44/100\n",
      " - 0s - loss: 0.1827\n",
      "Epoch 45/100\n",
      " - 0s - loss: 0.1793\n",
      "Epoch 46/100\n",
      " - 0s - loss: 0.1760\n",
      "Epoch 47/100\n",
      " - 0s - loss: 0.1728\n",
      "Epoch 48/100\n",
      " - 0s - loss: 0.1697\n",
      "Epoch 49/100\n",
      " - 0s - loss: 0.1667\n",
      "Epoch 50/100\n",
      " - 0s - loss: 0.1637\n",
      "Epoch 51/100\n",
      " - 0s - loss: 0.1609\n",
      "Epoch 52/100\n",
      " - 0s - loss: 0.1582\n",
      "Epoch 53/100\n",
      " - 0s - loss: 0.1556\n",
      "Epoch 54/100\n",
      " - 0s - loss: 0.1531\n",
      "Epoch 55/100\n",
      " - 0s - loss: 0.1506\n",
      "Epoch 56/100\n",
      " - 0s - loss: 0.1482\n",
      "Epoch 57/100\n",
      " - 0s - loss: 0.1459\n",
      "Epoch 58/100\n",
      " - 0s - loss: 0.1437\n",
      "Epoch 59/100\n",
      " - 0s - loss: 0.1415\n",
      "Epoch 60/100\n",
      " - 0s - loss: 0.1394\n",
      "Epoch 61/100\n",
      " - 0s - loss: 0.1374\n",
      "Epoch 62/100\n",
      " - 0s - loss: 0.1354\n",
      "Epoch 63/100\n",
      " - 0s - loss: 0.1334\n",
      "Epoch 64/100\n",
      " - 0s - loss: 0.1313\n",
      "Epoch 65/100\n",
      " - 0s - loss: 0.1293\n",
      "Epoch 66/100\n",
      " - 0s - loss: 0.1271\n",
      "Epoch 67/100\n",
      " - 0s - loss: 0.1248\n",
      "Epoch 68/100\n",
      " - 0s - loss: 0.1225\n",
      "Epoch 69/100\n",
      " - 0s - loss: 0.1201\n",
      "Epoch 70/100\n",
      " - 0s - loss: 0.1176\n",
      "Epoch 71/100\n",
      " - 0s - loss: 0.1153\n",
      "Epoch 72/100\n",
      " - 0s - loss: 0.1130\n",
      "Epoch 73/100\n",
      " - 0s - loss: 0.1109\n",
      "Epoch 74/100\n",
      " - 0s - loss: 0.1089\n",
      "Epoch 75/100\n",
      " - 0s - loss: 0.1069\n",
      "Epoch 76/100\n",
      " - 0s - loss: 0.1050\n",
      "Epoch 77/100\n",
      " - 0s - loss: 0.1032\n",
      "Epoch 78/100\n",
      " - 0s - loss: 0.1015\n",
      "Epoch 79/100\n",
      " - 0s - loss: 0.0999\n",
      "Epoch 80/100\n",
      " - 0s - loss: 0.0983\n",
      "Epoch 81/100\n",
      " - 0s - loss: 0.0968\n",
      "Epoch 82/100\n",
      " - 0s - loss: 0.0953\n",
      "Epoch 83/100\n",
      " - 0s - loss: 0.0939\n",
      "Epoch 84/100\n",
      " - 0s - loss: 0.0926\n",
      "Epoch 85/100\n",
      " - 0s - loss: 0.0913\n",
      "Epoch 86/100\n",
      " - 0s - loss: 0.0900\n",
      "Epoch 87/100\n",
      " - 0s - loss: 0.0887\n",
      "Epoch 88/100\n",
      " - 0s - loss: 0.0875\n",
      "Epoch 89/100\n",
      " - 0s - loss: 0.0863\n",
      "Epoch 90/100\n",
      " - 0s - loss: 0.0852\n",
      "Epoch 91/100\n",
      " - 0s - loss: 0.0841\n",
      "Epoch 92/100\n",
      " - 0s - loss: 0.0831\n",
      "Epoch 93/100\n",
      " - 0s - loss: 0.0822\n",
      "Epoch 94/100\n",
      " - 0s - loss: 0.0813\n",
      "Epoch 95/100\n",
      " - 0s - loss: 0.0805\n",
      "Epoch 96/100\n",
      " - 0s - loss: 0.0797\n",
      "Epoch 97/100\n",
      " - 0s - loss: 0.0790\n",
      "Epoch 98/100\n",
      " - 0s - loss: 0.0782\n",
      "Epoch 99/100\n",
      " - 0s - loss: 0.0775\n",
      "Epoch 100/100\n",
      " - 0s - loss: 0.0768\n"
     ]
    },
    {
     "data": {
      "text/plain": [
       "<keras.callbacks.callbacks.History at 0x215dae47fc8>"
      ]
     },
     "execution_count": 41,
     "metadata": {},
     "output_type": "execute_result"
    }
   ],
   "source": [
    "### FIT NN ###\n",
    "model.fit(scaled_train, (y_train - y_train.mean())/y_train.std() , epochs=100, batch_size=128 ,verbose=2)"
   ]
  },
  {
   "cell_type": "code",
   "execution_count": 43,
   "metadata": {},
   "outputs": [
    {
     "data": {
      "text/plain": [
       "3.6318127951626993"
      ]
     },
     "execution_count": 43,
     "metadata": {},
     "output_type": "execute_result"
    }
   ],
   "source": [
    "### PREDICTION ERROR ON TEST DATA ###\n",
    "real_pred = model.predict(scaled_test).ravel() * y_train.std()[0] + y_train.mean()[0]\n",
    "MAE = mean_absolute_error(y_test, model.predict(scaled_test).ravel() * y_train.std()[0] + y_train.mean()[0])\n",
    "MAE"
   ]
  },
  {
   "cell_type": "code",
   "execution_count": 50,
   "metadata": {},
   "outputs": [
    {
     "data": {
      "text/plain": [
       "array([1, 3, 2])"
      ]
     },
     "execution_count": 50,
     "metadata": {},
     "output_type": "execute_result"
    }
   ],
   "source": [
    "np.random.permutation([1,2,3])"
   ]
  },
  {
   "cell_type": "code",
   "execution_count": 51,
   "metadata": {},
   "outputs": [],
   "source": [
    "### COMPUTE PERMUTATION AND SCORING ###\n",
    "np.random.seed(33)\n",
    "\n",
    "final_score = []\n",
    "shuff_pred = []\n",
    "\n",
    "for i, col in enumerate(X_test.columns):\n",
    "    \n",
    "    ## shuffle col\n",
    "    \n",
    "    shuff_test = scaled_test.copy()\n",
    "    shuff_test [:, i] = np.random.permutation(shuff_test [:, i])\n",
    "    \n",
    "    ## compute score on shuffled data\n",
    "    score = mean_absolute_error(y_test, model.predict(shuff_test).ravel() *y_train.std()[0]+y_train.mean()[0])\n",
    "    shuff_pred.append(model.predict(shuff_test).ravel() *y_train.std()[0]+y_train.mean()[0])\n",
    "    \n",
    "    final_score.append(score)\n",
    "    \n",
    "final_score = np.asarray(final_score)\n"
   ]
  },
  {
   "cell_type": "code",
   "execution_count": 52,
   "metadata": {},
   "outputs": [
    {
     "data": {
      "text/plain": [
       "array([15.9010128 ,  6.06188866,  4.20940567,  4.04728529])"
      ]
     },
     "execution_count": 52,
     "metadata": {},
     "output_type": "execute_result"
    }
   ],
   "source": [
    "final_score"
   ]
  },
  {
   "cell_type": "code",
   "execution_count": 54,
   "metadata": {},
   "outputs": [
    {
     "data": {
      "image/png": "[encoded data removed]",
      "text/plain": [
       "<Figure size 432x288 with 1 Axes>"
      ]
     },
     "metadata": {
      "needs_background": "light"
     },
     "output_type": "display_data"
    }
   ],
   "source": [
    "### PERMUTATION IMPORTANCE REPORT ###\n",
    "plt.bar(range(X_train.shape[1]), (final_score - MAE)/MAE*100);\n",
    "plt.xticks(range(X_train.shape[1]), ['AT','V','AP','RH']);"
   ]
  },
  {
   "cell_type": "code",
   "execution_count": null,
   "metadata": {},
   "outputs": [],
   "source": []
  }
 ],
 "metadata": {
  "kernelspec": {
   "display_name": "Python 3",
   "language": "python",
   "name": "python3"
  },
  "language_info": {
   "codemirror_mode": {
    "name": "ipython",
    "version": 3
   },
   "file_extension": ".py",
   "mimetype": "text/x-python",
   "name": "python",
   "nbconvert_exporter": "python",
   "pygments_lexer": "ipython3",
   "version": "3.7.4"
  },
  "toc": {
   "base_numbering": 1,
   "nav_menu": {},
   "number_sections": true,
   "sideBar": true,
   "skip_h1_title": false,
   "title_cell": "Table of Contents",
   "title_sidebar": "Contents",
   "toc_cell": false,
   "toc_position": {},
   "toc_section_display": true,
   "toc_window_display": false
  }
 },
 "nbformat": 4,
 "nbformat_minor": 2
}
