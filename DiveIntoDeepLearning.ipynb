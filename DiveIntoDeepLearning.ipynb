{
  "nbformat": 4,
  "nbformat_minor": 0,
  "metadata": {
    "colab": {
      "name": "DiveIntoDeepLearning.ipynb",
      "provenance": [],
      "collapsed_sections": [],
      "authorship_tag": "ABX9TyPJGK7GbL9S1wwFwHMyXx9+",
      "include_colab_link": true
    },
    "kernelspec": {
      "name": "python3",
      "display_name": "Python 3"
    }
  },
  "cells": [
    {
      "cell_type": "markdown",
      "metadata": {
        "id": "view-in-github",
        "colab_type": "text"
      },
      "source": [
        "<a href=\"https://colab.research.google.com/github/ShaunakSen/Deep-Learning/blob/master/DiveIntoDeepLearning.ipynb\" target=\"_parent\"><img src=\"https://colab.research.google.com/assets/colab-badge.svg\" alt=\"Open In Colab\"/></a>"
      ]
    },
    {
      "cell_type": "markdown",
      "metadata": {
        "id": "2mBJj7CuQ8ev"
      },
      "source": [
        "## Dive Into Deep Learning\n",
        "\n",
        "> Self notes on the book: http://www.d2l.ai/\n",
        "---\n",
        "\n",
        "If you are able to devise a solution to the problem that will work 100% of the time, __do not__ use ML!\n",
        "\n",
        "The supervision comes into play because for choosing the parameters, we (the supervisors) provide the model with a dataset consisting of labeled examples, where each example is matched with the ground-truth label. In probabilistic terms, we typically are interested in estimating the conditional probability of a label given input features. While it is just one among several paradigms within machine learning, supervised learning accounts for the majority of successful applications of machine learning in industry. Partly, that is because many important tasks can be described crisply as estimating the probability of something unknown given a particular set of available data:\n",
        "\n",
        "Lots of practical problems are well-described regression problems. Predicting the rating that a user will assign to a movie can be thought of as a regression problem and if you designed a great algorithm to accomplish this feat in 2009, you might have won the 1-million-dollar Netflix prize. Predicting the length of stay for patients in the hospital is also a regression problem. A good rule of thumb is that any how much? or how many? problem should suggest regression, such as:\n",
        "\n",
        "- How many hours will this surgery take?\n",
        "\n",
        "- How much rainfall will this town have in the next six hours?\n",
        "\n",
        "NOTE: whole number prediction problems are regression ones, not classification\n",
        "\n",
        "## Types of Supervised ML\n",
        "\n",
        "### 1. Regression + 2. Classification - we know\n",
        "\n",
        "### 2.1 Tagging\n",
        "\n",
        "Some classification problems fit neatly into the binary or multiclass classification setups. For example, we could train a normal binary classifier to distinguish cats from dogs. Given the current state of computer vision, we can do this easily, with off-the-shelf tools. Nonetheless, no matter how accurate our model gets, we might find ourselves in trouble when the classifier encounters an image of the Town Musicians of Bremen, a popular German fairy tale featuring four animals in Fig. 1.3.3.\n",
        "\n",
        "![](http://www.d2l.ai/_images/stackedanimals.png)\n",
        "\n",
        "As you can see, there is a cat in Fig. 1.3.3, and a rooster, a dog, and a donkey, with some trees in the background. Depending on what we want to do with our model ultimately, treating this as a binary classification problem might not make a lot of sense. Instead, we might want to give the model the option of saying the image depicts a cat, a dog, a donkey, and a rooster.\n",
        "\n",
        "The problem of learning to predict classes that are not mutually exclusive is called multi-label classification. Auto-tagging problems are typically best described as multi-label classification problems. Think of the tags people might apply to posts on a technical blog, e.g., “machine learning”, “technology”, “gadgets”, “programming languages”, “Linux”, “cloud computing”, “AWS”. A typical article might have 5–10 tags applied because these concepts are correlated. Posts about “cloud computing” are likely to mention “AWS” and posts about “machine learning” could also deal with “programming languages”.\n",
        "\n",
        "We also have to deal with this kind of problem when dealing with the biomedical literature, where correctly tagging articles is important because it allows researchers to do exhaustive reviews of the literature. At the National Library of Medicine, a number of professional annotators go over each article that gets indexed in PubMed to associate it with the relevant terms from MeSH, a collection of roughly 28000 tags. This is a time-consuming process and the annotators typically have a one-year lag between archiving and tagging. Machine learning can be used here to provide provisional tags until each article can have a proper manual review. Indeed, for several years, the BioASQ organization has hosted competitions to do precisely this.\n",
        "\n",
        "### 3. Search\n",
        "\n",
        "Sometimes we do not just want to assign each example to a bucket or to a real value. In the field of information retrieval, we want to impose a ranking on a set of items. Take web search for an example. The goal is less to determine whether a particular page is relevant for a query, but rather, which one of the plethora of search results is most relevant for a particular user. We really care about the ordering of the relevant search results and our learning algorithm needs to produce ordered subsets of elements from a larger set. In other words, if we are asked to produce the first 5 letters from the alphabet, there is a difference between returning “A B C D E” and “C A B E D”. Even if the result set is the same, the ordering within the set matters.\n",
        "\n",
        "\n",
        "One possible solution to this problem is to first assign to every element in the set a corresponding relevance score and then to retrieve the top-rated elements. PageRank, the original secret sauce behind the Google search engine was an early example of such a scoring system but it was peculiar in that it did not depend on the actual query. Here they relied on a simple relevance filter to identify the set of relevant items and then on PageRank to order those results that contained the query term. Nowadays, search engines use machine learning and behavioral models to obtain query-dependent relevance scores. There are entire academic conferences devoted to this subject.\n",
        "\n",
        "### 4. Recommender Systems\n",
        "\n",
        "In the simplest formulations, these systems are trained to estimate some score, such as an estimated rating or the probability of purchase, given a user and an item.\n",
        "\n",
        "Given such a model, for any given user, we could retrieve the set of objects with the largest scores, which could then be recommended to the user. Production systems are considerably more advanced and take detailed user activity and item characteristics into account when computing such scores\n",
        "\n",
        "Despite their tremendous economic value, recommendation systems naively built on top of predictive models suffer some serious conceptual flaws. To start, we only observe censored feedback: users preferentially rate movies that they feel strongly about. For example, on a five-point scale, you might notice that items receive many five and one star ratings but that there are conspicuously few three-star ratings. Moreover, current purchase habits are often a result of the recommendation algorithm currently in place, but learning algorithms do not always take this detail into account. Thus it is possible for feedback loops to form where a recommender system preferentially pushes an item that is then taken to be better (due to greater purchases) and in turn is recommended even more frequently. Many of these problems about how to deal with censoring, incentives, and feedback loops, are important open research questions.\n",
        "\n",
        "### Sequence learning\n",
        "\n",
        "So far, we have looked at problems where we have some fixed number of inputs and produce a fixed number of outputs. For example, we considered predicting house prices from a fixed set of features: square footage, number of bedrooms, number of bathrooms, walking time to downtown. We also discussed mapping from an image (of fixed dimension) to the predicted probabilities that it belongs to each of a fixed number of classes, or taking a user ID and a product ID, and predicting a star rating. In these cases, once we feed our fixed-length input into the model to generate an output, the model immediately forgets what it just saw.\n",
        "\n",
        "This might be fine if our inputs truly all have the same dimensions and if successive inputs truly have nothing to do with each other. But how would we deal with video snippets? In this case, each snippet might consist of a different number of frames. And our guess of what is going on in each frame might be much stronger if we take into account the previous or succeeding frames. Same goes for language. One popular deep learning problem is machine translation: the task of ingesting sentences in some source language and predicting their translation in another language.\n",
        "\n",
        "These problems also occur in medicine. We might want a model to monitor patients in the intensive care unit and to fire off alerts if their risk of death in the next 24 hours exceeds some threshold. We definitely would not want this model to throw away everything it knows about the patient history each hour and just make its predictions based on the most recent measurements.\n",
        "\n",
        "These problems are among the most exciting applications of machine learning and they are instances of sequence learning. They require a model to either ingest sequences of inputs or to emit sequences of outputs (or both). Specifically, sequence to sequence learning considers problems where input and output are both variable-length sequences, such as machine translation and transcribing text from the spoken speech. While it is impossible to consider all types of sequence transformations, the following special cases are worth mentioning.\n",
        "\n",
        "__Tagging and Parsing__. This involves annotating a text sequence with attributes. In other words, the number of inputs and outputs is essentially the same. For instance, we might want to know where the verbs and subjects are. Alternatively, we might want to know which words are the named entities.\n",
        "\n",
        "__Automatic Speech Recognition__. With speech recognition, the input sequence is an audio recording of a speaker (shown in Fig. 1.3.5), and the output is the textual transcript of what the speaker said. The challenge is that there are many more audio frames (sound is typically sampled at 8kHz or 16kHz) than text, i.e., there is no 1:1 correspondence between audio and text, since thousands of samples may correspond to a single spoken word. These are sequence to sequence learning problems where the output is much shorter than the input.\n",
        "\n",
        "__Text to Speech__. This is the inverse of automatic speech recognition. In other words, the input is text and the output is an audio file. In this case, the output is much longer than the input. While it is easy for humans to recognize a bad audio file, this is not quite so trivial for computers.\n",
        "\n",
        "__Machine Translation__. Unlike the case of speech recognition, where corresponding inputs and outputs occur in the same order (after alignment), in machine translation, order inversion can be vital. In other words, while we are still converting one sequence into another, neither the number of inputs and outputs nor the order of corresponding data examples are assumed to be the same. Consider the following illustrative example of the peculiar tendency of Germans to place the verbs at the end of sentences.\n",
        "\n",
        "```\n",
        "German:           Haben Sie sich schon dieses grossartige Lehrwerk angeschaut?\n",
        "English:          Did you already check out this excellent tutorial?\n",
        "Wrong alignment:  Did you yourself already this excellent tutorial looked-at?\n",
        "```\n",
        "\n"
      ]
    },
    {
      "cell_type": "markdown",
      "metadata": {
        "id": "sEieofVh0SKV"
      },
      "source": [
        "## Unsupervised Learning\n",
        "\n",
        "In a completely opposite way, it could be frustrating to work for a boss who has no idea what they want you to do. However, if you plan to be a data scientist, you had better get used to it. The boss might just hand you a giant dump of data and tell you to do some data science with it! This sounds vague because it is. We call this class of problems unsupervised learning, and the type and number of questions we could ask is limited only by our creativity. We will address unsupervised learning techniques in later chapters. To whet your appetite for now, we describe a few of the following questions you might ask.\n",
        "\n",
        "- Can we find a small number of prototypes that accurately summarize the data? Given a set of photos, can we group them into landscape photos, pictures of dogs, babies, cats, and mountain peaks? Likewise, given a collection of users’ browsing activities, can we group them into users with similar behavior? This problem is typically known as clustering.\n",
        "\n",
        "- Can we find a small number of parameters that accurately capture the relevant properties of the data? The trajectories of a ball are quite well described by velocity, diameter, and mass of the ball. Tailors have developed a small number of parameters that describe human body shape fairly accurately for the purpose of fitting clothes. These problems are referred to as subspace estimation. If the dependence is linear, it is called principal component analysis.\n",
        "\n",
        "- Is there a representation of (arbitrarily structured) objects in Euclidean space such that symbolic properties can be well matched? This can be used to describe entities and their relations, such as “Rome”  −  “Italy”  +  “France”  =  “Paris”.\n",
        "\n",
        "- Is there a description of the root causes of much of the data that we observe? For instance, if we have demographic data about house prices, pollution, crime, location, education, and salaries, can we discover how they are related simply based on empirical data? The fields concerned with causality and probabilistic graphical models address this problem.\n",
        "\n",
        "- Another important and exciting recent development in unsupervised learning is the advent of generative adversarial networks. These give us a procedural way to synthesize data, even complicated structured data like images and audio. The underlying statistical mechanisms are tests to check whether real and fake data are the same."
      ]
    },
    {
      "cell_type": "markdown",
      "metadata": {
        "id": "dw1GazwOMNQg"
      },
      "source": [
        "## Basic Data Manipulation\n",
        "\n",
        "To start, we can use arange to create a row vector x containing the first 12 integers starting with 0, though they are created as floats by default. Each of the values in a tensor is called an element of the tensor. For instance, there are 12 elements in the tensor x. Unless otherwise specified, a new tensor will be stored in main memory and designated for CPU-based computation.\n",
        "\n"
      ]
    },
    {
      "cell_type": "code",
      "metadata": {
        "id": "VMhTF98VQ5Ev",
        "colab": {
          "base_uri": "https://localhost:8080/"
        },
        "outputId": "c037ea13-6151-48b5-ed0f-4254440dc012"
      },
      "source": [
        "import torch\n",
        "import tensorflow as tf\n",
        "\n",
        "print (tf.__version__)\n",
        "print (torch.__version__)"
      ],
      "execution_count": 29,
      "outputs": [
        {
          "output_type": "stream",
          "text": [
            "2.4.1\n",
            "1.8.0+cu101\n"
          ],
          "name": "stdout"
        }
      ]
    },
    {
      "cell_type": "code",
      "metadata": {
        "colab": {
          "base_uri": "https://localhost:8080/"
        },
        "id": "bBzRRI4QMh0P",
        "outputId": "23cba19f-3233-4e93-9342-f935833222c7"
      },
      "source": [
        "x = torch.arange(start=0, end=12, step=1)\n",
        "\n",
        "print (x)\n",
        "\n",
        "print (x.shape)\n",
        "\n",
        "print (x.numel())"
      ],
      "execution_count": 30,
      "outputs": [
        {
          "output_type": "stream",
          "text": [
            "tensor([ 0,  1,  2,  3,  4,  5,  6,  7,  8,  9, 10, 11])\n",
            "torch.Size([12])\n",
            "12\n"
          ],
          "name": "stdout"
        }
      ]
    },
    {
      "cell_type": "code",
      "metadata": {
        "colab": {
          "base_uri": "https://localhost:8080/"
        },
        "id": "wB60MjLVMm7r",
        "outputId": "da3ef8a0-f689-469a-b86b-ed5a5bf40577"
      },
      "source": [
        "X = x.reshape(3, 4)\n",
        "print (X)\n",
        "\n",
        "## automatically infer the first dimension\n",
        "X = x.reshape(-1, 4)\n",
        "print (X) "
      ],
      "execution_count": 31,
      "outputs": [
        {
          "output_type": "stream",
          "text": [
            "tensor([[ 0,  1,  2,  3],\n",
            "        [ 4,  5,  6,  7],\n",
            "        [ 8,  9, 10, 11]])\n",
            "tensor([[ 0,  1,  2,  3],\n",
            "        [ 4,  5,  6,  7],\n",
            "        [ 8,  9, 10, 11]])\n"
          ],
          "name": "stdout"
        }
      ]
    },
    {
      "cell_type": "markdown",
      "metadata": {
        "id": "aJoUaOTzN6VC"
      },
      "source": [
        "Typically, we will want our matrices initialized either with zeros, ones, some other constants, or numbers randomly sampled from a specific distribution. We can create a tensor representing a tensor with all elements set to 0 and a shape of (2, 3, 4) as follows:\n",
        "\n"
      ]
    },
    {
      "cell_type": "code",
      "metadata": {
        "colab": {
          "base_uri": "https://localhost:8080/"
        },
        "id": "yBz0Q1kCM1tA",
        "outputId": "65005158-50c1-4b0f-9b0d-59a02365e6c0"
      },
      "source": [
        "print (torch.zeros((2,3,4)))\n",
        "\n",
        "## Similarly, we can create tensors with each element set to 1 as follows:\n",
        "\n",
        "print (torch.ones((2,3,4)))"
      ],
      "execution_count": 32,
      "outputs": [
        {
          "output_type": "stream",
          "text": [
            "tensor([[[0., 0., 0., 0.],\n",
            "         [0., 0., 0., 0.],\n",
            "         [0., 0., 0., 0.]],\n",
            "\n",
            "        [[0., 0., 0., 0.],\n",
            "         [0., 0., 0., 0.],\n",
            "         [0., 0., 0., 0.]]])\n",
            "tensor([[[1., 1., 1., 1.],\n",
            "         [1., 1., 1., 1.],\n",
            "         [1., 1., 1., 1.]],\n",
            "\n",
            "        [[1., 1., 1., 1.],\n",
            "         [1., 1., 1., 1.],\n",
            "         [1., 1., 1., 1.]]])\n"
          ],
          "name": "stdout"
        }
      ]
    },
    {
      "cell_type": "code",
      "metadata": {
        "colab": {
          "base_uri": "https://localhost:8080/"
        },
        "id": "wCRy-5_BN_2w",
        "outputId": "05ed0cd4-4bc9-48b2-bfce-1a9a19e37fd7"
      },
      "source": [
        "print (torch.randn((2,3,4)))"
      ],
      "execution_count": 33,
      "outputs": [
        {
          "output_type": "stream",
          "text": [
            "tensor([[[-0.4009, -0.1911,  0.0354,  0.8668],\n",
            "         [ 1.2264, -1.2283, -0.7780, -0.7186],\n",
            "         [-1.3655,  0.2184, -0.9438,  0.4106]],\n",
            "\n",
            "        [[ 0.0810, -0.4866, -1.8628,  1.8282],\n",
            "         [ 0.8764, -0.8650, -0.2025, -1.4659],\n",
            "         [ 2.0329,  0.3633, -0.8969,  0.3470]]])\n"
          ],
          "name": "stdout"
        }
      ]
    },
    {
      "cell_type": "markdown",
      "metadata": {
        "id": "Z7r_ePh7PBXF"
      },
      "source": [
        "We can also specify the exact values for each element in the desired tensor by supplying a Python list (or list of lists) containing the numerical values. Here, the outermost list corresponds to axis 0, and the inner list to axis 1.\n",
        "\n"
      ]
    },
    {
      "cell_type": "code",
      "metadata": {
        "colab": {
          "base_uri": "https://localhost:8080/"
        },
        "id": "eNHfwNTrOuZN",
        "outputId": "47285318-b667-4aac-e857-a002547309cc"
      },
      "source": [
        "torch.tensor([[2, 1, 4, 3], [1, 2, 3, 4], [4, 3, 2, 1]])"
      ],
      "execution_count": 34,
      "outputs": [
        {
          "output_type": "execute_result",
          "data": {
            "text/plain": [
              "tensor([[2, 1, 4, 3],\n",
              "        [1, 2, 3, 4],\n",
              "        [4, 3, 2, 1]])"
            ]
          },
          "metadata": {
            "tags": []
          },
          "execution_count": 34
        }
      ]
    },
    {
      "cell_type": "code",
      "metadata": {
        "colab": {
          "base_uri": "https://localhost:8080/"
        },
        "id": "yqgH550PPD2Z",
        "outputId": "63c828fb-25d5-4430-f359-876db145eed0"
      },
      "source": [
        "x = torch.tensor([1.0, 2, 4, 8])\n",
        "y = torch.tensor([2, 2, 2, 2])\n",
        "x + y, x - y, x * y, x / y, x ** y  # The ** operator is exponentiation"
      ],
      "execution_count": 35,
      "outputs": [
        {
          "output_type": "execute_result",
          "data": {
            "text/plain": [
              "(tensor([ 3.,  4.,  6., 10.]),\n",
              " tensor([-1.,  0.,  2.,  6.]),\n",
              " tensor([ 2.,  4.,  8., 16.]),\n",
              " tensor([0.5000, 1.0000, 2.0000, 4.0000]),\n",
              " tensor([ 1.,  4., 16., 64.]))"
            ]
          },
          "metadata": {
            "tags": []
          },
          "execution_count": 35
        }
      ]
    },
    {
      "cell_type": "code",
      "metadata": {
        "colab": {
          "base_uri": "https://localhost:8080/"
        },
        "id": "wgfod02MTRCA",
        "outputId": "f175affc-c955-4193-dcf8-65f7d4caf6bc"
      },
      "source": [
        "X = torch.arange(12, dtype=torch.float32).reshape((3,4))\n",
        "Y = torch.tensor([[2.0, 1, 4, 3], [1, 2, 3, 4], [4, 3, 2, 1]])\n",
        "\n",
        "print (X)\n",
        "\n",
        "print (Y)"
      ],
      "execution_count": 36,
      "outputs": [
        {
          "output_type": "stream",
          "text": [
            "tensor([[ 0.,  1.,  2.,  3.],\n",
            "        [ 4.,  5.,  6.,  7.],\n",
            "        [ 8.,  9., 10., 11.]])\n",
            "tensor([[2., 1., 4., 3.],\n",
            "        [1., 2., 3., 4.],\n",
            "        [4., 3., 2., 1.]])\n"
          ],
          "name": "stdout"
        }
      ]
    },
    {
      "cell_type": "code",
      "metadata": {
        "colab": {
          "base_uri": "https://localhost:8080/"
        },
        "id": "nFvOeDmlTtAM",
        "outputId": "428d1a40-0db1-42a2-956b-f1acee5bc1e5"
      },
      "source": [
        "torch.cat(tensors=[X, Y], dim=0)"
      ],
      "execution_count": 37,
      "outputs": [
        {
          "output_type": "execute_result",
          "data": {
            "text/plain": [
              "tensor([[ 0.,  1.,  2.,  3.],\n",
              "        [ 4.,  5.,  6.,  7.],\n",
              "        [ 8.,  9., 10., 11.],\n",
              "        [ 2.,  1.,  4.,  3.],\n",
              "        [ 1.,  2.,  3.,  4.],\n",
              "        [ 4.,  3.,  2.,  1.]])"
            ]
          },
          "metadata": {
            "tags": []
          },
          "execution_count": 37
        }
      ]
    },
    {
      "cell_type": "code",
      "metadata": {
        "colab": {
          "base_uri": "https://localhost:8080/"
        },
        "id": "G7svhcO4T1MX",
        "outputId": "3dfb527c-95be-4a0c-f771-75e143c8c438"
      },
      "source": [
        "torch.cat((X, Y), dim=1)"
      ],
      "execution_count": 38,
      "outputs": [
        {
          "output_type": "execute_result",
          "data": {
            "text/plain": [
              "tensor([[ 0.,  1.,  2.,  3.,  2.,  1.,  4.,  3.],\n",
              "        [ 4.,  5.,  6.,  7.,  1.,  2.,  3.,  4.],\n",
              "        [ 8.,  9., 10., 11.,  4.,  3.,  2.,  1.]])"
            ]
          },
          "metadata": {
            "tags": []
          },
          "execution_count": 38
        }
      ]
    },
    {
      "cell_type": "markdown",
      "metadata": {
        "id": "Y9SZccD-eR3u"
      },
      "source": [
        "### Broadcasting Mechanism\n",
        "\n",
        "In the above section, we saw how to perform elementwise operations on two tensors of the same shape. Under certain conditions, even when shapes differ, we can still perform elementwise operations by invoking the broadcasting mechanism. This mechanism works in the following way: First, expand one or both arrays by copying elements appropriately so that after this transformation, the two tensors have the same shape. Second, carry out the elementwise operations on the resulting arrays.\n",
        "\n",
        "In most cases, we broadcast along an axis where an array initially only has length 1, such as in the following example:\n",
        "\n"
      ]
    },
    {
      "cell_type": "code",
      "metadata": {
        "colab": {
          "base_uri": "https://localhost:8080/"
        },
        "id": "kJQSaGPtUH_y",
        "outputId": "4238948d-c441-4a2e-e762-e6d1c947beee"
      },
      "source": [
        "a = torch.arange(3).reshape((3,1))\n",
        "print (a)\n",
        "b = torch.arange(2).reshape((1, 2))\n",
        "print (b)"
      ],
      "execution_count": 39,
      "outputs": [
        {
          "output_type": "stream",
          "text": [
            "tensor([[0],\n",
            "        [1],\n",
            "        [2]])\n",
            "tensor([[0, 1]])\n"
          ],
          "name": "stdout"
        }
      ]
    },
    {
      "cell_type": "code",
      "metadata": {
        "colab": {
          "base_uri": "https://localhost:8080/",
          "height": 35
        },
        "id": "V-UY17zVelhu",
        "outputId": "686754be-d4a1-47e7-a5ab-99c5ea86c3f2"
      },
      "source": [
        "a+b\n",
        "\n",
        "\"\"\"\n",
        "The broadcasting happens as:\n",
        "a -> [[0, 0]\n",
        "     [1, 1]\n",
        "     [2, 2]]\n",
        "b -> [[0, 1]\n",
        "     [0, 1]\n",
        "     [0, 1]]   \n",
        "\"\"\""
      ],
      "execution_count": 40,
      "outputs": [
        {
          "output_type": "execute_result",
          "data": {
            "application/vnd.google.colaboratory.intrinsic+json": {
              "type": "string"
            },
            "text/plain": [
              "'\\nThe broadcasting happens as:\\na -> [[0, 0]\\n     [1, 1]\\n     [2, 2]]\\nb -> [[0, 1]\\n     [0, 1]\\n     [0, 1]]   \\n'"
            ]
          },
          "metadata": {
            "tags": []
          },
          "execution_count": 40
        }
      ]
    },
    {
      "cell_type": "markdown",
      "metadata": {
        "id": "Cc7_7I9Rfc8A"
      },
      "source": [
        "### Indexing and slicing\n",
        "\n",
        "Thus, [-1] selects the last element and [1:3] selects the second and the third elements as follows:\n",
        "\n"
      ]
    },
    {
      "cell_type": "code",
      "metadata": {
        "colab": {
          "base_uri": "https://localhost:8080/"
        },
        "id": "qMfORByvew0m",
        "outputId": "c5310b04-17a9-4ff4-e5ff-1b7b5f7d24dc"
      },
      "source": [
        "print (X)\n",
        "\n",
        "print (X[-1])\n",
        "\n",
        "print (X[1:3])"
      ],
      "execution_count": 41,
      "outputs": [
        {
          "output_type": "stream",
          "text": [
            "tensor([[ 0.,  1.,  2.,  3.],\n",
            "        [ 4.,  5.,  6.,  7.],\n",
            "        [ 8.,  9., 10., 11.]])\n",
            "tensor([ 8.,  9., 10., 11.])\n",
            "tensor([[ 4.,  5.,  6.,  7.],\n",
            "        [ 8.,  9., 10., 11.]])\n"
          ],
          "name": "stdout"
        }
      ]
    },
    {
      "cell_type": "code",
      "metadata": {
        "colab": {
          "base_uri": "https://localhost:8080/"
        },
        "id": "96XTzZFif8Nq",
        "outputId": "411c79b0-62b1-4b74-9ddb-fdbef072799c"
      },
      "source": [
        "X[1, 2] = 9\n",
        "print (X)"
      ],
      "execution_count": 42,
      "outputs": [
        {
          "output_type": "stream",
          "text": [
            "tensor([[ 0.,  1.,  2.,  3.],\n",
            "        [ 4.,  5.,  9.,  7.],\n",
            "        [ 8.,  9., 10., 11.]])\n"
          ],
          "name": "stdout"
        }
      ]
    },
    {
      "cell_type": "code",
      "metadata": {
        "colab": {
          "base_uri": "https://localhost:8080/"
        },
        "id": "2M4bvm_0gHc1",
        "outputId": "4ff45581-c321-42e3-ffa5-3442ccc9035c"
      },
      "source": [
        "X[0:2, :] = 12\n",
        "\n",
        "print (X)"
      ],
      "execution_count": 43,
      "outputs": [
        {
          "output_type": "stream",
          "text": [
            "tensor([[12., 12., 12., 12.],\n",
            "        [12., 12., 12., 12.],\n",
            "        [ 8.,  9., 10., 11.]])\n"
          ],
          "name": "stdout"
        }
      ]
    },
    {
      "cell_type": "markdown",
      "metadata": {
        "id": "EXF-aQbm8hKz"
      },
      "source": [
        "### Saving memeory\n",
        "\n",
        "Running operations can cause new memory to be allocated to host results. For example, if we write Y = X + Y, we will dereference the tensor that Y used to point to and instead point Y at the newly allocated memory. In the following example, we demonstrate this with Python’s id() function, which gives us the exact address of the referenced object in memory. After running Y = Y + X, we will find that id(Y) points to a different location. That is because Python first evaluates Y + X, allocating new memory for the result and then makes Y point to this new location in memory.\n",
        "\n"
      ]
    },
    {
      "cell_type": "code",
      "metadata": {
        "colab": {
          "base_uri": "https://localhost:8080/"
        },
        "id": "9v0YsUS5gO_1",
        "outputId": "4e2e9f4c-6df4-439e-894b-08c48d1050ab"
      },
      "source": [
        "before = id(Y)\n",
        "print (before)\n",
        "Y=Y+X\n",
        "print (id(Y))"
      ],
      "execution_count": 44,
      "outputs": [
        {
          "output_type": "stream",
          "text": [
            "139624736336544\n",
            "139624736763248\n"
          ],
          "name": "stdout"
        }
      ]
    },
    {
      "cell_type": "markdown",
      "metadata": {
        "id": "4WNjxT5T8_Cs"
      },
      "source": [
        "This might be undesirable for two reasons. First, we do not want to run around allocating memory unnecessarily all the time. In machine learning, we might have hundreds of megabytes of parameters and update all of them multiple times per second. Typically, we will want to perform these updates in place. Second, we might point at the same parameters from multiple variables. If we do not update in place, other references will still point to the old memory location, making it possible for parts of our code to inadvertently reference stale parameters.\n",
        "\n",
        "Fortunately, performing in-place operations is easy. We can assign the result of an operation to a previously allocated array with slice notation, e.g., Y[:] = <expression>. To illustrate this concept, we first create a new matrix Z with the same shape as another Y, using zeros_like to allocate a block of entries"
      ]
    },
    {
      "cell_type": "code",
      "metadata": {
        "colab": {
          "base_uri": "https://localhost:8080/"
        },
        "id": "QFJiDCWO8t6a",
        "outputId": "0980b33d-9d51-4f37-dd7f-4aa5809abbfb"
      },
      "source": [
        "Z = torch.zeros_like(Y)\n",
        "print (Z)\n",
        "print('id(Z):', id(Z))\n",
        "Z[:] = X + Y\n",
        "print('id(Z):', id(Z))\n",
        "Z = X+Y\n",
        "print('id(Z):', id(Z))"
      ],
      "execution_count": 45,
      "outputs": [
        {
          "output_type": "stream",
          "text": [
            "tensor([[0., 0., 0., 0.],\n",
            "        [0., 0., 0., 0.],\n",
            "        [0., 0., 0., 0.]])\n",
            "id(Z): 139624736464560\n",
            "id(Z): 139624736464560\n",
            "id(Z): 139624738618416\n"
          ],
          "name": "stdout"
        }
      ]
    },
    {
      "cell_type": "markdown",
      "metadata": {
        "id": "k2vm-2tI_jpC"
      },
      "source": [
        "If the value of X is not reused in subsequent computations, we can also use X[:] = X + Y or X += Y to reduce the memory overhead of the operation.\n",
        "\n"
      ]
    },
    {
      "cell_type": "code",
      "metadata": {
        "colab": {
          "base_uri": "https://localhost:8080/"
        },
        "id": "jGjqrm7F_R2s",
        "outputId": "c503f86d-8473-40fa-9830-f12abb8784fc"
      },
      "source": [
        "before = id(X)\n",
        "X = X + Y\n",
        "id(X) == before"
      ],
      "execution_count": 46,
      "outputs": [
        {
          "output_type": "execute_result",
          "data": {
            "text/plain": [
              "False"
            ]
          },
          "metadata": {
            "tags": []
          },
          "execution_count": 46
        }
      ]
    },
    {
      "cell_type": "code",
      "metadata": {
        "colab": {
          "base_uri": "https://localhost:8080/"
        },
        "id": "BjFb86mE_lJM",
        "outputId": "28af2000-7f62-49d6-dff3-6d54e62520a4"
      },
      "source": [
        "before = id(X)\n",
        "X +=  Y\n",
        "id(X) == before"
      ],
      "execution_count": 47,
      "outputs": [
        {
          "output_type": "execute_result",
          "data": {
            "text/plain": [
              "True"
            ]
          },
          "metadata": {
            "tags": []
          },
          "execution_count": 47
        }
      ]
    },
    {
      "cell_type": "markdown",
      "metadata": {
        "id": "vTKxYwGkRg1G"
      },
      "source": [
        "## Basic Linear Algebra\n",
        "\n",
        "### Dot Product\n",
        "\n",
        "one of the most fundamental operations is the dot product. Given two vectors  x,y their dot product\n",
        "\n",
        "$\\mathbf{x}^\\top \\mathbf{y}$ or $\\langle \\mathbf{x}, \\mathbf{y} \\rangle$\n",
        "is a sum over the products of the elements at the same position"
      ]
    },
    {
      "cell_type": "code",
      "metadata": {
        "id": "3pw3MafZ_sMO",
        "colab": {
          "base_uri": "https://localhost:8080/"
        },
        "outputId": "ebbebc03-ce12-4ae3-f5d4-631f861d75be"
      },
      "source": [
        "print (x)\n",
        "y = torch.ones(4, dtype=torch.float32)\n",
        "\n",
        "print (x.dot(y))\n",
        "\n",
        "### Note that we can express the dot product of two vectors equivalently by performing an elementwise multiplication and then a sum:\n",
        "\n",
        "print (torch.sum(x*y))"
      ],
      "execution_count": 48,
      "outputs": [
        {
          "output_type": "stream",
          "text": [
            "tensor([1., 2., 4., 8.])\n",
            "tensor(15.)\n",
            "tensor(15.)\n"
          ],
          "name": "stdout"
        }
      ]
    },
    {
      "cell_type": "markdown",
      "metadata": {
        "id": "CxcS0rFrSZlU"
      },
      "source": [
        "Dot products are useful in a wide range of contexts. For example, given some set of values, and a set of wts the dot product bw these vectors give us a weighted sum. When the wts are non-negative and sum upto 1 the dot prod gives us the weighted avg\n",
        "\n",
        "After normalizing two vectors to have the unit length, the dot products express the cosine of the angle between them. We will formally introduce this notion of length later in this section.\n",
        "\n",
        "### Matrix-Vector Products\n",
        "\n",
        "Now that we know how to calculate dot products, we can begin to understand matrix-vector products. Recall the matrix  $\\mathbf{A} \\in \\mathbb{R}^{m \\times n}$ and the vector $\\mathbf{x} \\in \\mathbb{R}^n$ \n",
        "\n",
        "$\\begin{split}\\mathbf{A}=\n",
        "\\begin{bmatrix}\n",
        "\\mathbf{a}^\\top_{1} \\\\\n",
        "\\mathbf{a}^\\top_{2} \\\\\n",
        "\\vdots \\\\\n",
        "\\mathbf{a}^\\top_m \\\\\n",
        "\\end{bmatrix},\\end{split}$\n",
        "\n",
        "where each $\\mathbf{a}^\\top_{i} \\in \\mathbb{R}^n$ is a row vector representing the ith row of the matrix A. The matrix-vector product Ax is simply a column vector of length  m , whose  ith  element is the dot product  $\\mathbf{a}^\\top_i \\mathbf{x}$\n",
        "\n",
        "$\\begin{split}\\mathbf{A}\\mathbf{x}\n",
        "= \\begin{bmatrix}\n",
        "\\mathbf{a}^\\top_{1} \\\\\n",
        "\\mathbf{a}^\\top_{2} \\\\\n",
        "\\vdots \\\\\n",
        "\\mathbf{a}^\\top_m \\\\\n",
        "\\end{bmatrix}\\mathbf{x}\n",
        "= \\begin{bmatrix}\n",
        " \\mathbf{a}^\\top_{1} \\mathbf{x}  \\\\\n",
        " \\mathbf{a}^\\top_{2} \\mathbf{x} \\\\\n",
        "\\vdots\\\\\n",
        " \\mathbf{a}^\\top_{m} \\mathbf{x}\\\\\n",
        "\\end{bmatrix}.\\end{split}$\n",
        "\n",
        "We can think of multiplication by a matrix  A as a transformation that projects vectors (here x) from  $\\mathbb{R}^n$ to $\\mathbb{R}^m$. These transformations turn out to be remarkably useful. For example, we can represent rotations as multiplications by a square matrix. As we will see in subsequent chapters, we can also use matrix-vector products to describe the most intensive calculations required when computing each layer in a neural network given the values of the previous layer.\n",
        "\n",
        "Expressing matrix-vector products in code with tensors, we use the same dot function as for dot products. When we call np.dot(A, x) with a matrix A and a vector x, the matrix-vector product is performed. Note that the column dimension of A (its length along axis 1) must be the same as the dimension of x (its length).\n",
        "\n"
      ]
    },
    {
      "cell_type": "code",
      "metadata": {
        "colab": {
          "base_uri": "https://localhost:8080/"
        },
        "id": "SFxOAxynR6YK",
        "outputId": "20574b86-836b-4fbb-d72f-3a37b577d20d"
      },
      "source": [
        "A = torch.arange(20, dtype=torch.float32).reshape(5, 4)\n",
        "\n",
        "\n",
        "print (A.shape, x.shape)\n",
        "\n",
        "print (A)\n",
        "\n",
        "print (x)\n",
        "\n",
        "print (torch.mv(input=A, vec=x))"
      ],
      "execution_count": 49,
      "outputs": [
        {
          "output_type": "stream",
          "text": [
            "torch.Size([5, 4]) torch.Size([4])\n",
            "tensor([[ 0.,  1.,  2.,  3.],\n",
            "        [ 4.,  5.,  6.,  7.],\n",
            "        [ 8.,  9., 10., 11.],\n",
            "        [12., 13., 14., 15.],\n",
            "        [16., 17., 18., 19.]])\n",
            "tensor([1., 2., 4., 8.])\n",
            "tensor([ 34.,  94., 154., 214., 274.])\n"
          ],
          "name": "stdout"
        }
      ]
    },
    {
      "cell_type": "markdown",
      "metadata": {
        "id": "QJvNloGpZee8"
      },
      "source": [
        "### Matrix Multiplication\n",
        "\n",
        "![](https://i.imgur.com/8lGoukC.png)\n",
        "\n",
        "#### Walkthrough\n",
        "\n",
        "![](https://i.imgur.com/YPiBqU8.jpeg)\n",
        "\n",
        "![](https://i.imgur.com/YPiBqU8.jpeg)\n",
        "\n",
        "\n",
        "---\n",
        "\n",
        "\n",
        "\n",
        "\n"
      ]
    },
    {
      "cell_type": "code",
      "metadata": {
        "colab": {
          "base_uri": "https://localhost:8080/"
        },
        "id": "JnAkZ0RbY8lp",
        "outputId": "4e3427d1-d3f2-49ca-dabc-ac5d5d74e93e"
      },
      "source": [
        "print (A)\n",
        "\n",
        "B = torch.ones((4,3))\n",
        "\n",
        "print (A.shape, B.shape)\n",
        "mul = torch.mm(A, B)\n",
        "print (mul)\n",
        "print (mul.shape)"
      ],
      "execution_count": 58,
      "outputs": [
        {
          "output_type": "stream",
          "text": [
            "tensor([[ 0.,  1.,  2.,  3.],\n",
            "        [ 4.,  5.,  6.,  7.],\n",
            "        [ 8.,  9., 10., 11.],\n",
            "        [12., 13., 14., 15.],\n",
            "        [16., 17., 18., 19.]])\n",
            "torch.Size([5, 4]) torch.Size([4, 3])\n",
            "tensor([[ 6.,  6.,  6.],\n",
            "        [22., 22., 22.],\n",
            "        [38., 38., 38.],\n",
            "        [54., 54., 54.],\n",
            "        [70., 70., 70.]])\n",
            "torch.Size([5, 3])\n"
          ],
          "name": "stdout"
        }
      ]
    },
    {
      "cell_type": "code",
      "metadata": {
        "colab": {
          "base_uri": "https://localhost:8080/"
        },
        "id": "DdaGhEkcvSA8",
        "outputId": "37054bbc-9c9b-40f2-e798-0cad7e060643"
      },
      "source": [
        "### a is each row vector; extract the one at idx 1\n",
        "a_2 = A[1, :]\n",
        "\n",
        "print (a_2)"
      ],
      "execution_count": 59,
      "outputs": [
        {
          "output_type": "stream",
          "text": [
            "tensor([4., 5., 6., 7.])\n"
          ],
          "name": "stdout"
        }
      ]
    },
    {
      "cell_type": "code",
      "metadata": {
        "colab": {
          "base_uri": "https://localhost:8080/"
        },
        "id": "SQWBLkUFv0hE",
        "outputId": "36168cf7-cba6-4a53-bead-e4cef19c8fca"
      },
      "source": [
        "### b is each col vector; extract the last one: b_m\n",
        "b_m = B[:, -1]\n",
        "\n",
        "print (b_m)"
      ],
      "execution_count": 60,
      "outputs": [
        {
          "output_type": "stream",
          "text": [
            "tensor([1., 1., 1., 1.])\n"
          ],
          "name": "stdout"
        }
      ]
    },
    {
      "cell_type": "code",
      "metadata": {
        "colab": {
          "base_uri": "https://localhost:8080/"
        },
        "id": "Gx3Zrc2vwKiI",
        "outputId": "0659d7ae-cd32-4bbf-c6e3-d5decfe3e132"
      },
      "source": [
        "### a2_T . b_m should give the result at pos 2, m\n",
        "\n",
        "print (a_2.T.dot(b_m))"
      ],
      "execution_count": 61,
      "outputs": [
        {
          "output_type": "stream",
          "text": [
            "tensor(22.)\n"
          ],
          "name": "stdout"
        }
      ]
    },
    {
      "cell_type": "code",
      "metadata": {
        "colab": {
          "base_uri": "https://localhost:8080/"
        },
        "id": "lc99Do5HwQJc",
        "outputId": "96be03b9-8fe7-4077-d809-9182b9bc52b7"
      },
      "source": [
        "print (mul)"
      ],
      "execution_count": 64,
      "outputs": [
        {
          "output_type": "stream",
          "text": [
            "tensor([[ 6.,  6.,  6.],\n",
            "        [22., 22., 22.],\n",
            "        [38., 38., 38.],\n",
            "        [54., 54., 54.],\n",
            "        [70., 70., 70.]])\n"
          ],
          "name": "stdout"
        }
      ]
    },
    {
      "cell_type": "code",
      "metadata": {
        "id": "K2Jk0JO0wsI4"
      },
      "source": [
        ""
      ],
      "execution_count": null,
      "outputs": []
    }
  ]
}