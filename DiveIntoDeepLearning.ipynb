{
  "nbformat": 4,
  "nbformat_minor": 0,
  "metadata": {
    "colab": {
      "name": "DiveIntoDeepLearning.ipynb",
      "provenance": [],
      "collapsed_sections": [],
      "authorship_tag": "ABX9TyNnO0PNXq61OXF8kMr2zZF3",
      "include_colab_link": true
    },
    "kernelspec": {
      "name": "python3",
      "display_name": "Python 3"
    }
  },
  "cells": [
    {
      "cell_type": "markdown",
      "metadata": {
        "id": "view-in-github",
        "colab_type": "text"
      },
      "source": [
        "<a href=\"https://colab.research.google.com/github/ShaunakSen/Deep-Learning/blob/master/DiveIntoDeepLearning.ipynb\" target=\"_parent\"><img src=\"https://colab.research.google.com/assets/colab-badge.svg\" alt=\"Open In Colab\"/></a>"
      ]
    },
    {
      "cell_type": "code",
      "metadata": {
        "colab": {
          "base_uri": "https://localhost:8080/"
        },
        "id": "CfDmkz1ChPaM",
        "outputId": "20732944-1f52-4c9f-fa90-95a094feb4bb"
      },
      "source": [
        "!pip install -U d2l"
      ],
      "execution_count": 125,
      "outputs": [
        {
          "output_type": "stream",
          "text": [
            "Requirement already up-to-date: d2l in /usr/local/lib/python3.7/dist-packages (0.16.2)\n",
            "Requirement already satisfied, skipping upgrade: jupyter in /usr/local/lib/python3.7/dist-packages (from d2l) (1.0.0)\n",
            "Requirement already satisfied, skipping upgrade: pandas in /usr/local/lib/python3.7/dist-packages (from d2l) (1.1.5)\n",
            "Requirement already satisfied, skipping upgrade: requests in /usr/local/lib/python3.7/dist-packages (from d2l) (2.23.0)\n",
            "Requirement already satisfied, skipping upgrade: numpy in /usr/local/lib/python3.7/dist-packages (from d2l) (1.19.5)\n",
            "Requirement already satisfied, skipping upgrade: matplotlib in /usr/local/lib/python3.7/dist-packages (from d2l) (3.2.2)\n",
            "Requirement already satisfied, skipping upgrade: ipywidgets in /usr/local/lib/python3.7/dist-packages (from jupyter->d2l) (7.6.3)\n",
            "Requirement already satisfied, skipping upgrade: qtconsole in /usr/local/lib/python3.7/dist-packages (from jupyter->d2l) (5.0.3)\n",
            "Requirement already satisfied, skipping upgrade: jupyter-console in /usr/local/lib/python3.7/dist-packages (from jupyter->d2l) (5.2.0)\n",
            "Requirement already satisfied, skipping upgrade: nbconvert in /usr/local/lib/python3.7/dist-packages (from jupyter->d2l) (5.6.1)\n",
            "Requirement already satisfied, skipping upgrade: ipykernel in /usr/local/lib/python3.7/dist-packages (from jupyter->d2l) (4.10.1)\n",
            "Requirement already satisfied, skipping upgrade: notebook in /usr/local/lib/python3.7/dist-packages (from jupyter->d2l) (5.3.1)\n",
            "Requirement already satisfied, skipping upgrade: pytz>=2017.2 in /usr/local/lib/python3.7/dist-packages (from pandas->d2l) (2018.9)\n",
            "Requirement already satisfied, skipping upgrade: python-dateutil>=2.7.3 in /usr/local/lib/python3.7/dist-packages (from pandas->d2l) (2.8.1)\n",
            "Requirement already satisfied, skipping upgrade: urllib3!=1.25.0,!=1.25.1,<1.26,>=1.21.1 in /usr/local/lib/python3.7/dist-packages (from requests->d2l) (1.24.3)\n",
            "Requirement already satisfied, skipping upgrade: chardet<4,>=3.0.2 in /usr/local/lib/python3.7/dist-packages (from requests->d2l) (3.0.4)\n",
            "Requirement already satisfied, skipping upgrade: idna<3,>=2.5 in /usr/local/lib/python3.7/dist-packages (from requests->d2l) (2.10)\n",
            "Requirement already satisfied, skipping upgrade: certifi>=2017.4.17 in /usr/local/lib/python3.7/dist-packages (from requests->d2l) (2020.12.5)\n",
            "Requirement already satisfied, skipping upgrade: pyparsing!=2.0.4,!=2.1.2,!=2.1.6,>=2.0.1 in /usr/local/lib/python3.7/dist-packages (from matplotlib->d2l) (2.4.7)\n",
            "Requirement already satisfied, skipping upgrade: cycler>=0.10 in /usr/local/lib/python3.7/dist-packages (from matplotlib->d2l) (0.10.0)\n",
            "Requirement already satisfied, skipping upgrade: kiwisolver>=1.0.1 in /usr/local/lib/python3.7/dist-packages (from matplotlib->d2l) (1.3.1)\n",
            "Requirement already satisfied, skipping upgrade: nbformat>=4.2.0 in /usr/local/lib/python3.7/dist-packages (from ipywidgets->jupyter->d2l) (5.1.2)\n",
            "Requirement already satisfied, skipping upgrade: traitlets>=4.3.1 in /usr/local/lib/python3.7/dist-packages (from ipywidgets->jupyter->d2l) (5.0.5)\n",
            "Requirement already satisfied, skipping upgrade: jupyterlab-widgets>=1.0.0; python_version >= \"3.6\" in /usr/local/lib/python3.7/dist-packages (from ipywidgets->jupyter->d2l) (1.0.0)\n",
            "Requirement already satisfied, skipping upgrade: ipython>=4.0.0; python_version >= \"3.3\" in /usr/local/lib/python3.7/dist-packages (from ipywidgets->jupyter->d2l) (5.5.0)\n",
            "Requirement already satisfied, skipping upgrade: widgetsnbextension~=3.5.0 in /usr/local/lib/python3.7/dist-packages (from ipywidgets->jupyter->d2l) (3.5.1)\n",
            "Requirement already satisfied, skipping upgrade: pygments in /usr/local/lib/python3.7/dist-packages (from qtconsole->jupyter->d2l) (2.6.1)\n",
            "Requirement already satisfied, skipping upgrade: qtpy in /usr/local/lib/python3.7/dist-packages (from qtconsole->jupyter->d2l) (1.9.0)\n",
            "Requirement already satisfied, skipping upgrade: jupyter-core in /usr/local/lib/python3.7/dist-packages (from qtconsole->jupyter->d2l) (4.7.1)\n",
            "Requirement already satisfied, skipping upgrade: jupyter-client>=4.1 in /usr/local/lib/python3.7/dist-packages (from qtconsole->jupyter->d2l) (5.3.5)\n",
            "Requirement already satisfied, skipping upgrade: ipython-genutils in /usr/local/lib/python3.7/dist-packages (from qtconsole->jupyter->d2l) (0.2.0)\n",
            "Requirement already satisfied, skipping upgrade: pyzmq>=17.1 in /usr/local/lib/python3.7/dist-packages (from qtconsole->jupyter->d2l) (22.0.3)\n",
            "Requirement already satisfied, skipping upgrade: prompt-toolkit<2.0.0,>=1.0.0 in /usr/local/lib/python3.7/dist-packages (from jupyter-console->jupyter->d2l) (1.0.18)\n",
            "Requirement already satisfied, skipping upgrade: mistune<2,>=0.8.1 in /usr/local/lib/python3.7/dist-packages (from nbconvert->jupyter->d2l) (0.8.4)\n",
            "Requirement already satisfied, skipping upgrade: defusedxml in /usr/local/lib/python3.7/dist-packages (from nbconvert->jupyter->d2l) (0.7.1)\n",
            "Requirement already satisfied, skipping upgrade: entrypoints>=0.2.2 in /usr/local/lib/python3.7/dist-packages (from nbconvert->jupyter->d2l) (0.3)\n",
            "Requirement already satisfied, skipping upgrade: bleach in /usr/local/lib/python3.7/dist-packages (from nbconvert->jupyter->d2l) (3.3.0)\n",
            "Requirement already satisfied, skipping upgrade: pandocfilters>=1.4.1 in /usr/local/lib/python3.7/dist-packages (from nbconvert->jupyter->d2l) (1.4.3)\n",
            "Requirement already satisfied, skipping upgrade: jinja2>=2.4 in /usr/local/lib/python3.7/dist-packages (from nbconvert->jupyter->d2l) (2.11.3)\n",
            "Requirement already satisfied, skipping upgrade: testpath in /usr/local/lib/python3.7/dist-packages (from nbconvert->jupyter->d2l) (0.4.4)\n",
            "Requirement already satisfied, skipping upgrade: tornado>=4.0 in /usr/local/lib/python3.7/dist-packages (from ipykernel->jupyter->d2l) (5.1.1)\n",
            "Requirement already satisfied, skipping upgrade: Send2Trash in /usr/local/lib/python3.7/dist-packages (from notebook->jupyter->d2l) (1.5.0)\n",
            "Requirement already satisfied, skipping upgrade: terminado>=0.8.1 in /usr/local/lib/python3.7/dist-packages (from notebook->jupyter->d2l) (0.9.2)\n",
            "Requirement already satisfied, skipping upgrade: six>=1.5 in /usr/local/lib/python3.7/dist-packages (from python-dateutil>=2.7.3->pandas->d2l) (1.15.0)\n",
            "Requirement already satisfied, skipping upgrade: jsonschema!=2.5.0,>=2.4 in /usr/local/lib/python3.7/dist-packages (from nbformat>=4.2.0->ipywidgets->jupyter->d2l) (2.6.0)\n",
            "Requirement already satisfied, skipping upgrade: setuptools>=18.5 in /usr/local/lib/python3.7/dist-packages (from ipython>=4.0.0; python_version >= \"3.3\"->ipywidgets->jupyter->d2l) (54.1.2)\n",
            "Requirement already satisfied, skipping upgrade: decorator in /usr/local/lib/python3.7/dist-packages (from ipython>=4.0.0; python_version >= \"3.3\"->ipywidgets->jupyter->d2l) (4.4.2)\n",
            "Requirement already satisfied, skipping upgrade: pickleshare in /usr/local/lib/python3.7/dist-packages (from ipython>=4.0.0; python_version >= \"3.3\"->ipywidgets->jupyter->d2l) (0.7.5)\n",
            "Requirement already satisfied, skipping upgrade: pexpect; sys_platform != \"win32\" in /usr/local/lib/python3.7/dist-packages (from ipython>=4.0.0; python_version >= \"3.3\"->ipywidgets->jupyter->d2l) (4.8.0)\n",
            "Requirement already satisfied, skipping upgrade: simplegeneric>0.8 in /usr/local/lib/python3.7/dist-packages (from ipython>=4.0.0; python_version >= \"3.3\"->ipywidgets->jupyter->d2l) (0.8.1)\n",
            "Requirement already satisfied, skipping upgrade: wcwidth in /usr/local/lib/python3.7/dist-packages (from prompt-toolkit<2.0.0,>=1.0.0->jupyter-console->jupyter->d2l) (0.2.5)\n",
            "Requirement already satisfied, skipping upgrade: packaging in /usr/local/lib/python3.7/dist-packages (from bleach->nbconvert->jupyter->d2l) (20.9)\n",
            "Requirement already satisfied, skipping upgrade: webencodings in /usr/local/lib/python3.7/dist-packages (from bleach->nbconvert->jupyter->d2l) (0.5.1)\n",
            "Requirement already satisfied, skipping upgrade: MarkupSafe>=0.23 in /usr/local/lib/python3.7/dist-packages (from jinja2>=2.4->nbconvert->jupyter->d2l) (1.1.1)\n",
            "Requirement already satisfied, skipping upgrade: ptyprocess; os_name != \"nt\" in /usr/local/lib/python3.7/dist-packages (from terminado>=0.8.1->notebook->jupyter->d2l) (0.7.0)\n"
          ],
          "name": "stdout"
        }
      ]
    },
    {
      "cell_type": "markdown",
      "metadata": {
        "id": "2mBJj7CuQ8ev"
      },
      "source": [
        "## Dive Into Deep Learning\n",
        "\n",
        "> Self notes on the book: http://www.d2l.ai/\n",
        "---\n",
        "\n",
        "If you are able to devise a solution to the problem that will work 100% of the time, __do not__ use ML!\n",
        "\n",
        "The supervision comes into play because for choosing the parameters, we (the supervisors) provide the model with a dataset consisting of labeled examples, where each example is matched with the ground-truth label. In probabilistic terms, we typically are interested in estimating the conditional probability of a label given input features. While it is just one among several paradigms within machine learning, supervised learning accounts for the majority of successful applications of machine learning in industry. Partly, that is because many important tasks can be described crisply as estimating the probability of something unknown given a particular set of available data:\n",
        "\n",
        "Lots of practical problems are well-described regression problems. Predicting the rating that a user will assign to a movie can be thought of as a regression problem and if you designed a great algorithm to accomplish this feat in 2009, you might have won the 1-million-dollar Netflix prize. Predicting the length of stay for patients in the hospital is also a regression problem. A good rule of thumb is that any how much? or how many? problem should suggest regression, such as:\n",
        "\n",
        "- How many hours will this surgery take?\n",
        "\n",
        "- How much rainfall will this town have in the next six hours?\n",
        "\n",
        "NOTE: whole number prediction problems are regression ones, not classification\n",
        "\n",
        "## Types of Supervised ML\n",
        "\n",
        "### 1. Regression + 2. Classification - we know\n",
        "\n",
        "### 2.1 Tagging\n",
        "\n",
        "Some classification problems fit neatly into the binary or multiclass classification setups. For example, we could train a normal binary classifier to distinguish cats from dogs. Given the current state of computer vision, we can do this easily, with off-the-shelf tools. Nonetheless, no matter how accurate our model gets, we might find ourselves in trouble when the classifier encounters an image of the Town Musicians of Bremen, a popular German fairy tale featuring four animals in Fig. 1.3.3.\n",
        "\n",
        "![](http://www.d2l.ai/_images/stackedanimals.png)\n",
        "\n",
        "As you can see, there is a cat in Fig. 1.3.3, and a rooster, a dog, and a donkey, with some trees in the background. Depending on what we want to do with our model ultimately, treating this as a binary classification problem might not make a lot of sense. Instead, we might want to give the model the option of saying the image depicts a cat, a dog, a donkey, and a rooster.\n",
        "\n",
        "The problem of learning to predict classes that are not mutually exclusive is called multi-label classification. Auto-tagging problems are typically best described as multi-label classification problems. Think of the tags people might apply to posts on a technical blog, e.g., “machine learning”, “technology”, “gadgets”, “programming languages”, “Linux”, “cloud computing”, “AWS”. A typical article might have 5–10 tags applied because these concepts are correlated. Posts about “cloud computing” are likely to mention “AWS” and posts about “machine learning” could also deal with “programming languages”.\n",
        "\n",
        "We also have to deal with this kind of problem when dealing with the biomedical literature, where correctly tagging articles is important because it allows researchers to do exhaustive reviews of the literature. At the National Library of Medicine, a number of professional annotators go over each article that gets indexed in PubMed to associate it with the relevant terms from MeSH, a collection of roughly 28000 tags. This is a time-consuming process and the annotators typically have a one-year lag between archiving and tagging. Machine learning can be used here to provide provisional tags until each article can have a proper manual review. Indeed, for several years, the BioASQ organization has hosted competitions to do precisely this.\n",
        "\n",
        "### 3. Search\n",
        "\n",
        "Sometimes we do not just want to assign each example to a bucket or to a real value. In the field of information retrieval, we want to impose a ranking on a set of items. Take web search for an example. The goal is less to determine whether a particular page is relevant for a query, but rather, which one of the plethora of search results is most relevant for a particular user. We really care about the ordering of the relevant search results and our learning algorithm needs to produce ordered subsets of elements from a larger set. In other words, if we are asked to produce the first 5 letters from the alphabet, there is a difference between returning “A B C D E” and “C A B E D”. Even if the result set is the same, the ordering within the set matters.\n",
        "\n",
        "\n",
        "One possible solution to this problem is to first assign to every element in the set a corresponding relevance score and then to retrieve the top-rated elements. PageRank, the original secret sauce behind the Google search engine was an early example of such a scoring system but it was peculiar in that it did not depend on the actual query. Here they relied on a simple relevance filter to identify the set of relevant items and then on PageRank to order those results that contained the query term. Nowadays, search engines use machine learning and behavioral models to obtain query-dependent relevance scores. There are entire academic conferences devoted to this subject.\n",
        "\n",
        "### 4. Recommender Systems\n",
        "\n",
        "In the simplest formulations, these systems are trained to estimate some score, such as an estimated rating or the probability of purchase, given a user and an item.\n",
        "\n",
        "Given such a model, for any given user, we could retrieve the set of objects with the largest scores, which could then be recommended to the user. Production systems are considerably more advanced and take detailed user activity and item characteristics into account when computing such scores\n",
        "\n",
        "Despite their tremendous economic value, recommendation systems naively built on top of predictive models suffer some serious conceptual flaws. To start, we only observe censored feedback: users preferentially rate movies that they feel strongly about. For example, on a five-point scale, you might notice that items receive many five and one star ratings but that there are conspicuously few three-star ratings. Moreover, current purchase habits are often a result of the recommendation algorithm currently in place, but learning algorithms do not always take this detail into account. Thus it is possible for feedback loops to form where a recommender system preferentially pushes an item that is then taken to be better (due to greater purchases) and in turn is recommended even more frequently. Many of these problems about how to deal with censoring, incentives, and feedback loops, are important open research questions.\n",
        "\n",
        "### Sequence learning\n",
        "\n",
        "So far, we have looked at problems where we have some fixed number of inputs and produce a fixed number of outputs. For example, we considered predicting house prices from a fixed set of features: square footage, number of bedrooms, number of bathrooms, walking time to downtown. We also discussed mapping from an image (of fixed dimension) to the predicted probabilities that it belongs to each of a fixed number of classes, or taking a user ID and a product ID, and predicting a star rating. In these cases, once we feed our fixed-length input into the model to generate an output, the model immediately forgets what it just saw.\n",
        "\n",
        "This might be fine if our inputs truly all have the same dimensions and if successive inputs truly have nothing to do with each other. But how would we deal with video snippets? In this case, each snippet might consist of a different number of frames. And our guess of what is going on in each frame might be much stronger if we take into account the previous or succeeding frames. Same goes for language. One popular deep learning problem is machine translation: the task of ingesting sentences in some source language and predicting their translation in another language.\n",
        "\n",
        "These problems also occur in medicine. We might want a model to monitor patients in the intensive care unit and to fire off alerts if their risk of death in the next 24 hours exceeds some threshold. We definitely would not want this model to throw away everything it knows about the patient history each hour and just make its predictions based on the most recent measurements.\n",
        "\n",
        "These problems are among the most exciting applications of machine learning and they are instances of sequence learning. They require a model to either ingest sequences of inputs or to emit sequences of outputs (or both). Specifically, sequence to sequence learning considers problems where input and output are both variable-length sequences, such as machine translation and transcribing text from the spoken speech. While it is impossible to consider all types of sequence transformations, the following special cases are worth mentioning.\n",
        "\n",
        "__Tagging and Parsing__. This involves annotating a text sequence with attributes. In other words, the number of inputs and outputs is essentially the same. For instance, we might want to know where the verbs and subjects are. Alternatively, we might want to know which words are the named entities.\n",
        "\n",
        "__Automatic Speech Recognition__. With speech recognition, the input sequence is an audio recording of a speaker (shown in Fig. 1.3.5), and the output is the textual transcript of what the speaker said. The challenge is that there are many more audio frames (sound is typically sampled at 8kHz or 16kHz) than text, i.e., there is no 1:1 correspondence between audio and text, since thousands of samples may correspond to a single spoken word. These are sequence to sequence learning problems where the output is much shorter than the input.\n",
        "\n",
        "__Text to Speech__. This is the inverse of automatic speech recognition. In other words, the input is text and the output is an audio file. In this case, the output is much longer than the input. While it is easy for humans to recognize a bad audio file, this is not quite so trivial for computers.\n",
        "\n",
        "__Machine Translation__. Unlike the case of speech recognition, where corresponding inputs and outputs occur in the same order (after alignment), in machine translation, order inversion can be vital. In other words, while we are still converting one sequence into another, neither the number of inputs and outputs nor the order of corresponding data examples are assumed to be the same. Consider the following illustrative example of the peculiar tendency of Germans to place the verbs at the end of sentences.\n",
        "\n",
        "```\n",
        "German:           Haben Sie sich schon dieses grossartige Lehrwerk angeschaut?\n",
        "English:          Did you already check out this excellent tutorial?\n",
        "Wrong alignment:  Did you yourself already this excellent tutorial looked-at?\n",
        "```\n",
        "\n"
      ]
    },
    {
      "cell_type": "markdown",
      "metadata": {
        "id": "sEieofVh0SKV"
      },
      "source": [
        "## Unsupervised Learning\n",
        "\n",
        "In a completely opposite way, it could be frustrating to work for a boss who has no idea what they want you to do. However, if you plan to be a data scientist, you had better get used to it. The boss might just hand you a giant dump of data and tell you to do some data science with it! This sounds vague because it is. We call this class of problems unsupervised learning, and the type and number of questions we could ask is limited only by our creativity. We will address unsupervised learning techniques in later chapters. To whet your appetite for now, we describe a few of the following questions you might ask.\n",
        "\n",
        "- Can we find a small number of prototypes that accurately summarize the data? Given a set of photos, can we group them into landscape photos, pictures of dogs, babies, cats, and mountain peaks? Likewise, given a collection of users’ browsing activities, can we group them into users with similar behavior? This problem is typically known as clustering.\n",
        "\n",
        "- Can we find a small number of parameters that accurately capture the relevant properties of the data? The trajectories of a ball are quite well described by velocity, diameter, and mass of the ball. Tailors have developed a small number of parameters that describe human body shape fairly accurately for the purpose of fitting clothes. These problems are referred to as subspace estimation. If the dependence is linear, it is called principal component analysis.\n",
        "\n",
        "- Is there a representation of (arbitrarily structured) objects in Euclidean space such that symbolic properties can be well matched? This can be used to describe entities and their relations, such as “Rome”  −  “Italy”  +  “France”  =  “Paris”.\n",
        "\n",
        "- Is there a description of the root causes of much of the data that we observe? For instance, if we have demographic data about house prices, pollution, crime, location, education, and salaries, can we discover how they are related simply based on empirical data? The fields concerned with causality and probabilistic graphical models address this problem.\n",
        "\n",
        "- Another important and exciting recent development in unsupervised learning is the advent of generative adversarial networks. These give us a procedural way to synthesize data, even complicated structured data like images and audio. The underlying statistical mechanisms are tests to check whether real and fake data are the same."
      ]
    },
    {
      "cell_type": "markdown",
      "metadata": {
        "id": "dw1GazwOMNQg"
      },
      "source": [
        "## Basic Data Manipulation\n",
        "\n",
        "To start, we can use arange to create a row vector x containing the first 12 integers starting with 0, though they are created as floats by default. Each of the values in a tensor is called an element of the tensor. For instance, there are 12 elements in the tensor x. Unless otherwise specified, a new tensor will be stored in main memory and designated for CPU-based computation.\n",
        "\n"
      ]
    },
    {
      "cell_type": "code",
      "metadata": {
        "id": "VMhTF98VQ5Ev",
        "colab": {
          "base_uri": "https://localhost:8080/"
        },
        "outputId": "99bbad7b-6b56-4470-a982-1a1dd4beadf6"
      },
      "source": [
        "import torch\n",
        "import tensorflow as tf\n",
        "\n",
        "print (tf.__version__)\n",
        "print (torch.__version__)"
      ],
      "execution_count": 126,
      "outputs": [
        {
          "output_type": "stream",
          "text": [
            "2.4.1\n",
            "1.8.0+cu101\n"
          ],
          "name": "stdout"
        }
      ]
    },
    {
      "cell_type": "code",
      "metadata": {
        "colab": {
          "base_uri": "https://localhost:8080/"
        },
        "id": "bBzRRI4QMh0P",
        "outputId": "e4391603-cce5-4114-e169-b68ca4008723"
      },
      "source": [
        "x = torch.arange(start=0, end=12, step=1)\n",
        "\n",
        "print (x)\n",
        "\n",
        "print (x.shape)\n",
        "\n",
        "print (x.numel())"
      ],
      "execution_count": 127,
      "outputs": [
        {
          "output_type": "stream",
          "text": [
            "tensor([ 0,  1,  2,  3,  4,  5,  6,  7,  8,  9, 10, 11])\n",
            "torch.Size([12])\n",
            "12\n"
          ],
          "name": "stdout"
        }
      ]
    },
    {
      "cell_type": "code",
      "metadata": {
        "colab": {
          "base_uri": "https://localhost:8080/"
        },
        "id": "wB60MjLVMm7r",
        "outputId": "97e1fa39-b14a-4a55-a003-d1c99360f93b"
      },
      "source": [
        "X = x.reshape(3, 4)\n",
        "print (X)\n",
        "\n",
        "## automatically infer the first dimension\n",
        "X = x.reshape(-1, 4)\n",
        "print (X) "
      ],
      "execution_count": 128,
      "outputs": [
        {
          "output_type": "stream",
          "text": [
            "tensor([[ 0,  1,  2,  3],\n",
            "        [ 4,  5,  6,  7],\n",
            "        [ 8,  9, 10, 11]])\n",
            "tensor([[ 0,  1,  2,  3],\n",
            "        [ 4,  5,  6,  7],\n",
            "        [ 8,  9, 10, 11]])\n"
          ],
          "name": "stdout"
        }
      ]
    },
    {
      "cell_type": "markdown",
      "metadata": {
        "id": "aJoUaOTzN6VC"
      },
      "source": [
        "Typically, we will want our matrices initialized either with zeros, ones, some other constants, or numbers randomly sampled from a specific distribution. We can create a tensor representing a tensor with all elements set to 0 and a shape of (2, 3, 4) as follows:\n",
        "\n"
      ]
    },
    {
      "cell_type": "code",
      "metadata": {
        "colab": {
          "base_uri": "https://localhost:8080/"
        },
        "id": "yBz0Q1kCM1tA",
        "outputId": "961f126d-1036-46d0-b07b-e9bd14c5e7cf"
      },
      "source": [
        "print (torch.zeros((2,3,4)))\n",
        "\n",
        "## Similarly, we can create tensors with each element set to 1 as follows:\n",
        "\n",
        "print (torch.ones((2,3,4)))"
      ],
      "execution_count": 129,
      "outputs": [
        {
          "output_type": "stream",
          "text": [
            "tensor([[[0., 0., 0., 0.],\n",
            "         [0., 0., 0., 0.],\n",
            "         [0., 0., 0., 0.]],\n",
            "\n",
            "        [[0., 0., 0., 0.],\n",
            "         [0., 0., 0., 0.],\n",
            "         [0., 0., 0., 0.]]])\n",
            "tensor([[[1., 1., 1., 1.],\n",
            "         [1., 1., 1., 1.],\n",
            "         [1., 1., 1., 1.]],\n",
            "\n",
            "        [[1., 1., 1., 1.],\n",
            "         [1., 1., 1., 1.],\n",
            "         [1., 1., 1., 1.]]])\n"
          ],
          "name": "stdout"
        }
      ]
    },
    {
      "cell_type": "code",
      "metadata": {
        "colab": {
          "base_uri": "https://localhost:8080/"
        },
        "id": "wCRy-5_BN_2w",
        "outputId": "399e105a-fa3d-402a-d1c9-b468a31dd561"
      },
      "source": [
        "print (torch.randn((2,3,4)))"
      ],
      "execution_count": 130,
      "outputs": [
        {
          "output_type": "stream",
          "text": [
            "tensor([[[-0.4086,  1.0455, -0.3413, -1.2693],\n",
            "         [ 1.7627, -0.1072, -0.1333, -0.0339],\n",
            "         [ 1.0724, -0.8166, -0.0079,  1.3829]],\n",
            "\n",
            "        [[ 0.8176, -0.7435, -0.0835,  0.5165],\n",
            "         [-1.6966,  0.0709, -1.9169,  0.6659],\n",
            "         [ 0.7021, -0.2100,  0.3272, -0.2835]]])\n"
          ],
          "name": "stdout"
        }
      ]
    },
    {
      "cell_type": "markdown",
      "metadata": {
        "id": "Z7r_ePh7PBXF"
      },
      "source": [
        "We can also specify the exact values for each element in the desired tensor by supplying a Python list (or list of lists) containing the numerical values. Here, the outermost list corresponds to axis 0, and the inner list to axis 1.\n",
        "\n"
      ]
    },
    {
      "cell_type": "code",
      "metadata": {
        "colab": {
          "base_uri": "https://localhost:8080/"
        },
        "id": "eNHfwNTrOuZN",
        "outputId": "1177965b-cfb3-49d3-d967-d0f7db0ffe9b"
      },
      "source": [
        "torch.tensor([[2, 1, 4, 3], [1, 2, 3, 4], [4, 3, 2, 1]])"
      ],
      "execution_count": 131,
      "outputs": [
        {
          "output_type": "execute_result",
          "data": {
            "text/plain": [
              "tensor([[2, 1, 4, 3],\n",
              "        [1, 2, 3, 4],\n",
              "        [4, 3, 2, 1]])"
            ]
          },
          "metadata": {
            "tags": []
          },
          "execution_count": 131
        }
      ]
    },
    {
      "cell_type": "code",
      "metadata": {
        "colab": {
          "base_uri": "https://localhost:8080/"
        },
        "id": "yqgH550PPD2Z",
        "outputId": "da7166a4-5e86-488e-8d2b-0d8377c76674"
      },
      "source": [
        "x = torch.tensor([1.0, 2, 4, 8])\n",
        "y = torch.tensor([2, 2, 2, 2])\n",
        "x + y, x - y, x * y, x / y, x ** y  # The ** operator is exponentiation"
      ],
      "execution_count": 132,
      "outputs": [
        {
          "output_type": "execute_result",
          "data": {
            "text/plain": [
              "(tensor([ 3.,  4.,  6., 10.]),\n",
              " tensor([-1.,  0.,  2.,  6.]),\n",
              " tensor([ 2.,  4.,  8., 16.]),\n",
              " tensor([0.5000, 1.0000, 2.0000, 4.0000]),\n",
              " tensor([ 1.,  4., 16., 64.]))"
            ]
          },
          "metadata": {
            "tags": []
          },
          "execution_count": 132
        }
      ]
    },
    {
      "cell_type": "code",
      "metadata": {
        "colab": {
          "base_uri": "https://localhost:8080/"
        },
        "id": "wgfod02MTRCA",
        "outputId": "16b10ade-6d86-4e0f-f324-135395b18c22"
      },
      "source": [
        "X = torch.arange(12, dtype=torch.float32).reshape((3,4))\n",
        "Y = torch.tensor([[2.0, 1, 4, 3], [1, 2, 3, 4], [4, 3, 2, 1]])\n",
        "\n",
        "print (X)\n",
        "\n",
        "print (Y)"
      ],
      "execution_count": 133,
      "outputs": [
        {
          "output_type": "stream",
          "text": [
            "tensor([[ 0.,  1.,  2.,  3.],\n",
            "        [ 4.,  5.,  6.,  7.],\n",
            "        [ 8.,  9., 10., 11.]])\n",
            "tensor([[2., 1., 4., 3.],\n",
            "        [1., 2., 3., 4.],\n",
            "        [4., 3., 2., 1.]])\n"
          ],
          "name": "stdout"
        }
      ]
    },
    {
      "cell_type": "code",
      "metadata": {
        "colab": {
          "base_uri": "https://localhost:8080/"
        },
        "id": "nFvOeDmlTtAM",
        "outputId": "c1eaba8b-882c-49f6-e472-fdab613c7f6a"
      },
      "source": [
        "torch.cat(tensors=[X, Y], dim=0)"
      ],
      "execution_count": 134,
      "outputs": [
        {
          "output_type": "execute_result",
          "data": {
            "text/plain": [
              "tensor([[ 0.,  1.,  2.,  3.],\n",
              "        [ 4.,  5.,  6.,  7.],\n",
              "        [ 8.,  9., 10., 11.],\n",
              "        [ 2.,  1.,  4.,  3.],\n",
              "        [ 1.,  2.,  3.,  4.],\n",
              "        [ 4.,  3.,  2.,  1.]])"
            ]
          },
          "metadata": {
            "tags": []
          },
          "execution_count": 134
        }
      ]
    },
    {
      "cell_type": "code",
      "metadata": {
        "colab": {
          "base_uri": "https://localhost:8080/"
        },
        "id": "G7svhcO4T1MX",
        "outputId": "cc41bb7c-4c36-4735-95c5-87af13fb79e7"
      },
      "source": [
        "torch.cat((X, Y), dim=1)"
      ],
      "execution_count": 135,
      "outputs": [
        {
          "output_type": "execute_result",
          "data": {
            "text/plain": [
              "tensor([[ 0.,  1.,  2.,  3.,  2.,  1.,  4.,  3.],\n",
              "        [ 4.,  5.,  6.,  7.,  1.,  2.,  3.,  4.],\n",
              "        [ 8.,  9., 10., 11.,  4.,  3.,  2.,  1.]])"
            ]
          },
          "metadata": {
            "tags": []
          },
          "execution_count": 135
        }
      ]
    },
    {
      "cell_type": "markdown",
      "metadata": {
        "id": "Y9SZccD-eR3u"
      },
      "source": [
        "### Broadcasting Mechanism\n",
        "\n",
        "In the above section, we saw how to perform elementwise operations on two tensors of the same shape. Under certain conditions, even when shapes differ, we can still perform elementwise operations by invoking the broadcasting mechanism. This mechanism works in the following way: First, expand one or both arrays by copying elements appropriately so that after this transformation, the two tensors have the same shape. Second, carry out the elementwise operations on the resulting arrays.\n",
        "\n",
        "In most cases, we broadcast along an axis where an array initially only has length 1, such as in the following example:\n",
        "\n"
      ]
    },
    {
      "cell_type": "code",
      "metadata": {
        "colab": {
          "base_uri": "https://localhost:8080/"
        },
        "id": "kJQSaGPtUH_y",
        "outputId": "c897d596-0197-4f61-e267-5ec93914fdd4"
      },
      "source": [
        "a = torch.arange(3).reshape((3,1))\n",
        "print (a)\n",
        "b = torch.arange(2).reshape((1, 2))\n",
        "print (b)"
      ],
      "execution_count": 136,
      "outputs": [
        {
          "output_type": "stream",
          "text": [
            "tensor([[0],\n",
            "        [1],\n",
            "        [2]])\n",
            "tensor([[0, 1]])\n"
          ],
          "name": "stdout"
        }
      ]
    },
    {
      "cell_type": "code",
      "metadata": {
        "colab": {
          "base_uri": "https://localhost:8080/",
          "height": 35
        },
        "id": "V-UY17zVelhu",
        "outputId": "c25c3747-d22a-43b1-ff00-4cce230a2117"
      },
      "source": [
        "a+b\n",
        "\n",
        "\"\"\"\n",
        "The broadcasting happens as:\n",
        "a -> [[0, 0]\n",
        "     [1, 1]\n",
        "     [2, 2]]\n",
        "b -> [[0, 1]\n",
        "     [0, 1]\n",
        "     [0, 1]]   \n",
        "\"\"\""
      ],
      "execution_count": 137,
      "outputs": [
        {
          "output_type": "execute_result",
          "data": {
            "application/vnd.google.colaboratory.intrinsic+json": {
              "type": "string"
            },
            "text/plain": [
              "'\\nThe broadcasting happens as:\\na -> [[0, 0]\\n     [1, 1]\\n     [2, 2]]\\nb -> [[0, 1]\\n     [0, 1]\\n     [0, 1]]   \\n'"
            ]
          },
          "metadata": {
            "tags": []
          },
          "execution_count": 137
        }
      ]
    },
    {
      "cell_type": "markdown",
      "metadata": {
        "id": "Cc7_7I9Rfc8A"
      },
      "source": [
        "### Indexing and slicing\n",
        "\n",
        "Thus, [-1] selects the last element and [1:3] selects the second and the third elements as follows:\n",
        "\n"
      ]
    },
    {
      "cell_type": "code",
      "metadata": {
        "colab": {
          "base_uri": "https://localhost:8080/"
        },
        "id": "qMfORByvew0m",
        "outputId": "19222d7b-51d3-4a6f-8824-ca81371f159b"
      },
      "source": [
        "print (X)\n",
        "\n",
        "print (X[-1])\n",
        "\n",
        "print (X[1:3])"
      ],
      "execution_count": 138,
      "outputs": [
        {
          "output_type": "stream",
          "text": [
            "tensor([[ 0.,  1.,  2.,  3.],\n",
            "        [ 4.,  5.,  6.,  7.],\n",
            "        [ 8.,  9., 10., 11.]])\n",
            "tensor([ 8.,  9., 10., 11.])\n",
            "tensor([[ 4.,  5.,  6.,  7.],\n",
            "        [ 8.,  9., 10., 11.]])\n"
          ],
          "name": "stdout"
        }
      ]
    },
    {
      "cell_type": "code",
      "metadata": {
        "colab": {
          "base_uri": "https://localhost:8080/"
        },
        "id": "96XTzZFif8Nq",
        "outputId": "32f0607d-95f7-452f-e356-d95d7eb38ded"
      },
      "source": [
        "X[1, 2] = 9\n",
        "print (X)"
      ],
      "execution_count": 139,
      "outputs": [
        {
          "output_type": "stream",
          "text": [
            "tensor([[ 0.,  1.,  2.,  3.],\n",
            "        [ 4.,  5.,  9.,  7.],\n",
            "        [ 8.,  9., 10., 11.]])\n"
          ],
          "name": "stdout"
        }
      ]
    },
    {
      "cell_type": "code",
      "metadata": {
        "colab": {
          "base_uri": "https://localhost:8080/"
        },
        "id": "2M4bvm_0gHc1",
        "outputId": "1ab6bb58-3dbd-4146-85b4-4d4db6f5f1a9"
      },
      "source": [
        "X[0:2, :] = 12\n",
        "\n",
        "print (X)"
      ],
      "execution_count": 140,
      "outputs": [
        {
          "output_type": "stream",
          "text": [
            "tensor([[12., 12., 12., 12.],\n",
            "        [12., 12., 12., 12.],\n",
            "        [ 8.,  9., 10., 11.]])\n"
          ],
          "name": "stdout"
        }
      ]
    },
    {
      "cell_type": "markdown",
      "metadata": {
        "id": "EXF-aQbm8hKz"
      },
      "source": [
        "### Saving memeory\n",
        "\n",
        "Running operations can cause new memory to be allocated to host results. For example, if we write Y = X + Y, we will dereference the tensor that Y used to point to and instead point Y at the newly allocated memory. In the following example, we demonstrate this with Python’s id() function, which gives us the exact address of the referenced object in memory. After running Y = Y + X, we will find that id(Y) points to a different location. That is because Python first evaluates Y + X, allocating new memory for the result and then makes Y point to this new location in memory.\n",
        "\n"
      ]
    },
    {
      "cell_type": "code",
      "metadata": {
        "colab": {
          "base_uri": "https://localhost:8080/"
        },
        "id": "9v0YsUS5gO_1",
        "outputId": "d97cfe37-efc3-4a60-d7cf-bb5e2f94f77b"
      },
      "source": [
        "before = id(Y)\n",
        "print (before)\n",
        "Y=Y+X\n",
        "print (id(Y))"
      ],
      "execution_count": 141,
      "outputs": [
        {
          "output_type": "stream",
          "text": [
            "139871159536528\n",
            "139871159354064\n"
          ],
          "name": "stdout"
        }
      ]
    },
    {
      "cell_type": "markdown",
      "metadata": {
        "id": "4WNjxT5T8_Cs"
      },
      "source": [
        "This might be undesirable for two reasons. First, we do not want to run around allocating memory unnecessarily all the time. In machine learning, we might have hundreds of megabytes of parameters and update all of them multiple times per second. Typically, we will want to perform these updates in place. Second, we might point at the same parameters from multiple variables. If we do not update in place, other references will still point to the old memory location, making it possible for parts of our code to inadvertently reference stale parameters.\n",
        "\n",
        "Fortunately, performing in-place operations is easy. We can assign the result of an operation to a previously allocated array with slice notation, e.g., Y[:] = <expression>. To illustrate this concept, we first create a new matrix Z with the same shape as another Y, using zeros_like to allocate a block of entries"
      ]
    },
    {
      "cell_type": "code",
      "metadata": {
        "colab": {
          "base_uri": "https://localhost:8080/"
        },
        "id": "QFJiDCWO8t6a",
        "outputId": "8dcfc3b3-47ff-4cea-d67d-0a312c744ff8"
      },
      "source": [
        "Z = torch.zeros_like(Y)\n",
        "print (Z)\n",
        "print('id(Z):', id(Z))\n",
        "Z[:] = X + Y\n",
        "print('id(Z):', id(Z))\n",
        "Z = X+Y\n",
        "print('id(Z):', id(Z))"
      ],
      "execution_count": 142,
      "outputs": [
        {
          "output_type": "stream",
          "text": [
            "tensor([[0., 0., 0., 0.],\n",
            "        [0., 0., 0., 0.],\n",
            "        [0., 0., 0., 0.]])\n",
            "id(Z): 139871160388896\n",
            "id(Z): 139871160388896\n",
            "id(Z): 139871283454752\n"
          ],
          "name": "stdout"
        }
      ]
    },
    {
      "cell_type": "markdown",
      "metadata": {
        "id": "k2vm-2tI_jpC"
      },
      "source": [
        "If the value of X is not reused in subsequent computations, we can also use X[:] = X + Y or X += Y to reduce the memory overhead of the operation.\n",
        "\n"
      ]
    },
    {
      "cell_type": "code",
      "metadata": {
        "colab": {
          "base_uri": "https://localhost:8080/"
        },
        "id": "jGjqrm7F_R2s",
        "outputId": "babcaf8a-a3f2-49d9-9f7b-09f105b4f114"
      },
      "source": [
        "before = id(X)\n",
        "X = X + Y\n",
        "id(X) == before"
      ],
      "execution_count": 143,
      "outputs": [
        {
          "output_type": "execute_result",
          "data": {
            "text/plain": [
              "False"
            ]
          },
          "metadata": {
            "tags": []
          },
          "execution_count": 143
        }
      ]
    },
    {
      "cell_type": "code",
      "metadata": {
        "colab": {
          "base_uri": "https://localhost:8080/"
        },
        "id": "BjFb86mE_lJM",
        "outputId": "324a41f3-ec37-4b57-cdcb-e9e815409952"
      },
      "source": [
        "before = id(X)\n",
        "X +=  Y\n",
        "id(X) == before"
      ],
      "execution_count": 144,
      "outputs": [
        {
          "output_type": "execute_result",
          "data": {
            "text/plain": [
              "True"
            ]
          },
          "metadata": {
            "tags": []
          },
          "execution_count": 144
        }
      ]
    },
    {
      "cell_type": "markdown",
      "metadata": {
        "id": "vTKxYwGkRg1G"
      },
      "source": [
        "## Basic Linear Algebra\n",
        "\n",
        "### Dot Product\n",
        "\n",
        "one of the most fundamental operations is the dot product. Given two vectors  x,y their dot product\n",
        "\n",
        "$\\mathbf{x}^\\top \\mathbf{y}$ or $\\langle \\mathbf{x}, \\mathbf{y} \\rangle$\n",
        "is a sum over the products of the elements at the same position"
      ]
    },
    {
      "cell_type": "code",
      "metadata": {
        "id": "3pw3MafZ_sMO",
        "colab": {
          "base_uri": "https://localhost:8080/"
        },
        "outputId": "f330667c-ebba-4eff-9f95-124eeea28251"
      },
      "source": [
        "print (x)\n",
        "y = torch.ones(4, dtype=torch.float32)\n",
        "\n",
        "print (x.dot(y))\n",
        "\n",
        "### Note that we can express the dot product of two vectors equivalently by performing an elementwise multiplication and then a sum:\n",
        "\n",
        "print (torch.sum(x*y))"
      ],
      "execution_count": 145,
      "outputs": [
        {
          "output_type": "stream",
          "text": [
            "tensor([1., 2., 4., 8.])\n",
            "tensor(15.)\n",
            "tensor(15.)\n"
          ],
          "name": "stdout"
        }
      ]
    },
    {
      "cell_type": "markdown",
      "metadata": {
        "id": "CxcS0rFrSZlU"
      },
      "source": [
        "Dot products are useful in a wide range of contexts. For example, given some set of values, and a set of wts the dot product bw these vectors give us a weighted sum. When the wts are non-negative and sum upto 1 the dot prod gives us the weighted avg\n",
        "\n",
        "After normalizing two vectors to have the unit length, the dot products express the cosine of the angle between them. We will formally introduce this notion of length later in this section.\n",
        "\n",
        "### Matrix-Vector Products\n",
        "\n",
        "Now that we know how to calculate dot products, we can begin to understand matrix-vector products. Recall the matrix  $\\mathbf{A} \\in \\mathbb{R}^{m \\times n}$ and the vector $\\mathbf{x} \\in \\mathbb{R}^n$ \n",
        "\n",
        "$\\begin{split}\\mathbf{A}=\n",
        "\\begin{bmatrix}\n",
        "\\mathbf{a}^\\top_{1} \\\\\n",
        "\\mathbf{a}^\\top_{2} \\\\\n",
        "\\vdots \\\\\n",
        "\\mathbf{a}^\\top_m \\\\\n",
        "\\end{bmatrix},\\end{split}$\n",
        "\n",
        "where each $\\mathbf{a}^\\top_{i} \\in \\mathbb{R}^n$ is a row vector representing the ith row of the matrix A. The matrix-vector product Ax is simply a column vector of length  m , whose  ith  element is the dot product  $\\mathbf{a}^\\top_i \\mathbf{x}$\n",
        "\n",
        "$\\begin{split}\\mathbf{A}\\mathbf{x}\n",
        "= \\begin{bmatrix}\n",
        "\\mathbf{a}^\\top_{1} \\\\\n",
        "\\mathbf{a}^\\top_{2} \\\\\n",
        "\\vdots \\\\\n",
        "\\mathbf{a}^\\top_m \\\\\n",
        "\\end{bmatrix}\\mathbf{x}\n",
        "= \\begin{bmatrix}\n",
        " \\mathbf{a}^\\top_{1} \\mathbf{x}  \\\\\n",
        " \\mathbf{a}^\\top_{2} \\mathbf{x} \\\\\n",
        "\\vdots\\\\\n",
        " \\mathbf{a}^\\top_{m} \\mathbf{x}\\\\\n",
        "\\end{bmatrix}.\\end{split}$\n",
        "\n",
        "We can think of multiplication by a matrix  A as a transformation that projects vectors (here x) from  $\\mathbb{R}^n$ to $\\mathbb{R}^m$. These transformations turn out to be remarkably useful. For example, we can represent rotations as multiplications by a square matrix. As we will see in subsequent chapters, we can also use matrix-vector products to describe the most intensive calculations required when computing each layer in a neural network given the values of the previous layer.\n",
        "\n",
        "Expressing matrix-vector products in code with tensors, we use the same dot function as for dot products. When we call np.dot(A, x) with a matrix A and a vector x, the matrix-vector product is performed. Note that the column dimension of A (its length along axis 1) must be the same as the dimension of x (its length).\n",
        "\n"
      ]
    },
    {
      "cell_type": "code",
      "metadata": {
        "colab": {
          "base_uri": "https://localhost:8080/"
        },
        "id": "SFxOAxynR6YK",
        "outputId": "9401c354-aaa1-4127-9521-e0b55d62fcf0"
      },
      "source": [
        "A = torch.arange(20, dtype=torch.float32).reshape(5, 4)\n",
        "\n",
        "\n",
        "print (A.shape, x.shape)\n",
        "\n",
        "print (A)\n",
        "\n",
        "print (x)\n",
        "\n",
        "print (torch.mv(input=A, vec=x))"
      ],
      "execution_count": 146,
      "outputs": [
        {
          "output_type": "stream",
          "text": [
            "torch.Size([5, 4]) torch.Size([4])\n",
            "tensor([[ 0.,  1.,  2.,  3.],\n",
            "        [ 4.,  5.,  6.,  7.],\n",
            "        [ 8.,  9., 10., 11.],\n",
            "        [12., 13., 14., 15.],\n",
            "        [16., 17., 18., 19.]])\n",
            "tensor([1., 2., 4., 8.])\n",
            "tensor([ 34.,  94., 154., 214., 274.])\n"
          ],
          "name": "stdout"
        }
      ]
    },
    {
      "cell_type": "markdown",
      "metadata": {
        "id": "QJvNloGpZee8"
      },
      "source": [
        "### Matrix Multiplication\n",
        "\n",
        "![](https://i.imgur.com/8lGoukC.png)\n",
        "\n",
        "#### Walkthrough\n",
        "\n",
        "![](https://i.imgur.com/YPiBqU8.jpeg)\n",
        "\n",
        "![](https://i.imgur.com/YPiBqU8.jpeg)\n",
        "\n",
        "\n",
        "---\n",
        "\n",
        "\n",
        "\n",
        "\n"
      ]
    },
    {
      "cell_type": "code",
      "metadata": {
        "colab": {
          "base_uri": "https://localhost:8080/"
        },
        "id": "JnAkZ0RbY8lp",
        "outputId": "c85b4c66-f20a-4590-c73b-b15ae5c529ea"
      },
      "source": [
        "print (A)\n",
        "\n",
        "B = torch.ones((4,3))\n",
        "\n",
        "print (A.shape, B.shape)\n",
        "mul = torch.mm(A, B)\n",
        "print (mul)\n",
        "print (mul.shape)"
      ],
      "execution_count": 147,
      "outputs": [
        {
          "output_type": "stream",
          "text": [
            "tensor([[ 0.,  1.,  2.,  3.],\n",
            "        [ 4.,  5.,  6.,  7.],\n",
            "        [ 8.,  9., 10., 11.],\n",
            "        [12., 13., 14., 15.],\n",
            "        [16., 17., 18., 19.]])\n",
            "torch.Size([5, 4]) torch.Size([4, 3])\n",
            "tensor([[ 6.,  6.,  6.],\n",
            "        [22., 22., 22.],\n",
            "        [38., 38., 38.],\n",
            "        [54., 54., 54.],\n",
            "        [70., 70., 70.]])\n",
            "torch.Size([5, 3])\n"
          ],
          "name": "stdout"
        }
      ]
    },
    {
      "cell_type": "code",
      "metadata": {
        "colab": {
          "base_uri": "https://localhost:8080/"
        },
        "id": "DdaGhEkcvSA8",
        "outputId": "3e7e73f9-6ed4-431c-8b9d-7b0918ca9bba"
      },
      "source": [
        "### a is each row vector; extract the one at idx 1\n",
        "a_2 = A[1, :]\n",
        "\n",
        "print (a_2)"
      ],
      "execution_count": 148,
      "outputs": [
        {
          "output_type": "stream",
          "text": [
            "tensor([4., 5., 6., 7.])\n"
          ],
          "name": "stdout"
        }
      ]
    },
    {
      "cell_type": "code",
      "metadata": {
        "colab": {
          "base_uri": "https://localhost:8080/"
        },
        "id": "SQWBLkUFv0hE",
        "outputId": "3fc16c1a-415a-4f1d-ed2d-e7c4107d10c8"
      },
      "source": [
        "### b is each col vector; extract the last one: b_m\n",
        "b_m = B[:, -1]\n",
        "\n",
        "print (b_m)"
      ],
      "execution_count": 149,
      "outputs": [
        {
          "output_type": "stream",
          "text": [
            "tensor([1., 1., 1., 1.])\n"
          ],
          "name": "stdout"
        }
      ]
    },
    {
      "cell_type": "code",
      "metadata": {
        "colab": {
          "base_uri": "https://localhost:8080/"
        },
        "id": "Gx3Zrc2vwKiI",
        "outputId": "57380d4d-bdd1-4736-b445-1e81b31cfdc3"
      },
      "source": [
        "### a2_T . b_m should give the result at pos 2, m\n",
        "\n",
        "print (a_2.T.dot(b_m))"
      ],
      "execution_count": 150,
      "outputs": [
        {
          "output_type": "stream",
          "text": [
            "tensor(22.)\n"
          ],
          "name": "stdout"
        }
      ]
    },
    {
      "cell_type": "code",
      "metadata": {
        "colab": {
          "base_uri": "https://localhost:8080/"
        },
        "id": "lc99Do5HwQJc",
        "outputId": "002ef85a-5765-4261-c437-6762ea81afb9"
      },
      "source": [
        "print (mul)"
      ],
      "execution_count": 151,
      "outputs": [
        {
          "output_type": "stream",
          "text": [
            "tensor([[ 6.,  6.,  6.],\n",
            "        [22., 22., 22.],\n",
            "        [38., 38., 38.],\n",
            "        [54., 54., 54.],\n",
            "        [70., 70., 70.]])\n"
          ],
          "name": "stdout"
        }
      ]
    },
    {
      "cell_type": "markdown",
      "metadata": {
        "id": "Ny6VcmB44k7O"
      },
      "source": [
        "### Norms\n",
        "\n",
        "Some of the most useful operators in linear algebra are norms. Informally, the norm of a vector tells us how big a vector is. The notion of size under consideration here concerns not dimensionality but rather the magnitude of the components.\n",
        "\n",
        "You might notice that norms sound a lot like measures of distance. And if you remember Euclidean distances (think Pythagoras’ theorem) from grade school, then the concepts of non-negativity and the triangle inequality might ring a bell. In fact, the Euclidean distance is a norm:\n",
        "\n",
        "specifically it is the  L2  norm. Suppose that the elements in the  n -dimensional vector  x  are  x1,…,xn . The  L2  norm of  x  is the square root of the sum of the squares of the vector elements:\n",
        "\n",
        "$\\|\\mathbf{x}\\|_2 = \\sqrt{\\sum_{i=1}^n x_i^2},$\n",
        "\n",
        "where the subscript  2  is often omitted in  L2  norms, i.e., $\\|\\mathbf{x}\\|$ is  equivalent to $\\|\\mathbf{x}\\|_2$ "
      ]
    },
    {
      "cell_type": "code",
      "metadata": {
        "colab": {
          "base_uri": "https://localhost:8080/"
        },
        "id": "K2Jk0JO0wsI4",
        "outputId": "04175366-47e3-4f7f-ac13-8944c23a39e1"
      },
      "source": [
        "u = torch.tensor([3.0, -4.0])\n",
        "torch.norm(u)"
      ],
      "execution_count": 152,
      "outputs": [
        {
          "output_type": "execute_result",
          "data": {
            "text/plain": [
              "tensor(5.)"
            ]
          },
          "metadata": {
            "tags": []
          },
          "execution_count": 152
        }
      ]
    },
    {
      "cell_type": "markdown",
      "metadata": {
        "id": "NHhmigt05O4w"
      },
      "source": [
        "In deep learning, we work more often with the squared  L2  norm. You will also frequently encounter the  L1  norm, which is expressed as the sum of the absolute values of the vector elements:\n",
        "\n",
        "$\\|\\mathbf{x}\\|_1 = \\sum_{i=1}^n \\left|x_i \\right|.$\n",
        "\n",
        "As compared with the  L2  norm, it is less influenced by outliers. To calculate the  L1  norm, we compose the absolute value function with a sum over the elements."
      ]
    },
    {
      "cell_type": "code",
      "metadata": {
        "colab": {
          "base_uri": "https://localhost:8080/"
        },
        "id": "5qr-pYGb5HNK",
        "outputId": "b5fcfaa1-2ce7-447f-bf12-02f58dc9ddfe"
      },
      "source": [
        "torch.abs(u).sum()"
      ],
      "execution_count": 153,
      "outputs": [
        {
          "output_type": "execute_result",
          "data": {
            "text/plain": [
              "tensor(7.)"
            ]
          },
          "metadata": {
            "tags": []
          },
          "execution_count": 153
        }
      ]
    },
    {
      "cell_type": "markdown",
      "metadata": {
        "id": "oABEOPdz8WBH"
      },
      "source": [
        "Both the  L2  norm and the  L1  norm are special cases of the more general  Lp  norm:\n",
        "\n",
        "$\\|\\mathbf{x}\\|_p = \\left(\\sum_{i=1}^n \\left|x_i \\right|^p \\right)^{1/p}.|$\n",
        "\n",
        "Analogous to  L2  norms of vectors, the Frobenius norm of a matrix $\\mathbf{X} \\in \\mathbb{R}^{m \\times n}$ is the square root of the sum of the squares of the matrix elements:\n",
        "\n",
        "$\\|\\mathbf{X}\\|_F = \\sqrt{\\sum_{i=1}^m \\sum_{j=1}^n x_{ij}^2}.$\n",
        "\n",
        "The Frobenius norm satisfies all the properties of vector norms. It behaves as if it were an  L2  norm of a matrix-shaped vector. Invoking the following function will calculate the Frobenius norm of a matrix."
      ]
    },
    {
      "cell_type": "code",
      "metadata": {
        "colab": {
          "base_uri": "https://localhost:8080/"
        },
        "id": "LSRHFAEv5XME",
        "outputId": "6b605953-fd9e-4c8a-f262-24632c4d712f"
      },
      "source": [
        "print (A)\n",
        "torch.norm(A)"
      ],
      "execution_count": 154,
      "outputs": [
        {
          "output_type": "stream",
          "text": [
            "tensor([[ 0.,  1.,  2.,  3.],\n",
            "        [ 4.,  5.,  6.,  7.],\n",
            "        [ 8.,  9., 10., 11.],\n",
            "        [12., 13., 14., 15.],\n",
            "        [16., 17., 18., 19.]])\n"
          ],
          "name": "stdout"
        },
        {
          "output_type": "execute_result",
          "data": {
            "text/plain": [
              "tensor(49.6991)"
            ]
          },
          "metadata": {
            "tags": []
          },
          "execution_count": 154
        }
      ]
    },
    {
      "cell_type": "markdown",
      "metadata": {
        "id": "1huW-719815F"
      },
      "source": [
        "While we do not want to get too far ahead of ourselves, we can plant some intuition already about why these concepts are useful. In deep learning, we are often trying to solve optimization problems: maximize the probability assigned to observed data; minimize the distance between predictions and the ground-truth observations. Assign vector representations to items (like words, products, or news articles) such that the distance between similar items is minimized, and the distance between dissimilar items is maximized. Oftentimes, the objectives, perhaps the most important components of deep learning algorithms (besides the data), are expressed as norms.\n",
        "\n",
        "### Exercises\n",
        "\n",
        "6. Run A / A.sum(axis=1) and see what happens. Can you analyze the reason?\n",
        "\n"
      ]
    },
    {
      "cell_type": "code",
      "metadata": {
        "colab": {
          "base_uri": "https://localhost:8080/"
        },
        "id": "VBt3e6mv8sgR",
        "outputId": "c0d4b2ec-6e4b-4a9b-c404-aaf0f50b19f0"
      },
      "source": [
        "print (A)\n",
        "\n",
        "print (A.shape)\n",
        "\n",
        "print (A.sum(axis=1))"
      ],
      "execution_count": 155,
      "outputs": [
        {
          "output_type": "stream",
          "text": [
            "tensor([[ 0.,  1.,  2.,  3.],\n",
            "        [ 4.,  5.,  6.,  7.],\n",
            "        [ 8.,  9., 10., 11.],\n",
            "        [12., 13., 14., 15.],\n",
            "        [16., 17., 18., 19.]])\n",
            "torch.Size([5, 4])\n",
            "tensor([ 6., 22., 38., 54., 70.])\n"
          ],
          "name": "stdout"
        }
      ]
    },
    {
      "cell_type": "code",
      "metadata": {
        "colab": {
          "base_uri": "https://localhost:8080/"
        },
        "id": "Ba2jBr9m-ucA",
        "outputId": "85004728-dcd6-43f0-c26d-d170cb7b6934"
      },
      "source": [
        "A.size(), A.sum(axis=1).size()"
      ],
      "execution_count": 156,
      "outputs": [
        {
          "output_type": "execute_result",
          "data": {
            "text/plain": [
              "(torch.Size([5, 4]), torch.Size([5]))"
            ]
          },
          "metadata": {
            "tags": []
          },
          "execution_count": 156
        }
      ]
    },
    {
      "cell_type": "code",
      "metadata": {
        "id": "Xdu9s725-Of7"
      },
      "source": [
        "## A/A.sum(axis=1) -> error"
      ],
      "execution_count": 157,
      "outputs": []
    },
    {
      "cell_type": "markdown",
      "metadata": {
        "id": "7dBuofki_Y94"
      },
      "source": [
        "This will be fine:"
      ]
    },
    {
      "cell_type": "code",
      "metadata": {
        "colab": {
          "base_uri": "https://localhost:8080/"
        },
        "id": "SnHz5L5a-j0U",
        "outputId": "0ccc2c80-67b1-4a9b-979c-1aefabbdb2f8"
      },
      "source": [
        "B = torch.arange(25, dtype = torch.float32).reshape(5, 5)\n",
        "print (B)\n",
        "print (B.sum(axis=1))\n",
        "B / B.sum(axis=1)"
      ],
      "execution_count": 158,
      "outputs": [
        {
          "output_type": "stream",
          "text": [
            "tensor([[ 0.,  1.,  2.,  3.,  4.],\n",
            "        [ 5.,  6.,  7.,  8.,  9.],\n",
            "        [10., 11., 12., 13., 14.],\n",
            "        [15., 16., 17., 18., 19.],\n",
            "        [20., 21., 22., 23., 24.]])\n",
            "tensor([ 10.,  35.,  60.,  85., 110.])\n"
          ],
          "name": "stdout"
        },
        {
          "output_type": "execute_result",
          "data": {
            "text/plain": [
              "tensor([[0.0000, 0.0286, 0.0333, 0.0353, 0.0364],\n",
              "        [0.5000, 0.1714, 0.1167, 0.0941, 0.0818],\n",
              "        [1.0000, 0.3143, 0.2000, 0.1529, 0.1273],\n",
              "        [1.5000, 0.4571, 0.2833, 0.2118, 0.1727],\n",
              "        [2.0000, 0.6000, 0.3667, 0.2706, 0.2182]])"
            ]
          },
          "metadata": {
            "tags": []
          },
          "execution_count": 158
        }
      ]
    },
    {
      "cell_type": "markdown",
      "metadata": {
        "id": "bxmAFhBP_hNQ"
      },
      "source": [
        "8. Consider a tensor with shape (2, 3, 4). What are the shapes of the summation outputs along axis 0, 1, and 2?\n",
        "\n"
      ]
    },
    {
      "cell_type": "code",
      "metadata": {
        "id": "1v7Zf8xV_Txg",
        "colab": {
          "base_uri": "https://localhost:8080/"
        },
        "outputId": "b9911974-e5b4-46ba-f1ca-5e89e6294786"
      },
      "source": [
        "a = torch.randint(low=0, high=9, size=(2,3,4))\n",
        "a"
      ],
      "execution_count": 159,
      "outputs": [
        {
          "output_type": "execute_result",
          "data": {
            "text/plain": [
              "tensor([[[6, 6, 0, 5],\n",
              "         [8, 8, 2, 1],\n",
              "         [1, 2, 8, 7]],\n",
              "\n",
              "        [[2, 0, 4, 5],\n",
              "         [7, 6, 8, 8],\n",
              "         [0, 7, 8, 1]]])"
            ]
          },
          "metadata": {
            "tags": []
          },
          "execution_count": 159
        }
      ]
    },
    {
      "cell_type": "code",
      "metadata": {
        "colab": {
          "base_uri": "https://localhost:8080/"
        },
        "id": "wKP0oPnkT2_V",
        "outputId": "5984221e-8dc5-4978-9159-abbc85670340"
      },
      "source": [
        "print (a.shape)\n",
        "\n",
        "print (a.sum(axis=0))"
      ],
      "execution_count": 160,
      "outputs": [
        {
          "output_type": "stream",
          "text": [
            "torch.Size([2, 3, 4])\n",
            "tensor([[ 8,  6,  4, 10],\n",
            "        [15, 14, 10,  9],\n",
            "        [ 1,  9, 16,  8]])\n"
          ],
          "name": "stdout"
        }
      ]
    },
    {
      "cell_type": "code",
      "metadata": {
        "colab": {
          "base_uri": "https://localhost:8080/"
        },
        "id": "nZ268RB9T87C",
        "outputId": "266c4c63-d050-4a66-974a-8391f9cdfccf"
      },
      "source": [
        "### shape of a is (2,3,4) i.e 2 separate 3x4 matrics\n",
        "a[0], a[1]"
      ],
      "execution_count": 161,
      "outputs": [
        {
          "output_type": "execute_result",
          "data": {
            "text/plain": [
              "(tensor([[6, 6, 0, 5],\n",
              "         [8, 8, 2, 1],\n",
              "         [1, 2, 8, 7]]), tensor([[2, 0, 4, 5],\n",
              "         [7, 6, 8, 8],\n",
              "         [0, 7, 8, 1]]))"
            ]
          },
          "metadata": {
            "tags": []
          },
          "execution_count": 161
        }
      ]
    },
    {
      "cell_type": "code",
      "metadata": {
        "colab": {
          "base_uri": "https://localhost:8080/"
        },
        "id": "-8G2OYhDUCvZ",
        "outputId": "fafd2ddc-d66e-4fa7-8251-29c4b4bfbdef"
      },
      "source": [
        "## a.sum(axis=0) will sum up the 2 3x4 matrices resulting in a 3x4 matrix\n",
        "a.sum(axis=0).shape"
      ],
      "execution_count": 162,
      "outputs": [
        {
          "output_type": "execute_result",
          "data": {
            "text/plain": [
              "torch.Size([3, 4])"
            ]
          },
          "metadata": {
            "tags": []
          },
          "execution_count": 162
        }
      ]
    },
    {
      "cell_type": "code",
      "metadata": {
        "colab": {
          "base_uri": "https://localhost:8080/"
        },
        "id": "szp5dynXUPEE",
        "outputId": "63de6c45-693a-44a4-8305-53249a18e021"
      },
      "source": [
        "a[0]+a[1]"
      ],
      "execution_count": 163,
      "outputs": [
        {
          "output_type": "execute_result",
          "data": {
            "text/plain": [
              "tensor([[ 8,  6,  4, 10],\n",
              "        [15, 14, 10,  9],\n",
              "        [ 1,  9, 16,  8]])"
            ]
          },
          "metadata": {
            "tags": []
          },
          "execution_count": 163
        }
      ]
    },
    {
      "cell_type": "code",
      "metadata": {
        "colab": {
          "base_uri": "https://localhost:8080/"
        },
        "id": "oxADjUv1UzNT",
        "outputId": "1213eb8e-2fef-4f32-e992-0c82e8c1615d"
      },
      "source": [
        "a.sum(axis=0)"
      ],
      "execution_count": 164,
      "outputs": [
        {
          "output_type": "execute_result",
          "data": {
            "text/plain": [
              "tensor([[ 8,  6,  4, 10],\n",
              "        [15, 14, 10,  9],\n",
              "        [ 1,  9, 16,  8]])"
            ]
          },
          "metadata": {
            "tags": []
          },
          "execution_count": 164
        }
      ]
    },
    {
      "cell_type": "code",
      "metadata": {
        "colab": {
          "base_uri": "https://localhost:8080/"
        },
        "id": "E4YSh7UjZraj",
        "outputId": "85eb1788-3491-430b-cc4e-7256c56b49fb"
      },
      "source": [
        "a.sum(axis=1).shape"
      ],
      "execution_count": 165,
      "outputs": [
        {
          "output_type": "execute_result",
          "data": {
            "text/plain": [
              "torch.Size([2, 4])"
            ]
          },
          "metadata": {
            "tags": []
          },
          "execution_count": 165
        }
      ]
    },
    {
      "cell_type": "code",
      "metadata": {
        "colab": {
          "base_uri": "https://localhost:8080/"
        },
        "id": "-T_SSPJ5aCwA",
        "outputId": "e7f75280-27fd-4af4-a8f3-a68e25c81735"
      },
      "source": [
        "a"
      ],
      "execution_count": 166,
      "outputs": [
        {
          "output_type": "execute_result",
          "data": {
            "text/plain": [
              "tensor([[[6, 6, 0, 5],\n",
              "         [8, 8, 2, 1],\n",
              "         [1, 2, 8, 7]],\n",
              "\n",
              "        [[2, 0, 4, 5],\n",
              "         [7, 6, 8, 8],\n",
              "         [0, 7, 8, 1]]])"
            ]
          },
          "metadata": {
            "tags": []
          },
          "execution_count": 166
        }
      ]
    },
    {
      "cell_type": "code",
      "metadata": {
        "colab": {
          "base_uri": "https://localhost:8080/"
        },
        "id": "r8McnX_nZvvC",
        "outputId": "39addf93-6e04-4c66-b98e-e114a1fc9e6c"
      },
      "source": [
        "### 2x4 shape: 2 rows for 2 matrices; 4 elems each for the sum of each matrix along the columns\n",
        "a.sum(axis=1)"
      ],
      "execution_count": 167,
      "outputs": [
        {
          "output_type": "execute_result",
          "data": {
            "text/plain": [
              "tensor([[15, 16, 10, 13],\n",
              "        [ 9, 13, 20, 14]])"
            ]
          },
          "metadata": {
            "tags": []
          },
          "execution_count": 167
        }
      ]
    },
    {
      "cell_type": "code",
      "metadata": {
        "colab": {
          "base_uri": "https://localhost:8080/"
        },
        "id": "GY41-rTGZ5RY",
        "outputId": "32fd965b-ec80-42be-eb80-6eda9368313b"
      },
      "source": [
        "a.sum(axis=2)"
      ],
      "execution_count": 168,
      "outputs": [
        {
          "output_type": "execute_result",
          "data": {
            "text/plain": [
              "tensor([[17, 19, 18],\n",
              "        [11, 29, 16]])"
            ]
          },
          "metadata": {
            "tags": []
          },
          "execution_count": 168
        }
      ]
    },
    {
      "cell_type": "code",
      "metadata": {
        "colab": {
          "base_uri": "https://localhost:8080/"
        },
        "id": "dBwBD24LaqVr",
        "outputId": "5d570d07-1344-45fb-f89a-be430362868f"
      },
      "source": [
        "### 2x3 shape: 2 rows for 2 matrices; 3 elems each for the sum of each matrix along the rows\n",
        "\n",
        "a.sum(axis=2).shape"
      ],
      "execution_count": 169,
      "outputs": [
        {
          "output_type": "execute_result",
          "data": {
            "text/plain": [
              "torch.Size([2, 3])"
            ]
          },
          "metadata": {
            "tags": []
          },
          "execution_count": 169
        }
      ]
    },
    {
      "cell_type": "markdown",
      "metadata": {
        "id": "JAigyPVUbkuW"
      },
      "source": [
        "9. Feed a tensor with 3 or more axes to the linalg.norm function and observe its output. What does this function compute for tensors of arbitrary shape?\n",
        "\n"
      ]
    },
    {
      "cell_type": "code",
      "metadata": {
        "colab": {
          "base_uri": "https://localhost:8080/"
        },
        "id": "DSEuphS5axz6",
        "outputId": "b7b54e54-251b-4e98-e9c0-a21801585857"
      },
      "source": [
        "Y= torch.arange(24,dtype = torch.float32).reshape(2, 3, 4)\n",
        "print (Y)"
      ],
      "execution_count": 170,
      "outputs": [
        {
          "output_type": "stream",
          "text": [
            "tensor([[[ 0.,  1.,  2.,  3.],\n",
            "         [ 4.,  5.,  6.,  7.],\n",
            "         [ 8.,  9., 10., 11.]],\n",
            "\n",
            "        [[12., 13., 14., 15.],\n",
            "         [16., 17., 18., 19.],\n",
            "         [20., 21., 22., 23.]]])\n"
          ],
          "name": "stdout"
        }
      ]
    },
    {
      "cell_type": "code",
      "metadata": {
        "colab": {
          "base_uri": "https://localhost:8080/"
        },
        "id": "0skacSdobx21",
        "outputId": "b5fad6e5-858b-4929-b9cc-1c28ec9e650d"
      },
      "source": [
        "torch.linalg.norm(Y)"
      ],
      "execution_count": 171,
      "outputs": [
        {
          "output_type": "execute_result",
          "data": {
            "text/plain": [
              "tensor(65.7571)"
            ]
          },
          "metadata": {
            "tags": []
          },
          "execution_count": 171
        }
      ]
    },
    {
      "cell_type": "markdown",
      "metadata": {
        "id": "_XCz-F4mdqWa"
      },
      "source": [
        "Analogous to  L2  norms of vectors, the Frobenius norm of a matrix $\\mathbf{X} \\in \\mathbb{R}^{m \\times n}$ is the square root of the sum of the squares of the matrix elements:\n",
        "\n",
        "$\\|\\mathbf{X}\\|_F = \\sqrt{\\sum_{i=1}^m \\sum_{j=1}^n x_{ij}^2}.$\n"
      ]
    },
    {
      "cell_type": "code",
      "metadata": {
        "colab": {
          "base_uri": "https://localhost:8080/"
        },
        "id": "Qw45HzFLb8gF",
        "outputId": "869941a5-220a-441e-958c-a3a32f669b05"
      },
      "source": [
        "sum = 0\n",
        "for elem in Y[:]:\n",
        "    print (elem.shape)\n",
        "    for elem1 in elem:\n",
        "        for elem2 in elem1:\n",
        "            sum+= elem2.item()**2\n",
        "\n",
        "print(sum**0.5)"
      ],
      "execution_count": 172,
      "outputs": [
        {
          "output_type": "stream",
          "text": [
            "torch.Size([3, 4])\n",
            "torch.Size([3, 4])\n",
            "65.75712889109438\n"
          ],
          "name": "stdout"
        }
      ]
    },
    {
      "cell_type": "markdown",
      "metadata": {
        "id": "fDFEGSKue8Xb"
      },
      "source": [
        "This has computed the Frobenus norm for the tensor of shape 2x3x4"
      ]
    },
    {
      "cell_type": "markdown",
      "metadata": {
        "id": "ABOtW9fghj3e"
      },
      "source": [
        "## Calculus\n",
        "\n",
        "### Derivatives and Differentiation\n",
        "\n",
        "We begin by addressing the calculation of derivatives, a crucial step in nearly all deep learning optimization algorithms. In deep learning, we typically choose loss functions that are differentiable with respect to our model’s parameters. Put simply, this means that for each parameter, we can determine how rapidly the loss would increase or decrease, were we to increase or decrease that parameter by an infinitesimally small amount.\n",
        "\n",
        "Suppose that we have a function  $f: \\mathbb{R} \\rightarrow \\mathbb{R}$ whose input and output are both scalars. The derivative of  f  is defined as\n",
        "\n",
        "$f'(x) = \\lim_{h \\rightarrow 0} \\frac{f(x+h) - f(x)}{h},$\n",
        "\n",
        "if this limit exists. If  f'(a) exists,  f  is said to be differentiable at a . If  f  is differentiable at every number of an interval, then this function is differentiable on this interval. We can interpret the derivative  f′(x)  in (2.4.1) as the instantaneous rate of change of  f(x)  with respect to  x . The so-called instantaneous rate of change is based on the variation  h  in  x , which approaches  0 .\n",
        "\n",
        "To illustrate derivatives, let us experiment with an example. Define  \n",
        "$u = f(x) = 3x^2-4x$\n"
      ]
    },
    {
      "cell_type": "code",
      "metadata": {
        "id": "6wVMppOkchB3"
      },
      "source": [
        "%matplotlib inline\n",
        "import numpy as np\n",
        "from IPython import display\n",
        "\n",
        "def f(x):\n",
        "    return 3 * x ** 2 - 4 * x"
      ],
      "execution_count": 173,
      "outputs": []
    },
    {
      "cell_type": "code",
      "metadata": {
        "colab": {
          "base_uri": "https://localhost:8080/"
        },
        "id": "7MtrHWBAiOzE",
        "outputId": "8f77f73e-bd1f-45b6-bc23-7465aed8ae41"
      },
      "source": [
        "def numerical_lim(f, x, h):\n",
        "    return (f(x+h) - f(x))/h\n",
        "\n",
        "h = 0.1\n",
        "for i in range(10):\n",
        "    print (f'h = {h}, numerical limit = {numerical_lim(f, 1, h)}')\n",
        "    h *= 0.1"
      ],
      "execution_count": 174,
      "outputs": [
        {
          "output_type": "stream",
          "text": [
            "h = 0.1, numerical limit = 2.3000000000000043\n",
            "h = 0.010000000000000002, numerical limit = 2.029999999999976\n",
            "h = 0.0010000000000000002, numerical limit = 2.0029999999993104\n",
            "h = 0.00010000000000000003, numerical limit = 2.000299999997956\n",
            "h = 1.0000000000000004e-05, numerical limit = 2.0000300000155837\n",
            "h = 1.0000000000000004e-06, numerical limit = 2.0000030001021676\n",
            "h = 1.0000000000000005e-07, numerical limit = 2.000000298707504\n",
            "h = 1.0000000000000005e-08, numerical limit = 1.999999987845057\n",
            "h = 1.0000000000000005e-09, numerical limit = 2.000000165480741\n",
            "h = 1.0000000000000006e-10, numerical limit = 2.000000165480741\n"
          ],
          "name": "stdout"
        }
      ]
    },
    {
      "cell_type": "markdown",
      "metadata": {
        "id": "ct4Rs_DquGvz"
      },
      "source": [
        "Let us familiarize ourselves with a few equivalent notations for derivatives. Given  y=f(x) , where  x  and  y  are the independent variable and the dependent variable of the function  f , respectively. The following expressions are equivalent:\n",
        "\n",
        "$f'(x) = y' = \\frac{dy}{dx} = \\frac{df}{dx} = \\frac{d}{dx} f(x) = Df(x) = D_x f(x),$\n",
        "\n",
        "### Partial Derivatives\n",
        "\n",
        "So far we have dealt with the differentiation of functions of just one variable. In deep learning, functions often depend on many variables. Thus, we need to extend the ideas of differentiation to these multivariate functions.\n",
        "\n",
        "Let $y = f(x_1, x_2, \\ldots, x_n)$ be a function with  n  variables. The partial derivative of  y  with respect to its  ith  parameter  xi  is:\n",
        "\n",
        "$\\frac{\\partial y}{\\partial x_i} = \\lim_{h \\rightarrow 0} \\frac{f(x_1, \\ldots, x_{i-1}, x_i+h, x_{i+1}, \\ldots, x_n) - f(x_1, \\ldots, x_i, \\ldots, x_n)}{h}.$\n",
        "\n",
        "To calculate  $\\frac{\\partial y}{\\partial x_i}$ we can simply treat $x_1, \\ldots, x_{i-1}, x_{i+1}, \\ldots, x_n$ s constants and calculate the derivative of  y  with respect to  xi . For notation of partial derivatives, the following are equivalent:\n",
        "\n",
        "$\\frac{\\partial y}{\\partial x_i} = \\frac{\\partial f}{\\partial x_i} = f_{x_i} = f_i = D_i f = D_{x_i} f.$\n",
        "\n",
        "### Gradients\n",
        "\n",
        "Suppose that the input of function $f: \\mathbb{R}^n \\rightarrow \\mathbb{R}$ is an  n -dimensional vector $\\mathbf{x} = [x_1, x_2, \\ldots, x_n]^\\top$ and the output is a scalar. The gradient of the function  $f(\\mathbf{x})$  with respect to  $\\mathbf{x}$  is a vector of  n  partial derivatives:\n",
        "\n",
        "$\\nabla_{\\mathbf{x}} f(\\mathbf{x}) = \\bigg[\\frac{\\partial f(\\mathbf{x})}{\\partial x_1}, \\frac{\\partial f(\\mathbf{x})}{\\partial x_2}, \\ldots, \\frac{\\partial f(\\mathbf{x})}{\\partial x_n}\\bigg]^\\top,$\n",
        "\n",
        "Note that this also returns an n-dimensional vector\n",
        "\n",
        "where $\\nabla_{\\mathbf{x}} f(\\mathbf{x})$ is often replaced by $\\nabla f(\\mathbf{x})$  when there is no ambiguity.\n",
        "\n",
        "![](https://i.imgur.com/2qsZFkH.png)\n",
        "\n",
        "### Chain Rule\n",
        "\n",
        "However, such gradients can be hard to find. This is because multivariate functions in deep learning are often composite, so we may not apply any of the aforementioned rules to differentiate these functions. Fortunately, the chain rule enables us to differentiate composite functions.\n",
        "\n",
        "Let us first consider functions of a single variable. Suppose that functions y = f(u) and u = g(x) are both differentiable, then the chain rule states that\n",
        "\n",
        "$\\frac{dy}{dx} = \\frac{dy}{du} \\frac{du}{dx}.$\n",
        "\n",
        "Now let us turn our attention to a more general scenario where functions have an arbitrary number of variables. Suppose that the differentiable function  y  has variables u1, u2... um,  where each differentiable function  ui  has variables  x1,x2,…,xn . Note that  y  is a function of  x1,x2,…,xn . Then the chain rule gives\n",
        "\n",
        "$\\frac{dy}{dx_i} = \\frac{dy}{du_1} \\frac{du_1}{dx_i} + \\frac{dy}{du_2} \\frac{du_2}{dx_i} + \\cdots + \\frac{dy}{du_m} \\frac{du_m}{dx_i}$\n",
        "\n"
      ]
    },
    {
      "cell_type": "markdown",
      "metadata": {
        "id": "wHjGw2Ug-OSv"
      },
      "source": [
        "### Automatic Differentiation\n",
        "\n",
        "As we have explained in Section 2.4, differentiation is a crucial step in nearly all deep learning optimization algorithms. While the calculations for taking these derivatives are straightforward, requiring only some basic calculus, for complex models, working out the updates by hand can be a pain (and often error-prone).\n",
        "\n",
        "Deep learning frameworks expedite this work by automatically calculating derivatives, i.e., automatic differentiation. In practice, based on our designed model the system builds a computational graph, tracking which data combined through which operations to produce the output. Automatic differentiation enables the system to subsequently backpropagate gradients. Here, backpropagate simply means to trace through the computational graph, filling in the partial derivatives with respect to each parameter.\n",
        "\n",
        "As a toy example, say that we are interested in differentiating the function $y = 2\\mathbf{x}^{\\top}\\mathbf{x}$ with respect to the column vector  x . To start, let us create the variable x and assign it an initial value."
      ]
    },
    {
      "cell_type": "code",
      "metadata": {
        "id": "9S4a3ybnkXqv",
        "colab": {
          "base_uri": "https://localhost:8080/"
        },
        "outputId": "be4c6c96-24fb-459d-96c8-8b71580c377c"
      },
      "source": [
        "x = torch.arange(4.0)\n",
        "print (x.shape)\n",
        "x"
      ],
      "execution_count": 175,
      "outputs": [
        {
          "output_type": "stream",
          "text": [
            "torch.Size([4])\n"
          ],
          "name": "stdout"
        },
        {
          "output_type": "execute_result",
          "data": {
            "text/plain": [
              "tensor([0., 1., 2., 3.])"
            ]
          },
          "metadata": {
            "tags": []
          },
          "execution_count": 175
        }
      ]
    },
    {
      "cell_type": "markdown",
      "metadata": {
        "id": "aQgekokX-pzD"
      },
      "source": [
        "The shape of x is 4x1. 2 x^T x will be a scalar. Also we know that a gradient of a scalar-valued function with respect to a vector  x  is itself vector-valued and has the same shape as  x .\n",
        "\n",
        "Suppose that the input of function $f: \\mathbb{R}^n \\rightarrow \\mathbb{R}$ is an  n -dimensional vector $\\mathbf{x} = [x_1, x_2, \\ldots, x_n]^\\top$ and the output is a scalar. The gradient of the function  $f(\\mathbf{x})$  with respect to  $\\mathbf{x}$  is a vector of  n  partial derivatives:\n",
        "\n",
        "$\\nabla_{\\mathbf{x}} f(\\mathbf{x}) = \\bigg[\\frac{\\partial f(\\mathbf{x})}{\\partial x_1}, \\frac{\\partial f(\\mathbf{x})}{\\partial x_2}, \\ldots, \\frac{\\partial f(\\mathbf{x})}{\\partial x_n}\\bigg]^\\top,$\n",
        "\n",
        "Before we even calculate the gradient of  y  with respect to  x , we will need a place to store it. It is important that we do not allocate new memory every time we take a derivative with respect to a parameter because we will often update the same parameters thousands or millions of times and could quickly run out of memory"
      ]
    },
    {
      "cell_type": "code",
      "metadata": {
        "id": "bkHEwOwW-fdJ"
      },
      "source": [
        "x.requires_grad_(True)  # Same as `x = torch.arange(4.0, requires_grad=True)` ### This means we want to calculate grad wrt x\n",
        "x.grad  # The default value is None"
      ],
      "execution_count": 176,
      "outputs": []
    },
    {
      "cell_type": "markdown",
      "metadata": {
        "id": "T3Ud_wmwKmGV"
      },
      "source": [
        "Now let us calculate  y . Note: y here is a scalar"
      ]
    },
    {
      "cell_type": "code",
      "metadata": {
        "colab": {
          "base_uri": "https://localhost:8080/"
        },
        "id": "QQIxoU4xKi7r",
        "outputId": "7a0fa664-50a5-433a-e51a-9c9baf531028"
      },
      "source": [
        "y = 2*torch.dot(x, x) ## 2 (0.0 + 1.1 + 2.2 + 3.3)\n",
        "print (x)\n",
        "print (y)"
      ],
      "execution_count": 177,
      "outputs": [
        {
          "output_type": "stream",
          "text": [
            "tensor([0., 1., 2., 3.], requires_grad=True)\n",
            "tensor(28., grad_fn=<MulBackward0>)\n"
          ],
          "name": "stdout"
        }
      ]
    },
    {
      "cell_type": "markdown",
      "metadata": {
        "id": "a3tPMwRMK8PI"
      },
      "source": [
        "Since x is a vector of length 4, an inner product of x and x is performed, yielding the scalar output that we assign to y. Next, we can automatically calculate the gradient of y with respect to each component of x by calling the function for backpropagation and printing the gradient.\n",
        "\n"
      ]
    },
    {
      "cell_type": "code",
      "metadata": {
        "colab": {
          "base_uri": "https://localhost:8080/"
        },
        "id": "OJkKpe9MKsye",
        "outputId": "5645fe73-d665-41ef-ffc1-36422df0db35"
      },
      "source": [
        "y.backward()\n",
        "x.grad"
      ],
      "execution_count": 178,
      "outputs": [
        {
          "output_type": "execute_result",
          "data": {
            "text/plain": [
              "tensor([ 0.,  4.,  8., 12.])"
            ]
          },
          "metadata": {
            "tags": []
          },
          "execution_count": 178
        }
      ]
    },
    {
      "cell_type": "markdown",
      "metadata": {
        "id": "RnGnn55eMvc4"
      },
      "source": [
        "The gradient of the function  $y = 2\\mathbf{x}^{\\top}\\mathbf{x}$  with respect to $\\mathbf{x}$ will be $4\\mathbf{x}$.  Let us quickly verify that our desired gradient was calculated correctly."
      ]
    },
    {
      "cell_type": "code",
      "metadata": {
        "colab": {
          "base_uri": "https://localhost:8080/"
        },
        "id": "dJNZX2f7LN1h",
        "outputId": "69515167-f78e-4f7a-d126-9c2b8abf97ef"
      },
      "source": [
        "4*x"
      ],
      "execution_count": 179,
      "outputs": [
        {
          "output_type": "execute_result",
          "data": {
            "text/plain": [
              "tensor([ 0.,  4.,  8., 12.], grad_fn=<MulBackward0>)"
            ]
          },
          "metadata": {
            "tags": []
          },
          "execution_count": 179
        }
      ]
    },
    {
      "cell_type": "markdown",
      "metadata": {
        "id": "V0U86YuONPqY"
      },
      "source": [
        "Now let us calculate another function of x.\n",
        "\n"
      ]
    },
    {
      "cell_type": "code",
      "metadata": {
        "colab": {
          "base_uri": "https://localhost:8080/"
        },
        "id": "7n-8wJgXNCgi",
        "outputId": "c7873158-1550-42d9-fe45-2837c3da1183"
      },
      "source": [
        "# PyTorch accumulates the gradient in default, we need to clear the previous values\n",
        "x.grad.zero_()"
      ],
      "execution_count": 180,
      "outputs": [
        {
          "output_type": "execute_result",
          "data": {
            "text/plain": [
              "tensor([0., 0., 0., 0.])"
            ]
          },
          "metadata": {
            "tags": []
          },
          "execution_count": 180
        }
      ]
    },
    {
      "cell_type": "code",
      "metadata": {
        "colab": {
          "base_uri": "https://localhost:8080/"
        },
        "id": "1DPF9EVwNU8e",
        "outputId": "ee96cff0-b509-4d45-a95d-2815924d6054"
      },
      "source": [
        "y = x.sum()\n",
        "print (y)"
      ],
      "execution_count": 181,
      "outputs": [
        {
          "output_type": "stream",
          "text": [
            "tensor(6., grad_fn=<SumBackward0>)\n"
          ],
          "name": "stdout"
        }
      ]
    },
    {
      "cell_type": "code",
      "metadata": {
        "colab": {
          "base_uri": "https://localhost:8080/"
        },
        "id": "VoZlHaCTNfot",
        "outputId": "4e19c879-4639-471f-cf6a-c5c70377d732"
      },
      "source": [
        "y.backward()\n",
        "x.grad"
      ],
      "execution_count": 182,
      "outputs": [
        {
          "output_type": "execute_result",
          "data": {
            "text/plain": [
              "tensor([1., 1., 1., 1.])"
            ]
          },
          "metadata": {
            "tags": []
          },
          "execution_count": 182
        }
      ]
    },
    {
      "cell_type": "markdown",
      "metadata": {
        "id": "N9IpuNv8Npjf"
      },
      "source": [
        "y = x1 + x2 + x3 + x4 where x1, x2, x3, x4 are each elem of vector x\n",
        "\n",
        "dy/dx = [dy/dx1, dy/dx2, dy/dx3, dy/dx4]: Note each of these are the partial derivatives\n",
        "\n"
      ]
    },
    {
      "cell_type": "markdown",
      "metadata": {
        "id": "UGm3ORJWN-xE"
      },
      "source": [
        "### Backward for Non-Scalar Variables\n",
        "\n",
        "Technically, when y is not a scalar, the most natural interpretation of the differentiation of a vector y with respect to a vector x is a matrix. For higher-order and higher-dimensional y and x, the differentiation result could be a high-order tensor.\n",
        "\n",
        "However, while these more exotic objects do show up in advanced machine learning (including in deep learning), more often when we are calling backward on a vector, we are trying to calculate the derivatives of the loss functions for each constituent of a batch of training examples. Here, our intent is not to calculate the differentiation matrix but rather the sum of the partial derivatives computed individually for each example in the batch."
      ]
    },
    {
      "cell_type": "code",
      "metadata": {
        "id": "onxWh7qnNpEj"
      },
      "source": [
        "x.grad.zero_()\n",
        "y = x * x"
      ],
      "execution_count": 183,
      "outputs": []
    },
    {
      "cell_type": "code",
      "metadata": {
        "colab": {
          "base_uri": "https://localhost:8080/"
        },
        "id": "k-uW7OEtNhmX",
        "outputId": "fa9f645a-1626-40ac-cb82-ddc7636a09a3"
      },
      "source": [
        "print (x)\n",
        "print (y)"
      ],
      "execution_count": 184,
      "outputs": [
        {
          "output_type": "stream",
          "text": [
            "tensor([0., 1., 2., 3.], requires_grad=True)\n",
            "tensor([0., 1., 4., 9.], grad_fn=<MulBackward0>)\n"
          ],
          "name": "stdout"
        }
      ]
    },
    {
      "cell_type": "code",
      "metadata": {
        "colab": {
          "base_uri": "https://localhost:8080/"
        },
        "id": "Rz71ntCvObV4",
        "outputId": "5720213c-a93e-4e45-dd56-2b1b52f5db22"
      },
      "source": [
        "print (y.sum())"
      ],
      "execution_count": 185,
      "outputs": [
        {
          "output_type": "stream",
          "text": [
            "tensor(14., grad_fn=<SumBackward0>)\n"
          ],
          "name": "stdout"
        }
      ]
    },
    {
      "cell_type": "code",
      "metadata": {
        "id": "k5PjwOdLOrxm"
      },
      "source": [
        "y.sum().backward()"
      ],
      "execution_count": 186,
      "outputs": []
    },
    {
      "cell_type": "code",
      "metadata": {
        "colab": {
          "base_uri": "https://localhost:8080/"
        },
        "id": "TLVTDnvfOv2r",
        "outputId": "c00bc7db-362f-408d-f61c-d8c3fb4cdf8e"
      },
      "source": [
        "x.grad"
      ],
      "execution_count": 187,
      "outputs": [
        {
          "output_type": "execute_result",
          "data": {
            "text/plain": [
              "tensor([0., 2., 4., 6.])"
            ]
          },
          "metadata": {
            "tags": []
          },
          "execution_count": 187
        }
      ]
    },
    {
      "cell_type": "markdown",
      "metadata": {
        "id": "5N8DtSySQ3v3"
      },
      "source": [
        "Here again y is basically y = x1^2 + x2^2 + x3^2 + x4^2\n",
        "\n",
        "so dy/dx = [dy/dx1, dy/dx2, dy/dx3, dy/dx4]: Note each of these are the partial derivatives = [2x1, 2x2, 2x3, 2x4]"
      ]
    },
    {
      "cell_type": "markdown",
      "metadata": {
        "id": "fG2azvLCRf6h"
      },
      "source": [
        "### Detaching Computation\n",
        "\n",
        "Sometimes, we wish to move some calculations outside of the recorded computational graph. For example, say that y was calculated as a function of x, and that subsequently z was calculated as a function of both y and x. Now, imagine that we wanted to calculate the gradient of z with respect to x, but wanted for some reason to treat y as a constant, and only take into account the role that x played after y was calculated.\n",
        "\n",
        "say y = x^2 and z = y*x = x^2 * x\n",
        "\n",
        "Here, we can detach y to return a new variable u that has the same value as y but discards any information about how y was computed in the computational graph. In other words, the gradient will not flow backwards through u to x. Thus, the following backpropagation function computes the partial derivative of z = u * x with respect to x while treating u as a constant, instead of the partial derivative of z = x * x * x with respect to x.\n",
        "\n",
        "\n",
        "\n"
      ]
    },
    {
      "cell_type": "code",
      "metadata": {
        "colab": {
          "base_uri": "https://localhost:8080/"
        },
        "id": "Xl7jraMqPAII",
        "outputId": "4a1400d8-521a-48e8-a2f5-b06b6003d7cd"
      },
      "source": [
        "x.grad.zero_()\n",
        "print (x)\n",
        "y = x * x\n",
        "print (y)\n",
        "\n",
        "u = y.detach()\n",
        "print (u)"
      ],
      "execution_count": 188,
      "outputs": [
        {
          "output_type": "stream",
          "text": [
            "tensor([0., 1., 2., 3.], requires_grad=True)\n",
            "tensor([0., 1., 4., 9.], grad_fn=<MulBackward0>)\n",
            "tensor([0., 1., 4., 9.])\n"
          ],
          "name": "stdout"
        }
      ]
    },
    {
      "cell_type": "code",
      "metadata": {
        "colab": {
          "base_uri": "https://localhost:8080/"
        },
        "id": "gDpyTgbYSL3-",
        "outputId": "41c55bf4-7d26-4271-97fd-af0c515367e9"
      },
      "source": [
        "z = u * x\n",
        "z.sum().backward()\n",
        "print (x.grad) ### should return u"
      ],
      "execution_count": 189,
      "outputs": [
        {
          "output_type": "stream",
          "text": [
            "tensor([0., 1., 4., 9.])\n"
          ],
          "name": "stdout"
        }
      ]
    },
    {
      "cell_type": "code",
      "metadata": {
        "colab": {
          "base_uri": "https://localhost:8080/"
        },
        "id": "NXPaxITIbYht",
        "outputId": "a644555d-5f7c-47df-acc0-c92d1e6e260d"
      },
      "source": [
        "### without detaching\n",
        "x.grad.zero_()\n",
        "print (x)\n",
        "y = x * x\n",
        "print (y)\n",
        "z = y * x\n",
        "z.sum().backward()\n",
        "print (x.grad) ### 3 x^2 = [3.0^2, 3.1^2, 3.2^2, 3.3^2]"
      ],
      "execution_count": 190,
      "outputs": [
        {
          "output_type": "stream",
          "text": [
            "tensor([0., 1., 2., 3.], requires_grad=True)\n",
            "tensor([0., 1., 4., 9.], grad_fn=<MulBackward0>)\n",
            "tensor([ 0.,  3., 12., 27.])\n"
          ],
          "name": "stdout"
        }
      ]
    },
    {
      "cell_type": "markdown",
      "metadata": {
        "id": "6kYCKmQOb706"
      },
      "source": [
        "### Computing the Gradient of Python Control Flow\n",
        "\n",
        "One benefit of using automatic differentiation is that even if building the computational graph of a function required passing through a maze of Python control flow (e.g., conditionals, loops, and arbitrary function calls), we can still calculate the gradient of the resulting variable. In the following snippet, note that the number of iterations of the while loop and the evaluation of the if statement both depend on the value of the input a.\n",
        "\n"
      ]
    },
    {
      "cell_type": "code",
      "metadata": {
        "id": "2pcEsDpfblLg"
      },
      "source": [
        "def f(a):\n",
        "    ## init b = 2a\n",
        "    b = a*2\n",
        "    while b.norm() < 1000:\n",
        "        b = b * 2\n",
        "    if b.sum() > 0:\n",
        "        print ('here', b)\n",
        "        c = b\n",
        "    else:\n",
        "        c = 100 * b\n",
        "    return c"
      ],
      "execution_count": 191,
      "outputs": []
    },
    {
      "cell_type": "code",
      "metadata": {
        "colab": {
          "base_uri": "https://localhost:8080/"
        },
        "id": "rBKVG4dod7CW",
        "outputId": "42a9dbfb-1b6c-4b62-e52f-b4904eff8dc7"
      },
      "source": [
        "a = torch.randn(size=(), requires_grad=True)\n",
        "print (a)"
      ],
      "execution_count": 192,
      "outputs": [
        {
          "output_type": "stream",
          "text": [
            "tensor(-0.2646, requires_grad=True)\n"
          ],
          "name": "stdout"
        }
      ]
    },
    {
      "cell_type": "code",
      "metadata": {
        "colab": {
          "base_uri": "https://localhost:8080/"
        },
        "id": "Dr4u454XeBK9",
        "outputId": "6e3ff848-7c53-4dd1-a67e-4fe40c22bfda"
      },
      "source": [
        "print (a.norm())"
      ],
      "execution_count": 193,
      "outputs": [
        {
          "output_type": "stream",
          "text": [
            "tensor(0.2646, grad_fn=<CopyBackwards>)\n"
          ],
          "name": "stdout"
        }
      ]
    },
    {
      "cell_type": "code",
      "metadata": {
        "id": "mt1T4F81eFIi"
      },
      "source": [
        "d = f(a)"
      ],
      "execution_count": 194,
      "outputs": []
    },
    {
      "cell_type": "markdown",
      "metadata": {
        "id": "eXCtaI4relYB"
      },
      "source": [
        "d = f(a) = 2*a * 2^k = k(some const) * a\n"
      ]
    },
    {
      "cell_type": "code",
      "metadata": {
        "id": "NjZNlvk2eTPY"
      },
      "source": [
        "d = f(a)\n",
        "d.backward()"
      ],
      "execution_count": 195,
      "outputs": []
    },
    {
      "cell_type": "code",
      "metadata": {
        "colab": {
          "base_uri": "https://localhost:8080/"
        },
        "id": "jjGsDU2Ne18-",
        "outputId": "4ab906f3-d5fe-4d07-b65f-ff794c5140a1"
      },
      "source": [
        "print (a.grad)"
      ],
      "execution_count": 196,
      "outputs": [
        {
          "output_type": "stream",
          "text": [
            "tensor(409600.)\n"
          ],
          "name": "stdout"
        }
      ]
    },
    {
      "cell_type": "code",
      "metadata": {
        "colab": {
          "base_uri": "https://localhost:8080/"
        },
        "id": "JZjNa501e4Jt",
        "outputId": "6a7d3b46-c3c5-40fe-e7fc-b8a0f648572d"
      },
      "source": [
        "d/a"
      ],
      "execution_count": 197,
      "outputs": [
        {
          "output_type": "execute_result",
          "data": {
            "text/plain": [
              "tensor(409600., grad_fn=<DivBackward0>)"
            ]
          },
          "metadata": {
            "tags": []
          },
          "execution_count": 197
        }
      ]
    },
    {
      "cell_type": "markdown",
      "metadata": {
        "id": "_xv_qTMpfE3s"
      },
      "source": [
        "We can now analyze the f function defined above. Note that it is piecewise linear in its input a. In other words, for any a there exists some constant scalar k such that f(a) = k * a, where the value of k depends on the input a\n",
        "\n",
        "f(a) = k*a => df/da = k  = f(a)/a = d/a"
      ]
    },
    {
      "cell_type": "markdown",
      "metadata": {
        "id": "VsFPT2tojPS1"
      },
      "source": [
        "## Probablility\n",
        "\n",
        "### Basic Probability Theory\n",
        "\n",
        "\n"
      ]
    },
    {
      "cell_type": "code",
      "metadata": {
        "id": "yH5rOQQ2gQmX"
      },
      "source": [
        "%matplotlib inline\n",
        "import torch\n",
        "from torch.distributions import multinomial"
      ],
      "execution_count": 198,
      "outputs": []
    },
    {
      "cell_type": "markdown",
      "metadata": {
        "id": "zGmXUiVmjfzc"
      },
      "source": [
        "Next, we will want to be able to cast the die. In statistics we call this process of drawing examples from probability distributions sampling. The distribution that assigns probabilities to a number of discrete choices is called the multinomial distribution. We will give a more formal definition of distribution later, but at a high level, think of it as just an assignment of probabilities to events.\n",
        "\n",
        "To draw a single sample, we simply pass in a vector of probabilities. The output is another vector of the same length: its value at index  i  is the number of times the sampling outcome corresponds to  i ."
      ]
    },
    {
      "cell_type": "code",
      "metadata": {
        "colab": {
          "base_uri": "https://localhost:8080/"
        },
        "id": "uUioZE4PjYtv",
        "outputId": "bb5a67dd-9076-4ce9-f5b6-bffc1819f183"
      },
      "source": [
        "fair_probs = torch.ones([6]) / 6\n",
        "print (fair_probs)"
      ],
      "execution_count": 199,
      "outputs": [
        {
          "output_type": "stream",
          "text": [
            "tensor([0.1667, 0.1667, 0.1667, 0.1667, 0.1667, 0.1667])\n"
          ],
          "name": "stdout"
        }
      ]
    },
    {
      "cell_type": "code",
      "metadata": {
        "colab": {
          "base_uri": "https://localhost:8080/"
        },
        "id": "73hBC2siAAOV",
        "outputId": "a59c2fc2-c095-4d3a-db1c-e7a4d2495441"
      },
      "source": [
        "### sample from a multinomial total_count times with prob of each event given by fair_probs\n",
        "multinomial.Multinomial(total_count=1, probs=fair_probs).sample()"
      ],
      "execution_count": 200,
      "outputs": [
        {
          "output_type": "execute_result",
          "data": {
            "text/plain": [
              "tensor([0., 0., 0., 0., 1., 0.])"
            ]
          },
          "metadata": {
            "tags": []
          },
          "execution_count": 200
        }
      ]
    },
    {
      "cell_type": "markdown",
      "metadata": {
        "id": "7pAdvh_EAh_M"
      },
      "source": [
        "If you run the sampler a bunch of times, you will find that you get out random values each time. As with estimating the fairness of a die, we often want to generate many samples from the same distribution. It would be unbearably slow to do this with a Python for loop, so the function we are using supports drawing multiple samples at once, returning an array of independent samples in any shape we might desire.\n",
        "\n"
      ]
    },
    {
      "cell_type": "code",
      "metadata": {
        "colab": {
          "base_uri": "https://localhost:8080/"
        },
        "id": "XI46a64TAS7y",
        "outputId": "2d19c495-65ab-4a81-859d-185db6cc37de"
      },
      "source": [
        "multinomial.Multinomial(10, fair_probs).sample()"
      ],
      "execution_count": 201,
      "outputs": [
        {
          "output_type": "execute_result",
          "data": {
            "text/plain": [
              "tensor([0., 1., 3., 2., 3., 1.])"
            ]
          },
          "metadata": {
            "tags": []
          },
          "execution_count": 201
        }
      ]
    },
    {
      "cell_type": "code",
      "metadata": {
        "colab": {
          "base_uri": "https://localhost:8080/"
        },
        "id": "ZDMpY1iVAmZT",
        "outputId": "24ad4a93-9607-4401-9c6b-7c7a85471eed"
      },
      "source": [
        "# Store the results as 32-bit floats for division\n",
        "counts = multinomial.Multinomial(1000, fair_probs).sample()\n",
        "counts / 1000  # Relative frequency as the estimate"
      ],
      "execution_count": 202,
      "outputs": [
        {
          "output_type": "execute_result",
          "data": {
            "text/plain": [
              "tensor([0.1760, 0.1700, 0.1660, 0.1450, 0.1700, 0.1730])"
            ]
          },
          "metadata": {
            "tags": []
          },
          "execution_count": 202
        }
      ]
    },
    {
      "cell_type": "markdown",
      "metadata": {
        "id": "qhOtn-IqAu9u"
      },
      "source": [
        "Because we generated the data from a fair die, we know that each outcome has true probability  16 , roughly  0.167 , so the above output estimates look good.\n",
        "\n",
        "We can also visualize how these probabilities converge over time towards the true probability. Let us conduct 500 groups of experiments where each group draws 10 samples.\n",
        "\n",
        "![](https://d2l.ai/_images/output_probability_245b7d_54_0.svg)\n",
        "\n",
        "Each solid curve corresponds to one of the six values of the die and gives our estimated probability that the die turns up that value as assessed after each group of experiments. The dashed black line gives the true underlying probability. As we get more data by conducting more experiments, the  6  solid curves converge towards the true probability.\n",
        "\n",
        "### Random variables\n",
        "\n",
        "![](https://i.imgur.com/ikJ3lk8.png)\n",
        "\n",
        "\n",
        "![](https://i.imgur.com/lVO07r1.png)\n",
        "\n",
        "\n"
      ]
    },
    {
      "cell_type": "markdown",
      "metadata": {
        "id": "WGc3Pf9zKL4r"
      },
      "source": [
        ""
      ]
    },
    {
      "cell_type": "markdown",
      "metadata": {
        "id": "da8WhQqAQagM"
      },
      "source": [
        ""
      ]
    },
    {
      "cell_type": "markdown",
      "metadata": {
        "id": "Eu3dwP9zQbRf"
      },
      "source": [
        "## Linear Neural Networks\n",
        "\n",
        "## Linear Regression\n",
        "\n",
        "### Some assumptions\n",
        "\n",
        "1. First, we assume that the relationship between the independent variables $\\mathbf{x}$ and the dependent variable  y  is linear, i.e., that  y  can be expressed as a weighted sum of the elements in  $\\mathbf{x}$ , given some noise on the observations. Note here we represent $\\mathbf{x}$ as a vetor\n",
        "\n",
        "2. Second, we assume that any noise is well-behaved (following a Gaussian distribution).\n",
        "\n",
        "To motivate the approach, let us start with a running example. Suppose that we wish to estimate the prices of houses (in dollars) based on their area (in square feet) and age (in years). To actually develop a model for predicting house prices, we would need to get our hands on a dataset consisting of sales for which we know the sale price, area, and age for each home. In the terminology of machine learning, the dataset is called a training dataset or training set, and each row (here the data corresponding to one sale) is called an example (or data point, data instance, sample). The thing we are trying to predict (price) is called a label (or target). The independent variables (age and area) upon which the predictions are based are called features (or covariates).\n",
        "\n",
        "Typically, we will use  n  to denote the number of examples in our dataset. We index the data examples by  i , denoting each input as\n",
        "\n",
        "\\mathbf{x}^{(i)} = [x_1^{(i)}, x_2^{(i)}]^\\top$ and the corresponding label as $y^{(i)}$\n",
        "\n",
        "The linearity assumption just says that the target (price) can be expressed as a weighted sum of the features (area and age):\n",
        "\n",
        "$\\mathrm{price} = w_{\\mathrm{area}} \\cdot \\mathrm{area} + w_{\\mathrm{age}} \\cdot \\mathrm{age} + b.$\n",
        "\n",
        "The weights determine the influence of each feature on our prediction and the bias just says what value the predicted price should take when all of the features take value 0. Even if we will never see any homes with zero area, or that are precisely zero years old, we still need the bias or else we will limit the expressivity of our model. Strictly speaking, the above equation is an affine transformation of input features, which is characterized by a linear transformation of features via weighted sum, combined with a translation via the added bias.\n",
        "\n",
        "Given a dataset, our goal is to choose the weights  $\\mathbf{w}$  and the bias  b  such that on average, the predictions made according to our model best fit the true prices observed in the data. Models whose output prediction is determined by the affine transformation of input features are linear models, where the affine transformation is specified by the chosen weights and bias.\n",
        "\n",
        "![](https://i.imgur.com/Oi0F47h.png)\n",
        "\n",
        "#### Some calculation walkthroughs\n",
        "\n",
        "![](https://i.imgur.com/EfgcBH2.jpg)\n",
        "\n",
        "![](https://i.imgur.com/sph1CMM.jpg)\n",
        "\n",
        "### Loss functions\n",
        "\n",
        "![](https://i.imgur.com/b4Nei7P.png)\n",
        "\n",
        "\n",
        "Note here $\\mathbf{x}^{(i)}$ is the ith feature vector "
      ]
    },
    {
      "cell_type": "markdown",
      "metadata": {
        "id": "kgbJh_3HLjHr"
      },
      "source": [
        "### Analytic Solution\n",
        "\n",
        "Linear regression happens to be an unusually simple optimization problem. Unlike most other models that we will encounter in this book, linear regression can be solved analytically by applying a simple formula. To start, we can subsume the bias b into the parameter $\\mathbf{w}$ by appending a column to the design matrix consisting of all ones. Then our prediction problem is to minimize $\\|\\mathbf{y} - \\mathbf{X}\\mathbf{w}\\|^2$\n",
        "\n",
        "#### Verification\n",
        "\n",
        "Let's verify that $\\|\\mathbf{y} - \\mathbf{X}\\mathbf{w}\\|^2$ does indeed give the previous equation we had\n",
        "\n",
        "Matrix norms reference: https://learn.lboro.ac.uk/archive/olmp/olmp_resources/pages/workbooks_1_50_jan2008/Workbook30/30_4_mtrx_norms.pdf\n",
        "\n",
        "![](https://i.imgur.com/0A19uqO.jpeg)\n",
        "\n",
        "Taking the derivative of the loss with respect to  $\\mathbf{w}$  and setting it equal to zero yields the analytic (closed-form) solution:\n",
        "\n",
        "$\\mathbf{w}^* = (\\mathbf X^\\top \\mathbf X)^{-1}\\mathbf X^\\top \\mathbf{y}.$\n",
        "\n",
        "https://i.imgur.com/g0HwF5V.jpeg\n",
        "\n",
        "![](https://i.imgur.com/g0HwF5V.jpeg)"
      ]
    },
    {
      "cell_type": "markdown",
      "metadata": {
        "id": "dbpU_0D8TQ_M"
      },
      "source": [
        "\n",
        "### Minibatch Stochastic Gradient Descent\n",
        "\n",
        "Even in cases where we cannot solve the models analytically, it turns out that we can still train models effectively in practice. Moreover, for many tasks, those difficult-to-optimize models turn out to be so much better that figuring out how to train them ends up being well worth the trouble.\n",
        "\n",
        "The key technique for optimizing nearly any deep learning model, and which we will call upon throughout this book, consists of iteratively reducing the error by updating the parameters in the direction that incrementally lowers the loss function. This algorithm is called gradient descent.\n",
        "\n",
        "The most naive application of gradient descent consists of taking the derivative of the loss function, which is an average of the losses computed on every single example in the dataset. In practice, this can be extremely slow: we must pass over the entire dataset before making a single update. Thus, we will often settle for sampling a random minibatch of examples every time we need to compute the update, a variant called minibatch stochastic gradient descent.\n",
        "\n",
        "![](https://i.imgur.com/UP5geII.png)\n",
        "\n",
        "#### Calculations watkthrough:\n",
        "\n",
        "![](https://i.imgur.com/tTjHJv9.jpg)\n",
        "\n",
        "![](https://i.imgur.com/XS86Z1v.jpeg)\n",
        "\n",
        "This shows the derivations of the weight vector and bias. pay careful attention to the dimensionalities shown\n",
        "\n",
        "After training for some predetermined number of iterations (or until some other stopping criteria are met), we record the estimated model parameters, denoted $\\hat{\\mathbf{w}}, \\hat{b}$. Note that even if our function is truly linear and noiseless, these parameters will not be the exact minimizers of the loss because, although the algorithm converges slowly towards the minimizers it cannot achieve it exactly in a finite number of steps.\n",
        "\n",
        "Linear regression happens to be a learning problem where there is only one minimum over the entire domain. However, for more complicated models, like deep networks, the loss surfaces contain many minima. Fortunately, __for reasons that are not yet fully understood__, deep learning practitioners seldom struggle to find parameters that minimize the loss on training sets. The more formidable task is to find parameters that will achieve low loss on data that we have not seen before, a challenge called generalization. We return to these topics throughout the book.\n",
        "\n",
        "---\n",
        "\n",
        "Given the learned linear regression model $\\hat{\\mathbf{w}}^\\top \\mathbf{x} + \\hat{b}$ we can now estimate the price of a new house (not contained in the training data) given its area  x1  and age  x2 . Estimating targets given features is commonly called prediction or inference.\n",
        "\n",
        "We will try to stick with prediction because calling this step inference, despite emerging as standard jargon in deep learning, is somewhat of a misnomer. In statistics, inference more often denotes estimating parameters based on a dataset. This misuse of terminology is a common source of confusion when deep learning practitioners talk to statisticians.\n",
        "\n"
      ]
    },
    {
      "cell_type": "markdown",
      "metadata": {
        "id": "6uy6I878hcDe"
      },
      "source": [
        "## Linear Regression from scratch"
      ]
    },
    {
      "cell_type": "code",
      "metadata": {
        "id": "EPmWcRkNAsHt"
      },
      "source": [
        "%matplotlib inline\n",
        "import random\n",
        "import torch\n",
        "from d2l import torch as d2l"
      ],
      "execution_count": 203,
      "outputs": []
    },
    {
      "cell_type": "markdown",
      "metadata": {
        "id": "nz8H7nYshlaA"
      },
      "source": [
        "### Generating the Dataset\n",
        "\n",
        "To keep things simple, we will construct an artificial dataset according to a linear model with additive noise. Our task will be to recover this model’s parameters using the finite set of examples contained in our dataset. We will keep the data low-dimensional so we can visualize it easily. In the following code snippet, we generate a dataset containing 1000 examples, each consisting of 2 features sampled from a standard normal distribution. Thus our synthetic dataset will be a matrix $\\mathbf{X}\\in \\mathbb{R}^{1000 \\times 2}$\n",
        "\n",
        "The true parameters generating our dataset will be $\\mathbf{w} = [2, -3.4]^\\top$\n",
        " and b = 4.2 and our synthetic labels will be assigned according to the following linear model with the noise term $\\epsilon$\n",
        "\n",
        "$\\mathbf{y}= \\mathbf{X} \\mathbf{w} + b + \\mathbf\\epsilon.$\n",
        "\n",
        "You could think of  ϵ  as capturing potential measurement errors on the features and labels. We will assume that the standard assumptions hold and thus that  ϵ  obeys a normal distribution with mean of 0. To make our problem easy, we will set its standard deviation to 0.01. The following code generates our synthetic dataset."
      ]
    },
    {
      "cell_type": "code",
      "metadata": {
        "colab": {
          "base_uri": "https://localhost:8080/"
        },
        "id": "mstUFcuMhjBR",
        "outputId": "e10ccd9d-8a19-4464-ae0e-bbf8a967419a"
      },
      "source": [
        "def synthetic_data(w, b, num_examples):\n",
        "    \"\"\"\n",
        "    Generate y = Xw + b + noise.\n",
        "    Return features: shape (num_examples, w)\n",
        "    labels : shape (num_examples)\n",
        "    \"\"\"\n",
        "    X = torch.normal(mean=0, std=1, size=(num_examples, len(w)))\n",
        "    print (X.shape)\n",
        "    y = torch.matmul(X, w) + b\n",
        "    print (y.shape)\n",
        "    ### add noise\n",
        "    y += torch.normal(mean=0, std=0.01, size=y.shape)\n",
        "    return X, y.reshape((-1, 1))\n",
        "\n",
        "true_w = torch.tensor([2, -3.4])\n",
        "true_b = 4.2\n",
        "features, labels = synthetic_data(true_w, true_b, 1000)\n",
        "print (features.shape, labels.shape)"
      ],
      "execution_count": 204,
      "outputs": [
        {
          "output_type": "stream",
          "text": [
            "torch.Size([1000, 2])\n",
            "torch.Size([1000])\n",
            "torch.Size([1000, 2]) torch.Size([1000, 1])\n"
          ],
          "name": "stdout"
        }
      ]
    },
    {
      "cell_type": "markdown",
      "metadata": {
        "id": "MMfJfBLevkd_"
      },
      "source": [
        "By generating a scatter plot using the second feature features[:, 1] and labels, we can clearly observe the linear correlation between the two.\n",
        "\n"
      ]
    },
    {
      "cell_type": "code",
      "metadata": {
        "colab": {
          "base_uri": "https://localhost:8080/",
          "height": 244
        },
        "id": "LxKt8BD-qc0L",
        "outputId": "10accf95-3246-4351-f65e-318d2fdb5db5"
      },
      "source": [
        "d2l.set_figsize()\n",
        "# The semicolon is for displaying the plot only\n",
        "d2l.plt.scatter(features[:, (1)].detach().numpy(),\n",
        "                labels.detach().numpy(), 1);\n"
      ],
      "execution_count": 205,
      "outputs": [
        {
          "output_type": "display_data",
          "data": {
            "text/plain": [
              "<Figure size 252x180 with 1 Axes>"
            ],
            "image/svg+xml": "<?xml version=\"1.0\" encoding=\"utf-8\" standalone=\"no\"?>\n<!DOCTYPE svg PUBLIC \"-//W3C//DTD SVG 1.1//EN\"\n  \"http://www.w3.org/Graphics/SVG/1.1/DTD/svg11.dtd\">\n<!-- Created with matplotlib (https://matplotlib.org/) -->\n<svg height=\"166.978125pt\" version=\"1.1\" viewBox=\"0 0 231.442187 166.978125\" width=\"231.442187pt\" xmlns=\"http://www.w3.org/2000/svg\" xmlns:xlink=\"http://www.w3.org/1999/xlink\">\n <defs>\n  <style type=\"text/css\">\n*{stroke-linecap:butt;stroke-linejoin:round;}\n  </style>\n </defs>\n <g id=\"figure_1\">\n  <g id=\"patch_1\">\n   <path d=\"M 0 166.978125 \nL 231.442187 166.978125 \nL 231.442187 0 \nL 0 0 \nz\n\" style=\"fill:none;\"/>\n  </g>\n  <g id=\"axes_1\">\n   <g id=\"patch_2\">\n    <path d=\"M 28.942188 143.1 \nL 224.242188 143.1 \nL 224.242188 7.2 \nL 28.942188 7.2 \nz\n\" style=\"fill:#ffffff;\"/>\n   </g>\n   <g id=\"PathCollection_1\">\n    <defs>\n     <path d=\"M 0 0.5 \nC 0.132602 0.5 0.25979 0.447317 0.353553 0.353553 \nC 0.447317 0.25979 0.5 0.132602 0.5 0 \nC 0.5 -0.132602 0.447317 -0.25979 0.353553 -0.353553 \nC 0.25979 -0.447317 0.132602 -0.5 0 -0.5 \nC -0.132602 -0.5 -0.25979 -0.447317 -0.353553 -0.353553 \nC -0.447317 -0.25979 -0.5 -0.132602 -0.5 0 \nC -0.5 0.132602 -0.447317 0.25979 -0.353553 0.353553 \nC -0.25979 0.447317 -0.132602 0.5 0 0.5 \nz\n\" id=\"m5243c54434\" style=\"stroke:#1f77b4;\"/>\n    </defs>\n    <g clip-path=\"url(#p48c99e487a)\">\n     <use style=\"fill:#1f77b4;stroke:#1f77b4;\" x=\"187.333207\" xlink:href=\"#m5243c54434\" y=\"104.529899\"/>\n     <use style=\"fill:#1f77b4;stroke:#1f77b4;\" x=\"71.195974\" xlink:href=\"#m5243c54434\" y=\"18.191475\"/>\n     <use style=\"fill:#1f77b4;stroke:#1f77b4;\" x=\"112.778912\" xlink:href=\"#m5243c54434\" y=\"54.532538\"/>\n     <use style=\"fill:#1f77b4;stroke:#1f77b4;\" x=\"100.515553\" xlink:href=\"#m5243c54434\" y=\"70.808966\"/>\n     <use style=\"fill:#1f77b4;stroke:#1f77b4;\" x=\"118.922469\" xlink:href=\"#m5243c54434\" y=\"74.843894\"/>\n     <use style=\"fill:#1f77b4;stroke:#1f77b4;\" x=\"120.878219\" xlink:href=\"#m5243c54434\" y=\"75.599908\"/>\n     <use style=\"fill:#1f77b4;stroke:#1f77b4;\" x=\"119.389418\" xlink:href=\"#m5243c54434\" y=\"97.848838\"/>\n     <use style=\"fill:#1f77b4;stroke:#1f77b4;\" x=\"154.346113\" xlink:href=\"#m5243c54434\" y=\"112.192344\"/>\n     <use style=\"fill:#1f77b4;stroke:#1f77b4;\" x=\"162.338198\" xlink:href=\"#m5243c54434\" y=\"100.53745\"/>\n     <use style=\"fill:#1f77b4;stroke:#1f77b4;\" x=\"142.772852\" xlink:href=\"#m5243c54434\" y=\"110.511273\"/>\n     <use style=\"fill:#1f77b4;stroke:#1f77b4;\" x=\"139.473323\" xlink:href=\"#m5243c54434\" y=\"98.642012\"/>\n     <use style=\"fill:#1f77b4;stroke:#1f77b4;\" x=\"118.110731\" xlink:href=\"#m5243c54434\" y=\"73.894681\"/>\n     <use style=\"fill:#1f77b4;stroke:#1f77b4;\" x=\"128.397588\" xlink:href=\"#m5243c54434\" y=\"91.009836\"/>\n     <use style=\"fill:#1f77b4;stroke:#1f77b4;\" x=\"108.614472\" xlink:href=\"#m5243c54434\" y=\"60.033872\"/>\n     <use style=\"fill:#1f77b4;stroke:#1f77b4;\" x=\"122.008617\" xlink:href=\"#m5243c54434\" y=\"84.117463\"/>\n     <use style=\"fill:#1f77b4;stroke:#1f77b4;\" x=\"102.81363\" xlink:href=\"#m5243c54434\" y=\"54.758848\"/>\n     <use style=\"fill:#1f77b4;stroke:#1f77b4;\" x=\"133.503968\" xlink:href=\"#m5243c54434\" y=\"86.61926\"/>\n     <use style=\"fill:#1f77b4;stroke:#1f77b4;\" x=\"142.16608\" xlink:href=\"#m5243c54434\" y=\"78.250267\"/>\n     <use style=\"fill:#1f77b4;stroke:#1f77b4;\" x=\"100.482482\" xlink:href=\"#m5243c54434\" y=\"56.858768\"/>\n     <use style=\"fill:#1f77b4;stroke:#1f77b4;\" x=\"98.058405\" xlink:href=\"#m5243c54434\" y=\"73.404649\"/>\n     <use style=\"fill:#1f77b4;stroke:#1f77b4;\" x=\"116.49399\" xlink:href=\"#m5243c54434\" y=\"76.199911\"/>\n     <use style=\"fill:#1f77b4;stroke:#1f77b4;\" x=\"147.152242\" xlink:href=\"#m5243c54434\" y=\"103.388161\"/>\n     <use style=\"fill:#1f77b4;stroke:#1f77b4;\" x=\"135.786717\" xlink:href=\"#m5243c54434\" y=\"70.159951\"/>\n     <use style=\"fill:#1f77b4;stroke:#1f77b4;\" x=\"156.382251\" xlink:href=\"#m5243c54434\" y=\"108.287952\"/>\n     <use style=\"fill:#1f77b4;stroke:#1f77b4;\" x=\"151.730667\" xlink:href=\"#m5243c54434\" y=\"78.276982\"/>\n     <use style=\"fill:#1f77b4;stroke:#1f77b4;\" x=\"88.933786\" xlink:href=\"#m5243c54434\" y=\"49.339575\"/>\n     <use style=\"fill:#1f77b4;stroke:#1f77b4;\" x=\"118.198404\" xlink:href=\"#m5243c54434\" y=\"85.834493\"/>\n     <use style=\"fill:#1f77b4;stroke:#1f77b4;\" x=\"121.59665\" xlink:href=\"#m5243c54434\" y=\"70.022007\"/>\n     <use style=\"fill:#1f77b4;stroke:#1f77b4;\" x=\"119.313053\" xlink:href=\"#m5243c54434\" y=\"67.262845\"/>\n     <use style=\"fill:#1f77b4;stroke:#1f77b4;\" x=\"117.946659\" xlink:href=\"#m5243c54434\" y=\"92.710789\"/>\n     <use style=\"fill:#1f77b4;stroke:#1f77b4;\" x=\"76.805002\" xlink:href=\"#m5243c54434\" y=\"42.087081\"/>\n     <use style=\"fill:#1f77b4;stroke:#1f77b4;\" x=\"132.522398\" xlink:href=\"#m5243c54434\" y=\"82.696126\"/>\n     <use style=\"fill:#1f77b4;stroke:#1f77b4;\" x=\"158.7282\" xlink:href=\"#m5243c54434\" y=\"91.560854\"/>\n     <use style=\"fill:#1f77b4;stroke:#1f77b4;\" x=\"108.427869\" xlink:href=\"#m5243c54434\" y=\"58.569283\"/>\n     <use style=\"fill:#1f77b4;stroke:#1f77b4;\" x=\"151.07821\" xlink:href=\"#m5243c54434\" y=\"94.326695\"/>\n     <use style=\"fill:#1f77b4;stroke:#1f77b4;\" x=\"79.773746\" xlink:href=\"#m5243c54434\" y=\"34.177837\"/>\n     <use style=\"fill:#1f77b4;stroke:#1f77b4;\" x=\"161.880503\" xlink:href=\"#m5243c54434\" y=\"98.760469\"/>\n     <use style=\"fill:#1f77b4;stroke:#1f77b4;\" x=\"125.302667\" xlink:href=\"#m5243c54434\" y=\"62.602355\"/>\n     <use style=\"fill:#1f77b4;stroke:#1f77b4;\" x=\"86.583352\" xlink:href=\"#m5243c54434\" y=\"62.620944\"/>\n     <use style=\"fill:#1f77b4;stroke:#1f77b4;\" x=\"155.728073\" xlink:href=\"#m5243c54434\" y=\"97.724956\"/>\n     <use style=\"fill:#1f77b4;stroke:#1f77b4;\" x=\"89.782968\" xlink:href=\"#m5243c54434\" y=\"48.842261\"/>\n     <use style=\"fill:#1f77b4;stroke:#1f77b4;\" x=\"94.192425\" xlink:href=\"#m5243c54434\" y=\"75.023574\"/>\n     <use style=\"fill:#1f77b4;stroke:#1f77b4;\" x=\"121.215884\" xlink:href=\"#m5243c54434\" y=\"68.141083\"/>\n     <use style=\"fill:#1f77b4;stroke:#1f77b4;\" x=\"215.364915\" xlink:href=\"#m5243c54434\" y=\"136.922727\"/>\n     <use style=\"fill:#1f77b4;stroke:#1f77b4;\" x=\"142.141387\" xlink:href=\"#m5243c54434\" y=\"98.437078\"/>\n     <use style=\"fill:#1f77b4;stroke:#1f77b4;\" x=\"120.945234\" xlink:href=\"#m5243c54434\" y=\"75.726389\"/>\n     <use style=\"fill:#1f77b4;stroke:#1f77b4;\" x=\"105.864312\" xlink:href=\"#m5243c54434\" y=\"96.267933\"/>\n     <use style=\"fill:#1f77b4;stroke:#1f77b4;\" x=\"109.802437\" xlink:href=\"#m5243c54434\" y=\"64.564195\"/>\n     <use style=\"fill:#1f77b4;stroke:#1f77b4;\" x=\"145.819053\" xlink:href=\"#m5243c54434\" y=\"107.182785\"/>\n     <use style=\"fill:#1f77b4;stroke:#1f77b4;\" x=\"121.747149\" xlink:href=\"#m5243c54434\" y=\"80.172503\"/>\n     <use style=\"fill:#1f77b4;stroke:#1f77b4;\" x=\"110.01364\" xlink:href=\"#m5243c54434\" y=\"70.54562\"/>\n     <use style=\"fill:#1f77b4;stroke:#1f77b4;\" x=\"116.426668\" xlink:href=\"#m5243c54434\" y=\"57.153782\"/>\n     <use style=\"fill:#1f77b4;stroke:#1f77b4;\" x=\"157.287761\" xlink:href=\"#m5243c54434\" y=\"121.351838\"/>\n     <use style=\"fill:#1f77b4;stroke:#1f77b4;\" x=\"122.535056\" xlink:href=\"#m5243c54434\" y=\"74.067739\"/>\n     <use style=\"fill:#1f77b4;stroke:#1f77b4;\" x=\"190.539201\" xlink:href=\"#m5243c54434\" y=\"120.063013\"/>\n     <use style=\"fill:#1f77b4;stroke:#1f77b4;\" x=\"173.736873\" xlink:href=\"#m5243c54434\" y=\"118.321023\"/>\n     <use style=\"fill:#1f77b4;stroke:#1f77b4;\" x=\"134.310132\" xlink:href=\"#m5243c54434\" y=\"83.6201\"/>\n     <use style=\"fill:#1f77b4;stroke:#1f77b4;\" x=\"146.820465\" xlink:href=\"#m5243c54434\" y=\"77.31913\"/>\n     <use style=\"fill:#1f77b4;stroke:#1f77b4;\" x=\"120.684976\" xlink:href=\"#m5243c54434\" y=\"69.480751\"/>\n     <use style=\"fill:#1f77b4;stroke:#1f77b4;\" x=\"56.464226\" xlink:href=\"#m5243c54434\" y=\"38.204314\"/>\n     <use style=\"fill:#1f77b4;stroke:#1f77b4;\" x=\"186.64137\" xlink:href=\"#m5243c54434\" y=\"122.192532\"/>\n     <use style=\"fill:#1f77b4;stroke:#1f77b4;\" x=\"163.727898\" xlink:href=\"#m5243c54434\" y=\"108.084603\"/>\n     <use style=\"fill:#1f77b4;stroke:#1f77b4;\" x=\"99.583558\" xlink:href=\"#m5243c54434\" y=\"74.938937\"/>\n     <use style=\"fill:#1f77b4;stroke:#1f77b4;\" x=\"155.671344\" xlink:href=\"#m5243c54434\" y=\"108.783947\"/>\n     <use style=\"fill:#1f77b4;stroke:#1f77b4;\" x=\"124.155269\" xlink:href=\"#m5243c54434\" y=\"74.660757\"/>\n     <use style=\"fill:#1f77b4;stroke:#1f77b4;\" x=\"118.641722\" xlink:href=\"#m5243c54434\" y=\"81.541766\"/>\n     <use style=\"fill:#1f77b4;stroke:#1f77b4;\" x=\"124.480859\" xlink:href=\"#m5243c54434\" y=\"70.622399\"/>\n     <use style=\"fill:#1f77b4;stroke:#1f77b4;\" x=\"110.685992\" xlink:href=\"#m5243c54434\" y=\"68.962612\"/>\n     <use style=\"fill:#1f77b4;stroke:#1f77b4;\" x=\"141.348664\" xlink:href=\"#m5243c54434\" y=\"98.178406\"/>\n     <use style=\"fill:#1f77b4;stroke:#1f77b4;\" x=\"117.442574\" xlink:href=\"#m5243c54434\" y=\"66.927471\"/>\n     <use style=\"fill:#1f77b4;stroke:#1f77b4;\" x=\"165.003143\" xlink:href=\"#m5243c54434\" y=\"88.51062\"/>\n     <use style=\"fill:#1f77b4;stroke:#1f77b4;\" x=\"131.3383\" xlink:href=\"#m5243c54434\" y=\"93.711921\"/>\n     <use style=\"fill:#1f77b4;stroke:#1f77b4;\" x=\"114.815379\" xlink:href=\"#m5243c54434\" y=\"59.528886\"/>\n     <use style=\"fill:#1f77b4;stroke:#1f77b4;\" x=\"142.48875\" xlink:href=\"#m5243c54434\" y=\"84.016407\"/>\n     <use style=\"fill:#1f77b4;stroke:#1f77b4;\" x=\"98.955911\" xlink:href=\"#m5243c54434\" y=\"72.988972\"/>\n     <use style=\"fill:#1f77b4;stroke:#1f77b4;\" x=\"140.713713\" xlink:href=\"#m5243c54434\" y=\"98.14386\"/>\n     <use style=\"fill:#1f77b4;stroke:#1f77b4;\" x=\"101.4699\" xlink:href=\"#m5243c54434\" y=\"66.208894\"/>\n     <use style=\"fill:#1f77b4;stroke:#1f77b4;\" x=\"129.825817\" xlink:href=\"#m5243c54434\" y=\"93.845125\"/>\n     <use style=\"fill:#1f77b4;stroke:#1f77b4;\" x=\"100.973333\" xlink:href=\"#m5243c54434\" y=\"62.958537\"/>\n     <use style=\"fill:#1f77b4;stroke:#1f77b4;\" x=\"113.035566\" xlink:href=\"#m5243c54434\" y=\"73.507485\"/>\n     <use style=\"fill:#1f77b4;stroke:#1f77b4;\" x=\"96.913642\" xlink:href=\"#m5243c54434\" y=\"51.988399\"/>\n     <use style=\"fill:#1f77b4;stroke:#1f77b4;\" x=\"151.019721\" xlink:href=\"#m5243c54434\" y=\"94.016098\"/>\n     <use style=\"fill:#1f77b4;stroke:#1f77b4;\" x=\"126.904054\" xlink:href=\"#m5243c54434\" y=\"88.021524\"/>\n     <use style=\"fill:#1f77b4;stroke:#1f77b4;\" x=\"81.845987\" xlink:href=\"#m5243c54434\" y=\"50.402834\"/>\n     <use style=\"fill:#1f77b4;stroke:#1f77b4;\" x=\"133.92585\" xlink:href=\"#m5243c54434\" y=\"61.533108\"/>\n     <use style=\"fill:#1f77b4;stroke:#1f77b4;\" x=\"146.475528\" xlink:href=\"#m5243c54434\" y=\"88.337924\"/>\n     <use style=\"fill:#1f77b4;stroke:#1f77b4;\" x=\"135.72722\" xlink:href=\"#m5243c54434\" y=\"86.764659\"/>\n     <use style=\"fill:#1f77b4;stroke:#1f77b4;\" x=\"116.683452\" xlink:href=\"#m5243c54434\" y=\"68.013574\"/>\n     <use style=\"fill:#1f77b4;stroke:#1f77b4;\" x=\"135.836879\" xlink:href=\"#m5243c54434\" y=\"91.133239\"/>\n     <use style=\"fill:#1f77b4;stroke:#1f77b4;\" x=\"145.057678\" xlink:href=\"#m5243c54434\" y=\"85.675727\"/>\n     <use style=\"fill:#1f77b4;stroke:#1f77b4;\" x=\"156.732902\" xlink:href=\"#m5243c54434\" y=\"125.343141\"/>\n     <use style=\"fill:#1f77b4;stroke:#1f77b4;\" x=\"92.094634\" xlink:href=\"#m5243c54434\" y=\"81.598395\"/>\n     <use style=\"fill:#1f77b4;stroke:#1f77b4;\" x=\"83.976506\" xlink:href=\"#m5243c54434\" y=\"48.072171\"/>\n     <use style=\"fill:#1f77b4;stroke:#1f77b4;\" x=\"124.164205\" xlink:href=\"#m5243c54434\" y=\"77.440598\"/>\n     <use style=\"fill:#1f77b4;stroke:#1f77b4;\" x=\"109.734463\" xlink:href=\"#m5243c54434\" y=\"74.295433\"/>\n     <use style=\"fill:#1f77b4;stroke:#1f77b4;\" x=\"166.010315\" xlink:href=\"#m5243c54434\" y=\"124.548815\"/>\n     <use style=\"fill:#1f77b4;stroke:#1f77b4;\" x=\"124.215611\" xlink:href=\"#m5243c54434\" y=\"46.049972\"/>\n     <use style=\"fill:#1f77b4;stroke:#1f77b4;\" x=\"105.200233\" xlink:href=\"#m5243c54434\" y=\"54.936798\"/>\n     <use style=\"fill:#1f77b4;stroke:#1f77b4;\" x=\"135.71593\" xlink:href=\"#m5243c54434\" y=\"91.43582\"/>\n     <use style=\"fill:#1f77b4;stroke:#1f77b4;\" x=\"121.683598\" xlink:href=\"#m5243c54434\" y=\"77.881287\"/>\n     <use style=\"fill:#1f77b4;stroke:#1f77b4;\" x=\"83.266966\" xlink:href=\"#m5243c54434\" y=\"50.300987\"/>\n     <use style=\"fill:#1f77b4;stroke:#1f77b4;\" x=\"76.070734\" xlink:href=\"#m5243c54434\" y=\"33.270857\"/>\n     <use style=\"fill:#1f77b4;stroke:#1f77b4;\" x=\"44.379449\" xlink:href=\"#m5243c54434\" y=\"16.730797\"/>\n     <use style=\"fill:#1f77b4;stroke:#1f77b4;\" x=\"175.927387\" xlink:href=\"#m5243c54434\" y=\"103.114165\"/>\n     <use style=\"fill:#1f77b4;stroke:#1f77b4;\" x=\"103.044393\" xlink:href=\"#m5243c54434\" y=\"87.251624\"/>\n     <use style=\"fill:#1f77b4;stroke:#1f77b4;\" x=\"102.925639\" xlink:href=\"#m5243c54434\" y=\"62.842911\"/>\n     <use style=\"fill:#1f77b4;stroke:#1f77b4;\" x=\"115.001695\" xlink:href=\"#m5243c54434\" y=\"70.675972\"/>\n     <use style=\"fill:#1f77b4;stroke:#1f77b4;\" x=\"135.91275\" xlink:href=\"#m5243c54434\" y=\"82.445563\"/>\n     <use style=\"fill:#1f77b4;stroke:#1f77b4;\" x=\"112.662484\" xlink:href=\"#m5243c54434\" y=\"66.6784\"/>\n     <use style=\"fill:#1f77b4;stroke:#1f77b4;\" x=\"130.623958\" xlink:href=\"#m5243c54434\" y=\"75.693729\"/>\n     <use style=\"fill:#1f77b4;stroke:#1f77b4;\" x=\"126.573358\" xlink:href=\"#m5243c54434\" y=\"65.200239\"/>\n     <use style=\"fill:#1f77b4;stroke:#1f77b4;\" x=\"205.810915\" xlink:href=\"#m5243c54434\" y=\"121.699484\"/>\n     <use style=\"fill:#1f77b4;stroke:#1f77b4;\" x=\"60.735537\" xlink:href=\"#m5243c54434\" y=\"24.920253\"/>\n     <use style=\"fill:#1f77b4;stroke:#1f77b4;\" x=\"122.577674\" xlink:href=\"#m5243c54434\" y=\"73.60265\"/>\n     <use style=\"fill:#1f77b4;stroke:#1f77b4;\" x=\"77.652533\" xlink:href=\"#m5243c54434\" y=\"53.707554\"/>\n     <use style=\"fill:#1f77b4;stroke:#1f77b4;\" x=\"136.385213\" xlink:href=\"#m5243c54434\" y=\"78.213295\"/>\n     <use style=\"fill:#1f77b4;stroke:#1f77b4;\" x=\"125.318678\" xlink:href=\"#m5243c54434\" y=\"70.225065\"/>\n     <use style=\"fill:#1f77b4;stroke:#1f77b4;\" x=\"142.283699\" xlink:href=\"#m5243c54434\" y=\"78.590177\"/>\n     <use style=\"fill:#1f77b4;stroke:#1f77b4;\" x=\"92.606357\" xlink:href=\"#m5243c54434\" y=\"61.926623\"/>\n     <use style=\"fill:#1f77b4;stroke:#1f77b4;\" x=\"119.940781\" xlink:href=\"#m5243c54434\" y=\"67.7917\"/>\n     <use style=\"fill:#1f77b4;stroke:#1f77b4;\" x=\"97.778222\" xlink:href=\"#m5243c54434\" y=\"75.828486\"/>\n     <use style=\"fill:#1f77b4;stroke:#1f77b4;\" x=\"117.640691\" xlink:href=\"#m5243c54434\" y=\"76.592076\"/>\n     <use style=\"fill:#1f77b4;stroke:#1f77b4;\" x=\"139.069\" xlink:href=\"#m5243c54434\" y=\"84.686873\"/>\n     <use style=\"fill:#1f77b4;stroke:#1f77b4;\" x=\"122.566064\" xlink:href=\"#m5243c54434\" y=\"56.916785\"/>\n     <use style=\"fill:#1f77b4;stroke:#1f77b4;\" x=\"134.32954\" xlink:href=\"#m5243c54434\" y=\"97.753333\"/>\n     <use style=\"fill:#1f77b4;stroke:#1f77b4;\" x=\"84.306711\" xlink:href=\"#m5243c54434\" y=\"41.049646\"/>\n     <use style=\"fill:#1f77b4;stroke:#1f77b4;\" x=\"111.524459\" xlink:href=\"#m5243c54434\" y=\"46.950422\"/>\n     <use style=\"fill:#1f77b4;stroke:#1f77b4;\" x=\"140.623783\" xlink:href=\"#m5243c54434\" y=\"87.946431\"/>\n     <use style=\"fill:#1f77b4;stroke:#1f77b4;\" x=\"144.756037\" xlink:href=\"#m5243c54434\" y=\"70.890102\"/>\n     <use style=\"fill:#1f77b4;stroke:#1f77b4;\" x=\"142.706411\" xlink:href=\"#m5243c54434\" y=\"93.255762\"/>\n     <use style=\"fill:#1f77b4;stroke:#1f77b4;\" x=\"141.16831\" xlink:href=\"#m5243c54434\" y=\"71.581854\"/>\n     <use style=\"fill:#1f77b4;stroke:#1f77b4;\" x=\"93.291174\" xlink:href=\"#m5243c54434\" y=\"48.675448\"/>\n     <use style=\"fill:#1f77b4;stroke:#1f77b4;\" x=\"174.255201\" xlink:href=\"#m5243c54434\" y=\"100.489963\"/>\n     <use style=\"fill:#1f77b4;stroke:#1f77b4;\" x=\"120.052216\" xlink:href=\"#m5243c54434\" y=\"77.152752\"/>\n     <use style=\"fill:#1f77b4;stroke:#1f77b4;\" x=\"121.668416\" xlink:href=\"#m5243c54434\" y=\"65.227895\"/>\n     <use style=\"fill:#1f77b4;stroke:#1f77b4;\" x=\"87.686544\" xlink:href=\"#m5243c54434\" y=\"64.171422\"/>\n     <use style=\"fill:#1f77b4;stroke:#1f77b4;\" x=\"87.572696\" xlink:href=\"#m5243c54434\" y=\"53.054909\"/>\n     <use style=\"fill:#1f77b4;stroke:#1f77b4;\" x=\"65.781899\" xlink:href=\"#m5243c54434\" y=\"30.245649\"/>\n     <use style=\"fill:#1f77b4;stroke:#1f77b4;\" x=\"124.887714\" xlink:href=\"#m5243c54434\" y=\"73.7454\"/>\n     <use style=\"fill:#1f77b4;stroke:#1f77b4;\" x=\"152.544778\" xlink:href=\"#m5243c54434\" y=\"90.032956\"/>\n     <use style=\"fill:#1f77b4;stroke:#1f77b4;\" x=\"144.056636\" xlink:href=\"#m5243c54434\" y=\"76.44301\"/>\n     <use style=\"fill:#1f77b4;stroke:#1f77b4;\" x=\"111.785351\" xlink:href=\"#m5243c54434\" y=\"77.234829\"/>\n     <use style=\"fill:#1f77b4;stroke:#1f77b4;\" x=\"118.941542\" xlink:href=\"#m5243c54434\" y=\"72.353896\"/>\n     <use style=\"fill:#1f77b4;stroke:#1f77b4;\" x=\"81.488032\" xlink:href=\"#m5243c54434\" y=\"47.856654\"/>\n     <use style=\"fill:#1f77b4;stroke:#1f77b4;\" x=\"48.628116\" xlink:href=\"#m5243c54434\" y=\"49.085771\"/>\n     <use style=\"fill:#1f77b4;stroke:#1f77b4;\" x=\"151.948462\" xlink:href=\"#m5243c54434\" y=\"90.319556\"/>\n     <use style=\"fill:#1f77b4;stroke:#1f77b4;\" x=\"107.164793\" xlink:href=\"#m5243c54434\" y=\"84.274906\"/>\n     <use style=\"fill:#1f77b4;stroke:#1f77b4;\" x=\"134.239568\" xlink:href=\"#m5243c54434\" y=\"74.935227\"/>\n     <use style=\"fill:#1f77b4;stroke:#1f77b4;\" x=\"154.396865\" xlink:href=\"#m5243c54434\" y=\"105.710965\"/>\n     <use style=\"fill:#1f77b4;stroke:#1f77b4;\" x=\"132.904359\" xlink:href=\"#m5243c54434\" y=\"69.348662\"/>\n     <use style=\"fill:#1f77b4;stroke:#1f77b4;\" x=\"127.027727\" xlink:href=\"#m5243c54434\" y=\"82.029596\"/>\n     <use style=\"fill:#1f77b4;stroke:#1f77b4;\" x=\"93.811121\" xlink:href=\"#m5243c54434\" y=\"25.143763\"/>\n     <use style=\"fill:#1f77b4;stroke:#1f77b4;\" x=\"102.350837\" xlink:href=\"#m5243c54434\" y=\"71.22469\"/>\n     <use style=\"fill:#1f77b4;stroke:#1f77b4;\" x=\"127.673573\" xlink:href=\"#m5243c54434\" y=\"81.93785\"/>\n     <use style=\"fill:#1f77b4;stroke:#1f77b4;\" x=\"101.973117\" xlink:href=\"#m5243c54434\" y=\"50.28847\"/>\n     <use style=\"fill:#1f77b4;stroke:#1f77b4;\" x=\"138.745136\" xlink:href=\"#m5243c54434\" y=\"108.001524\"/>\n     <use style=\"fill:#1f77b4;stroke:#1f77b4;\" x=\"92.567864\" xlink:href=\"#m5243c54434\" y=\"73.02329\"/>\n     <use style=\"fill:#1f77b4;stroke:#1f77b4;\" x=\"135.43923\" xlink:href=\"#m5243c54434\" y=\"68.919819\"/>\n     <use style=\"fill:#1f77b4;stroke:#1f77b4;\" x=\"136.545245\" xlink:href=\"#m5243c54434\" y=\"106.175612\"/>\n     <use style=\"fill:#1f77b4;stroke:#1f77b4;\" x=\"99.767591\" xlink:href=\"#m5243c54434\" y=\"55.350855\"/>\n     <use style=\"fill:#1f77b4;stroke:#1f77b4;\" x=\"120.298348\" xlink:href=\"#m5243c54434\" y=\"69.118451\"/>\n     <use style=\"fill:#1f77b4;stroke:#1f77b4;\" x=\"137.54048\" xlink:href=\"#m5243c54434\" y=\"77.476592\"/>\n     <use style=\"fill:#1f77b4;stroke:#1f77b4;\" x=\"97.62851\" xlink:href=\"#m5243c54434\" y=\"70.340077\"/>\n     <use style=\"fill:#1f77b4;stroke:#1f77b4;\" x=\"121.310791\" xlink:href=\"#m5243c54434\" y=\"76.374141\"/>\n     <use style=\"fill:#1f77b4;stroke:#1f77b4;\" x=\"89.374268\" xlink:href=\"#m5243c54434\" y=\"50.397838\"/>\n     <use style=\"fill:#1f77b4;stroke:#1f77b4;\" x=\"155.983982\" xlink:href=\"#m5243c54434\" y=\"98.8946\"/>\n     <use style=\"fill:#1f77b4;stroke:#1f77b4;\" x=\"133.445571\" xlink:href=\"#m5243c54434\" y=\"73.73933\"/>\n     <use style=\"fill:#1f77b4;stroke:#1f77b4;\" x=\"134.915762\" xlink:href=\"#m5243c54434\" y=\"69.601193\"/>\n     <use style=\"fill:#1f77b4;stroke:#1f77b4;\" x=\"147.339095\" xlink:href=\"#m5243c54434\" y=\"94.596008\"/>\n     <use style=\"fill:#1f77b4;stroke:#1f77b4;\" x=\"95.905361\" xlink:href=\"#m5243c54434\" y=\"74.181573\"/>\n     <use style=\"fill:#1f77b4;stroke:#1f77b4;\" x=\"108.976368\" xlink:href=\"#m5243c54434\" y=\"61.24226\"/>\n     <use style=\"fill:#1f77b4;stroke:#1f77b4;\" x=\"143.634077\" xlink:href=\"#m5243c54434\" y=\"84.867515\"/>\n     <use style=\"fill:#1f77b4;stroke:#1f77b4;\" x=\"96.988017\" xlink:href=\"#m5243c54434\" y=\"56.714639\"/>\n     <use style=\"fill:#1f77b4;stroke:#1f77b4;\" x=\"104.842073\" xlink:href=\"#m5243c54434\" y=\"79.575971\"/>\n     <use style=\"fill:#1f77b4;stroke:#1f77b4;\" x=\"76.078961\" xlink:href=\"#m5243c54434\" y=\"28.759641\"/>\n     <use style=\"fill:#1f77b4;stroke:#1f77b4;\" x=\"131.201761\" xlink:href=\"#m5243c54434\" y=\"89.826038\"/>\n     <use style=\"fill:#1f77b4;stroke:#1f77b4;\" x=\"143.115572\" xlink:href=\"#m5243c54434\" y=\"88.81584\"/>\n     <use style=\"fill:#1f77b4;stroke:#1f77b4;\" x=\"76.021912\" xlink:href=\"#m5243c54434\" y=\"32.164479\"/>\n     <use style=\"fill:#1f77b4;stroke:#1f77b4;\" x=\"133.922314\" xlink:href=\"#m5243c54434\" y=\"79.529596\"/>\n     <use style=\"fill:#1f77b4;stroke:#1f77b4;\" x=\"143.795442\" xlink:href=\"#m5243c54434\" y=\"99.625179\"/>\n     <use style=\"fill:#1f77b4;stroke:#1f77b4;\" x=\"91.85793\" xlink:href=\"#m5243c54434\" y=\"51.34869\"/>\n     <use style=\"fill:#1f77b4;stroke:#1f77b4;\" x=\"153.177479\" xlink:href=\"#m5243c54434\" y=\"104.866945\"/>\n     <use style=\"fill:#1f77b4;stroke:#1f77b4;\" x=\"103.100448\" xlink:href=\"#m5243c54434\" y=\"80.870897\"/>\n     <use style=\"fill:#1f77b4;stroke:#1f77b4;\" x=\"74.138131\" xlink:href=\"#m5243c54434\" y=\"49.879797\"/>\n     <use style=\"fill:#1f77b4;stroke:#1f77b4;\" x=\"153.572305\" xlink:href=\"#m5243c54434\" y=\"94.195711\"/>\n     <use style=\"fill:#1f77b4;stroke:#1f77b4;\" x=\"175.076034\" xlink:href=\"#m5243c54434\" y=\"99.823635\"/>\n     <use style=\"fill:#1f77b4;stroke:#1f77b4;\" x=\"151.726841\" xlink:href=\"#m5243c54434\" y=\"88.570052\"/>\n     <use style=\"fill:#1f77b4;stroke:#1f77b4;\" x=\"113.923737\" xlink:href=\"#m5243c54434\" y=\"84.406527\"/>\n     <use style=\"fill:#1f77b4;stroke:#1f77b4;\" x=\"171.818978\" xlink:href=\"#m5243c54434\" y=\"126.15945\"/>\n     <use style=\"fill:#1f77b4;stroke:#1f77b4;\" x=\"59.301756\" xlink:href=\"#m5243c54434\" y=\"46.930565\"/>\n     <use style=\"fill:#1f77b4;stroke:#1f77b4;\" x=\"142.033324\" xlink:href=\"#m5243c54434\" y=\"99.311175\"/>\n     <use style=\"fill:#1f77b4;stroke:#1f77b4;\" x=\"141.104566\" xlink:href=\"#m5243c54434\" y=\"84.089045\"/>\n     <use style=\"fill:#1f77b4;stroke:#1f77b4;\" x=\"124.94507\" xlink:href=\"#m5243c54434\" y=\"84.448465\"/>\n     <use style=\"fill:#1f77b4;stroke:#1f77b4;\" x=\"133.512286\" xlink:href=\"#m5243c54434\" y=\"69.345055\"/>\n     <use style=\"fill:#1f77b4;stroke:#1f77b4;\" x=\"133.943792\" xlink:href=\"#m5243c54434\" y=\"79.170053\"/>\n     <use style=\"fill:#1f77b4;stroke:#1f77b4;\" x=\"136.442076\" xlink:href=\"#m5243c54434\" y=\"91.934342\"/>\n     <use style=\"fill:#1f77b4;stroke:#1f77b4;\" x=\"144.343145\" xlink:href=\"#m5243c54434\" y=\"85.803485\"/>\n     <use style=\"fill:#1f77b4;stroke:#1f77b4;\" x=\"142.85704\" xlink:href=\"#m5243c54434\" y=\"81.090141\"/>\n     <use style=\"fill:#1f77b4;stroke:#1f77b4;\" x=\"144.154051\" xlink:href=\"#m5243c54434\" y=\"112.518033\"/>\n     <use style=\"fill:#1f77b4;stroke:#1f77b4;\" x=\"115.955204\" xlink:href=\"#m5243c54434\" y=\"58.223374\"/>\n     <use style=\"fill:#1f77b4;stroke:#1f77b4;\" x=\"99.433529\" xlink:href=\"#m5243c54434\" y=\"54.000945\"/>\n     <use style=\"fill:#1f77b4;stroke:#1f77b4;\" x=\"112.707003\" xlink:href=\"#m5243c54434\" y=\"61.881054\"/>\n     <use style=\"fill:#1f77b4;stroke:#1f77b4;\" x=\"103.431631\" xlink:href=\"#m5243c54434\" y=\"70.903698\"/>\n     <use style=\"fill:#1f77b4;stroke:#1f77b4;\" x=\"149.092484\" xlink:href=\"#m5243c54434\" y=\"90.643318\"/>\n     <use style=\"fill:#1f77b4;stroke:#1f77b4;\" x=\"106.174307\" xlink:href=\"#m5243c54434\" y=\"54.92784\"/>\n     <use style=\"fill:#1f77b4;stroke:#1f77b4;\" x=\"139.363488\" xlink:href=\"#m5243c54434\" y=\"79.390608\"/>\n     <use style=\"fill:#1f77b4;stroke:#1f77b4;\" x=\"144.050763\" xlink:href=\"#m5243c54434\" y=\"74.699914\"/>\n     <use style=\"fill:#1f77b4;stroke:#1f77b4;\" x=\"133.490848\" xlink:href=\"#m5243c54434\" y=\"86.921352\"/>\n     <use style=\"fill:#1f77b4;stroke:#1f77b4;\" x=\"100.411693\" xlink:href=\"#m5243c54434\" y=\"51.452118\"/>\n     <use style=\"fill:#1f77b4;stroke:#1f77b4;\" x=\"112.337728\" xlink:href=\"#m5243c54434\" y=\"55.664427\"/>\n     <use style=\"fill:#1f77b4;stroke:#1f77b4;\" x=\"150.350016\" xlink:href=\"#m5243c54434\" y=\"96.500357\"/>\n     <use style=\"fill:#1f77b4;stroke:#1f77b4;\" x=\"68.864963\" xlink:href=\"#m5243c54434\" y=\"36.182337\"/>\n     <use style=\"fill:#1f77b4;stroke:#1f77b4;\" x=\"133.403112\" xlink:href=\"#m5243c54434\" y=\"87.800731\"/>\n     <use style=\"fill:#1f77b4;stroke:#1f77b4;\" x=\"95.353553\" xlink:href=\"#m5243c54434\" y=\"70.148217\"/>\n     <use style=\"fill:#1f77b4;stroke:#1f77b4;\" x=\"164.048853\" xlink:href=\"#m5243c54434\" y=\"111.340741\"/>\n     <use style=\"fill:#1f77b4;stroke:#1f77b4;\" x=\"69.133902\" xlink:href=\"#m5243c54434\" y=\"29.50282\"/>\n     <use style=\"fill:#1f77b4;stroke:#1f77b4;\" x=\"123.750939\" xlink:href=\"#m5243c54434\" y=\"65.005741\"/>\n     <use style=\"fill:#1f77b4;stroke:#1f77b4;\" x=\"100.644636\" xlink:href=\"#m5243c54434\" y=\"64.231206\"/>\n     <use style=\"fill:#1f77b4;stroke:#1f77b4;\" x=\"111.211281\" xlink:href=\"#m5243c54434\" y=\"59.439335\"/>\n     <use style=\"fill:#1f77b4;stroke:#1f77b4;\" x=\"93.454718\" xlink:href=\"#m5243c54434\" y=\"40.82987\"/>\n     <use style=\"fill:#1f77b4;stroke:#1f77b4;\" x=\"119.586482\" xlink:href=\"#m5243c54434\" y=\"100.969261\"/>\n     <use style=\"fill:#1f77b4;stroke:#1f77b4;\" x=\"135.806773\" xlink:href=\"#m5243c54434\" y=\"87.989825\"/>\n     <use style=\"fill:#1f77b4;stroke:#1f77b4;\" x=\"116.539645\" xlink:href=\"#m5243c54434\" y=\"64.10071\"/>\n     <use style=\"fill:#1f77b4;stroke:#1f77b4;\" x=\"133.510356\" xlink:href=\"#m5243c54434\" y=\"91.992772\"/>\n     <use style=\"fill:#1f77b4;stroke:#1f77b4;\" x=\"86.112956\" xlink:href=\"#m5243c54434\" y=\"40.31299\"/>\n     <use style=\"fill:#1f77b4;stroke:#1f77b4;\" x=\"85.117774\" xlink:href=\"#m5243c54434\" y=\"60.293824\"/>\n     <use style=\"fill:#1f77b4;stroke:#1f77b4;\" x=\"112.801056\" xlink:href=\"#m5243c54434\" y=\"65.561242\"/>\n     <use style=\"fill:#1f77b4;stroke:#1f77b4;\" x=\"133.105087\" xlink:href=\"#m5243c54434\" y=\"77.517621\"/>\n     <use style=\"fill:#1f77b4;stroke:#1f77b4;\" x=\"136.633354\" xlink:href=\"#m5243c54434\" y=\"71.661261\"/>\n     <use style=\"fill:#1f77b4;stroke:#1f77b4;\" x=\"143.477833\" xlink:href=\"#m5243c54434\" y=\"98.036379\"/>\n     <use style=\"fill:#1f77b4;stroke:#1f77b4;\" x=\"111.4273\" xlink:href=\"#m5243c54434\" y=\"67.880434\"/>\n     <use style=\"fill:#1f77b4;stroke:#1f77b4;\" x=\"113.49169\" xlink:href=\"#m5243c54434\" y=\"62.55853\"/>\n     <use style=\"fill:#1f77b4;stroke:#1f77b4;\" x=\"104.181286\" xlink:href=\"#m5243c54434\" y=\"53.997774\"/>\n     <use style=\"fill:#1f77b4;stroke:#1f77b4;\" x=\"106.812853\" xlink:href=\"#m5243c54434\" y=\"79.273765\"/>\n     <use style=\"fill:#1f77b4;stroke:#1f77b4;\" x=\"134.332884\" xlink:href=\"#m5243c54434\" y=\"79.575051\"/>\n     <use style=\"fill:#1f77b4;stroke:#1f77b4;\" x=\"80.245052\" xlink:href=\"#m5243c54434\" y=\"36.646599\"/>\n     <use style=\"fill:#1f77b4;stroke:#1f77b4;\" x=\"145.297825\" xlink:href=\"#m5243c54434\" y=\"77.285183\"/>\n     <use style=\"fill:#1f77b4;stroke:#1f77b4;\" x=\"98.354525\" xlink:href=\"#m5243c54434\" y=\"45.442483\"/>\n     <use style=\"fill:#1f77b4;stroke:#1f77b4;\" x=\"132.374909\" xlink:href=\"#m5243c54434\" y=\"90.101245\"/>\n     <use style=\"fill:#1f77b4;stroke:#1f77b4;\" x=\"129.22701\" xlink:href=\"#m5243c54434\" y=\"67.398702\"/>\n     <use style=\"fill:#1f77b4;stroke:#1f77b4;\" x=\"185.261965\" xlink:href=\"#m5243c54434\" y=\"114.191208\"/>\n     <use style=\"fill:#1f77b4;stroke:#1f77b4;\" x=\"103.636471\" xlink:href=\"#m5243c54434\" y=\"46.031133\"/>\n     <use style=\"fill:#1f77b4;stroke:#1f77b4;\" x=\"100.479439\" xlink:href=\"#m5243c54434\" y=\"77.106638\"/>\n     <use style=\"fill:#1f77b4;stroke:#1f77b4;\" x=\"134.066832\" xlink:href=\"#m5243c54434\" y=\"74.054148\"/>\n     <use style=\"fill:#1f77b4;stroke:#1f77b4;\" x=\"124.716662\" xlink:href=\"#m5243c54434\" y=\"77.079078\"/>\n     <use style=\"fill:#1f77b4;stroke:#1f77b4;\" x=\"105.600541\" xlink:href=\"#m5243c54434\" y=\"74.656707\"/>\n     <use style=\"fill:#1f77b4;stroke:#1f77b4;\" x=\"101.829558\" xlink:href=\"#m5243c54434\" y=\"65.526076\"/>\n     <use style=\"fill:#1f77b4;stroke:#1f77b4;\" x=\"101.831712\" xlink:href=\"#m5243c54434\" y=\"66.457858\"/>\n     <use style=\"fill:#1f77b4;stroke:#1f77b4;\" x=\"94.969843\" xlink:href=\"#m5243c54434\" y=\"48.626097\"/>\n     <use style=\"fill:#1f77b4;stroke:#1f77b4;\" x=\"184.652655\" xlink:href=\"#m5243c54434\" y=\"104.990248\"/>\n     <use style=\"fill:#1f77b4;stroke:#1f77b4;\" x=\"145.960812\" xlink:href=\"#m5243c54434\" y=\"83.073814\"/>\n     <use style=\"fill:#1f77b4;stroke:#1f77b4;\" x=\"132.848123\" xlink:href=\"#m5243c54434\" y=\"98.733634\"/>\n     <use style=\"fill:#1f77b4;stroke:#1f77b4;\" x=\"91.537002\" xlink:href=\"#m5243c54434\" y=\"67.827309\"/>\n     <use style=\"fill:#1f77b4;stroke:#1f77b4;\" x=\"127.011476\" xlink:href=\"#m5243c54434\" y=\"93.268205\"/>\n     <use style=\"fill:#1f77b4;stroke:#1f77b4;\" x=\"145.763747\" xlink:href=\"#m5243c54434\" y=\"64.134066\"/>\n     <use style=\"fill:#1f77b4;stroke:#1f77b4;\" x=\"102.277279\" xlink:href=\"#m5243c54434\" y=\"65.284924\"/>\n     <use style=\"fill:#1f77b4;stroke:#1f77b4;\" x=\"127.430469\" xlink:href=\"#m5243c54434\" y=\"75.249367\"/>\n     <use style=\"fill:#1f77b4;stroke:#1f77b4;\" x=\"80.928099\" xlink:href=\"#m5243c54434\" y=\"30.494071\"/>\n     <use style=\"fill:#1f77b4;stroke:#1f77b4;\" x=\"78.743\" xlink:href=\"#m5243c54434\" y=\"42.086476\"/>\n     <use style=\"fill:#1f77b4;stroke:#1f77b4;\" x=\"159.638023\" xlink:href=\"#m5243c54434\" y=\"96.234813\"/>\n     <use style=\"fill:#1f77b4;stroke:#1f77b4;\" x=\"118.249206\" xlink:href=\"#m5243c54434\" y=\"52.732925\"/>\n     <use style=\"fill:#1f77b4;stroke:#1f77b4;\" x=\"182.648245\" xlink:href=\"#m5243c54434\" y=\"121.527842\"/>\n     <use style=\"fill:#1f77b4;stroke:#1f77b4;\" x=\"139.471154\" xlink:href=\"#m5243c54434\" y=\"82.849923\"/>\n     <use style=\"fill:#1f77b4;stroke:#1f77b4;\" x=\"123.837097\" xlink:href=\"#m5243c54434\" y=\"74.104833\"/>\n     <use style=\"fill:#1f77b4;stroke:#1f77b4;\" x=\"132.659073\" xlink:href=\"#m5243c54434\" y=\"63.854016\"/>\n     <use style=\"fill:#1f77b4;stroke:#1f77b4;\" x=\"122.262079\" xlink:href=\"#m5243c54434\" y=\"74.017523\"/>\n     <use style=\"fill:#1f77b4;stroke:#1f77b4;\" x=\"132.862319\" xlink:href=\"#m5243c54434\" y=\"103.585154\"/>\n     <use style=\"fill:#1f77b4;stroke:#1f77b4;\" x=\"114.082447\" xlink:href=\"#m5243c54434\" y=\"49.620954\"/>\n     <use style=\"fill:#1f77b4;stroke:#1f77b4;\" x=\"131.126971\" xlink:href=\"#m5243c54434\" y=\"76.504369\"/>\n     <use style=\"fill:#1f77b4;stroke:#1f77b4;\" x=\"87.690214\" xlink:href=\"#m5243c54434\" y=\"50.462798\"/>\n     <use style=\"fill:#1f77b4;stroke:#1f77b4;\" x=\"139.769484\" xlink:href=\"#m5243c54434\" y=\"88.810546\"/>\n     <use style=\"fill:#1f77b4;stroke:#1f77b4;\" x=\"153.258278\" xlink:href=\"#m5243c54434\" y=\"78.375252\"/>\n     <use style=\"fill:#1f77b4;stroke:#1f77b4;\" x=\"129.098751\" xlink:href=\"#m5243c54434\" y=\"93.274681\"/>\n     <use style=\"fill:#1f77b4;stroke:#1f77b4;\" x=\"120.908651\" xlink:href=\"#m5243c54434\" y=\"83.370285\"/>\n     <use style=\"fill:#1f77b4;stroke:#1f77b4;\" x=\"154.400161\" xlink:href=\"#m5243c54434\" y=\"93.96342\"/>\n     <use style=\"fill:#1f77b4;stroke:#1f77b4;\" x=\"135.690795\" xlink:href=\"#m5243c54434\" y=\"90.384483\"/>\n     <use style=\"fill:#1f77b4;stroke:#1f77b4;\" x=\"149.059495\" xlink:href=\"#m5243c54434\" y=\"95.668313\"/>\n     <use style=\"fill:#1f77b4;stroke:#1f77b4;\" x=\"52.735221\" xlink:href=\"#m5243c54434\" y=\"19.260839\"/>\n     <use style=\"fill:#1f77b4;stroke:#1f77b4;\" x=\"53.737148\" xlink:href=\"#m5243c54434\" y=\"13.377273\"/>\n     <use style=\"fill:#1f77b4;stroke:#1f77b4;\" x=\"167.334706\" xlink:href=\"#m5243c54434\" y=\"103.651131\"/>\n     <use style=\"fill:#1f77b4;stroke:#1f77b4;\" x=\"147.308189\" xlink:href=\"#m5243c54434\" y=\"86.592098\"/>\n     <use style=\"fill:#1f77b4;stroke:#1f77b4;\" x=\"123.665006\" xlink:href=\"#m5243c54434\" y=\"79.843898\"/>\n     <use style=\"fill:#1f77b4;stroke:#1f77b4;\" x=\"136.406069\" xlink:href=\"#m5243c54434\" y=\"74.248692\"/>\n     <use style=\"fill:#1f77b4;stroke:#1f77b4;\" x=\"157.365906\" xlink:href=\"#m5243c54434\" y=\"96.058077\"/>\n     <use style=\"fill:#1f77b4;stroke:#1f77b4;\" x=\"111.596521\" xlink:href=\"#m5243c54434\" y=\"53.929907\"/>\n     <use style=\"fill:#1f77b4;stroke:#1f77b4;\" x=\"151.001922\" xlink:href=\"#m5243c54434\" y=\"84.628582\"/>\n     <use style=\"fill:#1f77b4;stroke:#1f77b4;\" x=\"100.989835\" xlink:href=\"#m5243c54434\" y=\"63.443284\"/>\n     <use style=\"fill:#1f77b4;stroke:#1f77b4;\" x=\"119.568997\" xlink:href=\"#m5243c54434\" y=\"70.051336\"/>\n     <use style=\"fill:#1f77b4;stroke:#1f77b4;\" x=\"143.000304\" xlink:href=\"#m5243c54434\" y=\"90.396176\"/>\n     <use style=\"fill:#1f77b4;stroke:#1f77b4;\" x=\"153.837508\" xlink:href=\"#m5243c54434\" y=\"97.100207\"/>\n     <use style=\"fill:#1f77b4;stroke:#1f77b4;\" x=\"170.974515\" xlink:href=\"#m5243c54434\" y=\"98.634567\"/>\n     <use style=\"fill:#1f77b4;stroke:#1f77b4;\" x=\"139.265827\" xlink:href=\"#m5243c54434\" y=\"81.369959\"/>\n     <use style=\"fill:#1f77b4;stroke:#1f77b4;\" x=\"104.270648\" xlink:href=\"#m5243c54434\" y=\"81.856949\"/>\n     <use style=\"fill:#1f77b4;stroke:#1f77b4;\" x=\"144.923074\" xlink:href=\"#m5243c54434\" y=\"105.471355\"/>\n     <use style=\"fill:#1f77b4;stroke:#1f77b4;\" x=\"92.557862\" xlink:href=\"#m5243c54434\" y=\"51.739734\"/>\n     <use style=\"fill:#1f77b4;stroke:#1f77b4;\" x=\"139.821184\" xlink:href=\"#m5243c54434\" y=\"89.422476\"/>\n     <use style=\"fill:#1f77b4;stroke:#1f77b4;\" x=\"190.581596\" xlink:href=\"#m5243c54434\" y=\"135.289469\"/>\n     <use style=\"fill:#1f77b4;stroke:#1f77b4;\" x=\"95.791345\" xlink:href=\"#m5243c54434\" y=\"69.957195\"/>\n     <use style=\"fill:#1f77b4;stroke:#1f77b4;\" x=\"138.763828\" xlink:href=\"#m5243c54434\" y=\"87.517877\"/>\n     <use style=\"fill:#1f77b4;stroke:#1f77b4;\" x=\"103.713527\" xlink:href=\"#m5243c54434\" y=\"69.694483\"/>\n     <use style=\"fill:#1f77b4;stroke:#1f77b4;\" x=\"138.615613\" xlink:href=\"#m5243c54434\" y=\"92.200948\"/>\n     <use style=\"fill:#1f77b4;stroke:#1f77b4;\" x=\"96.483033\" xlink:href=\"#m5243c54434\" y=\"64.320242\"/>\n     <use style=\"fill:#1f77b4;stroke:#1f77b4;\" x=\"133.764096\" xlink:href=\"#m5243c54434\" y=\"67.662348\"/>\n     <use style=\"fill:#1f77b4;stroke:#1f77b4;\" x=\"183.062135\" xlink:href=\"#m5243c54434\" y=\"88.770611\"/>\n     <use style=\"fill:#1f77b4;stroke:#1f77b4;\" x=\"126.852512\" xlink:href=\"#m5243c54434\" y=\"79.540981\"/>\n     <use style=\"fill:#1f77b4;stroke:#1f77b4;\" x=\"89.668614\" xlink:href=\"#m5243c54434\" y=\"49.612076\"/>\n     <use style=\"fill:#1f77b4;stroke:#1f77b4;\" x=\"133.215085\" xlink:href=\"#m5243c54434\" y=\"74.568167\"/>\n     <use style=\"fill:#1f77b4;stroke:#1f77b4;\" x=\"105.634358\" xlink:href=\"#m5243c54434\" y=\"59.350962\"/>\n     <use style=\"fill:#1f77b4;stroke:#1f77b4;\" x=\"167.84705\" xlink:href=\"#m5243c54434\" y=\"105.160417\"/>\n     <use style=\"fill:#1f77b4;stroke:#1f77b4;\" x=\"130.280191\" xlink:href=\"#m5243c54434\" y=\"81.030364\"/>\n     <use style=\"fill:#1f77b4;stroke:#1f77b4;\" x=\"117.548992\" xlink:href=\"#m5243c54434\" y=\"94.700349\"/>\n     <use style=\"fill:#1f77b4;stroke:#1f77b4;\" x=\"121.90633\" xlink:href=\"#m5243c54434\" y=\"73.174305\"/>\n     <use style=\"fill:#1f77b4;stroke:#1f77b4;\" x=\"161.075993\" xlink:href=\"#m5243c54434\" y=\"123.741103\"/>\n     <use style=\"fill:#1f77b4;stroke:#1f77b4;\" x=\"99.687345\" xlink:href=\"#m5243c54434\" y=\"51.977463\"/>\n     <use style=\"fill:#1f77b4;stroke:#1f77b4;\" x=\"151.837773\" xlink:href=\"#m5243c54434\" y=\"92.944163\"/>\n     <use style=\"fill:#1f77b4;stroke:#1f77b4;\" x=\"127.260776\" xlink:href=\"#m5243c54434\" y=\"74.775625\"/>\n     <use style=\"fill:#1f77b4;stroke:#1f77b4;\" x=\"112.763156\" xlink:href=\"#m5243c54434\" y=\"71.023438\"/>\n     <use style=\"fill:#1f77b4;stroke:#1f77b4;\" x=\"118.684786\" xlink:href=\"#m5243c54434\" y=\"67.01366\"/>\n     <use style=\"fill:#1f77b4;stroke:#1f77b4;\" x=\"79.277594\" xlink:href=\"#m5243c54434\" y=\"45.661357\"/>\n     <use style=\"fill:#1f77b4;stroke:#1f77b4;\" x=\"132.04516\" xlink:href=\"#m5243c54434\" y=\"92.513606\"/>\n     <use style=\"fill:#1f77b4;stroke:#1f77b4;\" x=\"131.775004\" xlink:href=\"#m5243c54434\" y=\"85.406726\"/>\n     <use style=\"fill:#1f77b4;stroke:#1f77b4;\" x=\"112.942723\" xlink:href=\"#m5243c54434\" y=\"74.642939\"/>\n     <use style=\"fill:#1f77b4;stroke:#1f77b4;\" x=\"166.665588\" xlink:href=\"#m5243c54434\" y=\"108.186471\"/>\n     <use style=\"fill:#1f77b4;stroke:#1f77b4;\" x=\"55.415158\" xlink:href=\"#m5243c54434\" y=\"32.748106\"/>\n     <use style=\"fill:#1f77b4;stroke:#1f77b4;\" x=\"72.352826\" xlink:href=\"#m5243c54434\" y=\"22.422787\"/>\n     <use style=\"fill:#1f77b4;stroke:#1f77b4;\" x=\"134.005189\" xlink:href=\"#m5243c54434\" y=\"64.037694\"/>\n     <use style=\"fill:#1f77b4;stroke:#1f77b4;\" x=\"109.373117\" xlink:href=\"#m5243c54434\" y=\"54.014194\"/>\n     <use style=\"fill:#1f77b4;stroke:#1f77b4;\" x=\"116.813109\" xlink:href=\"#m5243c54434\" y=\"58.935786\"/>\n     <use style=\"fill:#1f77b4;stroke:#1f77b4;\" x=\"133.711262\" xlink:href=\"#m5243c54434\" y=\"73.065019\"/>\n     <use style=\"fill:#1f77b4;stroke:#1f77b4;\" x=\"103.067517\" xlink:href=\"#m5243c54434\" y=\"46.220889\"/>\n     <use style=\"fill:#1f77b4;stroke:#1f77b4;\" x=\"131.44635\" xlink:href=\"#m5243c54434\" y=\"94.446024\"/>\n     <use style=\"fill:#1f77b4;stroke:#1f77b4;\" x=\"113.772137\" xlink:href=\"#m5243c54434\" y=\"71.642743\"/>\n     <use style=\"fill:#1f77b4;stroke:#1f77b4;\" x=\"139.552229\" xlink:href=\"#m5243c54434\" y=\"93.401301\"/>\n     <use style=\"fill:#1f77b4;stroke:#1f77b4;\" x=\"118.90835\" xlink:href=\"#m5243c54434\" y=\"67.893086\"/>\n     <use style=\"fill:#1f77b4;stroke:#1f77b4;\" x=\"145.180618\" xlink:href=\"#m5243c54434\" y=\"85.486188\"/>\n     <use style=\"fill:#1f77b4;stroke:#1f77b4;\" x=\"81.986874\" xlink:href=\"#m5243c54434\" y=\"51.590699\"/>\n     <use style=\"fill:#1f77b4;stroke:#1f77b4;\" x=\"107.307174\" xlink:href=\"#m5243c54434\" y=\"79.960273\"/>\n     <use style=\"fill:#1f77b4;stroke:#1f77b4;\" x=\"129.373038\" xlink:href=\"#m5243c54434\" y=\"97.895609\"/>\n     <use style=\"fill:#1f77b4;stroke:#1f77b4;\" x=\"146.538581\" xlink:href=\"#m5243c54434\" y=\"76.481441\"/>\n     <use style=\"fill:#1f77b4;stroke:#1f77b4;\" x=\"98.127077\" xlink:href=\"#m5243c54434\" y=\"58.477611\"/>\n     <use style=\"fill:#1f77b4;stroke:#1f77b4;\" x=\"138.104583\" xlink:href=\"#m5243c54434\" y=\"99.352124\"/>\n     <use style=\"fill:#1f77b4;stroke:#1f77b4;\" x=\"143.947099\" xlink:href=\"#m5243c54434\" y=\"89.867735\"/>\n     <use style=\"fill:#1f77b4;stroke:#1f77b4;\" x=\"160.933329\" xlink:href=\"#m5243c54434\" y=\"105.42257\"/>\n     <use style=\"fill:#1f77b4;stroke:#1f77b4;\" x=\"119.155032\" xlink:href=\"#m5243c54434\" y=\"84.570317\"/>\n     <use style=\"fill:#1f77b4;stroke:#1f77b4;\" x=\"96.541449\" xlink:href=\"#m5243c54434\" y=\"58.526572\"/>\n     <use style=\"fill:#1f77b4;stroke:#1f77b4;\" x=\"155.530471\" xlink:href=\"#m5243c54434\" y=\"101.763102\"/>\n     <use style=\"fill:#1f77b4;stroke:#1f77b4;\" x=\"92.679593\" xlink:href=\"#m5243c54434\" y=\"63.117628\"/>\n     <use style=\"fill:#1f77b4;stroke:#1f77b4;\" x=\"98.63786\" xlink:href=\"#m5243c54434\" y=\"53.703311\"/>\n     <use style=\"fill:#1f77b4;stroke:#1f77b4;\" x=\"132.320355\" xlink:href=\"#m5243c54434\" y=\"69.600252\"/>\n     <use style=\"fill:#1f77b4;stroke:#1f77b4;\" x=\"104.247414\" xlink:href=\"#m5243c54434\" y=\"51.926653\"/>\n     <use style=\"fill:#1f77b4;stroke:#1f77b4;\" x=\"81.903348\" xlink:href=\"#m5243c54434\" y=\"52.998075\"/>\n     <use style=\"fill:#1f77b4;stroke:#1f77b4;\" x=\"146.703341\" xlink:href=\"#m5243c54434\" y=\"98.815957\"/>\n     <use style=\"fill:#1f77b4;stroke:#1f77b4;\" x=\"125.649779\" xlink:href=\"#m5243c54434\" y=\"101.958692\"/>\n     <use style=\"fill:#1f77b4;stroke:#1f77b4;\" x=\"139.09949\" xlink:href=\"#m5243c54434\" y=\"99.957367\"/>\n     <use style=\"fill:#1f77b4;stroke:#1f77b4;\" x=\"153.079765\" xlink:href=\"#m5243c54434\" y=\"93.39421\"/>\n     <use style=\"fill:#1f77b4;stroke:#1f77b4;\" x=\"105.458541\" xlink:href=\"#m5243c54434\" y=\"53.240391\"/>\n     <use style=\"fill:#1f77b4;stroke:#1f77b4;\" x=\"109.860645\" xlink:href=\"#m5243c54434\" y=\"69.568735\"/>\n     <use style=\"fill:#1f77b4;stroke:#1f77b4;\" x=\"144.078886\" xlink:href=\"#m5243c54434\" y=\"90.85912\"/>\n     <use style=\"fill:#1f77b4;stroke:#1f77b4;\" x=\"114.580216\" xlink:href=\"#m5243c54434\" y=\"59.191312\"/>\n     <use style=\"fill:#1f77b4;stroke:#1f77b4;\" x=\"110.159691\" xlink:href=\"#m5243c54434\" y=\"72.064864\"/>\n     <use style=\"fill:#1f77b4;stroke:#1f77b4;\" x=\"149.996221\" xlink:href=\"#m5243c54434\" y=\"86.03041\"/>\n     <use style=\"fill:#1f77b4;stroke:#1f77b4;\" x=\"151.691902\" xlink:href=\"#m5243c54434\" y=\"99.029132\"/>\n     <use style=\"fill:#1f77b4;stroke:#1f77b4;\" x=\"101.190802\" xlink:href=\"#m5243c54434\" y=\"50.999806\"/>\n     <use style=\"fill:#1f77b4;stroke:#1f77b4;\" x=\"172.303202\" xlink:href=\"#m5243c54434\" y=\"115.641735\"/>\n     <use style=\"fill:#1f77b4;stroke:#1f77b4;\" x=\"117.207268\" xlink:href=\"#m5243c54434\" y=\"72.832907\"/>\n     <use style=\"fill:#1f77b4;stroke:#1f77b4;\" x=\"106.400441\" xlink:href=\"#m5243c54434\" y=\"67.294619\"/>\n     <use style=\"fill:#1f77b4;stroke:#1f77b4;\" x=\"109.929245\" xlink:href=\"#m5243c54434\" y=\"46.414847\"/>\n     <use style=\"fill:#1f77b4;stroke:#1f77b4;\" x=\"106.823428\" xlink:href=\"#m5243c54434\" y=\"58.724308\"/>\n     <use style=\"fill:#1f77b4;stroke:#1f77b4;\" x=\"141.888311\" xlink:href=\"#m5243c54434\" y=\"80.292875\"/>\n     <use style=\"fill:#1f77b4;stroke:#1f77b4;\" x=\"148.929388\" xlink:href=\"#m5243c54434\" y=\"83.448694\"/>\n     <use style=\"fill:#1f77b4;stroke:#1f77b4;\" x=\"155.862744\" xlink:href=\"#m5243c54434\" y=\"87.218823\"/>\n     <use style=\"fill:#1f77b4;stroke:#1f77b4;\" x=\"112.482265\" xlink:href=\"#m5243c54434\" y=\"50.018914\"/>\n     <use style=\"fill:#1f77b4;stroke:#1f77b4;\" x=\"162.85082\" xlink:href=\"#m5243c54434\" y=\"120.445411\"/>\n     <use style=\"fill:#1f77b4;stroke:#1f77b4;\" x=\"147.337708\" xlink:href=\"#m5243c54434\" y=\"83.756789\"/>\n     <use style=\"fill:#1f77b4;stroke:#1f77b4;\" x=\"184.74781\" xlink:href=\"#m5243c54434\" y=\"105.367587\"/>\n     <use style=\"fill:#1f77b4;stroke:#1f77b4;\" x=\"125.504469\" xlink:href=\"#m5243c54434\" y=\"82.271096\"/>\n     <use style=\"fill:#1f77b4;stroke:#1f77b4;\" x=\"122.238045\" xlink:href=\"#m5243c54434\" y=\"83.224838\"/>\n     <use style=\"fill:#1f77b4;stroke:#1f77b4;\" x=\"110.243763\" xlink:href=\"#m5243c54434\" y=\"52.74366\"/>\n     <use style=\"fill:#1f77b4;stroke:#1f77b4;\" x=\"107.272674\" xlink:href=\"#m5243c54434\" y=\"39.415048\"/>\n     <use style=\"fill:#1f77b4;stroke:#1f77b4;\" x=\"163.981157\" xlink:href=\"#m5243c54434\" y=\"98.001687\"/>\n     <use style=\"fill:#1f77b4;stroke:#1f77b4;\" x=\"135.195682\" xlink:href=\"#m5243c54434\" y=\"61.389536\"/>\n     <use style=\"fill:#1f77b4;stroke:#1f77b4;\" x=\"129.247261\" xlink:href=\"#m5243c54434\" y=\"70.263645\"/>\n     <use style=\"fill:#1f77b4;stroke:#1f77b4;\" x=\"161.34801\" xlink:href=\"#m5243c54434\" y=\"104.445628\"/>\n     <use style=\"fill:#1f77b4;stroke:#1f77b4;\" x=\"123.670897\" xlink:href=\"#m5243c54434\" y=\"84.458881\"/>\n     <use style=\"fill:#1f77b4;stroke:#1f77b4;\" x=\"136.535723\" xlink:href=\"#m5243c54434\" y=\"91.061654\"/>\n     <use style=\"fill:#1f77b4;stroke:#1f77b4;\" x=\"52.579521\" xlink:href=\"#m5243c54434\" y=\"34.853165\"/>\n     <use style=\"fill:#1f77b4;stroke:#1f77b4;\" x=\"82.676143\" xlink:href=\"#m5243c54434\" y=\"37.622166\"/>\n     <use style=\"fill:#1f77b4;stroke:#1f77b4;\" x=\"149.976984\" xlink:href=\"#m5243c54434\" y=\"84.701992\"/>\n     <use style=\"fill:#1f77b4;stroke:#1f77b4;\" x=\"114.869154\" xlink:href=\"#m5243c54434\" y=\"78.440511\"/>\n     <use style=\"fill:#1f77b4;stroke:#1f77b4;\" x=\"157.625796\" xlink:href=\"#m5243c54434\" y=\"84.210085\"/>\n     <use style=\"fill:#1f77b4;stroke:#1f77b4;\" x=\"152.323935\" xlink:href=\"#m5243c54434\" y=\"91.196796\"/>\n     <use style=\"fill:#1f77b4;stroke:#1f77b4;\" x=\"139.029626\" xlink:href=\"#m5243c54434\" y=\"92.768857\"/>\n     <use style=\"fill:#1f77b4;stroke:#1f77b4;\" x=\"142.019676\" xlink:href=\"#m5243c54434\" y=\"105.303333\"/>\n     <use style=\"fill:#1f77b4;stroke:#1f77b4;\" x=\"99.531939\" xlink:href=\"#m5243c54434\" y=\"57.747478\"/>\n     <use style=\"fill:#1f77b4;stroke:#1f77b4;\" x=\"146.978147\" xlink:href=\"#m5243c54434\" y=\"104.468916\"/>\n     <use style=\"fill:#1f77b4;stroke:#1f77b4;\" x=\"101.355784\" xlink:href=\"#m5243c54434\" y=\"60.305807\"/>\n     <use style=\"fill:#1f77b4;stroke:#1f77b4;\" x=\"116.91989\" xlink:href=\"#m5243c54434\" y=\"57.142008\"/>\n     <use style=\"fill:#1f77b4;stroke:#1f77b4;\" x=\"146.641648\" xlink:href=\"#m5243c54434\" y=\"111.395165\"/>\n     <use style=\"fill:#1f77b4;stroke:#1f77b4;\" x=\"91.311848\" xlink:href=\"#m5243c54434\" y=\"56.101194\"/>\n     <use style=\"fill:#1f77b4;stroke:#1f77b4;\" x=\"118.481481\" xlink:href=\"#m5243c54434\" y=\"57.700612\"/>\n     <use style=\"fill:#1f77b4;stroke:#1f77b4;\" x=\"90.73365\" xlink:href=\"#m5243c54434\" y=\"67.700484\"/>\n     <use style=\"fill:#1f77b4;stroke:#1f77b4;\" x=\"111.609251\" xlink:href=\"#m5243c54434\" y=\"64.856367\"/>\n     <use style=\"fill:#1f77b4;stroke:#1f77b4;\" x=\"118.318452\" xlink:href=\"#m5243c54434\" y=\"64.092304\"/>\n     <use style=\"fill:#1f77b4;stroke:#1f77b4;\" x=\"104.797278\" xlink:href=\"#m5243c54434\" y=\"64.243081\"/>\n     <use style=\"fill:#1f77b4;stroke:#1f77b4;\" x=\"104.739699\" xlink:href=\"#m5243c54434\" y=\"72.14944\"/>\n     <use style=\"fill:#1f77b4;stroke:#1f77b4;\" x=\"141.315375\" xlink:href=\"#m5243c54434\" y=\"69.578745\"/>\n     <use style=\"fill:#1f77b4;stroke:#1f77b4;\" x=\"163.81718\" xlink:href=\"#m5243c54434\" y=\"110.893299\"/>\n     <use style=\"fill:#1f77b4;stroke:#1f77b4;\" x=\"96.731251\" xlink:href=\"#m5243c54434\" y=\"50.057127\"/>\n     <use style=\"fill:#1f77b4;stroke:#1f77b4;\" x=\"132.778736\" xlink:href=\"#m5243c54434\" y=\"90.234302\"/>\n     <use style=\"fill:#1f77b4;stroke:#1f77b4;\" x=\"138.63754\" xlink:href=\"#m5243c54434\" y=\"88.190894\"/>\n     <use style=\"fill:#1f77b4;stroke:#1f77b4;\" x=\"150.926552\" xlink:href=\"#m5243c54434\" y=\"103.657406\"/>\n     <use style=\"fill:#1f77b4;stroke:#1f77b4;\" x=\"108.833886\" xlink:href=\"#m5243c54434\" y=\"67.167096\"/>\n     <use style=\"fill:#1f77b4;stroke:#1f77b4;\" x=\"107.121979\" xlink:href=\"#m5243c54434\" y=\"88.867494\"/>\n     <use style=\"fill:#1f77b4;stroke:#1f77b4;\" x=\"126.17403\" xlink:href=\"#m5243c54434\" y=\"54.243474\"/>\n     <use style=\"fill:#1f77b4;stroke:#1f77b4;\" x=\"146.909298\" xlink:href=\"#m5243c54434\" y=\"97.37588\"/>\n     <use style=\"fill:#1f77b4;stroke:#1f77b4;\" x=\"134.06322\" xlink:href=\"#m5243c54434\" y=\"59.150643\"/>\n     <use style=\"fill:#1f77b4;stroke:#1f77b4;\" x=\"78.317136\" xlink:href=\"#m5243c54434\" y=\"30.950552\"/>\n     <use style=\"fill:#1f77b4;stroke:#1f77b4;\" x=\"97.778083\" xlink:href=\"#m5243c54434\" y=\"49.346385\"/>\n     <use style=\"fill:#1f77b4;stroke:#1f77b4;\" x=\"130.750568\" xlink:href=\"#m5243c54434\" y=\"78.335475\"/>\n     <use style=\"fill:#1f77b4;stroke:#1f77b4;\" x=\"167.355853\" xlink:href=\"#m5243c54434\" y=\"130.889984\"/>\n     <use style=\"fill:#1f77b4;stroke:#1f77b4;\" x=\"78.964579\" xlink:href=\"#m5243c54434\" y=\"38.729568\"/>\n     <use style=\"fill:#1f77b4;stroke:#1f77b4;\" x=\"199.371221\" xlink:href=\"#m5243c54434\" y=\"120.855686\"/>\n     <use style=\"fill:#1f77b4;stroke:#1f77b4;\" x=\"114.773111\" xlink:href=\"#m5243c54434\" y=\"71.50002\"/>\n     <use style=\"fill:#1f77b4;stroke:#1f77b4;\" x=\"83.014165\" xlink:href=\"#m5243c54434\" y=\"48.441565\"/>\n     <use style=\"fill:#1f77b4;stroke:#1f77b4;\" x=\"88.710135\" xlink:href=\"#m5243c54434\" y=\"47.406511\"/>\n     <use style=\"fill:#1f77b4;stroke:#1f77b4;\" x=\"165.833215\" xlink:href=\"#m5243c54434\" y=\"95.161689\"/>\n     <use style=\"fill:#1f77b4;stroke:#1f77b4;\" x=\"111.977429\" xlink:href=\"#m5243c54434\" y=\"70.75901\"/>\n     <use style=\"fill:#1f77b4;stroke:#1f77b4;\" x=\"141.849497\" xlink:href=\"#m5243c54434\" y=\"68.738436\"/>\n     <use style=\"fill:#1f77b4;stroke:#1f77b4;\" x=\"92.39927\" xlink:href=\"#m5243c54434\" y=\"63.311336\"/>\n     <use style=\"fill:#1f77b4;stroke:#1f77b4;\" x=\"123.63149\" xlink:href=\"#m5243c54434\" y=\"94.558941\"/>\n     <use style=\"fill:#1f77b4;stroke:#1f77b4;\" x=\"95.216182\" xlink:href=\"#m5243c54434\" y=\"61.308943\"/>\n     <use style=\"fill:#1f77b4;stroke:#1f77b4;\" x=\"112.214192\" xlink:href=\"#m5243c54434\" y=\"82.794088\"/>\n     <use style=\"fill:#1f77b4;stroke:#1f77b4;\" x=\"106.767992\" xlink:href=\"#m5243c54434\" y=\"53.490743\"/>\n     <use style=\"fill:#1f77b4;stroke:#1f77b4;\" x=\"83.9759\" xlink:href=\"#m5243c54434\" y=\"55.12742\"/>\n     <use style=\"fill:#1f77b4;stroke:#1f77b4;\" x=\"134.387255\" xlink:href=\"#m5243c54434\" y=\"72.021373\"/>\n     <use style=\"fill:#1f77b4;stroke:#1f77b4;\" x=\"151.090281\" xlink:href=\"#m5243c54434\" y=\"88.184988\"/>\n     <use style=\"fill:#1f77b4;stroke:#1f77b4;\" x=\"163.521285\" xlink:href=\"#m5243c54434\" y=\"90.699266\"/>\n     <use style=\"fill:#1f77b4;stroke:#1f77b4;\" x=\"87.350001\" xlink:href=\"#m5243c54434\" y=\"59.824712\"/>\n     <use style=\"fill:#1f77b4;stroke:#1f77b4;\" x=\"128.030309\" xlink:href=\"#m5243c54434\" y=\"62.271591\"/>\n     <use style=\"fill:#1f77b4;stroke:#1f77b4;\" x=\"37.81946\" xlink:href=\"#m5243c54434\" y=\"14.74915\"/>\n     <use style=\"fill:#1f77b4;stroke:#1f77b4;\" x=\"128.664814\" xlink:href=\"#m5243c54434\" y=\"83.036271\"/>\n     <use style=\"fill:#1f77b4;stroke:#1f77b4;\" x=\"136.584831\" xlink:href=\"#m5243c54434\" y=\"95.166878\"/>\n     <use style=\"fill:#1f77b4;stroke:#1f77b4;\" x=\"168.22064\" xlink:href=\"#m5243c54434\" y=\"101.860548\"/>\n     <use style=\"fill:#1f77b4;stroke:#1f77b4;\" x=\"110.958409\" xlink:href=\"#m5243c54434\" y=\"74.898281\"/>\n     <use style=\"fill:#1f77b4;stroke:#1f77b4;\" x=\"150.401286\" xlink:href=\"#m5243c54434\" y=\"81.87285\"/>\n     <use style=\"fill:#1f77b4;stroke:#1f77b4;\" x=\"175.511419\" xlink:href=\"#m5243c54434\" y=\"111.473453\"/>\n     <use style=\"fill:#1f77b4;stroke:#1f77b4;\" x=\"111.527892\" xlink:href=\"#m5243c54434\" y=\"52.052839\"/>\n     <use style=\"fill:#1f77b4;stroke:#1f77b4;\" x=\"105.306818\" xlink:href=\"#m5243c54434\" y=\"57.423036\"/>\n     <use style=\"fill:#1f77b4;stroke:#1f77b4;\" x=\"166.559455\" xlink:href=\"#m5243c54434\" y=\"93.157297\"/>\n     <use style=\"fill:#1f77b4;stroke:#1f77b4;\" x=\"100.426185\" xlink:href=\"#m5243c54434\" y=\"52.991477\"/>\n     <use style=\"fill:#1f77b4;stroke:#1f77b4;\" x=\"136.275997\" xlink:href=\"#m5243c54434\" y=\"67.811168\"/>\n     <use style=\"fill:#1f77b4;stroke:#1f77b4;\" x=\"115.512855\" xlink:href=\"#m5243c54434\" y=\"57.559591\"/>\n     <use style=\"fill:#1f77b4;stroke:#1f77b4;\" x=\"95.487321\" xlink:href=\"#m5243c54434\" y=\"60.027948\"/>\n     <use style=\"fill:#1f77b4;stroke:#1f77b4;\" x=\"112.213577\" xlink:href=\"#m5243c54434\" y=\"65.52444\"/>\n     <use style=\"fill:#1f77b4;stroke:#1f77b4;\" x=\"114.226949\" xlink:href=\"#m5243c54434\" y=\"88.40377\"/>\n     <use style=\"fill:#1f77b4;stroke:#1f77b4;\" x=\"106.259959\" xlink:href=\"#m5243c54434\" y=\"53.289811\"/>\n     <use style=\"fill:#1f77b4;stroke:#1f77b4;\" x=\"144.820652\" xlink:href=\"#m5243c54434\" y=\"91.012302\"/>\n     <use style=\"fill:#1f77b4;stroke:#1f77b4;\" x=\"136.391301\" xlink:href=\"#m5243c54434\" y=\"59.364489\"/>\n     <use style=\"fill:#1f77b4;stroke:#1f77b4;\" x=\"78.856996\" xlink:href=\"#m5243c54434\" y=\"47.652991\"/>\n     <use style=\"fill:#1f77b4;stroke:#1f77b4;\" x=\"110.313583\" xlink:href=\"#m5243c54434\" y=\"65.089678\"/>\n     <use style=\"fill:#1f77b4;stroke:#1f77b4;\" x=\"149.20433\" xlink:href=\"#m5243c54434\" y=\"85.316107\"/>\n     <use style=\"fill:#1f77b4;stroke:#1f77b4;\" x=\"114.17922\" xlink:href=\"#m5243c54434\" y=\"57.973046\"/>\n     <use style=\"fill:#1f77b4;stroke:#1f77b4;\" x=\"136.884497\" xlink:href=\"#m5243c54434\" y=\"85.564987\"/>\n     <use style=\"fill:#1f77b4;stroke:#1f77b4;\" x=\"103.588893\" xlink:href=\"#m5243c54434\" y=\"61.691631\"/>\n     <use style=\"fill:#1f77b4;stroke:#1f77b4;\" x=\"104.98944\" xlink:href=\"#m5243c54434\" y=\"59.690878\"/>\n     <use style=\"fill:#1f77b4;stroke:#1f77b4;\" x=\"127.644714\" xlink:href=\"#m5243c54434\" y=\"62.314079\"/>\n     <use style=\"fill:#1f77b4;stroke:#1f77b4;\" x=\"139.0372\" xlink:href=\"#m5243c54434\" y=\"80.338819\"/>\n     <use style=\"fill:#1f77b4;stroke:#1f77b4;\" x=\"163.74394\" xlink:href=\"#m5243c54434\" y=\"89.637507\"/>\n     <use style=\"fill:#1f77b4;stroke:#1f77b4;\" x=\"104.306009\" xlink:href=\"#m5243c54434\" y=\"61.411252\"/>\n     <use style=\"fill:#1f77b4;stroke:#1f77b4;\" x=\"63.731832\" xlink:href=\"#m5243c54434\" y=\"59.640508\"/>\n     <use style=\"fill:#1f77b4;stroke:#1f77b4;\" x=\"136.350448\" xlink:href=\"#m5243c54434\" y=\"78.885394\"/>\n     <use style=\"fill:#1f77b4;stroke:#1f77b4;\" x=\"132.883428\" xlink:href=\"#m5243c54434\" y=\"75.760869\"/>\n     <use style=\"fill:#1f77b4;stroke:#1f77b4;\" x=\"122.655736\" xlink:href=\"#m5243c54434\" y=\"78.545926\"/>\n     <use style=\"fill:#1f77b4;stroke:#1f77b4;\" x=\"100.26122\" xlink:href=\"#m5243c54434\" y=\"53.302917\"/>\n     <use style=\"fill:#1f77b4;stroke:#1f77b4;\" x=\"105.291768\" xlink:href=\"#m5243c54434\" y=\"54.894506\"/>\n     <use style=\"fill:#1f77b4;stroke:#1f77b4;\" x=\"133.532755\" xlink:href=\"#m5243c54434\" y=\"60.595616\"/>\n     <use style=\"fill:#1f77b4;stroke:#1f77b4;\" x=\"131.12443\" xlink:href=\"#m5243c54434\" y=\"69.709458\"/>\n     <use style=\"fill:#1f77b4;stroke:#1f77b4;\" x=\"122.076071\" xlink:href=\"#m5243c54434\" y=\"61.337024\"/>\n     <use style=\"fill:#1f77b4;stroke:#1f77b4;\" x=\"86.818627\" xlink:href=\"#m5243c54434\" y=\"61.153192\"/>\n     <use style=\"fill:#1f77b4;stroke:#1f77b4;\" x=\"104.545802\" xlink:href=\"#m5243c54434\" y=\"52.363733\"/>\n     <use style=\"fill:#1f77b4;stroke:#1f77b4;\" x=\"137.932145\" xlink:href=\"#m5243c54434\" y=\"71.578361\"/>\n     <use style=\"fill:#1f77b4;stroke:#1f77b4;\" x=\"167.650984\" xlink:href=\"#m5243c54434\" y=\"92.654393\"/>\n     <use style=\"fill:#1f77b4;stroke:#1f77b4;\" x=\"158.196703\" xlink:href=\"#m5243c54434\" y=\"97.354961\"/>\n     <use style=\"fill:#1f77b4;stroke:#1f77b4;\" x=\"85.14662\" xlink:href=\"#m5243c54434\" y=\"59.654833\"/>\n     <use style=\"fill:#1f77b4;stroke:#1f77b4;\" x=\"153.926438\" xlink:href=\"#m5243c54434\" y=\"107.867615\"/>\n     <use style=\"fill:#1f77b4;stroke:#1f77b4;\" x=\"120.159711\" xlink:href=\"#m5243c54434\" y=\"70.511345\"/>\n     <use style=\"fill:#1f77b4;stroke:#1f77b4;\" x=\"125.55349\" xlink:href=\"#m5243c54434\" y=\"88.425044\"/>\n     <use style=\"fill:#1f77b4;stroke:#1f77b4;\" x=\"122.380366\" xlink:href=\"#m5243c54434\" y=\"71.556035\"/>\n     <use style=\"fill:#1f77b4;stroke:#1f77b4;\" x=\"142.799087\" xlink:href=\"#m5243c54434\" y=\"89.757831\"/>\n     <use style=\"fill:#1f77b4;stroke:#1f77b4;\" x=\"74.413726\" xlink:href=\"#m5243c54434\" y=\"48.887889\"/>\n     <use style=\"fill:#1f77b4;stroke:#1f77b4;\" x=\"119.842895\" xlink:href=\"#m5243c54434\" y=\"47.201675\"/>\n     <use style=\"fill:#1f77b4;stroke:#1f77b4;\" x=\"130.226009\" xlink:href=\"#m5243c54434\" y=\"69.574929\"/>\n     <use style=\"fill:#1f77b4;stroke:#1f77b4;\" x=\"139.26121\" xlink:href=\"#m5243c54434\" y=\"75.718813\"/>\n     <use style=\"fill:#1f77b4;stroke:#1f77b4;\" x=\"206.868772\" xlink:href=\"#m5243c54434\" y=\"135.103433\"/>\n     <use style=\"fill:#1f77b4;stroke:#1f77b4;\" x=\"103.948515\" xlink:href=\"#m5243c54434\" y=\"35.580603\"/>\n     <use style=\"fill:#1f77b4;stroke:#1f77b4;\" x=\"133.24637\" xlink:href=\"#m5243c54434\" y=\"110.096196\"/>\n     <use style=\"fill:#1f77b4;stroke:#1f77b4;\" x=\"146.547988\" xlink:href=\"#m5243c54434\" y=\"86.382559\"/>\n     <use style=\"fill:#1f77b4;stroke:#1f77b4;\" x=\"122.387457\" xlink:href=\"#m5243c54434\" y=\"84.75899\"/>\n     <use style=\"fill:#1f77b4;stroke:#1f77b4;\" x=\"140.035145\" xlink:href=\"#m5243c54434\" y=\"72.825429\"/>\n     <use style=\"fill:#1f77b4;stroke:#1f77b4;\" x=\"78.417044\" xlink:href=\"#m5243c54434\" y=\"38.462335\"/>\n     <use style=\"fill:#1f77b4;stroke:#1f77b4;\" x=\"142.164322\" xlink:href=\"#m5243c54434\" y=\"98.642879\"/>\n     <use style=\"fill:#1f77b4;stroke:#1f77b4;\" x=\"93.405823\" xlink:href=\"#m5243c54434\" y=\"45.296577\"/>\n     <use style=\"fill:#1f77b4;stroke:#1f77b4;\" x=\"123.211446\" xlink:href=\"#m5243c54434\" y=\"71.800831\"/>\n     <use style=\"fill:#1f77b4;stroke:#1f77b4;\" x=\"116.842071\" xlink:href=\"#m5243c54434\" y=\"77.365139\"/>\n     <use style=\"fill:#1f77b4;stroke:#1f77b4;\" x=\"161.623915\" xlink:href=\"#m5243c54434\" y=\"86.387219\"/>\n     <use style=\"fill:#1f77b4;stroke:#1f77b4;\" x=\"108.93567\" xlink:href=\"#m5243c54434\" y=\"83.592743\"/>\n     <use style=\"fill:#1f77b4;stroke:#1f77b4;\" x=\"74.314013\" xlink:href=\"#m5243c54434\" y=\"24.878481\"/>\n     <use style=\"fill:#1f77b4;stroke:#1f77b4;\" x=\"124.525029\" xlink:href=\"#m5243c54434\" y=\"76.870437\"/>\n     <use style=\"fill:#1f77b4;stroke:#1f77b4;\" x=\"116.727768\" xlink:href=\"#m5243c54434\" y=\"53.069537\"/>\n     <use style=\"fill:#1f77b4;stroke:#1f77b4;\" x=\"157.662694\" xlink:href=\"#m5243c54434\" y=\"104.460953\"/>\n     <use style=\"fill:#1f77b4;stroke:#1f77b4;\" x=\"137.976099\" xlink:href=\"#m5243c54434\" y=\"93.496754\"/>\n     <use style=\"fill:#1f77b4;stroke:#1f77b4;\" x=\"160.780508\" xlink:href=\"#m5243c54434\" y=\"84.834918\"/>\n     <use style=\"fill:#1f77b4;stroke:#1f77b4;\" x=\"115.657117\" xlink:href=\"#m5243c54434\" y=\"64.43436\"/>\n     <use style=\"fill:#1f77b4;stroke:#1f77b4;\" x=\"129.092739\" xlink:href=\"#m5243c54434\" y=\"73.46274\"/>\n     <use style=\"fill:#1f77b4;stroke:#1f77b4;\" x=\"159.878116\" xlink:href=\"#m5243c54434\" y=\"102.175041\"/>\n     <use style=\"fill:#1f77b4;stroke:#1f77b4;\" x=\"130.693126\" xlink:href=\"#m5243c54434\" y=\"81.336988\"/>\n     <use style=\"fill:#1f77b4;stroke:#1f77b4;\" x=\"123.398471\" xlink:href=\"#m5243c54434\" y=\"58.179287\"/>\n     <use style=\"fill:#1f77b4;stroke:#1f77b4;\" x=\"104.432815\" xlink:href=\"#m5243c54434\" y=\"77.389802\"/>\n     <use style=\"fill:#1f77b4;stroke:#1f77b4;\" x=\"133.600881\" xlink:href=\"#m5243c54434\" y=\"70.128034\"/>\n     <use style=\"fill:#1f77b4;stroke:#1f77b4;\" x=\"141.05918\" xlink:href=\"#m5243c54434\" y=\"68.521806\"/>\n     <use style=\"fill:#1f77b4;stroke:#1f77b4;\" x=\"201.116653\" xlink:href=\"#m5243c54434\" y=\"107.594951\"/>\n     <use style=\"fill:#1f77b4;stroke:#1f77b4;\" x=\"171.715366\" xlink:href=\"#m5243c54434\" y=\"93.659832\"/>\n     <use style=\"fill:#1f77b4;stroke:#1f77b4;\" x=\"119.024404\" xlink:href=\"#m5243c54434\" y=\"69.391328\"/>\n     <use style=\"fill:#1f77b4;stroke:#1f77b4;\" x=\"124.36116\" xlink:href=\"#m5243c54434\" y=\"86.752845\"/>\n     <use style=\"fill:#1f77b4;stroke:#1f77b4;\" x=\"96.625362\" xlink:href=\"#m5243c54434\" y=\"55.582532\"/>\n     <use style=\"fill:#1f77b4;stroke:#1f77b4;\" x=\"103.406669\" xlink:href=\"#m5243c54434\" y=\"63.428988\"/>\n     <use style=\"fill:#1f77b4;stroke:#1f77b4;\" x=\"129.447261\" xlink:href=\"#m5243c54434\" y=\"85.789126\"/>\n     <use style=\"fill:#1f77b4;stroke:#1f77b4;\" x=\"132.109838\" xlink:href=\"#m5243c54434\" y=\"83.837358\"/>\n     <use style=\"fill:#1f77b4;stroke:#1f77b4;\" x=\"127.086248\" xlink:href=\"#m5243c54434\" y=\"81.692172\"/>\n     <use style=\"fill:#1f77b4;stroke:#1f77b4;\" x=\"140.516928\" xlink:href=\"#m5243c54434\" y=\"89.796771\"/>\n     <use style=\"fill:#1f77b4;stroke:#1f77b4;\" x=\"142.458546\" xlink:href=\"#m5243c54434\" y=\"83.868131\"/>\n     <use style=\"fill:#1f77b4;stroke:#1f77b4;\" x=\"100.867387\" xlink:href=\"#m5243c54434\" y=\"81.747157\"/>\n     <use style=\"fill:#1f77b4;stroke:#1f77b4;\" x=\"92.158922\" xlink:href=\"#m5243c54434\" y=\"78.881028\"/>\n     <use style=\"fill:#1f77b4;stroke:#1f77b4;\" x=\"124.142859\" xlink:href=\"#m5243c54434\" y=\"72.612341\"/>\n     <use style=\"fill:#1f77b4;stroke:#1f77b4;\" x=\"127.5175\" xlink:href=\"#m5243c54434\" y=\"70.31281\"/>\n     <use style=\"fill:#1f77b4;stroke:#1f77b4;\" x=\"133.127607\" xlink:href=\"#m5243c54434\" y=\"76.562959\"/>\n     <use style=\"fill:#1f77b4;stroke:#1f77b4;\" x=\"105.531545\" xlink:href=\"#m5243c54434\" y=\"69.835539\"/>\n     <use style=\"fill:#1f77b4;stroke:#1f77b4;\" x=\"157.742437\" xlink:href=\"#m5243c54434\" y=\"112.577867\"/>\n     <use style=\"fill:#1f77b4;stroke:#1f77b4;\" x=\"136.185896\" xlink:href=\"#m5243c54434\" y=\"88.212362\"/>\n     <use style=\"fill:#1f77b4;stroke:#1f77b4;\" x=\"119.636961\" xlink:href=\"#m5243c54434\" y=\"76.564622\"/>\n     <use style=\"fill:#1f77b4;stroke:#1f77b4;\" x=\"96.1868\" xlink:href=\"#m5243c54434\" y=\"53.261033\"/>\n     <use style=\"fill:#1f77b4;stroke:#1f77b4;\" x=\"158.966933\" xlink:href=\"#m5243c54434\" y=\"77.277957\"/>\n     <use style=\"fill:#1f77b4;stroke:#1f77b4;\" x=\"124.853711\" xlink:href=\"#m5243c54434\" y=\"68.245431\"/>\n     <use style=\"fill:#1f77b4;stroke:#1f77b4;\" x=\"135.125392\" xlink:href=\"#m5243c54434\" y=\"82.8489\"/>\n     <use style=\"fill:#1f77b4;stroke:#1f77b4;\" x=\"170.38395\" xlink:href=\"#m5243c54434\" y=\"118.33965\"/>\n     <use style=\"fill:#1f77b4;stroke:#1f77b4;\" x=\"111.968454\" xlink:href=\"#m5243c54434\" y=\"68.225935\"/>\n     <use style=\"fill:#1f77b4;stroke:#1f77b4;\" x=\"147.707708\" xlink:href=\"#m5243c54434\" y=\"79.899087\"/>\n     <use style=\"fill:#1f77b4;stroke:#1f77b4;\" x=\"147.938098\" xlink:href=\"#m5243c54434\" y=\"86.917145\"/>\n     <use style=\"fill:#1f77b4;stroke:#1f77b4;\" x=\"143.25294\" xlink:href=\"#m5243c54434\" y=\"84.088883\"/>\n     <use style=\"fill:#1f77b4;stroke:#1f77b4;\" x=\"99.550269\" xlink:href=\"#m5243c54434\" y=\"59.937562\"/>\n     <use style=\"fill:#1f77b4;stroke:#1f77b4;\" x=\"133.62344\" xlink:href=\"#m5243c54434\" y=\"93.609413\"/>\n     <use style=\"fill:#1f77b4;stroke:#1f77b4;\" x=\"84.786765\" xlink:href=\"#m5243c54434\" y=\"58.860746\"/>\n     <use style=\"fill:#1f77b4;stroke:#1f77b4;\" x=\"129.321023\" xlink:href=\"#m5243c54434\" y=\"74.565687\"/>\n     <use style=\"fill:#1f77b4;stroke:#1f77b4;\" x=\"122.298853\" xlink:href=\"#m5243c54434\" y=\"70.643354\"/>\n     <use style=\"fill:#1f77b4;stroke:#1f77b4;\" x=\"130.439071\" xlink:href=\"#m5243c54434\" y=\"76.045217\"/>\n     <use style=\"fill:#1f77b4;stroke:#1f77b4;\" x=\"135.1272\" xlink:href=\"#m5243c54434\" y=\"78.544184\"/>\n     <use style=\"fill:#1f77b4;stroke:#1f77b4;\" x=\"142.699071\" xlink:href=\"#m5243c54434\" y=\"82.036144\"/>\n     <use style=\"fill:#1f77b4;stroke:#1f77b4;\" x=\"150.394309\" xlink:href=\"#m5243c54434\" y=\"102.945963\"/>\n     <use style=\"fill:#1f77b4;stroke:#1f77b4;\" x=\"93.658942\" xlink:href=\"#m5243c54434\" y=\"83.113248\"/>\n     <use style=\"fill:#1f77b4;stroke:#1f77b4;\" x=\"115.84617\" xlink:href=\"#m5243c54434\" y=\"84.515114\"/>\n     <use style=\"fill:#1f77b4;stroke:#1f77b4;\" x=\"111.085042\" xlink:href=\"#m5243c54434\" y=\"39.569381\"/>\n     <use style=\"fill:#1f77b4;stroke:#1f77b4;\" x=\"148.02698\" xlink:href=\"#m5243c54434\" y=\"95.54844\"/>\n     <use style=\"fill:#1f77b4;stroke:#1f77b4;\" x=\"156.163464\" xlink:href=\"#m5243c54434\" y=\"104.208968\"/>\n     <use style=\"fill:#1f77b4;stroke:#1f77b4;\" x=\"121.466148\" xlink:href=\"#m5243c54434\" y=\"71.57376\"/>\n     <use style=\"fill:#1f77b4;stroke:#1f77b4;\" x=\"103.627625\" xlink:href=\"#m5243c54434\" y=\"58.51584\"/>\n     <use style=\"fill:#1f77b4;stroke:#1f77b4;\" x=\"121.539727\" xlink:href=\"#m5243c54434\" y=\"94.151164\"/>\n     <use style=\"fill:#1f77b4;stroke:#1f77b4;\" x=\"85.075111\" xlink:href=\"#m5243c54434\" y=\"74.579562\"/>\n     <use style=\"fill:#1f77b4;stroke:#1f77b4;\" x=\"142.342343\" xlink:href=\"#m5243c54434\" y=\"76.042849\"/>\n     <use style=\"fill:#1f77b4;stroke:#1f77b4;\" x=\"71.458889\" xlink:href=\"#m5243c54434\" y=\"27.984708\"/>\n     <use style=\"fill:#1f77b4;stroke:#1f77b4;\" x=\"161.926181\" xlink:href=\"#m5243c54434\" y=\"109.718472\"/>\n     <use style=\"fill:#1f77b4;stroke:#1f77b4;\" x=\"154.713011\" xlink:href=\"#m5243c54434\" y=\"92.825565\"/>\n     <use style=\"fill:#1f77b4;stroke:#1f77b4;\" x=\"133.713811\" xlink:href=\"#m5243c54434\" y=\"80.79903\"/>\n     <use style=\"fill:#1f77b4;stroke:#1f77b4;\" x=\"130.457304\" xlink:href=\"#m5243c54434\" y=\"81.343256\"/>\n     <use style=\"fill:#1f77b4;stroke:#1f77b4;\" x=\"73.589736\" xlink:href=\"#m5243c54434\" y=\"38.177853\"/>\n     <use style=\"fill:#1f77b4;stroke:#1f77b4;\" x=\"108.84417\" xlink:href=\"#m5243c54434\" y=\"70.535169\"/>\n     <use style=\"fill:#1f77b4;stroke:#1f77b4;\" x=\"92.288513\" xlink:href=\"#m5243c54434\" y=\"72.306656\"/>\n     <use style=\"fill:#1f77b4;stroke:#1f77b4;\" x=\"101.632629\" xlink:href=\"#m5243c54434\" y=\"60.552486\"/>\n     <use style=\"fill:#1f77b4;stroke:#1f77b4;\" x=\"106.710985\" xlink:href=\"#m5243c54434\" y=\"66.491033\"/>\n     <use style=\"fill:#1f77b4;stroke:#1f77b4;\" x=\"173.032903\" xlink:href=\"#m5243c54434\" y=\"103.751107\"/>\n     <use style=\"fill:#1f77b4;stroke:#1f77b4;\" x=\"123.819434\" xlink:href=\"#m5243c54434\" y=\"60.268705\"/>\n     <use style=\"fill:#1f77b4;stroke:#1f77b4;\" x=\"151.852563\" xlink:href=\"#m5243c54434\" y=\"105.435181\"/>\n     <use style=\"fill:#1f77b4;stroke:#1f77b4;\" x=\"135.468222\" xlink:href=\"#m5243c54434\" y=\"85.535132\"/>\n     <use style=\"fill:#1f77b4;stroke:#1f77b4;\" x=\"157.901639\" xlink:href=\"#m5243c54434\" y=\"100.298806\"/>\n     <use style=\"fill:#1f77b4;stroke:#1f77b4;\" x=\"144.841708\" xlink:href=\"#m5243c54434\" y=\"74.221735\"/>\n     <use style=\"fill:#1f77b4;stroke:#1f77b4;\" x=\"143.329662\" xlink:href=\"#m5243c54434\" y=\"108.908513\"/>\n     <use style=\"fill:#1f77b4;stroke:#1f77b4;\" x=\"95.706498\" xlink:href=\"#m5243c54434\" y=\"51.231234\"/>\n     <use style=\"fill:#1f77b4;stroke:#1f77b4;\" x=\"105.665426\" xlink:href=\"#m5243c54434\" y=\"69.726772\"/>\n     <use style=\"fill:#1f77b4;stroke:#1f77b4;\" x=\"210.113222\" xlink:href=\"#m5243c54434\" y=\"129.792929\"/>\n     <use style=\"fill:#1f77b4;stroke:#1f77b4;\" x=\"133.468302\" xlink:href=\"#m5243c54434\" y=\"86.264413\"/>\n     <use style=\"fill:#1f77b4;stroke:#1f77b4;\" x=\"120.160853\" xlink:href=\"#m5243c54434\" y=\"96.114924\"/>\n     <use style=\"fill:#1f77b4;stroke:#1f77b4;\" x=\"112.419626\" xlink:href=\"#m5243c54434\" y=\"70.876026\"/>\n     <use style=\"fill:#1f77b4;stroke:#1f77b4;\" x=\"168.959717\" xlink:href=\"#m5243c54434\" y=\"92.96188\"/>\n     <use style=\"fill:#1f77b4;stroke:#1f77b4;\" x=\"143.867927\" xlink:href=\"#m5243c54434\" y=\"101.744167\"/>\n     <use style=\"fill:#1f77b4;stroke:#1f77b4;\" x=\"150.735808\" xlink:href=\"#m5243c54434\" y=\"72.425822\"/>\n     <use style=\"fill:#1f77b4;stroke:#1f77b4;\" x=\"96.055409\" xlink:href=\"#m5243c54434\" y=\"47.848613\"/>\n     <use style=\"fill:#1f77b4;stroke:#1f77b4;\" x=\"117.198332\" xlink:href=\"#m5243c54434\" y=\"70.475491\"/>\n     <use style=\"fill:#1f77b4;stroke:#1f77b4;\" x=\"113.844315\" xlink:href=\"#m5243c54434\" y=\"55.198283\"/>\n     <use style=\"fill:#1f77b4;stroke:#1f77b4;\" x=\"125.894497\" xlink:href=\"#m5243c54434\" y=\"75.194102\"/>\n     <use style=\"fill:#1f77b4;stroke:#1f77b4;\" x=\"106.817089\" xlink:href=\"#m5243c54434\" y=\"74.473824\"/>\n     <use style=\"fill:#1f77b4;stroke:#1f77b4;\" x=\"97.384858\" xlink:href=\"#m5243c54434\" y=\"52.713493\"/>\n     <use style=\"fill:#1f77b4;stroke:#1f77b4;\" x=\"98.045996\" xlink:href=\"#m5243c54434\" y=\"62.333247\"/>\n     <use style=\"fill:#1f77b4;stroke:#1f77b4;\" x=\"69.42658\" xlink:href=\"#m5243c54434\" y=\"24.093084\"/>\n     <use style=\"fill:#1f77b4;stroke:#1f77b4;\" x=\"98.380976\" xlink:href=\"#m5243c54434\" y=\"45.828955\"/>\n     <use style=\"fill:#1f77b4;stroke:#1f77b4;\" x=\"121.164427\" xlink:href=\"#m5243c54434\" y=\"55.357156\"/>\n     <use style=\"fill:#1f77b4;stroke:#1f77b4;\" x=\"96.832909\" xlink:href=\"#m5243c54434\" y=\"61.373893\"/>\n     <use style=\"fill:#1f77b4;stroke:#1f77b4;\" x=\"142.928532\" xlink:href=\"#m5243c54434\" y=\"99.707366\"/>\n     <use style=\"fill:#1f77b4;stroke:#1f77b4;\" x=\"118.673178\" xlink:href=\"#m5243c54434\" y=\"68.768691\"/>\n     <use style=\"fill:#1f77b4;stroke:#1f77b4;\" x=\"184.851835\" xlink:href=\"#m5243c54434\" y=\"126.324441\"/>\n     <use style=\"fill:#1f77b4;stroke:#1f77b4;\" x=\"109.117534\" xlink:href=\"#m5243c54434\" y=\"74.075167\"/>\n     <use style=\"fill:#1f77b4;stroke:#1f77b4;\" x=\"124.264488\" xlink:href=\"#m5243c54434\" y=\"75.072286\"/>\n     <use style=\"fill:#1f77b4;stroke:#1f77b4;\" x=\"126.060506\" xlink:href=\"#m5243c54434\" y=\"93.947266\"/>\n     <use style=\"fill:#1f77b4;stroke:#1f77b4;\" x=\"90.432341\" xlink:href=\"#m5243c54434\" y=\"40.151173\"/>\n     <use style=\"fill:#1f77b4;stroke:#1f77b4;\" x=\"86.793895\" xlink:href=\"#m5243c54434\" y=\"43.925198\"/>\n     <use style=\"fill:#1f77b4;stroke:#1f77b4;\" x=\"100.917151\" xlink:href=\"#m5243c54434\" y=\"55.301424\"/>\n     <use style=\"fill:#1f77b4;stroke:#1f77b4;\" x=\"67.030472\" xlink:href=\"#m5243c54434\" y=\"23.929363\"/>\n     <use style=\"fill:#1f77b4;stroke:#1f77b4;\" x=\"121.392705\" xlink:href=\"#m5243c54434\" y=\"71.969779\"/>\n     <use style=\"fill:#1f77b4;stroke:#1f77b4;\" x=\"144.169662\" xlink:href=\"#m5243c54434\" y=\"83.048307\"/>\n     <use style=\"fill:#1f77b4;stroke:#1f77b4;\" x=\"131.083306\" xlink:href=\"#m5243c54434\" y=\"67.577077\"/>\n     <use style=\"fill:#1f77b4;stroke:#1f77b4;\" x=\"123.87549\" xlink:href=\"#m5243c54434\" y=\"83.222242\"/>\n     <use style=\"fill:#1f77b4;stroke:#1f77b4;\" x=\"152.123718\" xlink:href=\"#m5243c54434\" y=\"94.446272\"/>\n     <use style=\"fill:#1f77b4;stroke:#1f77b4;\" x=\"101.907583\" xlink:href=\"#m5243c54434\" y=\"59.462215\"/>\n     <use style=\"fill:#1f77b4;stroke:#1f77b4;\" x=\"110.556414\" xlink:href=\"#m5243c54434\" y=\"75.185237\"/>\n     <use style=\"fill:#1f77b4;stroke:#1f77b4;\" x=\"153.404152\" xlink:href=\"#m5243c54434\" y=\"100.274386\"/>\n     <use style=\"fill:#1f77b4;stroke:#1f77b4;\" x=\"97.415309\" xlink:href=\"#m5243c54434\" y=\"47.73156\"/>\n     <use style=\"fill:#1f77b4;stroke:#1f77b4;\" x=\"168.867438\" xlink:href=\"#m5243c54434\" y=\"117.600164\"/>\n     <use style=\"fill:#1f77b4;stroke:#1f77b4;\" x=\"139.43152\" xlink:href=\"#m5243c54434\" y=\"114.756583\"/>\n     <use style=\"fill:#1f77b4;stroke:#1f77b4;\" x=\"164.75006\" xlink:href=\"#m5243c54434\" y=\"97.133923\"/>\n     <use style=\"fill:#1f77b4;stroke:#1f77b4;\" x=\"120.228831\" xlink:href=\"#m5243c54434\" y=\"55.25569\"/>\n     <use style=\"fill:#1f77b4;stroke:#1f77b4;\" x=\"137.253936\" xlink:href=\"#m5243c54434\" y=\"81.44319\"/>\n     <use style=\"fill:#1f77b4;stroke:#1f77b4;\" x=\"128.850139\" xlink:href=\"#m5243c54434\" y=\"59.709313\"/>\n     <use style=\"fill:#1f77b4;stroke:#1f77b4;\" x=\"168.652507\" xlink:href=\"#m5243c54434\" y=\"107.835196\"/>\n     <use style=\"fill:#1f77b4;stroke:#1f77b4;\" x=\"153.473116\" xlink:href=\"#m5243c54434\" y=\"90.505918\"/>\n     <use style=\"fill:#1f77b4;stroke:#1f77b4;\" x=\"125.004008\" xlink:href=\"#m5243c54434\" y=\"85.720166\"/>\n     <use style=\"fill:#1f77b4;stroke:#1f77b4;\" x=\"150.839144\" xlink:href=\"#m5243c54434\" y=\"104.330791\"/>\n     <use style=\"fill:#1f77b4;stroke:#1f77b4;\" x=\"99.154071\" xlink:href=\"#m5243c54434\" y=\"66.829607\"/>\n     <use style=\"fill:#1f77b4;stroke:#1f77b4;\" x=\"105.867616\" xlink:href=\"#m5243c54434\" y=\"75.112926\"/>\n     <use style=\"fill:#1f77b4;stroke:#1f77b4;\" x=\"109.725132\" xlink:href=\"#m5243c54434\" y=\"81.765244\"/>\n     <use style=\"fill:#1f77b4;stroke:#1f77b4;\" x=\"143.058262\" xlink:href=\"#m5243c54434\" y=\"113.792172\"/>\n     <use style=\"fill:#1f77b4;stroke:#1f77b4;\" x=\"87.031883\" xlink:href=\"#m5243c54434\" y=\"53.610162\"/>\n     <use style=\"fill:#1f77b4;stroke:#1f77b4;\" x=\"122.560454\" xlink:href=\"#m5243c54434\" y=\"71.919261\"/>\n     <use style=\"fill:#1f77b4;stroke:#1f77b4;\" x=\"103.698838\" xlink:href=\"#m5243c54434\" y=\"55.920804\"/>\n     <use style=\"fill:#1f77b4;stroke:#1f77b4;\" x=\"116.268517\" xlink:href=\"#m5243c54434\" y=\"65.747255\"/>\n     <use style=\"fill:#1f77b4;stroke:#1f77b4;\" x=\"152.737483\" xlink:href=\"#m5243c54434\" y=\"88.874442\"/>\n     <use style=\"fill:#1f77b4;stroke:#1f77b4;\" x=\"148.194795\" xlink:href=\"#m5243c54434\" y=\"95.136661\"/>\n     <use style=\"fill:#1f77b4;stroke:#1f77b4;\" x=\"118.202653\" xlink:href=\"#m5243c54434\" y=\"73.212033\"/>\n     <use style=\"fill:#1f77b4;stroke:#1f77b4;\" x=\"136.172002\" xlink:href=\"#m5243c54434\" y=\"70.111144\"/>\n     <use style=\"fill:#1f77b4;stroke:#1f77b4;\" x=\"105.991034\" xlink:href=\"#m5243c54434\" y=\"60.80444\"/>\n     <use style=\"fill:#1f77b4;stroke:#1f77b4;\" x=\"106.341594\" xlink:href=\"#m5243c54434\" y=\"87.270706\"/>\n     <use style=\"fill:#1f77b4;stroke:#1f77b4;\" x=\"125.964066\" xlink:href=\"#m5243c54434\" y=\"69.576536\"/>\n     <use style=\"fill:#1f77b4;stroke:#1f77b4;\" x=\"151.206357\" xlink:href=\"#m5243c54434\" y=\"92.909834\"/>\n     <use style=\"fill:#1f77b4;stroke:#1f77b4;\" x=\"108.367421\" xlink:href=\"#m5243c54434\" y=\"55.075284\"/>\n     <use style=\"fill:#1f77b4;stroke:#1f77b4;\" x=\"141.290004\" xlink:href=\"#m5243c54434\" y=\"90.871304\"/>\n     <use style=\"fill:#1f77b4;stroke:#1f77b4;\" x=\"161.163447\" xlink:href=\"#m5243c54434\" y=\"87.990848\"/>\n     <use style=\"fill:#1f77b4;stroke:#1f77b4;\" x=\"143.398106\" xlink:href=\"#m5243c54434\" y=\"78.049686\"/>\n     <use style=\"fill:#1f77b4;stroke:#1f77b4;\" x=\"113.922514\" xlink:href=\"#m5243c54434\" y=\"79.563186\"/>\n     <use style=\"fill:#1f77b4;stroke:#1f77b4;\" x=\"198.828438\" xlink:href=\"#m5243c54434\" y=\"121.784444\"/>\n     <use style=\"fill:#1f77b4;stroke:#1f77b4;\" x=\"127.065536\" xlink:href=\"#m5243c54434\" y=\"79.465814\"/>\n     <use style=\"fill:#1f77b4;stroke:#1f77b4;\" x=\"138.508221\" xlink:href=\"#m5243c54434\" y=\"114.765387\"/>\n     <use style=\"fill:#1f77b4;stroke:#1f77b4;\" x=\"86.076822\" xlink:href=\"#m5243c54434\" y=\"41.595563\"/>\n     <use style=\"fill:#1f77b4;stroke:#1f77b4;\" x=\"89.609251\" xlink:href=\"#m5243c54434\" y=\"59.225309\"/>\n     <use style=\"fill:#1f77b4;stroke:#1f77b4;\" x=\"116.010209\" xlink:href=\"#m5243c54434\" y=\"75.591945\"/>\n     <use style=\"fill:#1f77b4;stroke:#1f77b4;\" x=\"153.627945\" xlink:href=\"#m5243c54434\" y=\"88.044613\"/>\n     <use style=\"fill:#1f77b4;stroke:#1f77b4;\" x=\"92.288738\" xlink:href=\"#m5243c54434\" y=\"57.311207\"/>\n     <use style=\"fill:#1f77b4;stroke:#1f77b4;\" x=\"107.34447\" xlink:href=\"#m5243c54434\" y=\"49.340493\"/>\n     <use style=\"fill:#1f77b4;stroke:#1f77b4;\" x=\"109.732431\" xlink:href=\"#m5243c54434\" y=\"67.015362\"/>\n     <use style=\"fill:#1f77b4;stroke:#1f77b4;\" x=\"132.128907\" xlink:href=\"#m5243c54434\" y=\"85.031525\"/>\n     <use style=\"fill:#1f77b4;stroke:#1f77b4;\" x=\"110.95769\" xlink:href=\"#m5243c54434\" y=\"78.316911\"/>\n     <use style=\"fill:#1f77b4;stroke:#1f77b4;\" x=\"104.896381\" xlink:href=\"#m5243c54434\" y=\"53.745518\"/>\n     <use style=\"fill:#1f77b4;stroke:#1f77b4;\" x=\"164.431895\" xlink:href=\"#m5243c54434\" y=\"124.277259\"/>\n     <use style=\"fill:#1f77b4;stroke:#1f77b4;\" x=\"136.43487\" xlink:href=\"#m5243c54434\" y=\"76.864208\"/>\n     <use style=\"fill:#1f77b4;stroke:#1f77b4;\" x=\"169.896579\" xlink:href=\"#m5243c54434\" y=\"85.183109\"/>\n     <use style=\"fill:#1f77b4;stroke:#1f77b4;\" x=\"169.660626\" xlink:href=\"#m5243c54434\" y=\"101.641487\"/>\n     <use style=\"fill:#1f77b4;stroke:#1f77b4;\" x=\"102.816148\" xlink:href=\"#m5243c54434\" y=\"66.210089\"/>\n     <use style=\"fill:#1f77b4;stroke:#1f77b4;\" x=\"144.512218\" xlink:href=\"#m5243c54434\" y=\"109.278115\"/>\n     <use style=\"fill:#1f77b4;stroke:#1f77b4;\" x=\"132.796328\" xlink:href=\"#m5243c54434\" y=\"89.0039\"/>\n     <use style=\"fill:#1f77b4;stroke:#1f77b4;\" x=\"102.006146\" xlink:href=\"#m5243c54434\" y=\"48.626299\"/>\n     <use style=\"fill:#1f77b4;stroke:#1f77b4;\" x=\"138.115959\" xlink:href=\"#m5243c54434\" y=\"82.043485\"/>\n     <use style=\"fill:#1f77b4;stroke:#1f77b4;\" x=\"128.244997\" xlink:href=\"#m5243c54434\" y=\"86.124739\"/>\n     <use style=\"fill:#1f77b4;stroke:#1f77b4;\" x=\"149.256013\" xlink:href=\"#m5243c54434\" y=\"92.999199\"/>\n     <use style=\"fill:#1f77b4;stroke:#1f77b4;\" x=\"95.239765\" xlink:href=\"#m5243c54434\" y=\"71.16152\"/>\n     <use style=\"fill:#1f77b4;stroke:#1f77b4;\" x=\"128.083619\" xlink:href=\"#m5243c54434\" y=\"75.393304\"/>\n     <use style=\"fill:#1f77b4;stroke:#1f77b4;\" x=\"119.535051\" xlink:href=\"#m5243c54434\" y=\"77.508534\"/>\n     <use style=\"fill:#1f77b4;stroke:#1f77b4;\" x=\"86.23289\" xlink:href=\"#m5243c54434\" y=\"59.110467\"/>\n     <use style=\"fill:#1f77b4;stroke:#1f77b4;\" x=\"162.904475\" xlink:href=\"#m5243c54434\" y=\"110.360419\"/>\n     <use style=\"fill:#1f77b4;stroke:#1f77b4;\" x=\"105.80136\" xlink:href=\"#m5243c54434\" y=\"65.207717\"/>\n     <use style=\"fill:#1f77b4;stroke:#1f77b4;\" x=\"127.253523\" xlink:href=\"#m5243c54434\" y=\"87.282216\"/>\n     <use style=\"fill:#1f77b4;stroke:#1f77b4;\" x=\"131.912648\" xlink:href=\"#m5243c54434\" y=\"80.670681\"/>\n     <use style=\"fill:#1f77b4;stroke:#1f77b4;\" x=\"158.394308\" xlink:href=\"#m5243c54434\" y=\"94.96457\"/>\n     <use style=\"fill:#1f77b4;stroke:#1f77b4;\" x=\"114.280639\" xlink:href=\"#m5243c54434\" y=\"70.787687\"/>\n     <use style=\"fill:#1f77b4;stroke:#1f77b4;\" x=\"146.048354\" xlink:href=\"#m5243c54434\" y=\"99.609605\"/>\n     <use style=\"fill:#1f77b4;stroke:#1f77b4;\" x=\"112.910303\" xlink:href=\"#m5243c54434\" y=\"96.072501\"/>\n     <use style=\"fill:#1f77b4;stroke:#1f77b4;\" x=\"143.129281\" xlink:href=\"#m5243c54434\" y=\"79.446248\"/>\n     <use style=\"fill:#1f77b4;stroke:#1f77b4;\" x=\"127.203598\" xlink:href=\"#m5243c54434\" y=\"69.923716\"/>\n     <use style=\"fill:#1f77b4;stroke:#1f77b4;\" x=\"97.349798\" xlink:href=\"#m5243c54434\" y=\"64.380384\"/>\n     <use style=\"fill:#1f77b4;stroke:#1f77b4;\" x=\"71.294243\" xlink:href=\"#m5243c54434\" y=\"30.920013\"/>\n     <use style=\"fill:#1f77b4;stroke:#1f77b4;\" x=\"135.271155\" xlink:href=\"#m5243c54434\" y=\"82.916529\"/>\n     <use style=\"fill:#1f77b4;stroke:#1f77b4;\" x=\"113.309359\" xlink:href=\"#m5243c54434\" y=\"94.438044\"/>\n     <use style=\"fill:#1f77b4;stroke:#1f77b4;\" x=\"103.075279\" xlink:href=\"#m5243c54434\" y=\"63.380594\"/>\n     <use style=\"fill:#1f77b4;stroke:#1f77b4;\" x=\"115.517158\" xlink:href=\"#m5243c54434\" y=\"69.128149\"/>\n     <use style=\"fill:#1f77b4;stroke:#1f77b4;\" x=\"147.700578\" xlink:href=\"#m5243c54434\" y=\"93.60013\"/>\n     <use style=\"fill:#1f77b4;stroke:#1f77b4;\" x=\"153.339725\" xlink:href=\"#m5243c54434\" y=\"109.329651\"/>\n     <use style=\"fill:#1f77b4;stroke:#1f77b4;\" x=\"192.504299\" xlink:href=\"#m5243c54434\" y=\"120.947007\"/>\n     <use style=\"fill:#1f77b4;stroke:#1f77b4;\" x=\"124.751672\" xlink:href=\"#m5243c54434\" y=\"83.997951\"/>\n     <use style=\"fill:#1f77b4;stroke:#1f77b4;\" x=\"106.872887\" xlink:href=\"#m5243c54434\" y=\"64.433148\"/>\n     <use style=\"fill:#1f77b4;stroke:#1f77b4;\" x=\"171.40341\" xlink:href=\"#m5243c54434\" y=\"100.989568\"/>\n     <use style=\"fill:#1f77b4;stroke:#1f77b4;\" x=\"112.567462\" xlink:href=\"#m5243c54434\" y=\"69.489372\"/>\n     <use style=\"fill:#1f77b4;stroke:#1f77b4;\" x=\"117.519298\" xlink:href=\"#m5243c54434\" y=\"55.224409\"/>\n     <use style=\"fill:#1f77b4;stroke:#1f77b4;\" x=\"105.269058\" xlink:href=\"#m5243c54434\" y=\"59.291351\"/>\n     <use style=\"fill:#1f77b4;stroke:#1f77b4;\" x=\"156.901834\" xlink:href=\"#m5243c54434\" y=\"72.741253\"/>\n     <use style=\"fill:#1f77b4;stroke:#1f77b4;\" x=\"92.267352\" xlink:href=\"#m5243c54434\" y=\"65.257657\"/>\n     <use style=\"fill:#1f77b4;stroke:#1f77b4;\" x=\"145.225865\" xlink:href=\"#m5243c54434\" y=\"94.625148\"/>\n     <use style=\"fill:#1f77b4;stroke:#1f77b4;\" x=\"171.036767\" xlink:href=\"#m5243c54434\" y=\"100.690694\"/>\n     <use style=\"fill:#1f77b4;stroke:#1f77b4;\" x=\"147.39883\" xlink:href=\"#m5243c54434\" y=\"113.8212\"/>\n     <use style=\"fill:#1f77b4;stroke:#1f77b4;\" x=\"144.501568\" xlink:href=\"#m5243c54434\" y=\"108.30579\"/>\n     <use style=\"fill:#1f77b4;stroke:#1f77b4;\" x=\"104.247936\" xlink:href=\"#m5243c54434\" y=\"73.894925\"/>\n     <use style=\"fill:#1f77b4;stroke:#1f77b4;\" x=\"159.063439\" xlink:href=\"#m5243c54434\" y=\"107.477942\"/>\n     <use style=\"fill:#1f77b4;stroke:#1f77b4;\" x=\"98.059647\" xlink:href=\"#m5243c54434\" y=\"61.914406\"/>\n     <use style=\"fill:#1f77b4;stroke:#1f77b4;\" x=\"124.252244\" xlink:href=\"#m5243c54434\" y=\"82.635945\"/>\n     <use style=\"fill:#1f77b4;stroke:#1f77b4;\" x=\"69.077263\" xlink:href=\"#m5243c54434\" y=\"42.81306\"/>\n     <use style=\"fill:#1f77b4;stroke:#1f77b4;\" x=\"131.385224\" xlink:href=\"#m5243c54434\" y=\"88.570412\"/>\n     <use style=\"fill:#1f77b4;stroke:#1f77b4;\" x=\"155.097111\" xlink:href=\"#m5243c54434\" y=\"104.178321\"/>\n     <use style=\"fill:#1f77b4;stroke:#1f77b4;\" x=\"127.43306\" xlink:href=\"#m5243c54434\" y=\"70.426214\"/>\n     <use style=\"fill:#1f77b4;stroke:#1f77b4;\" x=\"94.736575\" xlink:href=\"#m5243c54434\" y=\"52.380795\"/>\n     <use style=\"fill:#1f77b4;stroke:#1f77b4;\" x=\"87.173018\" xlink:href=\"#m5243c54434\" y=\"39.170578\"/>\n     <use style=\"fill:#1f77b4;stroke:#1f77b4;\" x=\"135.643707\" xlink:href=\"#m5243c54434\" y=\"94.553198\"/>\n     <use style=\"fill:#1f77b4;stroke:#1f77b4;\" x=\"173.662729\" xlink:href=\"#m5243c54434\" y=\"89.020056\"/>\n     <use style=\"fill:#1f77b4;stroke:#1f77b4;\" x=\"95.617651\" xlink:href=\"#m5243c54434\" y=\"48.882596\"/>\n     <use style=\"fill:#1f77b4;stroke:#1f77b4;\" x=\"144.290802\" xlink:href=\"#m5243c54434\" y=\"83.061476\"/>\n     <use style=\"fill:#1f77b4;stroke:#1f77b4;\" x=\"124.511211\" xlink:href=\"#m5243c54434\" y=\"84.932064\"/>\n     <use style=\"fill:#1f77b4;stroke:#1f77b4;\" x=\"174.012712\" xlink:href=\"#m5243c54434\" y=\"98.528264\"/>\n     <use style=\"fill:#1f77b4;stroke:#1f77b4;\" x=\"169.440499\" xlink:href=\"#m5243c54434\" y=\"93.728066\"/>\n     <use style=\"fill:#1f77b4;stroke:#1f77b4;\" x=\"154.880635\" xlink:href=\"#m5243c54434\" y=\"95.493027\"/>\n     <use style=\"fill:#1f77b4;stroke:#1f77b4;\" x=\"119.953726\" xlink:href=\"#m5243c54434\" y=\"65.741659\"/>\n     <use style=\"fill:#1f77b4;stroke:#1f77b4;\" x=\"116.807533\" xlink:href=\"#m5243c54434\" y=\"89.135722\"/>\n     <use style=\"fill:#1f77b4;stroke:#1f77b4;\" x=\"132.394742\" xlink:href=\"#m5243c54434\" y=\"100.950803\"/>\n     <use style=\"fill:#1f77b4;stroke:#1f77b4;\" x=\"113.41823\" xlink:href=\"#m5243c54434\" y=\"58.924532\"/>\n     <use style=\"fill:#1f77b4;stroke:#1f77b4;\" x=\"140.558506\" xlink:href=\"#m5243c54434\" y=\"91.621578\"/>\n     <use style=\"fill:#1f77b4;stroke:#1f77b4;\" x=\"190.054626\" xlink:href=\"#m5243c54434\" y=\"103.524672\"/>\n     <use style=\"fill:#1f77b4;stroke:#1f77b4;\" x=\"110.256233\" xlink:href=\"#m5243c54434\" y=\"77.422396\"/>\n     <use style=\"fill:#1f77b4;stroke:#1f77b4;\" x=\"122.233402\" xlink:href=\"#m5243c54434\" y=\"73.824651\"/>\n     <use style=\"fill:#1f77b4;stroke:#1f77b4;\" x=\"177.421202\" xlink:href=\"#m5243c54434\" y=\"109.947255\"/>\n     <use style=\"fill:#1f77b4;stroke:#1f77b4;\" x=\"102.239481\" xlink:href=\"#m5243c54434\" y=\"65.106602\"/>\n     <use style=\"fill:#1f77b4;stroke:#1f77b4;\" x=\"136.294574\" xlink:href=\"#m5243c54434\" y=\"97.976734\"/>\n     <use style=\"fill:#1f77b4;stroke:#1f77b4;\" x=\"104.93839\" xlink:href=\"#m5243c54434\" y=\"75.099311\"/>\n     <use style=\"fill:#1f77b4;stroke:#1f77b4;\" x=\"167.113682\" xlink:href=\"#m5243c54434\" y=\"107.842468\"/>\n     <use style=\"fill:#1f77b4;stroke:#1f77b4;\" x=\"144.687623\" xlink:href=\"#m5243c54434\" y=\"95.897551\"/>\n     <use style=\"fill:#1f77b4;stroke:#1f77b4;\" x=\"144.533265\" xlink:href=\"#m5243c54434\" y=\"86.690344\"/>\n     <use style=\"fill:#1f77b4;stroke:#1f77b4;\" x=\"136.003573\" xlink:href=\"#m5243c54434\" y=\"85.864711\"/>\n     <use style=\"fill:#1f77b4;stroke:#1f77b4;\" x=\"102.546079\" xlink:href=\"#m5243c54434\" y=\"60.775216\"/>\n     <use style=\"fill:#1f77b4;stroke:#1f77b4;\" x=\"114.939715\" xlink:href=\"#m5243c54434\" y=\"73.773403\"/>\n     <use style=\"fill:#1f77b4;stroke:#1f77b4;\" x=\"137.741387\" xlink:href=\"#m5243c54434\" y=\"105.368191\"/>\n     <use style=\"fill:#1f77b4;stroke:#1f77b4;\" x=\"144.285727\" xlink:href=\"#m5243c54434\" y=\"92.868126\"/>\n     <use style=\"fill:#1f77b4;stroke:#1f77b4;\" x=\"119.131055\" xlink:href=\"#m5243c54434\" y=\"73.199145\"/>\n     <use style=\"fill:#1f77b4;stroke:#1f77b4;\" x=\"142.421411\" xlink:href=\"#m5243c54434\" y=\"103.792689\"/>\n     <use style=\"fill:#1f77b4;stroke:#1f77b4;\" x=\"96.127507\" xlink:href=\"#m5243c54434\" y=\"37.939737\"/>\n     <use style=\"fill:#1f77b4;stroke:#1f77b4;\" x=\"81.858073\" xlink:href=\"#m5243c54434\" y=\"45.07075\"/>\n     <use style=\"fill:#1f77b4;stroke:#1f77b4;\" x=\"157.742712\" xlink:href=\"#m5243c54434\" y=\"106.49973\"/>\n     <use style=\"fill:#1f77b4;stroke:#1f77b4;\" x=\"126.453863\" xlink:href=\"#m5243c54434\" y=\"80.904421\"/>\n     <use style=\"fill:#1f77b4;stroke:#1f77b4;\" x=\"145.561909\" xlink:href=\"#m5243c54434\" y=\"76.811072\"/>\n     <use style=\"fill:#1f77b4;stroke:#1f77b4;\" x=\"123.31446\" xlink:href=\"#m5243c54434\" y=\"63.75263\"/>\n     <use style=\"fill:#1f77b4;stroke:#1f77b4;\" x=\"159.907935\" xlink:href=\"#m5243c54434\" y=\"105.078119\"/>\n     <use style=\"fill:#1f77b4;stroke:#1f77b4;\" x=\"153.866542\" xlink:href=\"#m5243c54434\" y=\"98.560522\"/>\n     <use style=\"fill:#1f77b4;stroke:#1f77b4;\" x=\"71.198194\" xlink:href=\"#m5243c54434\" y=\"41.908563\"/>\n     <use style=\"fill:#1f77b4;stroke:#1f77b4;\" x=\"146.42935\" xlink:href=\"#m5243c54434\" y=\"109.732494\"/>\n     <use style=\"fill:#1f77b4;stroke:#1f77b4;\" x=\"118.121665\" xlink:href=\"#m5243c54434\" y=\"63.850815\"/>\n     <use style=\"fill:#1f77b4;stroke:#1f77b4;\" x=\"52.920733\" xlink:href=\"#m5243c54434\" y=\"16.63297\"/>\n     <use style=\"fill:#1f77b4;stroke:#1f77b4;\" x=\"118.065501\" xlink:href=\"#m5243c54434\" y=\"79.572928\"/>\n     <use style=\"fill:#1f77b4;stroke:#1f77b4;\" x=\"87.808778\" xlink:href=\"#m5243c54434\" y=\"47.239459\"/>\n     <use style=\"fill:#1f77b4;stroke:#1f77b4;\" x=\"132.454905\" xlink:href=\"#m5243c54434\" y=\"77.371758\"/>\n     <use style=\"fill:#1f77b4;stroke:#1f77b4;\" x=\"59.976715\" xlink:href=\"#m5243c54434\" y=\"23.947481\"/>\n     <use style=\"fill:#1f77b4;stroke:#1f77b4;\" x=\"169.985357\" xlink:href=\"#m5243c54434\" y=\"99.798518\"/>\n     <use style=\"fill:#1f77b4;stroke:#1f77b4;\" x=\"122.509138\" xlink:href=\"#m5243c54434\" y=\"96.194987\"/>\n     <use style=\"fill:#1f77b4;stroke:#1f77b4;\" x=\"171.874849\" xlink:href=\"#m5243c54434\" y=\"126.560977\"/>\n     <use style=\"fill:#1f77b4;stroke:#1f77b4;\" x=\"140.177809\" xlink:href=\"#m5243c54434\" y=\"90.754222\"/>\n     <use style=\"fill:#1f77b4;stroke:#1f77b4;\" x=\"91.638869\" xlink:href=\"#m5243c54434\" y=\"54.184051\"/>\n     <use style=\"fill:#1f77b4;stroke:#1f77b4;\" x=\"118.422218\" xlink:href=\"#m5243c54434\" y=\"63.970769\"/>\n     <use style=\"fill:#1f77b4;stroke:#1f77b4;\" x=\"175.479892\" xlink:href=\"#m5243c54434\" y=\"117.412444\"/>\n     <use style=\"fill:#1f77b4;stroke:#1f77b4;\" x=\"155.723224\" xlink:href=\"#m5243c54434\" y=\"110.648373\"/>\n     <use style=\"fill:#1f77b4;stroke:#1f77b4;\" x=\"150.959275\" xlink:href=\"#m5243c54434\" y=\"101.194373\"/>\n     <use style=\"fill:#1f77b4;stroke:#1f77b4;\" x=\"140.902071\" xlink:href=\"#m5243c54434\" y=\"96.897799\"/>\n     <use style=\"fill:#1f77b4;stroke:#1f77b4;\" x=\"150.747848\" xlink:href=\"#m5243c54434\" y=\"96.03755\"/>\n     <use style=\"fill:#1f77b4;stroke:#1f77b4;\" x=\"111.666323\" xlink:href=\"#m5243c54434\" y=\"53.568002\"/>\n     <use style=\"fill:#1f77b4;stroke:#1f77b4;\" x=\"123.751896\" xlink:href=\"#m5243c54434\" y=\"82.950906\"/>\n     <use style=\"fill:#1f77b4;stroke:#1f77b4;\" x=\"137.759815\" xlink:href=\"#m5243c54434\" y=\"81.842749\"/>\n     <use style=\"fill:#1f77b4;stroke:#1f77b4;\" x=\"168.254539\" xlink:href=\"#m5243c54434\" y=\"95.094715\"/>\n     <use style=\"fill:#1f77b4;stroke:#1f77b4;\" x=\"95.866845\" xlink:href=\"#m5243c54434\" y=\"45.98577\"/>\n     <use style=\"fill:#1f77b4;stroke:#1f77b4;\" x=\"98.024691\" xlink:href=\"#m5243c54434\" y=\"46.353652\"/>\n     <use style=\"fill:#1f77b4;stroke:#1f77b4;\" x=\"131.456168\" xlink:href=\"#m5243c54434\" y=\"93.293821\"/>\n     <use style=\"fill:#1f77b4;stroke:#1f77b4;\" x=\"120.760862\" xlink:href=\"#m5243c54434\" y=\"82.378235\"/>\n     <use style=\"fill:#1f77b4;stroke:#1f77b4;\" x=\"161.398421\" xlink:href=\"#m5243c54434\" y=\"97.217609\"/>\n     <use style=\"fill:#1f77b4;stroke:#1f77b4;\" x=\"98.566085\" xlink:href=\"#m5243c54434\" y=\"68.785541\"/>\n     <use style=\"fill:#1f77b4;stroke:#1f77b4;\" x=\"112.452428\" xlink:href=\"#m5243c54434\" y=\"83.907472\"/>\n     <use style=\"fill:#1f77b4;stroke:#1f77b4;\" x=\"114.297563\" xlink:href=\"#m5243c54434\" y=\"71.510036\"/>\n     <use style=\"fill:#1f77b4;stroke:#1f77b4;\" x=\"100.402719\" xlink:href=\"#m5243c54434\" y=\"45.845608\"/>\n     <use style=\"fill:#1f77b4;stroke:#1f77b4;\" x=\"81.580153\" xlink:href=\"#m5243c54434\" y=\"49.774921\"/>\n     <use style=\"fill:#1f77b4;stroke:#1f77b4;\" x=\"119.760213\" xlink:href=\"#m5243c54434\" y=\"87.786903\"/>\n     <use style=\"fill:#1f77b4;stroke:#1f77b4;\" x=\"129.861268\" xlink:href=\"#m5243c54434\" y=\"63.276466\"/>\n     <use style=\"fill:#1f77b4;stroke:#1f77b4;\" x=\"156.488788\" xlink:href=\"#m5243c54434\" y=\"93.615305\"/>\n     <use style=\"fill:#1f77b4;stroke:#1f77b4;\" x=\"110.792157\" xlink:href=\"#m5243c54434\" y=\"63.550783\"/>\n     <use style=\"fill:#1f77b4;stroke:#1f77b4;\" x=\"111.460338\" xlink:href=\"#m5243c54434\" y=\"70.414864\"/>\n     <use style=\"fill:#1f77b4;stroke:#1f77b4;\" x=\"126.469028\" xlink:href=\"#m5243c54434\" y=\"75.062967\"/>\n     <use style=\"fill:#1f77b4;stroke:#1f77b4;\" x=\"114.447252\" xlink:href=\"#m5243c54434\" y=\"75.843729\"/>\n     <use style=\"fill:#1f77b4;stroke:#1f77b4;\" x=\"134.395057\" xlink:href=\"#m5243c54434\" y=\"71.577735\"/>\n     <use style=\"fill:#1f77b4;stroke:#1f77b4;\" x=\"147.88146\" xlink:href=\"#m5243c54434\" y=\"89.635157\"/>\n     <use style=\"fill:#1f77b4;stroke:#1f77b4;\" x=\"94.159568\" xlink:href=\"#m5243c54434\" y=\"61.653452\"/>\n     <use style=\"fill:#1f77b4;stroke:#1f77b4;\" x=\"134.960686\" xlink:href=\"#m5243c54434\" y=\"72.028467\"/>\n     <use style=\"fill:#1f77b4;stroke:#1f77b4;\" x=\"172.475535\" xlink:href=\"#m5243c54434\" y=\"104.442058\"/>\n     <use style=\"fill:#1f77b4;stroke:#1f77b4;\" x=\"163.586373\" xlink:href=\"#m5243c54434\" y=\"87.254796\"/>\n     <use style=\"fill:#1f77b4;stroke:#1f77b4;\" x=\"95.144838\" xlink:href=\"#m5243c54434\" y=\"44.96511\"/>\n     <use style=\"fill:#1f77b4;stroke:#1f77b4;\" x=\"70.543096\" xlink:href=\"#m5243c54434\" y=\"42.889025\"/>\n     <use style=\"fill:#1f77b4;stroke:#1f77b4;\" x=\"148.504059\" xlink:href=\"#m5243c54434\" y=\"87.075496\"/>\n     <use style=\"fill:#1f77b4;stroke:#1f77b4;\" x=\"110.115949\" xlink:href=\"#m5243c54434\" y=\"55.179486\"/>\n     <use style=\"fill:#1f77b4;stroke:#1f77b4;\" x=\"120.873309\" xlink:href=\"#m5243c54434\" y=\"81.905325\"/>\n     <use style=\"fill:#1f77b4;stroke:#1f77b4;\" x=\"92.560897\" xlink:href=\"#m5243c54434\" y=\"46.080107\"/>\n     <use style=\"fill:#1f77b4;stroke:#1f77b4;\" x=\"137.703188\" xlink:href=\"#m5243c54434\" y=\"80.534395\"/>\n     <use style=\"fill:#1f77b4;stroke:#1f77b4;\" x=\"113.587315\" xlink:href=\"#m5243c54434\" y=\"72.415493\"/>\n     <use style=\"fill:#1f77b4;stroke:#1f77b4;\" x=\"168.480742\" xlink:href=\"#m5243c54434\" y=\"107.619744\"/>\n     <use style=\"fill:#1f77b4;stroke:#1f77b4;\" x=\"89.700554\" xlink:href=\"#m5243c54434\" y=\"39.128833\"/>\n     <use style=\"fill:#1f77b4;stroke:#1f77b4;\" x=\"186.358531\" xlink:href=\"#m5243c54434\" y=\"116.451788\"/>\n     <use style=\"fill:#1f77b4;stroke:#1f77b4;\" x=\"150.527235\" xlink:href=\"#m5243c54434\" y=\"105.718524\"/>\n     <use style=\"fill:#1f77b4;stroke:#1f77b4;\" x=\"146.700091\" xlink:href=\"#m5243c54434\" y=\"86.520475\"/>\n     <use style=\"fill:#1f77b4;stroke:#1f77b4;\" x=\"150.629243\" xlink:href=\"#m5243c54434\" y=\"71.167559\"/>\n     <use style=\"fill:#1f77b4;stroke:#1f77b4;\" x=\"141.029326\" xlink:href=\"#m5243c54434\" y=\"78.544234\"/>\n     <use style=\"fill:#1f77b4;stroke:#1f77b4;\" x=\"126.2661\" xlink:href=\"#m5243c54434\" y=\"64.905087\"/>\n     <use style=\"fill:#1f77b4;stroke:#1f77b4;\" x=\"110.034531\" xlink:href=\"#m5243c54434\" y=\"74.959396\"/>\n     <use style=\"fill:#1f77b4;stroke:#1f77b4;\" x=\"168.613471\" xlink:href=\"#m5243c54434\" y=\"115.367801\"/>\n     <use style=\"fill:#1f77b4;stroke:#1f77b4;\" x=\"182.824815\" xlink:href=\"#m5243c54434\" y=\"118.889305\"/>\n     <use style=\"fill:#1f77b4;stroke:#1f77b4;\" x=\"109.645056\" xlink:href=\"#m5243c54434\" y=\"72.873375\"/>\n     <use style=\"fill:#1f77b4;stroke:#1f77b4;\" x=\"140.732809\" xlink:href=\"#m5243c54434\" y=\"86.518767\"/>\n     <use style=\"fill:#1f77b4;stroke:#1f77b4;\" x=\"136.82647\" xlink:href=\"#m5243c54434\" y=\"71.90441\"/>\n     <use style=\"fill:#1f77b4;stroke:#1f77b4;\" x=\"139.565369\" xlink:href=\"#m5243c54434\" y=\"90.770096\"/>\n     <use style=\"fill:#1f77b4;stroke:#1f77b4;\" x=\"146.632972\" xlink:href=\"#m5243c54434\" y=\"108.540888\"/>\n     <use style=\"fill:#1f77b4;stroke:#1f77b4;\" x=\"134.774376\" xlink:href=\"#m5243c54434\" y=\"68.163929\"/>\n     <use style=\"fill:#1f77b4;stroke:#1f77b4;\" x=\"108.970303\" xlink:href=\"#m5243c54434\" y=\"79.271487\"/>\n     <use style=\"fill:#1f77b4;stroke:#1f77b4;\" x=\"74.073748\" xlink:href=\"#m5243c54434\" y=\"39.739525\"/>\n     <use style=\"fill:#1f77b4;stroke:#1f77b4;\" x=\"105.77808\" xlink:href=\"#m5243c54434\" y=\"80.202565\"/>\n     <use style=\"fill:#1f77b4;stroke:#1f77b4;\" x=\"118.567467\" xlink:href=\"#m5243c54434\" y=\"74.234385\"/>\n     <use style=\"fill:#1f77b4;stroke:#1f77b4;\" x=\"160.572769\" xlink:href=\"#m5243c54434\" y=\"92.115063\"/>\n     <use style=\"fill:#1f77b4;stroke:#1f77b4;\" x=\"160.278046\" xlink:href=\"#m5243c54434\" y=\"84.762127\"/>\n     <use style=\"fill:#1f77b4;stroke:#1f77b4;\" x=\"114.189391\" xlink:href=\"#m5243c54434\" y=\"67.596003\"/>\n     <use style=\"fill:#1f77b4;stroke:#1f77b4;\" x=\"111.18872\" xlink:href=\"#m5243c54434\" y=\"66.520864\"/>\n     <use style=\"fill:#1f77b4;stroke:#1f77b4;\" x=\"105.771231\" xlink:href=\"#m5243c54434\" y=\"54.744989\"/>\n     <use style=\"fill:#1f77b4;stroke:#1f77b4;\" x=\"89.698069\" xlink:href=\"#m5243c54434\" y=\"49.748562\"/>\n     <use style=\"fill:#1f77b4;stroke:#1f77b4;\" x=\"70.532989\" xlink:href=\"#m5243c54434\" y=\"51.319504\"/>\n     <use style=\"fill:#1f77b4;stroke:#1f77b4;\" x=\"104.826429\" xlink:href=\"#m5243c54434\" y=\"56.124199\"/>\n     <use style=\"fill:#1f77b4;stroke:#1f77b4;\" x=\"126.636964\" xlink:href=\"#m5243c54434\" y=\"79.958917\"/>\n     <use style=\"fill:#1f77b4;stroke:#1f77b4;\" x=\"129.287691\" xlink:href=\"#m5243c54434\" y=\"93.427762\"/>\n     <use style=\"fill:#1f77b4;stroke:#1f77b4;\" x=\"154.091882\" xlink:href=\"#m5243c54434\" y=\"100.133205\"/>\n     <use style=\"fill:#1f77b4;stroke:#1f77b4;\" x=\"162.110969\" xlink:href=\"#m5243c54434\" y=\"102.822569\"/>\n     <use style=\"fill:#1f77b4;stroke:#1f77b4;\" x=\"123.14474\" xlink:href=\"#m5243c54434\" y=\"79.046387\"/>\n     <use style=\"fill:#1f77b4;stroke:#1f77b4;\" x=\"136.20351\" xlink:href=\"#m5243c54434\" y=\"86.921084\"/>\n     <use style=\"fill:#1f77b4;stroke:#1f77b4;\" x=\"102.869336\" xlink:href=\"#m5243c54434\" y=\"64.03731\"/>\n     <use style=\"fill:#1f77b4;stroke:#1f77b4;\" x=\"96.353819\" xlink:href=\"#m5243c54434\" y=\"55.264781\"/>\n     <use style=\"fill:#1f77b4;stroke:#1f77b4;\" x=\"131.196735\" xlink:href=\"#m5243c54434\" y=\"85.533102\"/>\n     <use style=\"fill:#1f77b4;stroke:#1f77b4;\" x=\"176.803998\" xlink:href=\"#m5243c54434\" y=\"108.628906\"/>\n     <use style=\"fill:#1f77b4;stroke:#1f77b4;\" x=\"119.482428\" xlink:href=\"#m5243c54434\" y=\"71.716738\"/>\n     <use style=\"fill:#1f77b4;stroke:#1f77b4;\" x=\"131.110032\" xlink:href=\"#m5243c54434\" y=\"74.567196\"/>\n     <use style=\"fill:#1f77b4;stroke:#1f77b4;\" x=\"105.192223\" xlink:href=\"#m5243c54434\" y=\"59.176989\"/>\n     <use style=\"fill:#1f77b4;stroke:#1f77b4;\" x=\"111.824486\" xlink:href=\"#m5243c54434\" y=\"91.758386\"/>\n     <use style=\"fill:#1f77b4;stroke:#1f77b4;\" x=\"146.231821\" xlink:href=\"#m5243c54434\" y=\"80.274169\"/>\n     <use style=\"fill:#1f77b4;stroke:#1f77b4;\" x=\"98.895667\" xlink:href=\"#m5243c54434\" y=\"43.911419\"/>\n     <use style=\"fill:#1f77b4;stroke:#1f77b4;\" x=\"161.233616\" xlink:href=\"#m5243c54434\" y=\"105.556795\"/>\n     <use style=\"fill:#1f77b4;stroke:#1f77b4;\" x=\"87.364563\" xlink:href=\"#m5243c54434\" y=\"75.666857\"/>\n     <use style=\"fill:#1f77b4;stroke:#1f77b4;\" x=\"171.696102\" xlink:href=\"#m5243c54434\" y=\"122.758984\"/>\n     <use style=\"fill:#1f77b4;stroke:#1f77b4;\" x=\"137.146786\" xlink:href=\"#m5243c54434\" y=\"99.304752\"/>\n     <use style=\"fill:#1f77b4;stroke:#1f77b4;\" x=\"89.007483\" xlink:href=\"#m5243c54434\" y=\"44.988929\"/>\n     <use style=\"fill:#1f77b4;stroke:#1f77b4;\" x=\"127.769406\" xlink:href=\"#m5243c54434\" y=\"66.823375\"/>\n     <use style=\"fill:#1f77b4;stroke:#1f77b4;\" x=\"91.390257\" xlink:href=\"#m5243c54434\" y=\"48.082073\"/>\n     <use style=\"fill:#1f77b4;stroke:#1f77b4;\" x=\"114.739309\" xlink:href=\"#m5243c54434\" y=\"65.952225\"/>\n     <use style=\"fill:#1f77b4;stroke:#1f77b4;\" x=\"88.194662\" xlink:href=\"#m5243c54434\" y=\"55.014493\"/>\n     <use style=\"fill:#1f77b4;stroke:#1f77b4;\" x=\"71.600885\" xlink:href=\"#m5243c54434\" y=\"37.033172\"/>\n     <use style=\"fill:#1f77b4;stroke:#1f77b4;\" x=\"105.738217\" xlink:href=\"#m5243c54434\" y=\"98.000613\"/>\n     <use style=\"fill:#1f77b4;stroke:#1f77b4;\" x=\"106.895579\" xlink:href=\"#m5243c54434\" y=\"59.057438\"/>\n     <use style=\"fill:#1f77b4;stroke:#1f77b4;\" x=\"125.971387\" xlink:href=\"#m5243c54434\" y=\"52.437142\"/>\n     <use style=\"fill:#1f77b4;stroke:#1f77b4;\" x=\"128.292797\" xlink:href=\"#m5243c54434\" y=\"80.57082\"/>\n     <use style=\"fill:#1f77b4;stroke:#1f77b4;\" x=\"127.992062\" xlink:href=\"#m5243c54434\" y=\"74.274735\"/>\n     <use style=\"fill:#1f77b4;stroke:#1f77b4;\" x=\"130.260803\" xlink:href=\"#m5243c54434\" y=\"83.269494\"/>\n     <use style=\"fill:#1f77b4;stroke:#1f77b4;\" x=\"144.825956\" xlink:href=\"#m5243c54434\" y=\"108.981697\"/>\n     <use style=\"fill:#1f77b4;stroke:#1f77b4;\" x=\"141.21503\" xlink:href=\"#m5243c54434\" y=\"98.380539\"/>\n     <use style=\"fill:#1f77b4;stroke:#1f77b4;\" x=\"140.722653\" xlink:href=\"#m5243c54434\" y=\"105.133956\"/>\n     <use style=\"fill:#1f77b4;stroke:#1f77b4;\" x=\"110.830309\" xlink:href=\"#m5243c54434\" y=\"72.189528\"/>\n     <use style=\"fill:#1f77b4;stroke:#1f77b4;\" x=\"128.235736\" xlink:href=\"#m5243c54434\" y=\"83.48493\"/>\n     <use style=\"fill:#1f77b4;stroke:#1f77b4;\" x=\"108.147635\" xlink:href=\"#m5243c54434\" y=\"55.777497\"/>\n     <use style=\"fill:#1f77b4;stroke:#1f77b4;\" x=\"141.131332\" xlink:href=\"#m5243c54434\" y=\"86.558922\"/>\n     <use style=\"fill:#1f77b4;stroke:#1f77b4;\" x=\"157.834181\" xlink:href=\"#m5243c54434\" y=\"98.767394\"/>\n     <use style=\"fill:#1f77b4;stroke:#1f77b4;\" x=\"151.598605\" xlink:href=\"#m5243c54434\" y=\"92.47486\"/>\n     <use style=\"fill:#1f77b4;stroke:#1f77b4;\" x=\"130.818437\" xlink:href=\"#m5243c54434\" y=\"83.021824\"/>\n     <use style=\"fill:#1f77b4;stroke:#1f77b4;\" x=\"135.543798\" xlink:href=\"#m5243c54434\" y=\"80.288103\"/>\n     <use style=\"fill:#1f77b4;stroke:#1f77b4;\" x=\"144.155242\" xlink:href=\"#m5243c54434\" y=\"82.169946\"/>\n     <use style=\"fill:#1f77b4;stroke:#1f77b4;\" x=\"102.525429\" xlink:href=\"#m5243c54434\" y=\"41.392908\"/>\n     <use style=\"fill:#1f77b4;stroke:#1f77b4;\" x=\"79.080479\" xlink:href=\"#m5243c54434\" y=\"58.352657\"/>\n     <use style=\"fill:#1f77b4;stroke:#1f77b4;\" x=\"118.54034\" xlink:href=\"#m5243c54434\" y=\"77.385484\"/>\n     <use style=\"fill:#1f77b4;stroke:#1f77b4;\" x=\"113.74289\" xlink:href=\"#m5243c54434\" y=\"60.221886\"/>\n     <use style=\"fill:#1f77b4;stroke:#1f77b4;\" x=\"140.131097\" xlink:href=\"#m5243c54434\" y=\"87.997104\"/>\n     <use style=\"fill:#1f77b4;stroke:#1f77b4;\" x=\"144.137652\" xlink:href=\"#m5243c54434\" y=\"107.031767\"/>\n     <use style=\"fill:#1f77b4;stroke:#1f77b4;\" x=\"124.326058\" xlink:href=\"#m5243c54434\" y=\"64.679896\"/>\n     <use style=\"fill:#1f77b4;stroke:#1f77b4;\" x=\"103.919947\" xlink:href=\"#m5243c54434\" y=\"64.31051\"/>\n     <use style=\"fill:#1f77b4;stroke:#1f77b4;\" x=\"104.872479\" xlink:href=\"#m5243c54434\" y=\"57.373306\"/>\n     <use style=\"fill:#1f77b4;stroke:#1f77b4;\" x=\"155.897819\" xlink:href=\"#m5243c54434\" y=\"80.780499\"/>\n     <use style=\"fill:#1f77b4;stroke:#1f77b4;\" x=\"138.973167\" xlink:href=\"#m5243c54434\" y=\"83.669382\"/>\n     <use style=\"fill:#1f77b4;stroke:#1f77b4;\" x=\"111.488326\" xlink:href=\"#m5243c54434\" y=\"70.882555\"/>\n     <use style=\"fill:#1f77b4;stroke:#1f77b4;\" x=\"107.907562\" xlink:href=\"#m5243c54434\" y=\"74.087392\"/>\n     <use style=\"fill:#1f77b4;stroke:#1f77b4;\" x=\"125.580092\" xlink:href=\"#m5243c54434\" y=\"64.435283\"/>\n     <use style=\"fill:#1f77b4;stroke:#1f77b4;\" x=\"126.736975\" xlink:href=\"#m5243c54434\" y=\"72.08213\"/>\n     <use style=\"fill:#1f77b4;stroke:#1f77b4;\" x=\"90.702024\" xlink:href=\"#m5243c54434\" y=\"55.969885\"/>\n     <use style=\"fill:#1f77b4;stroke:#1f77b4;\" x=\"121.467947\" xlink:href=\"#m5243c54434\" y=\"69.822197\"/>\n     <use style=\"fill:#1f77b4;stroke:#1f77b4;\" x=\"128.737262\" xlink:href=\"#m5243c54434\" y=\"66.716688\"/>\n     <use style=\"fill:#1f77b4;stroke:#1f77b4;\" x=\"155.931159\" xlink:href=\"#m5243c54434\" y=\"103.532276\"/>\n     <use style=\"fill:#1f77b4;stroke:#1f77b4;\" x=\"162.337695\" xlink:href=\"#m5243c54434\" y=\"101.173853\"/>\n     <use style=\"fill:#1f77b4;stroke:#1f77b4;\" x=\"135.558838\" xlink:href=\"#m5243c54434\" y=\"95.11569\"/>\n     <use style=\"fill:#1f77b4;stroke:#1f77b4;\" x=\"135.199245\" xlink:href=\"#m5243c54434\" y=\"78.317609\"/>\n     <use style=\"fill:#1f77b4;stroke:#1f77b4;\" x=\"124.141042\" xlink:href=\"#m5243c54434\" y=\"100.515159\"/>\n     <use style=\"fill:#1f77b4;stroke:#1f77b4;\" x=\"138.043911\" xlink:href=\"#m5243c54434\" y=\"75.253395\"/>\n     <use style=\"fill:#1f77b4;stroke:#1f77b4;\" x=\"146.81814\" xlink:href=\"#m5243c54434\" y=\"89.371267\"/>\n     <use style=\"fill:#1f77b4;stroke:#1f77b4;\" x=\"113.223023\" xlink:href=\"#m5243c54434\" y=\"84.285163\"/>\n     <use style=\"fill:#1f77b4;stroke:#1f77b4;\" x=\"124.215798\" xlink:href=\"#m5243c54434\" y=\"86.649397\"/>\n     <use style=\"fill:#1f77b4;stroke:#1f77b4;\" x=\"122.845677\" xlink:href=\"#m5243c54434\" y=\"67.489255\"/>\n     <use style=\"fill:#1f77b4;stroke:#1f77b4;\" x=\"142.892159\" xlink:href=\"#m5243c54434\" y=\"87.315998\"/>\n     <use style=\"fill:#1f77b4;stroke:#1f77b4;\" x=\"152.087624\" xlink:href=\"#m5243c54434\" y=\"98.980124\"/>\n     <use style=\"fill:#1f77b4;stroke:#1f77b4;\" x=\"153.02205\" xlink:href=\"#m5243c54434\" y=\"111.372233\"/>\n     <use style=\"fill:#1f77b4;stroke:#1f77b4;\" x=\"147.380747\" xlink:href=\"#m5243c54434\" y=\"87.958443\"/>\n     <use style=\"fill:#1f77b4;stroke:#1f77b4;\" x=\"166.211981\" xlink:href=\"#m5243c54434\" y=\"98.009221\"/>\n     <use style=\"fill:#1f77b4;stroke:#1f77b4;\" x=\"118.355001\" xlink:href=\"#m5243c54434\" y=\"74.483615\"/>\n     <use style=\"fill:#1f77b4;stroke:#1f77b4;\" x=\"123.703042\" xlink:href=\"#m5243c54434\" y=\"63.779389\"/>\n     <use style=\"fill:#1f77b4;stroke:#1f77b4;\" x=\"87.994499\" xlink:href=\"#m5243c54434\" y=\"51.637446\"/>\n     <use style=\"fill:#1f77b4;stroke:#1f77b4;\" x=\"164.095226\" xlink:href=\"#m5243c54434\" y=\"101.830088\"/>\n     <use style=\"fill:#1f77b4;stroke:#1f77b4;\" x=\"80.2593\" xlink:href=\"#m5243c54434\" y=\"46.873338\"/>\n     <use style=\"fill:#1f77b4;stroke:#1f77b4;\" x=\"119.905288\" xlink:href=\"#m5243c54434\" y=\"88.587501\"/>\n     <use style=\"fill:#1f77b4;stroke:#1f77b4;\" x=\"167.486199\" xlink:href=\"#m5243c54434\" y=\"116.16616\"/>\n     <use style=\"fill:#1f77b4;stroke:#1f77b4;\" x=\"149.999393\" xlink:href=\"#m5243c54434\" y=\"116.067608\"/>\n     <use style=\"fill:#1f77b4;stroke:#1f77b4;\" x=\"147.278702\" xlink:href=\"#m5243c54434\" y=\"79.618964\"/>\n     <use style=\"fill:#1f77b4;stroke:#1f77b4;\" x=\"106.4877\" xlink:href=\"#m5243c54434\" y=\"79.802938\"/>\n     <use style=\"fill:#1f77b4;stroke:#1f77b4;\" x=\"97.506789\" xlink:href=\"#m5243c54434\" y=\"59.764928\"/>\n     <use style=\"fill:#1f77b4;stroke:#1f77b4;\" x=\"126.499724\" xlink:href=\"#m5243c54434\" y=\"82.706281\"/>\n     <use style=\"fill:#1f77b4;stroke:#1f77b4;\" x=\"114.390776\" xlink:href=\"#m5243c54434\" y=\"62.905614\"/>\n     <use style=\"fill:#1f77b4;stroke:#1f77b4;\" x=\"120.092392\" xlink:href=\"#m5243c54434\" y=\"77.698171\"/>\n     <use style=\"fill:#1f77b4;stroke:#1f77b4;\" x=\"114.800657\" xlink:href=\"#m5243c54434\" y=\"71.025573\"/>\n     <use style=\"fill:#1f77b4;stroke:#1f77b4;\" x=\"108.702084\" xlink:href=\"#m5243c54434\" y=\"76.705526\"/>\n     <use style=\"fill:#1f77b4;stroke:#1f77b4;\" x=\"109.468738\" xlink:href=\"#m5243c54434\" y=\"51.222292\"/>\n     <use style=\"fill:#1f77b4;stroke:#1f77b4;\" x=\"117.673837\" xlink:href=\"#m5243c54434\" y=\"66.464578\"/>\n     <use style=\"fill:#1f77b4;stroke:#1f77b4;\" x=\"119.125972\" xlink:href=\"#m5243c54434\" y=\"72.277705\"/>\n     <use style=\"fill:#1f77b4;stroke:#1f77b4;\" x=\"103.757856\" xlink:href=\"#m5243c54434\" y=\"67.707024\"/>\n     <use style=\"fill:#1f77b4;stroke:#1f77b4;\" x=\"140.418835\" xlink:href=\"#m5243c54434\" y=\"83.016824\"/>\n     <use style=\"fill:#1f77b4;stroke:#1f77b4;\" x=\"113.102374\" xlink:href=\"#m5243c54434\" y=\"62.814093\"/>\n     <use style=\"fill:#1f77b4;stroke:#1f77b4;\" x=\"127.64282\" xlink:href=\"#m5243c54434\" y=\"64.47736\"/>\n     <use style=\"fill:#1f77b4;stroke:#1f77b4;\" x=\"164.680718\" xlink:href=\"#m5243c54434\" y=\"98.255372\"/>\n     <use style=\"fill:#1f77b4;stroke:#1f77b4;\" x=\"94.690741\" xlink:href=\"#m5243c54434\" y=\"48.440636\"/>\n     <use style=\"fill:#1f77b4;stroke:#1f77b4;\" x=\"170.192\" xlink:href=\"#m5243c54434\" y=\"111.537279\"/>\n     <use style=\"fill:#1f77b4;stroke:#1f77b4;\" x=\"113.845342\" xlink:href=\"#m5243c54434\" y=\"63.505457\"/>\n     <use style=\"fill:#1f77b4;stroke:#1f77b4;\" x=\"174.564391\" xlink:href=\"#m5243c54434\" y=\"113.355723\"/>\n     <use style=\"fill:#1f77b4;stroke:#1f77b4;\" x=\"133.490988\" xlink:href=\"#m5243c54434\" y=\"82.600821\"/>\n     <use style=\"fill:#1f77b4;stroke:#1f77b4;\" x=\"97.345514\" xlink:href=\"#m5243c54434\" y=\"73.259053\"/>\n     <use style=\"fill:#1f77b4;stroke:#1f77b4;\" x=\"82.240437\" xlink:href=\"#m5243c54434\" y=\"44.955961\"/>\n     <use style=\"fill:#1f77b4;stroke:#1f77b4;\" x=\"106.88646\" xlink:href=\"#m5243c54434\" y=\"60.644474\"/>\n     <use style=\"fill:#1f77b4;stroke:#1f77b4;\" x=\"155.55746\" xlink:href=\"#m5243c54434\" y=\"98.12722\"/>\n     <use style=\"fill:#1f77b4;stroke:#1f77b4;\" x=\"74.335399\" xlink:href=\"#m5243c54434\" y=\"50.953992\"/>\n     <use style=\"fill:#1f77b4;stroke:#1f77b4;\" x=\"104.192404\" xlink:href=\"#m5243c54434\" y=\"65.734091\"/>\n     <use style=\"fill:#1f77b4;stroke:#1f77b4;\" x=\"123.049217\" xlink:href=\"#m5243c54434\" y=\"96.320595\"/>\n     <use style=\"fill:#1f77b4;stroke:#1f77b4;\" x=\"170.731116\" xlink:href=\"#m5243c54434\" y=\"117.135786\"/>\n     <use style=\"fill:#1f77b4;stroke:#1f77b4;\" x=\"125.863852\" xlink:href=\"#m5243c54434\" y=\"78.945142\"/>\n     <use style=\"fill:#1f77b4;stroke:#1f77b4;\" x=\"75.763457\" xlink:href=\"#m5243c54434\" y=\"51.888026\"/>\n     <use style=\"fill:#1f77b4;stroke:#1f77b4;\" x=\"100.734341\" xlink:href=\"#m5243c54434\" y=\"78.444445\"/>\n     <use style=\"fill:#1f77b4;stroke:#1f77b4;\" x=\"186.865796\" xlink:href=\"#m5243c54434\" y=\"117.295281\"/>\n     <use style=\"fill:#1f77b4;stroke:#1f77b4;\" x=\"142.854251\" xlink:href=\"#m5243c54434\" y=\"79.613017\"/>\n     <use style=\"fill:#1f77b4;stroke:#1f77b4;\" x=\"131.179332\" xlink:href=\"#m5243c54434\" y=\"75.649519\"/>\n     <use style=\"fill:#1f77b4;stroke:#1f77b4;\" x=\"175.80232\" xlink:href=\"#m5243c54434\" y=\"104.79704\"/>\n     <use style=\"fill:#1f77b4;stroke:#1f77b4;\" x=\"115.825844\" xlink:href=\"#m5243c54434\" y=\"50.703561\"/>\n     <use style=\"fill:#1f77b4;stroke:#1f77b4;\" x=\"118.880046\" xlink:href=\"#m5243c54434\" y=\"66.614507\"/>\n     <use style=\"fill:#1f77b4;stroke:#1f77b4;\" x=\"108.640975\" xlink:href=\"#m5243c54434\" y=\"39.715122\"/>\n     <use style=\"fill:#1f77b4;stroke:#1f77b4;\" x=\"175.275539\" xlink:href=\"#m5243c54434\" y=\"126.20279\"/>\n     <use style=\"fill:#1f77b4;stroke:#1f77b4;\" x=\"124.397694\" xlink:href=\"#m5243c54434\" y=\"77.878084\"/>\n     <use style=\"fill:#1f77b4;stroke:#1f77b4;\" x=\"178.079927\" xlink:href=\"#m5243c54434\" y=\"108.115367\"/>\n     <use style=\"fill:#1f77b4;stroke:#1f77b4;\" x=\"76.757819\" xlink:href=\"#m5243c54434\" y=\"51.639228\"/>\n     <use style=\"fill:#1f77b4;stroke:#1f77b4;\" x=\"100.279871\" xlink:href=\"#m5243c54434\" y=\"73.894907\"/>\n     <use style=\"fill:#1f77b4;stroke:#1f77b4;\" x=\"117.007122\" xlink:href=\"#m5243c54434\" y=\"60.619321\"/>\n     <use style=\"fill:#1f77b4;stroke:#1f77b4;\" x=\"101.6319\" xlink:href=\"#m5243c54434\" y=\"57.847377\"/>\n     <use style=\"fill:#1f77b4;stroke:#1f77b4;\" x=\"126.648556\" xlink:href=\"#m5243c54434\" y=\"90.08273\"/>\n     <use style=\"fill:#1f77b4;stroke:#1f77b4;\" x=\"113.540242\" xlink:href=\"#m5243c54434\" y=\"73.311192\"/>\n     <use style=\"fill:#1f77b4;stroke:#1f77b4;\" x=\"110.080795\" xlink:href=\"#m5243c54434\" y=\"61.75434\"/>\n     <use style=\"fill:#1f77b4;stroke:#1f77b4;\" x=\"149.910365\" xlink:href=\"#m5243c54434\" y=\"90.071642\"/>\n     <use style=\"fill:#1f77b4;stroke:#1f77b4;\" x=\"134.385166\" xlink:href=\"#m5243c54434\" y=\"87.296559\"/>\n     <use style=\"fill:#1f77b4;stroke:#1f77b4;\" x=\"128.994654\" xlink:href=\"#m5243c54434\" y=\"87.179841\"/>\n     <use style=\"fill:#1f77b4;stroke:#1f77b4;\" x=\"83.061491\" xlink:href=\"#m5243c54434\" y=\"46.415425\"/>\n     <use style=\"fill:#1f77b4;stroke:#1f77b4;\" x=\"143.479067\" xlink:href=\"#m5243c54434\" y=\"104.24654\"/>\n     <use style=\"fill:#1f77b4;stroke:#1f77b4;\" x=\"129.644112\" xlink:href=\"#m5243c54434\" y=\"81.045109\"/>\n     <use style=\"fill:#1f77b4;stroke:#1f77b4;\" x=\"158.583978\" xlink:href=\"#m5243c54434\" y=\"94.574042\"/>\n     <use style=\"fill:#1f77b4;stroke:#1f77b4;\" x=\"146.581989\" xlink:href=\"#m5243c54434\" y=\"106.971074\"/>\n     <use style=\"fill:#1f77b4;stroke:#1f77b4;\" x=\"93.391059\" xlink:href=\"#m5243c54434\" y=\"55.553234\"/>\n     <use style=\"fill:#1f77b4;stroke:#1f77b4;\" x=\"127.473403\" xlink:href=\"#m5243c54434\" y=\"79.248706\"/>\n     <use style=\"fill:#1f77b4;stroke:#1f77b4;\" x=\"105.621661\" xlink:href=\"#m5243c54434\" y=\"53.460363\"/>\n     <use style=\"fill:#1f77b4;stroke:#1f77b4;\" x=\"157.915453\" xlink:href=\"#m5243c54434\" y=\"90.860955\"/>\n     <use style=\"fill:#1f77b4;stroke:#1f77b4;\" x=\"119.144152\" xlink:href=\"#m5243c54434\" y=\"86.952185\"/>\n     <use style=\"fill:#1f77b4;stroke:#1f77b4;\" x=\"107.557799\" xlink:href=\"#m5243c54434\" y=\"66.138426\"/>\n     <use style=\"fill:#1f77b4;stroke:#1f77b4;\" x=\"123.123598\" xlink:href=\"#m5243c54434\" y=\"65.413194\"/>\n     <use style=\"fill:#1f77b4;stroke:#1f77b4;\" x=\"145.432642\" xlink:href=\"#m5243c54434\" y=\"74.081919\"/>\n     <use style=\"fill:#1f77b4;stroke:#1f77b4;\" x=\"128.787749\" xlink:href=\"#m5243c54434\" y=\"69.026193\"/>\n     <use style=\"fill:#1f77b4;stroke:#1f77b4;\" x=\"142.811974\" xlink:href=\"#m5243c54434\" y=\"94.127638\"/>\n     <use style=\"fill:#1f77b4;stroke:#1f77b4;\" x=\"105.333551\" xlink:href=\"#m5243c54434\" y=\"49.353842\"/>\n     <use style=\"fill:#1f77b4;stroke:#1f77b4;\" x=\"166.667332\" xlink:href=\"#m5243c54434\" y=\"101.438405\"/>\n     <use style=\"fill:#1f77b4;stroke:#1f77b4;\" x=\"122.633536\" xlink:href=\"#m5243c54434\" y=\"85.180197\"/>\n    </g>\n   </g>\n   <g id=\"matplotlib.axis_1\">\n    <g id=\"xtick_1\">\n     <g id=\"line2d_1\">\n      <defs>\n       <path d=\"M 0 0 \nL 0 3.5 \n\" id=\"mfb5d29cfb6\" style=\"stroke:#000000;stroke-width:0.8;\"/>\n      </defs>\n      <g>\n       <use style=\"stroke:#000000;stroke-width:0.8;\" x=\"69.341873\" xlink:href=\"#mfb5d29cfb6\" y=\"143.1\"/>\n      </g>\n     </g>\n     <g id=\"text_1\">\n      <!-- −2 -->\n      <defs>\n       <path d=\"M 10.59375 35.5 \nL 73.1875 35.5 \nL 73.1875 27.203125 \nL 10.59375 27.203125 \nz\n\" id=\"DejaVuSans-8722\"/>\n       <path d=\"M 19.1875 8.296875 \nL 53.609375 8.296875 \nL 53.609375 0 \nL 7.328125 0 \nL 7.328125 8.296875 \nQ 12.9375 14.109375 22.625 23.890625 \nQ 32.328125 33.6875 34.8125 36.53125 \nQ 39.546875 41.84375 41.421875 45.53125 \nQ 43.3125 49.21875 43.3125 52.78125 \nQ 43.3125 58.59375 39.234375 62.25 \nQ 35.15625 65.921875 28.609375 65.921875 \nQ 23.96875 65.921875 18.8125 64.3125 \nQ 13.671875 62.703125 7.8125 59.421875 \nL 7.8125 69.390625 \nQ 13.765625 71.78125 18.9375 73 \nQ 24.125 74.21875 28.421875 74.21875 \nQ 39.75 74.21875 46.484375 68.546875 \nQ 53.21875 62.890625 53.21875 53.421875 \nQ 53.21875 48.921875 51.53125 44.890625 \nQ 49.859375 40.875 45.40625 35.40625 \nQ 44.1875 33.984375 37.640625 27.21875 \nQ 31.109375 20.453125 19.1875 8.296875 \nz\n\" id=\"DejaVuSans-50\"/>\n      </defs>\n      <g transform=\"translate(61.970779 157.698438)scale(0.1 -0.1)\">\n       <use xlink:href=\"#DejaVuSans-8722\"/>\n       <use x=\"83.789062\" xlink:href=\"#DejaVuSans-50\"/>\n      </g>\n     </g>\n    </g>\n    <g id=\"xtick_2\">\n     <g id=\"line2d_2\">\n      <g>\n       <use style=\"stroke:#000000;stroke-width:0.8;\" x=\"124.86655\" xlink:href=\"#mfb5d29cfb6\" y=\"143.1\"/>\n      </g>\n     </g>\n     <g id=\"text_2\">\n      <!-- 0 -->\n      <defs>\n       <path d=\"M 31.78125 66.40625 \nQ 24.171875 66.40625 20.328125 58.90625 \nQ 16.5 51.421875 16.5 36.375 \nQ 16.5 21.390625 20.328125 13.890625 \nQ 24.171875 6.390625 31.78125 6.390625 \nQ 39.453125 6.390625 43.28125 13.890625 \nQ 47.125 21.390625 47.125 36.375 \nQ 47.125 51.421875 43.28125 58.90625 \nQ 39.453125 66.40625 31.78125 66.40625 \nz\nM 31.78125 74.21875 \nQ 44.046875 74.21875 50.515625 64.515625 \nQ 56.984375 54.828125 56.984375 36.375 \nQ 56.984375 17.96875 50.515625 8.265625 \nQ 44.046875 -1.421875 31.78125 -1.421875 \nQ 19.53125 -1.421875 13.0625 8.265625 \nQ 6.59375 17.96875 6.59375 36.375 \nQ 6.59375 54.828125 13.0625 64.515625 \nQ 19.53125 74.21875 31.78125 74.21875 \nz\n\" id=\"DejaVuSans-48\"/>\n      </defs>\n      <g transform=\"translate(121.6853 157.698438)scale(0.1 -0.1)\">\n       <use xlink:href=\"#DejaVuSans-48\"/>\n      </g>\n     </g>\n    </g>\n    <g id=\"xtick_3\">\n     <g id=\"line2d_3\">\n      <g>\n       <use style=\"stroke:#000000;stroke-width:0.8;\" x=\"180.391226\" xlink:href=\"#mfb5d29cfb6\" y=\"143.1\"/>\n      </g>\n     </g>\n     <g id=\"text_3\">\n      <!-- 2 -->\n      <g transform=\"translate(177.209976 157.698438)scale(0.1 -0.1)\">\n       <use xlink:href=\"#DejaVuSans-50\"/>\n      </g>\n     </g>\n    </g>\n   </g>\n   <g id=\"matplotlib.axis_2\">\n    <g id=\"ytick_1\">\n     <g id=\"line2d_4\">\n      <defs>\n       <path d=\"M 0 0 \nL -3.5 0 \n\" id=\"m60eeeb24b3\" style=\"stroke:#000000;stroke-width:0.8;\"/>\n      </defs>\n      <g>\n       <use style=\"stroke:#000000;stroke-width:0.8;\" x=\"28.942188\" xlink:href=\"#m60eeeb24b3\" y=\"128.408882\"/>\n      </g>\n     </g>\n     <g id=\"text_4\">\n      <!-- −5 -->\n      <defs>\n       <path d=\"M 10.796875 72.90625 \nL 49.515625 72.90625 \nL 49.515625 64.59375 \nL 19.828125 64.59375 \nL 19.828125 46.734375 \nQ 21.96875 47.46875 24.109375 47.828125 \nQ 26.265625 48.1875 28.421875 48.1875 \nQ 40.625 48.1875 47.75 41.5 \nQ 54.890625 34.8125 54.890625 23.390625 \nQ 54.890625 11.625 47.5625 5.09375 \nQ 40.234375 -1.421875 26.90625 -1.421875 \nQ 22.3125 -1.421875 17.546875 -0.640625 \nQ 12.796875 0.140625 7.71875 1.703125 \nL 7.71875 11.625 \nQ 12.109375 9.234375 16.796875 8.0625 \nQ 21.484375 6.890625 26.703125 6.890625 \nQ 35.15625 6.890625 40.078125 11.328125 \nQ 45.015625 15.765625 45.015625 23.390625 \nQ 45.015625 31 40.078125 35.4375 \nQ 35.15625 39.890625 26.703125 39.890625 \nQ 22.75 39.890625 18.8125 39.015625 \nQ 14.890625 38.140625 10.796875 36.28125 \nz\n\" id=\"DejaVuSans-53\"/>\n      </defs>\n      <g transform=\"translate(7.2 132.208101)scale(0.1 -0.1)\">\n       <use xlink:href=\"#DejaVuSans-8722\"/>\n       <use x=\"83.789062\" xlink:href=\"#DejaVuSans-53\"/>\n      </g>\n     </g>\n    </g>\n    <g id=\"ytick_2\">\n     <g id=\"line2d_5\">\n      <g>\n       <use style=\"stroke:#000000;stroke-width:0.8;\" x=\"28.942188\" xlink:href=\"#m60eeeb24b3\" y=\"100.602086\"/>\n      </g>\n     </g>\n     <g id=\"text_5\">\n      <!-- 0 -->\n      <g transform=\"translate(15.579688 104.401305)scale(0.1 -0.1)\">\n       <use xlink:href=\"#DejaVuSans-48\"/>\n      </g>\n     </g>\n    </g>\n    <g id=\"ytick_3\">\n     <g id=\"line2d_6\">\n      <g>\n       <use style=\"stroke:#000000;stroke-width:0.8;\" x=\"28.942188\" xlink:href=\"#m60eeeb24b3\" y=\"72.79529\"/>\n      </g>\n     </g>\n     <g id=\"text_6\">\n      <!-- 5 -->\n      <g transform=\"translate(15.579688 76.594509)scale(0.1 -0.1)\">\n       <use xlink:href=\"#DejaVuSans-53\"/>\n      </g>\n     </g>\n    </g>\n    <g id=\"ytick_4\">\n     <g id=\"line2d_7\">\n      <g>\n       <use style=\"stroke:#000000;stroke-width:0.8;\" x=\"28.942188\" xlink:href=\"#m60eeeb24b3\" y=\"44.988495\"/>\n      </g>\n     </g>\n     <g id=\"text_7\">\n      <!-- 10 -->\n      <defs>\n       <path d=\"M 12.40625 8.296875 \nL 28.515625 8.296875 \nL 28.515625 63.921875 \nL 10.984375 60.40625 \nL 10.984375 69.390625 \nL 28.421875 72.90625 \nL 38.28125 72.90625 \nL 38.28125 8.296875 \nL 54.390625 8.296875 \nL 54.390625 0 \nL 12.40625 0 \nz\n\" id=\"DejaVuSans-49\"/>\n      </defs>\n      <g transform=\"translate(9.217188 48.787713)scale(0.1 -0.1)\">\n       <use xlink:href=\"#DejaVuSans-49\"/>\n       <use x=\"63.623047\" xlink:href=\"#DejaVuSans-48\"/>\n      </g>\n     </g>\n    </g>\n    <g id=\"ytick_5\">\n     <g id=\"line2d_8\">\n      <g>\n       <use style=\"stroke:#000000;stroke-width:0.8;\" x=\"28.942188\" xlink:href=\"#m60eeeb24b3\" y=\"17.181699\"/>\n      </g>\n     </g>\n     <g id=\"text_8\">\n      <!-- 15 -->\n      <g transform=\"translate(9.217188 20.980917)scale(0.1 -0.1)\">\n       <use xlink:href=\"#DejaVuSans-49\"/>\n       <use x=\"63.623047\" xlink:href=\"#DejaVuSans-53\"/>\n      </g>\n     </g>\n    </g>\n   </g>\n   <g id=\"patch_3\">\n    <path d=\"M 28.942188 143.1 \nL 28.942188 7.2 \n\" style=\"fill:none;stroke:#000000;stroke-linecap:square;stroke-linejoin:miter;stroke-width:0.8;\"/>\n   </g>\n   <g id=\"patch_4\">\n    <path d=\"M 224.242188 143.1 \nL 224.242188 7.2 \n\" style=\"fill:none;stroke:#000000;stroke-linecap:square;stroke-linejoin:miter;stroke-width:0.8;\"/>\n   </g>\n   <g id=\"patch_5\">\n    <path d=\"M 28.942187 143.1 \nL 224.242188 143.1 \n\" style=\"fill:none;stroke:#000000;stroke-linecap:square;stroke-linejoin:miter;stroke-width:0.8;\"/>\n   </g>\n   <g id=\"patch_6\">\n    <path d=\"M 28.942187 7.2 \nL 224.242188 7.2 \n\" style=\"fill:none;stroke:#000000;stroke-linecap:square;stroke-linejoin:miter;stroke-width:0.8;\"/>\n   </g>\n  </g>\n </g>\n <defs>\n  <clipPath id=\"p48c99e487a\">\n   <rect height=\"135.9\" width=\"195.3\" x=\"28.942188\" y=\"7.2\"/>\n  </clipPath>\n </defs>\n</svg>\n"
          },
          "metadata": {
            "tags": [],
            "needs_background": "light"
          }
        }
      ]
    },
    {
      "cell_type": "markdown",
      "metadata": {
        "id": "ejj2zPFtvnKy"
      },
      "source": [
        "### Reading the Dataset\n",
        "\n",
        "Recall that training models consists of making multiple passes over the dataset, grabbing one minibatch of examples at a time, and using them to update our model. Since this process is so fundamental to training machine learning algorithms, it is worth defining a utility function to shuffle the dataset and access it in minibatches.\n",
        "\n",
        "In the following code, we define the data_iter function to demonstrate one possible implementation of this functionality. The function takes a batch size, a matrix of features, and a vector of labels, yielding minibatches of the size batch_size. Each minibatch consists of a tuple of features and labels."
      ]
    },
    {
      "cell_type": "code",
      "metadata": {
        "id": "Xmz-iEFwvMjw"
      },
      "source": [
        "def data_iter(batch_size, features, labels):\n",
        "    \"\"\"\n",
        "    Return (X, y) of shape (batch_size, d), (batch_size, 1)\n",
        "    \"\"\"\n",
        "    num_examples = len(features)\n",
        "    indices = list(range(num_examples))\n",
        "    # The examples are read at random, in no particular order\n",
        "    random.shuffle(indices)\n",
        "    for i in range(0, num_examples, batch_size):\n",
        "        batch_indices = indices[i:min(i+batch_size, num_examples)]\n",
        "        yield features[batch_indices], labels[batch_indices]"
      ],
      "execution_count": 206,
      "outputs": []
    },
    {
      "cell_type": "code",
      "metadata": {
        "colab": {
          "base_uri": "https://localhost:8080/"
        },
        "id": "LH8WaNmw3K_r",
        "outputId": "66c770d2-92c0-4f93-b8e1-2ecf8cbccb07"
      },
      "source": [
        "batch_size = 256\n",
        "\n",
        "for X, y in data_iter(batch_size, features, labels):\n",
        "    print (X.shape, y.shape)"
      ],
      "execution_count": 207,
      "outputs": [
        {
          "output_type": "stream",
          "text": [
            "torch.Size([256, 2]) torch.Size([256, 1])\n",
            "torch.Size([256, 2]) torch.Size([256, 1])\n",
            "torch.Size([256, 2]) torch.Size([256, 1])\n",
            "torch.Size([232, 2]) torch.Size([232, 1])\n"
          ],
          "name": "stdout"
        }
      ]
    },
    {
      "cell_type": "code",
      "metadata": {
        "colab": {
          "base_uri": "https://localhost:8080/"
        },
        "id": "Y3vzic073FpC",
        "outputId": "4c9f93bd-3e3b-466a-f9d4-9e10e64eb6e7"
      },
      "source": [
        "batch_size = 10\n",
        "\n",
        "for X, y in data_iter(batch_size, features, labels):\n",
        "    print(X, '\\n', y)\n",
        "    break"
      ],
      "execution_count": 208,
      "outputs": [
        {
          "output_type": "stream",
          "text": [
            "tensor([[-1.1607,  1.1842],\n",
            "        [ 0.3686, -0.7160],\n",
            "        [ 1.0556,  1.8085],\n",
            "        [ 0.6884, -0.8803],\n",
            "        [ 0.2139,  2.4363],\n",
            "        [-0.8887, -0.3942],\n",
            "        [-0.2344, -0.7447],\n",
            "        [ 0.2928,  1.1706],\n",
            "        [-0.6994, -1.1594],\n",
            "        [-1.8708,  0.4207]]) \n",
            " tensor([[-2.1534],\n",
            "        [ 7.3563],\n",
            "        [ 0.1400],\n",
            "        [ 8.5610],\n",
            "        [-3.6583],\n",
            "        [ 3.7831],\n",
            "        [ 6.2697],\n",
            "        [ 0.8171],\n",
            "        [ 6.7402],\n",
            "        [-1.0022]])\n"
          ],
          "name": "stdout"
        }
      ]
    },
    {
      "cell_type": "markdown",
      "metadata": {
        "id": "L7-JSq5i3Yiu"
      },
      "source": [
        "As we run the iteration, we obtain distinct minibatches successively until the entire dataset has been exhausted (try this). While the iteration implemented above is good for didactic purposes, it is inefficient in ways that might get us in trouble on real problems. For example, it requires that we load all the data in memory and that we perform lots of random memory access. The built-in iterators implemented in a deep learning framework are considerably more efficient and they can deal with both data stored in files and data fed via data streams.\n",
        "\n"
      ]
    },
    {
      "cell_type": "markdown",
      "metadata": {
        "id": "qzBJ4BuD3cB-"
      },
      "source": [
        "### Initializing Model Parameters\n",
        "\n",
        "Before we can begin optimizing our model’s parameters by minibatch stochastic gradient descent, we need to have some parameters in the first place. In the following code, we initialize weights by sampling random numbers from a normal distribution with mean 0 and a standard deviation of 0.01, and setting the bias to 0.\n",
        "\n"
      ]
    },
    {
      "cell_type": "code",
      "metadata": {
        "colab": {
          "base_uri": "https://localhost:8080/"
        },
        "id": "e5j3JM__3Hyt",
        "outputId": "70664c81-b6cb-4f28-edc7-127f949b9a5a"
      },
      "source": [
        "w = torch.normal(mean=0, std=0.01, size=(2, 1), requires_grad=True)\n",
        "b = torch.zeros(1, requires_grad=True)\n",
        "\n",
        "print (w)\n",
        "print (b)"
      ],
      "execution_count": 209,
      "outputs": [
        {
          "output_type": "stream",
          "text": [
            "tensor([[-0.0056],\n",
            "        [ 0.0040]], requires_grad=True)\n",
            "tensor([0.], requires_grad=True)\n"
          ],
          "name": "stdout"
        }
      ]
    },
    {
      "cell_type": "markdown",
      "metadata": {
        "id": "pkiHXCcN37MT"
      },
      "source": [
        "After initializing our parameters, our next task is to update them until they fit our data sufficiently well. Each update requires taking the gradient of our loss function with respect to the parameters. Given this gradient, we can update each parameter in the direction that may reduce the loss.\n",
        "\n",
        "Since nobody wants to compute gradients explicitly (this is tedious and error prone), we use automatic differentiation, as introduced in Section 2.5, to compute the gradient."
      ]
    },
    {
      "cell_type": "markdown",
      "metadata": {
        "id": "AxxN4TxG37zP"
      },
      "source": [
        "### Defining the Model\n",
        "\n",
        "Next, we must define our model, relating its inputs and parameters to its outputs. Recall that to calculate the output of the linear model, we simply take the matrix-vector dot product of the input features $\\mathbf{X}$ and the model weights $\\mathbf{w}$ nd add the offset  b  to each example.\n",
        "\n",
        "Note that below $\\mathbf{Xw}$ is a vector and  b  is a scalar. Recall the broadcasting mechanism as described in Section 2.1.3. When we add a vector and a scalar, the scalar is added to each component of the vector."
      ]
    },
    {
      "cell_type": "code",
      "metadata": {
        "colab": {
          "base_uri": "https://localhost:8080/"
        },
        "id": "bvRkZrSG3zGT",
        "outputId": "c12bafaa-5082-406a-b082-2c58bb14a1a1"
      },
      "source": [
        "def linreg(X, w, b):  #@save\n",
        "    \"\"\"The linear regression model.\"\"\"\n",
        "    return torch.matmul(X, w) + b #### X.w : Nx2 . 2x1 : Nx1\n",
        "\n",
        "linreg(X, w, b).shape"
      ],
      "execution_count": 210,
      "outputs": [
        {
          "output_type": "execute_result",
          "data": {
            "text/plain": [
              "torch.Size([10, 1])"
            ]
          },
          "metadata": {
            "tags": []
          },
          "execution_count": 210
        }
      ]
    },
    {
      "cell_type": "markdown",
      "metadata": {
        "id": "_2sIxReE44W7"
      },
      "source": [
        "### Defining the Loss Function\n",
        "\n",
        "Since updating our model requires taking the gradient of our loss function, we ought to define the loss function first. Here we will use the squared loss function as described in Section 3.1. In the implementation, we need to transform the true value y into the predicted value’s shape y_hat. The result returned by the following function will also have the same shape as y_hat."
      ]
    },
    {
      "cell_type": "code",
      "metadata": {
        "id": "D-anbeoE4wZm"
      },
      "source": [
        "def squared_loss(y_hat, y):\n",
        "    return 0.5*(y_hat - y.reshape(y_hat.shape))**2"
      ],
      "execution_count": 211,
      "outputs": []
    },
    {
      "cell_type": "markdown",
      "metadata": {
        "id": "j5QrUMbi7rs7"
      },
      "source": [
        "### Defining the Optimization Algorithm\n",
        "\n",
        "As we discussed in Section 3.1, linear regression has a closed-form solution. However, this is not a book about linear regression: it is a book about deep learning. Since none of the other models that this book introduces can be solved analytically, we will take this opportunity to introduce your first working example of minibatch stochastic gradient descent.\n",
        "\n",
        "At each step, using one minibatch randomly drawn from our dataset, we will estimate the gradient of the loss with respect to our parameters. Next, we will update our parameters in the direction that may reduce the loss. The following code applies the minibatch stochastic gradient descent update, given a set of parameters, a learning rate, and a batch size. The size of the update step is determined by the learning rate lr. Because our loss is calculated as a sum over the minibatch of examples, we normalize our step size by the batch size (batch_size), so that the magnitude of a typical step size does not depend heavily on our choice of the batch size."
      ]
    },
    {
      "cell_type": "code",
      "metadata": {
        "id": "2rp1vsxg7nRo"
      },
      "source": [
        "def sgd(params, lr, batch_size):\n",
        "\n",
        "    with torch.no_grad():\n",
        "        for param in params:\n",
        "            param -= lr * param.grad/batch_size\n",
        "            param.grad.zero_()"
      ],
      "execution_count": 212,
      "outputs": []
    },
    {
      "cell_type": "markdown",
      "metadata": {
        "id": "Wg4_83oWHPAX"
      },
      "source": [
        "### Training\n",
        "\n",
        "Now that we have all of the parts in place, we are ready to implement the main training loop. It is crucial that you understand this code because you will see nearly identical training loops over and over again throughout your career in deep learning.\n",
        "\n",
        "In each iteration, we will grab a minibatch of training examples, and pass them through our model to obtain a set of predictions. After calculating the loss, we initiate the backwards pass through the network, storing the gradients with respect to each parameter. Finally, we will call the optimization algorithm sgd to update the model parameters.\n",
        "\n",
        "In summary, we will execute the following loop:\n",
        "\n",
        "1. Init params $(\\mathbf{w}, b)$\n",
        "2. Repeat until done\n",
        "    2.1 Compute gradient $\\mathbf{g} \\leftarrow \\partial_{(\\mathbf{w},b)} \\frac{1}{|\\mathcal{B}|} \\sum_{i \\in \\mathcal{B}} l(\\mathbf{x}^{(i)}, y^{(i)}, \\mathbf{w}, b)$\n",
        "    2.2 Update parameters $(\\mathbf{w}, b) \\leftarrow (\\mathbf{w}, b) - \\eta \\mathbf{g}$\n",
        "\n",
        "In each epoch, we will iterate through the entire dataset (using the data_iter function) once passing through every example in the training dataset (assuming that the number of examples is divisible by the batch size). The number of epochs num_epochs and the learning rate lr are both hyperparameters, which we set here to 3 and 0.03, respectively. "
      ]
    },
    {
      "cell_type": "code",
      "metadata": {
        "id": "Th5faoxaHpyC"
      },
      "source": [
        "lr = 0.03\n",
        "num_epochs = 3\n",
        "net = linreg ### network\n",
        "loss = squared_loss"
      ],
      "execution_count": 218,
      "outputs": []
    },
    {
      "cell_type": "code",
      "metadata": {
        "colab": {
          "base_uri": "https://localhost:8080/"
        },
        "id": "L4TdMkSoIJpe",
        "outputId": "cd22c62a-79ef-4285-b0a0-3f77eaed7562"
      },
      "source": [
        "def synthetic_data(w, b, num_examples):\n",
        "    \"\"\"\n",
        "    Generate y = Xw + b + noise.\n",
        "    Return features: shape (num_examples, w)\n",
        "    labels : shape (num_examples)\n",
        "    \"\"\"\n",
        "    X = torch.normal(mean=0, std=1, size=(num_examples, len(w)))\n",
        "    print (X.shape)\n",
        "    y = torch.matmul(X, w) + b\n",
        "    print (y.shape)\n",
        "    ### add noise\n",
        "    y += torch.normal(mean=0, std=0.01, size=y.shape)\n",
        "    return X, y.reshape((-1, 1))\n",
        "\n",
        "def data_iter(batch_size, features, labels):\n",
        "    \"\"\"\n",
        "    Return (X, y) of shape (batch_size, d), (batch_size, 1)\n",
        "    \"\"\"\n",
        "    num_examples = len(features)\n",
        "    indices = list(range(num_examples))\n",
        "    # The examples are read at random, in no particular order\n",
        "    random.shuffle(indices)\n",
        "    for i in range(0, num_examples, batch_size):\n",
        "        batch_indices = indices[i:min(i+batch_size, num_examples)]\n",
        "        yield features[batch_indices], labels[batch_indices]\n",
        "\n",
        "def linreg(X, w, b):  #@save\n",
        "    \"\"\"The linear regression model.\"\"\"\n",
        "    return torch.matmul(X, w) + b #### X.w : Nx2 . 2x1 : Nx1\n",
        "\n",
        "def squared_loss(y_hat, y):\n",
        "    return 0.5*(y_hat - y.reshape(y_hat.shape))**2\n",
        "\n",
        "\n",
        "def sgd(params, lr, batch_size):\n",
        "    with torch.no_grad():\n",
        "        for param in params:\n",
        "            param -= lr * param.grad/batch_size\n",
        "            param.grad.zero_()\n",
        "\n",
        "\n",
        "true_w = torch.tensor([2, -3.4])\n",
        "true_b = 4.2\n",
        "features, labels = synthetic_data(true_w, true_b, 1000)\n",
        "w = torch.normal(mean=0, std=0.01, size=(2, 1), requires_grad=True)\n",
        "b = torch.zeros(1, requires_grad=True)"
      ],
      "execution_count": 219,
      "outputs": [
        {
          "output_type": "stream",
          "text": [
            "torch.Size([1000, 2])\n",
            "torch.Size([1000])\n"
          ],
          "name": "stdout"
        }
      ]
    },
    {
      "cell_type": "markdown",
      "metadata": {
        "id": "SqpP1jJryaHE"
      },
      "source": [
        "#### Analytical verison of the diff of L wrt w\n",
        "\n",
        "Let us see how the update to w will be analytically\n",
        "\n",
        "![](https://i.imgur.com/KCmUlE7.jpg)"
      ]
    },
    {
      "cell_type": "code",
      "metadata": {
        "id": "LUpqfr91SNlU"
      },
      "source": [
        "def analytical_grad_L_wrt_w(X, w, b, y):\n",
        "    print (X.shape, w.shape, b, y.shape)\n",
        "    print(torch.matmul(X.T, torch.matmul(X, w) + b - y))"
      ],
      "execution_count": 215,
      "outputs": []
    },
    {
      "cell_type": "code",
      "metadata": {
        "colab": {
          "base_uri": "https://localhost:8080/"
        },
        "id": "GW6nt6UZHwBW",
        "outputId": "9df9bf4a-65d6-4385-804e-6e2a33655938"
      },
      "source": [
        "for epoch in range(num_epochs):\n",
        "    for X, y in data_iter(batch_size=batch_size, features=features, labels=labels):\n",
        "        print (X.shape, y.shape)\n",
        "        y_hat = net(X, w, b)\n",
        "        # -print (y_hat.shape)\n",
        "        l = loss(y_hat, y) # Minibatch loss in `X` and `y`: shape is (mini_batch, 1)\n",
        "        print (l.shape)\n",
        "        l = l.sum()\n",
        "        print (l.shape)\n",
        "        l.backward() ### now we have access to w.grad and b.grad\n",
        "        print (w.grad)\n",
        "        print (b.grad.shape)\n",
        "        w_grad = analytical_grad_L_wrt_w(X, w, b, y)\n",
        "        break\n",
        "    break\n",
        "            "
      ],
      "execution_count": 216,
      "outputs": [
        {
          "output_type": "stream",
          "text": [
            "torch.Size([10, 2]) torch.Size([10, 1])\n",
            "torch.Size([10, 1])\n",
            "torch.Size([])\n",
            "tensor([[-34.4014],\n",
            "        [ 50.5581]])\n",
            "torch.Size([1])\n",
            "torch.Size([10, 2]) torch.Size([2, 1]) tensor([0.], requires_grad=True) torch.Size([10, 1])\n",
            "tensor([[-34.4014],\n",
            "        [ 50.5581]], grad_fn=<MmBackward>)\n"
          ],
          "name": "stdout"
        }
      ]
    },
    {
      "cell_type": "markdown",
      "metadata": {
        "id": "WoiJCMWGwfJO"
      },
      "source": [
        "So the analytical calculation matches with the `backward` method\n",
        "We need to sum up the elements of `l` vector here as we need to compute gradient for a scalar, we cant compute it for a vector. We can compute it wrt to a vector thought as we have done here (wrt w)"
      ]
    },
    {
      "cell_type": "code",
      "metadata": {
        "colab": {
          "base_uri": "https://localhost:8080/"
        },
        "id": "cz_LiN4oJarp",
        "outputId": "1acc5c23-eead-44d3-acdd-b8f8666cfd7c"
      },
      "source": [
        "for epoch in range(num_epochs):\n",
        "    for X, y in data_iter(batch_size, features, labels):\n",
        "        l = loss(net(X, w, b), y)  # Minibatch loss in `X` and `y`\n",
        "        # Compute gradient on `l` with respect to [`w`, `b`]\n",
        "        l.sum().backward()\n",
        "        sgd([w, b], lr, batch_size)  # Update parameters using their gradient\n",
        "    with torch.no_grad():\n",
        "        train_l = loss(net(features, w, b), labels)\n",
        "        print(f'epoch {epoch + 1}, loss {float(train_l.mean()):f}')"
      ],
      "execution_count": 220,
      "outputs": [
        {
          "output_type": "stream",
          "text": [
            "epoch 1, loss 0.036718\n",
            "epoch 2, loss 0.000134\n",
            "epoch 3, loss 0.000051\n"
          ],
          "name": "stdout"
        }
      ]
    },
    {
      "cell_type": "code",
      "metadata": {
        "colab": {
          "base_uri": "https://localhost:8080/"
        },
        "id": "he4hDLCzxJL4",
        "outputId": "dc16d142-8972-4a81-8cc2-39979ae09c45"
      },
      "source": [
        "print (true_w, true_b)\n",
        "print (w, b)"
      ],
      "execution_count": 222,
      "outputs": [
        {
          "output_type": "stream",
          "text": [
            "tensor([ 2.0000, -3.4000]) 4.2\n",
            "tensor([[ 2.0003],\n",
            "        [-3.3996]], requires_grad=True) tensor([4.1990], requires_grad=True)\n"
          ],
          "name": "stdout"
        }
      ]
    },
    {
      "cell_type": "markdown",
      "metadata": {
        "id": "4pjXcjOvxiiG"
      },
      "source": [
        "Note that we should not take it for granted that we are able to recover the parameters perfectly. However, in machine learning, we are typically less concerned with recovering true underlying parameters, and more concerned with parameters that lead to highly accurate prediction. Fortunately, even on difficult optimization problems, stochastic gradient descent can often find remarkably good solutions, owing partly to the fact that, for deep networks, there exist many configurations of the parameters that lead to highly accurate prediction.\n",
        "\n"
      ]
    },
    {
      "cell_type": "code",
      "metadata": {
        "id": "PZVWXO0xxYXm"
      },
      "source": [
        ""
      ],
      "execution_count": null,
      "outputs": []
    }
  ]
}