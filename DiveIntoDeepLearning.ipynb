{
  "nbformat": 4,
  "nbformat_minor": 0,
  "metadata": {
    "colab": {
      "name": "DiveIntoDeepLearning.ipynb",
      "provenance": [],
      "collapsed_sections": [],
      "authorship_tag": "ABX9TyM2ErLJjas/8EThbOoxHojM",
      "include_colab_link": true
    },
    "kernelspec": {
      "name": "python3",
      "display_name": "Python 3"
    }
  },
  "cells": [
    {
      "cell_type": "markdown",
      "metadata": {
        "id": "view-in-github",
        "colab_type": "text"
      },
      "source": [
        "<a href=\"https://colab.research.google.com/github/ShaunakSen/Deep-Learning/blob/master/DiveIntoDeepLearning.ipynb\" target=\"_parent\"><img src=\"https://colab.research.google.com/assets/colab-badge.svg\" alt=\"Open In Colab\"/></a>"
      ]
    },
    {
      "cell_type": "markdown",
      "metadata": {
        "id": "2mBJj7CuQ8ev"
      },
      "source": [
        "## Dive Into Deep Learning\n",
        "\n",
        "> Self notes on the book: http://www.d2l.ai/\n",
        "---\n",
        "\n",
        "If you are able to devise a solution to the problem that will work 100% of the time, __do not__ use ML!\n",
        "\n",
        "The supervision comes into play because for choosing the parameters, we (the supervisors) provide the model with a dataset consisting of labeled examples, where each example is matched with the ground-truth label. In probabilistic terms, we typically are interested in estimating the conditional probability of a label given input features. While it is just one among several paradigms within machine learning, supervised learning accounts for the majority of successful applications of machine learning in industry. Partly, that is because many important tasks can be described crisply as estimating the probability of something unknown given a particular set of available data:\n",
        "\n",
        "Lots of practical problems are well-described regression problems. Predicting the rating that a user will assign to a movie can be thought of as a regression problem and if you designed a great algorithm to accomplish this feat in 2009, you might have won the 1-million-dollar Netflix prize. Predicting the length of stay for patients in the hospital is also a regression problem. A good rule of thumb is that any how much? or how many? problem should suggest regression, such as:\n",
        "\n",
        "- How many hours will this surgery take?\n",
        "\n",
        "- How much rainfall will this town have in the next six hours?\n",
        "\n",
        "NOTE: whole number prediction problems are regression ones, not classification\n",
        "\n",
        "## Types of Supervised ML\n",
        "\n",
        "### 1. Regression + 2. Classification - we know\n",
        "\n",
        "### 2.1 Tagging\n",
        "\n",
        "Some classification problems fit neatly into the binary or multiclass classification setups. For example, we could train a normal binary classifier to distinguish cats from dogs. Given the current state of computer vision, we can do this easily, with off-the-shelf tools. Nonetheless, no matter how accurate our model gets, we might find ourselves in trouble when the classifier encounters an image of the Town Musicians of Bremen, a popular German fairy tale featuring four animals in Fig. 1.3.3.\n",
        "\n",
        "![](http://www.d2l.ai/_images/stackedanimals.png)\n",
        "\n",
        "As you can see, there is a cat in Fig. 1.3.3, and a rooster, a dog, and a donkey, with some trees in the background. Depending on what we want to do with our model ultimately, treating this as a binary classification problem might not make a lot of sense. Instead, we might want to give the model the option of saying the image depicts a cat, a dog, a donkey, and a rooster.\n",
        "\n",
        "The problem of learning to predict classes that are not mutually exclusive is called multi-label classification. Auto-tagging problems are typically best described as multi-label classification problems. Think of the tags people might apply to posts on a technical blog, e.g., “machine learning”, “technology”, “gadgets”, “programming languages”, “Linux”, “cloud computing”, “AWS”. A typical article might have 5–10 tags applied because these concepts are correlated. Posts about “cloud computing” are likely to mention “AWS” and posts about “machine learning” could also deal with “programming languages”.\n",
        "\n",
        "We also have to deal with this kind of problem when dealing with the biomedical literature, where correctly tagging articles is important because it allows researchers to do exhaustive reviews of the literature. At the National Library of Medicine, a number of professional annotators go over each article that gets indexed in PubMed to associate it with the relevant terms from MeSH, a collection of roughly 28000 tags. This is a time-consuming process and the annotators typically have a one-year lag between archiving and tagging. Machine learning can be used here to provide provisional tags until each article can have a proper manual review. Indeed, for several years, the BioASQ organization has hosted competitions to do precisely this.\n",
        "\n",
        "### 3. Search\n",
        "\n",
        "Sometimes we do not just want to assign each example to a bucket or to a real value. In the field of information retrieval, we want to impose a ranking on a set of items. Take web search for an example. The goal is less to determine whether a particular page is relevant for a query, but rather, which one of the plethora of search results is most relevant for a particular user. We really care about the ordering of the relevant search results and our learning algorithm needs to produce ordered subsets of elements from a larger set. In other words, if we are asked to produce the first 5 letters from the alphabet, there is a difference between returning “A B C D E” and “C A B E D”. Even if the result set is the same, the ordering within the set matters.\n",
        "\n",
        "\n",
        "One possible solution to this problem is to first assign to every element in the set a corresponding relevance score and then to retrieve the top-rated elements. PageRank, the original secret sauce behind the Google search engine was an early example of such a scoring system but it was peculiar in that it did not depend on the actual query. Here they relied on a simple relevance filter to identify the set of relevant items and then on PageRank to order those results that contained the query term. Nowadays, search engines use machine learning and behavioral models to obtain query-dependent relevance scores. There are entire academic conferences devoted to this subject.\n",
        "\n",
        "### 4. Recommender Systems\n",
        "\n",
        "In the simplest formulations, these systems are trained to estimate some score, such as an estimated rating or the probability of purchase, given a user and an item.\n",
        "\n",
        "Given such a model, for any given user, we could retrieve the set of objects with the largest scores, which could then be recommended to the user. Production systems are considerably more advanced and take detailed user activity and item characteristics into account when computing such scores\n",
        "\n",
        "Despite their tremendous economic value, recommendation systems naively built on top of predictive models suffer some serious conceptual flaws. To start, we only observe censored feedback: users preferentially rate movies that they feel strongly about. For example, on a five-point scale, you might notice that items receive many five and one star ratings but that there are conspicuously few three-star ratings. Moreover, current purchase habits are often a result of the recommendation algorithm currently in place, but learning algorithms do not always take this detail into account. Thus it is possible for feedback loops to form where a recommender system preferentially pushes an item that is then taken to be better (due to greater purchases) and in turn is recommended even more frequently. Many of these problems about how to deal with censoring, incentives, and feedback loops, are important open research questions.\n",
        "\n",
        "### Sequence learning\n",
        "\n",
        "So far, we have looked at problems where we have some fixed number of inputs and produce a fixed number of outputs. For example, we considered predicting house prices from a fixed set of features: square footage, number of bedrooms, number of bathrooms, walking time to downtown. We also discussed mapping from an image (of fixed dimension) to the predicted probabilities that it belongs to each of a fixed number of classes, or taking a user ID and a product ID, and predicting a star rating. In these cases, once we feed our fixed-length input into the model to generate an output, the model immediately forgets what it just saw.\n",
        "\n",
        "This might be fine if our inputs truly all have the same dimensions and if successive inputs truly have nothing to do with each other. But how would we deal with video snippets? In this case, each snippet might consist of a different number of frames. And our guess of what is going on in each frame might be much stronger if we take into account the previous or succeeding frames. Same goes for language. One popular deep learning problem is machine translation: the task of ingesting sentences in some source language and predicting their translation in another language.\n",
        "\n",
        "These problems also occur in medicine. We might want a model to monitor patients in the intensive care unit and to fire off alerts if their risk of death in the next 24 hours exceeds some threshold. We definitely would not want this model to throw away everything it knows about the patient history each hour and just make its predictions based on the most recent measurements.\n",
        "\n",
        "These problems are among the most exciting applications of machine learning and they are instances of sequence learning. They require a model to either ingest sequences of inputs or to emit sequences of outputs (or both). Specifically, sequence to sequence learning considers problems where input and output are both variable-length sequences, such as machine translation and transcribing text from the spoken speech. While it is impossible to consider all types of sequence transformations, the following special cases are worth mentioning.\n",
        "\n",
        "__Tagging and Parsing__. This involves annotating a text sequence with attributes. In other words, the number of inputs and outputs is essentially the same. For instance, we might want to know where the verbs and subjects are. Alternatively, we might want to know which words are the named entities.\n",
        "\n",
        "__Automatic Speech Recognition__. With speech recognition, the input sequence is an audio recording of a speaker (shown in Fig. 1.3.5), and the output is the textual transcript of what the speaker said. The challenge is that there are many more audio frames (sound is typically sampled at 8kHz or 16kHz) than text, i.e., there is no 1:1 correspondence between audio and text, since thousands of samples may correspond to a single spoken word. These are sequence to sequence learning problems where the output is much shorter than the input.\n",
        "\n",
        "__Text to Speech__. This is the inverse of automatic speech recognition. In other words, the input is text and the output is an audio file. In this case, the output is much longer than the input. While it is easy for humans to recognize a bad audio file, this is not quite so trivial for computers.\n",
        "\n",
        "__Machine Translation__. Unlike the case of speech recognition, where corresponding inputs and outputs occur in the same order (after alignment), in machine translation, order inversion can be vital. In other words, while we are still converting one sequence into another, neither the number of inputs and outputs nor the order of corresponding data examples are assumed to be the same. Consider the following illustrative example of the peculiar tendency of Germans to place the verbs at the end of sentences.\n",
        "\n",
        "```\n",
        "German:           Haben Sie sich schon dieses grossartige Lehrwerk angeschaut?\n",
        "English:          Did you already check out this excellent tutorial?\n",
        "Wrong alignment:  Did you yourself already this excellent tutorial looked-at?\n",
        "```\n",
        "\n"
      ]
    },
    {
      "cell_type": "markdown",
      "metadata": {
        "id": "sEieofVh0SKV"
      },
      "source": [
        "## Unsupervised Learning\n",
        "\n",
        "In a completely opposite way, it could be frustrating to work for a boss who has no idea what they want you to do. However, if you plan to be a data scientist, you had better get used to it. The boss might just hand you a giant dump of data and tell you to do some data science with it! This sounds vague because it is. We call this class of problems unsupervised learning, and the type and number of questions we could ask is limited only by our creativity. We will address unsupervised learning techniques in later chapters. To whet your appetite for now, we describe a few of the following questions you might ask.\n",
        "\n",
        "- Can we find a small number of prototypes that accurately summarize the data? Given a set of photos, can we group them into landscape photos, pictures of dogs, babies, cats, and mountain peaks? Likewise, given a collection of users’ browsing activities, can we group them into users with similar behavior? This problem is typically known as clustering.\n",
        "\n",
        "- Can we find a small number of parameters that accurately capture the relevant properties of the data? The trajectories of a ball are quite well described by velocity, diameter, and mass of the ball. Tailors have developed a small number of parameters that describe human body shape fairly accurately for the purpose of fitting clothes. These problems are referred to as subspace estimation. If the dependence is linear, it is called principal component analysis.\n",
        "\n",
        "- Is there a representation of (arbitrarily structured) objects in Euclidean space such that symbolic properties can be well matched? This can be used to describe entities and their relations, such as “Rome”  −  “Italy”  +  “France”  =  “Paris”.\n",
        "\n",
        "- Is there a description of the root causes of much of the data that we observe? For instance, if we have demographic data about house prices, pollution, crime, location, education, and salaries, can we discover how they are related simply based on empirical data? The fields concerned with causality and probabilistic graphical models address this problem.\n",
        "\n",
        "- Another important and exciting recent development in unsupervised learning is the advent of generative adversarial networks. These give us a procedural way to synthesize data, even complicated structured data like images and audio. The underlying statistical mechanisms are tests to check whether real and fake data are the same."
      ]
    },
    {
      "cell_type": "markdown",
      "metadata": {
        "id": "dw1GazwOMNQg"
      },
      "source": [
        "## Basic Data Manipulation\n",
        "\n",
        "To start, we can use arange to create a row vector x containing the first 12 integers starting with 0, though they are created as floats by default. Each of the values in a tensor is called an element of the tensor. For instance, there are 12 elements in the tensor x. Unless otherwise specified, a new tensor will be stored in main memory and designated for CPU-based computation.\n",
        "\n"
      ]
    },
    {
      "cell_type": "code",
      "metadata": {
        "id": "VMhTF98VQ5Ev",
        "colab": {
          "base_uri": "https://localhost:8080/"
        },
        "outputId": "73e7fc7a-62e6-4c5f-c347-9a0385f361b1"
      },
      "source": [
        "import torch\n",
        "import tensorflow as tf\n",
        "\n",
        "print (tf.__version__)\n",
        "print (torch.__version__)"
      ],
      "execution_count": 91,
      "outputs": [
        {
          "output_type": "stream",
          "text": [
            "2.4.1\n",
            "1.8.0+cu101\n"
          ],
          "name": "stdout"
        }
      ]
    },
    {
      "cell_type": "code",
      "metadata": {
        "colab": {
          "base_uri": "https://localhost:8080/"
        },
        "id": "bBzRRI4QMh0P",
        "outputId": "bbe975fe-33fa-4323-8613-a5854bd59b9b"
      },
      "source": [
        "x = torch.arange(start=0, end=12, step=1)\n",
        "\n",
        "print (x)\n",
        "\n",
        "print (x.shape)\n",
        "\n",
        "print (x.numel())"
      ],
      "execution_count": 92,
      "outputs": [
        {
          "output_type": "stream",
          "text": [
            "tensor([ 0,  1,  2,  3,  4,  5,  6,  7,  8,  9, 10, 11])\n",
            "torch.Size([12])\n",
            "12\n"
          ],
          "name": "stdout"
        }
      ]
    },
    {
      "cell_type": "code",
      "metadata": {
        "colab": {
          "base_uri": "https://localhost:8080/"
        },
        "id": "wB60MjLVMm7r",
        "outputId": "a94fe04b-6064-4807-ccea-13546e37f662"
      },
      "source": [
        "X = x.reshape(3, 4)\n",
        "print (X)\n",
        "\n",
        "## automatically infer the first dimension\n",
        "X = x.reshape(-1, 4)\n",
        "print (X) "
      ],
      "execution_count": 93,
      "outputs": [
        {
          "output_type": "stream",
          "text": [
            "tensor([[ 0,  1,  2,  3],\n",
            "        [ 4,  5,  6,  7],\n",
            "        [ 8,  9, 10, 11]])\n",
            "tensor([[ 0,  1,  2,  3],\n",
            "        [ 4,  5,  6,  7],\n",
            "        [ 8,  9, 10, 11]])\n"
          ],
          "name": "stdout"
        }
      ]
    },
    {
      "cell_type": "markdown",
      "metadata": {
        "id": "aJoUaOTzN6VC"
      },
      "source": [
        "Typically, we will want our matrices initialized either with zeros, ones, some other constants, or numbers randomly sampled from a specific distribution. We can create a tensor representing a tensor with all elements set to 0 and a shape of (2, 3, 4) as follows:\n",
        "\n"
      ]
    },
    {
      "cell_type": "code",
      "metadata": {
        "colab": {
          "base_uri": "https://localhost:8080/"
        },
        "id": "yBz0Q1kCM1tA",
        "outputId": "68b9c296-a17b-483d-fe6f-d80df797f986"
      },
      "source": [
        "print (torch.zeros((2,3,4)))\n",
        "\n",
        "## Similarly, we can create tensors with each element set to 1 as follows:\n",
        "\n",
        "print (torch.ones((2,3,4)))"
      ],
      "execution_count": 94,
      "outputs": [
        {
          "output_type": "stream",
          "text": [
            "tensor([[[0., 0., 0., 0.],\n",
            "         [0., 0., 0., 0.],\n",
            "         [0., 0., 0., 0.]],\n",
            "\n",
            "        [[0., 0., 0., 0.],\n",
            "         [0., 0., 0., 0.],\n",
            "         [0., 0., 0., 0.]]])\n",
            "tensor([[[1., 1., 1., 1.],\n",
            "         [1., 1., 1., 1.],\n",
            "         [1., 1., 1., 1.]],\n",
            "\n",
            "        [[1., 1., 1., 1.],\n",
            "         [1., 1., 1., 1.],\n",
            "         [1., 1., 1., 1.]]])\n"
          ],
          "name": "stdout"
        }
      ]
    },
    {
      "cell_type": "code",
      "metadata": {
        "colab": {
          "base_uri": "https://localhost:8080/"
        },
        "id": "wCRy-5_BN_2w",
        "outputId": "0ee6e6da-68ef-4abf-f5aa-63f5dfbafe10"
      },
      "source": [
        "print (torch.randn((2,3,4)))"
      ],
      "execution_count": 95,
      "outputs": [
        {
          "output_type": "stream",
          "text": [
            "tensor([[[ 1.3257,  0.3933, -0.9286,  0.0174],\n",
            "         [-1.2369, -2.2574, -1.5908, -0.6852],\n",
            "         [ 0.6165,  0.3781,  0.5947,  2.0286]],\n",
            "\n",
            "        [[ 0.7829,  0.5163,  0.0536,  2.0441],\n",
            "         [-0.6979,  0.5384, -0.1187, -0.3572],\n",
            "         [ 2.2903,  0.0625,  0.3381, -2.2635]]])\n"
          ],
          "name": "stdout"
        }
      ]
    },
    {
      "cell_type": "markdown",
      "metadata": {
        "id": "Z7r_ePh7PBXF"
      },
      "source": [
        "We can also specify the exact values for each element in the desired tensor by supplying a Python list (or list of lists) containing the numerical values. Here, the outermost list corresponds to axis 0, and the inner list to axis 1.\n",
        "\n"
      ]
    },
    {
      "cell_type": "code",
      "metadata": {
        "colab": {
          "base_uri": "https://localhost:8080/"
        },
        "id": "eNHfwNTrOuZN",
        "outputId": "360c8c4f-05e2-4f2f-e7c3-940dd84898b5"
      },
      "source": [
        "torch.tensor([[2, 1, 4, 3], [1, 2, 3, 4], [4, 3, 2, 1]])"
      ],
      "execution_count": 96,
      "outputs": [
        {
          "output_type": "execute_result",
          "data": {
            "text/plain": [
              "tensor([[2, 1, 4, 3],\n",
              "        [1, 2, 3, 4],\n",
              "        [4, 3, 2, 1]])"
            ]
          },
          "metadata": {
            "tags": []
          },
          "execution_count": 96
        }
      ]
    },
    {
      "cell_type": "code",
      "metadata": {
        "colab": {
          "base_uri": "https://localhost:8080/"
        },
        "id": "yqgH550PPD2Z",
        "outputId": "584581e0-e250-42c4-fbea-a5601bc0b7d9"
      },
      "source": [
        "x = torch.tensor([1.0, 2, 4, 8])\n",
        "y = torch.tensor([2, 2, 2, 2])\n",
        "x + y, x - y, x * y, x / y, x ** y  # The ** operator is exponentiation"
      ],
      "execution_count": 97,
      "outputs": [
        {
          "output_type": "execute_result",
          "data": {
            "text/plain": [
              "(tensor([ 3.,  4.,  6., 10.]),\n",
              " tensor([-1.,  0.,  2.,  6.]),\n",
              " tensor([ 2.,  4.,  8., 16.]),\n",
              " tensor([0.5000, 1.0000, 2.0000, 4.0000]),\n",
              " tensor([ 1.,  4., 16., 64.]))"
            ]
          },
          "metadata": {
            "tags": []
          },
          "execution_count": 97
        }
      ]
    },
    {
      "cell_type": "code",
      "metadata": {
        "colab": {
          "base_uri": "https://localhost:8080/"
        },
        "id": "wgfod02MTRCA",
        "outputId": "26be0cde-b175-441c-c066-4265a89cc33e"
      },
      "source": [
        "X = torch.arange(12, dtype=torch.float32).reshape((3,4))\n",
        "Y = torch.tensor([[2.0, 1, 4, 3], [1, 2, 3, 4], [4, 3, 2, 1]])\n",
        "\n",
        "print (X)\n",
        "\n",
        "print (Y)"
      ],
      "execution_count": 98,
      "outputs": [
        {
          "output_type": "stream",
          "text": [
            "tensor([[ 0.,  1.,  2.,  3.],\n",
            "        [ 4.,  5.,  6.,  7.],\n",
            "        [ 8.,  9., 10., 11.]])\n",
            "tensor([[2., 1., 4., 3.],\n",
            "        [1., 2., 3., 4.],\n",
            "        [4., 3., 2., 1.]])\n"
          ],
          "name": "stdout"
        }
      ]
    },
    {
      "cell_type": "code",
      "metadata": {
        "colab": {
          "base_uri": "https://localhost:8080/"
        },
        "id": "nFvOeDmlTtAM",
        "outputId": "19a811c7-d972-4849-bdcd-4df3d25b2bbd"
      },
      "source": [
        "torch.cat(tensors=[X, Y], dim=0)"
      ],
      "execution_count": 99,
      "outputs": [
        {
          "output_type": "execute_result",
          "data": {
            "text/plain": [
              "tensor([[ 0.,  1.,  2.,  3.],\n",
              "        [ 4.,  5.,  6.,  7.],\n",
              "        [ 8.,  9., 10., 11.],\n",
              "        [ 2.,  1.,  4.,  3.],\n",
              "        [ 1.,  2.,  3.,  4.],\n",
              "        [ 4.,  3.,  2.,  1.]])"
            ]
          },
          "metadata": {
            "tags": []
          },
          "execution_count": 99
        }
      ]
    },
    {
      "cell_type": "code",
      "metadata": {
        "colab": {
          "base_uri": "https://localhost:8080/"
        },
        "id": "G7svhcO4T1MX",
        "outputId": "150005e7-d012-416b-ffd5-7ffc5af07117"
      },
      "source": [
        "torch.cat((X, Y), dim=1)"
      ],
      "execution_count": 100,
      "outputs": [
        {
          "output_type": "execute_result",
          "data": {
            "text/plain": [
              "tensor([[ 0.,  1.,  2.,  3.,  2.,  1.,  4.,  3.],\n",
              "        [ 4.,  5.,  6.,  7.,  1.,  2.,  3.,  4.],\n",
              "        [ 8.,  9., 10., 11.,  4.,  3.,  2.,  1.]])"
            ]
          },
          "metadata": {
            "tags": []
          },
          "execution_count": 100
        }
      ]
    },
    {
      "cell_type": "markdown",
      "metadata": {
        "id": "Y9SZccD-eR3u"
      },
      "source": [
        "### Broadcasting Mechanism\n",
        "\n",
        "In the above section, we saw how to perform elementwise operations on two tensors of the same shape. Under certain conditions, even when shapes differ, we can still perform elementwise operations by invoking the broadcasting mechanism. This mechanism works in the following way: First, expand one or both arrays by copying elements appropriately so that after this transformation, the two tensors have the same shape. Second, carry out the elementwise operations on the resulting arrays.\n",
        "\n",
        "In most cases, we broadcast along an axis where an array initially only has length 1, such as in the following example:\n",
        "\n"
      ]
    },
    {
      "cell_type": "code",
      "metadata": {
        "colab": {
          "base_uri": "https://localhost:8080/"
        },
        "id": "kJQSaGPtUH_y",
        "outputId": "5c91be9e-fbe5-416b-8945-7fd81c87da1f"
      },
      "source": [
        "a = torch.arange(3).reshape((3,1))\n",
        "print (a)\n",
        "b = torch.arange(2).reshape((1, 2))\n",
        "print (b)"
      ],
      "execution_count": 101,
      "outputs": [
        {
          "output_type": "stream",
          "text": [
            "tensor([[0],\n",
            "        [1],\n",
            "        [2]])\n",
            "tensor([[0, 1]])\n"
          ],
          "name": "stdout"
        }
      ]
    },
    {
      "cell_type": "code",
      "metadata": {
        "colab": {
          "base_uri": "https://localhost:8080/",
          "height": 35
        },
        "id": "V-UY17zVelhu",
        "outputId": "3d407304-7712-41f8-ab10-0ca64d91c804"
      },
      "source": [
        "a+b\n",
        "\n",
        "\"\"\"\n",
        "The broadcasting happens as:\n",
        "a -> [[0, 0]\n",
        "     [1, 1]\n",
        "     [2, 2]]\n",
        "b -> [[0, 1]\n",
        "     [0, 1]\n",
        "     [0, 1]]   \n",
        "\"\"\""
      ],
      "execution_count": 102,
      "outputs": [
        {
          "output_type": "execute_result",
          "data": {
            "application/vnd.google.colaboratory.intrinsic+json": {
              "type": "string"
            },
            "text/plain": [
              "'\\nThe broadcasting happens as:\\na -> [[0, 0]\\n     [1, 1]\\n     [2, 2]]\\nb -> [[0, 1]\\n     [0, 1]\\n     [0, 1]]   \\n'"
            ]
          },
          "metadata": {
            "tags": []
          },
          "execution_count": 102
        }
      ]
    },
    {
      "cell_type": "markdown",
      "metadata": {
        "id": "Cc7_7I9Rfc8A"
      },
      "source": [
        "### Indexing and slicing\n",
        "\n",
        "Thus, [-1] selects the last element and [1:3] selects the second and the third elements as follows:\n",
        "\n"
      ]
    },
    {
      "cell_type": "code",
      "metadata": {
        "colab": {
          "base_uri": "https://localhost:8080/"
        },
        "id": "qMfORByvew0m",
        "outputId": "1e02c9ba-08e5-4424-93cc-6e30e234ca6c"
      },
      "source": [
        "print (X)\n",
        "\n",
        "print (X[-1])\n",
        "\n",
        "print (X[1:3])"
      ],
      "execution_count": 103,
      "outputs": [
        {
          "output_type": "stream",
          "text": [
            "tensor([[ 0.,  1.,  2.,  3.],\n",
            "        [ 4.,  5.,  6.,  7.],\n",
            "        [ 8.,  9., 10., 11.]])\n",
            "tensor([ 8.,  9., 10., 11.])\n",
            "tensor([[ 4.,  5.,  6.,  7.],\n",
            "        [ 8.,  9., 10., 11.]])\n"
          ],
          "name": "stdout"
        }
      ]
    },
    {
      "cell_type": "code",
      "metadata": {
        "colab": {
          "base_uri": "https://localhost:8080/"
        },
        "id": "96XTzZFif8Nq",
        "outputId": "271f4bb6-7c67-42b9-f611-a45069b50dfe"
      },
      "source": [
        "X[1, 2] = 9\n",
        "print (X)"
      ],
      "execution_count": 104,
      "outputs": [
        {
          "output_type": "stream",
          "text": [
            "tensor([[ 0.,  1.,  2.,  3.],\n",
            "        [ 4.,  5.,  9.,  7.],\n",
            "        [ 8.,  9., 10., 11.]])\n"
          ],
          "name": "stdout"
        }
      ]
    },
    {
      "cell_type": "code",
      "metadata": {
        "colab": {
          "base_uri": "https://localhost:8080/"
        },
        "id": "2M4bvm_0gHc1",
        "outputId": "99739b95-a36d-4347-9d76-1de14fc0e4ae"
      },
      "source": [
        "X[0:2, :] = 12\n",
        "\n",
        "print (X)"
      ],
      "execution_count": 105,
      "outputs": [
        {
          "output_type": "stream",
          "text": [
            "tensor([[12., 12., 12., 12.],\n",
            "        [12., 12., 12., 12.],\n",
            "        [ 8.,  9., 10., 11.]])\n"
          ],
          "name": "stdout"
        }
      ]
    },
    {
      "cell_type": "markdown",
      "metadata": {
        "id": "EXF-aQbm8hKz"
      },
      "source": [
        "### Saving memeory\n",
        "\n",
        "Running operations can cause new memory to be allocated to host results. For example, if we write Y = X + Y, we will dereference the tensor that Y used to point to and instead point Y at the newly allocated memory. In the following example, we demonstrate this with Python’s id() function, which gives us the exact address of the referenced object in memory. After running Y = Y + X, we will find that id(Y) points to a different location. That is because Python first evaluates Y + X, allocating new memory for the result and then makes Y point to this new location in memory.\n",
        "\n"
      ]
    },
    {
      "cell_type": "code",
      "metadata": {
        "colab": {
          "base_uri": "https://localhost:8080/"
        },
        "id": "9v0YsUS5gO_1",
        "outputId": "8cac7c1f-a672-4d3d-f504-fe89e9cac5c6"
      },
      "source": [
        "before = id(Y)\n",
        "print (before)\n",
        "Y=Y+X\n",
        "print (id(Y))"
      ],
      "execution_count": 106,
      "outputs": [
        {
          "output_type": "stream",
          "text": [
            "140475785894640\n",
            "140475714687456\n"
          ],
          "name": "stdout"
        }
      ]
    },
    {
      "cell_type": "markdown",
      "metadata": {
        "id": "4WNjxT5T8_Cs"
      },
      "source": [
        "This might be undesirable for two reasons. First, we do not want to run around allocating memory unnecessarily all the time. In machine learning, we might have hundreds of megabytes of parameters and update all of them multiple times per second. Typically, we will want to perform these updates in place. Second, we might point at the same parameters from multiple variables. If we do not update in place, other references will still point to the old memory location, making it possible for parts of our code to inadvertently reference stale parameters.\n",
        "\n",
        "Fortunately, performing in-place operations is easy. We can assign the result of an operation to a previously allocated array with slice notation, e.g., Y[:] = <expression>. To illustrate this concept, we first create a new matrix Z with the same shape as another Y, using zeros_like to allocate a block of entries"
      ]
    },
    {
      "cell_type": "code",
      "metadata": {
        "colab": {
          "base_uri": "https://localhost:8080/"
        },
        "id": "QFJiDCWO8t6a",
        "outputId": "3324dd14-dff8-479f-d203-28f3842fb299"
      },
      "source": [
        "Z = torch.zeros_like(Y)\n",
        "print (Z)\n",
        "print('id(Z):', id(Z))\n",
        "Z[:] = X + Y\n",
        "print('id(Z):', id(Z))\n",
        "Z = X+Y\n",
        "print('id(Z):', id(Z))"
      ],
      "execution_count": 107,
      "outputs": [
        {
          "output_type": "stream",
          "text": [
            "tensor([[0., 0., 0., 0.],\n",
            "        [0., 0., 0., 0.],\n",
            "        [0., 0., 0., 0.]])\n",
            "id(Z): 140475714605216\n",
            "id(Z): 140475714605216\n",
            "id(Z): 140475714606176\n"
          ],
          "name": "stdout"
        }
      ]
    },
    {
      "cell_type": "markdown",
      "metadata": {
        "id": "k2vm-2tI_jpC"
      },
      "source": [
        "If the value of X is not reused in subsequent computations, we can also use X[:] = X + Y or X += Y to reduce the memory overhead of the operation.\n",
        "\n"
      ]
    },
    {
      "cell_type": "code",
      "metadata": {
        "colab": {
          "base_uri": "https://localhost:8080/"
        },
        "id": "jGjqrm7F_R2s",
        "outputId": "435edda0-14f2-4242-a398-7e6f99fd032a"
      },
      "source": [
        "before = id(X)\n",
        "X = X + Y\n",
        "id(X) == before"
      ],
      "execution_count": 108,
      "outputs": [
        {
          "output_type": "execute_result",
          "data": {
            "text/plain": [
              "False"
            ]
          },
          "metadata": {
            "tags": []
          },
          "execution_count": 108
        }
      ]
    },
    {
      "cell_type": "code",
      "metadata": {
        "colab": {
          "base_uri": "https://localhost:8080/"
        },
        "id": "BjFb86mE_lJM",
        "outputId": "dab40daf-22c6-4521-fff2-3a0fd65cc4d0"
      },
      "source": [
        "before = id(X)\n",
        "X +=  Y\n",
        "id(X) == before"
      ],
      "execution_count": 109,
      "outputs": [
        {
          "output_type": "execute_result",
          "data": {
            "text/plain": [
              "True"
            ]
          },
          "metadata": {
            "tags": []
          },
          "execution_count": 109
        }
      ]
    },
    {
      "cell_type": "markdown",
      "metadata": {
        "id": "vTKxYwGkRg1G"
      },
      "source": [
        "## Basic Linear Algebra\n",
        "\n",
        "### Dot Product\n",
        "\n",
        "one of the most fundamental operations is the dot product. Given two vectors  x,y their dot product\n",
        "\n",
        "$\\mathbf{x}^\\top \\mathbf{y}$ or $\\langle \\mathbf{x}, \\mathbf{y} \\rangle$\n",
        "is a sum over the products of the elements at the same position"
      ]
    },
    {
      "cell_type": "code",
      "metadata": {
        "id": "3pw3MafZ_sMO",
        "colab": {
          "base_uri": "https://localhost:8080/"
        },
        "outputId": "a80e2549-acdf-4310-9499-c72068156eba"
      },
      "source": [
        "print (x)\n",
        "y = torch.ones(4, dtype=torch.float32)\n",
        "\n",
        "print (x.dot(y))\n",
        "\n",
        "### Note that we can express the dot product of two vectors equivalently by performing an elementwise multiplication and then a sum:\n",
        "\n",
        "print (torch.sum(x*y))"
      ],
      "execution_count": 110,
      "outputs": [
        {
          "output_type": "stream",
          "text": [
            "tensor([1., 2., 4., 8.])\n",
            "tensor(15.)\n",
            "tensor(15.)\n"
          ],
          "name": "stdout"
        }
      ]
    },
    {
      "cell_type": "markdown",
      "metadata": {
        "id": "CxcS0rFrSZlU"
      },
      "source": [
        "Dot products are useful in a wide range of contexts. For example, given some set of values, and a set of wts the dot product bw these vectors give us a weighted sum. When the wts are non-negative and sum upto 1 the dot prod gives us the weighted avg\n",
        "\n",
        "After normalizing two vectors to have the unit length, the dot products express the cosine of the angle between them. We will formally introduce this notion of length later in this section.\n",
        "\n",
        "### Matrix-Vector Products\n",
        "\n",
        "Now that we know how to calculate dot products, we can begin to understand matrix-vector products. Recall the matrix  $\\mathbf{A} \\in \\mathbb{R}^{m \\times n}$ and the vector $\\mathbf{x} \\in \\mathbb{R}^n$ \n",
        "\n",
        "$\\begin{split}\\mathbf{A}=\n",
        "\\begin{bmatrix}\n",
        "\\mathbf{a}^\\top_{1} \\\\\n",
        "\\mathbf{a}^\\top_{2} \\\\\n",
        "\\vdots \\\\\n",
        "\\mathbf{a}^\\top_m \\\\\n",
        "\\end{bmatrix},\\end{split}$\n",
        "\n",
        "where each $\\mathbf{a}^\\top_{i} \\in \\mathbb{R}^n$ is a row vector representing the ith row of the matrix A. The matrix-vector product Ax is simply a column vector of length  m , whose  ith  element is the dot product  $\\mathbf{a}^\\top_i \\mathbf{x}$\n",
        "\n",
        "$\\begin{split}\\mathbf{A}\\mathbf{x}\n",
        "= \\begin{bmatrix}\n",
        "\\mathbf{a}^\\top_{1} \\\\\n",
        "\\mathbf{a}^\\top_{2} \\\\\n",
        "\\vdots \\\\\n",
        "\\mathbf{a}^\\top_m \\\\\n",
        "\\end{bmatrix}\\mathbf{x}\n",
        "= \\begin{bmatrix}\n",
        " \\mathbf{a}^\\top_{1} \\mathbf{x}  \\\\\n",
        " \\mathbf{a}^\\top_{2} \\mathbf{x} \\\\\n",
        "\\vdots\\\\\n",
        " \\mathbf{a}^\\top_{m} \\mathbf{x}\\\\\n",
        "\\end{bmatrix}.\\end{split}$\n",
        "\n",
        "We can think of multiplication by a matrix  A as a transformation that projects vectors (here x) from  $\\mathbb{R}^n$ to $\\mathbb{R}^m$. These transformations turn out to be remarkably useful. For example, we can represent rotations as multiplications by a square matrix. As we will see in subsequent chapters, we can also use matrix-vector products to describe the most intensive calculations required when computing each layer in a neural network given the values of the previous layer.\n",
        "\n",
        "Expressing matrix-vector products in code with tensors, we use the same dot function as for dot products. When we call np.dot(A, x) with a matrix A and a vector x, the matrix-vector product is performed. Note that the column dimension of A (its length along axis 1) must be the same as the dimension of x (its length).\n",
        "\n"
      ]
    },
    {
      "cell_type": "code",
      "metadata": {
        "colab": {
          "base_uri": "https://localhost:8080/"
        },
        "id": "SFxOAxynR6YK",
        "outputId": "7fb9c881-1c31-48ab-9963-8737b41b8d76"
      },
      "source": [
        "A = torch.arange(20, dtype=torch.float32).reshape(5, 4)\n",
        "\n",
        "\n",
        "print (A.shape, x.shape)\n",
        "\n",
        "print (A)\n",
        "\n",
        "print (x)\n",
        "\n",
        "print (torch.mv(input=A, vec=x))"
      ],
      "execution_count": 111,
      "outputs": [
        {
          "output_type": "stream",
          "text": [
            "torch.Size([5, 4]) torch.Size([4])\n",
            "tensor([[ 0.,  1.,  2.,  3.],\n",
            "        [ 4.,  5.,  6.,  7.],\n",
            "        [ 8.,  9., 10., 11.],\n",
            "        [12., 13., 14., 15.],\n",
            "        [16., 17., 18., 19.]])\n",
            "tensor([1., 2., 4., 8.])\n",
            "tensor([ 34.,  94., 154., 214., 274.])\n"
          ],
          "name": "stdout"
        }
      ]
    },
    {
      "cell_type": "markdown",
      "metadata": {
        "id": "QJvNloGpZee8"
      },
      "source": [
        "### Matrix Multiplication\n",
        "\n",
        "![](https://i.imgur.com/8lGoukC.png)\n",
        "\n",
        "#### Walkthrough\n",
        "\n",
        "![](https://i.imgur.com/YPiBqU8.jpeg)\n",
        "\n",
        "![](https://i.imgur.com/YPiBqU8.jpeg)\n",
        "\n",
        "\n",
        "---\n",
        "\n",
        "\n",
        "\n",
        "\n"
      ]
    },
    {
      "cell_type": "code",
      "metadata": {
        "colab": {
          "base_uri": "https://localhost:8080/"
        },
        "id": "JnAkZ0RbY8lp",
        "outputId": "6201a4d9-5551-4b5a-90bd-9edc769a1c12"
      },
      "source": [
        "print (A)\n",
        "\n",
        "B = torch.ones((4,3))\n",
        "\n",
        "print (A.shape, B.shape)\n",
        "mul = torch.mm(A, B)\n",
        "print (mul)\n",
        "print (mul.shape)"
      ],
      "execution_count": 112,
      "outputs": [
        {
          "output_type": "stream",
          "text": [
            "tensor([[ 0.,  1.,  2.,  3.],\n",
            "        [ 4.,  5.,  6.,  7.],\n",
            "        [ 8.,  9., 10., 11.],\n",
            "        [12., 13., 14., 15.],\n",
            "        [16., 17., 18., 19.]])\n",
            "torch.Size([5, 4]) torch.Size([4, 3])\n",
            "tensor([[ 6.,  6.,  6.],\n",
            "        [22., 22., 22.],\n",
            "        [38., 38., 38.],\n",
            "        [54., 54., 54.],\n",
            "        [70., 70., 70.]])\n",
            "torch.Size([5, 3])\n"
          ],
          "name": "stdout"
        }
      ]
    },
    {
      "cell_type": "code",
      "metadata": {
        "colab": {
          "base_uri": "https://localhost:8080/"
        },
        "id": "DdaGhEkcvSA8",
        "outputId": "11fd2988-4ff8-4be9-96f9-7ff6ddb018b9"
      },
      "source": [
        "### a is each row vector; extract the one at idx 1\n",
        "a_2 = A[1, :]\n",
        "\n",
        "print (a_2)"
      ],
      "execution_count": 113,
      "outputs": [
        {
          "output_type": "stream",
          "text": [
            "tensor([4., 5., 6., 7.])\n"
          ],
          "name": "stdout"
        }
      ]
    },
    {
      "cell_type": "code",
      "metadata": {
        "colab": {
          "base_uri": "https://localhost:8080/"
        },
        "id": "SQWBLkUFv0hE",
        "outputId": "6ae68022-578a-4445-95ce-751c2792e4b1"
      },
      "source": [
        "### b is each col vector; extract the last one: b_m\n",
        "b_m = B[:, -1]\n",
        "\n",
        "print (b_m)"
      ],
      "execution_count": 114,
      "outputs": [
        {
          "output_type": "stream",
          "text": [
            "tensor([1., 1., 1., 1.])\n"
          ],
          "name": "stdout"
        }
      ]
    },
    {
      "cell_type": "code",
      "metadata": {
        "colab": {
          "base_uri": "https://localhost:8080/"
        },
        "id": "Gx3Zrc2vwKiI",
        "outputId": "5a57ec5b-c0c9-4ea4-9043-89e2e3fd67cc"
      },
      "source": [
        "### a2_T . b_m should give the result at pos 2, m\n",
        "\n",
        "print (a_2.T.dot(b_m))"
      ],
      "execution_count": 115,
      "outputs": [
        {
          "output_type": "stream",
          "text": [
            "tensor(22.)\n"
          ],
          "name": "stdout"
        }
      ]
    },
    {
      "cell_type": "code",
      "metadata": {
        "colab": {
          "base_uri": "https://localhost:8080/"
        },
        "id": "lc99Do5HwQJc",
        "outputId": "12910d8d-0798-4e22-8cfa-b5e7cf8c45cf"
      },
      "source": [
        "print (mul)"
      ],
      "execution_count": 116,
      "outputs": [
        {
          "output_type": "stream",
          "text": [
            "tensor([[ 6.,  6.,  6.],\n",
            "        [22., 22., 22.],\n",
            "        [38., 38., 38.],\n",
            "        [54., 54., 54.],\n",
            "        [70., 70., 70.]])\n"
          ],
          "name": "stdout"
        }
      ]
    },
    {
      "cell_type": "markdown",
      "metadata": {
        "id": "Ny6VcmB44k7O"
      },
      "source": [
        "### Norms\n",
        "\n",
        "Some of the most useful operators in linear algebra are norms. Informally, the norm of a vector tells us how big a vector is. The notion of size under consideration here concerns not dimensionality but rather the magnitude of the components.\n",
        "\n",
        "You might notice that norms sound a lot like measures of distance. And if you remember Euclidean distances (think Pythagoras’ theorem) from grade school, then the concepts of non-negativity and the triangle inequality might ring a bell. In fact, the Euclidean distance is a norm:\n",
        "\n",
        "specifically it is the  L2  norm. Suppose that the elements in the  n -dimensional vector  x  are  x1,…,xn . The  L2  norm of  x  is the square root of the sum of the squares of the vector elements:\n",
        "\n",
        "$\\|\\mathbf{x}\\|_2 = \\sqrt{\\sum_{i=1}^n x_i^2},$\n",
        "\n",
        "where the subscript  2  is often omitted in  L2  norms, i.e., $\\|\\mathbf{x}\\|$ is  equivalent to $\\|\\mathbf{x}\\|_2$ "
      ]
    },
    {
      "cell_type": "code",
      "metadata": {
        "colab": {
          "base_uri": "https://localhost:8080/"
        },
        "id": "K2Jk0JO0wsI4",
        "outputId": "7c8f1a81-5036-4f9a-d5e1-6ac748fa8a73"
      },
      "source": [
        "u = torch.tensor([3.0, -4.0])\n",
        "torch.norm(u)"
      ],
      "execution_count": 117,
      "outputs": [
        {
          "output_type": "execute_result",
          "data": {
            "text/plain": [
              "tensor(5.)"
            ]
          },
          "metadata": {
            "tags": []
          },
          "execution_count": 117
        }
      ]
    },
    {
      "cell_type": "markdown",
      "metadata": {
        "id": "NHhmigt05O4w"
      },
      "source": [
        "In deep learning, we work more often with the squared  L2  norm. You will also frequently encounter the  L1  norm, which is expressed as the sum of the absolute values of the vector elements:\n",
        "\n",
        "$\\|\\mathbf{x}\\|_1 = \\sum_{i=1}^n \\left|x_i \\right|.$\n",
        "\n",
        "As compared with the  L2  norm, it is less influenced by outliers. To calculate the  L1  norm, we compose the absolute value function with a sum over the elements."
      ]
    },
    {
      "cell_type": "code",
      "metadata": {
        "colab": {
          "base_uri": "https://localhost:8080/"
        },
        "id": "5qr-pYGb5HNK",
        "outputId": "822d24e9-d69c-4883-a35c-05789f716606"
      },
      "source": [
        "torch.abs(u).sum()"
      ],
      "execution_count": 118,
      "outputs": [
        {
          "output_type": "execute_result",
          "data": {
            "text/plain": [
              "tensor(7.)"
            ]
          },
          "metadata": {
            "tags": []
          },
          "execution_count": 118
        }
      ]
    },
    {
      "cell_type": "markdown",
      "metadata": {
        "id": "oABEOPdz8WBH"
      },
      "source": [
        "Both the  L2  norm and the  L1  norm are special cases of the more general  Lp  norm:\n",
        "\n",
        "$\\|\\mathbf{x}\\|_p = \\left(\\sum_{i=1}^n \\left|x_i \\right|^p \\right)^{1/p}.|$\n",
        "\n",
        "Analogous to  L2  norms of vectors, the Frobenius norm of a matrix $\\mathbf{X} \\in \\mathbb{R}^{m \\times n}$ is the square root of the sum of the squares of the matrix elements:\n",
        "\n",
        "$\\|\\mathbf{X}\\|_F = \\sqrt{\\sum_{i=1}^m \\sum_{j=1}^n x_{ij}^2}.$\n",
        "\n",
        "The Frobenius norm satisfies all the properties of vector norms. It behaves as if it were an  L2  norm of a matrix-shaped vector. Invoking the following function will calculate the Frobenius norm of a matrix."
      ]
    },
    {
      "cell_type": "code",
      "metadata": {
        "colab": {
          "base_uri": "https://localhost:8080/"
        },
        "id": "LSRHFAEv5XME",
        "outputId": "a8e23b8e-fcab-4f74-ef7f-79d587d93be5"
      },
      "source": [
        "print (A)\n",
        "torch.norm(A)"
      ],
      "execution_count": 119,
      "outputs": [
        {
          "output_type": "stream",
          "text": [
            "tensor([[ 0.,  1.,  2.,  3.],\n",
            "        [ 4.,  5.,  6.,  7.],\n",
            "        [ 8.,  9., 10., 11.],\n",
            "        [12., 13., 14., 15.],\n",
            "        [16., 17., 18., 19.]])\n"
          ],
          "name": "stdout"
        },
        {
          "output_type": "execute_result",
          "data": {
            "text/plain": [
              "tensor(49.6991)"
            ]
          },
          "metadata": {
            "tags": []
          },
          "execution_count": 119
        }
      ]
    },
    {
      "cell_type": "markdown",
      "metadata": {
        "id": "1huW-719815F"
      },
      "source": [
        "While we do not want to get too far ahead of ourselves, we can plant some intuition already about why these concepts are useful. In deep learning, we are often trying to solve optimization problems: maximize the probability assigned to observed data; minimize the distance between predictions and the ground-truth observations. Assign vector representations to items (like words, products, or news articles) such that the distance between similar items is minimized, and the distance between dissimilar items is maximized. Oftentimes, the objectives, perhaps the most important components of deep learning algorithms (besides the data), are expressed as norms.\n",
        "\n",
        "### Exercises\n",
        "\n",
        "6. Run A / A.sum(axis=1) and see what happens. Can you analyze the reason?\n",
        "\n"
      ]
    },
    {
      "cell_type": "code",
      "metadata": {
        "colab": {
          "base_uri": "https://localhost:8080/"
        },
        "id": "VBt3e6mv8sgR",
        "outputId": "84d5e1df-999c-4be1-97f4-51de03a55662"
      },
      "source": [
        "print (A)\n",
        "\n",
        "print (A.shape)\n",
        "\n",
        "print (A.sum(axis=1))"
      ],
      "execution_count": 120,
      "outputs": [
        {
          "output_type": "stream",
          "text": [
            "tensor([[ 0.,  1.,  2.,  3.],\n",
            "        [ 4.,  5.,  6.,  7.],\n",
            "        [ 8.,  9., 10., 11.],\n",
            "        [12., 13., 14., 15.],\n",
            "        [16., 17., 18., 19.]])\n",
            "torch.Size([5, 4])\n",
            "tensor([ 6., 22., 38., 54., 70.])\n"
          ],
          "name": "stdout"
        }
      ]
    },
    {
      "cell_type": "code",
      "metadata": {
        "colab": {
          "base_uri": "https://localhost:8080/"
        },
        "id": "Ba2jBr9m-ucA",
        "outputId": "43af482a-9504-4848-d6bd-40c142922624"
      },
      "source": [
        "A.size(), A.sum(axis=1).size()"
      ],
      "execution_count": 121,
      "outputs": [
        {
          "output_type": "execute_result",
          "data": {
            "text/plain": [
              "(torch.Size([5, 4]), torch.Size([5]))"
            ]
          },
          "metadata": {
            "tags": []
          },
          "execution_count": 121
        }
      ]
    },
    {
      "cell_type": "code",
      "metadata": {
        "id": "Xdu9s725-Of7"
      },
      "source": [
        "## A/A.sum(axis=1) -> error"
      ],
      "execution_count": 122,
      "outputs": []
    },
    {
      "cell_type": "markdown",
      "metadata": {
        "id": "7dBuofki_Y94"
      },
      "source": [
        "This will be fine:"
      ]
    },
    {
      "cell_type": "code",
      "metadata": {
        "colab": {
          "base_uri": "https://localhost:8080/"
        },
        "id": "SnHz5L5a-j0U",
        "outputId": "6095e763-7105-48f1-a70f-b78b715c48de"
      },
      "source": [
        "B = torch.arange(25, dtype = torch.float32).reshape(5, 5)\n",
        "print (B)\n",
        "print (B.sum(axis=1))\n",
        "B / B.sum(axis=1)"
      ],
      "execution_count": 123,
      "outputs": [
        {
          "output_type": "stream",
          "text": [
            "tensor([[ 0.,  1.,  2.,  3.,  4.],\n",
            "        [ 5.,  6.,  7.,  8.,  9.],\n",
            "        [10., 11., 12., 13., 14.],\n",
            "        [15., 16., 17., 18., 19.],\n",
            "        [20., 21., 22., 23., 24.]])\n",
            "tensor([ 10.,  35.,  60.,  85., 110.])\n"
          ],
          "name": "stdout"
        },
        {
          "output_type": "execute_result",
          "data": {
            "text/plain": [
              "tensor([[0.0000, 0.0286, 0.0333, 0.0353, 0.0364],\n",
              "        [0.5000, 0.1714, 0.1167, 0.0941, 0.0818],\n",
              "        [1.0000, 0.3143, 0.2000, 0.1529, 0.1273],\n",
              "        [1.5000, 0.4571, 0.2833, 0.2118, 0.1727],\n",
              "        [2.0000, 0.6000, 0.3667, 0.2706, 0.2182]])"
            ]
          },
          "metadata": {
            "tags": []
          },
          "execution_count": 123
        }
      ]
    },
    {
      "cell_type": "markdown",
      "metadata": {
        "id": "bxmAFhBP_hNQ"
      },
      "source": [
        "8. Consider a tensor with shape (2, 3, 4). What are the shapes of the summation outputs along axis 0, 1, and 2?\n",
        "\n"
      ]
    },
    {
      "cell_type": "code",
      "metadata": {
        "id": "1v7Zf8xV_Txg",
        "colab": {
          "base_uri": "https://localhost:8080/"
        },
        "outputId": "1cc46e79-014e-4549-ff9b-72b3fcfac9db"
      },
      "source": [
        "a = torch.randint(low=0, high=9, size=(2,3,4))\n",
        "a"
      ],
      "execution_count": 124,
      "outputs": [
        {
          "output_type": "execute_result",
          "data": {
            "text/plain": [
              "tensor([[[6, 0, 6, 1],\n",
              "         [4, 4, 4, 6],\n",
              "         [3, 8, 1, 0]],\n",
              "\n",
              "        [[1, 8, 0, 3],\n",
              "         [3, 2, 6, 7],\n",
              "         [8, 6, 2, 2]]])"
            ]
          },
          "metadata": {
            "tags": []
          },
          "execution_count": 124
        }
      ]
    },
    {
      "cell_type": "code",
      "metadata": {
        "colab": {
          "base_uri": "https://localhost:8080/"
        },
        "id": "wKP0oPnkT2_V",
        "outputId": "4d0f062b-0102-466d-c17e-4a4a5e90b808"
      },
      "source": [
        "print (a.shape)\n",
        "\n",
        "print (a.sum(axis=0))"
      ],
      "execution_count": 125,
      "outputs": [
        {
          "output_type": "stream",
          "text": [
            "torch.Size([2, 3, 4])\n",
            "tensor([[ 7,  8,  6,  4],\n",
            "        [ 7,  6, 10, 13],\n",
            "        [11, 14,  3,  2]])\n"
          ],
          "name": "stdout"
        }
      ]
    },
    {
      "cell_type": "code",
      "metadata": {
        "colab": {
          "base_uri": "https://localhost:8080/"
        },
        "id": "nZ268RB9T87C",
        "outputId": "42c72f66-4e58-460a-afe5-1428960d9398"
      },
      "source": [
        "### shape of a is (2,3,4) i.e 2 separate 3x4 matrics\n",
        "a[0], a[1]"
      ],
      "execution_count": 126,
      "outputs": [
        {
          "output_type": "execute_result",
          "data": {
            "text/plain": [
              "(tensor([[6, 0, 6, 1],\n",
              "         [4, 4, 4, 6],\n",
              "         [3, 8, 1, 0]]), tensor([[1, 8, 0, 3],\n",
              "         [3, 2, 6, 7],\n",
              "         [8, 6, 2, 2]]))"
            ]
          },
          "metadata": {
            "tags": []
          },
          "execution_count": 126
        }
      ]
    },
    {
      "cell_type": "code",
      "metadata": {
        "colab": {
          "base_uri": "https://localhost:8080/"
        },
        "id": "-8G2OYhDUCvZ",
        "outputId": "a401d068-b514-4aa5-807c-f9f56c55ad86"
      },
      "source": [
        "## a.sum(axis=0) will sum up the 2 3x4 matrices resulting in a 3x4 matrix\n",
        "a.sum(axis=0).shape"
      ],
      "execution_count": 127,
      "outputs": [
        {
          "output_type": "execute_result",
          "data": {
            "text/plain": [
              "torch.Size([3, 4])"
            ]
          },
          "metadata": {
            "tags": []
          },
          "execution_count": 127
        }
      ]
    },
    {
      "cell_type": "code",
      "metadata": {
        "colab": {
          "base_uri": "https://localhost:8080/"
        },
        "id": "szp5dynXUPEE",
        "outputId": "dd48fdff-6bd4-4108-d53e-5ce3be736a49"
      },
      "source": [
        "a[0]+a[1]"
      ],
      "execution_count": 128,
      "outputs": [
        {
          "output_type": "execute_result",
          "data": {
            "text/plain": [
              "tensor([[ 7,  8,  6,  4],\n",
              "        [ 7,  6, 10, 13],\n",
              "        [11, 14,  3,  2]])"
            ]
          },
          "metadata": {
            "tags": []
          },
          "execution_count": 128
        }
      ]
    },
    {
      "cell_type": "code",
      "metadata": {
        "colab": {
          "base_uri": "https://localhost:8080/"
        },
        "id": "oxADjUv1UzNT",
        "outputId": "214560ad-6b43-4618-f01b-fcaac49dfbac"
      },
      "source": [
        "a.sum(axis=0)"
      ],
      "execution_count": 129,
      "outputs": [
        {
          "output_type": "execute_result",
          "data": {
            "text/plain": [
              "tensor([[ 7,  8,  6,  4],\n",
              "        [ 7,  6, 10, 13],\n",
              "        [11, 14,  3,  2]])"
            ]
          },
          "metadata": {
            "tags": []
          },
          "execution_count": 129
        }
      ]
    },
    {
      "cell_type": "code",
      "metadata": {
        "colab": {
          "base_uri": "https://localhost:8080/"
        },
        "id": "E4YSh7UjZraj",
        "outputId": "2c921aa2-6631-4a48-d9f1-f794a3c8b7e5"
      },
      "source": [
        "a.sum(axis=1).shape"
      ],
      "execution_count": 130,
      "outputs": [
        {
          "output_type": "execute_result",
          "data": {
            "text/plain": [
              "torch.Size([2, 4])"
            ]
          },
          "metadata": {
            "tags": []
          },
          "execution_count": 130
        }
      ]
    },
    {
      "cell_type": "code",
      "metadata": {
        "colab": {
          "base_uri": "https://localhost:8080/"
        },
        "id": "-T_SSPJ5aCwA",
        "outputId": "e95e21ca-e539-4733-dcf1-eea31d5782be"
      },
      "source": [
        "a"
      ],
      "execution_count": 131,
      "outputs": [
        {
          "output_type": "execute_result",
          "data": {
            "text/plain": [
              "tensor([[[6, 0, 6, 1],\n",
              "         [4, 4, 4, 6],\n",
              "         [3, 8, 1, 0]],\n",
              "\n",
              "        [[1, 8, 0, 3],\n",
              "         [3, 2, 6, 7],\n",
              "         [8, 6, 2, 2]]])"
            ]
          },
          "metadata": {
            "tags": []
          },
          "execution_count": 131
        }
      ]
    },
    {
      "cell_type": "code",
      "metadata": {
        "colab": {
          "base_uri": "https://localhost:8080/"
        },
        "id": "r8McnX_nZvvC",
        "outputId": "50a93646-ea94-4df4-e6a2-6672deaebc45"
      },
      "source": [
        "### 2x4 shape: 2 rows for 2 matrices; 4 elems each for the sum of each matrix along the columns\n",
        "a.sum(axis=1)"
      ],
      "execution_count": 132,
      "outputs": [
        {
          "output_type": "execute_result",
          "data": {
            "text/plain": [
              "tensor([[13, 12, 11,  7],\n",
              "        [12, 16,  8, 12]])"
            ]
          },
          "metadata": {
            "tags": []
          },
          "execution_count": 132
        }
      ]
    },
    {
      "cell_type": "code",
      "metadata": {
        "colab": {
          "base_uri": "https://localhost:8080/"
        },
        "id": "GY41-rTGZ5RY",
        "outputId": "9bd73692-ec47-4985-b784-5176385b9384"
      },
      "source": [
        "a.sum(axis=2)"
      ],
      "execution_count": 133,
      "outputs": [
        {
          "output_type": "execute_result",
          "data": {
            "text/plain": [
              "tensor([[13, 18, 12],\n",
              "        [12, 18, 18]])"
            ]
          },
          "metadata": {
            "tags": []
          },
          "execution_count": 133
        }
      ]
    },
    {
      "cell_type": "code",
      "metadata": {
        "colab": {
          "base_uri": "https://localhost:8080/"
        },
        "id": "dBwBD24LaqVr",
        "outputId": "cdb04e49-1c51-4383-8847-6b0e315290aa"
      },
      "source": [
        "### 2x3 shape: 2 rows for 2 matrices; 3 elems each for the sum of each matrix along the rows\n",
        "\n",
        "a.sum(axis=2).shape"
      ],
      "execution_count": 134,
      "outputs": [
        {
          "output_type": "execute_result",
          "data": {
            "text/plain": [
              "torch.Size([2, 3])"
            ]
          },
          "metadata": {
            "tags": []
          },
          "execution_count": 134
        }
      ]
    },
    {
      "cell_type": "markdown",
      "metadata": {
        "id": "JAigyPVUbkuW"
      },
      "source": [
        "9. Feed a tensor with 3 or more axes to the linalg.norm function and observe its output. What does this function compute for tensors of arbitrary shape?\n",
        "\n"
      ]
    },
    {
      "cell_type": "code",
      "metadata": {
        "colab": {
          "base_uri": "https://localhost:8080/"
        },
        "id": "DSEuphS5axz6",
        "outputId": "10c117ae-0606-420d-931e-131e405c6702"
      },
      "source": [
        "Y= torch.arange(24,dtype = torch.float32).reshape(2, 3, 4)\n",
        "print (Y)"
      ],
      "execution_count": 135,
      "outputs": [
        {
          "output_type": "stream",
          "text": [
            "tensor([[[ 0.,  1.,  2.,  3.],\n",
            "         [ 4.,  5.,  6.,  7.],\n",
            "         [ 8.,  9., 10., 11.]],\n",
            "\n",
            "        [[12., 13., 14., 15.],\n",
            "         [16., 17., 18., 19.],\n",
            "         [20., 21., 22., 23.]]])\n"
          ],
          "name": "stdout"
        }
      ]
    },
    {
      "cell_type": "code",
      "metadata": {
        "colab": {
          "base_uri": "https://localhost:8080/"
        },
        "id": "0skacSdobx21",
        "outputId": "a329268a-5828-400c-b2db-21ad88d7e787"
      },
      "source": [
        "torch.linalg.norm(Y)"
      ],
      "execution_count": 136,
      "outputs": [
        {
          "output_type": "execute_result",
          "data": {
            "text/plain": [
              "tensor(65.7571)"
            ]
          },
          "metadata": {
            "tags": []
          },
          "execution_count": 136
        }
      ]
    },
    {
      "cell_type": "markdown",
      "metadata": {
        "id": "_XCz-F4mdqWa"
      },
      "source": [
        "Analogous to  L2  norms of vectors, the Frobenius norm of a matrix $\\mathbf{X} \\in \\mathbb{R}^{m \\times n}$ is the square root of the sum of the squares of the matrix elements:\n",
        "\n",
        "$\\|\\mathbf{X}\\|_F = \\sqrt{\\sum_{i=1}^m \\sum_{j=1}^n x_{ij}^2}.$\n"
      ]
    },
    {
      "cell_type": "code",
      "metadata": {
        "colab": {
          "base_uri": "https://localhost:8080/"
        },
        "id": "Qw45HzFLb8gF",
        "outputId": "bd779998-4686-4dcc-f3f6-d2dd81df129e"
      },
      "source": [
        "sum = 0\n",
        "for elem in Y[:]:\n",
        "    print (elem.shape)\n",
        "    for elem1 in elem:\n",
        "        for elem2 in elem1:\n",
        "            sum+= elem2.item()**2\n",
        "\n",
        "print(sum**0.5)"
      ],
      "execution_count": 137,
      "outputs": [
        {
          "output_type": "stream",
          "text": [
            "torch.Size([3, 4])\n",
            "torch.Size([3, 4])\n",
            "65.75712889109438\n"
          ],
          "name": "stdout"
        }
      ]
    },
    {
      "cell_type": "markdown",
      "metadata": {
        "id": "fDFEGSKue8Xb"
      },
      "source": [
        "This has computed the Frobenus norm for the tensor of shape 2x3x4"
      ]
    },
    {
      "cell_type": "markdown",
      "metadata": {
        "id": "ABOtW9fghj3e"
      },
      "source": [
        "## Calculus\n",
        "\n",
        "### Derivatives and Differentiation\n",
        "\n",
        "We begin by addressing the calculation of derivatives, a crucial step in nearly all deep learning optimization algorithms. In deep learning, we typically choose loss functions that are differentiable with respect to our model’s parameters. Put simply, this means that for each parameter, we can determine how rapidly the loss would increase or decrease, were we to increase or decrease that parameter by an infinitesimally small amount.\n",
        "\n",
        "Suppose that we have a function  $f: \\mathbb{R} \\rightarrow \\mathbb{R}$ whose input and output are both scalars. The derivative of  f  is defined as\n",
        "\n",
        "$f'(x) = \\lim_{h \\rightarrow 0} \\frac{f(x+h) - f(x)}{h},$\n",
        "\n",
        "if this limit exists. If  f'(a) exists,  f  is said to be differentiable at a . If  f  is differentiable at every number of an interval, then this function is differentiable on this interval. We can interpret the derivative  f′(x)  in (2.4.1) as the instantaneous rate of change of  f(x)  with respect to  x . The so-called instantaneous rate of change is based on the variation  h  in  x , which approaches  0 .\n",
        "\n",
        "To illustrate derivatives, let us experiment with an example. Define  \n",
        "$u = f(x) = 3x^2-4x$\n"
      ]
    },
    {
      "cell_type": "code",
      "metadata": {
        "id": "6wVMppOkchB3"
      },
      "source": [
        "%matplotlib inline\n",
        "import numpy as np\n",
        "from IPython import display\n",
        "\n",
        "def f(x):\n",
        "    return 3 * x ** 2 - 4 * x"
      ],
      "execution_count": 138,
      "outputs": []
    },
    {
      "cell_type": "code",
      "metadata": {
        "colab": {
          "base_uri": "https://localhost:8080/"
        },
        "id": "7MtrHWBAiOzE",
        "outputId": "f29efd27-02ce-47fd-d5ee-4d7a83533367"
      },
      "source": [
        "def numerical_lim(f, x, h):\n",
        "    return (f(x+h) - f(x))/h\n",
        "\n",
        "h = 0.1\n",
        "for i in range(10):\n",
        "    print (f'h = {h}, numerical limit = {numerical_lim(f, 1, h)}')\n",
        "    h *= 0.1"
      ],
      "execution_count": 139,
      "outputs": [
        {
          "output_type": "stream",
          "text": [
            "h = 0.1, numerical limit = 2.3000000000000043\n",
            "h = 0.010000000000000002, numerical limit = 2.029999999999976\n",
            "h = 0.0010000000000000002, numerical limit = 2.0029999999993104\n",
            "h = 0.00010000000000000003, numerical limit = 2.000299999997956\n",
            "h = 1.0000000000000004e-05, numerical limit = 2.0000300000155837\n",
            "h = 1.0000000000000004e-06, numerical limit = 2.0000030001021676\n",
            "h = 1.0000000000000005e-07, numerical limit = 2.000000298707504\n",
            "h = 1.0000000000000005e-08, numerical limit = 1.999999987845057\n",
            "h = 1.0000000000000005e-09, numerical limit = 2.000000165480741\n",
            "h = 1.0000000000000006e-10, numerical limit = 2.000000165480741\n"
          ],
          "name": "stdout"
        }
      ]
    },
    {
      "cell_type": "markdown",
      "metadata": {
        "id": "ct4Rs_DquGvz"
      },
      "source": [
        "Let us familiarize ourselves with a few equivalent notations for derivatives. Given  y=f(x) , where  x  and  y  are the independent variable and the dependent variable of the function  f , respectively. The following expressions are equivalent:\n",
        "\n",
        "$f'(x) = y' = \\frac{dy}{dx} = \\frac{df}{dx} = \\frac{d}{dx} f(x) = Df(x) = D_x f(x),$\n",
        "\n",
        "### Partial Derivatives\n",
        "\n",
        "So far we have dealt with the differentiation of functions of just one variable. In deep learning, functions often depend on many variables. Thus, we need to extend the ideas of differentiation to these multivariate functions.\n",
        "\n",
        "Let $y = f(x_1, x_2, \\ldots, x_n)$ be a function with  n  variables. The partial derivative of  y  with respect to its  ith  parameter  xi  is:\n",
        "\n",
        "$\\frac{\\partial y}{\\partial x_i} = \\lim_{h \\rightarrow 0} \\frac{f(x_1, \\ldots, x_{i-1}, x_i+h, x_{i+1}, \\ldots, x_n) - f(x_1, \\ldots, x_i, \\ldots, x_n)}{h}.$\n",
        "\n",
        "To calculate  $\\frac{\\partial y}{\\partial x_i}$ we can simply treat $x_1, \\ldots, x_{i-1}, x_{i+1}, \\ldots, x_n$ s constants and calculate the derivative of  y  with respect to  xi . For notation of partial derivatives, the following are equivalent:\n",
        "\n",
        "$\\frac{\\partial y}{\\partial x_i} = \\frac{\\partial f}{\\partial x_i} = f_{x_i} = f_i = D_i f = D_{x_i} f.$\n",
        "\n",
        "### Gradients\n",
        "\n",
        "Suppose that the input of function $f: \\mathbb{R}^n \\rightarrow \\mathbb{R}$ is an  n -dimensional vector $\\mathbf{x} = [x_1, x_2, \\ldots, x_n]^\\top$ and the output is a scalar. The gradient of the function  $f(\\mathbf{x})$  with respect to  $\\mathbf{x}$  is a vector of  n  partial derivatives:\n",
        "\n",
        "$\\nabla_{\\mathbf{x}} f(\\mathbf{x}) = \\bigg[\\frac{\\partial f(\\mathbf{x})}{\\partial x_1}, \\frac{\\partial f(\\mathbf{x})}{\\partial x_2}, \\ldots, \\frac{\\partial f(\\mathbf{x})}{\\partial x_n}\\bigg]^\\top,$\n",
        "\n",
        "Note that this also returns an n-dimensional vector\n",
        "\n",
        "where $\\nabla_{\\mathbf{x}} f(\\mathbf{x})$ is often replaced by $\\nabla f(\\mathbf{x})$  when there is no ambiguity.\n",
        "\n",
        "![](https://i.imgur.com/2qsZFkH.png)\n",
        "\n",
        "### Chain Rule\n",
        "\n",
        "However, such gradients can be hard to find. This is because multivariate functions in deep learning are often composite, so we may not apply any of the aforementioned rules to differentiate these functions. Fortunately, the chain rule enables us to differentiate composite functions.\n",
        "\n",
        "Let us first consider functions of a single variable. Suppose that functions y = f(u) and u = g(x) are both differentiable, then the chain rule states that\n",
        "\n",
        "$\\frac{dy}{dx} = \\frac{dy}{du} \\frac{du}{dx}.$\n",
        "\n",
        "Now let us turn our attention to a more general scenario where functions have an arbitrary number of variables. Suppose that the differentiable function  y  has variables u1, u2... um,  where each differentiable function  ui  has variables  x1,x2,…,xn . Note that  y  is a function of  x1,x2,…,xn . Then the chain rule gives\n",
        "\n",
        "$\\frac{dy}{dx_i} = \\frac{dy}{du_1} \\frac{du_1}{dx_i} + \\frac{dy}{du_2} \\frac{du_2}{dx_i} + \\cdots + \\frac{dy}{du_m} \\frac{du_m}{dx_i}$\n",
        "\n"
      ]
    },
    {
      "cell_type": "markdown",
      "metadata": {
        "id": "wHjGw2Ug-OSv"
      },
      "source": [
        "### Automatic Differentiation\n",
        "\n",
        "As we have explained in Section 2.4, differentiation is a crucial step in nearly all deep learning optimization algorithms. While the calculations for taking these derivatives are straightforward, requiring only some basic calculus, for complex models, working out the updates by hand can be a pain (and often error-prone).\n",
        "\n",
        "Deep learning frameworks expedite this work by automatically calculating derivatives, i.e., automatic differentiation. In practice, based on our designed model the system builds a computational graph, tracking which data combined through which operations to produce the output. Automatic differentiation enables the system to subsequently backpropagate gradients. Here, backpropagate simply means to trace through the computational graph, filling in the partial derivatives with respect to each parameter.\n",
        "\n",
        "As a toy example, say that we are interested in differentiating the function $y = 2\\mathbf{x}^{\\top}\\mathbf{x}$ with respect to the column vector  x . To start, let us create the variable x and assign it an initial value."
      ]
    },
    {
      "cell_type": "code",
      "metadata": {
        "id": "9S4a3ybnkXqv",
        "colab": {
          "base_uri": "https://localhost:8080/"
        },
        "outputId": "df1b4444-d5d0-4719-94d6-cbca2fc15a3f"
      },
      "source": [
        "x = torch.arange(4.0)\n",
        "print (x.shape)\n",
        "x"
      ],
      "execution_count": 140,
      "outputs": [
        {
          "output_type": "stream",
          "text": [
            "torch.Size([4])\n"
          ],
          "name": "stdout"
        },
        {
          "output_type": "execute_result",
          "data": {
            "text/plain": [
              "tensor([0., 1., 2., 3.])"
            ]
          },
          "metadata": {
            "tags": []
          },
          "execution_count": 140
        }
      ]
    },
    {
      "cell_type": "markdown",
      "metadata": {
        "id": "aQgekokX-pzD"
      },
      "source": [
        "The shape of x is 4x1. 2 x^T x will be a scalar. Also we know that a gradient of a scalar-valued function with respect to a vector  x  is itself vector-valued and has the same shape as  x .\n",
        "\n",
        "Suppose that the input of function $f: \\mathbb{R}^n \\rightarrow \\mathbb{R}$ is an  n -dimensional vector $\\mathbf{x} = [x_1, x_2, \\ldots, x_n]^\\top$ and the output is a scalar. The gradient of the function  $f(\\mathbf{x})$  with respect to  $\\mathbf{x}$  is a vector of  n  partial derivatives:\n",
        "\n",
        "$\\nabla_{\\mathbf{x}} f(\\mathbf{x}) = \\bigg[\\frac{\\partial f(\\mathbf{x})}{\\partial x_1}, \\frac{\\partial f(\\mathbf{x})}{\\partial x_2}, \\ldots, \\frac{\\partial f(\\mathbf{x})}{\\partial x_n}\\bigg]^\\top,$\n",
        "\n",
        "Before we even calculate the gradient of  y  with respect to  x , we will need a place to store it. It is important that we do not allocate new memory every time we take a derivative with respect to a parameter because we will often update the same parameters thousands or millions of times and could quickly run out of memory"
      ]
    },
    {
      "cell_type": "code",
      "metadata": {
        "id": "bkHEwOwW-fdJ"
      },
      "source": [
        "x.requires_grad_(True)  # Same as `x = torch.arange(4.0, requires_grad=True)` ### This means we want to calculate grad wrt x\n",
        "x.grad  # The default value is None"
      ],
      "execution_count": 141,
      "outputs": []
    },
    {
      "cell_type": "markdown",
      "metadata": {
        "id": "T3Ud_wmwKmGV"
      },
      "source": [
        "Now let us calculate  y . Note: y here is a scalar"
      ]
    },
    {
      "cell_type": "code",
      "metadata": {
        "colab": {
          "base_uri": "https://localhost:8080/"
        },
        "id": "QQIxoU4xKi7r",
        "outputId": "8c47ecd5-8685-4442-cccb-46a2d95a88c6"
      },
      "source": [
        "y = 2*torch.dot(x, x) ## 2 (0.0 + 1.1 + 2.2 + 3.3)\n",
        "print (x)\n",
        "print (y)"
      ],
      "execution_count": 142,
      "outputs": [
        {
          "output_type": "stream",
          "text": [
            "tensor([0., 1., 2., 3.], requires_grad=True)\n",
            "tensor(28., grad_fn=<MulBackward0>)\n"
          ],
          "name": "stdout"
        }
      ]
    },
    {
      "cell_type": "markdown",
      "metadata": {
        "id": "a3tPMwRMK8PI"
      },
      "source": [
        "Since x is a vector of length 4, an inner product of x and x is performed, yielding the scalar output that we assign to y. Next, we can automatically calculate the gradient of y with respect to each component of x by calling the function for backpropagation and printing the gradient.\n",
        "\n"
      ]
    },
    {
      "cell_type": "code",
      "metadata": {
        "colab": {
          "base_uri": "https://localhost:8080/"
        },
        "id": "OJkKpe9MKsye",
        "outputId": "6b72848b-fc0c-4e36-a1e7-7d6137ecf01e"
      },
      "source": [
        "y.backward()\n",
        "x.grad"
      ],
      "execution_count": 143,
      "outputs": [
        {
          "output_type": "execute_result",
          "data": {
            "text/plain": [
              "tensor([ 0.,  4.,  8., 12.])"
            ]
          },
          "metadata": {
            "tags": []
          },
          "execution_count": 143
        }
      ]
    },
    {
      "cell_type": "markdown",
      "metadata": {
        "id": "RnGnn55eMvc4"
      },
      "source": [
        "The gradient of the function  $y = 2\\mathbf{x}^{\\top}\\mathbf{x}$  with respect to $\\mathbf{x}$ will be $4\\mathbf{x}$.  Let us quickly verify that our desired gradient was calculated correctly."
      ]
    },
    {
      "cell_type": "code",
      "metadata": {
        "colab": {
          "base_uri": "https://localhost:8080/"
        },
        "id": "dJNZX2f7LN1h",
        "outputId": "94c69952-4283-4678-8707-1dc926c49d7a"
      },
      "source": [
        "4*x"
      ],
      "execution_count": 144,
      "outputs": [
        {
          "output_type": "execute_result",
          "data": {
            "text/plain": [
              "tensor([ 0.,  4.,  8., 12.], grad_fn=<MulBackward0>)"
            ]
          },
          "metadata": {
            "tags": []
          },
          "execution_count": 144
        }
      ]
    },
    {
      "cell_type": "markdown",
      "metadata": {
        "id": "V0U86YuONPqY"
      },
      "source": [
        "Now let us calculate another function of x.\n",
        "\n"
      ]
    },
    {
      "cell_type": "code",
      "metadata": {
        "colab": {
          "base_uri": "https://localhost:8080/"
        },
        "id": "7n-8wJgXNCgi",
        "outputId": "5f1d067f-9a40-47a1-8bcc-5b118a568b9d"
      },
      "source": [
        "# PyTorch accumulates the gradient in default, we need to clear the previous values\n",
        "x.grad.zero_()"
      ],
      "execution_count": 145,
      "outputs": [
        {
          "output_type": "execute_result",
          "data": {
            "text/plain": [
              "tensor([0., 0., 0., 0.])"
            ]
          },
          "metadata": {
            "tags": []
          },
          "execution_count": 145
        }
      ]
    },
    {
      "cell_type": "code",
      "metadata": {
        "colab": {
          "base_uri": "https://localhost:8080/"
        },
        "id": "1DPF9EVwNU8e",
        "outputId": "6e041ee8-13c9-4b75-9508-208a0be545b3"
      },
      "source": [
        "y = x.sum()\n",
        "print (y)"
      ],
      "execution_count": 146,
      "outputs": [
        {
          "output_type": "stream",
          "text": [
            "tensor(6., grad_fn=<SumBackward0>)\n"
          ],
          "name": "stdout"
        }
      ]
    },
    {
      "cell_type": "code",
      "metadata": {
        "colab": {
          "base_uri": "https://localhost:8080/"
        },
        "id": "VoZlHaCTNfot",
        "outputId": "a1e70057-7293-4ace-b303-20316a118fab"
      },
      "source": [
        "y.backward()\n",
        "x.grad"
      ],
      "execution_count": 147,
      "outputs": [
        {
          "output_type": "execute_result",
          "data": {
            "text/plain": [
              "tensor([1., 1., 1., 1.])"
            ]
          },
          "metadata": {
            "tags": []
          },
          "execution_count": 147
        }
      ]
    },
    {
      "cell_type": "markdown",
      "metadata": {
        "id": "N9IpuNv8Npjf"
      },
      "source": [
        "y = x1 + x2 + x3 + x4 where x1, x2, x3, x4 are each elem of vector x\n",
        "\n",
        "dy/dx = [dy/dx1, dy/dx2, dy/dx3, dy/dx4]: Note each of these are the partial derivatives\n",
        "\n"
      ]
    },
    {
      "cell_type": "markdown",
      "metadata": {
        "id": "UGm3ORJWN-xE"
      },
      "source": [
        "### Backward for Non-Scalar Variables\n",
        "\n",
        "Technically, when y is not a scalar, the most natural interpretation of the differentiation of a vector y with respect to a vector x is a matrix. For higher-order and higher-dimensional y and x, the differentiation result could be a high-order tensor.\n",
        "\n",
        "However, while these more exotic objects do show up in advanced machine learning (including in deep learning), more often when we are calling backward on a vector, we are trying to calculate the derivatives of the loss functions for each constituent of a batch of training examples. Here, our intent is not to calculate the differentiation matrix but rather the sum of the partial derivatives computed individually for each example in the batch."
      ]
    },
    {
      "cell_type": "code",
      "metadata": {
        "id": "onxWh7qnNpEj"
      },
      "source": [
        "x.grad.zero_()\n",
        "y = x * x"
      ],
      "execution_count": 148,
      "outputs": []
    },
    {
      "cell_type": "code",
      "metadata": {
        "colab": {
          "base_uri": "https://localhost:8080/"
        },
        "id": "k-uW7OEtNhmX",
        "outputId": "a406128f-1837-4cbc-92e0-ef6cf936a386"
      },
      "source": [
        "print (x)\n",
        "print (y)"
      ],
      "execution_count": 149,
      "outputs": [
        {
          "output_type": "stream",
          "text": [
            "tensor([0., 1., 2., 3.], requires_grad=True)\n",
            "tensor([0., 1., 4., 9.], grad_fn=<MulBackward0>)\n"
          ],
          "name": "stdout"
        }
      ]
    },
    {
      "cell_type": "code",
      "metadata": {
        "colab": {
          "base_uri": "https://localhost:8080/"
        },
        "id": "Rz71ntCvObV4",
        "outputId": "1dfb4bfd-48c8-4e61-fae1-7aa974facdc3"
      },
      "source": [
        "print (y.sum())"
      ],
      "execution_count": 150,
      "outputs": [
        {
          "output_type": "stream",
          "text": [
            "tensor(14., grad_fn=<SumBackward0>)\n"
          ],
          "name": "stdout"
        }
      ]
    },
    {
      "cell_type": "code",
      "metadata": {
        "id": "k5PjwOdLOrxm"
      },
      "source": [
        "y.sum().backward()"
      ],
      "execution_count": 151,
      "outputs": []
    },
    {
      "cell_type": "code",
      "metadata": {
        "colab": {
          "base_uri": "https://localhost:8080/"
        },
        "id": "TLVTDnvfOv2r",
        "outputId": "4515fbe1-6739-461e-9b5a-34268b0a318f"
      },
      "source": [
        "x.grad"
      ],
      "execution_count": 152,
      "outputs": [
        {
          "output_type": "execute_result",
          "data": {
            "text/plain": [
              "tensor([0., 2., 4., 6.])"
            ]
          },
          "metadata": {
            "tags": []
          },
          "execution_count": 152
        }
      ]
    },
    {
      "cell_type": "markdown",
      "metadata": {
        "id": "5N8DtSySQ3v3"
      },
      "source": [
        "Here again y is basically y = x1^2 + x2^2 + x3^2 + x4^2\n",
        "\n",
        "so dy/dx = [dy/dx1, dy/dx2, dy/dx3, dy/dx4]: Note each of these are the partial derivatives = [2x1, 2x2, 2x3, 2x4]"
      ]
    },
    {
      "cell_type": "markdown",
      "metadata": {
        "id": "fG2azvLCRf6h"
      },
      "source": [
        "### Detaching Computation\n",
        "\n",
        "Sometimes, we wish to move some calculations outside of the recorded computational graph. For example, say that y was calculated as a function of x, and that subsequently z was calculated as a function of both y and x. Now, imagine that we wanted to calculate the gradient of z with respect to x, but wanted for some reason to treat y as a constant, and only take into account the role that x played after y was calculated.\n",
        "\n",
        "say y = x^2 and z = y*x = x^2 * x\n",
        "\n",
        "Here, we can detach y to return a new variable u that has the same value as y but discards any information about how y was computed in the computational graph. In other words, the gradient will not flow backwards through u to x. Thus, the following backpropagation function computes the partial derivative of z = u * x with respect to x while treating u as a constant, instead of the partial derivative of z = x * x * x with respect to x.\n",
        "\n",
        "\n",
        "\n"
      ]
    },
    {
      "cell_type": "code",
      "metadata": {
        "colab": {
          "base_uri": "https://localhost:8080/"
        },
        "id": "Xl7jraMqPAII",
        "outputId": "02c5afea-7280-47ab-a052-b9936aaa6027"
      },
      "source": [
        "x.grad.zero_()\n",
        "print (x)\n",
        "y = x * x\n",
        "print (y)\n",
        "\n",
        "u = y.detach()\n",
        "print (u)"
      ],
      "execution_count": 153,
      "outputs": [
        {
          "output_type": "stream",
          "text": [
            "tensor([0., 1., 2., 3.], requires_grad=True)\n",
            "tensor([0., 1., 4., 9.], grad_fn=<MulBackward0>)\n",
            "tensor([0., 1., 4., 9.])\n"
          ],
          "name": "stdout"
        }
      ]
    },
    {
      "cell_type": "code",
      "metadata": {
        "colab": {
          "base_uri": "https://localhost:8080/"
        },
        "id": "gDpyTgbYSL3-",
        "outputId": "02af83ac-3d57-46f8-cd8e-53074c96f56c"
      },
      "source": [
        "z = u * x\n",
        "z.sum().backward()\n",
        "print (x.grad) ### should return u"
      ],
      "execution_count": 154,
      "outputs": [
        {
          "output_type": "stream",
          "text": [
            "tensor([0., 1., 4., 9.])\n"
          ],
          "name": "stdout"
        }
      ]
    },
    {
      "cell_type": "code",
      "metadata": {
        "colab": {
          "base_uri": "https://localhost:8080/"
        },
        "id": "NXPaxITIbYht",
        "outputId": "65f2863a-d619-4a90-bcf8-54068c40eae5"
      },
      "source": [
        "### without detaching\n",
        "x.grad.zero_()\n",
        "print (x)\n",
        "y = x * x\n",
        "print (y)\n",
        "z = y * x\n",
        "z.sum().backward()\n",
        "print (x.grad) ### 3 x^2 = [3.0^2, 3.1^2, 3.2^2, 3.3^2]"
      ],
      "execution_count": 155,
      "outputs": [
        {
          "output_type": "stream",
          "text": [
            "tensor([0., 1., 2., 3.], requires_grad=True)\n",
            "tensor([0., 1., 4., 9.], grad_fn=<MulBackward0>)\n",
            "tensor([ 0.,  3., 12., 27.])\n"
          ],
          "name": "stdout"
        }
      ]
    },
    {
      "cell_type": "markdown",
      "metadata": {
        "id": "6kYCKmQOb706"
      },
      "source": [
        "### Computing the Gradient of Python Control Flow\n",
        "\n",
        "One benefit of using automatic differentiation is that even if building the computational graph of a function required passing through a maze of Python control flow (e.g., conditionals, loops, and arbitrary function calls), we can still calculate the gradient of the resulting variable. In the following snippet, note that the number of iterations of the while loop and the evaluation of the if statement both depend on the value of the input a.\n",
        "\n"
      ]
    },
    {
      "cell_type": "code",
      "metadata": {
        "id": "2pcEsDpfblLg"
      },
      "source": [
        "def f(a):\n",
        "    ## init b = 2a\n",
        "    b = a*2\n",
        "    while b.norm() < 1000:\n",
        "        b = b * 2\n",
        "    if b.sum() > 0:\n",
        "        print ('here', b)\n",
        "        c = b\n",
        "    else:\n",
        "        c = 100 * b\n",
        "    return c"
      ],
      "execution_count": 156,
      "outputs": []
    },
    {
      "cell_type": "code",
      "metadata": {
        "colab": {
          "base_uri": "https://localhost:8080/"
        },
        "id": "rBKVG4dod7CW",
        "outputId": "8fb39e17-e24a-431d-c2e5-18156c4fab3d"
      },
      "source": [
        "a = torch.randn(size=(), requires_grad=True)\n",
        "print (a)"
      ],
      "execution_count": 157,
      "outputs": [
        {
          "output_type": "stream",
          "text": [
            "tensor(0.6563, requires_grad=True)\n"
          ],
          "name": "stdout"
        }
      ]
    },
    {
      "cell_type": "code",
      "metadata": {
        "colab": {
          "base_uri": "https://localhost:8080/"
        },
        "id": "Dr4u454XeBK9",
        "outputId": "e7c72390-2870-48fc-ecaa-8e3aa33e4479"
      },
      "source": [
        "print (a.norm())"
      ],
      "execution_count": 158,
      "outputs": [
        {
          "output_type": "stream",
          "text": [
            "tensor(0.6563, grad_fn=<CopyBackwards>)\n"
          ],
          "name": "stdout"
        }
      ]
    },
    {
      "cell_type": "code",
      "metadata": {
        "colab": {
          "base_uri": "https://localhost:8080/"
        },
        "id": "mt1T4F81eFIi",
        "outputId": "ca6d54b1-efe1-4059-a7e4-83e35b507d24"
      },
      "source": [
        "d = f(a)"
      ],
      "execution_count": 159,
      "outputs": [
        {
          "output_type": "stream",
          "text": [
            "here tensor(1344.0516, grad_fn=<MulBackward0>)\n"
          ],
          "name": "stdout"
        }
      ]
    },
    {
      "cell_type": "markdown",
      "metadata": {
        "id": "eXCtaI4relYB"
      },
      "source": [
        "d = f(a) = 2*a * 2^k = k(some const) * a\n"
      ]
    },
    {
      "cell_type": "code",
      "metadata": {
        "colab": {
          "base_uri": "https://localhost:8080/"
        },
        "id": "NjZNlvk2eTPY",
        "outputId": "b05f90b5-e0ca-4b10-c008-1699ee438563"
      },
      "source": [
        "d = f(a)\n",
        "d.backward()"
      ],
      "execution_count": 160,
      "outputs": [
        {
          "output_type": "stream",
          "text": [
            "here tensor(1344.0516, grad_fn=<MulBackward0>)\n"
          ],
          "name": "stdout"
        }
      ]
    },
    {
      "cell_type": "code",
      "metadata": {
        "colab": {
          "base_uri": "https://localhost:8080/"
        },
        "id": "jjGsDU2Ne18-",
        "outputId": "e80eea92-6f72-4a85-9950-34cbf767f6a4"
      },
      "source": [
        "print (a.grad)"
      ],
      "execution_count": 161,
      "outputs": [
        {
          "output_type": "stream",
          "text": [
            "tensor(2048.)\n"
          ],
          "name": "stdout"
        }
      ]
    },
    {
      "cell_type": "code",
      "metadata": {
        "colab": {
          "base_uri": "https://localhost:8080/"
        },
        "id": "JZjNa501e4Jt",
        "outputId": "29aae256-a1e1-4449-b16e-288119ad1aef"
      },
      "source": [
        "d/a"
      ],
      "execution_count": 162,
      "outputs": [
        {
          "output_type": "execute_result",
          "data": {
            "text/plain": [
              "tensor(2048., grad_fn=<DivBackward0>)"
            ]
          },
          "metadata": {
            "tags": []
          },
          "execution_count": 162
        }
      ]
    },
    {
      "cell_type": "markdown",
      "metadata": {
        "id": "_xv_qTMpfE3s"
      },
      "source": [
        "We can now analyze the f function defined above. Note that it is piecewise linear in its input a. In other words, for any a there exists some constant scalar k such that f(a) = k * a, where the value of k depends on the input a\n",
        "\n",
        "f(a) = k*a => df/da = k  = f(a)/a = d/a"
      ]
    },
    {
      "cell_type": "code",
      "metadata": {
        "id": "yH5rOQQ2gQmX"
      },
      "source": [
        ""
      ],
      "execution_count": 162,
      "outputs": []
    }
  ]
}