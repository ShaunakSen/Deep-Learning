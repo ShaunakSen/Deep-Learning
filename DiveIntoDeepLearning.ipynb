{
  "nbformat": 4,
  "nbformat_minor": 0,
  "metadata": {
    "colab": {
      "name": "DiveIntoDeepLearning.ipynb",
      "provenance": [],
      "collapsed_sections": [],
      "authorship_tag": "ABX9TyNgAkelFtWh6PXEcvj6Ypmh",
      "include_colab_link": true
    },
    "kernelspec": {
      "name": "python3",
      "display_name": "Python 3"
    }
  },
  "cells": [
    {
      "cell_type": "markdown",
      "metadata": {
        "id": "view-in-github",
        "colab_type": "text"
      },
      "source": [
        "<a href=\"https://colab.research.google.com/github/ShaunakSen/Deep-Learning/blob/master/DiveIntoDeepLearning.ipynb\" target=\"_parent\"><img src=\"https://colab.research.google.com/assets/colab-badge.svg\" alt=\"Open In Colab\"/></a>"
      ]
    },
    {
      "cell_type": "code",
      "metadata": {
        "colab": {
          "base_uri": "https://localhost:8080/"
        },
        "id": "CfDmkz1ChPaM",
        "outputId": "885248a6-cf2b-4610-815a-78824d5f6540"
      },
      "source": [
        "!pip install -U d2l"
      ],
      "execution_count": 2,
      "outputs": [
        {
          "output_type": "stream",
          "text": [
            "Collecting d2l\n",
            "\u001b[?25l  Downloading https://files.pythonhosted.org/packages/d0/1f/13de7e8cafaba15739caee0596032412aaf51a22726649b317bdb53c4f9a/d2l-0.16.2-py3-none-any.whl (77kB)\n",
            "\r\u001b[K     |████▎                           | 10kB 22.2MB/s eta 0:00:01\r\u001b[K     |████████▌                       | 20kB 24.3MB/s eta 0:00:01\r\u001b[K     |████████████▊                   | 30kB 15.8MB/s eta 0:00:01\r\u001b[K     |█████████████████               | 40kB 16.5MB/s eta 0:00:01\r\u001b[K     |█████████████████████▏          | 51kB 14.5MB/s eta 0:00:01\r\u001b[K     |█████████████████████████▌      | 61kB 16.2MB/s eta 0:00:01\r\u001b[K     |█████████████████████████████▊  | 71kB 13.1MB/s eta 0:00:01\r\u001b[K     |████████████████████████████████| 81kB 4.2MB/s \n",
            "\u001b[?25hRequirement already satisfied, skipping upgrade: pandas in /usr/local/lib/python3.7/dist-packages (from d2l) (1.1.5)\n",
            "Requirement already satisfied, skipping upgrade: numpy in /usr/local/lib/python3.7/dist-packages (from d2l) (1.19.5)\n",
            "Requirement already satisfied, skipping upgrade: requests in /usr/local/lib/python3.7/dist-packages (from d2l) (2.23.0)\n",
            "Requirement already satisfied, skipping upgrade: jupyter in /usr/local/lib/python3.7/dist-packages (from d2l) (1.0.0)\n",
            "Requirement already satisfied, skipping upgrade: matplotlib in /usr/local/lib/python3.7/dist-packages (from d2l) (3.2.2)\n",
            "Requirement already satisfied, skipping upgrade: pytz>=2017.2 in /usr/local/lib/python3.7/dist-packages (from pandas->d2l) (2018.9)\n",
            "Requirement already satisfied, skipping upgrade: python-dateutil>=2.7.3 in /usr/local/lib/python3.7/dist-packages (from pandas->d2l) (2.8.1)\n",
            "Requirement already satisfied, skipping upgrade: certifi>=2017.4.17 in /usr/local/lib/python3.7/dist-packages (from requests->d2l) (2020.12.5)\n",
            "Requirement already satisfied, skipping upgrade: idna<3,>=2.5 in /usr/local/lib/python3.7/dist-packages (from requests->d2l) (2.10)\n",
            "Requirement already satisfied, skipping upgrade: chardet<4,>=3.0.2 in /usr/local/lib/python3.7/dist-packages (from requests->d2l) (3.0.4)\n",
            "Requirement already satisfied, skipping upgrade: urllib3!=1.25.0,!=1.25.1,<1.26,>=1.21.1 in /usr/local/lib/python3.7/dist-packages (from requests->d2l) (1.24.3)\n",
            "Requirement already satisfied, skipping upgrade: jupyter-console in /usr/local/lib/python3.7/dist-packages (from jupyter->d2l) (5.2.0)\n",
            "Requirement already satisfied, skipping upgrade: nbconvert in /usr/local/lib/python3.7/dist-packages (from jupyter->d2l) (5.6.1)\n",
            "Requirement already satisfied, skipping upgrade: ipykernel in /usr/local/lib/python3.7/dist-packages (from jupyter->d2l) (4.10.1)\n",
            "Requirement already satisfied, skipping upgrade: ipywidgets in /usr/local/lib/python3.7/dist-packages (from jupyter->d2l) (7.6.3)\n",
            "Requirement already satisfied, skipping upgrade: notebook in /usr/local/lib/python3.7/dist-packages (from jupyter->d2l) (5.3.1)\n",
            "Requirement already satisfied, skipping upgrade: qtconsole in /usr/local/lib/python3.7/dist-packages (from jupyter->d2l) (5.0.3)\n",
            "Requirement already satisfied, skipping upgrade: cycler>=0.10 in /usr/local/lib/python3.7/dist-packages (from matplotlib->d2l) (0.10.0)\n",
            "Requirement already satisfied, skipping upgrade: kiwisolver>=1.0.1 in /usr/local/lib/python3.7/dist-packages (from matplotlib->d2l) (1.3.1)\n",
            "Requirement already satisfied, skipping upgrade: pyparsing!=2.0.4,!=2.1.2,!=2.1.6,>=2.0.1 in /usr/local/lib/python3.7/dist-packages (from matplotlib->d2l) (2.4.7)\n",
            "Requirement already satisfied, skipping upgrade: six>=1.5 in /usr/local/lib/python3.7/dist-packages (from python-dateutil>=2.7.3->pandas->d2l) (1.15.0)\n",
            "Requirement already satisfied, skipping upgrade: pygments in /usr/local/lib/python3.7/dist-packages (from jupyter-console->jupyter->d2l) (2.6.1)\n",
            "Requirement already satisfied, skipping upgrade: jupyter-client in /usr/local/lib/python3.7/dist-packages (from jupyter-console->jupyter->d2l) (5.3.5)\n",
            "Requirement already satisfied, skipping upgrade: prompt-toolkit<2.0.0,>=1.0.0 in /usr/local/lib/python3.7/dist-packages (from jupyter-console->jupyter->d2l) (1.0.18)\n",
            "Requirement already satisfied, skipping upgrade: ipython in /usr/local/lib/python3.7/dist-packages (from jupyter-console->jupyter->d2l) (5.5.0)\n",
            "Requirement already satisfied, skipping upgrade: jupyter-core in /usr/local/lib/python3.7/dist-packages (from nbconvert->jupyter->d2l) (4.7.1)\n",
            "Requirement already satisfied, skipping upgrade: traitlets>=4.2 in /usr/local/lib/python3.7/dist-packages (from nbconvert->jupyter->d2l) (5.0.5)\n",
            "Requirement already satisfied, skipping upgrade: pandocfilters>=1.4.1 in /usr/local/lib/python3.7/dist-packages (from nbconvert->jupyter->d2l) (1.4.3)\n",
            "Requirement already satisfied, skipping upgrade: jinja2>=2.4 in /usr/local/lib/python3.7/dist-packages (from nbconvert->jupyter->d2l) (2.11.3)\n",
            "Requirement already satisfied, skipping upgrade: defusedxml in /usr/local/lib/python3.7/dist-packages (from nbconvert->jupyter->d2l) (0.7.1)\n",
            "Requirement already satisfied, skipping upgrade: mistune<2,>=0.8.1 in /usr/local/lib/python3.7/dist-packages (from nbconvert->jupyter->d2l) (0.8.4)\n",
            "Requirement already satisfied, skipping upgrade: nbformat>=4.4 in /usr/local/lib/python3.7/dist-packages (from nbconvert->jupyter->d2l) (5.1.2)\n",
            "Requirement already satisfied, skipping upgrade: bleach in /usr/local/lib/python3.7/dist-packages (from nbconvert->jupyter->d2l) (3.3.0)\n",
            "Requirement already satisfied, skipping upgrade: testpath in /usr/local/lib/python3.7/dist-packages (from nbconvert->jupyter->d2l) (0.4.4)\n",
            "Requirement already satisfied, skipping upgrade: entrypoints>=0.2.2 in /usr/local/lib/python3.7/dist-packages (from nbconvert->jupyter->d2l) (0.3)\n",
            "Requirement already satisfied, skipping upgrade: tornado>=4.0 in /usr/local/lib/python3.7/dist-packages (from ipykernel->jupyter->d2l) (5.1.1)\n",
            "Requirement already satisfied, skipping upgrade: widgetsnbextension~=3.5.0 in /usr/local/lib/python3.7/dist-packages (from ipywidgets->jupyter->d2l) (3.5.1)\n",
            "Requirement already satisfied, skipping upgrade: jupyterlab-widgets>=1.0.0; python_version >= \"3.6\" in /usr/local/lib/python3.7/dist-packages (from ipywidgets->jupyter->d2l) (1.0.0)\n",
            "Requirement already satisfied, skipping upgrade: ipython-genutils in /usr/local/lib/python3.7/dist-packages (from notebook->jupyter->d2l) (0.2.0)\n",
            "Requirement already satisfied, skipping upgrade: terminado>=0.8.1 in /usr/local/lib/python3.7/dist-packages (from notebook->jupyter->d2l) (0.9.2)\n",
            "Requirement already satisfied, skipping upgrade: Send2Trash in /usr/local/lib/python3.7/dist-packages (from notebook->jupyter->d2l) (1.5.0)\n",
            "Requirement already satisfied, skipping upgrade: qtpy in /usr/local/lib/python3.7/dist-packages (from qtconsole->jupyter->d2l) (1.9.0)\n",
            "Requirement already satisfied, skipping upgrade: pyzmq>=17.1 in /usr/local/lib/python3.7/dist-packages (from qtconsole->jupyter->d2l) (22.0.3)\n",
            "Requirement already satisfied, skipping upgrade: wcwidth in /usr/local/lib/python3.7/dist-packages (from prompt-toolkit<2.0.0,>=1.0.0->jupyter-console->jupyter->d2l) (0.2.5)\n",
            "Requirement already satisfied, skipping upgrade: decorator in /usr/local/lib/python3.7/dist-packages (from ipython->jupyter-console->jupyter->d2l) (4.4.2)\n",
            "Requirement already satisfied, skipping upgrade: setuptools>=18.5 in /usr/local/lib/python3.7/dist-packages (from ipython->jupyter-console->jupyter->d2l) (54.1.2)\n",
            "Requirement already satisfied, skipping upgrade: simplegeneric>0.8 in /usr/local/lib/python3.7/dist-packages (from ipython->jupyter-console->jupyter->d2l) (0.8.1)\n",
            "Requirement already satisfied, skipping upgrade: pexpect; sys_platform != \"win32\" in /usr/local/lib/python3.7/dist-packages (from ipython->jupyter-console->jupyter->d2l) (4.8.0)\n",
            "Requirement already satisfied, skipping upgrade: pickleshare in /usr/local/lib/python3.7/dist-packages (from ipython->jupyter-console->jupyter->d2l) (0.7.5)\n",
            "Requirement already satisfied, skipping upgrade: MarkupSafe>=0.23 in /usr/local/lib/python3.7/dist-packages (from jinja2>=2.4->nbconvert->jupyter->d2l) (1.1.1)\n",
            "Requirement already satisfied, skipping upgrade: jsonschema!=2.5.0,>=2.4 in /usr/local/lib/python3.7/dist-packages (from nbformat>=4.4->nbconvert->jupyter->d2l) (2.6.0)\n",
            "Requirement already satisfied, skipping upgrade: packaging in /usr/local/lib/python3.7/dist-packages (from bleach->nbconvert->jupyter->d2l) (20.9)\n",
            "Requirement already satisfied, skipping upgrade: webencodings in /usr/local/lib/python3.7/dist-packages (from bleach->nbconvert->jupyter->d2l) (0.5.1)\n",
            "Requirement already satisfied, skipping upgrade: ptyprocess; os_name != \"nt\" in /usr/local/lib/python3.7/dist-packages (from terminado>=0.8.1->notebook->jupyter->d2l) (0.7.0)\n",
            "Installing collected packages: d2l\n",
            "Successfully installed d2l-0.16.2\n"
          ],
          "name": "stdout"
        }
      ]
    },
    {
      "cell_type": "markdown",
      "metadata": {
        "id": "2mBJj7CuQ8ev"
      },
      "source": [
        "## Dive Into Deep Learning\n",
        "\n",
        "> Self notes on the book: http://www.d2l.ai/\n",
        "---\n",
        "\n",
        "If you are able to devise a solution to the problem that will work 100% of the time, __do not__ use ML!\n",
        "\n",
        "The supervision comes into play because for choosing the parameters, we (the supervisors) provide the model with a dataset consisting of labeled examples, where each example is matched with the ground-truth label. In probabilistic terms, we typically are interested in estimating the conditional probability of a label given input features. While it is just one among several paradigms within machine learning, supervised learning accounts for the majority of successful applications of machine learning in industry. Partly, that is because many important tasks can be described crisply as estimating the probability of something unknown given a particular set of available data:\n",
        "\n",
        "Lots of practical problems are well-described regression problems. Predicting the rating that a user will assign to a movie can be thought of as a regression problem and if you designed a great algorithm to accomplish this feat in 2009, you might have won the 1-million-dollar Netflix prize. Predicting the length of stay for patients in the hospital is also a regression problem. A good rule of thumb is that any how much? or how many? problem should suggest regression, such as:\n",
        "\n",
        "- How many hours will this surgery take?\n",
        "\n",
        "- How much rainfall will this town have in the next six hours?\n",
        "\n",
        "NOTE: whole number prediction problems are regression ones, not classification\n",
        "\n",
        "## Types of Supervised ML\n",
        "\n",
        "### 1. Regression + 2. Classification - we know\n",
        "\n",
        "### 2.1 Tagging\n",
        "\n",
        "Some classification problems fit neatly into the binary or multiclass classification setups. For example, we could train a normal binary classifier to distinguish cats from dogs. Given the current state of computer vision, we can do this easily, with off-the-shelf tools. Nonetheless, no matter how accurate our model gets, we might find ourselves in trouble when the classifier encounters an image of the Town Musicians of Bremen, a popular German fairy tale featuring four animals in Fig. 1.3.3.\n",
        "\n",
        "![](http://www.d2l.ai/_images/stackedanimals.png)\n",
        "\n",
        "As you can see, there is a cat in Fig. 1.3.3, and a rooster, a dog, and a donkey, with some trees in the background. Depending on what we want to do with our model ultimately, treating this as a binary classification problem might not make a lot of sense. Instead, we might want to give the model the option of saying the image depicts a cat, a dog, a donkey, and a rooster.\n",
        "\n",
        "The problem of learning to predict classes that are not mutually exclusive is called multi-label classification. Auto-tagging problems are typically best described as multi-label classification problems. Think of the tags people might apply to posts on a technical blog, e.g., “machine learning”, “technology”, “gadgets”, “programming languages”, “Linux”, “cloud computing”, “AWS”. A typical article might have 5–10 tags applied because these concepts are correlated. Posts about “cloud computing” are likely to mention “AWS” and posts about “machine learning” could also deal with “programming languages”.\n",
        "\n",
        "We also have to deal with this kind of problem when dealing with the biomedical literature, where correctly tagging articles is important because it allows researchers to do exhaustive reviews of the literature. At the National Library of Medicine, a number of professional annotators go over each article that gets indexed in PubMed to associate it with the relevant terms from MeSH, a collection of roughly 28000 tags. This is a time-consuming process and the annotators typically have a one-year lag between archiving and tagging. Machine learning can be used here to provide provisional tags until each article can have a proper manual review. Indeed, for several years, the BioASQ organization has hosted competitions to do precisely this.\n",
        "\n",
        "### 3. Search\n",
        "\n",
        "Sometimes we do not just want to assign each example to a bucket or to a real value. In the field of information retrieval, we want to impose a ranking on a set of items. Take web search for an example. The goal is less to determine whether a particular page is relevant for a query, but rather, which one of the plethora of search results is most relevant for a particular user. We really care about the ordering of the relevant search results and our learning algorithm needs to produce ordered subsets of elements from a larger set. In other words, if we are asked to produce the first 5 letters from the alphabet, there is a difference between returning “A B C D E” and “C A B E D”. Even if the result set is the same, the ordering within the set matters.\n",
        "\n",
        "\n",
        "One possible solution to this problem is to first assign to every element in the set a corresponding relevance score and then to retrieve the top-rated elements. PageRank, the original secret sauce behind the Google search engine was an early example of such a scoring system but it was peculiar in that it did not depend on the actual query. Here they relied on a simple relevance filter to identify the set of relevant items and then on PageRank to order those results that contained the query term. Nowadays, search engines use machine learning and behavioral models to obtain query-dependent relevance scores. There are entire academic conferences devoted to this subject.\n",
        "\n",
        "### 4. Recommender Systems\n",
        "\n",
        "In the simplest formulations, these systems are trained to estimate some score, such as an estimated rating or the probability of purchase, given a user and an item.\n",
        "\n",
        "Given such a model, for any given user, we could retrieve the set of objects with the largest scores, which could then be recommended to the user. Production systems are considerably more advanced and take detailed user activity and item characteristics into account when computing such scores\n",
        "\n",
        "Despite their tremendous economic value, recommendation systems naively built on top of predictive models suffer some serious conceptual flaws. To start, we only observe censored feedback: users preferentially rate movies that they feel strongly about. For example, on a five-point scale, you might notice that items receive many five and one star ratings but that there are conspicuously few three-star ratings. Moreover, current purchase habits are often a result of the recommendation algorithm currently in place, but learning algorithms do not always take this detail into account. Thus it is possible for feedback loops to form where a recommender system preferentially pushes an item that is then taken to be better (due to greater purchases) and in turn is recommended even more frequently. Many of these problems about how to deal with censoring, incentives, and feedback loops, are important open research questions.\n",
        "\n",
        "### Sequence learning\n",
        "\n",
        "So far, we have looked at problems where we have some fixed number of inputs and produce a fixed number of outputs. For example, we considered predicting house prices from a fixed set of features: square footage, number of bedrooms, number of bathrooms, walking time to downtown. We also discussed mapping from an image (of fixed dimension) to the predicted probabilities that it belongs to each of a fixed number of classes, or taking a user ID and a product ID, and predicting a star rating. In these cases, once we feed our fixed-length input into the model to generate an output, the model immediately forgets what it just saw.\n",
        "\n",
        "This might be fine if our inputs truly all have the same dimensions and if successive inputs truly have nothing to do with each other. But how would we deal with video snippets? In this case, each snippet might consist of a different number of frames. And our guess of what is going on in each frame might be much stronger if we take into account the previous or succeeding frames. Same goes for language. One popular deep learning problem is machine translation: the task of ingesting sentences in some source language and predicting their translation in another language.\n",
        "\n",
        "These problems also occur in medicine. We might want a model to monitor patients in the intensive care unit and to fire off alerts if their risk of death in the next 24 hours exceeds some threshold. We definitely would not want this model to throw away everything it knows about the patient history each hour and just make its predictions based on the most recent measurements.\n",
        "\n",
        "These problems are among the most exciting applications of machine learning and they are instances of sequence learning. They require a model to either ingest sequences of inputs or to emit sequences of outputs (or both). Specifically, sequence to sequence learning considers problems where input and output are both variable-length sequences, such as machine translation and transcribing text from the spoken speech. While it is impossible to consider all types of sequence transformations, the following special cases are worth mentioning.\n",
        "\n",
        "__Tagging and Parsing__. This involves annotating a text sequence with attributes. In other words, the number of inputs and outputs is essentially the same. For instance, we might want to know where the verbs and subjects are. Alternatively, we might want to know which words are the named entities.\n",
        "\n",
        "__Automatic Speech Recognition__. With speech recognition, the input sequence is an audio recording of a speaker (shown in Fig. 1.3.5), and the output is the textual transcript of what the speaker said. The challenge is that there are many more audio frames (sound is typically sampled at 8kHz or 16kHz) than text, i.e., there is no 1:1 correspondence between audio and text, since thousands of samples may correspond to a single spoken word. These are sequence to sequence learning problems where the output is much shorter than the input.\n",
        "\n",
        "__Text to Speech__. This is the inverse of automatic speech recognition. In other words, the input is text and the output is an audio file. In this case, the output is much longer than the input. While it is easy for humans to recognize a bad audio file, this is not quite so trivial for computers.\n",
        "\n",
        "__Machine Translation__. Unlike the case of speech recognition, where corresponding inputs and outputs occur in the same order (after alignment), in machine translation, order inversion can be vital. In other words, while we are still converting one sequence into another, neither the number of inputs and outputs nor the order of corresponding data examples are assumed to be the same. Consider the following illustrative example of the peculiar tendency of Germans to place the verbs at the end of sentences.\n",
        "\n",
        "```\n",
        "German:           Haben Sie sich schon dieses grossartige Lehrwerk angeschaut?\n",
        "English:          Did you already check out this excellent tutorial?\n",
        "Wrong alignment:  Did you yourself already this excellent tutorial looked-at?\n",
        "```\n",
        "\n"
      ]
    },
    {
      "cell_type": "markdown",
      "metadata": {
        "id": "sEieofVh0SKV"
      },
      "source": [
        "## Unsupervised Learning\n",
        "\n",
        "In a completely opposite way, it could be frustrating to work for a boss who has no idea what they want you to do. However, if you plan to be a data scientist, you had better get used to it. The boss might just hand you a giant dump of data and tell you to do some data science with it! This sounds vague because it is. We call this class of problems unsupervised learning, and the type and number of questions we could ask is limited only by our creativity. We will address unsupervised learning techniques in later chapters. To whet your appetite for now, we describe a few of the following questions you might ask.\n",
        "\n",
        "- Can we find a small number of prototypes that accurately summarize the data? Given a set of photos, can we group them into landscape photos, pictures of dogs, babies, cats, and mountain peaks? Likewise, given a collection of users’ browsing activities, can we group them into users with similar behavior? This problem is typically known as clustering.\n",
        "\n",
        "- Can we find a small number of parameters that accurately capture the relevant properties of the data? The trajectories of a ball are quite well described by velocity, diameter, and mass of the ball. Tailors have developed a small number of parameters that describe human body shape fairly accurately for the purpose of fitting clothes. These problems are referred to as subspace estimation. If the dependence is linear, it is called principal component analysis.\n",
        "\n",
        "- Is there a representation of (arbitrarily structured) objects in Euclidean space such that symbolic properties can be well matched? This can be used to describe entities and their relations, such as “Rome”  −  “Italy”  +  “France”  =  “Paris”.\n",
        "\n",
        "- Is there a description of the root causes of much of the data that we observe? For instance, if we have demographic data about house prices, pollution, crime, location, education, and salaries, can we discover how they are related simply based on empirical data? The fields concerned with causality and probabilistic graphical models address this problem.\n",
        "\n",
        "- Another important and exciting recent development in unsupervised learning is the advent of generative adversarial networks. These give us a procedural way to synthesize data, even complicated structured data like images and audio. The underlying statistical mechanisms are tests to check whether real and fake data are the same."
      ]
    },
    {
      "cell_type": "markdown",
      "metadata": {
        "id": "dw1GazwOMNQg"
      },
      "source": [
        "## Basic Data Manipulation\n",
        "\n",
        "To start, we can use arange to create a row vector x containing the first 12 integers starting with 0, though they are created as floats by default. Each of the values in a tensor is called an element of the tensor. For instance, there are 12 elements in the tensor x. Unless otherwise specified, a new tensor will be stored in main memory and designated for CPU-based computation.\n",
        "\n"
      ]
    },
    {
      "cell_type": "code",
      "metadata": {
        "id": "VMhTF98VQ5Ev",
        "colab": {
          "base_uri": "https://localhost:8080/"
        },
        "outputId": "8931f705-f38a-496f-9213-b4d34ab60352"
      },
      "source": [
        "import torch\n",
        "import tensorflow as tf\n",
        "\n",
        "print (tf.__version__)\n",
        "print (torch.__version__)"
      ],
      "execution_count": 3,
      "outputs": [
        {
          "output_type": "stream",
          "text": [
            "2.4.1\n",
            "1.8.0+cu101\n"
          ],
          "name": "stdout"
        }
      ]
    },
    {
      "cell_type": "code",
      "metadata": {
        "colab": {
          "base_uri": "https://localhost:8080/"
        },
        "id": "bBzRRI4QMh0P",
        "outputId": "b9b69f88-ea85-4d8d-9e35-52c2214d8d07"
      },
      "source": [
        "x = torch.arange(start=0, end=12, step=1)\n",
        "\n",
        "print (x)\n",
        "\n",
        "print (x.shape)\n",
        "\n",
        "print (x.numel())"
      ],
      "execution_count": 4,
      "outputs": [
        {
          "output_type": "stream",
          "text": [
            "tensor([ 0,  1,  2,  3,  4,  5,  6,  7,  8,  9, 10, 11])\n",
            "torch.Size([12])\n",
            "12\n"
          ],
          "name": "stdout"
        }
      ]
    },
    {
      "cell_type": "code",
      "metadata": {
        "colab": {
          "base_uri": "https://localhost:8080/"
        },
        "id": "wB60MjLVMm7r",
        "outputId": "1f93eaf1-e962-4d28-9cf0-d2b262121ee9"
      },
      "source": [
        "X = x.reshape(3, 4)\n",
        "print (X)\n",
        "\n",
        "## automatically infer the first dimension\n",
        "X = x.reshape(-1, 4)\n",
        "print (X) "
      ],
      "execution_count": 5,
      "outputs": [
        {
          "output_type": "stream",
          "text": [
            "tensor([[ 0,  1,  2,  3],\n",
            "        [ 4,  5,  6,  7],\n",
            "        [ 8,  9, 10, 11]])\n",
            "tensor([[ 0,  1,  2,  3],\n",
            "        [ 4,  5,  6,  7],\n",
            "        [ 8,  9, 10, 11]])\n"
          ],
          "name": "stdout"
        }
      ]
    },
    {
      "cell_type": "markdown",
      "metadata": {
        "id": "aJoUaOTzN6VC"
      },
      "source": [
        "Typically, we will want our matrices initialized either with zeros, ones, some other constants, or numbers randomly sampled from a specific distribution. We can create a tensor representing a tensor with all elements set to 0 and a shape of (2, 3, 4) as follows:\n",
        "\n"
      ]
    },
    {
      "cell_type": "code",
      "metadata": {
        "colab": {
          "base_uri": "https://localhost:8080/"
        },
        "id": "yBz0Q1kCM1tA",
        "outputId": "ff484de7-cc60-41fe-e070-a428e4fa5d74"
      },
      "source": [
        "print (torch.zeros((2,3,4)))\n",
        "\n",
        "## Similarly, we can create tensors with each element set to 1 as follows:\n",
        "\n",
        "print (torch.ones((2,3,4)))"
      ],
      "execution_count": 6,
      "outputs": [
        {
          "output_type": "stream",
          "text": [
            "tensor([[[0., 0., 0., 0.],\n",
            "         [0., 0., 0., 0.],\n",
            "         [0., 0., 0., 0.]],\n",
            "\n",
            "        [[0., 0., 0., 0.],\n",
            "         [0., 0., 0., 0.],\n",
            "         [0., 0., 0., 0.]]])\n",
            "tensor([[[1., 1., 1., 1.],\n",
            "         [1., 1., 1., 1.],\n",
            "         [1., 1., 1., 1.]],\n",
            "\n",
            "        [[1., 1., 1., 1.],\n",
            "         [1., 1., 1., 1.],\n",
            "         [1., 1., 1., 1.]]])\n"
          ],
          "name": "stdout"
        }
      ]
    },
    {
      "cell_type": "code",
      "metadata": {
        "colab": {
          "base_uri": "https://localhost:8080/"
        },
        "id": "wCRy-5_BN_2w",
        "outputId": "385cc4d2-4cc6-46f3-ef4b-ee075105dff3"
      },
      "source": [
        "print (torch.randn((2,3,4)))"
      ],
      "execution_count": 7,
      "outputs": [
        {
          "output_type": "stream",
          "text": [
            "tensor([[[-0.0394, -1.0124, -0.4062,  0.0374],\n",
            "         [-1.2682, -0.6782, -0.3602, -2.1832],\n",
            "         [-1.2983,  0.1009,  0.2437,  1.3386]],\n",
            "\n",
            "        [[ 2.1520,  1.0212, -0.6295, -0.4172],\n",
            "         [-1.6111,  0.6437, -0.0089,  0.1845],\n",
            "         [-1.2911,  2.0552, -0.0666,  0.5259]]])\n"
          ],
          "name": "stdout"
        }
      ]
    },
    {
      "cell_type": "markdown",
      "metadata": {
        "id": "Z7r_ePh7PBXF"
      },
      "source": [
        "We can also specify the exact values for each element in the desired tensor by supplying a Python list (or list of lists) containing the numerical values. Here, the outermost list corresponds to axis 0, and the inner list to axis 1.\n",
        "\n"
      ]
    },
    {
      "cell_type": "code",
      "metadata": {
        "colab": {
          "base_uri": "https://localhost:8080/"
        },
        "id": "eNHfwNTrOuZN",
        "outputId": "2b0d4bad-485a-40d4-d2b4-b11e660f7a51"
      },
      "source": [
        "torch.tensor([[2, 1, 4, 3], [1, 2, 3, 4], [4, 3, 2, 1]])"
      ],
      "execution_count": 8,
      "outputs": [
        {
          "output_type": "execute_result",
          "data": {
            "text/plain": [
              "tensor([[2, 1, 4, 3],\n",
              "        [1, 2, 3, 4],\n",
              "        [4, 3, 2, 1]])"
            ]
          },
          "metadata": {
            "tags": []
          },
          "execution_count": 8
        }
      ]
    },
    {
      "cell_type": "code",
      "metadata": {
        "colab": {
          "base_uri": "https://localhost:8080/"
        },
        "id": "yqgH550PPD2Z",
        "outputId": "16abe926-b255-4796-abcb-f50cff4288b3"
      },
      "source": [
        "x = torch.tensor([1.0, 2, 4, 8])\n",
        "y = torch.tensor([2, 2, 2, 2])\n",
        "x + y, x - y, x * y, x / y, x ** y  # The ** operator is exponentiation"
      ],
      "execution_count": 9,
      "outputs": [
        {
          "output_type": "execute_result",
          "data": {
            "text/plain": [
              "(tensor([ 3.,  4.,  6., 10.]),\n",
              " tensor([-1.,  0.,  2.,  6.]),\n",
              " tensor([ 2.,  4.,  8., 16.]),\n",
              " tensor([0.5000, 1.0000, 2.0000, 4.0000]),\n",
              " tensor([ 1.,  4., 16., 64.]))"
            ]
          },
          "metadata": {
            "tags": []
          },
          "execution_count": 9
        }
      ]
    },
    {
      "cell_type": "code",
      "metadata": {
        "colab": {
          "base_uri": "https://localhost:8080/"
        },
        "id": "wgfod02MTRCA",
        "outputId": "336c3ec2-a72f-492e-b710-68a27b65eae6"
      },
      "source": [
        "X = torch.arange(12, dtype=torch.float32).reshape((3,4))\n",
        "Y = torch.tensor([[2.0, 1, 4, 3], [1, 2, 3, 4], [4, 3, 2, 1]])\n",
        "\n",
        "print (X)\n",
        "\n",
        "print (Y)"
      ],
      "execution_count": 10,
      "outputs": [
        {
          "output_type": "stream",
          "text": [
            "tensor([[ 0.,  1.,  2.,  3.],\n",
            "        [ 4.,  5.,  6.,  7.],\n",
            "        [ 8.,  9., 10., 11.]])\n",
            "tensor([[2., 1., 4., 3.],\n",
            "        [1., 2., 3., 4.],\n",
            "        [4., 3., 2., 1.]])\n"
          ],
          "name": "stdout"
        }
      ]
    },
    {
      "cell_type": "code",
      "metadata": {
        "colab": {
          "base_uri": "https://localhost:8080/"
        },
        "id": "nFvOeDmlTtAM",
        "outputId": "5346294e-bee7-49af-d7b9-d47acbe01741"
      },
      "source": [
        "torch.cat(tensors=[X, Y], dim=0)"
      ],
      "execution_count": 11,
      "outputs": [
        {
          "output_type": "execute_result",
          "data": {
            "text/plain": [
              "tensor([[ 0.,  1.,  2.,  3.],\n",
              "        [ 4.,  5.,  6.,  7.],\n",
              "        [ 8.,  9., 10., 11.],\n",
              "        [ 2.,  1.,  4.,  3.],\n",
              "        [ 1.,  2.,  3.,  4.],\n",
              "        [ 4.,  3.,  2.,  1.]])"
            ]
          },
          "metadata": {
            "tags": []
          },
          "execution_count": 11
        }
      ]
    },
    {
      "cell_type": "code",
      "metadata": {
        "colab": {
          "base_uri": "https://localhost:8080/"
        },
        "id": "G7svhcO4T1MX",
        "outputId": "11116507-85f0-4bba-c296-5d9910ecd38d"
      },
      "source": [
        "torch.cat((X, Y), dim=1)"
      ],
      "execution_count": 12,
      "outputs": [
        {
          "output_type": "execute_result",
          "data": {
            "text/plain": [
              "tensor([[ 0.,  1.,  2.,  3.,  2.,  1.,  4.,  3.],\n",
              "        [ 4.,  5.,  6.,  7.,  1.,  2.,  3.,  4.],\n",
              "        [ 8.,  9., 10., 11.,  4.,  3.,  2.,  1.]])"
            ]
          },
          "metadata": {
            "tags": []
          },
          "execution_count": 12
        }
      ]
    },
    {
      "cell_type": "markdown",
      "metadata": {
        "id": "Y9SZccD-eR3u"
      },
      "source": [
        "### Broadcasting Mechanism\n",
        "\n",
        "In the above section, we saw how to perform elementwise operations on two tensors of the same shape. Under certain conditions, even when shapes differ, we can still perform elementwise operations by invoking the broadcasting mechanism. This mechanism works in the following way: First, expand one or both arrays by copying elements appropriately so that after this transformation, the two tensors have the same shape. Second, carry out the elementwise operations on the resulting arrays.\n",
        "\n",
        "In most cases, we broadcast along an axis where an array initially only has length 1, such as in the following example:\n",
        "\n"
      ]
    },
    {
      "cell_type": "code",
      "metadata": {
        "colab": {
          "base_uri": "https://localhost:8080/"
        },
        "id": "kJQSaGPtUH_y",
        "outputId": "64319656-8b2c-41c6-9bfb-ea55c46af2e9"
      },
      "source": [
        "a = torch.arange(3).reshape((3,1))\n",
        "print (a)\n",
        "b = torch.arange(2).reshape((1, 2))\n",
        "print (b)"
      ],
      "execution_count": 13,
      "outputs": [
        {
          "output_type": "stream",
          "text": [
            "tensor([[0],\n",
            "        [1],\n",
            "        [2]])\n",
            "tensor([[0, 1]])\n"
          ],
          "name": "stdout"
        }
      ]
    },
    {
      "cell_type": "code",
      "metadata": {
        "colab": {
          "base_uri": "https://localhost:8080/",
          "height": 35
        },
        "id": "V-UY17zVelhu",
        "outputId": "bc23384c-e363-4b22-ad7b-b5cec7895549"
      },
      "source": [
        "a+b\n",
        "\n",
        "\"\"\"\n",
        "The broadcasting happens as:\n",
        "a -> [[0, 0]\n",
        "     [1, 1]\n",
        "     [2, 2]]\n",
        "b -> [[0, 1]\n",
        "     [0, 1]\n",
        "     [0, 1]]   \n",
        "\"\"\""
      ],
      "execution_count": 14,
      "outputs": [
        {
          "output_type": "execute_result",
          "data": {
            "application/vnd.google.colaboratory.intrinsic+json": {
              "type": "string"
            },
            "text/plain": [
              "'\\nThe broadcasting happens as:\\na -> [[0, 0]\\n     [1, 1]\\n     [2, 2]]\\nb -> [[0, 1]\\n     [0, 1]\\n     [0, 1]]   \\n'"
            ]
          },
          "metadata": {
            "tags": []
          },
          "execution_count": 14
        }
      ]
    },
    {
      "cell_type": "markdown",
      "metadata": {
        "id": "Cc7_7I9Rfc8A"
      },
      "source": [
        "### Indexing and slicing\n",
        "\n",
        "Thus, [-1] selects the last element and [1:3] selects the second and the third elements as follows:\n",
        "\n"
      ]
    },
    {
      "cell_type": "code",
      "metadata": {
        "colab": {
          "base_uri": "https://localhost:8080/"
        },
        "id": "qMfORByvew0m",
        "outputId": "832c0ac5-68b1-4b84-d968-82bba440d149"
      },
      "source": [
        "print (X)\n",
        "\n",
        "print (X[-1])\n",
        "\n",
        "print (X[1:3])"
      ],
      "execution_count": 15,
      "outputs": [
        {
          "output_type": "stream",
          "text": [
            "tensor([[ 0.,  1.,  2.,  3.],\n",
            "        [ 4.,  5.,  6.,  7.],\n",
            "        [ 8.,  9., 10., 11.]])\n",
            "tensor([ 8.,  9., 10., 11.])\n",
            "tensor([[ 4.,  5.,  6.,  7.],\n",
            "        [ 8.,  9., 10., 11.]])\n"
          ],
          "name": "stdout"
        }
      ]
    },
    {
      "cell_type": "code",
      "metadata": {
        "colab": {
          "base_uri": "https://localhost:8080/"
        },
        "id": "96XTzZFif8Nq",
        "outputId": "6cf68b62-bde7-47e5-fb23-d22883328417"
      },
      "source": [
        "X[1, 2] = 9\n",
        "print (X)"
      ],
      "execution_count": 16,
      "outputs": [
        {
          "output_type": "stream",
          "text": [
            "tensor([[ 0.,  1.,  2.,  3.],\n",
            "        [ 4.,  5.,  9.,  7.],\n",
            "        [ 8.,  9., 10., 11.]])\n"
          ],
          "name": "stdout"
        }
      ]
    },
    {
      "cell_type": "code",
      "metadata": {
        "colab": {
          "base_uri": "https://localhost:8080/"
        },
        "id": "2M4bvm_0gHc1",
        "outputId": "1a3794d0-f100-45e9-c10c-1a52e70c3447"
      },
      "source": [
        "X[0:2, :] = 12\n",
        "\n",
        "print (X)"
      ],
      "execution_count": 17,
      "outputs": [
        {
          "output_type": "stream",
          "text": [
            "tensor([[12., 12., 12., 12.],\n",
            "        [12., 12., 12., 12.],\n",
            "        [ 8.,  9., 10., 11.]])\n"
          ],
          "name": "stdout"
        }
      ]
    },
    {
      "cell_type": "markdown",
      "metadata": {
        "id": "EXF-aQbm8hKz"
      },
      "source": [
        "### Saving memeory\n",
        "\n",
        "Running operations can cause new memory to be allocated to host results. For example, if we write Y = X + Y, we will dereference the tensor that Y used to point to and instead point Y at the newly allocated memory. In the following example, we demonstrate this with Python’s id() function, which gives us the exact address of the referenced object in memory. After running Y = Y + X, we will find that id(Y) points to a different location. That is because Python first evaluates Y + X, allocating new memory for the result and then makes Y point to this new location in memory.\n",
        "\n"
      ]
    },
    {
      "cell_type": "code",
      "metadata": {
        "colab": {
          "base_uri": "https://localhost:8080/"
        },
        "id": "9v0YsUS5gO_1",
        "outputId": "c5aec1c4-1571-47c4-986f-594fbc31ec49"
      },
      "source": [
        "before = id(Y)\n",
        "print (before)\n",
        "Y=Y+X\n",
        "print (id(Y))"
      ],
      "execution_count": 18,
      "outputs": [
        {
          "output_type": "stream",
          "text": [
            "139889394167312\n",
            "139889394302080\n"
          ],
          "name": "stdout"
        }
      ]
    },
    {
      "cell_type": "markdown",
      "metadata": {
        "id": "4WNjxT5T8_Cs"
      },
      "source": [
        "This might be undesirable for two reasons. First, we do not want to run around allocating memory unnecessarily all the time. In machine learning, we might have hundreds of megabytes of parameters and update all of them multiple times per second. Typically, we will want to perform these updates in place. Second, we might point at the same parameters from multiple variables. If we do not update in place, other references will still point to the old memory location, making it possible for parts of our code to inadvertently reference stale parameters.\n",
        "\n",
        "Fortunately, performing in-place operations is easy. We can assign the result of an operation to a previously allocated array with slice notation, e.g., Y[:] = <expression>. To illustrate this concept, we first create a new matrix Z with the same shape as another Y, using zeros_like to allocate a block of entries"
      ]
    },
    {
      "cell_type": "code",
      "metadata": {
        "colab": {
          "base_uri": "https://localhost:8080/"
        },
        "id": "QFJiDCWO8t6a",
        "outputId": "86ff9c9a-b66e-4b4b-e453-6ca71f28455f"
      },
      "source": [
        "Z = torch.zeros_like(Y)\n",
        "print (Z)\n",
        "print('id(Z):', id(Z))\n",
        "Z[:] = X + Y\n",
        "print('id(Z):', id(Z))\n",
        "Z = X+Y\n",
        "print('id(Z):', id(Z))"
      ],
      "execution_count": 19,
      "outputs": [
        {
          "output_type": "stream",
          "text": [
            "tensor([[0., 0., 0., 0.],\n",
            "        [0., 0., 0., 0.],\n",
            "        [0., 0., 0., 0.]])\n",
            "id(Z): 139889394325616\n",
            "id(Z): 139889394325616\n",
            "id(Z): 139889394331888\n"
          ],
          "name": "stdout"
        }
      ]
    },
    {
      "cell_type": "markdown",
      "metadata": {
        "id": "k2vm-2tI_jpC"
      },
      "source": [
        "If the value of X is not reused in subsequent computations, we can also use X[:] = X + Y or X += Y to reduce the memory overhead of the operation.\n",
        "\n"
      ]
    },
    {
      "cell_type": "code",
      "metadata": {
        "colab": {
          "base_uri": "https://localhost:8080/"
        },
        "id": "jGjqrm7F_R2s",
        "outputId": "1343f276-eb20-4fd2-920c-6bac6a884bd7"
      },
      "source": [
        "before = id(X)\n",
        "X = X + Y\n",
        "id(X) == before"
      ],
      "execution_count": 20,
      "outputs": [
        {
          "output_type": "execute_result",
          "data": {
            "text/plain": [
              "False"
            ]
          },
          "metadata": {
            "tags": []
          },
          "execution_count": 20
        }
      ]
    },
    {
      "cell_type": "code",
      "metadata": {
        "colab": {
          "base_uri": "https://localhost:8080/"
        },
        "id": "BjFb86mE_lJM",
        "outputId": "29f90fa5-a092-4497-b71d-6468d89fabd7"
      },
      "source": [
        "before = id(X)\n",
        "X +=  Y\n",
        "id(X) == before"
      ],
      "execution_count": 21,
      "outputs": [
        {
          "output_type": "execute_result",
          "data": {
            "text/plain": [
              "True"
            ]
          },
          "metadata": {
            "tags": []
          },
          "execution_count": 21
        }
      ]
    },
    {
      "cell_type": "markdown",
      "metadata": {
        "id": "vTKxYwGkRg1G"
      },
      "source": [
        "## Basic Linear Algebra\n",
        "\n",
        "### Dot Product\n",
        "\n",
        "one of the most fundamental operations is the dot product. Given two vectors  x,y their dot product\n",
        "\n",
        "$\\mathbf{x}^\\top \\mathbf{y}$ or $\\langle \\mathbf{x}, \\mathbf{y} \\rangle$\n",
        "is a sum over the products of the elements at the same position"
      ]
    },
    {
      "cell_type": "code",
      "metadata": {
        "id": "3pw3MafZ_sMO",
        "colab": {
          "base_uri": "https://localhost:8080/"
        },
        "outputId": "963d766e-4f09-42a7-b6d0-5a3f057ae56a"
      },
      "source": [
        "print (x)\n",
        "y = torch.ones(4, dtype=torch.float32)\n",
        "\n",
        "print (x.dot(y))\n",
        "\n",
        "### Note that we can express the dot product of two vectors equivalently by performing an elementwise multiplication and then a sum:\n",
        "\n",
        "print (torch.sum(x*y))"
      ],
      "execution_count": 22,
      "outputs": [
        {
          "output_type": "stream",
          "text": [
            "tensor([1., 2., 4., 8.])\n",
            "tensor(15.)\n",
            "tensor(15.)\n"
          ],
          "name": "stdout"
        }
      ]
    },
    {
      "cell_type": "markdown",
      "metadata": {
        "id": "CxcS0rFrSZlU"
      },
      "source": [
        "Dot products are useful in a wide range of contexts. For example, given some set of values, and a set of wts the dot product bw these vectors give us a weighted sum. When the wts are non-negative and sum upto 1 the dot prod gives us the weighted avg\n",
        "\n",
        "After normalizing two vectors to have the unit length, the dot products express the cosine of the angle between them. We will formally introduce this notion of length later in this section.\n",
        "\n",
        "### Matrix-Vector Products\n",
        "\n",
        "Now that we know how to calculate dot products, we can begin to understand matrix-vector products. Recall the matrix  $\\mathbf{A} \\in \\mathbb{R}^{m \\times n}$ and the vector $\\mathbf{x} \\in \\mathbb{R}^n$ \n",
        "\n",
        "$\\begin{split}\\mathbf{A}=\n",
        "\\begin{bmatrix}\n",
        "\\mathbf{a}^\\top_{1} \\\\\n",
        "\\mathbf{a}^\\top_{2} \\\\\n",
        "\\vdots \\\\\n",
        "\\mathbf{a}^\\top_m \\\\\n",
        "\\end{bmatrix},\\end{split}$\n",
        "\n",
        "where each $\\mathbf{a}^\\top_{i} \\in \\mathbb{R}^n$ is a row vector representing the ith row of the matrix A. The matrix-vector product Ax is simply a column vector of length  m , whose  ith  element is the dot product  $\\mathbf{a}^\\top_i \\mathbf{x}$\n",
        "\n",
        "$\\begin{split}\\mathbf{A}\\mathbf{x}\n",
        "= \\begin{bmatrix}\n",
        "\\mathbf{a}^\\top_{1} \\\\\n",
        "\\mathbf{a}^\\top_{2} \\\\\n",
        "\\vdots \\\\\n",
        "\\mathbf{a}^\\top_m \\\\\n",
        "\\end{bmatrix}\\mathbf{x}\n",
        "= \\begin{bmatrix}\n",
        " \\mathbf{a}^\\top_{1} \\mathbf{x}  \\\\\n",
        " \\mathbf{a}^\\top_{2} \\mathbf{x} \\\\\n",
        "\\vdots\\\\\n",
        " \\mathbf{a}^\\top_{m} \\mathbf{x}\\\\\n",
        "\\end{bmatrix}.\\end{split}$\n",
        "\n",
        "We can think of multiplication by a matrix  A as a transformation that projects vectors (here x) from  $\\mathbb{R}^n$ to $\\mathbb{R}^m$. These transformations turn out to be remarkably useful. For example, we can represent rotations as multiplications by a square matrix. As we will see in subsequent chapters, we can also use matrix-vector products to describe the most intensive calculations required when computing each layer in a neural network given the values of the previous layer.\n",
        "\n",
        "Expressing matrix-vector products in code with tensors, we use the same dot function as for dot products. When we call np.dot(A, x) with a matrix A and a vector x, the matrix-vector product is performed. Note that the column dimension of A (its length along axis 1) must be the same as the dimension of x (its length).\n",
        "\n"
      ]
    },
    {
      "cell_type": "code",
      "metadata": {
        "colab": {
          "base_uri": "https://localhost:8080/"
        },
        "id": "SFxOAxynR6YK",
        "outputId": "5ffce5d4-67d8-4375-938c-8c1de61a113c"
      },
      "source": [
        "A = torch.arange(20, dtype=torch.float32).reshape(5, 4)\n",
        "\n",
        "\n",
        "print (A.shape, x.shape)\n",
        "\n",
        "print (A)\n",
        "\n",
        "print (x)\n",
        "\n",
        "print (torch.mv(input=A, vec=x))"
      ],
      "execution_count": 23,
      "outputs": [
        {
          "output_type": "stream",
          "text": [
            "torch.Size([5, 4]) torch.Size([4])\n",
            "tensor([[ 0.,  1.,  2.,  3.],\n",
            "        [ 4.,  5.,  6.,  7.],\n",
            "        [ 8.,  9., 10., 11.],\n",
            "        [12., 13., 14., 15.],\n",
            "        [16., 17., 18., 19.]])\n",
            "tensor([1., 2., 4., 8.])\n",
            "tensor([ 34.,  94., 154., 214., 274.])\n"
          ],
          "name": "stdout"
        }
      ]
    },
    {
      "cell_type": "markdown",
      "metadata": {
        "id": "QJvNloGpZee8"
      },
      "source": [
        "### Matrix Multiplication\n",
        "\n",
        "![](https://i.imgur.com/8lGoukC.png)\n",
        "\n",
        "#### Walkthrough\n",
        "\n",
        "![](https://i.imgur.com/YPiBqU8.jpeg)\n",
        "\n",
        "![](https://i.imgur.com/YPiBqU8.jpeg)\n",
        "\n",
        "\n",
        "---\n",
        "\n",
        "\n",
        "\n",
        "\n"
      ]
    },
    {
      "cell_type": "code",
      "metadata": {
        "colab": {
          "base_uri": "https://localhost:8080/"
        },
        "id": "JnAkZ0RbY8lp",
        "outputId": "c4aa72ca-1cbe-436c-ce90-d13b2e37a04e"
      },
      "source": [
        "print (A)\n",
        "\n",
        "B = torch.ones((4,3))\n",
        "\n",
        "print (A.shape, B.shape)\n",
        "mul = torch.mm(A, B)\n",
        "print (mul)\n",
        "print (mul.shape)"
      ],
      "execution_count": 24,
      "outputs": [
        {
          "output_type": "stream",
          "text": [
            "tensor([[ 0.,  1.,  2.,  3.],\n",
            "        [ 4.,  5.,  6.,  7.],\n",
            "        [ 8.,  9., 10., 11.],\n",
            "        [12., 13., 14., 15.],\n",
            "        [16., 17., 18., 19.]])\n",
            "torch.Size([5, 4]) torch.Size([4, 3])\n",
            "tensor([[ 6.,  6.,  6.],\n",
            "        [22., 22., 22.],\n",
            "        [38., 38., 38.],\n",
            "        [54., 54., 54.],\n",
            "        [70., 70., 70.]])\n",
            "torch.Size([5, 3])\n"
          ],
          "name": "stdout"
        }
      ]
    },
    {
      "cell_type": "code",
      "metadata": {
        "colab": {
          "base_uri": "https://localhost:8080/"
        },
        "id": "DdaGhEkcvSA8",
        "outputId": "cf3a27e8-dc05-4af3-c218-b83399c960dc"
      },
      "source": [
        "### a is each row vector; extract the one at idx 1\n",
        "a_2 = A[1, :]\n",
        "\n",
        "print (a_2)"
      ],
      "execution_count": 25,
      "outputs": [
        {
          "output_type": "stream",
          "text": [
            "tensor([4., 5., 6., 7.])\n"
          ],
          "name": "stdout"
        }
      ]
    },
    {
      "cell_type": "code",
      "metadata": {
        "colab": {
          "base_uri": "https://localhost:8080/"
        },
        "id": "SQWBLkUFv0hE",
        "outputId": "f1dcceef-9660-40b7-f6f6-969bf40691f7"
      },
      "source": [
        "### b is each col vector; extract the last one: b_m\n",
        "b_m = B[:, -1]\n",
        "\n",
        "print (b_m)"
      ],
      "execution_count": 26,
      "outputs": [
        {
          "output_type": "stream",
          "text": [
            "tensor([1., 1., 1., 1.])\n"
          ],
          "name": "stdout"
        }
      ]
    },
    {
      "cell_type": "code",
      "metadata": {
        "colab": {
          "base_uri": "https://localhost:8080/"
        },
        "id": "Gx3Zrc2vwKiI",
        "outputId": "3db51bad-96d8-4318-904e-00ac04da9ea0"
      },
      "source": [
        "### a2_T . b_m should give the result at pos 2, m\n",
        "\n",
        "print (a_2.T.dot(b_m))"
      ],
      "execution_count": 27,
      "outputs": [
        {
          "output_type": "stream",
          "text": [
            "tensor(22.)\n"
          ],
          "name": "stdout"
        }
      ]
    },
    {
      "cell_type": "code",
      "metadata": {
        "colab": {
          "base_uri": "https://localhost:8080/"
        },
        "id": "lc99Do5HwQJc",
        "outputId": "3876567f-e889-47e9-b37e-021d9ee71f70"
      },
      "source": [
        "print (mul)"
      ],
      "execution_count": 28,
      "outputs": [
        {
          "output_type": "stream",
          "text": [
            "tensor([[ 6.,  6.,  6.],\n",
            "        [22., 22., 22.],\n",
            "        [38., 38., 38.],\n",
            "        [54., 54., 54.],\n",
            "        [70., 70., 70.]])\n"
          ],
          "name": "stdout"
        }
      ]
    },
    {
      "cell_type": "markdown",
      "metadata": {
        "id": "Ny6VcmB44k7O"
      },
      "source": [
        "### Norms\n",
        "\n",
        "Some of the most useful operators in linear algebra are norms. Informally, the norm of a vector tells us how big a vector is. The notion of size under consideration here concerns not dimensionality but rather the magnitude of the components.\n",
        "\n",
        "You might notice that norms sound a lot like measures of distance. And if you remember Euclidean distances (think Pythagoras’ theorem) from grade school, then the concepts of non-negativity and the triangle inequality might ring a bell. In fact, the Euclidean distance is a norm:\n",
        "\n",
        "specifically it is the  L2  norm. Suppose that the elements in the  n -dimensional vector  x  are  x1,…,xn . The  L2  norm of  x  is the square root of the sum of the squares of the vector elements:\n",
        "\n",
        "$\\|\\mathbf{x}\\|_2 = \\sqrt{\\sum_{i=1}^n x_i^2},$\n",
        "\n",
        "where the subscript  2  is often omitted in  L2  norms, i.e., $\\|\\mathbf{x}\\|$ is  equivalent to $\\|\\mathbf{x}\\|_2$ "
      ]
    },
    {
      "cell_type": "code",
      "metadata": {
        "colab": {
          "base_uri": "https://localhost:8080/"
        },
        "id": "K2Jk0JO0wsI4",
        "outputId": "a95be818-3f03-42e3-923a-bb64bb7c90e8"
      },
      "source": [
        "u = torch.tensor([3.0, -4.0])\n",
        "torch.norm(u)"
      ],
      "execution_count": 29,
      "outputs": [
        {
          "output_type": "execute_result",
          "data": {
            "text/plain": [
              "tensor(5.)"
            ]
          },
          "metadata": {
            "tags": []
          },
          "execution_count": 29
        }
      ]
    },
    {
      "cell_type": "markdown",
      "metadata": {
        "id": "NHhmigt05O4w"
      },
      "source": [
        "In deep learning, we work more often with the squared  L2  norm. You will also frequently encounter the  L1  norm, which is expressed as the sum of the absolute values of the vector elements:\n",
        "\n",
        "$\\|\\mathbf{x}\\|_1 = \\sum_{i=1}^n \\left|x_i \\right|.$\n",
        "\n",
        "As compared with the  L2  norm, it is less influenced by outliers. To calculate the  L1  norm, we compose the absolute value function with a sum over the elements."
      ]
    },
    {
      "cell_type": "code",
      "metadata": {
        "colab": {
          "base_uri": "https://localhost:8080/"
        },
        "id": "5qr-pYGb5HNK",
        "outputId": "5711e766-a0b8-4679-b443-cbc59a8a78eb"
      },
      "source": [
        "torch.abs(u).sum()"
      ],
      "execution_count": 30,
      "outputs": [
        {
          "output_type": "execute_result",
          "data": {
            "text/plain": [
              "tensor(7.)"
            ]
          },
          "metadata": {
            "tags": []
          },
          "execution_count": 30
        }
      ]
    },
    {
      "cell_type": "markdown",
      "metadata": {
        "id": "oABEOPdz8WBH"
      },
      "source": [
        "Both the  L2  norm and the  L1  norm are special cases of the more general  Lp  norm:\n",
        "\n",
        "$\\|\\mathbf{x}\\|_p = \\left(\\sum_{i=1}^n \\left|x_i \\right|^p \\right)^{1/p}.|$\n",
        "\n",
        "Analogous to  L2  norms of vectors, the Frobenius norm of a matrix $\\mathbf{X} \\in \\mathbb{R}^{m \\times n}$ is the square root of the sum of the squares of the matrix elements:\n",
        "\n",
        "$\\|\\mathbf{X}\\|_F = \\sqrt{\\sum_{i=1}^m \\sum_{j=1}^n x_{ij}^2}.$\n",
        "\n",
        "The Frobenius norm satisfies all the properties of vector norms. It behaves as if it were an  L2  norm of a matrix-shaped vector. Invoking the following function will calculate the Frobenius norm of a matrix."
      ]
    },
    {
      "cell_type": "code",
      "metadata": {
        "colab": {
          "base_uri": "https://localhost:8080/"
        },
        "id": "LSRHFAEv5XME",
        "outputId": "43b06281-0b38-4fac-c5ee-2f2c1b7d7e69"
      },
      "source": [
        "print (A)\n",
        "torch.norm(A)"
      ],
      "execution_count": 31,
      "outputs": [
        {
          "output_type": "stream",
          "text": [
            "tensor([[ 0.,  1.,  2.,  3.],\n",
            "        [ 4.,  5.,  6.,  7.],\n",
            "        [ 8.,  9., 10., 11.],\n",
            "        [12., 13., 14., 15.],\n",
            "        [16., 17., 18., 19.]])\n"
          ],
          "name": "stdout"
        },
        {
          "output_type": "execute_result",
          "data": {
            "text/plain": [
              "tensor(49.6991)"
            ]
          },
          "metadata": {
            "tags": []
          },
          "execution_count": 31
        }
      ]
    },
    {
      "cell_type": "markdown",
      "metadata": {
        "id": "1huW-719815F"
      },
      "source": [
        "While we do not want to get too far ahead of ourselves, we can plant some intuition already about why these concepts are useful. In deep learning, we are often trying to solve optimization problems: maximize the probability assigned to observed data; minimize the distance between predictions and the ground-truth observations. Assign vector representations to items (like words, products, or news articles) such that the distance between similar items is minimized, and the distance between dissimilar items is maximized. Oftentimes, the objectives, perhaps the most important components of deep learning algorithms (besides the data), are expressed as norms.\n",
        "\n",
        "### Exercises\n",
        "\n",
        "6. Run A / A.sum(axis=1) and see what happens. Can you analyze the reason?\n",
        "\n"
      ]
    },
    {
      "cell_type": "code",
      "metadata": {
        "colab": {
          "base_uri": "https://localhost:8080/"
        },
        "id": "VBt3e6mv8sgR",
        "outputId": "09417692-63aa-4feb-b02b-e8782c5dabf4"
      },
      "source": [
        "print (A)\n",
        "\n",
        "print (A.shape)\n",
        "\n",
        "print (A.sum(axis=1))"
      ],
      "execution_count": 32,
      "outputs": [
        {
          "output_type": "stream",
          "text": [
            "tensor([[ 0.,  1.,  2.,  3.],\n",
            "        [ 4.,  5.,  6.,  7.],\n",
            "        [ 8.,  9., 10., 11.],\n",
            "        [12., 13., 14., 15.],\n",
            "        [16., 17., 18., 19.]])\n",
            "torch.Size([5, 4])\n",
            "tensor([ 6., 22., 38., 54., 70.])\n"
          ],
          "name": "stdout"
        }
      ]
    },
    {
      "cell_type": "code",
      "metadata": {
        "colab": {
          "base_uri": "https://localhost:8080/"
        },
        "id": "Ba2jBr9m-ucA",
        "outputId": "c109e9cf-f016-47f3-962a-6b37e01dd1b0"
      },
      "source": [
        "A.size(), A.sum(axis=1).size()"
      ],
      "execution_count": 33,
      "outputs": [
        {
          "output_type": "execute_result",
          "data": {
            "text/plain": [
              "(torch.Size([5, 4]), torch.Size([5]))"
            ]
          },
          "metadata": {
            "tags": []
          },
          "execution_count": 33
        }
      ]
    },
    {
      "cell_type": "code",
      "metadata": {
        "id": "Xdu9s725-Of7"
      },
      "source": [
        "## A/A.sum(axis=1) -> error"
      ],
      "execution_count": 34,
      "outputs": []
    },
    {
      "cell_type": "markdown",
      "metadata": {
        "id": "7dBuofki_Y94"
      },
      "source": [
        "This will be fine:"
      ]
    },
    {
      "cell_type": "code",
      "metadata": {
        "colab": {
          "base_uri": "https://localhost:8080/"
        },
        "id": "SnHz5L5a-j0U",
        "outputId": "40a9d344-11d4-4c73-d000-0421c6795bf7"
      },
      "source": [
        "B = torch.arange(25, dtype = torch.float32).reshape(5, 5)\n",
        "print (B)\n",
        "print (B.sum(axis=1))\n",
        "B / B.sum(axis=1)"
      ],
      "execution_count": 35,
      "outputs": [
        {
          "output_type": "stream",
          "text": [
            "tensor([[ 0.,  1.,  2.,  3.,  4.],\n",
            "        [ 5.,  6.,  7.,  8.,  9.],\n",
            "        [10., 11., 12., 13., 14.],\n",
            "        [15., 16., 17., 18., 19.],\n",
            "        [20., 21., 22., 23., 24.]])\n",
            "tensor([ 10.,  35.,  60.,  85., 110.])\n"
          ],
          "name": "stdout"
        },
        {
          "output_type": "execute_result",
          "data": {
            "text/plain": [
              "tensor([[0.0000, 0.0286, 0.0333, 0.0353, 0.0364],\n",
              "        [0.5000, 0.1714, 0.1167, 0.0941, 0.0818],\n",
              "        [1.0000, 0.3143, 0.2000, 0.1529, 0.1273],\n",
              "        [1.5000, 0.4571, 0.2833, 0.2118, 0.1727],\n",
              "        [2.0000, 0.6000, 0.3667, 0.2706, 0.2182]])"
            ]
          },
          "metadata": {
            "tags": []
          },
          "execution_count": 35
        }
      ]
    },
    {
      "cell_type": "markdown",
      "metadata": {
        "id": "bxmAFhBP_hNQ"
      },
      "source": [
        "8. Consider a tensor with shape (2, 3, 4). What are the shapes of the summation outputs along axis 0, 1, and 2?\n",
        "\n"
      ]
    },
    {
      "cell_type": "code",
      "metadata": {
        "id": "1v7Zf8xV_Txg",
        "colab": {
          "base_uri": "https://localhost:8080/"
        },
        "outputId": "9b7f23ee-fa2b-4a47-f704-45e2df8269f4"
      },
      "source": [
        "a = torch.randint(low=0, high=9, size=(2,3,4))\n",
        "a"
      ],
      "execution_count": 36,
      "outputs": [
        {
          "output_type": "execute_result",
          "data": {
            "text/plain": [
              "tensor([[[2, 1, 4, 1],\n",
              "         [1, 6, 1, 7],\n",
              "         [8, 6, 2, 6]],\n",
              "\n",
              "        [[0, 3, 5, 0],\n",
              "         [6, 3, 3, 7],\n",
              "         [0, 1, 5, 5]]])"
            ]
          },
          "metadata": {
            "tags": []
          },
          "execution_count": 36
        }
      ]
    },
    {
      "cell_type": "code",
      "metadata": {
        "colab": {
          "base_uri": "https://localhost:8080/"
        },
        "id": "wKP0oPnkT2_V",
        "outputId": "37720a2d-809c-4b55-a4d2-bf5e728a0987"
      },
      "source": [
        "print (a.shape)\n",
        "\n",
        "print (a.sum(axis=0))"
      ],
      "execution_count": 37,
      "outputs": [
        {
          "output_type": "stream",
          "text": [
            "torch.Size([2, 3, 4])\n",
            "tensor([[ 2,  4,  9,  1],\n",
            "        [ 7,  9,  4, 14],\n",
            "        [ 8,  7,  7, 11]])\n"
          ],
          "name": "stdout"
        }
      ]
    },
    {
      "cell_type": "code",
      "metadata": {
        "colab": {
          "base_uri": "https://localhost:8080/"
        },
        "id": "nZ268RB9T87C",
        "outputId": "2084d3f1-3d2f-4382-df65-945da46de8e9"
      },
      "source": [
        "### shape of a is (2,3,4) i.e 2 separate 3x4 matrics\n",
        "a[0], a[1]"
      ],
      "execution_count": 38,
      "outputs": [
        {
          "output_type": "execute_result",
          "data": {
            "text/plain": [
              "(tensor([[2, 1, 4, 1],\n",
              "         [1, 6, 1, 7],\n",
              "         [8, 6, 2, 6]]), tensor([[0, 3, 5, 0],\n",
              "         [6, 3, 3, 7],\n",
              "         [0, 1, 5, 5]]))"
            ]
          },
          "metadata": {
            "tags": []
          },
          "execution_count": 38
        }
      ]
    },
    {
      "cell_type": "code",
      "metadata": {
        "colab": {
          "base_uri": "https://localhost:8080/"
        },
        "id": "-8G2OYhDUCvZ",
        "outputId": "e34ff412-61db-4345-e7d1-57de04e13b6e"
      },
      "source": [
        "## a.sum(axis=0) will sum up the 2 3x4 matrices resulting in a 3x4 matrix\n",
        "a.sum(axis=0).shape"
      ],
      "execution_count": 39,
      "outputs": [
        {
          "output_type": "execute_result",
          "data": {
            "text/plain": [
              "torch.Size([3, 4])"
            ]
          },
          "metadata": {
            "tags": []
          },
          "execution_count": 39
        }
      ]
    },
    {
      "cell_type": "code",
      "metadata": {
        "colab": {
          "base_uri": "https://localhost:8080/"
        },
        "id": "szp5dynXUPEE",
        "outputId": "17271e4e-3c48-4e6a-fd24-5322cf85629d"
      },
      "source": [
        "a[0]+a[1]"
      ],
      "execution_count": 40,
      "outputs": [
        {
          "output_type": "execute_result",
          "data": {
            "text/plain": [
              "tensor([[ 2,  4,  9,  1],\n",
              "        [ 7,  9,  4, 14],\n",
              "        [ 8,  7,  7, 11]])"
            ]
          },
          "metadata": {
            "tags": []
          },
          "execution_count": 40
        }
      ]
    },
    {
      "cell_type": "code",
      "metadata": {
        "colab": {
          "base_uri": "https://localhost:8080/"
        },
        "id": "oxADjUv1UzNT",
        "outputId": "08818e1c-712e-4faa-f092-558499b110ac"
      },
      "source": [
        "a.sum(axis=0)"
      ],
      "execution_count": 41,
      "outputs": [
        {
          "output_type": "execute_result",
          "data": {
            "text/plain": [
              "tensor([[ 2,  4,  9,  1],\n",
              "        [ 7,  9,  4, 14],\n",
              "        [ 8,  7,  7, 11]])"
            ]
          },
          "metadata": {
            "tags": []
          },
          "execution_count": 41
        }
      ]
    },
    {
      "cell_type": "code",
      "metadata": {
        "colab": {
          "base_uri": "https://localhost:8080/"
        },
        "id": "E4YSh7UjZraj",
        "outputId": "36658fbe-b11c-4bea-f4d9-0f67b494294f"
      },
      "source": [
        "a.sum(axis=1).shape"
      ],
      "execution_count": 42,
      "outputs": [
        {
          "output_type": "execute_result",
          "data": {
            "text/plain": [
              "torch.Size([2, 4])"
            ]
          },
          "metadata": {
            "tags": []
          },
          "execution_count": 42
        }
      ]
    },
    {
      "cell_type": "code",
      "metadata": {
        "colab": {
          "base_uri": "https://localhost:8080/"
        },
        "id": "-T_SSPJ5aCwA",
        "outputId": "7695998b-efba-4333-c1ed-3c91dc2b7dd4"
      },
      "source": [
        "a"
      ],
      "execution_count": 43,
      "outputs": [
        {
          "output_type": "execute_result",
          "data": {
            "text/plain": [
              "tensor([[[2, 1, 4, 1],\n",
              "         [1, 6, 1, 7],\n",
              "         [8, 6, 2, 6]],\n",
              "\n",
              "        [[0, 3, 5, 0],\n",
              "         [6, 3, 3, 7],\n",
              "         [0, 1, 5, 5]]])"
            ]
          },
          "metadata": {
            "tags": []
          },
          "execution_count": 43
        }
      ]
    },
    {
      "cell_type": "code",
      "metadata": {
        "colab": {
          "base_uri": "https://localhost:8080/"
        },
        "id": "r8McnX_nZvvC",
        "outputId": "c74e154b-8212-4775-ab3c-7acfb4a5e8a8"
      },
      "source": [
        "### 2x4 shape: 2 rows for 2 matrices; 4 elems each for the sum of each matrix along the columns\n",
        "a.sum(axis=1)"
      ],
      "execution_count": 44,
      "outputs": [
        {
          "output_type": "execute_result",
          "data": {
            "text/plain": [
              "tensor([[11, 13,  7, 14],\n",
              "        [ 6,  7, 13, 12]])"
            ]
          },
          "metadata": {
            "tags": []
          },
          "execution_count": 44
        }
      ]
    },
    {
      "cell_type": "code",
      "metadata": {
        "colab": {
          "base_uri": "https://localhost:8080/"
        },
        "id": "GY41-rTGZ5RY",
        "outputId": "76e2f633-a0d9-4240-ddd8-e55ac354b470"
      },
      "source": [
        "a.sum(axis=2)"
      ],
      "execution_count": 45,
      "outputs": [
        {
          "output_type": "execute_result",
          "data": {
            "text/plain": [
              "tensor([[ 8, 15, 22],\n",
              "        [ 8, 19, 11]])"
            ]
          },
          "metadata": {
            "tags": []
          },
          "execution_count": 45
        }
      ]
    },
    {
      "cell_type": "code",
      "metadata": {
        "colab": {
          "base_uri": "https://localhost:8080/"
        },
        "id": "dBwBD24LaqVr",
        "outputId": "cfc1a071-989d-4b4a-a80f-293169d20cf8"
      },
      "source": [
        "### 2x3 shape: 2 rows for 2 matrices; 3 elems each for the sum of each matrix along the rows\n",
        "\n",
        "a.sum(axis=2).shape"
      ],
      "execution_count": 46,
      "outputs": [
        {
          "output_type": "execute_result",
          "data": {
            "text/plain": [
              "torch.Size([2, 3])"
            ]
          },
          "metadata": {
            "tags": []
          },
          "execution_count": 46
        }
      ]
    },
    {
      "cell_type": "markdown",
      "metadata": {
        "id": "JAigyPVUbkuW"
      },
      "source": [
        "9. Feed a tensor with 3 or more axes to the linalg.norm function and observe its output. What does this function compute for tensors of arbitrary shape?\n",
        "\n"
      ]
    },
    {
      "cell_type": "code",
      "metadata": {
        "colab": {
          "base_uri": "https://localhost:8080/"
        },
        "id": "DSEuphS5axz6",
        "outputId": "1c1544a1-d1ec-4da9-e9a7-d8f7aee9228c"
      },
      "source": [
        "Y= torch.arange(24,dtype = torch.float32).reshape(2, 3, 4)\n",
        "print (Y)"
      ],
      "execution_count": 47,
      "outputs": [
        {
          "output_type": "stream",
          "text": [
            "tensor([[[ 0.,  1.,  2.,  3.],\n",
            "         [ 4.,  5.,  6.,  7.],\n",
            "         [ 8.,  9., 10., 11.]],\n",
            "\n",
            "        [[12., 13., 14., 15.],\n",
            "         [16., 17., 18., 19.],\n",
            "         [20., 21., 22., 23.]]])\n"
          ],
          "name": "stdout"
        }
      ]
    },
    {
      "cell_type": "code",
      "metadata": {
        "colab": {
          "base_uri": "https://localhost:8080/"
        },
        "id": "0skacSdobx21",
        "outputId": "d420163a-b1b2-401d-c91f-f48c417086f9"
      },
      "source": [
        "torch.linalg.norm(Y)"
      ],
      "execution_count": 48,
      "outputs": [
        {
          "output_type": "execute_result",
          "data": {
            "text/plain": [
              "tensor(65.7571)"
            ]
          },
          "metadata": {
            "tags": []
          },
          "execution_count": 48
        }
      ]
    },
    {
      "cell_type": "markdown",
      "metadata": {
        "id": "_XCz-F4mdqWa"
      },
      "source": [
        "Analogous to  L2  norms of vectors, the Frobenius norm of a matrix $\\mathbf{X} \\in \\mathbb{R}^{m \\times n}$ is the square root of the sum of the squares of the matrix elements:\n",
        "\n",
        "$\\|\\mathbf{X}\\|_F = \\sqrt{\\sum_{i=1}^m \\sum_{j=1}^n x_{ij}^2}.$\n"
      ]
    },
    {
      "cell_type": "code",
      "metadata": {
        "colab": {
          "base_uri": "https://localhost:8080/"
        },
        "id": "Qw45HzFLb8gF",
        "outputId": "b20b1ff2-307a-4c7c-c2d0-58b21c5061d6"
      },
      "source": [
        "sum = 0\n",
        "for elem in Y[:]:\n",
        "    print (elem.shape)\n",
        "    for elem1 in elem:\n",
        "        for elem2 in elem1:\n",
        "            sum+= elem2.item()**2\n",
        "\n",
        "print(sum**0.5)"
      ],
      "execution_count": 49,
      "outputs": [
        {
          "output_type": "stream",
          "text": [
            "torch.Size([3, 4])\n",
            "torch.Size([3, 4])\n",
            "65.75712889109438\n"
          ],
          "name": "stdout"
        }
      ]
    },
    {
      "cell_type": "markdown",
      "metadata": {
        "id": "fDFEGSKue8Xb"
      },
      "source": [
        "This has computed the Frobenus norm for the tensor of shape 2x3x4"
      ]
    },
    {
      "cell_type": "markdown",
      "metadata": {
        "id": "ABOtW9fghj3e"
      },
      "source": [
        "## Calculus\n",
        "\n",
        "### Derivatives and Differentiation\n",
        "\n",
        "We begin by addressing the calculation of derivatives, a crucial step in nearly all deep learning optimization algorithms. In deep learning, we typically choose loss functions that are differentiable with respect to our model’s parameters. Put simply, this means that for each parameter, we can determine how rapidly the loss would increase or decrease, were we to increase or decrease that parameter by an infinitesimally small amount.\n",
        "\n",
        "Suppose that we have a function  $f: \\mathbb{R} \\rightarrow \\mathbb{R}$ whose input and output are both scalars. The derivative of  f  is defined as\n",
        "\n",
        "$f'(x) = \\lim_{h \\rightarrow 0} \\frac{f(x+h) - f(x)}{h},$\n",
        "\n",
        "if this limit exists. If  f'(a) exists,  f  is said to be differentiable at a . If  f  is differentiable at every number of an interval, then this function is differentiable on this interval. We can interpret the derivative  f′(x)  in (2.4.1) as the instantaneous rate of change of  f(x)  with respect to  x . The so-called instantaneous rate of change is based on the variation  h  in  x , which approaches  0 .\n",
        "\n",
        "To illustrate derivatives, let us experiment with an example. Define  \n",
        "$u = f(x) = 3x^2-4x$\n"
      ]
    },
    {
      "cell_type": "code",
      "metadata": {
        "id": "6wVMppOkchB3"
      },
      "source": [
        "%matplotlib inline\n",
        "import numpy as np\n",
        "from IPython import display\n",
        "\n",
        "def f(x):\n",
        "    return 3 * x ** 2 - 4 * x"
      ],
      "execution_count": 50,
      "outputs": []
    },
    {
      "cell_type": "code",
      "metadata": {
        "colab": {
          "base_uri": "https://localhost:8080/"
        },
        "id": "7MtrHWBAiOzE",
        "outputId": "fb904adc-e698-4b65-9803-ae284e735a32"
      },
      "source": [
        "def numerical_lim(f, x, h):\n",
        "    return (f(x+h) - f(x))/h\n",
        "\n",
        "h = 0.1\n",
        "for i in range(10):\n",
        "    print (f'h = {h}, numerical limit = {numerical_lim(f, 1, h)}')\n",
        "    h *= 0.1"
      ],
      "execution_count": 51,
      "outputs": [
        {
          "output_type": "stream",
          "text": [
            "h = 0.1, numerical limit = 2.3000000000000043\n",
            "h = 0.010000000000000002, numerical limit = 2.029999999999976\n",
            "h = 0.0010000000000000002, numerical limit = 2.0029999999993104\n",
            "h = 0.00010000000000000003, numerical limit = 2.000299999997956\n",
            "h = 1.0000000000000004e-05, numerical limit = 2.0000300000155837\n",
            "h = 1.0000000000000004e-06, numerical limit = 2.0000030001021676\n",
            "h = 1.0000000000000005e-07, numerical limit = 2.000000298707504\n",
            "h = 1.0000000000000005e-08, numerical limit = 1.999999987845057\n",
            "h = 1.0000000000000005e-09, numerical limit = 2.000000165480741\n",
            "h = 1.0000000000000006e-10, numerical limit = 2.000000165480741\n"
          ],
          "name": "stdout"
        }
      ]
    },
    {
      "cell_type": "markdown",
      "metadata": {
        "id": "ct4Rs_DquGvz"
      },
      "source": [
        "Let us familiarize ourselves with a few equivalent notations for derivatives. Given  y=f(x) , where  x  and  y  are the independent variable and the dependent variable of the function  f , respectively. The following expressions are equivalent:\n",
        "\n",
        "$f'(x) = y' = \\frac{dy}{dx} = \\frac{df}{dx} = \\frac{d}{dx} f(x) = Df(x) = D_x f(x),$\n",
        "\n",
        "### Partial Derivatives\n",
        "\n",
        "So far we have dealt with the differentiation of functions of just one variable. In deep learning, functions often depend on many variables. Thus, we need to extend the ideas of differentiation to these multivariate functions.\n",
        "\n",
        "Let $y = f(x_1, x_2, \\ldots, x_n)$ be a function with  n  variables. The partial derivative of  y  with respect to its  ith  parameter  xi  is:\n",
        "\n",
        "$\\frac{\\partial y}{\\partial x_i} = \\lim_{h \\rightarrow 0} \\frac{f(x_1, \\ldots, x_{i-1}, x_i+h, x_{i+1}, \\ldots, x_n) - f(x_1, \\ldots, x_i, \\ldots, x_n)}{h}.$\n",
        "\n",
        "To calculate  $\\frac{\\partial y}{\\partial x_i}$ we can simply treat $x_1, \\ldots, x_{i-1}, x_{i+1}, \\ldots, x_n$ s constants and calculate the derivative of  y  with respect to  xi . For notation of partial derivatives, the following are equivalent:\n",
        "\n",
        "$\\frac{\\partial y}{\\partial x_i} = \\frac{\\partial f}{\\partial x_i} = f_{x_i} = f_i = D_i f = D_{x_i} f.$\n",
        "\n",
        "### Gradients\n",
        "\n",
        "Suppose that the input of function $f: \\mathbb{R}^n \\rightarrow \\mathbb{R}$ is an  n -dimensional vector $\\mathbf{x} = [x_1, x_2, \\ldots, x_n]^\\top$ and the output is a scalar. The gradient of the function  $f(\\mathbf{x})$  with respect to  $\\mathbf{x}$  is a vector of  n  partial derivatives:\n",
        "\n",
        "$\\nabla_{\\mathbf{x}} f(\\mathbf{x}) = \\bigg[\\frac{\\partial f(\\mathbf{x})}{\\partial x_1}, \\frac{\\partial f(\\mathbf{x})}{\\partial x_2}, \\ldots, \\frac{\\partial f(\\mathbf{x})}{\\partial x_n}\\bigg]^\\top,$\n",
        "\n",
        "Note that this also returns an n-dimensional vector\n",
        "\n",
        "where $\\nabla_{\\mathbf{x}} f(\\mathbf{x})$ is often replaced by $\\nabla f(\\mathbf{x})$  when there is no ambiguity.\n",
        "\n",
        "![](https://i.imgur.com/2qsZFkH.png)\n",
        "\n",
        "### Chain Rule\n",
        "\n",
        "However, such gradients can be hard to find. This is because multivariate functions in deep learning are often composite, so we may not apply any of the aforementioned rules to differentiate these functions. Fortunately, the chain rule enables us to differentiate composite functions.\n",
        "\n",
        "Let us first consider functions of a single variable. Suppose that functions y = f(u) and u = g(x) are both differentiable, then the chain rule states that\n",
        "\n",
        "$\\frac{dy}{dx} = \\frac{dy}{du} \\frac{du}{dx}.$\n",
        "\n",
        "Now let us turn our attention to a more general scenario where functions have an arbitrary number of variables. Suppose that the differentiable function  y  has variables u1, u2... um,  where each differentiable function  ui  has variables  x1,x2,…,xn . Note that  y  is a function of  x1,x2,…,xn . Then the chain rule gives\n",
        "\n",
        "$\\frac{dy}{dx_i} = \\frac{dy}{du_1} \\frac{du_1}{dx_i} + \\frac{dy}{du_2} \\frac{du_2}{dx_i} + \\cdots + \\frac{dy}{du_m} \\frac{du_m}{dx_i}$\n",
        "\n"
      ]
    },
    {
      "cell_type": "markdown",
      "metadata": {
        "id": "wHjGw2Ug-OSv"
      },
      "source": [
        "### Automatic Differentiation\n",
        "\n",
        "As we have explained in Section 2.4, differentiation is a crucial step in nearly all deep learning optimization algorithms. While the calculations for taking these derivatives are straightforward, requiring only some basic calculus, for complex models, working out the updates by hand can be a pain (and often error-prone).\n",
        "\n",
        "Deep learning frameworks expedite this work by automatically calculating derivatives, i.e., automatic differentiation. In practice, based on our designed model the system builds a computational graph, tracking which data combined through which operations to produce the output. Automatic differentiation enables the system to subsequently backpropagate gradients. Here, backpropagate simply means to trace through the computational graph, filling in the partial derivatives with respect to each parameter.\n",
        "\n",
        "As a toy example, say that we are interested in differentiating the function $y = 2\\mathbf{x}^{\\top}\\mathbf{x}$ with respect to the column vector  x . To start, let us create the variable x and assign it an initial value."
      ]
    },
    {
      "cell_type": "code",
      "metadata": {
        "id": "9S4a3ybnkXqv",
        "colab": {
          "base_uri": "https://localhost:8080/"
        },
        "outputId": "568e942d-7d1c-4e0a-e9bf-8367b19a22a9"
      },
      "source": [
        "x = torch.arange(4.0)\n",
        "print (x.shape)\n",
        "x"
      ],
      "execution_count": 52,
      "outputs": [
        {
          "output_type": "stream",
          "text": [
            "torch.Size([4])\n"
          ],
          "name": "stdout"
        },
        {
          "output_type": "execute_result",
          "data": {
            "text/plain": [
              "tensor([0., 1., 2., 3.])"
            ]
          },
          "metadata": {
            "tags": []
          },
          "execution_count": 52
        }
      ]
    },
    {
      "cell_type": "markdown",
      "metadata": {
        "id": "aQgekokX-pzD"
      },
      "source": [
        "The shape of x is 4x1. 2 x^T x will be a scalar. Also we know that a gradient of a scalar-valued function with respect to a vector  x  is itself vector-valued and has the same shape as  x .\n",
        "\n",
        "Suppose that the input of function $f: \\mathbb{R}^n \\rightarrow \\mathbb{R}$ is an  n -dimensional vector $\\mathbf{x} = [x_1, x_2, \\ldots, x_n]^\\top$ and the output is a scalar. The gradient of the function  $f(\\mathbf{x})$  with respect to  $\\mathbf{x}$  is a vector of  n  partial derivatives:\n",
        "\n",
        "$\\nabla_{\\mathbf{x}} f(\\mathbf{x}) = \\bigg[\\frac{\\partial f(\\mathbf{x})}{\\partial x_1}, \\frac{\\partial f(\\mathbf{x})}{\\partial x_2}, \\ldots, \\frac{\\partial f(\\mathbf{x})}{\\partial x_n}\\bigg]^\\top,$\n",
        "\n",
        "Before we even calculate the gradient of  y  with respect to  x , we will need a place to store it. It is important that we do not allocate new memory every time we take a derivative with respect to a parameter because we will often update the same parameters thousands or millions of times and could quickly run out of memory"
      ]
    },
    {
      "cell_type": "code",
      "metadata": {
        "id": "bkHEwOwW-fdJ"
      },
      "source": [
        "x.requires_grad_(True)  # Same as `x = torch.arange(4.0, requires_grad=True)` ### This means we want to calculate grad wrt x\n",
        "x.grad  # The default value is None"
      ],
      "execution_count": 53,
      "outputs": []
    },
    {
      "cell_type": "markdown",
      "metadata": {
        "id": "T3Ud_wmwKmGV"
      },
      "source": [
        "Now let us calculate  y . Note: y here is a scalar"
      ]
    },
    {
      "cell_type": "code",
      "metadata": {
        "colab": {
          "base_uri": "https://localhost:8080/"
        },
        "id": "QQIxoU4xKi7r",
        "outputId": "0ec53bd4-fdf2-4dbe-c4ff-f26c4a1c1479"
      },
      "source": [
        "y = 2*torch.dot(x, x) ## 2 (0.0 + 1.1 + 2.2 + 3.3)\n",
        "print (x)\n",
        "print (y)"
      ],
      "execution_count": 54,
      "outputs": [
        {
          "output_type": "stream",
          "text": [
            "tensor([0., 1., 2., 3.], requires_grad=True)\n",
            "tensor(28., grad_fn=<MulBackward0>)\n"
          ],
          "name": "stdout"
        }
      ]
    },
    {
      "cell_type": "markdown",
      "metadata": {
        "id": "a3tPMwRMK8PI"
      },
      "source": [
        "Since x is a vector of length 4, an inner product of x and x is performed, yielding the scalar output that we assign to y. Next, we can automatically calculate the gradient of y with respect to each component of x by calling the function for backpropagation and printing the gradient.\n",
        "\n"
      ]
    },
    {
      "cell_type": "code",
      "metadata": {
        "colab": {
          "base_uri": "https://localhost:8080/"
        },
        "id": "OJkKpe9MKsye",
        "outputId": "1b7e89a3-19c8-4a82-ddcd-e2e0227e1332"
      },
      "source": [
        "y.backward()\n",
        "x.grad"
      ],
      "execution_count": 55,
      "outputs": [
        {
          "output_type": "execute_result",
          "data": {
            "text/plain": [
              "tensor([ 0.,  4.,  8., 12.])"
            ]
          },
          "metadata": {
            "tags": []
          },
          "execution_count": 55
        }
      ]
    },
    {
      "cell_type": "markdown",
      "metadata": {
        "id": "RnGnn55eMvc4"
      },
      "source": [
        "The gradient of the function  $y = 2\\mathbf{x}^{\\top}\\mathbf{x}$  with respect to $\\mathbf{x}$ will be $4\\mathbf{x}$.  Let us quickly verify that our desired gradient was calculated correctly."
      ]
    },
    {
      "cell_type": "code",
      "metadata": {
        "colab": {
          "base_uri": "https://localhost:8080/"
        },
        "id": "dJNZX2f7LN1h",
        "outputId": "dd49d909-b3df-476b-b4d0-69cec1fb7fbc"
      },
      "source": [
        "4*x"
      ],
      "execution_count": 56,
      "outputs": [
        {
          "output_type": "execute_result",
          "data": {
            "text/plain": [
              "tensor([ 0.,  4.,  8., 12.], grad_fn=<MulBackward0>)"
            ]
          },
          "metadata": {
            "tags": []
          },
          "execution_count": 56
        }
      ]
    },
    {
      "cell_type": "markdown",
      "metadata": {
        "id": "V0U86YuONPqY"
      },
      "source": [
        "Now let us calculate another function of x.\n",
        "\n"
      ]
    },
    {
      "cell_type": "code",
      "metadata": {
        "colab": {
          "base_uri": "https://localhost:8080/"
        },
        "id": "7n-8wJgXNCgi",
        "outputId": "fb0bcbaa-8703-41d8-8031-328ecdadb08f"
      },
      "source": [
        "# PyTorch accumulates the gradient in default, we need to clear the previous values\n",
        "x.grad.zero_()"
      ],
      "execution_count": 57,
      "outputs": [
        {
          "output_type": "execute_result",
          "data": {
            "text/plain": [
              "tensor([0., 0., 0., 0.])"
            ]
          },
          "metadata": {
            "tags": []
          },
          "execution_count": 57
        }
      ]
    },
    {
      "cell_type": "code",
      "metadata": {
        "colab": {
          "base_uri": "https://localhost:8080/"
        },
        "id": "1DPF9EVwNU8e",
        "outputId": "02bb037a-de53-4572-9ab9-713c096df66a"
      },
      "source": [
        "y = x.sum()\n",
        "print (y)"
      ],
      "execution_count": 58,
      "outputs": [
        {
          "output_type": "stream",
          "text": [
            "tensor(6., grad_fn=<SumBackward0>)\n"
          ],
          "name": "stdout"
        }
      ]
    },
    {
      "cell_type": "code",
      "metadata": {
        "colab": {
          "base_uri": "https://localhost:8080/"
        },
        "id": "VoZlHaCTNfot",
        "outputId": "4a605af1-fb95-47f6-a974-d5a78712a32a"
      },
      "source": [
        "y.backward()\n",
        "x.grad"
      ],
      "execution_count": 59,
      "outputs": [
        {
          "output_type": "execute_result",
          "data": {
            "text/plain": [
              "tensor([1., 1., 1., 1.])"
            ]
          },
          "metadata": {
            "tags": []
          },
          "execution_count": 59
        }
      ]
    },
    {
      "cell_type": "markdown",
      "metadata": {
        "id": "N9IpuNv8Npjf"
      },
      "source": [
        "y = x1 + x2 + x3 + x4 where x1, x2, x3, x4 are each elem of vector x\n",
        "\n",
        "dy/dx = [dy/dx1, dy/dx2, dy/dx3, dy/dx4]: Note each of these are the partial derivatives\n",
        "\n"
      ]
    },
    {
      "cell_type": "markdown",
      "metadata": {
        "id": "UGm3ORJWN-xE"
      },
      "source": [
        "### Backward for Non-Scalar Variables\n",
        "\n",
        "Technically, when y is not a scalar, the most natural interpretation of the differentiation of a vector y with respect to a vector x is a matrix. For higher-order and higher-dimensional y and x, the differentiation result could be a high-order tensor.\n",
        "\n",
        "However, while these more exotic objects do show up in advanced machine learning (including in deep learning), more often when we are calling backward on a vector, we are trying to calculate the derivatives of the loss functions for each constituent of a batch of training examples. Here, our intent is not to calculate the differentiation matrix but rather the sum of the partial derivatives computed individually for each example in the batch."
      ]
    },
    {
      "cell_type": "code",
      "metadata": {
        "id": "onxWh7qnNpEj"
      },
      "source": [
        "x.grad.zero_()\n",
        "y = x * x"
      ],
      "execution_count": 60,
      "outputs": []
    },
    {
      "cell_type": "code",
      "metadata": {
        "colab": {
          "base_uri": "https://localhost:8080/"
        },
        "id": "k-uW7OEtNhmX",
        "outputId": "207063db-41fe-4b59-d6c2-048afb502b92"
      },
      "source": [
        "print (x)\n",
        "print (y)"
      ],
      "execution_count": 61,
      "outputs": [
        {
          "output_type": "stream",
          "text": [
            "tensor([0., 1., 2., 3.], requires_grad=True)\n",
            "tensor([0., 1., 4., 9.], grad_fn=<MulBackward0>)\n"
          ],
          "name": "stdout"
        }
      ]
    },
    {
      "cell_type": "code",
      "metadata": {
        "colab": {
          "base_uri": "https://localhost:8080/"
        },
        "id": "Rz71ntCvObV4",
        "outputId": "eadc12fb-df18-418c-b03d-578ee40f3a6c"
      },
      "source": [
        "print (y.sum())"
      ],
      "execution_count": 62,
      "outputs": [
        {
          "output_type": "stream",
          "text": [
            "tensor(14., grad_fn=<SumBackward0>)\n"
          ],
          "name": "stdout"
        }
      ]
    },
    {
      "cell_type": "code",
      "metadata": {
        "id": "k5PjwOdLOrxm"
      },
      "source": [
        "y.sum().backward()"
      ],
      "execution_count": 63,
      "outputs": []
    },
    {
      "cell_type": "code",
      "metadata": {
        "colab": {
          "base_uri": "https://localhost:8080/"
        },
        "id": "TLVTDnvfOv2r",
        "outputId": "5c23fad5-5c08-4b80-db2a-0c5fcf94d73f"
      },
      "source": [
        "x.grad"
      ],
      "execution_count": 64,
      "outputs": [
        {
          "output_type": "execute_result",
          "data": {
            "text/plain": [
              "tensor([0., 2., 4., 6.])"
            ]
          },
          "metadata": {
            "tags": []
          },
          "execution_count": 64
        }
      ]
    },
    {
      "cell_type": "markdown",
      "metadata": {
        "id": "5N8DtSySQ3v3"
      },
      "source": [
        "Here again y is basically y = x1^2 + x2^2 + x3^2 + x4^2\n",
        "\n",
        "so dy/dx = [dy/dx1, dy/dx2, dy/dx3, dy/dx4]: Note each of these are the partial derivatives = [2x1, 2x2, 2x3, 2x4]"
      ]
    },
    {
      "cell_type": "markdown",
      "metadata": {
        "id": "fG2azvLCRf6h"
      },
      "source": [
        "### Detaching Computation\n",
        "\n",
        "Sometimes, we wish to move some calculations outside of the recorded computational graph. For example, say that y was calculated as a function of x, and that subsequently z was calculated as a function of both y and x. Now, imagine that we wanted to calculate the gradient of z with respect to x, but wanted for some reason to treat y as a constant, and only take into account the role that x played after y was calculated.\n",
        "\n",
        "say y = x^2 and z = y*x = x^2 * x\n",
        "\n",
        "Here, we can detach y to return a new variable u that has the same value as y but discards any information about how y was computed in the computational graph. In other words, the gradient will not flow backwards through u to x. Thus, the following backpropagation function computes the partial derivative of z = u * x with respect to x while treating u as a constant, instead of the partial derivative of z = x * x * x with respect to x.\n",
        "\n",
        "\n",
        "\n"
      ]
    },
    {
      "cell_type": "code",
      "metadata": {
        "colab": {
          "base_uri": "https://localhost:8080/"
        },
        "id": "Xl7jraMqPAII",
        "outputId": "e67f3159-764f-42dd-9f1b-0d947c316453"
      },
      "source": [
        "x.grad.zero_()\n",
        "print (x)\n",
        "y = x * x\n",
        "print (y)\n",
        "\n",
        "u = y.detach()\n",
        "print (u)"
      ],
      "execution_count": 65,
      "outputs": [
        {
          "output_type": "stream",
          "text": [
            "tensor([0., 1., 2., 3.], requires_grad=True)\n",
            "tensor([0., 1., 4., 9.], grad_fn=<MulBackward0>)\n",
            "tensor([0., 1., 4., 9.])\n"
          ],
          "name": "stdout"
        }
      ]
    },
    {
      "cell_type": "code",
      "metadata": {
        "colab": {
          "base_uri": "https://localhost:8080/"
        },
        "id": "gDpyTgbYSL3-",
        "outputId": "1af3dc0b-3d39-4082-fbb3-5a9492f33169"
      },
      "source": [
        "z = u * x\n",
        "z.sum().backward()\n",
        "print (x.grad) ### should return u"
      ],
      "execution_count": 66,
      "outputs": [
        {
          "output_type": "stream",
          "text": [
            "tensor([0., 1., 4., 9.])\n"
          ],
          "name": "stdout"
        }
      ]
    },
    {
      "cell_type": "code",
      "metadata": {
        "colab": {
          "base_uri": "https://localhost:8080/"
        },
        "id": "NXPaxITIbYht",
        "outputId": "46735de0-8502-474d-97d9-12731b6d4047"
      },
      "source": [
        "### without detaching\n",
        "x.grad.zero_()\n",
        "print (x)\n",
        "y = x * x\n",
        "print (y)\n",
        "z = y * x\n",
        "z.sum().backward()\n",
        "print (x.grad) ### 3 x^2 = [3.0^2, 3.1^2, 3.2^2, 3.3^2]"
      ],
      "execution_count": 67,
      "outputs": [
        {
          "output_type": "stream",
          "text": [
            "tensor([0., 1., 2., 3.], requires_grad=True)\n",
            "tensor([0., 1., 4., 9.], grad_fn=<MulBackward0>)\n",
            "tensor([ 0.,  3., 12., 27.])\n"
          ],
          "name": "stdout"
        }
      ]
    },
    {
      "cell_type": "markdown",
      "metadata": {
        "id": "6kYCKmQOb706"
      },
      "source": [
        "### Computing the Gradient of Python Control Flow\n",
        "\n",
        "One benefit of using automatic differentiation is that even if building the computational graph of a function required passing through a maze of Python control flow (e.g., conditionals, loops, and arbitrary function calls), we can still calculate the gradient of the resulting variable. In the following snippet, note that the number of iterations of the while loop and the evaluation of the if statement both depend on the value of the input a.\n",
        "\n"
      ]
    },
    {
      "cell_type": "code",
      "metadata": {
        "id": "2pcEsDpfblLg"
      },
      "source": [
        "def f(a):\n",
        "    ## init b = 2a\n",
        "    b = a*2\n",
        "    while b.norm() < 1000:\n",
        "        b = b * 2\n",
        "    if b.sum() > 0:\n",
        "        print ('here', b)\n",
        "        c = b\n",
        "    else:\n",
        "        c = 100 * b\n",
        "    return c"
      ],
      "execution_count": 68,
      "outputs": []
    },
    {
      "cell_type": "code",
      "metadata": {
        "colab": {
          "base_uri": "https://localhost:8080/"
        },
        "id": "rBKVG4dod7CW",
        "outputId": "57169891-7a74-452e-8f60-cc31ed05bc20"
      },
      "source": [
        "a = torch.randn(size=(), requires_grad=True)\n",
        "print (a)"
      ],
      "execution_count": 69,
      "outputs": [
        {
          "output_type": "stream",
          "text": [
            "tensor(-0.2892, requires_grad=True)\n"
          ],
          "name": "stdout"
        }
      ]
    },
    {
      "cell_type": "code",
      "metadata": {
        "colab": {
          "base_uri": "https://localhost:8080/"
        },
        "id": "Dr4u454XeBK9",
        "outputId": "a343e347-e286-4b36-9861-1a1b6c2b5a36"
      },
      "source": [
        "print (a.norm())"
      ],
      "execution_count": 70,
      "outputs": [
        {
          "output_type": "stream",
          "text": [
            "tensor(0.2892, grad_fn=<CopyBackwards>)\n"
          ],
          "name": "stdout"
        }
      ]
    },
    {
      "cell_type": "code",
      "metadata": {
        "id": "mt1T4F81eFIi"
      },
      "source": [
        "d = f(a)"
      ],
      "execution_count": 71,
      "outputs": []
    },
    {
      "cell_type": "markdown",
      "metadata": {
        "id": "eXCtaI4relYB"
      },
      "source": [
        "d = f(a) = 2*a * 2^k = k(some const) * a\n"
      ]
    },
    {
      "cell_type": "code",
      "metadata": {
        "id": "NjZNlvk2eTPY"
      },
      "source": [
        "d = f(a)\n",
        "d.backward()"
      ],
      "execution_count": 72,
      "outputs": []
    },
    {
      "cell_type": "code",
      "metadata": {
        "colab": {
          "base_uri": "https://localhost:8080/"
        },
        "id": "jjGsDU2Ne18-",
        "outputId": "434b40f1-c341-494e-c35e-1caa2728ec26"
      },
      "source": [
        "print (a.grad)"
      ],
      "execution_count": 73,
      "outputs": [
        {
          "output_type": "stream",
          "text": [
            "tensor(409600.)\n"
          ],
          "name": "stdout"
        }
      ]
    },
    {
      "cell_type": "code",
      "metadata": {
        "colab": {
          "base_uri": "https://localhost:8080/"
        },
        "id": "JZjNa501e4Jt",
        "outputId": "2c530344-f658-423f-9cb1-47f38d1c9169"
      },
      "source": [
        "d/a"
      ],
      "execution_count": 74,
      "outputs": [
        {
          "output_type": "execute_result",
          "data": {
            "text/plain": [
              "tensor(409600., grad_fn=<DivBackward0>)"
            ]
          },
          "metadata": {
            "tags": []
          },
          "execution_count": 74
        }
      ]
    },
    {
      "cell_type": "markdown",
      "metadata": {
        "id": "_xv_qTMpfE3s"
      },
      "source": [
        "We can now analyze the f function defined above. Note that it is piecewise linear in its input a. In other words, for any a there exists some constant scalar k such that f(a) = k * a, where the value of k depends on the input a\n",
        "\n",
        "f(a) = k*a => df/da = k  = f(a)/a = d/a"
      ]
    },
    {
      "cell_type": "markdown",
      "metadata": {
        "id": "VsFPT2tojPS1"
      },
      "source": [
        "## Probablility\n",
        "\n",
        "### Basic Probability Theory\n",
        "\n",
        "\n"
      ]
    },
    {
      "cell_type": "code",
      "metadata": {
        "id": "yH5rOQQ2gQmX"
      },
      "source": [
        "%matplotlib inline\n",
        "import torch\n",
        "from torch.distributions import multinomial"
      ],
      "execution_count": 75,
      "outputs": []
    },
    {
      "cell_type": "markdown",
      "metadata": {
        "id": "zGmXUiVmjfzc"
      },
      "source": [
        "Next, we will want to be able to cast the die. In statistics we call this process of drawing examples from probability distributions sampling. The distribution that assigns probabilities to a number of discrete choices is called the multinomial distribution. We will give a more formal definition of distribution later, but at a high level, think of it as just an assignment of probabilities to events.\n",
        "\n",
        "To draw a single sample, we simply pass in a vector of probabilities. The output is another vector of the same length: its value at index  i  is the number of times the sampling outcome corresponds to  i ."
      ]
    },
    {
      "cell_type": "code",
      "metadata": {
        "colab": {
          "base_uri": "https://localhost:8080/"
        },
        "id": "uUioZE4PjYtv",
        "outputId": "2039edd0-58c0-4375-a164-56ae4bac6df3"
      },
      "source": [
        "fair_probs = torch.ones([6]) / 6\n",
        "print (fair_probs)"
      ],
      "execution_count": 76,
      "outputs": [
        {
          "output_type": "stream",
          "text": [
            "tensor([0.1667, 0.1667, 0.1667, 0.1667, 0.1667, 0.1667])\n"
          ],
          "name": "stdout"
        }
      ]
    },
    {
      "cell_type": "code",
      "metadata": {
        "colab": {
          "base_uri": "https://localhost:8080/"
        },
        "id": "73hBC2siAAOV",
        "outputId": "331bdffd-99c1-4587-ca11-ecf84a859fff"
      },
      "source": [
        "### sample from a multinomial total_count times with prob of each event given by fair_probs\n",
        "multinomial.Multinomial(total_count=1, probs=fair_probs).sample()"
      ],
      "execution_count": 77,
      "outputs": [
        {
          "output_type": "execute_result",
          "data": {
            "text/plain": [
              "tensor([0., 0., 1., 0., 0., 0.])"
            ]
          },
          "metadata": {
            "tags": []
          },
          "execution_count": 77
        }
      ]
    },
    {
      "cell_type": "markdown",
      "metadata": {
        "id": "7pAdvh_EAh_M"
      },
      "source": [
        "If you run the sampler a bunch of times, you will find that you get out random values each time. As with estimating the fairness of a die, we often want to generate many samples from the same distribution. It would be unbearably slow to do this with a Python for loop, so the function we are using supports drawing multiple samples at once, returning an array of independent samples in any shape we might desire.\n",
        "\n"
      ]
    },
    {
      "cell_type": "code",
      "metadata": {
        "colab": {
          "base_uri": "https://localhost:8080/"
        },
        "id": "XI46a64TAS7y",
        "outputId": "fd100926-13cf-4807-d3f5-99705ac6b364"
      },
      "source": [
        "multinomial.Multinomial(10, fair_probs).sample()"
      ],
      "execution_count": 78,
      "outputs": [
        {
          "output_type": "execute_result",
          "data": {
            "text/plain": [
              "tensor([3., 2., 0., 3., 0., 2.])"
            ]
          },
          "metadata": {
            "tags": []
          },
          "execution_count": 78
        }
      ]
    },
    {
      "cell_type": "code",
      "metadata": {
        "colab": {
          "base_uri": "https://localhost:8080/"
        },
        "id": "ZDMpY1iVAmZT",
        "outputId": "91207821-319f-4653-bac2-b9927a120d30"
      },
      "source": [
        "# Store the results as 32-bit floats for division\n",
        "counts = multinomial.Multinomial(1000, fair_probs).sample()\n",
        "counts / 1000  # Relative frequency as the estimate"
      ],
      "execution_count": 79,
      "outputs": [
        {
          "output_type": "execute_result",
          "data": {
            "text/plain": [
              "tensor([0.1740, 0.1690, 0.1720, 0.1530, 0.1710, 0.1610])"
            ]
          },
          "metadata": {
            "tags": []
          },
          "execution_count": 79
        }
      ]
    },
    {
      "cell_type": "markdown",
      "metadata": {
        "id": "qhOtn-IqAu9u"
      },
      "source": [
        "Because we generated the data from a fair die, we know that each outcome has true probability  16 , roughly  0.167 , so the above output estimates look good.\n",
        "\n",
        "We can also visualize how these probabilities converge over time towards the true probability. Let us conduct 500 groups of experiments where each group draws 10 samples.\n",
        "\n",
        "![](https://d2l.ai/_images/output_probability_245b7d_54_0.svg)\n",
        "\n",
        "Each solid curve corresponds to one of the six values of the die and gives our estimated probability that the die turns up that value as assessed after each group of experiments. The dashed black line gives the true underlying probability. As we get more data by conducting more experiments, the  6  solid curves converge towards the true probability.\n",
        "\n",
        "### Random variables\n",
        "\n",
        "![](https://i.imgur.com/ikJ3lk8.png)\n",
        "\n",
        "\n",
        "![](https://i.imgur.com/lVO07r1.png)\n",
        "\n",
        "\n"
      ]
    },
    {
      "cell_type": "markdown",
      "metadata": {
        "id": "WGc3Pf9zKL4r"
      },
      "source": [
        ""
      ]
    },
    {
      "cell_type": "markdown",
      "metadata": {
        "id": "da8WhQqAQagM"
      },
      "source": [
        ""
      ]
    },
    {
      "cell_type": "markdown",
      "metadata": {
        "id": "Eu3dwP9zQbRf"
      },
      "source": [
        "## Linear Neural Networks\n",
        "\n",
        "## Linear Regression\n",
        "\n",
        "### Some assumptions\n",
        "\n",
        "1. First, we assume that the relationship between the independent variables $\\mathbf{x}$ and the dependent variable  y  is linear, i.e., that  y  can be expressed as a weighted sum of the elements in  $\\mathbf{x}$ , given some noise on the observations. Note here we represent $\\mathbf{x}$ as a vetor\n",
        "\n",
        "2. Second, we assume that any noise is well-behaved (following a Gaussian distribution).\n",
        "\n",
        "To motivate the approach, let us start with a running example. Suppose that we wish to estimate the prices of houses (in dollars) based on their area (in square feet) and age (in years). To actually develop a model for predicting house prices, we would need to get our hands on a dataset consisting of sales for which we know the sale price, area, and age for each home. In the terminology of machine learning, the dataset is called a training dataset or training set, and each row (here the data corresponding to one sale) is called an example (or data point, data instance, sample). The thing we are trying to predict (price) is called a label (or target). The independent variables (age and area) upon which the predictions are based are called features (or covariates).\n",
        "\n",
        "Typically, we will use  n  to denote the number of examples in our dataset. We index the data examples by  i , denoting each input as\n",
        "\n",
        "\\mathbf{x}^{(i)} = [x_1^{(i)}, x_2^{(i)}]^\\top$ and the corresponding label as $y^{(i)}$\n",
        "\n",
        "The linearity assumption just says that the target (price) can be expressed as a weighted sum of the features (area and age):\n",
        "\n",
        "$\\mathrm{price} = w_{\\mathrm{area}} \\cdot \\mathrm{area} + w_{\\mathrm{age}} \\cdot \\mathrm{age} + b.$\n",
        "\n",
        "The weights determine the influence of each feature on our prediction and the bias just says what value the predicted price should take when all of the features take value 0. Even if we will never see any homes with zero area, or that are precisely zero years old, we still need the bias or else we will limit the expressivity of our model. Strictly speaking, the above equation is an affine transformation of input features, which is characterized by a linear transformation of features via weighted sum, combined with a translation via the added bias.\n",
        "\n",
        "Given a dataset, our goal is to choose the weights  $\\mathbf{w}$  and the bias  b  such that on average, the predictions made according to our model best fit the true prices observed in the data. Models whose output prediction is determined by the affine transformation of input features are linear models, where the affine transformation is specified by the chosen weights and bias.\n",
        "\n",
        "![](https://i.imgur.com/Oi0F47h.png)\n",
        "\n",
        "#### Some calculation walkthroughs\n",
        "\n",
        "![](https://i.imgur.com/EfgcBH2.jpg)\n",
        "\n",
        "![](https://i.imgur.com/sph1CMM.jpg)\n",
        "\n",
        "### Loss functions\n",
        "\n",
        "![](https://i.imgur.com/b4Nei7P.png)\n",
        "\n",
        "\n",
        "Note here $\\mathbf{x}^{(i)}$ is the ith feature vector "
      ]
    },
    {
      "cell_type": "markdown",
      "metadata": {
        "id": "kgbJh_3HLjHr"
      },
      "source": [
        "### Analytic Solution\n",
        "\n",
        "Linear regression happens to be an unusually simple optimization problem. Unlike most other models that we will encounter in this book, linear regression can be solved analytically by applying a simple formula. To start, we can subsume the bias b into the parameter $\\mathbf{w}$ by appending a column to the design matrix consisting of all ones. Then our prediction problem is to minimize $\\|\\mathbf{y} - \\mathbf{X}\\mathbf{w}\\|^2$\n",
        "\n",
        "#### Verification\n",
        "\n",
        "Let's verify that $\\|\\mathbf{y} - \\mathbf{X}\\mathbf{w}\\|^2$ does indeed give the previous equation we had\n",
        "\n",
        "Matrix norms reference: https://learn.lboro.ac.uk/archive/olmp/olmp_resources/pages/workbooks_1_50_jan2008/Workbook30/30_4_mtrx_norms.pdf\n",
        "\n",
        "![](https://i.imgur.com/0A19uqO.jpeg)\n",
        "\n",
        "Taking the derivative of the loss with respect to  $\\mathbf{w}$  and setting it equal to zero yields the analytic (closed-form) solution:\n",
        "\n",
        "$\\mathbf{w}^* = (\\mathbf X^\\top \\mathbf X)^{-1}\\mathbf X^\\top \\mathbf{y}.$\n",
        "\n",
        "https://i.imgur.com/g0HwF5V.jpeg\n",
        "\n",
        "![](https://i.imgur.com/g0HwF5V.jpeg)"
      ]
    },
    {
      "cell_type": "markdown",
      "metadata": {
        "id": "dbpU_0D8TQ_M"
      },
      "source": [
        "\n",
        "### Minibatch Stochastic Gradient Descent\n",
        "\n",
        "Even in cases where we cannot solve the models analytically, it turns out that we can still train models effectively in practice. Moreover, for many tasks, those difficult-to-optimize models turn out to be so much better that figuring out how to train them ends up being well worth the trouble.\n",
        "\n",
        "The key technique for optimizing nearly any deep learning model, and which we will call upon throughout this book, consists of iteratively reducing the error by updating the parameters in the direction that incrementally lowers the loss function. This algorithm is called gradient descent.\n",
        "\n",
        "The most naive application of gradient descent consists of taking the derivative of the loss function, which is an average of the losses computed on every single example in the dataset. In practice, this can be extremely slow: we must pass over the entire dataset before making a single update. Thus, we will often settle for sampling a random minibatch of examples every time we need to compute the update, a variant called minibatch stochastic gradient descent.\n",
        "\n",
        "![](https://i.imgur.com/UP5geII.png)\n",
        "\n",
        "#### Calculations watkthrough:\n",
        "\n",
        "![](https://i.imgur.com/tTjHJv9.jpg)\n",
        "\n",
        "![](https://i.imgur.com/XS86Z1v.jpeg)\n",
        "\n",
        "This shows the derivations of the weight vector and bias. pay careful attention to the dimensionalities shown\n",
        "\n",
        "After training for some predetermined number of iterations (or until some other stopping criteria are met), we record the estimated model parameters, denoted $\\hat{\\mathbf{w}}, \\hat{b}$. Note that even if our function is truly linear and noiseless, these parameters will not be the exact minimizers of the loss because, although the algorithm converges slowly towards the minimizers it cannot achieve it exactly in a finite number of steps.\n",
        "\n",
        "Linear regression happens to be a learning problem where there is only one minimum over the entire domain. However, for more complicated models, like deep networks, the loss surfaces contain many minima. Fortunately, __for reasons that are not yet fully understood__, deep learning practitioners seldom struggle to find parameters that minimize the loss on training sets. The more formidable task is to find parameters that will achieve low loss on data that we have not seen before, a challenge called generalization. We return to these topics throughout the book.\n",
        "\n",
        "---\n",
        "\n",
        "Given the learned linear regression model $\\hat{\\mathbf{w}}^\\top \\mathbf{x} + \\hat{b}$ we can now estimate the price of a new house (not contained in the training data) given its area  x1  and age  x2 . Estimating targets given features is commonly called prediction or inference.\n",
        "\n",
        "We will try to stick with prediction because calling this step inference, despite emerging as standard jargon in deep learning, is somewhat of a misnomer. In statistics, inference more often denotes estimating parameters based on a dataset. This misuse of terminology is a common source of confusion when deep learning practitioners talk to statisticians.\n",
        "\n"
      ]
    },
    {
      "cell_type": "markdown",
      "metadata": {
        "id": "6uy6I878hcDe"
      },
      "source": [
        "## Linear Regression from scratch"
      ]
    },
    {
      "cell_type": "code",
      "metadata": {
        "id": "EPmWcRkNAsHt"
      },
      "source": [
        "%matplotlib inline\n",
        "import random\n",
        "import torch\n",
        "from d2l import torch as d2l"
      ],
      "execution_count": 80,
      "outputs": []
    },
    {
      "cell_type": "markdown",
      "metadata": {
        "id": "nz8H7nYshlaA"
      },
      "source": [
        "### Generating the Dataset\n",
        "\n",
        "To keep things simple, we will construct an artificial dataset according to a linear model with additive noise. Our task will be to recover this model’s parameters using the finite set of examples contained in our dataset. We will keep the data low-dimensional so we can visualize it easily. In the following code snippet, we generate a dataset containing 1000 examples, each consisting of 2 features sampled from a standard normal distribution. Thus our synthetic dataset will be a matrix $\\mathbf{X}\\in \\mathbb{R}^{1000 \\times 2}$\n",
        "\n",
        "The true parameters generating our dataset will be $\\mathbf{w} = [2, -3.4]^\\top$\n",
        " and b = 4.2 and our synthetic labels will be assigned according to the following linear model with the noise term $\\epsilon$\n",
        "\n",
        "$\\mathbf{y}= \\mathbf{X} \\mathbf{w} + b + \\mathbf\\epsilon.$\n",
        "\n",
        "You could think of  ϵ  as capturing potential measurement errors on the features and labels. We will assume that the standard assumptions hold and thus that  ϵ  obeys a normal distribution with mean of 0. To make our problem easy, we will set its standard deviation to 0.01. The following code generates our synthetic dataset."
      ]
    },
    {
      "cell_type": "code",
      "metadata": {
        "colab": {
          "base_uri": "https://localhost:8080/"
        },
        "id": "mstUFcuMhjBR",
        "outputId": "bf72e862-284b-42d1-ec06-214476b2c557"
      },
      "source": [
        "def synthetic_data(w, b, num_examples):\n",
        "    \"\"\"\n",
        "    Generate y = Xw + b + noise.\n",
        "    Return features: shape (num_examples, w)\n",
        "    labels : shape (num_examples)\n",
        "    \"\"\"\n",
        "    X = torch.normal(mean=0, std=1, size=(num_examples, len(w)))\n",
        "    print (X.shape)\n",
        "    y = torch.matmul(X, w) + b\n",
        "    print (y.shape)\n",
        "    ### add noise\n",
        "    y += torch.normal(mean=0, std=0.01, size=y.shape)\n",
        "    return X, y.reshape((-1, 1))\n",
        "\n",
        "true_w = torch.tensor([2, -3.4])\n",
        "true_b = 4.2\n",
        "features, labels = synthetic_data(true_w, true_b, 1000)\n",
        "print (features.shape, labels.shape)"
      ],
      "execution_count": 81,
      "outputs": [
        {
          "output_type": "stream",
          "text": [
            "torch.Size([1000, 2])\n",
            "torch.Size([1000])\n",
            "torch.Size([1000, 2]) torch.Size([1000, 1])\n"
          ],
          "name": "stdout"
        }
      ]
    },
    {
      "cell_type": "markdown",
      "metadata": {
        "id": "MMfJfBLevkd_"
      },
      "source": [
        "By generating a scatter plot using the second feature features[:, 1] and labels, we can clearly observe the linear correlation between the two.\n",
        "\n"
      ]
    },
    {
      "cell_type": "code",
      "metadata": {
        "colab": {
          "base_uri": "https://localhost:8080/",
          "height": 244
        },
        "id": "LxKt8BD-qc0L",
        "outputId": "425b8944-5f38-49fc-8ccb-75cbd68d5e9e"
      },
      "source": [
        "d2l.set_figsize()\n",
        "# The semicolon is for displaying the plot only\n",
        "d2l.plt.scatter(features[:, (1)].detach().numpy(),\n",
        "                labels.detach().numpy(), 1);\n"
      ],
      "execution_count": 82,
      "outputs": [
        {
          "output_type": "display_data",
          "data": {
            "text/plain": [
              "<Figure size 252x180 with 1 Axes>"
            ],
            "image/svg+xml": "<?xml version=\"1.0\" encoding=\"utf-8\" standalone=\"no\"?>\n<!DOCTYPE svg PUBLIC \"-//W3C//DTD SVG 1.1//EN\"\n  \"http://www.w3.org/Graphics/SVG/1.1/DTD/svg11.dtd\">\n<!-- Created with matplotlib (https://matplotlib.org/) -->\n<svg height=\"166.978125pt\" version=\"1.1\" viewBox=\"0 0 231.442187 166.978125\" width=\"231.442187pt\" xmlns=\"http://www.w3.org/2000/svg\" xmlns:xlink=\"http://www.w3.org/1999/xlink\">\n <defs>\n  <style type=\"text/css\">\n*{stroke-linecap:butt;stroke-linejoin:round;}\n  </style>\n </defs>\n <g id=\"figure_1\">\n  <g id=\"patch_1\">\n   <path d=\"M 0 166.978125 \nL 231.442187 166.978125 \nL 231.442187 0 \nL 0 0 \nz\n\" style=\"fill:none;\"/>\n  </g>\n  <g id=\"axes_1\">\n   <g id=\"patch_2\">\n    <path d=\"M 28.942188 143.1 \nL 224.242188 143.1 \nL 224.242188 7.2 \nL 28.942188 7.2 \nz\n\" style=\"fill:#ffffff;\"/>\n   </g>\n   <g id=\"PathCollection_1\">\n    <defs>\n     <path d=\"M 0 0.5 \nC 0.132602 0.5 0.25979 0.447317 0.353553 0.353553 \nC 0.447317 0.25979 0.5 0.132602 0.5 0 \nC 0.5 -0.132602 0.447317 -0.25979 0.353553 -0.353553 \nC 0.25979 -0.447317 0.132602 -0.5 0 -0.5 \nC -0.132602 -0.5 -0.25979 -0.447317 -0.353553 -0.353553 \nC -0.447317 -0.25979 -0.5 -0.132602 -0.5 0 \nC -0.5 0.132602 -0.447317 0.25979 -0.353553 0.353553 \nC -0.25979 0.447317 -0.132602 0.5 0 0.5 \nz\n\" id=\"mcaab42a03f\" style=\"stroke:#1f77b4;\"/>\n    </defs>\n    <g clip-path=\"url(#p8b1baee77a)\">\n     <use style=\"fill:#1f77b4;stroke:#1f77b4;\" x=\"96.505948\" xlink:href=\"#mcaab42a03f\" y=\"59.45025\"/>\n     <use style=\"fill:#1f77b4;stroke:#1f77b4;\" x=\"153.5271\" xlink:href=\"#mcaab42a03f\" y=\"82.063001\"/>\n     <use style=\"fill:#1f77b4;stroke:#1f77b4;\" x=\"141.911706\" xlink:href=\"#mcaab42a03f\" y=\"87.445418\"/>\n     <use style=\"fill:#1f77b4;stroke:#1f77b4;\" x=\"111.245181\" xlink:href=\"#mcaab42a03f\" y=\"73.889127\"/>\n     <use style=\"fill:#1f77b4;stroke:#1f77b4;\" x=\"161.836781\" xlink:href=\"#mcaab42a03f\" y=\"119.135473\"/>\n     <use style=\"fill:#1f77b4;stroke:#1f77b4;\" x=\"151.359163\" xlink:href=\"#mcaab42a03f\" y=\"93.515715\"/>\n     <use style=\"fill:#1f77b4;stroke:#1f77b4;\" x=\"148.272674\" xlink:href=\"#mcaab42a03f\" y=\"86.565831\"/>\n     <use style=\"fill:#1f77b4;stroke:#1f77b4;\" x=\"148.246691\" xlink:href=\"#mcaab42a03f\" y=\"100.154762\"/>\n     <use style=\"fill:#1f77b4;stroke:#1f77b4;\" x=\"111.399302\" xlink:href=\"#mcaab42a03f\" y=\"53.865928\"/>\n     <use style=\"fill:#1f77b4;stroke:#1f77b4;\" x=\"142.91243\" xlink:href=\"#mcaab42a03f\" y=\"74.946472\"/>\n     <use style=\"fill:#1f77b4;stroke:#1f77b4;\" x=\"126.490753\" xlink:href=\"#mcaab42a03f\" y=\"73.614646\"/>\n     <use style=\"fill:#1f77b4;stroke:#1f77b4;\" x=\"125.26902\" xlink:href=\"#mcaab42a03f\" y=\"74.077661\"/>\n     <use style=\"fill:#1f77b4;stroke:#1f77b4;\" x=\"149.969531\" xlink:href=\"#mcaab42a03f\" y=\"90.440198\"/>\n     <use style=\"fill:#1f77b4;stroke:#1f77b4;\" x=\"130.389378\" xlink:href=\"#mcaab42a03f\" y=\"72.436397\"/>\n     <use style=\"fill:#1f77b4;stroke:#1f77b4;\" x=\"86.697891\" xlink:href=\"#mcaab42a03f\" y=\"46.454424\"/>\n     <use style=\"fill:#1f77b4;stroke:#1f77b4;\" x=\"94.042107\" xlink:href=\"#mcaab42a03f\" y=\"52.724703\"/>\n     <use style=\"fill:#1f77b4;stroke:#1f77b4;\" x=\"142.877166\" xlink:href=\"#mcaab42a03f\" y=\"95.512099\"/>\n     <use style=\"fill:#1f77b4;stroke:#1f77b4;\" x=\"156.28239\" xlink:href=\"#mcaab42a03f\" y=\"104.930218\"/>\n     <use style=\"fill:#1f77b4;stroke:#1f77b4;\" x=\"145.299403\" xlink:href=\"#mcaab42a03f\" y=\"91.814181\"/>\n     <use style=\"fill:#1f77b4;stroke:#1f77b4;\" x=\"130.587419\" xlink:href=\"#mcaab42a03f\" y=\"73.613096\"/>\n     <use style=\"fill:#1f77b4;stroke:#1f77b4;\" x=\"121.12276\" xlink:href=\"#mcaab42a03f\" y=\"90.065864\"/>\n     <use style=\"fill:#1f77b4;stroke:#1f77b4;\" x=\"134.831394\" xlink:href=\"#mcaab42a03f\" y=\"85.937706\"/>\n     <use style=\"fill:#1f77b4;stroke:#1f77b4;\" x=\"124.511784\" xlink:href=\"#mcaab42a03f\" y=\"82.374194\"/>\n     <use style=\"fill:#1f77b4;stroke:#1f77b4;\" x=\"152.355893\" xlink:href=\"#mcaab42a03f\" y=\"96.66328\"/>\n     <use style=\"fill:#1f77b4;stroke:#1f77b4;\" x=\"176.71034\" xlink:href=\"#mcaab42a03f\" y=\"116.701872\"/>\n     <use style=\"fill:#1f77b4;stroke:#1f77b4;\" x=\"95.66847\" xlink:href=\"#mcaab42a03f\" y=\"52.642117\"/>\n     <use style=\"fill:#1f77b4;stroke:#1f77b4;\" x=\"129.786934\" xlink:href=\"#mcaab42a03f\" y=\"77.389223\"/>\n     <use style=\"fill:#1f77b4;stroke:#1f77b4;\" x=\"144.77803\" xlink:href=\"#mcaab42a03f\" y=\"91.094984\"/>\n     <use style=\"fill:#1f77b4;stroke:#1f77b4;\" x=\"157.218333\" xlink:href=\"#mcaab42a03f\" y=\"94.173384\"/>\n     <use style=\"fill:#1f77b4;stroke:#1f77b4;\" x=\"156.719091\" xlink:href=\"#mcaab42a03f\" y=\"80.505363\"/>\n     <use style=\"fill:#1f77b4;stroke:#1f77b4;\" x=\"149.129078\" xlink:href=\"#mcaab42a03f\" y=\"89.444014\"/>\n     <use style=\"fill:#1f77b4;stroke:#1f77b4;\" x=\"194.899621\" xlink:href=\"#mcaab42a03f\" y=\"96.318812\"/>\n     <use style=\"fill:#1f77b4;stroke:#1f77b4;\" x=\"161.37973\" xlink:href=\"#mcaab42a03f\" y=\"97.705092\"/>\n     <use style=\"fill:#1f77b4;stroke:#1f77b4;\" x=\"75.177108\" xlink:href=\"#mcaab42a03f\" y=\"68.110559\"/>\n     <use style=\"fill:#1f77b4;stroke:#1f77b4;\" x=\"137.072033\" xlink:href=\"#mcaab42a03f\" y=\"90.374618\"/>\n     <use style=\"fill:#1f77b4;stroke:#1f77b4;\" x=\"88.846189\" xlink:href=\"#mcaab42a03f\" y=\"46.587569\"/>\n     <use style=\"fill:#1f77b4;stroke:#1f77b4;\" x=\"163.531009\" xlink:href=\"#mcaab42a03f\" y=\"120.618367\"/>\n     <use style=\"fill:#1f77b4;stroke:#1f77b4;\" x=\"122.407412\" xlink:href=\"#mcaab42a03f\" y=\"54.79773\"/>\n     <use style=\"fill:#1f77b4;stroke:#1f77b4;\" x=\"135.896405\" xlink:href=\"#mcaab42a03f\" y=\"62.949547\"/>\n     <use style=\"fill:#1f77b4;stroke:#1f77b4;\" x=\"97.159461\" xlink:href=\"#mcaab42a03f\" y=\"54.965482\"/>\n     <use style=\"fill:#1f77b4;stroke:#1f77b4;\" x=\"150.680201\" xlink:href=\"#mcaab42a03f\" y=\"93.327643\"/>\n     <use style=\"fill:#1f77b4;stroke:#1f77b4;\" x=\"182.475519\" xlink:href=\"#mcaab42a03f\" y=\"113.09089\"/>\n     <use style=\"fill:#1f77b4;stroke:#1f77b4;\" x=\"147.912668\" xlink:href=\"#mcaab42a03f\" y=\"98.406899\"/>\n     <use style=\"fill:#1f77b4;stroke:#1f77b4;\" x=\"143.191615\" xlink:href=\"#mcaab42a03f\" y=\"98.309935\"/>\n     <use style=\"fill:#1f77b4;stroke:#1f77b4;\" x=\"161.422639\" xlink:href=\"#mcaab42a03f\" y=\"99.911816\"/>\n     <use style=\"fill:#1f77b4;stroke:#1f77b4;\" x=\"136.87755\" xlink:href=\"#mcaab42a03f\" y=\"68.813376\"/>\n     <use style=\"fill:#1f77b4;stroke:#1f77b4;\" x=\"142.383976\" xlink:href=\"#mcaab42a03f\" y=\"90.481624\"/>\n     <use style=\"fill:#1f77b4;stroke:#1f77b4;\" x=\"116.751603\" xlink:href=\"#mcaab42a03f\" y=\"55.240718\"/>\n     <use style=\"fill:#1f77b4;stroke:#1f77b4;\" x=\"95.675851\" xlink:href=\"#mcaab42a03f\" y=\"62.836181\"/>\n     <use style=\"fill:#1f77b4;stroke:#1f77b4;\" x=\"176.758294\" xlink:href=\"#mcaab42a03f\" y=\"110.39689\"/>\n     <use style=\"fill:#1f77b4;stroke:#1f77b4;\" x=\"81.983688\" xlink:href=\"#mcaab42a03f\" y=\"38.814114\"/>\n     <use style=\"fill:#1f77b4;stroke:#1f77b4;\" x=\"136.710735\" xlink:href=\"#mcaab42a03f\" y=\"73.953083\"/>\n     <use style=\"fill:#1f77b4;stroke:#1f77b4;\" x=\"115.671065\" xlink:href=\"#mcaab42a03f\" y=\"75.561929\"/>\n     <use style=\"fill:#1f77b4;stroke:#1f77b4;\" x=\"170.315765\" xlink:href=\"#mcaab42a03f\" y=\"104.979841\"/>\n     <use style=\"fill:#1f77b4;stroke:#1f77b4;\" x=\"114.231458\" xlink:href=\"#mcaab42a03f\" y=\"55.436599\"/>\n     <use style=\"fill:#1f77b4;stroke:#1f77b4;\" x=\"120.92369\" xlink:href=\"#mcaab42a03f\" y=\"65.379566\"/>\n     <use style=\"fill:#1f77b4;stroke:#1f77b4;\" x=\"179.108608\" xlink:href=\"#mcaab42a03f\" y=\"116.911346\"/>\n     <use style=\"fill:#1f77b4;stroke:#1f77b4;\" x=\"96.987306\" xlink:href=\"#mcaab42a03f\" y=\"60.46567\"/>\n     <use style=\"fill:#1f77b4;stroke:#1f77b4;\" x=\"127.811572\" xlink:href=\"#mcaab42a03f\" y=\"88.046379\"/>\n     <use style=\"fill:#1f77b4;stroke:#1f77b4;\" x=\"84.344659\" xlink:href=\"#mcaab42a03f\" y=\"58.561483\"/>\n     <use style=\"fill:#1f77b4;stroke:#1f77b4;\" x=\"138.499261\" xlink:href=\"#mcaab42a03f\" y=\"67.031462\"/>\n     <use style=\"fill:#1f77b4;stroke:#1f77b4;\" x=\"143.542359\" xlink:href=\"#mcaab42a03f\" y=\"87.276551\"/>\n     <use style=\"fill:#1f77b4;stroke:#1f77b4;\" x=\"133.28529\" xlink:href=\"#mcaab42a03f\" y=\"86.282361\"/>\n     <use style=\"fill:#1f77b4;stroke:#1f77b4;\" x=\"158.369137\" xlink:href=\"#mcaab42a03f\" y=\"82.126807\"/>\n     <use style=\"fill:#1f77b4;stroke:#1f77b4;\" x=\"129.560641\" xlink:href=\"#mcaab42a03f\" y=\"79.296698\"/>\n     <use style=\"fill:#1f77b4;stroke:#1f77b4;\" x=\"116.926546\" xlink:href=\"#mcaab42a03f\" y=\"67.733181\"/>\n     <use style=\"fill:#1f77b4;stroke:#1f77b4;\" x=\"139.983309\" xlink:href=\"#mcaab42a03f\" y=\"84.059621\"/>\n     <use style=\"fill:#1f77b4;stroke:#1f77b4;\" x=\"144.580166\" xlink:href=\"#mcaab42a03f\" y=\"94.901647\"/>\n     <use style=\"fill:#1f77b4;stroke:#1f77b4;\" x=\"144.732014\" xlink:href=\"#mcaab42a03f\" y=\"77.235954\"/>\n     <use style=\"fill:#1f77b4;stroke:#1f77b4;\" x=\"151.646789\" xlink:href=\"#mcaab42a03f\" y=\"84.091096\"/>\n     <use style=\"fill:#1f77b4;stroke:#1f77b4;\" x=\"148.330704\" xlink:href=\"#mcaab42a03f\" y=\"86.701124\"/>\n     <use style=\"fill:#1f77b4;stroke:#1f77b4;\" x=\"169.717257\" xlink:href=\"#mcaab42a03f\" y=\"79.656094\"/>\n     <use style=\"fill:#1f77b4;stroke:#1f77b4;\" x=\"100.083348\" xlink:href=\"#mcaab42a03f\" y=\"49.962548\"/>\n     <use style=\"fill:#1f77b4;stroke:#1f77b4;\" x=\"156.121535\" xlink:href=\"#mcaab42a03f\" y=\"98.249865\"/>\n     <use style=\"fill:#1f77b4;stroke:#1f77b4;\" x=\"147.964759\" xlink:href=\"#mcaab42a03f\" y=\"100.760484\"/>\n     <use style=\"fill:#1f77b4;stroke:#1f77b4;\" x=\"172.00601\" xlink:href=\"#mcaab42a03f\" y=\"116.09977\"/>\n     <use style=\"fill:#1f77b4;stroke:#1f77b4;\" x=\"130.767533\" xlink:href=\"#mcaab42a03f\" y=\"69.070696\"/>\n     <use style=\"fill:#1f77b4;stroke:#1f77b4;\" x=\"108.425287\" xlink:href=\"#mcaab42a03f\" y=\"56.869655\"/>\n     <use style=\"fill:#1f77b4;stroke:#1f77b4;\" x=\"129.897836\" xlink:href=\"#mcaab42a03f\" y=\"78.118691\"/>\n     <use style=\"fill:#1f77b4;stroke:#1f77b4;\" x=\"106.78971\" xlink:href=\"#mcaab42a03f\" y=\"59.238258\"/>\n     <use style=\"fill:#1f77b4;stroke:#1f77b4;\" x=\"73.206621\" xlink:href=\"#mcaab42a03f\" y=\"40.687265\"/>\n     <use style=\"fill:#1f77b4;stroke:#1f77b4;\" x=\"116.757053\" xlink:href=\"#mcaab42a03f\" y=\"81.768421\"/>\n     <use style=\"fill:#1f77b4;stroke:#1f77b4;\" x=\"131.755792\" xlink:href=\"#mcaab42a03f\" y=\"84.681377\"/>\n     <use style=\"fill:#1f77b4;stroke:#1f77b4;\" x=\"192.047323\" xlink:href=\"#mcaab42a03f\" y=\"128.508434\"/>\n     <use style=\"fill:#1f77b4;stroke:#1f77b4;\" x=\"98.288702\" xlink:href=\"#mcaab42a03f\" y=\"40.744662\"/>\n     <use style=\"fill:#1f77b4;stroke:#1f77b4;\" x=\"84.699759\" xlink:href=\"#mcaab42a03f\" y=\"43.584344\"/>\n     <use style=\"fill:#1f77b4;stroke:#1f77b4;\" x=\"124.239094\" xlink:href=\"#mcaab42a03f\" y=\"70.181613\"/>\n     <use style=\"fill:#1f77b4;stroke:#1f77b4;\" x=\"133.462007\" xlink:href=\"#mcaab42a03f\" y=\"89.245856\"/>\n     <use style=\"fill:#1f77b4;stroke:#1f77b4;\" x=\"109.463903\" xlink:href=\"#mcaab42a03f\" y=\"42.979367\"/>\n     <use style=\"fill:#1f77b4;stroke:#1f77b4;\" x=\"115.257255\" xlink:href=\"#mcaab42a03f\" y=\"54.693784\"/>\n     <use style=\"fill:#1f77b4;stroke:#1f77b4;\" x=\"169.386684\" xlink:href=\"#mcaab42a03f\" y=\"101.562574\"/>\n     <use style=\"fill:#1f77b4;stroke:#1f77b4;\" x=\"144.492704\" xlink:href=\"#mcaab42a03f\" y=\"111.35456\"/>\n     <use style=\"fill:#1f77b4;stroke:#1f77b4;\" x=\"172.809091\" xlink:href=\"#mcaab42a03f\" y=\"96.031263\"/>\n     <use style=\"fill:#1f77b4;stroke:#1f77b4;\" x=\"124.189524\" xlink:href=\"#mcaab42a03f\" y=\"87.994539\"/>\n     <use style=\"fill:#1f77b4;stroke:#1f77b4;\" x=\"115.418884\" xlink:href=\"#mcaab42a03f\" y=\"51.360283\"/>\n     <use style=\"fill:#1f77b4;stroke:#1f77b4;\" x=\"139.180347\" xlink:href=\"#mcaab42a03f\" y=\"61.765542\"/>\n     <use style=\"fill:#1f77b4;stroke:#1f77b4;\" x=\"146.260458\" xlink:href=\"#mcaab42a03f\" y=\"73.438418\"/>\n     <use style=\"fill:#1f77b4;stroke:#1f77b4;\" x=\"141.420587\" xlink:href=\"#mcaab42a03f\" y=\"76.444654\"/>\n     <use style=\"fill:#1f77b4;stroke:#1f77b4;\" x=\"175.074163\" xlink:href=\"#mcaab42a03f\" y=\"100.113647\"/>\n     <use style=\"fill:#1f77b4;stroke:#1f77b4;\" x=\"112.341875\" xlink:href=\"#mcaab42a03f\" y=\"73.456496\"/>\n     <use style=\"fill:#1f77b4;stroke:#1f77b4;\" x=\"136.802055\" xlink:href=\"#mcaab42a03f\" y=\"68.452488\"/>\n     <use style=\"fill:#1f77b4;stroke:#1f77b4;\" x=\"123.37617\" xlink:href=\"#mcaab42a03f\" y=\"49.240661\"/>\n     <use style=\"fill:#1f77b4;stroke:#1f77b4;\" x=\"130.187416\" xlink:href=\"#mcaab42a03f\" y=\"82.330796\"/>\n     <use style=\"fill:#1f77b4;stroke:#1f77b4;\" x=\"143.247826\" xlink:href=\"#mcaab42a03f\" y=\"82.84362\"/>\n     <use style=\"fill:#1f77b4;stroke:#1f77b4;\" x=\"74.415892\" xlink:href=\"#mcaab42a03f\" y=\"30.302278\"/>\n     <use style=\"fill:#1f77b4;stroke:#1f77b4;\" x=\"189.850088\" xlink:href=\"#mcaab42a03f\" y=\"115.660977\"/>\n     <use style=\"fill:#1f77b4;stroke:#1f77b4;\" x=\"153.703266\" xlink:href=\"#mcaab42a03f\" y=\"85.159713\"/>\n     <use style=\"fill:#1f77b4;stroke:#1f77b4;\" x=\"145.109602\" xlink:href=\"#mcaab42a03f\" y=\"65.61104\"/>\n     <use style=\"fill:#1f77b4;stroke:#1f77b4;\" x=\"170.326361\" xlink:href=\"#mcaab42a03f\" y=\"94.388731\"/>\n     <use style=\"fill:#1f77b4;stroke:#1f77b4;\" x=\"157.622303\" xlink:href=\"#mcaab42a03f\" y=\"102.085349\"/>\n     <use style=\"fill:#1f77b4;stroke:#1f77b4;\" x=\"37.81946\" xlink:href=\"#mcaab42a03f\" y=\"17.522618\"/>\n     <use style=\"fill:#1f77b4;stroke:#1f77b4;\" x=\"132.904706\" xlink:href=\"#mcaab42a03f\" y=\"63.266841\"/>\n     <use style=\"fill:#1f77b4;stroke:#1f77b4;\" x=\"106.557947\" xlink:href=\"#mcaab42a03f\" y=\"54.153696\"/>\n     <use style=\"fill:#1f77b4;stroke:#1f77b4;\" x=\"157.906786\" xlink:href=\"#mcaab42a03f\" y=\"97.289632\"/>\n     <use style=\"fill:#1f77b4;stroke:#1f77b4;\" x=\"100.412509\" xlink:href=\"#mcaab42a03f\" y=\"58.384859\"/>\n     <use style=\"fill:#1f77b4;stroke:#1f77b4;\" x=\"159.337306\" xlink:href=\"#mcaab42a03f\" y=\"83.384367\"/>\n     <use style=\"fill:#1f77b4;stroke:#1f77b4;\" x=\"113.410695\" xlink:href=\"#mcaab42a03f\" y=\"62.013081\"/>\n     <use style=\"fill:#1f77b4;stroke:#1f77b4;\" x=\"112.006994\" xlink:href=\"#mcaab42a03f\" y=\"61.396146\"/>\n     <use style=\"fill:#1f77b4;stroke:#1f77b4;\" x=\"121.768751\" xlink:href=\"#mcaab42a03f\" y=\"77.849643\"/>\n     <use style=\"fill:#1f77b4;stroke:#1f77b4;\" x=\"121.018081\" xlink:href=\"#mcaab42a03f\" y=\"68.608578\"/>\n     <use style=\"fill:#1f77b4;stroke:#1f77b4;\" x=\"158.937964\" xlink:href=\"#mcaab42a03f\" y=\"93.721674\"/>\n     <use style=\"fill:#1f77b4;stroke:#1f77b4;\" x=\"152.330928\" xlink:href=\"#mcaab42a03f\" y=\"104.307481\"/>\n     <use style=\"fill:#1f77b4;stroke:#1f77b4;\" x=\"174.308638\" xlink:href=\"#mcaab42a03f\" y=\"98.299575\"/>\n     <use style=\"fill:#1f77b4;stroke:#1f77b4;\" x=\"138.170382\" xlink:href=\"#mcaab42a03f\" y=\"87.521636\"/>\n     <use style=\"fill:#1f77b4;stroke:#1f77b4;\" x=\"144.627424\" xlink:href=\"#mcaab42a03f\" y=\"75.612328\"/>\n     <use style=\"fill:#1f77b4;stroke:#1f77b4;\" x=\"141.133905\" xlink:href=\"#mcaab42a03f\" y=\"86.487574\"/>\n     <use style=\"fill:#1f77b4;stroke:#1f77b4;\" x=\"152.974867\" xlink:href=\"#mcaab42a03f\" y=\"84.628787\"/>\n     <use style=\"fill:#1f77b4;stroke:#1f77b4;\" x=\"141.184919\" xlink:href=\"#mcaab42a03f\" y=\"87.84689\"/>\n     <use style=\"fill:#1f77b4;stroke:#1f77b4;\" x=\"114.185966\" xlink:href=\"#mcaab42a03f\" y=\"61.755202\"/>\n     <use style=\"fill:#1f77b4;stroke:#1f77b4;\" x=\"102.428783\" xlink:href=\"#mcaab42a03f\" y=\"79.284324\"/>\n     <use style=\"fill:#1f77b4;stroke:#1f77b4;\" x=\"152.900235\" xlink:href=\"#mcaab42a03f\" y=\"84.146655\"/>\n     <use style=\"fill:#1f77b4;stroke:#1f77b4;\" x=\"132.541238\" xlink:href=\"#mcaab42a03f\" y=\"77.670069\"/>\n     <use style=\"fill:#1f77b4;stroke:#1f77b4;\" x=\"164.181319\" xlink:href=\"#mcaab42a03f\" y=\"113.155286\"/>\n     <use style=\"fill:#1f77b4;stroke:#1f77b4;\" x=\"130.205307\" xlink:href=\"#mcaab42a03f\" y=\"69.639339\"/>\n     <use style=\"fill:#1f77b4;stroke:#1f77b4;\" x=\"181.746763\" xlink:href=\"#mcaab42a03f\" y=\"99.881976\"/>\n     <use style=\"fill:#1f77b4;stroke:#1f77b4;\" x=\"124.769846\" xlink:href=\"#mcaab42a03f\" y=\"80.577594\"/>\n     <use style=\"fill:#1f77b4;stroke:#1f77b4;\" x=\"131.72327\" xlink:href=\"#mcaab42a03f\" y=\"87.920481\"/>\n     <use style=\"fill:#1f77b4;stroke:#1f77b4;\" x=\"113.942125\" xlink:href=\"#mcaab42a03f\" y=\"62.286052\"/>\n     <use style=\"fill:#1f77b4;stroke:#1f77b4;\" x=\"88.757567\" xlink:href=\"#mcaab42a03f\" y=\"63.844651\"/>\n     <use style=\"fill:#1f77b4;stroke:#1f77b4;\" x=\"140.071391\" xlink:href=\"#mcaab42a03f\" y=\"65.324842\"/>\n     <use style=\"fill:#1f77b4;stroke:#1f77b4;\" x=\"135.250219\" xlink:href=\"#mcaab42a03f\" y=\"78.31939\"/>\n     <use style=\"fill:#1f77b4;stroke:#1f77b4;\" x=\"112.425112\" xlink:href=\"#mcaab42a03f\" y=\"63.254832\"/>\n     <use style=\"fill:#1f77b4;stroke:#1f77b4;\" x=\"166.224525\" xlink:href=\"#mcaab42a03f\" y=\"109.433852\"/>\n     <use style=\"fill:#1f77b4;stroke:#1f77b4;\" x=\"129.722662\" xlink:href=\"#mcaab42a03f\" y=\"75.486457\"/>\n     <use style=\"fill:#1f77b4;stroke:#1f77b4;\" x=\"135.494068\" xlink:href=\"#mcaab42a03f\" y=\"72.028076\"/>\n     <use style=\"fill:#1f77b4;stroke:#1f77b4;\" x=\"126.399821\" xlink:href=\"#mcaab42a03f\" y=\"82.242559\"/>\n     <use style=\"fill:#1f77b4;stroke:#1f77b4;\" x=\"122.532024\" xlink:href=\"#mcaab42a03f\" y=\"75.797279\"/>\n     <use style=\"fill:#1f77b4;stroke:#1f77b4;\" x=\"108.008836\" xlink:href=\"#mcaab42a03f\" y=\"35.32357\"/>\n     <use style=\"fill:#1f77b4;stroke:#1f77b4;\" x=\"146.602861\" xlink:href=\"#mcaab42a03f\" y=\"80.32055\"/>\n     <use style=\"fill:#1f77b4;stroke:#1f77b4;\" x=\"117.972696\" xlink:href=\"#mcaab42a03f\" y=\"71.087657\"/>\n     <use style=\"fill:#1f77b4;stroke:#1f77b4;\" x=\"120.257225\" xlink:href=\"#mcaab42a03f\" y=\"65.043724\"/>\n     <use style=\"fill:#1f77b4;stroke:#1f77b4;\" x=\"131.602621\" xlink:href=\"#mcaab42a03f\" y=\"90.52501\"/>\n     <use style=\"fill:#1f77b4;stroke:#1f77b4;\" x=\"151.387032\" xlink:href=\"#mcaab42a03f\" y=\"84.947093\"/>\n     <use style=\"fill:#1f77b4;stroke:#1f77b4;\" x=\"97.386734\" xlink:href=\"#mcaab42a03f\" y=\"60.131105\"/>\n     <use style=\"fill:#1f77b4;stroke:#1f77b4;\" x=\"126.003063\" xlink:href=\"#mcaab42a03f\" y=\"65.17512\"/>\n     <use style=\"fill:#1f77b4;stroke:#1f77b4;\" x=\"145.781355\" xlink:href=\"#mcaab42a03f\" y=\"100.547284\"/>\n     <use style=\"fill:#1f77b4;stroke:#1f77b4;\" x=\"152.375681\" xlink:href=\"#mcaab42a03f\" y=\"102.50243\"/>\n     <use style=\"fill:#1f77b4;stroke:#1f77b4;\" x=\"142.313719\" xlink:href=\"#mcaab42a03f\" y=\"75.259888\"/>\n     <use style=\"fill:#1f77b4;stroke:#1f77b4;\" x=\"129.342175\" xlink:href=\"#mcaab42a03f\" y=\"83.864859\"/>\n     <use style=\"fill:#1f77b4;stroke:#1f77b4;\" x=\"144.568168\" xlink:href=\"#mcaab42a03f\" y=\"67.384976\"/>\n     <use style=\"fill:#1f77b4;stroke:#1f77b4;\" x=\"161.456053\" xlink:href=\"#mcaab42a03f\" y=\"99.036087\"/>\n     <use style=\"fill:#1f77b4;stroke:#1f77b4;\" x=\"145.817618\" xlink:href=\"#mcaab42a03f\" y=\"92.730096\"/>\n     <use style=\"fill:#1f77b4;stroke:#1f77b4;\" x=\"142.365075\" xlink:href=\"#mcaab42a03f\" y=\"101.614385\"/>\n     <use style=\"fill:#1f77b4;stroke:#1f77b4;\" x=\"120.677003\" xlink:href=\"#mcaab42a03f\" y=\"55.760577\"/>\n     <use style=\"fill:#1f77b4;stroke:#1f77b4;\" x=\"106.342458\" xlink:href=\"#mcaab42a03f\" y=\"59.969767\"/>\n     <use style=\"fill:#1f77b4;stroke:#1f77b4;\" x=\"121.330102\" xlink:href=\"#mcaab42a03f\" y=\"66.589871\"/>\n     <use style=\"fill:#1f77b4;stroke:#1f77b4;\" x=\"138.185367\" xlink:href=\"#mcaab42a03f\" y=\"86.64267\"/>\n     <use style=\"fill:#1f77b4;stroke:#1f77b4;\" x=\"118.893991\" xlink:href=\"#mcaab42a03f\" y=\"61.466652\"/>\n     <use style=\"fill:#1f77b4;stroke:#1f77b4;\" x=\"138.052361\" xlink:href=\"#mcaab42a03f\" y=\"77.818105\"/>\n     <use style=\"fill:#1f77b4;stroke:#1f77b4;\" x=\"120.052305\" xlink:href=\"#mcaab42a03f\" y=\"69.442743\"/>\n     <use style=\"fill:#1f77b4;stroke:#1f77b4;\" x=\"108.995891\" xlink:href=\"#mcaab42a03f\" y=\"72.950758\"/>\n     <use style=\"fill:#1f77b4;stroke:#1f77b4;\" x=\"182.54611\" xlink:href=\"#mcaab42a03f\" y=\"101.662286\"/>\n     <use style=\"fill:#1f77b4;stroke:#1f77b4;\" x=\"94.301923\" xlink:href=\"#mcaab42a03f\" y=\"51.324126\"/>\n     <use style=\"fill:#1f77b4;stroke:#1f77b4;\" x=\"159.725652\" xlink:href=\"#mcaab42a03f\" y=\"100.850976\"/>\n     <use style=\"fill:#1f77b4;stroke:#1f77b4;\" x=\"150.804006\" xlink:href=\"#mcaab42a03f\" y=\"105.69431\"/>\n     <use style=\"fill:#1f77b4;stroke:#1f77b4;\" x=\"144.828149\" xlink:href=\"#mcaab42a03f\" y=\"74.098388\"/>\n     <use style=\"fill:#1f77b4;stroke:#1f77b4;\" x=\"189.624732\" xlink:href=\"#mcaab42a03f\" y=\"136.538851\"/>\n     <use style=\"fill:#1f77b4;stroke:#1f77b4;\" x=\"140.430524\" xlink:href=\"#mcaab42a03f\" y=\"91.744885\"/>\n     <use style=\"fill:#1f77b4;stroke:#1f77b4;\" x=\"138.563059\" xlink:href=\"#mcaab42a03f\" y=\"75.104075\"/>\n     <use style=\"fill:#1f77b4;stroke:#1f77b4;\" x=\"160.519015\" xlink:href=\"#mcaab42a03f\" y=\"122.504864\"/>\n     <use style=\"fill:#1f77b4;stroke:#1f77b4;\" x=\"143.41948\" xlink:href=\"#mcaab42a03f\" y=\"86.183142\"/>\n     <use style=\"fill:#1f77b4;stroke:#1f77b4;\" x=\"161.863086\" xlink:href=\"#mcaab42a03f\" y=\"95.913953\"/>\n     <use style=\"fill:#1f77b4;stroke:#1f77b4;\" x=\"134.893646\" xlink:href=\"#mcaab42a03f\" y=\"78.96047\"/>\n     <use style=\"fill:#1f77b4;stroke:#1f77b4;\" x=\"96.694625\" xlink:href=\"#mcaab42a03f\" y=\"75.045897\"/>\n     <use style=\"fill:#1f77b4;stroke:#1f77b4;\" x=\"198.629885\" xlink:href=\"#mcaab42a03f\" y=\"129.892123\"/>\n     <use style=\"fill:#1f77b4;stroke:#1f77b4;\" x=\"176.179628\" xlink:href=\"#mcaab42a03f\" y=\"109.990649\"/>\n     <use style=\"fill:#1f77b4;stroke:#1f77b4;\" x=\"124.79261\" xlink:href=\"#mcaab42a03f\" y=\"85.48068\"/>\n     <use style=\"fill:#1f77b4;stroke:#1f77b4;\" x=\"153.680807\" xlink:href=\"#mcaab42a03f\" y=\"89.216422\"/>\n     <use style=\"fill:#1f77b4;stroke:#1f77b4;\" x=\"143.591573\" xlink:href=\"#mcaab42a03f\" y=\"88.554966\"/>\n     <use style=\"fill:#1f77b4;stroke:#1f77b4;\" x=\"117.310242\" xlink:href=\"#mcaab42a03f\" y=\"70.780735\"/>\n     <use style=\"fill:#1f77b4;stroke:#1f77b4;\" x=\"136.416736\" xlink:href=\"#mcaab42a03f\" y=\"82.391292\"/>\n     <use style=\"fill:#1f77b4;stroke:#1f77b4;\" x=\"124.44781\" xlink:href=\"#mcaab42a03f\" y=\"71.631127\"/>\n     <use style=\"fill:#1f77b4;stroke:#1f77b4;\" x=\"125.485447\" xlink:href=\"#mcaab42a03f\" y=\"64.638303\"/>\n     <use style=\"fill:#1f77b4;stroke:#1f77b4;\" x=\"149.964569\" xlink:href=\"#mcaab42a03f\" y=\"85.939272\"/>\n     <use style=\"fill:#1f77b4;stroke:#1f77b4;\" x=\"160.29688\" xlink:href=\"#mcaab42a03f\" y=\"112.781657\"/>\n     <use style=\"fill:#1f77b4;stroke:#1f77b4;\" x=\"129.483892\" xlink:href=\"#mcaab42a03f\" y=\"71.549107\"/>\n     <use style=\"fill:#1f77b4;stroke:#1f77b4;\" x=\"146.955024\" xlink:href=\"#mcaab42a03f\" y=\"84.446399\"/>\n     <use style=\"fill:#1f77b4;stroke:#1f77b4;\" x=\"121.524794\" xlink:href=\"#mcaab42a03f\" y=\"67.279338\"/>\n     <use style=\"fill:#1f77b4;stroke:#1f77b4;\" x=\"136.91132\" xlink:href=\"#mcaab42a03f\" y=\"86.018517\"/>\n     <use style=\"fill:#1f77b4;stroke:#1f77b4;\" x=\"133.647562\" xlink:href=\"#mcaab42a03f\" y=\"77.915963\"/>\n     <use style=\"fill:#1f77b4;stroke:#1f77b4;\" x=\"149.206433\" xlink:href=\"#mcaab42a03f\" y=\"81.623434\"/>\n     <use style=\"fill:#1f77b4;stroke:#1f77b4;\" x=\"172.476548\" xlink:href=\"#mcaab42a03f\" y=\"96.867453\"/>\n     <use style=\"fill:#1f77b4;stroke:#1f77b4;\" x=\"122.216066\" xlink:href=\"#mcaab42a03f\" y=\"68.897318\"/>\n     <use style=\"fill:#1f77b4;stroke:#1f77b4;\" x=\"91.849551\" xlink:href=\"#mcaab42a03f\" y=\"32.231971\"/>\n     <use style=\"fill:#1f77b4;stroke:#1f77b4;\" x=\"110.691103\" xlink:href=\"#mcaab42a03f\" y=\"55.527514\"/>\n     <use style=\"fill:#1f77b4;stroke:#1f77b4;\" x=\"172.298239\" xlink:href=\"#mcaab42a03f\" y=\"99.568214\"/>\n     <use style=\"fill:#1f77b4;stroke:#1f77b4;\" x=\"88.274841\" xlink:href=\"#mcaab42a03f\" y=\"36.777306\"/>\n     <use style=\"fill:#1f77b4;stroke:#1f77b4;\" x=\"116.657492\" xlink:href=\"#mcaab42a03f\" y=\"57.625537\"/>\n     <use style=\"fill:#1f77b4;stroke:#1f77b4;\" x=\"196.95806\" xlink:href=\"#mcaab42a03f\" y=\"128.690156\"/>\n     <use style=\"fill:#1f77b4;stroke:#1f77b4;\" x=\"139.061038\" xlink:href=\"#mcaab42a03f\" y=\"103.302296\"/>\n     <use style=\"fill:#1f77b4;stroke:#1f77b4;\" x=\"147.017833\" xlink:href=\"#mcaab42a03f\" y=\"80.012958\"/>\n     <use style=\"fill:#1f77b4;stroke:#1f77b4;\" x=\"126.082188\" xlink:href=\"#mcaab42a03f\" y=\"77.693803\"/>\n     <use style=\"fill:#1f77b4;stroke:#1f77b4;\" x=\"145.468803\" xlink:href=\"#mcaab42a03f\" y=\"102.33193\"/>\n     <use style=\"fill:#1f77b4;stroke:#1f77b4;\" x=\"143.419525\" xlink:href=\"#mcaab42a03f\" y=\"70.508477\"/>\n     <use style=\"fill:#1f77b4;stroke:#1f77b4;\" x=\"179.571908\" xlink:href=\"#mcaab42a03f\" y=\"117.675467\"/>\n     <use style=\"fill:#1f77b4;stroke:#1f77b4;\" x=\"152.663198\" xlink:href=\"#mcaab42a03f\" y=\"86.537798\"/>\n     <use style=\"fill:#1f77b4;stroke:#1f77b4;\" x=\"122.016878\" xlink:href=\"#mcaab42a03f\" y=\"75.604026\"/>\n     <use style=\"fill:#1f77b4;stroke:#1f77b4;\" x=\"159.719484\" xlink:href=\"#mcaab42a03f\" y=\"89.146393\"/>\n     <use style=\"fill:#1f77b4;stroke:#1f77b4;\" x=\"149.233933\" xlink:href=\"#mcaab42a03f\" y=\"91.532353\"/>\n     <use style=\"fill:#1f77b4;stroke:#1f77b4;\" x=\"144.176672\" xlink:href=\"#mcaab42a03f\" y=\"82.771671\"/>\n     <use style=\"fill:#1f77b4;stroke:#1f77b4;\" x=\"127.708788\" xlink:href=\"#mcaab42a03f\" y=\"83.163506\"/>\n     <use style=\"fill:#1f77b4;stroke:#1f77b4;\" x=\"101.857378\" xlink:href=\"#mcaab42a03f\" y=\"60.753603\"/>\n     <use style=\"fill:#1f77b4;stroke:#1f77b4;\" x=\"170.324774\" xlink:href=\"#mcaab42a03f\" y=\"99.089956\"/>\n     <use style=\"fill:#1f77b4;stroke:#1f77b4;\" x=\"93.031206\" xlink:href=\"#mcaab42a03f\" y=\"51.772852\"/>\n     <use style=\"fill:#1f77b4;stroke:#1f77b4;\" x=\"139.037492\" xlink:href=\"#mcaab42a03f\" y=\"87.873708\"/>\n     <use style=\"fill:#1f77b4;stroke:#1f77b4;\" x=\"136.033786\" xlink:href=\"#mcaab42a03f\" y=\"94.539475\"/>\n     <use style=\"fill:#1f77b4;stroke:#1f77b4;\" x=\"113.175944\" xlink:href=\"#mcaab42a03f\" y=\"71.126865\"/>\n     <use style=\"fill:#1f77b4;stroke:#1f77b4;\" x=\"178.72794\" xlink:href=\"#mcaab42a03f\" y=\"123.30406\"/>\n     <use style=\"fill:#1f77b4;stroke:#1f77b4;\" x=\"138.694182\" xlink:href=\"#mcaab42a03f\" y=\"94.953861\"/>\n     <use style=\"fill:#1f77b4;stroke:#1f77b4;\" x=\"155.789587\" xlink:href=\"#mcaab42a03f\" y=\"101.166173\"/>\n     <use style=\"fill:#1f77b4;stroke:#1f77b4;\" x=\"101.470478\" xlink:href=\"#mcaab42a03f\" y=\"38.705152\"/>\n     <use style=\"fill:#1f77b4;stroke:#1f77b4;\" x=\"142.913847\" xlink:href=\"#mcaab42a03f\" y=\"81.955549\"/>\n     <use style=\"fill:#1f77b4;stroke:#1f77b4;\" x=\"125.883626\" xlink:href=\"#mcaab42a03f\" y=\"82.195374\"/>\n     <use style=\"fill:#1f77b4;stroke:#1f77b4;\" x=\"111.45281\" xlink:href=\"#mcaab42a03f\" y=\"47.471052\"/>\n     <use style=\"fill:#1f77b4;stroke:#1f77b4;\" x=\"131.229488\" xlink:href=\"#mcaab42a03f\" y=\"70.967938\"/>\n     <use style=\"fill:#1f77b4;stroke:#1f77b4;\" x=\"114.369294\" xlink:href=\"#mcaab42a03f\" y=\"77.589429\"/>\n     <use style=\"fill:#1f77b4;stroke:#1f77b4;\" x=\"107.531811\" xlink:href=\"#mcaab42a03f\" y=\"60.882791\"/>\n     <use style=\"fill:#1f77b4;stroke:#1f77b4;\" x=\"138.232352\" xlink:href=\"#mcaab42a03f\" y=\"75.746606\"/>\n     <use style=\"fill:#1f77b4;stroke:#1f77b4;\" x=\"155.30036\" xlink:href=\"#mcaab42a03f\" y=\"88.292344\"/>\n     <use style=\"fill:#1f77b4;stroke:#1f77b4;\" x=\"134.71422\" xlink:href=\"#mcaab42a03f\" y=\"90.677812\"/>\n     <use style=\"fill:#1f77b4;stroke:#1f77b4;\" x=\"118.49611\" xlink:href=\"#mcaab42a03f\" y=\"68.432515\"/>\n     <use style=\"fill:#1f77b4;stroke:#1f77b4;\" x=\"163.849681\" xlink:href=\"#mcaab42a03f\" y=\"85.156404\"/>\n     <use style=\"fill:#1f77b4;stroke:#1f77b4;\" x=\"120.777571\" xlink:href=\"#mcaab42a03f\" y=\"73.897586\"/>\n     <use style=\"fill:#1f77b4;stroke:#1f77b4;\" x=\"139.453521\" xlink:href=\"#mcaab42a03f\" y=\"91.789419\"/>\n     <use style=\"fill:#1f77b4;stroke:#1f77b4;\" x=\"117.731963\" xlink:href=\"#mcaab42a03f\" y=\"60.587052\"/>\n     <use style=\"fill:#1f77b4;stroke:#1f77b4;\" x=\"109.884258\" xlink:href=\"#mcaab42a03f\" y=\"79.160759\"/>\n     <use style=\"fill:#1f77b4;stroke:#1f77b4;\" x=\"148.281628\" xlink:href=\"#mcaab42a03f\" y=\"77.435222\"/>\n     <use style=\"fill:#1f77b4;stroke:#1f77b4;\" x=\"134.92645\" xlink:href=\"#mcaab42a03f\" y=\"70.227058\"/>\n     <use style=\"fill:#1f77b4;stroke:#1f77b4;\" x=\"134.953944\" xlink:href=\"#mcaab42a03f\" y=\"81.870696\"/>\n     <use style=\"fill:#1f77b4;stroke:#1f77b4;\" x=\"143.136686\" xlink:href=\"#mcaab42a03f\" y=\"79.832777\"/>\n     <use style=\"fill:#1f77b4;stroke:#1f77b4;\" x=\"152.61368\" xlink:href=\"#mcaab42a03f\" y=\"110.241352\"/>\n     <use style=\"fill:#1f77b4;stroke:#1f77b4;\" x=\"145.972208\" xlink:href=\"#mcaab42a03f\" y=\"85.865205\"/>\n     <use style=\"fill:#1f77b4;stroke:#1f77b4;\" x=\"111.698253\" xlink:href=\"#mcaab42a03f\" y=\"62.43453\"/>\n     <use style=\"fill:#1f77b4;stroke:#1f77b4;\" x=\"102.517828\" xlink:href=\"#mcaab42a03f\" y=\"60.870823\"/>\n     <use style=\"fill:#1f77b4;stroke:#1f77b4;\" x=\"119.447098\" xlink:href=\"#mcaab42a03f\" y=\"73.652861\"/>\n     <use style=\"fill:#1f77b4;stroke:#1f77b4;\" x=\"138.489558\" xlink:href=\"#mcaab42a03f\" y=\"74.860985\"/>\n     <use style=\"fill:#1f77b4;stroke:#1f77b4;\" x=\"113.178021\" xlink:href=\"#mcaab42a03f\" y=\"48.611704\"/>\n     <use style=\"fill:#1f77b4;stroke:#1f77b4;\" x=\"104.462459\" xlink:href=\"#mcaab42a03f\" y=\"66.71409\"/>\n     <use style=\"fill:#1f77b4;stroke:#1f77b4;\" x=\"122.669483\" xlink:href=\"#mcaab42a03f\" y=\"64.195806\"/>\n     <use style=\"fill:#1f77b4;stroke:#1f77b4;\" x=\"140.823881\" xlink:href=\"#mcaab42a03f\" y=\"69.288646\"/>\n     <use style=\"fill:#1f77b4;stroke:#1f77b4;\" x=\"122.960026\" xlink:href=\"#mcaab42a03f\" y=\"85.223942\"/>\n     <use style=\"fill:#1f77b4;stroke:#1f77b4;\" x=\"192.556957\" xlink:href=\"#mcaab42a03f\" y=\"99.668601\"/>\n     <use style=\"fill:#1f77b4;stroke:#1f77b4;\" x=\"118.658673\" xlink:href=\"#mcaab42a03f\" y=\"85.029267\"/>\n     <use style=\"fill:#1f77b4;stroke:#1f77b4;\" x=\"154.669212\" xlink:href=\"#mcaab42a03f\" y=\"107.486816\"/>\n     <use style=\"fill:#1f77b4;stroke:#1f77b4;\" x=\"133.954405\" xlink:href=\"#mcaab42a03f\" y=\"80.648529\"/>\n     <use style=\"fill:#1f77b4;stroke:#1f77b4;\" x=\"135.047159\" xlink:href=\"#mcaab42a03f\" y=\"86.532901\"/>\n     <use style=\"fill:#1f77b4;stroke:#1f77b4;\" x=\"147.442751\" xlink:href=\"#mcaab42a03f\" y=\"95.909236\"/>\n     <use style=\"fill:#1f77b4;stroke:#1f77b4;\" x=\"147.015529\" xlink:href=\"#mcaab42a03f\" y=\"85.870288\"/>\n     <use style=\"fill:#1f77b4;stroke:#1f77b4;\" x=\"155.764301\" xlink:href=\"#mcaab42a03f\" y=\"92.18164\"/>\n     <use style=\"fill:#1f77b4;stroke:#1f77b4;\" x=\"160.947408\" xlink:href=\"#mcaab42a03f\" y=\"89.232622\"/>\n     <use style=\"fill:#1f77b4;stroke:#1f77b4;\" x=\"126.852255\" xlink:href=\"#mcaab42a03f\" y=\"88.447347\"/>\n     <use style=\"fill:#1f77b4;stroke:#1f77b4;\" x=\"136.746476\" xlink:href=\"#mcaab42a03f\" y=\"98.839871\"/>\n     <use style=\"fill:#1f77b4;stroke:#1f77b4;\" x=\"101.974192\" xlink:href=\"#mcaab42a03f\" y=\"58.967002\"/>\n     <use style=\"fill:#1f77b4;stroke:#1f77b4;\" x=\"103.815286\" xlink:href=\"#mcaab42a03f\" y=\"56.191781\"/>\n     <use style=\"fill:#1f77b4;stroke:#1f77b4;\" x=\"130.344737\" xlink:href=\"#mcaab42a03f\" y=\"86.217424\"/>\n     <use style=\"fill:#1f77b4;stroke:#1f77b4;\" x=\"125.68329\" xlink:href=\"#mcaab42a03f\" y=\"69.305876\"/>\n     <use style=\"fill:#1f77b4;stroke:#1f77b4;\" x=\"159.977986\" xlink:href=\"#mcaab42a03f\" y=\"102.100097\"/>\n     <use style=\"fill:#1f77b4;stroke:#1f77b4;\" x=\"141.064891\" xlink:href=\"#mcaab42a03f\" y=\"107.433516\"/>\n     <use style=\"fill:#1f77b4;stroke:#1f77b4;\" x=\"137.233564\" xlink:href=\"#mcaab42a03f\" y=\"77.886811\"/>\n     <use style=\"fill:#1f77b4;stroke:#1f77b4;\" x=\"149.421697\" xlink:href=\"#mcaab42a03f\" y=\"83.18619\"/>\n     <use style=\"fill:#1f77b4;stroke:#1f77b4;\" x=\"123.832056\" xlink:href=\"#mcaab42a03f\" y=\"55.942435\"/>\n     <use style=\"fill:#1f77b4;stroke:#1f77b4;\" x=\"112.305159\" xlink:href=\"#mcaab42a03f\" y=\"62.191996\"/>\n     <use style=\"fill:#1f77b4;stroke:#1f77b4;\" x=\"110.224755\" xlink:href=\"#mcaab42a03f\" y=\"66.39054\"/>\n     <use style=\"fill:#1f77b4;stroke:#1f77b4;\" x=\"215.364915\" xlink:href=\"#mcaab42a03f\" y=\"120.403712\"/>\n     <use style=\"fill:#1f77b4;stroke:#1f77b4;\" x=\"115.982635\" xlink:href=\"#mcaab42a03f\" y=\"63.417956\"/>\n     <use style=\"fill:#1f77b4;stroke:#1f77b4;\" x=\"146.607958\" xlink:href=\"#mcaab42a03f\" y=\"95.147225\"/>\n     <use style=\"fill:#1f77b4;stroke:#1f77b4;\" x=\"117.599868\" xlink:href=\"#mcaab42a03f\" y=\"57.926774\"/>\n     <use style=\"fill:#1f77b4;stroke:#1f77b4;\" x=\"106.61643\" xlink:href=\"#mcaab42a03f\" y=\"53.963582\"/>\n     <use style=\"fill:#1f77b4;stroke:#1f77b4;\" x=\"118.929807\" xlink:href=\"#mcaab42a03f\" y=\"72.408935\"/>\n     <use style=\"fill:#1f77b4;stroke:#1f77b4;\" x=\"168.20861\" xlink:href=\"#mcaab42a03f\" y=\"112.359731\"/>\n     <use style=\"fill:#1f77b4;stroke:#1f77b4;\" x=\"124.222797\" xlink:href=\"#mcaab42a03f\" y=\"62.18637\"/>\n     <use style=\"fill:#1f77b4;stroke:#1f77b4;\" x=\"179.000281\" xlink:href=\"#mcaab42a03f\" y=\"112.029931\"/>\n     <use style=\"fill:#1f77b4;stroke:#1f77b4;\" x=\"164.665652\" xlink:href=\"#mcaab42a03f\" y=\"111.053746\"/>\n     <use style=\"fill:#1f77b4;stroke:#1f77b4;\" x=\"144.557254\" xlink:href=\"#mcaab42a03f\" y=\"80.18186\"/>\n     <use style=\"fill:#1f77b4;stroke:#1f77b4;\" x=\"119.650231\" xlink:href=\"#mcaab42a03f\" y=\"62.607763\"/>\n     <use style=\"fill:#1f77b4;stroke:#1f77b4;\" x=\"144.920547\" xlink:href=\"#mcaab42a03f\" y=\"87.260492\"/>\n     <use style=\"fill:#1f77b4;stroke:#1f77b4;\" x=\"167.661828\" xlink:href=\"#mcaab42a03f\" y=\"105.223655\"/>\n     <use style=\"fill:#1f77b4;stroke:#1f77b4;\" x=\"99.5544\" xlink:href=\"#mcaab42a03f\" y=\"47.370891\"/>\n     <use style=\"fill:#1f77b4;stroke:#1f77b4;\" x=\"154.282161\" xlink:href=\"#mcaab42a03f\" y=\"98.212129\"/>\n     <use style=\"fill:#1f77b4;stroke:#1f77b4;\" x=\"116.95958\" xlink:href=\"#mcaab42a03f\" y=\"71.742243\"/>\n     <use style=\"fill:#1f77b4;stroke:#1f77b4;\" x=\"115.50402\" xlink:href=\"#mcaab42a03f\" y=\"69.271252\"/>\n     <use style=\"fill:#1f77b4;stroke:#1f77b4;\" x=\"125.379907\" xlink:href=\"#mcaab42a03f\" y=\"64.802408\"/>\n     <use style=\"fill:#1f77b4;stroke:#1f77b4;\" x=\"131.591369\" xlink:href=\"#mcaab42a03f\" y=\"97.612124\"/>\n     <use style=\"fill:#1f77b4;stroke:#1f77b4;\" x=\"124.879355\" xlink:href=\"#mcaab42a03f\" y=\"73.166751\"/>\n     <use style=\"fill:#1f77b4;stroke:#1f77b4;\" x=\"185.741511\" xlink:href=\"#mcaab42a03f\" y=\"118.155061\"/>\n     <use style=\"fill:#1f77b4;stroke:#1f77b4;\" x=\"149.352352\" xlink:href=\"#mcaab42a03f\" y=\"85.373779\"/>\n     <use style=\"fill:#1f77b4;stroke:#1f77b4;\" x=\"131.563738\" xlink:href=\"#mcaab42a03f\" y=\"80.760624\"/>\n     <use style=\"fill:#1f77b4;stroke:#1f77b4;\" x=\"135.935326\" xlink:href=\"#mcaab42a03f\" y=\"85.547141\"/>\n     <use style=\"fill:#1f77b4;stroke:#1f77b4;\" x=\"144.239846\" xlink:href=\"#mcaab42a03f\" y=\"70.737029\"/>\n     <use style=\"fill:#1f77b4;stroke:#1f77b4;\" x=\"111.768616\" xlink:href=\"#mcaab42a03f\" y=\"73.699463\"/>\n     <use style=\"fill:#1f77b4;stroke:#1f77b4;\" x=\"118.543394\" xlink:href=\"#mcaab42a03f\" y=\"60.517593\"/>\n     <use style=\"fill:#1f77b4;stroke:#1f77b4;\" x=\"180.71039\" xlink:href=\"#mcaab42a03f\" y=\"103.613411\"/>\n     <use style=\"fill:#1f77b4;stroke:#1f77b4;\" x=\"137.761212\" xlink:href=\"#mcaab42a03f\" y=\"83.532965\"/>\n     <use style=\"fill:#1f77b4;stroke:#1f77b4;\" x=\"127.405052\" xlink:href=\"#mcaab42a03f\" y=\"70.405289\"/>\n     <use style=\"fill:#1f77b4;stroke:#1f77b4;\" x=\"178.242764\" xlink:href=\"#mcaab42a03f\" y=\"102.018891\"/>\n     <use style=\"fill:#1f77b4;stroke:#1f77b4;\" x=\"101.554233\" xlink:href=\"#mcaab42a03f\" y=\"25.646345\"/>\n     <use style=\"fill:#1f77b4;stroke:#1f77b4;\" x=\"164.627416\" xlink:href=\"#mcaab42a03f\" y=\"115.296052\"/>\n     <use style=\"fill:#1f77b4;stroke:#1f77b4;\" x=\"144.101732\" xlink:href=\"#mcaab42a03f\" y=\"82.417874\"/>\n     <use style=\"fill:#1f77b4;stroke:#1f77b4;\" x=\"132.623817\" xlink:href=\"#mcaab42a03f\" y=\"66.027526\"/>\n     <use style=\"fill:#1f77b4;stroke:#1f77b4;\" x=\"150.463767\" xlink:href=\"#mcaab42a03f\" y=\"88.106015\"/>\n     <use style=\"fill:#1f77b4;stroke:#1f77b4;\" x=\"141.266801\" xlink:href=\"#mcaab42a03f\" y=\"91.721141\"/>\n     <use style=\"fill:#1f77b4;stroke:#1f77b4;\" x=\"141.045486\" xlink:href=\"#mcaab42a03f\" y=\"83.193694\"/>\n     <use style=\"fill:#1f77b4;stroke:#1f77b4;\" x=\"150.417131\" xlink:href=\"#mcaab42a03f\" y=\"88.5446\"/>\n     <use style=\"fill:#1f77b4;stroke:#1f77b4;\" x=\"142.612685\" xlink:href=\"#mcaab42a03f\" y=\"78.962348\"/>\n     <use style=\"fill:#1f77b4;stroke:#1f77b4;\" x=\"104.893593\" xlink:href=\"#mcaab42a03f\" y=\"44.299477\"/>\n     <use style=\"fill:#1f77b4;stroke:#1f77b4;\" x=\"117.646217\" xlink:href=\"#mcaab42a03f\" y=\"74.096949\"/>\n     <use style=\"fill:#1f77b4;stroke:#1f77b4;\" x=\"137.361446\" xlink:href=\"#mcaab42a03f\" y=\"82.344098\"/>\n     <use style=\"fill:#1f77b4;stroke:#1f77b4;\" x=\"126.949328\" xlink:href=\"#mcaab42a03f\" y=\"75.141923\"/>\n     <use style=\"fill:#1f77b4;stroke:#1f77b4;\" x=\"137.815669\" xlink:href=\"#mcaab42a03f\" y=\"88.092182\"/>\n     <use style=\"fill:#1f77b4;stroke:#1f77b4;\" x=\"152.46817\" xlink:href=\"#mcaab42a03f\" y=\"90.870472\"/>\n     <use style=\"fill:#1f77b4;stroke:#1f77b4;\" x=\"152.757319\" xlink:href=\"#mcaab42a03f\" y=\"90.492153\"/>\n     <use style=\"fill:#1f77b4;stroke:#1f77b4;\" x=\"131.447242\" xlink:href=\"#mcaab42a03f\" y=\"58.002868\"/>\n     <use style=\"fill:#1f77b4;stroke:#1f77b4;\" x=\"105.782834\" xlink:href=\"#mcaab42a03f\" y=\"51.82639\"/>\n     <use style=\"fill:#1f77b4;stroke:#1f77b4;\" x=\"126.101429\" xlink:href=\"#mcaab42a03f\" y=\"78.352967\"/>\n     <use style=\"fill:#1f77b4;stroke:#1f77b4;\" x=\"144.13863\" xlink:href=\"#mcaab42a03f\" y=\"92.759338\"/>\n     <use style=\"fill:#1f77b4;stroke:#1f77b4;\" x=\"104.258777\" xlink:href=\"#mcaab42a03f\" y=\"71.239369\"/>\n     <use style=\"fill:#1f77b4;stroke:#1f77b4;\" x=\"166.140666\" xlink:href=\"#mcaab42a03f\" y=\"113.070012\"/>\n     <use style=\"fill:#1f77b4;stroke:#1f77b4;\" x=\"146.929744\" xlink:href=\"#mcaab42a03f\" y=\"90.348886\"/>\n     <use style=\"fill:#1f77b4;stroke:#1f77b4;\" x=\"151.540637\" xlink:href=\"#mcaab42a03f\" y=\"103.668455\"/>\n     <use style=\"fill:#1f77b4;stroke:#1f77b4;\" x=\"131.694341\" xlink:href=\"#mcaab42a03f\" y=\"93.132281\"/>\n     <use style=\"fill:#1f77b4;stroke:#1f77b4;\" x=\"128.250562\" xlink:href=\"#mcaab42a03f\" y=\"62.171654\"/>\n     <use style=\"fill:#1f77b4;stroke:#1f77b4;\" x=\"93.43317\" xlink:href=\"#mcaab42a03f\" y=\"47.054085\"/>\n     <use style=\"fill:#1f77b4;stroke:#1f77b4;\" x=\"127.539216\" xlink:href=\"#mcaab42a03f\" y=\"74.832207\"/>\n     <use style=\"fill:#1f77b4;stroke:#1f77b4;\" x=\"141.855256\" xlink:href=\"#mcaab42a03f\" y=\"102.539062\"/>\n     <use style=\"fill:#1f77b4;stroke:#1f77b4;\" x=\"139.625973\" xlink:href=\"#mcaab42a03f\" y=\"62.134775\"/>\n     <use style=\"fill:#1f77b4;stroke:#1f77b4;\" x=\"109.338064\" xlink:href=\"#mcaab42a03f\" y=\"50.318805\"/>\n     <use style=\"fill:#1f77b4;stroke:#1f77b4;\" x=\"165.58223\" xlink:href=\"#mcaab42a03f\" y=\"102.574166\"/>\n     <use style=\"fill:#1f77b4;stroke:#1f77b4;\" x=\"125.009293\" xlink:href=\"#mcaab42a03f\" y=\"80.551422\"/>\n     <use style=\"fill:#1f77b4;stroke:#1f77b4;\" x=\"115.233423\" xlink:href=\"#mcaab42a03f\" y=\"75.112404\"/>\n     <use style=\"fill:#1f77b4;stroke:#1f77b4;\" x=\"162.589034\" xlink:href=\"#mcaab42a03f\" y=\"112.80079\"/>\n     <use style=\"fill:#1f77b4;stroke:#1f77b4;\" x=\"139.741963\" xlink:href=\"#mcaab42a03f\" y=\"80.829456\"/>\n     <use style=\"fill:#1f77b4;stroke:#1f77b4;\" x=\"123.590407\" xlink:href=\"#mcaab42a03f\" y=\"49.181166\"/>\n     <use style=\"fill:#1f77b4;stroke:#1f77b4;\" x=\"116.293174\" xlink:href=\"#mcaab42a03f\" y=\"65.194377\"/>\n     <use style=\"fill:#1f77b4;stroke:#1f77b4;\" x=\"141.584302\" xlink:href=\"#mcaab42a03f\" y=\"81.404101\"/>\n     <use style=\"fill:#1f77b4;stroke:#1f77b4;\" x=\"106.411072\" xlink:href=\"#mcaab42a03f\" y=\"55.142777\"/>\n     <use style=\"fill:#1f77b4;stroke:#1f77b4;\" x=\"98.170887\" xlink:href=\"#mcaab42a03f\" y=\"65.410992\"/>\n     <use style=\"fill:#1f77b4;stroke:#1f77b4;\" x=\"83.874697\" xlink:href=\"#mcaab42a03f\" y=\"52.598837\"/>\n     <use style=\"fill:#1f77b4;stroke:#1f77b4;\" x=\"111.207547\" xlink:href=\"#mcaab42a03f\" y=\"53.133477\"/>\n     <use style=\"fill:#1f77b4;stroke:#1f77b4;\" x=\"168.2962\" xlink:href=\"#mcaab42a03f\" y=\"98.853338\"/>\n     <use style=\"fill:#1f77b4;stroke:#1f77b4;\" x=\"105.50279\" xlink:href=\"#mcaab42a03f\" y=\"61.62971\"/>\n     <use style=\"fill:#1f77b4;stroke:#1f77b4;\" x=\"143.134145\" xlink:href=\"#mcaab42a03f\" y=\"90.067774\"/>\n     <use style=\"fill:#1f77b4;stroke:#1f77b4;\" x=\"144.791545\" xlink:href=\"#mcaab42a03f\" y=\"108.821345\"/>\n     <use style=\"fill:#1f77b4;stroke:#1f77b4;\" x=\"142.791161\" xlink:href=\"#mcaab42a03f\" y=\"78.358805\"/>\n     <use style=\"fill:#1f77b4;stroke:#1f77b4;\" x=\"128.290232\" xlink:href=\"#mcaab42a03f\" y=\"76.901668\"/>\n     <use style=\"fill:#1f77b4;stroke:#1f77b4;\" x=\"114.491792\" xlink:href=\"#mcaab42a03f\" y=\"62.250602\"/>\n     <use style=\"fill:#1f77b4;stroke:#1f77b4;\" x=\"128.535151\" xlink:href=\"#mcaab42a03f\" y=\"81.095829\"/>\n     <use style=\"fill:#1f77b4;stroke:#1f77b4;\" x=\"158.387323\" xlink:href=\"#mcaab42a03f\" y=\"61.456295\"/>\n     <use style=\"fill:#1f77b4;stroke:#1f77b4;\" x=\"158.648335\" xlink:href=\"#mcaab42a03f\" y=\"101.394846\"/>\n     <use style=\"fill:#1f77b4;stroke:#1f77b4;\" x=\"155.921316\" xlink:href=\"#mcaab42a03f\" y=\"99.022044\"/>\n     <use style=\"fill:#1f77b4;stroke:#1f77b4;\" x=\"68.871907\" xlink:href=\"#mcaab42a03f\" y=\"41.268403\"/>\n     <use style=\"fill:#1f77b4;stroke:#1f77b4;\" x=\"112.800351\" xlink:href=\"#mcaab42a03f\" y=\"56.490108\"/>\n     <use style=\"fill:#1f77b4;stroke:#1f77b4;\" x=\"175.070163\" xlink:href=\"#mcaab42a03f\" y=\"103.309979\"/>\n     <use style=\"fill:#1f77b4;stroke:#1f77b4;\" x=\"116.983515\" xlink:href=\"#mcaab42a03f\" y=\"58.464961\"/>\n     <use style=\"fill:#1f77b4;stroke:#1f77b4;\" x=\"137.674415\" xlink:href=\"#mcaab42a03f\" y=\"73.707371\"/>\n     <use style=\"fill:#1f77b4;stroke:#1f77b4;\" x=\"151.427104\" xlink:href=\"#mcaab42a03f\" y=\"89.39031\"/>\n     <use style=\"fill:#1f77b4;stroke:#1f77b4;\" x=\"133.367499\" xlink:href=\"#mcaab42a03f\" y=\"77.972083\"/>\n     <use style=\"fill:#1f77b4;stroke:#1f77b4;\" x=\"139.78278\" xlink:href=\"#mcaab42a03f\" y=\"75.929858\"/>\n     <use style=\"fill:#1f77b4;stroke:#1f77b4;\" x=\"180.66196\" xlink:href=\"#mcaab42a03f\" y=\"123.817746\"/>\n     <use style=\"fill:#1f77b4;stroke:#1f77b4;\" x=\"162.288828\" xlink:href=\"#mcaab42a03f\" y=\"95.250663\"/>\n     <use style=\"fill:#1f77b4;stroke:#1f77b4;\" x=\"145.468068\" xlink:href=\"#mcaab42a03f\" y=\"74.788095\"/>\n     <use style=\"fill:#1f77b4;stroke:#1f77b4;\" x=\"107.624899\" xlink:href=\"#mcaab42a03f\" y=\"62.148648\"/>\n     <use style=\"fill:#1f77b4;stroke:#1f77b4;\" x=\"164.170486\" xlink:href=\"#mcaab42a03f\" y=\"77.808583\"/>\n     <use style=\"fill:#1f77b4;stroke:#1f77b4;\" x=\"97.701198\" xlink:href=\"#mcaab42a03f\" y=\"44.564479\"/>\n     <use style=\"fill:#1f77b4;stroke:#1f77b4;\" x=\"124.172285\" xlink:href=\"#mcaab42a03f\" y=\"75.726851\"/>\n     <use style=\"fill:#1f77b4;stroke:#1f77b4;\" x=\"155.831955\" xlink:href=\"#mcaab42a03f\" y=\"81.805853\"/>\n     <use style=\"fill:#1f77b4;stroke:#1f77b4;\" x=\"114.949903\" xlink:href=\"#mcaab42a03f\" y=\"68.506719\"/>\n     <use style=\"fill:#1f77b4;stroke:#1f77b4;\" x=\"106.901017\" xlink:href=\"#mcaab42a03f\" y=\"58.539627\"/>\n     <use style=\"fill:#1f77b4;stroke:#1f77b4;\" x=\"153.088042\" xlink:href=\"#mcaab42a03f\" y=\"104.617957\"/>\n     <use style=\"fill:#1f77b4;stroke:#1f77b4;\" x=\"160.1031\" xlink:href=\"#mcaab42a03f\" y=\"94.07934\"/>\n     <use style=\"fill:#1f77b4;stroke:#1f77b4;\" x=\"143.814928\" xlink:href=\"#mcaab42a03f\" y=\"81.555492\"/>\n     <use style=\"fill:#1f77b4;stroke:#1f77b4;\" x=\"120.12361\" xlink:href=\"#mcaab42a03f\" y=\"78.400623\"/>\n     <use style=\"fill:#1f77b4;stroke:#1f77b4;\" x=\"89.512052\" xlink:href=\"#mcaab42a03f\" y=\"54.048962\"/>\n     <use style=\"fill:#1f77b4;stroke:#1f77b4;\" x=\"169.057044\" xlink:href=\"#mcaab42a03f\" y=\"94.215697\"/>\n     <use style=\"fill:#1f77b4;stroke:#1f77b4;\" x=\"95.320274\" xlink:href=\"#mcaab42a03f\" y=\"50.154824\"/>\n     <use style=\"fill:#1f77b4;stroke:#1f77b4;\" x=\"107.124748\" xlink:href=\"#mcaab42a03f\" y=\"50.350919\"/>\n     <use style=\"fill:#1f77b4;stroke:#1f77b4;\" x=\"130.184386\" xlink:href=\"#mcaab42a03f\" y=\"69.170666\"/>\n     <use style=\"fill:#1f77b4;stroke:#1f77b4;\" x=\"97.543434\" xlink:href=\"#mcaab42a03f\" y=\"56.643399\"/>\n     <use style=\"fill:#1f77b4;stroke:#1f77b4;\" x=\"125.792213\" xlink:href=\"#mcaab42a03f\" y=\"76.116485\"/>\n     <use style=\"fill:#1f77b4;stroke:#1f77b4;\" x=\"205.005554\" xlink:href=\"#mcaab42a03f\" y=\"125.965517\"/>\n     <use style=\"fill:#1f77b4;stroke:#1f77b4;\" x=\"151.335477\" xlink:href=\"#mcaab42a03f\" y=\"107.078512\"/>\n     <use style=\"fill:#1f77b4;stroke:#1f77b4;\" x=\"119.048083\" xlink:href=\"#mcaab42a03f\" y=\"72.942412\"/>\n     <use style=\"fill:#1f77b4;stroke:#1f77b4;\" x=\"132.588252\" xlink:href=\"#mcaab42a03f\" y=\"91.583644\"/>\n     <use style=\"fill:#1f77b4;stroke:#1f77b4;\" x=\"128.898564\" xlink:href=\"#mcaab42a03f\" y=\"81.012522\"/>\n     <use style=\"fill:#1f77b4;stroke:#1f77b4;\" x=\"169.928889\" xlink:href=\"#mcaab42a03f\" y=\"91.842296\"/>\n     <use style=\"fill:#1f77b4;stroke:#1f77b4;\" x=\"137.361156\" xlink:href=\"#mcaab42a03f\" y=\"74.149498\"/>\n     <use style=\"fill:#1f77b4;stroke:#1f77b4;\" x=\"129.551514\" xlink:href=\"#mcaab42a03f\" y=\"76.691095\"/>\n     <use style=\"fill:#1f77b4;stroke:#1f77b4;\" x=\"82.115123\" xlink:href=\"#mcaab42a03f\" y=\"46.02944\"/>\n     <use style=\"fill:#1f77b4;stroke:#1f77b4;\" x=\"152.967776\" xlink:href=\"#mcaab42a03f\" y=\"92.149123\"/>\n     <use style=\"fill:#1f77b4;stroke:#1f77b4;\" x=\"136.942642\" xlink:href=\"#mcaab42a03f\" y=\"83.734292\"/>\n     <use style=\"fill:#1f77b4;stroke:#1f77b4;\" x=\"140.32563\" xlink:href=\"#mcaab42a03f\" y=\"97.455988\"/>\n     <use style=\"fill:#1f77b4;stroke:#1f77b4;\" x=\"123.416366\" xlink:href=\"#mcaab42a03f\" y=\"67.429869\"/>\n     <use style=\"fill:#1f77b4;stroke:#1f77b4;\" x=\"148.126911\" xlink:href=\"#mcaab42a03f\" y=\"103.897396\"/>\n     <use style=\"fill:#1f77b4;stroke:#1f77b4;\" x=\"129.252345\" xlink:href=\"#mcaab42a03f\" y=\"65.660965\"/>\n     <use style=\"fill:#1f77b4;stroke:#1f77b4;\" x=\"130.71361\" xlink:href=\"#mcaab42a03f\" y=\"74.202713\"/>\n     <use style=\"fill:#1f77b4;stroke:#1f77b4;\" x=\"139.200208\" xlink:href=\"#mcaab42a03f\" y=\"76.758243\"/>\n     <use style=\"fill:#1f77b4;stroke:#1f77b4;\" x=\"168.379385\" xlink:href=\"#mcaab42a03f\" y=\"117.686558\"/>\n     <use style=\"fill:#1f77b4;stroke:#1f77b4;\" x=\"143.26857\" xlink:href=\"#mcaab42a03f\" y=\"84.164158\"/>\n     <use style=\"fill:#1f77b4;stroke:#1f77b4;\" x=\"151.67107\" xlink:href=\"#mcaab42a03f\" y=\"81.217803\"/>\n     <use style=\"fill:#1f77b4;stroke:#1f77b4;\" x=\"125.644547\" xlink:href=\"#mcaab42a03f\" y=\"77.48548\"/>\n     <use style=\"fill:#1f77b4;stroke:#1f77b4;\" x=\"115.89572\" xlink:href=\"#mcaab42a03f\" y=\"67.548437\"/>\n     <use style=\"fill:#1f77b4;stroke:#1f77b4;\" x=\"118.62963\" xlink:href=\"#mcaab42a03f\" y=\"55.12216\"/>\n     <use style=\"fill:#1f77b4;stroke:#1f77b4;\" x=\"132.589382\" xlink:href=\"#mcaab42a03f\" y=\"70.35611\"/>\n     <use style=\"fill:#1f77b4;stroke:#1f77b4;\" x=\"110.556959\" xlink:href=\"#mcaab42a03f\" y=\"60.699217\"/>\n     <use style=\"fill:#1f77b4;stroke:#1f77b4;\" x=\"83.083778\" xlink:href=\"#mcaab42a03f\" y=\"40.912443\"/>\n     <use style=\"fill:#1f77b4;stroke:#1f77b4;\" x=\"157.349369\" xlink:href=\"#mcaab42a03f\" y=\"94.770319\"/>\n     <use style=\"fill:#1f77b4;stroke:#1f77b4;\" x=\"128.896185\" xlink:href=\"#mcaab42a03f\" y=\"65.162141\"/>\n     <use style=\"fill:#1f77b4;stroke:#1f77b4;\" x=\"153.649414\" xlink:href=\"#mcaab42a03f\" y=\"101.38712\"/>\n     <use style=\"fill:#1f77b4;stroke:#1f77b4;\" x=\"101.458833\" xlink:href=\"#mcaab42a03f\" y=\"57.306282\"/>\n     <use style=\"fill:#1f77b4;stroke:#1f77b4;\" x=\"85.536949\" xlink:href=\"#mcaab42a03f\" y=\"61.868252\"/>\n     <use style=\"fill:#1f77b4;stroke:#1f77b4;\" x=\"154.34766\" xlink:href=\"#mcaab42a03f\" y=\"98.204377\"/>\n     <use style=\"fill:#1f77b4;stroke:#1f77b4;\" x=\"170.775652\" xlink:href=\"#mcaab42a03f\" y=\"95.732653\"/>\n     <use style=\"fill:#1f77b4;stroke:#1f77b4;\" x=\"139.299447\" xlink:href=\"#mcaab42a03f\" y=\"46.15274\"/>\n     <use style=\"fill:#1f77b4;stroke:#1f77b4;\" x=\"145.448354\" xlink:href=\"#mcaab42a03f\" y=\"86.860715\"/>\n     <use style=\"fill:#1f77b4;stroke:#1f77b4;\" x=\"143.059446\" xlink:href=\"#mcaab42a03f\" y=\"80.124176\"/>\n     <use style=\"fill:#1f77b4;stroke:#1f77b4;\" x=\"113.164661\" xlink:href=\"#mcaab42a03f\" y=\"65.602546\"/>\n     <use style=\"fill:#1f77b4;stroke:#1f77b4;\" x=\"139.208335\" xlink:href=\"#mcaab42a03f\" y=\"101.29071\"/>\n     <use style=\"fill:#1f77b4;stroke:#1f77b4;\" x=\"156.821392\" xlink:href=\"#mcaab42a03f\" y=\"89.789622\"/>\n     <use style=\"fill:#1f77b4;stroke:#1f77b4;\" x=\"142.76087\" xlink:href=\"#mcaab42a03f\" y=\"68.410612\"/>\n     <use style=\"fill:#1f77b4;stroke:#1f77b4;\" x=\"93.078229\" xlink:href=\"#mcaab42a03f\" y=\"50.770632\"/>\n     <use style=\"fill:#1f77b4;stroke:#1f77b4;\" x=\"138.701733\" xlink:href=\"#mcaab42a03f\" y=\"75.630057\"/>\n     <use style=\"fill:#1f77b4;stroke:#1f77b4;\" x=\"149.455937\" xlink:href=\"#mcaab42a03f\" y=\"91.919854\"/>\n     <use style=\"fill:#1f77b4;stroke:#1f77b4;\" x=\"180.187416\" xlink:href=\"#mcaab42a03f\" y=\"128.047325\"/>\n     <use style=\"fill:#1f77b4;stroke:#1f77b4;\" x=\"149.970082\" xlink:href=\"#mcaab42a03f\" y=\"98.876026\"/>\n     <use style=\"fill:#1f77b4;stroke:#1f77b4;\" x=\"100.374836\" xlink:href=\"#mcaab42a03f\" y=\"64.262611\"/>\n     <use style=\"fill:#1f77b4;stroke:#1f77b4;\" x=\"189.500267\" xlink:href=\"#mcaab42a03f\" y=\"134.92523\"/>\n     <use style=\"fill:#1f77b4;stroke:#1f77b4;\" x=\"141.666701\" xlink:href=\"#mcaab42a03f\" y=\"84.159686\"/>\n     <use style=\"fill:#1f77b4;stroke:#1f77b4;\" x=\"150.092579\" xlink:href=\"#mcaab42a03f\" y=\"98.467424\"/>\n     <use style=\"fill:#1f77b4;stroke:#1f77b4;\" x=\"149.173042\" xlink:href=\"#mcaab42a03f\" y=\"90.521717\"/>\n     <use style=\"fill:#1f77b4;stroke:#1f77b4;\" x=\"105.892456\" xlink:href=\"#mcaab42a03f\" y=\"57.090036\"/>\n     <use style=\"fill:#1f77b4;stroke:#1f77b4;\" x=\"111.837694\" xlink:href=\"#mcaab42a03f\" y=\"53.568909\"/>\n     <use style=\"fill:#1f77b4;stroke:#1f77b4;\" x=\"130.311577\" xlink:href=\"#mcaab42a03f\" y=\"73.662516\"/>\n     <use style=\"fill:#1f77b4;stroke:#1f77b4;\" x=\"156.634132\" xlink:href=\"#mcaab42a03f\" y=\"112.49316\"/>\n     <use style=\"fill:#1f77b4;stroke:#1f77b4;\" x=\"109.155866\" xlink:href=\"#mcaab42a03f\" y=\"82.173722\"/>\n     <use style=\"fill:#1f77b4;stroke:#1f77b4;\" x=\"196.379062\" xlink:href=\"#mcaab42a03f\" y=\"116.275803\"/>\n     <use style=\"fill:#1f77b4;stroke:#1f77b4;\" x=\"109.16471\" xlink:href=\"#mcaab42a03f\" y=\"63.695261\"/>\n     <use style=\"fill:#1f77b4;stroke:#1f77b4;\" x=\"129.466938\" xlink:href=\"#mcaab42a03f\" y=\"59.62703\"/>\n     <use style=\"fill:#1f77b4;stroke:#1f77b4;\" x=\"146.032034\" xlink:href=\"#mcaab42a03f\" y=\"80.259446\"/>\n     <use style=\"fill:#1f77b4;stroke:#1f77b4;\" x=\"149.667992\" xlink:href=\"#mcaab42a03f\" y=\"77.111679\"/>\n     <use style=\"fill:#1f77b4;stroke:#1f77b4;\" x=\"141.115176\" xlink:href=\"#mcaab42a03f\" y=\"89.549586\"/>\n     <use style=\"fill:#1f77b4;stroke:#1f77b4;\" x=\"112.10756\" xlink:href=\"#mcaab42a03f\" y=\"68.459687\"/>\n     <use style=\"fill:#1f77b4;stroke:#1f77b4;\" x=\"136.305941\" xlink:href=\"#mcaab42a03f\" y=\"86.73849\"/>\n     <use style=\"fill:#1f77b4;stroke:#1f77b4;\" x=\"159.823537\" xlink:href=\"#mcaab42a03f\" y=\"95.518517\"/>\n     <use style=\"fill:#1f77b4;stroke:#1f77b4;\" x=\"123.03166\" xlink:href=\"#mcaab42a03f\" y=\"58.52348\"/>\n     <use style=\"fill:#1f77b4;stroke:#1f77b4;\" x=\"133.55773\" xlink:href=\"#mcaab42a03f\" y=\"93.419504\"/>\n     <use style=\"fill:#1f77b4;stroke:#1f77b4;\" x=\"141.606235\" xlink:href=\"#mcaab42a03f\" y=\"95.349678\"/>\n     <use style=\"fill:#1f77b4;stroke:#1f77b4;\" x=\"142.517706\" xlink:href=\"#mcaab42a03f\" y=\"98.100772\"/>\n     <use style=\"fill:#1f77b4;stroke:#1f77b4;\" x=\"106.32542\" xlink:href=\"#mcaab42a03f\" y=\"56.460968\"/>\n     <use style=\"fill:#1f77b4;stroke:#1f77b4;\" x=\"114.960269\" xlink:href=\"#mcaab42a03f\" y=\"79.585974\"/>\n     <use style=\"fill:#1f77b4;stroke:#1f77b4;\" x=\"127.089938\" xlink:href=\"#mcaab42a03f\" y=\"79.789293\"/>\n     <use style=\"fill:#1f77b4;stroke:#1f77b4;\" x=\"169.042525\" xlink:href=\"#mcaab42a03f\" y=\"86.728083\"/>\n     <use style=\"fill:#1f77b4;stroke:#1f77b4;\" x=\"156.631588\" xlink:href=\"#mcaab42a03f\" y=\"102.169319\"/>\n     <use style=\"fill:#1f77b4;stroke:#1f77b4;\" x=\"117.693243\" xlink:href=\"#mcaab42a03f\" y=\"56.196393\"/>\n     <use style=\"fill:#1f77b4;stroke:#1f77b4;\" x=\"144.219802\" xlink:href=\"#mcaab42a03f\" y=\"100.360761\"/>\n     <use style=\"fill:#1f77b4;stroke:#1f77b4;\" x=\"117.812602\" xlink:href=\"#mcaab42a03f\" y=\"61.263358\"/>\n     <use style=\"fill:#1f77b4;stroke:#1f77b4;\" x=\"152.188838\" xlink:href=\"#mcaab42a03f\" y=\"78.079451\"/>\n     <use style=\"fill:#1f77b4;stroke:#1f77b4;\" x=\"137.16726\" xlink:href=\"#mcaab42a03f\" y=\"77.828134\"/>\n     <use style=\"fill:#1f77b4;stroke:#1f77b4;\" x=\"120.291222\" xlink:href=\"#mcaab42a03f\" y=\"77.232142\"/>\n     <use style=\"fill:#1f77b4;stroke:#1f77b4;\" x=\"116.154562\" xlink:href=\"#mcaab42a03f\" y=\"72.788035\"/>\n     <use style=\"fill:#1f77b4;stroke:#1f77b4;\" x=\"149.466647\" xlink:href=\"#mcaab42a03f\" y=\"86.757994\"/>\n     <use style=\"fill:#1f77b4;stroke:#1f77b4;\" x=\"152.471733\" xlink:href=\"#mcaab42a03f\" y=\"82.11736\"/>\n     <use style=\"fill:#1f77b4;stroke:#1f77b4;\" x=\"128.773149\" xlink:href=\"#mcaab42a03f\" y=\"79.122658\"/>\n     <use style=\"fill:#1f77b4;stroke:#1f77b4;\" x=\"118.651406\" xlink:href=\"#mcaab42a03f\" y=\"49.652025\"/>\n     <use style=\"fill:#1f77b4;stroke:#1f77b4;\" x=\"157.231982\" xlink:href=\"#mcaab42a03f\" y=\"92.805203\"/>\n     <use style=\"fill:#1f77b4;stroke:#1f77b4;\" x=\"118.378213\" xlink:href=\"#mcaab42a03f\" y=\"67.384684\"/>\n     <use style=\"fill:#1f77b4;stroke:#1f77b4;\" x=\"144.61089\" xlink:href=\"#mcaab42a03f\" y=\"83.740643\"/>\n     <use style=\"fill:#1f77b4;stroke:#1f77b4;\" x=\"139.068295\" xlink:href=\"#mcaab42a03f\" y=\"75.908468\"/>\n     <use style=\"fill:#1f77b4;stroke:#1f77b4;\" x=\"161.626438\" xlink:href=\"#mcaab42a03f\" y=\"94.548562\"/>\n     <use style=\"fill:#1f77b4;stroke:#1f77b4;\" x=\"145.234707\" xlink:href=\"#mcaab42a03f\" y=\"84.632701\"/>\n     <use style=\"fill:#1f77b4;stroke:#1f77b4;\" x=\"109.480206\" xlink:href=\"#mcaab42a03f\" y=\"64.654299\"/>\n     <use style=\"fill:#1f77b4;stroke:#1f77b4;\" x=\"124.651322\" xlink:href=\"#mcaab42a03f\" y=\"67.343785\"/>\n     <use style=\"fill:#1f77b4;stroke:#1f77b4;\" x=\"114.089983\" xlink:href=\"#mcaab42a03f\" y=\"71.568539\"/>\n     <use style=\"fill:#1f77b4;stroke:#1f77b4;\" x=\"153.236504\" xlink:href=\"#mcaab42a03f\" y=\"80.074498\"/>\n     <use style=\"fill:#1f77b4;stroke:#1f77b4;\" x=\"91.853543\" xlink:href=\"#mcaab42a03f\" y=\"71.834129\"/>\n     <use style=\"fill:#1f77b4;stroke:#1f77b4;\" x=\"80.58126\" xlink:href=\"#mcaab42a03f\" y=\"35.252146\"/>\n     <use style=\"fill:#1f77b4;stroke:#1f77b4;\" x=\"120.664893\" xlink:href=\"#mcaab42a03f\" y=\"57.533971\"/>\n     <use style=\"fill:#1f77b4;stroke:#1f77b4;\" x=\"163.141401\" xlink:href=\"#mcaab42a03f\" y=\"95.921834\"/>\n     <use style=\"fill:#1f77b4;stroke:#1f77b4;\" x=\"129.374177\" xlink:href=\"#mcaab42a03f\" y=\"79.364208\"/>\n     <use style=\"fill:#1f77b4;stroke:#1f77b4;\" x=\"76.42493\" xlink:href=\"#mcaab42a03f\" y=\"44.557195\"/>\n     <use style=\"fill:#1f77b4;stroke:#1f77b4;\" x=\"137.988079\" xlink:href=\"#mcaab42a03f\" y=\"72.460289\"/>\n     <use style=\"fill:#1f77b4;stroke:#1f77b4;\" x=\"109.555542\" xlink:href=\"#mcaab42a03f\" y=\"53.953922\"/>\n     <use style=\"fill:#1f77b4;stroke:#1f77b4;\" x=\"131.690149\" xlink:href=\"#mcaab42a03f\" y=\"86.383522\"/>\n     <use style=\"fill:#1f77b4;stroke:#1f77b4;\" x=\"148.284767\" xlink:href=\"#mcaab42a03f\" y=\"99.117331\"/>\n     <use style=\"fill:#1f77b4;stroke:#1f77b4;\" x=\"173.729175\" xlink:href=\"#mcaab42a03f\" y=\"107.986626\"/>\n     <use style=\"fill:#1f77b4;stroke:#1f77b4;\" x=\"134.139776\" xlink:href=\"#mcaab42a03f\" y=\"85.842796\"/>\n     <use style=\"fill:#1f77b4;stroke:#1f77b4;\" x=\"152.576217\" xlink:href=\"#mcaab42a03f\" y=\"97.437459\"/>\n     <use style=\"fill:#1f77b4;stroke:#1f77b4;\" x=\"183.275891\" xlink:href=\"#mcaab42a03f\" y=\"106.919004\"/>\n     <use style=\"fill:#1f77b4;stroke:#1f77b4;\" x=\"102.766056\" xlink:href=\"#mcaab42a03f\" y=\"49.989434\"/>\n     <use style=\"fill:#1f77b4;stroke:#1f77b4;\" x=\"187.328327\" xlink:href=\"#mcaab42a03f\" y=\"110.736783\"/>\n     <use style=\"fill:#1f77b4;stroke:#1f77b4;\" x=\"131.4047\" xlink:href=\"#mcaab42a03f\" y=\"91.56308\"/>\n     <use style=\"fill:#1f77b4;stroke:#1f77b4;\" x=\"136.924375\" xlink:href=\"#mcaab42a03f\" y=\"79.155875\"/>\n     <use style=\"fill:#1f77b4;stroke:#1f77b4;\" x=\"125.897275\" xlink:href=\"#mcaab42a03f\" y=\"81.113338\"/>\n     <use style=\"fill:#1f77b4;stroke:#1f77b4;\" x=\"162.349438\" xlink:href=\"#mcaab42a03f\" y=\"88.932535\"/>\n     <use style=\"fill:#1f77b4;stroke:#1f77b4;\" x=\"135.907952\" xlink:href=\"#mcaab42a03f\" y=\"77.620044\"/>\n     <use style=\"fill:#1f77b4;stroke:#1f77b4;\" x=\"134.508605\" xlink:href=\"#mcaab42a03f\" y=\"94.662277\"/>\n     <use style=\"fill:#1f77b4;stroke:#1f77b4;\" x=\"119.51598\" xlink:href=\"#mcaab42a03f\" y=\"63.248542\"/>\n     <use style=\"fill:#1f77b4;stroke:#1f77b4;\" x=\"162.722116\" xlink:href=\"#mcaab42a03f\" y=\"89.65754\"/>\n     <use style=\"fill:#1f77b4;stroke:#1f77b4;\" x=\"158.543862\" xlink:href=\"#mcaab42a03f\" y=\"103.813825\"/>\n     <use style=\"fill:#1f77b4;stroke:#1f77b4;\" x=\"101.39211\" xlink:href=\"#mcaab42a03f\" y=\"49.153959\"/>\n     <use style=\"fill:#1f77b4;stroke:#1f77b4;\" x=\"69.227727\" xlink:href=\"#mcaab42a03f\" y=\"46.774272\"/>\n     <use style=\"fill:#1f77b4;stroke:#1f77b4;\" x=\"110.108856\" xlink:href=\"#mcaab42a03f\" y=\"51.939919\"/>\n     <use style=\"fill:#1f77b4;stroke:#1f77b4;\" x=\"125.34178\" xlink:href=\"#mcaab42a03f\" y=\"74.962706\"/>\n     <use style=\"fill:#1f77b4;stroke:#1f77b4;\" x=\"168.302886\" xlink:href=\"#mcaab42a03f\" y=\"101.902711\"/>\n     <use style=\"fill:#1f77b4;stroke:#1f77b4;\" x=\"155.96267\" xlink:href=\"#mcaab42a03f\" y=\"85.357327\"/>\n     <use style=\"fill:#1f77b4;stroke:#1f77b4;\" x=\"143.672302\" xlink:href=\"#mcaab42a03f\" y=\"90.492253\"/>\n     <use style=\"fill:#1f77b4;stroke:#1f77b4;\" x=\"137.895053\" xlink:href=\"#mcaab42a03f\" y=\"77.09131\"/>\n     <use style=\"fill:#1f77b4;stroke:#1f77b4;\" x=\"145.243813\" xlink:href=\"#mcaab42a03f\" y=\"68.228111\"/>\n     <use style=\"fill:#1f77b4;stroke:#1f77b4;\" x=\"114.406556\" xlink:href=\"#mcaab42a03f\" y=\"74.251669\"/>\n     <use style=\"fill:#1f77b4;stroke:#1f77b4;\" x=\"133.090108\" xlink:href=\"#mcaab42a03f\" y=\"69.624837\"/>\n     <use style=\"fill:#1f77b4;stroke:#1f77b4;\" x=\"127.057535\" xlink:href=\"#mcaab42a03f\" y=\"86.791368\"/>\n     <use style=\"fill:#1f77b4;stroke:#1f77b4;\" x=\"139.108378\" xlink:href=\"#mcaab42a03f\" y=\"86.164935\"/>\n     <use style=\"fill:#1f77b4;stroke:#1f77b4;\" x=\"169.884109\" xlink:href=\"#mcaab42a03f\" y=\"105.044641\"/>\n     <use style=\"fill:#1f77b4;stroke:#1f77b4;\" x=\"161.802236\" xlink:href=\"#mcaab42a03f\" y=\"103.099606\"/>\n     <use style=\"fill:#1f77b4;stroke:#1f77b4;\" x=\"146.19801\" xlink:href=\"#mcaab42a03f\" y=\"71.601498\"/>\n     <use style=\"fill:#1f77b4;stroke:#1f77b4;\" x=\"121.43641\" xlink:href=\"#mcaab42a03f\" y=\"87.359061\"/>\n     <use style=\"fill:#1f77b4;stroke:#1f77b4;\" x=\"139.897329\" xlink:href=\"#mcaab42a03f\" y=\"77.834157\"/>\n     <use style=\"fill:#1f77b4;stroke:#1f77b4;\" x=\"107.733388\" xlink:href=\"#mcaab42a03f\" y=\"60.913687\"/>\n     <use style=\"fill:#1f77b4;stroke:#1f77b4;\" x=\"136.605395\" xlink:href=\"#mcaab42a03f\" y=\"88.58203\"/>\n     <use style=\"fill:#1f77b4;stroke:#1f77b4;\" x=\"144.985822\" xlink:href=\"#mcaab42a03f\" y=\"83.981475\"/>\n     <use style=\"fill:#1f77b4;stroke:#1f77b4;\" x=\"117.436967\" xlink:href=\"#mcaab42a03f\" y=\"75.893777\"/>\n     <use style=\"fill:#1f77b4;stroke:#1f77b4;\" x=\"138.557663\" xlink:href=\"#mcaab42a03f\" y=\"77.866616\"/>\n     <use style=\"fill:#1f77b4;stroke:#1f77b4;\" x=\"118.051534\" xlink:href=\"#mcaab42a03f\" y=\"53.033238\"/>\n     <use style=\"fill:#1f77b4;stroke:#1f77b4;\" x=\"84.890451\" xlink:href=\"#mcaab42a03f\" y=\"38.736401\"/>\n     <use style=\"fill:#1f77b4;stroke:#1f77b4;\" x=\"142.135816\" xlink:href=\"#mcaab42a03f\" y=\"88.709373\"/>\n     <use style=\"fill:#1f77b4;stroke:#1f77b4;\" x=\"106.839903\" xlink:href=\"#mcaab42a03f\" y=\"64.962924\"/>\n     <use style=\"fill:#1f77b4;stroke:#1f77b4;\" x=\"127.433477\" xlink:href=\"#mcaab42a03f\" y=\"77.879651\"/>\n     <use style=\"fill:#1f77b4;stroke:#1f77b4;\" x=\"137.903902\" xlink:href=\"#mcaab42a03f\" y=\"75.278212\"/>\n     <use style=\"fill:#1f77b4;stroke:#1f77b4;\" x=\"143.054262\" xlink:href=\"#mcaab42a03f\" y=\"92.703029\"/>\n     <use style=\"fill:#1f77b4;stroke:#1f77b4;\" x=\"142.227957\" xlink:href=\"#mcaab42a03f\" y=\"83.157644\"/>\n     <use style=\"fill:#1f77b4;stroke:#1f77b4;\" x=\"105.316753\" xlink:href=\"#mcaab42a03f\" y=\"59.357081\"/>\n     <use style=\"fill:#1f77b4;stroke:#1f77b4;\" x=\"145.065132\" xlink:href=\"#mcaab42a03f\" y=\"76.531219\"/>\n     <use style=\"fill:#1f77b4;stroke:#1f77b4;\" x=\"136.219204\" xlink:href=\"#mcaab42a03f\" y=\"78.595233\"/>\n     <use style=\"fill:#1f77b4;stroke:#1f77b4;\" x=\"119.609453\" xlink:href=\"#mcaab42a03f\" y=\"44.537419\"/>\n     <use style=\"fill:#1f77b4;stroke:#1f77b4;\" x=\"169.336895\" xlink:href=\"#mcaab42a03f\" y=\"90.725516\"/>\n     <use style=\"fill:#1f77b4;stroke:#1f77b4;\" x=\"135.912146\" xlink:href=\"#mcaab42a03f\" y=\"74.523885\"/>\n     <use style=\"fill:#1f77b4;stroke:#1f77b4;\" x=\"131.276596\" xlink:href=\"#mcaab42a03f\" y=\"78.891776\"/>\n     <use style=\"fill:#1f77b4;stroke:#1f77b4;\" x=\"108.825401\" xlink:href=\"#mcaab42a03f\" y=\"81.808768\"/>\n     <use style=\"fill:#1f77b4;stroke:#1f77b4;\" x=\"117.276943\" xlink:href=\"#mcaab42a03f\" y=\"75.070389\"/>\n     <use style=\"fill:#1f77b4;stroke:#1f77b4;\" x=\"124.047926\" xlink:href=\"#mcaab42a03f\" y=\"73.120543\"/>\n     <use style=\"fill:#1f77b4;stroke:#1f77b4;\" x=\"132.673939\" xlink:href=\"#mcaab42a03f\" y=\"66.644529\"/>\n     <use style=\"fill:#1f77b4;stroke:#1f77b4;\" x=\"124.679472\" xlink:href=\"#mcaab42a03f\" y=\"76.161369\"/>\n     <use style=\"fill:#1f77b4;stroke:#1f77b4;\" x=\"92.358915\" xlink:href=\"#mcaab42a03f\" y=\"55.224814\"/>\n     <use style=\"fill:#1f77b4;stroke:#1f77b4;\" x=\"128.225806\" xlink:href=\"#mcaab42a03f\" y=\"88.226882\"/>\n     <use style=\"fill:#1f77b4;stroke:#1f77b4;\" x=\"166.439352\" xlink:href=\"#mcaab42a03f\" y=\"88.61037\"/>\n     <use style=\"fill:#1f77b4;stroke:#1f77b4;\" x=\"168.602096\" xlink:href=\"#mcaab42a03f\" y=\"111.378704\"/>\n     <use style=\"fill:#1f77b4;stroke:#1f77b4;\" x=\"133.390333\" xlink:href=\"#mcaab42a03f\" y=\"78.817641\"/>\n     <use style=\"fill:#1f77b4;stroke:#1f77b4;\" x=\"92.026756\" xlink:href=\"#mcaab42a03f\" y=\"66.613268\"/>\n     <use style=\"fill:#1f77b4;stroke:#1f77b4;\" x=\"141.571779\" xlink:href=\"#mcaab42a03f\" y=\"85.844809\"/>\n     <use style=\"fill:#1f77b4;stroke:#1f77b4;\" x=\"171.305426\" xlink:href=\"#mcaab42a03f\" y=\"101.483657\"/>\n     <use style=\"fill:#1f77b4;stroke:#1f77b4;\" x=\"127.10817\" xlink:href=\"#mcaab42a03f\" y=\"49.856629\"/>\n     <use style=\"fill:#1f77b4;stroke:#1f77b4;\" x=\"101.847325\" xlink:href=\"#mcaab42a03f\" y=\"38.829983\"/>\n     <use style=\"fill:#1f77b4;stroke:#1f77b4;\" x=\"118.194672\" xlink:href=\"#mcaab42a03f\" y=\"80.969896\"/>\n     <use style=\"fill:#1f77b4;stroke:#1f77b4;\" x=\"91.534646\" xlink:href=\"#mcaab42a03f\" y=\"51.634561\"/>\n     <use style=\"fill:#1f77b4;stroke:#1f77b4;\" x=\"125.76887\" xlink:href=\"#mcaab42a03f\" y=\"77.272592\"/>\n     <use style=\"fill:#1f77b4;stroke:#1f77b4;\" x=\"129.473353\" xlink:href=\"#mcaab42a03f\" y=\"74.048968\"/>\n     <use style=\"fill:#1f77b4;stroke:#1f77b4;\" x=\"162.55934\" xlink:href=\"#mcaab42a03f\" y=\"99.706064\"/>\n     <use style=\"fill:#1f77b4;stroke:#1f77b4;\" x=\"100.951376\" xlink:href=\"#mcaab42a03f\" y=\"74.228219\"/>\n     <use style=\"fill:#1f77b4;stroke:#1f77b4;\" x=\"67.978651\" xlink:href=\"#mcaab42a03f\" y=\"38.010248\"/>\n     <use style=\"fill:#1f77b4;stroke:#1f77b4;\" x=\"135.377319\" xlink:href=\"#mcaab42a03f\" y=\"68.653256\"/>\n     <use style=\"fill:#1f77b4;stroke:#1f77b4;\" x=\"134.987135\" xlink:href=\"#mcaab42a03f\" y=\"84.314594\"/>\n     <use style=\"fill:#1f77b4;stroke:#1f77b4;\" x=\"135.474084\" xlink:href=\"#mcaab42a03f\" y=\"82.419067\"/>\n     <use style=\"fill:#1f77b4;stroke:#1f77b4;\" x=\"112.233623\" xlink:href=\"#mcaab42a03f\" y=\"37.689584\"/>\n     <use style=\"fill:#1f77b4;stroke:#1f77b4;\" x=\"124.781746\" xlink:href=\"#mcaab42a03f\" y=\"79.18615\"/>\n     <use style=\"fill:#1f77b4;stroke:#1f77b4;\" x=\"134.251426\" xlink:href=\"#mcaab42a03f\" y=\"70.085096\"/>\n     <use style=\"fill:#1f77b4;stroke:#1f77b4;\" x=\"120.009807\" xlink:href=\"#mcaab42a03f\" y=\"58.863921\"/>\n     <use style=\"fill:#1f77b4;stroke:#1f77b4;\" x=\"171.124472\" xlink:href=\"#mcaab42a03f\" y=\"103.787617\"/>\n     <use style=\"fill:#1f77b4;stroke:#1f77b4;\" x=\"152.244706\" xlink:href=\"#mcaab42a03f\" y=\"76.862211\"/>\n     <use style=\"fill:#1f77b4;stroke:#1f77b4;\" x=\"113.476864\" xlink:href=\"#mcaab42a03f\" y=\"69.515883\"/>\n     <use style=\"fill:#1f77b4;stroke:#1f77b4;\" x=\"140.570063\" xlink:href=\"#mcaab42a03f\" y=\"76.609449\"/>\n     <use style=\"fill:#1f77b4;stroke:#1f77b4;\" x=\"173.895829\" xlink:href=\"#mcaab42a03f\" y=\"89.457746\"/>\n     <use style=\"fill:#1f77b4;stroke:#1f77b4;\" x=\"130.876724\" xlink:href=\"#mcaab42a03f\" y=\"87.758693\"/>\n     <use style=\"fill:#1f77b4;stroke:#1f77b4;\" x=\"167.057985\" xlink:href=\"#mcaab42a03f\" y=\"83.543248\"/>\n     <use style=\"fill:#1f77b4;stroke:#1f77b4;\" x=\"151.919439\" xlink:href=\"#mcaab42a03f\" y=\"107.143638\"/>\n     <use style=\"fill:#1f77b4;stroke:#1f77b4;\" x=\"111.054309\" xlink:href=\"#mcaab42a03f\" y=\"48.272318\"/>\n     <use style=\"fill:#1f77b4;stroke:#1f77b4;\" x=\"131.456266\" xlink:href=\"#mcaab42a03f\" y=\"73.04252\"/>\n     <use style=\"fill:#1f77b4;stroke:#1f77b4;\" x=\"131.518629\" xlink:href=\"#mcaab42a03f\" y=\"96.734255\"/>\n     <use style=\"fill:#1f77b4;stroke:#1f77b4;\" x=\"114.571067\" xlink:href=\"#mcaab42a03f\" y=\"72.486329\"/>\n     <use style=\"fill:#1f77b4;stroke:#1f77b4;\" x=\"118.8711\" xlink:href=\"#mcaab42a03f\" y=\"52.312371\"/>\n     <use style=\"fill:#1f77b4;stroke:#1f77b4;\" x=\"186.703496\" xlink:href=\"#mcaab42a03f\" y=\"126.91795\"/>\n     <use style=\"fill:#1f77b4;stroke:#1f77b4;\" x=\"132.697399\" xlink:href=\"#mcaab42a03f\" y=\"74.614377\"/>\n     <use style=\"fill:#1f77b4;stroke:#1f77b4;\" x=\"134.480421\" xlink:href=\"#mcaab42a03f\" y=\"79.813505\"/>\n     <use style=\"fill:#1f77b4;stroke:#1f77b4;\" x=\"144.547051\" xlink:href=\"#mcaab42a03f\" y=\"76.947664\"/>\n     <use style=\"fill:#1f77b4;stroke:#1f77b4;\" x=\"140.971488\" xlink:href=\"#mcaab42a03f\" y=\"73.96465\"/>\n     <use style=\"fill:#1f77b4;stroke:#1f77b4;\" x=\"100.48376\" xlink:href=\"#mcaab42a03f\" y=\"55.876987\"/>\n     <use style=\"fill:#1f77b4;stroke:#1f77b4;\" x=\"88.865998\" xlink:href=\"#mcaab42a03f\" y=\"37.442429\"/>\n     <use style=\"fill:#1f77b4;stroke:#1f77b4;\" x=\"134.848309\" xlink:href=\"#mcaab42a03f\" y=\"70.410595\"/>\n     <use style=\"fill:#1f77b4;stroke:#1f77b4;\" x=\"145.706917\" xlink:href=\"#mcaab42a03f\" y=\"89.736278\"/>\n     <use style=\"fill:#1f77b4;stroke:#1f77b4;\" x=\"155.378641\" xlink:href=\"#mcaab42a03f\" y=\"101.430734\"/>\n     <use style=\"fill:#1f77b4;stroke:#1f77b4;\" x=\"129.345134\" xlink:href=\"#mcaab42a03f\" y=\"72.845861\"/>\n     <use style=\"fill:#1f77b4;stroke:#1f77b4;\" x=\"103.701486\" xlink:href=\"#mcaab42a03f\" y=\"39.947895\"/>\n     <use style=\"fill:#1f77b4;stroke:#1f77b4;\" x=\"100.721002\" xlink:href=\"#mcaab42a03f\" y=\"62.844092\"/>\n     <use style=\"fill:#1f77b4;stroke:#1f77b4;\" x=\"121.948658\" xlink:href=\"#mcaab42a03f\" y=\"59.992182\"/>\n     <use style=\"fill:#1f77b4;stroke:#1f77b4;\" x=\"110.542084\" xlink:href=\"#mcaab42a03f\" y=\"51.330083\"/>\n     <use style=\"fill:#1f77b4;stroke:#1f77b4;\" x=\"146.63857\" xlink:href=\"#mcaab42a03f\" y=\"99.662522\"/>\n     <use style=\"fill:#1f77b4;stroke:#1f77b4;\" x=\"165.20439\" xlink:href=\"#mcaab42a03f\" y=\"121.213603\"/>\n     <use style=\"fill:#1f77b4;stroke:#1f77b4;\" x=\"125.747605\" xlink:href=\"#mcaab42a03f\" y=\"89.24997\"/>\n     <use style=\"fill:#1f77b4;stroke:#1f77b4;\" x=\"100.197133\" xlink:href=\"#mcaab42a03f\" y=\"41.094048\"/>\n     <use style=\"fill:#1f77b4;stroke:#1f77b4;\" x=\"120.503538\" xlink:href=\"#mcaab42a03f\" y=\"81.256341\"/>\n     <use style=\"fill:#1f77b4;stroke:#1f77b4;\" x=\"97.355689\" xlink:href=\"#mcaab42a03f\" y=\"51.000619\"/>\n     <use style=\"fill:#1f77b4;stroke:#1f77b4;\" x=\"149.794159\" xlink:href=\"#mcaab42a03f\" y=\"87.831301\"/>\n     <use style=\"fill:#1f77b4;stroke:#1f77b4;\" x=\"129.568896\" xlink:href=\"#mcaab42a03f\" y=\"76.59569\"/>\n     <use style=\"fill:#1f77b4;stroke:#1f77b4;\" x=\"135.821841\" xlink:href=\"#mcaab42a03f\" y=\"63.650839\"/>\n     <use style=\"fill:#1f77b4;stroke:#1f77b4;\" x=\"133.316281\" xlink:href=\"#mcaab42a03f\" y=\"80.588384\"/>\n     <use style=\"fill:#1f77b4;stroke:#1f77b4;\" x=\"84.195517\" xlink:href=\"#mcaab42a03f\" y=\"56.964719\"/>\n     <use style=\"fill:#1f77b4;stroke:#1f77b4;\" x=\"104.886368\" xlink:href=\"#mcaab42a03f\" y=\"64.06457\"/>\n     <use style=\"fill:#1f77b4;stroke:#1f77b4;\" x=\"144.220898\" xlink:href=\"#mcaab42a03f\" y=\"92.786487\"/>\n     <use style=\"fill:#1f77b4;stroke:#1f77b4;\" x=\"122.001161\" xlink:href=\"#mcaab42a03f\" y=\"47.371556\"/>\n     <use style=\"fill:#1f77b4;stroke:#1f77b4;\" x=\"142.038343\" xlink:href=\"#mcaab42a03f\" y=\"90.707747\"/>\n     <use style=\"fill:#1f77b4;stroke:#1f77b4;\" x=\"153.997964\" xlink:href=\"#mcaab42a03f\" y=\"88.079195\"/>\n     <use style=\"fill:#1f77b4;stroke:#1f77b4;\" x=\"133.780916\" xlink:href=\"#mcaab42a03f\" y=\"91.046849\"/>\n     <use style=\"fill:#1f77b4;stroke:#1f77b4;\" x=\"122.832466\" xlink:href=\"#mcaab42a03f\" y=\"68.934976\"/>\n     <use style=\"fill:#1f77b4;stroke:#1f77b4;\" x=\"85.188894\" xlink:href=\"#mcaab42a03f\" y=\"27.316103\"/>\n     <use style=\"fill:#1f77b4;stroke:#1f77b4;\" x=\"127.105398\" xlink:href=\"#mcaab42a03f\" y=\"61.880247\"/>\n     <use style=\"fill:#1f77b4;stroke:#1f77b4;\" x=\"154.468705\" xlink:href=\"#mcaab42a03f\" y=\"100.571336\"/>\n     <use style=\"fill:#1f77b4;stroke:#1f77b4;\" x=\"126.605199\" xlink:href=\"#mcaab42a03f\" y=\"71.005117\"/>\n     <use style=\"fill:#1f77b4;stroke:#1f77b4;\" x=\"123.027423\" xlink:href=\"#mcaab42a03f\" y=\"66.781391\"/>\n     <use style=\"fill:#1f77b4;stroke:#1f77b4;\" x=\"124.745062\" xlink:href=\"#mcaab42a03f\" y=\"65.584322\"/>\n     <use style=\"fill:#1f77b4;stroke:#1f77b4;\" x=\"141.629692\" xlink:href=\"#mcaab42a03f\" y=\"100.818601\"/>\n     <use style=\"fill:#1f77b4;stroke:#1f77b4;\" x=\"139.505956\" xlink:href=\"#mcaab42a03f\" y=\"76.882758\"/>\n     <use style=\"fill:#1f77b4;stroke:#1f77b4;\" x=\"139.476792\" xlink:href=\"#mcaab42a03f\" y=\"65.117578\"/>\n     <use style=\"fill:#1f77b4;stroke:#1f77b4;\" x=\"164.327887\" xlink:href=\"#mcaab42a03f\" y=\"80.093829\"/>\n     <use style=\"fill:#1f77b4;stroke:#1f77b4;\" x=\"99.8105\" xlink:href=\"#mcaab42a03f\" y=\"50.033603\"/>\n     <use style=\"fill:#1f77b4;stroke:#1f77b4;\" x=\"108.482372\" xlink:href=\"#mcaab42a03f\" y=\"45.433904\"/>\n     <use style=\"fill:#1f77b4;stroke:#1f77b4;\" x=\"122.595981\" xlink:href=\"#mcaab42a03f\" y=\"50.030401\"/>\n     <use style=\"fill:#1f77b4;stroke:#1f77b4;\" x=\"128.343548\" xlink:href=\"#mcaab42a03f\" y=\"64.367498\"/>\n     <use style=\"fill:#1f77b4;stroke:#1f77b4;\" x=\"119.684241\" xlink:href=\"#mcaab42a03f\" y=\"72.224519\"/>\n     <use style=\"fill:#1f77b4;stroke:#1f77b4;\" x=\"143.918597\" xlink:href=\"#mcaab42a03f\" y=\"82.80138\"/>\n     <use style=\"fill:#1f77b4;stroke:#1f77b4;\" x=\"117.050417\" xlink:href=\"#mcaab42a03f\" y=\"71.258477\"/>\n     <use style=\"fill:#1f77b4;stroke:#1f77b4;\" x=\"111.916065\" xlink:href=\"#mcaab42a03f\" y=\"63.40721\"/>\n     <use style=\"fill:#1f77b4;stroke:#1f77b4;\" x=\"127.185613\" xlink:href=\"#mcaab42a03f\" y=\"70.66387\"/>\n     <use style=\"fill:#1f77b4;stroke:#1f77b4;\" x=\"128.416484\" xlink:href=\"#mcaab42a03f\" y=\"71.874946\"/>\n     <use style=\"fill:#1f77b4;stroke:#1f77b4;\" x=\"91.250194\" xlink:href=\"#mcaab42a03f\" y=\"51.096986\"/>\n     <use style=\"fill:#1f77b4;stroke:#1f77b4;\" x=\"128.984868\" xlink:href=\"#mcaab42a03f\" y=\"68.962501\"/>\n     <use style=\"fill:#1f77b4;stroke:#1f77b4;\" x=\"117.394579\" xlink:href=\"#mcaab42a03f\" y=\"73.013402\"/>\n     <use style=\"fill:#1f77b4;stroke:#1f77b4;\" x=\"133.985748\" xlink:href=\"#mcaab42a03f\" y=\"70.295647\"/>\n     <use style=\"fill:#1f77b4;stroke:#1f77b4;\" x=\"159.91243\" xlink:href=\"#mcaab42a03f\" y=\"87.740977\"/>\n     <use style=\"fill:#1f77b4;stroke:#1f77b4;\" x=\"127.096135\" xlink:href=\"#mcaab42a03f\" y=\"82.477777\"/>\n     <use style=\"fill:#1f77b4;stroke:#1f77b4;\" x=\"172.282047\" xlink:href=\"#mcaab42a03f\" y=\"103.152786\"/>\n     <use style=\"fill:#1f77b4;stroke:#1f77b4;\" x=\"128.075542\" xlink:href=\"#mcaab42a03f\" y=\"64.996933\"/>\n     <use style=\"fill:#1f77b4;stroke:#1f77b4;\" x=\"127.286876\" xlink:href=\"#mcaab42a03f\" y=\"68.926696\"/>\n     <use style=\"fill:#1f77b4;stroke:#1f77b4;\" x=\"176.389056\" xlink:href=\"#mcaab42a03f\" y=\"107.045491\"/>\n     <use style=\"fill:#1f77b4;stroke:#1f77b4;\" x=\"129.612223\" xlink:href=\"#mcaab42a03f\" y=\"72.446905\"/>\n     <use style=\"fill:#1f77b4;stroke:#1f77b4;\" x=\"140.839144\" xlink:href=\"#mcaab42a03f\" y=\"88.621871\"/>\n     <use style=\"fill:#1f77b4;stroke:#1f77b4;\" x=\"104.428349\" xlink:href=\"#mcaab42a03f\" y=\"61.073946\"/>\n     <use style=\"fill:#1f77b4;stroke:#1f77b4;\" x=\"150.086209\" xlink:href=\"#mcaab42a03f\" y=\"96.03711\"/>\n     <use style=\"fill:#1f77b4;stroke:#1f77b4;\" x=\"115.098585\" xlink:href=\"#mcaab42a03f\" y=\"59.305664\"/>\n     <use style=\"fill:#1f77b4;stroke:#1f77b4;\" x=\"91.169382\" xlink:href=\"#mcaab42a03f\" y=\"43.774394\"/>\n     <use style=\"fill:#1f77b4;stroke:#1f77b4;\" x=\"134.854801\" xlink:href=\"#mcaab42a03f\" y=\"79.845518\"/>\n     <use style=\"fill:#1f77b4;stroke:#1f77b4;\" x=\"130.098457\" xlink:href=\"#mcaab42a03f\" y=\"61.120616\"/>\n     <use style=\"fill:#1f77b4;stroke:#1f77b4;\" x=\"119.801228\" xlink:href=\"#mcaab42a03f\" y=\"84.890836\"/>\n     <use style=\"fill:#1f77b4;stroke:#1f77b4;\" x=\"170.076262\" xlink:href=\"#mcaab42a03f\" y=\"93.767465\"/>\n     <use style=\"fill:#1f77b4;stroke:#1f77b4;\" x=\"121.266757\" xlink:href=\"#mcaab42a03f\" y=\"56.292482\"/>\n     <use style=\"fill:#1f77b4;stroke:#1f77b4;\" x=\"133.712209\" xlink:href=\"#mcaab42a03f\" y=\"66.310823\"/>\n     <use style=\"fill:#1f77b4;stroke:#1f77b4;\" x=\"132.509134\" xlink:href=\"#mcaab42a03f\" y=\"70.569314\"/>\n     <use style=\"fill:#1f77b4;stroke:#1f77b4;\" x=\"140.824013\" xlink:href=\"#mcaab42a03f\" y=\"81.561984\"/>\n     <use style=\"fill:#1f77b4;stroke:#1f77b4;\" x=\"175.779361\" xlink:href=\"#mcaab42a03f\" y=\"112.246087\"/>\n     <use style=\"fill:#1f77b4;stroke:#1f77b4;\" x=\"136.776178\" xlink:href=\"#mcaab42a03f\" y=\"86.617963\"/>\n     <use style=\"fill:#1f77b4;stroke:#1f77b4;\" x=\"90.528744\" xlink:href=\"#mcaab42a03f\" y=\"49.333383\"/>\n     <use style=\"fill:#1f77b4;stroke:#1f77b4;\" x=\"190.34832\" xlink:href=\"#mcaab42a03f\" y=\"124.818487\"/>\n     <use style=\"fill:#1f77b4;stroke:#1f77b4;\" x=\"121.539737\" xlink:href=\"#mcaab42a03f\" y=\"74.453279\"/>\n     <use style=\"fill:#1f77b4;stroke:#1f77b4;\" x=\"122.471909\" xlink:href=\"#mcaab42a03f\" y=\"82.344592\"/>\n     <use style=\"fill:#1f77b4;stroke:#1f77b4;\" x=\"134.767254\" xlink:href=\"#mcaab42a03f\" y=\"79.736156\"/>\n     <use style=\"fill:#1f77b4;stroke:#1f77b4;\" x=\"180.847677\" xlink:href=\"#mcaab42a03f\" y=\"100.135076\"/>\n     <use style=\"fill:#1f77b4;stroke:#1f77b4;\" x=\"140.053475\" xlink:href=\"#mcaab42a03f\" y=\"97.475172\"/>\n     <use style=\"fill:#1f77b4;stroke:#1f77b4;\" x=\"105.445921\" xlink:href=\"#mcaab42a03f\" y=\"65.910939\"/>\n     <use style=\"fill:#1f77b4;stroke:#1f77b4;\" x=\"134.159152\" xlink:href=\"#mcaab42a03f\" y=\"65.691179\"/>\n     <use style=\"fill:#1f77b4;stroke:#1f77b4;\" x=\"140.404343\" xlink:href=\"#mcaab42a03f\" y=\"69.277083\"/>\n     <use style=\"fill:#1f77b4;stroke:#1f77b4;\" x=\"125.348145\" xlink:href=\"#mcaab42a03f\" y=\"83.268941\"/>\n     <use style=\"fill:#1f77b4;stroke:#1f77b4;\" x=\"114.844275\" xlink:href=\"#mcaab42a03f\" y=\"51.496338\"/>\n     <use style=\"fill:#1f77b4;stroke:#1f77b4;\" x=\"147.223542\" xlink:href=\"#mcaab42a03f\" y=\"90.136914\"/>\n     <use style=\"fill:#1f77b4;stroke:#1f77b4;\" x=\"159.714786\" xlink:href=\"#mcaab42a03f\" y=\"103.847814\"/>\n     <use style=\"fill:#1f77b4;stroke:#1f77b4;\" x=\"157.176997\" xlink:href=\"#mcaab42a03f\" y=\"114.256213\"/>\n     <use style=\"fill:#1f77b4;stroke:#1f77b4;\" x=\"126.923844\" xlink:href=\"#mcaab42a03f\" y=\"72.570283\"/>\n     <use style=\"fill:#1f77b4;stroke:#1f77b4;\" x=\"101.84782\" xlink:href=\"#mcaab42a03f\" y=\"42.590447\"/>\n     <use style=\"fill:#1f77b4;stroke:#1f77b4;\" x=\"130.565599\" xlink:href=\"#mcaab42a03f\" y=\"87.86279\"/>\n     <use style=\"fill:#1f77b4;stroke:#1f77b4;\" x=\"125.704313\" xlink:href=\"#mcaab42a03f\" y=\"74.671634\"/>\n     <use style=\"fill:#1f77b4;stroke:#1f77b4;\" x=\"132.980943\" xlink:href=\"#mcaab42a03f\" y=\"79.388806\"/>\n     <use style=\"fill:#1f77b4;stroke:#1f77b4;\" x=\"151.088098\" xlink:href=\"#mcaab42a03f\" y=\"95.850411\"/>\n     <use style=\"fill:#1f77b4;stroke:#1f77b4;\" x=\"169.692733\" xlink:href=\"#mcaab42a03f\" y=\"116.376425\"/>\n     <use style=\"fill:#1f77b4;stroke:#1f77b4;\" x=\"104.855786\" xlink:href=\"#mcaab42a03f\" y=\"62.021465\"/>\n     <use style=\"fill:#1f77b4;stroke:#1f77b4;\" x=\"129.732175\" xlink:href=\"#mcaab42a03f\" y=\"65.868977\"/>\n     <use style=\"fill:#1f77b4;stroke:#1f77b4;\" x=\"108.371983\" xlink:href=\"#mcaab42a03f\" y=\"47.865793\"/>\n     <use style=\"fill:#1f77b4;stroke:#1f77b4;\" x=\"116.276446\" xlink:href=\"#mcaab42a03f\" y=\"68.99167\"/>\n     <use style=\"fill:#1f77b4;stroke:#1f77b4;\" x=\"129.543519\" xlink:href=\"#mcaab42a03f\" y=\"58.192452\"/>\n     <use style=\"fill:#1f77b4;stroke:#1f77b4;\" x=\"128.008606\" xlink:href=\"#mcaab42a03f\" y=\"72.101583\"/>\n     <use style=\"fill:#1f77b4;stroke:#1f77b4;\" x=\"156.099475\" xlink:href=\"#mcaab42a03f\" y=\"83.323098\"/>\n     <use style=\"fill:#1f77b4;stroke:#1f77b4;\" x=\"127.179885\" xlink:href=\"#mcaab42a03f\" y=\"75.85416\"/>\n     <use style=\"fill:#1f77b4;stroke:#1f77b4;\" x=\"112.987164\" xlink:href=\"#mcaab42a03f\" y=\"66.789455\"/>\n     <use style=\"fill:#1f77b4;stroke:#1f77b4;\" x=\"105.986968\" xlink:href=\"#mcaab42a03f\" y=\"60.242274\"/>\n     <use style=\"fill:#1f77b4;stroke:#1f77b4;\" x=\"127.671984\" xlink:href=\"#mcaab42a03f\" y=\"79.908326\"/>\n     <use style=\"fill:#1f77b4;stroke:#1f77b4;\" x=\"148.215677\" xlink:href=\"#mcaab42a03f\" y=\"94.234422\"/>\n     <use style=\"fill:#1f77b4;stroke:#1f77b4;\" x=\"186.230739\" xlink:href=\"#mcaab42a03f\" y=\"121.215935\"/>\n     <use style=\"fill:#1f77b4;stroke:#1f77b4;\" x=\"126.38688\" xlink:href=\"#mcaab42a03f\" y=\"57.489233\"/>\n     <use style=\"fill:#1f77b4;stroke:#1f77b4;\" x=\"154.820649\" xlink:href=\"#mcaab42a03f\" y=\"86.687513\"/>\n     <use style=\"fill:#1f77b4;stroke:#1f77b4;\" x=\"118.969882\" xlink:href=\"#mcaab42a03f\" y=\"88.689333\"/>\n     <use style=\"fill:#1f77b4;stroke:#1f77b4;\" x=\"163.369867\" xlink:href=\"#mcaab42a03f\" y=\"96.085307\"/>\n     <use style=\"fill:#1f77b4;stroke:#1f77b4;\" x=\"120.433096\" xlink:href=\"#mcaab42a03f\" y=\"71.501429\"/>\n     <use style=\"fill:#1f77b4;stroke:#1f77b4;\" x=\"132.98007\" xlink:href=\"#mcaab42a03f\" y=\"80.687378\"/>\n     <use style=\"fill:#1f77b4;stroke:#1f77b4;\" x=\"121.400575\" xlink:href=\"#mcaab42a03f\" y=\"71.703205\"/>\n     <use style=\"fill:#1f77b4;stroke:#1f77b4;\" x=\"148.56731\" xlink:href=\"#mcaab42a03f\" y=\"86.354394\"/>\n     <use style=\"fill:#1f77b4;stroke:#1f77b4;\" x=\"129.212533\" xlink:href=\"#mcaab42a03f\" y=\"77.504513\"/>\n     <use style=\"fill:#1f77b4;stroke:#1f77b4;\" x=\"117.086605\" xlink:href=\"#mcaab42a03f\" y=\"64.608497\"/>\n     <use style=\"fill:#1f77b4;stroke:#1f77b4;\" x=\"169.217835\" xlink:href=\"#mcaab42a03f\" y=\"100.034973\"/>\n     <use style=\"fill:#1f77b4;stroke:#1f77b4;\" x=\"127.38108\" xlink:href=\"#mcaab42a03f\" y=\"89.246161\"/>\n     <use style=\"fill:#1f77b4;stroke:#1f77b4;\" x=\"150.889023\" xlink:href=\"#mcaab42a03f\" y=\"113.991102\"/>\n     <use style=\"fill:#1f77b4;stroke:#1f77b4;\" x=\"162.368963\" xlink:href=\"#mcaab42a03f\" y=\"86.900111\"/>\n     <use style=\"fill:#1f77b4;stroke:#1f77b4;\" x=\"129.821857\" xlink:href=\"#mcaab42a03f\" y=\"85.078954\"/>\n     <use style=\"fill:#1f77b4;stroke:#1f77b4;\" x=\"152.926359\" xlink:href=\"#mcaab42a03f\" y=\"89.546535\"/>\n     <use style=\"fill:#1f77b4;stroke:#1f77b4;\" x=\"95.539018\" xlink:href=\"#mcaab42a03f\" y=\"65.957329\"/>\n     <use style=\"fill:#1f77b4;stroke:#1f77b4;\" x=\"123.800576\" xlink:href=\"#mcaab42a03f\" y=\"77.995483\"/>\n     <use style=\"fill:#1f77b4;stroke:#1f77b4;\" x=\"162.867413\" xlink:href=\"#mcaab42a03f\" y=\"89.308354\"/>\n     <use style=\"fill:#1f77b4;stroke:#1f77b4;\" x=\"136.793427\" xlink:href=\"#mcaab42a03f\" y=\"89.799042\"/>\n     <use style=\"fill:#1f77b4;stroke:#1f77b4;\" x=\"115.604709\" xlink:href=\"#mcaab42a03f\" y=\"74.735456\"/>\n     <use style=\"fill:#1f77b4;stroke:#1f77b4;\" x=\"101.288718\" xlink:href=\"#mcaab42a03f\" y=\"50.054225\"/>\n     <use style=\"fill:#1f77b4;stroke:#1f77b4;\" x=\"158.410118\" xlink:href=\"#mcaab42a03f\" y=\"85.033925\"/>\n     <use style=\"fill:#1f77b4;stroke:#1f77b4;\" x=\"128.108732\" xlink:href=\"#mcaab42a03f\" y=\"66.945164\"/>\n     <use style=\"fill:#1f77b4;stroke:#1f77b4;\" x=\"89.971381\" xlink:href=\"#mcaab42a03f\" y=\"44.716556\"/>\n     <use style=\"fill:#1f77b4;stroke:#1f77b4;\" x=\"135.543046\" xlink:href=\"#mcaab42a03f\" y=\"72.96837\"/>\n     <use style=\"fill:#1f77b4;stroke:#1f77b4;\" x=\"165.037508\" xlink:href=\"#mcaab42a03f\" y=\"110.332004\"/>\n     <use style=\"fill:#1f77b4;stroke:#1f77b4;\" x=\"145.068285\" xlink:href=\"#mcaab42a03f\" y=\"79.927989\"/>\n     <use style=\"fill:#1f77b4;stroke:#1f77b4;\" x=\"127.658995\" xlink:href=\"#mcaab42a03f\" y=\"73.388102\"/>\n     <use style=\"fill:#1f77b4;stroke:#1f77b4;\" x=\"154.989108\" xlink:href=\"#mcaab42a03f\" y=\"81.40372\"/>\n     <use style=\"fill:#1f77b4;stroke:#1f77b4;\" x=\"168.238083\" xlink:href=\"#mcaab42a03f\" y=\"100.668684\"/>\n     <use style=\"fill:#1f77b4;stroke:#1f77b4;\" x=\"127.147882\" xlink:href=\"#mcaab42a03f\" y=\"73.325927\"/>\n     <use style=\"fill:#1f77b4;stroke:#1f77b4;\" x=\"105.669172\" xlink:href=\"#mcaab42a03f\" y=\"62.004662\"/>\n     <use style=\"fill:#1f77b4;stroke:#1f77b4;\" x=\"116.788699\" xlink:href=\"#mcaab42a03f\" y=\"63.640655\"/>\n     <use style=\"fill:#1f77b4;stroke:#1f77b4;\" x=\"137.464831\" xlink:href=\"#mcaab42a03f\" y=\"77.876572\"/>\n     <use style=\"fill:#1f77b4;stroke:#1f77b4;\" x=\"152.104824\" xlink:href=\"#mcaab42a03f\" y=\"96.269966\"/>\n     <use style=\"fill:#1f77b4;stroke:#1f77b4;\" x=\"180.202256\" xlink:href=\"#mcaab42a03f\" y=\"118.314346\"/>\n     <use style=\"fill:#1f77b4;stroke:#1f77b4;\" x=\"128.45681\" xlink:href=\"#mcaab42a03f\" y=\"67.710224\"/>\n     <use style=\"fill:#1f77b4;stroke:#1f77b4;\" x=\"167.710601\" xlink:href=\"#mcaab42a03f\" y=\"92.594109\"/>\n     <use style=\"fill:#1f77b4;stroke:#1f77b4;\" x=\"131.527337\" xlink:href=\"#mcaab42a03f\" y=\"81.184296\"/>\n     <use style=\"fill:#1f77b4;stroke:#1f77b4;\" x=\"105.360325\" xlink:href=\"#mcaab42a03f\" y=\"49.33503\"/>\n     <use style=\"fill:#1f77b4;stroke:#1f77b4;\" x=\"68.095066\" xlink:href=\"#mcaab42a03f\" y=\"64.395164\"/>\n     <use style=\"fill:#1f77b4;stroke:#1f77b4;\" x=\"147.059445\" xlink:href=\"#mcaab42a03f\" y=\"74.731559\"/>\n     <use style=\"fill:#1f77b4;stroke:#1f77b4;\" x=\"144.20676\" xlink:href=\"#mcaab42a03f\" y=\"81.752099\"/>\n     <use style=\"fill:#1f77b4;stroke:#1f77b4;\" x=\"154.892531\" xlink:href=\"#mcaab42a03f\" y=\"88.923522\"/>\n     <use style=\"fill:#1f77b4;stroke:#1f77b4;\" x=\"147.226194\" xlink:href=\"#mcaab42a03f\" y=\"73.344848\"/>\n     <use style=\"fill:#1f77b4;stroke:#1f77b4;\" x=\"160.998844\" xlink:href=\"#mcaab42a03f\" y=\"83.044884\"/>\n     <use style=\"fill:#1f77b4;stroke:#1f77b4;\" x=\"132.216341\" xlink:href=\"#mcaab42a03f\" y=\"88.553612\"/>\n     <use style=\"fill:#1f77b4;stroke:#1f77b4;\" x=\"144.762802\" xlink:href=\"#mcaab42a03f\" y=\"84.446999\"/>\n     <use style=\"fill:#1f77b4;stroke:#1f77b4;\" x=\"157.884684\" xlink:href=\"#mcaab42a03f\" y=\"92.881011\"/>\n     <use style=\"fill:#1f77b4;stroke:#1f77b4;\" x=\"58.209224\" xlink:href=\"#mcaab42a03f\" y=\"13.377273\"/>\n     <use style=\"fill:#1f77b4;stroke:#1f77b4;\" x=\"134.789912\" xlink:href=\"#mcaab42a03f\" y=\"76.922431\"/>\n     <use style=\"fill:#1f77b4;stroke:#1f77b4;\" x=\"118.236818\" xlink:href=\"#mcaab42a03f\" y=\"81.666132\"/>\n     <use style=\"fill:#1f77b4;stroke:#1f77b4;\" x=\"78.81432\" xlink:href=\"#mcaab42a03f\" y=\"35.573033\"/>\n     <use style=\"fill:#1f77b4;stroke:#1f77b4;\" x=\"125.963776\" xlink:href=\"#mcaab42a03f\" y=\"72.959159\"/>\n     <use style=\"fill:#1f77b4;stroke:#1f77b4;\" x=\"111.888064\" xlink:href=\"#mcaab42a03f\" y=\"68.357021\"/>\n     <use style=\"fill:#1f77b4;stroke:#1f77b4;\" x=\"147.746459\" xlink:href=\"#mcaab42a03f\" y=\"80.652782\"/>\n     <use style=\"fill:#1f77b4;stroke:#1f77b4;\" x=\"158.314025\" xlink:href=\"#mcaab42a03f\" y=\"94.944798\"/>\n     <use style=\"fill:#1f77b4;stroke:#1f77b4;\" x=\"126.128112\" xlink:href=\"#mcaab42a03f\" y=\"80.229108\"/>\n     <use style=\"fill:#1f77b4;stroke:#1f77b4;\" x=\"142.488399\" xlink:href=\"#mcaab42a03f\" y=\"86.462549\"/>\n     <use style=\"fill:#1f77b4;stroke:#1f77b4;\" x=\"122.519457\" xlink:href=\"#mcaab42a03f\" y=\"71.449597\"/>\n     <use style=\"fill:#1f77b4;stroke:#1f77b4;\" x=\"151.755958\" xlink:href=\"#mcaab42a03f\" y=\"79.456067\"/>\n     <use style=\"fill:#1f77b4;stroke:#1f77b4;\" x=\"143.616683\" xlink:href=\"#mcaab42a03f\" y=\"82.83819\"/>\n     <use style=\"fill:#1f77b4;stroke:#1f77b4;\" x=\"107.002575\" xlink:href=\"#mcaab42a03f\" y=\"53.659167\"/>\n     <use style=\"fill:#1f77b4;stroke:#1f77b4;\" x=\"105.186932\" xlink:href=\"#mcaab42a03f\" y=\"58.000054\"/>\n     <use style=\"fill:#1f77b4;stroke:#1f77b4;\" x=\"95.320085\" xlink:href=\"#mcaab42a03f\" y=\"58.397755\"/>\n     <use style=\"fill:#1f77b4;stroke:#1f77b4;\" x=\"139.083997\" xlink:href=\"#mcaab42a03f\" y=\"75.691207\"/>\n     <use style=\"fill:#1f77b4;stroke:#1f77b4;\" x=\"120.472152\" xlink:href=\"#mcaab42a03f\" y=\"67.442656\"/>\n     <use style=\"fill:#1f77b4;stroke:#1f77b4;\" x=\"109.794814\" xlink:href=\"#mcaab42a03f\" y=\"69.803053\"/>\n     <use style=\"fill:#1f77b4;stroke:#1f77b4;\" x=\"99.352014\" xlink:href=\"#mcaab42a03f\" y=\"39.223218\"/>\n     <use style=\"fill:#1f77b4;stroke:#1f77b4;\" x=\"148.717893\" xlink:href=\"#mcaab42a03f\" y=\"102.310095\"/>\n     <use style=\"fill:#1f77b4;stroke:#1f77b4;\" x=\"122.754584\" xlink:href=\"#mcaab42a03f\" y=\"63.932448\"/>\n     <use style=\"fill:#1f77b4;stroke:#1f77b4;\" x=\"115.321091\" xlink:href=\"#mcaab42a03f\" y=\"56.255349\"/>\n     <use style=\"fill:#1f77b4;stroke:#1f77b4;\" x=\"146.122332\" xlink:href=\"#mcaab42a03f\" y=\"89.244716\"/>\n     <use style=\"fill:#1f77b4;stroke:#1f77b4;\" x=\"116.78589\" xlink:href=\"#mcaab42a03f\" y=\"74.989868\"/>\n     <use style=\"fill:#1f77b4;stroke:#1f77b4;\" x=\"73.905886\" xlink:href=\"#mcaab42a03f\" y=\"60.416727\"/>\n     <use style=\"fill:#1f77b4;stroke:#1f77b4;\" x=\"144.697555\" xlink:href=\"#mcaab42a03f\" y=\"74.520707\"/>\n     <use style=\"fill:#1f77b4;stroke:#1f77b4;\" x=\"122.832502\" xlink:href=\"#mcaab42a03f\" y=\"61.363305\"/>\n     <use style=\"fill:#1f77b4;stroke:#1f77b4;\" x=\"176.039033\" xlink:href=\"#mcaab42a03f\" y=\"115.479272\"/>\n     <use style=\"fill:#1f77b4;stroke:#1f77b4;\" x=\"140.042839\" xlink:href=\"#mcaab42a03f\" y=\"80.669615\"/>\n     <use style=\"fill:#1f77b4;stroke:#1f77b4;\" x=\"144.808086\" xlink:href=\"#mcaab42a03f\" y=\"106.482436\"/>\n     <use style=\"fill:#1f77b4;stroke:#1f77b4;\" x=\"128.035646\" xlink:href=\"#mcaab42a03f\" y=\"71.004262\"/>\n     <use style=\"fill:#1f77b4;stroke:#1f77b4;\" x=\"105.626979\" xlink:href=\"#mcaab42a03f\" y=\"36.105822\"/>\n     <use style=\"fill:#1f77b4;stroke:#1f77b4;\" x=\"168.866969\" xlink:href=\"#mcaab42a03f\" y=\"102.271407\"/>\n     <use style=\"fill:#1f77b4;stroke:#1f77b4;\" x=\"110.565666\" xlink:href=\"#mcaab42a03f\" y=\"48.363325\"/>\n     <use style=\"fill:#1f77b4;stroke:#1f77b4;\" x=\"153.852633\" xlink:href=\"#mcaab42a03f\" y=\"106.73388\"/>\n     <use style=\"fill:#1f77b4;stroke:#1f77b4;\" x=\"125.784533\" xlink:href=\"#mcaab42a03f\" y=\"67.755366\"/>\n     <use style=\"fill:#1f77b4;stroke:#1f77b4;\" x=\"130.63047\" xlink:href=\"#mcaab42a03f\" y=\"72.310412\"/>\n     <use style=\"fill:#1f77b4;stroke:#1f77b4;\" x=\"141.774418\" xlink:href=\"#mcaab42a03f\" y=\"60.739244\"/>\n     <use style=\"fill:#1f77b4;stroke:#1f77b4;\" x=\"111.751701\" xlink:href=\"#mcaab42a03f\" y=\"61.961644\"/>\n     <use style=\"fill:#1f77b4;stroke:#1f77b4;\" x=\"150.02834\" xlink:href=\"#mcaab42a03f\" y=\"95.221592\"/>\n     <use style=\"fill:#1f77b4;stroke:#1f77b4;\" x=\"138.544306\" xlink:href=\"#mcaab42a03f\" y=\"94.652134\"/>\n     <use style=\"fill:#1f77b4;stroke:#1f77b4;\" x=\"104.969112\" xlink:href=\"#mcaab42a03f\" y=\"46.566743\"/>\n     <use style=\"fill:#1f77b4;stroke:#1f77b4;\" x=\"136.923195\" xlink:href=\"#mcaab42a03f\" y=\"65.330588\"/>\n     <use style=\"fill:#1f77b4;stroke:#1f77b4;\" x=\"144.961399\" xlink:href=\"#mcaab42a03f\" y=\"81.953958\"/>\n     <use style=\"fill:#1f77b4;stroke:#1f77b4;\" x=\"105.607518\" xlink:href=\"#mcaab42a03f\" y=\"51.496659\"/>\n     <use style=\"fill:#1f77b4;stroke:#1f77b4;\" x=\"134.950047\" xlink:href=\"#mcaab42a03f\" y=\"66.416196\"/>\n     <use style=\"fill:#1f77b4;stroke:#1f77b4;\" x=\"156.544779\" xlink:href=\"#mcaab42a03f\" y=\"101.005292\"/>\n     <use style=\"fill:#1f77b4;stroke:#1f77b4;\" x=\"163.896222\" xlink:href=\"#mcaab42a03f\" y=\"111.671803\"/>\n     <use style=\"fill:#1f77b4;stroke:#1f77b4;\" x=\"139.254487\" xlink:href=\"#mcaab42a03f\" y=\"55.604579\"/>\n     <use style=\"fill:#1f77b4;stroke:#1f77b4;\" x=\"118.34877\" xlink:href=\"#mcaab42a03f\" y=\"71.449869\"/>\n     <use style=\"fill:#1f77b4;stroke:#1f77b4;\" x=\"121.615391\" xlink:href=\"#mcaab42a03f\" y=\"68.125381\"/>\n     <use style=\"fill:#1f77b4;stroke:#1f77b4;\" x=\"152.875186\" xlink:href=\"#mcaab42a03f\" y=\"87.594567\"/>\n     <use style=\"fill:#1f77b4;stroke:#1f77b4;\" x=\"154.351139\" xlink:href=\"#mcaab42a03f\" y=\"107.695082\"/>\n     <use style=\"fill:#1f77b4;stroke:#1f77b4;\" x=\"118.919835\" xlink:href=\"#mcaab42a03f\" y=\"61.590676\"/>\n     <use style=\"fill:#1f77b4;stroke:#1f77b4;\" x=\"142.993949\" xlink:href=\"#mcaab42a03f\" y=\"94.564568\"/>\n     <use style=\"fill:#1f77b4;stroke:#1f77b4;\" x=\"112.260629\" xlink:href=\"#mcaab42a03f\" y=\"53.840364\"/>\n     <use style=\"fill:#1f77b4;stroke:#1f77b4;\" x=\"122.088854\" xlink:href=\"#mcaab42a03f\" y=\"66.209097\"/>\n     <use style=\"fill:#1f77b4;stroke:#1f77b4;\" x=\"123.194466\" xlink:href=\"#mcaab42a03f\" y=\"70.037171\"/>\n     <use style=\"fill:#1f77b4;stroke:#1f77b4;\" x=\"119.584299\" xlink:href=\"#mcaab42a03f\" y=\"65.759414\"/>\n     <use style=\"fill:#1f77b4;stroke:#1f77b4;\" x=\"119.674848\" xlink:href=\"#mcaab42a03f\" y=\"84.337324\"/>\n     <use style=\"fill:#1f77b4;stroke:#1f77b4;\" x=\"150.724443\" xlink:href=\"#mcaab42a03f\" y=\"68.424534\"/>\n     <use style=\"fill:#1f77b4;stroke:#1f77b4;\" x=\"75.259272\" xlink:href=\"#mcaab42a03f\" y=\"22.303529\"/>\n     <use style=\"fill:#1f77b4;stroke:#1f77b4;\" x=\"170.140195\" xlink:href=\"#mcaab42a03f\" y=\"108.279197\"/>\n     <use style=\"fill:#1f77b4;stroke:#1f77b4;\" x=\"91.159197\" xlink:href=\"#mcaab42a03f\" y=\"53.638827\"/>\n     <use style=\"fill:#1f77b4;stroke:#1f77b4;\" x=\"211.483613\" xlink:href=\"#mcaab42a03f\" y=\"127.070833\"/>\n     <use style=\"fill:#1f77b4;stroke:#1f77b4;\" x=\"133.866272\" xlink:href=\"#mcaab42a03f\" y=\"100.84959\"/>\n     <use style=\"fill:#1f77b4;stroke:#1f77b4;\" x=\"163.803428\" xlink:href=\"#mcaab42a03f\" y=\"116.296145\"/>\n     <use style=\"fill:#1f77b4;stroke:#1f77b4;\" x=\"108.981705\" xlink:href=\"#mcaab42a03f\" y=\"43.059538\"/>\n     <use style=\"fill:#1f77b4;stroke:#1f77b4;\" x=\"139.815859\" xlink:href=\"#mcaab42a03f\" y=\"69.301391\"/>\n     <use style=\"fill:#1f77b4;stroke:#1f77b4;\" x=\"115.286547\" xlink:href=\"#mcaab42a03f\" y=\"67.812966\"/>\n     <use style=\"fill:#1f77b4;stroke:#1f77b4;\" x=\"105.932296\" xlink:href=\"#mcaab42a03f\" y=\"66.005752\"/>\n     <use style=\"fill:#1f77b4;stroke:#1f77b4;\" x=\"141.824345\" xlink:href=\"#mcaab42a03f\" y=\"77.370958\"/>\n     <use style=\"fill:#1f77b4;stroke:#1f77b4;\" x=\"151.561965\" xlink:href=\"#mcaab42a03f\" y=\"100.063096\"/>\n     <use style=\"fill:#1f77b4;stroke:#1f77b4;\" x=\"127.484523\" xlink:href=\"#mcaab42a03f\" y=\"68.672303\"/>\n     <use style=\"fill:#1f77b4;stroke:#1f77b4;\" x=\"141.645324\" xlink:href=\"#mcaab42a03f\" y=\"90.256549\"/>\n     <use style=\"fill:#1f77b4;stroke:#1f77b4;\" x=\"132.371523\" xlink:href=\"#mcaab42a03f\" y=\"55.75221\"/>\n     <use style=\"fill:#1f77b4;stroke:#1f77b4;\" x=\"98.787636\" xlink:href=\"#mcaab42a03f\" y=\"55.996493\"/>\n     <use style=\"fill:#1f77b4;stroke:#1f77b4;\" x=\"154.135249\" xlink:href=\"#mcaab42a03f\" y=\"86.211715\"/>\n     <use style=\"fill:#1f77b4;stroke:#1f77b4;\" x=\"153.169832\" xlink:href=\"#mcaab42a03f\" y=\"92.077453\"/>\n     <use style=\"fill:#1f77b4;stroke:#1f77b4;\" x=\"182.908618\" xlink:href=\"#mcaab42a03f\" y=\"115.616004\"/>\n     <use style=\"fill:#1f77b4;stroke:#1f77b4;\" x=\"134.022325\" xlink:href=\"#mcaab42a03f\" y=\"75.494677\"/>\n     <use style=\"fill:#1f77b4;stroke:#1f77b4;\" x=\"138.455663\" xlink:href=\"#mcaab42a03f\" y=\"91.965582\"/>\n     <use style=\"fill:#1f77b4;stroke:#1f77b4;\" x=\"143.746007\" xlink:href=\"#mcaab42a03f\" y=\"81.197801\"/>\n     <use style=\"fill:#1f77b4;stroke:#1f77b4;\" x=\"97.774548\" xlink:href=\"#mcaab42a03f\" y=\"54.35829\"/>\n     <use style=\"fill:#1f77b4;stroke:#1f77b4;\" x=\"134.886485\" xlink:href=\"#mcaab42a03f\" y=\"85.393432\"/>\n     <use style=\"fill:#1f77b4;stroke:#1f77b4;\" x=\"134.272901\" xlink:href=\"#mcaab42a03f\" y=\"83.663133\"/>\n     <use style=\"fill:#1f77b4;stroke:#1f77b4;\" x=\"147.290629\" xlink:href=\"#mcaab42a03f\" y=\"102.642257\"/>\n     <use style=\"fill:#1f77b4;stroke:#1f77b4;\" x=\"179.890353\" xlink:href=\"#mcaab42a03f\" y=\"93.791933\"/>\n     <use style=\"fill:#1f77b4;stroke:#1f77b4;\" x=\"162.980517\" xlink:href=\"#mcaab42a03f\" y=\"91.686793\"/>\n     <use style=\"fill:#1f77b4;stroke:#1f77b4;\" x=\"87.698889\" xlink:href=\"#mcaab42a03f\" y=\"49.465993\"/>\n     <use style=\"fill:#1f77b4;stroke:#1f77b4;\" x=\"137.192381\" xlink:href=\"#mcaab42a03f\" y=\"73.987823\"/>\n     <use style=\"fill:#1f77b4;stroke:#1f77b4;\" x=\"132.607137\" xlink:href=\"#mcaab42a03f\" y=\"84.20684\"/>\n     <use style=\"fill:#1f77b4;stroke:#1f77b4;\" x=\"158.537376\" xlink:href=\"#mcaab42a03f\" y=\"88.564203\"/>\n     <use style=\"fill:#1f77b4;stroke:#1f77b4;\" x=\"145.14986\" xlink:href=\"#mcaab42a03f\" y=\"78.860423\"/>\n     <use style=\"fill:#1f77b4;stroke:#1f77b4;\" x=\"102.46701\" xlink:href=\"#mcaab42a03f\" y=\"50.942553\"/>\n     <use style=\"fill:#1f77b4;stroke:#1f77b4;\" x=\"141.232239\" xlink:href=\"#mcaab42a03f\" y=\"66.857845\"/>\n     <use style=\"fill:#1f77b4;stroke:#1f77b4;\" x=\"143.376175\" xlink:href=\"#mcaab42a03f\" y=\"64.948412\"/>\n     <use style=\"fill:#1f77b4;stroke:#1f77b4;\" x=\"148.459717\" xlink:href=\"#mcaab42a03f\" y=\"89.462323\"/>\n     <use style=\"fill:#1f77b4;stroke:#1f77b4;\" x=\"124.220719\" xlink:href=\"#mcaab42a03f\" y=\"73.563135\"/>\n     <use style=\"fill:#1f77b4;stroke:#1f77b4;\" x=\"163.091444\" xlink:href=\"#mcaab42a03f\" y=\"104.646744\"/>\n     <use style=\"fill:#1f77b4;stroke:#1f77b4;\" x=\"148.428443\" xlink:href=\"#mcaab42a03f\" y=\"82.837973\"/>\n     <use style=\"fill:#1f77b4;stroke:#1f77b4;\" x=\"134.998505\" xlink:href=\"#mcaab42a03f\" y=\"77.509207\"/>\n     <use style=\"fill:#1f77b4;stroke:#1f77b4;\" x=\"144.72024\" xlink:href=\"#mcaab42a03f\" y=\"80.646347\"/>\n     <use style=\"fill:#1f77b4;stroke:#1f77b4;\" x=\"139.92375\" xlink:href=\"#mcaab42a03f\" y=\"79.247778\"/>\n     <use style=\"fill:#1f77b4;stroke:#1f77b4;\" x=\"159.554192\" xlink:href=\"#mcaab42a03f\" y=\"89.023878\"/>\n     <use style=\"fill:#1f77b4;stroke:#1f77b4;\" x=\"136.73169\" xlink:href=\"#mcaab42a03f\" y=\"65.743141\"/>\n     <use style=\"fill:#1f77b4;stroke:#1f77b4;\" x=\"136.628021\" xlink:href=\"#mcaab42a03f\" y=\"71.193455\"/>\n     <use style=\"fill:#1f77b4;stroke:#1f77b4;\" x=\"129.957205\" xlink:href=\"#mcaab42a03f\" y=\"78.494124\"/>\n     <use style=\"fill:#1f77b4;stroke:#1f77b4;\" x=\"121.932893\" xlink:href=\"#mcaab42a03f\" y=\"63.013817\"/>\n     <use style=\"fill:#1f77b4;stroke:#1f77b4;\" x=\"147.06755\" xlink:href=\"#mcaab42a03f\" y=\"99.256099\"/>\n     <use style=\"fill:#1f77b4;stroke:#1f77b4;\" x=\"176.167289\" xlink:href=\"#mcaab42a03f\" y=\"118.674297\"/>\n     <use style=\"fill:#1f77b4;stroke:#1f77b4;\" x=\"148.14155\" xlink:href=\"#mcaab42a03f\" y=\"96.597296\"/>\n     <use style=\"fill:#1f77b4;stroke:#1f77b4;\" x=\"138.537181\" xlink:href=\"#mcaab42a03f\" y=\"89.630309\"/>\n     <use style=\"fill:#1f77b4;stroke:#1f77b4;\" x=\"120.980347\" xlink:href=\"#mcaab42a03f\" y=\"59.620743\"/>\n     <use style=\"fill:#1f77b4;stroke:#1f77b4;\" x=\"169.57935\" xlink:href=\"#mcaab42a03f\" y=\"98.33972\"/>\n     <use style=\"fill:#1f77b4;stroke:#1f77b4;\" x=\"115.094997\" xlink:href=\"#mcaab42a03f\" y=\"67.80869\"/>\n     <use style=\"fill:#1f77b4;stroke:#1f77b4;\" x=\"155.29875\" xlink:href=\"#mcaab42a03f\" y=\"93.90814\"/>\n     <use style=\"fill:#1f77b4;stroke:#1f77b4;\" x=\"170.337101\" xlink:href=\"#mcaab42a03f\" y=\"116.019527\"/>\n     <use style=\"fill:#1f77b4;stroke:#1f77b4;\" x=\"84.610732\" xlink:href=\"#mcaab42a03f\" y=\"50.888699\"/>\n     <use style=\"fill:#1f77b4;stroke:#1f77b4;\" x=\"148.639216\" xlink:href=\"#mcaab42a03f\" y=\"85.633912\"/>\n     <use style=\"fill:#1f77b4;stroke:#1f77b4;\" x=\"123.403211\" xlink:href=\"#mcaab42a03f\" y=\"69.905192\"/>\n     <use style=\"fill:#1f77b4;stroke:#1f77b4;\" x=\"80.095631\" xlink:href=\"#mcaab42a03f\" y=\"47.045164\"/>\n     <use style=\"fill:#1f77b4;stroke:#1f77b4;\" x=\"120.571499\" xlink:href=\"#mcaab42a03f\" y=\"85.130787\"/>\n     <use style=\"fill:#1f77b4;stroke:#1f77b4;\" x=\"131.964772\" xlink:href=\"#mcaab42a03f\" y=\"76.337814\"/>\n     <use style=\"fill:#1f77b4;stroke:#1f77b4;\" x=\"164.442179\" xlink:href=\"#mcaab42a03f\" y=\"103.230476\"/>\n     <use style=\"fill:#1f77b4;stroke:#1f77b4;\" x=\"96.693392\" xlink:href=\"#mcaab42a03f\" y=\"47.265725\"/>\n     <use style=\"fill:#1f77b4;stroke:#1f77b4;\" x=\"153.637461\" xlink:href=\"#mcaab42a03f\" y=\"97.606535\"/>\n     <use style=\"fill:#1f77b4;stroke:#1f77b4;\" x=\"131.257538\" xlink:href=\"#mcaab42a03f\" y=\"70.22587\"/>\n     <use style=\"fill:#1f77b4;stroke:#1f77b4;\" x=\"116.797793\" xlink:href=\"#mcaab42a03f\" y=\"54.883713\"/>\n     <use style=\"fill:#1f77b4;stroke:#1f77b4;\" x=\"160.702425\" xlink:href=\"#mcaab42a03f\" y=\"97.195458\"/>\n     <use style=\"fill:#1f77b4;stroke:#1f77b4;\" x=\"117.065802\" xlink:href=\"#mcaab42a03f\" y=\"61.31961\"/>\n     <use style=\"fill:#1f77b4;stroke:#1f77b4;\" x=\"104.241382\" xlink:href=\"#mcaab42a03f\" y=\"59.168676\"/>\n     <use style=\"fill:#1f77b4;stroke:#1f77b4;\" x=\"152.847472\" xlink:href=\"#mcaab42a03f\" y=\"97.334348\"/>\n     <use style=\"fill:#1f77b4;stroke:#1f77b4;\" x=\"125.568963\" xlink:href=\"#mcaab42a03f\" y=\"63.028895\"/>\n     <use style=\"fill:#1f77b4;stroke:#1f77b4;\" x=\"135.731584\" xlink:href=\"#mcaab42a03f\" y=\"86.538467\"/>\n     <use style=\"fill:#1f77b4;stroke:#1f77b4;\" x=\"119.623549\" xlink:href=\"#mcaab42a03f\" y=\"73.550224\"/>\n     <use style=\"fill:#1f77b4;stroke:#1f77b4;\" x=\"132.47664\" xlink:href=\"#mcaab42a03f\" y=\"77.920897\"/>\n     <use style=\"fill:#1f77b4;stroke:#1f77b4;\" x=\"102.189481\" xlink:href=\"#mcaab42a03f\" y=\"57.139171\"/>\n     <use style=\"fill:#1f77b4;stroke:#1f77b4;\" x=\"129.307938\" xlink:href=\"#mcaab42a03f\" y=\"76.485354\"/>\n     <use style=\"fill:#1f77b4;stroke:#1f77b4;\" x=\"173.591765\" xlink:href=\"#mcaab42a03f\" y=\"89.632295\"/>\n     <use style=\"fill:#1f77b4;stroke:#1f77b4;\" x=\"133.543756\" xlink:href=\"#mcaab42a03f\" y=\"83.373923\"/>\n     <use style=\"fill:#1f77b4;stroke:#1f77b4;\" x=\"133.716821\" xlink:href=\"#mcaab42a03f\" y=\"68.176193\"/>\n     <use style=\"fill:#1f77b4;stroke:#1f77b4;\" x=\"107.796142\" xlink:href=\"#mcaab42a03f\" y=\"48.322946\"/>\n     <use style=\"fill:#1f77b4;stroke:#1f77b4;\" x=\"149.189258\" xlink:href=\"#mcaab42a03f\" y=\"84.054621\"/>\n     <use style=\"fill:#1f77b4;stroke:#1f77b4;\" x=\"134.146288\" xlink:href=\"#mcaab42a03f\" y=\"77.697909\"/>\n     <use style=\"fill:#1f77b4;stroke:#1f77b4;\" x=\"131.10666\" xlink:href=\"#mcaab42a03f\" y=\"55.927459\"/>\n     <use style=\"fill:#1f77b4;stroke:#1f77b4;\" x=\"122.954512\" xlink:href=\"#mcaab42a03f\" y=\"79.532695\"/>\n     <use style=\"fill:#1f77b4;stroke:#1f77b4;\" x=\"135.699067\" xlink:href=\"#mcaab42a03f\" y=\"72.439825\"/>\n     <use style=\"fill:#1f77b4;stroke:#1f77b4;\" x=\"143.212962\" xlink:href=\"#mcaab42a03f\" y=\"85.458442\"/>\n     <use style=\"fill:#1f77b4;stroke:#1f77b4;\" x=\"111.239513\" xlink:href=\"#mcaab42a03f\" y=\"77.259842\"/>\n     <use style=\"fill:#1f77b4;stroke:#1f77b4;\" x=\"132.032608\" xlink:href=\"#mcaab42a03f\" y=\"76.076925\"/>\n     <use style=\"fill:#1f77b4;stroke:#1f77b4;\" x=\"93.244677\" xlink:href=\"#mcaab42a03f\" y=\"39.493362\"/>\n     <use style=\"fill:#1f77b4;stroke:#1f77b4;\" x=\"159.002221\" xlink:href=\"#mcaab42a03f\" y=\"77.889702\"/>\n     <use style=\"fill:#1f77b4;stroke:#1f77b4;\" x=\"157.431362\" xlink:href=\"#mcaab42a03f\" y=\"71.74449\"/>\n     <use style=\"fill:#1f77b4;stroke:#1f77b4;\" x=\"142.843744\" xlink:href=\"#mcaab42a03f\" y=\"82.949139\"/>\n     <use style=\"fill:#1f77b4;stroke:#1f77b4;\" x=\"131.476923\" xlink:href=\"#mcaab42a03f\" y=\"73.297075\"/>\n     <use style=\"fill:#1f77b4;stroke:#1f77b4;\" x=\"176.969434\" xlink:href=\"#mcaab42a03f\" y=\"119.750269\"/>\n     <use style=\"fill:#1f77b4;stroke:#1f77b4;\" x=\"99.395231\" xlink:href=\"#mcaab42a03f\" y=\"45.972214\"/>\n     <use style=\"fill:#1f77b4;stroke:#1f77b4;\" x=\"145.587653\" xlink:href=\"#mcaab42a03f\" y=\"94.803902\"/>\n     <use style=\"fill:#1f77b4;stroke:#1f77b4;\" x=\"99.338245\" xlink:href=\"#mcaab42a03f\" y=\"58.307647\"/>\n     <use style=\"fill:#1f77b4;stroke:#1f77b4;\" x=\"124.367035\" xlink:href=\"#mcaab42a03f\" y=\"83.746875\"/>\n     <use style=\"fill:#1f77b4;stroke:#1f77b4;\" x=\"141.036703\" xlink:href=\"#mcaab42a03f\" y=\"77.833243\"/>\n     <use style=\"fill:#1f77b4;stroke:#1f77b4;\" x=\"115.54973\" xlink:href=\"#mcaab42a03f\" y=\"68.859055\"/>\n     <use style=\"fill:#1f77b4;stroke:#1f77b4;\" x=\"119.456733\" xlink:href=\"#mcaab42a03f\" y=\"81.829634\"/>\n     <use style=\"fill:#1f77b4;stroke:#1f77b4;\" x=\"139.615392\" xlink:href=\"#mcaab42a03f\" y=\"92.541476\"/>\n     <use style=\"fill:#1f77b4;stroke:#1f77b4;\" x=\"142.408498\" xlink:href=\"#mcaab42a03f\" y=\"63.997806\"/>\n     <use style=\"fill:#1f77b4;stroke:#1f77b4;\" x=\"104.012013\" xlink:href=\"#mcaab42a03f\" y=\"59.110057\"/>\n     <use style=\"fill:#1f77b4;stroke:#1f77b4;\" x=\"127.681066\" xlink:href=\"#mcaab42a03f\" y=\"68.55109\"/>\n     <use style=\"fill:#1f77b4;stroke:#1f77b4;\" x=\"190.800778\" xlink:href=\"#mcaab42a03f\" y=\"119.772105\"/>\n     <use style=\"fill:#1f77b4;stroke:#1f77b4;\" x=\"125.838948\" xlink:href=\"#mcaab42a03f\" y=\"77.78887\"/>\n     <use style=\"fill:#1f77b4;stroke:#1f77b4;\" x=\"116.135532\" xlink:href=\"#mcaab42a03f\" y=\"52.535853\"/>\n     <use style=\"fill:#1f77b4;stroke:#1f77b4;\" x=\"102.40715\" xlink:href=\"#mcaab42a03f\" y=\"42.23521\"/>\n     <use style=\"fill:#1f77b4;stroke:#1f77b4;\" x=\"132.34628\" xlink:href=\"#mcaab42a03f\" y=\"89.17154\"/>\n     <use style=\"fill:#1f77b4;stroke:#1f77b4;\" x=\"112.248786\" xlink:href=\"#mcaab42a03f\" y=\"45.852354\"/>\n     <use style=\"fill:#1f77b4;stroke:#1f77b4;\" x=\"158.911977\" xlink:href=\"#mcaab42a03f\" y=\"81.379258\"/>\n     <use style=\"fill:#1f77b4;stroke:#1f77b4;\" x=\"196.128932\" xlink:href=\"#mcaab42a03f\" y=\"113.281365\"/>\n     <use style=\"fill:#1f77b4;stroke:#1f77b4;\" x=\"118.901852\" xlink:href=\"#mcaab42a03f\" y=\"73.448926\"/>\n     <use style=\"fill:#1f77b4;stroke:#1f77b4;\" x=\"170.848373\" xlink:href=\"#mcaab42a03f\" y=\"106.593037\"/>\n     <use style=\"fill:#1f77b4;stroke:#1f77b4;\" x=\"111.320924\" xlink:href=\"#mcaab42a03f\" y=\"48.929215\"/>\n     <use style=\"fill:#1f77b4;stroke:#1f77b4;\" x=\"127.634507\" xlink:href=\"#mcaab42a03f\" y=\"70.89957\"/>\n     <use style=\"fill:#1f77b4;stroke:#1f77b4;\" x=\"138.720129\" xlink:href=\"#mcaab42a03f\" y=\"85.222575\"/>\n     <use style=\"fill:#1f77b4;stroke:#1f77b4;\" x=\"121.503311\" xlink:href=\"#mcaab42a03f\" y=\"55.839169\"/>\n     <use style=\"fill:#1f77b4;stroke:#1f77b4;\" x=\"142.134492\" xlink:href=\"#mcaab42a03f\" y=\"69.440651\"/>\n     <use style=\"fill:#1f77b4;stroke:#1f77b4;\" x=\"115.416014\" xlink:href=\"#mcaab42a03f\" y=\"43.095593\"/>\n     <use style=\"fill:#1f77b4;stroke:#1f77b4;\" x=\"125.537089\" xlink:href=\"#mcaab42a03f\" y=\"82.333167\"/>\n     <use style=\"fill:#1f77b4;stroke:#1f77b4;\" x=\"111.60396\" xlink:href=\"#mcaab42a03f\" y=\"54.839043\"/>\n     <use style=\"fill:#1f77b4;stroke:#1f77b4;\" x=\"125.555237\" xlink:href=\"#mcaab42a03f\" y=\"78.492951\"/>\n     <use style=\"fill:#1f77b4;stroke:#1f77b4;\" x=\"139.104366\" xlink:href=\"#mcaab42a03f\" y=\"87.614629\"/>\n     <use style=\"fill:#1f77b4;stroke:#1f77b4;\" x=\"98.36289\" xlink:href=\"#mcaab42a03f\" y=\"57.008859\"/>\n     <use style=\"fill:#1f77b4;stroke:#1f77b4;\" x=\"88.543319\" xlink:href=\"#mcaab42a03f\" y=\"56.44676\"/>\n     <use style=\"fill:#1f77b4;stroke:#1f77b4;\" x=\"147.380988\" xlink:href=\"#mcaab42a03f\" y=\"80.34948\"/>\n     <use style=\"fill:#1f77b4;stroke:#1f77b4;\" x=\"123.295006\" xlink:href=\"#mcaab42a03f\" y=\"57.224323\"/>\n     <use style=\"fill:#1f77b4;stroke:#1f77b4;\" x=\"98.892465\" xlink:href=\"#mcaab42a03f\" y=\"49.326458\"/>\n     <use style=\"fill:#1f77b4;stroke:#1f77b4;\" x=\"137.475518\" xlink:href=\"#mcaab42a03f\" y=\"65.591327\"/>\n     <use style=\"fill:#1f77b4;stroke:#1f77b4;\" x=\"138.940596\" xlink:href=\"#mcaab42a03f\" y=\"83.923553\"/>\n     <use style=\"fill:#1f77b4;stroke:#1f77b4;\" x=\"115.712005\" xlink:href=\"#mcaab42a03f\" y=\"70.723394\"/>\n     <use style=\"fill:#1f77b4;stroke:#1f77b4;\" x=\"137.213156\" xlink:href=\"#mcaab42a03f\" y=\"109.735278\"/>\n     <use style=\"fill:#1f77b4;stroke:#1f77b4;\" x=\"142.50161\" xlink:href=\"#mcaab42a03f\" y=\"71.986188\"/>\n     <use style=\"fill:#1f77b4;stroke:#1f77b4;\" x=\"165.520519\" xlink:href=\"#mcaab42a03f\" y=\"107.407775\"/>\n     <use style=\"fill:#1f77b4;stroke:#1f77b4;\" x=\"145.076695\" xlink:href=\"#mcaab42a03f\" y=\"91.899986\"/>\n     <use style=\"fill:#1f77b4;stroke:#1f77b4;\" x=\"169.118647\" xlink:href=\"#mcaab42a03f\" y=\"101.797927\"/>\n     <use style=\"fill:#1f77b4;stroke:#1f77b4;\" x=\"150.820539\" xlink:href=\"#mcaab42a03f\" y=\"96.418289\"/>\n     <use style=\"fill:#1f77b4;stroke:#1f77b4;\" x=\"129.206859\" xlink:href=\"#mcaab42a03f\" y=\"76.771574\"/>\n     <use style=\"fill:#1f77b4;stroke:#1f77b4;\" x=\"110.451785\" xlink:href=\"#mcaab42a03f\" y=\"51.758134\"/>\n     <use style=\"fill:#1f77b4;stroke:#1f77b4;\" x=\"136.644745\" xlink:href=\"#mcaab42a03f\" y=\"73.43652\"/>\n     <use style=\"fill:#1f77b4;stroke:#1f77b4;\" x=\"112.516658\" xlink:href=\"#mcaab42a03f\" y=\"52.160446\"/>\n     <use style=\"fill:#1f77b4;stroke:#1f77b4;\" x=\"148.953845\" xlink:href=\"#mcaab42a03f\" y=\"94.637978\"/>\n     <use style=\"fill:#1f77b4;stroke:#1f77b4;\" x=\"125.115585\" xlink:href=\"#mcaab42a03f\" y=\"80.740204\"/>\n     <use style=\"fill:#1f77b4;stroke:#1f77b4;\" x=\"164.421014\" xlink:href=\"#mcaab42a03f\" y=\"100.453241\"/>\n     <use style=\"fill:#1f77b4;stroke:#1f77b4;\" x=\"72.477875\" xlink:href=\"#mcaab42a03f\" y=\"35.000151\"/>\n     <use style=\"fill:#1f77b4;stroke:#1f77b4;\" x=\"108.607626\" xlink:href=\"#mcaab42a03f\" y=\"59.562836\"/>\n     <use style=\"fill:#1f77b4;stroke:#1f77b4;\" x=\"166.207118\" xlink:href=\"#mcaab42a03f\" y=\"111.795102\"/>\n     <use style=\"fill:#1f77b4;stroke:#1f77b4;\" x=\"157.37916\" xlink:href=\"#mcaab42a03f\" y=\"93.788798\"/>\n     <use style=\"fill:#1f77b4;stroke:#1f77b4;\" x=\"94.595106\" xlink:href=\"#mcaab42a03f\" y=\"47.371012\"/>\n     <use style=\"fill:#1f77b4;stroke:#1f77b4;\" x=\"152.821025\" xlink:href=\"#mcaab42a03f\" y=\"78.602218\"/>\n     <use style=\"fill:#1f77b4;stroke:#1f77b4;\" x=\"152.778859\" xlink:href=\"#mcaab42a03f\" y=\"109.319403\"/>\n     <use style=\"fill:#1f77b4;stroke:#1f77b4;\" x=\"213.551242\" xlink:href=\"#mcaab42a03f\" y=\"136.922727\"/>\n     <use style=\"fill:#1f77b4;stroke:#1f77b4;\" x=\"105.924166\" xlink:href=\"#mcaab42a03f\" y=\"47.759087\"/>\n     <use style=\"fill:#1f77b4;stroke:#1f77b4;\" x=\"109.276737\" xlink:href=\"#mcaab42a03f\" y=\"81.759802\"/>\n     <use style=\"fill:#1f77b4;stroke:#1f77b4;\" x=\"139.640981\" xlink:href=\"#mcaab42a03f\" y=\"88.005678\"/>\n     <use style=\"fill:#1f77b4;stroke:#1f77b4;\" x=\"111.576762\" xlink:href=\"#mcaab42a03f\" y=\"59.597817\"/>\n     <use style=\"fill:#1f77b4;stroke:#1f77b4;\" x=\"136.003868\" xlink:href=\"#mcaab42a03f\" y=\"96.771217\"/>\n     <use style=\"fill:#1f77b4;stroke:#1f77b4;\" x=\"95.538145\" xlink:href=\"#mcaab42a03f\" y=\"42.782553\"/>\n     <use style=\"fill:#1f77b4;stroke:#1f77b4;\" x=\"163.172454\" xlink:href=\"#mcaab42a03f\" y=\"96.884708\"/>\n     <use style=\"fill:#1f77b4;stroke:#1f77b4;\" x=\"154.627946\" xlink:href=\"#mcaab42a03f\" y=\"102.54983\"/>\n     <use style=\"fill:#1f77b4;stroke:#1f77b4;\" x=\"111.604887\" xlink:href=\"#mcaab42a03f\" y=\"56.38207\"/>\n     <use style=\"fill:#1f77b4;stroke:#1f77b4;\" x=\"133.013077\" xlink:href=\"#mcaab42a03f\" y=\"67.033126\"/>\n     <use style=\"fill:#1f77b4;stroke:#1f77b4;\" x=\"167.601845\" xlink:href=\"#mcaab42a03f\" y=\"110.824065\"/>\n     <use style=\"fill:#1f77b4;stroke:#1f77b4;\" x=\"126.692913\" xlink:href=\"#mcaab42a03f\" y=\"72.689572\"/>\n     <use style=\"fill:#1f77b4;stroke:#1f77b4;\" x=\"142.59582\" xlink:href=\"#mcaab42a03f\" y=\"83.990076\"/>\n     <use style=\"fill:#1f77b4;stroke:#1f77b4;\" x=\"130.946855\" xlink:href=\"#mcaab42a03f\" y=\"84.997978\"/>\n     <use style=\"fill:#1f77b4;stroke:#1f77b4;\" x=\"148.064424\" xlink:href=\"#mcaab42a03f\" y=\"89.630163\"/>\n     <use style=\"fill:#1f77b4;stroke:#1f77b4;\" x=\"125.771881\" xlink:href=\"#mcaab42a03f\" y=\"72.067219\"/>\n     <use style=\"fill:#1f77b4;stroke:#1f77b4;\" x=\"144.955959\" xlink:href=\"#mcaab42a03f\" y=\"74.46774\"/>\n     <use style=\"fill:#1f77b4;stroke:#1f77b4;\" x=\"177.798235\" xlink:href=\"#mcaab42a03f\" y=\"112.783033\"/>\n     <use style=\"fill:#1f77b4;stroke:#1f77b4;\" x=\"115.884894\" xlink:href=\"#mcaab42a03f\" y=\"48.822314\"/>\n     <use style=\"fill:#1f77b4;stroke:#1f77b4;\" x=\"122.32016\" xlink:href=\"#mcaab42a03f\" y=\"69.140624\"/>\n     <use style=\"fill:#1f77b4;stroke:#1f77b4;\" x=\"134.897597\" xlink:href=\"#mcaab42a03f\" y=\"75.048691\"/>\n    </g>\n   </g>\n   <g id=\"matplotlib.axis_1\">\n    <g id=\"xtick_1\">\n     <g id=\"line2d_1\">\n      <defs>\n       <path d=\"M 0 0 \nL 0 3.5 \n\" id=\"me2b5c8d674\" style=\"stroke:#000000;stroke-width:0.8;\"/>\n      </defs>\n      <g>\n       <use style=\"stroke:#000000;stroke-width:0.8;\" x=\"34.596269\" xlink:href=\"#me2b5c8d674\" y=\"143.1\"/>\n      </g>\n     </g>\n     <g id=\"text_1\">\n      <!-- −4 -->\n      <defs>\n       <path d=\"M 10.59375 35.5 \nL 73.1875 35.5 \nL 73.1875 27.203125 \nL 10.59375 27.203125 \nz\n\" id=\"DejaVuSans-8722\"/>\n       <path d=\"M 37.796875 64.3125 \nL 12.890625 25.390625 \nL 37.796875 25.390625 \nz\nM 35.203125 72.90625 \nL 47.609375 72.90625 \nL 47.609375 25.390625 \nL 58.015625 25.390625 \nL 58.015625 17.1875 \nL 47.609375 17.1875 \nL 47.609375 0 \nL 37.796875 0 \nL 37.796875 17.1875 \nL 4.890625 17.1875 \nL 4.890625 26.703125 \nz\n\" id=\"DejaVuSans-52\"/>\n      </defs>\n      <g transform=\"translate(27.225175 157.698438)scale(0.1 -0.1)\">\n       <use xlink:href=\"#DejaVuSans-8722\"/>\n       <use x=\"83.789062\" xlink:href=\"#DejaVuSans-52\"/>\n      </g>\n     </g>\n    </g>\n    <g id=\"xtick_2\">\n     <g id=\"line2d_2\">\n      <g>\n       <use style=\"stroke:#000000;stroke-width:0.8;\" x=\"84.91373\" xlink:href=\"#me2b5c8d674\" y=\"143.1\"/>\n      </g>\n     </g>\n     <g id=\"text_2\">\n      <!-- −2 -->\n      <defs>\n       <path d=\"M 19.1875 8.296875 \nL 53.609375 8.296875 \nL 53.609375 0 \nL 7.328125 0 \nL 7.328125 8.296875 \nQ 12.9375 14.109375 22.625 23.890625 \nQ 32.328125 33.6875 34.8125 36.53125 \nQ 39.546875 41.84375 41.421875 45.53125 \nQ 43.3125 49.21875 43.3125 52.78125 \nQ 43.3125 58.59375 39.234375 62.25 \nQ 35.15625 65.921875 28.609375 65.921875 \nQ 23.96875 65.921875 18.8125 64.3125 \nQ 13.671875 62.703125 7.8125 59.421875 \nL 7.8125 69.390625 \nQ 13.765625 71.78125 18.9375 73 \nQ 24.125 74.21875 28.421875 74.21875 \nQ 39.75 74.21875 46.484375 68.546875 \nQ 53.21875 62.890625 53.21875 53.421875 \nQ 53.21875 48.921875 51.53125 44.890625 \nQ 49.859375 40.875 45.40625 35.40625 \nQ 44.1875 33.984375 37.640625 27.21875 \nQ 31.109375 20.453125 19.1875 8.296875 \nz\n\" id=\"DejaVuSans-50\"/>\n      </defs>\n      <g transform=\"translate(77.542637 157.698438)scale(0.1 -0.1)\">\n       <use xlink:href=\"#DejaVuSans-8722\"/>\n       <use x=\"83.789062\" xlink:href=\"#DejaVuSans-50\"/>\n      </g>\n     </g>\n    </g>\n    <g id=\"xtick_3\">\n     <g id=\"line2d_3\">\n      <g>\n       <use style=\"stroke:#000000;stroke-width:0.8;\" x=\"135.231192\" xlink:href=\"#me2b5c8d674\" y=\"143.1\"/>\n      </g>\n     </g>\n     <g id=\"text_3\">\n      <!-- 0 -->\n      <defs>\n       <path d=\"M 31.78125 66.40625 \nQ 24.171875 66.40625 20.328125 58.90625 \nQ 16.5 51.421875 16.5 36.375 \nQ 16.5 21.390625 20.328125 13.890625 \nQ 24.171875 6.390625 31.78125 6.390625 \nQ 39.453125 6.390625 43.28125 13.890625 \nQ 47.125 21.390625 47.125 36.375 \nQ 47.125 51.421875 43.28125 58.90625 \nQ 39.453125 66.40625 31.78125 66.40625 \nz\nM 31.78125 74.21875 \nQ 44.046875 74.21875 50.515625 64.515625 \nQ 56.984375 54.828125 56.984375 36.375 \nQ 56.984375 17.96875 50.515625 8.265625 \nQ 44.046875 -1.421875 31.78125 -1.421875 \nQ 19.53125 -1.421875 13.0625 8.265625 \nQ 6.59375 17.96875 6.59375 36.375 \nQ 6.59375 54.828125 13.0625 64.515625 \nQ 19.53125 74.21875 31.78125 74.21875 \nz\n\" id=\"DejaVuSans-48\"/>\n      </defs>\n      <g transform=\"translate(132.049942 157.698438)scale(0.1 -0.1)\">\n       <use xlink:href=\"#DejaVuSans-48\"/>\n      </g>\n     </g>\n    </g>\n    <g id=\"xtick_4\">\n     <g id=\"line2d_4\">\n      <g>\n       <use style=\"stroke:#000000;stroke-width:0.8;\" x=\"185.548653\" xlink:href=\"#me2b5c8d674\" y=\"143.1\"/>\n      </g>\n     </g>\n     <g id=\"text_4\">\n      <!-- 2 -->\n      <g transform=\"translate(182.367403 157.698438)scale(0.1 -0.1)\">\n       <use xlink:href=\"#DejaVuSans-50\"/>\n      </g>\n     </g>\n    </g>\n   </g>\n   <g id=\"matplotlib.axis_2\">\n    <g id=\"ytick_1\">\n     <g id=\"line2d_5\">\n      <defs>\n       <path d=\"M 0 0 \nL -3.5 0 \n\" id=\"m43fe4ea4c9\" style=\"stroke:#000000;stroke-width:0.8;\"/>\n      </defs>\n      <g>\n       <use style=\"stroke:#000000;stroke-width:0.8;\" x=\"28.942188\" xlink:href=\"#m43fe4ea4c9\" y=\"125.21204\"/>\n      </g>\n     </g>\n     <g id=\"text_5\">\n      <!-- −5 -->\n      <defs>\n       <path d=\"M 10.796875 72.90625 \nL 49.515625 72.90625 \nL 49.515625 64.59375 \nL 19.828125 64.59375 \nL 19.828125 46.734375 \nQ 21.96875 47.46875 24.109375 47.828125 \nQ 26.265625 48.1875 28.421875 48.1875 \nQ 40.625 48.1875 47.75 41.5 \nQ 54.890625 34.8125 54.890625 23.390625 \nQ 54.890625 11.625 47.5625 5.09375 \nQ 40.234375 -1.421875 26.90625 -1.421875 \nQ 22.3125 -1.421875 17.546875 -0.640625 \nQ 12.796875 0.140625 7.71875 1.703125 \nL 7.71875 11.625 \nQ 12.109375 9.234375 16.796875 8.0625 \nQ 21.484375 6.890625 26.703125 6.890625 \nQ 35.15625 6.890625 40.078125 11.328125 \nQ 45.015625 15.765625 45.015625 23.390625 \nQ 45.015625 31 40.078125 35.4375 \nQ 35.15625 39.890625 26.703125 39.890625 \nQ 22.75 39.890625 18.8125 39.015625 \nQ 14.890625 38.140625 10.796875 36.28125 \nz\n\" id=\"DejaVuSans-53\"/>\n      </defs>\n      <g transform=\"translate(7.2 129.011259)scale(0.1 -0.1)\">\n       <use xlink:href=\"#DejaVuSans-8722\"/>\n       <use x=\"83.789062\" xlink:href=\"#DejaVuSans-53\"/>\n      </g>\n     </g>\n    </g>\n    <g id=\"ytick_2\">\n     <g id=\"line2d_6\">\n      <g>\n       <use style=\"stroke:#000000;stroke-width:0.8;\" x=\"28.942188\" xlink:href=\"#m43fe4ea4c9\" y=\"99.73619\"/>\n      </g>\n     </g>\n     <g id=\"text_6\">\n      <!-- 0 -->\n      <g transform=\"translate(15.579688 103.535409)scale(0.1 -0.1)\">\n       <use xlink:href=\"#DejaVuSans-48\"/>\n      </g>\n     </g>\n    </g>\n    <g id=\"ytick_3\">\n     <g id=\"line2d_7\">\n      <g>\n       <use style=\"stroke:#000000;stroke-width:0.8;\" x=\"28.942188\" xlink:href=\"#m43fe4ea4c9\" y=\"74.26034\"/>\n      </g>\n     </g>\n     <g id=\"text_7\">\n      <!-- 5 -->\n      <g transform=\"translate(15.579688 78.059559)scale(0.1 -0.1)\">\n       <use xlink:href=\"#DejaVuSans-53\"/>\n      </g>\n     </g>\n    </g>\n    <g id=\"ytick_4\">\n     <g id=\"line2d_8\">\n      <g>\n       <use style=\"stroke:#000000;stroke-width:0.8;\" x=\"28.942188\" xlink:href=\"#m43fe4ea4c9\" y=\"48.78449\"/>\n      </g>\n     </g>\n     <g id=\"text_8\">\n      <!-- 10 -->\n      <defs>\n       <path d=\"M 12.40625 8.296875 \nL 28.515625 8.296875 \nL 28.515625 63.921875 \nL 10.984375 60.40625 \nL 10.984375 69.390625 \nL 28.421875 72.90625 \nL 38.28125 72.90625 \nL 38.28125 8.296875 \nL 54.390625 8.296875 \nL 54.390625 0 \nL 12.40625 0 \nz\n\" id=\"DejaVuSans-49\"/>\n      </defs>\n      <g transform=\"translate(9.217188 52.583709)scale(0.1 -0.1)\">\n       <use xlink:href=\"#DejaVuSans-49\"/>\n       <use x=\"63.623047\" xlink:href=\"#DejaVuSans-48\"/>\n      </g>\n     </g>\n    </g>\n    <g id=\"ytick_5\">\n     <g id=\"line2d_9\">\n      <g>\n       <use style=\"stroke:#000000;stroke-width:0.8;\" x=\"28.942188\" xlink:href=\"#m43fe4ea4c9\" y=\"23.30864\"/>\n      </g>\n     </g>\n     <g id=\"text_9\">\n      <!-- 15 -->\n      <g transform=\"translate(9.217188 27.107859)scale(0.1 -0.1)\">\n       <use xlink:href=\"#DejaVuSans-49\"/>\n       <use x=\"63.623047\" xlink:href=\"#DejaVuSans-53\"/>\n      </g>\n     </g>\n    </g>\n   </g>\n   <g id=\"patch_3\">\n    <path d=\"M 28.942188 143.1 \nL 28.942188 7.2 \n\" style=\"fill:none;stroke:#000000;stroke-linecap:square;stroke-linejoin:miter;stroke-width:0.8;\"/>\n   </g>\n   <g id=\"patch_4\">\n    <path d=\"M 224.242188 143.1 \nL 224.242188 7.2 \n\" style=\"fill:none;stroke:#000000;stroke-linecap:square;stroke-linejoin:miter;stroke-width:0.8;\"/>\n   </g>\n   <g id=\"patch_5\">\n    <path d=\"M 28.942188 143.1 \nL 224.242188 143.1 \n\" style=\"fill:none;stroke:#000000;stroke-linecap:square;stroke-linejoin:miter;stroke-width:0.8;\"/>\n   </g>\n   <g id=\"patch_6\">\n    <path d=\"M 28.942188 7.2 \nL 224.242188 7.2 \n\" style=\"fill:none;stroke:#000000;stroke-linecap:square;stroke-linejoin:miter;stroke-width:0.8;\"/>\n   </g>\n  </g>\n </g>\n <defs>\n  <clipPath id=\"p8b1baee77a\">\n   <rect height=\"135.9\" width=\"195.3\" x=\"28.942188\" y=\"7.2\"/>\n  </clipPath>\n </defs>\n</svg>\n"
          },
          "metadata": {
            "tags": [],
            "needs_background": "light"
          }
        }
      ]
    },
    {
      "cell_type": "markdown",
      "metadata": {
        "id": "ejj2zPFtvnKy"
      },
      "source": [
        "### Reading the Dataset\n",
        "\n",
        "Recall that training models consists of making multiple passes over the dataset, grabbing one minibatch of examples at a time, and using them to update our model. Since this process is so fundamental to training machine learning algorithms, it is worth defining a utility function to shuffle the dataset and access it in minibatches.\n",
        "\n",
        "In the following code, we define the data_iter function to demonstrate one possible implementation of this functionality. The function takes a batch size, a matrix of features, and a vector of labels, yielding minibatches of the size batch_size. Each minibatch consists of a tuple of features and labels."
      ]
    },
    {
      "cell_type": "code",
      "metadata": {
        "id": "Xmz-iEFwvMjw"
      },
      "source": [
        "def data_iter(batch_size, features, labels):\n",
        "    \"\"\"\n",
        "    Return (X, y) of shape (batch_size, d), (batch_size, 1)\n",
        "    \"\"\"\n",
        "    num_examples = len(features)\n",
        "    indices = list(range(num_examples))\n",
        "    # The examples are read at random, in no particular order\n",
        "    random.shuffle(indices)\n",
        "    for i in range(0, num_examples, batch_size):\n",
        "        batch_indices = indices[i:min(i+batch_size, num_examples)]\n",
        "        yield features[batch_indices], labels[batch_indices]"
      ],
      "execution_count": 83,
      "outputs": []
    },
    {
      "cell_type": "code",
      "metadata": {
        "colab": {
          "base_uri": "https://localhost:8080/"
        },
        "id": "LH8WaNmw3K_r",
        "outputId": "fdcad777-3462-42e7-8de1-f0b57bddf72b"
      },
      "source": [
        "batch_size = 256\n",
        "\n",
        "for X, y in data_iter(batch_size, features, labels):\n",
        "    print (X.shape, y.shape)"
      ],
      "execution_count": 84,
      "outputs": [
        {
          "output_type": "stream",
          "text": [
            "torch.Size([256, 2]) torch.Size([256, 1])\n",
            "torch.Size([256, 2]) torch.Size([256, 1])\n",
            "torch.Size([256, 2]) torch.Size([256, 1])\n",
            "torch.Size([232, 2]) torch.Size([232, 1])\n"
          ],
          "name": "stdout"
        }
      ]
    },
    {
      "cell_type": "code",
      "metadata": {
        "colab": {
          "base_uri": "https://localhost:8080/"
        },
        "id": "Y3vzic073FpC",
        "outputId": "404b151c-9ee3-4491-b2a3-41d97576c4e9"
      },
      "source": [
        "batch_size = 10\n",
        "\n",
        "for X, y in data_iter(batch_size, features, labels):\n",
        "    print(X, '\\n', y)\n",
        "    break"
      ],
      "execution_count": 85,
      "outputs": [
        {
          "output_type": "stream",
          "text": [
            "tensor([[ 0.0123, -0.7527],\n",
            "        [ 0.9730, -0.7939],\n",
            "        [ 0.5423, -0.4993],\n",
            "        [ 0.6791,  1.5532],\n",
            "        [-1.1071, -0.1942],\n",
            "        [ 2.1517, -0.5259],\n",
            "        [ 0.2316, -0.1492],\n",
            "        [ 1.4612, -0.6503],\n",
            "        [ 0.8558,  0.3053],\n",
            "        [ 0.0346,  1.3119]]) \n",
            " tensor([[ 6.7793],\n",
            "        [ 8.8402],\n",
            "        [ 6.9753],\n",
            "        [ 0.2820],\n",
            "        [ 2.6533],\n",
            "        [10.2773],\n",
            "        [ 5.1891],\n",
            "        [ 9.3076],\n",
            "        [ 4.8653],\n",
            "        [-0.1830]])\n"
          ],
          "name": "stdout"
        }
      ]
    },
    {
      "cell_type": "markdown",
      "metadata": {
        "id": "L7-JSq5i3Yiu"
      },
      "source": [
        "As we run the iteration, we obtain distinct minibatches successively until the entire dataset has been exhausted (try this). While the iteration implemented above is good for didactic purposes, it is inefficient in ways that might get us in trouble on real problems. For example, it requires that we load all the data in memory and that we perform lots of random memory access. The built-in iterators implemented in a deep learning framework are considerably more efficient and they can deal with both data stored in files and data fed via data streams.\n",
        "\n"
      ]
    },
    {
      "cell_type": "markdown",
      "metadata": {
        "id": "qzBJ4BuD3cB-"
      },
      "source": [
        "### Initializing Model Parameters\n",
        "\n",
        "Before we can begin optimizing our model’s parameters by minibatch stochastic gradient descent, we need to have some parameters in the first place. In the following code, we initialize weights by sampling random numbers from a normal distribution with mean 0 and a standard deviation of 0.01, and setting the bias to 0.\n",
        "\n"
      ]
    },
    {
      "cell_type": "code",
      "metadata": {
        "colab": {
          "base_uri": "https://localhost:8080/"
        },
        "id": "e5j3JM__3Hyt",
        "outputId": "30aed1cc-09f9-4357-b034-47bc3e8bb47f"
      },
      "source": [
        "w = torch.normal(mean=0, std=0.01, size=(2, 1), requires_grad=True)\n",
        "b = torch.zeros(1, requires_grad=True)\n",
        "\n",
        "print (w)\n",
        "print (b)"
      ],
      "execution_count": 86,
      "outputs": [
        {
          "output_type": "stream",
          "text": [
            "tensor([[-0.0091],\n",
            "        [ 0.0212]], requires_grad=True)\n",
            "tensor([0.], requires_grad=True)\n"
          ],
          "name": "stdout"
        }
      ]
    },
    {
      "cell_type": "markdown",
      "metadata": {
        "id": "pkiHXCcN37MT"
      },
      "source": [
        "After initializing our parameters, our next task is to update them until they fit our data sufficiently well. Each update requires taking the gradient of our loss function with respect to the parameters. Given this gradient, we can update each parameter in the direction that may reduce the loss.\n",
        "\n",
        "Since nobody wants to compute gradients explicitly (this is tedious and error prone), we use automatic differentiation, as introduced in Section 2.5, to compute the gradient."
      ]
    },
    {
      "cell_type": "markdown",
      "metadata": {
        "id": "AxxN4TxG37zP"
      },
      "source": [
        "### Defining the Model\n",
        "\n",
        "Next, we must define our model, relating its inputs and parameters to its outputs. Recall that to calculate the output of the linear model, we simply take the matrix-vector dot product of the input features $\\mathbf{X}$ and the model weights $\\mathbf{w}$ nd add the offset  b  to each example.\n",
        "\n",
        "Note that below $\\mathbf{Xw}$ is a vector and  b  is a scalar. Recall the broadcasting mechanism as described in Section 2.1.3. When we add a vector and a scalar, the scalar is added to each component of the vector."
      ]
    },
    {
      "cell_type": "code",
      "metadata": {
        "colab": {
          "base_uri": "https://localhost:8080/"
        },
        "id": "bvRkZrSG3zGT",
        "outputId": "9dde624d-9ca7-44f0-96b0-c442958c679c"
      },
      "source": [
        "def linreg(X, w, b):  #@save\n",
        "    \"\"\"The linear regression model.\"\"\"\n",
        "    return torch.matmul(X, w) + b #### X.w : Nx2 . 2x1 : Nx1\n",
        "\n",
        "linreg(X, w, b).shape"
      ],
      "execution_count": 87,
      "outputs": [
        {
          "output_type": "execute_result",
          "data": {
            "text/plain": [
              "torch.Size([10, 1])"
            ]
          },
          "metadata": {
            "tags": []
          },
          "execution_count": 87
        }
      ]
    },
    {
      "cell_type": "markdown",
      "metadata": {
        "id": "_2sIxReE44W7"
      },
      "source": [
        "### Defining the Loss Function\n",
        "\n",
        "Since updating our model requires taking the gradient of our loss function, we ought to define the loss function first. Here we will use the squared loss function as described in Section 3.1. In the implementation, we need to transform the true value y into the predicted value’s shape y_hat. The result returned by the following function will also have the same shape as y_hat."
      ]
    },
    {
      "cell_type": "code",
      "metadata": {
        "id": "D-anbeoE4wZm"
      },
      "source": [
        "def squared_loss(y_hat, y):\n",
        "    return 0.5*(y_hat - y.reshape(y_hat.shape))**2"
      ],
      "execution_count": 88,
      "outputs": []
    },
    {
      "cell_type": "markdown",
      "metadata": {
        "id": "j5QrUMbi7rs7"
      },
      "source": [
        "### Defining the Optimization Algorithm\n",
        "\n",
        "As we discussed in Section 3.1, linear regression has a closed-form solution. However, this is not a book about linear regression: it is a book about deep learning. Since none of the other models that this book introduces can be solved analytically, we will take this opportunity to introduce your first working example of minibatch stochastic gradient descent.\n",
        "\n",
        "At each step, using one minibatch randomly drawn from our dataset, we will estimate the gradient of the loss with respect to our parameters. Next, we will update our parameters in the direction that may reduce the loss. The following code applies the minibatch stochastic gradient descent update, given a set of parameters, a learning rate, and a batch size. The size of the update step is determined by the learning rate lr. Because our loss is calculated as a sum over the minibatch of examples, we normalize our step size by the batch size (batch_size), so that the magnitude of a typical step size does not depend heavily on our choice of the batch size."
      ]
    },
    {
      "cell_type": "code",
      "metadata": {
        "id": "2rp1vsxg7nRo"
      },
      "source": [
        "def sgd(params, lr, batch_size):\n",
        "\n",
        "    with torch.no_grad():\n",
        "        for param in params:\n",
        "            param -= lr * param.grad/batch_size\n",
        "            param.grad.zero_()"
      ],
      "execution_count": 89,
      "outputs": []
    },
    {
      "cell_type": "markdown",
      "metadata": {
        "id": "Wg4_83oWHPAX"
      },
      "source": [
        "### Training\n",
        "\n",
        "Now that we have all of the parts in place, we are ready to implement the main training loop. It is crucial that you understand this code because you will see nearly identical training loops over and over again throughout your career in deep learning.\n",
        "\n",
        "In each iteration, we will grab a minibatch of training examples, and pass them through our model to obtain a set of predictions. After calculating the loss, we initiate the backwards pass through the network, storing the gradients with respect to each parameter. Finally, we will call the optimization algorithm sgd to update the model parameters.\n",
        "\n",
        "In summary, we will execute the following loop:\n",
        "\n",
        "1. Init params $(\\mathbf{w}, b)$\n",
        "2. Repeat until done\n",
        "    2.1 Compute gradient $\\mathbf{g} \\leftarrow \\partial_{(\\mathbf{w},b)} \\frac{1}{|\\mathcal{B}|} \\sum_{i \\in \\mathcal{B}} l(\\mathbf{x}^{(i)}, y^{(i)}, \\mathbf{w}, b)$\n",
        "    2.2 Update parameters $(\\mathbf{w}, b) \\leftarrow (\\mathbf{w}, b) - \\eta \\mathbf{g}$\n",
        "\n",
        "In each epoch, we will iterate through the entire dataset (using the data_iter function) once passing through every example in the training dataset (assuming that the number of examples is divisible by the batch size). The number of epochs num_epochs and the learning rate lr are both hyperparameters, which we set here to 3 and 0.03, respectively. "
      ]
    },
    {
      "cell_type": "code",
      "metadata": {
        "id": "Th5faoxaHpyC"
      },
      "source": [
        "lr = 0.03\n",
        "num_epochs = 3\n",
        "net = linreg ### network\n",
        "loss = squared_loss"
      ],
      "execution_count": 90,
      "outputs": []
    },
    {
      "cell_type": "code",
      "metadata": {
        "colab": {
          "base_uri": "https://localhost:8080/"
        },
        "id": "L4TdMkSoIJpe",
        "outputId": "4d72b9d7-5001-470f-8d84-867c5ed4a2ac"
      },
      "source": [
        "def synthetic_data(w, b, num_examples):\n",
        "    \"\"\"\n",
        "    Generate y = Xw + b + noise.\n",
        "    Return features: shape (num_examples, w)\n",
        "    labels : shape (num_examples)\n",
        "    \"\"\"\n",
        "    X = torch.normal(mean=0, std=1, size=(num_examples, len(w)))\n",
        "    print (X.shape)\n",
        "    y = torch.matmul(X, w) + b\n",
        "    print (y.shape)\n",
        "    ### add noise\n",
        "    y += torch.normal(mean=0, std=0.01, size=y.shape)\n",
        "    return X, y.reshape((-1, 1))\n",
        "\n",
        "def data_iter(batch_size, features, labels):\n",
        "    \"\"\"\n",
        "    Return (X, y) of shape (batch_size, d), (batch_size, 1)\n",
        "    \"\"\"\n",
        "    num_examples = len(features)\n",
        "    indices = list(range(num_examples))\n",
        "    # The examples are read at random, in no particular order\n",
        "    random.shuffle(indices)\n",
        "    for i in range(0, num_examples, batch_size):\n",
        "        batch_indices = indices[i:min(i+batch_size, num_examples)]\n",
        "        yield features[batch_indices], labels[batch_indices]\n",
        "\n",
        "def linreg(X, w, b):  #@save\n",
        "    \"\"\"The linear regression model.\"\"\"\n",
        "    return torch.matmul(X, w) + b #### X.w : Nx2 . 2x1 : Nx1\n",
        "\n",
        "def squared_loss(y_hat, y):\n",
        "    return 0.5*(y_hat - y.reshape(y_hat.shape))**2\n",
        "\n",
        "\n",
        "def sgd(params, lr, batch_size):\n",
        "    with torch.no_grad():\n",
        "        for param in params:\n",
        "            param -= lr * param.grad/batch_size\n",
        "            param.grad.zero_()\n",
        "\n",
        "\n",
        "true_w = torch.tensor([2, -3.4])\n",
        "true_b = 4.2\n",
        "features, labels = synthetic_data(true_w, true_b, 1000)\n",
        "w = torch.normal(mean=0, std=0.01, size=(2, 1), requires_grad=True)\n",
        "b = torch.zeros(1, requires_grad=True)"
      ],
      "execution_count": 91,
      "outputs": [
        {
          "output_type": "stream",
          "text": [
            "torch.Size([1000, 2])\n",
            "torch.Size([1000])\n"
          ],
          "name": "stdout"
        }
      ]
    },
    {
      "cell_type": "markdown",
      "metadata": {
        "id": "SqpP1jJryaHE"
      },
      "source": [
        "#### Analytical verison of the diff of L wrt w\n",
        "\n",
        "Let us see how the update to w will be analytically\n",
        "\n",
        "![](https://i.imgur.com/KCmUlE7.jpg)"
      ]
    },
    {
      "cell_type": "code",
      "metadata": {
        "id": "LUpqfr91SNlU"
      },
      "source": [
        "def analytical_grad_L_wrt_w(X, w, b, y):\n",
        "    print (X.shape, w.shape, b, y.shape)\n",
        "    print(torch.matmul(X.T, torch.matmul(X, w) + b - y))"
      ],
      "execution_count": 92,
      "outputs": []
    },
    {
      "cell_type": "code",
      "metadata": {
        "colab": {
          "base_uri": "https://localhost:8080/"
        },
        "id": "GW6nt6UZHwBW",
        "outputId": "ab22c7e1-19be-40ba-f161-43cd67a54b88"
      },
      "source": [
        "for epoch in range(num_epochs):\n",
        "    for X, y in data_iter(batch_size=batch_size, features=features, labels=labels):\n",
        "        print (X.shape, y.shape)\n",
        "        y_hat = net(X, w, b)\n",
        "        # -print (y_hat.shape)\n",
        "        l = loss(y_hat, y) # Minibatch loss in `X` and `y`: shape is (mini_batch, 1)\n",
        "        print (l.shape)\n",
        "        l = l.sum()\n",
        "        print (l.shape)\n",
        "        l.backward() ### now we have access to w.grad and b.grad\n",
        "        print (w.grad)\n",
        "        print (b.grad.shape)\n",
        "        w_grad = analytical_grad_L_wrt_w(X, w, b, y)\n",
        "        break\n",
        "    break\n",
        "            "
      ],
      "execution_count": 93,
      "outputs": [
        {
          "output_type": "stream",
          "text": [
            "torch.Size([10, 2]) torch.Size([10, 1])\n",
            "torch.Size([10, 1])\n",
            "torch.Size([])\n",
            "tensor([[-39.3977],\n",
            "        [ 28.5827]])\n",
            "torch.Size([1])\n",
            "torch.Size([10, 2]) torch.Size([2, 1]) tensor([0.], requires_grad=True) torch.Size([10, 1])\n",
            "tensor([[-39.3977],\n",
            "        [ 28.5827]], grad_fn=<MmBackward>)\n"
          ],
          "name": "stdout"
        }
      ]
    },
    {
      "cell_type": "markdown",
      "metadata": {
        "id": "WoiJCMWGwfJO"
      },
      "source": [
        "So the analytical calculation matches with the `backward` method\n",
        "We need to sum up the elements of `l` vector here as we need to compute gradient for a scalar, we cant compute it for a vector. We can compute it wrt to a vector thought as we have done here (wrt w)"
      ]
    },
    {
      "cell_type": "code",
      "metadata": {
        "colab": {
          "base_uri": "https://localhost:8080/"
        },
        "id": "cz_LiN4oJarp",
        "outputId": "f83aa8c7-f053-44f8-84c8-200d59ebbcbb"
      },
      "source": [
        "for epoch in range(num_epochs):\n",
        "    for X, y in data_iter(batch_size, features, labels):\n",
        "        l = loss(net(X, w, b), y)  # Minibatch loss in `X` and `y`\n",
        "        # Compute gradient on `l` with respect to [`w`, `b`]\n",
        "        l.sum().backward()\n",
        "        sgd([w, b], lr, batch_size)  # Update parameters using their gradient\n",
        "    with torch.no_grad():\n",
        "        train_l = loss(net(features, w, b), labels)\n",
        "        print(f'epoch {epoch + 1}, loss {float(train_l.mean()):f}')"
      ],
      "execution_count": 94,
      "outputs": [
        {
          "output_type": "stream",
          "text": [
            "epoch 1, loss 0.038428\n",
            "epoch 2, loss 0.000145\n",
            "epoch 3, loss 0.000048\n"
          ],
          "name": "stdout"
        }
      ]
    },
    {
      "cell_type": "code",
      "metadata": {
        "colab": {
          "base_uri": "https://localhost:8080/"
        },
        "id": "he4hDLCzxJL4",
        "outputId": "5a7cf0c4-70b5-4a7e-c80c-6127277555fa"
      },
      "source": [
        "print (true_w, true_b)\n",
        "print (w, b)"
      ],
      "execution_count": 95,
      "outputs": [
        {
          "output_type": "stream",
          "text": [
            "tensor([ 2.0000, -3.4000]) 4.2\n",
            "tensor([[ 1.9997],\n",
            "        [-3.3999]], requires_grad=True) tensor([4.1991], requires_grad=True)\n"
          ],
          "name": "stdout"
        }
      ]
    },
    {
      "cell_type": "markdown",
      "metadata": {
        "id": "4pjXcjOvxiiG"
      },
      "source": [
        "Note that we should not take it for granted that we are able to recover the parameters perfectly. However, in machine learning, we are typically less concerned with recovering true underlying parameters, and more concerned with parameters that lead to highly accurate prediction. Fortunately, even on difficult optimization problems, stochastic gradient descent can often find remarkably good solutions, owing partly to the fact that, for deep networks, there exist many configurations of the parameters that lead to highly accurate prediction.\n",
        "\n"
      ]
    },
    {
      "cell_type": "markdown",
      "metadata": {
        "id": "v9DWxg_G7LDN"
      },
      "source": [
        "## Linear Regression - Concise Implementation\n",
        "\n",
        "In Section 3.2, we relied only on (i) tensors for data storage and linear algebra; and (ii) auto differentiation for calculating gradients. In practice, because data iterators, loss functions, optimizers, and neural network layers are so common, modern libraries implement these components for us as well."
      ]
    },
    {
      "cell_type": "code",
      "metadata": {
        "colab": {
          "base_uri": "https://localhost:8080/"
        },
        "id": "PZVWXO0xxYXm",
        "outputId": "24a0fca5-b8dd-4a63-8324-8587e729f443"
      },
      "source": [
        "true_w = torch.tensor([2, -3.4])\n",
        "true_b = 4.2\n",
        "features, labels = d2l.synthetic_data(true_w, true_b, 1000)\n",
        "\n",
        "print (features.shape, labels.shape)"
      ],
      "execution_count": 96,
      "outputs": [
        {
          "output_type": "stream",
          "text": [
            "torch.Size([1000, 2]) torch.Size([1000, 1])\n"
          ],
          "name": "stdout"
        }
      ]
    },
    {
      "cell_type": "markdown",
      "metadata": {
        "id": "SSFaM0Cz7eE2"
      },
      "source": [
        "### Reading the Dataset\n",
        "\n",
        "Rather than rolling our own iterator, we can call upon the existing API in a framework to read data. We pass in features and labels as arguments and specify `batch_size` when instantiating a data iterator object. Besides, the boolean value `is_train` indicates whether or not we want the data iterator object to shuffle the data on each epoch (pass through the dataset)."
      ]
    },
    {
      "cell_type": "code",
      "metadata": {
        "colab": {
          "base_uri": "https://localhost:8080/"
        },
        "id": "RIEerlHU7W8f",
        "outputId": "b7bcf6f5-2ce7-453c-859e-1cb46ae203b6"
      },
      "source": [
        "### samples a single (feature, label) pair\n",
        "print ((torch.utils.data.TensorDataset(*(features, labels)))) ### converts the features, labels into -> torch.utils.data.dataset.TensorDataset \n",
        "### samples a single (feature, label) pair from the dataset\n",
        "print(next(iter(torch.utils.data.TensorDataset(*(features, labels)))))"
      ],
      "execution_count": 97,
      "outputs": [
        {
          "output_type": "stream",
          "text": [
            "<torch.utils.data.dataset.TensorDataset object at 0x7f3a872ef650>\n",
            "(tensor([ 0.2975, -0.0596]), tensor([4.9914]))\n"
          ],
          "name": "stdout"
        }
      ]
    },
    {
      "cell_type": "code",
      "metadata": {
        "colab": {
          "base_uri": "https://localhost:8080/"
        },
        "id": "D9wZYF-88YOC",
        "outputId": "798b0933-52b1-47cd-d09f-3007763053eb"
      },
      "source": [
        "def load_array(data_arrays, batch_size, is_train=True):\n",
        "    dataset = torch.utils.data.TensorDataset(*data_arrays)\n",
        "    ### sample batches\n",
        "    return torch.utils.data.DataLoader(dataset=dataset, batch_size=batch_size, shuffle=is_train)\n",
        "\n",
        "batch_size = 10\n",
        "data_iter = load_array((features, labels), batch_size)\n",
        "\n",
        "print (data_iter)"
      ],
      "execution_count": 98,
      "outputs": [
        {
          "output_type": "stream",
          "text": [
            "<torch.utils.data.dataloader.DataLoader object at 0x7f3a872b8710>\n"
          ],
          "name": "stdout"
        }
      ]
    },
    {
      "cell_type": "code",
      "metadata": {
        "colab": {
          "base_uri": "https://localhost:8080/"
        },
        "id": "5KvP0dvU9bJx",
        "outputId": "3dc377ff-a094-4b8b-b9c3-a2d6ce8de31c"
      },
      "source": [
        "next(iter(data_iter))"
      ],
      "execution_count": 99,
      "outputs": [
        {
          "output_type": "execute_result",
          "data": {
            "text/plain": [
              "[tensor([[ 1.6492,  0.9982],\n",
              "         [-1.3755, -0.0806],\n",
              "         [ 1.0788, -0.1560],\n",
              "         [ 0.0492,  0.5201],\n",
              "         [ 3.0809,  0.7465],\n",
              "         [-0.6454,  0.2150],\n",
              "         [-2.3029,  1.4720],\n",
              "         [-1.9897, -0.4768],\n",
              "         [ 1.2951, -0.8117],\n",
              "         [ 1.1811, -0.2557]]), tensor([[ 4.1175],\n",
              "         [ 1.7101],\n",
              "         [ 6.8847],\n",
              "         [ 2.5190],\n",
              "         [ 7.8133],\n",
              "         [ 2.1741],\n",
              "         [-5.4082],\n",
              "         [ 1.8172],\n",
              "         [ 9.5383],\n",
              "         [ 7.4234]])]"
            ]
          },
          "metadata": {
            "tags": []
          },
          "execution_count": 99
        }
      ]
    },
    {
      "cell_type": "markdown",
      "metadata": {
        "id": "SD27egf1-P1y"
      },
      "source": [
        "### Defining the Model\n",
        "\n",
        "For standard operations, we can use a framework’s predefined layers, which allow us to focus especially on the layers used to construct the model rather than having to focus on the implementation. We will first define a model variable net, which will refer to an instance of the Sequential class. The Sequential class defines a container for several layers that will be chained together. Given input data, a Sequential instance passes it through the first layer, in turn passing the output as the second layer’s input and so forth. In the following example, our model consists of only one layer, so we do not really need Sequential. But since nearly all of our future models will involve multiple layers, we will use it anyway just to familiarize you with the most standard workflow.\n",
        "\n",
        "n PyTorch, the fully-connected layer is defined in the Linear class. Note that we passed two arguments into nn.Linear. The first one specifies the input feature dimension, which is 2, and the second one is the output feature dimension, which is a single scalar and therefore 1.\n",
        "\n",
        "#### Fully Connected Layers as Matrix Multiplications\n",
        "\n",
        "![](https://i.imgur.com/NTORrPb.jpg)\n",
        "\n",
        "```\n",
        ">>> m = nn.Linear(20, 30)\n",
        ">>> input = torch.randn(128, 20)\n",
        ">>> output = m(input)\n",
        ">>> print(output.size())\n",
        "torch.Size([128, 30])\n",
        "```"
      ]
    },
    {
      "cell_type": "code",
      "metadata": {
        "id": "KIHQJ2zl-MDE"
      },
      "source": [
        "from torch import nn"
      ],
      "execution_count": 100,
      "outputs": []
    },
    {
      "cell_type": "code",
      "metadata": {
        "id": "tT8XRmIOBsgY",
        "colab": {
          "base_uri": "https://localhost:8080/"
        },
        "outputId": "92be7806-4226-4ee0-8711-0f4e8159d6c1"
      },
      "source": [
        "network = nn.Linear(3,2)\n",
        "input = torch.randn(3,3)\n",
        "output = network(input)\n",
        "print (output.shape)"
      ],
      "execution_count": 101,
      "outputs": [
        {
          "output_type": "stream",
          "text": [
            "torch.Size([3, 2])\n"
          ],
          "name": "stdout"
        }
      ]
    },
    {
      "cell_type": "code",
      "metadata": {
        "id": "qEAdDfM6z7cE"
      },
      "source": [
        "### net for our regresion problem\n",
        "### input features dim = 2, op = 1\n",
        "net = nn.Sequential(nn.Linear(2,1))"
      ],
      "execution_count": 102,
      "outputs": []
    },
    {
      "cell_type": "markdown",
      "metadata": {
        "id": "8g0ygI85D5bX"
      },
      "source": [
        "### Initializing Model Parameters\n",
        "\n",
        "Before using net, we need to initialize the model parameters, such as the weights and bias in the linear regression model. Deep learning frameworks often have a predefined way to initialize the parameters. Here we specify that each weight parameter should be randomly sampled from a normal distribution with mean 0 and standard deviation 0.01. The bias parameter will be initialized to zero.\n",
        "\n"
      ]
    },
    {
      "cell_type": "code",
      "metadata": {
        "colab": {
          "base_uri": "https://localhost:8080/"
        },
        "id": "rkg2kaqm0Opz",
        "outputId": "9cfdb5cb-b8af-41f1-d76a-6b57cddcf8e8"
      },
      "source": [
        "net"
      ],
      "execution_count": 103,
      "outputs": [
        {
          "output_type": "execute_result",
          "data": {
            "text/plain": [
              "Sequential(\n",
              "  (0): Linear(in_features=2, out_features=1, bias=True)\n",
              ")"
            ]
          },
          "metadata": {
            "tags": []
          },
          "execution_count": 103
        }
      ]
    },
    {
      "cell_type": "markdown",
      "metadata": {
        "id": "EJtcd_G80VeG"
      },
      "source": [
        "As we have specified the input and output dimensions when constructing nn.Linear. Now we access the parameters directly to specify their initial values. We first locate the layer by `net[0]`, which is the first layer in the network, and then use the `weight.data` and `bias.data methods` to access the parameters. Next we use the replace methods `normal_` and `fill_` to overwrite parameter values.\n",
        "\n"
      ]
    },
    {
      "cell_type": "code",
      "metadata": {
        "colab": {
          "base_uri": "https://localhost:8080/"
        },
        "id": "zPJHWeoI0QV2",
        "outputId": "0e3826e7-7a48-48b7-8a59-62b98c2b0793"
      },
      "source": [
        "net[0].weight.data.normal_(0, 0.01)\n",
        "net[0].bias.data.fill_(0)"
      ],
      "execution_count": 104,
      "outputs": [
        {
          "output_type": "execute_result",
          "data": {
            "text/plain": [
              "tensor([0.])"
            ]
          },
          "metadata": {
            "tags": []
          },
          "execution_count": 104
        }
      ]
    },
    {
      "cell_type": "markdown",
      "metadata": {
        "id": "CpAtqpPB0mkf"
      },
      "source": [
        "### Defining the Loss Function\n",
        "\n",
        "The MSELoss class computes the mean squared error, also known as squared  L2  norm. By default it returns the average loss over examples."
      ]
    },
    {
      "cell_type": "code",
      "metadata": {
        "id": "IMq8B6Kq0jrm"
      },
      "source": [
        "## measures the mean squared error (squared L2 norm) between each element in the input x and target y.\n",
        "loss = nn.MSELoss()"
      ],
      "execution_count": 105,
      "outputs": []
    },
    {
      "cell_type": "markdown",
      "metadata": {
        "id": "1UF-8sqt03ok"
      },
      "source": [
        "### Defining the Optimization Algorithm\n",
        "\n",
        "Minibatch stochastic gradient descent is a standard tool for optimizing neural networks and thus PyTorch supports it alongside a number of variations on this algorithm in the `optim` module. When we instantiate an SGD instance, we will specify the parameters to optimize over (obtainable from our net via net.parameters()), with a dictionary of hyperparameters required by our optimization algorithm. Minibatch stochastic gradient descent just requires that we set the value lr, which is set to 0.03 here."
      ]
    },
    {
      "cell_type": "code",
      "metadata": {
        "id": "xSXb75k_01tz"
      },
      "source": [
        "trainer = torch.optim.SGD(params=net.parameters(), lr=0.03)"
      ],
      "execution_count": 106,
      "outputs": []
    },
    {
      "cell_type": "markdown",
      "metadata": {
        "id": "tQ-q-FaL1VY5"
      },
      "source": [
        "### Training\n",
        "\n",
        "You might have noticed that expressing our model through high-level APIs of a deep learning framework requires comparatively few lines of code. We did not have to individually allocate parameters, define our loss function, or implement minibatch stochastic gradient descent. Once we start working with much more complex models, advantages of high-level APIs will grow considerably. However, once we have all the basic pieces in place, the training loop itself is strikingly similar to what we did when implementing everything from scratch.\n",
        "\n",
        "To refresh your memory: for some number of epochs, we will make a complete pass over the dataset (train_data), iteratively grabbing one minibatch of inputs and the corresponding ground-truth labels. For each minibatch, we go through the following ritual:\n",
        "\n",
        "- Generate predictions by calling net(X) and calculate the loss l (the forward propagation).\n",
        "\n",
        "- Calculate gradients by running the backpropagation.\n",
        "\n",
        "- Update the model parameters by invoking our optimizer.\n",
        "\n",
        "For good measure, we compute the loss after each epoch and print it to monitor progress."
      ]
    },
    {
      "cell_type": "code",
      "metadata": {
        "colab": {
          "base_uri": "https://localhost:8080/"
        },
        "id": "FIFkpzC65_HG",
        "outputId": "25bfd91c-6deb-431e-cb20-4b1f0d71e369"
      },
      "source": [
        "print (features.shape)\n",
        "net(features).shape"
      ],
      "execution_count": 108,
      "outputs": [
        {
          "output_type": "stream",
          "text": [
            "torch.Size([1000, 2])\n"
          ],
          "name": "stdout"
        },
        {
          "output_type": "execute_result",
          "data": {
            "text/plain": [
              "torch.Size([1000, 1])"
            ]
          },
          "metadata": {
            "tags": []
          },
          "execution_count": 108
        }
      ]
    },
    {
      "cell_type": "code",
      "metadata": {
        "colab": {
          "base_uri": "https://localhost:8080/"
        },
        "id": "au56Z3f81TM_",
        "outputId": "c12f71da-eb7f-4a47-eab2-486f004789cd"
      },
      "source": [
        "num_epochs = 3\n",
        "for epoch in range(num_epochs):\n",
        "    for X, y in data_iter:\n",
        "        l = loss(net(X), y)\n",
        "        trainer.zero_grad() ### zero out the grads before backpropagation\n",
        "        l.backward()\n",
        "        trainer.step() ### Performs a single optimization step: basically does w = w - lr * dL/dw and same for bias\n",
        "    ### loss over the entire data\n",
        "    l = loss(net(features), labels)\n",
        "    print(f'epoch {epoch + 1}, loss {l:f}')"
      ],
      "execution_count": 111,
      "outputs": [
        {
          "output_type": "stream",
          "text": [
            "epoch 1, loss 0.000098\n",
            "epoch 2, loss 0.000098\n",
            "epoch 3, loss 0.000099\n"
          ],
          "name": "stdout"
        }
      ]
    },
    {
      "cell_type": "markdown",
      "metadata": {
        "id": "b1WxBgNj7Shs"
      },
      "source": [
        "Below, we compare the model parameters learned by training on finite data and the actual parameters that generated our dataset. To access parameters, we first access the layer that we need from net and then access that layer’s weights and bias. As in our from-scratch implementation, note that our estimated parameters are close to their ground-truth counterparts.\n",
        "\n"
      ]
    },
    {
      "cell_type": "code",
      "metadata": {
        "colab": {
          "base_uri": "https://localhost:8080/"
        },
        "id": "NtPbNvTp6IJC",
        "outputId": "4fbf8f9d-e58d-4263-9a1f-5138f612348c"
      },
      "source": [
        "print (net[0].weight.data)\n",
        "print (net[0].bias.data)"
      ],
      "execution_count": 112,
      "outputs": [
        {
          "output_type": "stream",
          "text": [
            "tensor([[ 2.0006, -3.3996]])\n",
            "tensor([4.1994])\n"
          ],
          "name": "stdout"
        }
      ]
    },
    {
      "cell_type": "code",
      "metadata": {
        "id": "egzZwKqj7Xuy"
      },
      "source": [
        ""
      ],
      "execution_count": null,
      "outputs": []
    }
  ]
}