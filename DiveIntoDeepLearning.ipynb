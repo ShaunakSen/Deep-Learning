{
  "nbformat": 4,
  "nbformat_minor": 0,
  "metadata": {
    "colab": {
      "name": "DiveIntoDeepLearning.ipynb",
      "provenance": [],
      "collapsed_sections": [],
      "authorship_tag": "ABX9TyMPoq7JjRChyRBdf4Kgc7q+",
      "include_colab_link": true
    },
    "kernelspec": {
      "name": "python3",
      "display_name": "Python 3"
    }
  },
  "cells": [
    {
      "cell_type": "markdown",
      "metadata": {
        "id": "view-in-github",
        "colab_type": "text"
      },
      "source": [
        "<a href=\"https://colab.research.google.com/github/ShaunakSen/Deep-Learning/blob/master/DiveIntoDeepLearning.ipynb\" target=\"_parent\"><img src=\"https://colab.research.google.com/assets/colab-badge.svg\" alt=\"Open In Colab\"/></a>"
      ]
    },
    {
      "cell_type": "code",
      "metadata": {
        "colab": {
          "base_uri": "https://localhost:8080/"
        },
        "id": "CfDmkz1ChPaM",
        "outputId": "81356ce3-f547-4e74-fc73-c3ea837f9cbb"
      },
      "source": [
        "!pip install -U d2l"
      ],
      "execution_count": null,
      "outputs": [
        {
          "output_type": "stream",
          "text": [
            "Collecting d2l\n",
            "\u001b[?25l  Downloading https://files.pythonhosted.org/packages/d0/1f/13de7e8cafaba15739caee0596032412aaf51a22726649b317bdb53c4f9a/d2l-0.16.2-py3-none-any.whl (77kB)\n",
            "\u001b[K     |████████████████████████████████| 81kB 3.7MB/s \n",
            "\u001b[?25hRequirement already satisfied, skipping upgrade: jupyter in /usr/local/lib/python3.7/dist-packages (from d2l) (1.0.0)\n",
            "Requirement already satisfied, skipping upgrade: requests in /usr/local/lib/python3.7/dist-packages (from d2l) (2.23.0)\n",
            "Requirement already satisfied, skipping upgrade: pandas in /usr/local/lib/python3.7/dist-packages (from d2l) (1.1.5)\n",
            "Requirement already satisfied, skipping upgrade: matplotlib in /usr/local/lib/python3.7/dist-packages (from d2l) (3.2.2)\n",
            "Requirement already satisfied, skipping upgrade: numpy in /usr/local/lib/python3.7/dist-packages (from d2l) (1.19.5)\n",
            "Requirement already satisfied, skipping upgrade: jupyter-console in /usr/local/lib/python3.7/dist-packages (from jupyter->d2l) (5.2.0)\n",
            "Requirement already satisfied, skipping upgrade: notebook in /usr/local/lib/python3.7/dist-packages (from jupyter->d2l) (5.3.1)\n",
            "Requirement already satisfied, skipping upgrade: ipywidgets in /usr/local/lib/python3.7/dist-packages (from jupyter->d2l) (7.6.3)\n",
            "Requirement already satisfied, skipping upgrade: qtconsole in /usr/local/lib/python3.7/dist-packages (from jupyter->d2l) (5.0.3)\n",
            "Requirement already satisfied, skipping upgrade: ipykernel in /usr/local/lib/python3.7/dist-packages (from jupyter->d2l) (4.10.1)\n",
            "Requirement already satisfied, skipping upgrade: nbconvert in /usr/local/lib/python3.7/dist-packages (from jupyter->d2l) (5.6.1)\n",
            "Requirement already satisfied, skipping upgrade: idna<3,>=2.5 in /usr/local/lib/python3.7/dist-packages (from requests->d2l) (2.10)\n",
            "Requirement already satisfied, skipping upgrade: chardet<4,>=3.0.2 in /usr/local/lib/python3.7/dist-packages (from requests->d2l) (3.0.4)\n",
            "Requirement already satisfied, skipping upgrade: urllib3!=1.25.0,!=1.25.1,<1.26,>=1.21.1 in /usr/local/lib/python3.7/dist-packages (from requests->d2l) (1.24.3)\n",
            "Requirement already satisfied, skipping upgrade: certifi>=2017.4.17 in /usr/local/lib/python3.7/dist-packages (from requests->d2l) (2020.12.5)\n",
            "Requirement already satisfied, skipping upgrade: pytz>=2017.2 in /usr/local/lib/python3.7/dist-packages (from pandas->d2l) (2018.9)\n",
            "Requirement already satisfied, skipping upgrade: python-dateutil>=2.7.3 in /usr/local/lib/python3.7/dist-packages (from pandas->d2l) (2.8.1)\n",
            "Requirement already satisfied, skipping upgrade: pyparsing!=2.0.4,!=2.1.2,!=2.1.6,>=2.0.1 in /usr/local/lib/python3.7/dist-packages (from matplotlib->d2l) (2.4.7)\n",
            "Requirement already satisfied, skipping upgrade: kiwisolver>=1.0.1 in /usr/local/lib/python3.7/dist-packages (from matplotlib->d2l) (1.3.1)\n",
            "Requirement already satisfied, skipping upgrade: cycler>=0.10 in /usr/local/lib/python3.7/dist-packages (from matplotlib->d2l) (0.10.0)\n",
            "Requirement already satisfied, skipping upgrade: prompt-toolkit<2.0.0,>=1.0.0 in /usr/local/lib/python3.7/dist-packages (from jupyter-console->jupyter->d2l) (1.0.18)\n",
            "Requirement already satisfied, skipping upgrade: jupyter-client in /usr/local/lib/python3.7/dist-packages (from jupyter-console->jupyter->d2l) (5.3.5)\n",
            "Requirement already satisfied, skipping upgrade: ipython in /usr/local/lib/python3.7/dist-packages (from jupyter-console->jupyter->d2l) (5.5.0)\n",
            "Requirement already satisfied, skipping upgrade: pygments in /usr/local/lib/python3.7/dist-packages (from jupyter-console->jupyter->d2l) (2.6.1)\n",
            "Requirement already satisfied, skipping upgrade: jinja2 in /usr/local/lib/python3.7/dist-packages (from notebook->jupyter->d2l) (2.11.3)\n",
            "Requirement already satisfied, skipping upgrade: ipython-genutils in /usr/local/lib/python3.7/dist-packages (from notebook->jupyter->d2l) (0.2.0)\n",
            "Requirement already satisfied, skipping upgrade: nbformat in /usr/local/lib/python3.7/dist-packages (from notebook->jupyter->d2l) (5.1.2)\n",
            "Requirement already satisfied, skipping upgrade: terminado>=0.8.1 in /usr/local/lib/python3.7/dist-packages (from notebook->jupyter->d2l) (0.9.3)\n",
            "Requirement already satisfied, skipping upgrade: tornado>=4 in /usr/local/lib/python3.7/dist-packages (from notebook->jupyter->d2l) (5.1.1)\n",
            "Requirement already satisfied, skipping upgrade: jupyter-core>=4.4.0 in /usr/local/lib/python3.7/dist-packages (from notebook->jupyter->d2l) (4.7.1)\n",
            "Requirement already satisfied, skipping upgrade: Send2Trash in /usr/local/lib/python3.7/dist-packages (from notebook->jupyter->d2l) (1.5.0)\n",
            "Requirement already satisfied, skipping upgrade: traitlets>=4.2.1 in /usr/local/lib/python3.7/dist-packages (from notebook->jupyter->d2l) (5.0.5)\n",
            "Requirement already satisfied, skipping upgrade: widgetsnbextension~=3.5.0 in /usr/local/lib/python3.7/dist-packages (from ipywidgets->jupyter->d2l) (3.5.1)\n",
            "Requirement already satisfied, skipping upgrade: jupyterlab-widgets>=1.0.0; python_version >= \"3.6\" in /usr/local/lib/python3.7/dist-packages (from ipywidgets->jupyter->d2l) (1.0.0)\n",
            "Requirement already satisfied, skipping upgrade: qtpy in /usr/local/lib/python3.7/dist-packages (from qtconsole->jupyter->d2l) (1.9.0)\n",
            "Requirement already satisfied, skipping upgrade: pyzmq>=17.1 in /usr/local/lib/python3.7/dist-packages (from qtconsole->jupyter->d2l) (22.0.3)\n",
            "Requirement already satisfied, skipping upgrade: defusedxml in /usr/local/lib/python3.7/dist-packages (from nbconvert->jupyter->d2l) (0.7.1)\n",
            "Requirement already satisfied, skipping upgrade: bleach in /usr/local/lib/python3.7/dist-packages (from nbconvert->jupyter->d2l) (3.3.0)\n",
            "Requirement already satisfied, skipping upgrade: entrypoints>=0.2.2 in /usr/local/lib/python3.7/dist-packages (from nbconvert->jupyter->d2l) (0.3)\n",
            "Requirement already satisfied, skipping upgrade: mistune<2,>=0.8.1 in /usr/local/lib/python3.7/dist-packages (from nbconvert->jupyter->d2l) (0.8.4)\n",
            "Requirement already satisfied, skipping upgrade: testpath in /usr/local/lib/python3.7/dist-packages (from nbconvert->jupyter->d2l) (0.4.4)\n",
            "Requirement already satisfied, skipping upgrade: pandocfilters>=1.4.1 in /usr/local/lib/python3.7/dist-packages (from nbconvert->jupyter->d2l) (1.4.3)\n",
            "Requirement already satisfied, skipping upgrade: six>=1.5 in /usr/local/lib/python3.7/dist-packages (from python-dateutil>=2.7.3->pandas->d2l) (1.15.0)\n",
            "Requirement already satisfied, skipping upgrade: wcwidth in /usr/local/lib/python3.7/dist-packages (from prompt-toolkit<2.0.0,>=1.0.0->jupyter-console->jupyter->d2l) (0.2.5)\n",
            "Requirement already satisfied, skipping upgrade: pexpect; sys_platform != \"win32\" in /usr/local/lib/python3.7/dist-packages (from ipython->jupyter-console->jupyter->d2l) (4.8.0)\n",
            "Requirement already satisfied, skipping upgrade: pickleshare in /usr/local/lib/python3.7/dist-packages (from ipython->jupyter-console->jupyter->d2l) (0.7.5)\n",
            "Requirement already satisfied, skipping upgrade: decorator in /usr/local/lib/python3.7/dist-packages (from ipython->jupyter-console->jupyter->d2l) (4.4.2)\n",
            "Requirement already satisfied, skipping upgrade: setuptools>=18.5 in /usr/local/lib/python3.7/dist-packages (from ipython->jupyter-console->jupyter->d2l) (54.2.0)\n",
            "Requirement already satisfied, skipping upgrade: simplegeneric>0.8 in /usr/local/lib/python3.7/dist-packages (from ipython->jupyter-console->jupyter->d2l) (0.8.1)\n",
            "Requirement already satisfied, skipping upgrade: MarkupSafe>=0.23 in /usr/local/lib/python3.7/dist-packages (from jinja2->notebook->jupyter->d2l) (1.1.1)\n",
            "Requirement already satisfied, skipping upgrade: jsonschema!=2.5.0,>=2.4 in /usr/local/lib/python3.7/dist-packages (from nbformat->notebook->jupyter->d2l) (2.6.0)\n",
            "Requirement already satisfied, skipping upgrade: ptyprocess; os_name != \"nt\" in /usr/local/lib/python3.7/dist-packages (from terminado>=0.8.1->notebook->jupyter->d2l) (0.7.0)\n",
            "Requirement already satisfied, skipping upgrade: packaging in /usr/local/lib/python3.7/dist-packages (from bleach->nbconvert->jupyter->d2l) (20.9)\n",
            "Requirement already satisfied, skipping upgrade: webencodings in /usr/local/lib/python3.7/dist-packages (from bleach->nbconvert->jupyter->d2l) (0.5.1)\n",
            "Installing collected packages: d2l\n",
            "Successfully installed d2l-0.16.2\n"
          ],
          "name": "stdout"
        }
      ]
    },
    {
      "cell_type": "markdown",
      "metadata": {
        "id": "2mBJj7CuQ8ev"
      },
      "source": [
        "## Dive Into Deep Learning\n",
        "\n",
        "> Self notes on the book: http://www.d2l.ai/\n",
        "---\n",
        "\n",
        "If you are able to devise a solution to the problem that will work 100% of the time, __do not__ use ML!\n",
        "\n",
        "The supervision comes into play because for choosing the parameters, we (the supervisors) provide the model with a dataset consisting of labeled examples, where each example is matched with the ground-truth label. In probabilistic terms, we typically are interested in estimating the conditional probability of a label given input features. While it is just one among several paradigms within machine learning, supervised learning accounts for the majority of successful applications of machine learning in industry. Partly, that is because many important tasks can be described crisply as estimating the probability of something unknown given a particular set of available data:\n",
        "\n",
        "Lots of practical problems are well-described regression problems. Predicting the rating that a user will assign to a movie can be thought of as a regression problem and if you designed a great algorithm to accomplish this feat in 2009, you might have won the 1-million-dollar Netflix prize. Predicting the length of stay for patients in the hospital is also a regression problem. A good rule of thumb is that any how much? or how many? problem should suggest regression, such as:\n",
        "\n",
        "- How many hours will this surgery take?\n",
        "\n",
        "- How much rainfall will this town have in the next six hours?\n",
        "\n",
        "NOTE: whole number prediction problems are regression ones, not classification\n",
        "\n",
        "## Types of Supervised ML\n",
        "\n",
        "### 1. Regression + 2. Classification - we know\n",
        "\n",
        "### 2.1 Tagging\n",
        "\n",
        "Some classification problems fit neatly into the binary or multiclass classification setups. For example, we could train a normal binary classifier to distinguish cats from dogs. Given the current state of computer vision, we can do this easily, with off-the-shelf tools. Nonetheless, no matter how accurate our model gets, we might find ourselves in trouble when the classifier encounters an image of the Town Musicians of Bremen, a popular German fairy tale featuring four animals in Fig. 1.3.3.\n",
        "\n",
        "![](http://www.d2l.ai/_images/stackedanimals.png)\n",
        "\n",
        "As you can see, there is a cat in Fig. 1.3.3, and a rooster, a dog, and a donkey, with some trees in the background. Depending on what we want to do with our model ultimately, treating this as a binary classification problem might not make a lot of sense. Instead, we might want to give the model the option of saying the image depicts a cat, a dog, a donkey, and a rooster.\n",
        "\n",
        "The problem of learning to predict classes that are not mutually exclusive is called multi-label classification. Auto-tagging problems are typically best described as multi-label classification problems. Think of the tags people might apply to posts on a technical blog, e.g., “machine learning”, “technology”, “gadgets”, “programming languages”, “Linux”, “cloud computing”, “AWS”. A typical article might have 5–10 tags applied because these concepts are correlated. Posts about “cloud computing” are likely to mention “AWS” and posts about “machine learning” could also deal with “programming languages”.\n",
        "\n",
        "We also have to deal with this kind of problem when dealing with the biomedical literature, where correctly tagging articles is important because it allows researchers to do exhaustive reviews of the literature. At the National Library of Medicine, a number of professional annotators go over each article that gets indexed in PubMed to associate it with the relevant terms from MeSH, a collection of roughly 28000 tags. This is a time-consuming process and the annotators typically have a one-year lag between archiving and tagging. Machine learning can be used here to provide provisional tags until each article can have a proper manual review. Indeed, for several years, the BioASQ organization has hosted competitions to do precisely this.\n",
        "\n",
        "### 3. Search\n",
        "\n",
        "Sometimes we do not just want to assign each example to a bucket or to a real value. In the field of information retrieval, we want to impose a ranking on a set of items. Take web search for an example. The goal is less to determine whether a particular page is relevant for a query, but rather, which one of the plethora of search results is most relevant for a particular user. We really care about the ordering of the relevant search results and our learning algorithm needs to produce ordered subsets of elements from a larger set. In other words, if we are asked to produce the first 5 letters from the alphabet, there is a difference between returning “A B C D E” and “C A B E D”. Even if the result set is the same, the ordering within the set matters.\n",
        "\n",
        "\n",
        "One possible solution to this problem is to first assign to every element in the set a corresponding relevance score and then to retrieve the top-rated elements. PageRank, the original secret sauce behind the Google search engine was an early example of such a scoring system but it was peculiar in that it did not depend on the actual query. Here they relied on a simple relevance filter to identify the set of relevant items and then on PageRank to order those results that contained the query term. Nowadays, search engines use machine learning and behavioral models to obtain query-dependent relevance scores. There are entire academic conferences devoted to this subject.\n",
        "\n",
        "### 4. Recommender Systems\n",
        "\n",
        "In the simplest formulations, these systems are trained to estimate some score, such as an estimated rating or the probability of purchase, given a user and an item.\n",
        "\n",
        "Given such a model, for any given user, we could retrieve the set of objects with the largest scores, which could then be recommended to the user. Production systems are considerably more advanced and take detailed user activity and item characteristics into account when computing such scores\n",
        "\n",
        "Despite their tremendous economic value, recommendation systems naively built on top of predictive models suffer some serious conceptual flaws. To start, we only observe censored feedback: users preferentially rate movies that they feel strongly about. For example, on a five-point scale, you might notice that items receive many five and one star ratings but that there are conspicuously few three-star ratings. Moreover, current purchase habits are often a result of the recommendation algorithm currently in place, but learning algorithms do not always take this detail into account. Thus it is possible for feedback loops to form where a recommender system preferentially pushes an item that is then taken to be better (due to greater purchases) and in turn is recommended even more frequently. Many of these problems about how to deal with censoring, incentives, and feedback loops, are important open research questions.\n",
        "\n",
        "### Sequence learning\n",
        "\n",
        "So far, we have looked at problems where we have some fixed number of inputs and produce a fixed number of outputs. For example, we considered predicting house prices from a fixed set of features: square footage, number of bedrooms, number of bathrooms, walking time to downtown. We also discussed mapping from an image (of fixed dimension) to the predicted probabilities that it belongs to each of a fixed number of classes, or taking a user ID and a product ID, and predicting a star rating. In these cases, once we feed our fixed-length input into the model to generate an output, the model immediately forgets what it just saw.\n",
        "\n",
        "This might be fine if our inputs truly all have the same dimensions and if successive inputs truly have nothing to do with each other. But how would we deal with video snippets? In this case, each snippet might consist of a different number of frames. And our guess of what is going on in each frame might be much stronger if we take into account the previous or succeeding frames. Same goes for language. One popular deep learning problem is machine translation: the task of ingesting sentences in some source language and predicting their translation in another language.\n",
        "\n",
        "These problems also occur in medicine. We might want a model to monitor patients in the intensive care unit and to fire off alerts if their risk of death in the next 24 hours exceeds some threshold. We definitely would not want this model to throw away everything it knows about the patient history each hour and just make its predictions based on the most recent measurements.\n",
        "\n",
        "These problems are among the most exciting applications of machine learning and they are instances of sequence learning. They require a model to either ingest sequences of inputs or to emit sequences of outputs (or both). Specifically, sequence to sequence learning considers problems where input and output are both variable-length sequences, such as machine translation and transcribing text from the spoken speech. While it is impossible to consider all types of sequence transformations, the following special cases are worth mentioning.\n",
        "\n",
        "__Tagging and Parsing__. This involves annotating a text sequence with attributes. In other words, the number of inputs and outputs is essentially the same. For instance, we might want to know where the verbs and subjects are. Alternatively, we might want to know which words are the named entities.\n",
        "\n",
        "__Automatic Speech Recognition__. With speech recognition, the input sequence is an audio recording of a speaker (shown in Fig. 1.3.5), and the output is the textual transcript of what the speaker said. The challenge is that there are many more audio frames (sound is typically sampled at 8kHz or 16kHz) than text, i.e., there is no 1:1 correspondence between audio and text, since thousands of samples may correspond to a single spoken word. These are sequence to sequence learning problems where the output is much shorter than the input.\n",
        "\n",
        "__Text to Speech__. This is the inverse of automatic speech recognition. In other words, the input is text and the output is an audio file. In this case, the output is much longer than the input. While it is easy for humans to recognize a bad audio file, this is not quite so trivial for computers.\n",
        "\n",
        "__Machine Translation__. Unlike the case of speech recognition, where corresponding inputs and outputs occur in the same order (after alignment), in machine translation, order inversion can be vital. In other words, while we are still converting one sequence into another, neither the number of inputs and outputs nor the order of corresponding data examples are assumed to be the same. Consider the following illustrative example of the peculiar tendency of Germans to place the verbs at the end of sentences.\n",
        "\n",
        "```\n",
        "German:           Haben Sie sich schon dieses grossartige Lehrwerk angeschaut?\n",
        "English:          Did you already check out this excellent tutorial?\n",
        "Wrong alignment:  Did you yourself already this excellent tutorial looked-at?\n",
        "```\n",
        "\n"
      ]
    },
    {
      "cell_type": "markdown",
      "metadata": {
        "id": "sEieofVh0SKV"
      },
      "source": [
        "## Unsupervised Learning\n",
        "\n",
        "In a completely opposite way, it could be frustrating to work for a boss who has no idea what they want you to do. However, if you plan to be a data scientist, you had better get used to it. The boss might just hand you a giant dump of data and tell you to do some data science with it! This sounds vague because it is. We call this class of problems unsupervised learning, and the type and number of questions we could ask is limited only by our creativity. We will address unsupervised learning techniques in later chapters. To whet your appetite for now, we describe a few of the following questions you might ask.\n",
        "\n",
        "- Can we find a small number of prototypes that accurately summarize the data? Given a set of photos, can we group them into landscape photos, pictures of dogs, babies, cats, and mountain peaks? Likewise, given a collection of users’ browsing activities, can we group them into users with similar behavior? This problem is typically known as clustering.\n",
        "\n",
        "- Can we find a small number of parameters that accurately capture the relevant properties of the data? The trajectories of a ball are quite well described by velocity, diameter, and mass of the ball. Tailors have developed a small number of parameters that describe human body shape fairly accurately for the purpose of fitting clothes. These problems are referred to as subspace estimation. If the dependence is linear, it is called principal component analysis.\n",
        "\n",
        "- Is there a representation of (arbitrarily structured) objects in Euclidean space such that symbolic properties can be well matched? This can be used to describe entities and their relations, such as “Rome”  −  “Italy”  +  “France”  =  “Paris”.\n",
        "\n",
        "- Is there a description of the root causes of much of the data that we observe? For instance, if we have demographic data about house prices, pollution, crime, location, education, and salaries, can we discover how they are related simply based on empirical data? The fields concerned with causality and probabilistic graphical models address this problem.\n",
        "\n",
        "- Another important and exciting recent development in unsupervised learning is the advent of generative adversarial networks. These give us a procedural way to synthesize data, even complicated structured data like images and audio. The underlying statistical mechanisms are tests to check whether real and fake data are the same."
      ]
    },
    {
      "cell_type": "markdown",
      "metadata": {
        "id": "dw1GazwOMNQg"
      },
      "source": [
        "## Basic Data Manipulation\n",
        "\n",
        "To start, we can use arange to create a row vector x containing the first 12 integers starting with 0, though they are created as floats by default. Each of the values in a tensor is called an element of the tensor. For instance, there are 12 elements in the tensor x. Unless otherwise specified, a new tensor will be stored in main memory and designated for CPU-based computation.\n",
        "\n"
      ]
    },
    {
      "cell_type": "code",
      "metadata": {
        "id": "VMhTF98VQ5Ev",
        "colab": {
          "base_uri": "https://localhost:8080/"
        },
        "outputId": "ed33158a-1fd7-4701-ec28-cf11341d7507"
      },
      "source": [
        "import torch\n",
        "import tensorflow as tf\n",
        "\n",
        "print (tf.__version__)\n",
        "print (torch.__version__)"
      ],
      "execution_count": null,
      "outputs": [
        {
          "output_type": "stream",
          "text": [
            "2.4.1\n",
            "1.8.0+cu101\n"
          ],
          "name": "stdout"
        }
      ]
    },
    {
      "cell_type": "code",
      "metadata": {
        "colab": {
          "base_uri": "https://localhost:8080/"
        },
        "id": "bBzRRI4QMh0P",
        "outputId": "f3f64297-a500-4e7f-ecd0-02341c063953"
      },
      "source": [
        "x = torch.arange(start=0, end=12, step=1)\n",
        "\n",
        "print (x)\n",
        "\n",
        "print (x.shape)\n",
        "\n",
        "print (x.numel())"
      ],
      "execution_count": null,
      "outputs": [
        {
          "output_type": "stream",
          "text": [
            "tensor([ 0,  1,  2,  3,  4,  5,  6,  7,  8,  9, 10, 11])\n",
            "torch.Size([12])\n",
            "12\n"
          ],
          "name": "stdout"
        }
      ]
    },
    {
      "cell_type": "code",
      "metadata": {
        "colab": {
          "base_uri": "https://localhost:8080/"
        },
        "id": "wB60MjLVMm7r",
        "outputId": "cd7ab145-eb04-4765-bb40-c8f4761c32c2"
      },
      "source": [
        "X = x.reshape(3, 4)\n",
        "print (X)\n",
        "\n",
        "## automatically infer the first dimension\n",
        "X = x.reshape(-1, 4)\n",
        "print (X) "
      ],
      "execution_count": null,
      "outputs": [
        {
          "output_type": "stream",
          "text": [
            "tensor([[ 0,  1,  2,  3],\n",
            "        [ 4,  5,  6,  7],\n",
            "        [ 8,  9, 10, 11]])\n",
            "tensor([[ 0,  1,  2,  3],\n",
            "        [ 4,  5,  6,  7],\n",
            "        [ 8,  9, 10, 11]])\n"
          ],
          "name": "stdout"
        }
      ]
    },
    {
      "cell_type": "markdown",
      "metadata": {
        "id": "aJoUaOTzN6VC"
      },
      "source": [
        "Typically, we will want our matrices initialized either with zeros, ones, some other constants, or numbers randomly sampled from a specific distribution. We can create a tensor representing a tensor with all elements set to 0 and a shape of (2, 3, 4) as follows:\n",
        "\n"
      ]
    },
    {
      "cell_type": "code",
      "metadata": {
        "colab": {
          "base_uri": "https://localhost:8080/"
        },
        "id": "yBz0Q1kCM1tA",
        "outputId": "f679700d-288e-4640-af62-6275bf515167"
      },
      "source": [
        "print (torch.zeros((2,3,4)))\n",
        "\n",
        "## Similarly, we can create tensors with each element set to 1 as follows:\n",
        "\n",
        "print (torch.ones((2,3,4)))"
      ],
      "execution_count": null,
      "outputs": [
        {
          "output_type": "stream",
          "text": [
            "tensor([[[0., 0., 0., 0.],\n",
            "         [0., 0., 0., 0.],\n",
            "         [0., 0., 0., 0.]],\n",
            "\n",
            "        [[0., 0., 0., 0.],\n",
            "         [0., 0., 0., 0.],\n",
            "         [0., 0., 0., 0.]]])\n",
            "tensor([[[1., 1., 1., 1.],\n",
            "         [1., 1., 1., 1.],\n",
            "         [1., 1., 1., 1.]],\n",
            "\n",
            "        [[1., 1., 1., 1.],\n",
            "         [1., 1., 1., 1.],\n",
            "         [1., 1., 1., 1.]]])\n"
          ],
          "name": "stdout"
        }
      ]
    },
    {
      "cell_type": "code",
      "metadata": {
        "colab": {
          "base_uri": "https://localhost:8080/"
        },
        "id": "wCRy-5_BN_2w",
        "outputId": "98b93934-9c92-44de-c114-1dbb7384844e"
      },
      "source": [
        "print (torch.randn((2,3,4)))"
      ],
      "execution_count": null,
      "outputs": [
        {
          "output_type": "stream",
          "text": [
            "tensor([[[ 1.0626,  1.0005,  3.6282, -0.2103],\n",
            "         [-0.2923, -0.3126, -1.1658,  0.1266],\n",
            "         [ 1.2817,  1.7867, -1.2784, -0.5347]],\n",
            "\n",
            "        [[ 0.4182,  0.1116, -0.2413, -0.2941],\n",
            "         [ 0.0742,  0.6742,  0.1664, -0.8610],\n",
            "         [ 1.1863, -0.4719, -0.3933,  1.3284]]])\n"
          ],
          "name": "stdout"
        }
      ]
    },
    {
      "cell_type": "markdown",
      "metadata": {
        "id": "Z7r_ePh7PBXF"
      },
      "source": [
        "We can also specify the exact values for each element in the desired tensor by supplying a Python list (or list of lists) containing the numerical values. Here, the outermost list corresponds to axis 0, and the inner list to axis 1.\n",
        "\n"
      ]
    },
    {
      "cell_type": "code",
      "metadata": {
        "colab": {
          "base_uri": "https://localhost:8080/"
        },
        "id": "eNHfwNTrOuZN",
        "outputId": "c263c803-9531-4141-ffa9-e82b795cdcf4"
      },
      "source": [
        "torch.tensor([[2, 1, 4, 3], [1, 2, 3, 4], [4, 3, 2, 1]])"
      ],
      "execution_count": null,
      "outputs": [
        {
          "output_type": "execute_result",
          "data": {
            "text/plain": [
              "tensor([[2, 1, 4, 3],\n",
              "        [1, 2, 3, 4],\n",
              "        [4, 3, 2, 1]])"
            ]
          },
          "metadata": {
            "tags": []
          },
          "execution_count": 7
        }
      ]
    },
    {
      "cell_type": "code",
      "metadata": {
        "colab": {
          "base_uri": "https://localhost:8080/"
        },
        "id": "yqgH550PPD2Z",
        "outputId": "efc01a22-7530-4dc0-dd7e-75e3fbd4cab8"
      },
      "source": [
        "x = torch.tensor([1.0, 2, 4, 8])\n",
        "y = torch.tensor([2, 2, 2, 2])\n",
        "x + y, x - y, x * y, x / y, x ** y  # The ** operator is exponentiation"
      ],
      "execution_count": null,
      "outputs": [
        {
          "output_type": "execute_result",
          "data": {
            "text/plain": [
              "(tensor([ 3.,  4.,  6., 10.]),\n",
              " tensor([-1.,  0.,  2.,  6.]),\n",
              " tensor([ 2.,  4.,  8., 16.]),\n",
              " tensor([0.5000, 1.0000, 2.0000, 4.0000]),\n",
              " tensor([ 1.,  4., 16., 64.]))"
            ]
          },
          "metadata": {
            "tags": []
          },
          "execution_count": 8
        }
      ]
    },
    {
      "cell_type": "code",
      "metadata": {
        "colab": {
          "base_uri": "https://localhost:8080/"
        },
        "id": "wgfod02MTRCA",
        "outputId": "f0c396a2-8da7-4e28-e7cd-cbefedaae4ec"
      },
      "source": [
        "X = torch.arange(12, dtype=torch.float32).reshape((3,4))\n",
        "Y = torch.tensor([[2.0, 1, 4, 3], [1, 2, 3, 4], [4, 3, 2, 1]])\n",
        "\n",
        "print (X)\n",
        "\n",
        "print (Y)"
      ],
      "execution_count": null,
      "outputs": [
        {
          "output_type": "stream",
          "text": [
            "tensor([[ 0.,  1.,  2.,  3.],\n",
            "        [ 4.,  5.,  6.,  7.],\n",
            "        [ 8.,  9., 10., 11.]])\n",
            "tensor([[2., 1., 4., 3.],\n",
            "        [1., 2., 3., 4.],\n",
            "        [4., 3., 2., 1.]])\n"
          ],
          "name": "stdout"
        }
      ]
    },
    {
      "cell_type": "code",
      "metadata": {
        "colab": {
          "base_uri": "https://localhost:8080/"
        },
        "id": "nFvOeDmlTtAM",
        "outputId": "03b1149b-9d08-4f3c-bef7-38494f73e788"
      },
      "source": [
        "torch.cat(tensors=[X, Y], dim=0)"
      ],
      "execution_count": null,
      "outputs": [
        {
          "output_type": "execute_result",
          "data": {
            "text/plain": [
              "tensor([[ 0.,  1.,  2.,  3.],\n",
              "        [ 4.,  5.,  6.,  7.],\n",
              "        [ 8.,  9., 10., 11.],\n",
              "        [ 2.,  1.,  4.,  3.],\n",
              "        [ 1.,  2.,  3.,  4.],\n",
              "        [ 4.,  3.,  2.,  1.]])"
            ]
          },
          "metadata": {
            "tags": []
          },
          "execution_count": 10
        }
      ]
    },
    {
      "cell_type": "code",
      "metadata": {
        "colab": {
          "base_uri": "https://localhost:8080/"
        },
        "id": "G7svhcO4T1MX",
        "outputId": "7168fdec-50b9-431a-e0c4-ae2fbd51eaf8"
      },
      "source": [
        "torch.cat((X, Y), dim=1)"
      ],
      "execution_count": null,
      "outputs": [
        {
          "output_type": "execute_result",
          "data": {
            "text/plain": [
              "tensor([[ 0.,  1.,  2.,  3.,  2.,  1.,  4.,  3.],\n",
              "        [ 4.,  5.,  6.,  7.,  1.,  2.,  3.,  4.],\n",
              "        [ 8.,  9., 10., 11.,  4.,  3.,  2.,  1.]])"
            ]
          },
          "metadata": {
            "tags": []
          },
          "execution_count": 11
        }
      ]
    },
    {
      "cell_type": "markdown",
      "metadata": {
        "id": "Y9SZccD-eR3u"
      },
      "source": [
        "### Broadcasting Mechanism\n",
        "\n",
        "In the above section, we saw how to perform elementwise operations on two tensors of the same shape. Under certain conditions, even when shapes differ, we can still perform elementwise operations by invoking the broadcasting mechanism. This mechanism works in the following way: First, expand one or both arrays by copying elements appropriately so that after this transformation, the two tensors have the same shape. Second, carry out the elementwise operations on the resulting arrays.\n",
        "\n",
        "In most cases, we broadcast along an axis where an array initially only has length 1, such as in the following example:\n",
        "\n"
      ]
    },
    {
      "cell_type": "code",
      "metadata": {
        "colab": {
          "base_uri": "https://localhost:8080/"
        },
        "id": "kJQSaGPtUH_y",
        "outputId": "b8d48eb0-466b-401b-efb9-621b288b6321"
      },
      "source": [
        "a = torch.arange(3).reshape((3,1))\n",
        "print (a)\n",
        "b = torch.arange(2).reshape((1, 2))\n",
        "print (b)"
      ],
      "execution_count": null,
      "outputs": [
        {
          "output_type": "stream",
          "text": [
            "tensor([[0],\n",
            "        [1],\n",
            "        [2]])\n",
            "tensor([[0, 1]])\n"
          ],
          "name": "stdout"
        }
      ]
    },
    {
      "cell_type": "code",
      "metadata": {
        "colab": {
          "base_uri": "https://localhost:8080/",
          "height": 35
        },
        "id": "V-UY17zVelhu",
        "outputId": "c7a7f5cf-7be7-42a8-c955-bd348ae4f88d"
      },
      "source": [
        "a+b\n",
        "\n",
        "\"\"\"\n",
        "The broadcasting happens as:\n",
        "a -> [[0, 0]\n",
        "     [1, 1]\n",
        "     [2, 2]]\n",
        "b -> [[0, 1]\n",
        "     [0, 1]\n",
        "     [0, 1]]   \n",
        "\"\"\""
      ],
      "execution_count": null,
      "outputs": [
        {
          "output_type": "execute_result",
          "data": {
            "application/vnd.google.colaboratory.intrinsic+json": {
              "type": "string"
            },
            "text/plain": [
              "'\\nThe broadcasting happens as:\\na -> [[0, 0]\\n     [1, 1]\\n     [2, 2]]\\nb -> [[0, 1]\\n     [0, 1]\\n     [0, 1]]   \\n'"
            ]
          },
          "metadata": {
            "tags": []
          },
          "execution_count": 13
        }
      ]
    },
    {
      "cell_type": "markdown",
      "metadata": {
        "id": "Cc7_7I9Rfc8A"
      },
      "source": [
        "### Indexing and slicing\n",
        "\n",
        "Thus, [-1] selects the last element and [1:3] selects the second and the third elements as follows:\n",
        "\n"
      ]
    },
    {
      "cell_type": "code",
      "metadata": {
        "colab": {
          "base_uri": "https://localhost:8080/"
        },
        "id": "qMfORByvew0m",
        "outputId": "bdc32703-f012-439e-d878-1effee374dd8"
      },
      "source": [
        "print (X)\n",
        "\n",
        "print (X[-1])\n",
        "\n",
        "print (X[1:3])"
      ],
      "execution_count": null,
      "outputs": [
        {
          "output_type": "stream",
          "text": [
            "tensor([[ 0.,  1.,  2.,  3.],\n",
            "        [ 4.,  5.,  6.,  7.],\n",
            "        [ 8.,  9., 10., 11.]])\n",
            "tensor([ 8.,  9., 10., 11.])\n",
            "tensor([[ 4.,  5.,  6.,  7.],\n",
            "        [ 8.,  9., 10., 11.]])\n"
          ],
          "name": "stdout"
        }
      ]
    },
    {
      "cell_type": "code",
      "metadata": {
        "colab": {
          "base_uri": "https://localhost:8080/"
        },
        "id": "96XTzZFif8Nq",
        "outputId": "42379fdf-980a-4954-aee2-134b864d093f"
      },
      "source": [
        "X[1, 2] = 9\n",
        "print (X)"
      ],
      "execution_count": null,
      "outputs": [
        {
          "output_type": "stream",
          "text": [
            "tensor([[ 0.,  1.,  2.,  3.],\n",
            "        [ 4.,  5.,  9.,  7.],\n",
            "        [ 8.,  9., 10., 11.]])\n"
          ],
          "name": "stdout"
        }
      ]
    },
    {
      "cell_type": "code",
      "metadata": {
        "colab": {
          "base_uri": "https://localhost:8080/"
        },
        "id": "2M4bvm_0gHc1",
        "outputId": "a2a5954f-f575-463b-9a1d-ea293f69c00a"
      },
      "source": [
        "X[0:2, :] = 12\n",
        "\n",
        "print (X)"
      ],
      "execution_count": null,
      "outputs": [
        {
          "output_type": "stream",
          "text": [
            "tensor([[12., 12., 12., 12.],\n",
            "        [12., 12., 12., 12.],\n",
            "        [ 8.,  9., 10., 11.]])\n"
          ],
          "name": "stdout"
        }
      ]
    },
    {
      "cell_type": "markdown",
      "metadata": {
        "id": "EXF-aQbm8hKz"
      },
      "source": [
        "### Saving memeory\n",
        "\n",
        "Running operations can cause new memory to be allocated to host results. For example, if we write Y = X + Y, we will dereference the tensor that Y used to point to and instead point Y at the newly allocated memory. In the following example, we demonstrate this with Python’s id() function, which gives us the exact address of the referenced object in memory. After running Y = Y + X, we will find that id(Y) points to a different location. That is because Python first evaluates Y + X, allocating new memory for the result and then makes Y point to this new location in memory.\n",
        "\n"
      ]
    },
    {
      "cell_type": "code",
      "metadata": {
        "colab": {
          "base_uri": "https://localhost:8080/"
        },
        "id": "9v0YsUS5gO_1",
        "outputId": "9571f0a9-514d-4359-c77b-eae54ff745d7"
      },
      "source": [
        "before = id(Y)\n",
        "print (before)\n",
        "Y=Y+X\n",
        "print (id(Y))"
      ],
      "execution_count": null,
      "outputs": [
        {
          "output_type": "stream",
          "text": [
            "140373009755264\n",
            "140373002487040\n"
          ],
          "name": "stdout"
        }
      ]
    },
    {
      "cell_type": "markdown",
      "metadata": {
        "id": "4WNjxT5T8_Cs"
      },
      "source": [
        "This might be undesirable for two reasons. First, we do not want to run around allocating memory unnecessarily all the time. In machine learning, we might have hundreds of megabytes of parameters and update all of them multiple times per second. Typically, we will want to perform these updates in place. Second, we might point at the same parameters from multiple variables. If we do not update in place, other references will still point to the old memory location, making it possible for parts of our code to inadvertently reference stale parameters.\n",
        "\n",
        "Fortunately, performing in-place operations is easy. We can assign the result of an operation to a previously allocated array with slice notation, e.g., Y[:] = <expression>. To illustrate this concept, we first create a new matrix Z with the same shape as another Y, using zeros_like to allocate a block of entries"
      ]
    },
    {
      "cell_type": "code",
      "metadata": {
        "colab": {
          "base_uri": "https://localhost:8080/"
        },
        "id": "QFJiDCWO8t6a",
        "outputId": "0c335590-4d22-43a3-b54a-7d5a16443db9"
      },
      "source": [
        "Z = torch.zeros_like(Y)\n",
        "print (Z)\n",
        "print('id(Z):', id(Z))\n",
        "Z[:] = X + Y\n",
        "print('id(Z):', id(Z))\n",
        "Z = X+Y\n",
        "print('id(Z):', id(Z))"
      ],
      "execution_count": null,
      "outputs": [
        {
          "output_type": "stream",
          "text": [
            "tensor([[0., 0., 0., 0.],\n",
            "        [0., 0., 0., 0.],\n",
            "        [0., 0., 0., 0.]])\n",
            "id(Z): 140373002514672\n",
            "id(Z): 140373002514672\n",
            "id(Z): 140373002516672\n"
          ],
          "name": "stdout"
        }
      ]
    },
    {
      "cell_type": "markdown",
      "metadata": {
        "id": "k2vm-2tI_jpC"
      },
      "source": [
        "If the value of X is not reused in subsequent computations, we can also use X[:] = X + Y or X += Y to reduce the memory overhead of the operation.\n",
        "\n"
      ]
    },
    {
      "cell_type": "code",
      "metadata": {
        "colab": {
          "base_uri": "https://localhost:8080/"
        },
        "id": "jGjqrm7F_R2s",
        "outputId": "e1b4eec9-1744-4cce-f190-4ffc7e5159d9"
      },
      "source": [
        "before = id(X)\n",
        "X = X + Y\n",
        "id(X) == before"
      ],
      "execution_count": null,
      "outputs": [
        {
          "output_type": "execute_result",
          "data": {
            "text/plain": [
              "False"
            ]
          },
          "metadata": {
            "tags": []
          },
          "execution_count": 19
        }
      ]
    },
    {
      "cell_type": "code",
      "metadata": {
        "colab": {
          "base_uri": "https://localhost:8080/"
        },
        "id": "BjFb86mE_lJM",
        "outputId": "6303edc1-d06f-4ea5-b71f-6eadbdd2278e"
      },
      "source": [
        "before = id(X)\n",
        "X +=  Y\n",
        "id(X) == before"
      ],
      "execution_count": null,
      "outputs": [
        {
          "output_type": "execute_result",
          "data": {
            "text/plain": [
              "True"
            ]
          },
          "metadata": {
            "tags": []
          },
          "execution_count": 20
        }
      ]
    },
    {
      "cell_type": "markdown",
      "metadata": {
        "id": "vTKxYwGkRg1G"
      },
      "source": [
        "## Basic Linear Algebra\n",
        "\n",
        "### Dot Product\n",
        "\n",
        "one of the most fundamental operations is the dot product. Given two vectors  x,y their dot product\n",
        "\n",
        "$\\mathbf{x}^\\top \\mathbf{y}$ or $\\langle \\mathbf{x}, \\mathbf{y} \\rangle$\n",
        "is a sum over the products of the elements at the same position"
      ]
    },
    {
      "cell_type": "code",
      "metadata": {
        "id": "3pw3MafZ_sMO",
        "colab": {
          "base_uri": "https://localhost:8080/"
        },
        "outputId": "59319978-5629-403c-9a8d-635596e2b8de"
      },
      "source": [
        "print (x)\n",
        "y = torch.ones(4, dtype=torch.float32)\n",
        "\n",
        "print (x.dot(y))\n",
        "\n",
        "### Note that we can express the dot product of two vectors equivalently by performing an elementwise multiplication and then a sum:\n",
        "\n",
        "print (torch.sum(x*y))"
      ],
      "execution_count": null,
      "outputs": [
        {
          "output_type": "stream",
          "text": [
            "tensor([1., 2., 4., 8.])\n",
            "tensor(15.)\n",
            "tensor(15.)\n"
          ],
          "name": "stdout"
        }
      ]
    },
    {
      "cell_type": "markdown",
      "metadata": {
        "id": "CxcS0rFrSZlU"
      },
      "source": [
        "Dot products are useful in a wide range of contexts. For example, given some set of values, and a set of wts the dot product bw these vectors give us a weighted sum. When the wts are non-negative and sum upto 1 the dot prod gives us the weighted avg\n",
        "\n",
        "After normalizing two vectors to have the unit length, the dot products express the cosine of the angle between them. We will formally introduce this notion of length later in this section.\n",
        "\n",
        "### Matrix-Vector Products\n",
        "\n",
        "Now that we know how to calculate dot products, we can begin to understand matrix-vector products. Recall the matrix  $\\mathbf{A} \\in \\mathbb{R}^{m \\times n}$ and the vector $\\mathbf{x} \\in \\mathbb{R}^n$ \n",
        "\n",
        "$\\begin{split}\\mathbf{A}=\n",
        "\\begin{bmatrix}\n",
        "\\mathbf{a}^\\top_{1} \\\\\n",
        "\\mathbf{a}^\\top_{2} \\\\\n",
        "\\vdots \\\\\n",
        "\\mathbf{a}^\\top_m \\\\\n",
        "\\end{bmatrix},\\end{split}$\n",
        "\n",
        "where each $\\mathbf{a}^\\top_{i} \\in \\mathbb{R}^n$ is a row vector representing the ith row of the matrix A. The matrix-vector product Ax is simply a column vector of length  m , whose  ith  element is the dot product  $\\mathbf{a}^\\top_i \\mathbf{x}$\n",
        "\n",
        "$\\begin{split}\\mathbf{A}\\mathbf{x}\n",
        "= \\begin{bmatrix}\n",
        "\\mathbf{a}^\\top_{1} \\\\\n",
        "\\mathbf{a}^\\top_{2} \\\\\n",
        "\\vdots \\\\\n",
        "\\mathbf{a}^\\top_m \\\\\n",
        "\\end{bmatrix}\\mathbf{x}\n",
        "= \\begin{bmatrix}\n",
        " \\mathbf{a}^\\top_{1} \\mathbf{x}  \\\\\n",
        " \\mathbf{a}^\\top_{2} \\mathbf{x} \\\\\n",
        "\\vdots\\\\\n",
        " \\mathbf{a}^\\top_{m} \\mathbf{x}\\\\\n",
        "\\end{bmatrix}.\\end{split}$\n",
        "\n",
        "We can think of multiplication by a matrix  A as a transformation that projects vectors (here x) from  $\\mathbb{R}^n$ to $\\mathbb{R}^m$. These transformations turn out to be remarkably useful. For example, we can represent rotations as multiplications by a square matrix. As we will see in subsequent chapters, we can also use matrix-vector products to describe the most intensive calculations required when computing each layer in a neural network given the values of the previous layer.\n",
        "\n",
        "Expressing matrix-vector products in code with tensors, we use the same dot function as for dot products. When we call np.dot(A, x) with a matrix A and a vector x, the matrix-vector product is performed. Note that the column dimension of A (its length along axis 1) must be the same as the dimension of x (its length).\n",
        "\n"
      ]
    },
    {
      "cell_type": "code",
      "metadata": {
        "colab": {
          "base_uri": "https://localhost:8080/"
        },
        "id": "SFxOAxynR6YK",
        "outputId": "6131447c-7941-418a-a417-aec6e5bf22fb"
      },
      "source": [
        "A = torch.arange(20, dtype=torch.float32).reshape(5, 4)\n",
        "\n",
        "\n",
        "print (A.shape, x.shape)\n",
        "\n",
        "print (A)\n",
        "\n",
        "print (x)\n",
        "\n",
        "print (torch.mv(input=A, vec=x))"
      ],
      "execution_count": null,
      "outputs": [
        {
          "output_type": "stream",
          "text": [
            "torch.Size([5, 4]) torch.Size([4])\n",
            "tensor([[ 0.,  1.,  2.,  3.],\n",
            "        [ 4.,  5.,  6.,  7.],\n",
            "        [ 8.,  9., 10., 11.],\n",
            "        [12., 13., 14., 15.],\n",
            "        [16., 17., 18., 19.]])\n",
            "tensor([1., 2., 4., 8.])\n",
            "tensor([ 34.,  94., 154., 214., 274.])\n"
          ],
          "name": "stdout"
        }
      ]
    },
    {
      "cell_type": "markdown",
      "metadata": {
        "id": "QJvNloGpZee8"
      },
      "source": [
        "### Matrix Multiplication\n",
        "\n",
        "![](https://i.imgur.com/8lGoukC.png)\n",
        "\n",
        "#### Walkthrough\n",
        "\n",
        "![](https://i.imgur.com/YPiBqU8.jpeg)\n",
        "\n",
        "![](https://i.imgur.com/YPiBqU8.jpeg)\n",
        "\n",
        "\n",
        "---\n",
        "\n",
        "\n",
        "\n",
        "\n"
      ]
    },
    {
      "cell_type": "code",
      "metadata": {
        "colab": {
          "base_uri": "https://localhost:8080/"
        },
        "id": "JnAkZ0RbY8lp",
        "outputId": "6c787e92-a0d6-4411-be92-627e727b2204"
      },
      "source": [
        "print (A)\n",
        "\n",
        "B = torch.ones((4,3))\n",
        "\n",
        "print (A.shape, B.shape)\n",
        "mul = torch.mm(A, B)\n",
        "print (mul)\n",
        "print (mul.shape)"
      ],
      "execution_count": null,
      "outputs": [
        {
          "output_type": "stream",
          "text": [
            "tensor([[ 0.,  1.,  2.,  3.],\n",
            "        [ 4.,  5.,  6.,  7.],\n",
            "        [ 8.,  9., 10., 11.],\n",
            "        [12., 13., 14., 15.],\n",
            "        [16., 17., 18., 19.]])\n",
            "torch.Size([5, 4]) torch.Size([4, 3])\n",
            "tensor([[ 6.,  6.,  6.],\n",
            "        [22., 22., 22.],\n",
            "        [38., 38., 38.],\n",
            "        [54., 54., 54.],\n",
            "        [70., 70., 70.]])\n",
            "torch.Size([5, 3])\n"
          ],
          "name": "stdout"
        }
      ]
    },
    {
      "cell_type": "code",
      "metadata": {
        "colab": {
          "base_uri": "https://localhost:8080/"
        },
        "id": "DdaGhEkcvSA8",
        "outputId": "b33d90df-0713-4a40-c7b8-87b26a608b96"
      },
      "source": [
        "### a is each row vector; extract the one at idx 1\n",
        "a_2 = A[1, :]\n",
        "\n",
        "print (a_2)"
      ],
      "execution_count": null,
      "outputs": [
        {
          "output_type": "stream",
          "text": [
            "tensor([4., 5., 6., 7.])\n"
          ],
          "name": "stdout"
        }
      ]
    },
    {
      "cell_type": "code",
      "metadata": {
        "colab": {
          "base_uri": "https://localhost:8080/"
        },
        "id": "SQWBLkUFv0hE",
        "outputId": "fe3e00a2-31d6-47c2-84a0-9c5635973b8e"
      },
      "source": [
        "### b is each col vector; extract the last one: b_m\n",
        "b_m = B[:, -1]\n",
        "\n",
        "print (b_m)"
      ],
      "execution_count": null,
      "outputs": [
        {
          "output_type": "stream",
          "text": [
            "tensor([1., 1., 1., 1.])\n"
          ],
          "name": "stdout"
        }
      ]
    },
    {
      "cell_type": "code",
      "metadata": {
        "colab": {
          "base_uri": "https://localhost:8080/"
        },
        "id": "Gx3Zrc2vwKiI",
        "outputId": "21536897-2a22-40e3-b52d-f89ce05dfd31"
      },
      "source": [
        "### a2_T . b_m should give the result at pos 2, m\n",
        "\n",
        "print (a_2.T.dot(b_m))"
      ],
      "execution_count": null,
      "outputs": [
        {
          "output_type": "stream",
          "text": [
            "tensor(22.)\n"
          ],
          "name": "stdout"
        }
      ]
    },
    {
      "cell_type": "code",
      "metadata": {
        "colab": {
          "base_uri": "https://localhost:8080/"
        },
        "id": "lc99Do5HwQJc",
        "outputId": "ee95870d-0fcc-4e0b-fbff-43a3e0e26056"
      },
      "source": [
        "print (mul)"
      ],
      "execution_count": null,
      "outputs": [
        {
          "output_type": "stream",
          "text": [
            "tensor([[ 6.,  6.,  6.],\n",
            "        [22., 22., 22.],\n",
            "        [38., 38., 38.],\n",
            "        [54., 54., 54.],\n",
            "        [70., 70., 70.]])\n"
          ],
          "name": "stdout"
        }
      ]
    },
    {
      "cell_type": "markdown",
      "metadata": {
        "id": "Ny6VcmB44k7O"
      },
      "source": [
        "### Norms\n",
        "\n",
        "Some of the most useful operators in linear algebra are norms. Informally, the norm of a vector tells us how big a vector is. The notion of size under consideration here concerns not dimensionality but rather the magnitude of the components.\n",
        "\n",
        "You might notice that norms sound a lot like measures of distance. And if you remember Euclidean distances (think Pythagoras’ theorem) from grade school, then the concepts of non-negativity and the triangle inequality might ring a bell. In fact, the Euclidean distance is a norm:\n",
        "\n",
        "specifically it is the  L2  norm. Suppose that the elements in the  n -dimensional vector  x  are  x1,…,xn . The  L2  norm of  x  is the square root of the sum of the squares of the vector elements:\n",
        "\n",
        "$\\|\\mathbf{x}\\|_2 = \\sqrt{\\sum_{i=1}^n x_i^2},$\n",
        "\n",
        "where the subscript  2  is often omitted in  L2  norms, i.e., $\\|\\mathbf{x}\\|$ is  equivalent to $\\|\\mathbf{x}\\|_2$ "
      ]
    },
    {
      "cell_type": "code",
      "metadata": {
        "colab": {
          "base_uri": "https://localhost:8080/"
        },
        "id": "K2Jk0JO0wsI4",
        "outputId": "c93b91c0-495f-4ca7-9add-9f485b7b4c30"
      },
      "source": [
        "u = torch.tensor([3.0, -4.0])\n",
        "torch.norm(u)"
      ],
      "execution_count": null,
      "outputs": [
        {
          "output_type": "execute_result",
          "data": {
            "text/plain": [
              "tensor(5.)"
            ]
          },
          "metadata": {
            "tags": []
          },
          "execution_count": 28
        }
      ]
    },
    {
      "cell_type": "markdown",
      "metadata": {
        "id": "NHhmigt05O4w"
      },
      "source": [
        "In deep learning, we work more often with the squared  L2  norm. You will also frequently encounter the  L1  norm, which is expressed as the sum of the absolute values of the vector elements:\n",
        "\n",
        "$\\|\\mathbf{x}\\|_1 = \\sum_{i=1}^n \\left|x_i \\right|.$\n",
        "\n",
        "As compared with the  L2  norm, it is less influenced by outliers. To calculate the  L1  norm, we compose the absolute value function with a sum over the elements."
      ]
    },
    {
      "cell_type": "code",
      "metadata": {
        "colab": {
          "base_uri": "https://localhost:8080/"
        },
        "id": "5qr-pYGb5HNK",
        "outputId": "28fcb123-18f4-4ac9-f03b-bbc9381fae3e"
      },
      "source": [
        "torch.abs(u).sum()"
      ],
      "execution_count": null,
      "outputs": [
        {
          "output_type": "execute_result",
          "data": {
            "text/plain": [
              "tensor(7.)"
            ]
          },
          "metadata": {
            "tags": []
          },
          "execution_count": 29
        }
      ]
    },
    {
      "cell_type": "markdown",
      "metadata": {
        "id": "oABEOPdz8WBH"
      },
      "source": [
        "Both the  L2  norm and the  L1  norm are special cases of the more general  Lp  norm:\n",
        "\n",
        "$\\|\\mathbf{x}\\|_p = \\left(\\sum_{i=1}^n \\left|x_i \\right|^p \\right)^{1/p}.|$\n",
        "\n",
        "Analogous to  L2  norms of vectors, the Frobenius norm of a matrix $\\mathbf{X} \\in \\mathbb{R}^{m \\times n}$ is the square root of the sum of the squares of the matrix elements:\n",
        "\n",
        "$\\|\\mathbf{X}\\|_F = \\sqrt{\\sum_{i=1}^m \\sum_{j=1}^n x_{ij}^2}.$\n",
        "\n",
        "The Frobenius norm satisfies all the properties of vector norms. It behaves as if it were an  L2  norm of a matrix-shaped vector. Invoking the following function will calculate the Frobenius norm of a matrix."
      ]
    },
    {
      "cell_type": "code",
      "metadata": {
        "colab": {
          "base_uri": "https://localhost:8080/"
        },
        "id": "LSRHFAEv5XME",
        "outputId": "7b6d47b2-e9cd-4fcc-b105-6b02ee5cd386"
      },
      "source": [
        "print (A)\n",
        "torch.norm(A)"
      ],
      "execution_count": null,
      "outputs": [
        {
          "output_type": "stream",
          "text": [
            "tensor([[ 0.,  1.,  2.,  3.],\n",
            "        [ 4.,  5.,  6.,  7.],\n",
            "        [ 8.,  9., 10., 11.],\n",
            "        [12., 13., 14., 15.],\n",
            "        [16., 17., 18., 19.]])\n"
          ],
          "name": "stdout"
        },
        {
          "output_type": "execute_result",
          "data": {
            "text/plain": [
              "tensor(49.6991)"
            ]
          },
          "metadata": {
            "tags": []
          },
          "execution_count": 30
        }
      ]
    },
    {
      "cell_type": "markdown",
      "metadata": {
        "id": "1huW-719815F"
      },
      "source": [
        "While we do not want to get too far ahead of ourselves, we can plant some intuition already about why these concepts are useful. In deep learning, we are often trying to solve optimization problems: maximize the probability assigned to observed data; minimize the distance between predictions and the ground-truth observations. Assign vector representations to items (like words, products, or news articles) such that the distance between similar items is minimized, and the distance between dissimilar items is maximized. Oftentimes, the objectives, perhaps the most important components of deep learning algorithms (besides the data), are expressed as norms.\n",
        "\n",
        "### Exercises\n",
        "\n",
        "6. Run A / A.sum(axis=1) and see what happens. Can you analyze the reason?\n",
        "\n"
      ]
    },
    {
      "cell_type": "code",
      "metadata": {
        "colab": {
          "base_uri": "https://localhost:8080/"
        },
        "id": "VBt3e6mv8sgR",
        "outputId": "5feb9ddd-5af3-4d76-bbc6-1dda722ea59a"
      },
      "source": [
        "print (A)\n",
        "\n",
        "print (A.shape)\n",
        "\n",
        "print (A.sum(axis=1))"
      ],
      "execution_count": null,
      "outputs": [
        {
          "output_type": "stream",
          "text": [
            "tensor([[ 0.,  1.,  2.,  3.],\n",
            "        [ 4.,  5.,  6.,  7.],\n",
            "        [ 8.,  9., 10., 11.],\n",
            "        [12., 13., 14., 15.],\n",
            "        [16., 17., 18., 19.]])\n",
            "torch.Size([5, 4])\n",
            "tensor([ 6., 22., 38., 54., 70.])\n"
          ],
          "name": "stdout"
        }
      ]
    },
    {
      "cell_type": "code",
      "metadata": {
        "colab": {
          "base_uri": "https://localhost:8080/"
        },
        "id": "Ba2jBr9m-ucA",
        "outputId": "6e300394-7d4f-43cd-b1b7-cc1f37a37676"
      },
      "source": [
        "A.size(), A.sum(axis=1).size()"
      ],
      "execution_count": null,
      "outputs": [
        {
          "output_type": "execute_result",
          "data": {
            "text/plain": [
              "(torch.Size([5, 4]), torch.Size([5]))"
            ]
          },
          "metadata": {
            "tags": []
          },
          "execution_count": 32
        }
      ]
    },
    {
      "cell_type": "code",
      "metadata": {
        "id": "Xdu9s725-Of7"
      },
      "source": [
        "## A/A.sum(axis=1) -> error"
      ],
      "execution_count": null,
      "outputs": []
    },
    {
      "cell_type": "markdown",
      "metadata": {
        "id": "7dBuofki_Y94"
      },
      "source": [
        "This will be fine:"
      ]
    },
    {
      "cell_type": "code",
      "metadata": {
        "colab": {
          "base_uri": "https://localhost:8080/"
        },
        "id": "SnHz5L5a-j0U",
        "outputId": "c7dca66a-6309-49c8-8385-19eb06e4ddd6"
      },
      "source": [
        "B = torch.arange(25, dtype = torch.float32).reshape(5, 5)\n",
        "print (B)\n",
        "print (B.sum(axis=1))\n",
        "B / B.sum(axis=1)"
      ],
      "execution_count": null,
      "outputs": [
        {
          "output_type": "stream",
          "text": [
            "tensor([[ 0.,  1.,  2.,  3.,  4.],\n",
            "        [ 5.,  6.,  7.,  8.,  9.],\n",
            "        [10., 11., 12., 13., 14.],\n",
            "        [15., 16., 17., 18., 19.],\n",
            "        [20., 21., 22., 23., 24.]])\n",
            "tensor([ 10.,  35.,  60.,  85., 110.])\n"
          ],
          "name": "stdout"
        },
        {
          "output_type": "execute_result",
          "data": {
            "text/plain": [
              "tensor([[0.0000, 0.0286, 0.0333, 0.0353, 0.0364],\n",
              "        [0.5000, 0.1714, 0.1167, 0.0941, 0.0818],\n",
              "        [1.0000, 0.3143, 0.2000, 0.1529, 0.1273],\n",
              "        [1.5000, 0.4571, 0.2833, 0.2118, 0.1727],\n",
              "        [2.0000, 0.6000, 0.3667, 0.2706, 0.2182]])"
            ]
          },
          "metadata": {
            "tags": []
          },
          "execution_count": 34
        }
      ]
    },
    {
      "cell_type": "markdown",
      "metadata": {
        "id": "bxmAFhBP_hNQ"
      },
      "source": [
        "8. Consider a tensor with shape (2, 3, 4). What are the shapes of the summation outputs along axis 0, 1, and 2?\n",
        "\n"
      ]
    },
    {
      "cell_type": "code",
      "metadata": {
        "id": "1v7Zf8xV_Txg",
        "colab": {
          "base_uri": "https://localhost:8080/"
        },
        "outputId": "28040577-4380-454b-b148-87193daf893a"
      },
      "source": [
        "a = torch.randint(low=0, high=9, size=(2,3,4))\n",
        "a"
      ],
      "execution_count": null,
      "outputs": [
        {
          "output_type": "execute_result",
          "data": {
            "text/plain": [
              "tensor([[[7, 3, 8, 6],\n",
              "         [8, 7, 5, 4],\n",
              "         [2, 8, 4, 6]],\n",
              "\n",
              "        [[3, 3, 0, 3],\n",
              "         [2, 6, 7, 0],\n",
              "         [0, 0, 1, 5]]])"
            ]
          },
          "metadata": {
            "tags": []
          },
          "execution_count": 35
        }
      ]
    },
    {
      "cell_type": "code",
      "metadata": {
        "colab": {
          "base_uri": "https://localhost:8080/"
        },
        "id": "wKP0oPnkT2_V",
        "outputId": "7502a403-d948-436e-aba0-87df04aa786f"
      },
      "source": [
        "print (a.shape)\n",
        "\n",
        "print (a.sum(axis=0))"
      ],
      "execution_count": null,
      "outputs": [
        {
          "output_type": "stream",
          "text": [
            "torch.Size([2, 3, 4])\n",
            "tensor([[10,  6,  8,  9],\n",
            "        [10, 13, 12,  4],\n",
            "        [ 2,  8,  5, 11]])\n"
          ],
          "name": "stdout"
        }
      ]
    },
    {
      "cell_type": "code",
      "metadata": {
        "colab": {
          "base_uri": "https://localhost:8080/"
        },
        "id": "nZ268RB9T87C",
        "outputId": "ba297825-6294-4edf-8e0a-3eef5803424d"
      },
      "source": [
        "### shape of a is (2,3,4) i.e 2 separate 3x4 matrics\n",
        "a[0], a[1]"
      ],
      "execution_count": null,
      "outputs": [
        {
          "output_type": "execute_result",
          "data": {
            "text/plain": [
              "(tensor([[7, 3, 8, 6],\n",
              "         [8, 7, 5, 4],\n",
              "         [2, 8, 4, 6]]), tensor([[3, 3, 0, 3],\n",
              "         [2, 6, 7, 0],\n",
              "         [0, 0, 1, 5]]))"
            ]
          },
          "metadata": {
            "tags": []
          },
          "execution_count": 37
        }
      ]
    },
    {
      "cell_type": "code",
      "metadata": {
        "colab": {
          "base_uri": "https://localhost:8080/"
        },
        "id": "-8G2OYhDUCvZ",
        "outputId": "8dc489fc-dce1-4255-d5dd-b4c47160800c"
      },
      "source": [
        "## a.sum(axis=0) will sum up the 2 3x4 matrices resulting in a 3x4 matrix\n",
        "a.sum(axis=0).shape"
      ],
      "execution_count": null,
      "outputs": [
        {
          "output_type": "execute_result",
          "data": {
            "text/plain": [
              "torch.Size([3, 4])"
            ]
          },
          "metadata": {
            "tags": []
          },
          "execution_count": 38
        }
      ]
    },
    {
      "cell_type": "code",
      "metadata": {
        "colab": {
          "base_uri": "https://localhost:8080/"
        },
        "id": "szp5dynXUPEE",
        "outputId": "08acef6e-4e79-4772-a968-c6b7b505869f"
      },
      "source": [
        "a[0]+a[1]"
      ],
      "execution_count": null,
      "outputs": [
        {
          "output_type": "execute_result",
          "data": {
            "text/plain": [
              "tensor([[10,  6,  8,  9],\n",
              "        [10, 13, 12,  4],\n",
              "        [ 2,  8,  5, 11]])"
            ]
          },
          "metadata": {
            "tags": []
          },
          "execution_count": 39
        }
      ]
    },
    {
      "cell_type": "code",
      "metadata": {
        "colab": {
          "base_uri": "https://localhost:8080/"
        },
        "id": "oxADjUv1UzNT",
        "outputId": "adaef6d7-65c6-4a9a-ef9b-e9adc2f6c8c5"
      },
      "source": [
        "a.sum(axis=0)"
      ],
      "execution_count": null,
      "outputs": [
        {
          "output_type": "execute_result",
          "data": {
            "text/plain": [
              "tensor([[10,  6,  8,  9],\n",
              "        [10, 13, 12,  4],\n",
              "        [ 2,  8,  5, 11]])"
            ]
          },
          "metadata": {
            "tags": []
          },
          "execution_count": 40
        }
      ]
    },
    {
      "cell_type": "code",
      "metadata": {
        "colab": {
          "base_uri": "https://localhost:8080/"
        },
        "id": "E4YSh7UjZraj",
        "outputId": "58df6483-3df4-4acb-a2bf-f172e3f6ab7a"
      },
      "source": [
        "a.sum(axis=1).shape"
      ],
      "execution_count": null,
      "outputs": [
        {
          "output_type": "execute_result",
          "data": {
            "text/plain": [
              "torch.Size([2, 4])"
            ]
          },
          "metadata": {
            "tags": []
          },
          "execution_count": 41
        }
      ]
    },
    {
      "cell_type": "code",
      "metadata": {
        "colab": {
          "base_uri": "https://localhost:8080/"
        },
        "id": "-T_SSPJ5aCwA",
        "outputId": "bc9e618e-9879-424d-bce0-24143c7a0921"
      },
      "source": [
        "a"
      ],
      "execution_count": null,
      "outputs": [
        {
          "output_type": "execute_result",
          "data": {
            "text/plain": [
              "tensor([[[7, 3, 8, 6],\n",
              "         [8, 7, 5, 4],\n",
              "         [2, 8, 4, 6]],\n",
              "\n",
              "        [[3, 3, 0, 3],\n",
              "         [2, 6, 7, 0],\n",
              "         [0, 0, 1, 5]]])"
            ]
          },
          "metadata": {
            "tags": []
          },
          "execution_count": 42
        }
      ]
    },
    {
      "cell_type": "code",
      "metadata": {
        "colab": {
          "base_uri": "https://localhost:8080/"
        },
        "id": "r8McnX_nZvvC",
        "outputId": "3780c7db-3d5d-4e1c-ad04-093b46f48f64"
      },
      "source": [
        "### 2x4 shape: 2 rows for 2 matrices; 4 elems each for the sum of each matrix along the columns\n",
        "a.sum(axis=1)"
      ],
      "execution_count": null,
      "outputs": [
        {
          "output_type": "execute_result",
          "data": {
            "text/plain": [
              "tensor([[17, 18, 17, 16],\n",
              "        [ 5,  9,  8,  8]])"
            ]
          },
          "metadata": {
            "tags": []
          },
          "execution_count": 43
        }
      ]
    },
    {
      "cell_type": "code",
      "metadata": {
        "colab": {
          "base_uri": "https://localhost:8080/"
        },
        "id": "GY41-rTGZ5RY",
        "outputId": "ff4af3ee-131d-4563-952f-e681745fa63f"
      },
      "source": [
        "a.sum(axis=2)"
      ],
      "execution_count": null,
      "outputs": [
        {
          "output_type": "execute_result",
          "data": {
            "text/plain": [
              "tensor([[24, 24, 20],\n",
              "        [ 9, 15,  6]])"
            ]
          },
          "metadata": {
            "tags": []
          },
          "execution_count": 44
        }
      ]
    },
    {
      "cell_type": "code",
      "metadata": {
        "colab": {
          "base_uri": "https://localhost:8080/"
        },
        "id": "dBwBD24LaqVr",
        "outputId": "8ea44185-3972-4e6e-bd05-2186e6276043"
      },
      "source": [
        "### 2x3 shape: 2 rows for 2 matrices; 3 elems each for the sum of each matrix along the rows\n",
        "\n",
        "a.sum(axis=2).shape"
      ],
      "execution_count": null,
      "outputs": [
        {
          "output_type": "execute_result",
          "data": {
            "text/plain": [
              "torch.Size([2, 3])"
            ]
          },
          "metadata": {
            "tags": []
          },
          "execution_count": 45
        }
      ]
    },
    {
      "cell_type": "markdown",
      "metadata": {
        "id": "JAigyPVUbkuW"
      },
      "source": [
        "9. Feed a tensor with 3 or more axes to the linalg.norm function and observe its output. What does this function compute for tensors of arbitrary shape?\n",
        "\n"
      ]
    },
    {
      "cell_type": "code",
      "metadata": {
        "colab": {
          "base_uri": "https://localhost:8080/"
        },
        "id": "DSEuphS5axz6",
        "outputId": "ab0a6b20-1751-45db-d891-70e0e38422cb"
      },
      "source": [
        "Y= torch.arange(24,dtype = torch.float32).reshape(2, 3, 4)\n",
        "print (Y)"
      ],
      "execution_count": null,
      "outputs": [
        {
          "output_type": "stream",
          "text": [
            "tensor([[[ 0.,  1.,  2.,  3.],\n",
            "         [ 4.,  5.,  6.,  7.],\n",
            "         [ 8.,  9., 10., 11.]],\n",
            "\n",
            "        [[12., 13., 14., 15.],\n",
            "         [16., 17., 18., 19.],\n",
            "         [20., 21., 22., 23.]]])\n"
          ],
          "name": "stdout"
        }
      ]
    },
    {
      "cell_type": "code",
      "metadata": {
        "colab": {
          "base_uri": "https://localhost:8080/"
        },
        "id": "0skacSdobx21",
        "outputId": "26ac6fc1-a2cd-4263-f62b-faed3de862f8"
      },
      "source": [
        "torch.linalg.norm(Y)"
      ],
      "execution_count": null,
      "outputs": [
        {
          "output_type": "execute_result",
          "data": {
            "text/plain": [
              "tensor(65.7571)"
            ]
          },
          "metadata": {
            "tags": []
          },
          "execution_count": 47
        }
      ]
    },
    {
      "cell_type": "markdown",
      "metadata": {
        "id": "_XCz-F4mdqWa"
      },
      "source": [
        "Analogous to  L2  norms of vectors, the Frobenius norm of a matrix $\\mathbf{X} \\in \\mathbb{R}^{m \\times n}$ is the square root of the sum of the squares of the matrix elements:\n",
        "\n",
        "$\\|\\mathbf{X}\\|_F = \\sqrt{\\sum_{i=1}^m \\sum_{j=1}^n x_{ij}^2}.$\n"
      ]
    },
    {
      "cell_type": "code",
      "metadata": {
        "colab": {
          "base_uri": "https://localhost:8080/"
        },
        "id": "Qw45HzFLb8gF",
        "outputId": "c8a14172-059c-4755-ae4f-c6dfad78cf69"
      },
      "source": [
        "sum = 0\n",
        "for elem in Y[:]:\n",
        "    print (elem.shape)\n",
        "    for elem1 in elem:\n",
        "        for elem2 in elem1:\n",
        "            sum+= elem2.item()**2\n",
        "\n",
        "print(sum**0.5)"
      ],
      "execution_count": null,
      "outputs": [
        {
          "output_type": "stream",
          "text": [
            "torch.Size([3, 4])\n",
            "torch.Size([3, 4])\n",
            "65.75712889109438\n"
          ],
          "name": "stdout"
        }
      ]
    },
    {
      "cell_type": "markdown",
      "metadata": {
        "id": "fDFEGSKue8Xb"
      },
      "source": [
        "This has computed the Frobenus norm for the tensor of shape 2x3x4"
      ]
    },
    {
      "cell_type": "markdown",
      "metadata": {
        "id": "ABOtW9fghj3e"
      },
      "source": [
        "## Calculus\n",
        "\n",
        "### Derivatives and Differentiation\n",
        "\n",
        "We begin by addressing the calculation of derivatives, a crucial step in nearly all deep learning optimization algorithms. In deep learning, we typically choose loss functions that are differentiable with respect to our model’s parameters. Put simply, this means that for each parameter, we can determine how rapidly the loss would increase or decrease, were we to increase or decrease that parameter by an infinitesimally small amount.\n",
        "\n",
        "Suppose that we have a function  $f: \\mathbb{R} \\rightarrow \\mathbb{R}$ whose input and output are both scalars. The derivative of  f  is defined as\n",
        "\n",
        "$f'(x) = \\lim_{h \\rightarrow 0} \\frac{f(x+h) - f(x)}{h},$\n",
        "\n",
        "if this limit exists. If  f'(a) exists,  f  is said to be differentiable at a . If  f  is differentiable at every number of an interval, then this function is differentiable on this interval. We can interpret the derivative  f′(x)  in (2.4.1) as the instantaneous rate of change of  f(x)  with respect to  x . The so-called instantaneous rate of change is based on the variation  h  in  x , which approaches  0 .\n",
        "\n",
        "To illustrate derivatives, let us experiment with an example. Define  \n",
        "$u = f(x) = 3x^2-4x$\n"
      ]
    },
    {
      "cell_type": "code",
      "metadata": {
        "id": "6wVMppOkchB3"
      },
      "source": [
        "%matplotlib inline\n",
        "import numpy as np\n",
        "from IPython import display\n",
        "\n",
        "def f(x):\n",
        "    return 3 * x ** 2 - 4 * x"
      ],
      "execution_count": null,
      "outputs": []
    },
    {
      "cell_type": "code",
      "metadata": {
        "colab": {
          "base_uri": "https://localhost:8080/"
        },
        "id": "7MtrHWBAiOzE",
        "outputId": "f1cf88d6-0ae6-40e7-ae2c-aae3fac40179"
      },
      "source": [
        "def numerical_lim(f, x, h):\n",
        "    return (f(x+h) - f(x))/h\n",
        "\n",
        "h = 0.1\n",
        "for i in range(10):\n",
        "    print (f'h = {h}, numerical limit = {numerical_lim(f, 1, h)}')\n",
        "    h *= 0.1"
      ],
      "execution_count": null,
      "outputs": [
        {
          "output_type": "stream",
          "text": [
            "h = 0.1, numerical limit = 2.3000000000000043\n",
            "h = 0.010000000000000002, numerical limit = 2.029999999999976\n",
            "h = 0.0010000000000000002, numerical limit = 2.0029999999993104\n",
            "h = 0.00010000000000000003, numerical limit = 2.000299999997956\n",
            "h = 1.0000000000000004e-05, numerical limit = 2.0000300000155837\n",
            "h = 1.0000000000000004e-06, numerical limit = 2.0000030001021676\n",
            "h = 1.0000000000000005e-07, numerical limit = 2.000000298707504\n",
            "h = 1.0000000000000005e-08, numerical limit = 1.999999987845057\n",
            "h = 1.0000000000000005e-09, numerical limit = 2.000000165480741\n",
            "h = 1.0000000000000006e-10, numerical limit = 2.000000165480741\n"
          ],
          "name": "stdout"
        }
      ]
    },
    {
      "cell_type": "markdown",
      "metadata": {
        "id": "ct4Rs_DquGvz"
      },
      "source": [
        "Let us familiarize ourselves with a few equivalent notations for derivatives. Given  y=f(x) , where  x  and  y  are the independent variable and the dependent variable of the function  f , respectively. The following expressions are equivalent:\n",
        "\n",
        "$f'(x) = y' = \\frac{dy}{dx} = \\frac{df}{dx} = \\frac{d}{dx} f(x) = Df(x) = D_x f(x),$\n",
        "\n",
        "### Partial Derivatives\n",
        "\n",
        "So far we have dealt with the differentiation of functions of just one variable. In deep learning, functions often depend on many variables. Thus, we need to extend the ideas of differentiation to these multivariate functions.\n",
        "\n",
        "Let $y = f(x_1, x_2, \\ldots, x_n)$ be a function with  n  variables. The partial derivative of  y  with respect to its  ith  parameter  xi  is:\n",
        "\n",
        "$\\frac{\\partial y}{\\partial x_i} = \\lim_{h \\rightarrow 0} \\frac{f(x_1, \\ldots, x_{i-1}, x_i+h, x_{i+1}, \\ldots, x_n) - f(x_1, \\ldots, x_i, \\ldots, x_n)}{h}.$\n",
        "\n",
        "To calculate  $\\frac{\\partial y}{\\partial x_i}$ we can simply treat $x_1, \\ldots, x_{i-1}, x_{i+1}, \\ldots, x_n$ s constants and calculate the derivative of  y  with respect to  xi . For notation of partial derivatives, the following are equivalent:\n",
        "\n",
        "$\\frac{\\partial y}{\\partial x_i} = \\frac{\\partial f}{\\partial x_i} = f_{x_i} = f_i = D_i f = D_{x_i} f.$\n",
        "\n",
        "### Gradients\n",
        "\n",
        "Suppose that the input of function $f: \\mathbb{R}^n \\rightarrow \\mathbb{R}$ is an  n -dimensional vector $\\mathbf{x} = [x_1, x_2, \\ldots, x_n]^\\top$ and the output is a scalar. The gradient of the function  $f(\\mathbf{x})$  with respect to  $\\mathbf{x}$  is a vector of  n  partial derivatives:\n",
        "\n",
        "$\\nabla_{\\mathbf{x}} f(\\mathbf{x}) = \\bigg[\\frac{\\partial f(\\mathbf{x})}{\\partial x_1}, \\frac{\\partial f(\\mathbf{x})}{\\partial x_2}, \\ldots, \\frac{\\partial f(\\mathbf{x})}{\\partial x_n}\\bigg]^\\top,$\n",
        "\n",
        "Note that this also returns an n-dimensional vector\n",
        "\n",
        "where $\\nabla_{\\mathbf{x}} f(\\mathbf{x})$ is often replaced by $\\nabla f(\\mathbf{x})$  when there is no ambiguity.\n",
        "\n",
        "![](https://i.imgur.com/2qsZFkH.png)\n",
        "\n",
        "### Chain Rule\n",
        "\n",
        "However, such gradients can be hard to find. This is because multivariate functions in deep learning are often composite, so we may not apply any of the aforementioned rules to differentiate these functions. Fortunately, the chain rule enables us to differentiate composite functions.\n",
        "\n",
        "Let us first consider functions of a single variable. Suppose that functions y = f(u) and u = g(x) are both differentiable, then the chain rule states that\n",
        "\n",
        "$\\frac{dy}{dx} = \\frac{dy}{du} \\frac{du}{dx}.$\n",
        "\n",
        "Now let us turn our attention to a more general scenario where functions have an arbitrary number of variables. Suppose that the differentiable function  y  has variables u1, u2... um,  where each differentiable function  ui  has variables  x1,x2,…,xn . Note that  y  is a function of  x1,x2,…,xn . Then the chain rule gives\n",
        "\n",
        "$\\frac{dy}{dx_i} = \\frac{dy}{du_1} \\frac{du_1}{dx_i} + \\frac{dy}{du_2} \\frac{du_2}{dx_i} + \\cdots + \\frac{dy}{du_m} \\frac{du_m}{dx_i}$\n",
        "\n"
      ]
    },
    {
      "cell_type": "markdown",
      "metadata": {
        "id": "wHjGw2Ug-OSv"
      },
      "source": [
        "### Automatic Differentiation\n",
        "\n",
        "As we have explained in Section 2.4, differentiation is a crucial step in nearly all deep learning optimization algorithms. While the calculations for taking these derivatives are straightforward, requiring only some basic calculus, for complex models, working out the updates by hand can be a pain (and often error-prone).\n",
        "\n",
        "Deep learning frameworks expedite this work by automatically calculating derivatives, i.e., automatic differentiation. In practice, based on our designed model the system builds a computational graph, tracking which data combined through which operations to produce the output. Automatic differentiation enables the system to subsequently backpropagate gradients. Here, backpropagate simply means to trace through the computational graph, filling in the partial derivatives with respect to each parameter.\n",
        "\n",
        "As a toy example, say that we are interested in differentiating the function $y = 2\\mathbf{x}^{\\top}\\mathbf{x}$ with respect to the column vector  x . To start, let us create the variable x and assign it an initial value."
      ]
    },
    {
      "cell_type": "code",
      "metadata": {
        "id": "9S4a3ybnkXqv",
        "colab": {
          "base_uri": "https://localhost:8080/"
        },
        "outputId": "e87a90fb-1118-404a-a47b-e0a33aa31db8"
      },
      "source": [
        "x = torch.arange(4.0)\n",
        "print (x.shape)\n",
        "x"
      ],
      "execution_count": null,
      "outputs": [
        {
          "output_type": "stream",
          "text": [
            "torch.Size([4])\n"
          ],
          "name": "stdout"
        },
        {
          "output_type": "execute_result",
          "data": {
            "text/plain": [
              "tensor([0., 1., 2., 3.])"
            ]
          },
          "metadata": {
            "tags": []
          },
          "execution_count": 51
        }
      ]
    },
    {
      "cell_type": "markdown",
      "metadata": {
        "id": "aQgekokX-pzD"
      },
      "source": [
        "The shape of x is 4x1. 2 x^T x will be a scalar. Also we know that a gradient of a scalar-valued function with respect to a vector  x  is itself vector-valued and has the same shape as  x .\n",
        "\n",
        "Suppose that the input of function $f: \\mathbb{R}^n \\rightarrow \\mathbb{R}$ is an  n -dimensional vector $\\mathbf{x} = [x_1, x_2, \\ldots, x_n]^\\top$ and the output is a scalar. The gradient of the function  $f(\\mathbf{x})$  with respect to  $\\mathbf{x}$  is a vector of  n  partial derivatives:\n",
        "\n",
        "$\\nabla_{\\mathbf{x}} f(\\mathbf{x}) = \\bigg[\\frac{\\partial f(\\mathbf{x})}{\\partial x_1}, \\frac{\\partial f(\\mathbf{x})}{\\partial x_2}, \\ldots, \\frac{\\partial f(\\mathbf{x})}{\\partial x_n}\\bigg]^\\top,$\n",
        "\n",
        "Before we even calculate the gradient of  y  with respect to  x , we will need a place to store it. It is important that we do not allocate new memory every time we take a derivative with respect to a parameter because we will often update the same parameters thousands or millions of times and could quickly run out of memory"
      ]
    },
    {
      "cell_type": "code",
      "metadata": {
        "id": "bkHEwOwW-fdJ"
      },
      "source": [
        "x.requires_grad_(True)  # Same as `x = torch.arange(4.0, requires_grad=True)` ### This means we want to calculate grad wrt x\n",
        "x.grad  # The default value is None"
      ],
      "execution_count": null,
      "outputs": []
    },
    {
      "cell_type": "markdown",
      "metadata": {
        "id": "T3Ud_wmwKmGV"
      },
      "source": [
        "Now let us calculate  y . Note: y here is a scalar"
      ]
    },
    {
      "cell_type": "code",
      "metadata": {
        "colab": {
          "base_uri": "https://localhost:8080/"
        },
        "id": "QQIxoU4xKi7r",
        "outputId": "4d8e26b6-51a0-40dd-b3b2-da339e2bcda7"
      },
      "source": [
        "y = 2*torch.dot(x, x) ## 2 (0.0 + 1.1 + 2.2 + 3.3)\n",
        "print (x)\n",
        "print (y)"
      ],
      "execution_count": null,
      "outputs": [
        {
          "output_type": "stream",
          "text": [
            "tensor([0., 1., 2., 3.], requires_grad=True)\n",
            "tensor(28., grad_fn=<MulBackward0>)\n"
          ],
          "name": "stdout"
        }
      ]
    },
    {
      "cell_type": "markdown",
      "metadata": {
        "id": "a3tPMwRMK8PI"
      },
      "source": [
        "Since x is a vector of length 4, an inner product of x and x is performed, yielding the scalar output that we assign to y. Next, we can automatically calculate the gradient of y with respect to each component of x by calling the function for backpropagation and printing the gradient.\n",
        "\n"
      ]
    },
    {
      "cell_type": "code",
      "metadata": {
        "colab": {
          "base_uri": "https://localhost:8080/"
        },
        "id": "OJkKpe9MKsye",
        "outputId": "d81c3619-8a90-485c-969c-5564ed06823d"
      },
      "source": [
        "y.backward()\n",
        "x.grad"
      ],
      "execution_count": null,
      "outputs": [
        {
          "output_type": "execute_result",
          "data": {
            "text/plain": [
              "tensor([ 0.,  4.,  8., 12.])"
            ]
          },
          "metadata": {
            "tags": []
          },
          "execution_count": 54
        }
      ]
    },
    {
      "cell_type": "markdown",
      "metadata": {
        "id": "RnGnn55eMvc4"
      },
      "source": [
        "The gradient of the function  $y = 2\\mathbf{x}^{\\top}\\mathbf{x}$  with respect to $\\mathbf{x}$ will be $4\\mathbf{x}$.  Let us quickly verify that our desired gradient was calculated correctly."
      ]
    },
    {
      "cell_type": "code",
      "metadata": {
        "colab": {
          "base_uri": "https://localhost:8080/"
        },
        "id": "dJNZX2f7LN1h",
        "outputId": "a3e48874-9da7-4fcf-8f8b-8328411da21f"
      },
      "source": [
        "4*x"
      ],
      "execution_count": null,
      "outputs": [
        {
          "output_type": "execute_result",
          "data": {
            "text/plain": [
              "tensor([ 0.,  4.,  8., 12.], grad_fn=<MulBackward0>)"
            ]
          },
          "metadata": {
            "tags": []
          },
          "execution_count": 55
        }
      ]
    },
    {
      "cell_type": "markdown",
      "metadata": {
        "id": "V0U86YuONPqY"
      },
      "source": [
        "Now let us calculate another function of x.\n",
        "\n"
      ]
    },
    {
      "cell_type": "code",
      "metadata": {
        "colab": {
          "base_uri": "https://localhost:8080/"
        },
        "id": "7n-8wJgXNCgi",
        "outputId": "2d01b071-28f9-4477-eede-469e2662b51e"
      },
      "source": [
        "# PyTorch accumulates the gradient in default, we need to clear the previous values\n",
        "x.grad.zero_()"
      ],
      "execution_count": null,
      "outputs": [
        {
          "output_type": "execute_result",
          "data": {
            "text/plain": [
              "tensor([0., 0., 0., 0.])"
            ]
          },
          "metadata": {
            "tags": []
          },
          "execution_count": 56
        }
      ]
    },
    {
      "cell_type": "code",
      "metadata": {
        "colab": {
          "base_uri": "https://localhost:8080/"
        },
        "id": "1DPF9EVwNU8e",
        "outputId": "d3e036e3-4256-4bad-e67c-13a215429569"
      },
      "source": [
        "y = x.sum()\n",
        "print (y)"
      ],
      "execution_count": null,
      "outputs": [
        {
          "output_type": "stream",
          "text": [
            "tensor(6., grad_fn=<SumBackward0>)\n"
          ],
          "name": "stdout"
        }
      ]
    },
    {
      "cell_type": "code",
      "metadata": {
        "colab": {
          "base_uri": "https://localhost:8080/"
        },
        "id": "VoZlHaCTNfot",
        "outputId": "3c6a97fb-3393-49ec-bfe0-66a111c0c6ee"
      },
      "source": [
        "y.backward()\n",
        "x.grad"
      ],
      "execution_count": null,
      "outputs": [
        {
          "output_type": "execute_result",
          "data": {
            "text/plain": [
              "tensor([1., 1., 1., 1.])"
            ]
          },
          "metadata": {
            "tags": []
          },
          "execution_count": 58
        }
      ]
    },
    {
      "cell_type": "markdown",
      "metadata": {
        "id": "N9IpuNv8Npjf"
      },
      "source": [
        "y = x1 + x2 + x3 + x4 where x1, x2, x3, x4 are each elem of vector x\n",
        "\n",
        "dy/dx = [dy/dx1, dy/dx2, dy/dx3, dy/dx4]: Note each of these are the partial derivatives\n",
        "\n"
      ]
    },
    {
      "cell_type": "markdown",
      "metadata": {
        "id": "UGm3ORJWN-xE"
      },
      "source": [
        "### Backward for Non-Scalar Variables\n",
        "\n",
        "Technically, when y is not a scalar, the most natural interpretation of the differentiation of a vector y with respect to a vector x is a matrix. For higher-order and higher-dimensional y and x, the differentiation result could be a high-order tensor.\n",
        "\n",
        "However, while these more exotic objects do show up in advanced machine learning (including in deep learning), more often when we are calling backward on a vector, we are trying to calculate the derivatives of the loss functions for each constituent of a batch of training examples. Here, our intent is not to calculate the differentiation matrix but rather the sum of the partial derivatives computed individually for each example in the batch."
      ]
    },
    {
      "cell_type": "code",
      "metadata": {
        "id": "onxWh7qnNpEj"
      },
      "source": [
        "x.grad.zero_()\n",
        "y = x * x"
      ],
      "execution_count": null,
      "outputs": []
    },
    {
      "cell_type": "code",
      "metadata": {
        "colab": {
          "base_uri": "https://localhost:8080/"
        },
        "id": "k-uW7OEtNhmX",
        "outputId": "011fda0b-c842-4fd2-8d5c-f94398fb2c90"
      },
      "source": [
        "print (x)\n",
        "print (y)"
      ],
      "execution_count": null,
      "outputs": [
        {
          "output_type": "stream",
          "text": [
            "tensor([0., 1., 2., 3.], requires_grad=True)\n",
            "tensor([0., 1., 4., 9.], grad_fn=<MulBackward0>)\n"
          ],
          "name": "stdout"
        }
      ]
    },
    {
      "cell_type": "code",
      "metadata": {
        "colab": {
          "base_uri": "https://localhost:8080/"
        },
        "id": "Rz71ntCvObV4",
        "outputId": "a68bbaaa-2053-4567-dc63-96cf35de18e0"
      },
      "source": [
        "print (y.sum())"
      ],
      "execution_count": null,
      "outputs": [
        {
          "output_type": "stream",
          "text": [
            "tensor(14., grad_fn=<SumBackward0>)\n"
          ],
          "name": "stdout"
        }
      ]
    },
    {
      "cell_type": "code",
      "metadata": {
        "id": "k5PjwOdLOrxm"
      },
      "source": [
        "y.sum().backward()"
      ],
      "execution_count": null,
      "outputs": []
    },
    {
      "cell_type": "code",
      "metadata": {
        "colab": {
          "base_uri": "https://localhost:8080/"
        },
        "id": "TLVTDnvfOv2r",
        "outputId": "9f2027d4-37c5-47c8-ee2e-e5fc51b77913"
      },
      "source": [
        "x.grad"
      ],
      "execution_count": null,
      "outputs": [
        {
          "output_type": "execute_result",
          "data": {
            "text/plain": [
              "tensor([0., 2., 4., 6.])"
            ]
          },
          "metadata": {
            "tags": []
          },
          "execution_count": 63
        }
      ]
    },
    {
      "cell_type": "markdown",
      "metadata": {
        "id": "5N8DtSySQ3v3"
      },
      "source": [
        "Here again y is basically y = x1^2 + x2^2 + x3^2 + x4^2\n",
        "\n",
        "so dy/dx = [dy/dx1, dy/dx2, dy/dx3, dy/dx4]: Note each of these are the partial derivatives = [2x1, 2x2, 2x3, 2x4]"
      ]
    },
    {
      "cell_type": "markdown",
      "metadata": {
        "id": "fG2azvLCRf6h"
      },
      "source": [
        "### Detaching Computation\n",
        "\n",
        "Sometimes, we wish to move some calculations outside of the recorded computational graph. For example, say that y was calculated as a function of x, and that subsequently z was calculated as a function of both y and x. Now, imagine that we wanted to calculate the gradient of z with respect to x, but wanted for some reason to treat y as a constant, and only take into account the role that x played after y was calculated.\n",
        "\n",
        "say y = x^2 and z = y*x = x^2 * x\n",
        "\n",
        "Here, we can detach y to return a new variable u that has the same value as y but discards any information about how y was computed in the computational graph. In other words, the gradient will not flow backwards through u to x. Thus, the following backpropagation function computes the partial derivative of z = u * x with respect to x while treating u as a constant, instead of the partial derivative of z = x * x * x with respect to x.\n",
        "\n",
        "\n",
        "\n"
      ]
    },
    {
      "cell_type": "code",
      "metadata": {
        "colab": {
          "base_uri": "https://localhost:8080/"
        },
        "id": "Xl7jraMqPAII",
        "outputId": "4d0da3cb-a7e0-4c75-9cac-4e349479a345"
      },
      "source": [
        "x.grad.zero_()\n",
        "print (x)\n",
        "y = x * x\n",
        "print (y)\n",
        "\n",
        "u = y.detach()\n",
        "print (u)"
      ],
      "execution_count": null,
      "outputs": [
        {
          "output_type": "stream",
          "text": [
            "tensor([0., 1., 2., 3.], requires_grad=True)\n",
            "tensor([0., 1., 4., 9.], grad_fn=<MulBackward0>)\n",
            "tensor([0., 1., 4., 9.])\n"
          ],
          "name": "stdout"
        }
      ]
    },
    {
      "cell_type": "code",
      "metadata": {
        "colab": {
          "base_uri": "https://localhost:8080/"
        },
        "id": "gDpyTgbYSL3-",
        "outputId": "36a2b3df-84e3-48cb-d315-cbdec0f319c0"
      },
      "source": [
        "z = u * x\n",
        "z.sum().backward()\n",
        "print (x.grad) ### should return u"
      ],
      "execution_count": null,
      "outputs": [
        {
          "output_type": "stream",
          "text": [
            "tensor([0., 1., 4., 9.])\n"
          ],
          "name": "stdout"
        }
      ]
    },
    {
      "cell_type": "code",
      "metadata": {
        "colab": {
          "base_uri": "https://localhost:8080/"
        },
        "id": "NXPaxITIbYht",
        "outputId": "c3139276-c8e8-4cb6-c6af-871ad68fd1a5"
      },
      "source": [
        "### without detaching\n",
        "x.grad.zero_()\n",
        "print (x)\n",
        "y = x * x\n",
        "print (y)\n",
        "z = y * x\n",
        "z.sum().backward()\n",
        "print (x.grad) ### 3 x^2 = [3.0^2, 3.1^2, 3.2^2, 3.3^2]"
      ],
      "execution_count": null,
      "outputs": [
        {
          "output_type": "stream",
          "text": [
            "tensor([0., 1., 2., 3.], requires_grad=True)\n",
            "tensor([0., 1., 4., 9.], grad_fn=<MulBackward0>)\n",
            "tensor([ 0.,  3., 12., 27.])\n"
          ],
          "name": "stdout"
        }
      ]
    },
    {
      "cell_type": "markdown",
      "metadata": {
        "id": "6kYCKmQOb706"
      },
      "source": [
        "### Computing the Gradient of Python Control Flow\n",
        "\n",
        "One benefit of using automatic differentiation is that even if building the computational graph of a function required passing through a maze of Python control flow (e.g., conditionals, loops, and arbitrary function calls), we can still calculate the gradient of the resulting variable. In the following snippet, note that the number of iterations of the while loop and the evaluation of the if statement both depend on the value of the input a.\n",
        "\n"
      ]
    },
    {
      "cell_type": "code",
      "metadata": {
        "id": "2pcEsDpfblLg"
      },
      "source": [
        "def f(a):\n",
        "    ## init b = 2a\n",
        "    b = a*2\n",
        "    while b.norm() < 1000:\n",
        "        b = b * 2\n",
        "    if b.sum() > 0:\n",
        "        print ('here', b)\n",
        "        c = b\n",
        "    else:\n",
        "        c = 100 * b\n",
        "    return c"
      ],
      "execution_count": null,
      "outputs": []
    },
    {
      "cell_type": "code",
      "metadata": {
        "colab": {
          "base_uri": "https://localhost:8080/"
        },
        "id": "rBKVG4dod7CW",
        "outputId": "16a386ca-3dc1-4a83-9059-9cdd80492953"
      },
      "source": [
        "a = torch.randn(size=(), requires_grad=True)\n",
        "print (a)"
      ],
      "execution_count": null,
      "outputs": [
        {
          "output_type": "stream",
          "text": [
            "tensor(1.0015, requires_grad=True)\n"
          ],
          "name": "stdout"
        }
      ]
    },
    {
      "cell_type": "code",
      "metadata": {
        "colab": {
          "base_uri": "https://localhost:8080/"
        },
        "id": "Dr4u454XeBK9",
        "outputId": "59c745f3-cc54-4ece-bdcb-d78c5a89920c"
      },
      "source": [
        "print (a.norm())"
      ],
      "execution_count": null,
      "outputs": [
        {
          "output_type": "stream",
          "text": [
            "tensor(1.0015, grad_fn=<CopyBackwards>)\n"
          ],
          "name": "stdout"
        }
      ]
    },
    {
      "cell_type": "code",
      "metadata": {
        "id": "mt1T4F81eFIi",
        "colab": {
          "base_uri": "https://localhost:8080/"
        },
        "outputId": "28ecf490-69ab-42e4-c35e-72324e475d76"
      },
      "source": [
        "d = f(a)"
      ],
      "execution_count": null,
      "outputs": [
        {
          "output_type": "stream",
          "text": [
            "here tensor(1025.4880, grad_fn=<MulBackward0>)\n"
          ],
          "name": "stdout"
        }
      ]
    },
    {
      "cell_type": "markdown",
      "metadata": {
        "id": "eXCtaI4relYB"
      },
      "source": [
        "d = f(a) = 2*a * 2^k = k(some const) * a\n"
      ]
    },
    {
      "cell_type": "code",
      "metadata": {
        "id": "NjZNlvk2eTPY",
        "colab": {
          "base_uri": "https://localhost:8080/"
        },
        "outputId": "b78dea9e-f5bd-4c87-9503-25bd2e6d329e"
      },
      "source": [
        "d = f(a)\n",
        "d.backward()"
      ],
      "execution_count": null,
      "outputs": [
        {
          "output_type": "stream",
          "text": [
            "here tensor(1025.4880, grad_fn=<MulBackward0>)\n"
          ],
          "name": "stdout"
        }
      ]
    },
    {
      "cell_type": "code",
      "metadata": {
        "colab": {
          "base_uri": "https://localhost:8080/"
        },
        "id": "jjGsDU2Ne18-",
        "outputId": "92a5c924-5bbd-41cc-d3e7-cfac55beaffc"
      },
      "source": [
        "print (a.grad)"
      ],
      "execution_count": null,
      "outputs": [
        {
          "output_type": "stream",
          "text": [
            "tensor(1024.)\n"
          ],
          "name": "stdout"
        }
      ]
    },
    {
      "cell_type": "code",
      "metadata": {
        "colab": {
          "base_uri": "https://localhost:8080/"
        },
        "id": "JZjNa501e4Jt",
        "outputId": "e49fa3cd-b029-482a-ba0c-e4bc20e8b392"
      },
      "source": [
        "d/a"
      ],
      "execution_count": null,
      "outputs": [
        {
          "output_type": "execute_result",
          "data": {
            "text/plain": [
              "tensor(1024., grad_fn=<DivBackward0>)"
            ]
          },
          "metadata": {
            "tags": []
          },
          "execution_count": 73
        }
      ]
    },
    {
      "cell_type": "markdown",
      "metadata": {
        "id": "_xv_qTMpfE3s"
      },
      "source": [
        "We can now analyze the f function defined above. Note that it is piecewise linear in its input a. In other words, for any a there exists some constant scalar k such that f(a) = k * a, where the value of k depends on the input a\n",
        "\n",
        "f(a) = k*a => df/da = k  = f(a)/a = d/a"
      ]
    },
    {
      "cell_type": "markdown",
      "metadata": {
        "id": "VsFPT2tojPS1"
      },
      "source": [
        "## Probablility\n",
        "\n",
        "### Basic Probability Theory\n",
        "\n",
        "\n"
      ]
    },
    {
      "cell_type": "code",
      "metadata": {
        "id": "yH5rOQQ2gQmX"
      },
      "source": [
        "%matplotlib inline\n",
        "import torch\n",
        "from torch.distributions import multinomial"
      ],
      "execution_count": null,
      "outputs": []
    },
    {
      "cell_type": "markdown",
      "metadata": {
        "id": "zGmXUiVmjfzc"
      },
      "source": [
        "Next, we will want to be able to cast the die. In statistics we call this process of drawing examples from probability distributions sampling. The distribution that assigns probabilities to a number of discrete choices is called the multinomial distribution. We will give a more formal definition of distribution later, but at a high level, think of it as just an assignment of probabilities to events.\n",
        "\n",
        "To draw a single sample, we simply pass in a vector of probabilities. The output is another vector of the same length: its value at index  i  is the number of times the sampling outcome corresponds to  i ."
      ]
    },
    {
      "cell_type": "code",
      "metadata": {
        "colab": {
          "base_uri": "https://localhost:8080/"
        },
        "id": "uUioZE4PjYtv",
        "outputId": "1675ed7d-1c30-4b26-d83f-c5285c161b0b"
      },
      "source": [
        "fair_probs = torch.ones([6]) / 6\n",
        "print (fair_probs)"
      ],
      "execution_count": null,
      "outputs": [
        {
          "output_type": "stream",
          "text": [
            "tensor([0.1667, 0.1667, 0.1667, 0.1667, 0.1667, 0.1667])\n"
          ],
          "name": "stdout"
        }
      ]
    },
    {
      "cell_type": "code",
      "metadata": {
        "colab": {
          "base_uri": "https://localhost:8080/"
        },
        "id": "73hBC2siAAOV",
        "outputId": "48ce7c5b-5833-4f3d-a8e2-be002b880db4"
      },
      "source": [
        "### sample from a multinomial total_count times with prob of each event given by fair_probs\n",
        "multinomial.Multinomial(total_count=1, probs=fair_probs).sample()"
      ],
      "execution_count": null,
      "outputs": [
        {
          "output_type": "execute_result",
          "data": {
            "text/plain": [
              "tensor([0., 1., 0., 0., 0., 0.])"
            ]
          },
          "metadata": {
            "tags": []
          },
          "execution_count": 76
        }
      ]
    },
    {
      "cell_type": "markdown",
      "metadata": {
        "id": "7pAdvh_EAh_M"
      },
      "source": [
        "If you run the sampler a bunch of times, you will find that you get out random values each time. As with estimating the fairness of a die, we often want to generate many samples from the same distribution. It would be unbearably slow to do this with a Python for loop, so the function we are using supports drawing multiple samples at once, returning an array of independent samples in any shape we might desire.\n",
        "\n"
      ]
    },
    {
      "cell_type": "code",
      "metadata": {
        "colab": {
          "base_uri": "https://localhost:8080/"
        },
        "id": "XI46a64TAS7y",
        "outputId": "fc7fbc29-e7cb-4a45-a755-59e2e2013d30"
      },
      "source": [
        "multinomial.Multinomial(10, fair_probs).sample()"
      ],
      "execution_count": null,
      "outputs": [
        {
          "output_type": "execute_result",
          "data": {
            "text/plain": [
              "tensor([4., 0., 0., 2., 2., 2.])"
            ]
          },
          "metadata": {
            "tags": []
          },
          "execution_count": 77
        }
      ]
    },
    {
      "cell_type": "code",
      "metadata": {
        "colab": {
          "base_uri": "https://localhost:8080/"
        },
        "id": "ZDMpY1iVAmZT",
        "outputId": "29525764-e6f7-4d4b-94c6-56d6a4203e5e"
      },
      "source": [
        "# Store the results as 32-bit floats for division\n",
        "counts = multinomial.Multinomial(1000, fair_probs).sample()\n",
        "counts / 1000  # Relative frequency as the estimate"
      ],
      "execution_count": null,
      "outputs": [
        {
          "output_type": "execute_result",
          "data": {
            "text/plain": [
              "tensor([0.1760, 0.1590, 0.1570, 0.1760, 0.1530, 0.1790])"
            ]
          },
          "metadata": {
            "tags": []
          },
          "execution_count": 78
        }
      ]
    },
    {
      "cell_type": "markdown",
      "metadata": {
        "id": "qhOtn-IqAu9u"
      },
      "source": [
        "Because we generated the data from a fair die, we know that each outcome has true probability  16 , roughly  0.167 , so the above output estimates look good.\n",
        "\n",
        "We can also visualize how these probabilities converge over time towards the true probability. Let us conduct 500 groups of experiments where each group draws 10 samples.\n",
        "\n",
        "![](https://d2l.ai/_images/output_probability_245b7d_54_0.svg)\n",
        "\n",
        "Each solid curve corresponds to one of the six values of the die and gives our estimated probability that the die turns up that value as assessed after each group of experiments. The dashed black line gives the true underlying probability. As we get more data by conducting more experiments, the  6  solid curves converge towards the true probability.\n",
        "\n",
        "### Random variables\n",
        "\n",
        "![](https://i.imgur.com/ikJ3lk8.png)\n",
        "\n",
        "\n",
        "![](https://i.imgur.com/lVO07r1.png)\n",
        "\n",
        "\n"
      ]
    },
    {
      "cell_type": "markdown",
      "metadata": {
        "id": "WGc3Pf9zKL4r"
      },
      "source": [
        ""
      ]
    },
    {
      "cell_type": "markdown",
      "metadata": {
        "id": "da8WhQqAQagM"
      },
      "source": [
        ""
      ]
    },
    {
      "cell_type": "markdown",
      "metadata": {
        "id": "Eu3dwP9zQbRf"
      },
      "source": [
        "## Linear Neural Networks\n",
        "\n",
        "## Linear Regression\n",
        "\n",
        "### Some assumptions\n",
        "\n",
        "1. First, we assume that the relationship between the independent variables $\\mathbf{x}$ and the dependent variable  y  is linear, i.e., that  y  can be expressed as a weighted sum of the elements in  $\\mathbf{x}$ , given some noise on the observations. Note here we represent $\\mathbf{x}$ as a vetor\n",
        "\n",
        "2. Second, we assume that any noise is well-behaved (following a Gaussian distribution).\n",
        "\n",
        "To motivate the approach, let us start with a running example. Suppose that we wish to estimate the prices of houses (in dollars) based on their area (in square feet) and age (in years). To actually develop a model for predicting house prices, we would need to get our hands on a dataset consisting of sales for which we know the sale price, area, and age for each home. In the terminology of machine learning, the dataset is called a training dataset or training set, and each row (here the data corresponding to one sale) is called an example (or data point, data instance, sample). The thing we are trying to predict (price) is called a label (or target). The independent variables (age and area) upon which the predictions are based are called features (or covariates).\n",
        "\n",
        "Typically, we will use  n  to denote the number of examples in our dataset. We index the data examples by  i , denoting each input as\n",
        "\n",
        "$\\mathbf{x}^{(i)} = [x_1^{(i)}, x_2^{(i)}]^\\top$ and the corresponding label as $y^{(i)}$\n",
        "\n",
        "The linearity assumption just says that the target (price) can be expressed as a weighted sum of the features (area and age):\n",
        "\n",
        "$\\mathrm{price} = w_{\\mathrm{area}} \\cdot \\mathrm{area} + w_{\\mathrm{age}} \\cdot \\mathrm{age} + b.$\n",
        "\n",
        "The weights determine the influence of each feature on our prediction and the bias just says what value the predicted price should take when all of the features take value 0. Even if we will never see any homes with zero area, or that are precisely zero years old, we still need the bias or else we will limit the expressivity of our model. Strictly speaking, the above equation is an affine transformation of input features, which is characterized by a linear transformation of features via weighted sum, combined with a translation via the added bias.\n",
        "\n",
        "Given a dataset, our goal is to choose the weights  $\\mathbf{w}$  and the bias  b  such that on average, the predictions made according to our model best fit the true prices observed in the data. Models whose output prediction is determined by the affine transformation of input features are linear models, where the affine transformation is specified by the chosen weights and bias.\n",
        "\n",
        "![](https://i.imgur.com/Oi0F47h.png)\n",
        "\n",
        "#### Some calculation walkthroughs\n",
        "\n",
        "![](https://i.imgur.com/EfgcBH2.jpg)\n",
        "\n",
        "![](https://i.imgur.com/sph1CMM.jpg)\n",
        "\n",
        "### Loss functions\n",
        "\n",
        "![](https://i.imgur.com/b4Nei7P.png)\n",
        "\n",
        "\n",
        "Note here $\\mathbf{x}^{(i)}$ is the ith feature vector "
      ]
    },
    {
      "cell_type": "markdown",
      "metadata": {
        "id": "kgbJh_3HLjHr"
      },
      "source": [
        "### Analytic Solution\n",
        "\n",
        "Linear regression happens to be an unusually simple optimization problem. Unlike most other models that we will encounter in this book, linear regression can be solved analytically by applying a simple formula. To start, we can subsume the bias b into the parameter $\\mathbf{w}$ by appending a column to the design matrix consisting of all ones. Then our prediction problem is to minimize $\\|\\mathbf{y} - \\mathbf{X}\\mathbf{w}\\|^2$\n",
        "\n",
        "#### Verification\n",
        "\n",
        "Let's verify that $\\|\\mathbf{y} - \\mathbf{X}\\mathbf{w}\\|^2$ does indeed give the previous equation we had\n",
        "\n",
        "Matrix norms reference: https://learn.lboro.ac.uk/archive/olmp/olmp_resources/pages/workbooks_1_50_jan2008/Workbook30/30_4_mtrx_norms.pdf\n",
        "\n",
        "![](https://i.imgur.com/0A19uqO.jpeg)\n",
        "\n",
        "Taking the derivative of the loss with respect to  $\\mathbf{w}$  and setting it equal to zero yields the analytic (closed-form) solution:\n",
        "\n",
        "$\\mathbf{w}^* = (\\mathbf X^\\top \\mathbf X)^{-1}\\mathbf X^\\top \\mathbf{y}.$\n",
        "\n",
        "https://i.imgur.com/g0HwF5V.jpeg\n",
        "\n",
        "![](https://i.imgur.com/g0HwF5V.jpeg)"
      ]
    },
    {
      "cell_type": "markdown",
      "metadata": {
        "id": "dbpU_0D8TQ_M"
      },
      "source": [
        "\n",
        "### Minibatch Stochastic Gradient Descent\n",
        "\n",
        "Even in cases where we cannot solve the models analytically, it turns out that we can still train models effectively in practice. Moreover, for many tasks, those difficult-to-optimize models turn out to be so much better that figuring out how to train them ends up being well worth the trouble.\n",
        "\n",
        "The key technique for optimizing nearly any deep learning model, and which we will call upon throughout this book, consists of iteratively reducing the error by updating the parameters in the direction that incrementally lowers the loss function. This algorithm is called gradient descent.\n",
        "\n",
        "The most naive application of gradient descent consists of taking the derivative of the loss function, which is an average of the losses computed on every single example in the dataset. In practice, this can be extremely slow: we must pass over the entire dataset before making a single update. Thus, we will often settle for sampling a random minibatch of examples every time we need to compute the update, a variant called minibatch stochastic gradient descent.\n",
        "\n",
        "![](https://i.imgur.com/UP5geII.png)\n",
        "\n",
        "#### Calculations watkthrough:\n",
        "\n",
        "![](https://i.imgur.com/tTjHJv9.jpg)\n",
        "\n",
        "![](https://i.imgur.com/XS86Z1v.jpeg)\n",
        "\n",
        "This shows the derivations of the weight vector and bias. pay careful attention to the dimensionalities shown\n",
        "\n",
        "After training for some predetermined number of iterations (or until some other stopping criteria are met), we record the estimated model parameters, denoted $\\hat{\\mathbf{w}}, \\hat{b}$. Note that even if our function is truly linear and noiseless, these parameters will not be the exact minimizers of the loss because, although the algorithm converges slowly towards the minimizers it cannot achieve it exactly in a finite number of steps.\n",
        "\n",
        "Linear regression happens to be a learning problem where there is only one minimum over the entire domain. However, for more complicated models, like deep networks, the loss surfaces contain many minima. Fortunately, __for reasons that are not yet fully understood__, deep learning practitioners seldom struggle to find parameters that minimize the loss on training sets. The more formidable task is to find parameters that will achieve low loss on data that we have not seen before, a challenge called generalization. We return to these topics throughout the book.\n",
        "\n",
        "---\n",
        "\n",
        "Given the learned linear regression model $\\hat{\\mathbf{w}}^\\top \\mathbf{x} + \\hat{b}$ we can now estimate the price of a new house (not contained in the training data) given its area  x1  and age  x2 . Estimating targets given features is commonly called prediction or inference.\n",
        "\n",
        "We will try to stick with prediction because calling this step inference, despite emerging as standard jargon in deep learning, is somewhat of a misnomer. In statistics, inference more often denotes estimating parameters based on a dataset. This misuse of terminology is a common source of confusion when deep learning practitioners talk to statisticians.\n",
        "\n"
      ]
    },
    {
      "cell_type": "markdown",
      "metadata": {
        "id": "6uy6I878hcDe"
      },
      "source": [
        "## Linear Regression from scratch"
      ]
    },
    {
      "cell_type": "code",
      "metadata": {
        "id": "EPmWcRkNAsHt"
      },
      "source": [
        "%matplotlib inline\n",
        "import random\n",
        "import torch\n",
        "from d2l import torch as d2l"
      ],
      "execution_count": null,
      "outputs": []
    },
    {
      "cell_type": "markdown",
      "metadata": {
        "id": "nz8H7nYshlaA"
      },
      "source": [
        "### Generating the Dataset\n",
        "\n",
        "To keep things simple, we will construct an artificial dataset according to a linear model with additive noise. Our task will be to recover this model’s parameters using the finite set of examples contained in our dataset. We will keep the data low-dimensional so we can visualize it easily. In the following code snippet, we generate a dataset containing 1000 examples, each consisting of 2 features sampled from a standard normal distribution. Thus our synthetic dataset will be a matrix $\\mathbf{X}\\in \\mathbb{R}^{1000 \\times 2}$\n",
        "\n",
        "The true parameters generating our dataset will be $\\mathbf{w} = [2, -3.4]^\\top$\n",
        " and b = 4.2 and our synthetic labels will be assigned according to the following linear model with the noise term $\\epsilon$\n",
        "\n",
        "$\\mathbf{y}= \\mathbf{X} \\mathbf{w} + b + \\mathbf\\epsilon.$\n",
        "\n",
        "You could think of  ϵ  as capturing potential measurement errors on the features and labels. We will assume that the standard assumptions hold and thus that  ϵ  obeys a normal distribution with mean of 0. To make our problem easy, we will set its standard deviation to 0.01. The following code generates our synthetic dataset."
      ]
    },
    {
      "cell_type": "code",
      "metadata": {
        "colab": {
          "base_uri": "https://localhost:8080/"
        },
        "id": "mstUFcuMhjBR",
        "outputId": "9abc6e00-9c7c-42db-afec-2a13d409e35e"
      },
      "source": [
        "def synthetic_data(w, b, num_examples):\n",
        "    \"\"\"\n",
        "    Generate y = Xw + b + noise.\n",
        "    Return features: shape (num_examples, w)\n",
        "    labels : shape (num_examples)\n",
        "    \"\"\"\n",
        "    X = torch.normal(mean=0, std=1, size=(num_examples, len(w)))\n",
        "    print (X.shape)\n",
        "    y = torch.matmul(X, w) + b\n",
        "    print (y.shape)\n",
        "    ### add noise\n",
        "    y += torch.normal(mean=0, std=0.01, size=y.shape)\n",
        "    return X, y.reshape((-1, 1))\n",
        "\n",
        "true_w = torch.tensor([2, -3.4])\n",
        "true_b = 4.2\n",
        "features, labels = synthetic_data(true_w, true_b, 1000)\n",
        "print (features.shape, labels.shape)"
      ],
      "execution_count": null,
      "outputs": [
        {
          "output_type": "stream",
          "text": [
            "torch.Size([1000, 2])\n",
            "torch.Size([1000])\n",
            "torch.Size([1000, 2]) torch.Size([1000, 1])\n"
          ],
          "name": "stdout"
        }
      ]
    },
    {
      "cell_type": "markdown",
      "metadata": {
        "id": "MMfJfBLevkd_"
      },
      "source": [
        "By generating a scatter plot using the second feature features[:, 1] and labels, we can clearly observe the linear correlation between the two.\n",
        "\n"
      ]
    },
    {
      "cell_type": "code",
      "metadata": {
        "colab": {
          "base_uri": "https://localhost:8080/",
          "height": 244
        },
        "id": "LxKt8BD-qc0L",
        "outputId": "c5a2f35b-0c1a-43a1-8462-90f2b48d7c58"
      },
      "source": [
        "d2l.set_figsize()\n",
        "# The semicolon is for displaying the plot only\n",
        "d2l.plt.scatter(features[:, (1)].detach().numpy(),\n",
        "                labels.detach().numpy(), 1);\n"
      ],
      "execution_count": null,
      "outputs": [
        {
          "output_type": "display_data",
          "data": {
            "text/plain": [
              "<Figure size 252x180 with 1 Axes>"
            ],
            "image/svg+xml": "<?xml version=\"1.0\" encoding=\"utf-8\" standalone=\"no\"?>\n<!DOCTYPE svg PUBLIC \"-//W3C//DTD SVG 1.1//EN\"\n  \"http://www.w3.org/Graphics/SVG/1.1/DTD/svg11.dtd\">\n<!-- Created with matplotlib (https://matplotlib.org/) -->\n<svg height=\"166.978125pt\" version=\"1.1\" viewBox=\"0 0 231.442187 166.978125\" width=\"231.442187pt\" xmlns=\"http://www.w3.org/2000/svg\" xmlns:xlink=\"http://www.w3.org/1999/xlink\">\n <defs>\n  <style type=\"text/css\">\n*{stroke-linecap:butt;stroke-linejoin:round;}\n  </style>\n </defs>\n <g id=\"figure_1\">\n  <g id=\"patch_1\">\n   <path d=\"M 0 166.978125 \nL 231.442187 166.978125 \nL 231.442187 0 \nL 0 0 \nz\n\" style=\"fill:none;\"/>\n  </g>\n  <g id=\"axes_1\">\n   <g id=\"patch_2\">\n    <path d=\"M 28.942188 143.1 \nL 224.242188 143.1 \nL 224.242188 7.2 \nL 28.942188 7.2 \nz\n\" style=\"fill:#ffffff;\"/>\n   </g>\n   <g id=\"PathCollection_1\">\n    <defs>\n     <path d=\"M 0 0.5 \nC 0.132602 0.5 0.25979 0.447317 0.353553 0.353553 \nC 0.447317 0.25979 0.5 0.132602 0.5 0 \nC 0.5 -0.132602 0.447317 -0.25979 0.353553 -0.353553 \nC 0.25979 -0.447317 0.132602 -0.5 0 -0.5 \nC -0.132602 -0.5 -0.25979 -0.447317 -0.353553 -0.353553 \nC -0.447317 -0.25979 -0.5 -0.132602 -0.5 0 \nC -0.5 0.132602 -0.447317 0.25979 -0.353553 0.353553 \nC -0.25979 0.447317 -0.132602 0.5 0 0.5 \nz\n\" id=\"m73993b405f\" style=\"stroke:#1f77b4;\"/>\n    </defs>\n    <g clip-path=\"url(#p83c147a244)\">\n     <use style=\"fill:#1f77b4;stroke:#1f77b4;\" x=\"112.934035\" xlink:href=\"#m73993b405f\" y=\"84.841138\"/>\n     <use style=\"fill:#1f77b4;stroke:#1f77b4;\" x=\"135.524607\" xlink:href=\"#m73993b405f\" y=\"97.947753\"/>\n     <use style=\"fill:#1f77b4;stroke:#1f77b4;\" x=\"117.902833\" xlink:href=\"#m73993b405f\" y=\"91.318907\"/>\n     <use style=\"fill:#1f77b4;stroke:#1f77b4;\" x=\"110.126438\" xlink:href=\"#m73993b405f\" y=\"74.786279\"/>\n     <use style=\"fill:#1f77b4;stroke:#1f77b4;\" x=\"85.939347\" xlink:href=\"#m73993b405f\" y=\"52.364397\"/>\n     <use style=\"fill:#1f77b4;stroke:#1f77b4;\" x=\"146.729022\" xlink:href=\"#m73993b405f\" y=\"90.733387\"/>\n     <use style=\"fill:#1f77b4;stroke:#1f77b4;\" x=\"92.57889\" xlink:href=\"#m73993b405f\" y=\"76.459523\"/>\n     <use style=\"fill:#1f77b4;stroke:#1f77b4;\" x=\"96.192939\" xlink:href=\"#m73993b405f\" y=\"74.442718\"/>\n     <use style=\"fill:#1f77b4;stroke:#1f77b4;\" x=\"120.017937\" xlink:href=\"#m73993b405f\" y=\"87.506259\"/>\n     <use style=\"fill:#1f77b4;stroke:#1f77b4;\" x=\"142.481856\" xlink:href=\"#m73993b405f\" y=\"87.656992\"/>\n     <use style=\"fill:#1f77b4;stroke:#1f77b4;\" x=\"95.98982\" xlink:href=\"#m73993b405f\" y=\"67.833146\"/>\n     <use style=\"fill:#1f77b4;stroke:#1f77b4;\" x=\"90.763469\" xlink:href=\"#m73993b405f\" y=\"53.826501\"/>\n     <use style=\"fill:#1f77b4;stroke:#1f77b4;\" x=\"102.810805\" xlink:href=\"#m73993b405f\" y=\"88.366951\"/>\n     <use style=\"fill:#1f77b4;stroke:#1f77b4;\" x=\"151.855279\" xlink:href=\"#m73993b405f\" y=\"96.041835\"/>\n     <use style=\"fill:#1f77b4;stroke:#1f77b4;\" x=\"88.729183\" xlink:href=\"#m73993b405f\" y=\"55.687844\"/>\n     <use style=\"fill:#1f77b4;stroke:#1f77b4;\" x=\"126.537268\" xlink:href=\"#m73993b405f\" y=\"78.879968\"/>\n     <use style=\"fill:#1f77b4;stroke:#1f77b4;\" x=\"126.580156\" xlink:href=\"#m73993b405f\" y=\"69.847514\"/>\n     <use style=\"fill:#1f77b4;stroke:#1f77b4;\" x=\"98.695067\" xlink:href=\"#m73993b405f\" y=\"64.363919\"/>\n     <use style=\"fill:#1f77b4;stroke:#1f77b4;\" x=\"102.698775\" xlink:href=\"#m73993b405f\" y=\"64.6355\"/>\n     <use style=\"fill:#1f77b4;stroke:#1f77b4;\" x=\"163.78893\" xlink:href=\"#m73993b405f\" y=\"116.228123\"/>\n     <use style=\"fill:#1f77b4;stroke:#1f77b4;\" x=\"122.426268\" xlink:href=\"#m73993b405f\" y=\"83.717256\"/>\n     <use style=\"fill:#1f77b4;stroke:#1f77b4;\" x=\"160.463983\" xlink:href=\"#m73993b405f\" y=\"89.144046\"/>\n     <use style=\"fill:#1f77b4;stroke:#1f77b4;\" x=\"119.788133\" xlink:href=\"#m73993b405f\" y=\"85.720296\"/>\n     <use style=\"fill:#1f77b4;stroke:#1f77b4;\" x=\"126.366193\" xlink:href=\"#m73993b405f\" y=\"91.634541\"/>\n     <use style=\"fill:#1f77b4;stroke:#1f77b4;\" x=\"112.129706\" xlink:href=\"#m73993b405f\" y=\"75.180225\"/>\n     <use style=\"fill:#1f77b4;stroke:#1f77b4;\" x=\"70.92443\" xlink:href=\"#m73993b405f\" y=\"63.95065\"/>\n     <use style=\"fill:#1f77b4;stroke:#1f77b4;\" x=\"144.07126\" xlink:href=\"#m73993b405f\" y=\"98.358407\"/>\n     <use style=\"fill:#1f77b4;stroke:#1f77b4;\" x=\"81.239326\" xlink:href=\"#m73993b405f\" y=\"54.254722\"/>\n     <use style=\"fill:#1f77b4;stroke:#1f77b4;\" x=\"97.858075\" xlink:href=\"#m73993b405f\" y=\"54.62686\"/>\n     <use style=\"fill:#1f77b4;stroke:#1f77b4;\" x=\"54.649228\" xlink:href=\"#m73993b405f\" y=\"30.565526\"/>\n     <use style=\"fill:#1f77b4;stroke:#1f77b4;\" x=\"135.116754\" xlink:href=\"#m73993b405f\" y=\"84.093003\"/>\n     <use style=\"fill:#1f77b4;stroke:#1f77b4;\" x=\"112.540314\" xlink:href=\"#m73993b405f\" y=\"68.912814\"/>\n     <use style=\"fill:#1f77b4;stroke:#1f77b4;\" x=\"64.376168\" xlink:href=\"#m73993b405f\" y=\"51.883473\"/>\n     <use style=\"fill:#1f77b4;stroke:#1f77b4;\" x=\"140.743687\" xlink:href=\"#m73993b405f\" y=\"99.861628\"/>\n     <use style=\"fill:#1f77b4;stroke:#1f77b4;\" x=\"104.536283\" xlink:href=\"#m73993b405f\" y=\"61.257018\"/>\n     <use style=\"fill:#1f77b4;stroke:#1f77b4;\" x=\"63.970025\" xlink:href=\"#m73993b405f\" y=\"52.691438\"/>\n     <use style=\"fill:#1f77b4;stroke:#1f77b4;\" x=\"107.185065\" xlink:href=\"#m73993b405f\" y=\"74.633312\"/>\n     <use style=\"fill:#1f77b4;stroke:#1f77b4;\" x=\"142.957522\" xlink:href=\"#m73993b405f\" y=\"92.465321\"/>\n     <use style=\"fill:#1f77b4;stroke:#1f77b4;\" x=\"88.175952\" xlink:href=\"#m73993b405f\" y=\"62.537749\"/>\n     <use style=\"fill:#1f77b4;stroke:#1f77b4;\" x=\"166.469849\" xlink:href=\"#m73993b405f\" y=\"115.995575\"/>\n     <use style=\"fill:#1f77b4;stroke:#1f77b4;\" x=\"105.89194\" xlink:href=\"#m73993b405f\" y=\"57.563983\"/>\n     <use style=\"fill:#1f77b4;stroke:#1f77b4;\" x=\"106.633291\" xlink:href=\"#m73993b405f\" y=\"86.428044\"/>\n     <use style=\"fill:#1f77b4;stroke:#1f77b4;\" x=\"132.777516\" xlink:href=\"#m73993b405f\" y=\"100.371951\"/>\n     <use style=\"fill:#1f77b4;stroke:#1f77b4;\" x=\"116.301775\" xlink:href=\"#m73993b405f\" y=\"94.733721\"/>\n     <use style=\"fill:#1f77b4;stroke:#1f77b4;\" x=\"91.435032\" xlink:href=\"#m73993b405f\" y=\"74.083119\"/>\n     <use style=\"fill:#1f77b4;stroke:#1f77b4;\" x=\"139.668017\" xlink:href=\"#m73993b405f\" y=\"84.381235\"/>\n     <use style=\"fill:#1f77b4;stroke:#1f77b4;\" x=\"90.958541\" xlink:href=\"#m73993b405f\" y=\"66.223784\"/>\n     <use style=\"fill:#1f77b4;stroke:#1f77b4;\" x=\"92.781035\" xlink:href=\"#m73993b405f\" y=\"64.218494\"/>\n     <use style=\"fill:#1f77b4;stroke:#1f77b4;\" x=\"112.317255\" xlink:href=\"#m73993b405f\" y=\"94.514346\"/>\n     <use style=\"fill:#1f77b4;stroke:#1f77b4;\" x=\"136.950563\" xlink:href=\"#m73993b405f\" y=\"97.502736\"/>\n     <use style=\"fill:#1f77b4;stroke:#1f77b4;\" x=\"37.81946\" xlink:href=\"#m73993b405f\" y=\"23.069935\"/>\n     <use style=\"fill:#1f77b4;stroke:#1f77b4;\" x=\"115.953754\" xlink:href=\"#m73993b405f\" y=\"76.898025\"/>\n     <use style=\"fill:#1f77b4;stroke:#1f77b4;\" x=\"141.604697\" xlink:href=\"#m73993b405f\" y=\"82.961601\"/>\n     <use style=\"fill:#1f77b4;stroke:#1f77b4;\" x=\"143.918404\" xlink:href=\"#m73993b405f\" y=\"116.614506\"/>\n     <use style=\"fill:#1f77b4;stroke:#1f77b4;\" x=\"119.532843\" xlink:href=\"#m73993b405f\" y=\"63.713367\"/>\n     <use style=\"fill:#1f77b4;stroke:#1f77b4;\" x=\"148.318455\" xlink:href=\"#m73993b405f\" y=\"103.788101\"/>\n     <use style=\"fill:#1f77b4;stroke:#1f77b4;\" x=\"83.907859\" xlink:href=\"#m73993b405f\" y=\"54.525559\"/>\n     <use style=\"fill:#1f77b4;stroke:#1f77b4;\" x=\"114.563919\" xlink:href=\"#m73993b405f\" y=\"88.201407\"/>\n     <use style=\"fill:#1f77b4;stroke:#1f77b4;\" x=\"79.48703\" xlink:href=\"#m73993b405f\" y=\"57.511362\"/>\n     <use style=\"fill:#1f77b4;stroke:#1f77b4;\" x=\"155.662805\" xlink:href=\"#m73993b405f\" y=\"101.252618\"/>\n     <use style=\"fill:#1f77b4;stroke:#1f77b4;\" x=\"138.340427\" xlink:href=\"#m73993b405f\" y=\"97.870203\"/>\n     <use style=\"fill:#1f77b4;stroke:#1f77b4;\" x=\"115.888176\" xlink:href=\"#m73993b405f\" y=\"70.725905\"/>\n     <use style=\"fill:#1f77b4;stroke:#1f77b4;\" x=\"83.109318\" xlink:href=\"#m73993b405f\" y=\"77.270632\"/>\n     <use style=\"fill:#1f77b4;stroke:#1f77b4;\" x=\"149.24497\" xlink:href=\"#m73993b405f\" y=\"111.050056\"/>\n     <use style=\"fill:#1f77b4;stroke:#1f77b4;\" x=\"115.384279\" xlink:href=\"#m73993b405f\" y=\"71.396848\"/>\n     <use style=\"fill:#1f77b4;stroke:#1f77b4;\" x=\"110.54052\" xlink:href=\"#m73993b405f\" y=\"73.159087\"/>\n     <use style=\"fill:#1f77b4;stroke:#1f77b4;\" x=\"81.046909\" xlink:href=\"#m73993b405f\" y=\"49.854213\"/>\n     <use style=\"fill:#1f77b4;stroke:#1f77b4;\" x=\"75.361493\" xlink:href=\"#m73993b405f\" y=\"40.583156\"/>\n     <use style=\"fill:#1f77b4;stroke:#1f77b4;\" x=\"132.393898\" xlink:href=\"#m73993b405f\" y=\"76.959349\"/>\n     <use style=\"fill:#1f77b4;stroke:#1f77b4;\" x=\"129.46444\" xlink:href=\"#m73993b405f\" y=\"88.835613\"/>\n     <use style=\"fill:#1f77b4;stroke:#1f77b4;\" x=\"112.58505\" xlink:href=\"#m73993b405f\" y=\"79.347247\"/>\n     <use style=\"fill:#1f77b4;stroke:#1f77b4;\" x=\"112.071329\" xlink:href=\"#m73993b405f\" y=\"70.349077\"/>\n     <use style=\"fill:#1f77b4;stroke:#1f77b4;\" x=\"143.13754\" xlink:href=\"#m73993b405f\" y=\"95.136106\"/>\n     <use style=\"fill:#1f77b4;stroke:#1f77b4;\" x=\"119.874926\" xlink:href=\"#m73993b405f\" y=\"53.125902\"/>\n     <use style=\"fill:#1f77b4;stroke:#1f77b4;\" x=\"106.86502\" xlink:href=\"#m73993b405f\" y=\"68.008377\"/>\n     <use style=\"fill:#1f77b4;stroke:#1f77b4;\" x=\"131.430357\" xlink:href=\"#m73993b405f\" y=\"81.7707\"/>\n     <use style=\"fill:#1f77b4;stroke:#1f77b4;\" x=\"140.821725\" xlink:href=\"#m73993b405f\" y=\"105.997227\"/>\n     <use style=\"fill:#1f77b4;stroke:#1f77b4;\" x=\"85.960365\" xlink:href=\"#m73993b405f\" y=\"58.367963\"/>\n     <use style=\"fill:#1f77b4;stroke:#1f77b4;\" x=\"156.629395\" xlink:href=\"#m73993b405f\" y=\"100.195418\"/>\n     <use style=\"fill:#1f77b4;stroke:#1f77b4;\" x=\"155.180525\" xlink:href=\"#m73993b405f\" y=\"101.473215\"/>\n     <use style=\"fill:#1f77b4;stroke:#1f77b4;\" x=\"143.082687\" xlink:href=\"#m73993b405f\" y=\"83.605649\"/>\n     <use style=\"fill:#1f77b4;stroke:#1f77b4;\" x=\"126.203222\" xlink:href=\"#m73993b405f\" y=\"106.767493\"/>\n     <use style=\"fill:#1f77b4;stroke:#1f77b4;\" x=\"78.800921\" xlink:href=\"#m73993b405f\" y=\"78.855541\"/>\n     <use style=\"fill:#1f77b4;stroke:#1f77b4;\" x=\"146.566339\" xlink:href=\"#m73993b405f\" y=\"100.371114\"/>\n     <use style=\"fill:#1f77b4;stroke:#1f77b4;\" x=\"94.570799\" xlink:href=\"#m73993b405f\" y=\"65.732547\"/>\n     <use style=\"fill:#1f77b4;stroke:#1f77b4;\" x=\"87.196167\" xlink:href=\"#m73993b405f\" y=\"53.797904\"/>\n     <use style=\"fill:#1f77b4;stroke:#1f77b4;\" x=\"112.147588\" xlink:href=\"#m73993b405f\" y=\"68.879187\"/>\n     <use style=\"fill:#1f77b4;stroke:#1f77b4;\" x=\"132.949163\" xlink:href=\"#m73993b405f\" y=\"78.855787\"/>\n     <use style=\"fill:#1f77b4;stroke:#1f77b4;\" x=\"144.761108\" xlink:href=\"#m73993b405f\" y=\"75.500878\"/>\n     <use style=\"fill:#1f77b4;stroke:#1f77b4;\" x=\"68.318832\" xlink:href=\"#m73993b405f\" y=\"28.42134\"/>\n     <use style=\"fill:#1f77b4;stroke:#1f77b4;\" x=\"124.162227\" xlink:href=\"#m73993b405f\" y=\"71.628309\"/>\n     <use style=\"fill:#1f77b4;stroke:#1f77b4;\" x=\"145.822636\" xlink:href=\"#m73993b405f\" y=\"96.450321\"/>\n     <use style=\"fill:#1f77b4;stroke:#1f77b4;\" x=\"69.233958\" xlink:href=\"#m73993b405f\" y=\"22.113432\"/>\n     <use style=\"fill:#1f77b4;stroke:#1f77b4;\" x=\"134.727902\" xlink:href=\"#m73993b405f\" y=\"95.489927\"/>\n     <use style=\"fill:#1f77b4;stroke:#1f77b4;\" x=\"77.05944\" xlink:href=\"#m73993b405f\" y=\"69.752558\"/>\n     <use style=\"fill:#1f77b4;stroke:#1f77b4;\" x=\"86.302419\" xlink:href=\"#m73993b405f\" y=\"72.441454\"/>\n     <use style=\"fill:#1f77b4;stroke:#1f77b4;\" x=\"130.53687\" xlink:href=\"#m73993b405f\" y=\"93.265325\"/>\n     <use style=\"fill:#1f77b4;stroke:#1f77b4;\" x=\"100.912232\" xlink:href=\"#m73993b405f\" y=\"63.793667\"/>\n     <use style=\"fill:#1f77b4;stroke:#1f77b4;\" x=\"123.309004\" xlink:href=\"#m73993b405f\" y=\"85.257958\"/>\n     <use style=\"fill:#1f77b4;stroke:#1f77b4;\" x=\"78.845034\" xlink:href=\"#m73993b405f\" y=\"58.380132\"/>\n     <use style=\"fill:#1f77b4;stroke:#1f77b4;\" x=\"114.553238\" xlink:href=\"#m73993b405f\" y=\"76.422663\"/>\n     <use style=\"fill:#1f77b4;stroke:#1f77b4;\" x=\"133.929861\" xlink:href=\"#m73993b405f\" y=\"101.918001\"/>\n     <use style=\"fill:#1f77b4;stroke:#1f77b4;\" x=\"81.835664\" xlink:href=\"#m73993b405f\" y=\"54.271992\"/>\n     <use style=\"fill:#1f77b4;stroke:#1f77b4;\" x=\"131.924459\" xlink:href=\"#m73993b405f\" y=\"78.31338\"/>\n     <use style=\"fill:#1f77b4;stroke:#1f77b4;\" x=\"124.894709\" xlink:href=\"#m73993b405f\" y=\"100.569504\"/>\n     <use style=\"fill:#1f77b4;stroke:#1f77b4;\" x=\"147.279534\" xlink:href=\"#m73993b405f\" y=\"100.604232\"/>\n     <use style=\"fill:#1f77b4;stroke:#1f77b4;\" x=\"115.035949\" xlink:href=\"#m73993b405f\" y=\"72.732351\"/>\n     <use style=\"fill:#1f77b4;stroke:#1f77b4;\" x=\"135.621324\" xlink:href=\"#m73993b405f\" y=\"102.246333\"/>\n     <use style=\"fill:#1f77b4;stroke:#1f77b4;\" x=\"147.483567\" xlink:href=\"#m73993b405f\" y=\"109.72223\"/>\n     <use style=\"fill:#1f77b4;stroke:#1f77b4;\" x=\"126.141806\" xlink:href=\"#m73993b405f\" y=\"89.966218\"/>\n     <use style=\"fill:#1f77b4;stroke:#1f77b4;\" x=\"117.623874\" xlink:href=\"#m73993b405f\" y=\"75.781406\"/>\n     <use style=\"fill:#1f77b4;stroke:#1f77b4;\" x=\"116.837997\" xlink:href=\"#m73993b405f\" y=\"81.316787\"/>\n     <use style=\"fill:#1f77b4;stroke:#1f77b4;\" x=\"115.856445\" xlink:href=\"#m73993b405f\" y=\"76.151903\"/>\n     <use style=\"fill:#1f77b4;stroke:#1f77b4;\" x=\"123.446519\" xlink:href=\"#m73993b405f\" y=\"64.812488\"/>\n     <use style=\"fill:#1f77b4;stroke:#1f77b4;\" x=\"170.000861\" xlink:href=\"#m73993b405f\" y=\"122.101967\"/>\n     <use style=\"fill:#1f77b4;stroke:#1f77b4;\" x=\"94.658992\" xlink:href=\"#m73993b405f\" y=\"72.435129\"/>\n     <use style=\"fill:#1f77b4;stroke:#1f77b4;\" x=\"104.838282\" xlink:href=\"#m73993b405f\" y=\"58.936721\"/>\n     <use style=\"fill:#1f77b4;stroke:#1f77b4;\" x=\"147.91756\" xlink:href=\"#m73993b405f\" y=\"94.401453\"/>\n     <use style=\"fill:#1f77b4;stroke:#1f77b4;\" x=\"113.035974\" xlink:href=\"#m73993b405f\" y=\"77.336382\"/>\n     <use style=\"fill:#1f77b4;stroke:#1f77b4;\" x=\"158.016979\" xlink:href=\"#m73993b405f\" y=\"107.198225\"/>\n     <use style=\"fill:#1f77b4;stroke:#1f77b4;\" x=\"117.48167\" xlink:href=\"#m73993b405f\" y=\"85.713995\"/>\n     <use style=\"fill:#1f77b4;stroke:#1f77b4;\" x=\"130.069102\" xlink:href=\"#m73993b405f\" y=\"90.760218\"/>\n     <use style=\"fill:#1f77b4;stroke:#1f77b4;\" x=\"118.339546\" xlink:href=\"#m73993b405f\" y=\"85.45863\"/>\n     <use style=\"fill:#1f77b4;stroke:#1f77b4;\" x=\"104.288828\" xlink:href=\"#m73993b405f\" y=\"77.820016\"/>\n     <use style=\"fill:#1f77b4;stroke:#1f77b4;\" x=\"94.507871\" xlink:href=\"#m73993b405f\" y=\"47.541567\"/>\n     <use style=\"fill:#1f77b4;stroke:#1f77b4;\" x=\"129.5524\" xlink:href=\"#m73993b405f\" y=\"88.063555\"/>\n     <use style=\"fill:#1f77b4;stroke:#1f77b4;\" x=\"126.462662\" xlink:href=\"#m73993b405f\" y=\"80.176845\"/>\n     <use style=\"fill:#1f77b4;stroke:#1f77b4;\" x=\"119.307524\" xlink:href=\"#m73993b405f\" y=\"84.546424\"/>\n     <use style=\"fill:#1f77b4;stroke:#1f77b4;\" x=\"104.447515\" xlink:href=\"#m73993b405f\" y=\"92.233829\"/>\n     <use style=\"fill:#1f77b4;stroke:#1f77b4;\" x=\"98.08219\" xlink:href=\"#m73993b405f\" y=\"64.024343\"/>\n     <use style=\"fill:#1f77b4;stroke:#1f77b4;\" x=\"94.905742\" xlink:href=\"#m73993b405f\" y=\"64.782692\"/>\n     <use style=\"fill:#1f77b4;stroke:#1f77b4;\" x=\"67.174174\" xlink:href=\"#m73993b405f\" y=\"37.20836\"/>\n     <use style=\"fill:#1f77b4;stroke:#1f77b4;\" x=\"132.101734\" xlink:href=\"#m73993b405f\" y=\"75.18963\"/>\n     <use style=\"fill:#1f77b4;stroke:#1f77b4;\" x=\"150.979953\" xlink:href=\"#m73993b405f\" y=\"89.507821\"/>\n     <use style=\"fill:#1f77b4;stroke:#1f77b4;\" x=\"149.622451\" xlink:href=\"#m73993b405f\" y=\"78.59066\"/>\n     <use style=\"fill:#1f77b4;stroke:#1f77b4;\" x=\"125.343506\" xlink:href=\"#m73993b405f\" y=\"59.217414\"/>\n     <use style=\"fill:#1f77b4;stroke:#1f77b4;\" x=\"85.090172\" xlink:href=\"#m73993b405f\" y=\"75.201183\"/>\n     <use style=\"fill:#1f77b4;stroke:#1f77b4;\" x=\"138.812935\" xlink:href=\"#m73993b405f\" y=\"84.680174\"/>\n     <use style=\"fill:#1f77b4;stroke:#1f77b4;\" x=\"154.748302\" xlink:href=\"#m73993b405f\" y=\"96.885493\"/>\n     <use style=\"fill:#1f77b4;stroke:#1f77b4;\" x=\"53.726879\" xlink:href=\"#m73993b405f\" y=\"31.947568\"/>\n     <use style=\"fill:#1f77b4;stroke:#1f77b4;\" x=\"155.019973\" xlink:href=\"#m73993b405f\" y=\"122.949864\"/>\n     <use style=\"fill:#1f77b4;stroke:#1f77b4;\" x=\"95.186111\" xlink:href=\"#m73993b405f\" y=\"68.029711\"/>\n     <use style=\"fill:#1f77b4;stroke:#1f77b4;\" x=\"111.315323\" xlink:href=\"#m73993b405f\" y=\"80.774085\"/>\n     <use style=\"fill:#1f77b4;stroke:#1f77b4;\" x=\"98.757586\" xlink:href=\"#m73993b405f\" y=\"70.887672\"/>\n     <use style=\"fill:#1f77b4;stroke:#1f77b4;\" x=\"112.581759\" xlink:href=\"#m73993b405f\" y=\"44.081431\"/>\n     <use style=\"fill:#1f77b4;stroke:#1f77b4;\" x=\"139.516509\" xlink:href=\"#m73993b405f\" y=\"98.300195\"/>\n     <use style=\"fill:#1f77b4;stroke:#1f77b4;\" x=\"125.784232\" xlink:href=\"#m73993b405f\" y=\"88.923937\"/>\n     <use style=\"fill:#1f77b4;stroke:#1f77b4;\" x=\"154.985121\" xlink:href=\"#m73993b405f\" y=\"102.05446\"/>\n     <use style=\"fill:#1f77b4;stroke:#1f77b4;\" x=\"139.259566\" xlink:href=\"#m73993b405f\" y=\"83.413281\"/>\n     <use style=\"fill:#1f77b4;stroke:#1f77b4;\" x=\"111.217312\" xlink:href=\"#m73993b405f\" y=\"86.805322\"/>\n     <use style=\"fill:#1f77b4;stroke:#1f77b4;\" x=\"96.83469\" xlink:href=\"#m73993b405f\" y=\"72.762353\"/>\n     <use style=\"fill:#1f77b4;stroke:#1f77b4;\" x=\"176.708543\" xlink:href=\"#m73993b405f\" y=\"136.64518\"/>\n     <use style=\"fill:#1f77b4;stroke:#1f77b4;\" x=\"79.871254\" xlink:href=\"#m73993b405f\" y=\"45.438953\"/>\n     <use style=\"fill:#1f77b4;stroke:#1f77b4;\" x=\"84.477232\" xlink:href=\"#m73993b405f\" y=\"56.121086\"/>\n     <use style=\"fill:#1f77b4;stroke:#1f77b4;\" x=\"99.698404\" xlink:href=\"#m73993b405f\" y=\"41.696851\"/>\n     <use style=\"fill:#1f77b4;stroke:#1f77b4;\" x=\"137.062435\" xlink:href=\"#m73993b405f\" y=\"95.045163\"/>\n     <use style=\"fill:#1f77b4;stroke:#1f77b4;\" x=\"135.9549\" xlink:href=\"#m73993b405f\" y=\"89.834687\"/>\n     <use style=\"fill:#1f77b4;stroke:#1f77b4;\" x=\"121.184909\" xlink:href=\"#m73993b405f\" y=\"88.852152\"/>\n     <use style=\"fill:#1f77b4;stroke:#1f77b4;\" x=\"113.217434\" xlink:href=\"#m73993b405f\" y=\"75.02954\"/>\n     <use style=\"fill:#1f77b4;stroke:#1f77b4;\" x=\"101.421592\" xlink:href=\"#m73993b405f\" y=\"75.105091\"/>\n     <use style=\"fill:#1f77b4;stroke:#1f77b4;\" x=\"93.84027\" xlink:href=\"#m73993b405f\" y=\"67.277571\"/>\n     <use style=\"fill:#1f77b4;stroke:#1f77b4;\" x=\"150.401233\" xlink:href=\"#m73993b405f\" y=\"109.963768\"/>\n     <use style=\"fill:#1f77b4;stroke:#1f77b4;\" x=\"106.15964\" xlink:href=\"#m73993b405f\" y=\"79.647208\"/>\n     <use style=\"fill:#1f77b4;stroke:#1f77b4;\" x=\"105.284268\" xlink:href=\"#m73993b405f\" y=\"79.467231\"/>\n     <use style=\"fill:#1f77b4;stroke:#1f77b4;\" x=\"124.85426\" xlink:href=\"#m73993b405f\" y=\"107.658311\"/>\n     <use style=\"fill:#1f77b4;stroke:#1f77b4;\" x=\"71.290099\" xlink:href=\"#m73993b405f\" y=\"36.929923\"/>\n     <use style=\"fill:#1f77b4;stroke:#1f77b4;\" x=\"140.178062\" xlink:href=\"#m73993b405f\" y=\"84.680236\"/>\n     <use style=\"fill:#1f77b4;stroke:#1f77b4;\" x=\"146.139729\" xlink:href=\"#m73993b405f\" y=\"102.736584\"/>\n     <use style=\"fill:#1f77b4;stroke:#1f77b4;\" x=\"142.736\" xlink:href=\"#m73993b405f\" y=\"83.579478\"/>\n     <use style=\"fill:#1f77b4;stroke:#1f77b4;\" x=\"105.743232\" xlink:href=\"#m73993b405f\" y=\"74.787443\"/>\n     <use style=\"fill:#1f77b4;stroke:#1f77b4;\" x=\"78.907832\" xlink:href=\"#m73993b405f\" y=\"69.889447\"/>\n     <use style=\"fill:#1f77b4;stroke:#1f77b4;\" x=\"134.49075\" xlink:href=\"#m73993b405f\" y=\"87.180466\"/>\n     <use style=\"fill:#1f77b4;stroke:#1f77b4;\" x=\"106.947368\" xlink:href=\"#m73993b405f\" y=\"51.173281\"/>\n     <use style=\"fill:#1f77b4;stroke:#1f77b4;\" x=\"111.344787\" xlink:href=\"#m73993b405f\" y=\"70.42432\"/>\n     <use style=\"fill:#1f77b4;stroke:#1f77b4;\" x=\"126.450236\" xlink:href=\"#m73993b405f\" y=\"71.639391\"/>\n     <use style=\"fill:#1f77b4;stroke:#1f77b4;\" x=\"94.133133\" xlink:href=\"#m73993b405f\" y=\"57.176274\"/>\n     <use style=\"fill:#1f77b4;stroke:#1f77b4;\" x=\"122.119745\" xlink:href=\"#m73993b405f\" y=\"101.829882\"/>\n     <use style=\"fill:#1f77b4;stroke:#1f77b4;\" x=\"72.805188\" xlink:href=\"#m73993b405f\" y=\"47.56233\"/>\n     <use style=\"fill:#1f77b4;stroke:#1f77b4;\" x=\"90.010369\" xlink:href=\"#m73993b405f\" y=\"59.690796\"/>\n     <use style=\"fill:#1f77b4;stroke:#1f77b4;\" x=\"89.703696\" xlink:href=\"#m73993b405f\" y=\"47.588509\"/>\n     <use style=\"fill:#1f77b4;stroke:#1f77b4;\" x=\"117.801647\" xlink:href=\"#m73993b405f\" y=\"79.194501\"/>\n     <use style=\"fill:#1f77b4;stroke:#1f77b4;\" x=\"119.436529\" xlink:href=\"#m73993b405f\" y=\"76.448112\"/>\n     <use style=\"fill:#1f77b4;stroke:#1f77b4;\" x=\"112.297879\" xlink:href=\"#m73993b405f\" y=\"90.722421\"/>\n     <use style=\"fill:#1f77b4;stroke:#1f77b4;\" x=\"118.828561\" xlink:href=\"#m73993b405f\" y=\"84.154986\"/>\n     <use style=\"fill:#1f77b4;stroke:#1f77b4;\" x=\"160.264767\" xlink:href=\"#m73993b405f\" y=\"121.466648\"/>\n     <use style=\"fill:#1f77b4;stroke:#1f77b4;\" x=\"82.57603\" xlink:href=\"#m73993b405f\" y=\"59.016479\"/>\n     <use style=\"fill:#1f77b4;stroke:#1f77b4;\" x=\"141.405674\" xlink:href=\"#m73993b405f\" y=\"102.553269\"/>\n     <use style=\"fill:#1f77b4;stroke:#1f77b4;\" x=\"109.418338\" xlink:href=\"#m73993b405f\" y=\"64.839937\"/>\n     <use style=\"fill:#1f77b4;stroke:#1f77b4;\" x=\"136.561178\" xlink:href=\"#m73993b405f\" y=\"77.116342\"/>\n     <use style=\"fill:#1f77b4;stroke:#1f77b4;\" x=\"113.506548\" xlink:href=\"#m73993b405f\" y=\"75.986603\"/>\n     <use style=\"fill:#1f77b4;stroke:#1f77b4;\" x=\"153.447106\" xlink:href=\"#m73993b405f\" y=\"93.79447\"/>\n     <use style=\"fill:#1f77b4;stroke:#1f77b4;\" x=\"123.938724\" xlink:href=\"#m73993b405f\" y=\"101.798484\"/>\n     <use style=\"fill:#1f77b4;stroke:#1f77b4;\" x=\"97.681948\" xlink:href=\"#m73993b405f\" y=\"74.134244\"/>\n     <use style=\"fill:#1f77b4;stroke:#1f77b4;\" x=\"117.594851\" xlink:href=\"#m73993b405f\" y=\"85.292016\"/>\n     <use style=\"fill:#1f77b4;stroke:#1f77b4;\" x=\"193.347476\" xlink:href=\"#m73993b405f\" y=\"110.270257\"/>\n     <use style=\"fill:#1f77b4;stroke:#1f77b4;\" x=\"160.568189\" xlink:href=\"#m73993b405f\" y=\"102.864984\"/>\n     <use style=\"fill:#1f77b4;stroke:#1f77b4;\" x=\"146.548754\" xlink:href=\"#m73993b405f\" y=\"99.821572\"/>\n     <use style=\"fill:#1f77b4;stroke:#1f77b4;\" x=\"164.768968\" xlink:href=\"#m73993b405f\" y=\"81.79579\"/>\n     <use style=\"fill:#1f77b4;stroke:#1f77b4;\" x=\"102.157652\" xlink:href=\"#m73993b405f\" y=\"59.328753\"/>\n     <use style=\"fill:#1f77b4;stroke:#1f77b4;\" x=\"172.675138\" xlink:href=\"#m73993b405f\" y=\"99.56896\"/>\n     <use style=\"fill:#1f77b4;stroke:#1f77b4;\" x=\"104.28634\" xlink:href=\"#m73993b405f\" y=\"77.144984\"/>\n     <use style=\"fill:#1f77b4;stroke:#1f77b4;\" x=\"144.263783\" xlink:href=\"#m73993b405f\" y=\"96.168567\"/>\n     <use style=\"fill:#1f77b4;stroke:#1f77b4;\" x=\"94.78355\" xlink:href=\"#m73993b405f\" y=\"62.480565\"/>\n     <use style=\"fill:#1f77b4;stroke:#1f77b4;\" x=\"117.182817\" xlink:href=\"#m73993b405f\" y=\"94.964939\"/>\n     <use style=\"fill:#1f77b4;stroke:#1f77b4;\" x=\"141.280878\" xlink:href=\"#m73993b405f\" y=\"100.233771\"/>\n     <use style=\"fill:#1f77b4;stroke:#1f77b4;\" x=\"108.93208\" xlink:href=\"#m73993b405f\" y=\"64.630602\"/>\n     <use style=\"fill:#1f77b4;stroke:#1f77b4;\" x=\"135.988078\" xlink:href=\"#m73993b405f\" y=\"90.687425\"/>\n     <use style=\"fill:#1f77b4;stroke:#1f77b4;\" x=\"87.008009\" xlink:href=\"#m73993b405f\" y=\"47.470079\"/>\n     <use style=\"fill:#1f77b4;stroke:#1f77b4;\" x=\"92.359021\" xlink:href=\"#m73993b405f\" y=\"54.032704\"/>\n     <use style=\"fill:#1f77b4;stroke:#1f77b4;\" x=\"133.460885\" xlink:href=\"#m73993b405f\" y=\"93.661019\"/>\n     <use style=\"fill:#1f77b4;stroke:#1f77b4;\" x=\"108.655884\" xlink:href=\"#m73993b405f\" y=\"78.978856\"/>\n     <use style=\"fill:#1f77b4;stroke:#1f77b4;\" x=\"75.783183\" xlink:href=\"#m73993b405f\" y=\"58.905242\"/>\n     <use style=\"fill:#1f77b4;stroke:#1f77b4;\" x=\"95.288425\" xlink:href=\"#m73993b405f\" y=\"62.961625\"/>\n     <use style=\"fill:#1f77b4;stroke:#1f77b4;\" x=\"121.358167\" xlink:href=\"#m73993b405f\" y=\"113.182764\"/>\n     <use style=\"fill:#1f77b4;stroke:#1f77b4;\" x=\"93.019774\" xlink:href=\"#m73993b405f\" y=\"61.131564\"/>\n     <use style=\"fill:#1f77b4;stroke:#1f77b4;\" x=\"128.363998\" xlink:href=\"#m73993b405f\" y=\"94.657269\"/>\n     <use style=\"fill:#1f77b4;stroke:#1f77b4;\" x=\"133.511932\" xlink:href=\"#m73993b405f\" y=\"72.257289\"/>\n     <use style=\"fill:#1f77b4;stroke:#1f77b4;\" x=\"101.104282\" xlink:href=\"#m73993b405f\" y=\"77.017496\"/>\n     <use style=\"fill:#1f77b4;stroke:#1f77b4;\" x=\"133.630663\" xlink:href=\"#m73993b405f\" y=\"88.222039\"/>\n     <use style=\"fill:#1f77b4;stroke:#1f77b4;\" x=\"123.71162\" xlink:href=\"#m73993b405f\" y=\"85.806589\"/>\n     <use style=\"fill:#1f77b4;stroke:#1f77b4;\" x=\"123.508034\" xlink:href=\"#m73993b405f\" y=\"75.267935\"/>\n     <use style=\"fill:#1f77b4;stroke:#1f77b4;\" x=\"75.279534\" xlink:href=\"#m73993b405f\" y=\"67.753333\"/>\n     <use style=\"fill:#1f77b4;stroke:#1f77b4;\" x=\"137.439633\" xlink:href=\"#m73993b405f\" y=\"108.902691\"/>\n     <use style=\"fill:#1f77b4;stroke:#1f77b4;\" x=\"105.927604\" xlink:href=\"#m73993b405f\" y=\"65.105074\"/>\n     <use style=\"fill:#1f77b4;stroke:#1f77b4;\" x=\"93.800472\" xlink:href=\"#m73993b405f\" y=\"34.755811\"/>\n     <use style=\"fill:#1f77b4;stroke:#1f77b4;\" x=\"139.356724\" xlink:href=\"#m73993b405f\" y=\"93.639345\"/>\n     <use style=\"fill:#1f77b4;stroke:#1f77b4;\" x=\"125.738018\" xlink:href=\"#m73993b405f\" y=\"82.929842\"/>\n     <use style=\"fill:#1f77b4;stroke:#1f77b4;\" x=\"90.77555\" xlink:href=\"#m73993b405f\" y=\"83.834363\"/>\n     <use style=\"fill:#1f77b4;stroke:#1f77b4;\" x=\"133.157782\" xlink:href=\"#m73993b405f\" y=\"76.293533\"/>\n     <use style=\"fill:#1f77b4;stroke:#1f77b4;\" x=\"114.627706\" xlink:href=\"#m73993b405f\" y=\"70.441559\"/>\n     <use style=\"fill:#1f77b4;stroke:#1f77b4;\" x=\"108.426819\" xlink:href=\"#m73993b405f\" y=\"63.4378\"/>\n     <use style=\"fill:#1f77b4;stroke:#1f77b4;\" x=\"134.161502\" xlink:href=\"#m73993b405f\" y=\"110.653156\"/>\n     <use style=\"fill:#1f77b4;stroke:#1f77b4;\" x=\"118.712785\" xlink:href=\"#m73993b405f\" y=\"85.873972\"/>\n     <use style=\"fill:#1f77b4;stroke:#1f77b4;\" x=\"165.480701\" xlink:href=\"#m73993b405f\" y=\"99.529731\"/>\n     <use style=\"fill:#1f77b4;stroke:#1f77b4;\" x=\"139.063231\" xlink:href=\"#m73993b405f\" y=\"97.094429\"/>\n     <use style=\"fill:#1f77b4;stroke:#1f77b4;\" x=\"122.285805\" xlink:href=\"#m73993b405f\" y=\"68.969167\"/>\n     <use style=\"fill:#1f77b4;stroke:#1f77b4;\" x=\"84.015822\" xlink:href=\"#m73993b405f\" y=\"55.110547\"/>\n     <use style=\"fill:#1f77b4;stroke:#1f77b4;\" x=\"84.378757\" xlink:href=\"#m73993b405f\" y=\"50.102252\"/>\n     <use style=\"fill:#1f77b4;stroke:#1f77b4;\" x=\"41.659704\" xlink:href=\"#m73993b405f\" y=\"26.849425\"/>\n     <use style=\"fill:#1f77b4;stroke:#1f77b4;\" x=\"88.701222\" xlink:href=\"#m73993b405f\" y=\"58.337485\"/>\n     <use style=\"fill:#1f77b4;stroke:#1f77b4;\" x=\"111.063683\" xlink:href=\"#m73993b405f\" y=\"81.444741\"/>\n     <use style=\"fill:#1f77b4;stroke:#1f77b4;\" x=\"162.192193\" xlink:href=\"#m73993b405f\" y=\"110.072562\"/>\n     <use style=\"fill:#1f77b4;stroke:#1f77b4;\" x=\"115.633655\" xlink:href=\"#m73993b405f\" y=\"84.362425\"/>\n     <use style=\"fill:#1f77b4;stroke:#1f77b4;\" x=\"158.830367\" xlink:href=\"#m73993b405f\" y=\"108.259567\"/>\n     <use style=\"fill:#1f77b4;stroke:#1f77b4;\" x=\"144.920774\" xlink:href=\"#m73993b405f\" y=\"98.463077\"/>\n     <use style=\"fill:#1f77b4;stroke:#1f77b4;\" x=\"118.121542\" xlink:href=\"#m73993b405f\" y=\"101.932246\"/>\n     <use style=\"fill:#1f77b4;stroke:#1f77b4;\" x=\"91.438428\" xlink:href=\"#m73993b405f\" y=\"77.35149\"/>\n     <use style=\"fill:#1f77b4;stroke:#1f77b4;\" x=\"132.214013\" xlink:href=\"#m73993b405f\" y=\"102.239379\"/>\n     <use style=\"fill:#1f77b4;stroke:#1f77b4;\" x=\"132.282021\" xlink:href=\"#m73993b405f\" y=\"95.211205\"/>\n     <use style=\"fill:#1f77b4;stroke:#1f77b4;\" x=\"151.932124\" xlink:href=\"#m73993b405f\" y=\"105.309204\"/>\n     <use style=\"fill:#1f77b4;stroke:#1f77b4;\" x=\"122.524961\" xlink:href=\"#m73993b405f\" y=\"81.477248\"/>\n     <use style=\"fill:#1f77b4;stroke:#1f77b4;\" x=\"148.702587\" xlink:href=\"#m73993b405f\" y=\"113.041348\"/>\n     <use style=\"fill:#1f77b4;stroke:#1f77b4;\" x=\"114.25384\" xlink:href=\"#m73993b405f\" y=\"87.445236\"/>\n     <use style=\"fill:#1f77b4;stroke:#1f77b4;\" x=\"54.129102\" xlink:href=\"#m73993b405f\" y=\"20.610774\"/>\n     <use style=\"fill:#1f77b4;stroke:#1f77b4;\" x=\"171.633083\" xlink:href=\"#m73993b405f\" y=\"120.089436\"/>\n     <use style=\"fill:#1f77b4;stroke:#1f77b4;\" x=\"121.25718\" xlink:href=\"#m73993b405f\" y=\"72.966171\"/>\n     <use style=\"fill:#1f77b4;stroke:#1f77b4;\" x=\"107.685847\" xlink:href=\"#m73993b405f\" y=\"72.181299\"/>\n     <use style=\"fill:#1f77b4;stroke:#1f77b4;\" x=\"179.335103\" xlink:href=\"#m73993b405f\" y=\"117.028136\"/>\n     <use style=\"fill:#1f77b4;stroke:#1f77b4;\" x=\"83.6078\" xlink:href=\"#m73993b405f\" y=\"57.75101\"/>\n     <use style=\"fill:#1f77b4;stroke:#1f77b4;\" x=\"152.236215\" xlink:href=\"#m73993b405f\" y=\"119.578677\"/>\n     <use style=\"fill:#1f77b4;stroke:#1f77b4;\" x=\"125.504432\" xlink:href=\"#m73993b405f\" y=\"88.655871\"/>\n     <use style=\"fill:#1f77b4;stroke:#1f77b4;\" x=\"109.673104\" xlink:href=\"#m73993b405f\" y=\"69.788262\"/>\n     <use style=\"fill:#1f77b4;stroke:#1f77b4;\" x=\"138.351882\" xlink:href=\"#m73993b405f\" y=\"94.155962\"/>\n     <use style=\"fill:#1f77b4;stroke:#1f77b4;\" x=\"99.453104\" xlink:href=\"#m73993b405f\" y=\"89.35496\"/>\n     <use style=\"fill:#1f77b4;stroke:#1f77b4;\" x=\"143.468458\" xlink:href=\"#m73993b405f\" y=\"97.120606\"/>\n     <use style=\"fill:#1f77b4;stroke:#1f77b4;\" x=\"121.896417\" xlink:href=\"#m73993b405f\" y=\"79.102894\"/>\n     <use style=\"fill:#1f77b4;stroke:#1f77b4;\" x=\"100.019207\" xlink:href=\"#m73993b405f\" y=\"83.28312\"/>\n     <use style=\"fill:#1f77b4;stroke:#1f77b4;\" x=\"97.06073\" xlink:href=\"#m73993b405f\" y=\"71.643318\"/>\n     <use style=\"fill:#1f77b4;stroke:#1f77b4;\" x=\"116.334185\" xlink:href=\"#m73993b405f\" y=\"93.194246\"/>\n     <use style=\"fill:#1f77b4;stroke:#1f77b4;\" x=\"91.230331\" xlink:href=\"#m73993b405f\" y=\"80.5871\"/>\n     <use style=\"fill:#1f77b4;stroke:#1f77b4;\" x=\"72.808064\" xlink:href=\"#m73993b405f\" y=\"53.023915\"/>\n     <use style=\"fill:#1f77b4;stroke:#1f77b4;\" x=\"128.158068\" xlink:href=\"#m73993b405f\" y=\"67.17026\"/>\n     <use style=\"fill:#1f77b4;stroke:#1f77b4;\" x=\"86.945825\" xlink:href=\"#m73993b405f\" y=\"63.546596\"/>\n     <use style=\"fill:#1f77b4;stroke:#1f77b4;\" x=\"122.318025\" xlink:href=\"#m73993b405f\" y=\"88.263273\"/>\n     <use style=\"fill:#1f77b4;stroke:#1f77b4;\" x=\"131.877926\" xlink:href=\"#m73993b405f\" y=\"80.220827\"/>\n     <use style=\"fill:#1f77b4;stroke:#1f77b4;\" x=\"99.685157\" xlink:href=\"#m73993b405f\" y=\"84.441125\"/>\n     <use style=\"fill:#1f77b4;stroke:#1f77b4;\" x=\"63.830514\" xlink:href=\"#m73993b405f\" y=\"58.601141\"/>\n     <use style=\"fill:#1f77b4;stroke:#1f77b4;\" x=\"60.106557\" xlink:href=\"#m73993b405f\" y=\"29.465809\"/>\n     <use style=\"fill:#1f77b4;stroke:#1f77b4;\" x=\"90.155286\" xlink:href=\"#m73993b405f\" y=\"56.798706\"/>\n     <use style=\"fill:#1f77b4;stroke:#1f77b4;\" x=\"115.768203\" xlink:href=\"#m73993b405f\" y=\"75.39283\"/>\n     <use style=\"fill:#1f77b4;stroke:#1f77b4;\" x=\"116.877157\" xlink:href=\"#m73993b405f\" y=\"66.376181\"/>\n     <use style=\"fill:#1f77b4;stroke:#1f77b4;\" x=\"108.547207\" xlink:href=\"#m73993b405f\" y=\"73.919728\"/>\n     <use style=\"fill:#1f77b4;stroke:#1f77b4;\" x=\"115.767966\" xlink:href=\"#m73993b405f\" y=\"78.277182\"/>\n     <use style=\"fill:#1f77b4;stroke:#1f77b4;\" x=\"62.379982\" xlink:href=\"#m73993b405f\" y=\"47.643066\"/>\n     <use style=\"fill:#1f77b4;stroke:#1f77b4;\" x=\"141.532884\" xlink:href=\"#m73993b405f\" y=\"107.567898\"/>\n     <use style=\"fill:#1f77b4;stroke:#1f77b4;\" x=\"108.149458\" xlink:href=\"#m73993b405f\" y=\"70.200075\"/>\n     <use style=\"fill:#1f77b4;stroke:#1f77b4;\" x=\"99.398711\" xlink:href=\"#m73993b405f\" y=\"71.143236\"/>\n     <use style=\"fill:#1f77b4;stroke:#1f77b4;\" x=\"149.232587\" xlink:href=\"#m73993b405f\" y=\"84.43314\"/>\n     <use style=\"fill:#1f77b4;stroke:#1f77b4;\" x=\"171.737102\" xlink:href=\"#m73993b405f\" y=\"103.331828\"/>\n     <use style=\"fill:#1f77b4;stroke:#1f77b4;\" x=\"144.7105\" xlink:href=\"#m73993b405f\" y=\"96.535565\"/>\n     <use style=\"fill:#1f77b4;stroke:#1f77b4;\" x=\"156.265657\" xlink:href=\"#m73993b405f\" y=\"103.901147\"/>\n     <use style=\"fill:#1f77b4;stroke:#1f77b4;\" x=\"123.002662\" xlink:href=\"#m73993b405f\" y=\"84.846159\"/>\n     <use style=\"fill:#1f77b4;stroke:#1f77b4;\" x=\"89.030288\" xlink:href=\"#m73993b405f\" y=\"70.619181\"/>\n     <use style=\"fill:#1f77b4;stroke:#1f77b4;\" x=\"141.133255\" xlink:href=\"#m73993b405f\" y=\"101.024191\"/>\n     <use style=\"fill:#1f77b4;stroke:#1f77b4;\" x=\"89.421783\" xlink:href=\"#m73993b405f\" y=\"70.129176\"/>\n     <use style=\"fill:#1f77b4;stroke:#1f77b4;\" x=\"140.504269\" xlink:href=\"#m73993b405f\" y=\"90.369905\"/>\n     <use style=\"fill:#1f77b4;stroke:#1f77b4;\" x=\"128.958764\" xlink:href=\"#m73993b405f\" y=\"106.813064\"/>\n     <use style=\"fill:#1f77b4;stroke:#1f77b4;\" x=\"107.562969\" xlink:href=\"#m73993b405f\" y=\"57.600967\"/>\n     <use style=\"fill:#1f77b4;stroke:#1f77b4;\" x=\"108.164386\" xlink:href=\"#m73993b405f\" y=\"73.701119\"/>\n     <use style=\"fill:#1f77b4;stroke:#1f77b4;\" x=\"94.811144\" xlink:href=\"#m73993b405f\" y=\"73.242245\"/>\n     <use style=\"fill:#1f77b4;stroke:#1f77b4;\" x=\"56.83494\" xlink:href=\"#m73993b405f\" y=\"59.048963\"/>\n     <use style=\"fill:#1f77b4;stroke:#1f77b4;\" x=\"73.014748\" xlink:href=\"#m73993b405f\" y=\"49.628894\"/>\n     <use style=\"fill:#1f77b4;stroke:#1f77b4;\" x=\"138.010206\" xlink:href=\"#m73993b405f\" y=\"90.950939\"/>\n     <use style=\"fill:#1f77b4;stroke:#1f77b4;\" x=\"66.347295\" xlink:href=\"#m73993b405f\" y=\"45.989427\"/>\n     <use style=\"fill:#1f77b4;stroke:#1f77b4;\" x=\"109.548622\" xlink:href=\"#m73993b405f\" y=\"60.772984\"/>\n     <use style=\"fill:#1f77b4;stroke:#1f77b4;\" x=\"96.638257\" xlink:href=\"#m73993b405f\" y=\"82.935476\"/>\n     <use style=\"fill:#1f77b4;stroke:#1f77b4;\" x=\"132.791955\" xlink:href=\"#m73993b405f\" y=\"89.388874\"/>\n     <use style=\"fill:#1f77b4;stroke:#1f77b4;\" x=\"135.933804\" xlink:href=\"#m73993b405f\" y=\"87.699623\"/>\n     <use style=\"fill:#1f77b4;stroke:#1f77b4;\" x=\"144.418701\" xlink:href=\"#m73993b405f\" y=\"91.462729\"/>\n     <use style=\"fill:#1f77b4;stroke:#1f77b4;\" x=\"143.763236\" xlink:href=\"#m73993b405f\" y=\"114.86367\"/>\n     <use style=\"fill:#1f77b4;stroke:#1f77b4;\" x=\"69.448274\" xlink:href=\"#m73993b405f\" y=\"39.756095\"/>\n     <use style=\"fill:#1f77b4;stroke:#1f77b4;\" x=\"108.916901\" xlink:href=\"#m73993b405f\" y=\"69.899922\"/>\n     <use style=\"fill:#1f77b4;stroke:#1f77b4;\" x=\"113.862878\" xlink:href=\"#m73993b405f\" y=\"63.385968\"/>\n     <use style=\"fill:#1f77b4;stroke:#1f77b4;\" x=\"103.312921\" xlink:href=\"#m73993b405f\" y=\"67.298385\"/>\n     <use style=\"fill:#1f77b4;stroke:#1f77b4;\" x=\"142.051213\" xlink:href=\"#m73993b405f\" y=\"81.603285\"/>\n     <use style=\"fill:#1f77b4;stroke:#1f77b4;\" x=\"108.153178\" xlink:href=\"#m73993b405f\" y=\"74.471531\"/>\n     <use style=\"fill:#1f77b4;stroke:#1f77b4;\" x=\"65.050194\" xlink:href=\"#m73993b405f\" y=\"37.124389\"/>\n     <use style=\"fill:#1f77b4;stroke:#1f77b4;\" x=\"163.914259\" xlink:href=\"#m73993b405f\" y=\"117.242146\"/>\n     <use style=\"fill:#1f77b4;stroke:#1f77b4;\" x=\"146.406473\" xlink:href=\"#m73993b405f\" y=\"91.387255\"/>\n     <use style=\"fill:#1f77b4;stroke:#1f77b4;\" x=\"117.204332\" xlink:href=\"#m73993b405f\" y=\"85.507056\"/>\n     <use style=\"fill:#1f77b4;stroke:#1f77b4;\" x=\"116.35285\" xlink:href=\"#m73993b405f\" y=\"72.640014\"/>\n     <use style=\"fill:#1f77b4;stroke:#1f77b4;\" x=\"128.764534\" xlink:href=\"#m73993b405f\" y=\"93.159487\"/>\n     <use style=\"fill:#1f77b4;stroke:#1f77b4;\" x=\"147.040565\" xlink:href=\"#m73993b405f\" y=\"83.283799\"/>\n     <use style=\"fill:#1f77b4;stroke:#1f77b4;\" x=\"69.55564\" xlink:href=\"#m73993b405f\" y=\"63.398789\"/>\n     <use style=\"fill:#1f77b4;stroke:#1f77b4;\" x=\"89.889832\" xlink:href=\"#m73993b405f\" y=\"55.283839\"/>\n     <use style=\"fill:#1f77b4;stroke:#1f77b4;\" x=\"113.47877\" xlink:href=\"#m73993b405f\" y=\"88.638088\"/>\n     <use style=\"fill:#1f77b4;stroke:#1f77b4;\" x=\"118.914859\" xlink:href=\"#m73993b405f\" y=\"90.617249\"/>\n     <use style=\"fill:#1f77b4;stroke:#1f77b4;\" x=\"111.122424\" xlink:href=\"#m73993b405f\" y=\"67.536676\"/>\n     <use style=\"fill:#1f77b4;stroke:#1f77b4;\" x=\"102.963546\" xlink:href=\"#m73993b405f\" y=\"67.333054\"/>\n     <use style=\"fill:#1f77b4;stroke:#1f77b4;\" x=\"125.852062\" xlink:href=\"#m73993b405f\" y=\"84.954556\"/>\n     <use style=\"fill:#1f77b4;stroke:#1f77b4;\" x=\"143.609679\" xlink:href=\"#m73993b405f\" y=\"108.587261\"/>\n     <use style=\"fill:#1f77b4;stroke:#1f77b4;\" x=\"129.038059\" xlink:href=\"#m73993b405f\" y=\"91.221576\"/>\n     <use style=\"fill:#1f77b4;stroke:#1f77b4;\" x=\"166.729397\" xlink:href=\"#m73993b405f\" y=\"115.026524\"/>\n     <use style=\"fill:#1f77b4;stroke:#1f77b4;\" x=\"182.128906\" xlink:href=\"#m73993b405f\" y=\"122.915831\"/>\n     <use style=\"fill:#1f77b4;stroke:#1f77b4;\" x=\"90.717731\" xlink:href=\"#m73993b405f\" y=\"72.153845\"/>\n     <use style=\"fill:#1f77b4;stroke:#1f77b4;\" x=\"117.520204\" xlink:href=\"#m73993b405f\" y=\"92.462317\"/>\n     <use style=\"fill:#1f77b4;stroke:#1f77b4;\" x=\"106.16641\" xlink:href=\"#m73993b405f\" y=\"78.004219\"/>\n     <use style=\"fill:#1f77b4;stroke:#1f77b4;\" x=\"142.325907\" xlink:href=\"#m73993b405f\" y=\"107.459767\"/>\n     <use style=\"fill:#1f77b4;stroke:#1f77b4;\" x=\"84.842855\" xlink:href=\"#m73993b405f\" y=\"62.558023\"/>\n     <use style=\"fill:#1f77b4;stroke:#1f77b4;\" x=\"166.4511\" xlink:href=\"#m73993b405f\" y=\"118.459784\"/>\n     <use style=\"fill:#1f77b4;stroke:#1f77b4;\" x=\"101.534023\" xlink:href=\"#m73993b405f\" y=\"66.702791\"/>\n     <use style=\"fill:#1f77b4;stroke:#1f77b4;\" x=\"146.577387\" xlink:href=\"#m73993b405f\" y=\"95.742554\"/>\n     <use style=\"fill:#1f77b4;stroke:#1f77b4;\" x=\"114.295079\" xlink:href=\"#m73993b405f\" y=\"85.376107\"/>\n     <use style=\"fill:#1f77b4;stroke:#1f77b4;\" x=\"90.143342\" xlink:href=\"#m73993b405f\" y=\"85.597934\"/>\n     <use style=\"fill:#1f77b4;stroke:#1f77b4;\" x=\"100.873569\" xlink:href=\"#m73993b405f\" y=\"87.114288\"/>\n     <use style=\"fill:#1f77b4;stroke:#1f77b4;\" x=\"136.248194\" xlink:href=\"#m73993b405f\" y=\"106.586281\"/>\n     <use style=\"fill:#1f77b4;stroke:#1f77b4;\" x=\"171.849373\" xlink:href=\"#m73993b405f\" y=\"122.976996\"/>\n     <use style=\"fill:#1f77b4;stroke:#1f77b4;\" x=\"134.432748\" xlink:href=\"#m73993b405f\" y=\"93.76379\"/>\n     <use style=\"fill:#1f77b4;stroke:#1f77b4;\" x=\"73.794333\" xlink:href=\"#m73993b405f\" y=\"53.459885\"/>\n     <use style=\"fill:#1f77b4;stroke:#1f77b4;\" x=\"79.987073\" xlink:href=\"#m73993b405f\" y=\"52.444534\"/>\n     <use style=\"fill:#1f77b4;stroke:#1f77b4;\" x=\"64.324885\" xlink:href=\"#m73993b405f\" y=\"43.587654\"/>\n     <use style=\"fill:#1f77b4;stroke:#1f77b4;\" x=\"123.869944\" xlink:href=\"#m73993b405f\" y=\"76.314179\"/>\n     <use style=\"fill:#1f77b4;stroke:#1f77b4;\" x=\"134.556829\" xlink:href=\"#m73993b405f\" y=\"89.668503\"/>\n     <use style=\"fill:#1f77b4;stroke:#1f77b4;\" x=\"149.744189\" xlink:href=\"#m73993b405f\" y=\"89.357839\"/>\n     <use style=\"fill:#1f77b4;stroke:#1f77b4;\" x=\"133.377021\" xlink:href=\"#m73993b405f\" y=\"93.528425\"/>\n     <use style=\"fill:#1f77b4;stroke:#1f77b4;\" x=\"95.309302\" xlink:href=\"#m73993b405f\" y=\"63.269153\"/>\n     <use style=\"fill:#1f77b4;stroke:#1f77b4;\" x=\"140.792154\" xlink:href=\"#m73993b405f\" y=\"107.576324\"/>\n     <use style=\"fill:#1f77b4;stroke:#1f77b4;\" x=\"159.7918\" xlink:href=\"#m73993b405f\" y=\"110.511799\"/>\n     <use style=\"fill:#1f77b4;stroke:#1f77b4;\" x=\"148.209774\" xlink:href=\"#m73993b405f\" y=\"95.154995\"/>\n     <use style=\"fill:#1f77b4;stroke:#1f77b4;\" x=\"108.20664\" xlink:href=\"#m73993b405f\" y=\"86.727172\"/>\n     <use style=\"fill:#1f77b4;stroke:#1f77b4;\" x=\"136.672384\" xlink:href=\"#m73993b405f\" y=\"99.320673\"/>\n     <use style=\"fill:#1f77b4;stroke:#1f77b4;\" x=\"124.304053\" xlink:href=\"#m73993b405f\" y=\"67.394941\"/>\n     <use style=\"fill:#1f77b4;stroke:#1f77b4;\" x=\"105.518984\" xlink:href=\"#m73993b405f\" y=\"62.529809\"/>\n     <use style=\"fill:#1f77b4;stroke:#1f77b4;\" x=\"96.948658\" xlink:href=\"#m73993b405f\" y=\"52.554354\"/>\n     <use style=\"fill:#1f77b4;stroke:#1f77b4;\" x=\"106.191351\" xlink:href=\"#m73993b405f\" y=\"58.953725\"/>\n     <use style=\"fill:#1f77b4;stroke:#1f77b4;\" x=\"108.202813\" xlink:href=\"#m73993b405f\" y=\"69.019554\"/>\n     <use style=\"fill:#1f77b4;stroke:#1f77b4;\" x=\"90.298762\" xlink:href=\"#m73993b405f\" y=\"66.054445\"/>\n     <use style=\"fill:#1f77b4;stroke:#1f77b4;\" x=\"136.019032\" xlink:href=\"#m73993b405f\" y=\"79.810908\"/>\n     <use style=\"fill:#1f77b4;stroke:#1f77b4;\" x=\"90.425982\" xlink:href=\"#m73993b405f\" y=\"62.818125\"/>\n     <use style=\"fill:#1f77b4;stroke:#1f77b4;\" x=\"119.273644\" xlink:href=\"#m73993b405f\" y=\"78.536531\"/>\n     <use style=\"fill:#1f77b4;stroke:#1f77b4;\" x=\"87.883139\" xlink:href=\"#m73993b405f\" y=\"34.021575\"/>\n     <use style=\"fill:#1f77b4;stroke:#1f77b4;\" x=\"142.923481\" xlink:href=\"#m73993b405f\" y=\"93.885898\"/>\n     <use style=\"fill:#1f77b4;stroke:#1f77b4;\" x=\"78.913788\" xlink:href=\"#m73993b405f\" y=\"72.780781\"/>\n     <use style=\"fill:#1f77b4;stroke:#1f77b4;\" x=\"84.447452\" xlink:href=\"#m73993b405f\" y=\"40.356488\"/>\n     <use style=\"fill:#1f77b4;stroke:#1f77b4;\" x=\"137.260942\" xlink:href=\"#m73993b405f\" y=\"86.553419\"/>\n     <use style=\"fill:#1f77b4;stroke:#1f77b4;\" x=\"80.089653\" xlink:href=\"#m73993b405f\" y=\"70.662251\"/>\n     <use style=\"fill:#1f77b4;stroke:#1f77b4;\" x=\"127.274886\" xlink:href=\"#m73993b405f\" y=\"108.938364\"/>\n     <use style=\"fill:#1f77b4;stroke:#1f77b4;\" x=\"77.817284\" xlink:href=\"#m73993b405f\" y=\"66.908789\"/>\n     <use style=\"fill:#1f77b4;stroke:#1f77b4;\" x=\"159.227905\" xlink:href=\"#m73993b405f\" y=\"108.922674\"/>\n     <use style=\"fill:#1f77b4;stroke:#1f77b4;\" x=\"118.988941\" xlink:href=\"#m73993b405f\" y=\"70.141948\"/>\n     <use style=\"fill:#1f77b4;stroke:#1f77b4;\" x=\"108.018957\" xlink:href=\"#m73993b405f\" y=\"73.699682\"/>\n     <use style=\"fill:#1f77b4;stroke:#1f77b4;\" x=\"154.770578\" xlink:href=\"#m73993b405f\" y=\"112.009622\"/>\n     <use style=\"fill:#1f77b4;stroke:#1f77b4;\" x=\"176.802278\" xlink:href=\"#m73993b405f\" y=\"97.225312\"/>\n     <use style=\"fill:#1f77b4;stroke:#1f77b4;\" x=\"117.971982\" xlink:href=\"#m73993b405f\" y=\"87.692423\"/>\n     <use style=\"fill:#1f77b4;stroke:#1f77b4;\" x=\"117.925938\" xlink:href=\"#m73993b405f\" y=\"95.149651\"/>\n     <use style=\"fill:#1f77b4;stroke:#1f77b4;\" x=\"112.141929\" xlink:href=\"#m73993b405f\" y=\"83.88831\"/>\n     <use style=\"fill:#1f77b4;stroke:#1f77b4;\" x=\"79.12164\" xlink:href=\"#m73993b405f\" y=\"60.642147\"/>\n     <use style=\"fill:#1f77b4;stroke:#1f77b4;\" x=\"199.581615\" xlink:href=\"#m73993b405f\" y=\"135.98175\"/>\n     <use style=\"fill:#1f77b4;stroke:#1f77b4;\" x=\"165.662424\" xlink:href=\"#m73993b405f\" y=\"101.746625\"/>\n     <use style=\"fill:#1f77b4;stroke:#1f77b4;\" x=\"91.904115\" xlink:href=\"#m73993b405f\" y=\"73.087414\"/>\n     <use style=\"fill:#1f77b4;stroke:#1f77b4;\" x=\"78.92644\" xlink:href=\"#m73993b405f\" y=\"51.757859\"/>\n     <use style=\"fill:#1f77b4;stroke:#1f77b4;\" x=\"139.940854\" xlink:href=\"#m73993b405f\" y=\"92.240494\"/>\n     <use style=\"fill:#1f77b4;stroke:#1f77b4;\" x=\"121.18534\" xlink:href=\"#m73993b405f\" y=\"80.238809\"/>\n     <use style=\"fill:#1f77b4;stroke:#1f77b4;\" x=\"82.386911\" xlink:href=\"#m73993b405f\" y=\"50.499539\"/>\n     <use style=\"fill:#1f77b4;stroke:#1f77b4;\" x=\"134.06355\" xlink:href=\"#m73993b405f\" y=\"94.095886\"/>\n     <use style=\"fill:#1f77b4;stroke:#1f77b4;\" x=\"111.800827\" xlink:href=\"#m73993b405f\" y=\"73.311532\"/>\n     <use style=\"fill:#1f77b4;stroke:#1f77b4;\" x=\"165.538131\" xlink:href=\"#m73993b405f\" y=\"119.946398\"/>\n     <use style=\"fill:#1f77b4;stroke:#1f77b4;\" x=\"100.417884\" xlink:href=\"#m73993b405f\" y=\"75.760992\"/>\n     <use style=\"fill:#1f77b4;stroke:#1f77b4;\" x=\"113.853437\" xlink:href=\"#m73993b405f\" y=\"67.318319\"/>\n     <use style=\"fill:#1f77b4;stroke:#1f77b4;\" x=\"134.725825\" xlink:href=\"#m73993b405f\" y=\"102.904308\"/>\n     <use style=\"fill:#1f77b4;stroke:#1f77b4;\" x=\"163.430188\" xlink:href=\"#m73993b405f\" y=\"91.798894\"/>\n     <use style=\"fill:#1f77b4;stroke:#1f77b4;\" x=\"122.047864\" xlink:href=\"#m73993b405f\" y=\"84.928635\"/>\n     <use style=\"fill:#1f77b4;stroke:#1f77b4;\" x=\"122.546867\" xlink:href=\"#m73993b405f\" y=\"73.646242\"/>\n     <use style=\"fill:#1f77b4;stroke:#1f77b4;\" x=\"103.862337\" xlink:href=\"#m73993b405f\" y=\"82.537259\"/>\n     <use style=\"fill:#1f77b4;stroke:#1f77b4;\" x=\"173.686349\" xlink:href=\"#m73993b405f\" y=\"105.80428\"/>\n     <use style=\"fill:#1f77b4;stroke:#1f77b4;\" x=\"52.142347\" xlink:href=\"#m73993b405f\" y=\"29.979269\"/>\n     <use style=\"fill:#1f77b4;stroke:#1f77b4;\" x=\"122.409938\" xlink:href=\"#m73993b405f\" y=\"94.021917\"/>\n     <use style=\"fill:#1f77b4;stroke:#1f77b4;\" x=\"120.650328\" xlink:href=\"#m73993b405f\" y=\"79.112533\"/>\n     <use style=\"fill:#1f77b4;stroke:#1f77b4;\" x=\"147.75452\" xlink:href=\"#m73993b405f\" y=\"89.502707\"/>\n     <use style=\"fill:#1f77b4;stroke:#1f77b4;\" x=\"136.208054\" xlink:href=\"#m73993b405f\" y=\"91.254188\"/>\n     <use style=\"fill:#1f77b4;stroke:#1f77b4;\" x=\"101.643383\" xlink:href=\"#m73993b405f\" y=\"88.106507\"/>\n     <use style=\"fill:#1f77b4;stroke:#1f77b4;\" x=\"104.881364\" xlink:href=\"#m73993b405f\" y=\"74.860938\"/>\n     <use style=\"fill:#1f77b4;stroke:#1f77b4;\" x=\"85.091467\" xlink:href=\"#m73993b405f\" y=\"59.093002\"/>\n     <use style=\"fill:#1f77b4;stroke:#1f77b4;\" x=\"104.223825\" xlink:href=\"#m73993b405f\" y=\"74.432752\"/>\n     <use style=\"fill:#1f77b4;stroke:#1f77b4;\" x=\"123.015403\" xlink:href=\"#m73993b405f\" y=\"85.481793\"/>\n     <use style=\"fill:#1f77b4;stroke:#1f77b4;\" x=\"128.720976\" xlink:href=\"#m73993b405f\" y=\"95.145696\"/>\n     <use style=\"fill:#1f77b4;stroke:#1f77b4;\" x=\"74.154622\" xlink:href=\"#m73993b405f\" y=\"32.008114\"/>\n     <use style=\"fill:#1f77b4;stroke:#1f77b4;\" x=\"90.002026\" xlink:href=\"#m73993b405f\" y=\"53.366001\"/>\n     <use style=\"fill:#1f77b4;stroke:#1f77b4;\" x=\"160.178188\" xlink:href=\"#m73993b405f\" y=\"118.612658\"/>\n     <use style=\"fill:#1f77b4;stroke:#1f77b4;\" x=\"102.006863\" xlink:href=\"#m73993b405f\" y=\"68.217869\"/>\n     <use style=\"fill:#1f77b4;stroke:#1f77b4;\" x=\"112.546156\" xlink:href=\"#m73993b405f\" y=\"72.237334\"/>\n     <use style=\"fill:#1f77b4;stroke:#1f77b4;\" x=\"141.3412\" xlink:href=\"#m73993b405f\" y=\"94.59206\"/>\n     <use style=\"fill:#1f77b4;stroke:#1f77b4;\" x=\"78.85447\" xlink:href=\"#m73993b405f\" y=\"52.086173\"/>\n     <use style=\"fill:#1f77b4;stroke:#1f77b4;\" x=\"54.962298\" xlink:href=\"#m73993b405f\" y=\"33.773652\"/>\n     <use style=\"fill:#1f77b4;stroke:#1f77b4;\" x=\"104.839455\" xlink:href=\"#m73993b405f\" y=\"60.314469\"/>\n     <use style=\"fill:#1f77b4;stroke:#1f77b4;\" x=\"98.399813\" xlink:href=\"#m73993b405f\" y=\"44.040148\"/>\n     <use style=\"fill:#1f77b4;stroke:#1f77b4;\" x=\"123.351386\" xlink:href=\"#m73993b405f\" y=\"76.27463\"/>\n     <use style=\"fill:#1f77b4;stroke:#1f77b4;\" x=\"83.05452\" xlink:href=\"#m73993b405f\" y=\"58.233567\"/>\n     <use style=\"fill:#1f77b4;stroke:#1f77b4;\" x=\"150.012251\" xlink:href=\"#m73993b405f\" y=\"118.9973\"/>\n     <use style=\"fill:#1f77b4;stroke:#1f77b4;\" x=\"117.063268\" xlink:href=\"#m73993b405f\" y=\"78.34019\"/>\n     <use style=\"fill:#1f77b4;stroke:#1f77b4;\" x=\"134.50436\" xlink:href=\"#m73993b405f\" y=\"81.180483\"/>\n     <use style=\"fill:#1f77b4;stroke:#1f77b4;\" x=\"121.260401\" xlink:href=\"#m73993b405f\" y=\"83.935564\"/>\n     <use style=\"fill:#1f77b4;stroke:#1f77b4;\" x=\"124.25919\" xlink:href=\"#m73993b405f\" y=\"72.912128\"/>\n     <use style=\"fill:#1f77b4;stroke:#1f77b4;\" x=\"163.820629\" xlink:href=\"#m73993b405f\" y=\"100.08087\"/>\n     <use style=\"fill:#1f77b4;stroke:#1f77b4;\" x=\"78.932275\" xlink:href=\"#m73993b405f\" y=\"63.345407\"/>\n     <use style=\"fill:#1f77b4;stroke:#1f77b4;\" x=\"137.162607\" xlink:href=\"#m73993b405f\" y=\"87.175838\"/>\n     <use style=\"fill:#1f77b4;stroke:#1f77b4;\" x=\"100.123907\" xlink:href=\"#m73993b405f\" y=\"62.792773\"/>\n     <use style=\"fill:#1f77b4;stroke:#1f77b4;\" x=\"105.469688\" xlink:href=\"#m73993b405f\" y=\"57.261021\"/>\n     <use style=\"fill:#1f77b4;stroke:#1f77b4;\" x=\"100.099504\" xlink:href=\"#m73993b405f\" y=\"63.615125\"/>\n     <use style=\"fill:#1f77b4;stroke:#1f77b4;\" x=\"91.387351\" xlink:href=\"#m73993b405f\" y=\"64.847286\"/>\n     <use style=\"fill:#1f77b4;stroke:#1f77b4;\" x=\"106.765034\" xlink:href=\"#m73993b405f\" y=\"71.797585\"/>\n     <use style=\"fill:#1f77b4;stroke:#1f77b4;\" x=\"123.083933\" xlink:href=\"#m73993b405f\" y=\"75.093949\"/>\n     <use style=\"fill:#1f77b4;stroke:#1f77b4;\" x=\"92.238635\" xlink:href=\"#m73993b405f\" y=\"63.37082\"/>\n     <use style=\"fill:#1f77b4;stroke:#1f77b4;\" x=\"128.138667\" xlink:href=\"#m73993b405f\" y=\"101.254242\"/>\n     <use style=\"fill:#1f77b4;stroke:#1f77b4;\" x=\"133.04941\" xlink:href=\"#m73993b405f\" y=\"73.084212\"/>\n     <use style=\"fill:#1f77b4;stroke:#1f77b4;\" x=\"127.313308\" xlink:href=\"#m73993b405f\" y=\"68.863608\"/>\n     <use style=\"fill:#1f77b4;stroke:#1f77b4;\" x=\"144.126457\" xlink:href=\"#m73993b405f\" y=\"99.966449\"/>\n     <use style=\"fill:#1f77b4;stroke:#1f77b4;\" x=\"122.175605\" xlink:href=\"#m73993b405f\" y=\"83.37676\"/>\n     <use style=\"fill:#1f77b4;stroke:#1f77b4;\" x=\"78.235537\" xlink:href=\"#m73993b405f\" y=\"47.451451\"/>\n     <use style=\"fill:#1f77b4;stroke:#1f77b4;\" x=\"161.095455\" xlink:href=\"#m73993b405f\" y=\"110.888006\"/>\n     <use style=\"fill:#1f77b4;stroke:#1f77b4;\" x=\"93.901703\" xlink:href=\"#m73993b405f\" y=\"88.910237\"/>\n     <use style=\"fill:#1f77b4;stroke:#1f77b4;\" x=\"119.205895\" xlink:href=\"#m73993b405f\" y=\"75.958883\"/>\n     <use style=\"fill:#1f77b4;stroke:#1f77b4;\" x=\"94.15011\" xlink:href=\"#m73993b405f\" y=\"65.848591\"/>\n     <use style=\"fill:#1f77b4;stroke:#1f77b4;\" x=\"137.967157\" xlink:href=\"#m73993b405f\" y=\"92.307727\"/>\n     <use style=\"fill:#1f77b4;stroke:#1f77b4;\" x=\"77.776304\" xlink:href=\"#m73993b405f\" y=\"29.664412\"/>\n     <use style=\"fill:#1f77b4;stroke:#1f77b4;\" x=\"102.552495\" xlink:href=\"#m73993b405f\" y=\"65.127766\"/>\n     <use style=\"fill:#1f77b4;stroke:#1f77b4;\" x=\"138.421355\" xlink:href=\"#m73993b405f\" y=\"66.758893\"/>\n     <use style=\"fill:#1f77b4;stroke:#1f77b4;\" x=\"113.970711\" xlink:href=\"#m73993b405f\" y=\"75.507512\"/>\n     <use style=\"fill:#1f77b4;stroke:#1f77b4;\" x=\"104.025978\" xlink:href=\"#m73993b405f\" y=\"75.542417\"/>\n     <use style=\"fill:#1f77b4;stroke:#1f77b4;\" x=\"130.393949\" xlink:href=\"#m73993b405f\" y=\"72.942281\"/>\n     <use style=\"fill:#1f77b4;stroke:#1f77b4;\" x=\"180.421841\" xlink:href=\"#m73993b405f\" y=\"127.864843\"/>\n     <use style=\"fill:#1f77b4;stroke:#1f77b4;\" x=\"144.515511\" xlink:href=\"#m73993b405f\" y=\"86.262323\"/>\n     <use style=\"fill:#1f77b4;stroke:#1f77b4;\" x=\"67.675728\" xlink:href=\"#m73993b405f\" y=\"53.16975\"/>\n     <use style=\"fill:#1f77b4;stroke:#1f77b4;\" x=\"82.993451\" xlink:href=\"#m73993b405f\" y=\"57.223049\"/>\n     <use style=\"fill:#1f77b4;stroke:#1f77b4;\" x=\"121.236936\" xlink:href=\"#m73993b405f\" y=\"76.426314\"/>\n     <use style=\"fill:#1f77b4;stroke:#1f77b4;\" x=\"97.153561\" xlink:href=\"#m73993b405f\" y=\"56.654706\"/>\n     <use style=\"fill:#1f77b4;stroke:#1f77b4;\" x=\"105.941966\" xlink:href=\"#m73993b405f\" y=\"85.454331\"/>\n     <use style=\"fill:#1f77b4;stroke:#1f77b4;\" x=\"121.897605\" xlink:href=\"#m73993b405f\" y=\"105.17594\"/>\n     <use style=\"fill:#1f77b4;stroke:#1f77b4;\" x=\"109.794587\" xlink:href=\"#m73993b405f\" y=\"52.4752\"/>\n     <use style=\"fill:#1f77b4;stroke:#1f77b4;\" x=\"96.332489\" xlink:href=\"#m73993b405f\" y=\"56.350451\"/>\n     <use style=\"fill:#1f77b4;stroke:#1f77b4;\" x=\"143.678513\" xlink:href=\"#m73993b405f\" y=\"88.685804\"/>\n     <use style=\"fill:#1f77b4;stroke:#1f77b4;\" x=\"126.301508\" xlink:href=\"#m73993b405f\" y=\"70.448972\"/>\n     <use style=\"fill:#1f77b4;stroke:#1f77b4;\" x=\"113.26108\" xlink:href=\"#m73993b405f\" y=\"68.701479\"/>\n     <use style=\"fill:#1f77b4;stroke:#1f77b4;\" x=\"127.37008\" xlink:href=\"#m73993b405f\" y=\"71.249499\"/>\n     <use style=\"fill:#1f77b4;stroke:#1f77b4;\" x=\"120.614692\" xlink:href=\"#m73993b405f\" y=\"86.028138\"/>\n     <use style=\"fill:#1f77b4;stroke:#1f77b4;\" x=\"122.589406\" xlink:href=\"#m73993b405f\" y=\"83.927625\"/>\n     <use style=\"fill:#1f77b4;stroke:#1f77b4;\" x=\"135.172365\" xlink:href=\"#m73993b405f\" y=\"91.231291\"/>\n     <use style=\"fill:#1f77b4;stroke:#1f77b4;\" x=\"108.236269\" xlink:href=\"#m73993b405f\" y=\"82.985002\"/>\n     <use style=\"fill:#1f77b4;stroke:#1f77b4;\" x=\"106.159858\" xlink:href=\"#m73993b405f\" y=\"73.522377\"/>\n     <use style=\"fill:#1f77b4;stroke:#1f77b4;\" x=\"115.925681\" xlink:href=\"#m73993b405f\" y=\"87.03665\"/>\n     <use style=\"fill:#1f77b4;stroke:#1f77b4;\" x=\"93.645789\" xlink:href=\"#m73993b405f\" y=\"64.302744\"/>\n     <use style=\"fill:#1f77b4;stroke:#1f77b4;\" x=\"117.612216\" xlink:href=\"#m73993b405f\" y=\"70.949607\"/>\n     <use style=\"fill:#1f77b4;stroke:#1f77b4;\" x=\"133.060272\" xlink:href=\"#m73993b405f\" y=\"80.053115\"/>\n     <use style=\"fill:#1f77b4;stroke:#1f77b4;\" x=\"62.463292\" xlink:href=\"#m73993b405f\" y=\"50.966661\"/>\n     <use style=\"fill:#1f77b4;stroke:#1f77b4;\" x=\"83.95413\" xlink:href=\"#m73993b405f\" y=\"71.27674\"/>\n     <use style=\"fill:#1f77b4;stroke:#1f77b4;\" x=\"110.577976\" xlink:href=\"#m73993b405f\" y=\"83.229012\"/>\n     <use style=\"fill:#1f77b4;stroke:#1f77b4;\" x=\"75.18316\" xlink:href=\"#m73993b405f\" y=\"40.370173\"/>\n     <use style=\"fill:#1f77b4;stroke:#1f77b4;\" x=\"120.10946\" xlink:href=\"#m73993b405f\" y=\"89.298285\"/>\n     <use style=\"fill:#1f77b4;stroke:#1f77b4;\" x=\"134.861254\" xlink:href=\"#m73993b405f\" y=\"83.306198\"/>\n     <use style=\"fill:#1f77b4;stroke:#1f77b4;\" x=\"117.503652\" xlink:href=\"#m73993b405f\" y=\"77.175701\"/>\n     <use style=\"fill:#1f77b4;stroke:#1f77b4;\" x=\"125.056374\" xlink:href=\"#m73993b405f\" y=\"87.735647\"/>\n     <use style=\"fill:#1f77b4;stroke:#1f77b4;\" x=\"89.617885\" xlink:href=\"#m73993b405f\" y=\"85.624551\"/>\n     <use style=\"fill:#1f77b4;stroke:#1f77b4;\" x=\"92.004125\" xlink:href=\"#m73993b405f\" y=\"55.749855\"/>\n     <use style=\"fill:#1f77b4;stroke:#1f77b4;\" x=\"125.60121\" xlink:href=\"#m73993b405f\" y=\"93.552176\"/>\n     <use style=\"fill:#1f77b4;stroke:#1f77b4;\" x=\"152.088774\" xlink:href=\"#m73993b405f\" y=\"93.904146\"/>\n     <use style=\"fill:#1f77b4;stroke:#1f77b4;\" x=\"144.203499\" xlink:href=\"#m73993b405f\" y=\"128.468633\"/>\n     <use style=\"fill:#1f77b4;stroke:#1f77b4;\" x=\"56.689465\" xlink:href=\"#m73993b405f\" y=\"45.239802\"/>\n     <use style=\"fill:#1f77b4;stroke:#1f77b4;\" x=\"109.674018\" xlink:href=\"#m73993b405f\" y=\"82.077157\"/>\n     <use style=\"fill:#1f77b4;stroke:#1f77b4;\" x=\"119.614251\" xlink:href=\"#m73993b405f\" y=\"85.431768\"/>\n     <use style=\"fill:#1f77b4;stroke:#1f77b4;\" x=\"84.703875\" xlink:href=\"#m73993b405f\" y=\"58.39365\"/>\n     <use style=\"fill:#1f77b4;stroke:#1f77b4;\" x=\"148.243928\" xlink:href=\"#m73993b405f\" y=\"96.913724\"/>\n     <use style=\"fill:#1f77b4;stroke:#1f77b4;\" x=\"131.53744\" xlink:href=\"#m73993b405f\" y=\"82.722034\"/>\n     <use style=\"fill:#1f77b4;stroke:#1f77b4;\" x=\"150.310153\" xlink:href=\"#m73993b405f\" y=\"102.393101\"/>\n     <use style=\"fill:#1f77b4;stroke:#1f77b4;\" x=\"150.318854\" xlink:href=\"#m73993b405f\" y=\"112.42341\"/>\n     <use style=\"fill:#1f77b4;stroke:#1f77b4;\" x=\"148.183291\" xlink:href=\"#m73993b405f\" y=\"80.542484\"/>\n     <use style=\"fill:#1f77b4;stroke:#1f77b4;\" x=\"95.10214\" xlink:href=\"#m73993b405f\" y=\"55.458793\"/>\n     <use style=\"fill:#1f77b4;stroke:#1f77b4;\" x=\"143.289704\" xlink:href=\"#m73993b405f\" y=\"95.044132\"/>\n     <use style=\"fill:#1f77b4;stroke:#1f77b4;\" x=\"74.205326\" xlink:href=\"#m73993b405f\" y=\"53.261697\"/>\n     <use style=\"fill:#1f77b4;stroke:#1f77b4;\" x=\"51.346065\" xlink:href=\"#m73993b405f\" y=\"32.45137\"/>\n     <use style=\"fill:#1f77b4;stroke:#1f77b4;\" x=\"141.049096\" xlink:href=\"#m73993b405f\" y=\"90.042131\"/>\n     <use style=\"fill:#1f77b4;stroke:#1f77b4;\" x=\"145.879601\" xlink:href=\"#m73993b405f\" y=\"95.800676\"/>\n     <use style=\"fill:#1f77b4;stroke:#1f77b4;\" x=\"161.78125\" xlink:href=\"#m73993b405f\" y=\"106.934874\"/>\n     <use style=\"fill:#1f77b4;stroke:#1f77b4;\" x=\"99.17563\" xlink:href=\"#m73993b405f\" y=\"84.078302\"/>\n     <use style=\"fill:#1f77b4;stroke:#1f77b4;\" x=\"156.406758\" xlink:href=\"#m73993b405f\" y=\"106.367079\"/>\n     <use style=\"fill:#1f77b4;stroke:#1f77b4;\" x=\"83.297932\" xlink:href=\"#m73993b405f\" y=\"77.792126\"/>\n     <use style=\"fill:#1f77b4;stroke:#1f77b4;\" x=\"130.785191\" xlink:href=\"#m73993b405f\" y=\"77.90562\"/>\n     <use style=\"fill:#1f77b4;stroke:#1f77b4;\" x=\"162.046319\" xlink:href=\"#m73993b405f\" y=\"98.957762\"/>\n     <use style=\"fill:#1f77b4;stroke:#1f77b4;\" x=\"174.501685\" xlink:href=\"#m73993b405f\" y=\"107.557628\"/>\n     <use style=\"fill:#1f77b4;stroke:#1f77b4;\" x=\"126.130837\" xlink:href=\"#m73993b405f\" y=\"84.988311\"/>\n     <use style=\"fill:#1f77b4;stroke:#1f77b4;\" x=\"124.285866\" xlink:href=\"#m73993b405f\" y=\"82.946996\"/>\n     <use style=\"fill:#1f77b4;stroke:#1f77b4;\" x=\"55.28462\" xlink:href=\"#m73993b405f\" y=\"34.78815\"/>\n     <use style=\"fill:#1f77b4;stroke:#1f77b4;\" x=\"78.643445\" xlink:href=\"#m73993b405f\" y=\"47.437821\"/>\n     <use style=\"fill:#1f77b4;stroke:#1f77b4;\" x=\"73.890658\" xlink:href=\"#m73993b405f\" y=\"44.936495\"/>\n     <use style=\"fill:#1f77b4;stroke:#1f77b4;\" x=\"148.597555\" xlink:href=\"#m73993b405f\" y=\"73.974062\"/>\n     <use style=\"fill:#1f77b4;stroke:#1f77b4;\" x=\"127.28864\" xlink:href=\"#m73993b405f\" y=\"93.889759\"/>\n     <use style=\"fill:#1f77b4;stroke:#1f77b4;\" x=\"145.247522\" xlink:href=\"#m73993b405f\" y=\"87.512454\"/>\n     <use style=\"fill:#1f77b4;stroke:#1f77b4;\" x=\"52.725634\" xlink:href=\"#m73993b405f\" y=\"49.689946\"/>\n     <use style=\"fill:#1f77b4;stroke:#1f77b4;\" x=\"99.523699\" xlink:href=\"#m73993b405f\" y=\"55.56153\"/>\n     <use style=\"fill:#1f77b4;stroke:#1f77b4;\" x=\"47.016729\" xlink:href=\"#m73993b405f\" y=\"35.117068\"/>\n     <use style=\"fill:#1f77b4;stroke:#1f77b4;\" x=\"109.1228\" xlink:href=\"#m73993b405f\" y=\"69.984661\"/>\n     <use style=\"fill:#1f77b4;stroke:#1f77b4;\" x=\"56.99735\" xlink:href=\"#m73993b405f\" y=\"13.377273\"/>\n     <use style=\"fill:#1f77b4;stroke:#1f77b4;\" x=\"85.891122\" xlink:href=\"#m73993b405f\" y=\"54.451673\"/>\n     <use style=\"fill:#1f77b4;stroke:#1f77b4;\" x=\"115.717424\" xlink:href=\"#m73993b405f\" y=\"72.175077\"/>\n     <use style=\"fill:#1f77b4;stroke:#1f77b4;\" x=\"108.864348\" xlink:href=\"#m73993b405f\" y=\"71.883782\"/>\n     <use style=\"fill:#1f77b4;stroke:#1f77b4;\" x=\"123.994908\" xlink:href=\"#m73993b405f\" y=\"92.556711\"/>\n     <use style=\"fill:#1f77b4;stroke:#1f77b4;\" x=\"102.293353\" xlink:href=\"#m73993b405f\" y=\"64.220751\"/>\n     <use style=\"fill:#1f77b4;stroke:#1f77b4;\" x=\"132.057099\" xlink:href=\"#m73993b405f\" y=\"91.641824\"/>\n     <use style=\"fill:#1f77b4;stroke:#1f77b4;\" x=\"92.254763\" xlink:href=\"#m73993b405f\" y=\"46.80876\"/>\n     <use style=\"fill:#1f77b4;stroke:#1f77b4;\" x=\"124.149847\" xlink:href=\"#m73993b405f\" y=\"91.981271\"/>\n     <use style=\"fill:#1f77b4;stroke:#1f77b4;\" x=\"157.789552\" xlink:href=\"#m73993b405f\" y=\"106.748462\"/>\n     <use style=\"fill:#1f77b4;stroke:#1f77b4;\" x=\"107.068488\" xlink:href=\"#m73993b405f\" y=\"66.655928\"/>\n     <use style=\"fill:#1f77b4;stroke:#1f77b4;\" x=\"118.749458\" xlink:href=\"#m73993b405f\" y=\"90.967928\"/>\n     <use style=\"fill:#1f77b4;stroke:#1f77b4;\" x=\"110.570681\" xlink:href=\"#m73993b405f\" y=\"60.049745\"/>\n     <use style=\"fill:#1f77b4;stroke:#1f77b4;\" x=\"66.165595\" xlink:href=\"#m73993b405f\" y=\"40.61267\"/>\n     <use style=\"fill:#1f77b4;stroke:#1f77b4;\" x=\"87.339366\" xlink:href=\"#m73993b405f\" y=\"55.278865\"/>\n     <use style=\"fill:#1f77b4;stroke:#1f77b4;\" x=\"107.407663\" xlink:href=\"#m73993b405f\" y=\"77.295122\"/>\n     <use style=\"fill:#1f77b4;stroke:#1f77b4;\" x=\"149.06922\" xlink:href=\"#m73993b405f\" y=\"93.9985\"/>\n     <use style=\"fill:#1f77b4;stroke:#1f77b4;\" x=\"137.446373\" xlink:href=\"#m73993b405f\" y=\"86.725162\"/>\n     <use style=\"fill:#1f77b4;stroke:#1f77b4;\" x=\"114.531359\" xlink:href=\"#m73993b405f\" y=\"80.20992\"/>\n     <use style=\"fill:#1f77b4;stroke:#1f77b4;\" x=\"102.664462\" xlink:href=\"#m73993b405f\" y=\"80.763876\"/>\n     <use style=\"fill:#1f77b4;stroke:#1f77b4;\" x=\"87.873631\" xlink:href=\"#m73993b405f\" y=\"55.145391\"/>\n     <use style=\"fill:#1f77b4;stroke:#1f77b4;\" x=\"117.274968\" xlink:href=\"#m73993b405f\" y=\"80.459891\"/>\n     <use style=\"fill:#1f77b4;stroke:#1f77b4;\" x=\"96.039499\" xlink:href=\"#m73993b405f\" y=\"45.45889\"/>\n     <use style=\"fill:#1f77b4;stroke:#1f77b4;\" x=\"168.862367\" xlink:href=\"#m73993b405f\" y=\"122.811431\"/>\n     <use style=\"fill:#1f77b4;stroke:#1f77b4;\" x=\"99.798306\" xlink:href=\"#m73993b405f\" y=\"57.442603\"/>\n     <use style=\"fill:#1f77b4;stroke:#1f77b4;\" x=\"146.627956\" xlink:href=\"#m73993b405f\" y=\"91.921843\"/>\n     <use style=\"fill:#1f77b4;stroke:#1f77b4;\" x=\"93.265222\" xlink:href=\"#m73993b405f\" y=\"41.709401\"/>\n     <use style=\"fill:#1f77b4;stroke:#1f77b4;\" x=\"116.223885\" xlink:href=\"#m73993b405f\" y=\"76.099536\"/>\n     <use style=\"fill:#1f77b4;stroke:#1f77b4;\" x=\"195.813829\" xlink:href=\"#m73993b405f\" y=\"126.081931\"/>\n     <use style=\"fill:#1f77b4;stroke:#1f77b4;\" x=\"114.807557\" xlink:href=\"#m73993b405f\" y=\"82.232773\"/>\n     <use style=\"fill:#1f77b4;stroke:#1f77b4;\" x=\"139.337396\" xlink:href=\"#m73993b405f\" y=\"83.868476\"/>\n     <use style=\"fill:#1f77b4;stroke:#1f77b4;\" x=\"112.23534\" xlink:href=\"#m73993b405f\" y=\"71.640483\"/>\n     <use style=\"fill:#1f77b4;stroke:#1f77b4;\" x=\"117.017025\" xlink:href=\"#m73993b405f\" y=\"90.927331\"/>\n     <use style=\"fill:#1f77b4;stroke:#1f77b4;\" x=\"81.344293\" xlink:href=\"#m73993b405f\" y=\"46.870898\"/>\n     <use style=\"fill:#1f77b4;stroke:#1f77b4;\" x=\"143.466342\" xlink:href=\"#m73993b405f\" y=\"102.492525\"/>\n     <use style=\"fill:#1f77b4;stroke:#1f77b4;\" x=\"132.357992\" xlink:href=\"#m73993b405f\" y=\"88.012707\"/>\n     <use style=\"fill:#1f77b4;stroke:#1f77b4;\" x=\"118.841201\" xlink:href=\"#m73993b405f\" y=\"67.994601\"/>\n     <use style=\"fill:#1f77b4;stroke:#1f77b4;\" x=\"132.962311\" xlink:href=\"#m73993b405f\" y=\"96.127258\"/>\n     <use style=\"fill:#1f77b4;stroke:#1f77b4;\" x=\"128.801402\" xlink:href=\"#m73993b405f\" y=\"84.017503\"/>\n     <use style=\"fill:#1f77b4;stroke:#1f77b4;\" x=\"103.397188\" xlink:href=\"#m73993b405f\" y=\"67.233108\"/>\n     <use style=\"fill:#1f77b4;stroke:#1f77b4;\" x=\"112.149012\" xlink:href=\"#m73993b405f\" y=\"41.038818\"/>\n     <use style=\"fill:#1f77b4;stroke:#1f77b4;\" x=\"119.489272\" xlink:href=\"#m73993b405f\" y=\"62.811957\"/>\n     <use style=\"fill:#1f77b4;stroke:#1f77b4;\" x=\"115.923867\" xlink:href=\"#m73993b405f\" y=\"69.154397\"/>\n     <use style=\"fill:#1f77b4;stroke:#1f77b4;\" x=\"67.85773\" xlink:href=\"#m73993b405f\" y=\"39.736539\"/>\n     <use style=\"fill:#1f77b4;stroke:#1f77b4;\" x=\"157.84596\" xlink:href=\"#m73993b405f\" y=\"106.91037\"/>\n     <use style=\"fill:#1f77b4;stroke:#1f77b4;\" x=\"140.043518\" xlink:href=\"#m73993b405f\" y=\"85.884603\"/>\n     <use style=\"fill:#1f77b4;stroke:#1f77b4;\" x=\"134.351034\" xlink:href=\"#m73993b405f\" y=\"78.80344\"/>\n     <use style=\"fill:#1f77b4;stroke:#1f77b4;\" x=\"98.169482\" xlink:href=\"#m73993b405f\" y=\"66.253208\"/>\n     <use style=\"fill:#1f77b4;stroke:#1f77b4;\" x=\"116.388456\" xlink:href=\"#m73993b405f\" y=\"69.762496\"/>\n     <use style=\"fill:#1f77b4;stroke:#1f77b4;\" x=\"47.771848\" xlink:href=\"#m73993b405f\" y=\"18.644529\"/>\n     <use style=\"fill:#1f77b4;stroke:#1f77b4;\" x=\"136.47491\" xlink:href=\"#m73993b405f\" y=\"92.348038\"/>\n     <use style=\"fill:#1f77b4;stroke:#1f77b4;\" x=\"161.102304\" xlink:href=\"#m73993b405f\" y=\"117.438731\"/>\n     <use style=\"fill:#1f77b4;stroke:#1f77b4;\" x=\"73.785193\" xlink:href=\"#m73993b405f\" y=\"44.760496\"/>\n     <use style=\"fill:#1f77b4;stroke:#1f77b4;\" x=\"81.245876\" xlink:href=\"#m73993b405f\" y=\"63.418619\"/>\n     <use style=\"fill:#1f77b4;stroke:#1f77b4;\" x=\"105.08498\" xlink:href=\"#m73993b405f\" y=\"69.973788\"/>\n     <use style=\"fill:#1f77b4;stroke:#1f77b4;\" x=\"159.662977\" xlink:href=\"#m73993b405f\" y=\"113.380513\"/>\n     <use style=\"fill:#1f77b4;stroke:#1f77b4;\" x=\"127.243324\" xlink:href=\"#m73993b405f\" y=\"86.870374\"/>\n     <use style=\"fill:#1f77b4;stroke:#1f77b4;\" x=\"96.680452\" xlink:href=\"#m73993b405f\" y=\"67.605317\"/>\n     <use style=\"fill:#1f77b4;stroke:#1f77b4;\" x=\"132.022381\" xlink:href=\"#m73993b405f\" y=\"90.945156\"/>\n     <use style=\"fill:#1f77b4;stroke:#1f77b4;\" x=\"105.685301\" xlink:href=\"#m73993b405f\" y=\"72.139478\"/>\n     <use style=\"fill:#1f77b4;stroke:#1f77b4;\" x=\"111.959238\" xlink:href=\"#m73993b405f\" y=\"71.8368\"/>\n     <use style=\"fill:#1f77b4;stroke:#1f77b4;\" x=\"87.168219\" xlink:href=\"#m73993b405f\" y=\"62.796228\"/>\n     <use style=\"fill:#1f77b4;stroke:#1f77b4;\" x=\"110.87864\" xlink:href=\"#m73993b405f\" y=\"84.968499\"/>\n     <use style=\"fill:#1f77b4;stroke:#1f77b4;\" x=\"148.92248\" xlink:href=\"#m73993b405f\" y=\"91.202429\"/>\n     <use style=\"fill:#1f77b4;stroke:#1f77b4;\" x=\"81.634946\" xlink:href=\"#m73993b405f\" y=\"57.318742\"/>\n     <use style=\"fill:#1f77b4;stroke:#1f77b4;\" x=\"122.42005\" xlink:href=\"#m73993b405f\" y=\"72.593308\"/>\n     <use style=\"fill:#1f77b4;stroke:#1f77b4;\" x=\"101.967943\" xlink:href=\"#m73993b405f\" y=\"61.647628\"/>\n     <use style=\"fill:#1f77b4;stroke:#1f77b4;\" x=\"80.687318\" xlink:href=\"#m73993b405f\" y=\"64.213931\"/>\n     <use style=\"fill:#1f77b4;stroke:#1f77b4;\" x=\"87.541041\" xlink:href=\"#m73993b405f\" y=\"55.669976\"/>\n     <use style=\"fill:#1f77b4;stroke:#1f77b4;\" x=\"171.278633\" xlink:href=\"#m73993b405f\" y=\"110.122174\"/>\n     <use style=\"fill:#1f77b4;stroke:#1f77b4;\" x=\"104.280618\" xlink:href=\"#m73993b405f\" y=\"64.633842\"/>\n     <use style=\"fill:#1f77b4;stroke:#1f77b4;\" x=\"106.678392\" xlink:href=\"#m73993b405f\" y=\"75.327071\"/>\n     <use style=\"fill:#1f77b4;stroke:#1f77b4;\" x=\"113.821062\" xlink:href=\"#m73993b405f\" y=\"66.831273\"/>\n     <use style=\"fill:#1f77b4;stroke:#1f77b4;\" x=\"141.48762\" xlink:href=\"#m73993b405f\" y=\"102.310026\"/>\n     <use style=\"fill:#1f77b4;stroke:#1f77b4;\" x=\"116.616953\" xlink:href=\"#m73993b405f\" y=\"70.367526\"/>\n     <use style=\"fill:#1f77b4;stroke:#1f77b4;\" x=\"150.704436\" xlink:href=\"#m73993b405f\" y=\"93.8153\"/>\n     <use style=\"fill:#1f77b4;stroke:#1f77b4;\" x=\"130.329547\" xlink:href=\"#m73993b405f\" y=\"80.749084\"/>\n     <use style=\"fill:#1f77b4;stroke:#1f77b4;\" x=\"156.475823\" xlink:href=\"#m73993b405f\" y=\"110.638846\"/>\n     <use style=\"fill:#1f77b4;stroke:#1f77b4;\" x=\"114.908548\" xlink:href=\"#m73993b405f\" y=\"93.610944\"/>\n     <use style=\"fill:#1f77b4;stroke:#1f77b4;\" x=\"46.371278\" xlink:href=\"#m73993b405f\" y=\"52.356583\"/>\n     <use style=\"fill:#1f77b4;stroke:#1f77b4;\" x=\"138.258347\" xlink:href=\"#m73993b405f\" y=\"84.879954\"/>\n     <use style=\"fill:#1f77b4;stroke:#1f77b4;\" x=\"86.138449\" xlink:href=\"#m73993b405f\" y=\"48.073707\"/>\n     <use style=\"fill:#1f77b4;stroke:#1f77b4;\" x=\"101.367869\" xlink:href=\"#m73993b405f\" y=\"50.250526\"/>\n     <use style=\"fill:#1f77b4;stroke:#1f77b4;\" x=\"114.412107\" xlink:href=\"#m73993b405f\" y=\"66.977349\"/>\n     <use style=\"fill:#1f77b4;stroke:#1f77b4;\" x=\"82.419363\" xlink:href=\"#m73993b405f\" y=\"32.882106\"/>\n     <use style=\"fill:#1f77b4;stroke:#1f77b4;\" x=\"84.308705\" xlink:href=\"#m73993b405f\" y=\"50.559887\"/>\n     <use style=\"fill:#1f77b4;stroke:#1f77b4;\" x=\"128.698212\" xlink:href=\"#m73993b405f\" y=\"91.334323\"/>\n     <use style=\"fill:#1f77b4;stroke:#1f77b4;\" x=\"147.385134\" xlink:href=\"#m73993b405f\" y=\"121.415065\"/>\n     <use style=\"fill:#1f77b4;stroke:#1f77b4;\" x=\"115.821913\" xlink:href=\"#m73993b405f\" y=\"70.945583\"/>\n     <use style=\"fill:#1f77b4;stroke:#1f77b4;\" x=\"122.230227\" xlink:href=\"#m73993b405f\" y=\"67.202085\"/>\n     <use style=\"fill:#1f77b4;stroke:#1f77b4;\" x=\"98.859945\" xlink:href=\"#m73993b405f\" y=\"69.679167\"/>\n     <use style=\"fill:#1f77b4;stroke:#1f77b4;\" x=\"105.858379\" xlink:href=\"#m73993b405f\" y=\"62.623887\"/>\n     <use style=\"fill:#1f77b4;stroke:#1f77b4;\" x=\"80.785053\" xlink:href=\"#m73993b405f\" y=\"40.079927\"/>\n     <use style=\"fill:#1f77b4;stroke:#1f77b4;\" x=\"68.732273\" xlink:href=\"#m73993b405f\" y=\"44.877339\"/>\n     <use style=\"fill:#1f77b4;stroke:#1f77b4;\" x=\"183.908546\" xlink:href=\"#m73993b405f\" y=\"136.492548\"/>\n     <use style=\"fill:#1f77b4;stroke:#1f77b4;\" x=\"123.951893\" xlink:href=\"#m73993b405f\" y=\"107.639539\"/>\n     <use style=\"fill:#1f77b4;stroke:#1f77b4;\" x=\"130.338363\" xlink:href=\"#m73993b405f\" y=\"100.468297\"/>\n     <use style=\"fill:#1f77b4;stroke:#1f77b4;\" x=\"110.764289\" xlink:href=\"#m73993b405f\" y=\"74.963399\"/>\n     <use style=\"fill:#1f77b4;stroke:#1f77b4;\" x=\"140.0762\" xlink:href=\"#m73993b405f\" y=\"103.896057\"/>\n     <use style=\"fill:#1f77b4;stroke:#1f77b4;\" x=\"121.941035\" xlink:href=\"#m73993b405f\" y=\"98.578789\"/>\n     <use style=\"fill:#1f77b4;stroke:#1f77b4;\" x=\"108.438003\" xlink:href=\"#m73993b405f\" y=\"82.185881\"/>\n     <use style=\"fill:#1f77b4;stroke:#1f77b4;\" x=\"101.592886\" xlink:href=\"#m73993b405f\" y=\"81.331486\"/>\n     <use style=\"fill:#1f77b4;stroke:#1f77b4;\" x=\"146.034825\" xlink:href=\"#m73993b405f\" y=\"95.7899\"/>\n     <use style=\"fill:#1f77b4;stroke:#1f77b4;\" x=\"139.746962\" xlink:href=\"#m73993b405f\" y=\"95.365101\"/>\n     <use style=\"fill:#1f77b4;stroke:#1f77b4;\" x=\"132.486191\" xlink:href=\"#m73993b405f\" y=\"78.844039\"/>\n     <use style=\"fill:#1f77b4;stroke:#1f77b4;\" x=\"164.398863\" xlink:href=\"#m73993b405f\" y=\"117.664369\"/>\n     <use style=\"fill:#1f77b4;stroke:#1f77b4;\" x=\"133.483474\" xlink:href=\"#m73993b405f\" y=\"96.268758\"/>\n     <use style=\"fill:#1f77b4;stroke:#1f77b4;\" x=\"95.670537\" xlink:href=\"#m73993b405f\" y=\"79.999287\"/>\n     <use style=\"fill:#1f77b4;stroke:#1f77b4;\" x=\"91.149263\" xlink:href=\"#m73993b405f\" y=\"68.423124\"/>\n     <use style=\"fill:#1f77b4;stroke:#1f77b4;\" x=\"135.122593\" xlink:href=\"#m73993b405f\" y=\"84.119314\"/>\n     <use style=\"fill:#1f77b4;stroke:#1f77b4;\" x=\"105.066824\" xlink:href=\"#m73993b405f\" y=\"80.071616\"/>\n     <use style=\"fill:#1f77b4;stroke:#1f77b4;\" x=\"140.955574\" xlink:href=\"#m73993b405f\" y=\"78.034958\"/>\n     <use style=\"fill:#1f77b4;stroke:#1f77b4;\" x=\"98.619596\" xlink:href=\"#m73993b405f\" y=\"74.286174\"/>\n     <use style=\"fill:#1f77b4;stroke:#1f77b4;\" x=\"107.791202\" xlink:href=\"#m73993b405f\" y=\"70.83268\"/>\n     <use style=\"fill:#1f77b4;stroke:#1f77b4;\" x=\"117.262926\" xlink:href=\"#m73993b405f\" y=\"94.270416\"/>\n     <use style=\"fill:#1f77b4;stroke:#1f77b4;\" x=\"151.457814\" xlink:href=\"#m73993b405f\" y=\"96.444817\"/>\n     <use style=\"fill:#1f77b4;stroke:#1f77b4;\" x=\"105.709288\" xlink:href=\"#m73993b405f\" y=\"72.47374\"/>\n     <use style=\"fill:#1f77b4;stroke:#1f77b4;\" x=\"167.986099\" xlink:href=\"#m73993b405f\" y=\"125.647062\"/>\n     <use style=\"fill:#1f77b4;stroke:#1f77b4;\" x=\"103.813023\" xlink:href=\"#m73993b405f\" y=\"73.161724\"/>\n     <use style=\"fill:#1f77b4;stroke:#1f77b4;\" x=\"91.224754\" xlink:href=\"#m73993b405f\" y=\"59.645892\"/>\n     <use style=\"fill:#1f77b4;stroke:#1f77b4;\" x=\"99.348711\" xlink:href=\"#m73993b405f\" y=\"68.494368\"/>\n     <use style=\"fill:#1f77b4;stroke:#1f77b4;\" x=\"103.230215\" xlink:href=\"#m73993b405f\" y=\"59.032022\"/>\n     <use style=\"fill:#1f77b4;stroke:#1f77b4;\" x=\"114.492818\" xlink:href=\"#m73993b405f\" y=\"73.557416\"/>\n     <use style=\"fill:#1f77b4;stroke:#1f77b4;\" x=\"134.360184\" xlink:href=\"#m73993b405f\" y=\"93.563915\"/>\n     <use style=\"fill:#1f77b4;stroke:#1f77b4;\" x=\"106.263783\" xlink:href=\"#m73993b405f\" y=\"78.394517\"/>\n     <use style=\"fill:#1f77b4;stroke:#1f77b4;\" x=\"115.618192\" xlink:href=\"#m73993b405f\" y=\"88.909441\"/>\n     <use style=\"fill:#1f77b4;stroke:#1f77b4;\" x=\"93.170164\" xlink:href=\"#m73993b405f\" y=\"64.731252\"/>\n     <use style=\"fill:#1f77b4;stroke:#1f77b4;\" x=\"102.841786\" xlink:href=\"#m73993b405f\" y=\"64.780121\"/>\n     <use style=\"fill:#1f77b4;stroke:#1f77b4;\" x=\"155.91837\" xlink:href=\"#m73993b405f\" y=\"91.072878\"/>\n     <use style=\"fill:#1f77b4;stroke:#1f77b4;\" x=\"122.693556\" xlink:href=\"#m73993b405f\" y=\"92.574274\"/>\n     <use style=\"fill:#1f77b4;stroke:#1f77b4;\" x=\"89.168615\" xlink:href=\"#m73993b405f\" y=\"76.029248\"/>\n     <use style=\"fill:#1f77b4;stroke:#1f77b4;\" x=\"149.767872\" xlink:href=\"#m73993b405f\" y=\"107.082825\"/>\n     <use style=\"fill:#1f77b4;stroke:#1f77b4;\" x=\"122.156763\" xlink:href=\"#m73993b405f\" y=\"88.54751\"/>\n     <use style=\"fill:#1f77b4;stroke:#1f77b4;\" x=\"157.032676\" xlink:href=\"#m73993b405f\" y=\"127.605451\"/>\n     <use style=\"fill:#1f77b4;stroke:#1f77b4;\" x=\"76.86167\" xlink:href=\"#m73993b405f\" y=\"52.487866\"/>\n     <use style=\"fill:#1f77b4;stroke:#1f77b4;\" x=\"89.867516\" xlink:href=\"#m73993b405f\" y=\"63.478906\"/>\n     <use style=\"fill:#1f77b4;stroke:#1f77b4;\" x=\"135.319368\" xlink:href=\"#m73993b405f\" y=\"90.906313\"/>\n     <use style=\"fill:#1f77b4;stroke:#1f77b4;\" x=\"78.998446\" xlink:href=\"#m73993b405f\" y=\"59.788835\"/>\n     <use style=\"fill:#1f77b4;stroke:#1f77b4;\" x=\"112.870955\" xlink:href=\"#m73993b405f\" y=\"85.087952\"/>\n     <use style=\"fill:#1f77b4;stroke:#1f77b4;\" x=\"77.814359\" xlink:href=\"#m73993b405f\" y=\"39.094574\"/>\n     <use style=\"fill:#1f77b4;stroke:#1f77b4;\" x=\"89.774973\" xlink:href=\"#m73993b405f\" y=\"68.43435\"/>\n     <use style=\"fill:#1f77b4;stroke:#1f77b4;\" x=\"105.058164\" xlink:href=\"#m73993b405f\" y=\"89.069193\"/>\n     <use style=\"fill:#1f77b4;stroke:#1f77b4;\" x=\"99.979255\" xlink:href=\"#m73993b405f\" y=\"60.015044\"/>\n     <use style=\"fill:#1f77b4;stroke:#1f77b4;\" x=\"100.232889\" xlink:href=\"#m73993b405f\" y=\"51.473216\"/>\n     <use style=\"fill:#1f77b4;stroke:#1f77b4;\" x=\"96.077237\" xlink:href=\"#m73993b405f\" y=\"63.48257\"/>\n     <use style=\"fill:#1f77b4;stroke:#1f77b4;\" x=\"119.757747\" xlink:href=\"#m73993b405f\" y=\"79.84394\"/>\n     <use style=\"fill:#1f77b4;stroke:#1f77b4;\" x=\"97.254074\" xlink:href=\"#m73993b405f\" y=\"64.682609\"/>\n     <use style=\"fill:#1f77b4;stroke:#1f77b4;\" x=\"127.262725\" xlink:href=\"#m73993b405f\" y=\"72.096022\"/>\n     <use style=\"fill:#1f77b4;stroke:#1f77b4;\" x=\"164.636456\" xlink:href=\"#m73993b405f\" y=\"105.057124\"/>\n     <use style=\"fill:#1f77b4;stroke:#1f77b4;\" x=\"142.382333\" xlink:href=\"#m73993b405f\" y=\"93.699564\"/>\n     <use style=\"fill:#1f77b4;stroke:#1f77b4;\" x=\"132.516948\" xlink:href=\"#m73993b405f\" y=\"82.425019\"/>\n     <use style=\"fill:#1f77b4;stroke:#1f77b4;\" x=\"106.08294\" xlink:href=\"#m73993b405f\" y=\"66.068052\"/>\n     <use style=\"fill:#1f77b4;stroke:#1f77b4;\" x=\"111.33893\" xlink:href=\"#m73993b405f\" y=\"71.412292\"/>\n     <use style=\"fill:#1f77b4;stroke:#1f77b4;\" x=\"121.000175\" xlink:href=\"#m73993b405f\" y=\"81.457749\"/>\n     <use style=\"fill:#1f77b4;stroke:#1f77b4;\" x=\"131.152357\" xlink:href=\"#m73993b405f\" y=\"92.418752\"/>\n     <use style=\"fill:#1f77b4;stroke:#1f77b4;\" x=\"112.60769\" xlink:href=\"#m73993b405f\" y=\"82.681173\"/>\n     <use style=\"fill:#1f77b4;stroke:#1f77b4;\" x=\"117.251112\" xlink:href=\"#m73993b405f\" y=\"64.666995\"/>\n     <use style=\"fill:#1f77b4;stroke:#1f77b4;\" x=\"106.470745\" xlink:href=\"#m73993b405f\" y=\"68.132237\"/>\n     <use style=\"fill:#1f77b4;stroke:#1f77b4;\" x=\"118.858588\" xlink:href=\"#m73993b405f\" y=\"99.768117\"/>\n     <use style=\"fill:#1f77b4;stroke:#1f77b4;\" x=\"88.589806\" xlink:href=\"#m73993b405f\" y=\"58.055078\"/>\n     <use style=\"fill:#1f77b4;stroke:#1f77b4;\" x=\"96.624887\" xlink:href=\"#m73993b405f\" y=\"61.50811\"/>\n     <use style=\"fill:#1f77b4;stroke:#1f77b4;\" x=\"115.132402\" xlink:href=\"#m73993b405f\" y=\"69.398299\"/>\n     <use style=\"fill:#1f77b4;stroke:#1f77b4;\" x=\"99.14527\" xlink:href=\"#m73993b405f\" y=\"59.080275\"/>\n     <use style=\"fill:#1f77b4;stroke:#1f77b4;\" x=\"149.039403\" xlink:href=\"#m73993b405f\" y=\"122.098029\"/>\n     <use style=\"fill:#1f77b4;stroke:#1f77b4;\" x=\"116.436894\" xlink:href=\"#m73993b405f\" y=\"58.069686\"/>\n     <use style=\"fill:#1f77b4;stroke:#1f77b4;\" x=\"92.918767\" xlink:href=\"#m73993b405f\" y=\"44.765242\"/>\n     <use style=\"fill:#1f77b4;stroke:#1f77b4;\" x=\"84.641111\" xlink:href=\"#m73993b405f\" y=\"59.38236\"/>\n     <use style=\"fill:#1f77b4;stroke:#1f77b4;\" x=\"124.597444\" xlink:href=\"#m73993b405f\" y=\"92.823414\"/>\n     <use style=\"fill:#1f77b4;stroke:#1f77b4;\" x=\"108.088027\" xlink:href=\"#m73993b405f\" y=\"61.677224\"/>\n     <use style=\"fill:#1f77b4;stroke:#1f77b4;\" x=\"141.70656\" xlink:href=\"#m73993b405f\" y=\"90.168205\"/>\n     <use style=\"fill:#1f77b4;stroke:#1f77b4;\" x=\"139.511123\" xlink:href=\"#m73993b405f\" y=\"95.569725\"/>\n     <use style=\"fill:#1f77b4;stroke:#1f77b4;\" x=\"152.111556\" xlink:href=\"#m73993b405f\" y=\"100.861901\"/>\n     <use style=\"fill:#1f77b4;stroke:#1f77b4;\" x=\"146.27107\" xlink:href=\"#m73993b405f\" y=\"94.201656\"/>\n     <use style=\"fill:#1f77b4;stroke:#1f77b4;\" x=\"102.928238\" xlink:href=\"#m73993b405f\" y=\"71.947581\"/>\n     <use style=\"fill:#1f77b4;stroke:#1f77b4;\" x=\"88.812627\" xlink:href=\"#m73993b405f\" y=\"38.725204\"/>\n     <use style=\"fill:#1f77b4;stroke:#1f77b4;\" x=\"109.035044\" xlink:href=\"#m73993b405f\" y=\"82.57284\"/>\n     <use style=\"fill:#1f77b4;stroke:#1f77b4;\" x=\"161.852495\" xlink:href=\"#m73993b405f\" y=\"96.974643\"/>\n     <use style=\"fill:#1f77b4;stroke:#1f77b4;\" x=\"118.767824\" xlink:href=\"#m73993b405f\" y=\"76.586704\"/>\n     <use style=\"fill:#1f77b4;stroke:#1f77b4;\" x=\"137.180411\" xlink:href=\"#m73993b405f\" y=\"82.079523\"/>\n     <use style=\"fill:#1f77b4;stroke:#1f77b4;\" x=\"87.3618\" xlink:href=\"#m73993b405f\" y=\"61.338571\"/>\n     <use style=\"fill:#1f77b4;stroke:#1f77b4;\" x=\"97.265189\" xlink:href=\"#m73993b405f\" y=\"72.500119\"/>\n     <use style=\"fill:#1f77b4;stroke:#1f77b4;\" x=\"130.019092\" xlink:href=\"#m73993b405f\" y=\"83.362338\"/>\n     <use style=\"fill:#1f77b4;stroke:#1f77b4;\" x=\"150.560335\" xlink:href=\"#m73993b405f\" y=\"98.092279\"/>\n     <use style=\"fill:#1f77b4;stroke:#1f77b4;\" x=\"111.496477\" xlink:href=\"#m73993b405f\" y=\"72.952754\"/>\n     <use style=\"fill:#1f77b4;stroke:#1f77b4;\" x=\"117.795153\" xlink:href=\"#m73993b405f\" y=\"75.856613\"/>\n     <use style=\"fill:#1f77b4;stroke:#1f77b4;\" x=\"123.124589\" xlink:href=\"#m73993b405f\" y=\"86.335493\"/>\n     <use style=\"fill:#1f77b4;stroke:#1f77b4;\" x=\"152.971071\" xlink:href=\"#m73993b405f\" y=\"109.905379\"/>\n     <use style=\"fill:#1f77b4;stroke:#1f77b4;\" x=\"75.045344\" xlink:href=\"#m73993b405f\" y=\"50.588915\"/>\n     <use style=\"fill:#1f77b4;stroke:#1f77b4;\" x=\"152.428459\" xlink:href=\"#m73993b405f\" y=\"101.305941\"/>\n     <use style=\"fill:#1f77b4;stroke:#1f77b4;\" x=\"134.841924\" xlink:href=\"#m73993b405f\" y=\"96.040281\"/>\n     <use style=\"fill:#1f77b4;stroke:#1f77b4;\" x=\"165.053844\" xlink:href=\"#m73993b405f\" y=\"135.531865\"/>\n     <use style=\"fill:#1f77b4;stroke:#1f77b4;\" x=\"118.033298\" xlink:href=\"#m73993b405f\" y=\"89.052973\"/>\n     <use style=\"fill:#1f77b4;stroke:#1f77b4;\" x=\"124.435363\" xlink:href=\"#m73993b405f\" y=\"91.622476\"/>\n     <use style=\"fill:#1f77b4;stroke:#1f77b4;\" x=\"104.064576\" xlink:href=\"#m73993b405f\" y=\"67.537396\"/>\n     <use style=\"fill:#1f77b4;stroke:#1f77b4;\" x=\"125.392161\" xlink:href=\"#m73993b405f\" y=\"89.136794\"/>\n     <use style=\"fill:#1f77b4;stroke:#1f77b4;\" x=\"113.633405\" xlink:href=\"#m73993b405f\" y=\"82.455112\"/>\n     <use style=\"fill:#1f77b4;stroke:#1f77b4;\" x=\"109.132808\" xlink:href=\"#m73993b405f\" y=\"84.307604\"/>\n     <use style=\"fill:#1f77b4;stroke:#1f77b4;\" x=\"77.798285\" xlink:href=\"#m73993b405f\" y=\"44.077299\"/>\n     <use style=\"fill:#1f77b4;stroke:#1f77b4;\" x=\"140.288402\" xlink:href=\"#m73993b405f\" y=\"101.415191\"/>\n     <use style=\"fill:#1f77b4;stroke:#1f77b4;\" x=\"120.944651\" xlink:href=\"#m73993b405f\" y=\"81.609414\"/>\n     <use style=\"fill:#1f77b4;stroke:#1f77b4;\" x=\"85.608094\" xlink:href=\"#m73993b405f\" y=\"36.668006\"/>\n     <use style=\"fill:#1f77b4;stroke:#1f77b4;\" x=\"69.155296\" xlink:href=\"#m73993b405f\" y=\"44.269452\"/>\n     <use style=\"fill:#1f77b4;stroke:#1f77b4;\" x=\"91.325872\" xlink:href=\"#m73993b405f\" y=\"66.965259\"/>\n     <use style=\"fill:#1f77b4;stroke:#1f77b4;\" x=\"114.334222\" xlink:href=\"#m73993b405f\" y=\"88.30383\"/>\n     <use style=\"fill:#1f77b4;stroke:#1f77b4;\" x=\"119.492073\" xlink:href=\"#m73993b405f\" y=\"60.806794\"/>\n     <use style=\"fill:#1f77b4;stroke:#1f77b4;\" x=\"126.207912\" xlink:href=\"#m73993b405f\" y=\"81.956336\"/>\n     <use style=\"fill:#1f77b4;stroke:#1f77b4;\" x=\"146.368742\" xlink:href=\"#m73993b405f\" y=\"93.292059\"/>\n     <use style=\"fill:#1f77b4;stroke:#1f77b4;\" x=\"96.603848\" xlink:href=\"#m73993b405f\" y=\"74.177264\"/>\n     <use style=\"fill:#1f77b4;stroke:#1f77b4;\" x=\"87.885905\" xlink:href=\"#m73993b405f\" y=\"67.374763\"/>\n     <use style=\"fill:#1f77b4;stroke:#1f77b4;\" x=\"166.772721\" xlink:href=\"#m73993b405f\" y=\"102.920147\"/>\n     <use style=\"fill:#1f77b4;stroke:#1f77b4;\" x=\"154.119088\" xlink:href=\"#m73993b405f\" y=\"117.993824\"/>\n     <use style=\"fill:#1f77b4;stroke:#1f77b4;\" x=\"58.997919\" xlink:href=\"#m73993b405f\" y=\"50.399819\"/>\n     <use style=\"fill:#1f77b4;stroke:#1f77b4;\" x=\"140.009507\" xlink:href=\"#m73993b405f\" y=\"95.849382\"/>\n     <use style=\"fill:#1f77b4;stroke:#1f77b4;\" x=\"173.334168\" xlink:href=\"#m73993b405f\" y=\"96.117701\"/>\n     <use style=\"fill:#1f77b4;stroke:#1f77b4;\" x=\"139.500221\" xlink:href=\"#m73993b405f\" y=\"82.759463\"/>\n     <use style=\"fill:#1f77b4;stroke:#1f77b4;\" x=\"128.010077\" xlink:href=\"#m73993b405f\" y=\"89.522006\"/>\n     <use style=\"fill:#1f77b4;stroke:#1f77b4;\" x=\"82.373109\" xlink:href=\"#m73993b405f\" y=\"51.601218\"/>\n     <use style=\"fill:#1f77b4;stroke:#1f77b4;\" x=\"137.51313\" xlink:href=\"#m73993b405f\" y=\"81.182767\"/>\n     <use style=\"fill:#1f77b4;stroke:#1f77b4;\" x=\"148.857264\" xlink:href=\"#m73993b405f\" y=\"116.732814\"/>\n     <use style=\"fill:#1f77b4;stroke:#1f77b4;\" x=\"96.028011\" xlink:href=\"#m73993b405f\" y=\"63.545209\"/>\n     <use style=\"fill:#1f77b4;stroke:#1f77b4;\" x=\"91.986064\" xlink:href=\"#m73993b405f\" y=\"71.956264\"/>\n     <use style=\"fill:#1f77b4;stroke:#1f77b4;\" x=\"101.2913\" xlink:href=\"#m73993b405f\" y=\"63.389827\"/>\n     <use style=\"fill:#1f77b4;stroke:#1f77b4;\" x=\"181.252815\" xlink:href=\"#m73993b405f\" y=\"114.100785\"/>\n     <use style=\"fill:#1f77b4;stroke:#1f77b4;\" x=\"145.427199\" xlink:href=\"#m73993b405f\" y=\"107.121372\"/>\n     <use style=\"fill:#1f77b4;stroke:#1f77b4;\" x=\"92.234292\" xlink:href=\"#m73993b405f\" y=\"63.330067\"/>\n     <use style=\"fill:#1f77b4;stroke:#1f77b4;\" x=\"149.045032\" xlink:href=\"#m73993b405f\" y=\"88.104585\"/>\n     <use style=\"fill:#1f77b4;stroke:#1f77b4;\" x=\"77.931131\" xlink:href=\"#m73993b405f\" y=\"55.928506\"/>\n     <use style=\"fill:#1f77b4;stroke:#1f77b4;\" x=\"95.359459\" xlink:href=\"#m73993b405f\" y=\"82.950157\"/>\n     <use style=\"fill:#1f77b4;stroke:#1f77b4;\" x=\"114.917229\" xlink:href=\"#m73993b405f\" y=\"82.051075\"/>\n     <use style=\"fill:#1f77b4;stroke:#1f77b4;\" x=\"140.86512\" xlink:href=\"#m73993b405f\" y=\"76.306363\"/>\n     <use style=\"fill:#1f77b4;stroke:#1f77b4;\" x=\"103.811628\" xlink:href=\"#m73993b405f\" y=\"77.98322\"/>\n     <use style=\"fill:#1f77b4;stroke:#1f77b4;\" x=\"113.59295\" xlink:href=\"#m73993b405f\" y=\"80.086743\"/>\n     <use style=\"fill:#1f77b4;stroke:#1f77b4;\" x=\"171.588078\" xlink:href=\"#m73993b405f\" y=\"121.456912\"/>\n     <use style=\"fill:#1f77b4;stroke:#1f77b4;\" x=\"108.575628\" xlink:href=\"#m73993b405f\" y=\"69.41931\"/>\n     <use style=\"fill:#1f77b4;stroke:#1f77b4;\" x=\"118.993968\" xlink:href=\"#m73993b405f\" y=\"75.571468\"/>\n     <use style=\"fill:#1f77b4;stroke:#1f77b4;\" x=\"140.666674\" xlink:href=\"#m73993b405f\" y=\"102.913614\"/>\n     <use style=\"fill:#1f77b4;stroke:#1f77b4;\" x=\"79.706149\" xlink:href=\"#m73993b405f\" y=\"50.146055\"/>\n     <use style=\"fill:#1f77b4;stroke:#1f77b4;\" x=\"123.147939\" xlink:href=\"#m73993b405f\" y=\"90.373087\"/>\n     <use style=\"fill:#1f77b4;stroke:#1f77b4;\" x=\"105.482525\" xlink:href=\"#m73993b405f\" y=\"79.687614\"/>\n     <use style=\"fill:#1f77b4;stroke:#1f77b4;\" x=\"60.758683\" xlink:href=\"#m73993b405f\" y=\"52.934514\"/>\n     <use style=\"fill:#1f77b4;stroke:#1f77b4;\" x=\"190.413215\" xlink:href=\"#m73993b405f\" y=\"127.25631\"/>\n     <use style=\"fill:#1f77b4;stroke:#1f77b4;\" x=\"155.341171\" xlink:href=\"#m73993b405f\" y=\"106.48026\"/>\n     <use style=\"fill:#1f77b4;stroke:#1f77b4;\" x=\"78.68783\" xlink:href=\"#m73993b405f\" y=\"57.271719\"/>\n     <use style=\"fill:#1f77b4;stroke:#1f77b4;\" x=\"57.417656\" xlink:href=\"#m73993b405f\" y=\"39.414324\"/>\n     <use style=\"fill:#1f77b4;stroke:#1f77b4;\" x=\"92.517512\" xlink:href=\"#m73993b405f\" y=\"56.809288\"/>\n     <use style=\"fill:#1f77b4;stroke:#1f77b4;\" x=\"113.547278\" xlink:href=\"#m73993b405f\" y=\"80.732897\"/>\n     <use style=\"fill:#1f77b4;stroke:#1f77b4;\" x=\"173.973049\" xlink:href=\"#m73993b405f\" y=\"108.999906\"/>\n     <use style=\"fill:#1f77b4;stroke:#1f77b4;\" x=\"92.488846\" xlink:href=\"#m73993b405f\" y=\"43.475131\"/>\n     <use style=\"fill:#1f77b4;stroke:#1f77b4;\" x=\"143.746615\" xlink:href=\"#m73993b405f\" y=\"80.677697\"/>\n     <use style=\"fill:#1f77b4;stroke:#1f77b4;\" x=\"122.717923\" xlink:href=\"#m73993b405f\" y=\"73.368244\"/>\n     <use style=\"fill:#1f77b4;stroke:#1f77b4;\" x=\"68.273829\" xlink:href=\"#m73993b405f\" y=\"33.333718\"/>\n     <use style=\"fill:#1f77b4;stroke:#1f77b4;\" x=\"97.156703\" xlink:href=\"#m73993b405f\" y=\"70.377646\"/>\n     <use style=\"fill:#1f77b4;stroke:#1f77b4;\" x=\"126.994445\" xlink:href=\"#m73993b405f\" y=\"90.949151\"/>\n     <use style=\"fill:#1f77b4;stroke:#1f77b4;\" x=\"105.800507\" xlink:href=\"#m73993b405f\" y=\"78.041816\"/>\n     <use style=\"fill:#1f77b4;stroke:#1f77b4;\" x=\"102.991566\" xlink:href=\"#m73993b405f\" y=\"55.284452\"/>\n     <use style=\"fill:#1f77b4;stroke:#1f77b4;\" x=\"143.770622\" xlink:href=\"#m73993b405f\" y=\"88.784321\"/>\n     <use style=\"fill:#1f77b4;stroke:#1f77b4;\" x=\"124.918684\" xlink:href=\"#m73993b405f\" y=\"76.708934\"/>\n     <use style=\"fill:#1f77b4;stroke:#1f77b4;\" x=\"190.111343\" xlink:href=\"#m73993b405f\" y=\"134.706924\"/>\n     <use style=\"fill:#1f77b4;stroke:#1f77b4;\" x=\"141.189349\" xlink:href=\"#m73993b405f\" y=\"104.012187\"/>\n     <use style=\"fill:#1f77b4;stroke:#1f77b4;\" x=\"113.509887\" xlink:href=\"#m73993b405f\" y=\"68.782662\"/>\n     <use style=\"fill:#1f77b4;stroke:#1f77b4;\" x=\"120.696006\" xlink:href=\"#m73993b405f\" y=\"81.921312\"/>\n     <use style=\"fill:#1f77b4;stroke:#1f77b4;\" x=\"175.378497\" xlink:href=\"#m73993b405f\" y=\"125.637337\"/>\n     <use style=\"fill:#1f77b4;stroke:#1f77b4;\" x=\"135.591912\" xlink:href=\"#m73993b405f\" y=\"94.98634\"/>\n     <use style=\"fill:#1f77b4;stroke:#1f77b4;\" x=\"145.242762\" xlink:href=\"#m73993b405f\" y=\"96.540915\"/>\n     <use style=\"fill:#1f77b4;stroke:#1f77b4;\" x=\"93.394553\" xlink:href=\"#m73993b405f\" y=\"73.982586\"/>\n     <use style=\"fill:#1f77b4;stroke:#1f77b4;\" x=\"90.379425\" xlink:href=\"#m73993b405f\" y=\"41.707722\"/>\n     <use style=\"fill:#1f77b4;stroke:#1f77b4;\" x=\"111.085303\" xlink:href=\"#m73993b405f\" y=\"84.079415\"/>\n     <use style=\"fill:#1f77b4;stroke:#1f77b4;\" x=\"127.565595\" xlink:href=\"#m73993b405f\" y=\"85.58395\"/>\n     <use style=\"fill:#1f77b4;stroke:#1f77b4;\" x=\"113.364172\" xlink:href=\"#m73993b405f\" y=\"92.117764\"/>\n     <use style=\"fill:#1f77b4;stroke:#1f77b4;\" x=\"148.943429\" xlink:href=\"#m73993b405f\" y=\"99.697256\"/>\n     <use style=\"fill:#1f77b4;stroke:#1f77b4;\" x=\"89.102369\" xlink:href=\"#m73993b405f\" y=\"56.776477\"/>\n     <use style=\"fill:#1f77b4;stroke:#1f77b4;\" x=\"126.564662\" xlink:href=\"#m73993b405f\" y=\"64.295164\"/>\n     <use style=\"fill:#1f77b4;stroke:#1f77b4;\" x=\"168.227928\" xlink:href=\"#m73993b405f\" y=\"97.512721\"/>\n     <use style=\"fill:#1f77b4;stroke:#1f77b4;\" x=\"146.047227\" xlink:href=\"#m73993b405f\" y=\"101.098123\"/>\n     <use style=\"fill:#1f77b4;stroke:#1f77b4;\" x=\"109.231224\" xlink:href=\"#m73993b405f\" y=\"68.964796\"/>\n     <use style=\"fill:#1f77b4;stroke:#1f77b4;\" x=\"104.124016\" xlink:href=\"#m73993b405f\" y=\"71.847344\"/>\n     <use style=\"fill:#1f77b4;stroke:#1f77b4;\" x=\"108.91595\" xlink:href=\"#m73993b405f\" y=\"65.559403\"/>\n     <use style=\"fill:#1f77b4;stroke:#1f77b4;\" x=\"97.195627\" xlink:href=\"#m73993b405f\" y=\"76.518188\"/>\n     <use style=\"fill:#1f77b4;stroke:#1f77b4;\" x=\"102.154206\" xlink:href=\"#m73993b405f\" y=\"72.549504\"/>\n     <use style=\"fill:#1f77b4;stroke:#1f77b4;\" x=\"121.894289\" xlink:href=\"#m73993b405f\" y=\"69.810675\"/>\n     <use style=\"fill:#1f77b4;stroke:#1f77b4;\" x=\"137.805696\" xlink:href=\"#m73993b405f\" y=\"82.838591\"/>\n     <use style=\"fill:#1f77b4;stroke:#1f77b4;\" x=\"156.835777\" xlink:href=\"#m73993b405f\" y=\"91.667918\"/>\n     <use style=\"fill:#1f77b4;stroke:#1f77b4;\" x=\"162.715105\" xlink:href=\"#m73993b405f\" y=\"99.479157\"/>\n     <use style=\"fill:#1f77b4;stroke:#1f77b4;\" x=\"158.961213\" xlink:href=\"#m73993b405f\" y=\"97.333603\"/>\n     <use style=\"fill:#1f77b4;stroke:#1f77b4;\" x=\"91.667686\" xlink:href=\"#m73993b405f\" y=\"42.261457\"/>\n     <use style=\"fill:#1f77b4;stroke:#1f77b4;\" x=\"157.873154\" xlink:href=\"#m73993b405f\" y=\"90.583301\"/>\n     <use style=\"fill:#1f77b4;stroke:#1f77b4;\" x=\"90.115021\" xlink:href=\"#m73993b405f\" y=\"69.857625\"/>\n     <use style=\"fill:#1f77b4;stroke:#1f77b4;\" x=\"154.601578\" xlink:href=\"#m73993b405f\" y=\"103.702451\"/>\n     <use style=\"fill:#1f77b4;stroke:#1f77b4;\" x=\"145.353046\" xlink:href=\"#m73993b405f\" y=\"94.462873\"/>\n     <use style=\"fill:#1f77b4;stroke:#1f77b4;\" x=\"112.857737\" xlink:href=\"#m73993b405f\" y=\"81.488093\"/>\n     <use style=\"fill:#1f77b4;stroke:#1f77b4;\" x=\"142.058909\" xlink:href=\"#m73993b405f\" y=\"100.768027\"/>\n     <use style=\"fill:#1f77b4;stroke:#1f77b4;\" x=\"144.750994\" xlink:href=\"#m73993b405f\" y=\"76.879961\"/>\n     <use style=\"fill:#1f77b4;stroke:#1f77b4;\" x=\"109.583594\" xlink:href=\"#m73993b405f\" y=\"80.018231\"/>\n     <use style=\"fill:#1f77b4;stroke:#1f77b4;\" x=\"108.79638\" xlink:href=\"#m73993b405f\" y=\"67.86673\"/>\n     <use style=\"fill:#1f77b4;stroke:#1f77b4;\" x=\"121.496608\" xlink:href=\"#m73993b405f\" y=\"70.931617\"/>\n     <use style=\"fill:#1f77b4;stroke:#1f77b4;\" x=\"168.966327\" xlink:href=\"#m73993b405f\" y=\"97.131893\"/>\n     <use style=\"fill:#1f77b4;stroke:#1f77b4;\" x=\"140.216114\" xlink:href=\"#m73993b405f\" y=\"94.390982\"/>\n     <use style=\"fill:#1f77b4;stroke:#1f77b4;\" x=\"95.775679\" xlink:href=\"#m73993b405f\" y=\"51.09872\"/>\n     <use style=\"fill:#1f77b4;stroke:#1f77b4;\" x=\"123.22985\" xlink:href=\"#m73993b405f\" y=\"58.76971\"/>\n     <use style=\"fill:#1f77b4;stroke:#1f77b4;\" x=\"128.688613\" xlink:href=\"#m73993b405f\" y=\"85.934345\"/>\n     <use style=\"fill:#1f77b4;stroke:#1f77b4;\" x=\"103.0488\" xlink:href=\"#m73993b405f\" y=\"74.811601\"/>\n     <use style=\"fill:#1f77b4;stroke:#1f77b4;\" x=\"126.566773\" xlink:href=\"#m73993b405f\" y=\"91.286655\"/>\n     <use style=\"fill:#1f77b4;stroke:#1f77b4;\" x=\"152.744155\" xlink:href=\"#m73993b405f\" y=\"116.430667\"/>\n     <use style=\"fill:#1f77b4;stroke:#1f77b4;\" x=\"147.57519\" xlink:href=\"#m73993b405f\" y=\"89.123554\"/>\n     <use style=\"fill:#1f77b4;stroke:#1f77b4;\" x=\"180.669653\" xlink:href=\"#m73993b405f\" y=\"133.343419\"/>\n     <use style=\"fill:#1f77b4;stroke:#1f77b4;\" x=\"94.046848\" xlink:href=\"#m73993b405f\" y=\"49.53283\"/>\n     <use style=\"fill:#1f77b4;stroke:#1f77b4;\" x=\"113.537053\" xlink:href=\"#m73993b405f\" y=\"69.428323\"/>\n     <use style=\"fill:#1f77b4;stroke:#1f77b4;\" x=\"131.862662\" xlink:href=\"#m73993b405f\" y=\"85.084505\"/>\n     <use style=\"fill:#1f77b4;stroke:#1f77b4;\" x=\"99.643464\" xlink:href=\"#m73993b405f\" y=\"75.184725\"/>\n     <use style=\"fill:#1f77b4;stroke:#1f77b4;\" x=\"155.733122\" xlink:href=\"#m73993b405f\" y=\"91.99013\"/>\n     <use style=\"fill:#1f77b4;stroke:#1f77b4;\" x=\"148.592536\" xlink:href=\"#m73993b405f\" y=\"96.237008\"/>\n     <use style=\"fill:#1f77b4;stroke:#1f77b4;\" x=\"134.510158\" xlink:href=\"#m73993b405f\" y=\"90.576512\"/>\n     <use style=\"fill:#1f77b4;stroke:#1f77b4;\" x=\"88.022223\" xlink:href=\"#m73993b405f\" y=\"61.02707\"/>\n     <use style=\"fill:#1f77b4;stroke:#1f77b4;\" x=\"108.540239\" xlink:href=\"#m73993b405f\" y=\"66.611422\"/>\n     <use style=\"fill:#1f77b4;stroke:#1f77b4;\" x=\"154.593425\" xlink:href=\"#m73993b405f\" y=\"106.264121\"/>\n     <use style=\"fill:#1f77b4;stroke:#1f77b4;\" x=\"119.575784\" xlink:href=\"#m73993b405f\" y=\"86.405736\"/>\n     <use style=\"fill:#1f77b4;stroke:#1f77b4;\" x=\"102.328459\" xlink:href=\"#m73993b405f\" y=\"86.994175\"/>\n     <use style=\"fill:#1f77b4;stroke:#1f77b4;\" x=\"122.639778\" xlink:href=\"#m73993b405f\" y=\"83.662715\"/>\n     <use style=\"fill:#1f77b4;stroke:#1f77b4;\" x=\"97.925058\" xlink:href=\"#m73993b405f\" y=\"72.074174\"/>\n     <use style=\"fill:#1f77b4;stroke:#1f77b4;\" x=\"63.893829\" xlink:href=\"#m73993b405f\" y=\"48.895048\"/>\n     <use style=\"fill:#1f77b4;stroke:#1f77b4;\" x=\"130.469319\" xlink:href=\"#m73993b405f\" y=\"91.549144\"/>\n     <use style=\"fill:#1f77b4;stroke:#1f77b4;\" x=\"130.858224\" xlink:href=\"#m73993b405f\" y=\"107.69188\"/>\n     <use style=\"fill:#1f77b4;stroke:#1f77b4;\" x=\"96.838425\" xlink:href=\"#m73993b405f\" y=\"78.088342\"/>\n     <use style=\"fill:#1f77b4;stroke:#1f77b4;\" x=\"123.045501\" xlink:href=\"#m73993b405f\" y=\"78.505721\"/>\n     <use style=\"fill:#1f77b4;stroke:#1f77b4;\" x=\"108.134283\" xlink:href=\"#m73993b405f\" y=\"74.508933\"/>\n     <use style=\"fill:#1f77b4;stroke:#1f77b4;\" x=\"124.260448\" xlink:href=\"#m73993b405f\" y=\"70.771263\"/>\n     <use style=\"fill:#1f77b4;stroke:#1f77b4;\" x=\"123.407412\" xlink:href=\"#m73993b405f\" y=\"86.950473\"/>\n     <use style=\"fill:#1f77b4;stroke:#1f77b4;\" x=\"92.190997\" xlink:href=\"#m73993b405f\" y=\"63.912543\"/>\n     <use style=\"fill:#1f77b4;stroke:#1f77b4;\" x=\"150.232771\" xlink:href=\"#m73993b405f\" y=\"102.380961\"/>\n     <use style=\"fill:#1f77b4;stroke:#1f77b4;\" x=\"91.96774\" xlink:href=\"#m73993b405f\" y=\"50.884267\"/>\n     <use style=\"fill:#1f77b4;stroke:#1f77b4;\" x=\"145.374893\" xlink:href=\"#m73993b405f\" y=\"93.114355\"/>\n     <use style=\"fill:#1f77b4;stroke:#1f77b4;\" x=\"133.047717\" xlink:href=\"#m73993b405f\" y=\"77.50938\"/>\n     <use style=\"fill:#1f77b4;stroke:#1f77b4;\" x=\"69.456234\" xlink:href=\"#m73993b405f\" y=\"32.134798\"/>\n     <use style=\"fill:#1f77b4;stroke:#1f77b4;\" x=\"103.272199\" xlink:href=\"#m73993b405f\" y=\"80.383656\"/>\n     <use style=\"fill:#1f77b4;stroke:#1f77b4;\" x=\"140.460669\" xlink:href=\"#m73993b405f\" y=\"97.547886\"/>\n     <use style=\"fill:#1f77b4;stroke:#1f77b4;\" x=\"173.444098\" xlink:href=\"#m73993b405f\" y=\"96.784616\"/>\n     <use style=\"fill:#1f77b4;stroke:#1f77b4;\" x=\"130.519052\" xlink:href=\"#m73993b405f\" y=\"76.857269\"/>\n     <use style=\"fill:#1f77b4;stroke:#1f77b4;\" x=\"97.62784\" xlink:href=\"#m73993b405f\" y=\"61.581477\"/>\n     <use style=\"fill:#1f77b4;stroke:#1f77b4;\" x=\"105.204454\" xlink:href=\"#m73993b405f\" y=\"44.949156\"/>\n     <use style=\"fill:#1f77b4;stroke:#1f77b4;\" x=\"109.52848\" xlink:href=\"#m73993b405f\" y=\"66.079904\"/>\n     <use style=\"fill:#1f77b4;stroke:#1f77b4;\" x=\"106.271378\" xlink:href=\"#m73993b405f\" y=\"88.265904\"/>\n     <use style=\"fill:#1f77b4;stroke:#1f77b4;\" x=\"120.696978\" xlink:href=\"#m73993b405f\" y=\"84.497093\"/>\n     <use style=\"fill:#1f77b4;stroke:#1f77b4;\" x=\"129.859444\" xlink:href=\"#m73993b405f\" y=\"85.398401\"/>\n     <use style=\"fill:#1f77b4;stroke:#1f77b4;\" x=\"175.706589\" xlink:href=\"#m73993b405f\" y=\"103.923368\"/>\n     <use style=\"fill:#1f77b4;stroke:#1f77b4;\" x=\"131.181819\" xlink:href=\"#m73993b405f\" y=\"72.828205\"/>\n     <use style=\"fill:#1f77b4;stroke:#1f77b4;\" x=\"152.543657\" xlink:href=\"#m73993b405f\" y=\"92.416368\"/>\n     <use style=\"fill:#1f77b4;stroke:#1f77b4;\" x=\"106.017591\" xlink:href=\"#m73993b405f\" y=\"64.641004\"/>\n     <use style=\"fill:#1f77b4;stroke:#1f77b4;\" x=\"131.563541\" xlink:href=\"#m73993b405f\" y=\"65.850234\"/>\n     <use style=\"fill:#1f77b4;stroke:#1f77b4;\" x=\"125.681204\" xlink:href=\"#m73993b405f\" y=\"87.833394\"/>\n     <use style=\"fill:#1f77b4;stroke:#1f77b4;\" x=\"135.514005\" xlink:href=\"#m73993b405f\" y=\"84.528443\"/>\n     <use style=\"fill:#1f77b4;stroke:#1f77b4;\" x=\"168.105445\" xlink:href=\"#m73993b405f\" y=\"111.643437\"/>\n     <use style=\"fill:#1f77b4;stroke:#1f77b4;\" x=\"102.667136\" xlink:href=\"#m73993b405f\" y=\"60.850711\"/>\n     <use style=\"fill:#1f77b4;stroke:#1f77b4;\" x=\"98.933075\" xlink:href=\"#m73993b405f\" y=\"70.57986\"/>\n     <use style=\"fill:#1f77b4;stroke:#1f77b4;\" x=\"110.362722\" xlink:href=\"#m73993b405f\" y=\"84.945595\"/>\n     <use style=\"fill:#1f77b4;stroke:#1f77b4;\" x=\"91.675764\" xlink:href=\"#m73993b405f\" y=\"50.440687\"/>\n     <use style=\"fill:#1f77b4;stroke:#1f77b4;\" x=\"147.012948\" xlink:href=\"#m73993b405f\" y=\"102.328324\"/>\n     <use style=\"fill:#1f77b4;stroke:#1f77b4;\" x=\"88.578404\" xlink:href=\"#m73993b405f\" y=\"58.68115\"/>\n     <use style=\"fill:#1f77b4;stroke:#1f77b4;\" x=\"136.556307\" xlink:href=\"#m73993b405f\" y=\"109.277108\"/>\n     <use style=\"fill:#1f77b4;stroke:#1f77b4;\" x=\"123.600854\" xlink:href=\"#m73993b405f\" y=\"78.021121\"/>\n     <use style=\"fill:#1f77b4;stroke:#1f77b4;\" x=\"122.991912\" xlink:href=\"#m73993b405f\" y=\"91.842133\"/>\n     <use style=\"fill:#1f77b4;stroke:#1f77b4;\" x=\"129.784633\" xlink:href=\"#m73993b405f\" y=\"70.521372\"/>\n     <use style=\"fill:#1f77b4;stroke:#1f77b4;\" x=\"155.334545\" xlink:href=\"#m73993b405f\" y=\"95.059745\"/>\n     <use style=\"fill:#1f77b4;stroke:#1f77b4;\" x=\"93.412342\" xlink:href=\"#m73993b405f\" y=\"70.35123\"/>\n     <use style=\"fill:#1f77b4;stroke:#1f77b4;\" x=\"97.878987\" xlink:href=\"#m73993b405f\" y=\"78.792782\"/>\n     <use style=\"fill:#1f77b4;stroke:#1f77b4;\" x=\"145.256069\" xlink:href=\"#m73993b405f\" y=\"95.25699\"/>\n     <use style=\"fill:#1f77b4;stroke:#1f77b4;\" x=\"86.564341\" xlink:href=\"#m73993b405f\" y=\"64.876819\"/>\n     <use style=\"fill:#1f77b4;stroke:#1f77b4;\" x=\"95.471887\" xlink:href=\"#m73993b405f\" y=\"68.884516\"/>\n     <use style=\"fill:#1f77b4;stroke:#1f77b4;\" x=\"118.057733\" xlink:href=\"#m73993b405f\" y=\"86.158175\"/>\n     <use style=\"fill:#1f77b4;stroke:#1f77b4;\" x=\"146.95375\" xlink:href=\"#m73993b405f\" y=\"92.347236\"/>\n     <use style=\"fill:#1f77b4;stroke:#1f77b4;\" x=\"124.061351\" xlink:href=\"#m73993b405f\" y=\"92.755093\"/>\n     <use style=\"fill:#1f77b4;stroke:#1f77b4;\" x=\"133.035815\" xlink:href=\"#m73993b405f\" y=\"97.049733\"/>\n     <use style=\"fill:#1f77b4;stroke:#1f77b4;\" x=\"75.06924\" xlink:href=\"#m73993b405f\" y=\"59.559956\"/>\n     <use style=\"fill:#1f77b4;stroke:#1f77b4;\" x=\"55.244624\" xlink:href=\"#m73993b405f\" y=\"17.473887\"/>\n     <use style=\"fill:#1f77b4;stroke:#1f77b4;\" x=\"169.231933\" xlink:href=\"#m73993b405f\" y=\"106.462546\"/>\n     <use style=\"fill:#1f77b4;stroke:#1f77b4;\" x=\"106.724855\" xlink:href=\"#m73993b405f\" y=\"68.645964\"/>\n     <use style=\"fill:#1f77b4;stroke:#1f77b4;\" x=\"100.826714\" xlink:href=\"#m73993b405f\" y=\"56.046439\"/>\n     <use style=\"fill:#1f77b4;stroke:#1f77b4;\" x=\"100.797524\" xlink:href=\"#m73993b405f\" y=\"49.871082\"/>\n     <use style=\"fill:#1f77b4;stroke:#1f77b4;\" x=\"139.59114\" xlink:href=\"#m73993b405f\" y=\"103.645272\"/>\n     <use style=\"fill:#1f77b4;stroke:#1f77b4;\" x=\"151.49839\" xlink:href=\"#m73993b405f\" y=\"86.796352\"/>\n     <use style=\"fill:#1f77b4;stroke:#1f77b4;\" x=\"104.182057\" xlink:href=\"#m73993b405f\" y=\"68.956323\"/>\n     <use style=\"fill:#1f77b4;stroke:#1f77b4;\" x=\"157.735374\" xlink:href=\"#m73993b405f\" y=\"104.760064\"/>\n     <use style=\"fill:#1f77b4;stroke:#1f77b4;\" x=\"106.083612\" xlink:href=\"#m73993b405f\" y=\"59.446572\"/>\n     <use style=\"fill:#1f77b4;stroke:#1f77b4;\" x=\"122.987695\" xlink:href=\"#m73993b405f\" y=\"94.715919\"/>\n     <use style=\"fill:#1f77b4;stroke:#1f77b4;\" x=\"123.276628\" xlink:href=\"#m73993b405f\" y=\"77.214804\"/>\n     <use style=\"fill:#1f77b4;stroke:#1f77b4;\" x=\"62.543917\" xlink:href=\"#m73993b405f\" y=\"32.790824\"/>\n     <use style=\"fill:#1f77b4;stroke:#1f77b4;\" x=\"112.047316\" xlink:href=\"#m73993b405f\" y=\"76.758553\"/>\n     <use style=\"fill:#1f77b4;stroke:#1f77b4;\" x=\"158.004836\" xlink:href=\"#m73993b405f\" y=\"99.949468\"/>\n     <use style=\"fill:#1f77b4;stroke:#1f77b4;\" x=\"158.344317\" xlink:href=\"#m73993b405f\" y=\"105.339163\"/>\n     <use style=\"fill:#1f77b4;stroke:#1f77b4;\" x=\"109.666844\" xlink:href=\"#m73993b405f\" y=\"82.666301\"/>\n     <use style=\"fill:#1f77b4;stroke:#1f77b4;\" x=\"126.165226\" xlink:href=\"#m73993b405f\" y=\"91.764085\"/>\n     <use style=\"fill:#1f77b4;stroke:#1f77b4;\" x=\"107.224988\" xlink:href=\"#m73993b405f\" y=\"57.001756\"/>\n     <use style=\"fill:#1f77b4;stroke:#1f77b4;\" x=\"91.124494\" xlink:href=\"#m73993b405f\" y=\"54.424556\"/>\n     <use style=\"fill:#1f77b4;stroke:#1f77b4;\" x=\"96.505\" xlink:href=\"#m73993b405f\" y=\"67.410365\"/>\n     <use style=\"fill:#1f77b4;stroke:#1f77b4;\" x=\"89.809099\" xlink:href=\"#m73993b405f\" y=\"52.105329\"/>\n     <use style=\"fill:#1f77b4;stroke:#1f77b4;\" x=\"92.330909\" xlink:href=\"#m73993b405f\" y=\"53.431571\"/>\n     <use style=\"fill:#1f77b4;stroke:#1f77b4;\" x=\"158.851759\" xlink:href=\"#m73993b405f\" y=\"110.791439\"/>\n     <use style=\"fill:#1f77b4;stroke:#1f77b4;\" x=\"97.409706\" xlink:href=\"#m73993b405f\" y=\"80.716772\"/>\n     <use style=\"fill:#1f77b4;stroke:#1f77b4;\" x=\"125.311372\" xlink:href=\"#m73993b405f\" y=\"91.045966\"/>\n     <use style=\"fill:#1f77b4;stroke:#1f77b4;\" x=\"100.317414\" xlink:href=\"#m73993b405f\" y=\"55.786023\"/>\n     <use style=\"fill:#1f77b4;stroke:#1f77b4;\" x=\"149.767803\" xlink:href=\"#m73993b405f\" y=\"100.735327\"/>\n     <use style=\"fill:#1f77b4;stroke:#1f77b4;\" x=\"120.140445\" xlink:href=\"#m73993b405f\" y=\"79.487649\"/>\n     <use style=\"fill:#1f77b4;stroke:#1f77b4;\" x=\"215.364915\" xlink:href=\"#m73993b405f\" y=\"136.922727\"/>\n     <use style=\"fill:#1f77b4;stroke:#1f77b4;\" x=\"54.050795\" xlink:href=\"#m73993b405f\" y=\"26.934618\"/>\n     <use style=\"fill:#1f77b4;stroke:#1f77b4;\" x=\"139.930434\" xlink:href=\"#m73993b405f\" y=\"103.851072\"/>\n     <use style=\"fill:#1f77b4;stroke:#1f77b4;\" x=\"153.684921\" xlink:href=\"#m73993b405f\" y=\"86.715016\"/>\n     <use style=\"fill:#1f77b4;stroke:#1f77b4;\" x=\"152.866297\" xlink:href=\"#m73993b405f\" y=\"89.154671\"/>\n     <use style=\"fill:#1f77b4;stroke:#1f77b4;\" x=\"120.913534\" xlink:href=\"#m73993b405f\" y=\"77.047754\"/>\n     <use style=\"fill:#1f77b4;stroke:#1f77b4;\" x=\"126.144282\" xlink:href=\"#m73993b405f\" y=\"68.855983\"/>\n     <use style=\"fill:#1f77b4;stroke:#1f77b4;\" x=\"78.469635\" xlink:href=\"#m73993b405f\" y=\"44.831477\"/>\n     <use style=\"fill:#1f77b4;stroke:#1f77b4;\" x=\"141.858414\" xlink:href=\"#m73993b405f\" y=\"76.760774\"/>\n     <use style=\"fill:#1f77b4;stroke:#1f77b4;\" x=\"115.068118\" xlink:href=\"#m73993b405f\" y=\"77.552646\"/>\n     <use style=\"fill:#1f77b4;stroke:#1f77b4;\" x=\"143.306204\" xlink:href=\"#m73993b405f\" y=\"88.258783\"/>\n     <use style=\"fill:#1f77b4;stroke:#1f77b4;\" x=\"150.442747\" xlink:href=\"#m73993b405f\" y=\"95.667513\"/>\n     <use style=\"fill:#1f77b4;stroke:#1f77b4;\" x=\"111.327944\" xlink:href=\"#m73993b405f\" y=\"83.016773\"/>\n     <use style=\"fill:#1f77b4;stroke:#1f77b4;\" x=\"94.708002\" xlink:href=\"#m73993b405f\" y=\"79.201863\"/>\n     <use style=\"fill:#1f77b4;stroke:#1f77b4;\" x=\"127.731132\" xlink:href=\"#m73993b405f\" y=\"93.701087\"/>\n     <use style=\"fill:#1f77b4;stroke:#1f77b4;\" x=\"108.913749\" xlink:href=\"#m73993b405f\" y=\"73.419917\"/>\n     <use style=\"fill:#1f77b4;stroke:#1f77b4;\" x=\"100.587559\" xlink:href=\"#m73993b405f\" y=\"62.741285\"/>\n     <use style=\"fill:#1f77b4;stroke:#1f77b4;\" x=\"125.854778\" xlink:href=\"#m73993b405f\" y=\"64.811487\"/>\n     <use style=\"fill:#1f77b4;stroke:#1f77b4;\" x=\"97.354403\" xlink:href=\"#m73993b405f\" y=\"70.164179\"/>\n     <use style=\"fill:#1f77b4;stroke:#1f77b4;\" x=\"89.349869\" xlink:href=\"#m73993b405f\" y=\"55.244761\"/>\n     <use style=\"fill:#1f77b4;stroke:#1f77b4;\" x=\"163.413226\" xlink:href=\"#m73993b405f\" y=\"99.442852\"/>\n     <use style=\"fill:#1f77b4;stroke:#1f77b4;\" x=\"103.582447\" xlink:href=\"#m73993b405f\" y=\"65.264708\"/>\n     <use style=\"fill:#1f77b4;stroke:#1f77b4;\" x=\"98.621893\" xlink:href=\"#m73993b405f\" y=\"59.397498\"/>\n     <use style=\"fill:#1f77b4;stroke:#1f77b4;\" x=\"114.246948\" xlink:href=\"#m73993b405f\" y=\"86.236247\"/>\n     <use style=\"fill:#1f77b4;stroke:#1f77b4;\" x=\"144.676898\" xlink:href=\"#m73993b405f\" y=\"104.497992\"/>\n     <use style=\"fill:#1f77b4;stroke:#1f77b4;\" x=\"142.437106\" xlink:href=\"#m73993b405f\" y=\"95.068277\"/>\n     <use style=\"fill:#1f77b4;stroke:#1f77b4;\" x=\"109.171928\" xlink:href=\"#m73993b405f\" y=\"92.83758\"/>\n     <use style=\"fill:#1f77b4;stroke:#1f77b4;\" x=\"135.213815\" xlink:href=\"#m73993b405f\" y=\"84.803834\"/>\n     <use style=\"fill:#1f77b4;stroke:#1f77b4;\" x=\"109.015535\" xlink:href=\"#m73993b405f\" y=\"69.008871\"/>\n     <use style=\"fill:#1f77b4;stroke:#1f77b4;\" x=\"134.084631\" xlink:href=\"#m73993b405f\" y=\"77.238039\"/>\n     <use style=\"fill:#1f77b4;stroke:#1f77b4;\" x=\"122.980711\" xlink:href=\"#m73993b405f\" y=\"84.82046\"/>\n     <use style=\"fill:#1f77b4;stroke:#1f77b4;\" x=\"125.216211\" xlink:href=\"#m73993b405f\" y=\"89.321611\"/>\n     <use style=\"fill:#1f77b4;stroke:#1f77b4;\" x=\"144.464104\" xlink:href=\"#m73993b405f\" y=\"97.412042\"/>\n     <use style=\"fill:#1f77b4;stroke:#1f77b4;\" x=\"148.557116\" xlink:href=\"#m73993b405f\" y=\"115.581973\"/>\n     <use style=\"fill:#1f77b4;stroke:#1f77b4;\" x=\"155.407046\" xlink:href=\"#m73993b405f\" y=\"99.399518\"/>\n     <use style=\"fill:#1f77b4;stroke:#1f77b4;\" x=\"112.336098\" xlink:href=\"#m73993b405f\" y=\"85.487636\"/>\n     <use style=\"fill:#1f77b4;stroke:#1f77b4;\" x=\"127.807977\" xlink:href=\"#m73993b405f\" y=\"84.105429\"/>\n     <use style=\"fill:#1f77b4;stroke:#1f77b4;\" x=\"161.243585\" xlink:href=\"#m73993b405f\" y=\"104.303728\"/>\n     <use style=\"fill:#1f77b4;stroke:#1f77b4;\" x=\"95.051611\" xlink:href=\"#m73993b405f\" y=\"81.342643\"/>\n     <use style=\"fill:#1f77b4;stroke:#1f77b4;\" x=\"101.469333\" xlink:href=\"#m73993b405f\" y=\"57.967147\"/>\n     <use style=\"fill:#1f77b4;stroke:#1f77b4;\" x=\"70.922066\" xlink:href=\"#m73993b405f\" y=\"67.11892\"/>\n     <use style=\"fill:#1f77b4;stroke:#1f77b4;\" x=\"139.106009\" xlink:href=\"#m73993b405f\" y=\"89.319566\"/>\n     <use style=\"fill:#1f77b4;stroke:#1f77b4;\" x=\"149.422565\" xlink:href=\"#m73993b405f\" y=\"108.814028\"/>\n     <use style=\"fill:#1f77b4;stroke:#1f77b4;\" x=\"103.826423\" xlink:href=\"#m73993b405f\" y=\"80.318352\"/>\n     <use style=\"fill:#1f77b4;stroke:#1f77b4;\" x=\"130.469279\" xlink:href=\"#m73993b405f\" y=\"84.906065\"/>\n     <use style=\"fill:#1f77b4;stroke:#1f77b4;\" x=\"101.542376\" xlink:href=\"#m73993b405f\" y=\"61.806022\"/>\n     <use style=\"fill:#1f77b4;stroke:#1f77b4;\" x=\"138.695848\" xlink:href=\"#m73993b405f\" y=\"111.39947\"/>\n     <use style=\"fill:#1f77b4;stroke:#1f77b4;\" x=\"129.953111\" xlink:href=\"#m73993b405f\" y=\"65.385148\"/>\n     <use style=\"fill:#1f77b4;stroke:#1f77b4;\" x=\"194.677017\" xlink:href=\"#m73993b405f\" y=\"118.519667\"/>\n     <use style=\"fill:#1f77b4;stroke:#1f77b4;\" x=\"137.32188\" xlink:href=\"#m73993b405f\" y=\"89.863909\"/>\n     <use style=\"fill:#1f77b4;stroke:#1f77b4;\" x=\"124.452137\" xlink:href=\"#m73993b405f\" y=\"93.838918\"/>\n     <use style=\"fill:#1f77b4;stroke:#1f77b4;\" x=\"137.782604\" xlink:href=\"#m73993b405f\" y=\"83.525953\"/>\n     <use style=\"fill:#1f77b4;stroke:#1f77b4;\" x=\"160.660026\" xlink:href=\"#m73993b405f\" y=\"113.763789\"/>\n     <use style=\"fill:#1f77b4;stroke:#1f77b4;\" x=\"137.540267\" xlink:href=\"#m73993b405f\" y=\"90.769847\"/>\n     <use style=\"fill:#1f77b4;stroke:#1f77b4;\" x=\"83.693815\" xlink:href=\"#m73993b405f\" y=\"55.912139\"/>\n     <use style=\"fill:#1f77b4;stroke:#1f77b4;\" x=\"146.613456\" xlink:href=\"#m73993b405f\" y=\"89.780118\"/>\n     <use style=\"fill:#1f77b4;stroke:#1f77b4;\" x=\"129.926711\" xlink:href=\"#m73993b405f\" y=\"90.474762\"/>\n     <use style=\"fill:#1f77b4;stroke:#1f77b4;\" x=\"94.641517\" xlink:href=\"#m73993b405f\" y=\"51.95349\"/>\n     <use style=\"fill:#1f77b4;stroke:#1f77b4;\" x=\"115.189594\" xlink:href=\"#m73993b405f\" y=\"81.80143\"/>\n     <use style=\"fill:#1f77b4;stroke:#1f77b4;\" x=\"178.834123\" xlink:href=\"#m73993b405f\" y=\"118.926685\"/>\n     <use style=\"fill:#1f77b4;stroke:#1f77b4;\" x=\"61.015543\" xlink:href=\"#m73993b405f\" y=\"54.236484\"/>\n     <use style=\"fill:#1f77b4;stroke:#1f77b4;\" x=\"114.385267\" xlink:href=\"#m73993b405f\" y=\"96.948597\"/>\n     <use style=\"fill:#1f77b4;stroke:#1f77b4;\" x=\"116.346857\" xlink:href=\"#m73993b405f\" y=\"94.614226\"/>\n     <use style=\"fill:#1f77b4;stroke:#1f77b4;\" x=\"130.444323\" xlink:href=\"#m73993b405f\" y=\"84.902931\"/>\n     <use style=\"fill:#1f77b4;stroke:#1f77b4;\" x=\"141.610283\" xlink:href=\"#m73993b405f\" y=\"91.008359\"/>\n     <use style=\"fill:#1f77b4;stroke:#1f77b4;\" x=\"140.079991\" xlink:href=\"#m73993b405f\" y=\"97.994616\"/>\n     <use style=\"fill:#1f77b4;stroke:#1f77b4;\" x=\"131.372217\" xlink:href=\"#m73993b405f\" y=\"95.879192\"/>\n     <use style=\"fill:#1f77b4;stroke:#1f77b4;\" x=\"77.519582\" xlink:href=\"#m73993b405f\" y=\"57.602797\"/>\n     <use style=\"fill:#1f77b4;stroke:#1f77b4;\" x=\"69.473596\" xlink:href=\"#m73993b405f\" y=\"49.653789\"/>\n    </g>\n   </g>\n   <g id=\"matplotlib.axis_1\">\n    <g id=\"xtick_1\">\n     <g id=\"line2d_1\">\n      <defs>\n       <path d=\"M 0 0 \nL 0 3.5 \n\" id=\"m04989f5dc1\" style=\"stroke:#000000;stroke-width:0.8;\"/>\n      </defs>\n      <g>\n       <use style=\"stroke:#000000;stroke-width:0.8;\" x=\"62.23238\" xlink:href=\"#m04989f5dc1\" y=\"143.1\"/>\n      </g>\n     </g>\n     <g id=\"text_1\">\n      <!-- −2 -->\n      <defs>\n       <path d=\"M 10.59375 35.5 \nL 73.1875 35.5 \nL 73.1875 27.203125 \nL 10.59375 27.203125 \nz\n\" id=\"DejaVuSans-8722\"/>\n       <path d=\"M 19.1875 8.296875 \nL 53.609375 8.296875 \nL 53.609375 0 \nL 7.328125 0 \nL 7.328125 8.296875 \nQ 12.9375 14.109375 22.625 23.890625 \nQ 32.328125 33.6875 34.8125 36.53125 \nQ 39.546875 41.84375 41.421875 45.53125 \nQ 43.3125 49.21875 43.3125 52.78125 \nQ 43.3125 58.59375 39.234375 62.25 \nQ 35.15625 65.921875 28.609375 65.921875 \nQ 23.96875 65.921875 18.8125 64.3125 \nQ 13.671875 62.703125 7.8125 59.421875 \nL 7.8125 69.390625 \nQ 13.765625 71.78125 18.9375 73 \nQ 24.125 74.21875 28.421875 74.21875 \nQ 39.75 74.21875 46.484375 68.546875 \nQ 53.21875 62.890625 53.21875 53.421875 \nQ 53.21875 48.921875 51.53125 44.890625 \nQ 49.859375 40.875 45.40625 35.40625 \nQ 44.1875 33.984375 37.640625 27.21875 \nQ 31.109375 20.453125 19.1875 8.296875 \nz\n\" id=\"DejaVuSans-50\"/>\n      </defs>\n      <g transform=\"translate(54.861286 157.698438)scale(0.1 -0.1)\">\n       <use xlink:href=\"#DejaVuSans-8722\"/>\n       <use x=\"83.789062\" xlink:href=\"#DejaVuSans-50\"/>\n      </g>\n     </g>\n    </g>\n    <g id=\"xtick_2\">\n     <g id=\"line2d_2\">\n      <g>\n       <use style=\"stroke:#000000;stroke-width:0.8;\" x=\"117.234213\" xlink:href=\"#m04989f5dc1\" y=\"143.1\"/>\n      </g>\n     </g>\n     <g id=\"text_2\">\n      <!-- 0 -->\n      <defs>\n       <path d=\"M 31.78125 66.40625 \nQ 24.171875 66.40625 20.328125 58.90625 \nQ 16.5 51.421875 16.5 36.375 \nQ 16.5 21.390625 20.328125 13.890625 \nQ 24.171875 6.390625 31.78125 6.390625 \nQ 39.453125 6.390625 43.28125 13.890625 \nQ 47.125 21.390625 47.125 36.375 \nQ 47.125 51.421875 43.28125 58.90625 \nQ 39.453125 66.40625 31.78125 66.40625 \nz\nM 31.78125 74.21875 \nQ 44.046875 74.21875 50.515625 64.515625 \nQ 56.984375 54.828125 56.984375 36.375 \nQ 56.984375 17.96875 50.515625 8.265625 \nQ 44.046875 -1.421875 31.78125 -1.421875 \nQ 19.53125 -1.421875 13.0625 8.265625 \nQ 6.59375 17.96875 6.59375 36.375 \nQ 6.59375 54.828125 13.0625 64.515625 \nQ 19.53125 74.21875 31.78125 74.21875 \nz\n\" id=\"DejaVuSans-48\"/>\n      </defs>\n      <g transform=\"translate(114.052963 157.698438)scale(0.1 -0.1)\">\n       <use xlink:href=\"#DejaVuSans-48\"/>\n      </g>\n     </g>\n    </g>\n    <g id=\"xtick_3\">\n     <g id=\"line2d_3\">\n      <g>\n       <use style=\"stroke:#000000;stroke-width:0.8;\" x=\"172.236047\" xlink:href=\"#m04989f5dc1\" y=\"143.1\"/>\n      </g>\n     </g>\n     <g id=\"text_3\">\n      <!-- 2 -->\n      <g transform=\"translate(169.054797 157.698438)scale(0.1 -0.1)\">\n       <use xlink:href=\"#DejaVuSans-50\"/>\n      </g>\n     </g>\n    </g>\n   </g>\n   <g id=\"matplotlib.axis_2\">\n    <g id=\"ytick_1\">\n     <g id=\"line2d_4\">\n      <defs>\n       <path d=\"M 0 0 \nL -3.5 0 \n\" id=\"m5ddf40c78d\" style=\"stroke:#000000;stroke-width:0.8;\"/>\n      </defs>\n      <g>\n       <use style=\"stroke:#000000;stroke-width:0.8;\" x=\"28.942188\" xlink:href=\"#m5ddf40c78d\" y=\"127.773857\"/>\n      </g>\n     </g>\n     <g id=\"text_4\">\n      <!-- −5 -->\n      <defs>\n       <path d=\"M 10.796875 72.90625 \nL 49.515625 72.90625 \nL 49.515625 64.59375 \nL 19.828125 64.59375 \nL 19.828125 46.734375 \nQ 21.96875 47.46875 24.109375 47.828125 \nQ 26.265625 48.1875 28.421875 48.1875 \nQ 40.625 48.1875 47.75 41.5 \nQ 54.890625 34.8125 54.890625 23.390625 \nQ 54.890625 11.625 47.5625 5.09375 \nQ 40.234375 -1.421875 26.90625 -1.421875 \nQ 22.3125 -1.421875 17.546875 -0.640625 \nQ 12.796875 0.140625 7.71875 1.703125 \nL 7.71875 11.625 \nQ 12.109375 9.234375 16.796875 8.0625 \nQ 21.484375 6.890625 26.703125 6.890625 \nQ 35.15625 6.890625 40.078125 11.328125 \nQ 45.015625 15.765625 45.015625 23.390625 \nQ 45.015625 31 40.078125 35.4375 \nQ 35.15625 39.890625 26.703125 39.890625 \nQ 22.75 39.890625 18.8125 39.015625 \nQ 14.890625 38.140625 10.796875 36.28125 \nz\n\" id=\"DejaVuSans-53\"/>\n      </defs>\n      <g transform=\"translate(7.2 131.573076)scale(0.1 -0.1)\">\n       <use xlink:href=\"#DejaVuSans-8722\"/>\n       <use x=\"83.789062\" xlink:href=\"#DejaVuSans-53\"/>\n      </g>\n     </g>\n    </g>\n    <g id=\"ytick_2\">\n     <g id=\"line2d_5\">\n      <g>\n       <use style=\"stroke:#000000;stroke-width:0.8;\" x=\"28.942188\" xlink:href=\"#m5ddf40c78d\" y=\"101.190291\"/>\n      </g>\n     </g>\n     <g id=\"text_5\">\n      <!-- 0 -->\n      <g transform=\"translate(15.579688 104.98951)scale(0.1 -0.1)\">\n       <use xlink:href=\"#DejaVuSans-48\"/>\n      </g>\n     </g>\n    </g>\n    <g id=\"ytick_3\">\n     <g id=\"line2d_6\">\n      <g>\n       <use style=\"stroke:#000000;stroke-width:0.8;\" x=\"28.942188\" xlink:href=\"#m5ddf40c78d\" y=\"74.606726\"/>\n      </g>\n     </g>\n     <g id=\"text_6\">\n      <!-- 5 -->\n      <g transform=\"translate(15.579688 78.405944)scale(0.1 -0.1)\">\n       <use xlink:href=\"#DejaVuSans-53\"/>\n      </g>\n     </g>\n    </g>\n    <g id=\"ytick_4\">\n     <g id=\"line2d_7\">\n      <g>\n       <use style=\"stroke:#000000;stroke-width:0.8;\" x=\"28.942188\" xlink:href=\"#m5ddf40c78d\" y=\"48.02316\"/>\n      </g>\n     </g>\n     <g id=\"text_7\">\n      <!-- 10 -->\n      <defs>\n       <path d=\"M 12.40625 8.296875 \nL 28.515625 8.296875 \nL 28.515625 63.921875 \nL 10.984375 60.40625 \nL 10.984375 69.390625 \nL 28.421875 72.90625 \nL 38.28125 72.90625 \nL 38.28125 8.296875 \nL 54.390625 8.296875 \nL 54.390625 0 \nL 12.40625 0 \nz\n\" id=\"DejaVuSans-49\"/>\n      </defs>\n      <g transform=\"translate(9.217188 51.822379)scale(0.1 -0.1)\">\n       <use xlink:href=\"#DejaVuSans-49\"/>\n       <use x=\"63.623047\" xlink:href=\"#DejaVuSans-48\"/>\n      </g>\n     </g>\n    </g>\n    <g id=\"ytick_5\">\n     <g id=\"line2d_8\">\n      <g>\n       <use style=\"stroke:#000000;stroke-width:0.8;\" x=\"28.942188\" xlink:href=\"#m5ddf40c78d\" y=\"21.439594\"/>\n      </g>\n     </g>\n     <g id=\"text_8\">\n      <!-- 15 -->\n      <g transform=\"translate(9.217188 25.238813)scale(0.1 -0.1)\">\n       <use xlink:href=\"#DejaVuSans-49\"/>\n       <use x=\"63.623047\" xlink:href=\"#DejaVuSans-53\"/>\n      </g>\n     </g>\n    </g>\n   </g>\n   <g id=\"patch_3\">\n    <path d=\"M 28.942188 143.1 \nL 28.942188 7.2 \n\" style=\"fill:none;stroke:#000000;stroke-linecap:square;stroke-linejoin:miter;stroke-width:0.8;\"/>\n   </g>\n   <g id=\"patch_4\">\n    <path d=\"M 224.242188 143.1 \nL 224.242188 7.2 \n\" style=\"fill:none;stroke:#000000;stroke-linecap:square;stroke-linejoin:miter;stroke-width:0.8;\"/>\n   </g>\n   <g id=\"patch_5\">\n    <path d=\"M 28.942187 143.1 \nL 224.242188 143.1 \n\" style=\"fill:none;stroke:#000000;stroke-linecap:square;stroke-linejoin:miter;stroke-width:0.8;\"/>\n   </g>\n   <g id=\"patch_6\">\n    <path d=\"M 28.942187 7.2 \nL 224.242188 7.2 \n\" style=\"fill:none;stroke:#000000;stroke-linecap:square;stroke-linejoin:miter;stroke-width:0.8;\"/>\n   </g>\n  </g>\n </g>\n <defs>\n  <clipPath id=\"p83c147a244\">\n   <rect height=\"135.9\" width=\"195.3\" x=\"28.942188\" y=\"7.2\"/>\n  </clipPath>\n </defs>\n</svg>\n"
          },
          "metadata": {
            "tags": [],
            "needs_background": "light"
          }
        }
      ]
    },
    {
      "cell_type": "markdown",
      "metadata": {
        "id": "ejj2zPFtvnKy"
      },
      "source": [
        "### Reading the Dataset\n",
        "\n",
        "Recall that training models consists of making multiple passes over the dataset, grabbing one minibatch of examples at a time, and using them to update our model. Since this process is so fundamental to training machine learning algorithms, it is worth defining a utility function to shuffle the dataset and access it in minibatches.\n",
        "\n",
        "In the following code, we define the data_iter function to demonstrate one possible implementation of this functionality. The function takes a batch size, a matrix of features, and a vector of labels, yielding minibatches of the size batch_size. Each minibatch consists of a tuple of features and labels."
      ]
    },
    {
      "cell_type": "code",
      "metadata": {
        "id": "Xmz-iEFwvMjw"
      },
      "source": [
        "def data_iter(batch_size, features, labels):\n",
        "    \"\"\"\n",
        "    Return (X, y) of shape (batch_size, d), (batch_size, 1)\n",
        "    \"\"\"\n",
        "    num_examples = len(features)\n",
        "    indices = list(range(num_examples))\n",
        "    # The examples are read at random, in no particular order\n",
        "    random.shuffle(indices)\n",
        "    for i in range(0, num_examples, batch_size):\n",
        "        batch_indices = indices[i:min(i+batch_size, num_examples)]\n",
        "        yield features[batch_indices], labels[batch_indices]"
      ],
      "execution_count": null,
      "outputs": []
    },
    {
      "cell_type": "code",
      "metadata": {
        "colab": {
          "base_uri": "https://localhost:8080/"
        },
        "id": "LH8WaNmw3K_r",
        "outputId": "49480730-ca0e-49d1-8db1-c93534f697d3"
      },
      "source": [
        "batch_size = 256\n",
        "\n",
        "for X, y in data_iter(batch_size, features, labels):\n",
        "    print (X.shape, y.shape)"
      ],
      "execution_count": null,
      "outputs": [
        {
          "output_type": "stream",
          "text": [
            "torch.Size([256, 2]) torch.Size([256, 1])\n",
            "torch.Size([256, 2]) torch.Size([256, 1])\n",
            "torch.Size([256, 2]) torch.Size([256, 1])\n",
            "torch.Size([232, 2]) torch.Size([232, 1])\n"
          ],
          "name": "stdout"
        }
      ]
    },
    {
      "cell_type": "code",
      "metadata": {
        "colab": {
          "base_uri": "https://localhost:8080/"
        },
        "id": "Y3vzic073FpC",
        "outputId": "363975c9-80cd-490a-e76d-90f46244fc44"
      },
      "source": [
        "batch_size = 10\n",
        "\n",
        "for X, y in data_iter(batch_size, features, labels):\n",
        "    print(X, '\\n', y)\n",
        "    break"
      ],
      "execution_count": null,
      "outputs": [
        {
          "output_type": "stream",
          "text": [
            "tensor([[ 2.4020,  0.1737],\n",
            "        [-0.1554, -0.5340],\n",
            "        [-0.9614,  1.0495],\n",
            "        [ 0.7605,  1.1321],\n",
            "        [ 0.0327, -0.1008],\n",
            "        [-0.3723,  1.5544],\n",
            "        [ 0.4380, -0.3332],\n",
            "        [ 1.1616,  1.2298],\n",
            "        [ 1.9715, -1.4922],\n",
            "        [ 1.1500, -0.5093]]) \n",
            " tensor([[ 8.4140],\n",
            "        [ 5.7019],\n",
            "        [-1.3018],\n",
            "        [ 1.8661],\n",
            "        [ 4.6087],\n",
            "        [-1.8093],\n",
            "        [ 6.2116],\n",
            "        [ 2.3469],\n",
            "        [13.2195],\n",
            "        [ 8.2315]])\n"
          ],
          "name": "stdout"
        }
      ]
    },
    {
      "cell_type": "markdown",
      "metadata": {
        "id": "L7-JSq5i3Yiu"
      },
      "source": [
        "As we run the iteration, we obtain distinct minibatches successively until the entire dataset has been exhausted (try this). While the iteration implemented above is good for didactic purposes, it is inefficient in ways that might get us in trouble on real problems. For example, it requires that we load all the data in memory and that we perform lots of random memory access. The built-in iterators implemented in a deep learning framework are considerably more efficient and they can deal with both data stored in files and data fed via data streams.\n",
        "\n"
      ]
    },
    {
      "cell_type": "markdown",
      "metadata": {
        "id": "qzBJ4BuD3cB-"
      },
      "source": [
        "### Initializing Model Parameters\n",
        "\n",
        "Before we can begin optimizing our model’s parameters by minibatch stochastic gradient descent, we need to have some parameters in the first place. In the following code, we initialize weights by sampling random numbers from a normal distribution with mean 0 and a standard deviation of 0.01, and setting the bias to 0.\n",
        "\n"
      ]
    },
    {
      "cell_type": "code",
      "metadata": {
        "colab": {
          "base_uri": "https://localhost:8080/"
        },
        "id": "e5j3JM__3Hyt",
        "outputId": "16fa36ee-4886-4bb4-c9a1-907931674afa"
      },
      "source": [
        "w = torch.normal(mean=0, std=0.01, size=(2, 1), requires_grad=True)\n",
        "b = torch.zeros(1, requires_grad=True)\n",
        "\n",
        "print (w)\n",
        "print (b)"
      ],
      "execution_count": null,
      "outputs": [
        {
          "output_type": "stream",
          "text": [
            "tensor([[ 0.0147],\n",
            "        [-0.0033]], requires_grad=True)\n",
            "tensor([0.], requires_grad=True)\n"
          ],
          "name": "stdout"
        }
      ]
    },
    {
      "cell_type": "markdown",
      "metadata": {
        "id": "pkiHXCcN37MT"
      },
      "source": [
        "After initializing our parameters, our next task is to update them until they fit our data sufficiently well. Each update requires taking the gradient of our loss function with respect to the parameters. Given this gradient, we can update each parameter in the direction that may reduce the loss.\n",
        "\n",
        "Since nobody wants to compute gradients explicitly (this is tedious and error prone), we use automatic differentiation, as introduced in Section 2.5, to compute the gradient."
      ]
    },
    {
      "cell_type": "markdown",
      "metadata": {
        "id": "AxxN4TxG37zP"
      },
      "source": [
        "### Defining the Model\n",
        "\n",
        "Next, we must define our model, relating its inputs and parameters to its outputs. Recall that to calculate the output of the linear model, we simply take the matrix-vector dot product of the input features $\\mathbf{X}$ and the model weights $\\mathbf{w}$ nd add the offset  b  to each example.\n",
        "\n",
        "Note that below $\\mathbf{Xw}$ is a vector and  b  is a scalar. Recall the broadcasting mechanism as described in Section 2.1.3. When we add a vector and a scalar, the scalar is added to each component of the vector."
      ]
    },
    {
      "cell_type": "code",
      "metadata": {
        "colab": {
          "base_uri": "https://localhost:8080/"
        },
        "id": "bvRkZrSG3zGT",
        "outputId": "6168db7c-0f92-4869-9d88-b1dc23d3709d"
      },
      "source": [
        "def linreg(X, w, b):  #@save\n",
        "    \"\"\"The linear regression model.\"\"\"\n",
        "    return torch.matmul(X, w) + b #### X.w : Nx2 . 2x1 : Nx1\n",
        "print (X.shape)\n",
        "linreg(X, w, b).shape"
      ],
      "execution_count": null,
      "outputs": [
        {
          "output_type": "stream",
          "text": [
            "torch.Size([232, 2])\n"
          ],
          "name": "stdout"
        },
        {
          "output_type": "execute_result",
          "data": {
            "text/plain": [
              "torch.Size([232, 1])"
            ]
          },
          "metadata": {
            "tags": []
          },
          "execution_count": 12
        }
      ]
    },
    {
      "cell_type": "markdown",
      "metadata": {
        "id": "_2sIxReE44W7"
      },
      "source": [
        "### Defining the Loss Function\n",
        "\n",
        "Since updating our model requires taking the gradient of our loss function, we ought to define the loss function first. Here we will use the squared loss function as described in Section 3.1. In the implementation, we need to transform the true value y into the predicted value’s shape y_hat. The result returned by the following function will also have the same shape as y_hat."
      ]
    },
    {
      "cell_type": "code",
      "metadata": {
        "id": "D-anbeoE4wZm"
      },
      "source": [
        "def squared_loss(y_hat, y):\n",
        "    return 0.5*(y_hat - y.reshape(y_hat.shape))**2"
      ],
      "execution_count": null,
      "outputs": []
    },
    {
      "cell_type": "markdown",
      "metadata": {
        "id": "j5QrUMbi7rs7"
      },
      "source": [
        "### Defining the Optimization Algorithm\n",
        "\n",
        "As we discussed in Section 3.1, linear regression has a closed-form solution. However, this is not a book about linear regression: it is a book about deep learning. Since none of the other models that this book introduces can be solved analytically, we will take this opportunity to introduce your first working example of minibatch stochastic gradient descent.\n",
        "\n",
        "At each step, using one minibatch randomly drawn from our dataset, we will estimate the gradient of the loss with respect to our parameters. Next, we will update our parameters in the direction that may reduce the loss. The following code applies the minibatch stochastic gradient descent update, given a set of parameters, a learning rate, and a batch size. The size of the update step is determined by the learning rate lr. Because our loss is calculated as a sum over the minibatch of examples, we normalize our step size by the batch size (batch_size), so that the magnitude of a typical step size does not depend heavily on our choice of the batch size."
      ]
    },
    {
      "cell_type": "code",
      "metadata": {
        "id": "2rp1vsxg7nRo"
      },
      "source": [
        "def sgd(params, lr, batch_size):\n",
        "\n",
        "    with torch.no_grad():\n",
        "        for param in params:\n",
        "            param -= lr * param.grad/batch_size\n",
        "            param.grad.zero_()"
      ],
      "execution_count": null,
      "outputs": []
    },
    {
      "cell_type": "markdown",
      "metadata": {
        "id": "Wg4_83oWHPAX"
      },
      "source": [
        "### Training\n",
        "\n",
        "Now that we have all of the parts in place, we are ready to implement the main training loop. It is crucial that you understand this code because you will see nearly identical training loops over and over again throughout your career in deep learning.\n",
        "\n",
        "In each iteration, we will grab a minibatch of training examples, and pass them through our model to obtain a set of predictions. After calculating the loss, we initiate the backwards pass through the network, storing the gradients with respect to each parameter. Finally, we will call the optimization algorithm sgd to update the model parameters.\n",
        "\n",
        "In summary, we will execute the following loop:\n",
        "\n",
        "1. Init params $(\\mathbf{w}, b)$\n",
        "2. Repeat until done\n",
        "    2.1 Compute gradient $\\mathbf{g} \\leftarrow \\partial_{(\\mathbf{w},b)} \\frac{1}{|\\mathcal{B}|} \\sum_{i \\in \\mathcal{B}} l(\\mathbf{x}^{(i)}, y^{(i)}, \\mathbf{w}, b)$\n",
        "    2.2 Update parameters $(\\mathbf{w}, b) \\leftarrow (\\mathbf{w}, b) - \\eta \\mathbf{g}$\n",
        "\n",
        "In each epoch, we will iterate through the entire dataset (using the data_iter function) once passing through every example in the training dataset (assuming that the number of examples is divisible by the batch size). The number of epochs num_epochs and the learning rate lr are both hyperparameters, which we set here to 3 and 0.03, respectively. "
      ]
    },
    {
      "cell_type": "code",
      "metadata": {
        "id": "Th5faoxaHpyC"
      },
      "source": [
        "lr = 0.03\n",
        "num_epochs = 3\n",
        "net = linreg ### network\n",
        "loss = squared_loss"
      ],
      "execution_count": null,
      "outputs": []
    },
    {
      "cell_type": "code",
      "metadata": {
        "colab": {
          "base_uri": "https://localhost:8080/"
        },
        "id": "L4TdMkSoIJpe",
        "outputId": "c5e6cd78-edb5-4f9f-8c39-b88bc46d59d7"
      },
      "source": [
        "def synthetic_data(w, b, num_examples):\n",
        "    \"\"\"\n",
        "    Generate y = Xw + b + noise.\n",
        "    Return features: shape (num_examples, w)\n",
        "    labels : shape (num_examples)\n",
        "    \"\"\"\n",
        "    X = torch.normal(mean=0, std=1, size=(num_examples, len(w)))\n",
        "    print (X.shape)\n",
        "    y = torch.matmul(X, w) + b\n",
        "    print (y.shape)\n",
        "    ### add noise\n",
        "    y += torch.normal(mean=0, std=0.01, size=y.shape)\n",
        "    return X, y.reshape((-1, 1))\n",
        "\n",
        "def data_iter(batch_size, features, labels):\n",
        "    \"\"\"\n",
        "    Return (X, y) of shape (batch_size, d), (batch_size, 1)\n",
        "    \"\"\"\n",
        "    num_examples = len(features)\n",
        "    indices = list(range(num_examples))\n",
        "    # The examples are read at random, in no particular order\n",
        "    random.shuffle(indices)\n",
        "    for i in range(0, num_examples, batch_size):\n",
        "        batch_indices = indices[i:min(i+batch_size, num_examples)]\n",
        "        yield features[batch_indices], labels[batch_indices]\n",
        "\n",
        "def linreg(X, w, b):  #@save\n",
        "    \"\"\"The linear regression model.\"\"\"\n",
        "    return torch.matmul(X, w) + b #### X.w : Nx2 . 2x1 : Nx1\n",
        "\n",
        "def squared_loss(y_hat, y):\n",
        "    return 0.5*(y_hat - y.reshape(y_hat.shape))**2\n",
        "\n",
        "\n",
        "def sgd(params, lr, batch_size):\n",
        "    with torch.no_grad():\n",
        "        for param in params:\n",
        "            param -= lr * param.grad/batch_size\n",
        "            param.grad.zero_()\n",
        "\n",
        "\n",
        "true_w = torch.tensor([2, -3.4])\n",
        "true_b = 4.2\n",
        "features, labels = synthetic_data(true_w, true_b, 1000)\n",
        "w = torch.normal(mean=0, std=0.01, size=(2, 1), requires_grad=True)\n",
        "b = torch.zeros(1, requires_grad=True)"
      ],
      "execution_count": null,
      "outputs": [
        {
          "output_type": "stream",
          "text": [
            "torch.Size([1000, 2])\n",
            "torch.Size([1000])\n"
          ],
          "name": "stdout"
        }
      ]
    },
    {
      "cell_type": "markdown",
      "metadata": {
        "id": "SqpP1jJryaHE"
      },
      "source": [
        "#### Analytical verison of the diff of L wrt w\n",
        "\n",
        "Let us see how the update to w will be analytically\n",
        "\n",
        "![](https://i.imgur.com/KCmUlE7.jpg)"
      ]
    },
    {
      "cell_type": "code",
      "metadata": {
        "id": "LUpqfr91SNlU"
      },
      "source": [
        "def analytical_grad_L_wrt_w(X, w, b, y):\n",
        "\n",
        "    print ('Computing gradient analytically wrt w...')\n",
        "    print(torch.matmul(X.T, torch.matmul(X, w) + b - y))"
      ],
      "execution_count": null,
      "outputs": []
    },
    {
      "cell_type": "code",
      "metadata": {
        "colab": {
          "base_uri": "https://localhost:8080/"
        },
        "id": "GW6nt6UZHwBW",
        "outputId": "2957b4cd-a966-49ca-a8ed-647f7839b2cc"
      },
      "source": [
        "for epoch in range(num_epochs):\n",
        "    for X, y in data_iter(batch_size=batch_size, features=features, labels=labels):\n",
        "        print (\"X and y shape:\", X.shape, y.shape)\n",
        "        y_hat = net(X, w, b)\n",
        "        # -print (y_hat.shape)\n",
        "        l = loss(y_hat, y) # Minibatch loss in `X` and `y`: shape is (mini_batch, 1)\n",
        "        print (\"loss shape:\", l.shape)\n",
        "        l = l.sum()\n",
        "        print (\"Sum up loss:\", l)\n",
        "        l.backward() ### now we have access to w.grad and b.grad i.e dl/dw and dl/db\n",
        "        print ('Computing gradients using .grad')\n",
        "        print (\"dl/dw:\", w.grad) ## dl/dw\n",
        "        print (\"dl/db:\", b.grad) ## dl/db\n",
        "        w_grad = analytical_grad_L_wrt_w(X, w, b, y)\n",
        "        break\n",
        "    break\n",
        "            "
      ],
      "execution_count": null,
      "outputs": [
        {
          "output_type": "stream",
          "text": [
            "X and y shape: torch.Size([256, 2]) torch.Size([256, 1])\n",
            "loss shape: torch.Size([256, 1])\n",
            "Sum up loss: tensor(2009.1190, grad_fn=<SumBackward0>)\n",
            "Computing gradients using .grad\n",
            "tensor([[-294.4723],\n",
            "        [ 637.9905]])\n",
            "tensor([-781.4006])\n",
            "Computing gradient analytically wrt w...\n",
            "tensor([[-294.4723],\n",
            "        [ 637.9905]], grad_fn=<MmBackward>)\n"
          ],
          "name": "stdout"
        }
      ]
    },
    {
      "cell_type": "markdown",
      "metadata": {
        "id": "WoiJCMWGwfJO"
      },
      "source": [
        "So the analytical calculation matches with the `backward` method\n",
        "We need to sum up the elements of `l` vector here as we need to compute gradient for a scalar, we cant compute it for a vector. We can compute it wrt to a vector thought as we have done here (wrt w)"
      ]
    },
    {
      "cell_type": "code",
      "metadata": {
        "colab": {
          "base_uri": "https://localhost:8080/"
        },
        "id": "cz_LiN4oJarp",
        "outputId": "2630976b-b62e-4a31-facf-15c54fbbb0b3"
      },
      "source": [
        "for epoch in range(num_epochs):\n",
        "    for X, y in data_iter(batch_size, features, labels):\n",
        "        l = loss(net(X, w, b), y)  # Minibatch loss in `X` and `y`\n",
        "        # Compute gradient on `l` with respect to [`w`, `b`]\n",
        "        l.sum().backward()\n",
        "        sgd([w, b], lr, batch_size)  # Update parameters using their gradient\n",
        "    with torch.no_grad():\n",
        "        train_l = loss(net(features, w, b), labels)\n",
        "        print(f'epoch {epoch + 1}, loss {float(train_l.mean()):f}')"
      ],
      "execution_count": null,
      "outputs": [
        {
          "output_type": "stream",
          "text": [
            "epoch 1, loss 12.669372\n",
            "epoch 2, loss 9.869682\n",
            "epoch 3, loss 7.689403\n"
          ],
          "name": "stdout"
        }
      ]
    },
    {
      "cell_type": "code",
      "metadata": {
        "colab": {
          "base_uri": "https://localhost:8080/"
        },
        "id": "he4hDLCzxJL4",
        "outputId": "1ea14fd0-95c7-4a08-a51a-6a27c0b9c9d6"
      },
      "source": [
        "print (true_w, true_b)\n",
        "print (w, b)"
      ],
      "execution_count": null,
      "outputs": [
        {
          "output_type": "stream",
          "text": [
            "tensor([ 2.0000, -3.4000]) 4.2\n",
            "tensor([[ 0.6869],\n",
            "        [-1.1747]], requires_grad=True) tensor([1.3700], requires_grad=True)\n"
          ],
          "name": "stdout"
        }
      ]
    },
    {
      "cell_type": "markdown",
      "metadata": {
        "id": "4pjXcjOvxiiG"
      },
      "source": [
        "Note that we should not take it for granted that we are able to recover the parameters perfectly. However, in machine learning, we are typically less concerned with recovering true underlying parameters, and more concerned with parameters that lead to highly accurate prediction. Fortunately, even on difficult optimization problems, stochastic gradient descent can often find remarkably good solutions, owing partly to the fact that, for deep networks, there exist many configurations of the parameters that lead to highly accurate prediction.\n",
        "\n"
      ]
    },
    {
      "cell_type": "markdown",
      "metadata": {
        "id": "v9DWxg_G7LDN"
      },
      "source": [
        "## Linear Regression - Concise Implementation\n",
        "\n",
        "In Section 3.2, we relied only on (i) tensors for data storage and linear algebra; and (ii) auto differentiation for calculating gradients. In practice, because data iterators, loss functions, optimizers, and neural network layers are so common, modern libraries implement these components for us as well."
      ]
    },
    {
      "cell_type": "code",
      "metadata": {
        "colab": {
          "base_uri": "https://localhost:8080/"
        },
        "id": "PZVWXO0xxYXm",
        "outputId": "fdeb117c-9c99-48e7-b0b5-ffbc68310b38"
      },
      "source": [
        "true_w = torch.tensor([2, -3.4])\n",
        "true_b = 4.2\n",
        "features, labels = d2l.synthetic_data(true_w, true_b, 1000)\n",
        "\n",
        "print (features.shape, labels.shape)"
      ],
      "execution_count": null,
      "outputs": [
        {
          "output_type": "stream",
          "text": [
            "torch.Size([1000, 2]) torch.Size([1000, 1])\n"
          ],
          "name": "stdout"
        }
      ]
    },
    {
      "cell_type": "markdown",
      "metadata": {
        "id": "SSFaM0Cz7eE2"
      },
      "source": [
        "### Reading the Dataset\n",
        "\n",
        "Rather than rolling our own iterator, we can call upon the existing API in a framework to read data. We pass in features and labels as arguments and specify `batch_size` when instantiating a data iterator object. Besides, the boolean value `is_train` indicates whether or not we want the data iterator object to shuffle the data on each epoch (pass through the dataset)."
      ]
    },
    {
      "cell_type": "code",
      "metadata": {
        "colab": {
          "base_uri": "https://localhost:8080/"
        },
        "id": "RIEerlHU7W8f",
        "outputId": "f280a4e7-5c9c-4f77-f888-67ef8f00201d"
      },
      "source": [
        "### samples a single (feature, label) pair\n",
        "print ((torch.utils.data.TensorDataset(*(features, labels)))) ### converts the features, labels into -> torch.utils.data.dataset.TensorDataset \n",
        "### samples a single (feature, label) pair from the dataset\n",
        "print(next(iter(torch.utils.data.TensorDataset(*(features, labels)))))"
      ],
      "execution_count": null,
      "outputs": [
        {
          "output_type": "stream",
          "text": [
            "<torch.utils.data.dataset.TensorDataset object at 0x7f883d859a90>\n",
            "(tensor([-1.4757, -0.0265]), tensor([1.3481]))\n"
          ],
          "name": "stdout"
        }
      ]
    },
    {
      "cell_type": "code",
      "metadata": {
        "colab": {
          "base_uri": "https://localhost:8080/"
        },
        "id": "D9wZYF-88YOC",
        "outputId": "e58f87da-dd70-4128-89e5-5efcbd0a90f6"
      },
      "source": [
        "def load_array(data_arrays, batch_size, is_train=True):\n",
        "    dataset = torch.utils.data.TensorDataset(*data_arrays)\n",
        "    ### sample batches\n",
        "    return torch.utils.data.DataLoader(dataset=dataset, batch_size=batch_size, shuffle=is_train)\n",
        "\n",
        "batch_size = 10\n",
        "data_iter = load_array((features, labels), batch_size)\n",
        "\n",
        "print (data_iter)"
      ],
      "execution_count": null,
      "outputs": [
        {
          "output_type": "stream",
          "text": [
            "<torch.utils.data.dataloader.DataLoader object at 0x7f883dd66450>\n"
          ],
          "name": "stdout"
        }
      ]
    },
    {
      "cell_type": "code",
      "metadata": {
        "colab": {
          "base_uri": "https://localhost:8080/"
        },
        "id": "5KvP0dvU9bJx",
        "outputId": "cd485a0e-b901-4b8d-87e0-b4db31f51652"
      },
      "source": [
        "next(iter(data_iter)) ### X: (batch_size, 2), y: (batch_size, 1)"
      ],
      "execution_count": null,
      "outputs": [
        {
          "output_type": "execute_result",
          "data": {
            "text/plain": [
              "[tensor([[ 1.0319,  2.1928],\n",
              "         [-1.5495, -0.9713],\n",
              "         [ 0.3742,  0.2659],\n",
              "         [ 0.5577,  0.6024],\n",
              "         [ 1.7429,  1.2023],\n",
              "         [ 1.4232, -0.0872],\n",
              "         [ 0.4683,  0.6697],\n",
              "         [ 0.0348,  0.1394],\n",
              "         [-0.3916, -0.6033],\n",
              "         [-0.2366,  2.6041]]), tensor([[-1.2032],\n",
              "         [ 4.4137],\n",
              "         [ 4.0598],\n",
              "         [ 3.2786],\n",
              "         [ 3.5871],\n",
              "         [ 7.3458],\n",
              "         [ 2.8618],\n",
              "         [ 3.7804],\n",
              "         [ 5.4717],\n",
              "         [-5.1302]])]"
            ]
          },
          "metadata": {
            "tags": []
          },
          "execution_count": 27
        }
      ]
    },
    {
      "cell_type": "markdown",
      "metadata": {
        "id": "SD27egf1-P1y"
      },
      "source": [
        "### Defining the Model\n",
        "\n",
        "For standard operations, we can use a framework’s predefined layers, which allow us to focus especially on the layers used to construct the model rather than having to focus on the implementation. We will first define a model variable net, which will refer to an instance of the Sequential class. The Sequential class defines a container for several layers that will be chained together. Given input data, a Sequential instance passes it through the first layer, in turn passing the output as the second layer’s input and so forth. In the following example, our model consists of only one layer, so we do not really need Sequential. But since nearly all of our future models will involve multiple layers, we will use it anyway just to familiarize you with the most standard workflow.\n",
        "\n",
        "n PyTorch, the fully-connected layer is defined in the Linear class. Note that we passed two arguments into nn.Linear. The first one specifies the input feature dimension, which is 2, and the second one is the output feature dimension, which is a single scalar and therefore 1.\n",
        "\n",
        "#### Fully Connected Layers as Matrix Multiplications\n",
        "\n",
        "What the below image explains is basically how in an NN diag when we have to compute output $o_{i1}$ based on the inputs and wts seeing the diag we come to the circled eqn at the top\n",
        "\n",
        "This same op is obtained from Y = X.w as a matrix multiplication \n",
        "\n",
        "![](https://i.imgur.com/NTORrPb.jpg)\n",
        "\n",
        "```\n",
        ">>> m = nn.Linear(20, 30)\n",
        ">>> input = torch.randn(128, 20)\n",
        ">>> output = m(input)\n",
        ">>> print(output.size())\n",
        "torch.Size([128, 30])\n",
        "```"
      ]
    },
    {
      "cell_type": "code",
      "metadata": {
        "id": "KIHQJ2zl-MDE"
      },
      "source": [
        "from torch import nn"
      ],
      "execution_count": null,
      "outputs": []
    },
    {
      "cell_type": "code",
      "metadata": {
        "id": "tT8XRmIOBsgY",
        "colab": {
          "base_uri": "https://localhost:8080/"
        },
        "outputId": "7d7340ce-57dc-48e3-a6e9-336a5ff0f6e6"
      },
      "source": [
        "network = nn.Linear(3,2)\n",
        "input = torch.randn(3,3)\n",
        "output = network(input)\n",
        "print (output.shape)"
      ],
      "execution_count": null,
      "outputs": [
        {
          "output_type": "stream",
          "text": [
            "torch.Size([3, 2])\n"
          ],
          "name": "stdout"
        }
      ]
    },
    {
      "cell_type": "code",
      "metadata": {
        "id": "qEAdDfM6z7cE"
      },
      "source": [
        "### net for our regresion problem\n",
        "### input features dim = 2, op = 1\n",
        "net = nn.Sequential(nn.Linear(2,1))"
      ],
      "execution_count": null,
      "outputs": []
    },
    {
      "cell_type": "markdown",
      "metadata": {
        "id": "8g0ygI85D5bX"
      },
      "source": [
        "### Initializing Model Parameters\n",
        "\n",
        "Before using net, we need to initialize the model parameters, such as the weights and bias in the linear regression model. Deep learning frameworks often have a predefined way to initialize the parameters. Here we specify that each weight parameter should be randomly sampled from a normal distribution with mean 0 and standard deviation 0.01. The bias parameter will be initialized to zero.\n",
        "\n"
      ]
    },
    {
      "cell_type": "code",
      "metadata": {
        "colab": {
          "base_uri": "https://localhost:8080/"
        },
        "id": "rkg2kaqm0Opz",
        "outputId": "5f7b77cf-a6f1-4afa-f437-d6f5721cf489"
      },
      "source": [
        "net"
      ],
      "execution_count": null,
      "outputs": [
        {
          "output_type": "execute_result",
          "data": {
            "text/plain": [
              "Sequential(\n",
              "  (0): Linear(in_features=2, out_features=1, bias=True)\n",
              ")"
            ]
          },
          "metadata": {
            "tags": []
          },
          "execution_count": 31
        }
      ]
    },
    {
      "cell_type": "markdown",
      "metadata": {
        "id": "EJtcd_G80VeG"
      },
      "source": [
        "As we have specified the input and output dimensions when constructing nn.Linear. Now we access the parameters directly to specify their initial values. We first locate the layer by `net[0]`, which is the first layer in the network, and then use the `weight.data` and `bias.data methods` to access the parameters. Next we use the replace methods `normal_` and `fill_` to overwrite parameter values.\n",
        "\n"
      ]
    },
    {
      "cell_type": "code",
      "metadata": {
        "colab": {
          "base_uri": "https://localhost:8080/"
        },
        "id": "zPJHWeoI0QV2",
        "outputId": "fd35cca1-574c-4db0-9239-8fa8d03419c1"
      },
      "source": [
        "net[0].weight.data.normal_(0, 0.01)\n",
        "net[0].bias.data.fill_(0)"
      ],
      "execution_count": null,
      "outputs": [
        {
          "output_type": "execute_result",
          "data": {
            "text/plain": [
              "tensor([0.])"
            ]
          },
          "metadata": {
            "tags": []
          },
          "execution_count": 33
        }
      ]
    },
    {
      "cell_type": "markdown",
      "metadata": {
        "id": "CpAtqpPB0mkf"
      },
      "source": [
        "### Defining the Loss Function\n",
        "\n",
        "The MSELoss class computes the mean squared error, also known as squared  L2  norm. By default it returns the average loss over examples."
      ]
    },
    {
      "cell_type": "code",
      "metadata": {
        "id": "IMq8B6Kq0jrm"
      },
      "source": [
        "## measures the mean squared error (squared L2 norm) between each element in the input x and target y.\n",
        "loss = nn.MSELoss()"
      ],
      "execution_count": null,
      "outputs": []
    },
    {
      "cell_type": "markdown",
      "metadata": {
        "id": "1UF-8sqt03ok"
      },
      "source": [
        "### Defining the Optimization Algorithm\n",
        "\n",
        "Minibatch stochastic gradient descent is a standard tool for optimizing neural networks and thus PyTorch supports it alongside a number of variations on this algorithm in the `optim` module. When we instantiate an SGD instance, we will specify the parameters to optimize over (obtainable from our net via net.parameters()), with a dictionary of hyperparameters required by our optimization algorithm. Minibatch stochastic gradient descent just requires that we set the value lr, which is set to 0.03 here."
      ]
    },
    {
      "cell_type": "code",
      "metadata": {
        "id": "xSXb75k_01tz"
      },
      "source": [
        "trainer = torch.optim.SGD(params=net.parameters(), lr=0.03)"
      ],
      "execution_count": null,
      "outputs": []
    },
    {
      "cell_type": "markdown",
      "metadata": {
        "id": "tQ-q-FaL1VY5"
      },
      "source": [
        "### Training\n",
        "\n",
        "You might have noticed that expressing our model through high-level APIs of a deep learning framework requires comparatively few lines of code. We did not have to individually allocate parameters, define our loss function, or implement minibatch stochastic gradient descent. Once we start working with much more complex models, advantages of high-level APIs will grow considerably. However, once we have all the basic pieces in place, the training loop itself is strikingly similar to what we did when implementing everything from scratch.\n",
        "\n",
        "To refresh your memory: for some number of epochs, we will make a complete pass over the dataset (train_data), iteratively grabbing one minibatch of inputs and the corresponding ground-truth labels. For each minibatch, we go through the following ritual:\n",
        "\n",
        "- Generate predictions by calling net(X) and calculate the loss l (the forward propagation).\n",
        "\n",
        "- Calculate gradients by running the backpropagation.\n",
        "\n",
        "- Update the model parameters by invoking our optimizer.\n",
        "\n",
        "For good measure, we compute the loss after each epoch and print it to monitor progress."
      ]
    },
    {
      "cell_type": "code",
      "metadata": {
        "colab": {
          "base_uri": "https://localhost:8080/"
        },
        "id": "FIFkpzC65_HG",
        "outputId": "8b7e50cb-c19a-4113-d77e-ea56e435e797"
      },
      "source": [
        "print (features.shape)\n",
        "net(features).shape"
      ],
      "execution_count": null,
      "outputs": [
        {
          "output_type": "stream",
          "text": [
            "torch.Size([1000, 2])\n"
          ],
          "name": "stdout"
        },
        {
          "output_type": "execute_result",
          "data": {
            "text/plain": [
              "torch.Size([1000, 1])"
            ]
          },
          "metadata": {
            "tags": []
          },
          "execution_count": 36
        }
      ]
    },
    {
      "cell_type": "code",
      "metadata": {
        "colab": {
          "base_uri": "https://localhost:8080/"
        },
        "id": "au56Z3f81TM_",
        "outputId": "62755577-5333-4377-84a4-0267d4066c39"
      },
      "source": [
        "num_epochs = 3\n",
        "for epoch in range(num_epochs):\n",
        "    for X, y in data_iter:\n",
        "        l = loss(net(X), y)\n",
        "        trainer.zero_grad() ### zero out the grads before backpropagation\n",
        "        l.backward()\n",
        "        trainer.step() ### Performs a single optimization step: basically does w = w - lr * dL/dw and same for bias\n",
        "    ### loss over the entire data\n",
        "    l = loss(net(features), labels)\n",
        "    print(f'epoch {epoch + 1}, loss {l:f}')"
      ],
      "execution_count": null,
      "outputs": [
        {
          "output_type": "stream",
          "text": [
            "epoch 1, loss 0.000106\n",
            "epoch 2, loss 0.000106\n",
            "epoch 3, loss 0.000105\n"
          ],
          "name": "stdout"
        }
      ]
    },
    {
      "cell_type": "markdown",
      "metadata": {
        "id": "b1WxBgNj7Shs"
      },
      "source": [
        "Below, we compare the model parameters learned by training on finite data and the actual parameters that generated our dataset. To access parameters, we first access the layer that we need from net and then access that layer’s weights and bias. As in our from-scratch implementation, note that our estimated parameters are close to their ground-truth counterparts.\n",
        "\n"
      ]
    },
    {
      "cell_type": "code",
      "metadata": {
        "colab": {
          "base_uri": "https://localhost:8080/"
        },
        "id": "NtPbNvTp6IJC",
        "outputId": "cc6fa077-efdc-4fe0-a5f8-a48051c6ed8f"
      },
      "source": [
        "print (net[0].weight.data)\n",
        "print (net[0].bias.data)"
      ],
      "execution_count": null,
      "outputs": [
        {
          "output_type": "stream",
          "text": [
            "tensor([[ 1.9999, -3.4008]])\n",
            "tensor([4.2005])\n"
          ],
          "name": "stdout"
        }
      ]
    },
    {
      "cell_type": "markdown",
      "metadata": {
        "id": "bk5ekWg0BaPl"
      },
      "source": [
        "### Exercises\n",
        "\n",
        "1. If we replace nn.MSELoss(reduction='sum') with nn.MSELoss(), how can we change the learning rate for the code to behave identically. Why?\n",
        "\n",
        "As we saw before the dimension of `l` would be N x 1 where N is batch size\n",
        "By default we aggregate it by mean"
      ]
    },
    {
      "cell_type": "code",
      "metadata": {
        "colab": {
          "base_uri": "https://localhost:8080/"
        },
        "id": "egzZwKqj7Xuy",
        "outputId": "afdb9ba4-b78f-4277-de07-3e152b0f4622"
      },
      "source": [
        "sample_y_hat = torch.tensor(data=[3, 2.5, 5])\n",
        "sample_y_target = torch.tensor(data=[3.4, 2, 6])\n",
        "loss = nn.MSELoss(reduction='none')\n",
        "print (loss(sample_y_hat, sample_y_target))\n",
        "loss = nn.MSELoss(reduction='mean')\n",
        "print (loss(sample_y_hat, sample_y_target))\n",
        "loss = nn.MSELoss(reduction='sum')\n",
        "print (loss(sample_y_hat, sample_y_target))"
      ],
      "execution_count": null,
      "outputs": [
        {
          "output_type": "stream",
          "text": [
            "tensor([0.1600, 0.2500, 1.0000])\n",
            "tensor(0.4700)\n",
            "tensor(1.4100)\n"
          ],
          "name": "stdout"
        }
      ]
    },
    {
      "cell_type": "code",
      "metadata": {
        "colab": {
          "base_uri": "https://localhost:8080/"
        },
        "id": "EXBDM1eCDjUQ",
        "outputId": "25dc4900-2d18-4c1f-a550-2dc250be7e3f"
      },
      "source": [
        "net[0].weight.data.normal_(0, 0.01)\n",
        "net[0].bias.data.fill_(0)\n",
        "\n",
        "loss = nn.MSELoss(reduction='sum')\n",
        "trainer = torch.optim.SGD(params=net.parameters(), lr=0.0007)\n",
        "num_epochs = 10\n",
        "for epoch in range(num_epochs):\n",
        "    for X, y in data_iter:\n",
        "        l = loss(net(X), y)\n",
        "        trainer.zero_grad() ### zero out the grads before backpropagation\n",
        "        l.backward()\n",
        "        trainer.step() ### Performs a single optimization step: basically does w = w - lr * dL/dw and same for bias\n",
        "    ### loss over the entire data\n",
        "    l = loss(net(features), labels)\n",
        "    print(f'epoch {epoch + 1}, loss {l:f}')"
      ],
      "execution_count": null,
      "outputs": [
        {
          "output_type": "stream",
          "text": [
            "epoch 1, loss 2161.438721\n",
            "epoch 2, loss 148.666916\n",
            "epoch 3, loss 10.363766\n",
            "epoch 4, loss 0.816327\n",
            "epoch 5, loss 0.154086\n",
            "epoch 6, loss 0.108065\n",
            "epoch 7, loss 0.105007\n",
            "epoch 8, loss 0.104824\n",
            "epoch 9, loss 0.104820\n",
            "epoch 10, loss 0.104806\n"
          ],
          "name": "stdout"
        }
      ]
    },
    {
      "cell_type": "markdown",
      "metadata": {
        "id": "IgAq4yzAFlWA"
      },
      "source": [
        "Since the magnitude of loss is sum and not mean it is quite large, larger LR might cause gradient to fluctuate more, so we need to reduce the LR\n",
        "\n",
        "Also we need more epochs to make the loss converge\n",
        "\n",
        "2. Review the PyTorch documentation to see what loss functions and initialization methods are provided. Replace the loss by Huber’s loss.\n",
        "\n"
      ]
    },
    {
      "cell_type": "code",
      "metadata": {
        "colab": {
          "base_uri": "https://localhost:8080/"
        },
        "id": "itrizITMFEBl",
        "outputId": "69ec8508-305c-4083-ad33-82f21d435477"
      },
      "source": [
        "net[0].weight.data.normal_(0, 0.01)\n",
        "net[0].bias.data.fill_(0)\n",
        "\n",
        "loss = nn.SmoothL1Loss(reduction='mean', beta=1.0)\n",
        "trainer = torch.optim.SGD(params=net.parameters(), lr=0.03)\n",
        "num_epochs = 10\n",
        "for epoch in range(num_epochs):\n",
        "    for X, y in data_iter:\n",
        "        l = loss(net(X), y)\n",
        "        trainer.zero_grad() ### zero out the grads before backpropagation\n",
        "        l.backward()\n",
        "        trainer.step() ### Performs a single optimization step: basically does w = w - lr * dL/dw and same for bias\n",
        "    ### loss over the entire data\n",
        "    l = loss(net(features), labels)\n",
        "    print(f'epoch {epoch + 1}, loss {l:f}')"
      ],
      "execution_count": null,
      "outputs": [
        {
          "output_type": "stream",
          "text": [
            "epoch 1, loss 2.219778\n",
            "epoch 2, loss 0.488232\n",
            "epoch 3, loss 0.002711\n",
            "epoch 4, loss 0.000061\n",
            "epoch 5, loss 0.000052\n",
            "epoch 6, loss 0.000052\n",
            "epoch 7, loss 0.000052\n",
            "epoch 8, loss 0.000052\n",
            "epoch 9, loss 0.000053\n",
            "epoch 10, loss 0.000053\n"
          ],
          "name": "stdout"
        }
      ]
    },
    {
      "cell_type": "code",
      "metadata": {
        "colab": {
          "base_uri": "https://localhost:8080/"
        },
        "id": "7RIRYsFaMGLW",
        "outputId": "5b856ea7-ec5e-4f88-840c-e7c8e5b9fd69"
      },
      "source": [
        "print (net[0].weight.data)\n",
        "print (net[0].bias.data)"
      ],
      "execution_count": null,
      "outputs": [
        {
          "output_type": "stream",
          "text": [
            "tensor([[ 1.9995, -3.4002]])\n",
            "tensor([4.2006])\n"
          ],
          "name": "stdout"
        }
      ]
    },
    {
      "cell_type": "markdown",
      "metadata": {
        "id": "NnQFMVM7Mm4-"
      },
      "source": [
        "3. How do you access the gradient of net[0].weight"
      ]
    },
    {
      "cell_type": "code",
      "metadata": {
        "colab": {
          "base_uri": "https://localhost:8080/"
        },
        "id": "xJ5gLJYNMMmF",
        "outputId": "817fc953-bc9d-4ee2-d377-81d20fdecc75"
      },
      "source": [
        "net[0].weight.grad"
      ],
      "execution_count": null,
      "outputs": [
        {
          "output_type": "execute_result",
          "data": {
            "text/plain": [
              "tensor([[0.0029, 0.0023]])"
            ]
          },
          "metadata": {
            "tags": []
          },
          "execution_count": 44
        }
      ]
    },
    {
      "cell_type": "markdown",
      "metadata": {
        "id": "C82R6G-dMzR_"
      },
      "source": [
        "## Softmax Regression\n",
        "\n",
        "Regression is the hammer we reach for when we want to answer how much? or how many? questions. If you want to predict the number of dollars (price) at which a house will be sold, or the number of wins a baseball team might have, or the number of days that a patient will remain hospitalized before being discharged, then you are probably looking for a regression model.\n",
        "\n",
        "In practice, we are more often interested in classification: asking not “how much” but “which one”\n",
        "\n",
        "### Classification Problem\n",
        "\n",
        "To get our feet wet, let us start off with a simple image classification problem. Here, each input consists of a  2×2  grayscale image. We can represent each pixel value with a single scalar, giving us four features  x1,x2,x3,x4 . Further, let us assume that each image belongs to one among the categories “cat”, “chicken”, and “dog”.\n",
        "\n",
        "Next, we have to choose how to represent the labels. We have two obvious choices. Perhaps the most natural impulse would be to choose  y∈{1,2,3} , where the integers represent  {dog,cat,chicken}  respectively. This is a great way of storing such information on a computer. If the categories had some natural ordering among them, say if we were trying to predict  {baby,toddler,adolescent,young adult,adult,geriatric} , then it might even make sense to cast this problem as regression and keep the labels in this format.\n",
        "\n",
        "But general classification problems do not come with natural orderings among the classes. Fortunately, statisticians long ago invented a simple way to represent categorical data: the one-hot encoding. A one-hot encoding is a vector with as many components as we have categories. The component corresponding to particular instance’s category is set to 1 and all other components are set to 0. In our case, a label  y  would be a three-dimensional vector, with  (1,0,0)  corresponding to “cat”,  (0,1,0)  to “chicken”, and  (0,0,1)  to “dog”:\n",
        "\n",
        "$y \\in \\{(1, 0, 0), (0, 1, 0), (0, 0, 1)\\}.$\n",
        "\n",
        "### Network Architecture\n",
        "\n",
        "In order to estimate the conditional probabilities associated with all the possible classes, we need a model with multiple outputs, one per class. To address classification with linear models, we will need as many affine functions as we have outputs. Each output will correspond to its own affine function. In our case, since we have 4 features and 3 possible output categories, we will need 12 scalars to represent the weights ( w  with subscripts), and 3 scalars to represent the biases ( b  with subscripts). We compute these three logits,  o1,o2 , and  o3 , for each input:\n",
        "\n",
        "$$\\begin{split}\\begin{aligned}\n",
        "o_1 &= x_1 w_{11} + x_2 w_{12} + x_3 w_{13} + x_4 w_{14} + b_1,\\\\\n",
        "o_2 &= x_1 w_{21} + x_2 w_{22} + x_3 w_{23} + x_4 w_{24} + b_2,\\\\\n",
        "o_3 &= x_1 w_{31} + x_2 w_{32} + x_3 w_{33} + x_4 w_{34} + b_3.\n",
        "\\end{aligned}\\end{split}$$\n",
        "\n",
        "We can depict this calculation with the neural network diagram shown in Fig. 3.4.1. Just as in linear regression, softmax regression is also a single-layer neural network. And since the calculation of each output,  o1,o2 , and  o3 , depends on all inputs,  x1 ,  x2 ,  x3 , and  x4 , the output layer of softmax regression can also be described as fully-connected layer.\n",
        "\n",
        "![](https://d2l.ai/_images/softmaxreg.svg)\n",
        "\n",
        "To express the model more compactly, we can use linear algebra notation. In vector form, we arrive at $\\mathbf{o} = \\mathbf{W} \\mathbf{x} + \\mathbf{b}$, a form better suited both for mathematics, and for writing code. Note that we have gathered all of our weights into a  3×4  matrix and that for features of a given data example  $\\mathbf{x}$ , our outputs are given by a matrix-vector product of our weights by our input features plus our biases  b .\n",
        "\n",
        "\n",
        "As we will see in subsequent chapters, fully-connected layers are ubiquitous in deep learning. However, as the name suggests, fully-connected layers are fully connected with potentially many learnable parameters. Specifically, for any fully-connected layer with  d  inputs and  q  outputs, the parameterization cost is  O(dq) , which can be prohibitively high in practice. Fortunately, this cost of transforming  d  inputs into  q  outputs can be reduced to  O(dqn) , where the hyperparameter  n  can be flexibly specified by us to balance between parameter saving and model effectiveness in real-world applications"
      ]
    },
    {
      "cell_type": "markdown",
      "metadata": {
        "id": "HfhB-C29EBRA"
      },
      "source": [
        "### Softmax Operation\n",
        "\n",
        "The main approach that we are going to take here is to interpret the outputs of our model as probabilities. We will optimize our parameters to produce probabilities that maximize the likelihood of the observed data. Then, to generate predictions, we will set a threshold, for example, choosing the label with the maximum predicted probabilities.\n",
        "\n",
        "Put formally, we would like any output  $\\hat{y}_j$ to be interpreted as the probability that a given item belongs to class  j . Then we can choose the class with the largest output value as our prediction For example, if  y^1 ,  y^2 , and  y^3  are 0.1, 0.8, and 0.1, respectively, then we predict category 2, which (in our example) represents “chicken”.\n",
        "\n",
        "You might be tempted to suggest that we interpret the logits  o  directly as our outputs of interest. However, there are some problems with directly interpreting the output of the linear layer as a probability. On one hand, nothing constrains these numbers to sum to 1. On the other hand, depending on the inputs, they can take negative values.\n",
        "\n",
        "To interpret our outputs as probabilities, we must guarantee that (even on new data), they will be nonnegative and sum up to 1. Moreover, we need a training objective that encourages the model to estimate faithfully probabilities. Of all instances when a classifier outputs 0.5, we hope that half of those examples will actually belong to the predicted class. This is a property called calibration.\n",
        "\n",
        "The softmax function, invented in 1959 by the social scientist R. Duncan Luce in the context of choice models, does precisely this. To transform our logits such that they become nonnegative and sum to 1, while requiring that the model remains differentiable, we first exponentiate each logit (ensuring non-negativity) and then divide by their sum (ensuring that they sum to 1):\n",
        "\n",
        "$\\hat{\\mathbf{y}} = \\mathrm{softmax}(\\mathbf{o})\\quad \\text{where}\\quad \\hat{y}_j = \\frac{\\exp(o_j)}{\\sum_k \\exp(o_k)}.$\n",
        "\n",
        "Note that the softmax operation does not change the ordering among the logits  $\\mathbf{o}$ , which are simply the pre-softmax values that determine the probabilities assigned to each class. Therefore, during prediction we can still pick out the most likely class by\n",
        "\n",
        "__Although softmax is a nonlinear function, the outputs of softmax regression are still determined by an affine transformation of input features; thus, softmax regression is a linear model.__\n",
        "\n",
        "### Vectorization for minibatches\n",
        "\n",
        "![](https://i.imgur.com/iGcgHTt.png)\n",
        "\n",
        "![](https://i.imgur.com/HqamYSg.jpg)\n",
        "\n",
        "![](https://i.imgur.com/TtyIJlS.jpg)\n",
        "\n",
        "Notice how we construct the design matrix by appending a column of 1s and also a row of the biases to the weights matrix\n",
        "\n",
        "### Loss function\n",
        "\n",
        "\n",
        "![](https://i.imgur.com/F4NZOdz.png)\n",
        "\n",
        "![](https://i.imgur.com/hiZwJ4f.png)\n",
        "\n",
        "\n",
        "\n",
        "\n",
        "\n"
      ]
    },
    {
      "cell_type": "markdown",
      "metadata": {
        "id": "nV-Qp9pKyjl6"
      },
      "source": [
        "\n",
        "### Mathematical walkthrough and derviation\n",
        "\n",
        "#### Softmax loss - intuition\n",
        "\n",
        "![](https://i.imgur.com/fUdcXu8.jpeg)\n",
        "\n",
        "![](https://i.imgur.com/Vl4WPsS.jpg)\n",
        "\n",
        "#### Derivative of the softmax loss\n",
        "\n",
        "![](https://i.imgur.com/8tAMyjN.jpg)\n",
        "\n",
        "![](https://i.imgur.com/HmdcGWU.jpg)"
      ]
    },
    {
      "cell_type": "code",
      "metadata": {
        "id": "412YBLRtMjXc"
      },
      "source": [
        ""
      ],
      "execution_count": null,
      "outputs": []
    }
  ]
}