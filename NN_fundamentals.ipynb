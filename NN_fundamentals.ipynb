{
  "nbformat": 4,
  "nbformat_minor": 0,
  "metadata": {
    "colab": {
      "provenance": [],
      "authorship_tag": "ABX9TyPQ2CNYA8PDhyD72CGjnsso",
      "include_colab_link": true
    },
    "kernelspec": {
      "name": "python3",
      "display_name": "Python 3"
    },
    "language_info": {
      "name": "python"
    }
  },
  "cells": [
    {
      "cell_type": "markdown",
      "metadata": {
        "id": "view-in-github",
        "colab_type": "text"
      },
      "source": [
        "<a href=\"https://colab.research.google.com/github/ShaunakSen/Deep-Learning/blob/master/NN_fundamentals.ipynb\" target=\"_parent\"><img src=\"https://colab.research.google.com/assets/colab-badge.svg\" alt=\"Open In Colab\"/></a>"
      ]
    },
    {
      "cell_type": "markdown",
      "source": [
        "## The spelled-out intro to neural networks and backpropagation: building micrograd\n",
        "\n",
        "> Notes on tutorial by Andrej Karpathy: https://www.youtube.com/watch?v=VMj-3S1tku0\n",
        "\n",
        "> Micrograd: https://github.com/karpathy/micrograd\n",
        "\n",
        "---\n",
        "\n"
      ],
      "metadata": {
        "id": "zlDub9NrIva0"
      }
    },
    {
      "cell_type": "code",
      "execution_count": 1,
      "metadata": {
        "id": "aIpZxJAwH8K9"
      },
      "outputs": [],
      "source": [
        "import math\n",
        "import numpy as np\n",
        "import pandas as pd\n",
        "import matplotlib.pyplot as plt"
      ]
    },
    {
      "cell_type": "code",
      "source": [
        "def f(x):\n",
        "    return 3*x**2 - 4*x + 5"
      ],
      "metadata": {
        "id": "qQNTW3DGJN7x"
      },
      "execution_count": 7,
      "outputs": []
    },
    {
      "cell_type": "code",
      "source": [
        "f(3)"
      ],
      "metadata": {
        "colab": {
          "base_uri": "https://localhost:8080/"
        },
        "id": "vBXPTIPqJQOs",
        "outputId": "6aebea54-d6ed-4e25-86b0-d4ca23467f5f"
      },
      "execution_count": 4,
      "outputs": [
        {
          "output_type": "execute_result",
          "data": {
            "text/plain": [
              "20"
            ]
          },
          "metadata": {},
          "execution_count": 4
        }
      ]
    },
    {
      "cell_type": "code",
      "source": [
        "xs = np.linspace(-10, 10, num=100)\n",
        "ys = f(xs)"
      ],
      "metadata": {
        "id": "ARMxnuygJVxi"
      },
      "execution_count": 9,
      "outputs": []
    },
    {
      "cell_type": "code",
      "source": [
        "plt.plot(xs, ys);"
      ],
      "metadata": {
        "colab": {
          "base_uri": "https://localhost:8080/",
          "height": 265
        },
        "id": "NrFFk2WoJl0i",
        "outputId": "172fd1db-bdbd-47e6-c074-d9a045ee3a3c"
      },
      "execution_count": 10,
      "outputs": [
        {
          "output_type": "display_data",
          "data": {
            "text/plain": [
              "<Figure size 432x288 with 1 Axes>"
            ],
            "image/png": "[encoded data removed]"
          },
          "metadata": {
            "needs_background": "light"
          }
        }
      ]
    },
    {
      "cell_type": "markdown",
      "source": [
        "We know that by defn the derivative tells us that if we have a value of x\n",
        "\n",
        "and if we inc x slightly - then how does the f(x) respond - how __sensitive__ is f(x) to a slight change in x "
      ],
      "metadata": {
        "id": "jiLykr-8KJDb"
      }
    },
    {
      "cell_type": "markdown",
      "source": [
        "### Analytically finding derivative"
      ],
      "metadata": {
        "id": "oGXRO-ndLZj-"
      }
    },
    {
      "cell_type": "code",
      "source": [
        "h = 0.001\n",
        "x = 3\n",
        "# lets see how much f(x) changes by inc x -> x+h\n",
        "print(f(x), f(x+h))\n",
        "\n",
        "slope = (f(x+h) - f(x))/h\n",
        " \n",
        "print (slope)"
      ],
      "metadata": {
        "colab": {
          "base_uri": "https://localhost:8080/"
        },
        "id": "UI4U9wQUJoUX",
        "outputId": "09b00e01-9a9b-40f6-fd38-6b79e30efb3a"
      },
      "execution_count": 12,
      "outputs": [
        {
          "output_type": "stream",
          "name": "stdout",
          "text": [
            "20 20.014003000000002\n",
            "14.00300000000243\n"
          ]
        }
      ]
    },
    {
      "cell_type": "markdown",
      "source": [
        "So when h->0, at 3, the slope is 14\n",
        "\n",
        "`d(f(x))/dx at x=3 = 6(3)-4 = 14`\n",
        "\n",
        "When x=-3:"
      ],
      "metadata": {
        "id": "U-48PTsBLFa9"
      }
    },
    {
      "cell_type": "code",
      "source": [
        "h = 0.001\n",
        "x = -3\n",
        "# lets see how much f(x) changes by inc x -> x+h\n",
        "print(f(x), f(x+h))\n",
        "\n",
        "slope = (f(x+h) - f(x))/h\n",
        " \n",
        "print (slope)"
      ],
      "metadata": {
        "colab": {
          "base_uri": "https://localhost:8080/"
        },
        "id": "68jcBKCNKfDs",
        "outputId": "09aef269-cf0f-45b9-df4f-03a9c9bba1dd"
      },
      "execution_count": 13,
      "outputs": [
        {
          "output_type": "stream",
          "name": "stdout",
          "text": [
            "44 43.978003\n",
            "-21.996999999998934\n"
          ]
        }
      ]
    },
    {
      "cell_type": "markdown",
      "source": [
        "So when h->0, at -3, the slope is -22\n",
        "\n",
        "`d(f(x))/dx at x=-3 = 6(-3)-4 = -22`\n",
        "\n",
        "\n",
        "At some pt the derivative will be 0\n",
        "\n",
        "- what this means is that at that pt, even if we nudge x by a slight amount, f(x) wont change\n",
        "- this value is -2/3 for f(x)"
      ],
      "metadata": {
        "id": "MnrJCEMpLn_Z"
      }
    },
    {
      "cell_type": "markdown",
      "source": [
        "### More complex expressions"
      ],
      "metadata": {
        "id": "Ofzu34jjREyZ"
      }
    },
    {
      "cell_type": "code",
      "source": [
        "a = 2.0\n",
        "b = -3.0\n",
        "c = 10.0\n",
        "d = a*b + c\n",
        "print (d)"
      ],
      "metadata": {
        "colab": {
          "base_uri": "https://localhost:8080/"
        },
        "id": "srhfAyrLLjrY",
        "outputId": "2fa2da6c-ab33-4b81-eba8-8a81861620a6"
      },
      "execution_count": 15,
      "outputs": [
        {
          "output_type": "stream",
          "name": "stdout",
          "text": [
            "4.0\n"
          ]
        }
      ]
    },
    {
      "cell_type": "markdown",
      "source": [
        "We want to find derivative of d wrt a,b and c"
      ],
      "metadata": {
        "id": "lHbXjGZ4Rg_U"
      }
    },
    {
      "cell_type": "code",
      "source": [
        "h = 0.0001\n",
        "\n",
        "d_base = a*b + c\n",
        "d_final = (a+h)*b + c\n",
        "print ('derivative of d wrt a:', (d_final-d_base)/h)\n"
      ],
      "metadata": {
        "colab": {
          "base_uri": "https://localhost:8080/"
        },
        "id": "TA_lt-hCReBh",
        "outputId": "e8bf8d8b-d182-42c0-8010-eb29c779ad04"
      },
      "execution_count": 16,
      "outputs": [
        {
          "output_type": "stream",
          "name": "stdout",
          "text": [
            "derivative of d wrt a: -3.000000000010772\n"
          ]
        }
      ]
    },
    {
      "cell_type": "code",
      "source": [
        "d_final = a*(b+h) + c\n",
        "print ('derivative of d wrt b:', (d_final-d_base)/h)"
      ],
      "metadata": {
        "colab": {
          "base_uri": "https://localhost:8080/"
        },
        "id": "FVcw0jQAR8uy",
        "outputId": "12a0efff-e21e-4b22-a785-0fe71039f6cb"
      },
      "execution_count": 17,
      "outputs": [
        {
          "output_type": "stream",
          "name": "stdout",
          "text": [
            "derivative of d wrt b: 2.0000000000042206\n"
          ]
        }
      ]
    },
    {
      "cell_type": "code",
      "source": [
        "d_final = a*b + (c+h)\n",
        "print ('derivative of d wrt c:', (d_final-d_base)/h)"
      ],
      "metadata": {
        "colab": {
          "base_uri": "https://localhost:8080/"
        },
        "id": "49yNuqtASFrW",
        "outputId": "526a0e4f-30be-4916-c974-664c3b8f892b"
      },
      "execution_count": 18,
      "outputs": [
        {
          "output_type": "stream",
          "name": "stdout",
          "text": [
            "derivative of d wrt c: 0.9999999999976694\n"
          ]
        }
      ]
    },
    {
      "cell_type": "markdown",
      "source": [
        "### Creating a Value object\n",
        "\n",
        "`_children` - basically tells us which values resulted in the new value - so for d=a*b, we store info of both a and b\n",
        "\n",
        "`_op` - basically stores the operation as a simple string"
      ],
      "metadata": {
        "id": "CExghCEGcMbT"
      }
    },
    {
      "cell_type": "code",
      "source": [
        "class Value:\n",
        "    def __init__(self, data, _children=(), _op='', label=''):\n",
        "        self.data = data\n",
        "        self._prev = set(_children)\n",
        "        self._op = _op\n",
        "        self.label = label\n",
        "\n",
        "    def __repr__(self):\n",
        "        if len(self.label) > 0:\n",
        "            return f\"{self.label} = Value(data={self.data})\"\n",
        "        else:\n",
        "            return f\"Value(data={self.data})\"\n",
        "    def __add__(self, other):\n",
        "        out = Value(self.data + other.data, _children=(self, other), _op='+')\n",
        "        return out\n",
        "\n",
        "    def __mul__(self, other):\n",
        "        out = Value(self.data * other.data, _children=(self, other), _op='*')\n",
        "        return out\n",
        "\n",
        "a = Value(2.0, label='a')\n",
        "b = Value(-3.0, label='b')\n",
        "c= Value(10.0, label='c')\n",
        "print (a._prev, b._prev) # should be empty\n",
        "d = a.__mul__(b) # children should be (a, b)\n",
        "print (d._prev) # {a, b}\n",
        "print (d._op) # should be * as d was formed by * operation on d._prev"
      ],
      "metadata": {
        "colab": {
          "base_uri": "https://localhost:8080/"
        },
        "id": "nIEVE6kwSKVA",
        "outputId": "b1295990-8cb6-4ebc-8d21-df03760ec773"
      },
      "execution_count": 46,
      "outputs": [
        {
          "output_type": "stream",
          "name": "stdout",
          "text": [
            "set() set()\n",
            "{b = Value(data=-3.0), a = Value(data=2.0)}\n",
            "*\n"
          ]
        }
      ]
    },
    {
      "cell_type": "code",
      "source": [
        "a = Value(2.0, label='a')\n",
        "b = Value(-3.0, label='b')\n",
        "c= Value(10.0, label='c')\n",
        "print (a._prev, b._prev) # should be empty\n",
        "d = (a.__mul__(b)).__add__(c); d.label='d' \n",
        "print (d)\n",
        "\n",
        "print (d._prev) # Value(a*b), Value(c)\n",
        "print (d._op)"
      ],
      "metadata": {
        "colab": {
          "base_uri": "https://localhost:8080/"
        },
        "id": "UAw8U67xcchn",
        "outputId": "407b11bd-7040-4b74-a6c3-212b6f93a2ff"
      },
      "execution_count": 47,
      "outputs": [
        {
          "output_type": "stream",
          "name": "stdout",
          "text": [
            "set() set()\n",
            "d = Value(data=4.0)\n",
            "{c = Value(data=10.0), Value(data=-6.0)}\n",
            "+\n"
          ]
        }
      ]
    },
    {
      "cell_type": "markdown",
      "source": [
        "### Util functions to visulaize these expressions"
      ],
      "metadata": {
        "id": "cr4JOu3egNDb"
      }
    },
    {
      "cell_type": "code",
      "source": [
        "from graphviz import Digraph\n",
        "\n",
        "def trace(root):\n",
        "  # builds a set of all nodes and edges in a graph\n",
        "  nodes, edges = set(), set()\n",
        "  def build(v):\n",
        "    if v not in nodes:\n",
        "      nodes.add(v)\n",
        "      for child in v._prev:\n",
        "        edges.add((child, v))\n",
        "        build(child)\n",
        "  build(root)\n",
        "  return nodes, edges\n",
        "\n",
        "def draw_dot(root):\n",
        "  dot = Digraph(format='svg', graph_attr={'rankdir': 'LR'}) # LR = left to right\n",
        "  \n",
        "  nodes, edges = trace(root)\n",
        "  for n in nodes:\n",
        "    uid = str(id(n))\n",
        "    # for any value in the graph, create a rectangular ('record') node for it\n",
        "    dot.node(name = uid, label = \"{ %s | data %.4f}\" % (n.label, n.data), shape='record')\n",
        "    if n._op:\n",
        "      # if this value is a result of some operation, create an op node for it\n",
        "      dot.node(name = uid + n._op, label = n._op)\n",
        "      # and connect this node to it\n",
        "      dot.edge(uid + n._op, uid)\n",
        "\n",
        "  for n1, n2 in edges:\n",
        "    # connect n1 to the op node of n2\n",
        "    dot.edge(str(id(n1)), str(id(n2)) + n2._op)\n",
        "\n",
        "  return dot"
      ],
      "metadata": {
        "id": "O0gVVi-vfRmA"
      },
      "execution_count": 50,
      "outputs": []
    },
    {
      "cell_type": "code",
      "source": [
        "draw_dot(d)"
      ],
      "metadata": {
        "colab": {
          "base_uri": "https://localhost:8080/",
          "height": 190
        },
        "id": "uZpbb3BPgTNI",
        "outputId": "8736cb58-a565-4d69-9ba5-d805a73c4a78"
      },
      "execution_count": 51,
      "outputs": [
        {
          "output_type": "execute_result",
          "data": {
            "text/plain": [
              "<graphviz.dot.Digraph at 0x7fe48e142c40>"
            ],
            "image/svg+xml": "<?xml version=\"1.0\" encoding=\"UTF-8\" standalone=\"no\"?>\n<!DOCTYPE svg PUBLIC \"-//W3C//DTD SVG 1.1//EN\"\n \"http://www.w3.org/Graphics/SVG/1.1/DTD/svg11.dtd\">\n<!-- Generated by graphviz version 2.43.0 (0)\n -->\n<!-- Title: %3 Pages: 1 -->\n<svg width=\"581pt\" height=\"127pt\"\n viewBox=\"0.00 0.00 581.00 127.00\" xmlns=\"http://www.w3.org/2000/svg\" xmlns:xlink=\"http://www.w3.org/1999/xlink\">\n<g id=\"graph0\" class=\"graph\" transform=\"scale(1 1) rotate(0) translate(4 123)\">\n<title>%3</title>\n<polygon fill=\"white\" stroke=\"transparent\" points=\"-4,4 -4,-123 577,-123 577,4 -4,4\"/>\n<!-- 140619542203936 -->\n<g id=\"node1\" class=\"node\">\n<title>140619542203936</title>\n<polygon fill=\"none\" stroke=\"black\" points=\"234,-82.5 234,-118.5 344,-118.5 344,-82.5 234,-82.5\"/>\n<text text-anchor=\"middle\" x=\"245.5\" y=\"-96.8\" font-family=\"Times,serif\" font-size=\"14.00\">c</text>\n<polyline fill=\"none\" stroke=\"black\" points=\"257,-82.5 257,-118.5 \"/>\n<text text-anchor=\"middle\" x=\"300.5\" y=\"-96.8\" font-family=\"Times,serif\" font-size=\"14.00\">data 10.0000</text>\n</g>\n<!-- 140619542201488+ -->\n<g id=\"node3\" class=\"node\">\n<title>140619542201488+</title>\n<ellipse fill=\"none\" stroke=\"black\" cx=\"407\" cy=\"-72.5\" rx=\"27\" ry=\"18\"/>\n<text text-anchor=\"middle\" x=\"407\" y=\"-68.8\" font-family=\"Times,serif\" font-size=\"14.00\">+</text>\n</g>\n<!-- 140619542203936&#45;&gt;140619542201488+ -->\n<g id=\"edge5\" class=\"edge\">\n<title>140619542203936&#45;&gt;140619542201488+</title>\n<path fill=\"none\" stroke=\"black\" d=\"M344.26,-87.4C353.49,-85.18 362.84,-82.92 371.37,-80.86\"/>\n<polygon fill=\"black\" stroke=\"black\" points=\"372.42,-84.21 381.32,-78.46 370.78,-77.4 372.42,-84.21\"/>\n</g>\n<!-- 140619542201488 -->\n<g id=\"node2\" class=\"node\">\n<title>140619542201488</title>\n<polygon fill=\"none\" stroke=\"black\" points=\"470,-54.5 470,-90.5 573,-90.5 573,-54.5 470,-54.5\"/>\n<text text-anchor=\"middle\" x=\"481.5\" y=\"-68.8\" font-family=\"Times,serif\" font-size=\"14.00\">d</text>\n<polyline fill=\"none\" stroke=\"black\" points=\"493,-54.5 493,-90.5 \"/>\n<text text-anchor=\"middle\" x=\"533\" y=\"-68.8\" font-family=\"Times,serif\" font-size=\"14.00\">data 4.0000</text>\n</g>\n<!-- 140619542201488+&#45;&gt;140619542201488 -->\n<g id=\"edge1\" class=\"edge\">\n<title>140619542201488+&#45;&gt;140619542201488</title>\n<path fill=\"none\" stroke=\"black\" d=\"M434.09,-72.5C441.83,-72.5 450.64,-72.5 459.61,-72.5\"/>\n<polygon fill=\"black\" stroke=\"black\" points=\"459.76,-76 469.76,-72.5 459.76,-69 459.76,-76\"/>\n</g>\n<!-- 140619542201584 -->\n<g id=\"node4\" class=\"node\">\n<title>140619542201584</title>\n<polygon fill=\"none\" stroke=\"black\" points=\"0,-55.5 0,-91.5 108,-91.5 108,-55.5 0,-55.5\"/>\n<text text-anchor=\"middle\" x=\"11.5\" y=\"-69.8\" font-family=\"Times,serif\" font-size=\"14.00\">b</text>\n<polyline fill=\"none\" stroke=\"black\" points=\"23,-55.5 23,-91.5 \"/>\n<text text-anchor=\"middle\" x=\"65.5\" y=\"-69.8\" font-family=\"Times,serif\" font-size=\"14.00\">data &#45;3.0000</text>\n</g>\n<!-- 140619542203360* -->\n<g id=\"node7\" class=\"node\">\n<title>140619542203360*</title>\n<ellipse fill=\"none\" stroke=\"black\" cx=\"171\" cy=\"-45.5\" rx=\"27\" ry=\"18\"/>\n<text text-anchor=\"middle\" x=\"171\" y=\"-41.8\" font-family=\"Times,serif\" font-size=\"14.00\">*</text>\n</g>\n<!-- 140619542201584&#45;&gt;140619542203360* -->\n<g id=\"edge4\" class=\"edge\">\n<title>140619542201584&#45;&gt;140619542203360*</title>\n<path fill=\"none\" stroke=\"black\" d=\"M108.12,-60.57C117.51,-58.28 127.06,-55.95 135.76,-53.84\"/>\n<polygon fill=\"black\" stroke=\"black\" points=\"136.62,-57.23 145.51,-51.46 134.97,-50.43 136.62,-57.23\"/>\n</g>\n<!-- 140619542201200 -->\n<g id=\"node5\" class=\"node\">\n<title>140619542201200</title>\n<polygon fill=\"none\" stroke=\"black\" points=\"2.5,-0.5 2.5,-36.5 105.5,-36.5 105.5,-0.5 2.5,-0.5\"/>\n<text text-anchor=\"middle\" x=\"14\" y=\"-14.8\" font-family=\"Times,serif\" font-size=\"14.00\">a</text>\n<polyline fill=\"none\" stroke=\"black\" points=\"25.5,-0.5 25.5,-36.5 \"/>\n<text text-anchor=\"middle\" x=\"65.5\" y=\"-14.8\" font-family=\"Times,serif\" font-size=\"14.00\">data 2.0000</text>\n</g>\n<!-- 140619542201200&#45;&gt;140619542203360* -->\n<g id=\"edge6\" class=\"edge\">\n<title>140619542201200&#45;&gt;140619542203360*</title>\n<path fill=\"none\" stroke=\"black\" d=\"M105.78,-30.42C115.74,-32.76 125.98,-35.17 135.28,-37.35\"/>\n<polygon fill=\"black\" stroke=\"black\" points=\"134.77,-40.82 145.3,-39.7 136.37,-34.01 134.77,-40.82\"/>\n</g>\n<!-- 140619542203360 -->\n<g id=\"node6\" class=\"node\">\n<title>140619542203360</title>\n<polygon fill=\"none\" stroke=\"black\" points=\"236.5,-27.5 236.5,-63.5 341.5,-63.5 341.5,-27.5 236.5,-27.5\"/>\n<text text-anchor=\"middle\" x=\"246.5\" y=\"-41.8\" font-family=\"Times,serif\" font-size=\"14.00\"> </text>\n<polyline fill=\"none\" stroke=\"black\" points=\"256.5,-27.5 256.5,-63.5 \"/>\n<text text-anchor=\"middle\" x=\"299\" y=\"-41.8\" font-family=\"Times,serif\" font-size=\"14.00\">data &#45;6.0000</text>\n</g>\n<!-- 140619542203360&#45;&gt;140619542201488+ -->\n<g id=\"edge3\" class=\"edge\">\n<title>140619542203360&#45;&gt;140619542201488+</title>\n<path fill=\"none\" stroke=\"black\" d=\"M341.55,-57.5C351.69,-59.86 362.08,-62.28 371.49,-64.47\"/>\n<polygon fill=\"black\" stroke=\"black\" points=\"370.71,-67.88 381.25,-66.74 372.3,-61.06 370.71,-67.88\"/>\n</g>\n<!-- 140619542203360*&#45;&gt;140619542203360 -->\n<g id=\"edge2\" class=\"edge\">\n<title>140619542203360*&#45;&gt;140619542203360</title>\n<path fill=\"none\" stroke=\"black\" d=\"M198.03,-45.5C206.55,-45.5 216.4,-45.5 226.4,-45.5\"/>\n<polygon fill=\"black\" stroke=\"black\" points=\"226.4,-49 236.4,-45.5 226.4,-42 226.4,-49\"/>\n</g>\n</g>\n</svg>\n"
          },
          "metadata": {},
          "execution_count": 51
        }
      ]
    },
    {
      "cell_type": "code",
      "source": [],
      "metadata": {
        "id": "501ZXTvZgUX_"
      },
      "execution_count": null,
      "outputs": []
    }
  ]
}