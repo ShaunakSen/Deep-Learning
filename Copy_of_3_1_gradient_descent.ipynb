{
  "nbformat": 4,
  "nbformat_minor": 0,
  "metadata": {
    "colab": {
      "name": "Copy of 3_1_gradient_descent.ipynb",
      "version": "0.3.2",
      "provenance": [],
      "collapsed_sections": [],
      "include_colab_link": true
    },
    "kernelspec": {
      "display_name": "Python 3",
      "language": "python",
      "name": "python3"
    }
  },
  "cells": [
    {
      "cell_type": "markdown",
      "metadata": {
        "id": "view-in-github",
        "colab_type": "text"
      },
      "source": [
        "<a href=\"https://colab.research.google.com/github/ShaunakSen/Deep-Learning/blob/master/Copy_of_3_1_gradient_descent.ipynb\" target=\"_parent\"><img src=\"https://colab.research.google.com/assets/colab-badge.svg\" alt=\"Open In Colab\"/></a>"
      ]
    },
    {
      "metadata": {
        "deletable": false,
        "editable": false,
        "nbgrader": {
          "checksum": "fd2c27ac75b58ab9cfdb05285bcf0292",
          "grade": false,
          "grade_id": "cell-9eeeb7abc468a506",
          "locked": true,
          "schema_version": 1,
          "solution": false
        },
        "id": "UfVVzk9wazqm",
        "colab_type": "text"
      },
      "cell_type": "markdown",
      "source": [
        "# Part 1: Gradient Descent"
      ]
    },
    {
      "metadata": {
        "deletable": false,
        "editable": false,
        "nbgrader": {
          "checksum": "7515d498d97561d9884b0802387b3be4",
          "grade": false,
          "grade_id": "cell-52980e134e2f9e19",
          "locked": true,
          "schema_version": 1,
          "solution": false
        },
        "id": "DbNxvQhGazqn",
        "colab_type": "text"
      },
      "cell_type": "markdown",
      "source": [
        "In this lab we will implement some of the optimisation methods we learned in the lecture. First, we will start by revisiting gradient descent for linear regression. However, in this implementation we will observe how the model parameters are updated over iterations of the gradient descent algorithm. \n",
        "\n",
        "Let's start by implementing gradient descent on a simple linear regression dataset, like the one you generated in Lab 1, but this time shifted so that it ranges from -5 to 5."
      ]
    },
    {
      "metadata": {
        "deletable": false,
        "nbgrader": {
          "checksum": "ca9cf8bef763c9249a69f3120f9749b4",
          "grade": true,
          "grade_id": "cell-02c39c20df2f2d24",
          "locked": false,
          "points": 1,
          "schema_version": 1,
          "solution": true
        },
        "id": "4oYv9NjNazqp",
        "colab_type": "code",
        "outputId": "3eed9ab1-2788-48e2-8a38-c2f623472e13",
        "colab": {
          "base_uri": "https://localhost:8080/",
          "height": 382
        }
      },
      "cell_type": "code",
      "source": [
        "import torch\n",
        "import matplotlib.pyplot as plt\n",
        "import numpy as np\n",
        "\n",
        "## generate M data points roughly forming a line (noise added)\n",
        "M = 100\n",
        "theta_true = torch.Tensor([[0.5], [2]])\n",
        "\n",
        "\n",
        "X = 10 * torch.rand(M, 2) - 5\n",
        "X[:, 1] = 1.0\n",
        "\n",
        "print(X.shape)\n",
        "\n",
        "y = torch.mm(X, theta_true) + 0.3 * torch.randn(M, 1)\n",
        "\n",
        "# print(y.shape)\n",
        "\n",
        "# print(X[:,0].numpy())\n",
        "\n",
        "# print(y.numpy().reshape(1,100)[0])\n",
        "\n",
        "plt.scatter(X[:,0].numpy(), y.numpy().reshape(1,100)[0])\n",
        "\n",
        "## visualise the data by plotting it\n",
        "# YOUR CODE HERE\n",
        "# raise NotImplementedError()"
      ],
      "execution_count": 2,
      "outputs": [
        {
          "output_type": "stream",
          "text": [
            "torch.Size([100, 2])\n"
          ],
          "name": "stdout"
        },
        {
          "output_type": "execute_result",
          "data": {
            "text/plain": [
              "<matplotlib.collections.PathCollection at 0x7f9128095748>"
            ]
          },
          "metadata": {
            "tags": []
          },
          "execution_count": 2
        },
        {
          "output_type": "display_data",
          "data": {
            "image/png": "[encoded data removed]",
            "text/plain": [
              "<Figure size 576x396 with 1 Axes>"
            ]
          },
          "metadata": {
            "tags": []
          }
        }
      ]
    },
    {
      "metadata": {
        "deletable": false,
        "editable": false,
        "nbgrader": {
          "checksum": "0b22b69e67951075996148ee0cb75f26",
          "grade": false,
          "grade_id": "cell-4c65a1279417a414",
          "locked": true,
          "schema_version": 1,
          "solution": false
        },
        "id": "0Y_HyeZgazqs",
        "colab_type": "text"
      },
      "cell_type": "markdown",
      "source": [
        "You should now have data points according to y = mx + b where m = theta_true[0,0] and b = theta_true[1,0]. Note, $m = \\theta_1$ and $b = \\theta_0$.\n",
        "\n",
        "Now, let's implement gradient descent using the Mean Squared Error (MSE) cost function. \n",
        "\n",
        "Recall that: \n",
        "\n",
        "$J(\\theta) = \\frac{1}{2 M} \\sum_{i = 1}^M (h_{\\theta} (x^{(i)}) - y^{(i)} )^2$\n",
        "\n",
        "for $i = 1 \\text{  to iters (or until convergence)}$ <br>\n",
        "\n",
        "$\\hspace{1cm} w_i \\leftarrow w_i - \\eta \\frac{\\partial J}{\\partial w_i}$\n",
        "\n",
        "Implement the functions below in order to plot the cost function as well as the weight updates over iterations of gradient descent."
      ]
    },
    {
      "metadata": {
        "deletable": false,
        "nbgrader": {
          "checksum": "f7f41955a715267d6d73e184b8b43388",
          "grade": true,
          "grade_id": "cell-a52e2455d84ff4da",
          "locked": false,
          "points": 5,
          "schema_version": 1,
          "solution": true
        },
        "id": "d5KKXaH2azqt",
        "colab_type": "code",
        "colab": {}
      },
      "cell_type": "code",
      "source": [
        "import numpy as np\n",
        "import matplotlib.pyplot as plt\n",
        "\n",
        "## hypothesis computes $h_theta$\n",
        "def hypothesis(theta, X):\n",
        "    # YOUR CODE HERE\n",
        "    \n",
        "    return X.mm(theta)\n",
        "  \n",
        "    \n",
        "    # raise NotImplementedError()\n",
        "\n",
        "## grad_cost_func computes the gradient of J for linear regression given J is the MSE \n",
        "def grad_cost_func(theta, X, y): \n",
        "    # YOUR CODE HERE\n",
        "    raise NotImplementedError()\n",
        "\n",
        "## cost_func computes the cost function J\n",
        "def cost_func(theta, X, y): \n",
        "    # YOUR CODE HERE\n",
        "    \n",
        "    # 2x1, 100x2, 100x1\n",
        "    \n",
        "    M = X.shape[1]\n",
        "    \n",
        "    h_theta = hypothesis(theta, X)\n",
        "    \n",
        "    loss = 1/2*M * ((h_theta-y).t().mm(h_theta-y))\n",
        "    \n",
        "    return loss\n",
        "    \n",
        "    # raise NotImplementedError()"
      ],
      "execution_count": 0,
      "outputs": []
    },
    {
      "metadata": {
        "id": "7J4S6SLBeZnt",
        "colab_type": "code",
        "outputId": "b7041af4-483b-41fe-d933-f1a1284f30f6",
        "colab": {
          "base_uri": "https://localhost:8080/",
          "height": 51
        }
      },
      "cell_type": "code",
      "source": [
        "print(X.shape, theta_true.shape, y.shape)\n",
        "\n",
        "print(X.mm(theta_true).shape)"
      ],
      "execution_count": 0,
      "outputs": [
        {
          "output_type": "stream",
          "text": [
            "torch.Size([100, 2]) torch.Size([2, 1]) torch.Size([100, 1])\n",
            "torch.Size([100, 1])\n"
          ],
          "name": "stdout"
        }
      ]
    },
    {
      "metadata": {
        "deletable": false,
        "editable": false,
        "nbgrader": {
          "checksum": "81607b0b07d30d5873cfc349f49a5000",
          "grade": false,
          "grade_id": "cell-d0cb37c31097d491",
          "locked": true,
          "schema_version": 1,
          "solution": false
        },
        "id": "KNKJ78XFazqv",
        "colab_type": "text"
      },
      "cell_type": "markdown",
      "source": [
        "Now let's plot the updates to see what is happening as we iterate over the algorithm. First, we will plot $J$ as a function of $\\theta_1$ as well as the resulting equation of the line learned over $N=5$ iterations. Once your code is working, modify the value of $\\eta$ to see how it affects convergence.\n",
        "\n",
        "The figure below illustrates what you're aiming to plot. Note, much of the code to generate the figures is given below, you mostly need to complete the 3 functions above and then fill in a few missing lines of code below."
      ]
    },
    {
      "metadata": {
        "deletable": false,
        "editable": false,
        "nbgrader": {
          "checksum": "0c8aa3bd5465cf5b8a6d2ad5976e69ff",
          "grade": false,
          "grade_id": "cell-32de56d64c670852",
          "locked": true,
          "schema_version": 1,
          "solution": false
        },
        "id": "wOXjYE7Zazqv",
        "colab_type": "text"
      },
      "cell_type": "markdown",
      "source": [
        "<img src=\"http://comp6248.ecs.soton.ac.uk/labs/lab3/Figure1.png\">"
      ]
    },
    {
      "metadata": {
        "deletable": false,
        "editable": false,
        "nbgrader": {
          "checksum": "b50e9a89855e23ac6ffc655323c55876",
          "grade": false,
          "grade_id": "cell-59662fa076965410",
          "locked": true,
          "schema_version": 1,
          "solution": false
        },
        "id": "gdt513Fnazqw",
        "colab_type": "text"
      },
      "cell_type": "markdown",
      "source": [
        "### First generate the figure on the left hand side. This plot shows the data and the linear fit of the data as the model parameters change over the 5 iterations."
      ]
    },
    {
      "metadata": {
        "deletable": false,
        "nbgrader": {
          "checksum": "ba6c7a291b78ef143956304d0159ea52",
          "grade": true,
          "grade_id": "cell-7663cd58d1e91c37",
          "locked": false,
          "points": 2,
          "schema_version": 1,
          "solution": true
        },
        "id": "rtLNR0Toazqw",
        "colab_type": "code",
        "outputId": "835c5008-f661-4983-8051-ec59dfe71b06",
        "colab": {
          "base_uri": "https://localhost:8080/",
          "height": 238
        }
      },
      "cell_type": "code",
      "source": [
        "## Now we can plot the lines over iterations\n",
        "## To do this, we start by constructing a grid of parameter pairs and their corresponding cost function values. \n",
        "\n",
        "# plot 100 pts\n",
        "x_axis = np.linspace(-1,1,100)\n",
        "\n",
        "\n",
        "theta_grid = torch.Tensor(len(x_axis),2)\n",
        "\n",
        "# theta_grid shape: 100x2\n",
        "\n",
        "# fill 1st col with values from x_axis and 2nd col with 2\n",
        "\n",
        "theta_grid[:,0] = torch.from_numpy(x_axis)\n",
        "theta_grid[:,1] = 2.0\n",
        "\n",
        "J_grid = cost_func(theta_grid.t(), X, y)\n",
        "\n",
        "N = 5\n",
        "eta = 0.03\n",
        "\n",
        "theta_0 = torch.Tensor([[0.0], [2.0]]) #initialise \n",
        "J_t = torch.Tensor(1,N)\n",
        "theta = torch.Tensor(2,1,N)\n",
        "J_t[:,0] = cost_func(theta_0, X, y)[0]\n",
        "theta[:,:,0] = theta_0\n",
        "\n",
        "for j in range(1,N):\n",
        "    last_theta = theta[:,:,j-1]\n",
        "    ## Compute the value of this_theta\n",
        "    # YOUR CODE HERE\n",
        "    raise NotImplementedError()\n",
        "    theta[:,:,j] = this_theta\n",
        "    J_t[:,j] = cost_func(this_theta,X,y)[0]\n",
        "\n",
        "    \n",
        "colors = ['b', 'g', 'm', 'c', 'orange']\n",
        "\n",
        "## Plot the data \n",
        "# YOUR CODE HERE\n",
        "# raise NotImplementedError()\n",
        "\n",
        "plt.xlabel(r'$x$')\n",
        "plt.ylabel(r'$y$')\n",
        "plt.title('Data and fit')"
      ],
      "execution_count": 6,
      "outputs": [
        {
          "output_type": "error",
          "ename": "NameError",
          "evalue": "ignored",
          "traceback": [
            "\u001b[0;31m---------------------------------------------------------------------------\u001b[0m",
            "\u001b[0;31mNameError\u001b[0m                                 Traceback (most recent call last)",
            "\u001b[0;32m<ipython-input-6-9dacaa678950>\u001b[0m in \u001b[0;36m<module>\u001b[0;34m()\u001b[0m\n\u001b[1;32m     19\u001b[0m \u001b[0mJ_t\u001b[0m \u001b[0;34m=\u001b[0m \u001b[0mtorch\u001b[0m\u001b[0;34m.\u001b[0m\u001b[0mTensor\u001b[0m\u001b[0;34m(\u001b[0m\u001b[0;36m1\u001b[0m\u001b[0;34m,\u001b[0m\u001b[0mN\u001b[0m\u001b[0;34m)\u001b[0m\u001b[0;34m\u001b[0m\u001b[0;34m\u001b[0m\u001b[0m\n\u001b[1;32m     20\u001b[0m \u001b[0mtheta\u001b[0m \u001b[0;34m=\u001b[0m \u001b[0mtorch\u001b[0m\u001b[0;34m.\u001b[0m\u001b[0mTensor\u001b[0m\u001b[0;34m(\u001b[0m\u001b[0;36m2\u001b[0m\u001b[0;34m,\u001b[0m\u001b[0;36m1\u001b[0m\u001b[0;34m,\u001b[0m\u001b[0mN\u001b[0m\u001b[0;34m)\u001b[0m\u001b[0;34m\u001b[0m\u001b[0;34m\u001b[0m\u001b[0m\n\u001b[0;32m---> 21\u001b[0;31m \u001b[0mJ_t\u001b[0m\u001b[0;34m[\u001b[0m\u001b[0;34m:\u001b[0m\u001b[0;34m,\u001b[0m\u001b[0;36m0\u001b[0m\u001b[0;34m]\u001b[0m \u001b[0;34m=\u001b[0m \u001b[0mcost_func\u001b[0m\u001b[0;34m(\u001b[0m\u001b[0mtheta_0\u001b[0m\u001b[0;34m,\u001b[0m \u001b[0mX\u001b[0m\u001b[0;34m,\u001b[0m \u001b[0my\u001b[0m\u001b[0;34m)\u001b[0m\u001b[0;34m[\u001b[0m\u001b[0;36m0\u001b[0m\u001b[0;34m]\u001b[0m\u001b[0;34m\u001b[0m\u001b[0;34m\u001b[0m\u001b[0m\n\u001b[0m\u001b[1;32m     22\u001b[0m \u001b[0mtheta\u001b[0m\u001b[0;34m[\u001b[0m\u001b[0;34m:\u001b[0m\u001b[0;34m,\u001b[0m\u001b[0;34m:\u001b[0m\u001b[0;34m,\u001b[0m\u001b[0;36m0\u001b[0m\u001b[0;34m]\u001b[0m \u001b[0;34m=\u001b[0m \u001b[0mtheta_0\u001b[0m\u001b[0;34m\u001b[0m\u001b[0;34m\u001b[0m\u001b[0m\n\u001b[1;32m     23\u001b[0m \u001b[0;34m\u001b[0m\u001b[0m\n",
            "\u001b[0;31mNameError\u001b[0m: name 'cost_func' is not defined"
          ]
        }
      ]
    },
    {
      "metadata": {
        "id": "v6jQo5gIDKuN",
        "colab_type": "code",
        "colab": {
          "base_uri": "https://localhost:8080/",
          "height": 247
        },
        "outputId": "ed905ee6-b18c-4025-fb4f-6fc9a4591f30"
      },
      "cell_type": "code",
      "source": [
        "\"\"\"\n",
        "\n",
        "test = torch.Tensor(2, 1, 5)\n",
        "print(test)\n",
        "\n",
        "print(test[:,0,:])\n",
        "\n",
        "T_data = [[[1., 2.], \n",
        "           [3., 4.]],\n",
        "          [[5., 6.], \n",
        "           [7., 8.]],\n",
        "          [[9., 10.],\n",
        "           [11., 12.]]\n",
        "         ]\n",
        "\n",
        "\n",
        "T = torch.tensor(T_data)\n",
        "print(T.shape)\n",
        "\n",
        "print(T[2])\n",
        "\n",
        "theta = torch.Tensor(2,1,5)\n",
        "\n",
        "print(theta)\n",
        "\n",
        "print(theta[:,:,0])\n",
        "\n",
        "\"\"\"\n"
      ],
      "execution_count": 37,
      "outputs": [
        {
          "output_type": "stream",
          "text": [
            "tensor([[[4.7057e-38, 0.0000e+00, 0.0000e+00, 0.0000e+00, 0.0000e+00]],\n",
            "\n",
            "        [[0.0000e+00, 0.0000e+00, 0.0000e+00, 0.0000e+00, 0.0000e+00]]])\n",
            "tensor([[4.7057e-38, 0.0000e+00, 0.0000e+00, 0.0000e+00, 0.0000e+00],\n",
            "        [0.0000e+00, 0.0000e+00, 0.0000e+00, 0.0000e+00, 0.0000e+00]])\n",
            "torch.Size([3, 2, 2])\n",
            "tensor([[ 9., 10.],\n",
            "        [11., 12.]])\n",
            "tensor([[[4.7057e-38, 0.0000e+00, 1.6816e-44, 0.0000e+00,        nan]],\n",
            "\n",
            "        [[6.0000e+00, 4.4721e+21, 1.5956e+25, 4.7399e+16, 1.0000e+01]]])\n",
            "tensor([[4.7057e-38],\n",
            "        [6.0000e+00]])\n"
          ],
          "name": "stdout"
        }
      ]
    },
    {
      "metadata": {
        "deletable": false,
        "editable": false,
        "nbgrader": {
          "checksum": "eaa1ff5b63e1b744b02ea8afa8c533a5",
          "grade": false,
          "grade_id": "cell-e7fd81fa921c6327",
          "locked": true,
          "schema_version": 1,
          "solution": false
        },
        "id": "QzQYC0_1azqy",
        "colab_type": "text"
      },
      "cell_type": "markdown",
      "source": [
        "### Next, generate the plots on the right hand side. This figure is a plot of the cost function over the value of $\\theta_1$ as well as the updates of $\\theta_1$ over iterations."
      ]
    },
    {
      "metadata": {
        "deletable": false,
        "nbgrader": {
          "checksum": "af94209b76d722c3775a2015d1b90dbc",
          "grade": true,
          "grade_id": "cell-c9fa638485b0726e",
          "locked": false,
          "points": 1,
          "schema_version": 1,
          "solution": true
        },
        "id": "v3ZQpCGQazq0",
        "colab_type": "code",
        "colab": {}
      },
      "cell_type": "code",
      "source": [
        "# YOUR CODE HERE\n",
        "raise NotImplementedError()\n",
        "\n",
        "# add the plot axes labels and title\n",
        "plt.xlabel(r'$\\theta_1$')\n",
        "plt.ylabel(r'$J(\\theta_1)$')\n",
        "plt.title('Cost function')"
      ],
      "execution_count": 0,
      "outputs": []
    },
    {
      "metadata": {
        "deletable": false,
        "editable": false,
        "nbgrader": {
          "checksum": "d06192ebc2f3cc31e5c1d42b924f1283",
          "grade": false,
          "grade_id": "cell-e70124241b132a09",
          "locked": true,
          "schema_version": 1,
          "solution": false
        },
        "id": "djMgC7cpazq2",
        "colab_type": "text"
      },
      "cell_type": "markdown",
      "source": [
        "### Finally, generate a contour plot of the cost function"
      ]
    },
    {
      "metadata": {
        "deletable": false,
        "nbgrader": {
          "checksum": "c5a3cbc10e84dcf6671cd5f1ff181839",
          "grade": true,
          "grade_id": "cell-83e4d7737cbda3d1",
          "locked": false,
          "points": 1,
          "schema_version": 1,
          "solution": true
        },
        "id": "W7TSbAYPazq2",
        "colab_type": "code",
        "colab": {}
      },
      "cell_type": "code",
      "source": [
        "## Generate a grid of values for theta_0 and theta_1 and compute the cost function for every combination.\n",
        "\n",
        "theta_0_vals = np.linspace(-1.0,1,100)\n",
        "theta_1_vals = np.linspace(-4.0,4,100)\n",
        "theta = torch.Tensor(len(theta_0_vals),2)\n",
        "\n",
        "# Compute the cost function over every combination of values for theta in a variable called J which will then be plot below\n",
        "# YOUR CODE HERE\n",
        "raise NotImplementedError()\n",
        "\n",
        "xc,yc = np.meshgrid(theta_0_vals, theta_1_vals)\n",
        "contours = plt.contour(xc, yc, J, 20)\n",
        "plt.clabel(contours)"
      ],
      "execution_count": 0,
      "outputs": []
    }
  ]
}