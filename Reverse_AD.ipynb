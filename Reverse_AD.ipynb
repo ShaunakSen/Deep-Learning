{
  "nbformat": 4,
  "nbformat_minor": 0,
  "metadata": {
    "colab": {
      "name": "Reverse AD.ipynb",
      "version": "0.3.2",
      "provenance": [],
      "collapsed_sections": [],
      "include_colab_link": true
    },
    "kernelspec": {
      "name": "python3",
      "display_name": "Python 3"
    }
  },
  "cells": [
    {
      "cell_type": "markdown",
      "metadata": {
        "id": "view-in-github",
        "colab_type": "text"
      },
      "source": [
        "<a href=\"https://colab.research.google.com/github/ShaunakSen/Deep-Learning/blob/master/Reverse_AD.ipynb\" target=\"_parent\"><img src=\"https://colab.research.google.com/assets/colab-badge.svg\" alt=\"Open In Colab\"/></a>"
      ]
    },
    {
      "metadata": {
        "id": "hPWLouhy9UAJ",
        "colab_type": "text"
      },
      "cell_type": "markdown",
      "source": [
        "## Reverse Mode Auto Diff\n",
        "\n",
        "```\n",
        "# Program A\n",
        "x = ?\n",
        "y = ?\n",
        "a = x * y\n",
        "b = sin(x)\n",
        "z = a + b\n",
        "```\n",
        "\n",
        "![](https://rufflewind.com/img/reverse-mode-automatic-differentiation-graph.png)\n",
        "\n",
        "```\n",
        "gz = ?\n",
        "gb = gz\n",
        "ga = gz\n",
        "gy = x * ga\n",
        "gx = y * ga + cos(x) * gb\n",
        "```\n",
        "\n",
        "Going back to the equations (R1), we see that if we substitute s=z, we would obtain the gradient in the last two equations. In the program, this is equivalent to setting gz = 1 since gz is just ∂s/∂z. We no longer need to run the program twice! This is reverse-mode automatic differentiation.\n",
        "\n",
        "### A simple implementation in Python\n",
        "\n",
        "\n",
        "One way is to parse the original program and then generate an adjoint program that calculates the derivatives. This is usually quite complicated to implement, and its difficulty varies significantly depending on the complexity of the host language. Nonetheless, this may be worthwhile if efficient is critical, as there are more opportunities to perform optimizations in this static approach.\n",
        "\n",
        "A simpler way is to do this dynamically: construct a full graph that represents our original expression as as the program runs. The goal is to get something akin to the dependency graph we drew earlier:\n",
        "\n",
        "The “roots” of the graph are the independent variables x and y, which could also be thought of as nullary operations. Constructing these nodes is a simple matter of creating an object on the heap:\n",
        "\n"
      ]
    },
    {
      "metadata": {
        "id": "I6xmtBSsGSZL",
        "colab_type": "code",
        "colab": {}
      },
      "cell_type": "code",
      "source": [
        "import math"
      ],
      "execution_count": 0,
      "outputs": []
    },
    {
      "metadata": {
        "id": "eO0daNBu9SpN",
        "colab_type": "code",
        "outputId": "dfe1b52c-10c0-4b6d-c8bd-64a2f76ede8a",
        "colab": {
          "base_uri": "https://localhost:8080/",
          "height": 34
        }
      },
      "cell_type": "code",
      "source": [
        "class Var:\n",
        "  def __init__(self, value):\n",
        "    self.value = value\n",
        "    self.children = []\n",
        "    \n",
        "    self.grad_value = None\n",
        "    \n",
        "  def grad(self):\n",
        "    if self.grad_value is None:\n",
        "      self.grad_value = sum(weight * var.grad() for weight, var in self.children)\n",
        "    return self.grad_value\n",
        "    \n",
        "    \n",
        "  \n",
        "  def __mul__(self, other):\n",
        "    z = Var(self.value * other.value)\n",
        "    self.children.append((other.value, z))\n",
        "    other.children.append((self.value, z))\n",
        "    return z\n",
        "  \n",
        "  def __add__(self, other):\n",
        "    z = Var(self.value + other.value)\n",
        "    self.children.append((1.0, z))\n",
        "    other.children.append((1.0, z))\n",
        "    return z\n",
        "  \n",
        "  def __truediv__(self,other):\n",
        "    z = Var(self.value/other.value)\n",
        "    self.children.append((1.0/other.value, z))\n",
        "    other.children.append((-1.0*self.value*other.value**-2, z))\n",
        "    return z\n",
        "  \n",
        "  def sin(self):\n",
        "    z = Var(math.sin(self.value))\n",
        "    self.children.append((math.cos(self.value), z))\n",
        "    return z\n",
        "  \n",
        "  def cos(self):\n",
        "    z = Var(math.cos(self.value))\n",
        "    self.children.append((-math.sin(self.value), z))\n",
        "    return z\n",
        "  \n",
        "  def __pow__(self, other):\n",
        "    \n",
        "    # Using (d/dx) b^x = b^x ln(b)\n",
        "    # Using (d/dx) x^b = b*x^(b-1)\n",
        "    \n",
        "    z = Var(self.value**other.value)\n",
        "    x = self.value\n",
        "    y = other.value\n",
        "    self.children.append((y*x**(y-1), z))\n",
        "    other.children.append((x**y*math.log(x), z))\n",
        "  \n",
        "    return z\n",
        "  \n",
        "  def tan(self):\n",
        "    return\n",
        "  \n",
        "x = Var(0.5)\n",
        "y = Var(4.2)\n",
        "  \n",
        "a = x*y + x**y\n",
        "\n",
        "a.grad_value = 1.0\n",
        "\n",
        "print(\"∂a/∂y = {}\".format(y.grad()))"
      ],
      "execution_count": 22,
      "outputs": [
        {
          "output_type": "stream",
          "text": [
            "∂a/∂y = 0.46228627071977624\n"
          ],
          "name": "stdout"
        }
      ]
    },
    {
      "metadata": {
        "id": "IOfNJ56Mea9o",
        "colab_type": "code",
        "outputId": "e1b4430f-334b-4262-cd11-aeebd1f054bd",
        "colab": {
          "base_uri": "https://localhost:8080/",
          "height": 34
        }
      },
      "cell_type": "code",
      "source": [
        "x = 0.5\n",
        "y = 4.2\n",
        "\n",
        "x + (x**y)*math.log(x)"
      ],
      "execution_count": 21,
      "outputs": [
        {
          "output_type": "execute_result",
          "data": {
            "text/plain": [
              "0.46228627071977624"
            ]
          },
          "metadata": {
            "tags": []
          },
          "execution_count": 21
        }
      ]
    }
  ]
}