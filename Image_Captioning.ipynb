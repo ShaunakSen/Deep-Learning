{
  "nbformat": 4,
  "nbformat_minor": 0,
  "metadata": {
    "colab": {
      "name": "Image Captioning.ipynb",
      "version": "0.3.2",
      "provenance": [],
      "collapsed_sections": [],
      "include_colab_link": true
    },
    "kernelspec": {
      "name": "python3",
      "display_name": "Python 3"
    },
    "accelerator": "GPU"
  },
  "cells": [
    {
      "cell_type": "markdown",
      "metadata": {
        "id": "view-in-github",
        "colab_type": "text"
      },
      "source": [
        "<a href=\"https://colab.research.google.com/github/ShaunakSen/Deep-Learning/blob/master/Image_Captioning.ipynb\" target=\"_parent\"><img src=\"https://colab.research.google.com/assets/colab-badge.svg\" alt=\"Open In Colab\"/></a>"
      ]
    },
    {
      "cell_type": "markdown",
      "metadata": {
        "id": "VMYJhfFPV1V4",
        "colab_type": "text"
      },
      "source": [
        "## How to Use The Pre-Trained VGG Model to Classify Objects in Photographs\n",
        "\n",
        "[link](https://machinelearningmastery.com/use-pre-trained-vgg-model-classify-objects-photographs/)\n",
        "\n",
        "Convolutional neural networks are now capable of outperforming humans on some computer vision tasks, such as classifying images.\n",
        "\n",
        "That is, given a photograph of an object, answer the question as to which of 1,000 specific objects the photograph shows.\n",
        "\n",
        "A competition-winning model for this task is the VGG model by researchers at Oxford. What is important about this model, besides its capability of classifying objects in photographs, is that the model weights are freely available and can be loaded and used in your own models and applications.\n",
        "\n",
        "### ImageNet\n",
        "\n",
        "ImageNet is a research project to develop a large database of images with annotations, e.g. images and their descriptions.\n",
        "\n",
        "The images and their annotations have been the basis for an image classification challenge called the ImageNet Large Scale Visual Recognition Challenge or ILSVRC since 2010. The result is that research organizations battle it out on pre-defined datasets to see who has the best model for classifying the objects in images.\n",
        "\n",
        "For the classification task, images must be classified into one of 1,000 different categories.\n",
        "\n",
        "For the last few years very deep convolutional neural network models have been used to win these challenges and results on the tasks have exceeded human performance.\n",
        "\n",
        "### The Oxford VGG Models\n",
        "\n",
        "Researchers from the Oxford Visual Geometry Group, or VGG for short, participate in the ILSVRC challenge.\n",
        "\n",
        "In 2014, convolutional neural network models (CNN) developed by the VGG won the image classification tasks.\n",
        "\n",
        "VGG released two different CNN models, specifically a 16-layer model and a 19-layer model.\n",
        "\n",
        "The VGG models are not longer state-of-the-art by only a few percentage points. Nevertheless, they are very powerful models and useful both as image classifiers and as the basis for new models that use image inputs.\n",
        "\n",
        "### Load the VGG Model in Keras\n",
        "\n",
        "The VGG model can be loaded and used in the Keras deep learning library.\n",
        "\n",
        "Keras provides an Applications interface for loading and using pre-trained models.\n",
        "\n",
        "Using this interface, you can create a VGG model using the pre-trained weights provided by the Oxford group and use it as a starting point in your own model, or use it as a model directly for classifying images.\n",
        "\n",
        "In this tutorial, we will focus on the use case of classifying new images using the VGG model.\n",
        "\n",
        "Keras provides both the 16-layer and 19-layer version via the VGG16 and VGG19 classes. Let’s focus on the VGG16 model.\n",
        "\n",
        "The model can be created as follows:\n",
        "\n"
      ]
    },
    {
      "cell_type": "code",
      "metadata": {
        "id": "gh9QjvX7Yl84",
        "colab_type": "code",
        "colab": {}
      },
      "source": [
        "from keras.applications.vgg16 import VGG16\n",
        "\n",
        "model = VGG16()"
      ],
      "execution_count": 0,
      "outputs": []
    },
    {
      "cell_type": "markdown",
      "metadata": {
        "id": "vid1krbHZAPs",
        "colab_type": "text"
      },
      "source": [
        "That’s it.\n",
        "\n",
        "The first time you run this example, Keras will download the weight files from the Internet and store them in the ~/.keras/models directory.\n",
        "\n",
        "Note that the weights are about 528 megabytes, so the download may take a few minutes depending on the speed of your Internet connection.\n",
        "\n",
        "The weights are only downloaded once. The next time you run the example, the weights are loaded locally and the model should be ready to use in seconds.\n",
        "\n",
        "We can use the standard Keras tools for inspecting the model structure.\n",
        "\n",
        "For example, you can print a summary of the network layers as follows:\n",
        "\n"
      ]
    },
    {
      "cell_type": "code",
      "metadata": {
        "id": "eEpUeJMgZLtL",
        "colab_type": "code",
        "colab": {
          "base_uri": "https://localhost:8080/",
          "height": 976
        },
        "outputId": "54167c90-b548-438c-9c50-5909634ba259"
      },
      "source": [
        "print (model.summary())"
      ],
      "execution_count": 8,
      "outputs": [
        {
          "output_type": "stream",
          "text": [
            "_________________________________________________________________\n",
            "Layer (type)                 Output Shape              Param #   \n",
            "=================================================================\n",
            "input_2 (InputLayer)         (None, 224, 224, 3)       0         \n",
            "_________________________________________________________________\n",
            "block1_conv1 (Conv2D)        (None, 224, 224, 64)      1792      \n",
            "_________________________________________________________________\n",
            "block1_conv2 (Conv2D)        (None, 224, 224, 64)      36928     \n",
            "_________________________________________________________________\n",
            "block1_pool (MaxPooling2D)   (None, 112, 112, 64)      0         \n",
            "_________________________________________________________________\n",
            "block2_conv1 (Conv2D)        (None, 112, 112, 128)     73856     \n",
            "_________________________________________________________________\n",
            "block2_conv2 (Conv2D)        (None, 112, 112, 128)     147584    \n",
            "_________________________________________________________________\n",
            "block2_pool (MaxPooling2D)   (None, 56, 56, 128)       0         \n",
            "_________________________________________________________________\n",
            "block3_conv1 (Conv2D)        (None, 56, 56, 256)       295168    \n",
            "_________________________________________________________________\n",
            "block3_conv2 (Conv2D)        (None, 56, 56, 256)       590080    \n",
            "_________________________________________________________________\n",
            "block3_conv3 (Conv2D)        (None, 56, 56, 256)       590080    \n",
            "_________________________________________________________________\n",
            "block3_pool (MaxPooling2D)   (None, 28, 28, 256)       0         \n",
            "_________________________________________________________________\n",
            "block4_conv1 (Conv2D)        (None, 28, 28, 512)       1180160   \n",
            "_________________________________________________________________\n",
            "block4_conv2 (Conv2D)        (None, 28, 28, 512)       2359808   \n",
            "_________________________________________________________________\n",
            "block4_conv3 (Conv2D)        (None, 28, 28, 512)       2359808   \n",
            "_________________________________________________________________\n",
            "block4_pool (MaxPooling2D)   (None, 14, 14, 512)       0         \n",
            "_________________________________________________________________\n",
            "block5_conv1 (Conv2D)        (None, 14, 14, 512)       2359808   \n",
            "_________________________________________________________________\n",
            "block5_conv2 (Conv2D)        (None, 14, 14, 512)       2359808   \n",
            "_________________________________________________________________\n",
            "block5_conv3 (Conv2D)        (None, 14, 14, 512)       2359808   \n",
            "_________________________________________________________________\n",
            "block5_pool (MaxPooling2D)   (None, 7, 7, 512)         0         \n",
            "_________________________________________________________________\n",
            "flatten (Flatten)            (None, 25088)             0         \n",
            "_________________________________________________________________\n",
            "fc1 (Dense)                  (None, 4096)              102764544 \n",
            "_________________________________________________________________\n",
            "fc2 (Dense)                  (None, 4096)              16781312  \n",
            "_________________________________________________________________\n",
            "predictions (Dense)          (None, 1000)              4097000   \n",
            "=================================================================\n",
            "Total params: 138,357,544\n",
            "Trainable params: 138,357,544\n",
            "Non-trainable params: 0\n",
            "_________________________________________________________________\n",
            "None\n"
          ],
          "name": "stdout"
        }
      ]
    },
    {
      "cell_type": "markdown",
      "metadata": {
        "id": "R2A7AXr6ZAGE",
        "colab_type": "text"
      },
      "source": [
        "You can see that the model is huge.\n",
        "\n",
        "You can also see that, by default, the model expects images as input with the size 224 x 224 pixels with 3 channels (e.g. color).\n",
        "\n",
        "![](https://3qeqpr26caki16dnhd19sv6by6v-wpengine.netdna-ssl.com/wp-content/uploads/2017/08/Plot-of-Layers-in-the-VGG-Model.png)\n",
        "\n",
        "The VGG() class takes a few arguments that may only interest you if you are looking to use the model in your own project, e.g. for transfer learning.\n",
        "\n",
        "\n",
        "For example:\n",
        "\n",
        "- include_top (True): Whether or not to include the output layers for the model. You don’t need these if you are fitting the model on your own problem.\n",
        "- weights (‘imagenet‘): What weights to load. You can specify None to not load pre-trained weights if you are interested in training the model yourself from scratch.\n",
        "- input_tensor (None): A new input layer if you intend to fit the model on new data of a different size.\n",
        "- input_shape (None): The size of images that the model is expected to take if you change the input layer.\n",
        "- pooling (None): The type of pooling to use when you are training a new set of output layers.\n",
        "- classes (1000): The number of classes (e.g. size of output vector) for the model.\n",
        "\n",
        "\n",
        "Next, let’s look at using the loaded VGG model to classify ad hoc photographs.\n",
        "\n"
      ]
    },
    {
      "cell_type": "markdown",
      "metadata": {
        "id": "qRPSs-Q7Y_43",
        "colab_type": "text"
      },
      "source": [
        "### Develop a Simple Photo Classifier\n",
        "\n",
        "Next, we can load the image as pixel data and prepare it to be presented to the network.\n",
        "\n",
        "Keras provides some tools to help with this step.\n",
        "\n",
        "First, we can use the load_img() function to load the image and resize it to the required size of 224×224 pixels."
      ]
    },
    {
      "cell_type": "code",
      "metadata": {
        "id": "erII1vG3ashH",
        "colab_type": "code",
        "colab": {
          "base_uri": "https://localhost:8080/",
          "height": 34
        },
        "outputId": "bf3741d5-e909-4b70-f7f7-05920ebff238"
      },
      "source": [
        "from keras.preprocessing.image import load_img\n",
        "from keras.preprocessing.image import img_to_array\n",
        "# load img from file\n",
        "image = load_img(path='./4994221690_d070e8a355_z.jpg', target_size=(224, 224))\n",
        "\n",
        "# Next, we can convert the pixels to a NumPy array so that we can work with it in Keras.\n",
        "# We can use the img_to_array() function for this.\n",
        "\n",
        "image = img_to_array(img=image)\n",
        "\n",
        "print (image.shape)"
      ],
      "execution_count": 11,
      "outputs": [
        {
          "output_type": "stream",
          "text": [
            "(224, 224, 3)\n"
          ],
          "name": "stdout"
        }
      ]
    },
    {
      "cell_type": "markdown",
      "metadata": {
        "id": "Mja5h3WEbief",
        "colab_type": "text"
      },
      "source": [
        "The network expects one or more images as input; that means the input array will need to be 4-dimensional: `[samples, rows, columns, and channels]`.\n",
        "\n",
        "We only have one sample (one image). We can reshape the array by calling reshape() and adding the extra dimension.\n",
        "\n",
        "\n",
        "Next, the image pixels need to be prepared in the same way as the ImageNet training data was prepared. Specifically, from the paper:\n",
        "\n",
        "> The only preprocessing we do is subtracting the mean RGB value, computed on the training set, from each pixel.\n",
        "\n",
        "Keras provides a function called preprocess_input() to prepare new input for the network.\n",
        "\n",
        "\n",
        "\n"
      ]
    },
    {
      "cell_type": "code",
      "metadata": {
        "id": "e9S-eDe1arTd",
        "colab_type": "code",
        "colab": {
          "base_uri": "https://localhost:8080/",
          "height": 34
        },
        "outputId": "36394e81-ec46-43d5-e204-c42f0fa8bc51"
      },
      "source": [
        "# reshape data for the model\n",
        "image = image.reshape((1, image.shape[0], image.shape[1], image.shape[2]))\n",
        "\n",
        "print (image.shape)"
      ],
      "execution_count": 13,
      "outputs": [
        {
          "output_type": "stream",
          "text": [
            "(1, 224, 224, 3)\n"
          ],
          "name": "stdout"
        }
      ]
    },
    {
      "cell_type": "code",
      "metadata": {
        "id": "KrFXZKX1crT3",
        "colab_type": "code",
        "colab": {
          "base_uri": "https://localhost:8080/",
          "height": 34
        },
        "outputId": "698b8a84-6ea6-49dd-c899-ad1bb20855c0"
      },
      "source": [
        "from keras.applications.vgg16 import preprocess_input\n",
        "\n",
        "# prepare the image for the VGG model\n",
        "image = preprocess_input(image)\n",
        "\n",
        "print (image.shape)"
      ],
      "execution_count": 14,
      "outputs": [
        {
          "output_type": "stream",
          "text": [
            "(1, 224, 224, 3)\n"
          ],
          "name": "stdout"
        }
      ]
    },
    {
      "cell_type": "markdown",
      "metadata": {
        "id": "iKlqjwl3dkLJ",
        "colab_type": "text"
      },
      "source": [
        "We are now ready to make a prediction for our loaded and prepared image.\n",
        "\n",
        "We can call the predict() function on the model in order to get a prediction of the probability of the image belonging to each of the 1000 known object types.\n",
        "\n"
      ]
    },
    {
      "cell_type": "code",
      "metadata": {
        "id": "Eh0y5wJQd0q-",
        "colab_type": "code",
        "colab": {
          "base_uri": "https://localhost:8080/",
          "height": 34
        },
        "outputId": "a796782a-13f5-4f83-8cfc-aaa48c1d2ae8"
      },
      "source": [
        "# predict the probability across all output classes\n",
        "yhat = model.predict(image)\n",
        "\n",
        "print (yhat.shape)"
      ],
      "execution_count": 16,
      "outputs": [
        {
          "output_type": "stream",
          "text": [
            "(1, 1000)\n"
          ],
          "name": "stdout"
        }
      ]
    },
    {
      "cell_type": "markdown",
      "metadata": {
        "id": "EkV3KaJAeGuL",
        "colab_type": "text"
      },
      "source": [
        "Keras provides a function to interpret the probabilities called decode_predictions().\n",
        "\n",
        "It can return a list of classes and their probabilities in case you would like to present the top 3 objects that may be in the photo.\n",
        "\n",
        "We will just report the first most likely object."
      ]
    },
    {
      "cell_type": "code",
      "metadata": {
        "id": "eIRm3noTeHqA",
        "colab_type": "code",
        "colab": {
          "base_uri": "https://localhost:8080/",
          "height": 70
        },
        "outputId": "1a1d2d0e-37aa-4510-da62-e62c6df7de68"
      },
      "source": [
        "from keras.applications.vgg16 import decode_predictions\n",
        "\n",
        "# convert the probabilities to class labels\n",
        "label = decode_predictions(yhat)\n",
        "\n",
        "print (len(label[0]))\n",
        "\n",
        "# retrieve the most likely result, e.g. highest probability\n",
        "\n",
        "label = label[0][0]\n",
        "\n",
        "print (label)\n",
        "\n",
        "print('%s (%.2f%%)' % (label[1], label[2]*100))"
      ],
      "execution_count": 24,
      "outputs": [
        {
          "output_type": "stream",
          "text": [
            "5\n",
            "('n03063599', 'coffee_mug', 0.7336321)\n",
            "coffee_mug (73.36%)\n"
          ],
          "name": "stdout"
        }
      ]
    },
    {
      "cell_type": "markdown",
      "metadata": {
        "id": "u0fO308zAjpQ",
        "colab_type": "text"
      },
      "source": [
        "## How to Develop a Deep Learning Photo Caption Generator from Scratch\n",
        "\n",
        "[link](https://machinelearningmastery.com/develop-a-deep-learning-caption-generation-model-in-python/)\n",
        "\n",
        "### Download and extract the dataset"
      ]
    },
    {
      "cell_type": "code",
      "metadata": {
        "id": "NAf2TVTe0UCK",
        "colab_type": "code",
        "colab": {}
      },
      "source": [
        "from urllib.request import urlopen\n",
        "from zipfile import ZipFile\n",
        "\n",
        "zipurl = 'https://github.com/jbrownlee/Datasets/releases/download/Flickr8k/Flickr8k_Dataset.zip'\n",
        "    # Download the file from the URL\n",
        "zipresp = urlopen(zipurl)\n",
        "    # Create a new file on the hard drive\n",
        "tempzip = open(\"/tmp/Flickr8k_Dataset.zip\", \"wb\")\n",
        "    # Write the contents of the downloaded file into the new file\n",
        "tempzip.write(zipresp.read())\n",
        "    # Close the newly-created file\n",
        "tempzip.close()\n"
      ],
      "execution_count": 0,
      "outputs": []
    },
    {
      "cell_type": "code",
      "metadata": {
        "id": "q9M6L9MO1GZ1",
        "colab_type": "code",
        "colab": {}
      },
      "source": [
        "# Re-open the newly-created file with ZipFile()\n",
        "zf = ZipFile(\"/tmp/Flickr8k_Dataset.zip\")\n",
        "    # Extract its contents into <extraction_path>\n",
        "    # note that extractall will automatically create the path\n",
        "zf.extractall(path = './Flickr8k_Dataset')\n",
        "    # close the ZipFile instance\n",
        "zf.close()"
      ],
      "execution_count": 0,
      "outputs": []
    },
    {
      "cell_type": "code",
      "metadata": {
        "id": "kiZlE1qV2bQ-",
        "colab_type": "code",
        "colab": {}
      },
      "source": [
        "# Re-open the newly-created file with ZipFile()\n",
        "zf = ZipFile(\"./Flickr8k_text.zip\")\n",
        "    # Extract its contents into <extraction_path>\n",
        "    # note that extractall will automatically create the path\n",
        "zf.extractall(path = './Flickr8k_text')\n",
        "    # close the ZipFile instance\n",
        "zf.close()"
      ],
      "execution_count": 0,
      "outputs": []
    },
    {
      "cell_type": "markdown",
      "metadata": {
        "id": "Y5uxrkRyBN0F",
        "colab_type": "text"
      },
      "source": [
        "The dataset is present in the following locations:\n",
        "\n",
        "1. Flickr8k_Dataset\n",
        "2. Flickr8k_text\n",
        "\n",
        "The dataset has a pre-defined training dataset (6,000 images), development dataset (1,000 images), and test dataset (1,000 images).\n",
        "\n",
        "One measure that can be used to evaluate the skill of the model are BLEU scores.\n",
        "\n",
        "- BLEU-1: 0.401 to 0.578.\n",
        "- BLEU-2: 0.176 to 0.390.\n",
        "- BLEU-3: 0.099 to 0.260.\n",
        "- BLEU-4: 0.059 to 0.170.\n",
        "\n",
        "We describe the BLEU metric more later when we work on evaluating our model.\n",
        "\n",
        "Next, let’s look at how to load the images.\n",
        "\n",
        "### Prepare Photo Data\n",
        "\n",
        "We will use a pre-trained model to interpret the content of the photos.\n",
        "\n",
        "There are many models to choose from. In this case, we will use the Oxford Visual Geometry Group, or VGG, model that won the ImageNet competition in 2014. Learn more about the model here:\n",
        "\n",
        "[](http://www.robots.ox.ac.uk/~vgg/research/very_deep/)\n",
        "\n",
        "Keras provides this pre-trained model directly. Note, the first time you use this model, Keras will download the model weights from the Internet, which are about 500 Megabytes. This may take a few minutes depending on your internet connection.\n",
        "\n",
        "\n",
        "We could use this model as part of a broader image caption model. The problem is, it is a large model and running each photo through the network every time we want to test a new language model configuration (downstream) is redundant.\n",
        "\n",
        "Instead, we can pre-compute the “photo features” using the pre-trained model and save them to file. We can then load these features later and feed them into our model as the interpretation of a given photo in the dataset. It is no different to running the photo through the full VGG model; it is just we will have done it once in advance.\n",
        "\n",
        "This is an optimization that will make training our models faster and consume less memory.\n",
        "\n",
        "We can load the VGG model in Keras using the VGG class. We will remove the last layer from the loaded model, as this is the model used to predict a classification for a photo. We are not interested in classifying images, but we are interested in the internal representation of the photo right before a classification is made. These are the “features” that the model has extracted from the photo.\n",
        "\n",
        "Keras also provides tools for reshaping the loaded photo into the preferred size for the model (e.g. 3 channel 224 x 224 pixel image).\n",
        "\n",
        "Below is a function named extract_features() that, given a directory name, will load each photo, prepare it for VGG, and collect the predicted features from the VGG model. The image features are a 1-dimensional 4,096 element vector.\n",
        "\n",
        "The function returns a dictionary of image identifier to image features."
      ]
    },
    {
      "cell_type": "code",
      "metadata": {
        "id": "iTptHUsU2f7L",
        "colab_type": "code",
        "colab": {}
      },
      "source": [
        "from os import listdir\n",
        "from pickle import dump\n",
        "\n",
        "from keras.applications.vgg16 import VGG16\n",
        "from keras.preprocessing.image import load_img\n",
        "from keras.preprocessing.image import img_to_array\n",
        "from keras.applications.vgg16 import preprocess_input\n",
        "from keras.models import Model"
      ],
      "execution_count": 0,
      "outputs": []
    },
    {
      "cell_type": "markdown",
      "metadata": {
        "id": "9-08Ac3pODQK",
        "colab_type": "text"
      },
      "source": [
        "We can call this function to prepare the photo data for testing our models, then save the resulting dictionary to a file named ‘features.pkl‘."
      ]
    },
    {
      "cell_type": "code",
      "metadata": {
        "id": "PuAJ1orcOVrW",
        "colab_type": "code",
        "colab": {
          "base_uri": "https://localhost:8080/",
          "height": 1000
        },
        "outputId": "20ac196c-1b31-4b0f-a2ec-5850d251ae68"
      },
      "source": [
        "model=VGG16()\n",
        "\n",
        "model.summary()"
      ],
      "execution_count": 6,
      "outputs": [
        {
          "output_type": "stream",
          "text": [
            "WARNING: Logging before flag parsing goes to stderr.\n",
            "W0723 09:46:29.956114 139695895652224 deprecation_wrapper.py:119] From /usr/local/lib/python3.6/dist-packages/keras/backend/tensorflow_backend.py:74: The name tf.get_default_graph is deprecated. Please use tf.compat.v1.get_default_graph instead.\n",
            "\n",
            "W0723 09:46:30.007027 139695895652224 deprecation_wrapper.py:119] From /usr/local/lib/python3.6/dist-packages/keras/backend/tensorflow_backend.py:517: The name tf.placeholder is deprecated. Please use tf.compat.v1.placeholder instead.\n",
            "\n",
            "W0723 09:46:30.020456 139695895652224 deprecation_wrapper.py:119] From /usr/local/lib/python3.6/dist-packages/keras/backend/tensorflow_backend.py:4138: The name tf.random_uniform is deprecated. Please use tf.random.uniform instead.\n",
            "\n",
            "W0723 09:46:30.068988 139695895652224 deprecation_wrapper.py:119] From /usr/local/lib/python3.6/dist-packages/keras/backend/tensorflow_backend.py:3976: The name tf.nn.max_pool is deprecated. Please use tf.nn.max_pool2d instead.\n",
            "\n"
          ],
          "name": "stderr"
        },
        {
          "output_type": "stream",
          "text": [
            "Downloading data from https://github.com/fchollet/deep-learning-models/releases/download/v0.1/vgg16_weights_tf_dim_ordering_tf_kernels.h5\n",
            "553467904/553467096 [==============================] - 38s 0us/step\n"
          ],
          "name": "stdout"
        },
        {
          "output_type": "stream",
          "text": [
            "W0723 09:47:10.254584 139695895652224 deprecation_wrapper.py:119] From /usr/local/lib/python3.6/dist-packages/keras/backend/tensorflow_backend.py:174: The name tf.get_default_session is deprecated. Please use tf.compat.v1.get_default_session instead.\n",
            "\n",
            "W0723 09:47:10.256208 139695895652224 deprecation_wrapper.py:119] From /usr/local/lib/python3.6/dist-packages/keras/backend/tensorflow_backend.py:181: The name tf.ConfigProto is deprecated. Please use tf.compat.v1.ConfigProto instead.\n",
            "\n"
          ],
          "name": "stderr"
        },
        {
          "output_type": "stream",
          "text": [
            "_________________________________________________________________\n",
            "Layer (type)                 Output Shape              Param #   \n",
            "=================================================================\n",
            "input_1 (InputLayer)         (None, 224, 224, 3)       0         \n",
            "_________________________________________________________________\n",
            "block1_conv1 (Conv2D)        (None, 224, 224, 64)      1792      \n",
            "_________________________________________________________________\n",
            "block1_conv2 (Conv2D)        (None, 224, 224, 64)      36928     \n",
            "_________________________________________________________________\n",
            "block1_pool (MaxPooling2D)   (None, 112, 112, 64)      0         \n",
            "_________________________________________________________________\n",
            "block2_conv1 (Conv2D)        (None, 112, 112, 128)     73856     \n",
            "_________________________________________________________________\n",
            "block2_conv2 (Conv2D)        (None, 112, 112, 128)     147584    \n",
            "_________________________________________________________________\n",
            "block2_pool (MaxPooling2D)   (None, 56, 56, 128)       0         \n",
            "_________________________________________________________________\n",
            "block3_conv1 (Conv2D)        (None, 56, 56, 256)       295168    \n",
            "_________________________________________________________________\n",
            "block3_conv2 (Conv2D)        (None, 56, 56, 256)       590080    \n",
            "_________________________________________________________________\n",
            "block3_conv3 (Conv2D)        (None, 56, 56, 256)       590080    \n",
            "_________________________________________________________________\n",
            "block3_pool (MaxPooling2D)   (None, 28, 28, 256)       0         \n",
            "_________________________________________________________________\n",
            "block4_conv1 (Conv2D)        (None, 28, 28, 512)       1180160   \n",
            "_________________________________________________________________\n",
            "block4_conv2 (Conv2D)        (None, 28, 28, 512)       2359808   \n",
            "_________________________________________________________________\n",
            "block4_conv3 (Conv2D)        (None, 28, 28, 512)       2359808   \n",
            "_________________________________________________________________\n",
            "block4_pool (MaxPooling2D)   (None, 14, 14, 512)       0         \n",
            "_________________________________________________________________\n",
            "block5_conv1 (Conv2D)        (None, 14, 14, 512)       2359808   \n",
            "_________________________________________________________________\n",
            "block5_conv2 (Conv2D)        (None, 14, 14, 512)       2359808   \n",
            "_________________________________________________________________\n",
            "block5_conv3 (Conv2D)        (None, 14, 14, 512)       2359808   \n",
            "_________________________________________________________________\n",
            "block5_pool (MaxPooling2D)   (None, 7, 7, 512)         0         \n",
            "_________________________________________________________________\n",
            "flatten (Flatten)            (None, 25088)             0         \n",
            "_________________________________________________________________\n",
            "fc1 (Dense)                  (None, 4096)              102764544 \n",
            "_________________________________________________________________\n",
            "fc2 (Dense)                  (None, 4096)              16781312  \n",
            "_________________________________________________________________\n",
            "predictions (Dense)          (None, 1000)              4097000   \n",
            "=================================================================\n",
            "Total params: 138,357,544\n",
            "Trainable params: 138,357,544\n",
            "Non-trainable params: 0\n",
            "_________________________________________________________________\n"
          ],
          "name": "stdout"
        }
      ]
    },
    {
      "cell_type": "code",
      "metadata": {
        "id": "_FPwZKL4KJFS",
        "colab_type": "code",
        "colab": {
          "base_uri": "https://localhost:8080/",
          "height": 34
        },
        "outputId": "6c1e471a-2bae-4bda-80b1-097513138499"
      },
      "source": [
        "print (model.layers[-1])"
      ],
      "execution_count": 28,
      "outputs": [
        {
          "output_type": "stream",
          "text": [
            "<keras.layers.core.Dense object at 0x7f0d203f2c50>\n"
          ],
          "name": "stdout"
        }
      ]
    },
    {
      "cell_type": "code",
      "metadata": {
        "id": "EUnTc8C5Km9Q",
        "colab_type": "code",
        "colab": {
          "base_uri": "https://localhost:8080/",
          "height": 34
        },
        "outputId": "a48bf04a-3cc3-4224-b2ed-aad8039578c5"
      },
      "source": [
        "print (\"No of images:\", len(listdir(path='./Flickr8k_Dataset/Flicker8k_Dataset/')))"
      ],
      "execution_count": 34,
      "outputs": [
        {
          "output_type": "stream",
          "text": [
            "No of images: 8091\n"
          ],
          "name": "stdout"
        }
      ]
    },
    {
      "cell_type": "code",
      "metadata": {
        "id": "vligLZzVOD8G",
        "colab_type": "code",
        "colab": {}
      },
      "source": [
        "def extract_features(directory):\n",
        "  \"\"\"\n",
        "  extract features from each photo in the directory\n",
        "  \"\"\"\n",
        "  \n",
        "  # load the model\n",
        "  model = VGG16()\n",
        "  \n",
        "  # restructure the model\n",
        "  model.layers.pop()\n",
        "  model = Model(inputs=model.inputs, outputs=model.layers[-1].output)\n",
        "  \n",
        "  # summarize\n",
        "  print (model.summary())\n",
        "  \n",
        "  \n",
        "  # extract features from each photo\n",
        "  features = dict()\n",
        "  \n",
        "  # Return a list containing the names of the files in the directory.\n",
        "  for name in listdir(path=directory):\n",
        "    \n",
        "    # load an image from file\n",
        "    filename = directory + '/' + name\n",
        "    image = load_img(path=filename, target_size=(224,224))\n",
        "    \n",
        "    # convert the image pixels to a numpy array\n",
        "    image = img_to_array(img=image)\n",
        "    \n",
        "    # reshape data for the model\n",
        "    # The network expects one or more images as input; \n",
        "    # that means the input array will need to be 4-dimensional: \n",
        "    # [samples, rows, columns, and channels]\n",
        "    image = image.reshape((1, image.shape[0], image.shape[1], image.shape[2]))\n",
        "    \n",
        "    # prepare the image for the VGG model\n",
        "    image = preprocess_input(image)\n",
        "    \n",
        "    # get features\n",
        "    feature = model.predict(x=image, verbose=0)\n",
        "    \n",
        "    # get image id\n",
        "    image_id = name.split('.')[0]\n",
        "    \n",
        "    # store feature in the dict\n",
        "    features[image_id] = feature\n",
        "    print('>%s' % name)\n",
        "    \n",
        "    \n",
        "  return features\n",
        "  \n",
        "directory = './Flickr8k_Dataset/Flicker8k_Dataset/'\n",
        "\n",
        "features = extract_features(directory)\n",
        "print('Extracted Features: %d' % len(features))"
      ],
      "execution_count": 0,
      "outputs": []
    },
    {
      "cell_type": "code",
      "metadata": {
        "id": "iqBzjhqfNobD",
        "colab_type": "code",
        "colab": {}
      },
      "source": [
        "# save to file\n",
        "dump(features, open('features.pkl', 'wb'))"
      ],
      "execution_count": 0,
      "outputs": []
    },
    {
      "cell_type": "markdown",
      "metadata": {
        "id": "mPe9vLNdP8bx",
        "colab_type": "text"
      },
      "source": [
        "### Prepare Text Data\n",
        "\n",
        "The dataset contains multiple descriptions for each photograph and the text of the descriptions requires some minimal cleaning.\n",
        "\n",
        "\n",
        "First, we will load the file containing all of the descriptions.\n",
        "\n"
      ]
    },
    {
      "cell_type": "code",
      "metadata": {
        "id": "V7WNvEKDPZRW",
        "colab_type": "code",
        "colab": {}
      },
      "source": [
        "# load the doc into memory\n",
        "def load_doc(filename):\n",
        "  # open the file as read only\n",
        "  file = open(file=filename, mode='r')\n",
        "  # read all text\n",
        "  text = file.read()\n",
        "  # close the file\n",
        "  file.close()\n",
        "  return text\n",
        "\n",
        "filename = './Flickr8k_text/Flickr8k.token.txt'\n",
        "\n",
        "doc = load_doc(filename)"
      ],
      "execution_count": 0,
      "outputs": []
    },
    {
      "cell_type": "code",
      "metadata": {
        "id": "IDgNvDEJRA5p",
        "colab_type": "code",
        "colab": {
          "base_uri": "https://localhost:8080/",
          "height": 70
        },
        "outputId": "00e0cdc6-bf9e-4ef4-c373-3eee0bfd0f34"
      },
      "source": [
        "print(doc[:200])"
      ],
      "execution_count": 44,
      "outputs": [
        {
          "output_type": "stream",
          "text": [
            "1000268201_693b08cb0e.jpg#0\tA child in a pink dress is climbing up a set of stairs in an entry way .\n",
            "1000268201_693b08cb0e.jpg#1\tA girl going into a wooden building .\n",
            "1000268201_693b08cb0e.jpg#2\tA lit\n"
          ],
          "name": "stdout"
        }
      ]
    },
    {
      "cell_type": "markdown",
      "metadata": {
        "id": "tBlmk8dCUESI",
        "colab_type": "text"
      },
      "source": [
        "Each photo has a unique identifier. This identifier is used on the photo filename and in the text file of descriptions.\n",
        "\n",
        "Next, we will step through the list of photo descriptions. Below defines a function load_descriptions() that, given the loaded document text, will return a dictionary of photo identifiers to descriptions. Each photo identifier maps to a list of one or more textual descriptions."
      ]
    },
    {
      "cell_type": "code",
      "metadata": {
        "id": "cGCTG6w3Ud8p",
        "colab_type": "code",
        "colab": {
          "base_uri": "https://localhost:8080/",
          "height": 336
        },
        "outputId": "991edadf-3fbc-4726-b4bf-0b1c82bd9e6a"
      },
      "source": [
        "doc.split(\"\\n\")[:10][0].split()[1:]"
      ],
      "execution_count": 49,
      "outputs": [
        {
          "output_type": "execute_result",
          "data": {
            "text/plain": [
              "['A',\n",
              " 'child',\n",
              " 'in',\n",
              " 'a',\n",
              " 'pink',\n",
              " 'dress',\n",
              " 'is',\n",
              " 'climbing',\n",
              " 'up',\n",
              " 'a',\n",
              " 'set',\n",
              " 'of',\n",
              " 'stairs',\n",
              " 'in',\n",
              " 'an',\n",
              " 'entry',\n",
              " 'way',\n",
              " '.']"
            ]
          },
          "metadata": {
            "tags": []
          },
          "execution_count": 49
        }
      ]
    },
    {
      "cell_type": "code",
      "metadata": {
        "id": "sZHnyck-UFRQ",
        "colab_type": "code",
        "colab": {}
      },
      "source": [
        "# extract descriptions for images\n",
        "def load_descriptions(doc):\n",
        "  mapping=dict()\n",
        "\n",
        "  # process line by line\n",
        "  for line in doc.split(\"\\n\"):\n",
        "    # split line by white space\n",
        "    tokens = line.split()\n",
        "    # check min length\n",
        "    if len(line) < 2:\n",
        "      continue\n",
        "    # take the first token as the image id, the rest as the description\n",
        "    image_id, image_desc = tokens[0], tokens[1:]\n",
        "\n",
        "    # remove filename from image id\n",
        "    image_id = image_id.split('.')[0]\n",
        "\n",
        "    # convert description tokens back to string\n",
        "    image_desc = ' '.join(image_desc)\n",
        "\n",
        "    # create an emty list for a new image_id\n",
        "    if image_id not in mapping:\n",
        "      mapping[image_id] = list()\n",
        "\n",
        "    # append desc for the corr image_id\n",
        "\n",
        "    mapping[image_id].append(image_desc)\n",
        "\n",
        "  return mapping\n",
        "\n",
        "# parse descriptions\n",
        "descriptions = load_descriptions(doc)\n",
        "  "
      ],
      "execution_count": 0,
      "outputs": []
    },
    {
      "cell_type": "markdown",
      "metadata": {
        "id": "eYphEf7dpbWg",
        "colab_type": "text"
      },
      "source": [
        "Next, we need to clean the description text. The descriptions are already tokenized and easy to work with.\n",
        "\n",
        "We will clean the text in the following ways in order to reduce the size of the vocabulary of words we will need to work with:\n",
        "\n",
        "- Convert all words to lowercase.\n",
        "- Remove all punctuation.\n",
        "- Remove all words that are one character or less in length (e.g. ‘a’).\n",
        "- Remove all words with numbers in them.\n",
        "\n",
        "Below defines the clean_descriptions() function that, given the dictionary of image identifiers to descriptions, steps through each description and cleans the text.\n",
        "\n"
      ]
    },
    {
      "cell_type": "code",
      "metadata": {
        "id": "AVfPhvKkZXbX",
        "colab_type": "code",
        "colab": {}
      },
      "source": [
        "import string\n",
        "\n",
        "def clean_descriptions(descriptions):\n",
        "  # prepare translation table for removing punctuation\n",
        "  table = str.maketrans('', '', string.punctuation)\n",
        "  \n",
        "  for key, desc_list in descriptions.items():\n",
        "    # for each desc of an image:\n",
        "    for i in range(len(desc_list)):\n",
        "      desc = desc_list[i]\n",
        "\n",
        "      # tokenize\n",
        "      desc = desc.split()\n",
        "\n",
        "      # convert to lowercase\n",
        "      desc = [word.lower() for word in desc]\n",
        "\n",
        "      # remove punctuation from each token\n",
        "      desc = [w.translate(table) for w in desc]\n",
        "\n",
        "      # remove hanging 's' and 'a'\n",
        "      desc = [word for word in desc if len(word)>1]\n",
        "\n",
        "      # remove tokens with numbers in them\n",
        "      desc = [word for word in desc if word.isalpha()]\n",
        "\n",
        "      # replace it in that index position\n",
        "      desc_list[i] = ' '.join(desc)\n",
        "\n",
        "\n",
        "# clean descriptions\n",
        "clean_descriptions(descriptions)\n",
        "      "
      ],
      "execution_count": 0,
      "outputs": []
    },
    {
      "cell_type": "markdown",
      "metadata": {
        "id": "w0O6qqTC23LX",
        "colab_type": "text"
      },
      "source": [
        "Once cleaned, we can summarize the size of the vocabulary.\n",
        "\n",
        "Ideally, we want a vocabulary that is both expressive and as small as possible. A smaller vocabulary will result in a smaller model that will train faster.\n",
        "\n",
        "For reference, we can transform the clean descriptions into a set and print its size to get an idea of the size of our dataset vocabulary."
      ]
    },
    {
      "cell_type": "code",
      "metadata": {
        "id": "UqucXTSCpoK8",
        "colab_type": "code",
        "colab": {
          "base_uri": "https://localhost:8080/",
          "height": 72
        },
        "outputId": "8c15ceb2-a83d-4a32-f7cf-91ae875d958b"
      },
      "source": [
        "# convert the loaded descriptions into a vocabulary of words\n",
        "def to_vocabulary(descriptions):\n",
        "\t# build a list of all description strings\n",
        "\tall_desc = set()\n",
        "\tfor key in descriptions.keys():\n",
        "\t\t[all_desc.update(d.split()) for d in descriptions[key]]\n",
        "\treturn all_desc\n",
        "\n",
        "# summarize vocabulary\n",
        "vocabulary = to_vocabulary(descriptions)\n",
        "\n",
        "print(vocabulary)\n",
        "\n",
        "print('Vocabulary Size: %d' % len(vocabulary))"
      ],
      "execution_count": 66,
      "outputs": [
        {
          "output_type": "stream",
          "text": [
            "{'spectating', 'kinds', 'member', 'slipper', 'backstage', 'campaign', 'billowing', 'text', 'greenbay', 'grapple', 'trying', 'far', 'remote', 'crows', 'signpost', 'cobblestones', 'howling', 'dealing', 'bowlike', 'by', 'square', 'eyeing', 'questioningly', 'rash', 'rates', 'rafting', 'pinkhooded', 'being', 'chewing', 'reenactment', 'prize', 'ropes', 'tour', 'vase', 'overshirt', 'garmet', 'goals', 'appear', 'showroom', 'socializing', 'longish', 'springer', 'lavender', 'slender', 'shelf', 'cast', 'lap', 'wets', 'extreme', 'not', 'classic', 'steap', 'aprons', 'distorted', 'oriental', 'stirred', 'challenging', 'pushing', 'fatigue', 'classmates', 'structure', 'sleeping', 'windy', 'tentatively', 'colapsable', 'expanding', 'engulf', 'panoramic', 'seeingeye', 'tricycles', 'closeup', 'overflowing', 'autos', 'spouts', 'springtime', 'applies', 'involved', 'beaded', 'watery', 'loofa', 'wild', 'od', 'headdresses', 'beanches', 'gestures', 'sparking', 'tattoed', 'obama', 'tosses', 'listens', 'pickup', 'racquet', 'heeled', 'warehouse', 'await', 'matt', 'balances', 'viewpoint', 'tophats', 'ringing', 'coats', 'collared', 'surfboarder', 'backbends', 'carpet', 'admired', 'articles', 'sailboard', 'jean', 'arms', 'forwards', 'shiner', 'snorkeling', 'emty', 'meadow', 'lump', 'arbor', 'decide', 'tops', 'arrows', 'their', 'islamic', 'boe', 'forehand', 'branded', 'liking', 'fourwheel', 'stages', 'level', 'hangong', 'ou', 'bicyclists', 'diner', 'tough', 'hops', 'sidewalks', 'overflow', 'sacks', 'intricate', 'flare', 'balck', 'lagging', 'posh', 'signal', 'drapped', 'cascades', 'traversing', 'rafts', 'emblems', 'noses', 'wellkept', 'spread', 'formations', 'fed', 'laundry', 'corral', 'biking', 'casque', 'slippers', 'spiky', 'lassie', 'saddled', 'surface', 'grainy', 'speaker', 'bting', 'contraption', 'pot', 'offstage', 'roadside', 'racetrack', 'pane', 'hoop', 'boards', 'raging', 'washington', 'enlarged', 'thriller', 'eats', 'position', 'squabble', 'woodstacked', 'underwear', 'mast', 'whitewater', 'hairstyle', 'balloons', 'minnie', 'frisbree', 'chair', 'coverall', 'bluerobed', 'admires', 'glides', 'streetway', 'tumbling', 'scruffy', 'amish', 'slices', 'alike', 'portapotties', 'nearby', 'untangles', 'soaring', 'distribute', 'toolbox', 'weathered', 'conversation', 'canon', 'stood', 'bone', 'aerobics', 'thinner', 'boxing', 'smacks', 'appearing', 'atop', 'stared', 'pursues', 'tire', 'himself', 'competition', 'nears', 'special', 'club', 'awaiting', 'neclace', 'widebrimmed', 'shaggy', 'bee', 'iceburg', 'leashes', 'ump', 'check', 'tumbleweed', 'meandering', 'disks', 'huge', 'accends', 'wheel', 'tote', 'gators', 'frisbie', 'braided', 'grouped', 'impersonators', 'thank', 'stereo', 'yorkshire', 'reacts', 'collides', 'middleaged', 'mittens', 'fog', 'nipple', 'zombies', 'christmastime', 'cycles', 'operators', 'upsidedown', 'towheaded', 'ghandi', 'ill', 'relection', 'sippy', 'odd', 'sooners', 'rolling', 'uggs', 'peeking', 'goods', 'mexican', 'convenience', 'shops', 'juggles', 'angrily', 'travel', 'swimmer', 'washes', 'story', 'cannot', 'bigwheels', 'clue', 'overhead', 'pedestrians', 'taped', 'nipples', 'flats', 'vents', 'swetashirts', 'scampers', 'direction', 'night', 'waterskiing', 'teamates', 'bulldogs', 'married', 'entertaining', 'monocolor', 'hardhats', 'intently', 'burrowing', 'hoops', 'colliding', 'handgun', 'grove', 'eggs', 'butterfly', 'stepped', 'eyes', 'streaming', 'variety', 'needle', 'hosed', 'downpour', 'teenagers', 'perked', 'violin', 'agile', 'respectively', 'foul', 'halmets', 'bash', 'frowning', 'carjack', 'salvar', 'mosque', 'wrapped', 'headlong', 'hanglider', 'jetskiing', 'sprays', 'necks', 'serves', 'his', 'arts', 'warily', 'rustric', 'show', 'eating', 'music', 'somthing', 'backseat', 'wispy', 'through', 'graffitifilled', 'universal', 'downward', 'loops', 'hawk', 'masked', 'university', 'mastif', 'top', 'crouching', 'fighting', 'basketballs', 'sport', 'diveboard', 'towel', 'choice', 'husk', 'hump', 'seaguls', 'flocking', 'suds', 'daytime', 'ambulance', 'sunset', 'visitors', 'finished', 'fake', 'goldcolored', 'performer', 'container', 'butting', 'sides', 'contorts', 'glancing', 'tambourines', 'manmade', 'hole', 'chi', 'antiquated', 'waving', 'sashes', 'which', 'gauntlet', 'gaurdian', 'layup', 'heels', 'tape', 'mother', 'vegetables', 'cookies', 'shave', 'gnome', 'blocking', 'boot', 'saucer', 'skislope', 'unfurled', 'suntan', 'carpeting', 'warm', 'type', 'panelling', 'accompanying', 'dimly', 'chimes', 'pillar', 'easels', 'rush', 'snowbound', 'cello', 'batons', 'descends', 'plain', 'marches', 'giving', 'comforting', 'medal', 'orange', 'replaces', 'apparel', 'ferris', 'pompoms', 'bands', 'buckets', 'oregon', 'sporting', 'swirl', 'oncoming', 'gown', 'gal', 'odeon', 'aisle', 'instructing', 'additional', 'overhang', 'swimmers', 'foosball', 'chickens', 'mountian', 'cleaning', 'wetland', 'mask', 'doorway', 'patterned', 'ridable', 'zone', 'corner', 'accents', 'planting', 'pretty', 'distressed', 'jib', 'shore', 'peek', 'navigating', 'neoncolored', 'officer', 'backgound', 'wind', 'cyclers', 'bust', 'eroded', 'calf', 'enclosed', 'least', 'recliner', 'basketball', 'drumming', 'accepts', 'bared', 'too', 'sleve', 'mountains', 'outstreached', 'ground', 'bodyboard', 'trees', 'unfinished', 'menu', 'flowery', 'chested', 'tulip', 'packs', 'skateboarders', 'upset', 'stairway', 'cheer', 'antique', 'playes', 'korean', 'walked', 'wrestilng', 'aggresively', 'pulleys', 'lettering', 'beach', 'hailing', 'spills', 'marx', 'muscle', 'sundappled', 'pep', 'sling', 'games', 'parasail', 'vert', 'priest', 'fancily', 'paper', 'fish', 'turning', 'jumpy', 'socks', 'nipping', 'las', 'paraglides', 'back', 'coldweather', 'row', 'telescopes', 'atm', 'bases', 'wrestler', 'peddal', 'picnickers', 'bandaged', 'helps', 'capris', 'friends', 'shown', 'blindfolds', 'snowboard', 'heron', 'fleecy', 'flowing', 'ferry', 'retreiver', 'grinning', 'puckering', 'slingshot', 'sledder', 'beached', 'armoire', 'ice', 'sponsors', 'rug', 'put', 'excersizing', 'personal', 'kangaroo', 'inside', 'rifding', 'waterskier', 'magizine', 'derby', 'flashlight', 'paint', 'lamp', 'tattooed', 'brownandblack', 'skiers', 'products', 'dandelions', 'semicloudy', 'biker', 'ranger', 'volkswagen', 'slates', 'chris', 'bullfighting', 'chairswing', 'linet', 'chinese', 'swinsuit', 'green', 'sewing', 'bulletproof', 'joke', 'checkout', 'pianist', 'following', 'cafe', 'aboard', 'parallel', 'rollskating', 'lake', 'towarn', 'sizes', 'freefalling', 'racers', 'adornment', 'statue', 'presenting', 'designs', 'spoon', 'stuff', 'redskins', 'camel', 'garb', 'halloween', 'inflatbale', 'god', 'rotweiler', 'messanger', 'puck', 'force', 'seven', 'pedalling', 'move', 'twilight', 'you', 'swam', 'reduniformed', 'multistory', 'tattoos', 'roasted', 'plane', 'topped', 'turf', 'papers', 'suburbs', 'slide', 'rests', 'bathtub', 'tents', 'belaying', 'coastline', 'clad', 'rapid', 'greyish', 'breaking', 'delivering', 'rear', 'surrounds', 'monitoring', 'engraved', 'hairy', 'leans', 'competitively', 'sparkling', 'canada', 'bench', 'swimming', 'domed', 'wetsuit', 'vigorous', 'pf', 'between', 'wolf', 'olympics', 'spewing', 'stonefilled', 'reflections', 'deep', 'fatigues', 'pour', 'winner', 'cord', 'slushies', 'suntanning', 'sunlight', 'seller', 'rental', 'fundraising', 'hug', 'huddled', 'nurses', 'salmon', 'rabbits', 'bolts', 'vie', 'latter', 'drainpipe', 'peacefully', 'there', 'concentrates', 'harbor', 'musician', 'offroading', 'buildabear', 'brownandwhite', 'numeral', 'sails', 'counter', 'signer', 'caramel', 'wagon', 'wakeboarding', 'backyard', 'pro', 'smiling', 'oh', 'feild', 'lopes', 'aquacolored', 'terrier', 'does', 'plywood', 'highfiving', 'hopes', 'pursued', 'shaving', 'wisconsin', 'pinata', 'boxy', 'link', 'quarter', 'enough', 'extinguish', 'melting', 'herself', 'castles', 'european', 'dimond', 'dojo', 'chip', 'seaside', 'focus', 'muti', 'established', 'indoors', 'fell', 'bicycler', 'assorted', 'lanterns', 'diego', 'hudge', 'rottweiler', 'rescue', 'path', 'moutainside', 'splits', 'defense', 'tee', 'wintery', 'jackson', 'defending', 'passerby', 'graffited', 'engaged', 'oars', 'fleeces', 'hips', 'chasseing', 'waterfalls', 'torii', 'panhandler', 'worm', 'travelling', 'spigot', 'goldencolored', 'kakhi', 'midsections', 'heart', 'potao', 'prison', 'thw', 'yellows', 'fluffy', 'boogieboard', 'visitor', 'ornamental', 'york', 'osme', 'cavort', 'quite', 'tho', 'swallow', 'drawing', 'precariously', 'vampire', 'solitary', 'sect', 'grassy', 'crumb', 'gust', 'rubble', 'person', 'lift', 'renaissance', 'garland', 'buying', 'wheelers', 'brushland', 'michael', 'training', 'tucking', 'homebase', 'condominium', 'guarded', 'arcade', 'breakdances', 'obligatoire', 'uses', 'beginning', 'skims', 'patricks', 'living', 'concentration', 'fit', 'scratching', 'tag', 'receives', 'safe', 'israel', 'growling', 'insynch', 'nestled', 'bares', 'adults', 'wakeboarder', 'thumbsup', 'secured', 'tabby', 'amidst', 'department', 'portopotties', 'approach', 'possible', 'fastens', 'umbrellas', 'challange', 'discovers', 'posts', 'pushes', 'also', 'flighht', 'werewolf', 'waves', 'historic', 'chasing', 'celebrating', 'unicycle', 'casuallydressed', 'fiesty', 'attempts', 'abseiling', 'pasts', 'castle', 'drag', 'applebee', 'slightly', 'yoga', 'whistle', 'apron', 'ion', 'alleyway', 'fastfood', 'grins', 'playy', 'poolside', 'zebra', 'shortly', 'zoo', 'making', 'big', 'hats', 'snowballs', 'spangles', 'pinkcoated', 'parasails', 'skinny', 'higher', 'bits', 'easy', 'tabs', 'reported', 'glide', 'elbow', 'notes', 'awning', 'sportsfield', 'flows', 'claws', 'glowers', 'amoung', 'backpackers', 'windboarder', 'woooden', 'abs', 'oxen', 'torso', 'funeral', 'waterfall', 'drift', 'tug', 'protecting', 'blasted', 'design', 'crampons', 'coupe', 'drooling', 'spring', 'wiht', 'armbands', 'glovedhand', 'hungry', 'batman', 'flickr', 'exercisewheel', 'team', 'children', 'train', 'firends', 'pooh', 'unzipping', 'swoops', 'baring', 'genocide', 'front', 'herbs', 'sparse', 'jumpinjg', 'creams', 'plan', 'indicating', 'harness', 'nech', 'again', 'basett', 'passes', 'mosscovered', 'avoid', 'port', 'flurry', 'engulfed', 'brownish', 'newlyweds', 'electronic', 'roughly', 'bathed', 'milk', 'steam', 'pigeons', 'colourfully', 'twirls', 'shirts', 'awaits', 'extending', 'lamb', 'admiring', 'eyeshadow', 'fails', 'canvas', 'diapers', 'moustache', 'legged', 'robes', 'taxis', 'setting', 'atv', 'overcast', 'wiener', 'enthusiastically', 'icey', 'bronze', 'cartwheel', 'tinted', 'buckled', 'motorboat', 'wringing', 'snaps', 'tracksuit', 'mountaintop', 'stroke', 'bow', 'reclining', 'amazing', 'pyrotechnics', 'backstand', 'collies', 'mannequin', 'ashen', 'powered', 'player', 'armful', 'digging', 'sort', 'individuals', 'sunning', 'stays', 'breath', 'sunbathe', 'accented', 'groups', 'index', 'gren', 'greet', 'showgirls', 'physical', 'gravity', 'sprints', 'ditch', 'trailing', 'minirace', 'swing', 'badge', 'tentlike', 'mortar', 'youths', 'along', 'soaker', 'iceskating', 'depicts', 'fiddles', 'guidewire', 'dresses', 'scarily', 'receive', 'plush', 'thumbs', 'spouse', 'barettes', 'punch', 'pick', 'compact', 'asphalt', 'sucker', 'volleyball', 'floatlys', 'cigerette', 'blackhaired', 'supervision', 'tatoos', 'barefooted', 'is', 'queue', 'seyeview', 'car', 'retaining', 'classical', 'razer', 'antics', 'romping', 'onlooker', 'strokes', 'its', 'takes', 'done', 'dense', 'shawled', 'moped', 'admire', 'mime', 'negotiates', 'upperclass', 'griding', 'wigs', 'milkweed', 'china', 'san', 'minerature', 'aims', 'bounces', 'sequoia', 'guardrail', 'mishap', 'kiss', 'cougar', 'slab', 'croc', 'wierd', 'portrate', 'applauding', 'meal', 'the', 'donning', 'drawings', 'starts', 'bowing', 'muscular', 'mascot', 'veteran', 'stop', 'paddles', 'tyedyed', 'overnight', 'cameraman', 'tool', 'motorcyle', 'vampires', 'smile', 'dance', 'boulders', 'drooping', 'wooded', 'experimenter', 'advertisement', 'waterwear', 'sloping', 'supported', 'dirty', 'plow', 'thorugh', 'gleefully', 'menus', 'waling', 'stifflyposed', 'multilple', 'maintained', 'barks', 'ball', 'wallride', 'tiles', 'shoeshine', 'jogger', 'cardboard', 'coat', 'payer', 'vacant', 'bundled', 'ducking', 'foraging', 'books', 'litle', 'crosscountry', 'scenic', 'curving', 'bed', 'size', 'map', 'beaver', 'mad', 'jerseys', 'use', 'handbag', 'scent', 'saver', 'bearded', 'anouther', 'feeding', 'zooms', 'than', 'propelling', 'avoiding', 'shallows', 'goalie', 'crib', 'piglet', 'woolly', 'hero', 'comforts', 'power', 'punting', 'alligator', 'tear', 'coopers', 'looling', 'sum', 'rippled', 'crocheted', 'longbearded', 'brake', 'stubby', 'isolated', 'worker', 'hollywood', 'passageway', 'granite', 'actors', 'ethnic', 'banjo', 'unner', 'hulk', 'hovered', 'chess', 'empty', 'shooting', 'donates', 'chrismas', 'smilling', 'ten', 'upturned', 'atomic', 'escalators', 'undone', 'arab', 'withering', 'swords', 'waterski', 'riwal', 'bowed', 'marketplace', 'occupied', 'raling', 'clothes', 'onstage', 'rally', 'rundown', 'hold', 'glee', 'urinating', 'happiness', 'whild', 'padded', 'together', 'streaks', 'broken', 'took', 'backdrop', 'downriver', 'onto', 'bluejean', 'kimono', 'sloppy', 'rockclimb', 'removing', 'pensive', 'prancing', 'bmx', 'ti', 'brazilian', 'pencils', 'hilltops', 'stove', 'gound', 'enjoy', 'chest', 'poof', 'watermelons', 'control', 'images', 'dge', 'bills', 'cake', 'gun', 'shorts', 'merrygoround', 'kayaks', 'outlines', 'powerful', 'murky', 'visits', 'parkinglot', 'circles', 'vessel', 'skins', 'says', 'characters', 'domes', 'wolflike', 'event', 'bar', 'nodding', 'hoodies', 'littering', 'rappelling', 'creek', 'plantains', 'highfive', 'handicapped', 'playgym', 'protect', 'sprinting', 'spanishstyle', 'maneuvering', 'tge', 'wuth', 'painted', 'tussle', 'flipflops', 'cathedral', 'demonstarting', 'spout', 'dumping', 'bucking', 'male', 'leaguer', 'chairlift', 'indians', 'laughing', 'lame', 'late', 'cluster', 'firedancer', 'spray', 'bikins', 'items', 'bungeejumping', 'outfut', 'grassland', 'persue', 'exterior', 'begging', 'storefront', 'follow', 'trench', 'muffler', 'well', 'mandolin', 'beachfront', 'did', 'friend', 'frisbeen', 'decortive', 'steep', 'electronics', 'crochet', 'staring', 'reflects', 'county', 'blankets', 'strawberries', 'biscuit', 'graffitti', 'ornament', 'streamer', 'pots', 'regularly', 'chatting', 'heap', 'quinta', 'programs', 'ski', 'tennis', 'vinecovered', 'farmers', 'houses', 'racket', 'crew', 'cases', 'sack', 'extravagantlyhaired', 'overturn', 'tugs', 'turkeys', 'churns', 'hop', 'skeptically', 'goldfish', 'architectural', 'mixed', 'mail', 'hitter', 'aboriginal', 'bustling', 'unpainted', 'floating', 'trampled', 'it', 'diagram', 'bunchh', 'fresh', 'blazing', 'key', 'sucks', 'affixed', 'construction', 'japanese', 'crowd', 'beack', 'occassion', 'eccentric', 'lampost', 'beer', 'spilled', 'north', 'masses', 'browse', 'curvy', 'wig', 'whizzes', 'waterbed', 'swingtoy', 'crate', 'statefarmcom', 'website', 'ads', 'suggestively', 'pregnant', 'blackrimmed', 'tanandwhite', 'blownup', 'consoling', 'candy', 'jackets', 'strolls', 'them', 'for', 'rowing', 'gentle', 'harnesses', 'landed', 'heritage', 'writing', 'crosswalk', 'billboards', 'sit', 'zagging', 'caches', 'annoyed', 'object', 'swordsman', 'downwards', 'orchestra', 'star', 'croquette', 'build', 'winter', 'neck', 'ponytailed', 'corners', 'indian', 'south', 'pouch', 'disk', 'strikes', 'newborn', 'railroad', 'digger', 'railings', 'motley', 'padel', 'scored', 'change', 'welcomes', 'abandoned', 'camo', 'torsodeep', 'wave', 'clothing', 'lodge', 'amounts', 'grimaces', 'basement', 'syrup', 'bandage', 'lighted', 'snowmobile', 'hello', 'capped', 'collage', 'burbur', 'vendor', 'calm', 'east', 'sandals', 'reacting', 'prepares', 'rectangular', 'rippling', 'arriving', 'sprinkler', 'loop', 'dozen', 'frosting', 'church', 'bowl', 'rapidly', 'riverrapids', 'utensils', 'directly', 'passing', 'puma', 'punts', 'shack', 'those', 'metal', 'carried', 'sillhouttes', 'punches', 'concerned', 'chihuahua', 'magnificant', 'rooftop', 'ballerinas', 'camcorder', 'divers', 'time', 'egyptian', 'carrier', 'fingerpaints', 'groom', 'brownspotted', 'cross', 'wearing', 'new', 'soaked', 'broad', 'parked', 'cutout', 'dial', 'towers', 'jumphouse', 'corrugated', 'passers', 'athlete', 'bean', 'darkheaded', 'rotary', 'photographing', 'offcamera', 'ask', 'unoccupied', 'sight', 'forearm', 'pacman', 'pebbly', 'yankee', 'projected', 'dish', 'fighters', 'races', 'firefighters', 'driftrood', 'bunch', 'strip', 'punctured', 'leather', 'splatter', 'identifier', 'horizontal', 'noisemaker', 'sheet', 'beat', 'wheelchair', 'ocean', 'man', 'guitarists', 'tightropes', 'firemen', 'binocular', 'communications', 'headlights', 'casterol', 'lines', 'somehow', 'off', 'wizard', 'automobile', 'airborne', 'teddy', 'gregoire', 'kid', 'library', 'dove', 'dumped', 'literature', 'lower', 'pajamas', 'opening', 'sportman', 'speakers', 'grafitti', 'vaulting', 'bungee', 'oriential', 'marking', 'hankerchief', 'branches', 'forceful', 'anthem', 'braiding', 'sledge', 'wife', 'blooming', 'interviews', 'under', 'swerves', 'orangeclad', 'angle', 'fooling', 'outstreched', 'fastened', 'aframe', 'rafter', 'limo', 'duffel', 'objest', 'blazer', 'hissing', 'crazy', 'sponge', 'practice', 'ages', 'numbered', 'touchline', 'five', 'stocky', 'loooking', 'piece', 'mudfight', 'creative', 'rising', 'pacifier', 'fort', 'exibit', 'controlling', 'read', 'propeller', 'thrust', 'snacks', 'prints', 'black', 'exercises', 'fetch', 'halfburied', 'stuntbicyclist', 'horsemen', 'tooth', 'seventh', 'stabs', 'oppenents', 'winking', 'charged', 'stiped', 'inch', 'perm', 'cadet', 'theme', 'siren', 'mossy', 'trapped', 'tatoo', 'cocker', 'sabre', 'got', 'hammer', 'deeps', 'citizens', 'positions', 'yells', 'distored', 'flume', 'patchy', 'loaves', 'scottish', 'because', 'pom', 'bathingsuit', 'dunk', 'telephone', 'gym', 'earmuffs', 'sailboats', 'mysterious', 'yacht', 'provocative', 'color', 'striped', 'trays', 'iceskate', 'rows', 'oak', 'foggy', 'huddles', 'prepared', 'sandy', 'cramped', 'rollerskating', 'angled', 'mine', 'steadies', 'subdivsion', 'agency', 'ohio', 'collapses', 'tap', 'carolina', 'spotlight', 'whacking', 'alley', 'sprawling', 'mulch', 'pilar', 'handle', 'close', 'gliding', 'wheels', 'propels', 'taking', 'threw', 'bang', 'knelt', 'losing', 'video', 'cheered', 'gazebo', 'clips', 'pawing', 'attacked', 'scaling', 'fumble', 'bullrider', 'mitsubishi', 'decorate', 'lotion', 'pops', 'teen', 'apparatus', 'knit', 'nascar', 'swans', 'ca', 'crouch', 'manuals', 'jacuzzi', 'spoke', 'megaphone', 'belted', 'dining', 'retrieve', 'rounds', 'mustached', 'mullet', 'woolen', 'skewed', 'juming', 'players', 'squirted', 'locking', 'marlins', 'bikinis', 'carring', 'perfomed', 'woman', 'furious', 'falling', 'landscaped', 'stocking', 'ac', 'chew', 'swirling', 'forth', 'dunked', 'prow', 'dip', 'henna', 'upraised', 'demolished', 'challenges', 'assistance', 'almostpristine', 'soapy', 'thumb', 'aerial', 'pottypotty', 'pails', 'snake', 'trainer', 'character', 'who', 'democrat', 'carefully', 'buggy', 'ruggers', 'exercise', 'sillouhette', 'hills', 'market', 'directory', 'discuss', 'space', 'come', 'justice', 'banana', 'moniter', 'cheering', 'crouches', 'blackgreen', 'summit', 'photographers', 'write', 'wipe', 'directed', 'aquos', 'live', 'destination', 'whilst', 'measuring', 'foyer', 'ipods', 'headscarves', 'shoreline', 'dc', 'dumps', 'effects', 'pits', 'stripy', 'pads', 'skeleton', 'matching', 'pit', 'collie', 'hanna', 'propping', 'versus', 'doggy', 'whie', 'herding', 'trade', 'ledges', 'barbeque', 'yellowgrassed', 'skyscraper', 'jousting', 'breaching', 'sky', 'brow', 'toys', 'squeak', 'pelican', 'militarystyle', 'photographed', 'hallway', 'trick', 'turban', 'stretcher', 'goaltender', 'farm', 'master', 'plling', 'desk', 'tools', 'tubes', 'shine', 'manager', 'rigging', 'constructed', 'eyese', 'fend', 'dachshund', 'pullovers', 'coming', 'scene', 'help', 'contracption', 'suspiciously', 'halo', 'tied', 'seated', 'anything', 'splash', 'join', 'model', 'some', 'spiderpatterned', 'conch', 'closeby', 'flyaway', 'faint', 'lakeside', 'raft', 'ceremony', 'tucked', 'drags', 'carries', 'walmart', 'grand', 'tipped', 'bathing', 'speedos', 'comprised', 'jumped', 'dune', 'upfront', 'inertia', 'plates', 'glacier', 'unique', 'potrait', 'barrette', 'outdoors', 'snapshot', 'fastest', 'roofed', 'grss', 'shirtness', 'stockcar', 'identification', 'hugged', 'iove', 'carousel', 'lip', 'yong', 'horsedrawn', 'adult', 'laborador', 'bunnies', 'bat', 'bushy', 'colecting', 'crocodile', 'trailer', 'helment', 'turquiose', 'gambling', 'protesting', 'tongues', 'fountains', 'wellgroomed', 'prances', 'into', 'tumble', 'daring', 'somersaulting', 'yarnlike', 'vintage', 'lightly', 'lifting', 'flames', 'grandmother', 'sphere', 'slurps', 'tethered', 'grasp', 'guitarist', 'footbride', 'traffic', 'blackrobed', 'toss', 'dad', 'slighty', 'curtsey', 'drumset', 'starlet', 'frisbee', 'attaches', 'barb', 'corgie', 'preparing', 'safron', 'thrower', 'marinelifethemed', 'campus', 'customer', 'participating', 'wedding', 'scare', 'openair', 'involves', 'craw', 'ensemble', 'defaced', 'shoppers', 'flirts', 'carriage', 'flippers', 'illuminated', 'trunk', 'starbucks', 'speeding', 'operated', 'lesson', 'phones', 'smells', 'festival', 'weas', 'dj', 'hotrod', 'saying', 'mom', 'petals', 'handlers', 'spiked', 'start', 'aliens', 'resembles', 'bends', 'towels', 'weeds', 'officials', 'sprinkers', 'wisks', 'washed', 'horn', 'outlined', 'utilities', 'mountaintops', 'elevator', 'squating', 'ballthrower', 'styrofoam', 'polkadot', 'document', 'poor', 'practising', 'background', 'bridge', 'refugees', 'treks', 'coated', 'second', 'intersection', 'boarder', 'togerther', 'redseated', 'bite', 'un', 'present', 'piled', 'ducky', 'element', 'happen', 'coaches', 'mud', 'grayish', 'times', 'blueeyed', 'photography', 'twowheeled', 'starshaped', 'litter', 'single', 'medium', 'setter', 'expanse', 'motors', 'baptized', 'geishas', 'roads', 'flown', 'butterflycatcher', 'outcroping', 'poorlylit', 'adjusts', 'internet', 'son', 'photographs', 'intercept', 'mcdonalds', 'dwelling', 'flooded', 'skipping', 'beating', 'conical', 'necked', 'performing', 'chocolate', 'cyclist', 'enjoyable', 'mardi', 'rapids', 'competitor', 'tell', 'carry', 'minitrampoline', 'throught', 'evening', 'sprinklers', 'hooded', 'peirced', 'ques', 'entrance', 'billiards', 'thatch', 'rainbow', 'served', 'rocking', 'motivation', 'mattress', 'horro', 'slinging', 'dangling', 'portapotty', 'fetches', 'lasso', 'all', 'helmet', 'florescent', 'newspapers', 'unifrom', 'oar', 'reclines', 'drinks', 'birds', 'fending', 'dirtbike', 'mardis', 'little', 'snowboarding', 'benches', 'dinghy', 'zig', 'stretched', 'wrestles', 'cut', 'fair', 'gathers', 'fenced', 'browsing', 'scowls', 'stool', 'tortoise', 'acroos', 'crudely', 'touched', 'skimming', 'word', 'evident', 'written', 'samoyads', 'sweatshir', 'somersault', 'surrounding', 'youngster', 'were', 'brawl', 'louis', 'weating', 'holy', 'skilift', 'poofy', 'wood', 'trashcan', 'possessions', 'brunettes', 'grey', 'medow', 'leaped', 'carpeted', 'leap', 'peeks', 'let', 'community', 'shamrocks', 'soldier', 'mustache', 'beam', 'chewed', 'la', 'holiday', 'disguises', 'donuts', 'participant', 'gettnig', 'backstrokes', 'multiple', 'fierce', 'rockface', 'bun', 'nfl', 'weeping', 'chats', 'rushed', 'widely', 'weilding', 'pugs', 'clinging', 'nametags', 'lets', 'pail', 'tracks', 'gain', 'turnaround', 'baseman', 'posed', 'frowns', 'victorian', 'fields', 'store', 'dog', 'crossbones', 'thinks', 'set', 'seesaw', 'hatchback', 'when', 'athletes', 'urban', 'fireman', 'baskets', 'eastpak', 'surounded', 'vaults', 'lolly', 'climbed', 'daredevil', 'thought', 'zchtv', 'eleven', 'leapfrog', 'crow', 'poles', 'patio', 'navigates', 'woods', 'noy', 'developing', 'sad', 'turtle', 'twisty', 'buffet', 'mat', 'parents', 'powerlines', 'mixing', 'ignores', 'seed', 'endorsementcovered', 'dogs', 'yell', 'mans', 'web', 'outstretched', 'crucifixion', 'squeamish', 'then', 'hoddie', 'darkcolored', 'handinhand', 'hilly', 'backlegs', 'sparring', 'tartan', 'railgrind', 'roddick', 'brothers', 'circuit', 'facing', 'shadows', 'life', 'chrome', 'wrap', 'crumbling', 'tussling', 'catc', 'goalies', 'attraction', 'fedora', 'piggyback', 'staue', 'challenge', 'eagerly', 'perspective', 'herd', 'like', 'tidal', 'speak', 'tale', 'sole', 'aquatic', 'he', 'drab', 'collegiate', 'lecturer', 'workshop', 'fielder', 'blur', 'sheltie', 'verizon', 'earring', 'taxi', 'sleeding', 'still', 'mountaineers', 'scarred', 'staffordshire', 'swept', 'hurdles', 'lifesavers', 'jumper', 'closely', 'signature', 'caged', 'herds', 'cellos', 'letter', 'suits', 'impact', 'mostly', 'degrees', 'cameraphone', 'burlap', 'stretchy', 'seem', 'farmland', 'youngle', 'tight', 'ally', 'beckons', 'offered', 'out', 'sprayed', 'photographic', 'toyota', 'pulling', 'coordinator', 'suv', 'intense', 'league', 'tulips', 'pounces', 'winces', 'sneakers', 'punt', 'flyfishing', 'peacoat', 'daschunds', 'winks', 'limb', 'ollie', 'gift', 'perforced', 'playfully', 'pedestal', 'lited', 'seal', 'surgical', 'stoney', 'straps', 'brings', 'inlineskates', 'cooking', 'assemble', 'alone', 'pair', 'signed', 'suite', 'dishtowel', 'collar', 'way', 'licking', 'cheery', 'costumes', 'flipped', 'courts', 'windsurfing', 'fox', 'bike', 'drilling', 'covered', 'hauled', 'hardscape', 'place', 'slipping', 'ridden', 'gleaming', 'joyful', 'sponges', 'schoolaged', 'puppies', 'grayhaired', 'strings', 'rounded', 'bushes', 'shirt', 'tournament', 'have', 'lilypads', 'triangular', 'videogame', 'adhd', 'stomachs', 'digs', 'kayak', 'pilot', 'sail', 'global', 'shady', 'responding', 'arrangement', 'deserted', 'dirtbed', 'mist', 'miscellaneous', 'noticable', 'afican', 'fairgrounds', 'boxes', 'disrupt', 'painters', 'upon', 'lonely', 'fencers', 'lands', 'vacation', 'adventurer', 'payfully', 'railway', 'already', 'darkhaired', 'upward', 'hula', 'accessories', 'guests', 'featuring', 'guitar', 'urge', 'holing', 'concrete', 'bulldog', 'bounding', 'sidewalk', 'tikes', 'boundary', 'approached', 'birthday', 'gnarly', 'stage', 'africanamerican', 'ends', 'explorer', 'apparently', 'recieving', 'profusely', 'pencil', 'nightlife', 'chalkboard', 'flowerbed', 'dragsters', 'florist', 'windsurfers', 'nylon', 'magicians', 'accepting', 'selling', 'energy', 'props', 'barge', 'banner', 'catcher', 'sponsorship', 'sweatpants', 'sailboat', 'become', 'adventures', 'sitts', 'taps', 'crest', 'bounce', 'eachothers', 'tarp', 'teens', 'coiled', 'elephant', 'milkshake', 'prairie', 'looker', 'figures', 'aggressive', 'interacting', 'loan', 'ghostbuster', 'morning', 'facepaint', 'youngsters', 'harvest', 'camps', 'mingle', 'cricketer', 'breasts', 'outside', 'slouching', 'raincoats', 'very', 'mall', 'chef', 'convert', 'em', 'grab', 'roosters', 'maker', 'clown', 'courthouse', 'athelete', 'collision', 'dryed', 'companions', 'ivars', 'cave', 'interestingly', 'skill', 'fronr', 'teacher', 'dramatic', 'swooping', 'swatting', 'gondola', 'bears', 'lockers', 'bank', 'outline', 'seems', 'overtop', 'shocks', 'bellysurfing', 'ashy', 'swarming', 'march', 'picks', 'ceremonial', 'broen', 'hapily', 'stingray', 'breakdancer', 'cosplayers', 'handbags', 'accross', 'automobiles', 'reson', 'cardigan', 'casting', 'towrope', 'goucho', 'shoulder', 'longsleeve', 'reindeer', 'cheerleader', 'among', 'coconut', 'supplies', 'rocky', 'catholic', 'touch', 'swipes', 'several', 'ate', 'airtime', 'barber', 'maintain', 'soil', 'end', 'womand', 'flailing', 'pathway', 'shoulderlength', 'slideshow', 'noce', 'movers', 'shoot', 'state', 'arid', 'shivers', 'rugged', 'flowering', 'waterside', 'beard', 'brother', 'joker', 'crowds', 'furred', 'monument', 'foreround', 'bad', 'properly', 'casually', 'breeze', 'forcing', 'biscut', 'worshippers', 'velvet', 'ability', 'brwon', 'snowploe', 'entertains', 'midpitch', 'lean', 'entangled', 'wooly', 'serveral', 'employees', 'hulahoops', 'section', 'are', 'stubbled', 'case', 'longdistance', 'laps', 'plushie', 'wipes', 'burst', 'boxer', 'trundles', 'straw', 'proamerica', 'whack', 'weimeraners', 'res', 'campground', 'pop', 'parachute', 'kennel', 'ran', 'tails', 'focused', 'bodyboarder', 'mountainclimbing', 'kept', 'shows', 'grown', 'compete', 'kneedeep', 'frayed', 'discouraged', 'playpen', 'leotard', 'speaks', 'brightlylit', 'palace', 'dreary', 'mouths', 'skijoring', 'sinking', 'metallic', 'ride', 'bullbranded', 'sparklers', 'dashboard', 'hamming', 'payphone', 'belly', 'piercing', 'bear', 'bikes', 'propelled', 'meetinghall', 'rural', 'pack', 'snowcapped', 'shaking', 'quarterpipe', 'fans', 'artifacts', 'polka', 'portrait', 'wanting', 'pointy', 'ratty', 'upstream', 'compound', 'sheperd', 'infant', 'flute', 'island', 'impress', 'cheeseburger', 'ascend', 'earpiece', 'area', 'watering', 'attached', 'darkerskinned', 'diners', 'workout', 'cupcake', 'dolly', 'sequins', 'tshirt', 'down', 'shovel', 'helplessly', 'dine', 'contest', 'slopes', 'jailbird', 'warning', 'cot', 'loose', 'handheld', 'beaten', 'eyed', 'tattered', 'kicked', 'hockey', 'sheep', 'ont', 'may', 'puddle', 'presents', 'masquerade', 'walls', 'wakeboard', 'ruin', 'column', 'bows', 'demonstrating', 'passifier', 'enterance', 'moss', 'gear', 'windsurfer', 'woody', 'ipod', 'writes', 'merchandise', 'adoring', 'box', 'crucified', 'aquarium', 'fruits', 'unamused', 'grenade', 'pleadingly', 'mantle', 'cheeked', 'twotone', 'mouthpiece', 'kneels', 'donut', 'mechanical', 'limousine', 'led', 'aloft', 'armstand', 'overcoat', 'try', 'parachuter', 'foliage', 'nighttime', 'rackets', 'ornaments', 'hide', 'enjoying', 'vegetable', 'permed', 'purchasing', 'or', 'crosses', 'caucasian', 'signing', 'females', 'stringed', 'cat', 'brightlycolred', 'fetched', 'ashtray', 'toddlers', 'earphones', 'strides', 'proof', 'country', 'winnie', 'amused', 'attach', 'average', 'masters', 'defend', 'burns', 'dramatically', 'discussion', 'hindu', 'mogul', 'hospital', 'saltandpepperhaired', 'sunhat', 'apex', 'poised', 'strung', 'fluid', 'student', 'nadal', 'pine', 'false', 'custom', 'butchers', 'tim', 'trek', 'goofy', 'oval', 'checked', 'sucking', 'obstacle', 'kawasaki', 'hell', 'thirds', 'meditating', 'powerboats', 'shadowdappled', 'checker', 'sidelines', 'visiting', 'dropped', 'pedals', 'attend', 'cbs', 'wrapping', 'outfir', 'crash', 'across', 'dandilions', 'boatful', 'company', 'lighterskinned', 'action', 'passengers', 'rowed', 'happily', 'blindfolded', 'sveral', 'feel', 'looking', 'high', 'surround', 'repelling', 'production', 'tower', 'wants', 'cliffs', 'naked', 'pastel', 'mission', 'sinks', 'chicago', 'football', 'lesh', 'assisting', 'panasonic', 'collected', 'asking', 'grilling', 'female', 'hte', 'john', 'observing', 'wrists', 'booths', 'leaving', 'forms', 'doghouse', 'magenta', 'wet', 'pans', 'driftwood', 'spandex', 'preteen', 'zipping', 'proudly', 'as', 'mesh', 'blurring', 'four', 'belongings', 'playmat', 'bras', 'mutltiple', 'foreground', 'seen', 'streched', 'reading', 'react', 'taping', 'colorings', 'waterspout', 'embankment', 'dimlight', 'lookout', 'pretending', 'maneuver', 'hulahoop', 'sweater', 'register', 'halway', 'garden', 'dodgeball', 'waring', 'intensely', 'ilks', 'gymnastics', 'gatorade', 'sweeping', 'alcove', 'windowsill', 'jacketed', 'classicstyle', 'dressedup', 'states', 'joggers', 'computer', 'costume', 'adopted', 'midclimb', 'rimmed', 'furnace', 'bigbox', 'cocacola', 'stiars', 'dressed', 'tugofwar', 'algae', 'spots', 'range', 'knees', 'electric', 'foreign', 'treed', 'need', 'rollerblader', 'perfect', 'drawn', 'street', 'suprised', 'converse', 'technical', 'entertain', 'notre', 'orangish', 'prevent', 'crashing', 'ever', 'palid', 'matador', 'fallen', 'hit', 'firefighter', 'pipeline', 'strawberry', 'onehanded', 'climbes', 'vision', 'periods', 'sending', 'wed', 'containing', 'wanders', 'celebrities', 'growls', 'streams', 'dummy', 'elbows', 'footballer', 'gathered', 'spurting', 'hopscotch', 'argues', 'next', 'rounding', 'height', 'convienience', 'vaulated', 'launch', 'prarie', 'swims', 'torwards', 'uniformed', 'these', 'pillowfight', 'elaborate', 'stumbling', 'wasteland', 'real', 'dust', 'lounges', 'croquet', 'blocks', 'squatting', 'trekking', 'pilots', 'brownishred', 'contained', 'landing', 'endzone', 'knight', 'region', 'grayhound', 'goatee', 'spool', 'backstroke', 'toast', 'snowbank', 'full', 'mate', 'geese', 'rushes', 'motorcyclists', 'philadelphia', 'highland', 'againest', 'messy', 'stacked', 'sing', 'diry', 'fathers', 'parasailer', 'coffin', 'portable', 'studded', 'haired', 'ropey', 'texas', 'kick', 'win', 'caps', 'perfoms', 'military', 'stares', 'ballplayer', 'elderly', 'serena', 'pointing', 'jetskis', 'funky', 'presentations', 'gonzaga', 'piercings', 'bottom', 'bottoms', 'gocart', 'mr', 'riding', 'sideline', 'allowed', 'save', 'dong', 'wounded', 'crates', 'treeless', 'undershirt', 'chubby', 'seaweed', 'poling', 'secret', 'font', 'attentive', 'barack', 'driving', 'swordfighting', 'closed', 'cleavage', 'reviews', 'crosslegged', 'buddy', 'colors', 'campsite', 'pigs', 'staff', 'jaywalk', 'decorated', 'slinky', 'grimmaces', 'stylish', 'snuggling', 'breaded', 'pile', 'marathon', 'bookshelves', 'parasurfer', 'markings', 'sightseers', 'shaded', 'formally', 'kissing', 'lambs', 'dribbled', 'drak', 'scooters', 'motorists', 'facial', 'shake', 'ad', 'midst', 'worried', 'factory', 'rustic', 'much', 'opposing', 'soar', 'contact', 'gated', 'eyebrows', 'double', 'telegraph', 'straight', 'tiretracks', 'groupe', 'snowgear', 'cash', 'hobby', 'thows', 'marvel', 'harnessed', 'smelled', 'valley', 'wintertime', 'yorkie', 'chairs', 'fuzzy', 'planks', 'darkened', 'easel', 'blank', 'standard', 'shakes', 'further', 'waist', 'presentation', 'clay', 'entertainment', 'egret', 'faux', 'lizards', 'curly', 'bump', 'perfume', 'diver', 'squirts', 'toward', 'shadowed', 'multiracial', 'blackyellow', 'wards', 'mature', 'yarn', 'landfill', 'art', 'measured', 'cottage', 'angles', 'fourwheeled', 'stuntman', 'numerous', 'bedroom', 'footage', 'cob', 'seahorse', 'cook', 'pinball', 'hi', 'formallydressed', 'canopy', 'yawning', 'aggitates', 'gokart', 'net', 'orbs', 'pepco', 'dock', 'hydrant', 'wristband', 'darker', 'auto', 'violently', 'struggles', 'operating', 'stopaction', 'mouthing', 'hook', 'indigo', 'lot', 'wearubg', 'billboard', 'cornfield', 'corndogs', 'explosive', 'she', 'muzzle', 'supervise', 'crotch', 'filming', 'cuddling', 'cine', 'hotel', 'icy', 'yard', 'pedestrian', 'terrain', 'gliders', 'smartly', 'turbans', 'soggy', 'bullet', 'proped', 'xmen', 'allowing', 'homerun', 'tends', 'tickets', 'flowers', 'fireside', 'spaniels', 'pastor', 'redbrown', 'powerwashing', 'remax', 'cartoon', 'fireworks', 'touching', 'glass', 'miasto', 'otuside', 'begs', 'floors', 'linked', 'bluegreen', 'belongs', 'chow', 'buy', 'crustacean', 'defender', 'snow', 'hikers', 'backround', 'tricolored', 'various', 'frightened', 'handstands', 'enthusiastic', 'messily', 'flashes', 'using', 'spelunker', 'contestent', 'vault', 'jackolantern', 'thrashed', 'flops', 'nest', 'pyramidshaped', 'smacking', 'biplane', 'hands', 'surges', 'exited', 'shorter', 'khaki', 'foothills', 'interested', 'ragged', 'relaxing', 'sparrow', 'hotair', 'kickflip', 'hike', 'stucco', 'checkerboard', 'twirl', 'shopping', 'cape', 'prance', 'tackles', 'floor', 'pees', 'retrieves', 'adjust', 'sticks', 'glacial', 'father', 'windboard', 'waterproof', 'whiffle', 'mediumsized', 'clowning', 'siting', 'just', 'sombody', 'nation', 'advertisements', 'onearmed', 'ship', 'lemonade', 'aerobatics', 'pouring', 'australian', 'supporter', 'sliding', 'frames', 'brief', 'gold', 'bookstore', 'buys', 'mound', 'paleontologist', 'bookshelf', 'bale', 'planter', 'silk', 'cathcer', 'hippie', 'pauses', 'paintings', 'fetching', 'exercised', 'garage', 'retrieving', 'exposure', 'long', 'spays', 'feels', 'emotionally', 'tunic', 'seabird', 'scrubbing', 'nitro', 'behind', 'cin', 'bones', 'bitten', 'innertube', 'afghan', 'pets', 'pony', 'pure', 'slice', 'scouts', 'prestends', 'pagent', 'debri', 'safety', 'dodging', 'touts', 'slimy', 'giants', 'silverware', 'retrive', 'water', 'trips', 'bullhorn', 'airplane', 'caution', 'scarfs', 'median', 'native', 'capture', 'vast', 'icing', 'sledding', 'nice', 'citizen', 'sand', 'sweatband', 'built', 'waterspouts', 'popsicles', 'jazz', 'equpitment', 'tea', 'totter', 'vehicle', 'shields', 're', 'aquestrian', 'yamaha', 'pipes', 'atrium', 'wrestle', 'equiment', 'dirt', 'jogs', 'porcelain', 'handout', 'armour', 'raincoat', 'dolphins', 'bagpipes', 'wellmuscled', 'circular', 'sweaters', 'regalia', 'impersonator', 'dirtyblonde', 'parachutes', 'traveller', 'beneath', 'identical', 'doll', 'exhibit', 'partake', 'granny', 'cloudy', 'scores', 'lapel', 'corporate', 'thrown', 'emits', 'tablet', 'ceramic', 'fellows', 'stalks', 'incense', 'rifle', 'smokes', 'punkish', 'padding', 'graham', 'inflated', 'flopping', 'frog', 'tripods', 'cause', 'specialized', 'slowly', 'coyotes', 'beautiful', 'older', 'cleats', 'pinscher', 'backed', 'displaying', 'jump', 'farward', 'panes', 'pamphlet', 'dueling', 'binoculars', 'partying', 'recreational', 'driveway', 'closecropped', 'palestinian', 'college', 'mittened', 'crouched', 'curling', 'continues', 'goldenbrown', 'preservers', 'hr', 'barrior', 'ciff', 'rebound', 'emerges', 'beverages', 'scope', 'looptheloop', 'lingers', 'sip', 'blowing', 'bridesmaid', 'ear', 'cellphone', 'ouside', 'hippies', 'dive', 'faith', 'nets', 'weimaraner', 'woamn', 'modifications', 'terrorizes', 'pulled', 'poster', 'rider', 'toll', 'group', 'suspension', 'neither', 'outward', 'furiously', 'flexible', 'pinches', 'lunchbox', 'tinsel', 'lease', 'pincer', 'opened', 'mama', 'meat', 'rested', 'swimsuites', 'keeper', 'ependent', 'knocking', 'hanging', 'excercises', 'halfway', 'sloped', 'bounds', 'judge', 'chases', 'origin', 'risen', 'sunlit', 'flautist', 'funny', 'giant', 'amazed', 'massive', 'grouchy', 'motorcyclist', 'target', 'berry', 'untouched', 'skeletonprinted', 'carton', 'fiveteen', 'nips', 'flies', 'wizards', 'sooner', 'dachshunds', 'crown', 'examining', 'earnhardt', 'kaki', 'otherwise', 'replaced', 'tattoo', 'couple', 'poem', 'hurridly', 'arched', 'saxaphones', 'shit', 'seat', 'king', 'rivers', 'monk', 'dane', 'lime', 'cannon', 'boxers', 'sports', 'rockstar', 'surfboarding', 'breezeway', 'diaper', 'twig', 'typical', 'clouds', 'mural', 'incoming', 'shade', 'lifeguards', 'carabiner', 'carves', 'grabs', 'note', 'boat', 'retriever', 'showering', 'individual', 'harmonica', 'causing', 'fix', 'structures', 'fireball', 'cows', 'vapour', 'trendy', 'stoll', 'yet', 'carrying', 'pushed', 'antoher', 'leafcovered', 'jet', 'plastic', 'hikes', 'punching', 'downsteps', 'ballons', 'fairway', 'cosplay', 'attempting', 'referee', 'coping', 'kissed', 'sweatshirts', 'fancy', 'scrubby', 'timeout', 'instructs', 'windsailing', 'gorup', 'daughter', 'rim', 'currently', 'spiritual', 'bonnet', 'roller', 'rummages', 'waters', 'cashier', 'blouse', 'fangs', 'portion', 'pristine', 'feet', 'jogged', 'nature', 'play', 'mules', 'wielding', 'climbs', 'actions', 'rockstrewn', 'breastfeeding', 'submerged', 'steady', 'woodland', 'bucked', 'zara', 'graffitistrewn', 'mottled', 'course', 'feed', 'pumps', 'balding', 'springs', 'quarry', 'hugs', 'homeless', 'prisoner', 'possessively', 'receiver', 'riverrafting', 'ampitheater', 'counters', 'coffee', 'cable', 'firework', 'cushion', 'serving', 'buoy', 'schoolchildren', 'pushup', 'docking', 'approachs', 'snowball', 'professional', 'perches', 'ponytail', 'darkness', 'goat', 'lafayette', 'blondhair', 'needs', 'cigarettes', 'threatening', 'language', 'sticking', 'partner', 'slope', 'hugging', 'girl', 'skewers', 'rubber', 'examines', 'completing', 'shaped', 'things', 'nerf', 'birdcage', 'hunter', 'sandal', 'artistic', 'hooding', 'defying', 'karate', 'reddishbrown', 'looming', 'foal', 'wishing', 'alertly', 'rangler', 'roiling', 'popscicles', 'branch', 'sibling', 'buster', 'shirted', 'rest', 'unfurling', 'headcover', 'giong', 'grate', 'divind', 'traverse', 'mothers', 'saw', 'flattened', 'frying', 'convoy', 'flips', 'seagull', 'sunflower', 'pinned', 'tackled', 'duke', 'contestants', 'montana', 'cars', 'reflection', 'excercise', 'talks', 'accompanied', 'two', 'crooswalk', 'paved', 'joins', 'butt', 'wetsuite', 'chutes', 'different', 'gains', 'enjoyment', 'vehicles', 'facepaintings', 'pitted', 'mounted', 'spill', 'nations', 'helped', 'multicolored', 'given', 'almost', 'subway', 'curve', 'nearly', 'mule', 'midstride', 'mounds', 'shortsleeved', 'stirring', 'blanket', 'calmer', 'snowsuit', 'prey', 'pitbulls', 'middle', 'protest', 'hooker', 'tawny', 'give', 'print', 'turned', 'stones', 'waders', 'pecks', 'longboarder', 'balancing', 'within', 'glassy', 'boarding', 'act', 'blondeheaded', 'restaurant', 'backing', 'arizona', 'beret', 'stoic', 'bmxer', 'starring', 'demonstrate', 'turn', 'overlooking', 'spaghetti', 'forelegs', 'wand', 'depth', 'streetshot', 'pride', 'chemical', 'bloody', 'orders', 'tented', 'redheaded', 'sleek', 'spike', 'froup', 'elegant', 'swinging', 'inspect', 'cleaned', 'trekkies', 'pierced', 'bicyclers', 'intertube', 'davison', 'closing', 'lipstick', 'road', 'converge', 'champ', 'actor', 'biek', 'subject', 'sprinking', 'poncho', 'cooks', 'puts', 'listening', 'zipup', 'sash', 'blackandwhite', 'sunrise', 'strollers', 'underpants', 'galloping', 'merchant', 'lettuce', 'gontaga', 'polo', 'stomach', 'overhanging', 'accelerates', 'reptiles', 'kayer', 'packages', 'sipping', 'going', 'curl', 'blondhaired', 'classes', 'grasses', 'discs', 'peach', 'candidate', 'mountaindew', 'wipeout', 'bicycles', 'alter', 'shuttered', 'shed', 'solicits', 'forehead', 'tired', 'icicle', 'mickey', 'googles', 'drums', 'eldery', 'sweashirt', 'smirks', 'everyone', 'representing', 'puff', 'headfirst', 'see', 'childern', 'snakeskin', 'overpass', 'boatload', 'sprawls', 'fishscales', 'floats', 'robot', 'suited', 'curls', 'nat', 'openmouthed', 'duck', 'dances', 'tend', 'somone', 'aross', 'supporters', 'asian', 'bloodied', 'playgroud', 'tip', 'shotput', 'choppy', 'kayaker', 'schools', 'neckless', 'bleached', 'gemmed', 'leafy', 'brindlecoated', 'went', 'lips', 'wings', 'entering', 'guided', 'skipped', 'straddles', 'attampts', 'trooper', 'points', 'fraternal', 'bundledup', 'chalked', 'glares', 'explosion', 'acrouss', 'astonishment', 'polar', 'fluorecent', 'contemplates', 'buttondown', 'rehearsing', 'whist', 'bum', 'cutouts', 'midjump', 'caravan', 'cliffside', 'brass', 'passenager', 'perhaps', 'logo', 'belts', 'girder', 'eyepatch', 'hp', 'comic', 'leading', 'born', 'ravine', 'reflective', 'boardwalk', 'inground', 'rough', 'browses', 'chase', 'horseback', 'dragster', 'waterwings', 'performed', 'stepping', 'budweisersponsored', 'cheeks', 'lazily', 'softdrinks', 'skating', 'looked', 'marker', 'midair', 'guns', 'load', 'blondehaired', 'scuffle', 'navigate', 'sleeveless', 'angry', 'offroad', 'bland', 'here', 'overalls', 'tomatos', 'uplifted', 'chestnut', 'smeared', 'tail', 'blond', 'tandom', 'couples', 'crewmen', 'convienance', 'profile', 'roof', 'teeshirt', 'purina', 'natural', 'barechested', 'orca', 'glasses', 'scowling', 'manequins', 'dyed', 'patrollers', 'flexibility', 'rocker', 'television', 'treading', 'cocked', 'sharp', 'aligator', 'caterpillar', 'guard', 'certificate', 'playstation', 'sweatshirt', 'cots', 'my', 'barrier', 'tanskinned', 'kite', 'treads', 'debris', 'opponent', 'dusted', 'vat', 'paralell', 'fluorescent', 'bay', 'shoulders', 'waterboard', 'sombrero', 'post', 'rocket', 'traverses', 'while', 'crevasse', 'beaks', 'cow', 'settings', 'purple', 'tiled', 'heading', 'ultimate', 'kiosk', 'fawkes', 'persues', 'overturned', 'grimacing', 'drivers', 'excited', 'strains', 'parka', 'buildings', 'plays', 'boarders', 'yachts', 'they', 'professionally', 'waterproofs', 'setup', 'graphic', 'fishermen', 'confronted', 'cattails', 'bald', 'ribbons', 'dresswear', 'straddle', 'equipments', 'ladles', 'stretch', 'sick', 'finishes', 'shielding', 'lifevest', 'fro', 'about', 'misspelled', 'goldenrod', 'worshipping', 'chipmunk', 'superhero', 'swarm', 'halfnaked', 'dashes', 'lack', 'eight', 'lined', 'displays', 'local', 'rite', 'return', 'poodle', 'bigs', 'waterpark', 'collapsing', 'dupont', 'attentively', 'telephot', 'graduation', 'repel', 'sets', 'domino', 'best', 'treck', 'divided', 'holding', 'rope', 'candles', 'waterline', 'unpaved', 'orangehooded', 'cart', 'plaza', 'interviewing', 'profession', 'interior', 'atmosphere', 'facefirst', 'spar', 'midleap', 'pitched', 'llama', 'circle', 'participates', 'asleep', 'frilly', 'foot', 'equpiment', 'pressing', 'fingerhold', 'handrail', 'netted', 'hawaiian', 'paneled', 'washing', 'expressway', 'amusement', 'charging', 'potato', 'approaching', 'repair', 'related', 'balance', 'we', 'excersise', 'flaming', 'half', 'dribbling', 'fixtures', 'skin', 'recently', 'conoes', 'flexing', 'skying', 'pee', 'toe', 'brighly', 'tourquoise', 'pylon', 'bikini', 'draw', 'clasped', 'restaraunt', 'above', 'competitive', 'reeds', 'dirtcovered', 'coaster', 'gigolo', 'evade', 'spiderman', 'spiking', 'year', 'toes', 'prefabricated', 'dancing', 'seats', 'ninjalike', 'snowfield', 'snowbanks', 'twisted', 'giggling', 'muzzles', 'kiddie', 'with', 'objects', 'weight', 'shepherds', 'thong', 'talent', 'agents', 'confront', 'films', 'saffron', 'pub', 'tubular', 'bottle', 'tricycle', 'brilliant', 'makeup', 'cutoff', 'pall', 'lion', 'dimlylit', 'maps', 'misses', 'extremely', 'spell', 'tramples', 'jack', 'chopsticks', 'no', 'tugowar', 'shredded', 'lifted', 'toilet', 'horse', 'headresses', 'dumpsters', 'location', 'casino', 'tissue', 'tonge', 'll', 'everywhere', 'hawaiin', 'doing', 'reaching', 'escape', 'probably', 'stoplight', 'concealed', 'beanie', 'begins', 'paintball', 'whitecolored', 'dhe', 'know', 'puffy', 'tuxedo', 'throws', 'walkway', 'trousers', 'searching', 'greyhound', 'khakis', 'motorized', 'contorted', 'waiter', 'foggyday', 'villages', 'steaks', 'riders', 'commercial', 'descent', 'screen', 'trumped', 'treefilled', 'blackblue', 'rack', 'placed', 'floral', 'ancient', 'beachgoers', 'balcony', 'bundles', 'shoe', 'purchased', 'strips', 'surfboard', 'nordic', 'sponsored', 'shadow', 'tufts', 'junglegym', 'portojohn', 'meter', 'clapped', 'middleeastern', 'outise', 'romp', 'laying', 'parrot', 'cavorting', 'wii', 'soundproof', 'windows', 'magazines', 'directs', 'tak', 'tutu', 'tripped', 'frolic', 'tankini', 'resembling', 'bathroom', 'models', 'union', 'solid', 'gandhi', 'tricks', 'diverse', 'hides', 'dry', 'used', 'flamboyant', 'tugging', 'brickwall', 'plank', 'lakefront', 'raingear', 'waterskiis', 'grasping', 'buena', 'handlebars', 'bluetooth', 'stay', 'self', 'bending', 'backview', 'zips', 'containers', 'swung', 'piggybacking', 'india', 'tireswing', 'opportunity', 'gateway', 'scooter', 'stands', 'beside', 'reeling', 'grips', 'jukebox', 'thirty', 'newlywed', 'tangled', 'shovels', 'head', 'fall', 'perfors', 'handles', 'stacks', 'indy', 'burka', 'vest', 'few', 'helmets', 'tow', 'themselves', 'cap', 'playfighting', 'welllit', 'enforcement', 'bigg', 'slacks', 'flares', 'wall', 'forest', 'lassos', 'closeout', 'protector', 'breaker', 'nowhere', 'devotion', 'bushels', 'struck', 'parasurfs', 'vendors', 'faced', 'bikina', 'machine', 'venue', 'gardening', 'route', 'teammate', 'bloe', 'people', 'bathe', 'stripped', 'illustrated', 'shocked', 'swishing', 'plaid', 'waterskis', 'alcohol', 'fanny', 'investigates', 'plats', 'bringing', 'motion', 'pitcher', 'rollerskates', 'sell', 'bandanas', 'speckled', 'indescript', 'exposition', 'pods', 'jaw', 'science', 'leggings', 'pedigree', 'adjusting', 'photos', 'persons', 'amid', 'euro', 'unusual', 'uno', 'monitors', 'pressed', 'exchanges', 'shag', 'soocerball', 'reflected', 'sunsets', 'hauling', 'swan', 'roping', 'swordfight', 'moter', 'love', 'jersy', 'gravel', 'skateboards', 'ethnicity', 'yelling', 'snowflake', 'pillowcase', 'file', 'codpiece', 'krueger', 'defended', 'anatomy', 'either', 'macintosh', 'taken', 'purses', 'melted', 'thck', 'bridal', 'pecking', 'lights', 'gates', 'lav', 'racing', 'steel', 'clifftop', 'biden', 'drills', 'stoops', 'crushed', 'bleachers', 'drummer', 'waterskies', 'simultaneously', 'dusty', 'windsurfs', 'pokes', 'lagoon', 'pring', 'nervous', 'scarves', 'shaved', 'barnlike', 'treat', 'slouched', 'copper', 'mitten', 'potty', 'gate', 'draws', 'international', 'shines', 'perform', 'encircling', 'yellow', 'recorder', 'mermaid', 'kind', 'stunt', 'killer', 'colander', 'kitty', 'coach', 'feather', 'food', 'transport', 'partition', 'fisher', 'image', 'once', 'scale', 'halter', 'captured', 'electricity', 'produce', 'finley', 'youg', 'playhouse', 'trains', 'toetouch', 'playful', 'guides', 'spaced', 'last', 'bus', 'snowshovel', 'wrestling', 'bearing', 'exercising', 'leaves', 'handed', 'greenery', 'wadingpool', 'changing', 'something', 'piano', 'backgrounds', 'huddle', 'kidsized', 'cables', 'midafternoon', 'expressionless', 'derssed', 'filling', 'canoers', 'pasta', 'celebratory', 'clothesline', 'cowboy', 'colt', 'swaetshirt', 'angerly', 'htting', 'housekeeping', 'lighthouse', 'treats', 'redhead', 'fences', 'views', 'sniffing', 'battle', 'paw', 'occasion', 'weather', 'peoople', 'axe', 'phrase', 'energetic', 'fan', 'base', 'toothpaste', 'eyeglasses', 'naturally', 'bananas', 'longnecked', 'boy', 'quietly', 'washer', 'hoodoos', 'trail', 'beetle', 'peers', 'persian', 'gesture', 'graying', 'hidden', 'ash', 'marina', 'distance', 'coloring', 'speedskater', 'cleans', 'brindle', 'viewer', 'buses', 'cockpit', 'ties', 'gifts', 'teams', 'dig', 'us', 'tall', 'storefronts', 'period', 'tinkerbell', 'daft', 'arranging', 'twos', 'protection', 'flowercovered', 'multicoloured', 'entangles', 'gesturing', 'ruins', 'pamphlets', 'rattan', 'mussels', 'encouraged', 'notsocrowded', 'restrain', 'desolate', 'knife', 'ducks', 'snub', 'vibrant', 'figurine', 'unison', 'throw', 'during', 'wade', 'revealing', 'jacks', 'plant', 'cricket', 'threeway', 'bigger', 'recieve', 'includes', 'wetsuits', 'frizzy', 'rain', 'decorative', 'fliers', 'redish', 'look', 'virtual', 'flew', 'bongo', 'strapless', 'ponytails', 'markers', 'sells', 'snarls', 'backtoback', 'brownhaired', 'unconventional', 'soda', 'kites', 'cobbled', 'revealed', 'bodies', 'cordoned', 'shrowded', 'organization', 'civillians', 'mexico', 'throat', 'malnourished', 'santa', 'cower', 'jewelry', 'mug', 'whitebearded', 'sweating', 'noodle', 'needlepoint', 'wrinkled', 'greeting', 'culprit', 'muzzled', 'early', 'preparation', 'troll', 'fighter', 'winters', 'finish', 'grounded', 'hairnet', 'caring', 'twopiece', 'bin', 'pins', 'seek', 'snowmobiler', 'rings', 'skydiving', 'recline', 'peaceful', 'paddock', 'surrounded', 'explores', 'bird', 'grazes', 'freddy', 'meditational', 'redcarpeted', 'bowtie', 'wearfing', 'tunnel', 'game', 'completes', 'dots', 'downtown', 'busstop', 'behing', 'shirtless', 'mid', 'blossoming', 'mosaic', 'bartender', 'puffs', 'clean', 'cellphones', 'ref', 'camouflage', 'coveralls', 'cafeteria', 'nails', 'speech', 'fun', 'strewn', 'shorline', 'kickboxing', 'bursting', 'if', 'masks', 'pnc', 'aid', 'interviewed', 'artwork', 'backside', 'after', 'hall', 'shire', 'perfom', 'attemping', 'planked', 'halfsmile', 'smoky', 'implements', 'weaves', 'stall', 'longhandled', 'leopard', 'barbed', 'shutters', 'einstein', 'rollerskater', 'feamle', 'pursing', 'held', 'portland', 'sniffs', 'vegetation', 'backsides', 'rallies', 'warmly', 'illustration', 'seating', 'tuner', 'busines', 'bridges', 'wilderness', 'objective', 'completely', 'radio', 'fantasy', 'directing', 'twin', 'snowpatched', 'santana', 'substance', 'paraglider', 'embroidered', 'smooth', 'goggled', 'junk', 'overshadows', 'stripe', 'leads', 'pitchers', 'observe', 'shading', 'hilltop', 'pad', 'dismounts', 'pharmacy', 'demonstrates', 'dye', 'napping', 'rakes', 'suburban', 'haystacks', 'drive', 'offensive', 'tutus', 'uneven', 'sub', 'without', 'suspended', 'bowls', 'readying', 'soft', 'fronmt', 'jr', 'layer', 'protester', 'pirate', 'schoolgirls', 'lane', 'parasailors', 'labradoodle', 'cage', 'duel', 'bruised', 'coached', 'soles', 'hers', 'takeing', 'pups', 'happening', 'equipment', 'conifers', 'forests', 'bamboo', 'stroll', 'sparkler', 'conference', 'readied', 'outcrop', 'moonwalk', 'obscures', 'tantrum', 'personnel', 'calming', 'cruiser', 'emerged', 'cattle', 'ee', 'similar', 'raining', 'poll', 'ripped', 'welldressed', 'centipede', 'foliaged', 'content', 'nonworking', 'evergreen', 'apple', 'ls', 'coast', 'puzzled', 'memorabilia', 'bathrobe', 'booklets', 'burnished', 'headphones', 'pirates', 'except', 'tells', 'grating', 'stuntleap', 'dont', 'redvested', 'cookie', 'fishing', 'tray', 'cutting', 'energizer', 'streetlamp', 'attire', 'gets', 'doorbell', 'beatup', 'entitled', 'corkscrew', 'shawl', 'west', 'trucks', 'steamy', 'fives', 'drifting', 'whiel', 'naval', 'tossed', 'groomed', 'trombone', 'opens', 'artist', 'askance', 'mills', 'amazement', 'wheeled', 'greysuited', 'dries', 'huts', 'creamy', 'tightly', 'saroog', 'babies', 'photo', 'marine', 'watermelon', 'daughters', 'edged', 'stopping', 'shoeless', 'ones', 'slip', 'parachutist', 'areas', 'combat', 'dressing', 'onward', 'narrow', 'table', 'firecracker', 'mouthed', 'goes', 'christmas', 'fitness', 'paraphernalia', 'flexable', 'themed', 'bomber', 'graffiti', 'bullfighter', 'scantilyclad', 'igloo', 'drum', 'hate', 'bandmates', 'agility', 'weights', 'smoke', 'recording', 'khakicolored', 'casts', 'campfire', 'lie', 'thatched', 'snowboarder', 'locked', 'collide', 'lunges', 'somebody', 'fortune', 'clause', 'camper', 'wrangle', 'petting', 'touchdown', 'chart', 'circled', 'jaket', 'dusk', 'neckties', 'outfield', 'care', 'tv', 'ban', 'entire', 'cobblestone', 'escorted', 'officers', 'will', 'crooked', 'flinging', 'shute', 'pizza', 'bouncy', 'countryside', 'industrial', 'spirit', 'yound', 'bro', 'alongside', 'sorts', 'blown', 'roots', 'bounced', 'gaurd', 'scrubland', 'catches', 'blueish', 'bullrun', 'sleigh', 'styled', 'defends', 'beg', 'venture', 'pressure', 'step', 'finds', 'drap', 'antennae', 'swear', 'wields', 'sailboarder', 'crowded', 'posign', 'offers', 'lying', 'braids', 'numbers', 'cami', 'bungeetype', 'spashes', 'canned', 'arm', 'kicks', 'monkey', 'brighty', 'stick', 'crawls', 'alon', 'same', 'hsirt', 'enjoys', 'silhouettes', 'pastry', 'sea', 'speedboat', 'ramps', 'helping', 'met', 'spanish', 'fribee', 'flaps', 'pinstripe', 'students', 'upright', 'monster', 'redwood', 'avrovulcancom', 'gondoliers', 'zaftig', 'cups', 'determination', 'missed', 'wheat', 'strapped', 'clemson', 'thoroughly', 'chaperone', 'varied', 'midday', 'carpenters', 'lilly', 'button', 'clasp', 'nussle', 'curious', 'daisies', 'instructor', 'joined', 'worn', 'barefoot', 'beyond', 'exciting', 'awards', 'brook', 'complete', 'dragged', 'cowgirl', 'affectionately', 'gelled', 'midriff', 'posing', 'restroom', 'total', 'skates', 'stops', 'grasslands', 'pass', 'released', 'guiutarist', 'lightcolored', 'midspeach', 'consulting', 'streetpole', 'race', 'roofs', 'swirls', 'ladder', 'chain', 'vine', 'burned', 'adolescent', 'golfers', 'headlamp', 'paperwork', 'haircut', 'supporting', 'large', 'outrun', 'uncrowded', 'twome', 'left', 'practicing', 'ferrett', 'tourists', 'greyblue', 'formal', 'merry', 'name', 'metropolitain', 'holder', 'embrace', 'steps', 'repels', 'squeezes', 'sculpture', 'sewn', 'feathery', 'travels', 'bareback', 'keffiyahs', 'smiles', 'waitress', 'army', 'protective', 'ping', 'hiker', 'exit', 'storm', 'widow', 'rafael', 'wrestlers', 'pilings', 'widespread', 'beams', 'retangular', 'dice', 'surprised', 'minivan', 'tubing', 'grazing', 'lock', 'decked', 'stone', 'bare', 'bellbottoms', 'seperated', 'stange', 'hustle', 'scull', 'joking', 'motorcross', 'labs', 'maroon', 'hard', 'promotional', 'dealth', 'rockets', 'enforcment', 'du', 'onrushing', 'fries', 'salt', 'garbage', 'differentcolored', 'skydivers', 'priests', 'pinkbottomed', 'slaloms', 'seagulls', 'goose', 'clapping', 'worked', 'british', 'hairclips', 'mouse', 'vike', 'scraping', 'kong', 'hunt', 'busters', 'twins', 'paraskier', 'cruising', 'poses', 'kids', 'photographer', 'passenger', 'stony', 'mainly', 'bulls', 'patriotic', 'tobaggons', 'suspenders', 'types', 'suitcase', 'cements', 'texting', 'busy', 'french', 'humorous', 'slam', 'beckham', 'stepstool', 'mitt', 'attention', 'novel', 'newly', 'collecting', 'shells', 'mohawk', 'shepherd', 'iron', 'dips', 'legs', 'housing', 'lightup', 'opposite', 'ticket', 'kneehigh', 'spectators', 'mountin', 'humansize', 'overwhelmed', 'shouting', 'aim', 'placing', 'meet', 'lollipops', 'putting', 'girlfriends', 'shares', 'antlers', 'solo', 'colonial', 'antitax', 'obscured', 'waeribng', 'drove', 'oiled', 'gorgeous', 'kayaking', 'smiled', 'midflight', 'nip', 'adorn', 'highflying', 'graveyard', 'evil', 'pause', 'trike', 'sat', 'lillypads', 'camping', 'draped', 'blurry', 'wal', 'cloverfilled', 'bison', 'soars', 'panel', 'boats', 'skyward', 'shower', 'bunny', 'judea', 'boarded', 'spelling', 'punk', 'valleys', 'horses', 'number', 'sound', 'awe', 'directions', 'nothing', 'contents', 'squinting', 'fringe', 'painting', 'closer', 'microphones', 'picture', 'longhaired', 'fisherman', 'blackboard', 'rowboat', 'addressing', 'dresser', 'routine', 'transportation', 'bricks', 'squeezed', 'eatery', 'pleople', 'couches', 'armenian', 'struggling', 'congregate', 'informal', 'roll', 'sings', 'trams', 'someplace', 'regains', 'london', 'notepad', 'fully', 'bluetinted', 'obsured', 'sprinkling', 'dancers', 'garments', 'fold', 'abandon', 'determined', 'creeping', 'distant', 'wrecked', 'kayakers', 'abdomen', 'toy', 'silhouetted', 'leg', 'gyro', 'greyishbrown', 'rainstorm', 'straining', 'elder', 'stockings', 'umbrella', 'tongee', 'licks', 'furniture', 'fantastic', 'skimpy', 'hacking', 'barriers', 'easily', 'baseball', 'headbands', 'gas', 'talk', 'scans', 'cup', 'flags', 'chips', 'tipping', 'bracing', 'twists', 'weirmeiner', 'trace', 'stamds', 'sale', 'reception', 'bouncey', 'wakeboards', 'shoulderhigh', 'enclosure', 'zombie', 'rice', 'staircase', 'floaters', 'dobermans', 'bill', 'razzling', 'schoolboy', 'rummage', 'blacktop', 'treetops', 'complex', 'fronds', 'readies', 'lionist', 'watched', 'sniffed', 'operates', 'underneat', 'zippered', 'bended', 'nike', 'against', 'knitted', 'waists', 'crazily', 'getting', 'fast', 'shining', 'columns', 'rv', 'advantage', 'passed', 'hortons', 'caribbean', 'skii', 'bunk', 'camels', 'pebbles', 'bobsled', 'quiet', 'twisting', 'filiming', 'extended', 'dacshund', 'bonfire', 'reared', 'bathrooms', 'oppose', 'santas', 'amuseument', 'confrontation', 'keeling', 'guards', 'tree', 'crawl', 'burnt', 'flaring', 'flaggers', 'widelegged', 'circumvents', 'platform', 'opponents', 'wear', 'astride', 'rushing', 'motorcycling', 'solitude', 'golfing', 'tuxes', 'hypocrites', 'longspandex', 'competiton', 'dark', 'darts', 'olympic', 'grid', 'buggies', 'small', 'amongst', 'many', 'three', 'messenger', 'marks', 'gloves', 'irish', 'fixer', 'awkwardly', 'snowsuits', 'moon', 'tanktop', 'recital', 'laughs', 'flooring', 'reflecting', 'verbal', 'juggling', 'executes', 'flat', 'right', 'narby', 'kneeled', 'ruined', 'bridesmaids', 'overlooks', 'anklehigh', 'shot', 'floored', 'dooorway', 'redclothed', 'owl', 'bead', 'curtain', 'harly', 'artists', 'scary', 'gentlemen', 'earrings', 'caught', 'bordered', 'nude', 'slips', 'shabby', 'extravagent', 'brush', 'waits', 'winning', 'djs', 'longbeaked', 'concert', 'synchronized', 'hoes', 'pattern', 'gothic', 'snout', 'cute', 'boulder', 'berets', 'poorly', 'balls', 'balloon', 'stadning', 'muffs', 'retreiving', 'scoop', 'producing', 'over', 'moutain', 'deciding', 'waterhole', 'headress', 'gallopsing', 'hotpink', 'terriers', 'bespectacled', 'tests', 'jug', 'zooming', 'better', 'crevice', 'gi', 'selfportrait', 'backhand', 'snowcovered', 'formed', 'fixing', 'polkadotted', 'sized', 'invention', 'livestock', 'cavorts', 'maracas', 'engaging', 'poodles', 'magic', 'recoils', 'relatively', 'elevation', 'helicopter', 'studio', 'collapsable', 'suckles', 'backgroud', 'momma', 'strainer', 'seidwalk', 'hatted', 'midget', 'scrambling', 'trackside', 'slush', 'spotting', 'client', 'bicyclist', 'doorstep', 'strand', 'ring', 'squares', 'item', 'child', 'shaft', 'squats', 'advertizing', 'slurpees', 'trails', 'sunbathers', 'assault', 'judo', 'removes', 'snorkel', 'gauzey', 'shreds', 'mouth', 'badges', 'lowering', 'rights', 'tune', 'quaint', 'prays', 'locks', 'pavement', 'entry', 'bright', 'serve', 'turbulent', 'curiously', 'senior', 'overshadowed', 'accordion', 'willow', 'bouncer', 'observer', 'huskylike', 'responders', 'oclock', 'shades', 'baggy', 'sang', 'catwalk', 'practices', 'lobster', 'casual', 'holey', 'wakeboarders', 'silver', 'id', 'jeeps', 'surroundings', 'chained', 'gesticulates', 'resort', 'facedown', 'husks', 'thre', 'gingerbread', 'greenglow', 'gutarist', 'snowpacked', 'theater', 'taller', 'peircings', 'launcher', 'devil', 'shriner', 'sheer', 'wooden', 'underneath', 'paddled', 'official', 'manually', 'rose', 'temporary', 'startled', 'kneel', 'frame', 'operate', 'biohazard', 'amount', 'near', 'jog', 'harvested', 'screening', 'up', 'railling', 'eluding', 'convention', 'tackle', 'graze', 'judgement', 'offwhite', 'motorbike', 'learns', 'humans', 'had', 'exits', 'wades', 'confronting', 'mountain', 'wedgie', 'cracker', 'called', 'tigger', 'meeting', 'supervising', 'tupperware', 'dirtracing', 'cylinder', 'saddle', 'introduces', 'greenpeace', 'below', 'protectors', 'necklaces', 'gover', 'comforter', 'terminal', 'tatooed', 'glider', 'ladie', 'pond', 'bouquet', 'horizon', 'strap', 'jumpos', 'bloom', 'shews', 'limbs', 'mechanisms', 'tychy', 'pan', 'highfives', 'vw', 'uw', 'cameras', 'bell', 'bush', 'blowup', 'wicket', 'paneling', 'split', 'laughed', 'surfing', 'drainage', 'occured', 'groceries', 'midsized', 'tiger', 'waterfront', 'propel', 'chili', 'surfs', 'marble', 'schoolgirl', 'scoring', 'cowlike', 'cuts', 'highschool', 'bumpy', 'paddle', 'chased', 'pizzeria', 'topples', 'root', 'runway', 'motocycle', 'engine', 'flood', 'teaching', 'sleeps', 'clibing', 'cleared', 'bohemian', 'beagle', 'guessing', 'bodyless', 'barrel', 'sculptures', 'struggle', 'laptop', 'sleddog', 'perpendicular', 'perched', 'angel', 'cds', 'videotaped', 'blocked', 'jagged', 'ascends', 'extravagant', 'floatation', 'incline', 'stadium', 'match', 'so', 'acting', 'headdress', 'diamond', 'hair', 'clear', 'escalator', 'columned', 'stars', 'massage', 'contemporary', 'entertainer', 'americans', 'has', 'embraces', 'wavy', 'length', 'paying', 'helments', 'commuters', 'plows', 'depicting', 'buzzes', 'mix', 'round', 'catching', 'browneyed', 'pats', 'protected', 'that', 'gowns', 'thin', 'prizes', 'alien', 'gothically', 'knuckle', 'bellysmacker', 'speedo', 'wildebeest', 'halfcompleted', 'laid', 'farris', 'yellowgold', 'fence', 'layered', 'thermos', 'violins', 'vista', 'zigzag', 'tbar', 'am', 'referring', 'brightlycolored', 'weaving', 'pumpkins', 'tie', 'safely', 'greets', 'rasing', 'disguise', 'parachuting', 'tightrope', 'bearers', 'awkward', 'arch', 'climber', 'knoll', 'lit', 'handkerchief', 'pug', 'break', 'escorts', 'wheeler', 'cathing', 'uniforms', 'where', 'sailor', 'visor', 'apartment', 'bath', 'shoulderbag', 'run', 'dandelion', 'attending', 'topdown', 'ignoring', 'closes', 'limegreen', 'jeep', 'camera', 'speedway', 'competitors', 'performs', 'handling', 'somersaults', 'superman', 'refrigerator', 'squints', 'beats', 'penguins', 'marshy', 'sunglasses', 'blonde', 'motorcycles', 'since', 'craft', 'palm', 'referees', 'swimcap', 'leaf', 'composed', 'candle', 'cereal', 'chiseling', 'fleece', 'separated', 'favorite', 'our', 'upclose', 'parasurfing', 'ripping', 'overall', 'piste', 'chidl', 'gorge', 'drill', 'racks', 'viewfinder', 'fedex', 'loser', 'rail', 'currents', 'demonstration', 'boredom', 'hedge', 'ace', 'dangles', 'followed', 'emerge', 'daylight', 'idea', 'civil', 'conoe', 'bound', 'obscuring', 'sprinkles', 'panties', 'assists', 'rolled', 'onesie', 'really', 'parking', 'unspooled', 'waing', 'antenna', 'pale', 'poured', 'snoring', 'hay', 'stair', 'lost', 'rearview', 'windshield', 'gin', 'reddressed', 'accent', 'tackler', 'hdr', 'memorial', 'vaste', 'disgusted', 'drives', 'downstream', 'streetlights', 'muslim', 'bowled', 'procession', 'pouncing', 'seashore', 'film', 'steers', 'bonnets', 'samples', 'rusty', 'religious', 'flipping', 'geological', 'sidecar', 'medatative', 'rodent', 'heavymetal', 'interesting', 'aluminum', 'videos', 'dodge', 'africans', 'tractor', 'trackandfield', 'teeing', 'been', 'showered', 'outdoor', 'backless', 'diving', 'goats', 'handcrank', 'flower', 'riverwater', 'rockclimber', 'examine', 'elf', 'signaling', 'ant', 'gazing', 'dried', 'cautiously', 'gra', 'men', 'firehose', 'both', 'to', 'joust', 'keyboard', 'jacked', 'boas', 'claps', 'gazes', 'cacti', 'spacious', 'jewlery', 'hurrying', 'wintry', 'entertainers', 'tumbles', 'lawnmower', 'stump', 'conversations', 'side', 'offf', 'flannel', 'policeman', 'twp', 'hangglider', 'coal', 'landform', 'satchel', 'junction', 'hand', 'waaves', 'underbrush', 'walking', 'snowboards', 'musicians', 'joint', 'bag', 'squeals', 'blitz', 'popsicle', 'menacingly', 'america', 'whitehaired', 'choir', 'stained', 'widows', 'gnaws', 'deeper', 'heavyset', 'hoodie', 'him', 'shaky', 'icicles', 'neptuno', 'fat', 'corridor', 'litlle', 'behinds', 'gentleman', 'apparantly', 'plucking', 'uphill', 'folded', 'blockers', 'approaches', 'hearts', 'dome', 'waitresses', 'gallop', 'point', 'instruments', 'outs', 'imagery', 'swingset', 'hardwood', 'aerobatic', 'snoopy', 'makes', 'gith', 'session', 'exiting', 'broom', 'cliff', 'creepy', 'ypoung', 'multicolor', 'draping', 'gras', 'circus', 'sweats', 'attempt', 'chute', 'pointed', 'quilted', 'process', 'aqua', 'trophy', 'beverage', 'fingertips', 'woven', 'ribbon', 'jostles', 'unified', 'this', 'facility', 'locomotives', 'penzance', 'collection', 'any', 'cavern', 'pokemon', 'avoids', 'snowscapes', 'money', 'yankees', 'launches', 'motorscooter', 'dragon', 'clears', 'maneuvers', 'skatepark', 'consumed', 'unshaven', 'footrace', 'american', 'mats', 'yougn', 'passage', 'exposing', 'plants', 'climbers', 'nightclub', 'material', 'mosquelike', 'breathing', 'spin', 'interrupts', 'paddlers', 'angels', 'utility', 'expressing', 'slalom', 'vending', 'scrap', 'jugs', 'chief', 'checkstand', 'girt', 'hoof', 'wheelbarrow', 'oppsing', 'tandem', 'bangles', 'smokestacks', 'spaniel', 'glow', 'traditional', 'boardedup', 'packed', 'wildly', 'twist', 'signage', 'leaping', 'paragliding', 'buff', 'sunny', 'dominance', 'vandalized', 'steered', 'terrace', 'advances', 'projector', 'dumbbell', 'burgers', 'underpass', 'complimentary', 'unsual', 'intervening', 'largley', 'pyramid', 'peddles', 'patiently', 'own', 'poems', 'surfaces', 'skirts', 'mic', 'hot', 'attaching', 'ships', 'preoccupied', 'walkman', 'overlooked', 'rotating', 'dress', 'streght', 'bohemians', 'lounge', 'ink', 'fabric', 'tribal', 'labelled', 'soaking', 'lightsaber', 'brought', 'swarmed', 'homes', 'congregated', 'drain', 'fairy', 'news', 'nuzzling', 'strength', 'ways', 'bout', 'stunning', 'shortstop', 'jumpropes', 'mowed', 'labeled', 'devices', 'oldfashioned', 'musical', 'performance', 'pearls', 'geyser', 'racer', 'expose', 'backback', 'include', 'footbridge', 'handicap', 'pockets', 'enthusiasts', 'swimsuits', 'apart', 'assist', 'allmale', 'blue', 'applying', 'rears', 'fencedin', 'heavily', 'observes', 'shorthair', 'station', 'facepainted', 'suns', 'communal', 'percussionists', 'horizontallystriped', 'bark', 'modern', 'mesa', 'ridge', 'bandanna', 'rellow', 'cinderblock', 'heroes', 'lavish', 'tier', 'peer', 'checkered', 'cresting', 'companion', 'scarf', 'tram', 'flotation', 'buddha', 'create', 'seeds', 'rollercoaster', 'hoist', 'manicured', 'lawnchair', 'scattered', 'chainmail', 'churning', 'aboveground', 'usual', 'pinstriped', 'fire', 'colorful', 'mill', 'disney', 'launched', 'crocks', 'saber', 'docks', 'attractive', 'yawns', 'forward', 'card', 'perused', 'before', 'retrieved', 'burrows', 'anticipates', 'signs', 'frosty', 'doberman', 'beads', 'helmeted', 'bring', 'semiformal', 'sunshine', 'becomes', 'swampy', 'walkers', 'perplexed', 'everybody', 'drips', 'vacationing', 'liquid', 'bouncing', 'raced', 'places', 'jumpsuit', 'africanamericans', 'palmtree', 'footwork', 'collarless', 'sprint', 'tires', 'catered', 'biting', 'encripted', 'drops', 'kart', 'flipflop', 'ladys', 'agains', 'crystal', 'exotic', 'tanned', 'hind', 'breeds', 'scenery', 'dragons', 'receiving', 'awnings', 'swings', 'airfilled', 'gallery', 'connected', 'aimed', 'frolicks', 'words', 'quick', 'measures', 'working', 'sees', 'bites', 'swatted', 'greens', 'reveals', 'pitching', 'transit', 'lone', 'magician', 'stickball', 'effort', 'crime', 'sandcastles', 'sure', 'carying', 'open', 'marked', 'skaters', 'overhangs', 'shots', 'holes', 'sunsetting', 'shetland', 'nudges', 'home', 'proud', 'dirtbikes', 'establishment', 'patroling', 'moustaches', 'uncut', 'diplomas', 'outfitted', 'smal', 'ended', 'headscarfs', 'backpacker', 'soled', 'jacket', 'bicylist', 'streamers', 'squad', 'judges', 'viz', 'shadowy', 'situated', 'snarling', 'paddling', 'bmw', 'obedience', 'underground', 'neckdeep', 'recreation', 'buss', 'bedspread', 'spotted', 'hitting', 'tossing', 'dives', 'campflauge', 'powder', 'walkng', 'fame', 'western', 'grownup', 'cushions', 'royal', 'sportwoman', 'cub', 'swimsuit', 'center', 'exception', 'kingsworth', 'snowed', 'shrubs', 'attacks', 'att', 'outwards', 'roundabout', 'beige', 'wait', 'corgi', 'battling', 'wine', 'tuft', 'lifts', 'hardly', 'treated', 'boods', 'drenched', 'ibeam', 'minor', 'strolling', 'snowing', 'bit', 'eastern', 'steal', 'bannister', 'battles', 'newspaper', 'lush', 'acrobatics', 'rails', 'sillhouetted', 'form', 'indoor', 'torn', 'diferent', 'balanced', 'silhouette', 'stork', 'knocks', 'frolicking', 'tball', 'impeach', 'tw', 'jogging', 'an', 'pasture', 'kneeling', 'chains', 'voice', 'hooking', 'footballers', 'upside', 'glove', 'hurricanes', 'on', 'snowman', 'masonry', 'tapped', 'oppsite', 'tables', 'rays', 'driven', 'twho', 'feathers', 'hallways', 'english', 'bucket', 'oversized', 'exhibt', 'dimpled', 'shredding', 'hillock', 'involving', 'redbull', 'cloak', 'neat', 'novelty', 'style', 'participate', 'movie', 'cornstalks', 'pen', 'tiara', 'christ', 'printed', 'pausing', 'brindlecolored', 'rollerblade', 'chests', 'chunk', 'cotton', 'barn', 'vocabulary', 'bartype', 'dingo', 'sheltered', 'crowns', 'russell', 'antelope', 'railed', 'cards', 'cropped', 'stock', 'hits', 'guide', 'snack', 'bluff', 'cement', 'whitefooted', 'chinatown', 'dipping', 'starbuck', 'interracial', 'fairies', 'cover', 'wilbert', 'attacking', 'wears', 'moves', 'scientist', 'what', 'flung', 'arranged', 'flanked', 'recked', 'extends', 'tilted', 'windowed', 'secondstory', 'husky', 'goth', 'office', 'surfer', 'records', 'shite', 'drinking', 'porch', 'sprinkled', 'submissive', 'coarse', 'wool', 'filmed', 'crescent', 'checks', 'hoses', 'packer', 'sharing', 'pastels', 'nine', 'dotted', 'hoofs', 'leash', 'focuses', 'braces', 'truck', 'gather', 'adolescents', 'pursed', 'honest', 'ankledeep', 'law', 'watersports', 'curlyhaired', 'hiviz', 'podium', 'sox', 'flyer', 'afternoon', 'skiny', 'lanyard', 'smelling', 'pillows', 'foam', 'skate', 'stretching', 'kayacker', 'bass', 'takedown', 'lens', 'age', 'arabic', 'broadly', 'ignore', 'horned', 'kisscostumed', 'mirrored', 'gradual', 'bums', 'jaws', 'rides', 'shell', 'floppy', 'picking', 'modeling', 'screened', 'izod', 'counry', 'snows', 'mouthguards', 'horseshoes', 'hang', 'driver', 'lighting', 'aveda', 'brunette', 'bookcase', 'tights', 'tilting', 'neighborhood', 'sends', 'headgear', 'fitls', 'wintergear', 'busk', 'mountainside', 'larger', 'romantic', 'idyllic', 'countertop', 'straddling', 'israeli', 'lacross', 'touches', 'award', 'knotted', 'snowmobiles', 'pillow', 'smu', 'mike', 'aids', 'tread', 'praying', 'tobaggan', 'would', 'saucers', 'mean', 'budweiser', 'tilling', 'snowmobiling', 'magazine', 'competeition', 'jumps', 'garner', 'covers', 'busying', 'patrick', 'courtyard', 'signals', 'breathes', 'guys', 'electrical', 'gotten', 'sun', 'shrubbery', 'physiques', 'brave', 'driverside', 'puddles', 'nibbles', 'backs', 'amplifier', 'shark', 'low', 'placemats', 'retriving', 'skier', 'prepare', 'bearer', 'guiding', 'couch', 'sightseeing', 'andy', 'canadian', 'backward', 'behinf', 'beef', 'legos', 'multiprint', 'miami', 'smock', 'espana', 'manuever', 'machinery', 'excess', 'direct', 'pastures', 'mart', 'certificates', 'stunts', 'butts', 'choreographed', 'smoked', 'notices', 'laceup', 'trained', 'edge', 'hurdle', 'cooling', 'pinestraw', 'ledge', 'teammates', 'felled', 'midfield', 'swimwear', 'skills', 'mistletoe', 'panda', 'dribbles', 'identically', 'pudding', 'handstand', 'coasting', 'grappling', 'dancefloor', 'victory', 'enviorment', 'spot', 'ourdoors', 'say', 'spare', 'videotaping', 'sari', 'crawling', 'int', 'gushing', 'fleeing', 'hurdlejumper', 'withered', 'witches', 'stacking', 'donkey', 'navel', 'easter', 'pig', 'basset', 'snowstorm', 'sheppard', 'lab', 'plugging', 'containig', 'suit', 'walled', 'tripod', 'alotment', 'bagpipe', 'prayer', 'sisters', 'heads', 'chunky', 'histerically', 'batshaped', 'lapse', 'tanning', 'creates', 'topless', 'boogie', 'shotongoal', 'skips', 'excites', 'organizing', 'oout', 'another', 'breed', 'jockey', 'each', 'cheese', 'hill', 'bowling', 'suggestive', 'logs', 'rappeling', 'paints', 'blurs', 'fly', 'bangs', 'damaged', 'dave', 'spins', 'mercury', 'pipe', 'overweight', 'donations', 'goggles', 'inverted', 'sign', 'handrails', 'belays', 'fiddle', 'buddist', 'machines', 'oxford', 'deer', 'seafood', 'toddles', 'obese', 'flees', 'halfdressed', 'motorbiker', 'rockclimbs', 'muxzzled', 'backbend', 'silly', 'ceiling', 'whipping', 'wires', 'snapping', 'soccer', 'picutre', 'redhaired', 'boots', 'six', 'outfits', 'hoists', 'cigarette', 'puppet', 'bent', 'jar', 'mark', 'groucho', 'heights', 'lilies', 'patterened', 'underwater', 'riverboat', 'mma', 'clustered', 'gnawing', 'returns', 'field', 'donkeys', 'watch', 'dear', 'armor', 'dripping', 'anticipating', 'motorcycle', 'atvs', 'running', 'clowds', 'strong', 'lavendar', 'ahead', 'designed', 'emerging', 'other', 'looms', 'hung', 'folding', 'pensively', 'collaborating', 'fashion', 'firetruck', 'quintet', 'melts', 'explosions', 'world', 'videocameras', 'ot', 'youth', 'russel', 'cold', 'wildflowers', 'doge', 'showing', 'bumpers', 'baton', 'protruding', 'skyscrapers', 'scales', 'clever', 'dalmation', 'maids', 'proximity', 'singer', 'keepaway', 'highrise', 'vuitton', 'stuck', 'seas', 'fishemen', 'phone', 'pictures', 'baby', 'bobbed', 'wildebeast', 'families', 'eye', 'hovering', 'frown', 'mocks', 'starting', 'photograhi', 'celebrate', 'scared', 'cascading', 'whites', 'brige', 'wax', 'decoyanimal', 'salon', 'looks', 'bicyclecross', 'cowgirls', 'exhaust', 'sniff', 'moving', 'sales', 'jumpsuits', 'spits', 'whoa', 'refuse', 'treecovered', 'takeout', 'stopped', 'daschund', 'safari', 'graffiticovered', 'brandishes', 'keep', 'folks', 'mustard', 'huskey', 'dogshirt', 'stance', 'remember', 'based', 'dangerous', 'rag', 'queen', 'jeans', 'sunshaped', 'others', 'threshold', 'source', 'muscles', 'afro', 'streambed', 'furry', 'spoted', 'photograph', 'headless', 'animal', 'lecture', 'meanders', 'spokes', 'raising', 'trip', 'pretends', 'pants', 'bulky', 'obscure', 'family', 'foreigners', 'charm', 'fists', 'curled', 'simpsons', 'government', 'airport', 'freestyle', 'canals', 'advertising', 'atheletes', 'halfpipe', 'desks', 'rectangle', 'fireplug', 'rode', 'tassel', 'ready', 'kelp', 'interacts', 'offering', 'chews', 'lifevests', 'pull', 'pole', 'fayre', 'dodges', 'draft', 'holds', 'trumpet', 'glassess', 'almostdried', 'sitting', 'ornate', 'blossoms', 'pitbull', 'fruit', 'crystalclear', 'handrailing', 'enter', 'ax', 'kneepads', 'surveying', 'mudwrestle', 'screams', 'splashing', 'packers', 'from', 'covering', 'deflated', 'expansive', 'hillside', 'rottweiller', 'schoolyard', 'threewheeled', 'tuxedos', 'oklahoma', 'grinding', 'glances', 'palying', 'skirt', 'chops', 'canes', 'romps', 'cherry', 'creature', 'thie', 'emerald', 'teaches', 'wrings', 'landscape', 'cabin', 'spelunkers', 'waded', 'jersay', 'whispering', 'gaze', 'cycling', 'sundress', 'protects', 'festive', 'cargo', 'clergy', 'artsstyle', 'weird', 'brides', 'dame', 'logos', 'sites', 'delivery', 'statute', 'ovals', 'follows', 'eat', 'observed', 'cheek', 'mountaineer', 'deck', 'haystack', 'chello', 'miniature', 'heavy', 'leaning', 'prepairing', 'dunking', 'leaned', 'cork', 'smoking', 'swim', 'riverbank', 'blows', 'pointer', 'tan', 'knee', 'uniform', 'scubba', 'nd', 'stores', 'nap', 'packaged', 'childrens', 'withdrawing', 'opinion', 'was', 'leafs', 'playing', 'kiddy', 'thread', 'apportioned', 'hardhat', 'dirtbikers', 'intot', 'performers', 'dew', 'yellowish', 'works', 'squeeze', 'lighter', 'bodysuit', 'log', 'barista', 'populated', 'horseriders', 'wounds', 'nursed', 'talking', 'workers', 'backpack', 'keeps', 'young', 'denim', 'find', 'varying', 'batter', 'digital', 'day', 'claus', 'lady', 'encourages', 'sequined', 'door', 'soap', 'passin', 'disturbed', 'chicken', 'milkbone', 'carved', 'advertisment', 'jumping', 'instrument', 'cannons', 'scalling', 'confronts', 'crafted', 'seawall', 'cowboys', 'allow', 'beds', 'oceanside', 'viewing', 'gazed', 'lay', 'reds', 'distnat', 'bulging', 'artificial', 'statues', 'device', 'nugent', 'stonesign', 'found', 'peering', 'missing', 'monitor', 'bubbling', 'lakes', 'tying', 'binky', 'mock', 'anciet', 'cloud', 'badminton', 'fireplace', 'raise', 'plains', 'targeting', 'popcycles', 'waking', 'silky', 'dim', 'leave', 'associated', 'clover', 'fuchsia', 'pumped', 'quickly', 'roadway', 'gigantic', 'rollerskate', 'hummer', 'ritz', 'secluded', 'appears', 'inline', 'pompadour', 'jockeys', 'submerges', 'hooked', 'short', 'sled', 'pontoon', 'wrangles', 'nubby', 'temple', 'seaworld', 'policeperson', 'resaurant', 'ladies', 'trudge', 'clack', 'toboggan', 'owner', 'screaming', 'sheepdogs', 'seater', 'flag', 'parody', 'cemetery', 'rifles', 'face', 'lioness', 'cry', 'windmill', 'dalmatian', 'telescope', 'gloved', 'gokarts', 'bluegray', 'nursery', 'clings', 'casket', 'miniskirts', 'traveling', 'crag', 'carving', 'fixes', 'ok', 'toothbrush', 'baskers', 'wicker', 'outcropping', 'blurred', 'frozen', 'remove', 'rowers', 'inspects', 'lawn', 'multipiercings', 'midswing', 'equestrian', 'emphatically', 'farmer', 'formula', 'ghostbusters', 'brooms', 'sentence', 'only', 'falls', 'environment', 'ballet', 'leaps', 'upwards', 'cream', 'marsh', 'balconies', 'sour', 'darked', 'freak', 'gallops', 'beak', 'freefall', 'twenty', 'pretend', 'sheperds', 'inflatable', 'presses', 'earphone', 'handing', 'placid', 'ralley', 'weiner', 'mop', 'archways', 'shelton', 'backset', 'skids', 'dug', 'tame', 'tones', 'crank', 'footballs', 'luggage', 'aig', 'fourth', 'surfboards', 'skit', 'celebration', 'striding', 'graffitied', 'deposited', 'away', 'noodles', 'frustrated', 'arches', 'buried', 'throughwindow', 'raceway', 'gauges', 'twelve', 'rugby', 'walks', 'stairs', 'sexy', 'pullup', 'grows', 'butter', 'pooping', 'showgirl', 'grass', 'raised', 'rolledup', 'popping', 'lies', 'peterson', 'longeared', 'brimmed', 'red', 'bordering', 'blog', 'skimply', 'fins', 'scuba', 'jungle', 'furocious', 'japanesesponsored', 'kitchen', 'ankle', 'overhear', 'dead', 'created', 'fountain', 'pawed', 'underside', 'crying', 'teal', 'skateboarding', 'smilely', 'squirt', 'how', 'district', 'panting', 'purchase', 'frisbees', 'heard', 'hairdo', 'batsman', 'latte', 'skater', 'shouts', 'sushi', 'marching', 'samsung', 'basket', 'fashioned', 'rottwieler', 'message', 'wristwatch', 'nt', 'labrador', 'acrobatic', 'bull', 'dupar', 'jumpsuites', 'motorcrossing', 'learning', 'apples', 'active', 'piggy', 'canoes', 'clowns', 'peeping', 'autumnal', 'drug', 'teases', 'cheerleading', 'ascending', 'longlegged', 'broadway', 'saxophones', 'peoples', 'catch', 'bicycling', 'weave', 'lenses', 'engage', 'town', 'min', 'straggle', 'footprints', 'grinds', 'at', 'float', 'nicely', 'runners', 'trotted', 'bales', 'sleds', 'aged', 'river', 'part', 'towards', 'egg', 'sumo', 'paraglide', 'kerry', 'halves', 'view', 'sledlike', 'nursing', 'eyebrow', 'watercraft', 'blower', 'possession', 'rather', 'taught', 'piloting', 'hoodedcoat', 'fiery', 'pylons', 'parasailing', 'teeter', 'attempted', 'go', 'decoration', 'brownishorange', 'desperate', 'launching', 'trampoline', 'slumped', 'inspecting', 'slippery', 'grocery', 'jesus', 'cubicle', 'paperback', 'ferns', 'clump', 'hound', 'clearing', 'barely', 'rappels', 'track', 'sweatsuit', 'plenty', 'progress', 'medieval', 'matchin', 'converging', 'fairground', 'bicycle', 'silohuetted', 'severe', 'ballerina', 'helemt', 'zepra', 'moutnain', 'audience', 'surfers', 'cheerleaders', 'brightcolored', 'edges', 'wake', 'orthodox', 'brownstone', 'frolics', 'mansion', 'italian', 'arc', 'triangle', 'skidded', 'tags', 'desertlike', 'shored', 'trim', 'features', 'skyline', 'pulls', 'flash', 'wraps', 'bluejeans', 'kickbox', 'war', 'ears', 'patches', 'expressions', 'brushes', 'hood', 'spotters', 'policewoman', 'flying', 'rips', 'choke', 'swiftly', 'members', 'sleeved', 'information', 'mushing', 'flatbed', 'downhill', 'bend', 'kildare', 'boys', 'less', 'dandylions', 'bars', 'lowcut', 'pinkish', 'queens', 'land', 'playroom', 'carts', 'sunflowers', 'paisley', 'torch', 'turquoise', 'call', 'protesters', 'tasting', 'blame', 'saturated', 'brochure', 'display', 'headphone', 'sheilding', 'circling', 'sifting', 'mucky', 'onsie', 'lollipop', 'peaks', 'thing', 'steamboat', 'feature', 'orangesunset', 'speeds', 'showerhead', 'shape', 'canvasses', 'spokesmodels', 'preserves', 'tile', 'including', 'pigtails', 'loaded', 'dilapidated', 'browm', 'hoolahoops', 'mess', 'snowpile', 'walk', 'falcon', 'toddler', 'autumn', 'graygreen', 'surf', 'amphitheater', 'crafts', 'party', 'lamppost', 'rabbit', 'moutains', 'bumps', 'won', 'stand', 'leashed', 'defenders', 'inscribed', 'gray', 'lick', 'hopper', 'boston', 'shivering', 'played', 'genetic', 'notebook', 'sparsely', 'pool', 'women', 'cuddle', 'iguanas', 'pelicans', 'court', 'dalmatians', 'room', 'hamburgers', 'breaks', 'charges', 'horseshoe', 'peaking', 'chat', 'critter', 'ballplayers', 'gurnee', 'furtrimmed', 'streches', 'hummingbird', 'hiding', 'rafters', 'wrist', 'asia', 'banks', 'continue', 'cigar', 'apartments', 'whitemetal', 'burgundy', 'wharfs', 'vertical', 'outfit', 'neon', 'mingling', 'developed', 'nutcracker', 'even', 'fist', 'slides', 'coasts', 'slalomlike', 'skies', 'sandbox', 'cloth', 'softball', 'sands', 'bra', 'hundred', 'wrecks', 'dizzy', 'acoustic', 'para', 'buttonup', 'samll', 'longhorns', 'insect', 'rollerblades', 'polaris', 'nose', 'childing', 'speaking', 'trots', 'someone', 'garter', 'skisuit', 'muddy', 'monkeys', 'skinned', 'shelter', 'spinning', 'moms', 'umpire', 'winding', 'fishes', 'motocross', 'started', 'blindfold', 'seeking', 'ridding', 'crashes', 'german', 'fur', 'blues', 'fanning', 'house', 'archway', 'bystander', 'droplets', 'juice', 'hut', 'vests', 'parklike', 'golf', 'navy', 'aiming', 'support', 'guy', 'tending', 'mommy', 'emblazoned', 'chewedup', 'flatscreen', 'pose', 'verdant', 'wmoan', 'fiercely', 'climb', 'headwraps', 'kilt', 'knocked', 'thick', 'hose', 'potted', 'backflips', 'inflating', 'footpath', 'reaches', 'bride', 'levels', 'musicans', 'tried', 'mcdonald', 'traveler', 'bedroll', 'marshlike', 'snuggles', 'social', 'headscarf', 'anime', 'rugs', 'propped', 'faucet', 'add', 'yellowsuited', 'political', 'bulldozer', 'floaties', 'reentry', 'gettin', 'banners', 'excitement', 'canoe', 'tone', 'colorfully', 'pier', 'sunshade', 'surronded', 'chalk', 'cabana', 'shiny', 'spitting', 'exchange', 'steeple', 'marquee', 'camp', 'reddish', 'great', 'cappedhills', 'hooping', 'suffering', 'transparent', 'canooers', 'streaked', 'changes', 'violinist', 'smear', 'buries', 'blow', 'milling', 'phillie', 'her', 'toppless', 'stringless', 'non', 'coverings', 'stoop', 'rod', 'baggage', 'robust', 'buzy', 'auditorium', 'spiral', 'letters', 'crane', 'graffti', 'promting', 'cheerfully', 'class', 'take', 'hods', 'onlookers', 'studies', 'albert', 'boa', 'happy', 'robe', 'harpsichord', 'roman', 'arrives', 'cheers', 'mobility', 'pinwheel', 'rapels', 'refreshment', 'wiped', 'aerodynamic', 'longsleeved', 'van', 'itself', 'made', 'wodden', 'blackclad', 'package', 'dropping', 'summersault', 'cautious', 'overfilled', 'egde', 'security', 'toilets', 'cruise', 'greyhounds', 'press', 'stride', 'uptop', 'bernard', 'adjustments', 'rolls', 'shoots', 'excitedly', 'patrons', 'waterful', 'good', 'search', 'capri', 'fadora', 'gives', 'pink', 'teach', 'old', 'snap', 'fashionably', 'terrior', 'bullfight', 'encounters', 'positioned', 'mown', 'snare', 'wands', 'coaching', 'eagle', 'obstacles', 'cube', 'fishers', 'thinking', 'corgis', 'push', 'seedoo', 'monkeybars', 'system', 'st', 'learn', 'woodlands', 'crosswalks', 'erupts', 'cigars', 'retrievers', 'calico', 'trimmed', 'egytianlike', 'doors', 'prop', 'littered', 'comes', 'rise', 'injured', 'peolple', 'series', 'redclad', 'intended', 'underhang', 'quarterback', 'trolley', 'tank', 'shoelaces', 'of', 'blossom', 'plungles', 'pajama', 'array', 'battons', 'dads', 'ollies', 'coloful', 'brick', 'manner', 'gymnast', 'juggler', 'loader', 'bagpipers', 'armchair', 'but', 'bundle', 'names', 'fig', 'overgrown', 'pet', 'more', 'mani', 'restaurants', 'spash', 'faces', 'tether', 'roses', 'firing', 'visible', 'discovery', 'sundown', 'nongrassy', 'laptops', 'ramp', 'vibrating', 'upper', 'arguing', 'enters', 'dart', 'blades', 'pours', 'sleep', 'buttoned', 'zipline', 'pay', 'bystanders', 'tropical', 'motorbikes', 'kisses', 'cradling', 'stream', 'saharan', 'body', 'flowered', 'squeezing', 'clipped', 'filed', 'yuong', 'metro', 'subaru', 'abarrotes', 'minding', 'composure', 'bowler', 'ninja', 'bubble', 'incredible', 'buggys', 'headed', 'poms', 'sunbathing', 'dale', 'tears', 'burn', 'whom', 'whit', 'popper', 'joy', 'tries', 'pong', 'steve', 'burning', 'headwear', 'spreading', 'chins', 'soup', 'misty', 'fortess', 'announcer', 'cue', 'colored', 'cop', 'acts', 'village', 'backpacking', 'air', 'goodbye', 'bats', 'though', 'headlight', 'dobbermen', 'striking', 'dominant', 'banging', 'anchored', 'saxophone', 'smaller', 'singing', 'tide', 'bog', 'posters', 'skiiers', 'dolls', 'bikers', 'bodysurfs', 'jomps', 'headwrap', 'can', 'teenage', 'beijing', 'skateboard', 'remaining', 'possibly', 'ghost', 'forested', 'past', 'most', 'whose', 'shoulderdeep', 'plate', 'soldiers', 'blood', 'stools', 'consumer', 'crossed', 'barbwire', 'snowfall', 'segway', 'pieces', 'scanner', 'bakery', 'sarongs', 'cloths', 'border', 'dot', 'investigating', 'tin', 'parent', 'displayed', 'disheveled', 'paintbrush', 'twigs', 'archer', 'nibbling', 'witnesses', 'main', 'kicker', 'pebble', 'recyclable', 'waterway', 'healthy', 'figure', 'coliding', 'one', 'shephard', 'brian', 'current', 'greenhouse', 'nash', 'flamboyantly', 'badly', 'oddly', 'exploring', 'retrives', 'kilts', 'cheap', 'song', 'spectate', 'juggle', 'arrow', 'collects', 'goalkeeper', 'unknown', 'rubs', 'hunched', 'whips', 'groomsmen', 'shipping', 'swimmies', 'celtics', 'snowy', 'bug', 'hat', 'fours', 'infants', 'flip', 'faithful', 'get', 'jersey', 'banister', 'trio', 'rosy', 'leotards', 'window', 'squat', 'puppy', 'archeologist', 'trunks', 'dogsled', 'pitches', 'museum', 'partially', 'officiallooking', 'carreis', 'booth', 'greenish', 'rainy', 'wheelie', 'pulley', 'advance', 'lifeboat', 'ther', 'folds', 'handwritten', 'playground', 'iced', 'constructions', 'dragging', 'turns', 'elementary', 'handkerchiefs', 'waiting', 'steering', 'lkievely', 'vaulter', 'patch', 'stare', 'tourist', 'horns', 'african', 'grownups', 'tilts', 'confused', 'opposition', 'calculate', 'caucasion', 'slicker', 'pain', 'piles', 'hundreds', 'athletics', 'backpacks', 'progressively', 'sidebyside', 'cartwheeling', 'fires', 'product', 'overlook', 'and', 'earflaps', 'doughnut', 'expression', 'garment', 'cloaks', 'crocs', 'roughhousing', 'score', 'mole', 'shawls', 'makeshift', 'business', 'whisper', 'sleeve', 'beers', 'sliiding', 'framed', 'fourwheeler', 'liked', 'goofing', 'buffalo', 'coutryside', 'pump', 'lounging', 'tbe', 'trotting', 'snowboarders', 'treelined', 'snowdrift', 'bandages', 'tackling', 'vfw', 'tundra', 'savanah', 'welcome', 'conversing', 'sister', 'locker', 'clap', 'first', 'leatherclad', 'leafless', 'petterned', 'rocks', 'reach', 'foreheads', 'bags', 'pyranha', 'public', 'canal', 'watching', 'gull', 'climing', 'winds', 'poking', 'rhododendron', 'dancer', 'belt', 'wide', 'checking', 'rink', 'cartwheels', 'sticker', 'string', 'fill', 'located', 'pomeranian', 'rust', 'pierlike', 'barrels', 'stripes', 'mountainous', 'dreadlocks', 'flakes', 'faded', 'unseen', 'else', 'pedaling', 'crust', 'adobe', 'backwards', 'defensive', 'ganilla', 'partly', 'branding', 'wharf', 'athletic', 'flock', 'share', 'soaks', 'having', 'bicyler', 'do', 'tiny', 'cats', 'reads', 'pouting', 'interlocking', 'pavilion', 'comfortable', 'strange', 'borader', 'dons', 'guarding', 'owners', 'skis', 'relaxes', 'ox', 'grotto', 'flashing', 'huskies', 'cannonball', 'shook', 'sips', 'cracked', 'walkways', 'squirting', 'peoplw', 'netting', 'dollar', 'barricade', 'rival', 'streets', 'board', 'grin', 'hovers', 'collars', 'weimaraners', 'stack', 'sync', 'accompanies', 'cords', 'super', 'tagged', 'windbreaker', 'lucky', 'gymnastic', 'jars', 'tanktops', 'common', 'peak', 'mannequins', 'hopping', 'fisheye', 'roped', 'railing', 'police', 'rangers', 'warming', 'condoms', 'headband', 'bib', 'landmark', 'gap', 'album', 'rung', 'tshirts', 'sill', 'thousand', 'maple', 'sleeves', 'everything', 'desserts', 'largeboned', 'scrolled', 'flop', 'elephants', 'yerba', 'filled', 'italy', 'sparks', 'floated', 'congratulate', 'planeta', 'blasts', 'ponchos', 'congregation', 'dunks', 'astroturf', 'summer', 'sock', 'park', 'order', 'development', 'loading', 'smiff', 'liberty', 'rodderick', 'lots', 'younger', 'pavillion', 'light', 'spinart', 'sits', 'human', 'emitting', 'dolphin', 'youn', 'contestant', 'orangestained', 'mallard', 'rummaging', 'stoppie', 'mirror', 'barking', 'activities', 'stirs', 'entwined', 'curved', 'slat', 'mini', 'united', 'primping', 'embracing', 'innertubes', 'fights', 'make', 'troupe', 'shrine', 'finger', 'highchair', 'reached', 'picure', 'zip', 'goal', 'nosedeep', 'humping', 'kimonos', 'wiffle', 'colorblock', 'feathered', 'splashed', 'excavating', 'line', 'dinner', 'uniquelyshaped', 'ejected', 'presidential', 'strike', 'bottled', 'underfoot', 'skydiver', 'lemons', 'rainling', 'grond', 'carnival', 'pocket', 'examined', 'throwing', 'doorag', 'jetty', 'jewels', 'attrative', 'portfolio', 'canyon', 'homemade', 'symbol', 'third', 'dappled', 'purse', 'keeping', 'walker', 'licked', 'kill', 'flea', 'cans', 'rodents', 'pitch', 'fton', 'chainsaw', 'customers', 'building', 'trials', 'microphone', 'stroller', 'freshly', 'returning', 'in', 'lunches', 'feeds', 'competing', 'reviewing', 'computers', 'glittery', 'creating', 'peeing', 'retail', 'minimal', 'litttle', 'acrobat', 'serious', 'glassses', 'swingtype', 'tent', 'stiffing', 'kitten', 'detector', 'medals', 'seattle', 'free', 'chilly', 'school', 'watches', 'guardsman', 'embedded', 'heating', 'decorations', 'princess', 'winston', 'graffitiheavy', 'quad', 'astro', 'ropeswinging', 'final', 'bracelets', 'corn', 'coyote', 'shimp', 'sword', 'flapping', 'similarly', 'foamy', 'disc', 'shoes', 'trash', 'unexcited', 'shop', 'alert', 'haloween', 'experiences', 'kit', 'popped', 'midway', 'arena', 'joyfully', 'via', 'rungs', 'dimmly', 'controls', 'sheets', 'towing', 'site', 'speed', 'skiing', 'spraying', 'crab', 'squirrel', 'reenactors', 'sheepdog', 'smashed', 'mobile', 'bubbles', 'clutches', 'noise', 'runner', 'skateboarder', 'scratch', 'freesbies', 'texts', 'supports', 'batting', 'stuffed', 'hip', 'relax', 'celebrates', 'highway', 'venice', 'canoeing', 'pice', 'tickled', 'director', 'bleak', 'investigate', 'organic', 'aerodynamically', 'pistol', 'bottles', 'kickboxer', 'encouraging', 'riverside', 'accident', 'gathering', 'contemplating', 'election', 'pumpkin', 'soccor', 'sandpit', 'fellow', 'girls', 'capes', 'rubbing', 'sprawled', 'fight', 'wearhing', 'splashes', 'darkskinned', 'rockclimbing', 'brown', 'fingers', 'leader', 'sink', 'rags', 'extinguishes', 'elevated', 'cheerful', 'freeclimbing', 'poppies', 'forefront', 'lead', 'murals', 'captures', 'foldable', 'cones', 'test', 'lunch', 'necklace', 'someones', 'vans', 'cam', 'peddled', 'ringed', 'ripstik', 'splattered', 'mambo', 'onslaught', 'gay', 'jewish', 'miles', 'unhappy', 'kiyaking', 'david', 'standind', 'recoiling', 'sideways', 'wars', 'confetti', 'foil', 'conditions', 'moment', 'fear', 'powdery', 'laden', 'begin', 'chin', 'saris', 'amnesty', 'cycle', 'goers', 'coppery', 'sailing', 'cone', 'piling', 'me', 'whitesuited', 'trows', 'spikes', 'quarters', 'bathes', 'gymnasium', 'heather', 'jets', 'sledders', 'sportswear', 'mushroom', 'dinosaur', 'baked', 'obscene', 'peace', 'vinyl', 'stains', 'activity', 'damp', 'javelin', 'whales', 'standing', 'wiping', 'howls', 'produces', 'descend', 'collapsed', 'tongue', 'record', 'darkly', 'pairs', 'smell', 'europe', 'rover', 'williams', 'broach', 'backlit', 'squated', 'shelves', 'prom', 'hiking', 'cylindrical', 'scrimmage', 'descending', 'unmanned', 'animals', 'wristbands', 'shorthaired', 'guitars', 'siluettes', 'blays', 'question', 'be', 'paws', 'aided', 'attack', 'revel', 'spain', 'hangs', 'trot', 'spindle', 'midrun', 'parlor', 'fairly', 'teenager', 'separate', 'sweat', 'loses', 'rollerbladers', 'motor', 'worships', 'multicultural', 'breaststroke', 'grip', 'bumble', 'stretches', 'dunes', 'lei', 'crossing', 'allwhite', 'veil', 'twenties', 'teeth', 'pearl', 'pursuing', 'picnic', 'swinger', 'resting', 'waterfilled', 'cloudcovered', 'pillared', 'pound', 'fowl', 'pigeon', 'adorned', 'mold', 'cringes', 'madly', 'hackey', 'colourful', 'clothed', 'blackshirt', 'vegas', 'earth', 'crack', 'shoveling', 'fencing', 'flings', 'everyday', 'rickety', 'work', 'buddhists', 'highschoolers', 'clutching', 'golden', 'swine', 'tube', 'wrestled', 'defecating', 'allterrain', 'jello', 'tax', 'interact', 'laugh', 'bracelet', 'comfort', 'arabian', 'curb', 'males', 'forearms', 'sidwalk', 'cruisship', 'aside', 'blackstriped', 'snowpants', 'pace', 'residential', 'policemen', 'classroom', 'pleasant', 'bread', 'penske', 'cycler', 'dreeds', 'runs', 'book', 'desert', 'lookalike', 'majestically', 'lobby', 'glowing', 'lays', 'coasterlike', 'ractrack', 'tips', 'band', 'quilt', 'sewer', 'competiting', 'docked', 'shapes', 'climbing', 'white', 'patterns', 'glvoes', 'flight', 'chandelier', 'rock', 'cries', 'bullseye', 'cubby', 'wire', 'racedog', 'boating', 'organized', 'controller', 'raises', 'germanshepherd', 'twirling', 'retreived', 'rollerblading', 'scratches', 'block', 'shallow', 'national', 'bluestriped', 'barren', 'motioning', 'steer', 'parade', 'stumps', 'doe', 'slanted', 'pedal', 'cane', 'grasps', 'picket', 'israei', 'lining', 'competes', 'notice', 'fork', 'turbaned', 'grabbing', 'tractorlike', 'supermarket', 'ups', 'scantily', 'greencolored', 'headset', 'costumed', 'dumpster', 'berries', 'dump', 'beauty', 'paced', 'ladle', 'mets', 'rodeo', 'peanut', 'formation', 'raked', 'around', 'spreads', 'headline', 'playtoy', 'drink', 'screeches', 'tabloid', 'lacrosse', 'rods', 'towed', 'musher', 'tub', 'dozes', 'videotapes', 'hazmat', 'snarly', 'sedan', 'anticipation', 'fiels', 'scramble', 'mushrooms', 'sponsor', 'wagging', 'rises', 'neatly', 'lecturing', 'hear', 'cyclists', 'windsurf', 'tugboat', 'chaps', 'coral', 'florida', 'crests', 'sofa', 'wading', 'wrinkley', 'skull', 'concentrating', 'seperate', 'martial', 'romantically', 'brightly', 'city', 'hapy', 'shin', 'whil', 'focusing', 'disabled', 'kicking', 'jubilant', 'turkey', 'tireshaped'}\n",
            "Vocabulary Size: 8763\n"
          ],
          "name": "stdout"
        }
      ]
    },
    {
      "cell_type": "markdown",
      "metadata": {
        "id": "PfK7GkWA4KD1",
        "colab_type": "text"
      },
      "source": [
        "Finally, we can save the dictionary of image identifiers and descriptions to a new file named descriptions.txt, with one image identifier and description per line.\n",
        "\n",
        "Below defines the save_descriptions() function that, given a dictionary containing the mapping of identifiers to descriptions and a filename, saves the mapping to file"
      ]
    },
    {
      "cell_type": "code",
      "metadata": {
        "id": "5DwELCjB3lBv",
        "colab_type": "code",
        "colab": {}
      },
      "source": [
        "# save descriptions to file, one per line\n",
        "def save_descriptions(descriptions, filename):\n",
        "  lines = list()\n",
        "  \n",
        "  for key, desc_list in descriptions.items():\n",
        "    for desc in desc_list:\n",
        "      lines.append(key + ' ' + desc)\n",
        "  \n",
        "  data = '\\n'.join(lines)\n",
        "  file = open(file=filename, mode='w')\n",
        "  file.write(data)\n",
        "  file.close()\n",
        "  \n",
        "  \n",
        "save_descriptions(descriptions, 'descriptions.txt')"
      ],
      "execution_count": 0,
      "outputs": []
    }
  ]
}