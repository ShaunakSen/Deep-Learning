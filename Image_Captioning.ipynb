{
  "nbformat": 4,
  "nbformat_minor": 0,
  "metadata": {
    "colab": {
      "name": "Image Captioning.ipynb",
      "version": "0.3.2",
      "provenance": [],
      "collapsed_sections": [],
      "toc_visible": true,
      "include_colab_link": true
    },
    "kernelspec": {
      "name": "python3",
      "display_name": "Python 3"
    },
    "accelerator": "GPU"
  },
  "cells": [
    {
      "cell_type": "markdown",
      "metadata": {
        "id": "view-in-github",
        "colab_type": "text"
      },
      "source": [
        "<a href=\"https://colab.research.google.com/github/ShaunakSen/Deep-Learning/blob/master/Image_Captioning.ipynb\" target=\"_parent\"><img src=\"https://colab.research.google.com/assets/colab-badge.svg\" alt=\"Open In Colab\"/></a>"
      ]
    },
    {
      "cell_type": "markdown",
      "metadata": {
        "id": "VMYJhfFPV1V4",
        "colab_type": "text"
      },
      "source": [
        "## How to Use The Pre-Trained VGG Model to Classify Objects in Photographs\n",
        "\n",
        "[link](https://machinelearningmastery.com/use-pre-trained-vgg-model-classify-objects-photographs/)\n",
        "\n",
        "Convolutional neural networks are now capable of outperforming humans on some computer vision tasks, such as classifying images.\n",
        "\n",
        "That is, given a photograph of an object, answer the question as to which of 1,000 specific objects the photograph shows.\n",
        "\n",
        "A competition-winning model for this task is the VGG model by researchers at Oxford. What is important about this model, besides its capability of classifying objects in photographs, is that the model weights are freely available and can be loaded and used in your own models and applications.\n",
        "\n",
        "### ImageNet\n",
        "\n",
        "ImageNet is a research project to develop a large database of images with annotations, e.g. images and their descriptions.\n",
        "\n",
        "The images and their annotations have been the basis for an image classification challenge called the ImageNet Large Scale Visual Recognition Challenge or ILSVRC since 2010. The result is that research organizations battle it out on pre-defined datasets to see who has the best model for classifying the objects in images.\n",
        "\n",
        "For the classification task, images must be classified into one of 1,000 different categories.\n",
        "\n",
        "For the last few years very deep convolutional neural network models have been used to win these challenges and results on the tasks have exceeded human performance.\n",
        "\n",
        "### The Oxford VGG Models\n",
        "\n",
        "Researchers from the Oxford Visual Geometry Group, or VGG for short, participate in the ILSVRC challenge.\n",
        "\n",
        "In 2014, convolutional neural network models (CNN) developed by the VGG won the image classification tasks.\n",
        "\n",
        "VGG released two different CNN models, specifically a 16-layer model and a 19-layer model.\n",
        "\n",
        "The VGG models are not longer state-of-the-art by only a few percentage points. Nevertheless, they are very powerful models and useful both as image classifiers and as the basis for new models that use image inputs.\n",
        "\n",
        "### Load the VGG Model in Keras\n",
        "\n",
        "The VGG model can be loaded and used in the Keras deep learning library.\n",
        "\n",
        "Keras provides an Applications interface for loading and using pre-trained models.\n",
        "\n",
        "Using this interface, you can create a VGG model using the pre-trained weights provided by the Oxford group and use it as a starting point in your own model, or use it as a model directly for classifying images.\n",
        "\n",
        "In this tutorial, we will focus on the use case of classifying new images using the VGG model.\n",
        "\n",
        "Keras provides both the 16-layer and 19-layer version via the VGG16 and VGG19 classes. Let’s focus on the VGG16 model.\n",
        "\n",
        "The model can be created as follows:\n",
        "\n"
      ]
    },
    {
      "cell_type": "code",
      "metadata": {
        "id": "gh9QjvX7Yl84",
        "colab_type": "code",
        "colab": {}
      },
      "source": [
        "from keras.applications.vgg16 import VGG16\n",
        "\n",
        "model = VGG16()"
      ],
      "execution_count": 0,
      "outputs": []
    },
    {
      "cell_type": "markdown",
      "metadata": {
        "id": "vid1krbHZAPs",
        "colab_type": "text"
      },
      "source": [
        "That’s it.\n",
        "\n",
        "The first time you run this example, Keras will download the weight files from the Internet and store them in the ~/.keras/models directory.\n",
        "\n",
        "Note that the weights are about 528 megabytes, so the download may take a few minutes depending on the speed of your Internet connection.\n",
        "\n",
        "The weights are only downloaded once. The next time you run the example, the weights are loaded locally and the model should be ready to use in seconds.\n",
        "\n",
        "We can use the standard Keras tools for inspecting the model structure.\n",
        "\n",
        "For example, you can print a summary of the network layers as follows:\n",
        "\n"
      ]
    },
    {
      "cell_type": "code",
      "metadata": {
        "id": "eEpUeJMgZLtL",
        "colab_type": "code",
        "outputId": "54167c90-b548-438c-9c50-5909634ba259",
        "colab": {
          "base_uri": "https://localhost:8080/",
          "height": 976
        }
      },
      "source": [
        "print (model.summary())"
      ],
      "execution_count": 0,
      "outputs": [
        {
          "output_type": "stream",
          "text": [
            "_________________________________________________________________\n",
            "Layer (type)                 Output Shape              Param #   \n",
            "=================================================================\n",
            "input_2 (InputLayer)         (None, 224, 224, 3)       0         \n",
            "_________________________________________________________________\n",
            "block1_conv1 (Conv2D)        (None, 224, 224, 64)      1792      \n",
            "_________________________________________________________________\n",
            "block1_conv2 (Conv2D)        (None, 224, 224, 64)      36928     \n",
            "_________________________________________________________________\n",
            "block1_pool (MaxPooling2D)   (None, 112, 112, 64)      0         \n",
            "_________________________________________________________________\n",
            "block2_conv1 (Conv2D)        (None, 112, 112, 128)     73856     \n",
            "_________________________________________________________________\n",
            "block2_conv2 (Conv2D)        (None, 112, 112, 128)     147584    \n",
            "_________________________________________________________________\n",
            "block2_pool (MaxPooling2D)   (None, 56, 56, 128)       0         \n",
            "_________________________________________________________________\n",
            "block3_conv1 (Conv2D)        (None, 56, 56, 256)       295168    \n",
            "_________________________________________________________________\n",
            "block3_conv2 (Conv2D)        (None, 56, 56, 256)       590080    \n",
            "_________________________________________________________________\n",
            "block3_conv3 (Conv2D)        (None, 56, 56, 256)       590080    \n",
            "_________________________________________________________________\n",
            "block3_pool (MaxPooling2D)   (None, 28, 28, 256)       0         \n",
            "_________________________________________________________________\n",
            "block4_conv1 (Conv2D)        (None, 28, 28, 512)       1180160   \n",
            "_________________________________________________________________\n",
            "block4_conv2 (Conv2D)        (None, 28, 28, 512)       2359808   \n",
            "_________________________________________________________________\n",
            "block4_conv3 (Conv2D)        (None, 28, 28, 512)       2359808   \n",
            "_________________________________________________________________\n",
            "block4_pool (MaxPooling2D)   (None, 14, 14, 512)       0         \n",
            "_________________________________________________________________\n",
            "block5_conv1 (Conv2D)        (None, 14, 14, 512)       2359808   \n",
            "_________________________________________________________________\n",
            "block5_conv2 (Conv2D)        (None, 14, 14, 512)       2359808   \n",
            "_________________________________________________________________\n",
            "block5_conv3 (Conv2D)        (None, 14, 14, 512)       2359808   \n",
            "_________________________________________________________________\n",
            "block5_pool (MaxPooling2D)   (None, 7, 7, 512)         0         \n",
            "_________________________________________________________________\n",
            "flatten (Flatten)            (None, 25088)             0         \n",
            "_________________________________________________________________\n",
            "fc1 (Dense)                  (None, 4096)              102764544 \n",
            "_________________________________________________________________\n",
            "fc2 (Dense)                  (None, 4096)              16781312  \n",
            "_________________________________________________________________\n",
            "predictions (Dense)          (None, 1000)              4097000   \n",
            "=================================================================\n",
            "Total params: 138,357,544\n",
            "Trainable params: 138,357,544\n",
            "Non-trainable params: 0\n",
            "_________________________________________________________________\n",
            "None\n"
          ],
          "name": "stdout"
        }
      ]
    },
    {
      "cell_type": "markdown",
      "metadata": {
        "id": "R2A7AXr6ZAGE",
        "colab_type": "text"
      },
      "source": [
        "You can see that the model is huge.\n",
        "\n",
        "You can also see that, by default, the model expects images as input with the size 224 x 224 pixels with 3 channels (e.g. color).\n",
        "\n",
        "![](https://3qeqpr26caki16dnhd19sv6by6v-wpengine.netdna-ssl.com/wp-content/uploads/2017/08/Plot-of-Layers-in-the-VGG-Model.png)\n",
        "\n",
        "The VGG() class takes a few arguments that may only interest you if you are looking to use the model in your own project, e.g. for transfer learning.\n",
        "\n",
        "\n",
        "For example:\n",
        "\n",
        "- include_top (True): Whether or not to include the output layers for the model. You don’t need these if you are fitting the model on your own problem.\n",
        "- weights (‘imagenet‘): What weights to load. You can specify None to not load pre-trained weights if you are interested in training the model yourself from scratch.\n",
        "- input_tensor (None): A new input layer if you intend to fit the model on new data of a different size.\n",
        "- input_shape (None): The size of images that the model is expected to take if you change the input layer.\n",
        "- pooling (None): The type of pooling to use when you are training a new set of output layers.\n",
        "- classes (1000): The number of classes (e.g. size of output vector) for the model.\n",
        "\n",
        "\n",
        "Next, let’s look at using the loaded VGG model to classify ad hoc photographs.\n",
        "\n"
      ]
    },
    {
      "cell_type": "markdown",
      "metadata": {
        "id": "qRPSs-Q7Y_43",
        "colab_type": "text"
      },
      "source": [
        "### Develop a Simple Photo Classifier\n",
        "\n",
        "Next, we can load the image as pixel data and prepare it to be presented to the network.\n",
        "\n",
        "Keras provides some tools to help with this step.\n",
        "\n",
        "First, we can use the load_img() function to load the image and resize it to the required size of 224×224 pixels."
      ]
    },
    {
      "cell_type": "code",
      "metadata": {
        "id": "erII1vG3ashH",
        "colab_type": "code",
        "outputId": "bf3741d5-e909-4b70-f7f7-05920ebff238",
        "colab": {
          "base_uri": "https://localhost:8080/",
          "height": 34
        }
      },
      "source": [
        "from keras.preprocessing.image import load_img\n",
        "from keras.preprocessing.image import img_to_array\n",
        "# load img from file\n",
        "image = load_img(path='./4994221690_d070e8a355_z.jpg', target_size=(224, 224))\n",
        "\n",
        "# Next, we can convert the pixels to a NumPy array so that we can work with it in Keras.\n",
        "# We can use the img_to_array() function for this.\n",
        "\n",
        "image = img_to_array(img=image)\n",
        "\n",
        "print (image.shape)"
      ],
      "execution_count": 0,
      "outputs": [
        {
          "output_type": "stream",
          "text": [
            "(224, 224, 3)\n"
          ],
          "name": "stdout"
        }
      ]
    },
    {
      "cell_type": "markdown",
      "metadata": {
        "id": "Mja5h3WEbief",
        "colab_type": "text"
      },
      "source": [
        "The network expects one or more images as input; that means the input array will need to be 4-dimensional: `[samples, rows, columns, and channels]`.\n",
        "\n",
        "We only have one sample (one image). We can reshape the array by calling reshape() and adding the extra dimension.\n",
        "\n",
        "\n",
        "Next, the image pixels need to be prepared in the same way as the ImageNet training data was prepared. Specifically, from the paper:\n",
        "\n",
        "> The only preprocessing we do is subtracting the mean RGB value, computed on the training set, from each pixel.\n",
        "\n",
        "Keras provides a function called preprocess_input() to prepare new input for the network.\n",
        "\n",
        "\n",
        "\n"
      ]
    },
    {
      "cell_type": "code",
      "metadata": {
        "id": "e9S-eDe1arTd",
        "colab_type": "code",
        "outputId": "36394e81-ec46-43d5-e204-c42f0fa8bc51",
        "colab": {
          "base_uri": "https://localhost:8080/",
          "height": 34
        }
      },
      "source": [
        "# reshape data for the model\n",
        "image = image.reshape((1, image.shape[0], image.shape[1], image.shape[2]))\n",
        "\n",
        "print (image.shape)"
      ],
      "execution_count": 0,
      "outputs": [
        {
          "output_type": "stream",
          "text": [
            "(1, 224, 224, 3)\n"
          ],
          "name": "stdout"
        }
      ]
    },
    {
      "cell_type": "code",
      "metadata": {
        "id": "KrFXZKX1crT3",
        "colab_type": "code",
        "outputId": "698b8a84-6ea6-49dd-c899-ad1bb20855c0",
        "colab": {
          "base_uri": "https://localhost:8080/",
          "height": 34
        }
      },
      "source": [
        "from keras.applications.vgg16 import preprocess_input\n",
        "\n",
        "# prepare the image for the VGG model\n",
        "image = preprocess_input(image)\n",
        "\n",
        "print (image.shape)"
      ],
      "execution_count": 0,
      "outputs": [
        {
          "output_type": "stream",
          "text": [
            "(1, 224, 224, 3)\n"
          ],
          "name": "stdout"
        }
      ]
    },
    {
      "cell_type": "markdown",
      "metadata": {
        "id": "iKlqjwl3dkLJ",
        "colab_type": "text"
      },
      "source": [
        "We are now ready to make a prediction for our loaded and prepared image.\n",
        "\n",
        "We can call the predict() function on the model in order to get a prediction of the probability of the image belonging to each of the 1000 known object types.\n",
        "\n"
      ]
    },
    {
      "cell_type": "code",
      "metadata": {
        "id": "Eh0y5wJQd0q-",
        "colab_type": "code",
        "outputId": "a796782a-13f5-4f83-8cfc-aaa48c1d2ae8",
        "colab": {
          "base_uri": "https://localhost:8080/",
          "height": 34
        }
      },
      "source": [
        "# predict the probability across all output classes\n",
        "yhat = model.predict(image)\n",
        "\n",
        "print (yhat.shape)"
      ],
      "execution_count": 0,
      "outputs": [
        {
          "output_type": "stream",
          "text": [
            "(1, 1000)\n"
          ],
          "name": "stdout"
        }
      ]
    },
    {
      "cell_type": "markdown",
      "metadata": {
        "id": "EkV3KaJAeGuL",
        "colab_type": "text"
      },
      "source": [
        "Keras provides a function to interpret the probabilities called decode_predictions().\n",
        "\n",
        "It can return a list of classes and their probabilities in case you would like to present the top 3 objects that may be in the photo.\n",
        "\n",
        "We will just report the first most likely object."
      ]
    },
    {
      "cell_type": "code",
      "metadata": {
        "id": "eIRm3noTeHqA",
        "colab_type": "code",
        "outputId": "1a1d2d0e-37aa-4510-da62-e62c6df7de68",
        "colab": {
          "base_uri": "https://localhost:8080/",
          "height": 70
        }
      },
      "source": [
        "from keras.applications.vgg16 import decode_predictions\n",
        "\n",
        "# convert the probabilities to class labels\n",
        "label = decode_predictions(yhat)\n",
        "\n",
        "print (len(label[0]))\n",
        "\n",
        "# retrieve the most likely result, e.g. highest probability\n",
        "\n",
        "label = label[0][0]\n",
        "\n",
        "print (label)\n",
        "\n",
        "print('%s (%.2f%%)' % (label[1], label[2]*100))"
      ],
      "execution_count": 0,
      "outputs": [
        {
          "output_type": "stream",
          "text": [
            "5\n",
            "('n03063599', 'coffee_mug', 0.7336321)\n",
            "coffee_mug (73.36%)\n"
          ],
          "name": "stdout"
        }
      ]
    },
    {
      "cell_type": "markdown",
      "metadata": {
        "id": "u0fO308zAjpQ",
        "colab_type": "text"
      },
      "source": [
        "## How to Develop a Deep Learning Photo Caption Generator from Scratch\n",
        "\n",
        "[link](https://machinelearningmastery.com/develop-a-deep-learning-caption-generation-model-in-python/)\n",
        "\n",
        "### Download and extract the dataset"
      ]
    },
    {
      "cell_type": "code",
      "metadata": {
        "id": "NAf2TVTe0UCK",
        "colab_type": "code",
        "colab": {}
      },
      "source": [
        "from urllib.request import urlopen\n",
        "from zipfile import ZipFile\n",
        "\n",
        "zipurl = 'https://github.com/jbrownlee/Datasets/releases/download/Flickr8k/Flickr8k_Dataset.zip'\n",
        "    # Download the file from the URL\n",
        "zipresp = urlopen(zipurl)\n",
        "    # Create a new file on the hard drive\n",
        "tempzip = open(\"/tmp/Flickr8k_Dataset.zip\", \"wb\")\n",
        "    # Write the contents of the downloaded file into the new file\n",
        "tempzip.write(zipresp.read())\n",
        "    # Close the newly-created file\n",
        "tempzip.close()\n"
      ],
      "execution_count": 0,
      "outputs": []
    },
    {
      "cell_type": "code",
      "metadata": {
        "id": "1EBlcE9wSUxq",
        "colab_type": "code",
        "colab": {}
      },
      "source": [
        "zipurl = 'https://github.com/jbrownlee/Datasets/releases/download/Flickr8k/Flickr8k_text.zip'\n",
        "    # Download the file from the URL\n",
        "zipresp = urlopen(zipurl)\n",
        "    # Create a new file on the hard drive\n",
        "tempzip = open(\"/tmp/Flickr8k_text.zip\", \"wb\")\n",
        "    # Write the contents of the downloaded file into the new file\n",
        "tempzip.write(zipresp.read())\n",
        "    # Close the newly-created file\n",
        "tempzip.close()\n"
      ],
      "execution_count": 0,
      "outputs": []
    },
    {
      "cell_type": "code",
      "metadata": {
        "id": "q9M6L9MO1GZ1",
        "colab_type": "code",
        "colab": {}
      },
      "source": [
        "# Re-open the newly-created file with ZipFile()\n",
        "zf = ZipFile(\"/tmp/Flickr8k_Dataset.zip\")\n",
        "    # Extract its contents into <extraction_path>\n",
        "    # note that extractall will automatically create the path\n",
        "zf.extractall(path = './Flickr8k_Dataset')\n",
        "    # close the ZipFile instance\n",
        "zf.close()"
      ],
      "execution_count": 0,
      "outputs": []
    },
    {
      "cell_type": "code",
      "metadata": {
        "id": "kiZlE1qV2bQ-",
        "colab_type": "code",
        "colab": {}
      },
      "source": [
        "# Re-open the newly-created file with ZipFile()\n",
        "zf = ZipFile(\"/tmp/Flickr8k_text.zip\")\n",
        "    # Extract its contents into <extraction_path>\n",
        "    # note that extractall will automatically create the path\n",
        "zf.extractall(path = './Flickr8k_text')\n",
        "    # close the ZipFile instance\n",
        "zf.close()"
      ],
      "execution_count": 0,
      "outputs": []
    },
    {
      "cell_type": "markdown",
      "metadata": {
        "id": "Y5uxrkRyBN0F",
        "colab_type": "text"
      },
      "source": [
        "The dataset is present in the following locations:\n",
        "\n",
        "1. Flickr8k_Dataset\n",
        "2. Flickr8k_text\n",
        "\n",
        "The dataset has a pre-defined training dataset (6,000 images), development dataset (1,000 images), and test dataset (1,000 images).\n",
        "\n",
        "One measure that can be used to evaluate the skill of the model are BLEU scores.\n",
        "\n",
        "- BLEU-1: 0.401 to 0.578.\n",
        "- BLEU-2: 0.176 to 0.390.\n",
        "- BLEU-3: 0.099 to 0.260.\n",
        "- BLEU-4: 0.059 to 0.170.\n",
        "\n",
        "We describe the BLEU metric more later when we work on evaluating our model.\n",
        "\n",
        "Next, let’s look at how to load the images.\n",
        "\n",
        "### Prepare Photo Data\n",
        "\n",
        "We will use a pre-trained model to interpret the content of the photos.\n",
        "\n",
        "There are many models to choose from. In this case, we will use the Oxford Visual Geometry Group, or VGG, model that won the ImageNet competition in 2014. Learn more about the model here:\n",
        "\n",
        "[](http://www.robots.ox.ac.uk/~vgg/research/very_deep/)\n",
        "\n",
        "Keras provides this pre-trained model directly. Note, the first time you use this model, Keras will download the model weights from the Internet, which are about 500 Megabytes. This may take a few minutes depending on your internet connection.\n",
        "\n",
        "\n",
        "We could use this model as part of a broader image caption model. The problem is, it is a large model and running each photo through the network every time we want to test a new language model configuration (downstream) is redundant.\n",
        "\n",
        "Instead, we can pre-compute the “photo features” using the pre-trained model and save them to file. We can then load these features later and feed them into our model as the interpretation of a given photo in the dataset. It is no different to running the photo through the full VGG model; it is just we will have done it once in advance.\n",
        "\n",
        "This is an optimization that will make training our models faster and consume less memory.\n",
        "\n",
        "We can load the VGG model in Keras using the VGG class. We will remove the last layer from the loaded model, as this is the model used to predict a classification for a photo. We are not interested in classifying images, but we are interested in the internal representation of the photo right before a classification is made. These are the “features” that the model has extracted from the photo.\n",
        "\n",
        "Keras also provides tools for reshaping the loaded photo into the preferred size for the model (e.g. 3 channel 224 x 224 pixel image).\n",
        "\n",
        "Below is a function named extract_features() that, given a directory name, will load each photo, prepare it for VGG, and collect the predicted features from the VGG model. The image features are a 1-dimensional 4,096 element vector.\n",
        "\n",
        "The function returns a dictionary of image identifier to image features."
      ]
    },
    {
      "cell_type": "code",
      "metadata": {
        "id": "iTptHUsU2f7L",
        "colab_type": "code",
        "colab": {
          "base_uri": "https://localhost:8080/",
          "height": 34
        },
        "outputId": "65148416-120f-4304-a58e-3b9a607b02da"
      },
      "source": [
        "from os import listdir\n",
        "from pickle import dump\n",
        "\n",
        "from keras.applications.vgg16 import VGG16\n",
        "from keras.preprocessing.image import load_img\n",
        "from keras.preprocessing.image import img_to_array\n",
        "from keras.applications.vgg16 import preprocess_input\n",
        "from keras.models import Model"
      ],
      "execution_count": 5,
      "outputs": [
        {
          "output_type": "stream",
          "text": [
            "Using TensorFlow backend.\n"
          ],
          "name": "stderr"
        }
      ]
    },
    {
      "cell_type": "markdown",
      "metadata": {
        "id": "9-08Ac3pODQK",
        "colab_type": "text"
      },
      "source": [
        "We can call this function to prepare the photo data for testing our models, then save the resulting dictionary to a file named ‘features.pkl‘."
      ]
    },
    {
      "cell_type": "code",
      "metadata": {
        "id": "PuAJ1orcOVrW",
        "colab_type": "code",
        "outputId": "20ac196c-1b31-4b0f-a2ec-5850d251ae68",
        "colab": {
          "base_uri": "https://localhost:8080/",
          "height": 1000
        }
      },
      "source": [
        "model=VGG16()\n",
        "\n",
        "model.summary()"
      ],
      "execution_count": 0,
      "outputs": [
        {
          "output_type": "stream",
          "text": [
            "WARNING: Logging before flag parsing goes to stderr.\n",
            "W0723 09:46:29.956114 139695895652224 deprecation_wrapper.py:119] From /usr/local/lib/python3.6/dist-packages/keras/backend/tensorflow_backend.py:74: The name tf.get_default_graph is deprecated. Please use tf.compat.v1.get_default_graph instead.\n",
            "\n",
            "W0723 09:46:30.007027 139695895652224 deprecation_wrapper.py:119] From /usr/local/lib/python3.6/dist-packages/keras/backend/tensorflow_backend.py:517: The name tf.placeholder is deprecated. Please use tf.compat.v1.placeholder instead.\n",
            "\n",
            "W0723 09:46:30.020456 139695895652224 deprecation_wrapper.py:119] From /usr/local/lib/python3.6/dist-packages/keras/backend/tensorflow_backend.py:4138: The name tf.random_uniform is deprecated. Please use tf.random.uniform instead.\n",
            "\n",
            "W0723 09:46:30.068988 139695895652224 deprecation_wrapper.py:119] From /usr/local/lib/python3.6/dist-packages/keras/backend/tensorflow_backend.py:3976: The name tf.nn.max_pool is deprecated. Please use tf.nn.max_pool2d instead.\n",
            "\n"
          ],
          "name": "stderr"
        },
        {
          "output_type": "stream",
          "text": [
            "Downloading data from https://github.com/fchollet/deep-learning-models/releases/download/v0.1/vgg16_weights_tf_dim_ordering_tf_kernels.h5\n",
            "553467904/553467096 [==============================] - 38s 0us/step\n"
          ],
          "name": "stdout"
        },
        {
          "output_type": "stream",
          "text": [
            "W0723 09:47:10.254584 139695895652224 deprecation_wrapper.py:119] From /usr/local/lib/python3.6/dist-packages/keras/backend/tensorflow_backend.py:174: The name tf.get_default_session is deprecated. Please use tf.compat.v1.get_default_session instead.\n",
            "\n",
            "W0723 09:47:10.256208 139695895652224 deprecation_wrapper.py:119] From /usr/local/lib/python3.6/dist-packages/keras/backend/tensorflow_backend.py:181: The name tf.ConfigProto is deprecated. Please use tf.compat.v1.ConfigProto instead.\n",
            "\n"
          ],
          "name": "stderr"
        },
        {
          "output_type": "stream",
          "text": [
            "_________________________________________________________________\n",
            "Layer (type)                 Output Shape              Param #   \n",
            "=================================================================\n",
            "input_1 (InputLayer)         (None, 224, 224, 3)       0         \n",
            "_________________________________________________________________\n",
            "block1_conv1 (Conv2D)        (None, 224, 224, 64)      1792      \n",
            "_________________________________________________________________\n",
            "block1_conv2 (Conv2D)        (None, 224, 224, 64)      36928     \n",
            "_________________________________________________________________\n",
            "block1_pool (MaxPooling2D)   (None, 112, 112, 64)      0         \n",
            "_________________________________________________________________\n",
            "block2_conv1 (Conv2D)        (None, 112, 112, 128)     73856     \n",
            "_________________________________________________________________\n",
            "block2_conv2 (Conv2D)        (None, 112, 112, 128)     147584    \n",
            "_________________________________________________________________\n",
            "block2_pool (MaxPooling2D)   (None, 56, 56, 128)       0         \n",
            "_________________________________________________________________\n",
            "block3_conv1 (Conv2D)        (None, 56, 56, 256)       295168    \n",
            "_________________________________________________________________\n",
            "block3_conv2 (Conv2D)        (None, 56, 56, 256)       590080    \n",
            "_________________________________________________________________\n",
            "block3_conv3 (Conv2D)        (None, 56, 56, 256)       590080    \n",
            "_________________________________________________________________\n",
            "block3_pool (MaxPooling2D)   (None, 28, 28, 256)       0         \n",
            "_________________________________________________________________\n",
            "block4_conv1 (Conv2D)        (None, 28, 28, 512)       1180160   \n",
            "_________________________________________________________________\n",
            "block4_conv2 (Conv2D)        (None, 28, 28, 512)       2359808   \n",
            "_________________________________________________________________\n",
            "block4_conv3 (Conv2D)        (None, 28, 28, 512)       2359808   \n",
            "_________________________________________________________________\n",
            "block4_pool (MaxPooling2D)   (None, 14, 14, 512)       0         \n",
            "_________________________________________________________________\n",
            "block5_conv1 (Conv2D)        (None, 14, 14, 512)       2359808   \n",
            "_________________________________________________________________\n",
            "block5_conv2 (Conv2D)        (None, 14, 14, 512)       2359808   \n",
            "_________________________________________________________________\n",
            "block5_conv3 (Conv2D)        (None, 14, 14, 512)       2359808   \n",
            "_________________________________________________________________\n",
            "block5_pool (MaxPooling2D)   (None, 7, 7, 512)         0         \n",
            "_________________________________________________________________\n",
            "flatten (Flatten)            (None, 25088)             0         \n",
            "_________________________________________________________________\n",
            "fc1 (Dense)                  (None, 4096)              102764544 \n",
            "_________________________________________________________________\n",
            "fc2 (Dense)                  (None, 4096)              16781312  \n",
            "_________________________________________________________________\n",
            "predictions (Dense)          (None, 1000)              4097000   \n",
            "=================================================================\n",
            "Total params: 138,357,544\n",
            "Trainable params: 138,357,544\n",
            "Non-trainable params: 0\n",
            "_________________________________________________________________\n"
          ],
          "name": "stdout"
        }
      ]
    },
    {
      "cell_type": "code",
      "metadata": {
        "id": "EUnTc8C5Km9Q",
        "colab_type": "code",
        "outputId": "6494077d-e650-4389-b34d-a3fa75eb32d1",
        "colab": {
          "base_uri": "https://localhost:8080/",
          "height": 34
        }
      },
      "source": [
        "print (\"No of images:\", len(listdir(path='./Flickr8k_Dataset/Flicker8k_Dataset/')))"
      ],
      "execution_count": 7,
      "outputs": [
        {
          "output_type": "stream",
          "text": [
            "No of images: 8091\n"
          ],
          "name": "stdout"
        }
      ]
    },
    {
      "cell_type": "code",
      "metadata": {
        "id": "vligLZzVOD8G",
        "colab_type": "code",
        "colab": {}
      },
      "source": [
        "def extract_features(directory):\n",
        "  \"\"\"\n",
        "  extract features from each photo in the directory\n",
        "  \"\"\"\n",
        "  \n",
        "  # load the model\n",
        "  model = VGG16()\n",
        "  \n",
        "  # restructure the model\n",
        "  model.layers.pop()\n",
        "  model = Model(inputs=model.inputs, outputs=model.layers[-1].output)\n",
        "  \n",
        "  # summarize\n",
        "  print (model.summary())\n",
        "  \n",
        "  \n",
        "  # extract features from each photo\n",
        "  features = dict()\n",
        "  \n",
        "  # Return a list containing the names of the files in the directory.\n",
        "  for name in listdir(path=directory):\n",
        "    \n",
        "    # load an image from file\n",
        "    filename = directory + '/' + name\n",
        "    image = load_img(path=filename, target_size=(224,224))\n",
        "    \n",
        "    # convert the image pixels to a numpy array\n",
        "    image = img_to_array(img=image)\n",
        "    \n",
        "    # reshape data for the model\n",
        "    # The network expects one or more images as input; \n",
        "    # that means the input array will need to be 4-dimensional: \n",
        "    # [samples, rows, columns, and channels]\n",
        "    image = image.reshape((1, image.shape[0], image.shape[1], image.shape[2]))\n",
        "    \n",
        "    # prepare the image for the VGG model\n",
        "    image = preprocess_input(image)\n",
        "    \n",
        "    # get features\n",
        "    feature = model.predict(x=image, verbose=0)\n",
        "    \n",
        "    # get image id\n",
        "    image_id = name.split('.')[0]\n",
        "    \n",
        "    # store feature in the dict\n",
        "    features[image_id] = feature\n",
        "    print('>%s' % name)\n",
        "    \n",
        "    \n",
        "  return features\n",
        "  \n",
        "directory = './Flickr8k_Dataset/Flicker8k_Dataset/'\n",
        "\n",
        "features = extract_features(directory)\n",
        "print('Extracted Features: %d' % len(features))"
      ],
      "execution_count": 0,
      "outputs": []
    },
    {
      "cell_type": "markdown",
      "metadata": {
        "id": "Ifmg4UZ3FgKX",
        "colab_type": "text"
      },
      "source": [
        "For each image now we have the features (4096) from the VGG16 model"
      ]
    },
    {
      "cell_type": "code",
      "metadata": {
        "id": "7Ahwi8zMFW32",
        "colab_type": "code",
        "colab": {
          "base_uri": "https://localhost:8080/",
          "height": 34
        },
        "outputId": "687086c6-e30d-4fb9-cbe5-07d95848a7aa"
      },
      "source": [
        "features['221973402_ecb1cd51f1'].shape"
      ],
      "execution_count": 12,
      "outputs": [
        {
          "output_type": "execute_result",
          "data": {
            "text/plain": [
              "(1, 4096)"
            ]
          },
          "metadata": {
            "tags": []
          },
          "execution_count": 12
        }
      ]
    },
    {
      "cell_type": "code",
      "metadata": {
        "id": "iqBzjhqfNobD",
        "colab_type": "code",
        "colab": {}
      },
      "source": [
        "# save to file\n",
        "dump(features, open('features.pkl', 'wb'))"
      ],
      "execution_count": 0,
      "outputs": []
    },
    {
      "cell_type": "markdown",
      "metadata": {
        "id": "mPe9vLNdP8bx",
        "colab_type": "text"
      },
      "source": [
        "### Prepare Text Data\n",
        "\n",
        "The dataset contains multiple descriptions for each photograph and the text of the descriptions requires some minimal cleaning.\n",
        "\n",
        "\n",
        "First, we will load the file containing all of the descriptions.\n",
        "\n"
      ]
    },
    {
      "cell_type": "code",
      "metadata": {
        "id": "V7WNvEKDPZRW",
        "colab_type": "code",
        "colab": {}
      },
      "source": [
        "# load the doc into memory\n",
        "def load_doc(filename):\n",
        "  # open the file as read only\n",
        "  file = open(file=filename, mode='r')\n",
        "  # read all text\n",
        "  text = file.read()\n",
        "  # close the file\n",
        "  file.close()\n",
        "  return text\n",
        "\n",
        "filename = './Flickr8k_text/Flickr8k.token.txt'\n",
        "\n",
        "doc = load_doc(filename)"
      ],
      "execution_count": 0,
      "outputs": []
    },
    {
      "cell_type": "code",
      "metadata": {
        "id": "IDgNvDEJRA5p",
        "colab_type": "code",
        "outputId": "3e504a1b-ef01-4446-ff7f-1a0d74de54c2",
        "colab": {
          "base_uri": "https://localhost:8080/",
          "height": 70
        }
      },
      "source": [
        "print(doc[:200])"
      ],
      "execution_count": 15,
      "outputs": [
        {
          "output_type": "stream",
          "text": [
            "1000268201_693b08cb0e.jpg#0\tA child in a pink dress is climbing up a set of stairs in an entry way .\n",
            "1000268201_693b08cb0e.jpg#1\tA girl going into a wooden building .\n",
            "1000268201_693b08cb0e.jpg#2\tA lit\n"
          ],
          "name": "stdout"
        }
      ]
    },
    {
      "cell_type": "markdown",
      "metadata": {
        "id": "tBlmk8dCUESI",
        "colab_type": "text"
      },
      "source": [
        "Each photo has a unique identifier. This identifier is used on the photo filename and in the text file of descriptions.\n",
        "\n",
        "Next, we will step through the list of photo descriptions. Below defines a function load_descriptions() that, given the loaded document text, will return a dictionary of photo identifiers to descriptions. Each photo identifier maps to a list of one or more textual descriptions."
      ]
    },
    {
      "cell_type": "code",
      "metadata": {
        "id": "cGCTG6w3Ud8p",
        "colab_type": "code",
        "outputId": "991edadf-3fbc-4726-b4bf-0b1c82bd9e6a",
        "colab": {
          "base_uri": "https://localhost:8080/",
          "height": 336
        }
      },
      "source": [
        "doc.split(\"\\n\")[:10][0].split()[1:]"
      ],
      "execution_count": 0,
      "outputs": [
        {
          "output_type": "execute_result",
          "data": {
            "text/plain": [
              "['A',\n",
              " 'child',\n",
              " 'in',\n",
              " 'a',\n",
              " 'pink',\n",
              " 'dress',\n",
              " 'is',\n",
              " 'climbing',\n",
              " 'up',\n",
              " 'a',\n",
              " 'set',\n",
              " 'of',\n",
              " 'stairs',\n",
              " 'in',\n",
              " 'an',\n",
              " 'entry',\n",
              " 'way',\n",
              " '.']"
            ]
          },
          "metadata": {
            "tags": []
          },
          "execution_count": 49
        }
      ]
    },
    {
      "cell_type": "code",
      "metadata": {
        "id": "sZHnyck-UFRQ",
        "colab_type": "code",
        "colab": {}
      },
      "source": [
        "# extract descriptions for images\n",
        "def load_descriptions(doc):\n",
        "  mapping=dict()\n",
        "\n",
        "  # process line by line\n",
        "  for line in doc.split(\"\\n\"):\n",
        "    # split line by white space\n",
        "    tokens = line.split()\n",
        "    # check min length\n",
        "    if len(line) < 2:\n",
        "      continue\n",
        "    # take the first token as the image id, the rest as the description\n",
        "    image_id, image_desc = tokens[0], tokens[1:]\n",
        "\n",
        "    # remove filename from image id\n",
        "    image_id = image_id.split('.')[0]\n",
        "\n",
        "    # convert description tokens back to string\n",
        "    image_desc = ' '.join(image_desc)\n",
        "\n",
        "    # create an emty list for a new image_id\n",
        "    if image_id not in mapping:\n",
        "      mapping[image_id] = list()\n",
        "\n",
        "    # append desc for the corr image_id\n",
        "\n",
        "    mapping[image_id].append(image_desc)\n",
        "\n",
        "  return mapping\n",
        "\n",
        "# parse descriptions\n",
        "descriptions = load_descriptions(doc)\n",
        "  "
      ],
      "execution_count": 0,
      "outputs": []
    },
    {
      "cell_type": "markdown",
      "metadata": {
        "id": "5xXUZcWoGFom",
        "colab_type": "text"
      },
      "source": [
        "`descriptions` is similar to `features`. Here we have the file names as keys and the captions as an array of values"
      ]
    },
    {
      "cell_type": "code",
      "metadata": {
        "id": "rv9jMzGGF_MG",
        "colab_type": "code",
        "colab": {
          "base_uri": "https://localhost:8080/",
          "height": 105
        },
        "outputId": "9ed0860d-0c7c-432d-d814-c4099ff8497a"
      },
      "source": [
        "descriptions['221973402_ecb1cd51f1']"
      ],
      "execution_count": 18,
      "outputs": [
        {
          "output_type": "execute_result",
          "data": {
            "text/plain": [
              "['a black dog chases a boy wearing red and blue .',\n",
              " 'A boy plays with a dog and a Frisbee .',\n",
              " 'A dog with a Frisbee in its mouth chasing a boy in a field .',\n",
              " 'A red shirted boy and a black dog with a Frisbee run in the green grass .',\n",
              " 'The small boy is running in front of a black dog with a Frisbee in its mouth .']"
            ]
          },
          "metadata": {
            "tags": []
          },
          "execution_count": 18
        }
      ]
    },
    {
      "cell_type": "markdown",
      "metadata": {
        "id": "eYphEf7dpbWg",
        "colab_type": "text"
      },
      "source": [
        "Next, we need to clean the description text. The descriptions are already tokenized and easy to work with.\n",
        "\n",
        "We will clean the text in the following ways in order to reduce the size of the vocabulary of words we will need to work with:\n",
        "\n",
        "- Convert all words to lowercase.\n",
        "- Remove all punctuation.\n",
        "- Remove all words that are one character or less in length (e.g. ‘a’).\n",
        "- Remove all words with numbers in them.\n",
        "\n",
        "Below defines the clean_descriptions() function that, given the dictionary of image identifiers to descriptions, steps through each description and cleans the text.\n",
        "\n"
      ]
    },
    {
      "cell_type": "code",
      "metadata": {
        "id": "AVfPhvKkZXbX",
        "colab_type": "code",
        "colab": {}
      },
      "source": [
        "import string\n",
        "\n",
        "def clean_descriptions(descriptions):\n",
        "  # prepare translation table for removing punctuation\n",
        "  table = str.maketrans('', '', string.punctuation)\n",
        "  \n",
        "  for key, desc_list in descriptions.items():\n",
        "    # for each desc of an image:\n",
        "    for i in range(len(desc_list)):\n",
        "      desc = desc_list[i]\n",
        "\n",
        "      # tokenize\n",
        "      desc = desc.split()\n",
        "\n",
        "      # convert to lowercase\n",
        "      desc = [word.lower() for word in desc]\n",
        "\n",
        "      # remove punctuation from each token\n",
        "      desc = [w.translate(table) for w in desc]\n",
        "\n",
        "      # remove hanging 's' and 'a'\n",
        "      desc = [word for word in desc if len(word)>1]\n",
        "\n",
        "      # remove tokens with numbers in them\n",
        "      desc = [word for word in desc if word.isalpha()]\n",
        "\n",
        "      # replace it in that index position\n",
        "      desc_list[i] = ' '.join(desc)\n",
        "\n",
        "\n",
        "# clean descriptions\n",
        "clean_descriptions(descriptions)\n",
        "      "
      ],
      "execution_count": 0,
      "outputs": []
    },
    {
      "cell_type": "code",
      "metadata": {
        "id": "iQhqHfNjGVfP",
        "colab_type": "code",
        "colab": {
          "base_uri": "https://localhost:8080/",
          "height": 105
        },
        "outputId": "3d386719-393f-474f-b5db-3151c003a297"
      },
      "source": [
        "descriptions['221973402_ecb1cd51f1']"
      ],
      "execution_count": 20,
      "outputs": [
        {
          "output_type": "execute_result",
          "data": {
            "text/plain": [
              "['black dog chases boy wearing red and blue',\n",
              " 'boy plays with dog and frisbee',\n",
              " 'dog with frisbee in its mouth chasing boy in field',\n",
              " 'red shirted boy and black dog with frisbee run in the green grass',\n",
              " 'the small boy is running in front of black dog with frisbee in its mouth']"
            ]
          },
          "metadata": {
            "tags": []
          },
          "execution_count": 20
        }
      ]
    },
    {
      "cell_type": "markdown",
      "metadata": {
        "id": "w0O6qqTC23LX",
        "colab_type": "text"
      },
      "source": [
        "Once cleaned, we can summarize the size of the vocabulary.\n",
        "\n",
        "Ideally, we want a vocabulary that is both expressive and as small as possible. A smaller vocabulary will result in a smaller model that will train faster.\n",
        "\n",
        "For reference, we can transform the clean descriptions into a set and print its size to get an idea of the size of our dataset vocabulary."
      ]
    },
    {
      "cell_type": "code",
      "metadata": {
        "id": "UqucXTSCpoK8",
        "colab_type": "code",
        "outputId": "11436030-793c-4896-d1cd-74062547e572",
        "colab": {
          "base_uri": "https://localhost:8080/",
          "height": 72
        }
      },
      "source": [
        "# convert the loaded descriptions into a vocabulary of words\n",
        "def to_vocabulary(descriptions):\n",
        "\t# build a list of all description strings\n",
        "\tall_desc = set()\n",
        "\tfor key in descriptions.keys():\n",
        "\t\t[all_desc.update(d.split()) for d in descriptions[key]]\n",
        "\treturn all_desc\n",
        "\n",
        "# summarize vocabulary\n",
        "vocabulary = to_vocabulary(descriptions)\n",
        "\n",
        "print(vocabulary)\n",
        "\n",
        "print('Vocabulary Size: %d' % len(vocabulary))"
      ],
      "execution_count": 21,
      "outputs": [
        {
          "output_type": "stream",
          "text": [
            "{'bohemian', 'fisher', 'midleap', 'line', 'cows', 'west', 'blondhaired', 'blurred', 'underside', 'layer', 'spreading', 'persue', 'biplane', 'entire', 'experiences', 'nat', 'jugs', 'chalk', 'downward', 'crying', 'bomber', 'suntanning', 'underpants', 'crushed', 'squirt', 'joy', 'expressing', 'reacts', 'nightclub', 'accelerates', 'loses', 'mexican', 'swinsuit', 'zaftig', 'cathcer', 'machines', 'hardly', 'deer', 'tame', 'weights', 'towards', 'player', 'canyon', 'pleadingly', 'stripped', 'dirt', 'towed', 'basketballs', 'kickboxing', 'seat', 'followed', 'hilltop', 'done', 'hurdlejumper', 'business', 'quaint', 'attempt', 'gift', 'motors', 'ca', 'fetch', 'persons', 'surges', 'waling', 'separate', 'autos', 'wetsuite', 'shutters', 'colorful', 'lower', 'fourth', 'takes', 'waterski', 'chair', 'rather', 'engine', 'springtime', 'statue', 'vegetable', 'attention', 'siting', 'jacked', 'launcher', 'aerobics', 'redcarpeted', 'turbulent', 'tights', 'spilled', 'harvested', 'ripped', 'pretending', 'sleep', 'shetland', 'crevasse', 'tall', 'whispering', 'dale', 'aboveground', 'pushes', 'mambo', 'try', 'assisting', 'wed', 'photographed', 'roads', 'dumpsters', 'alligator', 'quarry', 'disguise', 'beckons', 'cruiser', 'knit', 'tending', 'fowl', 'look', 'fountain', 'ponytail', 'twos', 'allterrain', 'television', 'family', 'rangler', 'dirtbikers', 'sweating', 'youn', 'cautious', 'tv', 'offered', 'sheepdog', 'shortly', 'hovers', 'bearers', 'ladies', 'unzipping', 'says', 'donning', 'prefabricated', 'japanesesponsored', 'nike', 'drinks', 'cavort', 'shoulderdeep', 'cottage', 'sprinkers', 'scored', 'towing', 'mutltiple', 'swirling', 'drainage', 'cabin', 'incline', 'tribal', 'ferrett', 'screen', 'edges', 'inground', 'bushels', 'better', 'furiously', 'overturn', 'customers', 'fton', 'dump', 'hoodies', 'explorer', 'human', 'adhd', 'leatherclad', 'leafless', 'straps', 'orbs', 'ot', 'tea', 'moms', 'poster', 'advertizing', 'expressway', 'spaghetti', 'diaper', 'brige', 'gazing', 'backround', 'hunched', 'carjack', 'cans', 'come', 'hardhat', 'leaned', 'whitemetal', 'mma', 'sippy', 'horseshoes', 'trashcan', 'jackets', 'strolling', 'gallopsing', 'looking', 'leaps', 'veil', 'studded', 'smiled', 'chow', 'gurnee', 'stingray', 'forceful', 'turbans', 'warily', 'region', 'saw', 'yellowish', 'basett', 'direction', 'vinecovered', 'skateboarding', 'projector', 'flute', 'accross', 'kinds', 'gown', 'stepstool', 'called', 'pack', 'seagulls', 'podium', 'gentleman', 'sweats', 'teams', 'bridesmaids', 'emblems', 'batman', 'longish', 'bathes', 'hikers', 'grinning', 'formed', 'salmon', 'florida', 'whack', 'folded', 'supermarket', 'ciff', 'tape', 'using', 'cupcake', 'purse', 'burnt', 'gathered', 'entertain', 'zagging', 'pull', 'cord', 'fliers', 'muffler', 'handheld', 'lifevests', 'goggles', 'mate', 'yells', 'japanese', 'string', 'footage', 'hobby', 'mosque', 'noce', 'against', 'sole', 'surveying', 'oriental', 'jumping', 'plates', 'photographing', 'bicyclist', 'depicting', 'exhibt', 'wounded', 'rocky', 'canal', 'trombone', 'cocker', 'bog', 'closely', 'drink', 'lighted', 'lounges', 'shower', 'unmanned', 'primping', 'begins', 'rags', 'pleasant', 'affixed', 'someone', 'striped', 'belongings', 'holiday', 'models', 'modeling', 'cats', 'bums', 'serves', 'or', 'rodderick', 'unhappy', 'bikes', 'rural', 'peoples', 'midsized', 'drove', 'microphones', 'breaking', 'graffitied', 'garbage', 'waded', 'vat', 'beams', 'garments', 'stabs', 'widows', 'sticker', 'scene', 'shaggy', 'shaped', 'troll', 'speed', 'darkheaded', 'scared', 'camping', 'tin', 'totter', 'plows', 'onehanded', 'bearing', 'guys', 'bathtub', 'anticipating', 'families', 'staircase', 'rockstar', 'lavish', 'snarling', 'muzzle', 'musher', 'spike', 'hiding', 'notebook', 'pinkish', 'gemmed', 'guide', 'spinart', 'magazine', 'minding', 'feeding', 'unfurled', 'quintet', 'concentration', 'mine', 'tshirts', 'meanders', 'skinned', 'farmer', 'pitched', 'mullet', 'pastry', 'slanted', 'universal', 'someplace', 'strolls', 'uphill', 'before', 'platform', 'dobbermen', 'bill', 'local', 'hurrying', 'making', 'scattered', 'exposition', 'rescue', 'grows', 'toilets', 'contestant', 'overhear', 'laugh', 'lillypads', 'shoreline', 'overwhelmed', 'happy', 'reduniformed', 'zip', 'scaling', 'rally', 'motioning', 'sunny', 'alley', 'frown', 'backflips', 'teeing', 'endzone', 'sports', 'sunlight', 'grocery', 'clap', 'swiftly', 'diver', 'graffitifilled', 'robot', 'found', 'onearmed', 'walker', 'baseman', 'rummages', 'moonwalk', 'marsh', 'curlyhaired', 'bumpy', 'praying', 'wheeled', 'clear', 'innertube', 'lifted', 'stars', 'blackblue', 'unifrom', 'arts', 'structures', 'balding', 'battle', 'fanny', 'fadora', 'hte', 'finds', 'longeared', 'swimmers', 'rim', 'advertisement', 'rain', 'hats', 'mechanisms', 'hardhats', 'miami', 'factory', 'badges', 'convoy', 'steal', 'states', 'lined', 'cycles', 'canadian', 'mid', 'dishtowel', 'quite', 'tortoise', 'roughhousing', 'athletes', 'hawaiin', 'playy', 'complete', 'nosedeep', 'machinery', 'dinner', 'bartender', 'produces', 'snap', 'racquet', 'officers', 'meditating', 'curving', 'washed', 'misty', 'underneath', 'uplifted', 'accessories', 'highschoolers', 'backbends', 'sad', 'rollerskates', 'model', 'pristine', 'duke', 'serving', 'rockclimber', 'artifacts', 'pool', 'moon', 'used', 'gesturing', 'circumvents', 'skiing', 'harnesses', 'repels', 'haloween', 'angle', 'crashes', 'examining', 'merchandise', 'clasp', 'batsman', 'glee', 'escape', 'seattle', 'stumbling', 'unpainted', 'occured', 'cigarettes', 'hula', 'mulch', 'rackets', 'stroller', 'couch', 'catwalk', 'pajamas', 'gorgeous', 'overturned', 'personal', 'graham', 'bookshelf', 'knees', 'marx', 'homemade', 'bandanas', 'paying', 'elevation', 'cups', 'sell', 'bring', 'messy', 'brindle', 'entertaining', 'sloping', 'cords', 'mallard', 'bananas', 'playfully', 'sill', 'bouncing', 'coats', 'castle', 'vibrant', 'buries', 'retrievers', 'savanah', 'charging', 'great', 'climbed', 'fancily', 'handicap', 'noticable', 'dashboard', 'banister', 'catholic', 'popper', 'upon', 'mosaic', 'binocular', 'brownstone', 'foal', 'bruised', 'topped', 'fries', 'overlooked', 'pitted', 'timeout', 'associated', 'snowsuit', 'nations', 'confronts', 'headdress', 'sparrow', 'knocking', 'windsurfer', 'backstand', 'supervising', 'carving', 'siren', 'skisuit', 'inflating', 'shed', 'squeamish', 'based', 'placemats', 'checkout', 'headset', 'professionally', 'backsides', 'since', 'operating', 'rollerbladers', 'midclimb', 'aerobatics', 'spangles', 'bicyclists', 'recorder', 'photo', 'vampire', 'party', 'disabled', 'walks', 'puff', 'lizards', 'blackshirt', 'bench', 'checkered', 'renaissance', 'notre', 'plane', 'armenian', 'reviews', 'masonry', 'dozes', 'dragged', 'skijoring', 'alcohol', 'adobe', 'formally', 'abdomen', 'attacked', 'graying', 'bags', 'heavily', 'throwing', 'dooorway', 'threewheeled', 'organizing', 'iceskate', 'learn', 'miasto', 'loooking', 'hundreds', 'hilltops', 'arriving', 'collision', 'most', 'ropeswinging', 'ont', 'batshaped', 'passenger', 'pose', 'split', 'fort', 'grond', 'net', 'cap', 'teases', 'earring', 'dojo', 'interviews', 'intense', 'grss', 'hood', 'splattered', 'orangish', 'mardis', 'falcon', 'moment', 'standind', 'olympics', 'volleyball', 'eyepatch', 'landscape', 'lawn', 'vie', 'trunks', 'pedestrian', 'exercisewheel', 'wielding', 'shute', 'fat', 'empty', 'euro', 'observed', 'runners', 'furry', 'shored', 'earflaps', 'wolf', 'midriff', 'medatative', 'mandolin', 'chopsticks', 'ballerinas', 'folds', 'horns', 'oceanside', 'celebrate', 'leaving', 'abandoned', 'puddle', 'motley', 'sour', 'sleve', 'playfighting', 'suburban', 'coach', 'bedroom', 'wands', 'contestent', 'pyramid', 'sailboard', 'nation', 'hardwood', 'doing', 'brownspotted', 'loaded', 'war', 'velvet', 'sites', 'everything', 'clipped', 'looms', 'my', 'safely', 'polkadotted', 'scarily', 'exhibit', 'kissed', 'unsual', 'architectural', 'track', 'internet', 'pursed', 'nash', 'marches', 'consoling', 'on', 'wrecked', 'beds', 'convienance', 'princess', 'exposing', 'benches', 'mitsubishi', 'donations', 'its', 'dozen', 'eyebrows', 'sail', 'fraternal', 'scenery', 'filmed', 'special', 'brownishred', 'whom', 'logo', 'rug', 'tip', 'fair', 'cleats', 'excercises', 'violently', 'courthouse', 'outcroping', 'stacked', 'waeribng', 'swimmer', 'walkng', 'woodstacked', 'jukebox', 'goth', 'vert', 'desperate', 'gull', 'safe', 'flops', 'pom', 'composed', 'expressionless', 'broom', 'setter', 'drain', 'dinghy', 'course', 'portland', 'djs', 'indoors', 'barge', 'spare', 'fetching', 'world', 'indians', 'zig', 'crouch', 'eye', 'packed', 'forelegs', 'hiviz', 'grazes', 'sit', 'perked', 'reenactors', 'wrestlers', 'amplifier', 'dirty', 'bland', 'ditch', 'period', 'saxophones', 'spread', 'cluster', 'healthy', 'trio', 'kayacker', 'dragsters', 'removing', 'steer', 'too', 'shrine', 'cover', 'rappeling', 'sewer', 'pressing', 'pick', 'diamond', 'patterened', 'formal', 'crowns', 'camera', 'shines', 'cringes', 'coliding', 'challange', 'selfportrait', 'wetsuits', 'serena', 'scowling', 'phones', 'handstands', 'wrinkley', 'drilling', 'masses', 'dark', 'greenish', 'activity', 'recoiling', 'sashes', 'legs', 'sat', 'grass', 'attend', 'teamates', 'yellowgrassed', 'black', 'fellows', 'windsurf', 'poem', 'passage', 'kingsworth', 'dragster', 'toy', 'rollskating', 'driveway', 'frightened', 'stockcar', 'netted', 'buss', 'buying', 'memorabilia', 'loop', 'stepping', 'cards', 'revealing', 'mast', 'dwelling', 'jacks', 'kit', 'chest', 'shoelaces', 'ashy', 'pedals', 'kong', 'sale', 'inertia', 'competes', 'jogger', 'watches', 'touches', 'cliffside', 'rifles', 'late', 'acroos', 'prizes', 'hissing', 'wellkept', 'celebrates', 'avoiding', 'oh', 'mcdonalds', 'pinkhooded', 'parrot', 'strung', 'goggled', 'strange', 'slalom', 'toddlers', 'propel', 'sweashirt', 'restaraunt', 'parallel', 'squirting', 'pylon', 'tap', 'slicker', 'extinguish', 'grassland', 'bounding', 'backtoback', 'bullfighter', 'showgirls', 'fixes', 'paragliding', 'land', 'nongrassy', 'seawall', 'stadium', 'fetched', 'speedway', 'sweater', 'oddly', 'tee', 'grouchy', 'cloverfilled', 'coppery', 'strides', 'thirds', 'elbows', 'victorian', 'suitcase', 'punting', 'rodent', 'armoire', 'buggy', 'occassion', 'naturally', 'suggestive', 'caring', 'cements', 'faded', 'turtle', 'parade', 'monitor', 'jackson', 'foliaged', 'hoofs', 'hindu', 'brickwall', 'vans', 'open', 'green', 'above', 'wings', 'carrier', 'inverted', 'kimonos', 'cattails', 'dominant', 'africanamerican', 'exposure', 'handicapped', 'burlap', 'ponytails', 'tiles', 'logs', 'cruisship', 'sledge', 'bended', 'performers', 'kilts', 'steamy', 'snakeskin', 'shields', 'target', 'sleeveless', 'festival', 'protect', 'student', 'magnificant', 'certificate', 'bottles', 'giants', 'actors', 'parents', 'redhead', 'encripted', 'fixing', 'flippers', 'sillhouttes', 'freddy', 'blossoms', 'jogged', 'plucking', 'marching', 'narby', 'diagram', 'overhangs', 'elaborate', 'mardi', 'buddhists', 'hoops', 'barack', 'performance', 'trailing', 'law', 'mommy', 'bucked', 'softdrinks', 'guitar', 'ocean', 'pedigree', 'digs', 'lemonade', 'observe', 'frosty', 'brian', 'shell', 'reflects', 'mean', 'drawings', 'tugboat', 'watering', 'glow', 'aquatic', 'overflowing', 'gold', 'peek', 'remax', 'register', 'pillow', 'halfsmile', 'fantastic', 'monument', 'fall', 'elbow', 'carousel', 'kicking', 'views', 'markings', 'marine', 'stuntbicyclist', 'camouflage', 'ceiling', 'newlywed', 'fancy', 'italian', 'treats', 'rushed', 'front', 'slinging', 'lies', 'violinist', 'stretches', 'groom', 'european', 'binoculars', 'how', 'warehouse', 'perplexed', 'limousine', 'purchased', 'manually', 'facedown', 'hallway', 'droplets', 'transit', 'took', 'campsite', 'swoops', 'ill', 'oar', 'dachshund', 'relaxes', 'riding', 'congregation', 'large', 'cloudcovered', 'windsurfing', 'starbuck', 'lab', 'shepherd', 'striking', 'song', 'icy', 'arab', 'armour', 'ads', 'again', 'tourquoise', 'petterned', 'last', 'pierced', 'begs', 'att', 'scoring', 'unique', 'spitting', 'sprints', 'grounded', 'heard', 'squares', 'concentrates', 'ballplayer', 'destination', 'tow', 'referring', 'legged', 'wipeout', 'waterspout', 'plants', 'anouther', 'humansize', 'entertainer', 'exiting', 'hand', 'dj', 'reported', 'bongo', 'sneakers', 'bales', 'babies', 'bicycle', 'trot', 'tassel', 'dipping', 'pillowcase', 'knocked', 'teen', 'objective', 'tuxedos', 'stiars', 'turbaned', 'macintosh', 'walkways', 'wristbands', 'treat', 'pair', 'aig', 'plains', 'chain', 'iceskating', 'parent', 'downstream', 'potted', 'peolple', 'gravity', 'jersy', 'kissing', 'cuddle', 'check', 'merrygoround', 'equipment', 'ring', 'outs', 'parklike', 'stare', 'drab', 'menacingly', 'pet', 'pier', 'samsung', 'shawls', 'bringing', 'underpass', 'outise', 'head', 'cardigan', 'huskey', 'school', 'toothbrush', 'child', 'messanger', 'jeans', 'vista', 'arcade', 'tophats', 'approaches', 'gymnast', 'shotongoal', 'rubs', 'chinese', 'lightup', 'dancefloor', 'record', 'long', 'pelicans', 'tying', 'joke', 'lassos', 'lot', 'border', 'waterfilled', 'potao', 'ceremony', 'letters', 'out', 'shortstop', 'gokarts', 'antelope', 'closed', 'perforced', 'skyward', 'grin', 'spelling', 'fanning', 'dries', 'complex', 'woven', 'handrails', 'smock', 'counry', 'payfully', 'bowlike', 'motorcycling', 'filming', 'lunchbox', 'foraging', 'greets', 'coopers', 'scenic', 'florescent', 'amazing', 'fellow', 'seperate', 'heron', 'picket', 'offf', 'ralley', 'fayre', 'dizzy', 'peddles', 'simultaneously', 'spash', 'sharp', 'horizontallystriped', 'piling', 'bundledup', 'salt', 'supervise', 'ships', 'ensemble', 'waring', 'toetouch', 'help', 'website', 'dust', 'overalls', 'framed', 'elementary', 'dge', 'outfut', 'night', 'small', 'roll', 'trekkies', 'fencing', 'vending', 'conoe', 'partially', 'necklace', 'marinelifethemed', 'obsured', 'vaulated', 'heading', 'science', 'auditorium', 'messily', 'rickety', 'whips', 'tongue', 'bmw', 'campus', 'upfront', 'spills', 'dalmatian', 'midst', 'handkerchief', 'seedoo', 'hulk', 'protruding', 'shades', 'angel', 'gallops', 'run', 'order', 'signed', 'outstretched', 'multistory', 'sparsely', 'walk', 'bodyless', 'rice', 'brawl', 'remote', 'brave', 'advertisment', 'hippies', 'isolated', 'bends', 'hockey', 'holes', 'drak', 'skin', 'michael', 'cheeked', 'money', 'papers', 'nd', 'computer', 'challenges', 'tax', 'note', 'climbing', 'colourfully', 'pacman', 'effort', 'wax', 'tend', 'liking', 'pyranha', 'turban', 'dense', 'hamburgers', 'tugofwar', 'eldery', 'parasailer', 'professional', 'confronted', 'do', 'their', 'posts', 'kayakers', 'super', 'propping', 'helemt', 'carved', 'session', 'whil', 'huddle', 'curvy', 'smacking', 'walking', 'froup', 'onslaught', 'redish', 'rocks', 'hatchback', 'punching', 'kisscostumed', 'cosplay', 'woodland', 'works', 'airborne', 'worships', 'delivery', 'nails', 'driftrood', 'pieces', 'wetsuit', 'batting', 'ignores', 'frying', 'hardscape', 'dreeds', 'process', 'amoung', 'clothes', 'woolen', 'windy', 'voice', 'crystal', 'readying', 'poolside', 'bumps', 'gathering', 'pilots', 'pipe', 'lightsaber', 'branded', 'viewfinder', 'picks', 'raced', 'earrings', 'overshadows', 'tundra', 'stoll', 'same', 'participates', 'llama', 'guarding', 'given', 'determined', 'fences', 'add', 'athelete', 'bubbling', 'trunk', 'lettering', 'year', 'farward', 'sweatsuit', 'punches', 'guessing', 'dances', 'sunning', 'dunk', 'genocide', 'longnecked', 'fawkes', 'soled', 'wrestilng', 'ivars', 'receiving', 'wellmuscled', 'childrens', 'dame', 'surfboards', 'handkerchiefs', 'slide', 'smeared', 'turning', 'coaster', 'popped', 'gun', 'snows', 'league', 'beard', 'lady', 'pug', 'pep', 'mouthguards', 'apex', 'cower', 'rapid', 'saturated', 'touts', 'bobsled', 'strawberries', 'operate', 'refugees', 'bum', 'gradual', 'midget', 'jungle', 'containers', 'trows', 'uncrowded', 'outwards', 'bullrun', 'hamming', 'nuzzling', 'unusual', 'cartwheeling', 'grazing', 'rugged', 'fisheye', 'unexcited', 'swan', 'flooring', 'boarding', 'english', 'wetland', 'tread', 'british', 'indoor', 'lifts', 'goatee', 'books', 'gnaws', 'wets', 'scantily', 'others', 'toddles', 'brandishes', 'alike', 'shack', 'cowgirls', 'gesticulates', 'left', 'symbol', 'arena', 'superman', 'mansion', 'backhand', 'dew', 'osme', 'dong', 'barbwire', 'were', 'graffti', 'muslim', 'teaches', 'mission', 'cloaks', 'curls', 'russell', 'desert', 'lighthouse', 'shouts', 'happen', 'firefighter', 'pony', 'paisley', 'bearer', 'eyeglasses', 'put', 'flotation', 'bath', 'soldiers', 'dogsled', 'scantilyclad', 'thumbs', 'been', 'neckdeep', 'flexibility', 'verdant', 'motorcross', 'tricycles', 'cyclists', 'focus', 'lacrosse', 'engulf', 'rapels', 'blacktop', 'refrigerator', 'chunky', 'barettes', 'beach', 'branding', 'laughs', 'stopping', 'captured', 'stood', 'groceries', 'sinking', 'codpiece', 'performer', 'headresses', 'balck', 'soles', 'tanktop', 'introduces', 'checkerboard', 'sunsets', 'crewmen', 'deposited', 'butter', 'lake', 'booklets', 'chasseing', 'parasurfer', 'hard', 'skateboarders', 'persian', 'toll', 'nine', 'carpet', 'spotters', 'roadway', 'equpiment', 'grouped', 'groomed', 'laceup', 'corporate', 'driverside', 'sack', 'along', 'extravagant', 'snack', 'preteen', 'schoolgirl', 'beyond', 'underhang', 'wigs', 'overlooks', 'arbor', 'creating', 'truck', 'muscles', 'towrope', 'longboarder', 'water', 'bar', 'stays', 'bead', 'react', 'piggy', 'whit', 'slab', 'throws', 'panting', 'eat', 'cannonball', 'cleavage', 'carolina', 'onlookers', 'apartment', 'outfit', 'closecropped', 'girt', 'rod', 'racks', 'coloring', 'diners', 'themselves', 'chins', 'foyer', 'payer', 'skimply', 'armful', 'shirted', 'shorter', 'defecating', 'boe', 'staffordshire', 'beats', 'rode', 'antlers', 'freesbies', 'skilift', 'classical', 'scale', 'rubbing', 'mule', 'drill', 'east', 'bone', 'encourages', 'piste', 'ritz', 'graffiticovered', 'boatload', 'onto', 'posters', 'write', 'arrangement', 'attractive', 'mediumsized', 'pring', 'creamy', 'exercising', 'individuals', 'goofing', 'appears', 'chip', 'know', 'rips', 'fairgrounds', 'defending', 'dingo', 'piano', 'mike', 'joyful', 'eats', 'sticks', 'ladie', 'barrette', 'maracas', 'museum', 'gi', 'utensils', 'products', 'boxers', 'tongues', 'library', 'held', 'lkievely', 'escorted', 'avrovulcancom', 'arches', 'partition', 'ruined', 'eastern', 'leaves', 'astro', 'underbrush', 'mountian', 'sorts', 'fluffy', 'evergreen', 'touched', 'gloves', 'interviewing', 'flips', 'launches', 'corgie', 'containing', 'varied', 'defender', 'homeless', 'pelican', 'floatlys', 'screening', 'mural', 'snowy', 'good', 'pulley', 'snowed', 'doorbell', 'highfives', 'reached', 'connected', 'queue', 'belts', 'slushies', 'crawl', 'twome', 'range', 'tour', 'where', 'jackolantern', 'plling', 'battling', 'foot', 'raincoat', 'shady', 'beret', 'dalmation', 'jogs', 'waterway', 'workshop', 'rattan', 'have', 'encounters', 'hapy', 'apparantly', 'treecovered', 'guitarist', 'verizon', 'golden', 'silly', 'schoolchildren', 'robust', 'somone', 'formation', 'bending', 'soda', 'skaters', 'rise', 'block', 'show', 'dogshirt', 'further', 'somthing', 'crawls', 'crazy', 'brow', 'upside', 'fast', 'wakeboarders', 'milkshake', 'tanning', 'onsie', 'weaves', 'laps', 'worn', 'air', 'let', 'slides', 'dresses', 'netting', 'mark', 'designs', 'lesson', 'doorway', 'fleece', 'shop', 'squeezed', 'offroading', 'innertubes', 'steers', 'torn', 'moss', 'graffited', 'lock', 'cylinder', 'dune', 'lucky', 'laying', 'blackhaired', 'fireplug', 'suite', 'boat', 'polaris', 'pouring', 'choice', 'tackler', 'thatched', 'hug', 'sunrise', 'drive', 'defying', 'female', 'third', 'piloting', 'cart', 'trained', 'balance', 'stubbled', 'glances', 'contemplates', 'tethered', 'illuminated', 'butt', 'viewpoint', 'life', 'odeon', 'lettuce', 'collaborating', 'minnie', 'adolescents', 'venice', 'ipods', 'outside', 'swims', 'fives', 'activities', 'ball', 'padded', 'near', 'trailer', 'unfurling', 'scubba', 'spelunker', 'yet', 'taking', 'home', 'call', 'playmat', 'custom', 'determination', 'thread', 'foam', 'action', 'freestyle', 'taught', 'bodies', 'distnat', 'greenglow', 'skewers', 'bodyboarder', 'seeingeye', 'agains', 'dc', 'leaning', 'wades', 'climb', 'shot', 'turned', 'devices', 'shave', 'disks', 'sum', 'gymnasium', 'meetinghall', 'skier', 'coyotes', 'brown', 'violin', 'carying', 'snowpatched', 'monocolor', 'thirty', 'measured', 'backpacks', 'floated', 'hell', 'still', 'spaced', 'fists', 'twig', 'tychy', 'insect', 'shows', 'stoic', 'swallow', 'spray', 'bowl', 'peacoat', 'derby', 'poking', 'mittened', 'feathers', 'person', 'forward', 'beneath', 'burned', 'upturned', 'curly', 'sync', 'streetlights', 'modern', 'graveyard', 'glass', 'entry', 'reviewing', 'dribbles', 'mussels', 'sporting', 'levels', 'oversized', 'underwater', 'livestock', 'bumble', 'pours', 'whiel', 'goofy', 'organic', 'somebody', 'surfer', 'hospital', 'halfburied', 'love', 'clothesline', 'grafitti', 'dangles', 'prepare', 'find', 'lamb', 'cameraman', 'walls', 'redbull', 'draft', 'vaulting', 'comes', 'pompoms', 'golfers', 'rivers', 'groups', 'noses', 'matching', 'strapped', 'protest', 'samll', 'competeition', 'escorts', 'arranging', 'decortive', 'cheerful', 'rustic', 'hortons', 'chinatown', 'spirit', 'tank', 'lapse', 'bitten', 'investigates', 'bamboo', 'paraglider', 'trumped', 'motorscooter', 'respectively', 'cornfield', 'shreds', 'twopiece', 'locked', 'cloud', 'suds', 'guidewire', 'overpass', 'column', 'apparatus', 'rottweiler', 'nibbling', 'informal', 'swooping', 'instructor', 'idyllic', 'handing', 'master', 'arid', 'sip', 'canals', 'center', 'paddle', 'romping', 'sliiding', 'roughly', 'halfnaked', 'dirtbike', 'faithful', 'skinny', 'china', 'bleached', 'pee', 'dealing', 'muffs', 'ignore', 'revel', 'backgrounds', 'ledge', 'teens', 'swim', 'snowmobiles', 'bra', 'amnesty', 'confused', 'treading', 'clearing', 'wedding', 'fork', 'palestinian', 'bolts', 'grenade', 'camps', 'bigger', 'orthodox', 'tatooed', 'limegreen', 'map', 'turns', 'tug', 'stretching', 'calf', 'pitching', 'bulldozer', 'protesters', 'swishing', 'israei', 'coming', 'casino', 'beat', 'bungeetype', 'chicago', 'jr', 'frog', 'heather', 'rust', 'coping', 'thinks', 'backed', 'frolics', 'lots', 'beaded', 'sarongs', 'dilapidated', 'figure', 'rungs', 'gnome', 'egde', 'aisle', 'ant', 'noodle', 'glide', 'greet', 'ice', 'balances', 'examine', 'candle', 'floored', 'verbal', 'persues', 'formations', 'handgun', 'ripping', 'explosions', 'slaloms', 'overshadowed', 'kickboxer', 'looked', 'thinner', 'figures', 'padel', 'god', 'farmland', 'exchange', 'powered', 'port', 'wadingpool', 'longdistance', 'thin', 'santa', 'bison', 'played', 'blown', 'dismounts', 'space', 'prom', 'snowbanks', 'paddlers', 'raceway', 'paralell', 'snowfield', 'flags', 'motocross', 'tikes', 'bicyclecross', 'contents', 'away', 'flung', 'unner', 'waterfalls', 'goers', 'guided', 'downtown', 'bandages', 'key', 'drummer', 'interacts', 'barbed', 'untouched', 'defensive', 'anciet', 'somehow', 'shredded', 'antennae', 'assorted', 'social', 'roots', 'exibit', 'wal', 'waterful', 'flowers', 'bathed', 'plungles', 'blue', 'blackgreen', 'chainmail', 'yawning', 'snowbound', 'having', 'hillside', 'spectating', 'welldressed', 'ipod', 'priest', 'walled', 'lesh', 'teacher', 'shoulderbag', 'playpen', 'actor', 'rough', 'includes', 'refreshment', 'muzzles', 'attack', 'winning', 'buckets', 'nearby', 'evening', 'acts', 'enters', 'them', 'checking', 'hooding', 'shadow', 'suited', 'patches', 'pats', 'celebrities', 'fruit', 'attentively', 'crosses', 'dice', 'passes', 'lakefront', 'longsleeve', 'broadway', 'enthusiasts', 'planeta', 'wagon', 'greenbay', 'unseen', 'penguins', 'powder', 'lounging', 'pedaling', 'conference', 'accident', 'wet', 'unshaven', 'rallies', 'distressed', 'whitewater', 'worked', 'backlegs', 'except', 'supports', 'visor', 'surfboarder', 'currently', 'landfill', 'smu', 'obstacle', 'notepad', 'fox', 'tilling', 'rolled', 'purina', 'composure', 'cracked', 'barbeque', 'scrap', 'santas', 'spouts', 'drug', 'hitting', 'sweatshirt', 'pudding', 'man', 'wide', 'trams', 'towers', 'non', 'jumpropes', 'throught', 'nowhere', 'prayer', 'hay', 'screeches', 'store', 'disrupt', 'shaving', 'biting', 'perused', 'comforter', 'butterflycatcher', 'sight', 'blocked', 'darker', 'hang', 'nonworking', 'offcamera', 'rears', 'muscle', 'camels', 'emerging', 'biohazard', 'things', 'booths', 'poling', 'mobility', 'stylish', 'footrace', 'upright', 'exercise', 'impact', 'orange', 'pizzeria', 'warning', 'deflated', 'bro', 'goucho', 'shadows', 'sprinking', 'wild', 'blays', 'load', 'meal', 'can', 'fishscales', 'chicken', 'bernard', 'shiner', 'garland', 'driving', 'return', 'angry', 'for', 'waving', 'rellow', 'lakeside', 'viewing', 'hoddie', 'videos', 'hairy', 'then', 'mingling', 'less', 'behinds', 'newborn', 'stripy', 'williams', 'muzzled', 'everybody', 'birdcage', 'possessions', 'packages', 'share', 'lining', 'saver', 'mat', 'teenager', 'ducky', 'missed', 'opens', 'bursting', 'waist', 'ridden', 'almost', 'rounding', 'microphone', 'in', 'favorite', 'shaved', 'depth', 'tournament', 'redheaded', 'indescript', 'furniture', 'swimmies', 'bridges', 'angled', 'raincoats', 'breaching', 'hump', 'accends', 'swear', 'bordering', 'swimsuits', 'bows', 'carabiner', 'ascends', 'gettin', 'sips', 'salon', 'vaults', 'tanktops', 'direct', 'bowls', 'grown', 'targeting', 'pastels', 'brunettes', 'ribbon', 'capture', 'lookalike', 'swept', 'director', 'defended', 'twists', 'crane', 'decorated', 'as', 'people', 'patterned', 'urge', 'saddle', 'shopping', 'bicylist', 'bricks', 'trundles', 'shite', 'zips', 'sprinkled', 'creepy', 'shortsleeved', 'crash', 'drifting', 'pans', 'barrior', 'styled', 'presenting', 'sequoia', 'tourist', 'stickball', 'otherwise', 'material', 'hsirt', 'seed', 'shelf', 'mickey', 'beverage', 'bracing', 'straw', 'holey', 'dive', 'columns', 'huddled', 'socializing', 'encouraging', 'pinned', 'winston', 'troupe', 'neclace', 'misspelled', 'buddy', 'bustling', 'proamerica', 'that', 'competitors', 'teddy', 'like', 'jaket', 'confront', 'convenience', 'illustration', 'forested', 'scalling', 'game', 'bout', 'pipes', 'flyfishing', 'pane', 'viewer', 'living', 'powerboats', 'trudge', 'witnesses', 'nurses', 'casting', 'hypocrites', 'marketplace', 'curtsey', 'scarred', 'dribbled', 'stuff', 'magic', 'brushland', 'antiquated', 'decoration', 'hatted', 'blackboard', 'multiple', 'only', 'bang', 'snapping', 'beads', 'darked', 'gocart', 'hanging', 'bird', 'writing', 'puppies', 'oars', 'claus', 'rippled', 'angels', 'powerful', 'brightlycolred', 'fist', 'enforcement', 'sunset', 'novel', 'desertlike', 'superhero', 'amid', 'twisted', 'inspects', 'mistletoe', 'fathers', 'playes', 'mug', 'hosed', 'oklahoma', 'traffic', 'bases', 'donates', 'pigtails', 'blossom', 'quad', 'this', 'lecture', 'passenager', 'bmxer', 'togerther', 'tagged', 'snowploe', 'shining', 'collects', 'wizards', 'seeking', 'giving', 'pacifier', 'midstride', 'buried', 'swatted', 'because', 'pitch', 'prisoner', 'to', 'mart', 'jewish', 'needle', 'permed', 'civillians', 'shore', 'dane', 'flipping', 'billiards', 'strip', 'warmly', 'stereo', 'wearhing', 'designed', 'whie', 'flees', 'downriver', 'angerly', 'xmen', 'horseriders', 'cookie', 'greyishbrown', 'outstreached', 'saris', 'joyfully', 'motorbikes', 'cake', 'forehead', 'cocked', 'racers', 'gas', 'nearly', 'rover', 'threeway', 'peak', 'pirates', 'control', 'purple', 'snow', 'screams', 'eyes', 'met', 'learns', 'trendy', 'racket', 'monkey', 'tan', 'peanut', 'guests', 'ovals', 'wringing', 'eastpak', 'ridable', 'delivering', 'condoms', 'preoccupied', 'wearing', 'twenties', 'parachute', 'guns', 'table', 'advertisements', 'tattooed', 'boulder', 'propelled', 'practice', 'nordic', 'stork', 'ok', 'vents', 'zippered', 'tunic', 'waaves', 'goal', 'blurring', 'text', 'printed', 'rollerblading', 'garmet', 'soldier', 'sucker', 'ladles', 'huts', 'demonstrate', 'baskers', 'juggles', 'wierd', 'united', 'lanterns', 'fights', 'reentry', 'tabby', 'badly', 'pointer', 'thick', 'soar', 'zebra', 'digital', 'barks', 'ghostbusters', 'parachutes', 'mountainous', 'motorbiker', 'cleans', 'anatomy', 'fishermen', 'buses', 'chips', 'something', 'footpath', 'boots', 'riders', 'drips', 'celtics', 'bares', 'slips', 'circuit', 'chilly', 'helplessly', 'fending', 'glassy', 'happiness', 'citizen', 'snacks', 'upwards', 'an', 'pokemon', 'london', 'hoodedcoat', 'public', 'pinball', 'twirling', 'rhododendron', 'hauling', 'aframe', 'here', 'rafting', 'gates', 'descends', 'toolbox', 'arranged', 'launched', 'handlebars', 'speakers', 'tissue', 'pavement', 'em', 'accompanies', 'into', 'fails', 'powdery', 'latter', 'napping', 'waiter', 'furred', 'competiting', 'floatation', 'trials', 'bowled', 'couple', 'expression', 'crosscountry', 'reach', 'entitled', 'facepaintings', 'fuchsia', 'pilar', 'strand', 'trampoline', 'musical', 'lecturing', 'speedboat', 'bouncy', 'weight', 'bloe', 'county', 'orders', 'blindfolded', 'working', 'crystalclear', 'root', 'sets', 'glowers', 'gets', 'chin', 'double', 'fortune', 'oppenents', 'half', 'investigating', 'policeman', 'herbs', 'treelined', 'fencers', 'frolicking', 'raingear', 'waterskies', 'extended', 'flapping', 'roped', 'yelling', 'shorthair', 'accents', 'canooers', 'murals', 'headfirst', 'intersection', 'overcast', 'fastest', 'meet', 'pierlike', 'pebbly', 'wiener', 'sledding', 'articles', 'cannon', 'foreigners', 'clapping', 'wagging', 'tugging', 'corn', 'resting', 'dueling', 'cheery', 'winking', 'spiderman', 'ankledeep', 'athletics', 'thorugh', 'divind', 'salvar', 'john', 'creeping', 'disney', 'crate', 'airfilled', 'sunsetting', 'homebase', 'germanshepherd', 'strings', 'texts', 'hole', 'straddling', 'cast', 'mature', 'facility', 'synchronized', 'after', 'fixtures', 'floating', 'tone', 'fantasy', 'become', 'lightcolored', 'blades', 'ghostbuster', 'telephone', 'int', 'word', 'gondoliers', 'descending', 'telescope', 'plastic', 'cop', 'ski', 'petals', 'backpack', 'bangles', 'ankle', 'sunlit', 'boardwalk', 'flipped', 'comprised', 'darkhaired', 'recyclable', 'seaworld', 'jumphouse', 'peircings', 'armor', 'sands', 'bulls', 'leaping', 'structure', 'move', 'average', 'skiny', 'oiled', 'mouthed', 'mock', 'waterside', 'recked', 'pursing', 'snowboards', 'silk', 'shelter', 'parachuting', 'sailboats', 'building', 'dolphin', 'soaker', 'seaside', 'bandmates', 'headwraps', 'jumpinjg', 'picnickers', 'wipe', 'quick', 'openmouthed', 'produce', 'goats', 'tries', 'everyday', 'dusty', 'turkey', 'safari', 'remove', 'sundown', 'mic', 'mown', 'flight', 'breastfeeding', 'clutches', 'bmx', 'dimmly', 'litter', 'stocking', 'miscellaneous', 'pensively', 'knuckle', 'litlle', 'cheerleader', 'fluid', 'sundress', 'beckham', 'prey', 'remaining', 'developing', 'curious', 'whilst', 'busstop', 'setup', 'purses', 'keeling', 'sock', 'me', 'wakeboarding', 'skateboards', 'bow', 'supporting', 'shorthaired', 'rehearsing', 'mom', 'bluetooth', 'countryside', 'horseshoe', 'tumbleweed', 'lamppost', 'noise', 'swinging', 'blurs', 'zipup', 'rollercoaster', 'shamrocks', 'sunglasses', 'crowds', 'weating', 'basketball', 'five', 'hips', 'blood', 'railway', 'frizzy', 'artistic', 'mucky', 'faint', 'spewing', 'bellysmacker', 'tyedyed', 'crouched', 'fear', 'eyese', 'fetches', 'zigzag', 'teenage', 'tag', 'conifers', 'scarves', 'bush', 'jaywalk', 'swampy', 'snowball', 'bartype', 'halfdressed', 'daytime', 'contestants', 'ramp', 'valley', 'obedience', 'discuss', 'wheelers', 'discs', 'pressed', 'dirtcovered', 'griding', 'gallop', 'adventures', 'twirls', 'tugs', 'typical', 'bullhorn', 'fireplace', 'highflying', 'leapfrog', 'motion', 'records', 'snowmobile', 'punctured', 'peterson', 'headscarf', 'creates', 'conditions', 'divided', 'lipstick', 'embedded', 'much', 'bib', 'blog', 'blitz', 'waists', 'mercury', 'melted', 'cubicle', 'bulletproof', 'vintage', 'right', 'tiny', 'crank', 'web', 'cry', 'grassy', 'waterfall', 'utilities', 'belly', 'rockclimbing', 'paneled', 'greyish', 'uncut', 'bump', 'snowpants', 'twho', 'trampled', 'brightlycolored', 'virtual', 'stirred', 'interior', 'guardsman', 'readies', 'beverages', 'easter', 'lunches', 'sits', 'dodgeball', 'haircut', 'perm', 'punts', 'flip', 'sportswear', 'recieving', 'fans', 'brightlylit', 'fashioned', 'quinta', 'jet', 'being', 'shown', 'points', 'protecting', 'sleds', 'ways', 'pole', 'zone', 'cougar', 'driftwood', 'snowdrift', 'backless', 'reddish', 'forearm', 'toes', 'jaw', 'intercept', 'broen', 'seashore', 'giant', 'element', 'book', 'frilly', 'reflected', 'embraces', 'patricks', 'conversations', 'headphones', 'speeding', 'kitty', 'brief', 'fourwheeled', 'attach', 'tabloid', 'crab', 'jean', 'turquoise', 'crime', 'greenpeace', 'interrupts', 'roman', 'avoids', 'nametags', 'built', 'hopscotch', 'support', 'periods', 'howling', 'flashes', 'bits', 'gators', 'old', 'licked', 'harbor', 'outdoors', 'army', 'meter', 'bulky', 'springs', 'plant', 'acoustic', 'baby', 'reaches', 'flock', 'dramatically', 'hairnet', 'carrying', 'chili', 'quarters', 'blackyellow', 'punkish', 'flaring', 'tongee', 'tablet', 'cheese', 'himself', 'link', 'cork', 'bin', 'airtime', 'giong', 'filiming', 'court', 'final', 'greyhounds', 'swans', 'squinting', 'bunchh', 'camper', 'save', 'would', 'videotapes', 'belaying', 'hook', 'women', 'fence', 'bystanders', 'biden', 'vests', 'bicycles', 'wait', 'aligator', 'arabian', 'allowing', 'advantage', 'baskets', 'cries', 'act', 'darkly', 'source', 'tends', 'soup', 'wrestle', 'twp', 'assist', 'fiercely', 'funky', 'dads', 'billboard', 'vigorous', 'brownhaired', 'heels', 'strewn', 'dry', 'ruggers', 'cane', 'machine', 'ledges', 'crossed', 'dolphins', 'slip', 'fresh', 'wmoan', 'flaps', 'terrace', 'overhead', 'cordoned', 'reflections', 'jumped', 'broad', 'corral', 'collar', 'prance', 'eggs', 'scuffle', 'forearms', 'sniffed', 'runner', 'gesture', 'beachfront', 'roller', 'other', 'drumset', 'noisemaker', 'dusted', 'breed', 'bluestriped', 'cobbled', 'diapers', 'paintings', 'casual', 'stretch', 'literature', 'ac', 'lagging', 'wire', 'manuever', 'ups', 'fig', 'thrower', 'lecturer', 'painters', 'colecting', 'claws', 'passers', 'level', 'tumbling', 'bloody', 'locker', 'snowboarders', 'foamy', 'site', 'panda', 'piece', 'purchase', 'gestures', 'marvel', 'rummage', 'technical', 'coverall', 'male', 'scratches', 'fronds', 'explores', 'array', 'tennis', 'towheaded', 'capped', 'gound', 'dryed', 'hills', 'twowheeled', 'fill', 'smoking', 'windmill', 'outfield', 'tackling', 'tbe', 'corndogs', 'view', 'mama', 'surfs', 'reacting', 'neckless', 'loser', 'roasted', 'banners', 'poles', 'parasurfing', 'whistle', 'everyone', 'got', 'physiques', 'bared', 'conversing', 'practicing', 'tails', 'rockstrewn', 'comforting', 'hip', 'umbrella', 'un', 'majestically', 'official', 'spill', 'already', 'giggling', 'tide', 'midway', 'backside', 'bread', 'climbs', 'jump', 'colorings', 'vast', 'constructed', 'cropped', 'moving', 'surfaces', 'parked', 'dripping', 'brooms', 'panoramic', 'bars', 'thinking', 'suv', 'karate', 'tricycle', 'volkswagen', 'rollerblader', 'pit', 'pasta', 'toyota', 'stunning', 'demonstrating', 'dons', 'apartments', 'drum', 'leap', 'sheilding', 'blues', 'hauled', 'feel', 'inside', 'big', 'carves', 'weas', 'tshirt', 'candy', 'ballet', 'prevent', 'gaurd', 'carreis', 'beside', 'cloudy', 'spindle', 'paperback', 'doors', 'scrimmage', 'spanishstyle', 'dodging', 'mosquelike', 'sidebyside', 'oclock', 'brides', 'pockets', 'poncho', 'seller', 'costume', 'cockpit', 'wisks', 'snowcapped', 'comforts', 'advertising', 'lagoon', 'soocerball', 'african', 'solicits', 'stacking', 'assault', 'huddles', 'doorstep', 'slurpees', 'coaches', 'steering', 'spool', 'masks', 'equiment', 'completes', 'chewedup', 'regalia', 'beginning', 'aerodynamic', 'zipline', 'boogie', 'colonial', 'boas', 'square', 'fend', 'stick', 'swipes', 'piggyback', 'start', 'lets', 'trash', 'warm', 'aerobatic', 'hooded', 'focuses', 'palmtree', 'bowling', 'carts', 'mitt', 'shrubs', 'guards', 'welllit', 'own', 'bodysurfs', 'overhanging', 'win', 'board', 'snowflake', 'treads', 'daughter', 'length', 'arrow', 'adorn', 'patroling', 'preparing', 'smirks', 'jetskiing', 'aveda', 'doughnut', 'angles', 'torch', 'gowns', 'computers', 'face', 'characters', 'either', 'older', 'palace', 'skateboarder', 'flows', 'occupied', 'parody', 'solitary', 'rockclimb', 'attempted', 'eccentric', 'threshold', 'ringed', 'was', 'floppy', 'sisters', 'bedspread', 'officials', 'member', 'rapids', 'mountaineers', 'wrestler', 'doge', 'keffiyahs', 'aerial', 'nip', 'extends', 'shallow', 'lush', 'desk', 'passin', 'ethnicity', 'medals', 'fairies', 'outdoor', 'egyptian', 'rabbit', 'aim', 'visitors', 'receiver', 'canopy', 'cars', 'stirring', 'witches', 'siluettes', 'served', 'background', 'sprawls', 'applebee', 'leader', 'honest', 'ear', 'adults', 'tool', 'cigars', 'goldenbrown', 'saying', 'of', 'hr', 'content', 'stares', 'tube', 'poodle', 'pizza', 'gravel', 'engaged', 'supporters', 'touch', 'prow', 'wheelie', 'seas', 'wooded', 'cheek', 'collage', 'minor', 'nadal', 'church', 'texting', 'yellowgold', 'power', 'fundraising', 'braids', 'brother', 'nest', 'surround', 'broken', 'dimpled', 'poems', 'liquid', 'butts', 'granny', 'item', 'sing', 'fountains', 'looks', 'signature', 'frowns', 'curb', 'quarter', 'classes', 'pulleys', 'bespectacled', 'pickup', 'stools', 'companions', 'pinches', 'overgrown', 'downsteps', 'maneuvering', 'lavendar', 'trip', 'petting', 'band', 'icicles', 'vike', 'funeral', 'shape', 'kayaker', 'national', 'colliding', 'slopes', 'ornament', 'discussion', 'percussionists', 'widelegged', 'loofa', 'coveralls', 'ban', 'tartan', 'speedo', 'pinkcoated', 'keeper', 'labelled', 'fourwheeler', 'humans', 'implements', 'train', 'rainbow', 'obscene', 'headdresses', 'autumnal', 'captures', 'cbs', 'employees', 'clapped', 'tubes', 'illustrated', 'dress', 'hooking', 'rocker', 'versus', 'feels', 'lionist', 'cafe', 'dacshund', 'hackey', 'appear', 'day', 'through', 'sofa', 'korean', 'pnc', 'gorup', 'oxen', 'geese', 'turquiose', 'dotted', 'needlepoint', 'stiffing', 'headed', 'hoop', 'caterpillar', 'south', 'glowing', 'pleople', 'coastline', 'he', 'extremely', 'sillouhette', 'losing', 'floral', 'silhouettes', 'christ', 'tinkerbell', 'greyhound', 'place', 'german', 'places', 'wearubg', 'naked', 'squeals', 'outlined', 'husks', 'see', 'whisper', 'paleontologist', 'scarfs', 'tw', 'cloth', 'railgrind', 'nursery', 'faces', 'smiff', 'showing', 'italy', 'venue', 'sash', 'form', 'collapsable', 'impersonator', 'chests', 'paw', 'sucks', 'hikes', 'protects', 'collide', 'fiels', 'casterol', 'spanish', 'facing', 'holing', 'heating', 'sweat', 'boarder', 'steamboat', 'convention', 'embracing', 'canon', 'lollipops', 'flare', 'cameras', 'replaces', 'converging', 'bucket', 'swirl', 'hangs', 'taken', 'overtop', 'downwards', 'learning', 'countertop', 'cathing', 'shin', 'staring', 'piles', 'obscures', 'ractrack', 'tantrum', 'cross', 'horsedrawn', 'recreation', 'heavyset', 'station', 'awkward', 'prepares', 'thought', 'flashlight', 'guitarists', 'disheveled', 'brings', 'swimwear', 'peering', 'knight', 'desolate', 'neckties', 'shabby', 'scoop', 'asphalt', 'bting', 'sandcastles', 'domino', 'bullfight', 'hers', 'create', 'government', 'sticking', 'feild', 'members', 'stretched', 'attraction', 'allowed', 'document', 'celebrating', 'collie', 'embroidered', 'animals', 'pyrotechnics', 'spaniels', 'completing', 'thing', 'razer', 'asian', 'od', 'tireshaped', 'streaked', 'adornment', 'shadowdappled', 'regularly', 'temporary', 'tractorlike', 'reson', 'focused', 'aquos', 'slippers', 'scooters', 'cutout', 'scales', 'judge', 'aprons', 'cotton', 'outward', 'applying', 'shrowded', 'greenery', 'protected', 'park', 'packaged', 'college', 'tote', 'crow', 'intot', 'nicely', 'crumb', 'antics', 'barricade', 'vault', 'rushing', 'breeds', 'iove', 'ultimate', 'rounds', 'oppsing', 'fins', 'aside', 'hotel', 'gated', 'beaver', 'burns', 'smashed', 'unicycle', 'amusement', 'offwhite', 'suprised', 'blasted', 'haystack', 'wintry', 'garb', 'chello', 'few', 'case', 'paddled', 'toast', 'graze', 'shading', 'paraglides', 'mostly', 'caught', 'catcher', 'unpaved', 'dot', 'cutting', 'yellows', 'circling', 'balancing', 'born', 'these', 'spar', 'whiffle', 'holds', 'post', 'goalie', 'feathered', 'cave', 'quarterback', 'quickly', 'snowfall', 'speaks', 'friend', 'kite', 'many', 'skater', 'heroes', 'baring', 'positioned', 'scull', 'barrier', 'cracker', 'brothers', 'sphere', 'taps', 'emotionally', 'dolly', 'bend', 'pants', 'bicyler', 'participating', 'fiddle', 'pistol', 'longhorns', 'highrise', 'mask', 'diner', 'instructs', 'couches', 'steaks', 'subdivsion', 'smokes', 'pedestal', 'bathrooms', 'stream', 'convert', 'struck', 'tussle', 'drainpipe', 'colored', 'gigolo', 'canada', 'stamds', 'discovery', 'midjump', 'grainy', 'sprinklers', 'shelves', 'sinks', 'hdr', 'rockets', 'damp', 'neptuno', 'jewlery', 'manner', 'fencedin', 'outstreched', 'natural', 'dyed', 'sponge', 'motocycle', 'differentcolored', 'tent', 'lapel', 'blow', 'across', 'jetty', 'scans', 'jacketed', 'shriner', 'route', 'sending', 'mountaintop', 'aluminum', 'enviorment', 'flakes', 'chess', 'chidl', 'icing', 'mounds', 'up', 'beagle', 'emty', 'lakes', 'costumes', 'closes', 'mess', 'soccor', 'neatly', 'offroad', 'twirl', 'sculpture', 'readied', 'deciding', 'sari', 'handout', 'spikes', 'protective', 'midspeach', 'pink', 'gym', 'ohio', 'handbag', 'hurdles', 'kicks', 'controlling', 'personnel', 'profusely', 'europe', 'kimono', 'bullfighting', 'system', 'blueish', 'underfoot', 'strength', 'pressure', 'oppose', 'fingertips', 'mottled', 'twin', 'yamaha', 'suburbs', 'hairdo', 'embankment', 'shake', 'stones', 'digger', 'maneuver', 'vehicle', 'glacial', 'mail', 'frisbie', 'spaniel', 'allwhite', 'straddles', 'cubby', 'policemen', 'archer', 'placid', 'boot', 'collection', 'dunks', 'spelunkers', 'adoring', 'street', 'opening', 'exciting', 'woamn', 'flowery', 'taller', 'approach', 'leg', 'dimly', 'rapidly', 'stairway', 'boundary', 'office', 'admiring', 'tier', 'portrait', 'khakicolored', 'sponsored', 'flowing', 'tell', 'treetops', 'bathroom', 'softball', 'glides', 'moutnain', 'surprised', 'ferns', 'underground', 'parking', 'nodding', 'wicket', 'sort', 'momma', 'gentle', 'competiton', 'frozen', 'flash', 'mix', 'kawasaki', 'lifesavers', 'closeup', 'daschunds', 'jumps', 'river', 'aggresively', 'concrete', 'thie', 'ground', 'shade', 'punt', 'snare', 'decoyanimal', 'pylons', 'horizon', 'groucho', 'dumbbell', 'chief', 'pepco', 'bounced', 'north', 'inlineskates', 'trail', 'at', 'navigate', 'brightcolored', 'returning', 'contracption', 'headlight', 'saharan', 'wife', 'cosplayers', 'newspapers', 'passed', 'fastens', 'farm', 'galloping', 'baseball', 'waitresses', 'thrown', 'spoon', 'infant', 'duel', 'flirts', 'aiming', 'poof', 'toilet', 'snorkeling', 'kneel', 'flume', 'potty', 'swetashirts', 'font', 'ambulance', 'hate', 'plushie', 'occasion', 'sound', 'bass', 'hanglider', 'strainer', 'seated', 'test', 'frame', 'earpiece', 'alertly', 'hummer', 'weilding', 'atv', 'shaft', 'tuxes', 'landmark', 'folks', 'tarp', 'covering', 'manuals', 'median', 'laptop', 'preparation', 'flanked', 'porch', 'indian', 'thre', 'preservers', 'examined', 'fixer', 'guardrail', 'cup', 'ticket', 'thank', 'stump', 'reception', 'identifier', 'artist', 'infants', 'eleven', 'hoses', 'recoils', 'foul', 'lease', 'bottoms', 'lay', 'ability', 'ragged', 'bull', 'ls', 'orangestained', 'second', 'graphic', 'clean', 'kites', 'gaurdian', 'tears', 'rest', 'parasailing', 'snowsuits', 'twisty', 'swam', 'steered', 'beaks', 'impersonators', 'tentatively', 'bareback', 'furtrimmed', 'intertube', 'signpost', 'cappedhills', 'relaxing', 'thumb', 'guiutarist', 'spoted', 'housekeeping', 'jogging', 'tune', 'longbearded', 'agents', 'wires', 'windbreaker', 'spiking', 'longhandled', 'cricketer', 'bean', 'splashed', 'umpire', 'cellos', 'partner', 'bite', 'fours', 'apples', 'shadowed', 'tattered', 'harpsichord', 'substance', 'redclad', 'class', 'colapsable', 'elf', 'pipeline', 'baton', 'clifftop', 'tripped', 'waterskiis', 'vaste', 'midpitch', 'churns', 'rainy', 'poor', 'identical', 'temple', 'past', 'hike', 'huskylike', 'classroom', 'retrives', 'tim', 'openair', 'peach', 'windowsill', 'streams', 'cannons', 'squat', 'else', 'residential', 'riwal', 'gigantic', 'remember', 'seen', 'pearls', 'withering', 'labs', 'rods', 'ad', 'not', 'searching', 'lone', 'wants', 'pot', 'flyer', 'colorblock', 'hits', 'squeezes', 'oout', 'cowgirl', 'barking', 'bikini', 'popscicles', 'burning', 'midrun', 'state', 'tire', 'breaded', 'retail', 'bound', 'dupont', 'streetpole', 'acrouss', 'sheppard', 'chewing', 'pamphlet', 'soaking', 'buy', 'rush', 'spectators', 'enthusiastic', 'pearl', 'distorted', 'overlook', 'hit', 'mini', 'alleyway', 'exited', 'diving', 'earnhardt', 'kitchen', 'bluejean', 'crafts', 'coasterlike', 'dial', 'bluff', 'amidst', 'pay', 'spinning', 'smelled', 'shirtness', 'easels', 'varying', 'mudwrestle', 'redvested', 'clowds', 'taxis', 'thumbsup', 'peace', 'leafs', 'scientist', 'son', 'peeing', 'socks', 'sedan', 'bicycler', 'pocket', 'ref', 'boxer', 'padding', 'jousting', 'ashtray', 'signaling', 'revealed', 'bluegreen', 'written', 'puddles', 'rakes', 'cleared', 'signer', 'drawn', 'opinion', 'odd', 'wrap', 'discovers', 'coordinator', 'rearview', 'dinosaur', 'clever', 'lavender', 'lays', 'language', 'lighter', 'stop', 'berries', 'slalomlike', 'kid', 'glovedhand', 'garner', 'forefront', 'horsemen', 'maintained', 'emerge', 'compete', 'peddled', 'driven', 'tunnel', 'kiss', 'stringed', 'batons', 'motorcyclists', 'bride', 'rider', 'darts', 'climing', 'circus', 'peaking', 'tatoos', 'pace', 'belted', 'thriller', 'draping', 'mechanical', 'transportation', 'musicians', 'clack', 'finishes', 'multicolored', 'village', 'pharmacy', 'tiled', 'silhouette', 'laid', 'egret', 'billowing', 'washer', 'longsleeved', 'finish', 'classicstyle', 'mattress', 'grips', 'upclose', 'cin', 'stalks', 'flew', 'pastor', 'drives', 'coasting', 'gazed', 'rusty', 'suffering', 'legos', 'addressing', 'barrels', 'binky', 'secondstory', 'navel', 'suspiciously', 'specialized', 'who', 'evade', 'protector', 'stuck', 'cobblestone', 'rotweiler', 'wrings', 'rises', 'competitive', 'sibling', 'birds', 'beetle', 'tipped', 'hillock', 'submerged', 'pompadour', 'conversation', 'bowler', 'spays', 'leashes', 'smilely', 'bark', 'two', 'care', 'sunhat', 'burnished', 'pigeon', 'dimlight', 'dirtyblonde', 'juggling', 'bare', 'pops', 'tangled', 'faced', 'posh', 'calming', 'fedex', 'gotten', 'patiently', 'blondehaired', 'threatening', 'wallride', 'electricity', 'smooth', 'lopes', 'manicured', 'excersise', 'retaining', 'throw', 'practising', 'sandbox', 'rite', 'palm', 'steap', 'sweatband', 'press', 'gray', 'spashes', 'flatscreen', 'lion', 'ninjalike', 'las', 'uniquelyshaped', 'smile', 'archways', 'passengers', 'tight', 'seahorse', 'story', 'patriotic', 'wood', 'skims', 'bullbranded', 'arrives', 'prancing', 'brownandwhite', 'joined', 'offstage', 'daughters', 'gregoire', 'age', 'overshirt', 'seven', 'crawling', 'curiously', 'students', 'runway', 'stoney', 'shaking', 'mother', 'opponents', 'mist', 'wintertime', 'spraying', 'drooling', 'jars', 'tomatos', 'chandelier', 'whitebearded', 'skislope', 'boxes', 'decide', 'popsicles', 'struggle', 'lunch', 'pushup', 'climbes', 'fame', 'multicolor', 'dollar', 'streaks', 'backstrokes', 'backgound', 'felled', 'pass', 'meeting', 'celebratory', 'applies', 'sky', 'directions', 'arms', 'stair', 'deeper', 'collecting', 'pig', 'tireswing', 'boxing', 'tankini', 'vfw', 'colors', 'cellphone', 'golf', 'planked', 'vessel', 'bee', 'waterwear', 'courtyard', 'hydrant', 'workers', 'from', 'fold', 'medieval', 'cavorting', 'ready', 'three', 'sailboat', 'seperated', 'went', 'decorations', 'corners', 'when', 'heap', 'jaws', 'jumper', 'touching', 'bookshelves', 'sized', 'breakdancer', 'grayhound', 'surfboard', 'booth', 'spiky', 'garage', 'jack', 'trains', 'kept', 'aggitates', 'clay', 'bookcase', 'waterproofs', 'windows', 'hoodoos', 'finley', 'raging', 'paddles', 'watersports', 'busines', 'steep', 'removes', 'bungeejumping', 'youth', 'end', 'notes', 'itself', 'midair', 'animal', 'shoot', 'min', 'agile', 'megaphone', 'halmets', 'changing', 'glassess', 'motorcycles', 'statefarmcom', 'parachuter', 'girder', 'which', 'aboard', 'spotlight', 'colorfully', 'modifications', 'manequins', 'snowbank', 'insynch', 'crafted', 'somersaulting', 'lifeguards', 'mesa', 'explosive', 'hotair', 'portfolio', 'headline', 'pan', 'goaltender', 'pasture', 'extending', 'daredevil', 'reflection', 'distored', 'haystacks', 'naval', 'pushing', 'wildebeast', 'grasps', 'looling', 'bigbox', 'swimsuit', 'coupe', 'medow', 'ballons', 'album', 'pause', 'crazily', 'presidential', 'electronic', 'market', 'construction', 'heavymetal', 'jailbird', 'tramples', 'photographers', 'noodles', 'horse', 'nascar', 'aross', 'dim', 'weaving', 'blocks', 'lamp', 'pour', 'frayed', 'worried', 'sweaters', 'bullet', 'aid', 'weeping', 'wilbert', 'hurricanes', 'flipflops', 'eight', 'mouthing', 'fireside', 'foggyday', 'pen', 'flipflop', 'rides', 'brownish', 'pigs', 'pebble', 'neoncolored', 'footbride', 'trolley', 'metal', 'toss', 'whist', 'creams', 'picure', 'goldfish', 'next', 'shirtless', 'sparking', 'breaker', 'choreographed', 'airport', 'tightropes', 'caramel', 'hedge', 'religious', 'avoid', 'halfcompleted', 'while', 'mustache', 'aimed', 'devil', 'limo', 'twotone', 'snoopy', 'false', 'goose', 'philadelphia', 'stroll', 'striding', 'bangs', 'carpeting', 'outfir', 'carring', 'risen', 'weathered', 'artists', 'skateboard', 'sides', 'floors', 'defense', 'wave', 'woooden', 'headwear', 'backward', 'canes', 'once', 'shorline', 'rollerblade', 'girlfriends', 'treeless', 'almostpristine', 'dressing', 'sitting', 'wrinkled', 'sleddog', 'question', 'blank', 'leading', 'hiking', 'playstation', 'desserts', 'but', 'bank', 'writes', 'rubble', 'crosslegged', 'appearing', 'dragons', 'attached', 'diveboard', 'denim', 'roping', 'whacking', 'file', 'nubby', 'multiprint', 'unamused', 'and', 'squated', 'awaiting', 'quietly', 'experimenter', 'casket', 'highfiving', 'foreign', 'jumpy', 'pound', 'lotion', 'chased', 'cuts', 'accepting', 'leaf', 'coaching', 'hooker', 'cable', 'highway', 'treck', 'mexico', 'lonely', 'his', 'directed', 'taxi', 'spain', 'fortess', 'crooswalk', 'tupperware', 'rights', 'hulahoop', 'tambourines', 'pedestrians', 'extravagantlyhaired', 'tulips', 'confrontation', 'houses', 'supported', 'amuseument', 'schools', 'names', 'smells', 'bloodied', 'brazilian', 'homes', 'communal', 'trackside', 'receive', 'rectangular', 'ally', 'raft', 'russel', 'nylon', 'dancer', 'cathedral', 'croquette', 'tripod', 'steady', 'gorge', 'drags', 'cavorts', 'reeling', 'fun', 'smokestacks', 'hopping', 'motorists', 'allmale', 'youths', 'traveling', 'steps', 'overcoat', 'though', 'mixed', 'interlocking', 'ballplayers', 'controls', 'pomeranian', 'sledlike', 'possible', 'wolflike', 'railed', 'magizine', 'jar', 'smelling', 'rummaging', 'smartly', 'wheels', 'tutu', 'liked', 'twilight', 'slacks', 'including', 'sees', 'sipping', 'words', 'womand', 'led', 'tie', 'slouching', 'least', 'clause', 'outrun', 'coached', 'new', 'rival', 'grasslands', 'walkway', 'wiht', 'jesus', 'dunes', 'braces', 'fitls', 'aboriginal', 'fed', 'greenhouse', 'amish', 'gover', 'saxophone', 'yellowsuited', 'distance', 'david', 'descend', 'excersizing', 'slices', 'ones', 'packer', 'interracial', 'males', 'wields', 'guiding', 'await', 'rocking', 'escalators', 'performs', 'winces', 'moutains', 'balloon', 'bottom', 'accompanied', 'hoolahoops', 'gnarly', 'electrical', 'lassie', 'engage', 'traveler', 'againest', 'attire', 'wind', 'breeze', 'dalmatians', 'mudfight', 'suspenders', 'fangs', 'multiracial', 'cartwheel', 'leafcovered', 'cheering', 'shivering', 'blurry', 'fleeces', 'reenactment', 'rings', 'shotput', 'freshly', 'eyeshadow', 'afghan', 'scouts', 'harness', 'sloppy', 'contact', 'pro', 'preserves', 'obscure', 'welcomes', 'pausing', 'redbrown', 'handwritten', 'hidden', 'teammate', 'sandal', 'union', 'schoolboy', 'tram', 'mats', 'ques', 'spotted', 'waterproof', 'complimentary', 'pretend', 'trucks', 'mosscovered', 'footprints', 'height', 'fleecy', 'lead', 'bounces', 'catching', 'pitbull', 'under', 'puck', 'iced', 'headbands', 'funny', 'sailor', 'uw', 'polar', 'scrubland', 'comic', 'bagpipers', 'metallic', 'beachgoers', 'maneuvers', 'gelled', 'choir', 'brighly', 'contained', 'stepped', 'swaetshirt', 'stages', 'slingshot', 'withered', 'carriage', 'buffet', 'bay', 'annoyed', 'knife', 'crosswalk', 'tufts', 'lodge', 'opened', 'mani', 'monk', 'one', 'lines', 'scanner', 'burbur', 'hacking', 'hovering', 'young', 'dont', 'atomic', 'positions', 'ferris', 'forests', 'drift', 'drag', 'around', 'upsidedown', 'athletic', 'attacking', 'pilings', 'over', 'coarse', 'leaped', 'zooms', 'maple', 'offers', 'peaks', 'ping', 'cute', 'wheat', 'rock', 'scuba', 'marker', 'dodges', 'masters', 'sea', 'performed', 'crocs', 'tinsel', 'triangle', 'trousers', 'flamboyantly', 'batter', 'cautiously', 'bowed', 'lap', 'motorcycle', 'hunt', 'archway', 'glittery', 'motorized', 'terrain', 'america', 'smell', 'dancing', 'trips', 'trench', 'charges', 'studies', 'spiked', 'rubber', 'campflauge', 'development', 'engaging', 'talk', 'younger', 'moustaches', 'obama', 'pods', 'fighter', 'beaten', 'propels', 'slurps', 'flies', 'yawns', 'sings', 'shapes', 'iguanas', 'mans', 'antitax', 'reared', 'shoulder', 'downpour', 'kisses', 'neck', 'lilly', 'mobile', 'lands', 'sombrero', 'crocks', 'surrounding', 'croc', 'gra', 'conoes', 'measuring', 'bonnets', 'windboard', 'partly', 'king', 'scampers', 'dead', 'frolic', 'practices', 'hummingbird', 'box', 'photograhi', 'caps', 'fairground', 'low', 'seaguls', 'jetskis', 'grating', 'reading', 'skatepark', 'cornstalks', 'routine', 'africans', 'fighting', 'ridding', 'feeds', 'possessively', 'fabric', 'grownup', 'knocks', 'grabs', 'terrier', 'smiling', 'responders', 'arch', 'grapple', 'sewn', 'torsodeep', 'underwear', 'military', 'belongs', 'soil', 'among', 'rates', 'atrium', 'wraps', 'placing', 'spoke', 'monkeybars', 'jumpsuits', 'skill', 'halfpipe', 'paints', 'tackle', 'muscular', 'planting', 'shoots', 'gaze', 'whitecolored', 'shorts', 'broadly', 'sideline', 'grimaces', 'saddled', 'maroon', 'tinted', 'grappling', 'blackclad', 'tilting', 'snowscapes', 'disguises', 'full', 'cause', 'bluerobed', 'headscarfs', 'tile', 'palying', 'shells', 'labrador', 'combat', 'ampitheater', 'topless', 'film', 'lounge', 'those', 'pumpkins', 'kneepads', 'anthem', 'corkscrew', 'anime', 'whitesuited', 'stopaction', 'lime', 'dresswear', 'scrubby', 'racetrack', 'feamle', 'garden', 'chained', 'her', 'rectangle', 'formallydressed', 'leash', 'swerves', 'brick', 'kiyaking', 'barista', 'accompanying', 'section', 'obese', 'footwork', 'cheerfully', 'debris', 'pyramidshaped', 'ten', 'croquet', 'dashes', 'threw', 'camp', 'apart', 'feathery', 'midday', 'company', 'mishap', 'developed', 'trooper', 'tether', 'checker', 'converse', 'skyscraper', 'hallways', 'corner', 'series', 'phillie', 'disgusted', 'calico', 'fit', 'cafeteria', 'beatup', 'dressedup', 'grasp', 'chute', 'forms', 'begin', 'picture', 'teeshirt', 'portable', 'umbrellas', 'continue', 'portapotties', 'enthusiastically', 'joggers', 'lingers', 'blockers', 'entering', 'pastures', 'pawed', 'safety', 'knelt', 'ee', 'unknown', 'thatch', 'blouse', 'scarf', 'glassses', 'screaming', 'burrowing', 'landform', 'riverrafting', 'shoeless', 'topples', 'jubilant', 'meadow', 'vw', 'backstage', 'busying', 'drumming', 'halfway', 'steve', 'shots', 'bats', 'romantically', 'prepairing', 'comfort', 'planter', 'vacation', 'latte', 'pokes', 'pecking', 'streght', 'props', 'boating', 'claps', 'reflective', 'menu', 'potrait', 'bundles', 'some', 'crochet', 'scare', 'sloped', 'zepra', 'ependent', 'aqua', 'necked', 'mop', 'busk', 'each', 'crouching', 'samoyads', 'someones', 'balanced', 'amazement', 'miles', 'proudly', 'blonde', 'bedroll', 'sweatpants', 'flowerbed', 'counter', 'rising', 'underneat', 'stifflyposed', 'madly', 'stucco', 'arched', 'baked', 'tidal', 'consumer', 'graffitistrewn', 'surounded', 'enjoys', 'egytianlike', 'lighterskinned', 'wisconsin', 'thw', 'blame', 'amphitheater', 'pinkbottomed', 'alongside', 'puffs', 'instrument', 'branch', 'mountaintops', 'following', 'travels', 'catches', 'shoulders', 'copper', 'sponges', 'oppsite', 'cooking', 'lawnchair', 'dear', 'chairlift', 'lafayette', 'maker', 'surface', 'tugowar', 'total', 'snuggling', 'seeds', 'missing', 'puppy', 'tasting', 'videotaped', 'frustrated', 'float', 'instruments', 'rottwieler', 'shaky', 'chase', 'rosy', 'sliding', 'condominium', 'mountainside', 'magenta', 'shawl', 'equipments', 'arrows', 'seagull', 'idea', 'bug', 'eyeing', 'youg', 'shoppers', 'flickr', 'down', 'puts', 'veteran', 'headband', 'match', 'streaming', 'weimaraners', 'portrate', 'rays', 'tulip', 'bobbed', 'ollies', 'clemson', 'peeking', 'our', 'leashed', 'slumped', 'visitor', 'gliding', 'wrapped', 'judo', 'panasonic', 'bystander', 'partake', 'constructions', 'browm', 'balcony', 'will', 'algae', 'dives', 'lane', 'citizens', 'howls', 'traditional', 'fleeing', 'number', 'grabbing', 'motorbike', 'skipped', 'race', 'waitress', 'laughing', 'breath', 'entangles', 'throughwindow', 'anticipates', 'hankerchief', 'rifding', 'bicyclers', 'runs', 'bagpipe', 'bigwheels', 'suntan', 'daft', 'milk', 'gay', 'atheletes', 'bowing', 'forth', 'restaurants', 'vaulter', 'upset', 'sidewalks', 'hind', 'excited', 'polkadot', 'pumpkin', 'vegetation', 'torwards', 'take', 'drills', 'spiral', 'peeks', 'gifts', 'creature', 'district', 'fiveteen', 'slideshow', 'allow', 'slightly', 'faith', 'facial', 'distant', 'tags', 'swatting', 'dirtbikes', 'storefront', 'torso', 'soaks', 'overhang', 'pastel', 'sabre', 'fro', 'handrail', 'wading', 'bucking', 'stacks', 'tipping', 'blondeheaded', 'plow', 'nussle', 'footballers', 'launching', 'waters', 'berry', 'magicians', 'archeologist', 'subject', 'brunette', 'energetic', 'joins', 'paddling', 'sheperds', 'chops', 'snuggles', 'rental', 'dodge', 'skyline', 'climbers', 'portojohn', 'alter', 'cherry', 'exploring', 'steadies', 'sprint', 'topdown', 'melts', 'team', 'outcrop', 'backpacking', 'tanskinned', 'newly', 'rowing', 'bridesmaid', 'saxaphones', 'fur', 'mill', 'roadside', 'startled', 'cycler', 'cook', 'goes', 'herd', 'inch', 'bullrider', 'muxzzled', 'torii', 'ignoring', 'playground', 'impeach', 'afro', 'demonstarting', 'tops', 'sentence', 'dye', 'solo', 'shephard', 'injured', 'stall', 'heart', 'zombies', 'thoroughly', 'mountains', 'observer', 'shaded', 'dropped', 'very', 'mixing', 'putting', 'heights', 'cinderblock', 'cat', 'reflecting', 'eroded', 'linet', 'notices', 'biscuit', 'pinstripe', 'dunking', 'bagpipes', 'porcelain', 'carry', 'domes', 'dresser', 'roiling', 'trails', 'misses', 'abarrotes', 'buddist', 'get', 'food', 'pianist', 'buff', 'clasped', 'fooling', 'retrive', 'rose', 'racing', 'acrobatic', 'widespread', 'ask', 'chats', 'holy', 'golfing', 'wiping', 'shark', 'saltandpepperhaired', 'expanse', 'profession', 'times', 'silohuetted', 'hands', 'thrust', 'soapy', 'brook', 'bounce', 'surronded', 'jog', 'portopotties', 'brightly', 'hoists', 'orca', 'retreiving', 'weimeraners', 'cuddling', 'teeter', 'festive', 'is', 'work', 'headlamp', 'foreground', 'budweiser', 'fireman', 'window', 'retrieved', 'moustache', 'fish', 'wrists', 'aquarium', 'assistance', 'fairway', 'pasts', 'wars', 'clips', 'hat', 'chat', 'checks', 'keepaway', 'break', 'valleys', 'inscribed', 'granite', 'bunny', 'tawny', 'it', 'skimpy', 'strikes', 'kneedeep', 'swirls', 'females', 'aids', 'geyser', 'marlins', 'arc', 'beers', 'cue', 'pong', 'skewed', 'ropes', 'thows', 'shawled', 'muti', 'ridge', 'eachothers', 'crates', 'field', 'programs', 'campaign', 'mysterious', 'pigeons', 'soaring', 'towel', 'puppet', 'prop', 'trophy', 'frolicks', 'teenagers', 'bands', 'interestingly', 'happily', 'promotional', 'lanyard', 'chi', 'rotating', 'dunked', 'cutoff', 'audience', 'chubby', 'aloft', 'make', 'enforcment', 'earth', 'country', 'butting', 'wall', 'plywood', 'farmers', 'sifting', 'populated', 'pulling', 'vest', 'chew', 'brushes', 'springer', 'spins', 'beak', 'recieve', 'force', 'chrome', 'yarn', 'bras', 'bookstore', 'has', 'news', 'histerically', 'glider', 'hapily', 'shovel', 'usual', 'bears', 'skyscrapers', 'physical', 'puffy', 'fishers', 'pitcher', 'longlegged', 'sparks', 'climber', 'bell', 'retrieve', 'carton', 'prairie', 'windshield', 'artsstyle', 'incredible', 'snowboard', 'freak', 'cushions', 'la', 'barn', 'closeby', 'seaweed', 'dealth', 'slope', 'blossoming', 'cannot', 'flexable', 'lunges', 'burn', 'paraphernalia', 'car', 'zoo', 'ropey', 'humorous', 'rollerskating', 'dip', 'early', 'agility', 'jumpos', 'suit', 'sunflowers', 'trotted', 'milkweed', 'mcdonald', 'hovered', 'gandhi', 'crevice', 'mantle', 'quilt', 'footballs', 'sightseers', 'tourists', 'exit', 'robe', 'fashionably', 'established', 'tutus', 'carries', 'bushes', 'bites', 'minivan', 'hawk', 'helped', 'sweatshirts', 'morning', 'amongst', 'motor', 'makeup', 'fallen', 'tripods', 'retrieving', 'cliff', 'sportwoman', 'winds', 'sheltered', 'chairs', 'wildebeest', 'rowers', 'closeout', 'trade', 'investigate', 'decked', 'fuzzy', 'cold', 'withdrawing', 'pottypotty', 'hide', 'tattoed', 'dumped', 'finished', 'plate', 'firedancer', 'stiped', 'skills', 'cheered', 'edged', 'loops', 'saber', 'depicts', 'breathes', 'summer', 'twelve', 'athlete', 'filled', 'companion', 'paneling', 'windsailing', 'yarnlike', 'sport', 'cellphones', 'surfboarding', 'hotpink', 'tracks', 'fashion', 'canoers', 'higher', 'midflight', 'khakis', 'headscarves', 'sheer', 'pillows', 'greencolored', 'event', 'buggies', 'rack', 'groomsmen', 'flattened', 'instructing', 'roddick', 'luggage', 'skeleton', 'silverware', 'sleeding', 'shook', 'yankee', 'boston', 'buzy', 'retangular', 'expanding', 'set', 'davison', 'spot', 'photographic', 'closing', 'redhaired', 'dominance', 'christmastime', 'identification', 'strokes', 'kayaks', 'pattern', 'heads', 'leave', 'electronics', 'woody', 'blond', 'cadet', 'motorcyclist', 'displays', 'university', 'askance', 'satchel', 'debri', 'flag', 'travelling', 'fruits', 'sprinkler', 'frisbeen', 'haired', 'enclosed', 'inflatbale', 'vision', 'dave', 'emitting', 'pine', 'cone', 'secret', 'checkstand', 'cheers', 'tilts', 'enjoying', 'backback', 'collapses', 'awe', 'product', 'buggys', 'tanandwhite', 'kicked', 'raised', 'pavilion', 'elevated', 'transport', 'weave', 'stove', 'streets', 'biek', 'hop', 'backpackers', 'cattle', 'helmets', 'tandom', 'mannequin', 'possession', 'kiddie', 'masquerade', 'hopper', 'pond', 'mouths', 'lollipop', 'propeller', 'splash', 'bikina', 'snarls', 'ump', 'waves', 'security', 'reeds', 'aided', 'boredom', 'rows', 'kennel', 'getting', 'bust', 'mountin', 'guard', 'wiped', 'horseback', 'neighborhood', 'running', 'apparently', 'no', 'sunshade', 'tobaggan', 'ejected', 'tired', 'sunbathing', 'bulging', 'flopping', 'acrobat', 'nap', 'speech', 'cleaning', 'werewolf', 'indigo', 'landed', 'alotment', 'sprays', 'teaching', 'manmade', 'prints', 'emerald', 'braiding', 'attaches', 'gliders', 'flea', 'fisherman', 'wrangles', 'approached', 'samples', 'clutching', 'competitor', 'discouraged', 'razzling', 'cigarette', 'plain', 'faucet', 'shadowy', 'telegraph', 'rowed', 'hose', 'first', 'stony', 'clover', 'protesting', 'damaged', 'saffron', 'motorcrossing', 'pups', 'incoming', 'fake', 'prison', 'massage', 'streamers', 'bike', 'notsocrowded', 'sleeve', 'artwork', 'eating', 'sandals', 'tucked', 'paintbrush', 'iceburg', 'panhandler', 'alon', 'stoppie', 'patch', 'tuft', 'paper', 'kelp', 'smacks', 'pontoon', 'storefronts', 'novelty', 'announcer', 'room', 'shipping', 'ethnic', 'obscuring', 'wrist', 'gettnig', 'mastif', 'crows', 'poll', 'hooked', 'twins', 'signals', 'theater', 'spouse', 'mouth', 'pullovers', 'flighht', 'fingerhold', 'bikins', 'patrollers', 'advance', 'snub', 'crack', 'well', 'graffitiheavy', 'wakeboarder', 'penske', 'crucified', 'hearts', 'straining', 'regains', 'nech', 'dogs', 'flowered', 'waterskier', 'pinscher', 'easily', 'lean', 'wheel', 'stoplight', 'playful', 'rv', 'huge', 'rockface', 'circular', 'darkened', 'hoof', 'chimes', 'moutain', 'representing', 'pins', 'projected', 'dandelions', 'youngster', 'camo', 'tips', 'pairs', 'asking', 'geishas', 'enjoy', 'pails', 'rope', 'guy', 'tented', 'adult', 'priests', 'foldable', 'pictures', 'towarn', 'banjo', 'geological', 'erupts', 'knee', 'weimaraner', 'foothills', 'urban', 'scrubbing', 'dramatic', 'cacti', 'nears', 'labradoodle', 'punk', 'tickets', 'main', 'dragging', 'feed', 'tbar', 'ace', 'endorsementcovered', 'piggybacking', 'beached', 'sharing', 'medium', 'rafters', 'saroog', 'lying', 'concert', 'group', 'minirace', 'cds', 'jeep', 'unfinished', 'the', 'stock', 'hut', 'attempting', 'exterior', 'armstand', 'splashes', 'spacious', 'posed', 'hustle', 'hero', 'award', 'derssed', 'spurting', 'jockey', 'barb', 'attentive', 'cargo', 'willow', 'sidecar', 'ravine', 'bubble', 'tackled', 'watermelons', 'ties', 'grayhaired', 'cartoon', 'poured', 'hugged', 'stared', 'owner', 'laborador', 'bunch', 'brighty', 'zara', 'kiosk', 'portapotty', 'fan', 'roosters', 'exchanges', 'atvs', 'chewed', 'dips', 'kerry', 'midafternoon', 'santana', 'carried', 'sun', 'bumpers', 'greens', 'games', 'browse', 'helmeted', 'stange', 'propped', 'streambed', 'sails', 'fourwheel', 'uniform', 'chickens', 'ladys', 'electric', 'artificial', 'cushion', 'overfilled', 'crustacean', 'yerba', 'cascades', 'examines', 'mushrooms', 'adjust', 'metro', 'looming', 'suspension', 'duck', 'belt', 'traverses', 'squirrel', 'contorts', 'pamphlets', 'covers', 'halloween', 'railling', 'sheltie', 'pecks', 'tatoo', 'mannequins', 'lawnmower', 'syrup', 'tickled', 'bluetinted', 'items', 'gloved', 'semiformal', 'arabic', 'mules', 'walkers', 'caged', 'supervision', 'joking', 'easel', 'light', 'wooden', 'jersay', 'container', 'riverside', 'licks', 'opposite', 'moniter', 'leather', 'skipping', 'assemble', 'wrestling', 'size', 'ride', 'listening', 'bear', 'docked', 'card', 'peaceful', 'pedal', 'joker', 'nighttime', 'crest', 'rooftop', 'starshaped', 'egg', 'yankees', 'waterbed', 'violins', 'collapsing', 'skiiers', 'stained', 'talking', 'shops', 'hollywood', 'draped', 'sword', 'anklehigh', 'chunk', 'stopped', 'mortar', 'trim', 'dummy', 'grinds', 'sweeping', 'headlong', 'coiled', 'pretends', 'snowman', 'lifevest', 'town', 'wool', 'numbers', 'ourdoors', 'duffel', 'canvasses', 'gathers', 'apple', 'weather', 'slender', 'heavy', 'proud', 'playgym', 'chalkboard', 'backgroud', 'onesie', 'during', 'piled', 'father', 'fishing', 'daring', 'shoes', 'hoes', 'boards', 'stroke', 'shirts', 'buzzes', 'obscured', 'lowering', 'tuner', 'sidwalk', 'india', 'filed', 'hurdle', 'sheets', 'pice', 'tough', 'kickflip', 'tubing', 'effects', 'jostles', 'canvas', 'visiting', 'sang', 'lobster', 'evil', 'scary', 'undone', 'firecracker', 'chef', 'armchair', 'halway', 'message', 'swinger', 'portion', 'descent', 'backwards', 'rappelling', 'huskies', 'monitoring', 'martial', 'reptiles', 'we', 'slam', 'sub', 'conical', 'donut', 'vampires', 'neat', 'stuffed', 'vegas', 'popcycles', 'stockings', 'nude', 'tussling', 'singer', 'lobby', 'films', 'seesaw', 'slinky', 'wharfs', 'shirt', 'straddle', 'retreived', 'winner', 'motivation', 'forcing', 'rung', 'cub', 'slimy', 'adopted', 'resort', 'ceramic', 'anything', 'harnessed', 'waders', 'happening', 'australian', 'bones', 'operates', 'pitbulls', 'suggestively', 'paved', 'surroundings', 'shallows', 'mustached', 'tumbles', 'energizer', 'skirts', 'senior', 'falls', 'gallery', 'sprawled', 'longhaired', 'cheerleading', 'together', 'sled', 'hugs', 'imagery', 'spiderpatterned', 'breaks', 'close', 'graffitti', 'starting', 'browneyed', 'grandmother', 'waiting', 'you', 'ghost', 'resembles', 'ever', 'jersey', 'towels', 'slat', 'photographs', 'shepherds', 'exhaust', 'cigerette', 'curved', 'chainsaw', 'pillared', 'kayaking', 'helicopter', 'entertains', 'compact', 'cameraphone', 'uniforms', 'involving', 'downhill', 'shews', 'bounds', 'upperclass', 'reclines', 'rundown', 'tigger', 'layered', 'lift', 'daschund', 'so', 'monitors', 'foil', 'dock', 'choppy', 'woolly', 'peddal', 'opponent', 'packs', 'freefalling', 'point', 'sect', 'gondola', 'wavy', 'darkerskinned', 'pavillion', 'surrounded', 'thousand', 'flurry', 'alcove', 'backpacker', 'gust', 'snarly', 'palid', 'footbridge', 'romantic', 'progressively', 'somersault', 'javelin', 'justice', 'windsurfers', 'hear', 'raise', 'du', 'pinestraw', 'consumed', 'measures', 'gardening', 'childing', 'starlet', 'wounds', 'schoolgirls', 'speaking', 'expose', 'barely', 'slippery', 'buildabear', 'camel', 'doghouse', 'biking', 'bouquet', 'aims', 'baggy', 'pets', 'separated', 'carpenters', 'meandering', 'tentlike', 'bathrobe', 'feature', 'applauding', 'backdrop', 'mountaineer', 'tests', 'turnaround', 'coutryside', 'vase', 'cresting', 'lockers', 'yoga', 'unconventional', 'windsurfs', 'perform', 'caches', 'choke', 'utility', 'fingers', 'riverboat', 'arguing', 'gren', 'operated', 'posign', 'middleaged', 'below', 'bubbles', 'wear', 'expressions', 'soggy', 'll', 'zombie', 'casque', 'statute', 'chaperone', 'browses', 'atm', 'waits', 'bat', 'muddy', 'build', 'woodlands', 'talks', 'scrolled', 'woods', 'handles', 'lighting', 'merchant', 'include', 'onrushing', 'overall', 'badminton', 'shiny', 'waterwings', 'squeeze', 'panelling', 'sledders', 'ypoung', 'thermos', 'skydiver', 'poorly', 'behing', 'strike', 'loose', 'awkwardly', 'blackrimmed', 'ou', 'proped', 'snowpile', 'pooping', 'crests', 'watch', 'dangling', 'craft', 'ornate', 'approachs', 'spigot', 'trapped', 'lenses', 'fluorescent', 'summit', 'strollers', 'bikers', 'gazes', 'junction', 'stonefilled', 'broach', 'dig', 'craw', 'chairswing', 'numeral', 'gauges', 'ax', 'glancing', 'circle', 'wintergear', 'spokes', 'perfom', 'speak', 'yachts', 'secured', 'lifeboat', 'killer', 'musician', 'lip', 'tonge', 'with', 'themed', 'van', 'stance', 'lazily', 'wicker', 'rugs', 'notice', 'nature', 'amount', 'forehand', 'raising', 'performing', 'hippie', 'skii', 'middle', 'sideways', 'knotted', 'buoy', 'domed', 'music', 'piglet', 'burka', 'slipper', 'mills', 'wedgie', 'pointed', 'jewels', 'buys', 'walmart', 'twist', 'cloths', 'gin', 'africanamericans', 'automobiles', 'mermaid', 'hill', 'carefully', 'cheap', 'sign', 'id', 'gnawing', 'cowlike', 'raises', 'bullseye', 'headless', 'nursed', 'fumble', 'barefooted', 'sightseeing', 'coasts', 'goldencolored', 'retriving', 'tricks', 'popsicle', 'wintery', 'abs', 'capris', 'accordion', 'dish', 'stuntleap', 'fingerpaints', 'studio', 'bohemians', 'smoke', 'confetti', 'outcropping', 'sheet', 'longspandex', 'chasing', 'democrat', 'screened', 'draw', 'juggler', 'highschool', 'lost', 'rigging', 'streched', 'different', 'waterboard', 'blueeyed', 'vendor', 'information', 'islamic', 'intensely', 'yorkie', 'bushy', 'becomes', 'ranger', 'champ', 'photos', 'onstage', 'skids', 'watercraft', 'fix', 'follow', 'exercised', 'body', 'surf', 'about', 'common', 'goodbye', 'hurridly', 'hilly', 'kicker', 'hammer', 'jacket', 'tail', 'orangeclad', 'militarystyle', 'raling', 'gate', 'flood', 'creative', 'miniature', 'starbucks', 'sure', 'horn', 'oldfashioned', 'grotto', 'stool', 'strapless', 'hungry', 'sequins', 'adorned', 'stairs', 'saucer', 'ganilla', 'diego', 'gain', 'similar', 'mittens', 'bunnies', 'taped', 'blankets', 'biscut', 'canoes', 'jockeys', 'res', 'takeout', 'diferent', 'lookout', 'rotary', 'fire', 'cashier', 'pf', 'self', 'videocameras', 'kickbox', 'bikinis', 'taping', 'recording', 'forest', 'bun', 'cowboys', 'turn', 'ribbons', 'tightrope', 'rests', 'passerby', 'cash', 'merry', 'blows', 'loaves', 'fully', 'dolls', 'secluded', 'fields', 'vacant', 'tball', 'entwined', 'equpitment', 'production', 'gatorade', 'speedskater', 'jumpsuit', 'tiretracks', 'fronr', 'flower', 'mountainclimbing', 'scowls', 'competition', 'winter', 'winters', 'inline', 'unified', 'nips', 'crescent', 'dangerous', 'clowns', 'pouncing', 'cots', 'darkskinned', 'royal', 'shine', 'attending', 'eagerly', 'upraised', 'navigating', 'any', 'relatively', 'leafy', 'hooping', 'decorative', 'part', 'bathe', 'everywhere', 'curtain', 'sombody', 'vegetables', 'widebrimmed', 'crucifixion', 'client', 'pilot', 'more', 'kick', 'created', 'terrior', 'statues', 'zooming', 'joint', 'rottweiller', 'traversing', 'rollerskate', 'wodden', 'fires', 'continues', 'milkbone', 'aquestrian', 'licking', 'americans', 'nervous', 'shares', 'worshippers', 'relax', 'orangehooded', 'groupe', 'parasail', 'protectors', 'clad', 'cruise', 'hoist', 'zchtv', 'gymnastics', 'dove', 'features', 'stack', 'headwrap', 'charged', 'rafts', 'ate', 'bakery', 'squirts', 'restroom', 'york', 'dine', 'stripes', 'kilt', 'blowup', 'stand', 'sparring', 'changes', 'halter', 'hugging', 'treated', 'police', 'real', 'defend', 'time', 'floaters', 'kind', 'tobaggons', 'logos', 'chews', 'armbands', 'sparklers', 'theme', 'bellbottoms', 'bordered', 'intended', 'reclining', 'panel', 'swine', 'sushi', 'fatigues', 'coverings', 'flop', 'presents', 'junk', 'mascot', 'suits', 'skeletonprinted', 'ascend', 'letter', 'foggy', 'reads', 'lick', 'fireworks', 'coal', 'rollerskater', 'phone', 'snowgear', 'sniffing', 'lightly', 'headlights', 'fiddles', 'snoring', 'soccer', 'atmosphere', 'loading', 'concentrating', 'handed', 'multicoloured', 'dad', 'winnie', 'bicycling', 'top', 'encouraged', 'bunk', 'steel', 'marquee', 'pointing', 'ages', 'birthday', 'waterspouts', 'prances', 'situated', 'cigar', 'san', 'buttonup', 'contorted', 'limb', 'starring', 'contraption', 'racer', 'leotards', 'wishing', 'graygreen', 'swords', 'dart', 'keeping', 'rafter', 'summersault', 'yell', 'marks', 'breaststroke', 'device', 'rail', 'involves', 'wig', 'quarterpipe', 'mad', 'way', 'pedalling', 'squirted', 'dupar', 'picking', 'joust', 'bleak', 'shakes', 'banner', 'girl', 'beam', 'pumps', 'bundle', 'straggle', 'brownandblack', 'somersaults', 'budweisersponsored', 'uno', 'leggings', 'snowcovered', 'buster', 'stonesign', 'bluejeans', 'speckled', 'toe', 'furnace', 'sink', 'movers', 'astride', 'columned', 'retriever', 'ramps', 'scratching', 'sleeved', 'polka', 'mud', 'swings', 'orchestra', 'released', 'uptop', 'cow', 'redwood', 'corgi', 'boats', 'snowboarding', 'crampons', 'popping', 'sparkling', 'mogul', 'variety', 'almostdried', 'trick', 'campfire', 'hides', 'kart', 'showerhead', 'steam', 'races', 'finger', 'labeled', 'graffiti', 'pensive', 'name', 'masked', 'longbeaked', 'whales', 'dandelion', 'cheeks', 'curling', 'chains', 'ti', 'chatting', 'hoodie', 'gith', 'romp', 'coldweather', 'plenty', 'tray', 'packers', 'agency', 'hound', 'docking', 'poms', 'players', 'parachutist', 'swarmed', 'matt', 'capri', 'subway', 'flowercovered', 'sleeping', 'slice', 'gyro', 'kneehigh', 'bathing', 'melting', 'ollie', 'hundred', 'waterpark', 'peeping', 'roofed', 'middleeastern', 'wheelchair', 'rasing', 'suns', 'sandpit', 'referees', 'leaguer', 'frisbee', 'collars', 'did', 'burst', 'retrieves', 'wilderness', 'skins', 'winks', 'prestends', 'chutes', 'settings', 'cob', 'tires', 'placed', 'blocking', 'waterskis', 'free', 'weiner', 'looker', 'minimal', 'afternoon', 'whizzes', 'kayak', 'promting', 'visits', 'short', 'elephants', 'historic', 'flings', 'red', 'bodyboard', 'touchdown', 'smoky', 'cobblestones', 'vendors', 'divers', 'stocky', 'be', 'balloons', 'drapped', 'trike', 'playing', 'wakeboard', 'plats', 'communications', 'excites', 'spokesmodels', 'exercises', 'plugging', 'converge', 'lilypads', 'oak', 'skips', 'road', 'herself', 'movie', 'telephot', 'lie', 'radio', 'wards', 'side', 'opposing', 'escalator', 'jets', 'shoeshine', 'shoveling', 'launch', 'capes', 'handstand', 'goalkeeper', 'sidelines', 'mainly', 'vuitton', 'walked', 'grilling', 'crown', 'graduation', 'earphones', 'interesting', 'blower', 'friends', 'collarless', 'protection', 'video', 'frisbree', 'stomachs', 'speedos', 'buildings', 'circles', 'aerodynamically', 'casually', 'sooner', 'had', 'ouside', 'sales', 'rash', 'necks', 'cheerleaders', 'deserted', 'cookies', 'cramped', 'dancers', 'weirmeiner', 'strap', 'spell', 'railing', 'tables', 'soap', 'bulldogs', 'kaki', 'cones', 'cycle', 'color', 'watermelon', 'puckering', 'louis', 'pullup', 'gleaming', 'recital', 'vine', 'extreme', 'knoll', 'admires', 'lowcut', 'heritage', 'greyblue', 'advances', 'parasails', 'puzzled', 'skull', 'wasteland', 'blackstriped', 'drops', 'buddha', 'pursuing', 'lack', 'messenger', 'busters', 'devotion', 'convienience', 'crudely', 'firing', 'sprinting', 'burgers', 'adolescent', 'bandanna', 'trackandfield', 'crashing', 'tge', 'tree', 'dimond', 'sparse', 'st', 'semicloudy', 'poised', 'paint', 'squabble', 'objest', 'wii', 'fastfood', 'photography', 'proximity', 'backstroke', 'pursues', 'schoolyard', 'lame', 'perfume', 'stores', 'arm', 'join', 'herds', 'schoolaged', 'greeting', 'swordsman', 'expansive', 'producing', 'bit', 'kiddy', 'plank', 'youngle', 'caucasian', 'nice', 'brimmed', 'aliens', 'formula', 'crag', 'elder', 'flexing', 'traveller', 'dappled', 'trots', 'tapped', 'rollerblades', 'segway', 'afican', 'venture', 'locomotives', 'gothically', 'bluegray', 'score', 'exception', 'burrows', 'pauses', 'splits', 'baptized', 'litttle', 'trotting', 'boogieboard', 'gleefully', 'button', 'shire', 'crowded', 'slighty', 'between', 'stretchy', 'grid', 'firefighters', 'saucers', 'enough', 'barber', 'lited', 'standing', 'ilks', 'back', 'arizona', 'boarders', 'pooh', 'whipping', 'drinking', 'are', 'coffee', 'yorkshire', 'clears', 'flying', 'sister', 'recline', 'seyeview', 'mound', 'prays', 'wrestles', 'zipping', 'rocket', 'traverse', 'seal', 'glasses', 'circled', 'onlooker', 'washington', 'marked', 'grip', 'dots', 'deep', 'marking', 'vehicles', 'whild', 'handlers', 'astonishment', 'asleep', 'tilted', 'overweight', 'accepts', 'eagle', 'mr', 'einstein', 'currents', 'skydivers', 'buttoned', 'vibrating', 'paced', 'gains', 'thong', 'viz', 'cheeseburger', 'crumbling', 'jagged', 'oncoming', 'wine', 'ship', 'without', 'barrel', 'butchers', 'sick', 'flexible', 'clowning', 'elephant', 'fronmt', 'touchline', 'videotaping', 'owl', 'folding', 'alert', 'comfortable', 'headgear', 'mitten', 'krueger', 'juice', 'shuttered', 'resembling', 'ion', 'sailboarder', 'earphone', 'may', 'explosion', 'interact', 'horizontal', 'pincer', 'darkcolored', 'officiallooking', 'keyboard', 'tumble', 'sponsorship', 'begging', 'reddressed', 'fastened', 'whitefooted', 'paraskier', 'cut', 'soaked', 'pencil', 'bearded', 'policeperson', 'hopes', 'goldcolored', 'lump', 'magician', 'rangers', 'containig', 'swimsuites', 'coated', 'sparkler', 'actions', 'midsections', 'terminal', 'six', 'skydiving', 'design', 'homerun', 'subaru', 'pitches', 'fribee', 'cocacola', 'tabs', 'hello', 'scrambling', 'mold', 'competing', 'automobile', 'submissive', 'wuth', 'nipples', 'skate', 'walkman', 'bent', 'nutcracker', 'scent', 'slush', 'position', 'another', 'snowboarder', 'littering', 'severe', 'canned', 'guarded', 'fighters', 'liberty', 'political', 'ornaments', 'gontaga', 'pad', 'blownup', 'sprayed', 'search', 'trekking', 'sacks', 'spreads', 'faux', 'boarded', 'stumps', 'tattoos', 'swarm', 'izod', 'establishment', 'pebbles', 'grey', 'twenty', 'jewelry', 'outlines', 'use', 'henna', 'painted', 'evident', 'antique', 'riverbank', 'bale', 'catch', 'snowmobiling', 'flaggers', 'surfers', 'sveral', 'oregon', 'brindlecolored', 'collapsed', 'mountain', 'visible', 'deeps', 'goods', 'navigates', 'horses', 'anticipation', 'sleeps', 'pots', 'swordfighting', 'snake', 'doe', 'crocodile', 'polo', 'youngsters', 'supporter', 'moves', 'diplomas', 'progress', 'men', 'displayed', 'peoplw', 'cemetery', 'best', 'rainstorm', 'stoop', 'railroad', 'objects', 'snowshovel', 'diry', 'piercings', 'ballthrower', 'bungee', 'magazines', 'environment', 'chalked', 'paws', 'pride', 'stride', 'horro', 'floaties', 'tale', 'sunflower', 'rifle', 'sheep', 'inspecting', 'markers', 'bowtie', 'cami', 'sidewalk', 'stripe', 'entertainment', 'classic', 'harly', 'ox', 'christmas', 'obstacles', 'backseat', 'dandylions', 'sling', 'weird', 'warming', 'jello', 'encircling', 'alien', 'grayish', 'feet', 'tear', 'biker', 'flatbed', 'uniformed', 'featuring', 'oriential', 'rear', 'casts', 'ripstik', 'accented', 'suckles', 'by', 'easy', 'crooked', 'travel', 'receives', 'grownups', 'via', 'seems', 'teach', 'trying', 'calmer', 'wakeboards', 'strong', 'chocolate', 'plush', 'penzance', 'squints', 'victory', 'whites', 'global', 'ornamental', 'lens', 'skates', 'civil', 'incense', 'collared', 'cheer', 'murky', 'costumed', 'if', 'firends', 'hairstyle', 'breasts', 'kidsized', 'area', 'kitten', 'dimlylit', 'autumn', 'poofy', 'patchy', 'amazed', 'nothing', 'antenna', 'dribbling', 'camcorder', 'drap', 'demonstrates', 'skis', 'lampost', 'silky', 'fenced', 'widely', 'sox', 'docks', 'fielder', 'canoeing', 'catered', 'astroturf', 'massive', 'perched', 'barechested', 'attacks', 'skimming', 'trumpet', 'clothing', 'takeing', 'upward', 'emblazoned', 'railings', 'queens', 'knitted', 'round', 'toys', 'base', 'compound', 'eyed', 'handling', 'candles', 'patterns', 'go', 'fiery', 'serious', 'mushroom', 'marshy', 'wheelbarrow', 'mountaindew', 'pillowfight', 'aquacolored', 'colourful', 'marble', 'sunbathe', 'hp', 'spout', 'seventh', 'distribute', 'bright', 'coyote', 'mossy', 'digging', 'spectate', 'bald', 'drums', 'thck', 'mustard', 'dreary', 'skiers', 'pouting', 'asia', 'hops', 'cine', 'snapshot', 'locks', 'cam', 'gateway', 'refuse', 'pinata', 'pregnant', 'kneels', 'caravan', 'juggle', 'spring', 'moutainside', 'atop', 'jazz', 'lei', 'challenge', 'wrapping', 'leopard', 'controller', 'canoe', 'foreheads', 'commuters', 'recently', 'nt', 'sizes', 'alone', 'unspooled', 'spiritual', 'floats', 'scottish', 'dumps', 'profile', 'fatigue', 'payphone', 'gauntlet', 'rag', 'what', 'axe', 'attampts', 'congregate', 'adjusts', 'lifting', 'larger', 'corgis', 'observing', 'takedown', 'storm', 'heeled', 'gras', 'outfitted', 'whoa', 'cricket', 'inspect', 'propelling', 'blindfold', 'olympic', 'nerf', 'handcrank', 'vapour', 'poodles', 'crib', 'cooks', 'offering', 'flannel', 'obligatoire', 'tells', 'frisbees', 'albert', 'motorcyle', 'index', 'fishemen', 'orangesunset', 'chiseling', 'repelling', 'dome', 'cases', 'pretty', 're', 'extinguishes', 'dining', 'behinf', 'highfive', 'dusk', 'trimmed', 'ink', 'makeshift', 'just', 'hailing', 'possibly', 'growls', 'dragon', 'boxy', 'presentation', 'pumped', 'interviewed', 'negotiates', 'contest', 'shoulderhigh', 'indicating', 'maintain', 'raining', 'clouds', 'ashen', 'outline', 'hunter', 'tents', 'coffin', 'cabana', 'tucking', 'wildflowers', 'pump', 'juming', 'gal', 'bracelets', 'equestrian', 'operators', 'enjoyable', 'peoople', 'children', 'triangular', 'blasts', 'darkness', 'bleachers', 'headphone', 'gushing', 'freeclimbing', 'yard', 'flooded', 'tractor', 'signal', 'buffalo', 'cycling', 'staue', 'bottled', 'degrees', 'handinhand', 'american', 'largley', 'throat', 'international', 'smiles', 'gauzey', 'drawing', 'detector', 'presentations', 'eluding', 'glacier', 'windboarder', 'causing', 'spin', 'yellow', 'backs', 'entangled', 'musicans', 'pile', 'invention', 'wanting', 'sand', 'flats', 'thrashed', 'brochure', 'all', 'ahead', 'blowing', 'community', 'pall', 'caucasion', 'cot', 'roof', 'officer', 'clustered', 'parka', 'repair', 'sportsfield', 'ballerina', 'confronting', 'laden', 'freefall', 'tools', 'disturbed', 'shit', 'adventurer', 'dropping', 'flinging', 'furocious', 'directing', 'tones', 'intervening', 'billboards', 'seating', 'icicle', 'shelton', 'flocking', 'waterline', 'cement', 'handle', 'sundappled', 'bandage', 'wanders', 'checked', 'defenders', 'drooping', 'department', 'bannister', 'reaching', 'tosses', 'litle', 'surgical', 'childern', 'turf', 'wrecks', 'teeth', 'hods', 'sheepdogs', 'supplies', 'creek', 'windowed', 'need', 'buttondown', 'bloom', 'battles', 'helps', 'read', 'dhe', 'also', 'cube', 'wiffle', 'pagent', 'exotic', 'pads', 'firehose', 'ninja', 'abandon', 'chaps', 'within', 'espana', 'organized', 'consulting', 'cartwheels', 'engulfed', 'coral', 'loan', 'struggling', 'wade', 'layup', 'casuallydressed', 'balconies', 'stay', 'participate', 'live', 'motorboat', 'medal', 'newspaper', 'cables', 'wearfing', 'handbags', 'glove', 'cyclist', 'mocks', 'numbered', 'ringing', 'collegiate', 'wizard', 'kill', 'wand', 'trace', 'yacht', 'log', 'reveals', 'rolledup', 'door', 'hitter', 'couples', 'memorial', 'cowboy', 'setting', 'passing', 'backview', 'glares', 'candidate', 'cardboard', 'current', 'firework', 'guitars', 'perfors', 'roses', 'excitedly', 'midswing', 'caution', 'judgement', 'churning', 'eyebrow', 'bracelet', 'election', 'tuxedo', 'dandilions', 'covered', 'patrick', 'beige', 'completely', 'chihuahua', 'khaki', 'serveral', 'watery', 'lioness', 'house', 'swingtoy', 'wears', 'grand', 'watched', 'mushing', 'ibeam', 'firetruck', 'charm', 'shooting', 'branches', 'stage', 'nipping', 'tak', 'defends', 'clergy', 'returns', 'bridge', 'beack', 'apparel', 'rustric', 'kayer', 'auto', 'poses', 'pulled', 'shocks', 'chases', 'israeli', 'ladder', 'bonnet', 'crotch', 'drivers', 'excess', 'sleigh', 'images', 'wheeler', 'doggy', 'tiara', 'shouting', 'fluorecent', 'paperwork', 'navy', 'keep', 'step', 'starts', 'spotting', 'stubby', 'lights', 'florist', 'showered', 'various', 'parasailors', 'skirt', 'sheperd', 'twisting', 'involved', 'texas', 'berets', 'herding', 'largeboned', 'made', 'calm', 'crowd', 'judea', 'does', 'play', 'plays', 'igloo', 'humping', 'andy', 'grins', 'organization', 'vandalized', 'soundproof', 'passageway', 'grab', 'hi', 'am', 'waterskiing', 'balls', 'smilling', 'chested', 'furious', 'snaps', 'leads', 'blackrobed', 'kangaroo', 'high', 'crew', 'engraved', 'swung', 'numerous', 'mowed', 'whose', 'tub', 'carnival', 'busy', 'hall', 'grove', 'beanches', 'welcome', 'skies', 'ratty', 'upper', 'bash', 'strips', 'toothpaste', 'filling', 'hanna', 'boa', 'squeak', 'ferry', 'coast', 'sends', 'curl', 'beauty', 'character', 'cruising', 'queen', 'ladle', 'overnight', 'scruffy', 'fairy', 'greysuited', 'monkeys', 'passifier', 'wellgroomed', 'chestnut', 'laundry', 'chart', 'vertical', 'football', 'seater', 'nursing', 'rodeo', 'focusing', 'really', 'impress', 'areas', 'admired', 'headress', 'holder', 'swingset', 'coat', 'ruin', 'lips', 'shocked', 'tossing', 'goldenrod', 'ends', 'dried', 'sandy', 'braided', 'restrain', 'snorkel', 'assists', 'gambling', 'doorag', 'soft', 'lambs', 'grate', 'ponchos', 'sucking', 'recliner', 'clump', 'opportunity', 'disk', 'ducks', 'barriers', 'cream', 'critter', 'painting', 'adjustments', 'paraglide', 'scraping', 'untangles', 'chemical', 'signs', 'acrobatics', 'lit', 'spandex', 'rowboat', 'gives', 'snowstorm', 'gothic', 'kids', 'cooling', 'sprinkling', 'pulls', 'repel', 'closer', 'argues', 'nudges', 'island', 'gonzaga', 'squating', 'counters', 'prepared', 'telescopes', 'malnourished', 'tracksuit', 'breezeway', 'pees', 'campground', 'give', 'scratch', 'pillar', 'butterfly', 'fairly', 'demolished', 'pitchers', 'sailing', 'shredding', 'irish', 'para', 'staff', 'flamboyant', 'awards', 'calculate', 'cavern', 'simpsons', 'dumpster', 'pinwheel', 'sumo', 'admire', 'dressed', 'keeps', 'partying', 'approaching', 'uneven', 'gutarist', 'coconut', 'wake', 'excercise', 'sillhouetted', 'emits', 'far', 'shivers', 'watching', 'swimming', 'displaying', 'trek', 'bed', 'quiet', 'upstream', 'handrailing', 'silver', 'panes', 'scramble', 'talent', 'lav', 'sunshine', 'growling', 'pail', 'sponsors', 'mothers', 'shrubbery', 'bouncey', 'embrace', 'image', 'terriers', 'necklaces', 'beer', 'ended', 'stunts', 'nitro', 'multicultural', 'sprinkles', 'pencils', 'puma', 'wildly', 'gingerbread', 'training', 'multilple', 'bronze', 'wrangle', 'sleek', 'similarly', 'properly', 'photographer', 'lolly', 'tropical', 'clothed', 'earmuffs', 'facepainted', 'figurine', 'patio', 'silhouetted', 'waterhole', 'awnings', 'solitude', 'snowmobiler', 'enclosure', 'basket', 'stuntman', 'started', 'colt', 'collected', 'jeeps', 'scope', 'raked', 'cleaned', 'turkeys', 'she', 'splashing', 'concerned', 'riverrapids', 'disc', 'cloak', 'robes', 'woman', 'amused', 'attemping', 'banging', 'squeezing', 'grimacing', 'pugs', 'identically', 'snowballs', 'competitively', 'treks', 'barren', 'congregated', 'riverwater', 'excitement', 'style', 'pain', 'four', 'villages', 'boods', 'baggage', 'submerges', 'showering', 'hangglider', 'collies', 'intently', 'shielding', 'wristwatch', 'bag', 'backyard', 'foosball', 'emerged', 'apportioned', 'pushed', 'awning', 'pursued', 'kildare', 'sponsor', 'halves', 'pinstriped', 'moped', 'hung', 'caribbean', 'waing', 'tricolored', 'flaming', 'blazing', 'breathing', 'stretcher', 'horned', 'footballer', 'overlooking', 'reds', 'ponytailed', 'boatful', 'bridal', 'precariously', 'referee', 'tackles', 'grinding', 'highchair', 'toddler', 'mouse', 'rabbits', 'conch', 'rimmed', 'beanie', 'desks', 'peer', 'guides', 'panties', 'ghandi', 'matador', 'little', 'pop', 'attempts', 'hold', 'bad', 'replaced', 'minitrampoline', 'sitts', 'nightlife', 'cello', 'offensive', 'paddock', 'fringe', 'diverse', 'french', 'rolls', 'march', 'display', 'plaza', 'won', 'htting', 'showroom', 'curve', 'seidwalk', 'colander', 'snowpacked', 'dachshunds', 'peirced', 'stringless', 'fight', 'tied', 'fiesty', 'menus', 'star', 'retreiver', 'midfield', 'path', 'banks', 'maids', 'beautiful', 'borader', 'dumping', 'castles', 'fierce', 'swimcap', 'whitehaired', 'rappels', 'brass', 'challenging', 'perspective', 'yuong', 'redskins', 'pirate', 'dirtbed', 'picnic', 'roofs', 'scooter', 'farris', 'emerges', 'aged', 'straight', 'probably', 'flyaway', 'bathingsuit', 'streetshot', 'paintball', 'hangong', 'gymnastic', 'listens', 'concealed', 'israel', 'ancient', 'crust', 'signing', 'lasso', 'milling', 'punch', 'pajama', 'object', 'slowly', 'intricate', 'mouthpiece', 'art', 'lemons', 'hawaiian', 'maps', 'vocabulary', 'beef', 'harvest', 'off', 'widow', 'skating', 'spots', 'perfect', 'soars', 'flailing', 'matchin', 'playgroud', 'rainling', 'burgundy', 'kneeling', 'rushes', 'stirs', 'extravagent', 'belays', 'drenched', 'perches', 'seem', 'makes', 'culprit', 'backset', 'buckled', 'photograph', 'struggles', 'attaching', 'frowning', 'loader', 'curled', 'strawberry', 'playhouse', 'fedora', 'elegant', 'worshipping', 'say', 'swarming', 'rafael', 'speeds', 'rink', 'flashing', 'enter', 'native', 'white', 'looptheloop', 'cradling', 'observes', 'elevator', 'prize', 'quilted', 'foreround', 'pathway', 'bottle', 'slouched', 'garment', 'solid', 'leotard', 'restaurant', 'monster', 'individual', 'entrance', 'pub', 'ruins', 'mole', 'excavating', 'participant', 'cascading', 'enjoyment', 'crosswalks', 'enlarged', 'catc', 'helping', 'sleeves', 'goals', 'mets', 'active', 'amounts', 'procession', 'deck', 'manager', 'slipping', 'marina', 'executes', 'fireball', 'surfing', 'blindfolds', 'flautist', 'going', 'entertainers', 'tattoo', 'pure', 'ears', 'mirror', 'sprawling', 'redclothed', 'powerlines', 'clinging', 'marathon', 'stone', 'swing', 'flames', 'forwards', 'splatter', 'certificates', 'energy', 'collides', 'sells', 'newlyweds', 'worm', 'poppies', 'clown', 'headcover', 'otuside', 'questioningly', 'meditational', 'metropolitain', 'minerature', 'limbs', 'crossbones', 'classmates', 'scores', 'squats', 'brought', 'unoccupied', 'strains', 'chipmunk', 'blackandwhite', 'policewoman', 'resaurant', 'rebound', 'hiker', 'boys', 'wharf', 'steeple', 'rested', 'selling', 'foliage', 'treed', 'celebration', 'leans', 'row', 'mime', 'plan', 'mingle', 'smal', 'iron', 'seats', 'feather', 'present', 'edge', 'rounded', 'dug', 'shoulderlength', 'dog', 'bellysurfing', 'outfits', 'helments', 'standard', 'customer', 'showgirl', 'terrorizes', 'wristband', 'falling', 'needs', 'laptops', 'workout', 'slates', 'indy', 'browsing', 'crossing', 'both', 'flowering', 'brownishorange', 'rockclimbs', 'moter', 'donuts', 'phrase', 'provocative', 'hulahoops', 'backing', 'emphatically', 'transparent', 'club', 'waking', 'married', 'hazmat', 'meat', 'shimp', 'icey', 'package', 'clings', 'acting', 'multipiercings', 'gentlemen', 'gokart', 'fitness', 'urinating', 'breakdances', 'doll', 'highland', 'noy', 'boardedup', 'congratulate', 'inflated', 'ducking', 'safron', 'crouches', 'shovels', 'reindeer', 'overflow', 'stands', 'rodents', 'sooners', 'flat', 'sculptures', 'jib', 'stops', 'helmet', 'tried', 'perhaps', 'poorlylit', 'follows', 'shag', 'marshlike', 'oval', 'apron', 'landing', 'unison', 'blazer', 'judges', 'sniffs', 'onward', 'backbend', 'parkinglot', 'angrily', 'nugent', 'landscaped', 'floor', 'stomach', 'washes', 'hotrod', 'facefirst', 'grimmaces', 'perfoms', 'housing', 'bouncer', 'clibing', 'laughed', 'parlor', 'jumpsuites', 'aggressive', 'rugby', 'suspended', 'yong', 'squatting', 'weeds', 'cylindrical', 'undershirt', 'they', 'opposition', 'change', 'tooth', 'purchasing', 'frames', 'snowing', 'prarie', 'bundled', 'nose', 'googles', 'blanket', 'exits', 'pits', 'him', 'trainer', 'playtoy', 'beating', 'ther', 'airplane', 'lacross', 'flown', 'tiger', 'tightly', 'bonfire', 'dirtracing', 'locking', 'brilliant', 'roundabout', 'trees', 'holding', 'barefoot', 'blur', 'commercial', 'skit', 'beg', 'protester', 'smear', 'daisies', 'goalies', 'decorate', 'boulders', 'streetway', 'smaller', 'draws', 'kneeled', 'hairclips', 'type', 'swordfight', 'adjusting', 'contemporary', 'washing', 'brwon', 'firemen', 'corridor', 'perpendicular', 'treefilled', 'tho', 'bandaged', 'montana', 'seek', 'racedog', 'seafood', 'kakhi', 'sewing', 'chris', 'grasses', 'located', 'tubular', 'nipple', 'redseated', 'courts', 'sledder', 'fog', 'potato', 'snout', 'fell', 'industrial', 'tandem', 'dance', 'piercing', 'pale', 'gear', 'romps', 'centipede', 'nfl', 'badge', 'fly', 'wipes', 'push', 'mall', 'neon', 'jerseys', 'uses', 'sequined', 'streamer', 'driver', 'western', 'us', 'flares', 'dreadlocks', 'abseiling', 'than', 'accent', 'rippling', 'mirrored', 'sportman', 'directs', 'shoe', 'nets', 'halo', 'types', 'bills', 'seabird', 'hot', 'frosting', 'spits', 'helment', 'ceremonial', 'wooly', 'husky', 'carpeted', 'goat', 'vacationing', 'glvoes', 'teammates', 'ash', 'brake', 'cage', 'contemplating', 'mohawk', 'vinyl', 'basement', 'city', 'genetic', 'doberman', 'pointy', 'plantains', 'sweatshir', 'enterance', 'waterfront', 'print', 'donkey', 'jomps', 'bulldog', 'ascending', 'peers', 'parasurfs', 'bigg', 'grasping', 'gather', 'awaits', 'cape', 'sunbathers', 'rolling', 'additional', 'nibbles', 'there', 'tossed', 'plaid', 'worker', 'twigs', 'cliffs', 'donkeys', 'origin', 'crocheted', 'toboggan', 'directory', 'directly', 'location', 'uggs', 'miniskirts', 'inflatable', 'basset', 'owners', 'lilies', 'barnlike', 'relection', 'squad', 'blooming', 'trays', 'reddishbrown', 'defaced', 'banana', 'brindlecoated', 'antoher', 'fishes', 'tower', 'proof', 'mesh', 'garter', 'perfomed', 'eatery', 'pounces', 'oxford', 'neither', 'chrismas', 'stunt', 'winding', 'cereal', 'coloful', 'corrugated', 'streches', 'gazebo', 'cyclers', 'skidded', 'toward', 'dobermans', 'speaker', 'stadning', 'picutre', 'bodysuit', 'daylight', 'backlit', 'junglegym', 'hair', 'sunshaped', 'anchored', 'signage', 'serve', 'behind', 'husk', 'skying', 'posing', 'streetlamp', 'boy', 'jug', 'clue', 'mounted', 'affectionately', 'facepaint', 'interested', 'cutouts', 'buena', 'linked', 'ran', 'jacuzzi', 'gap', 'skeptically', 'elderly', 'playroom', 'battons', 'interacting', 'girls', 'pouch', 'swingtype', 'bigs', 'tanned', 'planks', 'sniff', 'nestled', 'bus', 'related', 'rails', 'brush', 'recreational', 'wispy', 'blondhair', 'even', 'littered', 'surrounds', 'pawing', 'several', 'narrow', 'stoops', 'singing', 'responding', 'hudge', 'sexy', 'harmonica', 'yougn', 'patrons', 'yound', 'videogame', 'stains', 'demonstration', 'wrestled', 'smoked', 'toppless', 'single', 'attrative', 'styrofoam', 'teal', 'powerwashing', 'peacefully', 'beijing', 'presses'}\n",
            "Vocabulary Size: 8763\n"
          ],
          "name": "stdout"
        }
      ]
    },
    {
      "cell_type": "markdown",
      "metadata": {
        "id": "PfK7GkWA4KD1",
        "colab_type": "text"
      },
      "source": [
        "Finally, we can save the dictionary of image identifiers and descriptions to a new file named descriptions.txt, with one image identifier and description per line.\n",
        "\n",
        "Below defines the save_descriptions() function that, given a dictionary containing the mapping of identifiers to descriptions and a filename, saves the mapping to file"
      ]
    },
    {
      "cell_type": "code",
      "metadata": {
        "id": "5DwELCjB3lBv",
        "colab_type": "code",
        "colab": {}
      },
      "source": [
        "# save descriptions to file, one per line\n",
        "def save_descriptions(descriptions, filename):\n",
        "  lines = list()\n",
        "  \n",
        "  for key, desc_list in descriptions.items():\n",
        "    for desc in desc_list:\n",
        "      lines.append(key + ' ' + desc)\n",
        "  \n",
        "  data = '\\n'.join(lines)\n",
        "  file = open(file=filename, mode='w')\n",
        "  file.write(data)\n",
        "  file.close()\n",
        "  \n",
        "  \n",
        "save_descriptions(descriptions, 'descriptions.txt')"
      ],
      "execution_count": 0,
      "outputs": []
    },
    {
      "cell_type": "markdown",
      "metadata": {
        "id": "cE9Wo2lH65md",
        "colab_type": "text"
      },
      "source": [
        "### Develop Deep Learning Model\n",
        "\n",
        "In this section, we will define the deep learning model and fit it on the training dataset.\n",
        "\n",
        "1. Loading Data.\n",
        "2. Defining the Model.\n",
        "3. Fitting the Model.\n",
        "\n",
        "#### Loading Data\n",
        "\n",
        "First, we must load the prepared photo and text data so that we can use it to fit the model.\n",
        "\n",
        "We are going to train the data on all of the photos and captions in the training dataset. While training, we are going to monitor the performance of the model on the development dataset and use that performance to decide when to save models to file.\n",
        "\n",
        "The train and development dataset have been predefined in the Flickr_8k.trainImages.txt and Flickr_8k.devImages.txt files respectively, that both contain lists of photo file names. From these file names, we can extract the photo identifiers and use these identifiers to filter photos and descriptions for each set.\n",
        "\n",
        "The function load_set() below will load a pre-defined set of identifiers given the train or development sets filename.\n",
        "\n"
      ]
    },
    {
      "cell_type": "code",
      "metadata": {
        "id": "zzR01uxrE8tC",
        "colab_type": "code",
        "colab": {}
      },
      "source": [
        "\n",
        "def load_set(filename):\n",
        "  \"\"\"\n",
        "  load a pre-defined list of photo identifiers\n",
        "  \"\"\"\n",
        "  #get text contents of the file\n",
        "  doc = load_doc(filename)\n",
        "  \n",
        "  # initialize an empty list\n",
        "  dataset = list()\n",
        "  \n",
        "  # read line by line\n",
        "  for line in doc.split('\\n'):\n",
        "    # skip empty lines\n",
        "    if len(line)<1:\n",
        "      continue\n",
        "    # get image identifier\n",
        "    identifier = line.split('.')[0]\n",
        "    dataset.append(identifier)\n",
        "    \n",
        "  return set(dataset)"
      ],
      "execution_count": 0,
      "outputs": []
    },
    {
      "cell_type": "code",
      "metadata": {
        "id": "CZPyBjQcFqqC",
        "colab_type": "code",
        "colab": {}
      },
      "source": [
        "def load_clean_descriptions(filename, dataset):\n",
        "  \"\"\"\n",
        "  load clean descriptions into memory\n",
        "  filename: file to load the descriptions from\n",
        "  dataset: only extract descriptions for image_ids in dataset\n",
        "  \"\"\"\n",
        "  # load doc\n",
        "  doc = load_doc(filename)\n",
        "  descriptions = dict()\n",
        "  for line in doc.split('\\n'):\n",
        "    # split line by white space\n",
        "    tokens = line.split()\n",
        "    # split id from description\n",
        "    image_id, image_desc = tokens[0], tokens[1:]\n",
        "    # only take image_ids which are present in dataset\n",
        "    if image_id in dataset:\n",
        "      # create list\n",
        "      if image_id not in descriptions:\n",
        "        descriptions[image_id] = list()\n",
        "      # wrap description in tokens\n",
        "      desc = 'startseq ' + ' '.join(image_desc) + ' endseq'\n",
        "      # store\n",
        "      descriptions[image_id].append(desc)\n",
        "      \n",
        "  return descriptions\n",
        "      "
      ],
      "execution_count": 0,
      "outputs": []
    },
    {
      "cell_type": "code",
      "metadata": {
        "id": "GoqSOW1rgHBz",
        "colab_type": "code",
        "colab": {
          "base_uri": "https://localhost:8080/",
          "height": 34
        },
        "outputId": "aafe5280-6da4-4ef1-9777-c52a23beb7d6"
      },
      "source": [
        "from pickle import load\n",
        "\n",
        "features_data = load(open(file='./features.pkl', mode='rb'))\n",
        "\n",
        "print (features_data['221973402_ecb1cd51f1'].shape)"
      ],
      "execution_count": 46,
      "outputs": [
        {
          "output_type": "stream",
          "text": [
            "(1, 4096)\n"
          ],
          "name": "stdout"
        }
      ]
    },
    {
      "cell_type": "code",
      "metadata": {
        "id": "FwGes6_Odctu",
        "colab_type": "code",
        "colab": {
          "base_uri": "https://localhost:8080/",
          "height": 70
        },
        "outputId": "a26ab2bf-3c45-4c98-c485-a540a3de5eef"
      },
      "source": [
        "from pickle import load\n",
        "\n",
        "def load_photo_features(filename, dataset):\n",
        "  \"\"\"\n",
        "  load all features\n",
        "  filename: file to load the features from (expects a pickle file)\n",
        "  dataset: only extract features for image_ids in dataset\n",
        "  \"\"\"\n",
        "  all_features = load(open(file=filename, mode='rb'))\n",
        "  \n",
        "  # filter features\n",
        "  features = {k:all_features[k] for k in dataset}\n",
        "  return features\n",
        "\n",
        "# load training dataset (6K)\n",
        "filename = './Flickr8k_text/Flickr_8k.trainImages.txt'\n",
        "train = load_set(filename)\n",
        "\n",
        "print (\"Length of train set: %d\" %len(train))\n",
        "\n",
        "# load descriptions for the train set\n",
        "\n",
        "train_descriptions = load_clean_descriptions(filename='./descriptions.txt', dataset=train)\n",
        "\n",
        "print('Train Descriptions: len=%d' % len(train_descriptions))\n",
        "\n",
        "# load features for the train set\n",
        "\n",
        "train_features = load_photo_features(filename='./features.pkl', dataset=train)\n",
        "print('Train Features: len=%d' % len(train_features))\n",
        "   "
      ],
      "execution_count": 47,
      "outputs": [
        {
          "output_type": "stream",
          "text": [
            "Length of train set: 6000\n",
            "Train Descriptions: len=6000\n",
            "Train Features: len=6000\n"
          ],
          "name": "stdout"
        }
      ]
    },
    {
      "cell_type": "code",
      "metadata": {
        "id": "thfprDyhqNSa",
        "colab_type": "code",
        "colab": {
          "base_uri": "https://localhost:8080/",
          "height": 72
        },
        "outputId": "f2fb79ea-f506-42df-bd6f-dbdebb1955d3"
      },
      "source": [
        "print (train_descriptions['1000268201_693b08cb0e'])\n",
        "\n",
        "print (train_features['1000268201_693b08cb0e'].shape)"
      ],
      "execution_count": 48,
      "outputs": [
        {
          "output_type": "stream",
          "text": [
            "['startseq child in pink dress is climbing up set of stairs in an entry way endseq', 'startseq girl going into wooden building endseq', 'startseq little girl climbing into wooden playhouse endseq', 'startseq little girl climbing the stairs to her playhouse endseq', 'startseq little girl in pink dress going into wooden cabin endseq']\n",
            "(1, 4096)\n"
          ],
          "name": "stdout"
        }
      ]
    },
    {
      "cell_type": "markdown",
      "metadata": {
        "id": "IcIFXVuDspKd",
        "colab_type": "text"
      },
      "source": [
        "The description text will need to be encoded to numbers before it can be presented to the model as in input or compared to the model’s predictions.\n",
        "\n",
        "The first step in encoding the data is to create a consistent mapping from words to unique integer values. Keras provides the Tokenizer class that can learn this mapping from the loaded description data.\n",
        "\n",
        "Below defines the to_lines() to convert the dictionary of descriptions into a list of strings and the create_tokenizer() function that will fit a Tokenizer given the loaded photo description text.\n",
        "\n"
      ]
    },
    {
      "cell_type": "code",
      "metadata": {
        "id": "ChAWvrr3zeOU",
        "colab_type": "code",
        "colab": {
          "base_uri": "https://localhost:8080/",
          "height": 143
        },
        "outputId": "440b78a4-78d4-43ab-ecaf-dd6df8bef5c5"
      },
      "source": [
        "for key in train_descriptions.keys():\n",
        "  print (train_descriptions[key])\n",
        "  for d in train_descriptions[key]:\n",
        "    print (d)\n",
        "    \n",
        "  break"
      ],
      "execution_count": 51,
      "outputs": [
        {
          "output_type": "stream",
          "text": [
            "['startseq child in pink dress is climbing up set of stairs in an entry way endseq', 'startseq girl going into wooden building endseq', 'startseq little girl climbing into wooden playhouse endseq', 'startseq little girl climbing the stairs to her playhouse endseq', 'startseq little girl in pink dress going into wooden cabin endseq']\n",
            "startseq child in pink dress is climbing up set of stairs in an entry way endseq\n",
            "startseq girl going into wooden building endseq\n",
            "startseq little girl climbing into wooden playhouse endseq\n",
            "startseq little girl climbing the stairs to her playhouse endseq\n",
            "startseq little girl in pink dress going into wooden cabin endseq\n"
          ],
          "name": "stdout"
        }
      ]
    },
    {
      "cell_type": "code",
      "metadata": {
        "id": "OliVk08ptFMV",
        "colab_type": "code",
        "colab": {
          "base_uri": "https://localhost:8080/",
          "height": 34
        },
        "outputId": "603ee46a-aecb-4ff7-ef7c-3b77ead619fe"
      },
      "source": [
        "from keras.preprocessing.text import Tokenizer\n",
        "\n",
        "def to_lines(descriptions):\n",
        "  \"\"\"\n",
        "  convert a dictionary of clean descriptions to a list of descriptions\n",
        "  \"\"\"\n",
        "  \n",
        "  all_desc = list()\n",
        "  # for each descrription\n",
        "  for key in descriptions.keys():\n",
        "    # append each word in the list\n",
        "    [all_desc.append(d) for d in descriptions[key]]\n",
        "  return all_desc\n",
        "\n",
        "def create_tokenizer(descriptions):\n",
        "  \"\"\"\n",
        "  fits a tokenizer to caption descriptions\n",
        "  \"\"\"\n",
        "  # get list of all descriptions\n",
        "  lines = to_lines(descriptions)\n",
        "  tokenizer = Tokenizer()\n",
        "  # Updates internal vocabulary based on a list of texts.\n",
        "  tokenizer.fit_on_texts(lines)\n",
        "  return tokenizer\n",
        "  \n",
        "  \n",
        "  \n",
        "  \n",
        "tokenizer=create_tokenizer(descriptions)\n",
        "\n",
        "vocab_size = len(tokenizer.word_index) + 1\n",
        "print('Vocabulary Size: %d' % vocab_size)"
      ],
      "execution_count": 63,
      "outputs": [
        {
          "output_type": "stream",
          "text": [
            "Vocabulary Size: 8764\n"
          ],
          "name": "stdout"
        }
      ]
    },
    {
      "cell_type": "markdown",
      "metadata": {
        "id": "ync4HZQg-JPB",
        "colab_type": "text"
      },
      "source": [
        "We can now encode the text.\n",
        "\n",
        "Each description will be split into words. The model will be provided one word and the photo and generate the next word. Then the first two words of the description will be provided to the model as input with the image to generate the next word. This is how the model will be trained.\n",
        "\n",
        "For example, the input sequence “little girl running in field” would be split into 6 input-output pairs to train the model:\n",
        "\n",
        "```\n",
        "X1,\t\tX2 (text sequence), \t\t\t\t\t\ty (word)\n",
        "\n",
        "photo\tstartseq, \t\t\t\t\t\t\t\t\tlittle\n",
        "\n",
        "photo\tstartseq, little,\t\t\t\t\t\t\tgirl\n",
        "\n",
        "photo\tstartseq, little, girl, \t\t\t\t\trunning\n",
        "\n",
        "photo\tstartseq, little, girl, running, \t\t\tin\n",
        "\n",
        "photo\tstartseq, little, girl, running, in, \t\tfield\n",
        "\n",
        "photo\tstartseq, little, girl, running, in, field, endseq\n",
        "\n",
        "```\n",
        "\n",
        "Later, when the model is used to generate descriptions, the generated words will be concatenated and recursively provided as input to generate a caption for an image.\n",
        "\n",
        "The function below named create_sequences(), given the tokenizer, a maximum sequence length, and the dictionary of all descriptions and photos, will transform the data into input-output pairs of data for training the model. There are two input arrays to the model: one for photo features and one for the encoded text. There is one output for the model which is the encoded next word in the text sequence.\n",
        "\n",
        "The input text is encoded as integers, which will be fed to a word embedding layer. The photo features will be fed directly to another part of the model. The model will output a prediction, which will be a probability distribution over all words in the vocabulary.\n",
        "\n",
        "The output data will therefore be a one-hot encoded version of each word, representing an idealized probability distribution with 0 values at all word positions except the actual word position, which has a value of 1."
      ]
    },
    {
      "cell_type": "code",
      "metadata": {
        "id": "gvSWeS9IFuY2",
        "colab_type": "code",
        "colab": {
          "base_uri": "https://localhost:8080/",
          "height": 105
        },
        "outputId": "d052a612-ceee-44a6-c03c-6fd04a47e7a0"
      },
      "source": [
        "train_descriptions['1000268201_693b08cb0e']"
      ],
      "execution_count": 65,
      "outputs": [
        {
          "output_type": "execute_result",
          "data": {
            "text/plain": [
              "['startseq child in pink dress is climbing up set of stairs in an entry way endseq',\n",
              " 'startseq girl going into wooden building endseq',\n",
              " 'startseq little girl climbing into wooden playhouse endseq',\n",
              " 'startseq little girl climbing the stairs to her playhouse endseq',\n",
              " 'startseq little girl in pink dress going into wooden cabin endseq']"
            ]
          },
          "metadata": {
            "tags": []
          },
          "execution_count": 65
        }
      ]
    },
    {
      "cell_type": "code",
      "metadata": {
        "id": "AEKhkWvCGNj4",
        "colab_type": "code",
        "colab": {}
      },
      "source": [
        "features_data"
      ],
      "execution_count": 0,
      "outputs": []
    },
    {
      "cell_type": "code",
      "metadata": {
        "id": "DdLO3gscRsSN",
        "colab_type": "code",
        "colab": {
          "base_uri": "https://localhost:8080/",
          "height": 34
        },
        "outputId": "c2f7880a-5777-4e85-8d8e-0fa188ff73cc"
      },
      "source": [
        "to_categorical([2], 4)"
      ],
      "execution_count": 121,
      "outputs": [
        {
          "output_type": "execute_result",
          "data": {
            "text/plain": [
              "array([[0., 0., 1., 0.]], dtype=float32)"
            ]
          },
          "metadata": {
            "tags": []
          },
          "execution_count": 121
        }
      ]
    },
    {
      "cell_type": "code",
      "metadata": {
        "id": "kwZu7ZPw-V6T",
        "colab_type": "code",
        "colab": {}
      },
      "source": [
        "from keras.preprocessing.sequence import pad_sequences\n",
        "from keras.utils import to_categorical\n",
        "\n",
        "def create_sequences(tokenizer, max_length, descriptions, photos, vocab_size):\n",
        "  \"\"\"\n",
        "  create sequences of images, input sequences and output words for an image\n",
        "  \"\"\"\n",
        "  X1, X2, y = list(), list(), list()\n",
        "  \n",
        "  # for each image_id\n",
        "  for key, desc_list in descriptions.items():\n",
        "    # for each desc\n",
        "    for desc in desc_list:\n",
        "      # Transforms each text in texts to a sequence of integers.\n",
        "      # converts the text into a list of integers\n",
        "      seq = tokenizer.texts_to_sequences([desc])[0]\n",
        "      \n",
        "      \n",
        "      # split one sequence into multiple X,y pairs\n",
        "      \n",
        "      # for each int\n",
        "      for i in range(1, len(seq)):\n",
        "        # split into input and output pair\n",
        "        # i-1 elems will be input seq\n",
        "        # ith elem will be op seq\n",
        "        in_seq, out_seq = seq[:i], seq[i]\n",
        "        \n",
        "        \n",
        "        # pad input sequence to same length\n",
        "        # pad_sequences([[1,2,3]], 6) -> [[0, 0, 0, 1, 2, 3]]\n",
        "        in_seq = pad_sequences(sequences=[in_seq], maxlen=max_length)[0]\n",
        "        \n",
        "        # encode output sequence\n",
        "        \"\"\"\n",
        "        to_categorical([2], 4) returns\n",
        "        array([[0., 0., 1., 0.]]\n",
        "        BAsically the one-hot encoding\n",
        "        \"\"\"\n",
        "        # note: out_seq contains the entire seq of the \n",
        "        out_seq = to_categorical(y=[out_seq], num_classes=vocab_size)[0]\n",
        "        # store the data\n",
        "        X1.append(photos[key][0])\n",
        "        X2.append(in_seq)\n",
        "        y.append(out_seq)\n",
        "        \n",
        "        \n",
        "        \n",
        "  return array(X1), array(X2), array(y)\n",
        "          "
      ],
      "execution_count": 0,
      "outputs": []
    },
    {
      "cell_type": "markdown",
      "metadata": {
        "id": "skkw84nAy6eB",
        "colab_type": "text"
      },
      "source": [
        "We will need to calculate the maximum number of words in the longest description. A short helper function named max_length() is defined below.\n",
        "\n"
      ]
    },
    {
      "cell_type": "code",
      "metadata": {
        "id": "DTIKSpSvy66e",
        "colab_type": "code",
        "colab": {}
      },
      "source": [
        "def max_length(description):\n",
        "  \"\"\"\n",
        "  calculate the length of the description with the most words\n",
        "  \"\"\"\n",
        "  lines = to_lines(description)\n",
        "  return max(len(d.split()) for d in lines)\n"
      ],
      "execution_count": 0,
      "outputs": []
    }
  ]
}